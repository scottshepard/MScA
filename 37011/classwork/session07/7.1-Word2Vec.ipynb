{
 "cells": [
  {
   "cell_type": "markdown",
   "metadata": {},
   "source": [
    "# Deep Learning and Image Recognition\n",
    "\n",
    "## Word2Vec\n",
    "\n",
    "Word2vec is a two-layer neural net that  method to processes text. It turns text into a numerical form that deep nets can understand. Its input is a text corpus and its output is a set of vectors: feature vectors for words in that corpus. Word2vec is a particularly computationally-efficient predictive model for learning word embeddings from raw text. \n",
    "\n",
    "Word2vec Tutorial: https://www.tensorflow.org/tutorials/word2vec/\n",
    "\n",
    "<img width=\"80%\" src=\"https://www.tensorflow.org/images/linear-relationships.png\" />\n"
   ]
  },
  {
   "cell_type": "code",
   "execution_count": 1,
   "metadata": {},
   "outputs": [
    {
     "name": "stdout",
     "output_type": "stream",
     "text": [
      "[nltk_data] Downloading package brown to\n",
      "[nltk_data]     C:\\Users\\Bhaarat\\AppData\\Roaming\\nltk_data...\n",
      "[nltk_data]   Package brown is already up-to-date!\n",
      "[nltk_data] Downloading package movie_reviews to\n",
      "[nltk_data]     C:\\Users\\Bhaarat\\AppData\\Roaming\\nltk_data...\n",
      "[nltk_data]   Package movie_reviews is already up-to-date!\n"
     ]
    },
    {
     "data": {
      "text/plain": [
       "True"
      ]
     },
     "execution_count": 1,
     "metadata": {},
     "output_type": "execute_result"
    }
   ],
   "source": [
    "#nltk.download()\n",
    "import nltk\n",
    "nltk.download('brown')\n",
    "nltk.download('movie_reviews')"
   ]
  },
  {
   "cell_type": "code",
   "execution_count": 2,
   "metadata": {},
   "outputs": [],
   "source": [
    "#import statements\n",
    "from gensim.models import Word2Vec\n",
    "from nltk.corpus import brown, movie_reviews\n",
    "from sklearn.decomposition import PCA\n",
    "from matplotlib import pyplot\n",
    "import numpy"
   ]
  },
  {
   "cell_type": "code",
   "execution_count": 3,
   "metadata": {
    "ExecuteTime": {
     "end_time": "2016-06-07T16:58:20.525321",
     "start_time": "2016-06-07T16:57:09.708328"
    }
   },
   "outputs": [],
   "source": [
    "#word2vec on multiple datasets \n",
    "b = Word2Vec(brown.sents())\n",
    "mr = Word2Vec(movie_reviews.sents())"
   ]
  },
  {
   "cell_type": "markdown",
   "metadata": {},
   "source": [
    "### Word Vectors"
   ]
  },
  {
   "cell_type": "code",
   "execution_count": 4,
   "metadata": {},
   "outputs": [
    {
     "data": {
      "text/plain": [
       "array([-1.0238247e+00, -2.7145344e-01,  4.3470940e-01, -2.6032698e-01,\n",
       "       -4.7838110e-01,  5.9037399e-01,  2.7269939e-01,  6.3689578e-01,\n",
       "        1.4080675e-01, -1.2553334e-03, -6.5074280e-02,  2.0737374e-02,\n",
       "       -1.1626750e+00, -5.2713394e-02,  2.3666260e-01, -5.4914945e-01,\n",
       "        3.9900562e-01, -5.0616491e-01, -1.4977819e-01,  8.4295861e-02,\n",
       "        5.7466023e-02,  3.7587926e-01,  2.2557400e-01,  1.2242117e-01,\n",
       "       -5.2955973e-01, -3.3435792e-01, -6.9346088e-01, -3.4074494e-01,\n",
       "       -4.9507123e-01, -2.6219916e-01,  1.1904448e+00,  2.3856235e-01,\n",
       "       -2.3010002e-01,  6.4736046e-02, -1.0513371e-01,  4.0576863e-01,\n",
       "       -3.7289000e-01, -5.0047427e-01,  4.0071619e-01, -5.5573690e-01,\n",
       "        1.6559488e-01, -4.9938062e-01, -7.1581268e-01, -2.2752996e-01,\n",
       "       -1.7538828e-01,  2.0627461e-01, -7.0173210e-01,  4.8802671e-01,\n",
       "       -4.5006052e-01,  1.6701141e-01, -3.5414693e-01, -5.4548383e-02,\n",
       "        3.0692497e-01, -2.3699751e-01, -2.6999441e-01,  2.2004531e-01,\n",
       "       -6.9561332e-01, -5.1275384e-01,  5.8768308e-01, -8.6661726e-03,\n",
       "        1.2182047e+00, -1.1478340e-02, -3.9042616e-01, -1.4063832e-01,\n",
       "       -2.8728971e-01,  5.7020128e-01,  3.2952085e-01,  4.3799588e-01,\n",
       "        1.0852487e-03, -2.5354898e-01, -2.8882742e-02,  1.2680312e-01,\n",
       "        6.0548478e-01, -3.4636480e-01, -3.5694316e-01,  2.6036271e-01,\n",
       "        1.5005962e-02, -2.4684025e-01, -4.0794380e-02,  2.4689406e-01,\n",
       "        2.0338975e-01,  7.4002755e-01, -2.7036063e-02, -2.6828972e-01,\n",
       "       -3.0307755e-01, -2.2140124e-01,  2.0775023e-01,  3.7357718e-01,\n",
       "        2.8222644e-01,  4.8670673e-01, -2.7260971e-01,  2.7074522e-01,\n",
       "       -8.7500900e-02,  1.2285927e-02, -1.4958209e-01,  3.3827457e-01,\n",
       "        3.8431317e-01, -5.2974385e-01,  2.3159195e-01,  7.2629756e-01],\n",
       "      dtype=float32)"
      ]
     },
     "execution_count": 4,
     "metadata": {},
     "output_type": "execute_result"
    }
   ],
   "source": [
    "mr.wv['computer']"
   ]
  },
  {
   "cell_type": "code",
   "execution_count": 5,
   "metadata": {},
   "outputs": [
    {
     "data": {
      "text/plain": [
       "array([-0.07940453, -0.07175531,  0.02267545, -0.03156141, -0.07820981,\n",
       "        0.11629295, -0.0110496 ,  0.04285658,  0.1222688 ,  0.06329983,\n",
       "       -0.04899583, -0.04644055, -0.05409594, -0.05368308, -0.01270822,\n",
       "       -0.06371433,  0.0154811 , -0.02613473, -0.05858654, -0.04938167,\n",
       "       -0.03428582,  0.06800458, -0.11155342, -0.00853656, -0.01592036,\n",
       "        0.14268947, -0.01568147,  0.00717323, -0.01262586,  0.17989458,\n",
       "       -0.03186284,  0.06745963,  0.01659828, -0.00142495,  0.00360938,\n",
       "        0.06274924,  0.00931814,  0.02273887,  0.04525409, -0.08655446,\n",
       "        0.06477398,  0.02766813, -0.03610248, -0.01942658,  0.02164061,\n",
       "       -0.0364936 , -0.00975378,  0.01789346,  0.04364206,  0.10272039,\n",
       "        0.09029005, -0.06317742,  0.02534241,  0.05120539, -0.01126417,\n",
       "        0.01158366,  0.02424658,  0.10407953, -0.13319705,  0.11124567,\n",
       "       -0.01258658,  0.08077538, -0.07409733, -0.12962797, -0.07076371,\n",
       "        0.01286007,  0.0810129 , -0.08277148,  0.01085079,  0.0275857 ,\n",
       "        0.16109575,  0.05582193,  0.09280501, -0.0644068 ,  0.11665549,\n",
       "        0.1127424 , -0.1292105 , -0.14265369, -0.03993248, -0.06821977,\n",
       "        0.00281716,  0.01848744,  0.03377278, -0.03735059, -0.03059562,\n",
       "       -0.00908131,  0.00073058, -0.05583156, -0.00964194,  0.10908857,\n",
       "       -0.06443284,  0.16546418,  0.02557361,  0.11691235, -0.07371742,\n",
       "        0.07913336, -0.08852682, -0.00183463, -0.05132946,  0.01472477],\n",
       "      dtype=float32)"
      ]
     },
     "execution_count": 5,
     "metadata": {},
     "output_type": "execute_result"
    }
   ],
   "source": [
    "b.wv['computer']"
   ]
  },
  {
   "cell_type": "markdown",
   "metadata": {},
   "source": [
    "### Similar words"
   ]
  },
  {
   "cell_type": "code",
   "execution_count": 6,
   "metadata": {
    "ExecuteTime": {
     "end_time": "2016-06-07T17:03:41.710606",
     "start_time": "2016-06-07T17:03:41.626595"
    }
   },
   "outputs": [
    {
     "data": {
      "text/plain": [
       "[('common', 0.8703525066375732),\n",
       " ('experience', 0.8533072471618652),\n",
       " ('limited', 0.8072453737258911),\n",
       " ('part', 0.7962620854377747),\n",
       " ('sense', 0.7938699722290039)]"
      ]
     },
     "execution_count": 6,
     "metadata": {},
     "output_type": "execute_result"
    }
   ],
   "source": [
    "b.wv.most_similar('great', topn=5)"
   ]
  },
  {
   "cell_type": "code",
   "execution_count": 7,
   "metadata": {},
   "outputs": [
    {
     "data": {
      "text/plain": [
       "[('Faith', 0.9656580686569214),\n",
       " ('seasonal', 0.9619084596633911),\n",
       " ('Queen', 0.9596037864685059),\n",
       " ('vigorous', 0.9564119577407837),\n",
       " ('Moss', 0.9564051628112793)]"
      ]
     },
     "execution_count": 7,
     "metadata": {},
     "output_type": "execute_result"
    }
   ],
   "source": [
    "b.wv.most_similar('movie', topn=5)"
   ]
  },
  {
   "cell_type": "code",
   "execution_count": 8,
   "metadata": {
    "ExecuteTime": {
     "end_time": "2016-06-07T17:40:30.015168",
     "start_time": "2016-06-07T17:40:29.988165"
    }
   },
   "outputs": [
    {
     "data": {
      "text/plain": [
       "[('adventure', 0.8577773571014404),\n",
       " ('comedy', 0.8500324487686157),\n",
       " ('thriller', 0.8438777327537537),\n",
       " ('suspense', 0.831267237663269),\n",
       " ('satire', 0.8226327896118164)]"
      ]
     },
     "execution_count": 8,
     "metadata": {},
     "output_type": "execute_result"
    }
   ],
   "source": [
    "mr.wv.most_similar('drama', topn=5)"
   ]
  },
  {
   "cell_type": "code",
   "execution_count": 9,
   "metadata": {
    "ExecuteTime": {
     "end_time": "2016-06-07T17:41:16.708097",
     "start_time": "2016-06-07T17:41:16.697096"
    }
   },
   "outputs": [
    {
     "data": {
      "text/plain": [
       "[('home', 0.7537104487419128),\n",
       " ('him', 0.7501980066299438),\n",
       " ('chance', 0.7396557331085205),\n",
       " ('away', 0.7263778448104858),\n",
       " ('attention', 0.7209795117378235)]"
      ]
     },
     "execution_count": 9,
     "metadata": {},
     "output_type": "execute_result"
    }
   ],
   "source": [
    "mr.wv.most_similar('money', topn=5)"
   ]
  },
  {
   "cell_type": "markdown",
   "metadata": {},
   "source": [
    "### Odd word "
   ]
  },
  {
   "cell_type": "code",
   "execution_count": 10,
   "metadata": {},
   "outputs": [
    {
     "name": "stderr",
     "output_type": "stream",
     "text": [
      "C:\\Users\\Bhaarat\\Anaconda3\\lib\\site-packages\\gensim\\models\\keyedvectors.py:877: FutureWarning: arrays to stack must be passed as a \"sequence\" type such as list or tuple. Support for non-sequence iterables such as generators is deprecated as of NumPy 1.16 and will raise an error in the future.\n",
      "  vectors = vstack(self.word_vec(word, use_norm=True) for word in used_words).astype(REAL)\n"
     ]
    },
    {
     "data": {
      "text/plain": [
       "'movie'"
      ]
     },
     "execution_count": 10,
     "metadata": {},
     "output_type": "execute_result"
    }
   ],
   "source": [
    "mr.wv.doesnt_match([\"movie\",\"action\",\"drama\",\"comedy\"])"
   ]
  },
  {
   "cell_type": "code",
   "execution_count": 11,
   "metadata": {},
   "outputs": [
    {
     "data": {
      "text/plain": [
       "'dinner'"
      ]
     },
     "execution_count": 11,
     "metadata": {},
     "output_type": "execute_result"
    }
   ],
   "source": [
    "mr.wv.doesnt_match([\"breakfast\", \"cereal\", \"dinner\",\"lunch\"])"
   ]
  },
  {
   "cell_type": "code",
   "execution_count": 12,
   "metadata": {},
   "outputs": [
    {
     "data": {
      "text/plain": [
       "'cereal'"
      ]
     },
     "execution_count": 12,
     "metadata": {},
     "output_type": "execute_result"
    }
   ],
   "source": [
    "b.wv.doesnt_match([\"breakfast\", \"cereal\", \"dinner\",\"lunch\"])"
   ]
  },
  {
   "cell_type": "markdown",
   "metadata": {},
   "source": [
    "### Distance between words"
   ]
  },
  {
   "cell_type": "code",
   "execution_count": 13,
   "metadata": {},
   "outputs": [],
   "source": [
    "def distance(word1, word2):\n",
    "    return numpy.linalg.norm(mr.wv[word1]-mr.wv[word2])"
   ]
  },
  {
   "cell_type": "code",
   "execution_count": 14,
   "metadata": {},
   "outputs": [
    {
     "data": {
      "text/plain": [
       "5.3603325"
      ]
     },
     "execution_count": 14,
     "metadata": {},
     "output_type": "execute_result"
    }
   ],
   "source": [
    "distance('computer','tv')"
   ]
  },
  {
   "cell_type": "code",
   "execution_count": 15,
   "metadata": {},
   "outputs": [
    {
     "data": {
      "text/plain": [
       "4.202374"
      ]
     },
     "execution_count": 15,
     "metadata": {},
     "output_type": "execute_result"
    }
   ],
   "source": [
    "distance('computer','radio')"
   ]
  },
  {
   "cell_type": "code",
   "execution_count": 16,
   "metadata": {},
   "outputs": [
    {
     "data": {
      "text/plain": [
       "4.2032933"
      ]
     },
     "execution_count": 16,
     "metadata": {},
     "output_type": "execute_result"
    }
   ],
   "source": [
    "distance('computer','phone')"
   ]
  },
  {
   "cell_type": "code",
   "execution_count": 17,
   "metadata": {},
   "outputs": [
    {
     "data": {
      "text/plain": [
       "9.683591"
      ]
     },
     "execution_count": 17,
     "metadata": {},
     "output_type": "execute_result"
    }
   ],
   "source": [
    "distance('computer','man')"
   ]
  },
  {
   "cell_type": "markdown",
   "metadata": {},
   "source": [
    "### Visualize Word Embeddings"
   ]
  },
  {
   "cell_type": "code",
   "execution_count": 18,
   "metadata": {},
   "outputs": [
    {
     "name": "stdout",
     "output_type": "stream",
     "text": [
      "[[-0.01774131 -0.60704887]\n",
      " [ 1.4290282   0.2212499 ]\n",
      " [-0.6590559   0.35999084]\n",
      " [-0.22109832  0.742994  ]\n",
      " [ 0.22265455 -0.14028494]\n",
      " [-0.16298506 -0.60301954]\n",
      " [-0.26529944  0.26643285]\n",
      " [-0.3255028  -0.24031447]]\n"
     ]
    },
    {
     "data": {
      "image/png": "[encoded data removed]",
      "text/plain": [
       "<Figure size 432x288 with 1 Axes>"
      ]
     },
     "metadata": {
      "needs_background": "light"
     },
     "output_type": "display_data"
    }
   ],
   "source": [
    "# define training data\n",
    "words = ['Paris', 'computer', 'radio', 'capital', 'lights', 'France', 'Berlin', 'Germany']\n",
    "\n",
    "# use model\n",
    "model = b\n",
    "\n",
    "# fit a 2d PCA model to the vectors\n",
    "pca = PCA(n_components=2)\n",
    "result = pca.fit_transform(model.wv[words])\n",
    "\n",
    "print(result)\n",
    "\n",
    "# create a scatter plot of the projection\n",
    "pyplot.scatter(result[:, 0], result[:, 1])\n",
    "\n",
    "for i, word in enumerate(words):\n",
    "\tpyplot.annotate(word, xy=(result[i, 0], result[i, 1]))\n",
    "pyplot.show()"
   ]
  },
  {
   "cell_type": "code",
   "execution_count": null,
   "metadata": {},
   "outputs": [],
   "source": []
  }
 ],
 "metadata": {
  "anaconda-cloud": {},
  "kernelspec": {
   "display_name": "Python 3",
   "language": "python",
   "name": "python3"
  },
  "language_info": {
   "codemirror_mode": {
    "name": "ipython",
    "version": 3
   },
   "file_extension": ".py",
   "mimetype": "text/x-python",
   "name": "python",
   "nbconvert_exporter": "python",
   "pygments_lexer": "ipython3",
   "version": "3.7.4"
  }
 },
 "nbformat": 4,
 "nbformat_minor": 1
}
