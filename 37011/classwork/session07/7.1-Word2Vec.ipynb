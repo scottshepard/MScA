{
 "cells": [
  {
   "cell_type": "markdown",
   "metadata": {},
   "source": [
    "# Deep Learning and Image Recognition\n",
    "\n",
    "## Word2Vec\n",
    "\n",
    "Word2vec is a two-layer neural net that  method to processes text. It turns text into a numerical form that deep nets can understand. Its input is a text corpus and its output is a set of vectors: feature vectors for words in that corpus. Word2vec is a particularly computationally-efficient predictive model for learning word embeddings from raw text. \n",
    "\n",
    "Word2vec Tutorial: https://www.tensorflow.org/tutorials/word2vec/\n",
    "\n",
    "<img width=\"80%\" src=\"https://www.tensorflow.org/images/linear-relationships.png\" />\n"
   ]
  },
  {
   "cell_type": "code",
   "execution_count": 1,
   "metadata": {},
   "outputs": [
    {
     "name": "stderr",
     "output_type": "stream",
     "text": [
      "[nltk_data] Downloading package brown to /Users/sshepa74/nltk_data...\n",
      "[nltk_data]   Unzipping corpora/brown.zip.\n",
      "[nltk_data] Downloading package movie_reviews to\n",
      "[nltk_data]     /Users/sshepa74/nltk_data...\n",
      "[nltk_data]   Unzipping corpora/movie_reviews.zip.\n"
     ]
    },
    {
     "data": {
      "text/plain": [
       "True"
      ]
     },
     "execution_count": 1,
     "metadata": {},
     "output_type": "execute_result"
    }
   ],
   "source": [
    "#nltk.download()\n",
    "import nltk\n",
    "nltk.download('brown')\n",
    "nltk.download('movie_reviews')"
   ]
  },
  {
   "cell_type": "code",
   "execution_count": 2,
   "metadata": {},
   "outputs": [],
   "source": [
    "#import statements\n",
    "from gensim.models import Word2Vec\n",
    "from nltk.corpus import brown, movie_reviews\n",
    "from sklearn.decomposition import PCA\n",
    "from matplotlib import pyplot\n",
    "import numpy"
   ]
  },
  {
   "cell_type": "code",
   "execution_count": 3,
   "metadata": {
    "ExecuteTime": {
     "end_time": "2016-06-07T16:58:20.525321",
     "start_time": "2016-06-07T16:57:09.708328"
    }
   },
   "outputs": [],
   "source": [
    "#word2vec on multiple datasets \n",
    "b = Word2Vec(brown.sents())\n",
    "mr = Word2Vec(movie_reviews.sents())"
   ]
  },
  {
   "cell_type": "markdown",
   "metadata": {},
   "source": [
    "### Word Vectors"
   ]
  },
  {
   "cell_type": "code",
   "execution_count": 4,
   "metadata": {},
   "outputs": [
    {
     "data": {
      "text/plain": [
       "array([ 0.8218187 ,  0.27358755, -1.1335104 , -0.05315157,  0.77383417,\n",
       "        0.4824191 ,  0.43056038, -0.19869886,  0.9587905 , -0.71970075,\n",
       "        0.30696654,  0.52233213,  0.20720413, -0.46696684, -0.3858332 ,\n",
       "       -0.4476963 ,  0.24341127,  0.21797572,  0.00944064, -0.6608064 ,\n",
       "        0.04605692, -0.08013335,  0.2651406 , -0.35178104,  0.28340915,\n",
       "       -0.37007606,  0.5741145 ,  0.07696178, -0.59361404,  0.7223392 ,\n",
       "        0.15574163,  0.7140621 , -0.08248562,  0.34367692, -0.21697839,\n",
       "        0.20614675, -0.7482678 ,  0.14949848, -0.7590831 , -0.48387212,\n",
       "        0.04237223,  0.41388437, -0.19405381,  0.16500993,  0.33643174,\n",
       "        0.36312523, -0.5555052 ,  0.40589416, -0.28832114,  0.01128159,\n",
       "       -0.02151897, -0.64871496,  0.10455965, -0.25602847, -0.31217083,\n",
       "       -0.13908388, -0.25577843,  0.2786047 , -0.3488694 ,  0.14208327,\n",
       "        0.27144635,  0.17558166, -0.04902564, -0.56978595, -0.25616813,\n",
       "       -0.35867554,  0.1594419 , -0.22295755,  0.30655095,  0.04531859,\n",
       "       -0.37261102, -0.01444194,  0.15019952,  0.91363436, -0.6033753 ,\n",
       "       -0.11013738,  0.21077709, -0.0130728 , -0.54222023,  0.15155905,\n",
       "       -0.27969822, -0.17482978,  0.9358905 , -0.31668174,  0.22102237,\n",
       "        0.32658067, -0.03266179, -0.23299779,  0.7452071 ,  0.312436  ,\n",
       "        0.38756707,  0.41393614, -0.16535117, -0.13590845, -0.37088168,\n",
       "        0.41952038, -0.17067397, -0.23020174,  0.02662778,  0.12769404],\n",
       "      dtype=float32)"
      ]
     },
     "execution_count": 4,
     "metadata": {},
     "output_type": "execute_result"
    }
   ],
   "source": [
    "mr.wv['computer']"
   ]
  },
  {
   "cell_type": "code",
   "execution_count": 5,
   "metadata": {},
   "outputs": [
    {
     "data": {
      "text/plain": [
       "array([ 0.23928158,  0.07497329, -0.06154577,  0.10009626,  0.05826596,\n",
       "        0.0225339 ,  0.00760393, -0.00772914, -0.00497579, -0.07799544,\n",
       "       -0.05654044,  0.05593137, -0.084364  , -0.01414873, -0.13103327,\n",
       "        0.01511255, -0.04205976, -0.10266966,  0.14481427, -0.00886015,\n",
       "        0.12045785, -0.11295503,  0.08973382, -0.05246987, -0.12881735,\n",
       "       -0.00233407, -0.0410257 , -0.06471788,  0.03578185,  0.02924736,\n",
       "        0.08341258,  0.0687089 ,  0.07494289,  0.04320354, -0.03187212,\n",
       "        0.02363884,  0.02077354, -0.06508917, -0.11524303, -0.02201077,\n",
       "        0.04955157,  0.03892069, -0.0544645 , -0.02183673,  0.06416903,\n",
       "        0.11804624,  0.02100626, -0.03685672, -0.03509818,  0.00938417,\n",
       "        0.11322631, -0.01521472,  0.01461481,  0.12724298,  0.09293424,\n",
       "        0.08201236,  0.0458689 ,  0.04489318, -0.05345949,  0.00558637,\n",
       "        0.14050452,  0.14838918, -0.07177054, -0.01643893,  0.06505708,\n",
       "       -0.00726636,  0.02124815, -0.03193378, -0.01544948,  0.03196528,\n",
       "        0.03272833, -0.01764653, -0.00632475,  0.08302114, -0.05299849,\n",
       "       -0.00648059, -0.06668705,  0.03308303, -0.03981081, -0.02253903,\n",
       "       -0.0659833 , -0.15654425,  0.03322747,  0.05722598,  0.07336461,\n",
       "       -0.10195071,  0.0440838 , -0.06197655,  0.09953413,  0.018623  ,\n",
       "        0.08178389, -0.03157553, -0.08207241, -0.04456227, -0.07437405,\n",
       "        0.07821862,  0.0070633 , -0.02041276,  0.01730076,  0.04496725],\n",
       "      dtype=float32)"
      ]
     },
     "execution_count": 5,
     "metadata": {},
     "output_type": "execute_result"
    }
   ],
   "source": [
    "b.wv['computer']"
   ]
  },
  {
   "cell_type": "markdown",
   "metadata": {},
   "source": [
    "### Similar words"
   ]
  },
  {
   "cell_type": "code",
   "execution_count": 6,
   "metadata": {
    "ExecuteTime": {
     "end_time": "2016-06-07T17:03:41.710606",
     "start_time": "2016-06-07T17:03:41.626595"
    }
   },
   "outputs": [
    {
     "data": {
      "text/plain": [
       "[('common', 0.8673171997070312),\n",
       " ('experience', 0.8554660677909851),\n",
       " ('limited', 0.8106957674026489),\n",
       " ('part', 0.7990412712097168),\n",
       " ('sense', 0.7929390668869019)]"
      ]
     },
     "execution_count": 6,
     "metadata": {},
     "output_type": "execute_result"
    }
   ],
   "source": [
    "b.wv.most_similar('great', topn=5)"
   ]
  },
  {
   "cell_type": "code",
   "execution_count": 8,
   "metadata": {},
   "outputs": [
    {
     "data": {
      "text/plain": [
       "[('Queen', 0.9589834809303284),\n",
       " ('Faith', 0.9588415622711182),\n",
       " ('seasonal', 0.9552385807037354),\n",
       " ('Greenwich', 0.9552229642868042),\n",
       " ('vigorous', 0.9540851712226868)]"
      ]
     },
     "execution_count": 8,
     "metadata": {},
     "output_type": "execute_result"
    }
   ],
   "source": [
    "b.wv.most_similar('movie', topn=5)"
   ]
  },
  {
   "cell_type": "code",
   "execution_count": 9,
   "metadata": {
    "ExecuteTime": {
     "end_time": "2016-06-07T17:40:30.015168",
     "start_time": "2016-06-07T17:40:29.988165"
    }
   },
   "outputs": [
    {
     "data": {
      "text/plain": [
       "[('adventure', 0.8557540774345398),\n",
       " ('suspense', 0.8522096872329712),\n",
       " ('thriller', 0.8496826887130737),\n",
       " ('concept', 0.8300132155418396),\n",
       " ('comedy', 0.8290078639984131)]"
      ]
     },
     "execution_count": 9,
     "metadata": {},
     "output_type": "execute_result"
    }
   ],
   "source": [
    "mr.wv.most_similar('drama', topn=5)"
   ]
  },
  {
   "cell_type": "code",
   "execution_count": 10,
   "metadata": {
    "ExecuteTime": {
     "end_time": "2016-06-07T17:41:16.708097",
     "start_time": "2016-06-07T17:41:16.697096"
    }
   },
   "outputs": [
    {
     "data": {
      "text/plain": [
       "[('him', 0.7676533460617065),\n",
       " ('chance', 0.7635945677757263),\n",
       " ('home', 0.7592153549194336),\n",
       " ('attention', 0.7393094301223755),\n",
       " ('eyes', 0.7314083576202393)]"
      ]
     },
     "execution_count": 10,
     "metadata": {},
     "output_type": "execute_result"
    }
   ],
   "source": [
    "mr.wv.most_similar('money', topn=5)"
   ]
  },
  {
   "cell_type": "markdown",
   "metadata": {},
   "source": [
    "### Odd word "
   ]
  },
  {
   "cell_type": "code",
   "execution_count": 11,
   "metadata": {},
   "outputs": [
    {
     "name": "stderr",
     "output_type": "stream",
     "text": [
      "/Users/sshepa74/code/scottshepard/MScA/venv3/lib/python3.7/site-packages/gensim/models/keyedvectors.py:877: FutureWarning: arrays to stack must be passed as a \"sequence\" type such as list or tuple. Support for non-sequence iterables such as generators is deprecated as of NumPy 1.16 and will raise an error in the future.\n",
      "  vectors = vstack(self.word_vec(word, use_norm=True) for word in used_words).astype(REAL)\n"
     ]
    },
    {
     "data": {
      "text/plain": [
       "'movie'"
      ]
     },
     "execution_count": 11,
     "metadata": {},
     "output_type": "execute_result"
    }
   ],
   "source": [
    "mr.wv.doesnt_match([\"movie\",\"action\",\"drama\",\"comedy\"])"
   ]
  },
  {
   "cell_type": "code",
   "execution_count": 12,
   "metadata": {},
   "outputs": [
    {
     "data": {
      "text/plain": [
       "'dinner'"
      ]
     },
     "execution_count": 12,
     "metadata": {},
     "output_type": "execute_result"
    }
   ],
   "source": [
    "mr.wv.doesnt_match([\"breakfast\", \"cereal\", \"dinner\",\"lunch\"])"
   ]
  },
  {
   "cell_type": "code",
   "execution_count": 13,
   "metadata": {},
   "outputs": [
    {
     "data": {
      "text/plain": [
       "'cereal'"
      ]
     },
     "execution_count": 13,
     "metadata": {},
     "output_type": "execute_result"
    }
   ],
   "source": [
    "b.wv.doesnt_match([\"breakfast\", \"cereal\", \"dinner\",\"lunch\"])"
   ]
  },
  {
   "cell_type": "markdown",
   "metadata": {},
   "source": [
    "### Distance between words"
   ]
  },
  {
   "cell_type": "code",
   "execution_count": 14,
   "metadata": {},
   "outputs": [],
   "source": [
    "def distance(word1, word2):\n",
    "    return numpy.linalg.norm(mr.wv[word1]-mr.wv[word2])"
   ]
  },
  {
   "cell_type": "code",
   "execution_count": 15,
   "metadata": {},
   "outputs": [
    {
     "data": {
      "text/plain": [
       "5.3632383"
      ]
     },
     "execution_count": 15,
     "metadata": {},
     "output_type": "execute_result"
    }
   ],
   "source": [
    "distance('computer','tv')"
   ]
  },
  {
   "cell_type": "code",
   "execution_count": 16,
   "metadata": {},
   "outputs": [
    {
     "data": {
      "text/plain": [
       "4.1018295"
      ]
     },
     "execution_count": 16,
     "metadata": {},
     "output_type": "execute_result"
    }
   ],
   "source": [
    "distance('computer','radio')"
   ]
  },
  {
   "cell_type": "code",
   "execution_count": 17,
   "metadata": {},
   "outputs": [
    {
     "data": {
      "text/plain": [
       "4.124088"
      ]
     },
     "execution_count": 17,
     "metadata": {},
     "output_type": "execute_result"
    }
   ],
   "source": [
    "distance('computer','phone')"
   ]
  },
  {
   "cell_type": "code",
   "execution_count": 18,
   "metadata": {},
   "outputs": [
    {
     "data": {
      "text/plain": [
       "9.345594"
      ]
     },
     "execution_count": 18,
     "metadata": {},
     "output_type": "execute_result"
    }
   ],
   "source": [
    "distance('computer','man')"
   ]
  },
  {
   "cell_type": "markdown",
   "metadata": {},
   "source": [
    "### Visualize Word Embeddings"
   ]
  },
  {
   "cell_type": "code",
   "execution_count": 19,
   "metadata": {},
   "outputs": [
    {
     "name": "stdout",
     "output_type": "stream",
     "text": [
      "[[-0.01378544 -0.5943162 ]\n",
      " [ 1.4284353   0.23158598]\n",
      " [-0.64375156  0.3827999 ]\n",
      " [-0.22610149  0.7300187 ]\n",
      " [ 0.22685611 -0.16388127]\n",
      " [-0.16585411 -0.61860335]\n",
      " [-0.27052352  0.27688572]\n",
      " [-0.33527583 -0.24448933]]\n"
     ]
    },
    {
     "data": {
      "image/png": "[encoded data removed]",
      "text/plain": [
       "<Figure size 432x288 with 1 Axes>"
      ]
     },
     "metadata": {
      "needs_background": "light"
     },
     "output_type": "display_data"
    }
   ],
   "source": [
    "# define training data\n",
    "words = ['Paris', 'computer', 'radio', 'capital', 'lights', 'France', 'Berlin', 'Germany']\n",
    "\n",
    "# use model\n",
    "model = b\n",
    "\n",
    "# fit a 2d PCA model to the vectors\n",
    "pca = PCA(n_components=2)\n",
    "result = pca.fit_transform(model.wv[words])\n",
    "\n",
    "print(result)\n",
    "\n",
    "# create a scatter plot of the projection\n",
    "pyplot.scatter(result[:, 0], result[:, 1])\n",
    "\n",
    "for i, word in enumerate(words):\n",
    "\tpyplot.annotate(word, xy=(result[i, 0], result[i, 1]))\n",
    "pyplot.show()"
   ]
  }
 ],
 "metadata": {
  "anaconda-cloud": {},
  "kernelspec": {
   "display_name": "Python 3",
   "language": "python",
   "name": "python3"
  },
  "language_info": {
   "codemirror_mode": {
    "name": "ipython",
    "version": 3
   },
   "file_extension": ".py",
   "mimetype": "text/x-python",
   "name": "python",
   "nbconvert_exporter": "python",
   "pygments_lexer": "ipython3",
   "version": "3.7.4"
  },
  "toc": {
   "base_numbering": 1,
   "nav_menu": {},
   "number_sections": true,
   "sideBar": true,
   "skip_h1_title": false,
   "title_cell": "Table of Contents",
   "title_sidebar": "Contents",
   "toc_cell": false,
   "toc_position": {},
   "toc_section_display": true,
   "toc_window_display": false
  }
 },
 "nbformat": 4,
 "nbformat_minor": 1
}
