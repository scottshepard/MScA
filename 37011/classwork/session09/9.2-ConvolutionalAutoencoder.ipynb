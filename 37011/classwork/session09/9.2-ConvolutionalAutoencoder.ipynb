{
 "cells": [
  {
   "cell_type": "markdown",
   "metadata": {},
   "source": [
    "#  Deep Learning and Image Recognition\n",
    "\n",
    "https://blog.keras.io/building-autoencoders-in-keras.html\n",
    "\n",
    "Since our inputs are images, it makes sense to use convolutional neural networks (convnets) as encoders and decoders. In practical settings, autoencoders applied to images are always convolutional autoencoders --they simply perform much better.\n",
    "\n",
    "Let's implement one. The encoder will consist in a stack of Conv2D and MaxPooling2D layers (max pooling being used for spatial down-sampling), while the decoder will consist in a stack of Conv2D and UpSampling2D layers."
   ]
  },
  {
   "cell_type": "code",
   "execution_count": 1,
   "metadata": {},
   "outputs": [
    {
     "name": "stderr",
     "output_type": "stream",
     "text": [
      "Using TensorFlow backend.\n"
     ]
    }
   ],
   "source": [
    "from keras.layers import Input, Dense, Conv2D, MaxPooling2D, UpSampling2D\n",
    "from keras.models import Model\n",
    "from keras import backend as K\n",
    "import matplotlib.pyplot as plt\n",
    "%matplotlib inline"
   ]
  },
  {
   "cell_type": "code",
   "execution_count": 2,
   "metadata": {},
   "outputs": [],
   "source": [
    "input_img = Input(shape=(28, 28, 1))  # adapt this if using `channels_first` image data format\n",
    "\n",
    "x = Conv2D(16, (3, 3), activation='relu', padding='same')(input_img)\n",
    "x = MaxPooling2D((2, 2), padding='same')(x)\n",
    "x = Conv2D(8, (3, 3), activation='relu', padding='same')(x)\n",
    "x = MaxPooling2D((2, 2), padding='same')(x)\n",
    "x = Conv2D(8, (3, 3), activation='relu', padding='same')(x)\n",
    "encoded = MaxPooling2D((2, 2), padding='same')(x)\n",
    "\n",
    "# at this point the representation is (4, 4, 8) i.e. 128-dimensional\n",
    "\n",
    "x = Conv2D(8, (3, 3), activation='relu', padding='same')(encoded)\n",
    "x = UpSampling2D((2, 2))(x)\n",
    "x = Conv2D(8, (3, 3), activation='relu', padding='same')(x)\n",
    "x = UpSampling2D((2, 2))(x)\n",
    "x = Conv2D(16, (3, 3), activation='relu')(x)\n",
    "x = UpSampling2D((2, 2))(x)\n",
    "decoded = Conv2D(1, (3, 3), activation='sigmoid', padding='same')(x)\n",
    "\n",
    "autoencoder = Model(input_img, decoded)\n",
    "autoencoder.compile(optimizer='adadelta', loss='binary_crossentropy')"
   ]
  },
  {
   "cell_type": "markdown",
   "metadata": {},
   "source": [
    "To train it, we will use the original MNIST digits with shape (samples, 3, 28, 28), and we will just normalize pixel values between 0 and 1."
   ]
  },
  {
   "cell_type": "code",
   "execution_count": 2,
   "metadata": {},
   "outputs": [],
   "source": [
    "from keras.datasets import mnist\n",
    "import numpy as np\n",
    "\n",
    "(x_train, _), (x_test, _) = mnist.load_data()\n",
    "\n",
    "x_train = x_train.astype('float32') / 255.\n",
    "x_test = x_test.astype('float32') / 255.\n",
    "x_train = np.reshape(x_train, (len(x_train), 28, 28, 1))  # adapt this if using `channels_first` image data format\n",
    "x_test = np.reshape(x_test, (len(x_test), 28, 28, 1))  # adapt this if using `channels_first` image data forma"
   ]
  },
  {
   "cell_type": "markdown",
   "metadata": {},
   "source": [
    "Let's train this model for 50 epochs. For the sake of demonstrating how to visualize the results of a model during training, we will be using the TensorFlow backend and the TensorBoard callback.\n",
    "\n",
    "First, let's open up a terminal and start a TensorBoard server that will read logs stored at /tmp/autoencoder.\n",
    "\n",
    "Then let's train our model. In the callbacks list we pass an instance of the TensorBoard callback. After every epoch, this callback will write logs to /tmp/autoencoder, which can be read by our TensorBoard server."
   ]
  },
  {
   "cell_type": "code",
   "execution_count": 3,
   "metadata": {},
   "outputs": [
    {
     "name": "stdout",
     "output_type": "stream",
     "text": [
      "WARNING:tensorflow:From C:\\ProgramData\\Anaconda3\\lib\\site-packages\\tensorflow\\contrib\\learn\\python\\learn\\datasets\\base.py:198: retry (from tensorflow.contrib.learn.python.learn.datasets.base) is deprecated and will be removed in a future version.\n",
      "Instructions for updating:\n",
      "Use the retry module or similar alternatives.\n",
      "Train on 60000 samples, validate on 10000 samples\n",
      "Epoch 1/50\n",
      "60000/60000 [==============================] - 8s 140us/step - loss: 0.2175 - val_loss: 0.1753\n",
      "Epoch 2/50\n",
      "60000/60000 [==============================] - 7s 117us/step - loss: 0.1584 - val_loss: 0.1460\n",
      "Epoch 3/50\n",
      "60000/60000 [==============================] - 12s 207us/step - loss: 0.1412 - val_loss: 0.1335\n",
      "Epoch 4/50\n",
      "60000/60000 [==============================] - 13s 224us/step - loss: 0.1324 - val_loss: 0.1244\n",
      "Epoch 5/50\n",
      "60000/60000 [==============================] - 15s 247us/step - loss: 0.1272 - val_loss: 0.1241\n",
      "Epoch 6/50\n",
      "60000/60000 [==============================] - 14s 241us/step - loss: 0.1237 - val_loss: 0.1203\n",
      "Epoch 7/50\n",
      "60000/60000 [==============================] - 15s 244us/step - loss: 0.1211 - val_loss: 0.1206\n",
      "Epoch 8/50\n",
      "60000/60000 [==============================] - 14s 236us/step - loss: 0.1189 - val_loss: 0.1156\n",
      "Epoch 9/50\n",
      "60000/60000 [==============================] - 15s 252us/step - loss: 0.1169 - val_loss: 0.1178\n",
      "Epoch 10/50\n",
      "60000/60000 [==============================] - 15s 254us/step - loss: 0.1153 - val_loss: 0.1159\n",
      "Epoch 11/50\n",
      "60000/60000 [==============================] - 16s 260us/step - loss: 0.1144 - val_loss: 0.1152\n",
      "Epoch 12/50\n",
      "60000/60000 [==============================] - 15s 250us/step - loss: 0.1132 - val_loss: 0.1098\n",
      "Epoch 13/50\n",
      "60000/60000 [==============================] - 15s 250us/step - loss: 0.1126 - val_loss: 0.1117\n",
      "Epoch 14/50\n",
      "60000/60000 [==============================] - 15s 245us/step - loss: 0.1111 - val_loss: 0.1082\n",
      "Epoch 15/50\n",
      "60000/60000 [==============================] - 15s 250us/step - loss: 0.1106 - val_loss: 0.1063\n",
      "Epoch 16/50\n",
      "60000/60000 [==============================] - 15s 250us/step - loss: 0.1100 - val_loss: 0.1074\n",
      "Epoch 17/50\n",
      "60000/60000 [==============================] - 14s 232us/step - loss: 0.1093 - val_loss: 0.1111\n",
      "Epoch 18/50\n",
      "60000/60000 [==============================] - 14s 237us/step - loss: 0.1088 - val_loss: 0.1112\n",
      "Epoch 19/50\n",
      "60000/60000 [==============================] - 13s 223us/step - loss: 0.1080 - val_loss: 0.1089\n",
      "Epoch 20/50\n",
      "60000/60000 [==============================] - 15s 250us/step - loss: 0.1078 - val_loss: 0.1102\n",
      "Epoch 21/50\n",
      "60000/60000 [==============================] - 15s 251us/step - loss: 0.1072 - val_loss: 0.1049\n",
      "Epoch 22/50\n",
      "60000/60000 [==============================] - 15s 250us/step - loss: 0.1066 - val_loss: 0.1090\n",
      "Epoch 23/50\n",
      "60000/60000 [==============================] - 16s 260us/step - loss: 0.1063 - val_loss: 0.1038\n",
      "Epoch 24/50\n",
      "60000/60000 [==============================] - 14s 239us/step - loss: 0.1058 - val_loss: 0.1055\n",
      "Epoch 25/50\n",
      "60000/60000 [==============================] - 14s 227us/step - loss: 0.1054 - val_loss: 0.1049\n",
      "Epoch 26/50\n",
      "60000/60000 [==============================] - 15s 253us/step - loss: 0.1049 - val_loss: 0.1043\n",
      "Epoch 27/50\n",
      "60000/60000 [==============================] - 17s 285us/step - loss: 0.1046 - val_loss: 0.1081\n",
      "Epoch 28/50\n",
      "60000/60000 [==============================] - 19s 311us/step - loss: 0.1044 - val_loss: 0.1128\n",
      "Epoch 29/50\n",
      "60000/60000 [==============================] - 18s 306us/step - loss: 0.1040 - val_loss: 0.1077\n",
      "Epoch 30/50\n",
      "60000/60000 [==============================] - 19s 309us/step - loss: 0.1039 - val_loss: 0.1020\n",
      "Epoch 31/50\n",
      "60000/60000 [==============================] - 18s 303us/step - loss: 0.1037 - val_loss: 0.1020\n",
      "Epoch 32/50\n",
      "60000/60000 [==============================] - 17s 289us/step - loss: 0.1034 - val_loss: 0.1075\n",
      "Epoch 33/50\n",
      "60000/60000 [==============================] - 19s 314us/step - loss: 0.1029 - val_loss: 0.1037\n",
      "Epoch 34/50\n",
      "60000/60000 [==============================] - 18s 301us/step - loss: 0.1027 - val_loss: 0.1016\n",
      "Epoch 35/50\n",
      "60000/60000 [==============================] - 17s 287us/step - loss: 0.1025 - val_loss: 0.1009\n",
      "Epoch 36/50\n",
      "60000/60000 [==============================] - 18s 297us/step - loss: 0.1023 - val_loss: 0.1021\n",
      "Epoch 37/50\n",
      "60000/60000 [==============================] - 19s 311us/step - loss: 0.1016 - val_loss: 0.1002\n",
      "Epoch 38/50\n",
      "60000/60000 [==============================] - 18s 299us/step - loss: 0.1017 - val_loss: 0.1013\n",
      "Epoch 39/50\n",
      "60000/60000 [==============================] - 17s 276us/step - loss: 0.1015 - val_loss: 0.1016\n",
      "Epoch 40/50\n",
      "60000/60000 [==============================] - 18s 308us/step - loss: 0.1011 - val_loss: 0.0988\n",
      "Epoch 41/50\n",
      "60000/60000 [==============================] - 19s 310us/step - loss: 0.1013 - val_loss: 0.1029\n",
      "Epoch 42/50\n",
      "60000/60000 [==============================] - 17s 291us/step - loss: 0.1007 - val_loss: 0.1019\n",
      "Epoch 43/50\n",
      "60000/60000 [==============================] - 18s 293us/step - loss: 0.1005 - val_loss: 0.0994\n",
      "Epoch 44/50\n",
      "60000/60000 [==============================] - 17s 292us/step - loss: 0.1005 - val_loss: 0.1010\n",
      "Epoch 45/50\n",
      "60000/60000 [==============================] - 19s 319us/step - loss: 0.1006 - val_loss: 0.0985\n",
      "Epoch 46/50\n",
      "60000/60000 [==============================] - 18s 303us/step - loss: 0.1005 - val_loss: 0.0980\n",
      "Epoch 47/50\n",
      "60000/60000 [==============================] - 19s 312us/step - loss: 0.1004 - val_loss: 0.0990\n",
      "Epoch 48/50\n",
      "60000/60000 [==============================] - 18s 296us/step - loss: 0.0997 - val_loss: 0.1006\n",
      "Epoch 49/50\n",
      "60000/60000 [==============================] - 19s 314us/step - loss: 0.0993 - val_loss: 0.1008\n",
      "Epoch 50/50\n",
      "60000/60000 [==============================] - 19s 312us/step - loss: 0.0994 - val_loss: 0.0984\n"
     ]
    },
    {
     "data": {
      "text/plain": [
       "<keras.callbacks.History at 0x1ca1b12b630>"
      ]
     },
     "execution_count": 3,
     "metadata": {},
     "output_type": "execute_result"
    }
   ],
   "source": [
    "from keras.callbacks import TensorBoard\n",
    "\n",
    "autoencoder.fit(x_train, x_train,\n",
    "                epochs=50,\n",
    "                batch_size=128,\n",
    "                shuffle=True,\n",
    "                validation_data=(x_test, x_test),\n",
    "                callbacks=[TensorBoard(log_dir='/tmp/autoencoder')])"
   ]
  },
  {
   "cell_type": "markdown",
   "metadata": {},
   "source": [
    "The model converges to a loss of 0.094, significantly better than our previous models (this is in large part due to the higher entropic capacity of the encoded representation, 128 dimensions vs. 32 previously). Let's take a look at the reconstructed digits:"
   ]
  },
  {
   "cell_type": "code",
   "execution_count": 8,
   "metadata": {},
   "outputs": [
    {
     "data": {
      "image/png": "[encoded data removed]",
      "text/plain": [
       "<Figure size 1440x288 with 18 Axes>"
      ]
     },
     "metadata": {},
     "output_type": "display_data"
    }
   ],
   "source": [
    "decoded_imgs = autoencoder.predict(x_test)\n",
    "\n",
    "n = 10\n",
    "plt.figure(figsize=(20, 4))\n",
    "for i in range(1,n):\n",
    "    # display original\n",
    "    ax = plt.subplot(2, n, i)\n",
    "    plt.imshow(x_test[i].reshape(28, 28))\n",
    "    plt.gray()\n",
    "    ax.get_xaxis().set_visible(False)\n",
    "    ax.get_yaxis().set_visible(False)\n",
    "\n",
    "    # display reconstruction\n",
    "    ax = plt.subplot(2, n, i + n)\n",
    "    plt.imshow(decoded_imgs[i].reshape(28, 28))\n",
    "    plt.gray()\n",
    "    ax.get_xaxis().set_visible(False)\n",
    "    ax.get_yaxis().set_visible(False)\n",
    "plt.show()"
   ]
  },
  {
   "cell_type": "markdown",
   "metadata": {},
   "source": [
    "### Application to image denoising\n",
    "\n",
    "Let's put our convolutional autoencoder to work on an image denoising problem. It's simple: we will train the autoencoder to map noisy digits images to clean digits images.\n",
    "\n",
    "Here's how we will generate synthetic noisy digits: we just apply a gaussian noise matrix and clip the images between 0 and 1."
   ]
  },
  {
   "cell_type": "code",
   "execution_count": 10,
   "metadata": {},
   "outputs": [],
   "source": [
    "from keras.datasets import mnist\n",
    "import numpy as np\n",
    "\n",
    "(x_train, _), (x_test, _) = mnist.load_data()\n",
    "\n",
    "x_train = x_train.astype('float32') / 255.\n",
    "x_test = x_test.astype('float32') / 255.\n",
    "x_train = np.reshape(x_train, (len(x_train), 28, 28, 1))  # adapt this if using `channels_first` image data format\n",
    "x_test = np.reshape(x_test, (len(x_test), 28, 28, 1))  # adapt this if using `channels_first` image data format\n",
    "\n",
    "noise_factor = 0.5\n",
    "x_train_noisy = x_train + noise_factor * np.random.normal(loc=0.0, scale=1.0, size=x_train.shape) \n",
    "x_test_noisy = x_test + noise_factor * np.random.normal(loc=0.0, scale=1.0, size=x_test.shape) \n",
    "\n",
    "x_train_noisy = np.clip(x_train_noisy, 0., 1.)\n",
    "x_test_noisy = np.clip(x_test_noisy, 0., 1.)"
   ]
  },
  {
   "cell_type": "markdown",
   "metadata": {},
   "source": [
    "Here's what the noisy digits look like:"
   ]
  },
  {
   "cell_type": "code",
   "execution_count": 12,
   "metadata": {},
   "outputs": [
    {
     "data": {
      "image/png": "[encoded data removed]",
      "text/plain": [
       "<Figure size 1440x144 with 9 Axes>"
      ]
     },
     "metadata": {},
     "output_type": "display_data"
    }
   ],
   "source": [
    "n = 10\n",
    "plt.figure(figsize=(20, 2))\n",
    "for i in range(1,n):\n",
    "    ax = plt.subplot(1, n, i)\n",
    "    plt.imshow(x_test_noisy[i].reshape(28, 28))\n",
    "    plt.gray()\n",
    "    ax.get_xaxis().set_visible(False)\n",
    "    ax.get_yaxis().set_visible(False)\n",
    "plt.show()"
   ]
  },
  {
   "cell_type": "markdown",
   "metadata": {},
   "source": [
    "If you squint you can still recognize them, but barely. Can our autoencoder learn to recover the original digits? Let's find out.\n",
    "\n",
    "Compared to the previous convolutional autoencoder, in order to improve the quality of the reconstructed, we'll use a slightly different model with more filters per layer:"
   ]
  },
  {
   "cell_type": "code",
   "execution_count": 13,
   "metadata": {},
   "outputs": [],
   "source": [
    "input_img = Input(shape=(28, 28, 1))  # adapt this if using `channels_first` image data format\n",
    "\n",
    "x = Conv2D(32, (3, 3), activation='relu', padding='same')(input_img)\n",
    "x = MaxPooling2D((2, 2), padding='same')(x)\n",
    "x = Conv2D(32, (3, 3), activation='relu', padding='same')(x)\n",
    "encoded = MaxPooling2D((2, 2), padding='same')(x)\n",
    "\n",
    "# at this point the representation is (7, 7, 32)\n",
    "\n",
    "x = Conv2D(32, (3, 3), activation='relu', padding='same')(encoded)\n",
    "x = UpSampling2D((2, 2))(x)\n",
    "x = Conv2D(32, (3, 3), activation='relu', padding='same')(x)\n",
    "x = UpSampling2D((2, 2))(x)\n",
    "decoded = Conv2D(1, (3, 3), activation='sigmoid', padding='same')(x)\n",
    "\n",
    "autoencoder = Model(input_img, decoded)\n",
    "autoencoder.compile(optimizer='adadelta', loss='binary_crossentropy')"
   ]
  },
  {
   "cell_type": "markdown",
   "metadata": {},
   "source": [
    "Let's train it for 100 epochs:"
   ]
  },
  {
   "cell_type": "code",
   "execution_count": 14,
   "metadata": {},
   "outputs": [
    {
     "name": "stdout",
     "output_type": "stream",
     "text": [
      "Train on 60000 samples, validate on 10000 samples\n",
      "Epoch 1/100\n",
      "60000/60000 [==============================] - 15s 254us/step - loss: 0.1798 - val_loss: 0.1220\n",
      "Epoch 2/100\n",
      "60000/60000 [==============================] - 19s 318us/step - loss: 0.1183 - val_loss: 0.1152\n",
      "Epoch 3/100\n",
      "60000/60000 [==============================] - 17s 279us/step - loss: 0.1111 - val_loss: 0.1109\n",
      "Epoch 4/100\n",
      "60000/60000 [==============================] - 18s 295us/step - loss: 0.1077 - val_loss: 0.1051\n",
      "Epoch 5/100\n",
      "60000/60000 [==============================] - 16s 274us/step - loss: 0.1052 - val_loss: 0.1039\n",
      "Epoch 6/100\n",
      "60000/60000 [==============================] - 17s 284us/step - loss: 0.1037 - val_loss: 0.1020\n",
      "Epoch 7/100\n",
      "60000/60000 [==============================] - 20s 331us/step - loss: 0.1027 - val_loss: 0.1002\n",
      "Epoch 8/100\n",
      "60000/60000 [==============================] - 19s 324us/step - loss: 0.1018 - val_loss: 0.1020\n",
      "Epoch 9/100\n",
      "60000/60000 [==============================] - 19s 315us/step - loss: 0.1012 - val_loss: 0.1007\n",
      "Epoch 10/100\n",
      "60000/60000 [==============================] - 18s 297us/step - loss: 0.1008 - val_loss: 0.1008\n",
      "Epoch 11/100\n",
      "60000/60000 [==============================] - 17s 281us/step - loss: 0.1001 - val_loss: 0.0986\n",
      "Epoch 12/100\n",
      "60000/60000 [==============================] - 20s 328us/step - loss: 0.0999 - val_loss: 0.1000\n",
      "Epoch 13/100\n",
      "60000/60000 [==============================] - 18s 303us/step - loss: 0.0996 - val_loss: 0.0995\n",
      "Epoch 14/100\n",
      "60000/60000 [==============================] - 19s 325us/step - loss: 0.0993 - val_loss: 0.0985\n",
      "Epoch 15/100\n",
      "60000/60000 [==============================] - 20s 325us/step - loss: 0.0989 - val_loss: 0.0995\n",
      "Epoch 16/100\n",
      "60000/60000 [==============================] - 19s 323us/step - loss: 0.0987 - val_loss: 0.0997\n",
      "Epoch 17/100\n",
      "60000/60000 [==============================] - 19s 318us/step - loss: 0.0985 - val_loss: 0.0973\n",
      "Epoch 18/100\n",
      "60000/60000 [==============================] - 20s 327us/step - loss: 0.0983 - val_loss: 0.0995\n",
      "Epoch 19/100\n",
      "60000/60000 [==============================] - 19s 322us/step - loss: 0.0980 - val_loss: 0.0971\n",
      "Epoch 20/100\n",
      "60000/60000 [==============================] - 19s 318us/step - loss: 0.0980 - val_loss: 0.0968\n",
      "Epoch 21/100\n",
      "60000/60000 [==============================] - 20s 326us/step - loss: 0.0977 - val_loss: 0.0978\n",
      "Epoch 22/100\n",
      "60000/60000 [==============================] - 19s 313us/step - loss: 0.0976 - val_loss: 0.0975\n",
      "Epoch 23/100\n",
      "60000/60000 [==============================] - 19s 313us/step - loss: 0.0974 - val_loss: 0.0966\n",
      "Epoch 24/100\n",
      "60000/60000 [==============================] - 19s 313us/step - loss: 0.0974 - val_loss: 0.0969\n",
      "Epoch 25/100\n",
      "60000/60000 [==============================] - 18s 308us/step - loss: 0.0972 - val_loss: 0.0980\n",
      "Epoch 26/100\n",
      "60000/60000 [==============================] - 18s 306us/step - loss: 0.0971 - val_loss: 0.0964\n",
      "Epoch 27/100\n",
      "60000/60000 [==============================] - 19s 324us/step - loss: 0.0968 - val_loss: 0.0970\n",
      "Epoch 28/100\n",
      "60000/60000 [==============================] - 20s 328us/step - loss: 0.0968 - val_loss: 0.0979\n",
      "Epoch 29/100\n",
      "60000/60000 [==============================] - 18s 299us/step - loss: 0.0967 - val_loss: 0.0958\n",
      "Epoch 30/100\n",
      "60000/60000 [==============================] - 19s 316us/step - loss: 0.0966 - val_loss: 0.0957\n",
      "Epoch 31/100\n",
      "60000/60000 [==============================] - 19s 316us/step - loss: 0.0965 - val_loss: 0.0959\n",
      "Epoch 32/100\n",
      "60000/60000 [==============================] - 20s 330us/step - loss: 0.0964 - val_loss: 0.0961\n",
      "Epoch 33/100\n",
      "60000/60000 [==============================] - 20s 337us/step - loss: 0.0963 - val_loss: 0.0959\n",
      "Epoch 34/100\n",
      "60000/60000 [==============================] - 20s 326us/step - loss: 0.0963 - val_loss: 0.0963\n",
      "Epoch 35/100\n",
      "60000/60000 [==============================] - 20s 326us/step - loss: 0.0962 - val_loss: 0.0966\n",
      "Epoch 36/100\n",
      "60000/60000 [==============================] - 19s 323us/step - loss: 0.0962 - val_loss: 0.0954\n",
      "Epoch 37/100\n",
      "60000/60000 [==============================] - 20s 325us/step - loss: 0.0961 - val_loss: 0.0953\n",
      "Epoch 38/100\n",
      "60000/60000 [==============================] - 19s 310us/step - loss: 0.0960 - val_loss: 0.0955\n",
      "Epoch 39/100\n",
      "60000/60000 [==============================] - 20s 329us/step - loss: 0.0959 - val_loss: 0.0952\n",
      "Epoch 40/100\n",
      "60000/60000 [==============================] - 19s 309us/step - loss: 0.0958 - val_loss: 0.0951\n",
      "Epoch 41/100\n",
      "60000/60000 [==============================] - 19s 320us/step - loss: 0.0959 - val_loss: 0.0953\n",
      "Epoch 42/100\n",
      "60000/60000 [==============================] - 19s 314us/step - loss: 0.0958 - val_loss: 0.0954\n",
      "Epoch 43/100\n",
      "60000/60000 [==============================] - 19s 324us/step - loss: 0.0956 - val_loss: 0.0949\n",
      "Epoch 44/100\n",
      "60000/60000 [==============================] - 20s 335us/step - loss: 0.0957 - val_loss: 0.0949\n",
      "Epoch 45/100\n",
      "60000/60000 [==============================] - 20s 329us/step - loss: 0.0956 - val_loss: 0.0972\n",
      "Epoch 46/100\n",
      "60000/60000 [==============================] - 20s 325us/step - loss: 0.0955 - val_loss: 0.0952\n",
      "Epoch 47/100\n",
      "60000/60000 [==============================] - 19s 320us/step - loss: 0.0955 - val_loss: 0.0948\n",
      "Epoch 48/100\n",
      "60000/60000 [==============================] - 20s 326us/step - loss: 0.0955 - val_loss: 0.0948\n",
      "Epoch 49/100\n",
      "60000/60000 [==============================] - 19s 309us/step - loss: 0.0954 - val_loss: 0.0947\n",
      "Epoch 50/100\n",
      "60000/60000 [==============================] - 17s 278us/step - loss: 0.0953 - val_loss: 0.0950\n",
      "Epoch 51/100\n",
      "60000/60000 [==============================] - 17s 291us/step - loss: 0.0953 - val_loss: 0.0947\n",
      "Epoch 52/100\n",
      "60000/60000 [==============================] - 16s 273us/step - loss: 0.0953 - val_loss: 0.0946\n",
      "Epoch 53/100\n",
      "60000/60000 [==============================] - 17s 280us/step - loss: 0.0953 - val_loss: 0.0948\n",
      "Epoch 54/100\n",
      "60000/60000 [==============================] - 17s 280us/step - loss: 0.0952 - val_loss: 0.0956\n",
      "Epoch 55/100\n",
      "60000/60000 [==============================] - 16s 266us/step - loss: 0.0952 - val_loss: 0.0952\n",
      "Epoch 56/100\n",
      "60000/60000 [==============================] - 17s 283us/step - loss: 0.0951 - val_loss: 0.0949\n",
      "Epoch 57/100\n",
      "60000/60000 [==============================] - 16s 266us/step - loss: 0.0951 - val_loss: 0.0946\n",
      "Epoch 58/100\n",
      "60000/60000 [==============================] - 17s 288us/step - loss: 0.0951 - val_loss: 0.0967\n",
      "Epoch 59/100\n",
      "60000/60000 [==============================] - 17s 280us/step - loss: 0.0951 - val_loss: 0.0945\n",
      "Epoch 60/100\n",
      "60000/60000 [==============================] - 17s 282us/step - loss: 0.0950 - val_loss: 0.0950\n",
      "Epoch 61/100\n",
      "60000/60000 [==============================] - 16s 272us/step - loss: 0.0950 - val_loss: 0.0963\n",
      "Epoch 62/100\n",
      "60000/60000 [==============================] - 17s 290us/step - loss: 0.0949 - val_loss: 0.0944\n",
      "Epoch 63/100\n",
      "60000/60000 [==============================] - 17s 283us/step - loss: 0.0949 - val_loss: 0.0949\n",
      "Epoch 64/100\n",
      "60000/60000 [==============================] - 17s 290us/step - loss: 0.0949 - val_loss: 0.0946\n",
      "Epoch 65/100\n",
      "60000/60000 [==============================] - 16s 270us/step - loss: 0.0949 - val_loss: 0.0944\n",
      "Epoch 66/100\n",
      "60000/60000 [==============================] - 17s 279us/step - loss: 0.0949 - val_loss: 0.0944\n",
      "Epoch 67/100\n",
      "60000/60000 [==============================] - 17s 284us/step - loss: 0.0949 - val_loss: 0.0944\n",
      "Epoch 68/100\n",
      "60000/60000 [==============================] - 17s 292us/step - loss: 0.0948 - val_loss: 0.0944\n",
      "Epoch 69/100\n",
      "60000/60000 [==============================] - 18s 292us/step - loss: 0.0948 - val_loss: 0.0957\n",
      "Epoch 70/100\n",
      "60000/60000 [==============================] - 17s 284us/step - loss: 0.0948 - val_loss: 0.0946\n",
      "Epoch 71/100\n",
      "60000/60000 [==============================] - 17s 283us/step - loss: 0.0947 - val_loss: 0.0943\n",
      "Epoch 72/100\n",
      "60000/60000 [==============================] - 17s 278us/step - loss: 0.0947 - val_loss: 0.0942\n",
      "Epoch 73/100\n",
      "60000/60000 [==============================] - 19s 320us/step - loss: 0.0946 - val_loss: 0.0945\n",
      "Epoch 74/100\n",
      "60000/60000 [==============================] - 18s 304us/step - loss: 0.0947 - val_loss: 0.0948\n",
      "Epoch 75/100\n",
      "60000/60000 [==============================] - 18s 303us/step - loss: 0.0947 - val_loss: 0.0943\n"
     ]
    },
    {
     "name": "stdout",
     "output_type": "stream",
     "text": [
      "Epoch 76/100\n",
      "60000/60000 [==============================] - 18s 307us/step - loss: 0.0946 - val_loss: 0.0944\n",
      "Epoch 77/100\n",
      "60000/60000 [==============================] - 16s 268us/step - loss: 0.0946 - val_loss: 0.0942\n",
      "Epoch 78/100\n",
      "60000/60000 [==============================] - 16s 270us/step - loss: 0.0946 - val_loss: 0.0942\n",
      "Epoch 79/100\n",
      "60000/60000 [==============================] - 16s 270us/step - loss: 0.0945 - val_loss: 0.0956\n",
      "Epoch 80/100\n",
      "60000/60000 [==============================] - 17s 279us/step - loss: 0.0945 - val_loss: 0.0940\n",
      "Epoch 81/100\n",
      "60000/60000 [==============================] - 17s 278us/step - loss: 0.0945 - val_loss: 0.0941\n",
      "Epoch 82/100\n",
      "60000/60000 [==============================] - 16s 266us/step - loss: 0.0945 - val_loss: 0.0951\n",
      "Epoch 83/100\n",
      "60000/60000 [==============================] - 16s 269us/step - loss: 0.0945 - val_loss: 0.0945\n",
      "Epoch 84/100\n",
      "60000/60000 [==============================] - 16s 267us/step - loss: 0.0944 - val_loss: 0.0940\n",
      "Epoch 85/100\n",
      "60000/60000 [==============================] - 16s 264us/step - loss: 0.0945 - val_loss: 0.0940\n",
      "Epoch 86/100\n",
      "60000/60000 [==============================] - 16s 274us/step - loss: 0.0944 - val_loss: 0.0942\n",
      "Epoch 87/100\n",
      "60000/60000 [==============================] - 16s 267us/step - loss: 0.0944 - val_loss: 0.0940\n",
      "Epoch 88/100\n",
      "60000/60000 [==============================] - 16s 270us/step - loss: 0.0944 - val_loss: 0.0940\n",
      "Epoch 89/100\n",
      "60000/60000 [==============================] - 16s 268us/step - loss: 0.0943 - val_loss: 0.0940\n",
      "Epoch 90/100\n",
      "60000/60000 [==============================] - 16s 268us/step - loss: 0.0943 - val_loss: 0.0946\n",
      "Epoch 91/100\n",
      "60000/60000 [==============================] - 16s 270us/step - loss: 0.0943 - val_loss: 0.0954\n",
      "Epoch 92/100\n",
      "60000/60000 [==============================] - 16s 268us/step - loss: 0.0943 - val_loss: 0.0942\n",
      "Epoch 93/100\n",
      "60000/60000 [==============================] - 17s 276us/step - loss: 0.0943 - val_loss: 0.0940\n",
      "Epoch 94/100\n",
      "60000/60000 [==============================] - 16s 274us/step - loss: 0.0942 - val_loss: 0.0940\n",
      "Epoch 95/100\n",
      "60000/60000 [==============================] - 16s 270us/step - loss: 0.0943 - val_loss: 0.0939\n",
      "Epoch 96/100\n",
      "60000/60000 [==============================] - 16s 268us/step - loss: 0.0942 - val_loss: 0.0940\n",
      "Epoch 97/100\n",
      "60000/60000 [==============================] - 16s 266us/step - loss: 0.0942 - val_loss: 0.0942\n",
      "Epoch 98/100\n",
      "60000/60000 [==============================] - 16s 268us/step - loss: 0.0942 - val_loss: 0.0938\n",
      "Epoch 99/100\n",
      "60000/60000 [==============================] - 16s 268us/step - loss: 0.0942 - val_loss: 0.0938\n",
      "Epoch 100/100\n",
      "60000/60000 [==============================] - 18s 295us/step - loss: 0.0942 - val_loss: 0.0938\n"
     ]
    },
    {
     "data": {
      "text/plain": [
       "<keras.callbacks.History at 0x1ca29e54400>"
      ]
     },
     "execution_count": 14,
     "metadata": {},
     "output_type": "execute_result"
    }
   ],
   "source": [
    "autoencoder.fit(x_train_noisy, x_train,\n",
    "                epochs=100,\n",
    "                batch_size=128,\n",
    "                shuffle=True,\n",
    "                validation_data=(x_test_noisy, x_test),\n",
    "                callbacks=[TensorBoard(log_dir='/tmp/tb', histogram_freq=0, write_graph=False)])"
   ]
  },
  {
   "cell_type": "markdown",
   "metadata": {},
   "source": [
    "Now let's take a look at the results. Top, the noisy digits fed to the network, and bottom, the digits are reconstructed by the network."
   ]
  },
  {
   "cell_type": "code",
   "execution_count": 17,
   "metadata": {},
   "outputs": [
    {
     "data": {
      "image/png": "[encoded data removed]",
      "text/plain": [
       "<Figure size 1440x288 with 18 Axes>"
      ]
     },
     "metadata": {},
     "output_type": "display_data"
    }
   ],
   "source": [
    "decoded_imgs = autoencoder.predict(x_test_noisy)\n",
    "\n",
    "n = 10\n",
    "plt.figure(figsize=(20, 4))\n",
    "for i in range(1,n):\n",
    "    # display original\n",
    "    ax = plt.subplot(2, n, i)\n",
    "    plt.imshow(x_test_noisy[i].reshape(28, 28))\n",
    "    plt.gray()\n",
    "    ax.get_xaxis().set_visible(False)\n",
    "    ax.get_yaxis().set_visible(False)\n",
    "\n",
    "    # display reconstruction\n",
    "    ax = plt.subplot(2, n, i + n)\n",
    "    plt.imshow(decoded_imgs[i].reshape(28, 28))\n",
    "    plt.gray()\n",
    "    ax.get_xaxis().set_visible(False)\n",
    "    ax.get_yaxis().set_visible(False)\n",
    "plt.show()"
   ]
  }
 ],
 "metadata": {
  "kernelspec": {
   "display_name": "Python 3",
   "language": "python",
   "name": "python3"
  },
  "language_info": {
   "codemirror_mode": {
    "name": "ipython",
    "version": 3
   },
   "file_extension": ".py",
   "mimetype": "text/x-python",
   "name": "python",
   "nbconvert_exporter": "python",
   "pygments_lexer": "ipython3",
   "version": "3.7.4"
  }
 },
 "nbformat": 4,
 "nbformat_minor": 2
}
