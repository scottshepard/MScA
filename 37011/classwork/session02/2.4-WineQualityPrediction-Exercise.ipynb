{
 "cells": [
  {
   "cell_type": "markdown",
   "metadata": {},
   "source": [
    "# 2.1 Wine Quality Prediction\n",
    "\n",
    "For our dataset, we'll be using the [Wine Quality Data Set](https://archive.ics.uci.edu/ml/datasets/wine+quality) available from the UCI Machine Learning Repository. This data consists of two datasets depicting various attributes of red and white variants of the Portuguese \"Vinho Verde\" wine.\n",
    "\n",
    "References: \n",
    "\n",
    "https://jovianlin.io/data-visualization-seaborn-part-1/\n",
    "\n",
    "https://github.com/dipanjanS/practical-machine-learning-with-python/blob/master/notebooks/Ch09_Analyzing_Wine_Types_and_Quality/exploratory_data_analysis.py\n"
   ]
  },
  {
   "cell_type": "markdown",
   "metadata": {},
   "source": [
    "## Import necessary dependencies"
   ]
  },
  {
   "cell_type": "code",
   "execution_count": 22,
   "metadata": {},
   "outputs": [],
   "source": [
    "import pandas as pd\n",
    "import matplotlib.pyplot as plt\n",
    "import matplotlib as mpl\n",
    "import numpy as np\n",
    "import seaborn as sns\n",
    "from collections import Counter\n",
    "\n",
    "from sklearn import metrics\n",
    "from sklearn.metrics import mean_squared_error, r2_score\n",
    "from sklearn.model_selection import train_test_split\n",
    "from sklearn.linear_model import LinearRegression, LogisticRegression\n",
    "from sklearn.ensemble import RandomForestClassifier\n",
    "from sklearn.tree import DecisionTreeClassifier\n",
    "\n",
    "%matplotlib inline"
   ]
  },
  {
   "cell_type": "code",
   "execution_count": 23,
   "metadata": {},
   "outputs": [],
   "source": [
    "#ignore warnings\n",
    "import warnings\n",
    "warnings.filterwarnings('ignore')"
   ]
  },
  {
   "cell_type": "markdown",
   "metadata": {},
   "source": [
    "## Load and merge datasets"
   ]
  },
  {
   "cell_type": "code",
   "execution_count": 5,
   "metadata": {},
   "outputs": [
    {
     "name": "stderr",
     "output_type": "stream",
     "text": [
      "  % Total    % Received % Xferd  Average Speed   Time    Time     Time  Current\n",
      "                                 Dload  Upload   Total   Spent    Left  Speed\n",
      "\n",
      "  0     0    0     0    0     0      0      0 --:--:-- --:--:-- --:--:--     0\n",
      "  0     0    0     0    0     0      0      0 --:--:-- --:--:-- --:--:--     0\n",
      "100 84199  100 84199    0     0  84199      0  0:00:01 --:--:--  0:00:01 86892\n",
      "  % Total    % Received % Xferd  Average Speed   Time    Time     Time  Current\n",
      "                                 Dload  Upload   Total   Spent    Left  Speed\n",
      "\n",
      "  0     0    0     0    0     0      0      0 --:--:-- --:--:-- --:--:--     0\n",
      "  0  258k    0     0    0     0      0      0 --:--:-- --:--:-- --:--:--     0\n",
      "100  258k  100  258k    0     0   258k      0  0:00:01  0:00:01 --:--:--  209k\n"
     ]
    }
   ],
   "source": [
    "!curl https://archive.ics.uci.edu/ml/machine-learning-databases/wine-quality/winequality-red.csv -o ../winequality-red.csv\n",
    "!curl https://archive.ics.uci.edu/ml/machine-learning-databases/wine-quality/winequality-white.csv -o ../winequality-white.csv"
   ]
  },
  {
   "cell_type": "code",
   "execution_count": 9,
   "metadata": {},
   "outputs": [],
   "source": [
    "white_wine = pd.read_csv('../winequality-white.csv', sep=';')\n",
    "red_wine = pd.read_csv('../winequality-red.csv', sep=';')\n",
    "\n",
    "# store wine type as an attribute\n",
    "red_wine['wine_type'] = 'red'   \n",
    "white_wine['wine_type'] = 'white'\n",
    "\n",
    "# merge red and white wine datasets\n",
    "wines = pd.concat([red_wine, white_wine])\n",
    "# re-shuffle records just to randomize data points\n",
    "wines = wines.sample(frac=1, random_state=42).reset_index(drop=True)"
   ]
  },
  {
   "cell_type": "markdown",
   "metadata": {},
   "source": [
    "## Understand dataset features and values"
   ]
  },
  {
   "cell_type": "code",
   "execution_count": 10,
   "metadata": {},
   "outputs": [
    {
     "name": "stdout",
     "output_type": "stream",
     "text": [
      "(4898, 13) (1599, 13)\n",
      "<class 'pandas.core.frame.DataFrame'>\n",
      "RangeIndex: 6497 entries, 0 to 6496\n",
      "Data columns (total 13 columns):\n",
      "fixed acidity           6497 non-null float64\n",
      "volatile acidity        6497 non-null float64\n",
      "citric acid             6497 non-null float64\n",
      "residual sugar          6497 non-null float64\n",
      "chlorides               6497 non-null float64\n",
      "free sulfur dioxide     6497 non-null float64\n",
      "total sulfur dioxide    6497 non-null float64\n",
      "density                 6497 non-null float64\n",
      "pH                      6497 non-null float64\n",
      "sulphates               6497 non-null float64\n",
      "alcohol                 6497 non-null float64\n",
      "quality                 6497 non-null int64\n",
      "wine_type               6497 non-null object\n",
      "dtypes: float64(11), int64(1), object(1)\n",
      "memory usage: 660.0+ KB\n",
      "None\n"
     ]
    }
   ],
   "source": [
    "print(white_wine.shape, red_wine.shape)\n",
    "print(wines.info())"
   ]
  },
  {
   "cell_type": "code",
   "execution_count": 11,
   "metadata": {},
   "outputs": [
    {
     "data": {
      "text/html": [
       "<div>\n",
       "<style scoped>\n",
       "    .dataframe tbody tr th:only-of-type {\n",
       "        vertical-align: middle;\n",
       "    }\n",
       "\n",
       "    .dataframe tbody tr th {\n",
       "        vertical-align: top;\n",
       "    }\n",
       "\n",
       "    .dataframe thead th {\n",
       "        text-align: right;\n",
       "    }\n",
       "</style>\n",
       "<table border=\"1\" class=\"dataframe\">\n",
       "  <thead>\n",
       "    <tr style=\"text-align: right;\">\n",
       "      <th></th>\n",
       "      <th>fixed acidity</th>\n",
       "      <th>volatile acidity</th>\n",
       "      <th>citric acid</th>\n",
       "      <th>residual sugar</th>\n",
       "      <th>chlorides</th>\n",
       "      <th>free sulfur dioxide</th>\n",
       "      <th>total sulfur dioxide</th>\n",
       "      <th>density</th>\n",
       "      <th>pH</th>\n",
       "      <th>sulphates</th>\n",
       "      <th>alcohol</th>\n",
       "      <th>quality</th>\n",
       "      <th>wine_type</th>\n",
       "    </tr>\n",
       "  </thead>\n",
       "  <tbody>\n",
       "    <tr>\n",
       "      <td>0</td>\n",
       "      <td>7.0</td>\n",
       "      <td>0.17</td>\n",
       "      <td>0.74</td>\n",
       "      <td>12.8</td>\n",
       "      <td>0.045</td>\n",
       "      <td>24.0</td>\n",
       "      <td>126.0</td>\n",
       "      <td>0.99420</td>\n",
       "      <td>3.26</td>\n",
       "      <td>0.38</td>\n",
       "      <td>12.2</td>\n",
       "      <td>8</td>\n",
       "      <td>white</td>\n",
       "    </tr>\n",
       "    <tr>\n",
       "      <td>1</td>\n",
       "      <td>7.7</td>\n",
       "      <td>0.64</td>\n",
       "      <td>0.21</td>\n",
       "      <td>2.2</td>\n",
       "      <td>0.077</td>\n",
       "      <td>32.0</td>\n",
       "      <td>133.0</td>\n",
       "      <td>0.99560</td>\n",
       "      <td>3.27</td>\n",
       "      <td>0.45</td>\n",
       "      <td>9.9</td>\n",
       "      <td>5</td>\n",
       "      <td>red</td>\n",
       "    </tr>\n",
       "    <tr>\n",
       "      <td>2</td>\n",
       "      <td>6.8</td>\n",
       "      <td>0.39</td>\n",
       "      <td>0.34</td>\n",
       "      <td>7.4</td>\n",
       "      <td>0.020</td>\n",
       "      <td>38.0</td>\n",
       "      <td>133.0</td>\n",
       "      <td>0.99212</td>\n",
       "      <td>3.18</td>\n",
       "      <td>0.44</td>\n",
       "      <td>12.0</td>\n",
       "      <td>7</td>\n",
       "      <td>white</td>\n",
       "    </tr>\n",
       "    <tr>\n",
       "      <td>3</td>\n",
       "      <td>6.3</td>\n",
       "      <td>0.28</td>\n",
       "      <td>0.47</td>\n",
       "      <td>11.2</td>\n",
       "      <td>0.040</td>\n",
       "      <td>61.0</td>\n",
       "      <td>183.0</td>\n",
       "      <td>0.99592</td>\n",
       "      <td>3.12</td>\n",
       "      <td>0.51</td>\n",
       "      <td>9.5</td>\n",
       "      <td>6</td>\n",
       "      <td>white</td>\n",
       "    </tr>\n",
       "    <tr>\n",
       "      <td>4</td>\n",
       "      <td>7.4</td>\n",
       "      <td>0.35</td>\n",
       "      <td>0.20</td>\n",
       "      <td>13.9</td>\n",
       "      <td>0.054</td>\n",
       "      <td>63.0</td>\n",
       "      <td>229.0</td>\n",
       "      <td>0.99888</td>\n",
       "      <td>3.11</td>\n",
       "      <td>0.50</td>\n",
       "      <td>8.9</td>\n",
       "      <td>6</td>\n",
       "      <td>white</td>\n",
       "    </tr>\n",
       "  </tbody>\n",
       "</table>\n",
       "</div>"
      ],
      "text/plain": [
       "   fixed acidity  volatile acidity  citric acid  residual sugar  chlorides  \\\n",
       "0            7.0              0.17         0.74            12.8      0.045   \n",
       "1            7.7              0.64         0.21             2.2      0.077   \n",
       "2            6.8              0.39         0.34             7.4      0.020   \n",
       "3            6.3              0.28         0.47            11.2      0.040   \n",
       "4            7.4              0.35         0.20            13.9      0.054   \n",
       "\n",
       "   free sulfur dioxide  total sulfur dioxide  density    pH  sulphates  \\\n",
       "0                 24.0                 126.0  0.99420  3.26       0.38   \n",
       "1                 32.0                 133.0  0.99560  3.27       0.45   \n",
       "2                 38.0                 133.0  0.99212  3.18       0.44   \n",
       "3                 61.0                 183.0  0.99592  3.12       0.51   \n",
       "4                 63.0                 229.0  0.99888  3.11       0.50   \n",
       "\n",
       "   alcohol  quality wine_type  \n",
       "0     12.2        8     white  \n",
       "1      9.9        5       red  \n",
       "2     12.0        7     white  \n",
       "3      9.5        6     white  \n",
       "4      8.9        6     white  "
      ]
     },
     "execution_count": 11,
     "metadata": {},
     "output_type": "execute_result"
    }
   ],
   "source": [
    "wines.head()"
   ]
  },
  {
   "cell_type": "markdown",
   "metadata": {},
   "source": [
    "## Feature Engineering"
   ]
  },
  {
   "cell_type": "code",
   "execution_count": 12,
   "metadata": {},
   "outputs": [],
   "source": [
    "#Add a new column to convert the wine quality into a categorical variable\n",
    "wines['quality_label'] = wines['quality'].apply(lambda value: 'low' \n",
    "                                                              if value <= 5 else 'medium' \n",
    "                                                                  if value <= 7 else 'high')\n"
   ]
  },
  {
   "cell_type": "code",
   "execution_count": 13,
   "metadata": {},
   "outputs": [],
   "source": [
    "#convert wine type into dummy variables\n",
    "type_dummies = pd.get_dummies(wines.wine_type)\n",
    "wines = wines.join(type_dummies)"
   ]
  },
  {
   "cell_type": "code",
   "execution_count": 14,
   "metadata": {},
   "outputs": [
    {
     "data": {
      "text/html": [
       "<div>\n",
       "<style scoped>\n",
       "    .dataframe tbody tr th:only-of-type {\n",
       "        vertical-align: middle;\n",
       "    }\n",
       "\n",
       "    .dataframe tbody tr th {\n",
       "        vertical-align: top;\n",
       "    }\n",
       "\n",
       "    .dataframe thead th {\n",
       "        text-align: right;\n",
       "    }\n",
       "</style>\n",
       "<table border=\"1\" class=\"dataframe\">\n",
       "  <thead>\n",
       "    <tr style=\"text-align: right;\">\n",
       "      <th></th>\n",
       "      <th>fixed acidity</th>\n",
       "      <th>volatile acidity</th>\n",
       "      <th>citric acid</th>\n",
       "      <th>residual sugar</th>\n",
       "      <th>chlorides</th>\n",
       "      <th>free sulfur dioxide</th>\n",
       "      <th>total sulfur dioxide</th>\n",
       "      <th>density</th>\n",
       "      <th>pH</th>\n",
       "      <th>sulphates</th>\n",
       "      <th>alcohol</th>\n",
       "      <th>quality</th>\n",
       "      <th>wine_type</th>\n",
       "      <th>quality_label</th>\n",
       "      <th>red</th>\n",
       "      <th>white</th>\n",
       "    </tr>\n",
       "  </thead>\n",
       "  <tbody>\n",
       "    <tr>\n",
       "      <td>0</td>\n",
       "      <td>7.0</td>\n",
       "      <td>0.17</td>\n",
       "      <td>0.74</td>\n",
       "      <td>12.8</td>\n",
       "      <td>0.045</td>\n",
       "      <td>24.0</td>\n",
       "      <td>126.0</td>\n",
       "      <td>0.99420</td>\n",
       "      <td>3.26</td>\n",
       "      <td>0.38</td>\n",
       "      <td>12.2</td>\n",
       "      <td>8</td>\n",
       "      <td>white</td>\n",
       "      <td>high</td>\n",
       "      <td>0</td>\n",
       "      <td>1</td>\n",
       "    </tr>\n",
       "    <tr>\n",
       "      <td>1</td>\n",
       "      <td>7.7</td>\n",
       "      <td>0.64</td>\n",
       "      <td>0.21</td>\n",
       "      <td>2.2</td>\n",
       "      <td>0.077</td>\n",
       "      <td>32.0</td>\n",
       "      <td>133.0</td>\n",
       "      <td>0.99560</td>\n",
       "      <td>3.27</td>\n",
       "      <td>0.45</td>\n",
       "      <td>9.9</td>\n",
       "      <td>5</td>\n",
       "      <td>red</td>\n",
       "      <td>low</td>\n",
       "      <td>1</td>\n",
       "      <td>0</td>\n",
       "    </tr>\n",
       "    <tr>\n",
       "      <td>2</td>\n",
       "      <td>6.8</td>\n",
       "      <td>0.39</td>\n",
       "      <td>0.34</td>\n",
       "      <td>7.4</td>\n",
       "      <td>0.020</td>\n",
       "      <td>38.0</td>\n",
       "      <td>133.0</td>\n",
       "      <td>0.99212</td>\n",
       "      <td>3.18</td>\n",
       "      <td>0.44</td>\n",
       "      <td>12.0</td>\n",
       "      <td>7</td>\n",
       "      <td>white</td>\n",
       "      <td>medium</td>\n",
       "      <td>0</td>\n",
       "      <td>1</td>\n",
       "    </tr>\n",
       "    <tr>\n",
       "      <td>3</td>\n",
       "      <td>6.3</td>\n",
       "      <td>0.28</td>\n",
       "      <td>0.47</td>\n",
       "      <td>11.2</td>\n",
       "      <td>0.040</td>\n",
       "      <td>61.0</td>\n",
       "      <td>183.0</td>\n",
       "      <td>0.99592</td>\n",
       "      <td>3.12</td>\n",
       "      <td>0.51</td>\n",
       "      <td>9.5</td>\n",
       "      <td>6</td>\n",
       "      <td>white</td>\n",
       "      <td>medium</td>\n",
       "      <td>0</td>\n",
       "      <td>1</td>\n",
       "    </tr>\n",
       "    <tr>\n",
       "      <td>4</td>\n",
       "      <td>7.4</td>\n",
       "      <td>0.35</td>\n",
       "      <td>0.20</td>\n",
       "      <td>13.9</td>\n",
       "      <td>0.054</td>\n",
       "      <td>63.0</td>\n",
       "      <td>229.0</td>\n",
       "      <td>0.99888</td>\n",
       "      <td>3.11</td>\n",
       "      <td>0.50</td>\n",
       "      <td>8.9</td>\n",
       "      <td>6</td>\n",
       "      <td>white</td>\n",
       "      <td>medium</td>\n",
       "      <td>0</td>\n",
       "      <td>1</td>\n",
       "    </tr>\n",
       "  </tbody>\n",
       "</table>\n",
       "</div>"
      ],
      "text/plain": [
       "   fixed acidity  volatile acidity  citric acid  residual sugar  chlorides  \\\n",
       "0            7.0              0.17         0.74            12.8      0.045   \n",
       "1            7.7              0.64         0.21             2.2      0.077   \n",
       "2            6.8              0.39         0.34             7.4      0.020   \n",
       "3            6.3              0.28         0.47            11.2      0.040   \n",
       "4            7.4              0.35         0.20            13.9      0.054   \n",
       "\n",
       "   free sulfur dioxide  total sulfur dioxide  density    pH  sulphates  \\\n",
       "0                 24.0                 126.0  0.99420  3.26       0.38   \n",
       "1                 32.0                 133.0  0.99560  3.27       0.45   \n",
       "2                 38.0                 133.0  0.99212  3.18       0.44   \n",
       "3                 61.0                 183.0  0.99592  3.12       0.51   \n",
       "4                 63.0                 229.0  0.99888  3.11       0.50   \n",
       "\n",
       "   alcohol  quality wine_type quality_label  red  white  \n",
       "0     12.2        8     white          high    0      1  \n",
       "1      9.9        5       red           low    1      0  \n",
       "2     12.0        7     white        medium    0      1  \n",
       "3      9.5        6     white        medium    0      1  \n",
       "4      8.9        6     white        medium    0      1  "
      ]
     },
     "execution_count": 14,
     "metadata": {},
     "output_type": "execute_result"
    }
   ],
   "source": [
    "wines.head()"
   ]
  },
  {
   "cell_type": "code",
   "execution_count": 15,
   "metadata": {},
   "outputs": [
    {
     "data": {
      "text/html": [
       "<div>\n",
       "<style scoped>\n",
       "    .dataframe tbody tr th:only-of-type {\n",
       "        vertical-align: middle;\n",
       "    }\n",
       "\n",
       "    .dataframe tbody tr th {\n",
       "        vertical-align: top;\n",
       "    }\n",
       "\n",
       "    .dataframe thead tr th {\n",
       "        text-align: left;\n",
       "    }\n",
       "</style>\n",
       "<table border=\"1\" class=\"dataframe\">\n",
       "  <thead>\n",
       "    <tr>\n",
       "      <th></th>\n",
       "      <th colspan=\"4\" halign=\"left\">Low Quality Wine</th>\n",
       "      <th colspan=\"4\" halign=\"left\">Medium Quality Wine</th>\n",
       "      <th colspan=\"4\" halign=\"left\">High Quality Wine</th>\n",
       "    </tr>\n",
       "    <tr>\n",
       "      <th></th>\n",
       "      <th>alcohol</th>\n",
       "      <th>volatile acidity</th>\n",
       "      <th>pH</th>\n",
       "      <th>quality</th>\n",
       "      <th>alcohol</th>\n",
       "      <th>volatile acidity</th>\n",
       "      <th>pH</th>\n",
       "      <th>quality</th>\n",
       "      <th>alcohol</th>\n",
       "      <th>volatile acidity</th>\n",
       "      <th>pH</th>\n",
       "      <th>quality</th>\n",
       "    </tr>\n",
       "  </thead>\n",
       "  <tbody>\n",
       "    <tr>\n",
       "      <td>count</td>\n",
       "      <td>2384.00</td>\n",
       "      <td>2384.00</td>\n",
       "      <td>2384.00</td>\n",
       "      <td>2384.00</td>\n",
       "      <td>3915.00</td>\n",
       "      <td>3915.00</td>\n",
       "      <td>3915.00</td>\n",
       "      <td>3915.00</td>\n",
       "      <td>198.00</td>\n",
       "      <td>198.00</td>\n",
       "      <td>198.00</td>\n",
       "      <td>198.00</td>\n",
       "    </tr>\n",
       "    <tr>\n",
       "      <td>mean</td>\n",
       "      <td>9.87</td>\n",
       "      <td>0.40</td>\n",
       "      <td>3.21</td>\n",
       "      <td>4.88</td>\n",
       "      <td>10.81</td>\n",
       "      <td>0.31</td>\n",
       "      <td>3.22</td>\n",
       "      <td>6.28</td>\n",
       "      <td>11.69</td>\n",
       "      <td>0.29</td>\n",
       "      <td>3.23</td>\n",
       "      <td>8.03</td>\n",
       "    </tr>\n",
       "    <tr>\n",
       "      <td>std</td>\n",
       "      <td>0.84</td>\n",
       "      <td>0.19</td>\n",
       "      <td>0.16</td>\n",
       "      <td>0.36</td>\n",
       "      <td>1.20</td>\n",
       "      <td>0.14</td>\n",
       "      <td>0.16</td>\n",
       "      <td>0.45</td>\n",
       "      <td>1.27</td>\n",
       "      <td>0.12</td>\n",
       "      <td>0.16</td>\n",
       "      <td>0.16</td>\n",
       "    </tr>\n",
       "    <tr>\n",
       "      <td>min</td>\n",
       "      <td>8.00</td>\n",
       "      <td>0.10</td>\n",
       "      <td>2.74</td>\n",
       "      <td>3.00</td>\n",
       "      <td>8.40</td>\n",
       "      <td>0.08</td>\n",
       "      <td>2.72</td>\n",
       "      <td>6.00</td>\n",
       "      <td>8.50</td>\n",
       "      <td>0.12</td>\n",
       "      <td>2.88</td>\n",
       "      <td>8.00</td>\n",
       "    </tr>\n",
       "    <tr>\n",
       "      <td>25%</td>\n",
       "      <td>9.30</td>\n",
       "      <td>0.26</td>\n",
       "      <td>3.11</td>\n",
       "      <td>5.00</td>\n",
       "      <td>9.80</td>\n",
       "      <td>0.21</td>\n",
       "      <td>3.11</td>\n",
       "      <td>6.00</td>\n",
       "      <td>11.00</td>\n",
       "      <td>0.21</td>\n",
       "      <td>3.13</td>\n",
       "      <td>8.00</td>\n",
       "    </tr>\n",
       "    <tr>\n",
       "      <td>50%</td>\n",
       "      <td>9.60</td>\n",
       "      <td>0.34</td>\n",
       "      <td>3.20</td>\n",
       "      <td>5.00</td>\n",
       "      <td>10.80</td>\n",
       "      <td>0.27</td>\n",
       "      <td>3.21</td>\n",
       "      <td>6.00</td>\n",
       "      <td>12.00</td>\n",
       "      <td>0.28</td>\n",
       "      <td>3.23</td>\n",
       "      <td>8.00</td>\n",
       "    </tr>\n",
       "    <tr>\n",
       "      <td>75%</td>\n",
       "      <td>10.40</td>\n",
       "      <td>0.50</td>\n",
       "      <td>3.31</td>\n",
       "      <td>5.00</td>\n",
       "      <td>11.70</td>\n",
       "      <td>0.36</td>\n",
       "      <td>3.33</td>\n",
       "      <td>7.00</td>\n",
       "      <td>12.60</td>\n",
       "      <td>0.35</td>\n",
       "      <td>3.33</td>\n",
       "      <td>8.00</td>\n",
       "    </tr>\n",
       "    <tr>\n",
       "      <td>max</td>\n",
       "      <td>14.90</td>\n",
       "      <td>1.58</td>\n",
       "      <td>3.90</td>\n",
       "      <td>5.00</td>\n",
       "      <td>14.20</td>\n",
       "      <td>1.04</td>\n",
       "      <td>4.01</td>\n",
       "      <td>7.00</td>\n",
       "      <td>14.00</td>\n",
       "      <td>0.85</td>\n",
       "      <td>3.72</td>\n",
       "      <td>9.00</td>\n",
       "    </tr>\n",
       "  </tbody>\n",
       "</table>\n",
       "</div>"
      ],
      "text/plain": [
       "      Low Quality Wine                                    Medium Quality Wine  \\\n",
       "               alcohol volatile acidity       pH  quality             alcohol   \n",
       "count          2384.00          2384.00  2384.00  2384.00             3915.00   \n",
       "mean              9.87             0.40     3.21     4.88               10.81   \n",
       "std               0.84             0.19     0.16     0.36                1.20   \n",
       "min               8.00             0.10     2.74     3.00                8.40   \n",
       "25%               9.30             0.26     3.11     5.00                9.80   \n",
       "50%               9.60             0.34     3.20     5.00               10.80   \n",
       "75%              10.40             0.50     3.31     5.00               11.70   \n",
       "max              14.90             1.58     3.90     5.00               14.20   \n",
       "\n",
       "                                         High Quality Wine                   \\\n",
       "      volatile acidity       pH  quality           alcohol volatile acidity   \n",
       "count          3915.00  3915.00  3915.00            198.00           198.00   \n",
       "mean              0.31     3.22     6.28             11.69             0.29   \n",
       "std               0.14     0.16     0.45              1.27             0.12   \n",
       "min               0.08     2.72     6.00              8.50             0.12   \n",
       "25%               0.21     3.11     6.00             11.00             0.21   \n",
       "50%               0.27     3.21     6.00             12.00             0.28   \n",
       "75%               0.36     3.33     7.00             12.60             0.35   \n",
       "max               1.04     4.01     7.00             14.00             0.85   \n",
       "\n",
       "                       \n",
       "           pH quality  \n",
       "count  198.00  198.00  \n",
       "mean     3.23    8.03  \n",
       "std      0.16    0.16  \n",
       "min      2.88    8.00  \n",
       "25%      3.13    8.00  \n",
       "50%      3.23    8.00  \n",
       "75%      3.33    8.00  \n",
       "max      3.72    9.00  "
      ]
     },
     "execution_count": 15,
     "metadata": {},
     "output_type": "execute_result"
    }
   ],
   "source": [
    "subset_attributes = ['alcohol', 'volatile acidity', 'pH', 'quality']\n",
    "ls = round(wines[wines['quality_label'] == 'low'][subset_attributes].describe(),2)\n",
    "ms = round(wines[wines['quality_label'] == 'medium'][subset_attributes].describe(),2)\n",
    "hs = round(wines[wines['quality_label'] == 'high'][subset_attributes].describe(),2)\n",
    "pd.concat([ls, ms, hs], axis=1, keys=['Low Quality Wine', 'Medium Quality Wine', 'High Quality Wine'])"
   ]
  },
  {
   "cell_type": "markdown",
   "metadata": {},
   "source": [
    "## Predicting Wine Quality"
   ]
  },
  {
   "cell_type": "markdown",
   "metadata": {},
   "source": [
    "### Linear Regression \n",
    "\n",
    "\n",
    "## <span style=\"color:cornflowerblue\">Exercise 1:</span>\n",
    "\n",
    "Wine quality prediction can be structured as a regression problem where the quantitative variable \"quality\" is the  target to be predicted. Use code below to split data into train with 70% and test with 30% of the data. Then build a linear regression model to predict wine quality"
   ]
  },
  {
   "cell_type": "code",
   "execution_count": 16,
   "metadata": {},
   "outputs": [],
   "source": [
    "X = wines.drop(['quality', 'wine_type', 'quality_label'], axis=1)\n",
    "y = wines['quality']\n",
    "\n",
    "wqp_train_X, wqp_test_X, wqp_train_y, wqp_test_y = train_test_split(X, y, \n",
    "                                                                    test_size=0.3, random_state=42)\n"
   ]
  },
  {
   "cell_type": "code",
   "execution_count": 18,
   "metadata": {},
   "outputs": [],
   "source": [
    "#output predictions\n",
    "#wqp_test_y_pred"
   ]
  },
  {
   "cell_type": "code",
   "execution_count": 20,
   "metadata": {},
   "outputs": [],
   "source": [
    "# The coefficients\n",
    "#print('Coefficients: \\n', lm.coef_)\n",
    "\n",
    "# The mean squared error\n",
    "#print(\"Mean squared error: %.2f\" % mean_squared_error(wqp_test_y, wqp_test_y_pred))\n",
    "\n",
    "# Explained variance score: 1 is perfect prediction\n",
    "#print('Variance score: %.2f' % r2_score(wqp_test_y, wqp_test_y_pred))"
   ]
  },
  {
   "cell_type": "markdown",
   "metadata": {},
   "source": [
    "### Logistic Regression Classifier\n",
    "\n",
    "\n",
    "## <span style=\"color:cornflowerblue\">Exercise 2:</span>\n",
    "\n",
    "1) Wine quality prediction can be structured as a classification problem where the categorical variable \"quality_label\" High/Medium/Low is the target to be predicted. Use code below to split data into train with 70% and test with 30% of the data. Then build a Logistic regression model to predict the wine quality label\n",
    "\n",
    "2) Write a function that fit_predict_score that can take in any multi-class classifier as a parameter and print the accuracy score, plot the confusion matrix and other metrics"
   ]
  },
  {
   "cell_type": "code",
   "execution_count": 15,
   "metadata": {},
   "outputs": [
    {
     "name": "stdout",
     "output_type": "stream",
     "text": [
      "Counter({'medium': 2737, 'low': 1666, 'high': 144}) Counter({'medium': 1178, 'low': 718, 'high': 54})\n",
      "Features: ['fixed acidity', 'volatile acidity', 'citric acid', 'residual sugar', 'chlorides', 'free sulfur dioxide', 'total sulfur dioxide', 'density', 'pH', 'sulphates', 'alcohol']\n"
     ]
    }
   ],
   "source": [
    "wqp_features = wines.iloc[:,:-5]\n",
    "wqp_class_labels = np.array(wines['quality_label'])\n",
    "wqp_label_names = ['low', 'medium', 'high']\n",
    "wqp_feature_names = list(wqp_features.columns)\n",
    "wqp_train_X, wqp_test_X, wqp_train_y, wqp_test_y = train_test_split(wqp_features, wqp_class_labels, \n",
    "                                                                    test_size=0.3, random_state=42)\n",
    "\n",
    "print(Counter(wqp_train_y), Counter(wqp_test_y))\n",
    "print('Features:', wqp_feature_names)"
   ]
  },
  {
   "cell_type": "code",
   "execution_count": 19,
   "metadata": {},
   "outputs": [],
   "source": [
    "# function that generates the model, predicts test data and prints confusion matrix. \n",
    "# fit_predict_score"
   ]
  },
  {
   "cell_type": "code",
   "execution_count": 18,
   "metadata": {},
   "outputs": [
    {
     "name": "stdout",
     "output_type": "stream",
     "text": [
      "LogisticRegression(C=1.0, class_weight=None, dual=False, fit_intercept=True,\n",
      "                   intercept_scaling=1, l1_ratio=None, max_iter=100,\n",
      "                   multi_class='auto', n_jobs=None, penalty='l2',\n",
      "                   random_state=None, solver='lbfgs', tol=0.0001, verbose=0,\n",
      "                   warm_start=False)\n"
     ]
    }
   ],
   "source": [
    "#wqp_lr = LogisticRegression(solver=\"lbfgs\", multi_class=\"auto\")\n",
    "#print(wqp_lr)"
   ]
  },
  {
   "cell_type": "code",
   "execution_count": 19,
   "metadata": {},
   "outputs": [
    {
     "name": "stdout",
     "output_type": "stream",
     "text": [
      "Accuracy Score: 0.718\n",
      "Classification Report: \n",
      "              precision    recall  f1-score   support\n",
      "\n",
      "        high       0.00      0.00      0.00        54\n",
      "         low       0.68      0.58      0.63       718\n",
      "      medium       0.74      0.84      0.78      1178\n",
      "\n",
      "    accuracy                           0.72      1950\n",
      "   macro avg       0.47      0.47      0.47      1950\n",
      "weighted avg       0.70      0.72      0.70      1950\n",
      "\n"
     ]
    },
    {
     "data": {
      "image/png": "[encoded data removed]",
      "text/plain": [
       "<Figure size 432x288 with 1 Axes>"
      ]
     },
     "metadata": {
      "needs_background": "light"
     },
     "output_type": "display_data"
    }
   ],
   "source": [
    "#fit_predict_score(\"Logistic Regression\", wqp_lr, wqp_train_SX, wqp_train_y, wqp_test_SX, wqp_test_y)"
   ]
  },
  {
   "cell_type": "code",
   "execution_count": 20,
   "metadata": {},
   "outputs": [
    {
     "name": "stdout",
     "output_type": "stream",
     "text": [
      "Intercept:\n",
      " [-2.23876911  0.76544336  1.47332574]\n",
      "Coefficient:\n",
      " [[ 0.33344207 -0.28445686  0.02134858  0.79805168 -0.08496491  0.3295359\n",
      "  -0.274384   -0.7275118   0.27761447  0.1528201   0.62861911]\n",
      " [-0.20504896  0.52251909  0.05106597 -0.56540798  0.05320671 -0.31453841\n",
      "   0.34685416  0.38548903 -0.16710914 -0.21646803 -0.85558205]\n",
      " [-0.12839312 -0.23806223 -0.07241455 -0.2326437   0.03175821 -0.01499749\n",
      "  -0.07247016  0.34202277 -0.11050533  0.06364793  0.22696294]]\n"
     ]
    }
   ],
   "source": [
    "#the intercept term from the logistic regression is the log odds of our base reference term\n",
    "print(\"Intercept:\\n\", wqp_lr.intercept_)\n",
    "print(\"Coefficient:\\n\", wqp_lr.coef_)"
   ]
  },
  {
   "cell_type": "markdown",
   "metadata": {},
   "source": [
    "### Decision Tree Classifier"
   ]
  },
  {
   "cell_type": "code",
   "execution_count": 21,
   "metadata": {},
   "outputs": [],
   "source": [
    "#wqp_dt = DecisionTreeClassifier()"
   ]
  },
  {
   "cell_type": "code",
   "execution_count": 22,
   "metadata": {},
   "outputs": [
    {
     "name": "stdout",
     "output_type": "stream",
     "text": [
      "Accuracy Score: 0.722\n",
      "Classification Report: \n",
      "              precision    recall  f1-score   support\n",
      "\n",
      "        high       0.25      0.30      0.27        54\n",
      "         low       0.67      0.69      0.68       718\n",
      "      medium       0.78      0.76      0.77      1178\n",
      "\n",
      "    accuracy                           0.72      1950\n",
      "   macro avg       0.57      0.58      0.57      1950\n",
      "weighted avg       0.72      0.72      0.72      1950\n",
      "\n"
     ]
    },
    {
     "data": {
      "image/png": "[encoded data removed]",
      "text/plain": [
       "<Figure size 432x288 with 1 Axes>"
      ]
     },
     "metadata": {
      "needs_background": "light"
     },
     "output_type": "display_data"
    }
   ],
   "source": [
    "#fit_predict_score(\"DecisionTreeClassifier\", wqp_dt, wqp_train_SX, wqp_train_y, wqp_test_SX, wqp_test_y)"
   ]
  }
 ],
 "metadata": {
  "anaconda-cloud": {},
  "kernelspec": {
   "display_name": "Python 3",
   "language": "python",
   "name": "python3"
  },
  "language_info": {
   "codemirror_mode": {
    "name": "ipython",
    "version": 3
   },
   "file_extension": ".py",
   "mimetype": "text/x-python",
   "name": "python",
   "nbconvert_exporter": "python",
   "pygments_lexer": "ipython3",
   "version": "3.7.4"
  }
 },
 "nbformat": 4,
 "nbformat_minor": 1
}
