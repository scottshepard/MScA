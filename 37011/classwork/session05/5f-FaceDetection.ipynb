{
 "cells": [
  {
   "cell_type": "markdown",
   "metadata": {},
   "source": [
    "#  MSCA 37011 - Deep Learning and Image Recognition\n",
    "\n",
    "## Face Detection using CHOG"
   ]
  },
  {
   "cell_type": "markdown",
   "metadata": {},
   "source": [
    "### C-HOG Algorithm\n",
    "\n",
    "Uses a Linear SVM to detect human faces in images. Click on the link to download the paper: [Histograms of Oriented Gradients for Human Detection by Navneet Dalal and Bill Triggs, CVPR 2005](https://lear.inrialpes.fr/people/triggs/pubs/Dalal-cvpr05.pdf)\n",
    "\n",
    "### Installation \n",
    "May need to download and install CMake: https://cmake.org/download/\n",
    "\n",
    "`conda install dlib` or `pip install dlib`"
   ]
  },
  {
   "cell_type": "code",
   "execution_count": 5,
   "metadata": {},
   "outputs": [],
   "source": [
    "import sys\n",
    "import dlib\n",
    "from skimage import io\n",
    "import matplotlib.pyplot as plt\n",
    "%matplotlib inline"
   ]
  },
  {
   "cell_type": "code",
   "execution_count": 6,
   "metadata": {},
   "outputs": [
    {
     "name": "stdout",
     "output_type": "stream",
     "text": [
      "Processing file: images/faces1.jpg\n",
      "Number of faces detected: 13\n",
      "Detection 0: Left: 265 Top: 110 Right: 301 Bottom: 146\n",
      "Detection 1: Left: 349 Top: 22 Right: 385 Bottom: 58\n",
      "Detection 2: Left: 349 Top: 286 Right: 385 Bottom: 322\n",
      "Detection 3: Left: 173 Top: 106 Right: 209 Bottom: 142\n",
      "Detection 4: Left: 353 Top: 194 Right: 389 Bottom: 230\n",
      "Detection 5: Left: 177 Top: 282 Right: 213 Bottom: 318\n",
      "Detection 6: Left: 261 Top: 190 Right: 297 Bottom: 226\n",
      "Detection 7: Left: 437 Top: 22 Right: 473 Bottom: 58\n",
      "Detection 8: Left: 353 Top: 106 Right: 389 Bottom: 142\n",
      "Detection 9: Left: 441 Top: 106 Right: 477 Bottom: 142\n",
      "Detection 10: Left: 437 Top: 190 Right: 473 Bottom: 226\n",
      "Detection 11: Left: 177 Top: 18 Right: 213 Bottom: 54\n",
      "Detection 12: Left: 261 Top: 14 Right: 297 Bottom: 50\n",
      "Detection [(265, 110) (301, 146)], score: 1.7313544144473516, face_type:3\n",
      "Detection [(349, 22) (385, 58)], score: 1.214911762668025, face_type:0\n",
      "Detection [(349, 286) (385, 322)], score: 1.0697940029634352, face_type:0\n",
      "Detection [(173, 106) (209, 142)], score: 0.991983238650691, face_type:0\n",
      "Detection [(353, 194) (389, 230)], score: 0.5735536255372877, face_type:0\n",
      "Detection [(177, 282) (213, 318)], score: 0.49166447301043226, face_type:0\n",
      "Detection [(261, 190) (297, 226)], score: 0.4829388298524733, face_type:0\n",
      "Detection [(437, 22) (473, 58)], score: 0.3523109592927809, face_type:0\n",
      "Detection [(353, 106) (389, 142)], score: 0.34426194806231214, face_type:0\n",
      "Detection [(441, 106) (477, 142)], score: 0.1613476910127516, face_type:0\n",
      "Detection [(437, 190) (473, 226)], score: 0.160174910022151, face_type:0\n",
      "Detection [(177, 18) (213, 54)], score: 0.07751161236895276, face_type:0\n",
      "Detection [(261, 14) (297, 50)], score: 0.07125074048174573, face_type:0\n"
     ]
    }
   ],
   "source": [
    "detector = dlib.get_frontal_face_detector()\n",
    "win = dlib.image_window()\n",
    "files = [\"images/faces1.jpg\"]\n",
    "\n",
    "for f in files:\n",
    "    print(\"Processing file: {}\".format(f))\n",
    "    img = io.imread(f)\n",
    "    # The 1 in the second argument indicates that we should upsample the image 1 time.\n",
    "    # This will make everything bigger and allow us to detect more faces.\n",
    "    dets = detector(img, 1)\n",
    "    print(\"Number of faces detected: {}\".format(len(dets)))\n",
    "    for i, d in enumerate(dets):\n",
    "        print(\"Detection {}: Left: {} Top: {} Right: {} Bottom: {}\".format(\n",
    "            i, d.left(), d.top(), d.right(), d.bottom()))\n",
    "\n",
    "    win.clear_overlay()\n",
    "    win.set_image(img)\n",
    "    win.add_overlay(dets)\n",
    "    dlib.hit_enter_to_continue()\n",
    "\n",
    "\n",
    "# Score for each detection.  The score is bigger for more confident detections.\n",
    "# Also, the idx tells you which of the face sub-detectors matched.  This can be\n",
    "# used to broadly identify faces in different orientations.\n",
    "if (len(files) > 0):\n",
    "    img = io.imread(files[0])\n",
    "    dets, scores, idx = detector.run(img, 1)\n",
    "    for i, d in enumerate(dets):\n",
    "        print(\"Detection {}, score: {}, face_type:{}\".format(\n",
    "            d, scores[i], idx[i]))"
   ]
  }
 ],
 "metadata": {
  "kernelspec": {
   "display_name": "Python 3",
   "language": "python",
   "name": "python3"
  },
  "language_info": {
   "codemirror_mode": {
    "name": "ipython",
    "version": 3
   },
   "file_extension": ".py",
   "mimetype": "text/x-python",
   "name": "python",
   "nbconvert_exporter": "python",
   "pygments_lexer": "ipython3",
   "version": "3.7.4"
  }
 },
 "nbformat": 4,
 "nbformat_minor": 1
}
