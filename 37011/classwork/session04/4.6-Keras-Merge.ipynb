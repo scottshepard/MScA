{
 "cells": [
  {
   "cell_type": "markdown",
   "metadata": {},
   "source": [
    "# MSCA 37011 - Deep Learning and Image Recognition\n",
    "\n",
    "## Keras Merging Networks\n",
    "\n",
    "The power of a DNN does not only come from its depth but also come from its flexibility of accommodating complex network structures. In this example, both branches of the neworks could be combined with a MERGE layer. There are multiple benefits of such merged DNNs. For instance, the DNN has the flexibility to handle various inputs differently. In addition, new features can be added conveniently without messing around with the existing network structure. "
   ]
  },
  {
   "cell_type": "markdown",
   "metadata": {},
   "source": [
    "\n",
    "<img src=\"https://s3.amazonaws.com/keras.io/img/two_branches_sequential_model.png\" />\n"
   ]
  },
  {
   "cell_type": "code",
   "execution_count": 1,
   "metadata": {},
   "outputs": [
    {
     "name": "stderr",
     "output_type": "stream",
     "text": [
      "Using TensorFlow backend.\n"
     ]
    }
   ],
   "source": [
    "#import keras libraries\n",
    "\n",
    "from keras.layers import concatenate\n",
    "from keras.models import Model\n",
    "from keras.layers import Input\n",
    "from keras.layers.core import Dense\n",
    "from keras.layers.merge import concatenate"
   ]
  },
  {
   "cell_type": "code",
   "execution_count": 2,
   "metadata": {},
   "outputs": [
    {
     "name": "stdout",
     "output_type": "stream",
     "text": [
      "Model: \"model_1\"\n",
      "__________________________________________________________________________________________________\n",
      "Layer (type)                    Output Shape         Param #     Connected to                     \n",
      "==================================================================================================\n",
      "input_1 (InputLayer)            (None, 3)            0                                            \n",
      "__________________________________________________________________________________________________\n",
      "dense_1 (Dense)                 (None, 3)            12          input_1[0][0]                    \n",
      "__________________________________________________________________________________________________\n",
      "dense_4 (Dense)                 (None, 3)            12          input_1[0][0]                    \n",
      "__________________________________________________________________________________________________\n",
      "dense_2 (Dense)                 (None, 2)            8           dense_1[0][0]                    \n",
      "__________________________________________________________________________________________________\n",
      "dense_5 (Dense)                 (None, 4)            16          dense_4[0][0]                    \n",
      "__________________________________________________________________________________________________\n",
      "dense_3 (Dense)                 (None, 2)            6           dense_2[0][0]                    \n",
      "__________________________________________________________________________________________________\n",
      "dense_6 (Dense)                 (None, 3)            15          dense_5[0][0]                    \n",
      "__________________________________________________________________________________________________\n",
      "concatenate_1 (Concatenate)     (None, 5)            0           dense_3[0][0]                    \n",
      "                                                                 dense_6[0][0]                    \n",
      "__________________________________________________________________________________________________\n",
      "dense_7 (Dense)                 (None, 1)            6           concatenate_1[0][0]              \n",
      "==================================================================================================\n",
      "Total params: 75\n",
      "Trainable params: 75\n",
      "Non-trainable params: 0\n",
      "__________________________________________________________________________________________________\n"
     ]
    }
   ],
   "source": [
    "# a single input layer\n",
    "inputs = Input(shape=(3,))\n",
    "\n",
    "# model 1\n",
    "x1 = Dense(3, activation='relu')(inputs)\n",
    "x1 = Dense(2, activation='relu')(x1)\n",
    "x1 = Dense(2, activation='tanh')(x1)\n",
    "\n",
    "# model 2 \n",
    "x2 = Dense(3, activation='linear')(inputs)\n",
    "x2 = Dense(4, activation='tanh')(x2)\n",
    "x2 = Dense(3, activation='tanh')(x2)\n",
    "\n",
    "# merging models\n",
    "x3 = concatenate([x1, x2])\n",
    "\n",
    "# output layer\n",
    "predictions = Dense(1, activation='sigmoid')(x3)\n",
    "\n",
    "# generate a model from the layers above\n",
    "model = Model(inputs=inputs, outputs=predictions)\n",
    "model.compile(optimizer='adam',\n",
    "              loss='binary_crossentropy',\n",
    "              metrics=['accuracy'])\n",
    "\n",
    "# Verify how the network looks\n",
    "model.summary()"
   ]
  },
  {
   "cell_type": "markdown",
   "metadata": {},
   "source": [
    "### Visualize the network"
   ]
  },
  {
   "cell_type": "code",
   "execution_count": 12,
   "metadata": {},
   "outputs": [
    {
     "data": {
      "image/svg+xml": [
       "<svg height=\"547pt\" viewBox=\"0.00 0.00 234.00 410.00\" width=\"312pt\" xmlns=\"http://www.w3.org/2000/svg\" xmlns:xlink=\"http://www.w3.org/1999/xlink\">\n",
       "<g class=\"graph\" id=\"graph0\" transform=\"scale(1.33333 1.33333) rotate(0) translate(4 406)\">\n",
       "<title>G</title>\n",
       "<polygon fill=\"white\" points=\"-4,4 -4,-406 230,-406 230,4 -4,4\" stroke=\"none\"/>\n",
       "<!-- 1958688126664 -->\n",
       "<g class=\"node\" id=\"node1\"><title>1958688126664</title>\n",
       "<polygon fill=\"none\" points=\"50,-365.5 50,-401.5 176,-401.5 176,-365.5 50,-365.5\" stroke=\"black\"/>\n",
       "<text font-family=\"Times New Roman,serif\" font-size=\"14.00\" text-anchor=\"middle\" x=\"113\" y=\"-379.8\">input_1: InputLayer</text>\n",
       "</g>\n",
       "<!-- 1958688126600 -->\n",
       "<g class=\"node\" id=\"node2\"><title>1958688126600</title>\n",
       "<polygon fill=\"none\" points=\"0,-292.5 0,-328.5 104,-328.5 104,-292.5 0,-292.5\" stroke=\"black\"/>\n",
       "<text font-family=\"Times New Roman,serif\" font-size=\"14.00\" text-anchor=\"middle\" x=\"52\" y=\"-306.8\">dense_1: Dense</text>\n",
       "</g>\n",
       "<!-- 1958688126664&#45;&gt;1958688126600 -->\n",
       "<g class=\"edge\" id=\"edge1\"><title>1958688126664-&gt;1958688126600</title>\n",
       "<path d=\"M98.2336,-365.313C90.7409,-356.592 81.5036,-345.84 73.2606,-336.246\" fill=\"none\" stroke=\"black\"/>\n",
       "<polygon fill=\"black\" points=\"75.8019,-333.833 66.6304,-328.529 70.4924,-338.395 75.8019,-333.833\" stroke=\"black\"/>\n",
       "</g>\n",
       "<!-- 1958688161544 -->\n",
       "<g class=\"node\" id=\"node3\"><title>1958688161544</title>\n",
       "<polygon fill=\"none\" points=\"122,-292.5 122,-328.5 226,-328.5 226,-292.5 122,-292.5\" stroke=\"black\"/>\n",
       "<text font-family=\"Times New Roman,serif\" font-size=\"14.00\" text-anchor=\"middle\" x=\"174\" y=\"-306.8\">dense_4: Dense</text>\n",
       "</g>\n",
       "<!-- 1958688126664&#45;&gt;1958688161544 -->\n",
       "<g class=\"edge\" id=\"edge2\"><title>1958688126664-&gt;1958688161544</title>\n",
       "<path d=\"M127.766,-365.313C135.259,-356.592 144.496,-345.84 152.739,-336.246\" fill=\"none\" stroke=\"black\"/>\n",
       "<polygon fill=\"black\" points=\"155.508,-338.395 159.37,-328.529 150.198,-333.833 155.508,-338.395\" stroke=\"black\"/>\n",
       "</g>\n",
       "<!-- 1958688157960 -->\n",
       "<g class=\"node\" id=\"node4\"><title>1958688157960</title>\n",
       "<polygon fill=\"none\" points=\"0,-219.5 0,-255.5 104,-255.5 104,-219.5 0,-219.5\" stroke=\"black\"/>\n",
       "<text font-family=\"Times New Roman,serif\" font-size=\"14.00\" text-anchor=\"middle\" x=\"52\" y=\"-233.8\">dense_2: Dense</text>\n",
       "</g>\n",
       "<!-- 1958688126600&#45;&gt;1958688157960 -->\n",
       "<g class=\"edge\" id=\"edge3\"><title>1958688126600-&gt;1958688157960</title>\n",
       "<path d=\"M52,-292.313C52,-284.289 52,-274.547 52,-265.569\" fill=\"none\" stroke=\"black\"/>\n",
       "<polygon fill=\"black\" points=\"55.5001,-265.529 52,-255.529 48.5001,-265.529 55.5001,-265.529\" stroke=\"black\"/>\n",
       "</g>\n",
       "<!-- 1958688360008 -->\n",
       "<g class=\"node\" id=\"node5\"><title>1958688360008</title>\n",
       "<polygon fill=\"none\" points=\"122,-219.5 122,-255.5 226,-255.5 226,-219.5 122,-219.5\" stroke=\"black\"/>\n",
       "<text font-family=\"Times New Roman,serif\" font-size=\"14.00\" text-anchor=\"middle\" x=\"174\" y=\"-233.8\">dense_5: Dense</text>\n",
       "</g>\n",
       "<!-- 1958688161544&#45;&gt;1958688360008 -->\n",
       "<g class=\"edge\" id=\"edge4\"><title>1958688161544-&gt;1958688360008</title>\n",
       "<path d=\"M174,-292.313C174,-284.289 174,-274.547 174,-265.569\" fill=\"none\" stroke=\"black\"/>\n",
       "<polygon fill=\"black\" points=\"177.5,-265.529 174,-255.529 170.5,-265.529 177.5,-265.529\" stroke=\"black\"/>\n",
       "</g>\n",
       "<!-- 1958688161352 -->\n",
       "<g class=\"node\" id=\"node6\"><title>1958688161352</title>\n",
       "<polygon fill=\"none\" points=\"0,-146.5 0,-182.5 104,-182.5 104,-146.5 0,-146.5\" stroke=\"black\"/>\n",
       "<text font-family=\"Times New Roman,serif\" font-size=\"14.00\" text-anchor=\"middle\" x=\"52\" y=\"-160.8\">dense_3: Dense</text>\n",
       "</g>\n",
       "<!-- 1958688157960&#45;&gt;1958688161352 -->\n",
       "<g class=\"edge\" id=\"edge5\"><title>1958688157960-&gt;1958688161352</title>\n",
       "<path d=\"M52,-219.313C52,-211.289 52,-201.547 52,-192.569\" fill=\"none\" stroke=\"black\"/>\n",
       "<polygon fill=\"black\" points=\"55.5001,-192.529 52,-182.529 48.5001,-192.529 55.5001,-192.529\" stroke=\"black\"/>\n",
       "</g>\n",
       "<!-- 1958689575368 -->\n",
       "<g class=\"node\" id=\"node7\"><title>1958689575368</title>\n",
       "<polygon fill=\"none\" points=\"122,-146.5 122,-182.5 226,-182.5 226,-146.5 122,-146.5\" stroke=\"black\"/>\n",
       "<text font-family=\"Times New Roman,serif\" font-size=\"14.00\" text-anchor=\"middle\" x=\"174\" y=\"-160.8\">dense_6: Dense</text>\n",
       "</g>\n",
       "<!-- 1958688360008&#45;&gt;1958689575368 -->\n",
       "<g class=\"edge\" id=\"edge6\"><title>1958688360008-&gt;1958689575368</title>\n",
       "<path d=\"M174,-219.313C174,-211.289 174,-201.547 174,-192.569\" fill=\"none\" stroke=\"black\"/>\n",
       "<polygon fill=\"black\" points=\"177.5,-192.529 174,-182.529 170.5,-192.529 177.5,-192.529\" stroke=\"black\"/>\n",
       "</g>\n",
       "<!-- 1958689658632 -->\n",
       "<g class=\"node\" id=\"node8\"><title>1958689658632</title>\n",
       "<polygon fill=\"none\" points=\"26.5,-73.5 26.5,-109.5 199.5,-109.5 199.5,-73.5 26.5,-73.5\" stroke=\"black\"/>\n",
       "<text font-family=\"Times New Roman,serif\" font-size=\"14.00\" text-anchor=\"middle\" x=\"113\" y=\"-87.8\">concatenate_1: Concatenate</text>\n",
       "</g>\n",
       "<!-- 1958688161352&#45;&gt;1958689658632 -->\n",
       "<g class=\"edge\" id=\"edge7\"><title>1958688161352-&gt;1958689658632</title>\n",
       "<path d=\"M66.7664,-146.313C74.2591,-137.592 83.4964,-126.84 91.7394,-117.246\" fill=\"none\" stroke=\"black\"/>\n",
       "<polygon fill=\"black\" points=\"94.5076,-119.395 98.3696,-109.529 89.1981,-114.833 94.5076,-119.395\" stroke=\"black\"/>\n",
       "</g>\n",
       "<!-- 1958689575368&#45;&gt;1958689658632 -->\n",
       "<g class=\"edge\" id=\"edge8\"><title>1958689575368-&gt;1958689658632</title>\n",
       "<path d=\"M159.234,-146.313C151.741,-137.592 142.504,-126.84 134.261,-117.246\" fill=\"none\" stroke=\"black\"/>\n",
       "<polygon fill=\"black\" points=\"136.802,-114.833 127.63,-109.529 131.492,-119.395 136.802,-114.833\" stroke=\"black\"/>\n",
       "</g>\n",
       "<!-- 1958689735368 -->\n",
       "<g class=\"node\" id=\"node9\"><title>1958689735368</title>\n",
       "<polygon fill=\"none\" points=\"61,-0.5 61,-36.5 165,-36.5 165,-0.5 61,-0.5\" stroke=\"black\"/>\n",
       "<text font-family=\"Times New Roman,serif\" font-size=\"14.00\" text-anchor=\"middle\" x=\"113\" y=\"-14.8\">dense_7: Dense</text>\n",
       "</g>\n",
       "<!-- 1958689658632&#45;&gt;1958689735368 -->\n",
       "<g class=\"edge\" id=\"edge9\"><title>1958689658632-&gt;1958689735368</title>\n",
       "<path d=\"M113,-73.3129C113,-65.2895 113,-55.5475 113,-46.5691\" fill=\"none\" stroke=\"black\"/>\n",
       "<polygon fill=\"black\" points=\"116.5,-46.5288 113,-36.5288 109.5,-46.5289 116.5,-46.5288\" stroke=\"black\"/>\n",
       "</g>\n",
       "</g>\n",
       "</svg>"
      ],
      "text/plain": [
       "<IPython.core.display.SVG object>"
      ]
     },
     "execution_count": 12,
     "metadata": {},
     "output_type": "execute_result"
    }
   ],
   "source": [
    "import pydotplus as pyd\n",
    "from IPython.display import SVG\n",
    "import keras\n",
    "from keras.utils.vis_utils import model_to_dot\n",
    "keras.utils.vis_utils.pydot = pyd\n",
    "\n",
    "SVG(model_to_dot(model).create(prog='dot', format='svg'))"
   ]
  },
  {
   "cell_type": "code",
   "execution_count": null,
   "metadata": {},
   "outputs": [],
   "source": []
  }
 ],
 "metadata": {
  "kernelspec": {
   "display_name": "Python 3",
   "language": "python",
   "name": "python3"
  },
  "language_info": {
   "codemirror_mode": {
    "name": "ipython",
    "version": 3
   },
   "file_extension": ".py",
   "mimetype": "text/x-python",
   "name": "python",
   "nbconvert_exporter": "python",
   "pygments_lexer": "ipython3",
   "version": "3.7.4"
  }
 },
 "nbformat": 4,
 "nbformat_minor": 2
}
