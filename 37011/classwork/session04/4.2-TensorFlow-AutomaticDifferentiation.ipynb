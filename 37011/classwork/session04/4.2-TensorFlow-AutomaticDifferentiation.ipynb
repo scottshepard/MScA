{
 "cells": [
  {
   "cell_type": "markdown",
   "metadata": {},
   "source": [
    "#  Deep Learning and Image Recognition\n",
    "\n",
    "## TensorFlow Automatic Differentiation, Optimization \n",
    "\n",
    "\n",
    "TensorFlow provides functions to compute the derivatives for a given TensorFlow computation graph, adding operations to the graph. The optimizer classes automatically compute derivatives on your graph, but creators of new Optimizers or expert users can call the lower-level functions below."
   ]
  },
  {
   "cell_type": "code",
   "execution_count": 1,
   "metadata": {},
   "outputs": [
    {
     "name": "stderr",
     "output_type": "stream",
     "text": [
      "Using TensorFlow backend.\n"
     ]
    }
   ],
   "source": [
    "from datetime import datetime\n",
    "import tensorflow as tf\n",
    "import keras "
   ]
  },
  {
   "cell_type": "markdown",
   "metadata": {},
   "source": [
    "### Gradient Computation\n",
    "\n",
    "In order to compute gradient of function with respect to a variable you have to define both. Also you have to specify value at which you want to compute the gradient. "
   ]
  },
  {
   "cell_type": "code",
   "execution_count": 2,
   "metadata": {},
   "outputs": [
    {
     "name": "stdout",
     "output_type": "stream",
     "text": [
      "tf.Tensor(10.0, shape=(), dtype=float32)\n"
     ]
    }
   ],
   "source": [
    "x = tf.Variable(5.0)\n",
    "\n",
    "#compute gradient of y=x**2\n",
    "with tf.GradientTape() as tape:\n",
    "    y = x * x\n",
    "\n",
    "grad = tape.gradient(y, x)\n",
    "print(grad)"
   ]
  },
  {
   "cell_type": "code",
   "execution_count": 3,
   "metadata": {},
   "outputs": [
    {
     "name": "stdout",
     "output_type": "stream",
     "text": [
      "tf.Tensor([[10.      20.      30.46464]], shape=(1, 3), dtype=float32)\n"
     ]
    }
   ],
   "source": [
    "x = tf.Variable([[5.0, 10, 15.23232]])\n",
    "\n",
    "#compute gradient of y=x**2\n",
    "with tf.GradientTape() as tape:\n",
    "    y = x * x\n",
    "\n",
    "grad = tape.gradient(y, x)\n",
    "print(grad)"
   ]
  },
  {
   "cell_type": "code",
   "execution_count": 4,
   "metadata": {},
   "outputs": [
    {
     "name": "stdout",
     "output_type": "stream",
     "text": [
      "tf.Tensor(7.0, shape=(), dtype=float32)\n"
     ]
    }
   ],
   "source": [
    "x = tf.Variable(3.0)\n",
    "\n",
    "#compute gradient of y=x**2+x+1 with respect to x at 3\n",
    "with tf.GradientTape() as tape:\n",
    "    y = x**2 + x - 1\n",
    "\n",
    "grad = tape.gradient(y, x)\n",
    "print(grad) "
   ]
  },
  {
   "cell_type": "markdown",
   "metadata": {},
   "source": [
    "### Optimization\n",
    "\n",
    "TensorFlow uses reverse mode automatic differentiation for it's gradients operation and finite difference method for tests that check validity of gradient operation\n",
    "\n",
    "Optimize the following:  $min (x + 1)^2$\n",
    "\n",
    "$\\frac{d}{dx} (x+1)^2 = 2*(x+1)$"
   ]
  },
  {
   "cell_type": "code",
   "execution_count": 23,
   "metadata": {},
   "outputs": [],
   "source": [
    "#Visualize the Compute Graph using TensorBoard\n",
    "\n",
    "logdir=\"/tmp/\" + datetime.now().strftime(\"%Y%m%d-%H%M%S\")\n",
    "\n",
    "tensorboard_callback = keras.callbacks.TensorBoard(log_dir=logdir)"
   ]
  },
  {
   "cell_type": "code",
   "execution_count": 24,
   "metadata": {},
   "outputs": [
    {
     "name": "stdout",
     "output_type": "stream",
     "text": [
      "Epoch : 0 [3.0, 11.0]\n",
      "Epoch : 1 [2.3, 6.59]\n",
      "Epoch : 2 [1.74, 3.7676]\n",
      "Epoch : 3 [1.292, 1.9612641]\n",
      "Epoch : 4 [0.93360007, 0.80520916]\n",
      "Epoch : 5 [0.64688003, 0.06533384]\n",
      "Epoch : 6 [0.417504, -0.40818638]\n",
      "Epoch : 7 [0.2340032, -0.71123934]\n",
      "Epoch : 8 [0.087202564, -0.90519315]\n",
      "Epoch : 9 [-0.03023795, -1.0293236]\n",
      "Epoch : 10 [-0.12419036, -1.1087672]\n",
      "Epoch : 11 [-0.1993523, -1.159611]\n",
      "Epoch : 12 [-0.25948185, -1.1921511]\n",
      "Epoch : 13 [-0.30758548, -1.2129767]\n",
      "Epoch : 14 [-0.34606838, -1.226305]\n",
      "Epoch : 15 [-0.37685472, -1.2348353]\n",
      "Epoch : 16 [-0.40148377, -1.2402946]\n",
      "Epoch : 17 [-0.421187, -1.2437885]\n",
      "Epoch : 18 [-0.4369496, -1.2460246]\n",
      "Epoch : 19 [-0.4495597, -1.2474558]\n",
      "Epoch : 20 [-0.45964774, -1.2483717]\n",
      "Epoch : 21 [-0.46771818, -1.2489579]\n",
      "Epoch : 22 [-0.47417456, -1.249333]\n",
      "Epoch : 23 [-0.47933966, -1.2495731]\n",
      "Epoch : 24 [-0.48347172, -1.2497268]\n",
      "Epoch : 25 [-0.48677737, -1.2498251]\n",
      "Epoch : 26 [-0.4894219, -1.2498881]\n",
      "Epoch : 27 [-0.4915375, -1.2499284]\n",
      "Epoch : 28 [-0.49323002, -1.2499542]\n",
      "Epoch : 29 [-0.49458402, -1.2499707]\n"
     ]
    }
   ],
   "source": [
    "from tensorflow.python.training import gradient_descent\n",
    "\n",
    "x = tf.Variable(3.0, trainable=True)\n",
    "\n",
    "epochs = 30\n",
    "\n",
    "@tf.function\n",
    "def f_x():\n",
    "    return x**2 + x - 1\n",
    "\n",
    "for i in range(epochs):\n",
    "    print(\"Epoch :\", i, [x.numpy(), f_x().numpy()])\n",
    "    opt = gradient_descent.GradientDescentOptimizer(0.1).minimize(f_x)"
   ]
  },
  {
   "cell_type": "markdown",
   "metadata": {},
   "source": [
    "Type the following command from the terminal to start TensorBoard. For Mac, Linux the <b>!</b> mark before the command runs it directly from the notebook\n",
    "\n",
    "<code>tensorboard --logdir=/logs/</code>"
   ]
  },
  {
   "cell_type": "code",
   "execution_count": null,
   "metadata": {},
   "outputs": [],
   "source": [
    "#!tensorboard --logdir=/logs/tensorflow_logs "
   ]
  }
 ],
 "metadata": {
  "kernelspec": {
   "display_name": "Python 3",
   "language": "python",
   "name": "python3"
  },
  "language_info": {
   "codemirror_mode": {
    "name": "ipython",
    "version": 3
   },
   "file_extension": ".py",
   "mimetype": "text/x-python",
   "name": "python",
   "nbconvert_exporter": "python",
   "pygments_lexer": "ipython3",
   "version": "3.7.4"
  }
 },
 "nbformat": 4,
 "nbformat_minor": 1
}
