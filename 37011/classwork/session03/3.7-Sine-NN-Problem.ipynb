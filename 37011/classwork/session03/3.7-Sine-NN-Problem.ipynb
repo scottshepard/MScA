{
 "cells": [
  {
   "cell_type": "markdown",
   "metadata": {},
   "source": [
    "#  MSCA 37011 - Deep Learning and Image Recognition\n",
    "## Sine function using Neural Networks"
   ]
  },
  {
   "cell_type": "code",
   "execution_count": 27,
   "metadata": {
    "ExecuteTime": {
     "end_time": "2016-05-27T07:53:13.969789",
     "start_time": "2016-05-27T07:53:11.381960"
    }
   },
   "outputs": [],
   "source": [
    "#import libraries\n",
    "import numpy as np\n",
    "import pandas as pd\n",
    "import seaborn as sns\n",
    "import matplotlib.pyplot as plt\n",
    "from sklearn import linear_model, datasets,metrics\n",
    "%matplotlib inline "
   ]
  },
  {
   "cell_type": "code",
   "execution_count": 2,
   "metadata": {},
   "outputs": [
    {
     "data": {
      "image/png": "[encoded data removed]",
      "text/plain": [
       "<Figure size 432x288 with 1 Axes>"
      ]
     },
     "metadata": {
      "needs_background": "light"
     },
     "output_type": "display_data"
    }
   ],
   "source": [
    "#Generate Sine input and output data\n",
    "N = 1000 # number of data points\n",
    "X = np.linspace(0, 4*np.pi, N, dtype=np.float32)\n",
    "Y = 3.0*np.sin(X+0.001)\n",
    "plt.title('TRAINING SET')\n",
    "plt.scatter(X,Y)\n",
    "plt.show()"
   ]
  },
  {
   "cell_type": "code",
   "execution_count": 3,
   "metadata": {},
   "outputs": [
    {
     "name": "stdout",
     "output_type": "stream",
     "text": [
      "(1000,) (1000,)\n",
      "(1000, 1) (1000,)\n"
     ]
    }
   ],
   "source": [
    "#reshape the input data to a 2D array\n",
    "print (X.shape, Y.shape)\n",
    "X = np.reshape(X, (1000,1))\n",
    "print (X.shape, Y.shape)"
   ]
  },
  {
   "cell_type": "code",
   "execution_count": 4,
   "metadata": {
    "ExecuteTime": {
     "end_time": "2016-05-27T07:53:14.150312",
     "start_time": "2016-05-27T07:53:14.129809"
    }
   },
   "outputs": [
    {
     "name": "stdout",
     "output_type": "stream",
     "text": [
      "(900, 1) (900,)\n",
      "(100, 1) (100,)\n"
     ]
    }
   ],
   "source": [
    "from sklearn.model_selection import train_test_split\n",
    "X_train, X_test, y_train, y_test = train_test_split(X, Y, test_size=0.1, random_state=0)\n",
    "print(X_train.shape, y_train.shape)\n",
    "print(X_test.shape, y_test.shape)"
   ]
  },
  {
   "cell_type": "markdown",
   "metadata": {},
   "source": [
    "### ANN using Keras"
   ]
  },
  {
   "cell_type": "markdown",
   "metadata": {},
   "source": [
    "## <span style=\"color:cornflowerblue\">Exercise:</span>\n",
    "\n",
    "Create a 3 layered NN that learns the Sine function\n",
    "\n",
    "Hint: \n",
    "1. Set a very small learning rate and weight decay\n",
    "2. Use activations: \"Sigmoid\", \"Tanh\", \"Linear\" in the three layers\n",
    "3. Which error function should you use ?\n",
    "\n",
    "Keras layers activation https://keras.io/activations/"
   ]
  },
  {
   "cell_type": "code",
   "execution_count": 5,
   "metadata": {},
   "outputs": [
    {
     "name": "stderr",
     "output_type": "stream",
     "text": [
      "Using TensorFlow backend.\n"
     ]
    }
   ],
   "source": [
    "from keras.models import Sequential\n",
    "from keras.layers.core import Dense, Activation\n",
    "from keras.optimizers import SGD"
   ]
  },
  {
   "cell_type": "code",
   "execution_count": 52,
   "metadata": {},
   "outputs": [],
   "source": [
    "# Define the neural network\n",
    "model =  Sequential()\n",
    "model.add(Dense(5, activation='sigmoid', input_dim=1))\n",
    "model.add(Dense(5, activation='tanh'))\n",
    "model.add(Dense(1, activation='linear'))"
   ]
  },
  {
   "cell_type": "code",
   "execution_count": 53,
   "metadata": {},
   "outputs": [
    {
     "name": "stdout",
     "output_type": "stream",
     "text": [
      "Epoch 1/150\n",
      "900/900 [==============================] - 1s 1ms/step - loss: 4.2744\n",
      "Epoch 2/150\n",
      "900/900 [==============================] - 1s 901us/step - loss: 3.7459\n",
      "Epoch 3/150\n",
      "900/900 [==============================] - 1s 984us/step - loss: 3.5798\n",
      "Epoch 4/150\n",
      "900/900 [==============================] - 1s 844us/step - loss: 3.4518\n",
      "Epoch 5/150\n",
      "900/900 [==============================] - 1s 867us/step - loss: 3.4302\n",
      "Epoch 6/150\n",
      "900/900 [==============================] - 1s 877us/step - loss: 3.3245\n",
      "Epoch 7/150\n",
      "900/900 [==============================] - 1s 984us/step - loss: 3.1806\n",
      "Epoch 8/150\n",
      "900/900 [==============================] - 1s 882us/step - loss: 3.0178\n",
      "Epoch 9/150\n",
      "900/900 [==============================] - 1s 904us/step - loss: 2.8058\n",
      "Epoch 10/150\n",
      "900/900 [==============================] - 1s 875us/step - loss: 2.7671\n",
      "Epoch 11/150\n",
      "900/900 [==============================] - 1s 926us/step - loss: 2.7396\n",
      "Epoch 12/150\n",
      "900/900 [==============================] - 1s 986us/step - loss: 2.6191\n",
      "Epoch 13/150\n",
      "900/900 [==============================] - 1s 918us/step - loss: 2.5125\n",
      "Epoch 14/150\n",
      "900/900 [==============================] - 1s 875us/step - loss: 2.9144\n",
      "Epoch 15/150\n",
      "900/900 [==============================] - 1s 918us/step - loss: 3.3766\n",
      "Epoch 16/150\n",
      "900/900 [==============================] - 1s 1ms/step - loss: 3.4452A: 0s - loss: 3.4\n",
      "Epoch 17/150\n",
      "900/900 [==============================] - 1s 907us/step - loss: 3.4110\n",
      "Epoch 18/150\n",
      "900/900 [==============================] - 1s 905us/step - loss: 3.4015\n",
      "Epoch 19/150\n",
      "900/900 [==============================] - 1s 890us/step - loss: 3.3880\n",
      "Epoch 20/150\n",
      "900/900 [==============================] - 1s 1ms/step - loss: 3.3386\n",
      "Epoch 21/150\n",
      "900/900 [==============================] - 1s 939us/step - loss: 3.3527\n",
      "Epoch 22/150\n",
      "900/900 [==============================] - 1s 904us/step - loss: 3.3292\n",
      "Epoch 23/150\n",
      "900/900 [==============================] - 1s 903us/step - loss: 3.3264\n",
      "Epoch 24/150\n",
      "900/900 [==============================] - 1s 932us/step - loss: 3.2783\n",
      "Epoch 25/150\n",
      "900/900 [==============================] - 1s 1ms/step - loss: 3.1748\n",
      "Epoch 26/150\n",
      "900/900 [==============================] - 1s 898us/step - loss: 3.1585\n",
      "Epoch 27/150\n",
      "900/900 [==============================] - 1s 907us/step - loss: 3.0795\n",
      "Epoch 28/150\n",
      "900/900 [==============================] - 1s 922us/step - loss: 3.3962\n",
      "Epoch 29/150\n",
      "900/900 [==============================] - 1s 1ms/step - loss: 3.3599\n",
      "Epoch 30/150\n",
      "900/900 [==============================] - 1s 926us/step - loss: 3.1988\n",
      "Epoch 31/150\n",
      "900/900 [==============================] - 1s 891us/step - loss: 2.9719\n",
      "Epoch 32/150\n",
      "900/900 [==============================] - 1s 927us/step - loss: 2.8827\n",
      "Epoch 33/150\n",
      "900/900 [==============================] - 1s 1ms/step - loss: 2.8301\n",
      "Epoch 34/150\n",
      "900/900 [==============================] - 1s 957us/step - loss: 2.7476\n",
      "Epoch 35/150\n",
      "900/900 [==============================] - 1s 931us/step - loss: 2.7462\n",
      "Epoch 36/150\n",
      "900/900 [==============================] - 1s 944us/step - loss: 2.6761\n",
      "Epoch 37/150\n",
      "900/900 [==============================] - 1s 957us/step - loss: 2.6560\n",
      "Epoch 38/150\n",
      "900/900 [==============================] - 1s 991us/step - loss: 2.5952\n",
      "Epoch 39/150\n",
      "900/900 [==============================] - 1s 922us/step - loss: 2.6074\n",
      "Epoch 40/150\n",
      "900/900 [==============================] - 1s 925us/step - loss: 2.6449\n",
      "Epoch 41/150\n",
      "900/900 [==============================] - 1s 919us/step - loss: 2.5945\n",
      "Epoch 42/150\n",
      "900/900 [==============================] - 1s 1ms/step - loss: 2.5279\n",
      "Epoch 43/150\n",
      "900/900 [==============================] - 1s 949us/step - loss: 2.5456\n",
      "Epoch 44/150\n",
      "900/900 [==============================] - 1s 984us/step - loss: 2.6009\n",
      "Epoch 45/150\n",
      "900/900 [==============================] - 1s 910us/step - loss: 2.5632\n",
      "Epoch 46/150\n",
      "900/900 [==============================] - 1s 1ms/step - loss: 2.4930A: 0s - loss: 2\n",
      "Epoch 47/150\n",
      "900/900 [==============================] - 1s 919us/step - loss: 2.5345\n",
      "Epoch 48/150\n",
      "900/900 [==============================] - 1s 932us/step - loss: 2.5149\n",
      "Epoch 49/150\n",
      "900/900 [==============================] - 1s 921us/step - loss: 2.5300\n",
      "Epoch 50/150\n",
      "900/900 [==============================] - 1s 995us/step - loss: 2.4896\n",
      "Epoch 51/150\n",
      "900/900 [==============================] - 1s 988us/step - loss: 2.5792\n",
      "Epoch 52/150\n",
      "900/900 [==============================] - 1s 957us/step - loss: 2.5999\n",
      "Epoch 53/150\n",
      "900/900 [==============================] - 1s 974us/step - loss: 2.4506\n",
      "Epoch 54/150\n",
      "900/900 [==============================] - 1s 920us/step - loss: 2.4624\n",
      "Epoch 55/150\n",
      "900/900 [==============================] - 1s 1ms/step - loss: 2.4830\n",
      "Epoch 56/150\n",
      "900/900 [==============================] - 1s 927us/step - loss: 2.5043\n",
      "Epoch 57/150\n",
      "900/900 [==============================] - 1s 899us/step - loss: 2.5027\n",
      "Epoch 58/150\n",
      "900/900 [==============================] - 1s 931us/step - loss: 2.4762\n",
      "Epoch 59/150\n",
      "900/900 [==============================] - 1s 1ms/step - loss: 2.5081\n",
      "Epoch 60/150\n",
      "900/900 [==============================] - 1s 944us/step - loss: 2.5156\n",
      "Epoch 61/150\n",
      "900/900 [==============================] - 1s 922us/step - loss: 2.4720\n",
      "Epoch 62/150\n",
      "900/900 [==============================] - 1s 921us/step - loss: 2.4860\n",
      "Epoch 63/150\n",
      "900/900 [==============================] - 1s 1ms/step - loss: 2.4626\n",
      "Epoch 64/150\n",
      "900/900 [==============================] - 1s 993us/step - loss: 2.4582\n",
      "Epoch 65/150\n",
      "900/900 [==============================] - 1s 933us/step - loss: 2.4848\n",
      "Epoch 66/150\n",
      "900/900 [==============================] - 1s 923us/step - loss: 2.5254\n",
      "Epoch 67/150\n",
      "900/900 [==============================] - 1s 929us/step - loss: 2.4800\n",
      "Epoch 68/150\n",
      "900/900 [==============================] - 1s 1ms/step - loss: 2.4866\n",
      "Epoch 69/150\n",
      "900/900 [==============================] - 1s 946us/step - loss: 2.4908\n",
      "Epoch 70/150\n",
      "900/900 [==============================] - 1s 913us/step - loss: 2.4960\n",
      "Epoch 71/150\n",
      "900/900 [==============================] - 1s 911us/step - loss: 2.4896\n",
      "Epoch 72/150\n",
      "900/900 [==============================] - 1s 1ms/step - loss: 2.4767\n",
      "Epoch 73/150\n",
      "900/900 [==============================] - 1s 943us/step - loss: 2.4169\n",
      "Epoch 74/150\n",
      "900/900 [==============================] - 1s 943us/step - loss: 2.5653\n",
      "Epoch 75/150\n",
      "900/900 [==============================] - 1s 922us/step - loss: 2.4524\n",
      "Epoch 76/150\n",
      "900/900 [==============================] - 1s 1ms/step - loss: 2.4428\n",
      "Epoch 77/150\n",
      "900/900 [==============================] - 1s 941us/step - loss: 2.4865\n",
      "Epoch 78/150\n",
      "900/900 [==============================] - 1s 938us/step - loss: 2.4500\n",
      "Epoch 79/150\n",
      "900/900 [==============================] - 1s 924us/step - loss: 2.4478\n",
      "Epoch 80/150\n",
      "900/900 [==============================] - 1s 983us/step - loss: 2.4549\n",
      "Epoch 81/150\n",
      "900/900 [==============================] - 1s 1ms/step - loss: 2.4295\n",
      "Epoch 82/150\n",
      "900/900 [==============================] - 1s 932us/step - loss: 2.4057\n",
      "Epoch 83/150\n",
      "900/900 [==============================] - 1s 934us/step - loss: 2.4234\n",
      "Epoch 84/150\n",
      "900/900 [==============================] - 1s 957us/step - loss: 2.5405\n",
      "Epoch 85/150\n",
      "900/900 [==============================] - 1s 1ms/step - loss: 2.4774\n",
      "Epoch 86/150\n",
      "900/900 [==============================] - 1s 1ms/step - loss: 2.4473\n",
      "Epoch 87/150\n",
      "900/900 [==============================] - 1s 923us/step - loss: 2.4852\n",
      "Epoch 88/150\n",
      "900/900 [==============================] - 1s 962us/step - loss: 2.4424\n",
      "Epoch 89/150\n",
      "900/900 [==============================] - 1s 1ms/step - loss: 2.4869\n",
      "Epoch 90/150\n",
      "900/900 [==============================] - 1s 947us/step - loss: 2.4159\n",
      "Epoch 91/150\n",
      "900/900 [==============================] - 1s 976us/step - loss: 2.3915\n",
      "Epoch 92/150\n",
      "900/900 [==============================] - 1s 944us/step - loss: 2.4325\n",
      "Epoch 93/150\n",
      "900/900 [==============================] - 1s 1ms/step - loss: 2.4747\n",
      "Epoch 94/150\n",
      "900/900 [==============================] - 1s 966us/step - loss: 2.4064 0s - los\n",
      "Epoch 95/150\n",
      "900/900 [==============================] - 1s 913us/step - loss: 2.4821\n",
      "Epoch 96/150\n",
      "900/900 [==============================] - 1s 914us/step - loss: 2.5058\n",
      "Epoch 97/150\n"
     ]
    },
    {
     "name": "stdout",
     "output_type": "stream",
     "text": [
      "900/900 [==============================] - 1s 887us/step - loss: 2.4549\n",
      "Epoch 98/150\n",
      "900/900 [==============================] - 1s 928us/step - loss: 2.5106\n",
      "Epoch 99/150\n",
      "900/900 [==============================] - 1s 829us/step - loss: 2.6008\n",
      "Epoch 100/150\n",
      "900/900 [==============================] - 1s 825us/step - loss: 2.6413\n",
      "Epoch 101/150\n",
      "900/900 [==============================] - 1s 831us/step - loss: 2.3874\n",
      "Epoch 102/150\n",
      "900/900 [==============================] - 1s 925us/step - loss: 2.4334\n",
      "Epoch 103/150\n",
      "900/900 [==============================] - 1s 864us/step - loss: 2.9262\n",
      "Epoch 104/150\n",
      "900/900 [==============================] - 1s 835us/step - loss: 2.7066\n",
      "Epoch 105/150\n",
      "900/900 [==============================] - 1s 857us/step - loss: 2.4373\n",
      "Epoch 106/150\n",
      "900/900 [==============================] - 1s 836us/step - loss: 2.4435\n",
      "Epoch 107/150\n",
      "900/900 [==============================] - 1s 1ms/step - loss: 2.6690\n",
      "Epoch 108/150\n",
      "900/900 [==============================] - 1s 1ms/step - loss: 2.5925\n",
      "Epoch 109/150\n",
      "900/900 [==============================] - 1s 1ms/step - loss: 2.5016\n",
      "Epoch 110/150\n",
      "900/900 [==============================] - 1s 1ms/step - loss: 2.6446\n",
      "Epoch 111/150\n",
      "900/900 [==============================] - 1s 1ms/step - loss: 2.6441\n",
      "Epoch 112/150\n",
      "900/900 [==============================] - 2s 2ms/step - loss: 2.6306\n",
      "Epoch 113/150\n",
      "900/900 [==============================] - 1s 912us/step - loss: 2.5193\n",
      "Epoch 114/150\n",
      "900/900 [==============================] - 1s 920us/step - loss: 2.5905\n",
      "Epoch 115/150\n",
      "900/900 [==============================] - 1s 829us/step - loss: 2.4599\n",
      "Epoch 116/150\n",
      "900/900 [==============================] - 1s 840us/step - loss: 2.4884\n",
      "Epoch 117/150\n",
      "900/900 [==============================] - 1s 839us/step - loss: 2.4278\n",
      "Epoch 118/150\n",
      "900/900 [==============================] - 2s 2ms/step - loss: 2.4808\n",
      "Epoch 119/150\n",
      "900/900 [==============================] - 1s 2ms/step - loss: 2.6511\n",
      "Epoch 120/150\n",
      "900/900 [==============================] - 1s 1ms/step - loss: 3.0211\n",
      "Epoch 121/150\n",
      "900/900 [==============================] - 1s 1ms/step - loss: 3.3525A: 0s \n",
      "Epoch 122/150\n",
      "900/900 [==============================] - 1s 1ms/step - loss: 3.0779\n",
      "Epoch 123/150\n",
      "900/900 [==============================] - 1s 1ms/step - loss: 2.8327\n",
      "Epoch 124/150\n",
      "900/900 [==============================] - 1s 1ms/step - loss: 2.7626\n",
      "Epoch 125/150\n",
      "900/900 [==============================] - 1s 939us/step - loss: 2.6699\n",
      "Epoch 126/150\n",
      "900/900 [==============================] - 1s 890us/step - loss: 2.6213\n",
      "Epoch 127/150\n",
      "900/900 [==============================] - 1s 876us/step - loss: 2.5599\n",
      "Epoch 128/150\n",
      "900/900 [==============================] - 1s 832us/step - loss: 2.7676\n",
      "Epoch 129/150\n",
      "900/900 [==============================] - 1s 833us/step - loss: 2.9506\n",
      "Epoch 130/150\n",
      "900/900 [==============================] - 1s 993us/step - loss: 2.5047\n",
      "Epoch 131/150\n",
      "900/900 [==============================] - 1s 892us/step - loss: 2.4712\n",
      "Epoch 132/150\n",
      "900/900 [==============================] - 1s 823us/step - loss: 2.4611\n",
      "Epoch 133/150\n",
      "900/900 [==============================] - 1s 825us/step - loss: 2.3939\n",
      "Epoch 134/150\n",
      "900/900 [==============================] - 1s 835us/step - loss: 2.4635\n",
      "Epoch 135/150\n",
      "900/900 [==============================] - 1s 968us/step - loss: 2.3973\n",
      "Epoch 136/150\n",
      "900/900 [==============================] - 1s 849us/step - loss: 2.4491\n",
      "Epoch 137/150\n",
      "900/900 [==============================] - 1s 867us/step - loss: 2.4557\n",
      "Epoch 138/150\n",
      "900/900 [==============================] - 1s 812us/step - loss: 2.4696\n",
      "Epoch 139/150\n",
      "900/900 [==============================] - 1s 889us/step - loss: 2.4644\n",
      "Epoch 140/150\n",
      "900/900 [==============================] - 1s 888us/step - loss: 2.3791\n",
      "Epoch 141/150\n",
      "900/900 [==============================] - 1s 820us/step - loss: 2.4149\n",
      "Epoch 142/150\n",
      "900/900 [==============================] - 1s 830us/step - loss: 2.3878\n",
      "Epoch 143/150\n",
      "900/900 [==============================] - 1s 828us/step - loss: 2.5095\n",
      "Epoch 144/150\n",
      "900/900 [==============================] - 1s 863us/step - loss: 2.7014\n",
      "Epoch 145/150\n",
      "900/900 [==============================] - 1s 936us/step - loss: 2.6079\n",
      "Epoch 146/150\n",
      "900/900 [==============================] - 1s 822us/step - loss: 2.6289\n",
      "Epoch 147/150\n",
      "900/900 [==============================] - 1s 825us/step - loss: 2.9478\n",
      "Epoch 148/150\n",
      "900/900 [==============================] - 1s 821us/step - loss: 3.1326\n",
      "Epoch 149/150\n",
      "900/900 [==============================] - 1s 914us/step - loss: 2.7095\n",
      "Epoch 150/150\n",
      "900/900 [==============================] - 1s 870us/step - loss: 2.4351\n"
     ]
    }
   ],
   "source": [
    "# Train the neural network\n",
    "model.compile(optimizer='sgd', loss='mean_squared_error')\n",
    "model.fit(X_train, y_train, epochs=150, batch_size=1, verbose=1)\n",
    "predicted = model.predict(X_test)"
   ]
  },
  {
   "cell_type": "code",
   "execution_count": 54,
   "metadata": {},
   "outputs": [
    {
     "data": {
      "image/png": "[encoded data removed]",
      "text/plain": [
       "<Figure size 432x288 with 1 Axes>"
      ]
     },
     "metadata": {
      "needs_background": "light"
     },
     "output_type": "display_data"
    }
   ],
   "source": [
    "plt.title('TEST vs PREDICTED')\n",
    "plt.scatter(X_test.ravel(),y_test)\n",
    "plt.scatter(X_test.ravel(),predicted)\n",
    "plt.show()"
   ]
  },
  {
   "cell_type": "code",
   "execution_count": null,
   "metadata": {},
   "outputs": [],
   "source": []
  }
 ],
 "metadata": {
  "kernelspec": {
   "display_name": "MScA",
   "language": "python",
   "name": "msca"
  },
  "language_info": {
   "codemirror_mode": {
    "name": "ipython",
    "version": 3
   },
   "file_extension": ".py",
   "mimetype": "text/x-python",
   "name": "python",
   "nbconvert_exporter": "python",
   "pygments_lexer": "ipython3",
   "version": "3.7.4"
  },
  "toc": {
   "base_numbering": 1,
   "nav_menu": {},
   "number_sections": true,
   "sideBar": true,
   "skip_h1_title": false,
   "title_cell": "Table of Contents",
   "title_sidebar": "Contents",
   "toc_cell": false,
   "toc_position": {},
   "toc_section_display": true,
   "toc_window_display": false
  }
 },
 "nbformat": 4,
 "nbformat_minor": 1
}
