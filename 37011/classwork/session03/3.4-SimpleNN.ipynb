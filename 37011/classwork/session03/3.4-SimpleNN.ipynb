{
 "cells": [
  {
   "cell_type": "markdown",
   "metadata": {},
   "source": [
    "#  MSCA 37011 - Deep Learning and Image Recognition\n",
    "\n",
    "## Simple NN\n",
    "\n",
    "### A simple 2 layered Neural Network classifier  \n",
    "\n",
    "Source: https://iamtrask.github.io/2015/07/12/basic-python-network/"
   ]
  },
  {
   "cell_type": "markdown",
   "metadata": {
    "collapsed": true
   },
   "source": [
    "\n",
    "<tbody>\n",
    "   <tr>\n",
    "      <th class=\"tg-5rcs\" colspan=\"4\"> Linear Classification</th>\n",
    "   </tr>\n",
    "   <tr>\n",
    "    <th class=\"tg-5rcs\" colspan=\"3\">Inputs</th>\n",
    "    <th class=\"tg-5rcs\">Output</th>\n",
    "  </tr>\n",
    "  <tr>\n",
    "    <td class=\"tg-4kyz\">0</td>\n",
    "    <td class=\"tg-4kyz\">0</td>\n",
    "    <td class=\"tg-4kyz\">1</td>\n",
    "    <td class=\"tg-4kyz\">0</td>\n",
    "  </tr>\n",
    "  <tr>\n",
    "    <td class=\"tg-4kyz\">1</td>\n",
    "    <td class=\"tg-4kyz\">1</td>\n",
    "    <td class=\"tg-4kyz\">1</td>\n",
    "    <td class=\"tg-4kyz\">1</td>\n",
    "  </tr>\n",
    "  <tr>\n",
    "    <td class=\"tg-4kyz\">1</td>\n",
    "    <td class=\"tg-4kyz\">0</td>\n",
    "    <td class=\"tg-4kyz\">1</td>\n",
    "    <td class=\"tg-4kyz\">1</td>\n",
    "  </tr>\n",
    "  <tr>\n",
    "    <td class=\"tg-4kyz\">0</td>\n",
    "    <td class=\"tg-4kyz\">1</td>\n",
    "    <td class=\"tg-4kyz\">1</td>\n",
    "    <td class=\"tg-4kyz\">0</td>\n",
    "  </tr>\n",
    "</tbody>"
   ]
  },
  {
   "cell_type": "code",
   "execution_count": 1,
   "metadata": {},
   "outputs": [
    {
     "data": {
      "text/plain": [
       "array([[-0.16595599],\n",
       "       [ 0.44064899],\n",
       "       [-0.99977125]])"
      ]
     },
     "execution_count": 1,
     "metadata": {},
     "output_type": "execute_result"
    }
   ],
   "source": [
    "import numpy as np\n",
    "\n",
    "# sigmoid function\n",
    "def sigmoid(x):\n",
    "    return 1/(1+np.exp(-x))\n",
    "\n",
    "# derivative\n",
    "def dsigmoid(x):\n",
    "    return x*(1-x)\n",
    "    \n",
    "# input dataset\n",
    "X = np.array([[0,0,1],\n",
    "                [1,1,1],\n",
    "                [1,0,1],\n",
    "                [0,1,1]])\n",
    "    \n",
    "# output dataset            \n",
    "y = np.array([[0,1,1,0]]).T\n",
    "\n",
    "# seed random numbers to make calculation\n",
    "# deterministic (just a good practice)\n",
    "np.random.seed(1)\n",
    "\n",
    "# initialize weights randomly with mean 0\n",
    "\n",
    "#First layer of weights, Synapse 0, connecting l0 to l1.\n",
    "syn0 = 2*np.random.random((3,1)) - 1\n",
    "\n",
    "syn0"
   ]
  },
  {
   "cell_type": "markdown",
   "metadata": {},
   "source": [
    "### Training"
   ]
  },
  {
   "cell_type": "markdown",
   "metadata": {},
   "source": [
    "<img src=\"https://iamtrask.github.io/img/toy_network_deriv.png\" width=\"40%\"></img>"
   ]
  },
  {
   "cell_type": "code",
   "execution_count": 6,
   "metadata": {},
   "outputs": [
    {
     "name": "stdout",
     "output_type": "stream",
     "text": [
      "Output After Training:\n",
      "[[0.00966449]\n",
      " [0.99211957]\n",
      " [0.99358898]\n",
      " [0.00786506]]\n"
     ]
    }
   ],
   "source": [
    "for iter in range(10000):\n",
    "    \n",
    "    # Forward Propagation\n",
    "    \n",
    "    #First Layer of the Network, specified by the input data\n",
    "    l0 = X  \n",
    "    \n",
    "    #Second Layer of the Network, otherwise known as the hidden layer\n",
    "    l1 = sigmoid(np.dot(l0,syn0))\n",
    "\n",
    "    # how much did we miss?\n",
    "    l1_error = y - l1\n",
    "\n",
    "    # multiply how much we missed by the \n",
    "    # slope of the sigmoid at the values in l1\n",
    "    l1_delta = l1_error * dsigmoid(l1)\n",
    "\n",
    "    # update weights\n",
    "    syn0 += np.dot(l0.T,l1_delta)\n",
    "\n",
    "print (\"Output After Training:\")\n",
    "print (l1)"
   ]
  }
 ],
 "metadata": {
  "kernelspec": {
   "display_name": "Python 3",
   "language": "python",
   "name": "python3"
  },
  "language_info": {
   "codemirror_mode": {
    "name": "ipython",
    "version": 3
   },
   "file_extension": ".py",
   "mimetype": "text/x-python",
   "name": "python",
   "nbconvert_exporter": "python",
   "pygments_lexer": "ipython3",
   "version": "3.7.4"
  }
 },
 "nbformat": 4,
 "nbformat_minor": 2
}
