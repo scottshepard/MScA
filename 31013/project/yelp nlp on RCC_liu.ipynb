{
 "cells": [
  {
   "cell_type": "code",
   "execution_count": 1,
   "metadata": {},
   "outputs": [],
   "source": [
    "from pyspark.sql import SparkSession\n",
    "from pyspark.sql import functions as F\n",
    "\n",
    "import numpy as np\n",
    "import matplotlib.pyplot as plt\n",
    "import seaborn as sns\n",
    "from statsmodels.graphics.factorplots import interaction_plot\n",
    "\n",
    "%matplotlib inline\n",
    "%config InlineBackend.figure_format = 'retina'"
   ]
  },
  {
   "cell_type": "code",
   "execution_count": 2,
   "metadata": {},
   "outputs": [
    {
     "data": {
      "text/plain": [
       "[('spark.app.id', 'application_1547750003855_6562'),\n",
       " ('spark.eventLog.enabled', 'true'),\n",
       " ('spark.yarn.appMasterEnv.MKL_NUM_THREADS', '1'),\n",
       " ('spark.driver.memory', '32g'),\n",
       " ('spark.executor.instances', '32'),\n",
       " ('spark.driver.appUIAddress', 'http://md01.rcc.local:4041'),\n",
       " ('spark.sql.queryExecutionListeners',\n",
       "  'com.cloudera.spark.lineage.NavigatorQueryListener'),\n",
       " ('spark.cores.max', '16'),\n",
       " ('spark.ui.killEnabled', 'true'),\n",
       " ('spark.lineage.log.dir', '/var/log/spark/lineage'),\n",
       " ('spark.org.apache.hadoop.yarn.server.webproxy.amfilter.AmIpFilter.param.PROXY_HOSTS',\n",
       "  'md01.rcc.local,md02.rcc.local'),\n",
       " ('spark.eventLog.dir', 'hdfs://nameservice1/user/spark/applicationHistory'),\n",
       " ('spark.yarn.am.extraLibraryPath',\n",
       "  '/opt/cloudera/parcels/CDH-6.1.0-1.cdh6.1.0.p0.770702/lib/hadoop/lib/native'),\n",
       " ('spark.serializer', 'org.apache.spark.serializer.KryoSerializer'),\n",
       " ('spark.executor.extraLibraryPath',\n",
       "  '/opt/cloudera/parcels/CDH-6.1.0-1.cdh6.1.0.p0.770702/lib/hadoop/lib/native'),\n",
       " ('spark.driver.extraLibraryPath',\n",
       "  '/opt/cloudera/parcels/CDH-6.1.0-1.cdh6.1.0.p0.770702/lib/hadoop/lib/native'),\n",
       " ('spark.dynamicAllocation.executorIdleTimeout', '60'),\n",
       " ('spark.io.encryption.enabled', 'false'),\n",
       " ('spark.authenticate', 'false'),\n",
       " ('spark.yarn.historyServer.address', 'http://hd01.rcc.local:18088'),\n",
       " ('spark.executorEnv.PYTHONPATH',\n",
       "  '/opt/cloudera/parcels/CDH/lib/spark/python/lib/py4j-0.10.7-src.zip:/opt/cloudera/parcels/CDH/lib/spark/python/lib/pyspark.zip<CPS>/opt/cloudera/parcels/CDH-6.1.0-1.cdh6.1.0.p0.770702/lib/spark/python/lib/py4j-0.10.7-src.zip<CPS>/opt/cloudera/parcels/CDH-6.1.0-1.cdh6.1.0.p0.770702/lib/spark/python/lib/pyspark.zip'),\n",
       " ('spark.org.apache.hadoop.yarn.server.webproxy.amfilter.AmIpFilter.param.PROXY_URI_BASES',\n",
       "  'http://md01.rcc.local:8088/proxy/application_1547750003855_6562,http://md02.rcc.local:8088/proxy/application_1547750003855_6562'),\n",
       " ('spark.serializer.objectStreamReset', '100'),\n",
       " ('spark.executor.cores', '16'),\n",
       " ('spark.submit.deployMode', 'client'),\n",
       " ('spark.ui.filters',\n",
       "  'org.apache.hadoop.yarn.server.webproxy.amfilter.AmIpFilter'),\n",
       " ('spark.yarn.jars',\n",
       "  'local:/opt/cloudera/parcels/CDH-6.1.0-1.cdh6.1.0.p0.770702/lib/spark/jars/*,local:/opt/cloudera/parcels/CDH-6.1.0-1.cdh6.1.0.p0.770702/lib/spark/hive/*'),\n",
       " ('spark.network.crypto.enabled', 'false'),\n",
       " ('spark.org.apache.hadoop.yarn.server.webproxy.amfilter.AmIpFilter.param.RM_HA_URLS',\n",
       "  'md01.rcc.local:8088,md02.rcc.local:8088'),\n",
       " ('spark.shuffle.service.enabled', 'true'),\n",
       " ('spark.yarn.historyServer.allowTracking', 'true'),\n",
       " ('spark.executorEnv.MKL_NUM_THREADS', '1'),\n",
       " ('spark.ui.enabled', 'true'),\n",
       " ('spark.executor.id', 'driver'),\n",
       " ('spark.dynamicAllocation.schedulerBacklogTimeout', '1'),\n",
       " ('spark.yarn.appMasterEnv.OPENBLAS_NUM_THREADS', '1'),\n",
       " ('spark.driver.port', '34208'),\n",
       " ('spark.shuffle.service.port', '7337'),\n",
       " ('spark.lineage.enabled', 'true'),\n",
       " ('spark.extraListeners', 'com.cloudera.spark.lineage.NavigatorAppListener'),\n",
       " ('spark.yarn.config.gatewayPath', '/opt/cloudera/parcels'),\n",
       " ('spark.executor.memory', '32g'),\n",
       " ('spark.port.maxRetries', '60'),\n",
       " ('spark.master', 'yarn'),\n",
       " ('spark.driver.host', 'md01.rcc.local'),\n",
       " ('spark.sql.warehouse.dir', '/user/hive/warehouse'),\n",
       " ('spark.app.name', 'Spark Updated Conf'),\n",
       " ('spark.sql.catalogImplementation', 'hive'),\n",
       " ('spark.rdd.compress', 'True'),\n",
       " ('spark.dynamicAllocation.minExecutors', '0'),\n",
       " ('spark.yarn.config.replacementPath', '{{HADOOP_COMMON_HOME}}/../../..'),\n",
       " ('spark.dynamicAllocation.enabled', 'true'),\n",
       " ('spark.yarn.isPython', 'true'),\n",
       " ('spark.executorEnv.OPENBLAS_NUM_THREADS', '1'),\n",
       " ('spark.ui.showConsoleProgress', 'true'),\n",
       " ('spark.ui.proxyBase', '/proxy/application_1547750003855_6562')]"
      ]
     },
     "execution_count": 2,
     "metadata": {},
     "output_type": "execute_result"
    }
   ],
   "source": [
    "#create Spark session\n",
    "spark = SparkSession.builder.appName('Yelpreview').getOrCreate()\n",
    "\n",
    "#change configuration settings on Spark \n",
    "conf = spark.sparkContext._conf.setAll([('spark.executor.memory', '32g'), ('spark.app.name', 'Spark Updated Conf'), ('spark.executor.cores', '16'), ('spark.cores.max', '16'), ('spark.driver.memory','32g')])\n",
    "\n",
    "#print spark configuration settings\n",
    "spark.sparkContext.getConf().getAll()"
   ]
  },
  {
   "cell_type": "code",
   "execution_count": 3,
   "metadata": {},
   "outputs": [
    {
     "name": "stdout",
     "output_type": "stream",
     "text": [
      "business.json\t\t      food-inspections.csv  user.json\r\n",
      "Business_Licenses.csv\t      LookUp.csv\t    winemag-data-130k-v2.csv\r\n",
      "checkin.json\t\t      output_q8.csv\t    winemag-data_first150k.csv\r\n",
      "Crimes_-_2001_to_present.csv  review.json\r\n",
      "err_q8.txt\t\t      tip.json\r\n"
     ]
    }
   ],
   "source": [
    "!ls /home/desen/data/"
   ]
  },
  {
   "cell_type": "code",
   "execution_count": 4,
   "metadata": {},
   "outputs": [],
   "source": [
    "# hdfs dfs put\n",
    "review = spark.read.json(\"/user/jezhang/data/review.json\")"
   ]
  },
  {
   "cell_type": "code",
   "execution_count": 5,
   "metadata": {},
   "outputs": [
    {
     "name": "stdout",
     "output_type": "stream",
     "text": [
      "root\n",
      " |-- business_id: string (nullable = true)\n",
      " |-- cool: long (nullable = true)\n",
      " |-- date: string (nullable = true)\n",
      " |-- funny: long (nullable = true)\n",
      " |-- review_id: string (nullable = true)\n",
      " |-- stars: double (nullable = true)\n",
      " |-- text: string (nullable = true)\n",
      " |-- useful: long (nullable = true)\n",
      " |-- user_id: string (nullable = true)\n",
      "\n",
      "None\n",
      "+--------------------+----+-------------------+-----+--------------------+-----+--------------------+------+--------------------+\n",
      "|         business_id|cool|               date|funny|           review_id|stars|                text|useful|             user_id|\n",
      "+--------------------+----+-------------------+-----+--------------------+-----+--------------------+------+--------------------+\n",
      "|ujmEBvifdJM6h6RLv...|   0|2013-05-07 04:34:36|    1|Q1sbwvVQXV2734tPg...|  1.0|Total bill for th...|     6|hG7b0MtEbXx5QzbzE...|\n",
      "|NZnhc2sEQy3RmzKTZ...|   0|2017-01-14 21:30:33|    0|GJXCdrto3ASJOqKeV...|  5.0|I *adore* Travis ...|     0|yXQM5uF2jS6es16SJ...|\n",
      "|WTqjgwHlXbSFevF32...|   0|2016-11-09 20:09:03|    0|2TzJjDVDEuAW6MR5V...|  5.0|I have to say tha...|     3|n6-Gk65cPZL6Uz8qR...|\n",
      "|ikCg8xy5JIg_NGPx-...|   0|2018-01-09 20:56:38|    0|yi0R0Ugj_xUx_Nek0...|  5.0|Went in for a lun...|     0|dacAIZ6fTM6mqwW5u...|\n",
      "|b1b1eb3uo-w561D0Z...|   0|2018-01-30 23:07:38|    0|11a8sVPMUFtaC7_AB...|  1.0|Today was my seco...|     7|ssoyf2_x0EQMed6fg...|\n",
      "+--------------------+----+-------------------+-----+--------------------+-----+--------------------+------+--------------------+\n",
      "only showing top 5 rows\n",
      "\n"
     ]
    }
   ],
   "source": [
    "#review.createOrReplaceTempView(\"review\")\n",
    "print(review.printSchema())\n",
    "review.show(5)"
   ]
  },
  {
   "cell_type": "code",
   "execution_count": 6,
   "metadata": {},
   "outputs": [],
   "source": [
    "business = spark.read.json(\"/user/jezhang/data/business.json\")"
   ]
  },
  {
   "cell_type": "code",
   "execution_count": 7,
   "metadata": {},
   "outputs": [
    {
     "name": "stdout",
     "output_type": "stream",
     "text": [
      "root\n",
      " |-- address: string (nullable = true)\n",
      " |-- attributes: struct (nullable = true)\n",
      " |    |-- AcceptsInsurance: string (nullable = true)\n",
      " |    |-- AgesAllowed: string (nullable = true)\n",
      " |    |-- Alcohol: string (nullable = true)\n",
      " |    |-- Ambience: string (nullable = true)\n",
      " |    |-- BYOB: string (nullable = true)\n",
      " |    |-- BYOBCorkage: string (nullable = true)\n",
      " |    |-- BestNights: string (nullable = true)\n",
      " |    |-- BikeParking: string (nullable = true)\n",
      " |    |-- BusinessAcceptsBitcoin: string (nullable = true)\n",
      " |    |-- BusinessAcceptsCreditCards: string (nullable = true)\n",
      " |    |-- BusinessParking: string (nullable = true)\n",
      " |    |-- ByAppointmentOnly: string (nullable = true)\n",
      " |    |-- Caters: string (nullable = true)\n",
      " |    |-- CoatCheck: string (nullable = true)\n",
      " |    |-- Corkage: string (nullable = true)\n",
      " |    |-- DietaryRestrictions: string (nullable = true)\n",
      " |    |-- DogsAllowed: string (nullable = true)\n",
      " |    |-- DriveThru: string (nullable = true)\n",
      " |    |-- GoodForDancing: string (nullable = true)\n",
      " |    |-- GoodForKids: string (nullable = true)\n",
      " |    |-- GoodForMeal: string (nullable = true)\n",
      " |    |-- HairSpecializesIn: string (nullable = true)\n",
      " |    |-- HappyHour: string (nullable = true)\n",
      " |    |-- HasTV: string (nullable = true)\n",
      " |    |-- Music: string (nullable = true)\n",
      " |    |-- NoiseLevel: string (nullable = true)\n",
      " |    |-- Open24Hours: string (nullable = true)\n",
      " |    |-- OutdoorSeating: string (nullable = true)\n",
      " |    |-- RestaurantsAttire: string (nullable = true)\n",
      " |    |-- RestaurantsCounterService: string (nullable = true)\n",
      " |    |-- RestaurantsDelivery: string (nullable = true)\n",
      " |    |-- RestaurantsGoodForGroups: string (nullable = true)\n",
      " |    |-- RestaurantsPriceRange2: string (nullable = true)\n",
      " |    |-- RestaurantsReservations: string (nullable = true)\n",
      " |    |-- RestaurantsTableService: string (nullable = true)\n",
      " |    |-- RestaurantsTakeOut: string (nullable = true)\n",
      " |    |-- Smoking: string (nullable = true)\n",
      " |    |-- WheelchairAccessible: string (nullable = true)\n",
      " |    |-- WiFi: string (nullable = true)\n",
      " |-- business_id: string (nullable = true)\n",
      " |-- categories: string (nullable = true)\n",
      " |-- city: string (nullable = true)\n",
      " |-- hours: struct (nullable = true)\n",
      " |    |-- Friday: string (nullable = true)\n",
      " |    |-- Monday: string (nullable = true)\n",
      " |    |-- Saturday: string (nullable = true)\n",
      " |    |-- Sunday: string (nullable = true)\n",
      " |    |-- Thursday: string (nullable = true)\n",
      " |    |-- Tuesday: string (nullable = true)\n",
      " |    |-- Wednesday: string (nullable = true)\n",
      " |-- is_open: long (nullable = true)\n",
      " |-- latitude: double (nullable = true)\n",
      " |-- longitude: double (nullable = true)\n",
      " |-- name: string (nullable = true)\n",
      " |-- postal_code: string (nullable = true)\n",
      " |-- review_count: long (nullable = true)\n",
      " |-- stars: double (nullable = true)\n",
      " |-- state: string (nullable = true)\n",
      "\n",
      "None\n",
      "+--------------------+--------------------+--------------------+--------------------+-----------+--------------------+-------+-------------+---------------+--------------------+-----------+------------+-----+-----+\n",
      "|             address|          attributes|         business_id|          categories|       city|               hours|is_open|     latitude|      longitude|                name|postal_code|review_count|stars|state|\n",
      "+--------------------+--------------------+--------------------+--------------------+-----------+--------------------+-------+-------------+---------------+--------------------+-----------+------------+-----+-----+\n",
      "|2818 E Camino Ace...|[,,,,,,,,,,,,,,,,...|1SWheh84yJXfytovI...|   Golf, Active Life|    Phoenix|                null|      0|   33.5221425|   -112.0184807|Arizona Biltmore ...|      85016|           5|  3.0|   AZ|\n",
      "|30 Eglinton Avenue W|[,, u'full_bar', ...|QXAEGFB4oINsVuTFx...|Specialty Food, R...|Mississauga|[9:0-1:0, 9:0-0:0...|      1|43.6054989743|  -79.652288909|Emerald Chinese R...|    L5R 3E7|         128|  2.5|   ON|\n",
      "|10110 Johnston Rd...|[,, u'beer_and_wi...|gnKjwL_1w79qoiV3I...|Sushi Bars, Resta...|  Charlotte|[17:30-22:0, 17:3...|      1|    35.092564|     -80.859132|Musashi Japanese ...|      28210|         170|  4.0|   NC|\n",
      "|15655 W Roosevelt...|                null|xvX2CttrVhyG2z1dF...|Insurance, Financ...|   Goodyear|[8:0-17:0, 8:0-17...|      1|33.4556129678|-112.3955963552|Farmers Insurance...|      85338|           3|  5.0|   AZ|\n",
      "|4209 Stuart Andre...|[,,,,,,,, False, ...|HhyxOkGAM07SRYtlQ...|Plumbing, Shoppin...|  Charlotte|[7:0-23:0, 7:0-23...|      1|   35.1900119|    -80.8872232| Queen City Plumbing|      28217|           4|  4.0|   NC|\n",
      "+--------------------+--------------------+--------------------+--------------------+-----------+--------------------+-------+-------------+---------------+--------------------+-----------+------------+-----+-----+\n",
      "only showing top 5 rows\n",
      "\n"
     ]
    }
   ],
   "source": [
    "#business.createOrReplaceTempView(\"business\")\n",
    "print(business.printSchema())\n",
    "business.show(5)"
   ]
  },
  {
   "cell_type": "markdown",
   "metadata": {},
   "source": [
    "### Queries"
   ]
  },
  {
   "cell_type": "code",
   "execution_count": 8,
   "metadata": {},
   "outputs": [
    {
     "name": "stdout",
     "output_type": "stream",
     "text": [
      "+--------------------+-------------+\n",
      "|         business_id|         city|\n",
      "+--------------------+-------------+\n",
      "|1SWheh84yJXfytovI...|      Phoenix|\n",
      "|QXAEGFB4oINsVuTFx...|  Mississauga|\n",
      "|gnKjwL_1w79qoiV3I...|    Charlotte|\n",
      "|xvX2CttrVhyG2z1dF...|     Goodyear|\n",
      "|HhyxOkGAM07SRYtlQ...|    Charlotte|\n",
      "|68dUKd8_8liJ7in4a...|  Mississauga|\n",
      "|5JucpCfHZltJh5r1J...|      Calgary|\n",
      "|gbQN7vr_caG_A1ugS...|    Las Vegas|\n",
      "|Y6iyemLX_oylRpnr3...|     Glendale|\n",
      "|4GBVPIYRvzGh4K4Tk...|Fairview Park|\n",
      "|fcXOEZdXYeZqnQ3lG...|      Calgary|\n",
      "|1Dfx3zM-rW4n-31Ke...|      Phoenix|\n",
      "+--------------------+-------------+\n",
      "only showing top 12 rows\n",
      "\n"
     ]
    }
   ],
   "source": [
    "business_city = business.select('business_id', 'city')\n",
    "business_city.show(12)"
   ]
  },
  {
   "cell_type": "code",
   "execution_count": 9,
   "metadata": {},
   "outputs": [
    {
     "name": "stdout",
     "output_type": "stream",
     "text": [
      "+--------------------+--------------------+\n",
      "|         business_id|             user_id|\n",
      "+--------------------+--------------------+\n",
      "|ujmEBvifdJM6h6RLv...|hG7b0MtEbXx5QzbzE...|\n",
      "|NZnhc2sEQy3RmzKTZ...|yXQM5uF2jS6es16SJ...|\n",
      "|WTqjgwHlXbSFevF32...|n6-Gk65cPZL6Uz8qR...|\n",
      "|ikCg8xy5JIg_NGPx-...|dacAIZ6fTM6mqwW5u...|\n",
      "|b1b1eb3uo-w561D0Z...|ssoyf2_x0EQMed6fg...|\n",
      "|eU_713ec6fTGNO4Be...|w31MKYsNFMrjhWxxA...|\n",
      "|3fw2X5bZYeW9xCz_z...|jlu4CztcSxrKx56ba...|\n",
      "|zvO-PJCpNk4fgAVUn...|d6xvYpyzcfbF_AZ8v...|\n",
      "|b2jN2mm9Wf3RcrZCg...|sG_h0dIzTKWa3Q6fm...|\n",
      "|oxwGyA17NL6c5t1Et...|nMeCE5-xsdleyxYuN...|\n",
      "|8mIrX_LrOnAqWsB5J...|FIk4lQQu1eTe2EpzQ...|\n",
      "|mRUVMJkUGxrByzMQ2...|-mA3-1mN4JIEkqOtd...|\n",
      "+--------------------+--------------------+\n",
      "only showing top 12 rows\n",
      "\n"
     ]
    }
   ],
   "source": [
    "review_business_user_city = review.select('business_id', 'user_id')\n",
    "review_business_user_city.show(12)"
   ]
  },
  {
   "cell_type": "code",
   "execution_count": 10,
   "metadata": {},
   "outputs": [
    {
     "name": "stdout",
     "output_type": "stream",
     "text": [
      "+--------------------+--------------------+----------+\n",
      "|         business_id|             user_id|      city|\n",
      "+--------------------+--------------------+----------+\n",
      "|ujmEBvifdJM6h6RLv...|hG7b0MtEbXx5QzbzE...| Las Vegas|\n",
      "|NZnhc2sEQy3RmzKTZ...|yXQM5uF2jS6es16SJ...| Las Vegas|\n",
      "|WTqjgwHlXbSFevF32...|n6-Gk65cPZL6Uz8qR...|  Chandler|\n",
      "|ikCg8xy5JIg_NGPx-...|dacAIZ6fTM6mqwW5u...|   Calgary|\n",
      "|b1b1eb3uo-w561D0Z...|ssoyf2_x0EQMed6fg...|Scottsdale|\n",
      "|eU_713ec6fTGNO4Be...|w31MKYsNFMrjhWxxA...|Pittsburgh|\n",
      "|3fw2X5bZYeW9xCz_z...|jlu4CztcSxrKx56ba...|   Markham|\n",
      "|zvO-PJCpNk4fgAVUn...|d6xvYpyzcfbF_AZ8v...|Scottsdale|\n",
      "|b2jN2mm9Wf3RcrZCg...|sG_h0dIzTKWa3Q6fm...| Cleveland|\n",
      "|oxwGyA17NL6c5t1Et...|nMeCE5-xsdleyxYuN...| Las Vegas|\n",
      "|8mIrX_LrOnAqWsB5J...|FIk4lQQu1eTe2EpzQ...| Las Vegas|\n",
      "|mRUVMJkUGxrByzMQ2...|-mA3-1mN4JIEkqOtd...|      Mesa|\n",
      "+--------------------+--------------------+----------+\n",
      "only showing top 12 rows\n",
      "\n"
     ]
    }
   ],
   "source": [
    "user_city_spark = review_business_user_city.join(business_city, [\"business_id\"], 'left')\n",
    "user_city_spark.show(12)"
   ]
  },
  {
   "cell_type": "code",
   "execution_count": 11,
   "metadata": {},
   "outputs": [
    {
     "data": {
      "text/html": [
       "<div>\n",
       "<style scoped>\n",
       "    .dataframe tbody tr th:only-of-type {\n",
       "        vertical-align: middle;\n",
       "    }\n",
       "\n",
       "    .dataframe tbody tr th {\n",
       "        vertical-align: top;\n",
       "    }\n",
       "\n",
       "    .dataframe thead th {\n",
       "        text-align: right;\n",
       "    }\n",
       "</style>\n",
       "<table border=\"1\" class=\"dataframe\">\n",
       "  <thead>\n",
       "    <tr style=\"text-align: right;\">\n",
       "      <th></th>\n",
       "      <th>user_id</th>\n",
       "      <th>city</th>\n",
       "      <th>count</th>\n",
       "    </tr>\n",
       "  </thead>\n",
       "  <tbody>\n",
       "    <tr>\n",
       "      <th>0</th>\n",
       "      <td>yXQM5uF2jS6es16SJzNHfg</td>\n",
       "      <td>Las Vegas</td>\n",
       "      <td>1</td>\n",
       "    </tr>\n",
       "    <tr>\n",
       "      <th>1</th>\n",
       "      <td>ocC1kDdcWg6hVaTDJssM-Q</td>\n",
       "      <td>Las Vegas</td>\n",
       "      <td>58</td>\n",
       "    </tr>\n",
       "    <tr>\n",
       "      <th>2</th>\n",
       "      <td>Pow-A3nsUlagunpPccU6yQ</td>\n",
       "      <td>Las Vegas</td>\n",
       "      <td>5</td>\n",
       "    </tr>\n",
       "    <tr>\n",
       "      <th>3</th>\n",
       "      <td>ps87csBgK6zDWeDjFCrjZg</td>\n",
       "      <td>Toronto</td>\n",
       "      <td>19</td>\n",
       "    </tr>\n",
       "    <tr>\n",
       "      <th>4</th>\n",
       "      <td>cAxlIVBNys8MkHjUqDibAw</td>\n",
       "      <td>Las Vegas</td>\n",
       "      <td>6</td>\n",
       "    </tr>\n",
       "    <tr>\n",
       "      <th>5</th>\n",
       "      <td>9-3lHX4tvYHcRmXJAwhPpA</td>\n",
       "      <td>Las Vegas</td>\n",
       "      <td>6</td>\n",
       "    </tr>\n",
       "    <tr>\n",
       "      <th>6</th>\n",
       "      <td>EiP1OFgs-XGcKZux0OKWIA</td>\n",
       "      <td>Toronto</td>\n",
       "      <td>128</td>\n",
       "    </tr>\n",
       "    <tr>\n",
       "      <th>7</th>\n",
       "      <td>XqIJKZ1xgLyspleE9vN2Rw</td>\n",
       "      <td>Scottsdale</td>\n",
       "      <td>3</td>\n",
       "    </tr>\n",
       "    <tr>\n",
       "      <th>8</th>\n",
       "      <td>WxlXbcB-2UmwzYpkjB7cNQ</td>\n",
       "      <td>Las Vegas</td>\n",
       "      <td>1</td>\n",
       "    </tr>\n",
       "    <tr>\n",
       "      <th>9</th>\n",
       "      <td>yZiRD63JCburnjHblf_P3w</td>\n",
       "      <td>Phoenix</td>\n",
       "      <td>1</td>\n",
       "    </tr>\n",
       "    <tr>\n",
       "      <th>10</th>\n",
       "      <td>teXLmGR-kiEEVW93TCe32w</td>\n",
       "      <td>Las Vegas</td>\n",
       "      <td>5</td>\n",
       "    </tr>\n",
       "    <tr>\n",
       "      <th>11</th>\n",
       "      <td>9nRbPCjtfv7WQjbQFofKwQ</td>\n",
       "      <td>Las Vegas</td>\n",
       "      <td>11</td>\n",
       "    </tr>\n",
       "  </tbody>\n",
       "</table>\n",
       "</div>"
      ],
      "text/plain": [
       "                   user_id        city  count\n",
       "0   yXQM5uF2jS6es16SJzNHfg   Las Vegas      1\n",
       "1   ocC1kDdcWg6hVaTDJssM-Q   Las Vegas     58\n",
       "2   Pow-A3nsUlagunpPccU6yQ   Las Vegas      5\n",
       "3   ps87csBgK6zDWeDjFCrjZg     Toronto     19\n",
       "4   cAxlIVBNys8MkHjUqDibAw   Las Vegas      6\n",
       "5   9-3lHX4tvYHcRmXJAwhPpA   Las Vegas      6\n",
       "6   EiP1OFgs-XGcKZux0OKWIA     Toronto    128\n",
       "7   XqIJKZ1xgLyspleE9vN2Rw  Scottsdale      3\n",
       "8   WxlXbcB-2UmwzYpkjB7cNQ   Las Vegas      1\n",
       "9   yZiRD63JCburnjHblf_P3w     Phoenix      1\n",
       "10  teXLmGR-kiEEVW93TCe32w   Las Vegas      5\n",
       "11  9nRbPCjtfv7WQjbQFofKwQ   Las Vegas     11"
      ]
     },
     "execution_count": 11,
     "metadata": {},
     "output_type": "execute_result"
    }
   ],
   "source": [
    "user_city_df = user_city_spark.groupby('user_id', 'city').count().toPandas()\n",
    "user_city_df.head(12)"
   ]
  },
  {
   "cell_type": "markdown",
   "metadata": {},
   "source": [
    "### looking at user, trying to figure out who is living where -- Using Pandas"
   ]
  },
  {
   "cell_type": "code",
   "execution_count": 12,
   "metadata": {},
   "outputs": [
    {
     "data": {
      "text/html": [
       "<div>\n",
       "<style scoped>\n",
       "    .dataframe tbody tr th:only-of-type {\n",
       "        vertical-align: middle;\n",
       "    }\n",
       "\n",
       "    .dataframe tbody tr th {\n",
       "        vertical-align: top;\n",
       "    }\n",
       "\n",
       "    .dataframe thead th {\n",
       "        text-align: right;\n",
       "    }\n",
       "</style>\n",
       "<table border=\"1\" class=\"dataframe\">\n",
       "  <thead>\n",
       "    <tr style=\"text-align: right;\">\n",
       "      <th></th>\n",
       "      <th>user_id</th>\n",
       "      <th>city</th>\n",
       "      <th>count</th>\n",
       "      <th>local</th>\n",
       "    </tr>\n",
       "  </thead>\n",
       "  <tbody>\n",
       "    <tr>\n",
       "      <th>0</th>\n",
       "      <td>---1lKK3aKOuomHnwAkAow</td>\n",
       "      <td>Henderson</td>\n",
       "      <td>6.25000</td>\n",
       "      <td>False</td>\n",
       "    </tr>\n",
       "    <tr>\n",
       "      <th>1</th>\n",
       "      <td>---1lKK3aKOuomHnwAkAow</td>\n",
       "      <td>Las Vegas</td>\n",
       "      <td>91.40625</td>\n",
       "      <td>True</td>\n",
       "    </tr>\n",
       "    <tr>\n",
       "      <th>2</th>\n",
       "      <td>---1lKK3aKOuomHnwAkAow</td>\n",
       "      <td>North Las Vegas</td>\n",
       "      <td>2.34375</td>\n",
       "      <td>False</td>\n",
       "    </tr>\n",
       "    <tr>\n",
       "      <th>3</th>\n",
       "      <td>---89pEy_h9PvHwcHNbpyg</td>\n",
       "      <td>Las Vegas</td>\n",
       "      <td>100.00000</td>\n",
       "      <td>True</td>\n",
       "    </tr>\n",
       "    <tr>\n",
       "      <th>4</th>\n",
       "      <td>---94vtJ_5o_nikEs6hUjg</td>\n",
       "      <td>Phoenix</td>\n",
       "      <td>100.00000</td>\n",
       "      <td>True</td>\n",
       "    </tr>\n",
       "  </tbody>\n",
       "</table>\n",
       "</div>"
      ],
      "text/plain": [
       "                  user_id             city      count  local\n",
       "0  ---1lKK3aKOuomHnwAkAow        Henderson    6.25000  False\n",
       "1  ---1lKK3aKOuomHnwAkAow        Las Vegas   91.40625   True\n",
       "2  ---1lKK3aKOuomHnwAkAow  North Las Vegas    2.34375  False\n",
       "3  ---89pEy_h9PvHwcHNbpyg        Las Vegas  100.00000   True\n",
       "4  ---94vtJ_5o_nikEs6hUjg          Phoenix  100.00000   True"
      ]
     },
     "execution_count": 12,
     "metadata": {},
     "output_type": "execute_result"
    }
   ],
   "source": [
    "user_city_group = user_city_df.groupby(['user_id', 'city'])\n",
    "user_city = 100 * user_city_group.sum() / user_city_df[['user_id', 'count']].groupby('user_id').sum()\n",
    "user_city.reset_index(inplace = True)\n",
    "\n",
    "Threshold = 70\n",
    "user_city['local'] = user_city['count'].apply(lambda x: True if x >= Threshold else False)\n",
    "\n",
    "user_city.head()"
   ]
  },
  {
   "cell_type": "code",
   "execution_count": 13,
   "metadata": {},
   "outputs": [
    {
     "data": {
      "text/html": [
       "<div>\n",
       "<style scoped>\n",
       "    .dataframe tbody tr th:only-of-type {\n",
       "        vertical-align: middle;\n",
       "    }\n",
       "\n",
       "    .dataframe tbody tr th {\n",
       "        vertical-align: top;\n",
       "    }\n",
       "\n",
       "    .dataframe thead th {\n",
       "        text-align: right;\n",
       "    }\n",
       "</style>\n",
       "<table border=\"1\" class=\"dataframe\">\n",
       "  <thead>\n",
       "    <tr style=\"text-align: right;\">\n",
       "      <th></th>\n",
       "      <th>user_id</th>\n",
       "      <th>city</th>\n",
       "      <th>count</th>\n",
       "      <th>local</th>\n",
       "    </tr>\n",
       "  </thead>\n",
       "  <tbody>\n",
       "    <tr>\n",
       "      <th>11</th>\n",
       "      <td>--0RtXvcOIE4XbErYca6Rw</td>\n",
       "      <td>Charlotte</td>\n",
       "      <td>100.0</td>\n",
       "      <td>True</td>\n",
       "    </tr>\n",
       "    <tr>\n",
       "      <th>26</th>\n",
       "      <td>--2DMAd_kGHgbF88H2SLuw</td>\n",
       "      <td>Charlotte</td>\n",
       "      <td>100.0</td>\n",
       "      <td>True</td>\n",
       "    </tr>\n",
       "    <tr>\n",
       "      <th>43</th>\n",
       "      <td>--3WaS23LcIXtxyFULJHTA</td>\n",
       "      <td>Charlotte</td>\n",
       "      <td>20.0</td>\n",
       "      <td>False</td>\n",
       "    </tr>\n",
       "    <tr>\n",
       "      <th>55</th>\n",
       "      <td>--44NNdtngXMzsxyN7ju6Q</td>\n",
       "      <td>Charlotte</td>\n",
       "      <td>40.0</td>\n",
       "      <td>False</td>\n",
       "    </tr>\n",
       "    <tr>\n",
       "      <th>70</th>\n",
       "      <td>--5-MQZPsn2CJkyMFQkOgQ</td>\n",
       "      <td>Charlotte</td>\n",
       "      <td>100.0</td>\n",
       "      <td>True</td>\n",
       "    </tr>\n",
       "    <tr>\n",
       "      <th>82</th>\n",
       "      <td>--6D_IuxyKTN53pHi904ag</td>\n",
       "      <td>Charlotte</td>\n",
       "      <td>50.0</td>\n",
       "      <td>False</td>\n",
       "    </tr>\n",
       "    <tr>\n",
       "      <th>84</th>\n",
       "      <td>--6Ke7_lBBM6XAramtPoWw</td>\n",
       "      <td>Charlotte</td>\n",
       "      <td>100.0</td>\n",
       "      <td>True</td>\n",
       "    </tr>\n",
       "    <tr>\n",
       "      <th>95</th>\n",
       "      <td>--8AvHHmifvY0oybU_G86Q</td>\n",
       "      <td>Charlotte</td>\n",
       "      <td>100.0</td>\n",
       "      <td>True</td>\n",
       "    </tr>\n",
       "    <tr>\n",
       "      <th>100</th>\n",
       "      <td>--91OWkE0s-7QAY8g_DKiw</td>\n",
       "      <td>Charlotte</td>\n",
       "      <td>100.0</td>\n",
       "      <td>True</td>\n",
       "    </tr>\n",
       "    <tr>\n",
       "      <th>112</th>\n",
       "      <td>--B6JIfTRS2gBmqKhCaI5g</td>\n",
       "      <td>Charlotte</td>\n",
       "      <td>100.0</td>\n",
       "      <td>True</td>\n",
       "    </tr>\n",
       "  </tbody>\n",
       "</table>\n",
       "</div>"
      ],
      "text/plain": [
       "                    user_id       city  count  local\n",
       "11   --0RtXvcOIE4XbErYca6Rw  Charlotte  100.0   True\n",
       "26   --2DMAd_kGHgbF88H2SLuw  Charlotte  100.0   True\n",
       "43   --3WaS23LcIXtxyFULJHTA  Charlotte   20.0  False\n",
       "55   --44NNdtngXMzsxyN7ju6Q  Charlotte   40.0  False\n",
       "70   --5-MQZPsn2CJkyMFQkOgQ  Charlotte  100.0   True\n",
       "82   --6D_IuxyKTN53pHi904ag  Charlotte   50.0  False\n",
       "84   --6Ke7_lBBM6XAramtPoWw  Charlotte  100.0   True\n",
       "95   --8AvHHmifvY0oybU_G86Q  Charlotte  100.0   True\n",
       "100  --91OWkE0s-7QAY8g_DKiw  Charlotte  100.0   True\n",
       "112  --B6JIfTRS2gBmqKhCaI5g  Charlotte  100.0   True"
      ]
     },
     "execution_count": 13,
     "metadata": {},
     "output_type": "execute_result"
    }
   ],
   "source": [
    "user_charlotte = user_city[user_city[\"city\"].str.contains(\"Charlotte\", case = False)]\n",
    "user_charlotte.head(10)"
   ]
  },
  {
   "cell_type": "markdown",
   "metadata": {},
   "source": [
    "### looking at city, trying to figure out which city is a  tourist destination"
   ]
  },
  {
   "cell_type": "code",
   "execution_count": 14,
   "metadata": {},
   "outputs": [
    {
     "data": {
      "text/html": [
       "<div>\n",
       "<style scoped>\n",
       "    .dataframe tbody tr th:only-of-type {\n",
       "        vertical-align: middle;\n",
       "    }\n",
       "\n",
       "    .dataframe tbody tr th {\n",
       "        vertical-align: top;\n",
       "    }\n",
       "\n",
       "    .dataframe thead th {\n",
       "        text-align: right;\n",
       "    }\n",
       "</style>\n",
       "<table border=\"1\" class=\"dataframe\">\n",
       "  <thead>\n",
       "    <tr style=\"text-align: right;\">\n",
       "      <th>local</th>\n",
       "      <th>city</th>\n",
       "      <th>False</th>\n",
       "      <th>True</th>\n",
       "    </tr>\n",
       "  </thead>\n",
       "  <tbody>\n",
       "    <tr>\n",
       "      <th>0</th>\n",
       "      <td></td>\n",
       "      <td>66.666667</td>\n",
       "      <td>33.333333</td>\n",
       "    </tr>\n",
       "    <tr>\n",
       "      <th>1</th>\n",
       "      <td>110 Las Vegas</td>\n",
       "      <td>86.764706</td>\n",
       "      <td>13.235294</td>\n",
       "    </tr>\n",
       "    <tr>\n",
       "      <th>2</th>\n",
       "      <td>AGINCOURT</td>\n",
       "      <td>85.714286</td>\n",
       "      <td>14.285714</td>\n",
       "    </tr>\n",
       "    <tr>\n",
       "      <th>3</th>\n",
       "      <td>AVON</td>\n",
       "      <td>80.000000</td>\n",
       "      <td>20.000000</td>\n",
       "    </tr>\n",
       "    <tr>\n",
       "      <th>4</th>\n",
       "      <td>AZ</td>\n",
       "      <td>100.000000</td>\n",
       "      <td>0.000000</td>\n",
       "    </tr>\n",
       "    <tr>\n",
       "      <th>5</th>\n",
       "      <td>Agincourt</td>\n",
       "      <td>80.000000</td>\n",
       "      <td>20.000000</td>\n",
       "    </tr>\n",
       "    <tr>\n",
       "      <th>6</th>\n",
       "      <td>Ahwahtukee</td>\n",
       "      <td>88.235294</td>\n",
       "      <td>11.764706</td>\n",
       "    </tr>\n",
       "    <tr>\n",
       "      <th>7</th>\n",
       "      <td>Ahwatukee</td>\n",
       "      <td>91.149542</td>\n",
       "      <td>8.850458</td>\n",
       "    </tr>\n",
       "    <tr>\n",
       "      <th>8</th>\n",
       "      <td>Ahwatukee Foothills Village</td>\n",
       "      <td>100.000000</td>\n",
       "      <td>0.000000</td>\n",
       "    </tr>\n",
       "    <tr>\n",
       "      <th>9</th>\n",
       "      <td>Airdrie</td>\n",
       "      <td>55.259467</td>\n",
       "      <td>44.740533</td>\n",
       "    </tr>\n",
       "    <tr>\n",
       "      <th>10</th>\n",
       "      <td>Ajax</td>\n",
       "      <td>71.420012</td>\n",
       "      <td>28.579988</td>\n",
       "    </tr>\n",
       "    <tr>\n",
       "      <th>11</th>\n",
       "      <td>Akron</td>\n",
       "      <td>63.188832</td>\n",
       "      <td>36.811168</td>\n",
       "    </tr>\n",
       "    <tr>\n",
       "      <th>12</th>\n",
       "      <td>Alberta</td>\n",
       "      <td>87.500000</td>\n",
       "      <td>12.500000</td>\n",
       "    </tr>\n",
       "    <tr>\n",
       "      <th>13</th>\n",
       "      <td>Alburg</td>\n",
       "      <td>40.000000</td>\n",
       "      <td>60.000000</td>\n",
       "    </tr>\n",
       "    <tr>\n",
       "      <th>14</th>\n",
       "      <td>Alburgh</td>\n",
       "      <td>0.000000</td>\n",
       "      <td>100.000000</td>\n",
       "    </tr>\n",
       "    <tr>\n",
       "      <th>15</th>\n",
       "      <td>Aliquippa</td>\n",
       "      <td>33.333333</td>\n",
       "      <td>66.666667</td>\n",
       "    </tr>\n",
       "    <tr>\n",
       "      <th>16</th>\n",
       "      <td>Allegheny</td>\n",
       "      <td>100.000000</td>\n",
       "      <td>0.000000</td>\n",
       "    </tr>\n",
       "    <tr>\n",
       "      <th>17</th>\n",
       "      <td>Allentown</td>\n",
       "      <td>15.789474</td>\n",
       "      <td>84.210526</td>\n",
       "    </tr>\n",
       "    <tr>\n",
       "      <th>18</th>\n",
       "      <td>Allison Park</td>\n",
       "      <td>74.875869</td>\n",
       "      <td>25.124131</td>\n",
       "    </tr>\n",
       "    <tr>\n",
       "      <th>19</th>\n",
       "      <td>Ambridge</td>\n",
       "      <td>71.530249</td>\n",
       "      <td>28.469751</td>\n",
       "    </tr>\n",
       "  </tbody>\n",
       "</table>\n",
       "</div>"
      ],
      "text/plain": [
       "local                         city       False        True\n",
       "0                                    66.666667   33.333333\n",
       "1                    110 Las Vegas   86.764706   13.235294\n",
       "2                        AGINCOURT   85.714286   14.285714\n",
       "3                             AVON   80.000000   20.000000\n",
       "4                               AZ  100.000000    0.000000\n",
       "5                        Agincourt   80.000000   20.000000\n",
       "6                       Ahwahtukee   88.235294   11.764706\n",
       "7                        Ahwatukee   91.149542    8.850458\n",
       "8      Ahwatukee Foothills Village  100.000000    0.000000\n",
       "9                          Airdrie   55.259467   44.740533\n",
       "10                            Ajax   71.420012   28.579988\n",
       "11                           Akron   63.188832   36.811168\n",
       "12                         Alberta   87.500000   12.500000\n",
       "13                          Alburg   40.000000   60.000000\n",
       "14                         Alburgh    0.000000  100.000000\n",
       "15                       Aliquippa   33.333333   66.666667\n",
       "16                       Allegheny  100.000000    0.000000\n",
       "17                       Allentown   15.789474   84.210526\n",
       "18                    Allison Park   74.875869   25.124131\n",
       "19                        Ambridge   71.530249   28.469751"
      ]
     },
     "execution_count": 14,
     "metadata": {},
     "output_type": "execute_result"
    }
   ],
   "source": [
    "import pandas as pd\n",
    "user_city_cross = pd.crosstab(user_city.city, user_city.local).apply(lambda r: 100 * r / r.sum(), axis=1)\n",
    "user_city_cross.reset_index(inplace = True)\n",
    "user_city_cross.head(20)"
   ]
  },
  {
   "cell_type": "code",
   "execution_count": 15,
   "metadata": {},
   "outputs": [
    {
     "data": {
      "text/html": [
       "<div>\n",
       "<style scoped>\n",
       "    .dataframe tbody tr th:only-of-type {\n",
       "        vertical-align: middle;\n",
       "    }\n",
       "\n",
       "    .dataframe tbody tr th {\n",
       "        vertical-align: top;\n",
       "    }\n",
       "\n",
       "    .dataframe thead th {\n",
       "        text-align: right;\n",
       "    }\n",
       "</style>\n",
       "<table border=\"1\" class=\"dataframe\">\n",
       "  <thead>\n",
       "    <tr style=\"text-align: right;\">\n",
       "      <th>local</th>\n",
       "      <th>city</th>\n",
       "      <th>False</th>\n",
       "      <th>True</th>\n",
       "    </tr>\n",
       "  </thead>\n",
       "  <tbody>\n",
       "    <tr>\n",
       "      <th>1</th>\n",
       "      <td>110 Las Vegas</td>\n",
       "      <td>86.764706</td>\n",
       "      <td>13.235294</td>\n",
       "    </tr>\n",
       "    <tr>\n",
       "      <th>122</th>\n",
       "      <td>C Las Vegas</td>\n",
       "      <td>95.652174</td>\n",
       "      <td>4.347826</td>\n",
       "    </tr>\n",
       "    <tr>\n",
       "      <th>374</th>\n",
       "      <td>Henderson and Las vegas</td>\n",
       "      <td>100.000000</td>\n",
       "      <td>0.000000</td>\n",
       "    </tr>\n",
       "    <tr>\n",
       "      <th>430</th>\n",
       "      <td>LAS VEGAS</td>\n",
       "      <td>88.459016</td>\n",
       "      <td>11.540984</td>\n",
       "    </tr>\n",
       "    <tr>\n",
       "      <th>434</th>\n",
       "      <td>La Vegas</td>\n",
       "      <td>42.857143</td>\n",
       "      <td>57.142857</td>\n",
       "    </tr>\n",
       "    <tr>\n",
       "      <th>442</th>\n",
       "      <td>Lake Las Vegas</td>\n",
       "      <td>100.000000</td>\n",
       "      <td>0.000000</td>\n",
       "    </tr>\n",
       "    <tr>\n",
       "      <th>450</th>\n",
       "      <td>Las  Vegas</td>\n",
       "      <td>80.000000</td>\n",
       "      <td>20.000000</td>\n",
       "    </tr>\n",
       "    <tr>\n",
       "      <th>451</th>\n",
       "      <td>Las Vegas</td>\n",
       "      <td>15.218186</td>\n",
       "      <td>84.781814</td>\n",
       "    </tr>\n",
       "    <tr>\n",
       "      <th>452</th>\n",
       "      <td>Las Vegas</td>\n",
       "      <td>88.181818</td>\n",
       "      <td>11.818182</td>\n",
       "    </tr>\n",
       "    <tr>\n",
       "      <th>453</th>\n",
       "      <td>Las Vegas &amp; Henderson</td>\n",
       "      <td>85.000000</td>\n",
       "      <td>15.000000</td>\n",
       "    </tr>\n",
       "    <tr>\n",
       "      <th>454</th>\n",
       "      <td>Las Vegas East</td>\n",
       "      <td>74.285714</td>\n",
       "      <td>25.714286</td>\n",
       "    </tr>\n",
       "    <tr>\n",
       "      <th>455</th>\n",
       "      <td>Las Vegas NV</td>\n",
       "      <td>33.333333</td>\n",
       "      <td>66.666667</td>\n",
       "    </tr>\n",
       "    <tr>\n",
       "      <th>456</th>\n",
       "      <td>Las Vegas Nevada</td>\n",
       "      <td>66.666667</td>\n",
       "      <td>33.333333</td>\n",
       "    </tr>\n",
       "    <tr>\n",
       "      <th>457</th>\n",
       "      <td>Las Vegas Nv</td>\n",
       "      <td>20.000000</td>\n",
       "      <td>80.000000</td>\n",
       "    </tr>\n",
       "    <tr>\n",
       "      <th>458</th>\n",
       "      <td>Las Vegas Valley</td>\n",
       "      <td>33.333333</td>\n",
       "      <td>66.666667</td>\n",
       "    </tr>\n",
       "    <tr>\n",
       "      <th>459</th>\n",
       "      <td>Las Vegas,</td>\n",
       "      <td>75.000000</td>\n",
       "      <td>25.000000</td>\n",
       "    </tr>\n",
       "    <tr>\n",
       "      <th>460</th>\n",
       "      <td>Las Vegas, NV</td>\n",
       "      <td>86.666667</td>\n",
       "      <td>13.333333</td>\n",
       "    </tr>\n",
       "    <tr>\n",
       "      <th>461</th>\n",
       "      <td>Las Vegass</td>\n",
       "      <td>75.000000</td>\n",
       "      <td>25.000000</td>\n",
       "    </tr>\n",
       "    <tr>\n",
       "      <th>463</th>\n",
       "      <td>Las vegas</td>\n",
       "      <td>74.319066</td>\n",
       "      <td>25.680934</td>\n",
       "    </tr>\n",
       "    <tr>\n",
       "      <th>464</th>\n",
       "      <td>LasVegas</td>\n",
       "      <td>78.174603</td>\n",
       "      <td>21.825397</td>\n",
       "    </tr>\n",
       "    <tr>\n",
       "      <th>493</th>\n",
       "      <td>Los Vegas</td>\n",
       "      <td>0.000000</td>\n",
       "      <td>100.000000</td>\n",
       "    </tr>\n",
       "    <tr>\n",
       "      <th>652</th>\n",
       "      <td>N E Las Vegas</td>\n",
       "      <td>100.000000</td>\n",
       "      <td>0.000000</td>\n",
       "    </tr>\n",
       "    <tr>\n",
       "      <th>653</th>\n",
       "      <td>N Las Vegas</td>\n",
       "      <td>80.046404</td>\n",
       "      <td>19.953596</td>\n",
       "    </tr>\n",
       "    <tr>\n",
       "      <th>656</th>\n",
       "      <td>N W Las Vegas</td>\n",
       "      <td>97.297297</td>\n",
       "      <td>2.702703</td>\n",
       "    </tr>\n",
       "    <tr>\n",
       "      <th>657</th>\n",
       "      <td>N. Las Vegas</td>\n",
       "      <td>85.578748</td>\n",
       "      <td>14.421252</td>\n",
       "    </tr>\n",
       "    <tr>\n",
       "      <th>663</th>\n",
       "      <td>NORTH LAS VEGAS</td>\n",
       "      <td>89.024390</td>\n",
       "      <td>10.975610</td>\n",
       "    </tr>\n",
       "    <tr>\n",
       "      <th>691</th>\n",
       "      <td>North Las Vegas</td>\n",
       "      <td>74.215585</td>\n",
       "      <td>25.784415</td>\n",
       "    </tr>\n",
       "    <tr>\n",
       "      <th>692</th>\n",
       "      <td>North Las Vegas</td>\n",
       "      <td>100.000000</td>\n",
       "      <td>0.000000</td>\n",
       "    </tr>\n",
       "    <tr>\n",
       "      <th>987</th>\n",
       "      <td>South Las Vegas</td>\n",
       "      <td>84.861111</td>\n",
       "      <td>15.138889</td>\n",
       "    </tr>\n",
       "    <tr>\n",
       "      <th>1106</th>\n",
       "      <td>Vegas</td>\n",
       "      <td>82.812500</td>\n",
       "      <td>17.187500</td>\n",
       "    </tr>\n",
       "    <tr>\n",
       "      <th>1183</th>\n",
       "      <td>las Vegas</td>\n",
       "      <td>33.333333</td>\n",
       "      <td>66.666667</td>\n",
       "    </tr>\n",
       "    <tr>\n",
       "      <th>1184</th>\n",
       "      <td>las vegas</td>\n",
       "      <td>82.089552</td>\n",
       "      <td>17.910448</td>\n",
       "    </tr>\n",
       "  </tbody>\n",
       "</table>\n",
       "</div>"
      ],
      "text/plain": [
       "local                     city       False        True\n",
       "1                110 Las Vegas   86.764706   13.235294\n",
       "122                C Las Vegas   95.652174    4.347826\n",
       "374    Henderson and Las vegas  100.000000    0.000000\n",
       "430                  LAS VEGAS   88.459016   11.540984\n",
       "434                   La Vegas   42.857143   57.142857\n",
       "442             Lake Las Vegas  100.000000    0.000000\n",
       "450                 Las  Vegas   80.000000   20.000000\n",
       "451                  Las Vegas   15.218186   84.781814\n",
       "452                 Las Vegas    88.181818   11.818182\n",
       "453      Las Vegas & Henderson   85.000000   15.000000\n",
       "454             Las Vegas East   74.285714   25.714286\n",
       "455               Las Vegas NV   33.333333   66.666667\n",
       "456           Las Vegas Nevada   66.666667   33.333333\n",
       "457               Las Vegas Nv   20.000000   80.000000\n",
       "458           Las Vegas Valley   33.333333   66.666667\n",
       "459                 Las Vegas,   75.000000   25.000000\n",
       "460              Las Vegas, NV   86.666667   13.333333\n",
       "461                 Las Vegass   75.000000   25.000000\n",
       "463                  Las vegas   74.319066   25.680934\n",
       "464                   LasVegas   78.174603   21.825397\n",
       "493                  Los Vegas    0.000000  100.000000\n",
       "652              N E Las Vegas  100.000000    0.000000\n",
       "653                N Las Vegas   80.046404   19.953596\n",
       "656              N W Las Vegas   97.297297    2.702703\n",
       "657               N. Las Vegas   85.578748   14.421252\n",
       "663            NORTH LAS VEGAS   89.024390   10.975610\n",
       "691            North Las Vegas   74.215585   25.784415\n",
       "692           North Las Vegas   100.000000    0.000000\n",
       "987            South Las Vegas   84.861111   15.138889\n",
       "1106                     Vegas   82.812500   17.187500\n",
       "1183                 las Vegas   33.333333   66.666667\n",
       "1184                 las vegas   82.089552   17.910448"
      ]
     },
     "execution_count": 15,
     "metadata": {},
     "output_type": "execute_result"
    }
   ],
   "source": [
    "user_city_cross[user_city_cross[\"city\"].str.contains('vegas', case = False)]"
   ]
  },
  {
   "cell_type": "markdown",
   "metadata": {},
   "source": [
    "### Using PySpark"
   ]
  },
  {
   "cell_type": "code",
   "execution_count": 16,
   "metadata": {},
   "outputs": [
    {
     "name": "stdout",
     "output_type": "stream",
     "text": [
      "+--------------------+----------+-----+\n",
      "|             user_id|      city|count|\n",
      "+--------------------+----------+-----+\n",
      "|yXQM5uF2jS6es16SJ...| Las Vegas|    1|\n",
      "|ocC1kDdcWg6hVaTDJ...| Las Vegas|   58|\n",
      "|Pow-A3nsUlagunpPc...| Las Vegas|    5|\n",
      "|ps87csBgK6zDWeDjF...|   Toronto|   19|\n",
      "|cAxlIVBNys8MkHjUq...| Las Vegas|    6|\n",
      "|9-3lHX4tvYHcRmXJA...| Las Vegas|    6|\n",
      "|EiP1OFgs-XGcKZux0...|   Toronto|  128|\n",
      "|XqIJKZ1xgLyspleE9...|Scottsdale|    3|\n",
      "|WxlXbcB-2UmwzYpkj...| Las Vegas|    1|\n",
      "|yZiRD63JCburnjHbl...|   Phoenix|    1|\n",
      "|teXLmGR-kiEEVW93T...| Las Vegas|    5|\n",
      "|9nRbPCjtfv7WQjbQF...| Las Vegas|   11|\n",
      "+--------------------+----------+-----+\n",
      "only showing top 12 rows\n",
      "\n",
      "None\n"
     ]
    }
   ],
   "source": [
    "user_city_tot = user_city_spark.groupby('user_id', 'city').count()\n",
    "print(user_city_tot.show(12))\n",
    "\n",
    "user_city_tot.registerTempTable(\"user_city_tot\")"
   ]
  },
  {
   "cell_type": "code",
   "execution_count": 17,
   "metadata": {},
   "outputs": [
    {
     "name": "stdout",
     "output_type": "stream",
     "text": [
      "+--------------------+----------+-----------------+\n",
      "|             user_id|      city|          percent|\n",
      "+--------------------+----------+-----------------+\n",
      "|--CJT4d-S8UhwqHe0...|Scottsdale| 50.0000000000000|\n",
      "|--CJT4d-S8UhwqHe0...|   Phoenix| 50.0000000000000|\n",
      "|-0Ji0nOyFe-4yo8BK...|  Matthews|100.0000000000000|\n",
      "|-0XPr1ilUAfp-yIXZ...|Pittsburgh|100.0000000000000|\n",
      "|-1KKYzibGPyUX-Mwk...|   Madison|100.0000000000000|\n",
      "|-1zQA2f_syMAdA04P...| Las Vegas|100.0000000000000|\n",
      "|-2Pb5d2WBPtbyGT_b...| Las Vegas|100.0000000000000|\n",
      "|-2mPrKWc9UYdvTrOZ...|Lake Wylie|100.0000000000000|\n",
      "|-3bsS2i9xqjNnIA1f...| Las Vegas|100.0000000000000|\n",
      "|-3i9bhfvrM3F1wsC9...|   Phoenix| 33.3333333333333|\n",
      "|-3i9bhfvrM3F1wsC9...| Las Vegas| 33.3333333333333|\n",
      "|-3i9bhfvrM3F1wsC9...| Henderson| 33.3333333333333|\n",
      "+--------------------+----------+-----------------+\n",
      "only showing top 12 rows\n",
      "\n"
     ]
    }
   ],
   "source": [
    "user_city_percent = sqlContext.sql(\"\"\"\n",
    "  WITH t1 AS \n",
    "   (SELECT user_id, city, Count(*) AS n \n",
    "    FROM user_city_tot\n",
    "    GROUP BY user_id, city)\n",
    "  SELECT user_id, city, \n",
    "    100 * (0.0+n)/(COUNT(*) OVER (PARTITION BY user_id)) AS percent\n",
    "  FROM t1\"\"\")\n",
    "\n",
    "user_city_percent.show(12)"
   ]
  },
  {
   "cell_type": "code",
   "execution_count": 18,
   "metadata": {},
   "outputs": [],
   "source": [
    "from pyspark.sql.functions import col, when\n",
    "user_city_lookup = user_city_percent.withColumn('local', (when(col(\"percent\") >= 70, True).otherwise(False)))"
   ]
  },
  {
   "cell_type": "code",
   "execution_count": 19,
   "metadata": {},
   "outputs": [
    {
     "name": "stdout",
     "output_type": "stream",
     "text": [
      "+--------------------+-----------+-----------------+-----+\n",
      "|             user_id|       city|          percent|local|\n",
      "+--------------------+-----------+-----------------+-----+\n",
      "|--CJT4d-S8UhwqHe0...| Scottsdale| 50.0000000000000|false|\n",
      "|--CJT4d-S8UhwqHe0...|    Phoenix| 50.0000000000000|false|\n",
      "|-0Ji0nOyFe-4yo8BK...|   Matthews|100.0000000000000| true|\n",
      "|-0XPr1ilUAfp-yIXZ...| Pittsburgh|100.0000000000000| true|\n",
      "|-1KKYzibGPyUX-Mwk...|    Madison|100.0000000000000| true|\n",
      "|-1zQA2f_syMAdA04P...|  Las Vegas|100.0000000000000| true|\n",
      "|-2Pb5d2WBPtbyGT_b...|  Las Vegas|100.0000000000000| true|\n",
      "|-2mPrKWc9UYdvTrOZ...| Lake Wylie|100.0000000000000| true|\n",
      "|-3bsS2i9xqjNnIA1f...|  Las Vegas|100.0000000000000| true|\n",
      "|-3i9bhfvrM3F1wsC9...|    Phoenix| 33.3333333333333|false|\n",
      "|-3i9bhfvrM3F1wsC9...|  Las Vegas| 33.3333333333333|false|\n",
      "|-3i9bhfvrM3F1wsC9...|  Henderson| 33.3333333333333|false|\n",
      "|-47g7LR58tpHlm7Bm...|  Las Vegas|100.0000000000000| true|\n",
      "|-4Anvj46CWf57KWI9...|    Toronto|100.0000000000000| true|\n",
      "|-4xyc3OgPwrLshmqH...|  Las Vegas|100.0000000000000| true|\n",
      "|-55DgUo52I3zW9Rxk...|    Phoenix|100.0000000000000| true|\n",
      "|-7JSlmBJKUQwREG_y...|Mississauga| 50.0000000000000|false|\n",
      "|-7JSlmBJKUQwREG_y...|   Montréal| 50.0000000000000|false|\n",
      "|-7V6r0PLuBlFVjbLJ...|  Las Vegas|100.0000000000000| true|\n",
      "|-7fIoUgPboApCfkG0...|    Phoenix| 50.0000000000000|false|\n",
      "+--------------------+-----------+-----------------+-----+\n",
      "only showing top 20 rows\n",
      "\n"
     ]
    }
   ],
   "source": [
    "user_city_lookup.show(20)"
   ]
  },
  {
   "cell_type": "markdown",
   "metadata": {},
   "source": [
    "### User Over Time"
   ]
  },
  {
   "cell_type": "code",
   "execution_count": 20,
   "metadata": {},
   "outputs": [],
   "source": [
    "user = spark.read.json(\"/user/jezhang/data/user.json\")"
   ]
  },
  {
   "cell_type": "code",
   "execution_count": 21,
   "metadata": {},
   "outputs": [
    {
     "name": "stdout",
     "output_type": "stream",
     "text": [
      "root\n",
      " |-- average_stars: double (nullable = true)\n",
      " |-- compliment_cool: long (nullable = true)\n",
      " |-- compliment_cute: long (nullable = true)\n",
      " |-- compliment_funny: long (nullable = true)\n",
      " |-- compliment_hot: long (nullable = true)\n",
      " |-- compliment_list: long (nullable = true)\n",
      " |-- compliment_more: long (nullable = true)\n",
      " |-- compliment_note: long (nullable = true)\n",
      " |-- compliment_photos: long (nullable = true)\n",
      " |-- compliment_plain: long (nullable = true)\n",
      " |-- compliment_profile: long (nullable = true)\n",
      " |-- compliment_writer: long (nullable = true)\n",
      " |-- cool: long (nullable = true)\n",
      " |-- elite: string (nullable = true)\n",
      " |-- fans: long (nullable = true)\n",
      " |-- friends: string (nullable = true)\n",
      " |-- funny: long (nullable = true)\n",
      " |-- name: string (nullable = true)\n",
      " |-- review_count: long (nullable = true)\n",
      " |-- useful: long (nullable = true)\n",
      " |-- user_id: string (nullable = true)\n",
      " |-- yelping_since: string (nullable = true)\n",
      "\n",
      "None\n",
      "+-------------+---------------+---------------+----------------+--------------+---------------+---------------+---------------+-----------------+----------------+------------------+-----------------+----+-------------------+----+--------------------+-----+------+------------+------+--------------------+-------------------+\n",
      "|average_stars|compliment_cool|compliment_cute|compliment_funny|compliment_hot|compliment_list|compliment_more|compliment_note|compliment_photos|compliment_plain|compliment_profile|compliment_writer|cool|              elite|fans|             friends|funny|  name|review_count|useful|             user_id|      yelping_since|\n",
      "+-------------+---------------+---------------+----------------+--------------+---------------+---------------+---------------+-----------------+----------------+------------------+-----------------+----+-------------------+----+--------------------+-----+------+------------+------+--------------------+-------------------+\n",
      "|         4.03|              1|              0|               1|             2|              0|              0|              1|                0|               1|                 0|                2|  25|     2015,2016,2017|   5|c78V-rj8NQcQjOI8K...|   17|Rashmi|          95|    84|l6BmjZMeQD3rDxWUb...|2013-10-08 23:11:33|\n",
      "|         3.63|              1|              0|               1|             1|              0|              0|              0|                0|               0|                 0|                0|  16|                   |   4|kEBTgDvFX754S68Fl...|   22| Jenna|          33|    48|4XChL029mKr5hydo7...|2013-02-21 22:29:06|\n",
      "|         3.71|              0|              0|               0|             0|              0|              0|              1|                0|               0|                 0|                0|  10|                   |   0|4N-HU_T32hLENLnts...|    8| David|          16|    28|bc8C_eETBWL0olvFS...|2013-10-04 00:16:10|\n",
      "|         4.85|              0|              0|               0|             1|              0|              0|              0|                0|               2|                 0|                1|  14|                   |   5|RZ6wS38wnlXyj-OOd...|    4|Angela|          17|    30|dD0gZpBctWGdWo9Wl...|2014-05-22 15:57:30|\n",
      "|         4.08|             80|              0|              80|            28|              1|              1|             16|                5|              57|                 0|               25| 665|2015,2016,2017,2018|  39|mbwrZ-RS76V1HoJ0b...|  279| Nancy|         361|  1114|MM4RJAeH6yuaN8oZD...|2013-10-23 07:02:50|\n",
      "+-------------+---------------+---------------+----------------+--------------+---------------+---------------+---------------+-----------------+----------------+------------------+-----------------+----+-------------------+----+--------------------+-----+------+------------+------+--------------------+-------------------+\n",
      "only showing top 5 rows\n",
      "\n"
     ]
    }
   ],
   "source": [
    "#business.createOrReplaceTempView(\"business\")\n",
    "print(user.printSchema())\n",
    "user.show(5)"
   ]
  },
  {
   "cell_type": "code",
   "execution_count": 22,
   "metadata": {},
   "outputs": [
    {
     "name": "stdout",
     "output_type": "stream",
     "text": [
      "+--------------------------+\n",
      "|Total Numer of User Todate|\n",
      "+--------------------------+\n",
      "|                   1637138|\n",
      "+--------------------------+\n",
      "\n"
     ]
    },
    {
     "data": {
      "text/plain": [
       "1637138"
      ]
     },
     "execution_count": 22,
     "metadata": {},
     "output_type": "execute_result"
    }
   ],
   "source": [
    "from pyspark.sql.functions import countDistinct\n",
    "\n",
    "user.agg(countDistinct('user_id').alias('Total Numer of User Todate')).show()\n",
    "\n",
    "user.count()"
   ]
  },
  {
   "cell_type": "markdown",
   "metadata": {},
   "source": [
    "### User Growth Over Year"
   ]
  },
  {
   "cell_type": "code",
   "execution_count": 23,
   "metadata": {},
   "outputs": [
    {
     "name": "stdout",
     "output_type": "stream",
     "text": [
      "+----------+------+\n",
      "|      year| count|\n",
      "+----------+------+\n",
      "|2018-01-01| 78016|\n",
      "|2017-01-01|120531|\n",
      "|2016-01-01|199148|\n",
      "|2015-01-01|238660|\n",
      "|2014-01-01|225437|\n",
      "|2013-01-01|197220|\n",
      "|2012-01-01|182900|\n",
      "|2011-01-01|168467|\n",
      "|2010-01-01|106840|\n",
      "|2009-01-01| 63977|\n",
      "|2008-01-01| 32544|\n",
      "|2007-01-01| 16480|\n",
      "|2006-01-01|  5836|\n",
      "|2005-01-01|  1001|\n",
      "|2004-01-01|    81|\n",
      "+----------+------+\n",
      "\n"
     ]
    }
   ],
   "source": [
    "from pyspark.sql.functions import trunc\n",
    "\n",
    "user_year = user.groupby(trunc('yelping_since', 'year').alias('year')).count().orderBy('year', ascending=False)\n",
    "\n",
    "user_year.show(20)"
   ]
  },
  {
   "cell_type": "markdown",
   "metadata": {},
   "source": [
    "### Year's user over number of reviews and average star"
   ]
  },
  {
   "cell_type": "code",
   "execution_count": 24,
   "metadata": {},
   "outputs": [
    {
     "name": "stdout",
     "output_type": "stream",
     "text": [
      "+----------------------------+\n",
      "|Total Numer of Review Todate|\n",
      "+----------------------------+\n",
      "|                     6685900|\n",
      "+----------------------------+\n",
      "\n"
     ]
    },
    {
     "data": {
      "text/plain": [
       "6685900"
      ]
     },
     "execution_count": 24,
     "metadata": {},
     "output_type": "execute_result"
    }
   ],
   "source": [
    "review.agg(countDistinct('review_id').alias('Total Numer of Review Todate')).show()\n",
    "\n",
    "review.count()"
   ]
  },
  {
   "cell_type": "code",
   "execution_count": 25,
   "metadata": {},
   "outputs": [
    {
     "name": "stdout",
     "output_type": "stream",
     "text": [
      "+--------------------+--------------------+-----+-------------------+\n",
      "|             user_id|           review_id|stars|      yelping_since|\n",
      "+--------------------+--------------------+-----+-------------------+\n",
      "|--CJT4d-S8UhwqHe0...|bklQqMXHT-JYiVQdB...|  1.0|2015-08-18 19:10:59|\n",
      "|--CJT4d-S8UhwqHe0...|5aq0aGO3LNcAIV2Rl...|  4.0|2015-08-18 19:10:59|\n",
      "|-0Ji0nOyFe-4yo8BK...|a0r23pA6D4HDLb9P5...|  4.0|2009-05-15 19:50:34|\n",
      "|-0XPr1ilUAfp-yIXZ...|DfAjJ3KCimOdqplv4...|  2.0|2007-12-26 17:32:44|\n",
      "|-1KKYzibGPyUX-Mwk...|TbU3S2kWmfajlVov3...|  4.0|2009-08-07 13:42:19|\n",
      "|-1zQA2f_syMAdA04P...|AF7_icUaLQVgj7d29...|  1.0|2014-06-22 02:44:41|\n",
      "|-1zQA2f_syMAdA04P...|d1vPdEGTP75fS_bd2...|  5.0|2014-06-22 02:44:41|\n",
      "|-1zQA2f_syMAdA04P...|_aY8ReBavQVGHhCh7...|  1.0|2014-06-22 02:44:41|\n",
      "|-1zQA2f_syMAdA04P...|y0BLDiU8nQi22t9OF...|  5.0|2014-06-22 02:44:41|\n",
      "|-1zQA2f_syMAdA04P...|08j8zUlyJylKcJa_r...|  5.0|2014-06-22 02:44:41|\n",
      "|-1zQA2f_syMAdA04P...|QCQJC9kbCkhzTRosS...|  1.0|2014-06-22 02:44:41|\n",
      "|-2Pb5d2WBPtbyGT_b...|E5brqk7xXfvriiekH...|  5.0|2009-04-29 14:35:45|\n",
      "+--------------------+--------------------+-----+-------------------+\n",
      "only showing top 12 rows\n",
      "\n"
     ]
    }
   ],
   "source": [
    "user_year_join = user.select('user_id', 'yelping_since')\n",
    "    \n",
    "review_year_star = review.select('review_id', 'user_id', 'stars')\n",
    "user_review_year = review_year_star.join(user_year_join, [\"user_id\"], 'left')\n",
    "user_review_year.show(12)"
   ]
  },
  {
   "cell_type": "code",
   "execution_count": 26,
   "metadata": {},
   "outputs": [
    {
     "name": "stdout",
     "output_type": "stream",
     "text": [
      "+----------+------+\n",
      "|      year| count|\n",
      "+----------+------+\n",
      "|2018-01-01|141422|\n",
      "|2017-01-01|295846|\n",
      "|2016-01-01|546668|\n",
      "|2015-01-01|772595|\n",
      "|2014-01-01|853090|\n",
      "|2013-01-01|831904|\n",
      "|2012-01-01|849138|\n",
      "|2011-01-01|877084|\n",
      "|2010-01-01|654385|\n",
      "|2009-01-01|435993|\n",
      "|2008-01-01|245372|\n",
      "|2007-01-01|127319|\n",
      "|2006-01-01| 45376|\n",
      "|2005-01-01|  8180|\n",
      "|2004-01-01|  1528|\n",
      "+----------+------+\n",
      "\n"
     ]
    }
   ],
   "source": [
    "review_year = user_review_year.groupby(trunc('yelping_since', 'year').alias('year')).count().orderBy('year', ascending=False)\n",
    "\n",
    "review_year.show(20)"
   ]
  },
  {
   "cell_type": "code",
   "execution_count": 27,
   "metadata": {},
   "outputs": [
    {
     "name": "stdout",
     "output_type": "stream",
     "text": [
      "+----------+------------------+\n",
      "|      year|         avg_stars|\n",
      "+----------+------------------+\n",
      "|2018-01-01| 3.603901797457256|\n",
      "|2017-01-01|3.6824462727229705|\n",
      "|2016-01-01|3.6988537832834556|\n",
      "|2015-01-01|3.7066936752114628|\n",
      "|2014-01-01| 3.725242354265083|\n",
      "|2013-01-01|3.7275130303496558|\n",
      "|2012-01-01| 3.722898986972671|\n",
      "|2011-01-01| 3.727376169215263|\n",
      "|2010-01-01| 3.730906117958083|\n",
      "|2009-01-01|3.7008185911241696|\n",
      "|2008-01-01| 3.733853088371941|\n",
      "|2007-01-01|3.7303937354204795|\n",
      "|2006-01-01| 3.733383286318759|\n",
      "|2005-01-01|3.8117359413202934|\n",
      "|2004-01-01| 3.360602094240838|\n",
      "+----------+------------------+\n",
      "\n"
     ]
    }
   ],
   "source": [
    "from pyspark.sql.functions import mean\n",
    "\n",
    "review_year_star = user_review_year.groupby(trunc('yelping_since', 'year').alias('year')).agg(mean(col('stars')).alias('avg_stars')).orderBy('year', ascending=False)\n",
    "\n",
    "review_year_star.show(20)"
   ]
  },
  {
   "cell_type": "code",
   "execution_count": 28,
   "metadata": {},
   "outputs": [],
   "source": [
    "star_city = review.groupby(trunc('date', 'year').alias('year')).agg(mean(col('stars')).alias('avg_stars')).orderBy('year', ascending=False)"
   ]
  },
  {
   "cell_type": "code",
   "execution_count": 29,
   "metadata": {},
   "outputs": [
    {
     "name": "stdout",
     "output_type": "stream",
     "text": [
      "+----------+------------------+\n",
      "|      year|         avg_stars|\n",
      "+----------+------------------+\n",
      "|2018-01-01|3.7640443522844413|\n",
      "|2017-01-01| 3.757166332833199|\n",
      "|2016-01-01|3.7352150464239626|\n",
      "|2015-01-01|3.6983137337253256|\n",
      "|2014-01-01| 3.675515207232054|\n",
      "|2013-01-01| 3.651219025675054|\n",
      "|2012-01-01|3.6407066386989566|\n",
      "|2011-01-01|3.6662198258641583|\n",
      "|2010-01-01| 3.686461707589107|\n",
      "|2009-01-01|3.6812094135787214|\n",
      "|2008-01-01|3.7111269987967983|\n",
      "|2007-01-01|3.8117256533732293|\n",
      "|2006-01-01|3.8027947254477463|\n",
      "|2005-01-01| 4.026255707762557|\n",
      "|2004-01-01| 4.461538461538462|\n",
      "+----------+------------------+\n",
      "\n"
     ]
    }
   ],
   "source": [
    "star_city.show(20)"
   ]
  },
  {
   "cell_type": "code",
   "execution_count": 30,
   "metadata": {},
   "outputs": [],
   "source": [
    "user_year_join = user.select('user_id', 'yelping_since')\n",
    "    \n",
    "review_year_star = review.select('review_id', 'user_id', 'stars', 'date')\n",
    "user_review_year = review_year_star.join(user_year_join, [\"user_id\"], 'left')"
   ]
  },
  {
   "cell_type": "code",
   "execution_count": 31,
   "metadata": {},
   "outputs": [
    {
     "name": "stdout",
     "output_type": "stream",
     "text": [
      "+--------------------+--------------------+-----+-------------------+-------------------+----------+----------+\n",
      "|             user_id|           review_id|stars|               date|      yelping_since|year_since| year_date|\n",
      "+--------------------+--------------------+-----+-------------------+-------------------+----------+----------+\n",
      "|--CJT4d-S8UhwqHe0...|bklQqMXHT-JYiVQdB...|  1.0|2015-08-18 19:11:04|2015-08-18 19:10:59|2015-01-01|2015-01-01|\n",
      "|--CJT4d-S8UhwqHe0...|5aq0aGO3LNcAIV2Rl...|  4.0|2015-08-18 19:22:17|2015-08-18 19:10:59|2015-01-01|2015-01-01|\n",
      "|-0Ji0nOyFe-4yo8BK...|a0r23pA6D4HDLb9P5...|  4.0|2014-03-21 17:09:59|2009-05-15 19:50:34|2009-01-01|2014-01-01|\n",
      "|-0XPr1ilUAfp-yIXZ...|DfAjJ3KCimOdqplv4...|  2.0|2012-07-06 03:43:34|2007-12-26 17:32:44|2007-01-01|2012-01-01|\n",
      "|-1KKYzibGPyUX-Mwk...|TbU3S2kWmfajlVov3...|  4.0|2014-09-19 01:12:10|2009-08-07 13:42:19|2009-01-01|2014-01-01|\n",
      "|-1zQA2f_syMAdA04P...|08j8zUlyJylKcJa_r...|  5.0|2016-07-29 19:44:01|2014-06-22 02:44:41|2014-01-01|2016-01-01|\n",
      "|-1zQA2f_syMAdA04P...|QCQJC9kbCkhzTRosS...|  1.0|2018-02-12 21:37:14|2014-06-22 02:44:41|2014-01-01|2018-01-01|\n",
      "|-1zQA2f_syMAdA04P...|AF7_icUaLQVgj7d29...|  1.0|2014-08-28 01:31:40|2014-06-22 02:44:41|2014-01-01|2014-01-01|\n",
      "|-1zQA2f_syMAdA04P...|d1vPdEGTP75fS_bd2...|  5.0|2018-02-07 18:59:50|2014-06-22 02:44:41|2014-01-01|2018-01-01|\n",
      "|-1zQA2f_syMAdA04P...|_aY8ReBavQVGHhCh7...|  1.0|2017-05-01 16:00:12|2014-06-22 02:44:41|2014-01-01|2017-01-01|\n",
      "|-1zQA2f_syMAdA04P...|y0BLDiU8nQi22t9OF...|  5.0|2017-05-01 16:05:57|2014-06-22 02:44:41|2014-01-01|2017-01-01|\n",
      "|-2Pb5d2WBPtbyGT_b...|E5brqk7xXfvriiekH...|  5.0|2014-07-09 03:02:59|2009-04-29 14:35:45|2009-01-01|2014-01-01|\n",
      "+--------------------+--------------------+-----+-------------------+-------------------+----------+----------+\n",
      "only showing top 12 rows\n",
      "\n"
     ]
    }
   ],
   "source": [
    "user_review_year = user_review_year.withColumn('year_since', trunc(col('yelping_since'), 'year'))\n",
    "user_review_year = user_review_year.withColumn('year_date', trunc(col('date'), 'year'))\n",
    "\n",
    "user_review_year.show(12)"
   ]
  },
  {
   "cell_type": "code",
   "execution_count": 32,
   "metadata": {},
   "outputs": [
    {
     "name": "stdout",
     "output_type": "stream",
     "text": [
      "+----------+------------------+\n",
      "|year_since|         avg_stars|\n",
      "+----------+------------------+\n",
      "|2018-01-01| 3.603901797457256|\n",
      "|2017-01-01|3.6530376600567607|\n",
      "|2016-01-01|3.6564239376607426|\n",
      "|2015-01-01| 3.630105111487983|\n",
      "|2014-01-01|3.6234199599354215|\n",
      "|2013-01-01|3.5959762203234713|\n",
      "|2012-01-01|3.5872975034228007|\n",
      "|2011-01-01| 3.643065615490025|\n",
      "|2010-01-01| 3.694322715276499|\n",
      "|2009-01-01| 3.674557125508414|\n",
      "|2008-01-01|3.7267742824761845|\n",
      "|2007-01-01|3.8419567262464724|\n",
      "|2006-01-01|3.7992957746478875|\n",
      "|2005-01-01|4.0231749710312865|\n",
      "|2004-01-01| 4.461538461538462|\n",
      "+----------+------------------+\n",
      "\n"
     ]
    }
   ],
   "source": [
    "star_city = user_review_year.filter(col('year_since') == col('year_date')).groupby('year_since').agg(mean(col('stars')).alias('avg_stars')).orderBy('year_since', ascending=False)\n",
    "star_city.show(20)"
   ]
  },
  {
   "cell_type": "code",
   "execution_count": 33,
   "metadata": {},
   "outputs": [
    {
     "name": "stdout",
     "output_type": "stream",
     "text": [
      "+--------------------+--------------------+-----+-------------------+-------------------+----------+----------+\n",
      "|             user_id|           review_id|stars|               date|      yelping_since|year_since| year_date|\n",
      "+--------------------+--------------------+-----+-------------------+-------------------+----------+----------+\n",
      "|yYSBB5q7bY-qSVvmM...|0O7kc-T1SrZpF84jM...|  5.0|2004-10-19 03:05:42|2004-10-12 20:18:03|2004-01-01|2004-01-01|\n",
      "|z2JQPh4S_eeq04Ym7...|q-C-lrBnIJ7qoD4Cz...|  3.0|2017-01-20 17:34:35|2004-10-15 18:28:30|2004-01-01|2017-01-01|\n",
      "|zXHee8sM-qLALzPi9...|rsCMS13UzmQ5pF1Rg...|  2.0|2010-04-08 13:31:25|2004-10-15 21:12:19|2004-01-01|2010-01-01|\n",
      "|zXHee8sM-qLALzPi9...|YoVXwCaVDJVgoscfB...|  1.0|2017-11-29 00:05:01|2004-10-15 21:12:19|2004-01-01|2017-01-01|\n",
      "|0sidDfoTIHle5vvHE...|ic3WHNrH1cbVsS_2o...|  5.0|2006-01-16 20:55:27|2004-10-12 15:47:20|2004-01-01|2006-01-01|\n",
      "|0sidDfoTIHle5vvHE...|FfES_M5Tn3VdCwWda...|  5.0|2011-11-11 22:17:20|2004-10-12 15:47:20|2004-01-01|2011-01-01|\n",
      "|npCUdiDUBmf5qVYDb...|UqB7o6IvgCacKlzDJ...|  1.0|2011-01-08 18:55:12|2004-10-12 14:41:17|2004-01-01|2011-01-01|\n",
      "|DQj7DnJiDV9TAxS0o...|OU5ABHvglB8C_Fs-5...|  5.0|2007-07-31 08:17:27|2004-10-21 16:44:22|2004-01-01|2007-01-01|\n",
      "|DQj7DnJiDV9TAxS0o...|MejRc2g38FCXgFyYU...|  5.0|2007-07-31 08:15:14|2004-10-21 16:44:22|2004-01-01|2007-01-01|\n",
      "|DQj7DnJiDV9TAxS0o...|qIjeZVcHCN8CUdkkU...|  5.0|2007-07-31 08:12:35|2004-10-21 16:44:22|2004-01-01|2007-01-01|\n",
      "|edyXf7svrZgn6o386...|zzn86OsbJYt91AwH0...|  1.0|2009-08-07 14:03:28|2004-12-07 05:34:27|2004-01-01|2009-01-01|\n",
      "|edyXf7svrZgn6o386...|QZcRSVUltJ6YreTeD...|  4.0|2009-08-07 14:10:41|2004-12-07 05:34:27|2004-01-01|2009-01-01|\n",
      "+--------------------+--------------------+-----+-------------------+-------------------+----------+----------+\n",
      "only showing top 12 rows\n",
      "\n"
     ]
    }
   ],
   "source": [
    "user_review_year.filter(user_review_year.year_since.like('%2004%')).show(12)"
   ]
  },
  {
   "cell_type": "code",
   "execution_count": 35,
   "metadata": {},
   "outputs": [
    {
     "name": "stdout",
     "output_type": "stream",
     "text": [
      "+----------+------------------+\n",
      "| year_date|         avg_stars|\n",
      "+----------+------------------+\n",
      "|2018-01-01|            3.4375|\n",
      "|2017-01-01| 3.443298969072165|\n",
      "|2016-01-01| 3.536842105263158|\n",
      "|2015-01-01|3.3214285714285716|\n",
      "|2014-01-01|3.1037735849056602|\n",
      "|2013-01-01| 3.279279279279279|\n",
      "|2012-01-01|3.3304347826086955|\n",
      "|2011-01-01|3.4761904761904763|\n",
      "|2010-01-01| 3.296511627906977|\n",
      "|2009-01-01|3.1564625850340136|\n",
      "|2008-01-01| 3.278409090909091|\n",
      "|2007-01-01|3.5681818181818183|\n",
      "|2006-01-01|3.4415584415584415|\n",
      "|2005-01-01| 4.230769230769231|\n",
      "|2004-01-01| 4.461538461538462|\n",
      "+----------+------------------+\n",
      "\n"
     ]
    }
   ],
   "source": [
    "star_city = user_review_year.filter(user_review_year.year_since.like('%2004%')).groupby('year_date').agg(mean(col('stars')).alias('avg_stars')).orderBy('year_date', ascending=False)\n",
    "star_city.show(20)"
   ]
  },
  {
   "cell_type": "code",
   "execution_count": 36,
   "metadata": {},
   "outputs": [
    {
     "name": "stdout",
     "output_type": "stream",
     "text": [
      "+----------+------------------+\n",
      "| year_date|         avg_stars|\n",
      "+----------+------------------+\n",
      "|2018-01-01| 3.917197452229299|\n",
      "|2017-01-01| 3.911764705882353|\n",
      "|2016-01-01|            3.9625|\n",
      "|2015-01-01|3.8021739130434784|\n",
      "|2014-01-01|3.8194444444444446|\n",
      "|2013-01-01|3.8118811881188117|\n",
      "|2012-01-01|3.7819148936170213|\n",
      "|2011-01-01|3.8111888111888113|\n",
      "|2010-01-01|3.7178002894356004|\n",
      "|2009-01-01| 3.747183979974969|\n",
      "|2008-01-01|3.7196870925684484|\n",
      "|2007-01-01|3.7175438596491226|\n",
      "|2006-01-01| 3.843385214007782|\n",
      "|2005-01-01|4.0231749710312865|\n",
      "+----------+------------------+\n",
      "\n"
     ]
    }
   ],
   "source": [
    "star_city = user_review_year.filter(user_review_year.year_since.like('%2005%')).groupby('year_date').agg(mean(col('stars')).alias('avg_stars')).orderBy('year_date', ascending=False)\n",
    "star_city.show(20)"
   ]
  },
  {
   "cell_type": "code",
   "execution_count": 37,
   "metadata": {},
   "outputs": [
    {
     "name": "stdout",
     "output_type": "stream",
     "text": [
      "+----------+------------------+\n",
      "| year_date|         avg_stars|\n",
      "+----------+------------------+\n",
      "|2018-01-01| 3.783178590933916|\n",
      "|2017-01-01|  3.83857264231096|\n",
      "|2016-01-01| 3.815040650406504|\n",
      "|2015-01-01|3.7334710743801653|\n",
      "|2014-01-01|3.6939728353140917|\n",
      "|2013-01-01| 3.689890193108671|\n",
      "|2012-01-01|3.7011813759555245|\n",
      "|2011-01-01|3.7016604177825387|\n",
      "|2010-01-01|3.6810431293881645|\n",
      "|2009-01-01|3.6960091220068416|\n",
      "|2008-01-01| 3.698005698005698|\n",
      "|2007-01-01|3.7647979956154085|\n",
      "|2006-01-01|3.7992957746478875|\n",
      "+----------+------------------+\n",
      "\n"
     ]
    }
   ],
   "source": [
    "star_city = user_review_year.filter(user_review_year.year_since.like('%2006%')).groupby('year_date').agg(mean(col('stars')).alias('avg_stars')).orderBy('year_date', ascending=False)\n",
    "star_city.show(20)"
   ]
  },
  {
   "cell_type": "code",
   "execution_count": 38,
   "metadata": {},
   "outputs": [
    {
     "name": "stdout",
     "output_type": "stream",
     "text": [
      "+----------+------------------+\n",
      "| year_date|         avg_stars|\n",
      "+----------+------------------+\n",
      "|2018-01-01|3.8317325452530477|\n",
      "|2017-01-01|3.8242135082749367|\n",
      "|2016-01-01| 3.811248942768537|\n",
      "|2015-01-01|3.7556725586059923|\n",
      "|2014-01-01|3.7251556662515566|\n",
      "|2013-01-01| 3.719921298573537|\n",
      "|2012-01-01| 3.707862818904224|\n",
      "|2011-01-01| 3.670691216420163|\n",
      "|2010-01-01|3.6666426512968298|\n",
      "|2009-01-01| 3.675477776964194|\n",
      "|2008-01-01|3.6907094594594594|\n",
      "|2007-01-01|3.8419567262464724|\n",
      "+----------+------------------+\n",
      "\n"
     ]
    }
   ],
   "source": [
    "star_city = user_review_year.filter(user_review_year.year_since.like('%2007%')).groupby('year_date').agg(mean(col('stars')).alias('avg_stars')).orderBy('year_date', ascending=False)\n",
    "star_city.show(20)"
   ]
  },
  {
   "cell_type": "code",
   "execution_count": 39,
   "metadata": {},
   "outputs": [
    {
     "name": "stdout",
     "output_type": "stream",
     "text": [
      "+----------+------------------+\n",
      "| year_date|         avg_stars|\n",
      "+----------+------------------+\n",
      "|2018-01-01| 3.840304761904762|\n",
      "|2017-01-01| 3.808272081724181|\n",
      "|2016-01-01|3.7784235810450153|\n",
      "|2015-01-01|  3.74822695035461|\n",
      "|2014-01-01| 3.734280639431616|\n",
      "|2013-01-01|3.7148080438756854|\n",
      "|2012-01-01|  3.70066851607622|\n",
      "|2011-01-01|3.7242470496258515|\n",
      "|2010-01-01| 3.706685236768802|\n",
      "|2009-01-01|3.6935696837657623|\n",
      "|2008-01-01|3.7267742824761845|\n",
      "+----------+------------------+\n",
      "\n"
     ]
    }
   ],
   "source": [
    "star_city = user_review_year.filter(user_review_year.year_since.like('%2008%')).groupby('year_date').agg(mean(col('stars')).alias('avg_stars')).orderBy('year_date', ascending=False)\n",
    "star_city.show(20)"
   ]
  },
  {
   "cell_type": "code",
   "execution_count": 40,
   "metadata": {},
   "outputs": [
    {
     "name": "stdout",
     "output_type": "stream",
     "text": [
      "+----------+------------------+\n",
      "| year_date|         avg_stars|\n",
      "+----------+------------------+\n",
      "|2018-01-01|3.8163399552690436|\n",
      "|2017-01-01|3.7881474701827647|\n",
      "|2016-01-01|3.7641931684334513|\n",
      "|2015-01-01|3.7240009054098238|\n",
      "|2014-01-01| 3.697907668682215|\n",
      "|2013-01-01| 3.661775015189045|\n",
      "|2012-01-01|3.6430225825130282|\n",
      "|2011-01-01|3.6553442028985508|\n",
      "|2010-01-01| 3.670877625430083|\n",
      "|2009-01-01| 3.674557125508414|\n",
      "+----------+------------------+\n",
      "\n"
     ]
    }
   ],
   "source": [
    "star_city = user_review_year.filter(user_review_year.year_since.like('%2009%')).groupby('year_date').agg(mean(col('stars')).alias('avg_stars')).orderBy('year_date', ascending=False)\n",
    "star_city.show(20)"
   ]
  },
  {
   "cell_type": "code",
   "execution_count": 41,
   "metadata": {},
   "outputs": [
    {
     "name": "stdout",
     "output_type": "stream",
     "text": [
      "+----------+------------------+\n",
      "| year_date|         avg_stars|\n",
      "+----------+------------------+\n",
      "|2018-01-01| 3.842451993556911|\n",
      "|2017-01-01|3.8241622789664302|\n",
      "|2016-01-01|3.7874529633113827|\n",
      "|2015-01-01|3.7445115443332115|\n",
      "|2014-01-01| 3.706815100850347|\n",
      "|2013-01-01|3.6894684277897345|\n",
      "|2012-01-01|3.6654344820032585|\n",
      "|2011-01-01|3.6804658435326467|\n",
      "|2010-01-01| 3.694322715276499|\n",
      "|2009-01-01|               4.0|\n",
      "|2008-01-01|               3.6|\n",
      "+----------+------------------+\n",
      "\n"
     ]
    }
   ],
   "source": [
    "star_city = user_review_year.filter(user_review_year.year_since.like('%2010%')).groupby('year_date').agg(mean(col('stars')).alias('avg_stars')).orderBy('year_date', ascending=False)\n",
    "star_city.show(20)"
   ]
  },
  {
   "cell_type": "code",
   "execution_count": 42,
   "metadata": {},
   "outputs": [
    {
     "name": "stdout",
     "output_type": "stream",
     "text": [
      "+----------+------------------+\n",
      "| year_date|         avg_stars|\n",
      "+----------+------------------+\n",
      "|2018-01-01|3.8212704473915062|\n",
      "|2017-01-01|3.8167600126809678|\n",
      "|2016-01-01|3.7803333333333335|\n",
      "|2015-01-01|3.7349405698230975|\n",
      "|2014-01-01|3.6927796676581117|\n",
      "|2013-01-01|3.6752070019182015|\n",
      "|2012-01-01| 3.656992585419574|\n",
      "|2011-01-01| 3.643065615490025|\n",
      "|2010-01-01|               5.0|\n",
      "|2009-01-01|               4.0|\n",
      "+----------+------------------+\n",
      "\n"
     ]
    }
   ],
   "source": [
    "star_city = user_review_year.filter(user_review_year.year_since.like('%2011%')).groupby('year_date').agg(mean(col('stars')).alias('avg_stars')).orderBy('year_date', ascending=False)\n",
    "star_city.show(20)"
   ]
  },
  {
   "cell_type": "code",
   "execution_count": 43,
   "metadata": {},
   "outputs": [
    {
     "name": "stdout",
     "output_type": "stream",
     "text": [
      "+----------+------------------+\n",
      "| year_date|         avg_stars|\n",
      "+----------+------------------+\n",
      "|2018-01-01|3.8266005322582073|\n",
      "|2017-01-01|3.8031460467539633|\n",
      "|2016-01-01|3.7671076483974235|\n",
      "|2015-01-01| 3.726133571588117|\n",
      "|2014-01-01| 3.681100443491398|\n",
      "|2013-01-01|3.6456830102622577|\n",
      "|2012-01-01|3.5872975034228007|\n",
      "|2011-01-01|               3.5|\n",
      "|2010-01-01|               4.0|\n",
      "|2009-01-01|               5.0|\n",
      "|2008-01-01|               4.0|\n",
      "+----------+------------------+\n",
      "\n"
     ]
    }
   ],
   "source": [
    "star_city = user_review_year.filter(user_review_year.year_since.like('%2012%')).groupby('year_date').agg(mean(col('stars')).alias('avg_stars')).orderBy('year_date', ascending=False)\n",
    "star_city.show(20)"
   ]
  },
  {
   "cell_type": "code",
   "execution_count": 44,
   "metadata": {},
   "outputs": [
    {
     "name": "stdout",
     "output_type": "stream",
     "text": [
      "+----------+------------------+\n",
      "| year_date|         avg_stars|\n",
      "+----------+------------------+\n",
      "|2018-01-01|3.8306067961165047|\n",
      "|2017-01-01|3.7857933630400487|\n",
      "|2016-01-01|3.7532054352139466|\n",
      "|2015-01-01| 3.707949401875202|\n",
      "|2014-01-01| 3.691359713214175|\n",
      "|2013-01-01|3.5959762203234713|\n",
      "|2012-01-01| 4.372549019607843|\n",
      "|2011-01-01| 4.264367816091954|\n",
      "|2010-01-01|              4.25|\n",
      "|2009-01-01|4.2727272727272725|\n",
      "|2008-01-01|3.6666666666666665|\n",
      "+----------+------------------+\n",
      "\n"
     ]
    }
   ],
   "source": [
    "star_city = user_review_year.filter(user_review_year.year_since.like('%2013%')).groupby('year_date').agg(mean(col('stars')).alias('avg_stars')).orderBy('year_date', ascending=False)\n",
    "star_city.show(20)"
   ]
  },
  {
   "cell_type": "code",
   "execution_count": 45,
   "metadata": {},
   "outputs": [
    {
     "name": "stdout",
     "output_type": "stream",
     "text": [
      "+----------+------------------+\n",
      "| year_date|         avg_stars|\n",
      "+----------+------------------+\n",
      "|2018-01-01| 3.797377708470125|\n",
      "|2017-01-01|3.7802883299008343|\n",
      "|2016-01-01|3.7501446503005185|\n",
      "|2015-01-01|3.6972108094025953|\n",
      "|2014-01-01|3.6234199599354215|\n",
      "|2013-01-01|              3.75|\n",
      "|2012-01-01|3.4166666666666665|\n",
      "|2011-01-01| 4.027777777777778|\n",
      "|2010-01-01|               5.0|\n",
      "+----------+------------------+\n",
      "\n"
     ]
    }
   ],
   "source": [
    "star_city = user_review_year.filter(user_review_year.year_since.like('%2014%')).groupby('year_date').agg(mean(col('stars')).alias('avg_stars')).orderBy('year_date', ascending=False)\n",
    "star_city.show(20)"
   ]
  },
  {
   "cell_type": "code",
   "execution_count": 46,
   "metadata": {},
   "outputs": [
    {
     "name": "stdout",
     "output_type": "stream",
     "text": [
      "+----------+------------------+\n",
      "| year_date|         avg_stars|\n",
      "+----------+------------------+\n",
      "|2018-01-01|3.7643115102120497|\n",
      "|2017-01-01|3.7399126394747677|\n",
      "|2016-01-01| 3.714046350129199|\n",
      "|2015-01-01| 3.630105111487983|\n",
      "|2008-01-01|3.7777777777777777|\n",
      "+----------+------------------+\n",
      "\n"
     ]
    }
   ],
   "source": [
    "star_city = user_review_year.filter(user_review_year.year_since.like('%2015%')).groupby('year_date').agg(mean(col('stars')).alias('avg_stars')).orderBy('year_date', ascending=False)\n",
    "star_city.show(20)"
   ]
  },
  {
   "cell_type": "code",
   "execution_count": 47,
   "metadata": {},
   "outputs": [
    {
     "name": "stdout",
     "output_type": "stream",
     "text": [
      "+----------+------------------+\n",
      "| year_date|         avg_stars|\n",
      "+----------+------------------+\n",
      "|2018-01-01|3.7346112886048988|\n",
      "|2017-01-01|3.7168689485885724|\n",
      "|2016-01-01|3.6564239376607426|\n",
      "+----------+------------------+\n",
      "\n"
     ]
    }
   ],
   "source": [
    "star_city = user_review_year.filter(user_review_year.year_since.like('%2016%')).groupby('year_date').agg(mean(col('stars')).alias('avg_stars')).orderBy('year_date', ascending=False)\n",
    "star_city.show(20)"
   ]
  },
  {
   "cell_type": "code",
   "execution_count": 48,
   "metadata": {},
   "outputs": [
    {
     "name": "stdout",
     "output_type": "stream",
     "text": [
      "+----------+------------------+\n",
      "| year_date|         avg_stars|\n",
      "+----------+------------------+\n",
      "|2018-01-01|3.7193038577249706|\n",
      "|2017-01-01|3.6530376600567607|\n",
      "+----------+------------------+\n",
      "\n"
     ]
    }
   ],
   "source": [
    "star_city = user_review_year.filter(user_review_year.year_since.like('%2017%')).groupby('year_date').agg(mean(col('stars')).alias('avg_stars')).orderBy('year_date', ascending=False)\n",
    "star_city.show(20)"
   ]
  },
  {
   "cell_type": "code",
   "execution_count": 49,
   "metadata": {},
   "outputs": [
    {
     "name": "stdout",
     "output_type": "stream",
     "text": [
      "+----------+-----------------+\n",
      "| year_date|        avg_stars|\n",
      "+----------+-----------------+\n",
      "|2018-01-01|3.603901797457256|\n",
      "+----------+-----------------+\n",
      "\n"
     ]
    }
   ],
   "source": [
    "star_city = user_review_year.filter(user_review_year.year_since.like('%2018%')).groupby('year_date').agg(mean(col('stars')).alias('avg_stars')).orderBy('year_date', ascending=False)\n",
    "star_city.show(20)"
   ]
  }
 ],
 "metadata": {
  "kernelspec": {
   "display_name": "pySpark 4G 32e",
   "language": "python",
   "name": "pyspark2_4g32e"
  },
  "language_info": {
   "codemirror_mode": {
    "name": "ipython",
    "version": 3
   },
   "file_extension": ".py",
   "mimetype": "text/x-python",
   "name": "python",
   "nbconvert_exporter": "python",
   "pygments_lexer": "ipython3",
   "version": "3.6.8"
  }
 },
 "nbformat": 4,
 "nbformat_minor": 2
}
