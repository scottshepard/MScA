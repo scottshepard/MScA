{
 "cells": [
  {
   "cell_type": "markdown",
   "metadata": {},
   "source": [
    "# Advanced Machine Learning and Artificial Intelligence (MScA 32017)\n",
    "\n",
    "# Project: Anomalies Detection using Autoencoders\n",
    "\n",
    "## Notebook 4: Project Instructions\n",
    "\n",
    "## Yuri Balasanov, Andrey Kobyshev, &copy; iLykei 2018\n",
    "\n",
    "This notebook describes the project      ."
   ]
  },
  {
   "cell_type": "markdown",
   "metadata": {},
   "source": [
    "# Instructions on data preparation using simple example\n",
    "\n",
    "The following few methods of data preparation will be useful in the project.  \n",
    "\n",
    "If a model has been trained it can be used for prediction of a new set of data. In this case new data need to be prepared on the same way as train data were.\n",
    "\n",
    "Consider a simple example of what we need to do in this case."
   ]
  },
  {
   "cell_type": "markdown",
   "metadata": {},
   "source": [
    "## Toy Train Dataset\n",
    "\n",
    "Consider a toy data containing some information about cars. The response contains two classes. "
   ]
  },
  {
   "cell_type": "code",
   "execution_count": 1,
   "metadata": {},
   "outputs": [],
   "source": [
    "import numpy as np\n",
    "import pandas as pd\n",
    "from sklearn import preprocessing"
   ]
  },
  {
   "cell_type": "code",
   "execution_count": 2,
   "metadata": {},
   "outputs": [],
   "source": [
    "pd.set_option('display.max_columns', 100)\n",
    "pd.set_option('display.max_rows', 100)"
   ]
  },
  {
   "cell_type": "code",
   "execution_count": 3,
   "metadata": {},
   "outputs": [
    {
     "data": {
      "text/html": [
       "<div>\n",
       "<style scoped>\n",
       "    .dataframe tbody tr th:only-of-type {\n",
       "        vertical-align: middle;\n",
       "    }\n",
       "\n",
       "    .dataframe tbody tr th {\n",
       "        vertical-align: top;\n",
       "    }\n",
       "\n",
       "    .dataframe thead th {\n",
       "        text-align: right;\n",
       "    }\n",
       "</style>\n",
       "<table border=\"1\" class=\"dataframe\">\n",
       "  <thead>\n",
       "    <tr style=\"text-align: right;\">\n",
       "      <th></th>\n",
       "      <th>Brand</th>\n",
       "      <th>Color</th>\n",
       "      <th>Mileage</th>\n",
       "      <th>Horsepower</th>\n",
       "      <th>Class</th>\n",
       "    </tr>\n",
       "  </thead>\n",
       "  <tbody>\n",
       "    <tr>\n",
       "      <th>0</th>\n",
       "      <td>Cadillac</td>\n",
       "      <td>Red</td>\n",
       "      <td>62391</td>\n",
       "      <td>304</td>\n",
       "      <td>1</td>\n",
       "    </tr>\n",
       "    <tr>\n",
       "      <th>1</th>\n",
       "      <td>Cadillac</td>\n",
       "      <td>Blue</td>\n",
       "      <td>2310</td>\n",
       "      <td>213</td>\n",
       "      <td>0</td>\n",
       "    </tr>\n",
       "    <tr>\n",
       "      <th>2</th>\n",
       "      <td>Ford</td>\n",
       "      <td>Red</td>\n",
       "      <td>25391</td>\n",
       "      <td>375</td>\n",
       "      <td>0</td>\n",
       "    </tr>\n",
       "    <tr>\n",
       "      <th>3</th>\n",
       "      <td>Ford</td>\n",
       "      <td>Green</td>\n",
       "      <td>12840</td>\n",
       "      <td>160</td>\n",
       "      <td>1</td>\n",
       "    </tr>\n",
       "  </tbody>\n",
       "</table>\n",
       "</div>"
      ],
      "text/plain": [
       "      Brand  Color  Mileage  Horsepower  Class\n",
       "0  Cadillac    Red    62391         304      1\n",
       "1  Cadillac   Blue     2310         213      0\n",
       "2      Ford    Red    25391         375      0\n",
       "3      Ford  Green    12840         160      1"
      ]
     },
     "execution_count": 3,
     "metadata": {},
     "output_type": "execute_result"
    }
   ],
   "source": [
    "toyTrain = pd.DataFrame([['Cadillac', 'Red', 62391, 304, 1],\n",
    "                          ['Cadillac', 'Blue', 2310, 213, 0], \n",
    "                          ['Ford', 'Red', 25391, 375, 0], \n",
    "                          ['Ford', 'Green', 12840, 160, 1]],\n",
    "                         columns=['Brand', 'Color', 'Mileage','Horsepower','Class'])\n",
    "toyTrain"
   ]
  },
  {
   "cell_type": "markdown",
   "metadata": {},
   "source": [
    "There are two categorical columns that represent Brand and Color.  "
   ]
  },
  {
   "cell_type": "markdown",
   "metadata": {},
   "source": [
    "## One hot encoding"
   ]
  },
  {
   "cell_type": "markdown",
   "metadata": {},
   "source": [
    "Transform character variables into numeric format using **one hot encoding** implemented in `pd.get_dummies()`."
   ]
  },
  {
   "cell_type": "code",
   "execution_count": 4,
   "metadata": {},
   "outputs": [
    {
     "data": {
      "text/html": [
       "<div>\n",
       "<style scoped>\n",
       "    .dataframe tbody tr th:only-of-type {\n",
       "        vertical-align: middle;\n",
       "    }\n",
       "\n",
       "    .dataframe tbody tr th {\n",
       "        vertical-align: top;\n",
       "    }\n",
       "\n",
       "    .dataframe thead th {\n",
       "        text-align: right;\n",
       "    }\n",
       "</style>\n",
       "<table border=\"1\" class=\"dataframe\">\n",
       "  <thead>\n",
       "    <tr style=\"text-align: right;\">\n",
       "      <th></th>\n",
       "      <th>Mileage</th>\n",
       "      <th>Horsepower</th>\n",
       "      <th>Class</th>\n",
       "      <th>Brand_Cadillac</th>\n",
       "      <th>Brand_Ford</th>\n",
       "      <th>Color_Blue</th>\n",
       "      <th>Color_Green</th>\n",
       "      <th>Color_Red</th>\n",
       "    </tr>\n",
       "  </thead>\n",
       "  <tbody>\n",
       "    <tr>\n",
       "      <th>0</th>\n",
       "      <td>62391</td>\n",
       "      <td>304</td>\n",
       "      <td>1</td>\n",
       "      <td>1</td>\n",
       "      <td>0</td>\n",
       "      <td>0</td>\n",
       "      <td>0</td>\n",
       "      <td>1</td>\n",
       "    </tr>\n",
       "    <tr>\n",
       "      <th>1</th>\n",
       "      <td>2310</td>\n",
       "      <td>213</td>\n",
       "      <td>0</td>\n",
       "      <td>1</td>\n",
       "      <td>0</td>\n",
       "      <td>1</td>\n",
       "      <td>0</td>\n",
       "      <td>0</td>\n",
       "    </tr>\n",
       "    <tr>\n",
       "      <th>2</th>\n",
       "      <td>25391</td>\n",
       "      <td>375</td>\n",
       "      <td>0</td>\n",
       "      <td>0</td>\n",
       "      <td>1</td>\n",
       "      <td>0</td>\n",
       "      <td>0</td>\n",
       "      <td>1</td>\n",
       "    </tr>\n",
       "    <tr>\n",
       "      <th>3</th>\n",
       "      <td>12840</td>\n",
       "      <td>160</td>\n",
       "      <td>1</td>\n",
       "      <td>0</td>\n",
       "      <td>1</td>\n",
       "      <td>0</td>\n",
       "      <td>1</td>\n",
       "      <td>0</td>\n",
       "    </tr>\n",
       "  </tbody>\n",
       "</table>\n",
       "</div>"
      ],
      "text/plain": [
       "   Mileage  Horsepower  Class  Brand_Cadillac  Brand_Ford  Color_Blue  \\\n",
       "0    62391         304      1               1           0           0   \n",
       "1     2310         213      0               1           0           1   \n",
       "2    25391         375      0               0           1           0   \n",
       "3    12840         160      1               0           1           0   \n",
       "\n",
       "   Color_Green  Color_Red  \n",
       "0            0          1  \n",
       "1            0          0  \n",
       "2            0          1  \n",
       "3            1          0  "
      ]
     },
     "execution_count": 4,
     "metadata": {},
     "output_type": "execute_result"
    }
   ],
   "source": [
    "toyTrain = pd.get_dummies(toyTrain, columns = ['Brand', 'Color'])\n",
    "toyTrain"
   ]
  },
  {
   "cell_type": "markdown",
   "metadata": {},
   "source": [
    "There are two \"one hot\" columns for **Brand** categories and three columns for **Color**.  \n",
    "Create a list of features and make **\"Class\"** the last column."
   ]
  },
  {
   "cell_type": "code",
   "execution_count": 5,
   "metadata": {},
   "outputs": [
    {
     "name": "stdout",
     "output_type": "stream",
     "text": [
      "featuresList:  ['Mileage', 'Horsepower', 'Brand_Cadillac', 'Brand_Ford', 'Color_Blue', 'Color_Green', 'Color_Red']\n",
      "\n",
      "Toy sample: \n",
      "\n"
     ]
    },
    {
     "data": {
      "text/html": [
       "<div>\n",
       "<style scoped>\n",
       "    .dataframe tbody tr th:only-of-type {\n",
       "        vertical-align: middle;\n",
       "    }\n",
       "\n",
       "    .dataframe tbody tr th {\n",
       "        vertical-align: top;\n",
       "    }\n",
       "\n",
       "    .dataframe thead th {\n",
       "        text-align: right;\n",
       "    }\n",
       "</style>\n",
       "<table border=\"1\" class=\"dataframe\">\n",
       "  <thead>\n",
       "    <tr style=\"text-align: right;\">\n",
       "      <th></th>\n",
       "      <th>Mileage</th>\n",
       "      <th>Horsepower</th>\n",
       "      <th>Brand_Cadillac</th>\n",
       "      <th>Brand_Ford</th>\n",
       "      <th>Color_Blue</th>\n",
       "      <th>Color_Green</th>\n",
       "      <th>Color_Red</th>\n",
       "      <th>Class</th>\n",
       "    </tr>\n",
       "  </thead>\n",
       "  <tbody>\n",
       "    <tr>\n",
       "      <th>0</th>\n",
       "      <td>62391</td>\n",
       "      <td>304</td>\n",
       "      <td>1</td>\n",
       "      <td>0</td>\n",
       "      <td>0</td>\n",
       "      <td>0</td>\n",
       "      <td>1</td>\n",
       "      <td>1</td>\n",
       "    </tr>\n",
       "    <tr>\n",
       "      <th>1</th>\n",
       "      <td>2310</td>\n",
       "      <td>213</td>\n",
       "      <td>1</td>\n",
       "      <td>0</td>\n",
       "      <td>1</td>\n",
       "      <td>0</td>\n",
       "      <td>0</td>\n",
       "      <td>0</td>\n",
       "    </tr>\n",
       "    <tr>\n",
       "      <th>2</th>\n",
       "      <td>25391</td>\n",
       "      <td>375</td>\n",
       "      <td>0</td>\n",
       "      <td>1</td>\n",
       "      <td>0</td>\n",
       "      <td>0</td>\n",
       "      <td>1</td>\n",
       "      <td>0</td>\n",
       "    </tr>\n",
       "    <tr>\n",
       "      <th>3</th>\n",
       "      <td>12840</td>\n",
       "      <td>160</td>\n",
       "      <td>0</td>\n",
       "      <td>1</td>\n",
       "      <td>0</td>\n",
       "      <td>1</td>\n",
       "      <td>0</td>\n",
       "      <td>1</td>\n",
       "    </tr>\n",
       "  </tbody>\n",
       "</table>\n",
       "</div>"
      ],
      "text/plain": [
       "   Mileage  Horsepower  Brand_Cadillac  Brand_Ford  Color_Blue  Color_Green  \\\n",
       "0    62391         304               1           0           0            0   \n",
       "1     2310         213               1           0           1            0   \n",
       "2    25391         375               0           1           0            0   \n",
       "3    12840         160               0           1           0            1   \n",
       "\n",
       "   Color_Red  Class  \n",
       "0          1      1  \n",
       "1          0      0  \n",
       "2          1      0  \n",
       "3          0      1  "
      ]
     },
     "execution_count": 5,
     "metadata": {},
     "output_type": "execute_result"
    }
   ],
   "source": [
    "featuresList = [col for col in toyTrain if col != 'Class']\n",
    "print('featuresList: ',featuresList)\n",
    "toyTrain = toyTrain[featuresList + ['Class']]\n",
    "print('\\nToy sample: \\n')\n",
    "toyTrain"
   ]
  },
  {
   "cell_type": "markdown",
   "metadata": {},
   "source": [
    "## Standardization \n",
    "\n",
    "Summaries of all variables are given by:"
   ]
  },
  {
   "cell_type": "code",
   "execution_count": 6,
   "metadata": {},
   "outputs": [
    {
     "data": {
      "text/html": [
       "<div>\n",
       "<style scoped>\n",
       "    .dataframe tbody tr th:only-of-type {\n",
       "        vertical-align: middle;\n",
       "    }\n",
       "\n",
       "    .dataframe tbody tr th {\n",
       "        vertical-align: top;\n",
       "    }\n",
       "\n",
       "    .dataframe thead th {\n",
       "        text-align: right;\n",
       "    }\n",
       "</style>\n",
       "<table border=\"1\" class=\"dataframe\">\n",
       "  <thead>\n",
       "    <tr style=\"text-align: right;\">\n",
       "      <th></th>\n",
       "      <th>Mileage</th>\n",
       "      <th>Horsepower</th>\n",
       "      <th>Brand_Cadillac</th>\n",
       "      <th>Brand_Ford</th>\n",
       "      <th>Color_Blue</th>\n",
       "      <th>Color_Green</th>\n",
       "      <th>Color_Red</th>\n",
       "      <th>Class</th>\n",
       "    </tr>\n",
       "  </thead>\n",
       "  <tbody>\n",
       "    <tr>\n",
       "      <th>count</th>\n",
       "      <td>4.000000</td>\n",
       "      <td>4.000000</td>\n",
       "      <td>4.00000</td>\n",
       "      <td>4.00000</td>\n",
       "      <td>4.00</td>\n",
       "      <td>4.00</td>\n",
       "      <td>4.00000</td>\n",
       "      <td>4.00000</td>\n",
       "    </tr>\n",
       "    <tr>\n",
       "      <th>mean</th>\n",
       "      <td>25733.000000</td>\n",
       "      <td>263.000000</td>\n",
       "      <td>0.50000</td>\n",
       "      <td>0.50000</td>\n",
       "      <td>0.25</td>\n",
       "      <td>0.25</td>\n",
       "      <td>0.50000</td>\n",
       "      <td>0.50000</td>\n",
       "    </tr>\n",
       "    <tr>\n",
       "      <th>std</th>\n",
       "      <td>26196.642953</td>\n",
       "      <td>95.453304</td>\n",
       "      <td>0.57735</td>\n",
       "      <td>0.57735</td>\n",
       "      <td>0.50</td>\n",
       "      <td>0.50</td>\n",
       "      <td>0.57735</td>\n",
       "      <td>0.57735</td>\n",
       "    </tr>\n",
       "    <tr>\n",
       "      <th>min</th>\n",
       "      <td>2310.000000</td>\n",
       "      <td>160.000000</td>\n",
       "      <td>0.00000</td>\n",
       "      <td>0.00000</td>\n",
       "      <td>0.00</td>\n",
       "      <td>0.00</td>\n",
       "      <td>0.00000</td>\n",
       "      <td>0.00000</td>\n",
       "    </tr>\n",
       "    <tr>\n",
       "      <th>50%</th>\n",
       "      <td>19115.500000</td>\n",
       "      <td>258.500000</td>\n",
       "      <td>0.50000</td>\n",
       "      <td>0.50000</td>\n",
       "      <td>0.00</td>\n",
       "      <td>0.00</td>\n",
       "      <td>0.50000</td>\n",
       "      <td>0.50000</td>\n",
       "    </tr>\n",
       "    <tr>\n",
       "      <th>max</th>\n",
       "      <td>62391.000000</td>\n",
       "      <td>375.000000</td>\n",
       "      <td>1.00000</td>\n",
       "      <td>1.00000</td>\n",
       "      <td>1.00</td>\n",
       "      <td>1.00</td>\n",
       "      <td>1.00000</td>\n",
       "      <td>1.00000</td>\n",
       "    </tr>\n",
       "  </tbody>\n",
       "</table>\n",
       "</div>"
      ],
      "text/plain": [
       "            Mileage  Horsepower  Brand_Cadillac  Brand_Ford  Color_Blue  \\\n",
       "count      4.000000    4.000000         4.00000     4.00000        4.00   \n",
       "mean   25733.000000  263.000000         0.50000     0.50000        0.25   \n",
       "std    26196.642953   95.453304         0.57735     0.57735        0.50   \n",
       "min     2310.000000  160.000000         0.00000     0.00000        0.00   \n",
       "50%    19115.500000  258.500000         0.50000     0.50000        0.00   \n",
       "max    62391.000000  375.000000         1.00000     1.00000        1.00   \n",
       "\n",
       "       Color_Green  Color_Red    Class  \n",
       "count         4.00    4.00000  4.00000  \n",
       "mean          0.25    0.50000  0.50000  \n",
       "std           0.50    0.57735  0.57735  \n",
       "min           0.00    0.00000  0.00000  \n",
       "50%           0.00    0.50000  0.50000  \n",
       "max           1.00    1.00000  1.00000  "
      ]
     },
     "execution_count": 6,
     "metadata": {},
     "output_type": "execute_result"
    }
   ],
   "source": [
    "toyTrain.describe(percentiles=[])"
   ]
  },
  {
   "cell_type": "markdown",
   "metadata": {},
   "source": [
    "To standardize variables by z-scoring use `StandardScaler()`."
   ]
  },
  {
   "cell_type": "code",
   "execution_count": 7,
   "metadata": {},
   "outputs": [],
   "source": [
    "scaler = preprocessing.StandardScaler()\n",
    "scaler.fit(toyTrain[featuresList]);"
   ]
  },
  {
   "cell_type": "code",
   "execution_count": 8,
   "metadata": {},
   "outputs": [
    {
     "data": {
      "text/html": [
       "<div>\n",
       "<style scoped>\n",
       "    .dataframe tbody tr th:only-of-type {\n",
       "        vertical-align: middle;\n",
       "    }\n",
       "\n",
       "    .dataframe tbody tr th {\n",
       "        vertical-align: top;\n",
       "    }\n",
       "\n",
       "    .dataframe thead th {\n",
       "        text-align: right;\n",
       "    }\n",
       "</style>\n",
       "<table border=\"1\" class=\"dataframe\">\n",
       "  <thead>\n",
       "    <tr style=\"text-align: right;\">\n",
       "      <th></th>\n",
       "      <th>Mileage</th>\n",
       "      <th>Horsepower</th>\n",
       "      <th>Brand_Cadillac</th>\n",
       "      <th>Brand_Ford</th>\n",
       "      <th>Color_Blue</th>\n",
       "      <th>Color_Green</th>\n",
       "      <th>Color_Red</th>\n",
       "      <th>Class</th>\n",
       "    </tr>\n",
       "  </thead>\n",
       "  <tbody>\n",
       "    <tr>\n",
       "      <th>0</th>\n",
       "      <td>1.615818</td>\n",
       "      <td>0.495978</td>\n",
       "      <td>1.0</td>\n",
       "      <td>-1.0</td>\n",
       "      <td>-0.577350</td>\n",
       "      <td>-0.577350</td>\n",
       "      <td>1.0</td>\n",
       "      <td>1</td>\n",
       "    </tr>\n",
       "    <tr>\n",
       "      <th>1</th>\n",
       "      <td>-1.032443</td>\n",
       "      <td>-0.604851</td>\n",
       "      <td>1.0</td>\n",
       "      <td>-1.0</td>\n",
       "      <td>1.732051</td>\n",
       "      <td>-0.577350</td>\n",
       "      <td>-1.0</td>\n",
       "      <td>0</td>\n",
       "    </tr>\n",
       "    <tr>\n",
       "      <th>2</th>\n",
       "      <td>-0.015075</td>\n",
       "      <td>1.354866</td>\n",
       "      <td>-1.0</td>\n",
       "      <td>1.0</td>\n",
       "      <td>-0.577350</td>\n",
       "      <td>-0.577350</td>\n",
       "      <td>1.0</td>\n",
       "      <td>0</td>\n",
       "    </tr>\n",
       "    <tr>\n",
       "      <th>3</th>\n",
       "      <td>-0.568300</td>\n",
       "      <td>-1.245993</td>\n",
       "      <td>-1.0</td>\n",
       "      <td>1.0</td>\n",
       "      <td>-0.577350</td>\n",
       "      <td>1.732051</td>\n",
       "      <td>-1.0</td>\n",
       "      <td>1</td>\n",
       "    </tr>\n",
       "  </tbody>\n",
       "</table>\n",
       "</div>"
      ],
      "text/plain": [
       "    Mileage  Horsepower  Brand_Cadillac  Brand_Ford  Color_Blue  Color_Green  \\\n",
       "0  1.615818    0.495978             1.0        -1.0   -0.577350    -0.577350   \n",
       "1 -1.032443   -0.604851             1.0        -1.0    1.732051    -0.577350   \n",
       "2 -0.015075    1.354866            -1.0         1.0   -0.577350    -0.577350   \n",
       "3 -0.568300   -1.245993            -1.0         1.0   -0.577350     1.732051   \n",
       "\n",
       "   Color_Red  Class  \n",
       "0        1.0      1  \n",
       "1       -1.0      0  \n",
       "2        1.0      0  \n",
       "3       -1.0      1  "
      ]
     },
     "execution_count": 8,
     "metadata": {},
     "output_type": "execute_result"
    }
   ],
   "source": [
    "toyTrain[featuresList] = scaler.transform(toyTrain[featuresList])\n",
    "toyTrain"
   ]
  },
  {
   "cell_type": "markdown",
   "metadata": {},
   "source": [
    "Check results of standardization."
   ]
  },
  {
   "cell_type": "code",
   "execution_count": 9,
   "metadata": {},
   "outputs": [
    {
     "name": "stdout",
     "output_type": "stream",
     "text": [
      "Mean values:\n",
      "Mileage          -2.775558e-17\n",
      "Horsepower        5.551115e-17\n",
      "Brand_Cadillac    0.000000e+00\n",
      "Brand_Ford        0.000000e+00\n",
      "Color_Blue       -5.551115e-17\n",
      "Color_Green      -5.551115e-17\n",
      "Color_Red         0.000000e+00\n",
      "dtype: float64\n",
      "\n",
      "Std values:\n",
      "Mileage           1.0\n",
      "Horsepower        1.0\n",
      "Brand_Cadillac    1.0\n",
      "Brand_Ford        1.0\n",
      "Color_Blue        1.0\n",
      "Color_Green       1.0\n",
      "Color_Red         1.0\n",
      "dtype: float64\n"
     ]
    }
   ],
   "source": [
    "print('Mean values:')\n",
    "print(toyTrain[featuresList].mean())\n",
    "print('\\nStd values:')\n",
    "print(toyTrain[featuresList].std(ddof=0))"
   ]
  },
  {
   "cell_type": "markdown",
   "metadata": {},
   "source": [
    "Note that it is necessary to set `ddof=0` (delta degrees of freedom) because `sklearn.preprocessing.StandardScaler` uses `numpy.std()` with `ddof=0`.  \n",
    "$std = \\sqrt{\\frac{\\sum_{i=1}^{N}( x_{i}-\\overset{\\_}{x}) ^{2}}{%\n",
    "N-ddof}}$  \n"
   ]
  },
  {
   "cell_type": "markdown",
   "metadata": {},
   "source": [
    "## Preparing Test Dataset\n",
    "\n",
    "Create test data manually."
   ]
  },
  {
   "cell_type": "code",
   "execution_count": 10,
   "metadata": {},
   "outputs": [
    {
     "data": {
      "text/html": [
       "<div>\n",
       "<style scoped>\n",
       "    .dataframe tbody tr th:only-of-type {\n",
       "        vertical-align: middle;\n",
       "    }\n",
       "\n",
       "    .dataframe tbody tr th {\n",
       "        vertical-align: top;\n",
       "    }\n",
       "\n",
       "    .dataframe thead th {\n",
       "        text-align: right;\n",
       "    }\n",
       "</style>\n",
       "<table border=\"1\" class=\"dataframe\">\n",
       "  <thead>\n",
       "    <tr style=\"text-align: right;\">\n",
       "      <th></th>\n",
       "      <th>Brand</th>\n",
       "      <th>Color</th>\n",
       "      <th>Mileage</th>\n",
       "      <th>Horsepower</th>\n",
       "      <th>Class</th>\n",
       "    </tr>\n",
       "  </thead>\n",
       "  <tbody>\n",
       "    <tr>\n",
       "      <th>0</th>\n",
       "      <td>Cadillac</td>\n",
       "      <td>Black</td>\n",
       "      <td>8332</td>\n",
       "      <td>304</td>\n",
       "      <td>1</td>\n",
       "    </tr>\n",
       "    <tr>\n",
       "      <th>1</th>\n",
       "      <td>Chevrolet</td>\n",
       "      <td>Green</td>\n",
       "      <td>3194</td>\n",
       "      <td>355</td>\n",
       "      <td>0</td>\n",
       "    </tr>\n",
       "  </tbody>\n",
       "</table>\n",
       "</div>"
      ],
      "text/plain": [
       "       Brand  Color  Mileage  Horsepower  Class\n",
       "0   Cadillac  Black     8332         304      1\n",
       "1  Chevrolet  Green     3194         355      0"
      ]
     },
     "execution_count": 10,
     "metadata": {},
     "output_type": "execute_result"
    }
   ],
   "source": [
    "toyTest = pd.DataFrame([['Cadillac', 'Black', 8332, 304, 1],\n",
    "                          ['Chevrolet', 'Green', 3194, 355, 0]],\n",
    "                         columns=['Brand', 'Color', 'Mileage','Horsepower','Class'])\n",
    "toyTest"
   ]
  },
  {
   "cell_type": "markdown",
   "metadata": {},
   "source": [
    "To obtain prediction transform the test dataset in the same way as the train dataset."
   ]
  },
  {
   "cell_type": "code",
   "execution_count": 11,
   "metadata": {},
   "outputs": [
    {
     "data": {
      "text/html": [
       "<div>\n",
       "<style scoped>\n",
       "    .dataframe tbody tr th:only-of-type {\n",
       "        vertical-align: middle;\n",
       "    }\n",
       "\n",
       "    .dataframe tbody tr th {\n",
       "        vertical-align: top;\n",
       "    }\n",
       "\n",
       "    .dataframe thead th {\n",
       "        text-align: right;\n",
       "    }\n",
       "</style>\n",
       "<table border=\"1\" class=\"dataframe\">\n",
       "  <thead>\n",
       "    <tr style=\"text-align: right;\">\n",
       "      <th></th>\n",
       "      <th>Mileage</th>\n",
       "      <th>Horsepower</th>\n",
       "      <th>Class</th>\n",
       "      <th>Brand_Cadillac</th>\n",
       "      <th>Brand_Chevrolet</th>\n",
       "      <th>Color_Black</th>\n",
       "      <th>Color_Green</th>\n",
       "    </tr>\n",
       "  </thead>\n",
       "  <tbody>\n",
       "    <tr>\n",
       "      <th>0</th>\n",
       "      <td>8332</td>\n",
       "      <td>304</td>\n",
       "      <td>1</td>\n",
       "      <td>1</td>\n",
       "      <td>0</td>\n",
       "      <td>1</td>\n",
       "      <td>0</td>\n",
       "    </tr>\n",
       "    <tr>\n",
       "      <th>1</th>\n",
       "      <td>3194</td>\n",
       "      <td>355</td>\n",
       "      <td>0</td>\n",
       "      <td>0</td>\n",
       "      <td>1</td>\n",
       "      <td>0</td>\n",
       "      <td>1</td>\n",
       "    </tr>\n",
       "  </tbody>\n",
       "</table>\n",
       "</div>"
      ],
      "text/plain": [
       "   Mileage  Horsepower  Class  Brand_Cadillac  Brand_Chevrolet  Color_Black  \\\n",
       "0     8332         304      1               1                0            1   \n",
       "1     3194         355      0               0                1            0   \n",
       "\n",
       "   Color_Green  \n",
       "0            0  \n",
       "1            1  "
      ]
     },
     "execution_count": 11,
     "metadata": {},
     "output_type": "execute_result"
    }
   ],
   "source": [
    "toyTest = pd.get_dummies(toyTest, columns = ['Brand', 'Color'])\n",
    "toyTest"
   ]
  },
  {
   "cell_type": "markdown",
   "metadata": {},
   "source": [
    "This creates a different set of \"one hot\" columns. \n",
    "\n",
    "To get the same set of columns add the missing columns of the train set with zero values and drop the extra columns that were not included in the train set."
   ]
  },
  {
   "cell_type": "code",
   "execution_count": 12,
   "metadata": {},
   "outputs": [
    {
     "name": "stdout",
     "output_type": "stream",
     "text": [
      "missing_cols:  {'Brand_Ford', 'Color_Blue', 'Color_Red'}\n"
     ]
    },
    {
     "data": {
      "text/html": [
       "<div>\n",
       "<style scoped>\n",
       "    .dataframe tbody tr th:only-of-type {\n",
       "        vertical-align: middle;\n",
       "    }\n",
       "\n",
       "    .dataframe tbody tr th {\n",
       "        vertical-align: top;\n",
       "    }\n",
       "\n",
       "    .dataframe thead th {\n",
       "        text-align: right;\n",
       "    }\n",
       "</style>\n",
       "<table border=\"1\" class=\"dataframe\">\n",
       "  <thead>\n",
       "    <tr style=\"text-align: right;\">\n",
       "      <th></th>\n",
       "      <th>Mileage</th>\n",
       "      <th>Horsepower</th>\n",
       "      <th>Brand_Cadillac</th>\n",
       "      <th>Brand_Ford</th>\n",
       "      <th>Color_Blue</th>\n",
       "      <th>Color_Green</th>\n",
       "      <th>Color_Red</th>\n",
       "      <th>Class</th>\n",
       "    </tr>\n",
       "  </thead>\n",
       "  <tbody>\n",
       "    <tr>\n",
       "      <th>0</th>\n",
       "      <td>8332</td>\n",
       "      <td>304</td>\n",
       "      <td>1</td>\n",
       "      <td>0</td>\n",
       "      <td>0</td>\n",
       "      <td>0</td>\n",
       "      <td>0</td>\n",
       "      <td>1</td>\n",
       "    </tr>\n",
       "    <tr>\n",
       "      <th>1</th>\n",
       "      <td>3194</td>\n",
       "      <td>355</td>\n",
       "      <td>0</td>\n",
       "      <td>0</td>\n",
       "      <td>0</td>\n",
       "      <td>1</td>\n",
       "      <td>0</td>\n",
       "      <td>0</td>\n",
       "    </tr>\n",
       "  </tbody>\n",
       "</table>\n",
       "</div>"
      ],
      "text/plain": [
       "   Mileage  Horsepower  Brand_Cadillac  Brand_Ford  Color_Blue  Color_Green  \\\n",
       "0     8332         304               1           0           0            0   \n",
       "1     3194         355               0           0           0            1   \n",
       "\n",
       "   Color_Red  Class  \n",
       "0          0      1  \n",
       "1          0      0  "
      ]
     },
     "execution_count": 12,
     "metadata": {},
     "output_type": "execute_result"
    }
   ],
   "source": [
    "missing_cols = set(toyTrain.columns) - set(toyTest.columns)\n",
    "print('missing_cols: ',missing_cols)\n",
    "for c in missing_cols:\n",
    "    toyTest[c] = 0\n",
    "toyTest = toyTest[toyTrain.columns].copy()\n",
    "toyTest"
   ]
  },
  {
   "cell_type": "markdown",
   "metadata": {},
   "source": [
    "Now use `scaler` that has been fit to the train dataset to transform the test dataset."
   ]
  },
  {
   "cell_type": "code",
   "execution_count": 13,
   "metadata": {},
   "outputs": [
    {
     "data": {
      "text/html": [
       "<div>\n",
       "<style scoped>\n",
       "    .dataframe tbody tr th:only-of-type {\n",
       "        vertical-align: middle;\n",
       "    }\n",
       "\n",
       "    .dataframe tbody tr th {\n",
       "        vertical-align: top;\n",
       "    }\n",
       "\n",
       "    .dataframe thead th {\n",
       "        text-align: right;\n",
       "    }\n",
       "</style>\n",
       "<table border=\"1\" class=\"dataframe\">\n",
       "  <thead>\n",
       "    <tr style=\"text-align: right;\">\n",
       "      <th></th>\n",
       "      <th>Mileage</th>\n",
       "      <th>Horsepower</th>\n",
       "      <th>Brand_Cadillac</th>\n",
       "      <th>Brand_Ford</th>\n",
       "      <th>Color_Blue</th>\n",
       "      <th>Color_Green</th>\n",
       "      <th>Color_Red</th>\n",
       "      <th>Class</th>\n",
       "    </tr>\n",
       "  </thead>\n",
       "  <tbody>\n",
       "    <tr>\n",
       "      <th>0</th>\n",
       "      <td>-0.767005</td>\n",
       "      <td>0.495978</td>\n",
       "      <td>1.0</td>\n",
       "      <td>-1.0</td>\n",
       "      <td>-0.57735</td>\n",
       "      <td>-0.577350</td>\n",
       "      <td>-1.0</td>\n",
       "      <td>1</td>\n",
       "    </tr>\n",
       "    <tr>\n",
       "      <th>1</th>\n",
       "      <td>-0.993478</td>\n",
       "      <td>1.112926</td>\n",
       "      <td>-1.0</td>\n",
       "      <td>-1.0</td>\n",
       "      <td>-0.57735</td>\n",
       "      <td>1.732051</td>\n",
       "      <td>-1.0</td>\n",
       "      <td>0</td>\n",
       "    </tr>\n",
       "  </tbody>\n",
       "</table>\n",
       "</div>"
      ],
      "text/plain": [
       "    Mileage  Horsepower  Brand_Cadillac  Brand_Ford  Color_Blue  Color_Green  \\\n",
       "0 -0.767005    0.495978             1.0        -1.0    -0.57735    -0.577350   \n",
       "1 -0.993478    1.112926            -1.0        -1.0    -0.57735     1.732051   \n",
       "\n",
       "   Color_Red  Class  \n",
       "0       -1.0      1  \n",
       "1       -1.0      0  "
      ]
     },
     "execution_count": 13,
     "metadata": {},
     "output_type": "execute_result"
    }
   ],
   "source": [
    "toyTest[featuresList] = scaler.transform(toyTest[featuresList])\n",
    "toyTest"
   ]
  },
  {
   "cell_type": "markdown",
   "metadata": {},
   "source": [
    "The test dataset is now ready for making predictions."
   ]
  },
  {
   "cell_type": "markdown",
   "metadata": {},
   "source": [
    "# Project data and step-by-step instructions\n",
    "\n",
    "The goal of this project is to to detect illegitimate connections in a computer network using an **autoencoder** \n",
    "\n",
    "## Data set description\n",
    "\n",
    "Data set for this project is from [The Third International Knowledge Discovery and Data Mining Tools Competition](http://kdd.ics.uci.edu/databases/kddcup99/kddcup99.html) at KDD-99, The Fifth International Conference on Knowledge Discovery and Data Mining. File `kddCupTrain.csv` with the data necessary for this project contains only one of multiple types of attacks (see below).  \n",
    "\n",
    "The competition [task](http://kdd.ics.uci.edu/databases/kddcup99/task.html) was building a network intrusion detector capable of distinguishing \"bad\" connections, called intrusions or attacks, from \"good\" normal connections. This database contains a variety of intrusions simulated in a military network environment.\n",
    "\n",
    "The original KDD training dataset consists of approximately 4,900,000 single connection vectors each of which contains 41 features and is labeled as either normal or an attack, with exactly one specific attack type. The simulated attacks fall in one of the following four categories:\n",
    "1. Denial of Service Attack (DoS): is an attack in which the attacker makes some computing or memory resource too busy or too full to handle legitimate requests, or denies legitimate users access to a machine.\n",
    "2. User to Root Attack (U2R): is a class in which the attacker starts out with access to a normal user account on the system (perhaps gained by sniffing passwords, a dictionary attack, or social engineering) and is able to exploit some vulnerability to gain root access to the system.\n",
    "3. Remote to Local Attack (R2L): occurs when an attacker who has the ability to send packets to a machine over a network but who does not have an account on that machine exploits some vulnerability to gain local access as a user of that machine.\n",
    "4. Probing Attack: is an attempt to gather information about a network of computers for the apparent purpose of circumventing its security controls.\n",
    "\n",
    "\n",
    "Attacks contained in the dataset: \n",
    "\n",
    "Attack Category | Attack Type\n",
    "--- | ---\n",
    "DoS | back, land, neptune, <br>pod, smurf, teardrop\n",
    "U2R | buffer_overflow, loadmodule, <br>perl, rootkit\n",
    "R2L | ftp_write, guess_passwd, <br>imap, multihop, rhf, <br>spy, warezclient, warezmaster\n",
    "Probe | portsweep, ipsweep, <br>satan, nmap\n"
   ]
  },
  {
   "cell_type": "markdown",
   "metadata": {},
   "source": [
    "KDD-99 features can be classified into three groups:  \n",
    "1) **Basic features**: this category encapsulates all the attributes that can be extracted from a TCP/IP connection. Most of these features leading to an implicit delay in detection.  \n",
    "2) **Traffic features**: this category includes features that are computed with respect to a window interval and is divided into two groups:\n",
    "* **\"same host\" features**: examine only the connections in the past 2 seconds that have the same destination host as the current connection, and calculate statistics related to protocol behavior, service, etc.\n",
    "* **\"same service\" features**: examine only the connections in the past 2 seconds that have the same service as the current connection.  \n",
    "\n",
    "These two types of \"traffic\" features are called time-based as opposed to the following connection-based type. \n",
    "\n",
    "* **\"connection-based\" features**: there are several types of slow probing attacks that scan the hosts (or ports) using a much larger time interval than 2 seconds, for example, one in every minute. As a result, these attacks do not produce intrusion patterns with a time window of 2 seconds. To detect such attacks the “same host” and “same service” features are  recalculated but based on the connection window of 100 connections rather than a time window of 2 seconds. These features are called **connection-based traffic features**.  \n",
    "\n",
    "3) **Content features**: unlike most of the DoS and Probing attacks, the R2L and U2R attacks don’t have any frequent sequential intrusion patterns. This is because the DoS and Probing attacks involve many connections to some host(s) in a very short period of time. Unlike them, the R2L and U2R attacks are embedded in the data portions of the packets, and normally involve only a single connection. To detect these kinds of attacks, one needs some features in order to look for suspicious behavior in the data portion, e.g., number of failed login attempts. These features are called **content features**."
   ]
  },
  {
   "cell_type": "markdown",
   "metadata": {},
   "source": [
    "#### Table 1: Basic features of individual TCP connections.\n",
    "nn | feature name |\tdescription |\ttype\n",
    "--:|------------|-----------|-----------\n",
    "0 | duration | length (number of seconds) of the connection |\tcontinuous\n",
    "1 | protocol_type |\ttype of the protocol, e.g. tcp, udp, etc. |\tsymbolic\n",
    "2 | service |\tnetwork service on the destination, e.g., http, telnet, etc. |\tsymbolic\n",
    "3 | flag |\tnormal or error status of the connection |\tsymbolic \n",
    "4 | src_bytes |\tnumber of data bytes from source to destination |\tcontinuous\n",
    "5 | dst_bytes |\tnumber of data bytes from destination to source |\tcontinuous\n",
    "6 | land |\t1 if connection is from/to the same host/port; 0 otherwise |\tbinary\n",
    "7 | wrong_fragment |\tnumber of \"wrong\" fragments |\tcontinuous\n",
    "8 | urgent |\tnumber of urgent packets |\tcontinuous"
   ]
  },
  {
   "cell_type": "markdown",
   "metadata": {},
   "source": [
    "#### Table 2: Content features within a connection suggested by domain knowledge.\n",
    "nn | feature name |\tdescription |\ttype\n",
    "---:|------------ | ------------ | --------\n",
    "9 | hot |\tnumber of \"hot\" indicators |\tcontinuous\n",
    "10 | num_failed_logins |\tnumber of failed login attempts |\tcontinuous\n",
    "11 | logged_in |\t1 if successfully logged in; 0 otherwise |\tbinary\n",
    "12 | num_compromised |\tnumber of \"compromised\" conditions |\tcontinuous\n",
    "13 | root_shell |\t1 if root shell is obtained; 0 otherwise |\tbinary\n",
    "14 | su_attempted |\t1 if \"su root\" command attempted; 0 otherwise |\tbinary\n",
    "15 | num_root |\tnumber of \"root\" accesses |\tcontinuous\n",
    "16 | num_file_creations |\tnumber of file creation operations |\tcontinuous\n",
    "17 | num_shells |\tnumber of shell prompts |\tcontinuous\n",
    "18 | num_access_files |\tnumber of operations on access control files |\tcontinuous\n",
    "19 | num_outbound_cmds |\tnumber of outbound commands in an ftp session |\tcontinuous\n",
    "20 | is_hot_login |\t1 if the login belongs to the \"hot\" list; 0 otherwise |\tbinary\n",
    "21 | is_guest_login |\t1 if the login is a \"guest\" login; 0 otherwise |\tbinary"
   ]
  },
  {
   "cell_type": "markdown",
   "metadata": {},
   "source": [
    "#### Table 3: Traffic features computed using a two-second time window.\n",
    "nn  | feature name |\tdescription |\ttype\n",
    "---:|------------ | ------------ | --------\n",
    "22 | count |\tnumber of connections to the same host as the current connection in the past two seconds |\tcontinuous\n",
    " | | Note: The following  features refer to these same-host connections.\t|\n",
    "23 | serror_rate |\t% of connections that have \"SYN\" errors |\tcontinuous\n",
    "24 | rerror_rate |\t% of connections that have \"REJ\" errors |\tcontinuous\n",
    "25 | same_srv_rate |\t% of connections to the same service |\tcontinuous\n",
    "26 | diff_srv_rate |\t% of connections to different services |\tcontinuous\n",
    "27 | srv_count |\tnumber of connections to the same service as the current connection in the past two seconds |\tcontinuous\n",
    " |  | Note: The following features refer to these same-service connections.\t|\n",
    "28 | srv_serror_rate |\t% of connections that have \"SYN\" errors |\tcontinuous\n",
    "29 | srv_rerror_rate |\t% of connections that have \"REJ\" errors |\tcontinuous\n",
    "30 | srv_diff_host_rate |\t% of connections to different hosts |\tcontinuous\n",
    "31 | dst_host_count |\tnumber of connections from the same address to the same host as the current connection in the past two seconds |\tcontinuous\n",
    "32 | dst_host_srv_count | number of connections from the same host to the same service as the current connection in the past two seconds | continuous\n",
    " |  | Note: The following features refer to these same-host and same-service connections.\t|\n",
    "33 | dst_host_same_srv_rate | |\tcontinuous\n",
    "34 | dst_host_diff_srv_rate | |\tcontinuous\n",
    "35 | dst_host_same_src_port_rate | |\tcontinuous\n",
    "36 | dst_host_srv_diff_host_rate | |\tcontinuous\n",
    "37 | dst_host_serror_rate | |\tcontinuous\n",
    "38 | dst_host_srv_serror_rate | |\tcontinuous\n",
    "39 | dst_host_rerror_rate | |\tcontinuous\n",
    "40 | dst_host_srv_rerror_rate | |\tcontinuous"
   ]
  },
  {
   "cell_type": "markdown",
   "metadata": {},
   "source": [
    "The attribute labeled **41** in the data set is the **\"Class\"** attribute which indicates whether a given instance is a normal connection instance or an attack."
   ]
  },
  {
   "cell_type": "markdown",
   "metadata": {},
   "source": [
    "## Project instructions\n",
    "\n",
    "### 1. Preparing the data\n",
    "\n",
    "#### 1.1. Reading data\n",
    "\n",
    "Read the train dataset  `kddCupTrain.csv` from `kddCupData.zip` and check it for missing values."
   ]
  },
  {
   "cell_type": "code",
   "execution_count": 14,
   "metadata": {},
   "outputs": [
    {
     "name": "stdout",
     "output_type": "stream",
     "text": [
      "Shape of kddCupTrain:  (985262, 42)\n",
      "There are any missing values:  False\n",
      "   0    1     2   3    4      5   6   7   8   9   10  11  12  13  14  15  16  \\\n",
      "0   0  tcp  http  SF  215  45076   0   0   0   0   0   1   0   0   0   0   0   \n",
      "1   0  tcp  http  SF  162   4528   0   0   0   0   0   1   0   0   0   0   0   \n",
      "2   0  tcp  http  SF  236   1228   0   0   0   0   0   1   0   0   0   0   0   \n",
      "\n",
      "   17  18  19  20  21  22  23   24   25   26   27   28   29   30  31  32   33  \\\n",
      "0   0   0   0   0   0   1   1  0.0  0.0  0.0  0.0  1.0  0.0  0.0   0   0  0.0   \n",
      "1   0   0   0   0   0   2   2  0.0  0.0  0.0  0.0  1.0  0.0  0.0   1   1  1.0   \n",
      "2   0   0   0   0   0   1   1  0.0  0.0  0.0  0.0  1.0  0.0  0.0   2   2  1.0   \n",
      "\n",
      "    34   35   36   37   38   39   40       41  \n",
      "0  0.0  0.0  0.0  0.0  0.0  0.0  0.0  normal.  \n",
      "1  0.0  1.0  0.0  0.0  0.0  0.0  0.0  normal.  \n",
      "2  0.0  0.5  0.0  0.0  0.0  0.0  0.0  normal.  \n"
     ]
    }
   ],
   "source": [
    "kddCupTrain = pd.read_csv('kddCupTrain.csv',header=None)\n",
    "print(\"Shape of kddCupTrain: \",kddCupTrain.shape)\n",
    "print(\"There are any missing values: \", kddCupTrain.isnull().values.any())\n",
    "print(kddCupTrain.head(3))"
   ]
  },
  {
   "cell_type": "markdown",
   "metadata": {},
   "source": [
    "The train dataset contains instances of only two class types from the [original](http://kdd.ics.uci.edu/databases/kddcup99/kddcup99.html) data: \n",
    "- \"normal.\" - no attack\n",
    "- \"ipsweep.\" - a subtype of \"probe\" or Probing Attack type.  "
   ]
  },
  {
   "cell_type": "code",
   "execution_count": 15,
   "metadata": {},
   "outputs": [
    {
     "data": {
      "text/plain": [
       "array(['normal.', 'ipsweep.'], dtype=object)"
      ]
     },
     "execution_count": 15,
     "metadata": {},
     "output_type": "execute_result"
    }
   ],
   "source": [
    "kddCupTrain.iloc[:,-1].unique()"
   ]
  },
  {
   "cell_type": "markdown",
   "metadata": {},
   "source": [
    "Rename column '41' to 'Class' and transform its values from symbolic type fo binary:  \n",
    "- \"normal.\" to 0  \n",
    "- \"ipsweep.\" to 1"
   ]
  },
  {
   "cell_type": "code",
   "execution_count": 16,
   "metadata": {},
   "outputs": [],
   "source": [
    "kddCupTrain.rename(columns={41:'Class'}, inplace=True)\n",
    "kddCupTrain['Class'] = np.where(kddCupTrain['Class'] == 'normal.', 0, 1)"
   ]
  },
  {
   "cell_type": "markdown",
   "metadata": {},
   "source": [
    "Check counts of classes."
   ]
  },
  {
   "cell_type": "code",
   "execution_count": 17,
   "metadata": {},
   "outputs": [
    {
     "name": "stdout",
     "output_type": "stream",
     "text": [
      "0    972781\n",
      "1     12481\n",
      "Name: Class, dtype: int64\n"
     ]
    }
   ],
   "source": [
    "count_classes = pd.value_counts(kddCupTrain['Class'], sort = True)\n",
    "print(count_classes)"
   ]
  },
  {
   "cell_type": "markdown",
   "metadata": {},
   "source": [
    "The dataset is highly imbalanced. Normal connections overwhelmingly outnumber fraudulent ones. \n",
    "This suggests using an autoencoder to detect attacks as rare deviations from normal."
   ]
  },
  {
   "cell_type": "markdown",
   "metadata": {},
   "source": [
    "#### 1.2. Remove the uninformative columns\n",
    "\n",
    "Look at summaries of numeric features."
   ]
  },
  {
   "cell_type": "code",
   "execution_count": 18,
   "metadata": {
    "scrolled": false
   },
   "outputs": [
    {
     "name": "stdout",
     "output_type": "stream",
     "text": [
      "                   0             4             5              6         7  \\\n",
      "count  985262.000000  9.852620e+05  9.852620e+05  985262.000000  985262.0   \n",
      "mean      215.078631  1.459258e+03  3.193730e+03       0.000007       0.0   \n",
      "std      1343.633640  1.097984e+05  3.401613e+04       0.002665       0.0   \n",
      "min         0.000000  0.000000e+00  0.000000e+00       0.000000       0.0   \n",
      "50%         0.000000  2.300000e+02  4.060000e+02       0.000000       0.0   \n",
      "max     58329.000000  8.958152e+07  1.173059e+07       1.000000       0.0   \n",
      "\n",
      "                   8              9             10             11  \\\n",
      "count  985262.000000  985262.000000  985262.000000  985262.000000   \n",
      "mean        0.000036       0.048908       0.000097       0.710185   \n",
      "std         0.015897       0.926008       0.013058       0.453677   \n",
      "min         0.000000       0.000000       0.000000       0.000000   \n",
      "50%         0.000000       0.000000       0.000000       1.000000   \n",
      "max        14.000000      77.000000       4.000000       1.000000   \n",
      "\n",
      "                  12             13             14             15  \\\n",
      "count  985262.000000  985262.000000  985262.000000  985262.000000   \n",
      "mean        0.037907       0.000307       0.000182       0.064151   \n",
      "std         8.598590       0.017505       0.017993       8.780379   \n",
      "min         0.000000       0.000000       0.000000       0.000000   \n",
      "50%         0.000000       0.000000       0.000000       0.000000   \n",
      "max      7479.000000       1.000000       2.000000    7468.000000   \n",
      "\n",
      "                  16             17             18        19             20  \\\n",
      "count  985262.000000  985262.000000  985262.000000  985262.0  985262.000000   \n",
      "mean        0.005831       0.000358       0.005066       0.0       0.000002   \n",
      "std         0.275769       0.019032       0.078966       0.0       0.001425   \n",
      "min         0.000000       0.000000       0.000000       0.0       0.000000   \n",
      "50%         0.000000       0.000000       0.000000       0.0       0.000000   \n",
      "max        43.000000       2.000000       9.000000       0.0       1.000000   \n",
      "\n",
      "                  21             22             23             24  \\\n",
      "count  985262.000000  985262.000000  985262.000000  985262.000000   \n",
      "mean        0.003832       8.068459      10.997017       0.001465   \n",
      "std         0.061788      17.657624      21.749492       0.027046   \n",
      "min         0.000000       0.000000       0.000000       0.000000   \n",
      "50%         0.000000       3.000000       4.000000       0.000000   \n",
      "max         1.000000     511.000000     511.000000       1.000000   \n",
      "\n",
      "                  25             26             27             28  \\\n",
      "count  985262.000000  985262.000000  985262.000000  985262.000000   \n",
      "mean        0.001703       0.056104       0.056365       0.985439   \n",
      "std         0.026044       0.229336       0.228108       0.092444   \n",
      "min         0.000000       0.000000       0.000000       0.000000   \n",
      "50%         0.000000       0.000000       0.000000       1.000000   \n",
      "max         1.000000       1.000000       1.000000       1.000000   \n",
      "\n",
      "                  29             30             31             32  \\\n",
      "count  985262.000000  985262.000000  985262.000000  985262.000000   \n",
      "mean        0.018308       0.138990     146.668609     201.430712   \n",
      "std         0.116833       0.285591     104.025332      87.382719   \n",
      "min         0.000000       0.000000       0.000000       0.000000   \n",
      "50%         0.000000       0.000000     155.000000     255.000000   \n",
      "max         1.000000       1.000000     255.000000     255.000000   \n",
      "\n",
      "                  33             34             35             36  \\\n",
      "count  985262.000000  985262.000000  985262.000000  985262.000000   \n",
      "mean        0.845963       0.056712       0.145018       0.031659   \n",
      "std         0.304934       0.181323       0.295592       0.086754   \n",
      "min         0.000000       0.000000       0.000000       0.000000   \n",
      "50%         1.000000       0.000000       0.010000       0.010000   \n",
      "max         1.000000       1.000000       1.000000       1.000000   \n",
      "\n",
      "                  37             38             39             40  \\\n",
      "count  985262.000000  985262.000000  985262.000000  985262.000000   \n",
      "mean        0.002014       0.001037       0.057911       0.056161   \n",
      "std         0.028357       0.015326       0.225341       0.219637   \n",
      "min         0.000000       0.000000       0.000000       0.000000   \n",
      "50%         0.000000       0.000000       0.000000       0.000000   \n",
      "max         1.000000       1.000000       1.000000       1.000000   \n",
      "\n",
      "               Class  \n",
      "count  985262.000000  \n",
      "mean        0.012668  \n",
      "std         0.111836  \n",
      "min         0.000000  \n",
      "50%         0.000000  \n",
      "max         1.000000  \n"
     ]
    }
   ],
   "source": [
    "print(kddCupTrain.describe(percentiles=[]))"
   ]
  },
  {
   "cell_type": "markdown",
   "metadata": {},
   "source": [
    "Note that some features are constant (min = max and std = 0.0). Such features are not necessary and need to be removed using\n",
    "\n",
    "`kddCupTrain.drop(columnsList, axis=1, inplace=True)`.\n",
    "  \n",
    "#### 1.3. Transform symbolic features to \"One Hot\" columns\n",
    "\n",
    "Transform character features \"1\", \"2\" and \"3\" into \"One Hot\" columns using `pandas.get_dummies()` as shown in the section above. \n",
    "\n",
    "As a result, the first two rows of `kddCupTrain` should look like this:  \n",
    "\n",
    "|  0  |  4  |    5 | 6 | 8 | 9 | 10 | 11 | 12 | 13 | 14 | 15 | 16 | 17 | 18 | 20 | 21 | 22 | 23   \n",
    "--|--\n",
    "0 | 0 | 215 | 45076 | 0 | 0 | 0 |  0 |  1 |  0 |  0 |  0 |  0 |  0 |  0 |  0 |  0 |  0 |  1 | 1   \n",
    "1 | 0 | 162 | 4528 | 0 | 0 | 0 | 0 | 1 | 0 | 0 | 0 | 0 | 0 | 0 | 0 | 0 | 0 | 2 | 2   \n",
    "\n",
    "| 24 | 25 | 26 | 27 |  28 |  29  | 30 | 31 | 32 | 33 | 34 | 35 | 36 | 37 | 38\n",
    "--|--\n",
    "0|0.0 | 0.0 | 0.0 | 0.0 | 1.0 | 0.0 | 0.0 |  0 |  0 | 0.0 | 0.0 | 0.0 | 0.0 | 0.0 | 0.0   \n",
    "1|0.0 | 0.0 | 0.0 | 0.0 | 1.0 | 0.0 | 0.0 |  1 |  1 | 1.0 | 0.0 | 1.0 | 0.0 | 0.0 | 0.0   \n",
    "\n",
    "  | 39 | 40 | Class | 1_icmp | 1_tcp | 1_udp | 2_IRC | 2_X11 | 2_auth | 2_ctf\n",
    "--|--\n",
    "0 | 0.0 | 0.0 | 0 | 0 | 1 | 0 |  0  |    0  |     0  |    0   \n",
    "1 | 0.0 | 0.0 | 0 | 0 | 1 | 0 |  0  |    0  |     0  |    0   \n",
    "\n",
    " | 2_domain | 2_domain_u | 2_eco_i | 2_ecr_i | 2_finger | 2_ftp | 2_ftp_data\n",
    " --|--\n",
    "0  |   0  |    0  |   0  |  0  |   0  |    0   |   0   \n",
    "1  |   0  |    0  |   0  |  0  |   0  |    0   |   0   \n",
    "\n",
    "| 2_gopher | 2_http | 2_imap4 | 2_link | 2_mtp | 2_name | 2_ntp_u | 2_other \n",
    "--|--\n",
    "0 |   0  |     1   |     0  |     0  |    0  |     0  |      0   |     0   \n",
    "1 |   0  |     1   |     0  |     0  |    0  |     0  |      0   |     0   \n",
    "\n",
    "| 2_pop_3 | 2_private | 2_red_i | 2_remote_job | 2_rje | 2_shell | 2_smtp | 2_ssh \n",
    "--|--\n",
    "0 |       0 |         0 |       0 |            0 |     0 |       0 |      0 |     0   \n",
    "1 |       0 |         0 |       0 |            0 |     0 |       0 |      0 |     0   \n",
    "\n",
    "| 2_telnet | 2_tftp_u | 2_tim_i | 2_time | 2_urh_i | 2_urp_i | 2_whois | 3_OTH  \n",
    "--|--\n",
    "0 |        0 |     0 |       0 |      0 |       0 |       0 |       0 |     0   \n",
    "1 |        0 |     0 |       0 |      0 |       0 |       0 |       0 |     0   \n",
    "\n",
    "| 3_REJ | 3_RSTO | 3_RSTR | 3_S0 | 3_S1 | 3_S2 | 3_S3 | 3_SF | 3_SH  \n",
    "--|--\n",
    "0 |     0 |      0 |      0 |    0 |    0 |    0 |    0 |    1 |    0  \n",
    "1 |     0 |      0 |      0 |    0 |    0 |    0 |    0 |    1 |    0  "
   ]
  },
  {
   "cell_type": "markdown",
   "metadata": {},
   "source": [
    "After removing uninformative variables and replacing character variables with hot encoding the dataset contains 83 numeric features.\n",
    "\n",
    "#### 1.4. Standardize the training dataset\n",
    "\n",
    "Create a list of features, standardize the features columns using `sklearn.preprocessing.StandardScaler`.\n",
    "\n",
    "**Further steps are similar to those covered in the notebook `MScA_32017_AMLAI_AE3_FraudDetection.ipynb`.**\n",
    "\n",
    "#### 1.5. Split the data into train and test subsets \n",
    "\n",
    "Use `sklearn.model_selection.train_test_split()` function. Reserve 20% of data for the test data. Do not forget to set the parameter `stratify` to keep the class size ratio within each of data sets.\n",
    "\n",
    "#### 1.6. Detach the labels from the train and the test datasets\n",
    "\n",
    "#### 1.7. Separate the \"normal\" instances\n",
    "\n",
    "An autoencoder will be trained to reconstruct class \"normal\". Separate the \"normal\" instances in both `train` and `test` datasets."
   ]
  },
  {
   "cell_type": "markdown",
   "metadata": {},
   "source": [
    "### 2. Build the model\n",
    "\n",
    "Follow the steps of  `MScA_32017_AMLAI_AE3_FraudDetection.ipynb` to create similar model for this project.\n",
    "\n",
    "#### 2.1. select architecture of autoencoder\n",
    "\n",
    "Try different numbers and dimentions of layers. Use `BatchNormalization` and `Dropout` layers to achieve better results.\n",
    "\n",
    "#### 2.2. Fit the model\n",
    "\n",
    "Fit autoencoder to the \"normal\" instances of the train dataset.  \n",
    "Use `ModelCheckpoint` callback to save the best model to file:\n",
    "\n",
    "`checkpointer = ModelCheckpoint(filepath=\"autoencoder.h5\",\n",
    "                               verbose=0,\n",
    "                               save_best_only=True)`    \n",
    "                               \n",
    "### 3. Evaluation\n",
    "\n",
    "#### 3.1. Load the fitted autoencoder from file `\"autoencoder.h5\"`.\n",
    "\n",
    "#### 3.2.  Reconstruction\n",
    "\n",
    "Reconstruct the **test** dataset using the fitted autoencoder, calculate the **mean squared error** of the prediction.  \n",
    "\n",
    "#### 3.3. Evaluate\n",
    "\n",
    "Calculate MSE of each observation by averaging squared errors of reconstruction of all features in a row.  \n",
    "\n",
    "Calculate ROC and AUC. Select appropriate quantile and calculate Accuracy and Cohen's Kappa.\n",
    "\n",
    "Tune parameters of autoencoder to achieve better results (see Section 2.1.). Try to make AUC = 0.97 or better to get a good score.\n",
    "\n",
    "### 4.Create submission\n",
    "\n",
    "#### 4.1. Read test data\n",
    "\n",
    "Read the **test** dataset from ['kddCupTest.csv'](kddCupTest.csv) and check it for missing values.  "
   ]
  },
  {
   "cell_type": "code",
   "execution_count": 19,
   "metadata": {},
   "outputs": [
    {
     "name": "stdout",
     "output_type": "stream",
     "text": [
      "   0    1         2   3    4    5   6   7   8   9   10  11  12  13  14  15  \\\n",
      "0   0  tcp      http  SF  220  370   0   0   0   0   0   1   0   0   0   0   \n",
      "1   0  udp   private  SF  105  145   0   0   0   0   0   0   0   0   0   0   \n",
      "2   0  tcp  ftp_data  SF  245    0   0   0   0   0   0   0   0   0   0   0   \n",
      "\n",
      "   16  17  18  19  20  21  22  23   24   25   26   27   28   29   30   31  \\\n",
      "0   0   0   0   0   0   0   4   4  0.0  0.0  0.0  0.0  1.0  0.0  0.0   23   \n",
      "1   0   0   0   0   0   0   1   1  0.0  0.0  0.0  0.0  1.0  0.0  0.0  255   \n",
      "2   0   0   0   0   0   0   1   1  0.0  0.0  0.0  0.0  1.0  0.0  0.0  227   \n",
      "\n",
      "    32    33    34    35    36   37    38   39    40  \n",
      "0  255  1.00  0.00  0.04  0.02  0.0  0.01  0.0  0.03  \n",
      "1  241  0.95  0.01  0.00  0.00  0.0  0.00  0.0  0.00  \n",
      "2   71  0.31  0.02  0.31  0.00  0.0  0.00  0.0  0.00  \n"
     ]
    }
   ],
   "source": [
    "kddCupTest = pd.read_csv('kddCupTest.csv', header=None)\n",
    "print(kddCupTest.head(3))"
   ]
  },
  {
   "cell_type": "markdown",
   "metadata": {},
   "source": [
    "Notice that there are no lables in the test dataset. The features columns are the same.\n",
    "\n",
    "#### 4.2. Do \"One hot\" transformation of categorical features\n",
    "\n",
    "Don't forget to make the features list exactly the same as in the **train** dataset.  \n",
    "\n",
    "#### 4.3. Standardize the test dataset\n",
    "\n",
    "Use the scaler fitted to the training dataset.\n",
    "\n",
    "#### 4.4. Make predictions and save the results to csv file.\n",
    "\n",
    "Reconstruct the **kddCupTest** dataset, calculate **mean squared error** as reconstruction error.  \n",
    "Save MSE to scv file. \n",
    "\n",
    "`result_df = pd.DataFrame({'reconstruction_error': testMSE})\n",
    " result_df.to_csv('filename.csv')`"
   ]
  },
  {
   "cell_type": "markdown",
   "metadata": {},
   "source": [
    "The format should be as follows:  \n",
    "  \n",
    ",reconstruction_error  \n",
    "0,0.019312\n",
    "1,0.049165\n",
    "2,0.084997 "
   ]
  },
  {
   "cell_type": "markdown",
   "metadata": {},
   "source": [
    "#### 4.5. Upload the results\n",
    "\n",
    "Upload the saved file using [shiny test application](http://shiny.ilykei.com:3838/courses/AdvancedML/AutoEncoder).\n",
    "The uploaded results will be used for calculation of AUC. The goal for this project is to get AUC not less then 0.97.\n"
   ]
  }
 ],
 "metadata": {
  "kernelspec": {
   "display_name": "Python 3",
   "language": "python",
   "name": "python3"
  },
  "language_info": {
   "codemirror_mode": {
    "name": "ipython",
    "version": 3
   },
   "file_extension": ".py",
   "mimetype": "text/x-python",
   "name": "python",
   "nbconvert_exporter": "python",
   "pygments_lexer": "ipython3",
   "version": "3.6.6"
  }
 },
 "nbformat": 4,
 "nbformat_minor": 2
}
