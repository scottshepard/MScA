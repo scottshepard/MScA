{
 "cells": [
  {
   "cell_type": "markdown",
   "metadata": {},
   "source": [
    "# Advanced Machine Learning and Artificial Intelligence (MScA 32017)\n",
    "\n",
    "# Speech Recognition\n",
    "\n",
    "## Notebook 3: Project Instructions\n",
    "\n",
    "## Yuri Balasanov, Alexander Doynikov, Alex Petukhov &copy; iLykei 2018\n",
    "\n",
    "##### Main texts: \n",
    "\n",
    "##### Artificial Intelligence with Python. A Comprehensive Guide to Building Intelligent Apps for Python Beginners and Developers, Prateek Joshi, &copy; Packt Publishing  2017\n",
    "\n",
    "##### [A Tutorial on Hidden Markov Models and Selected Applications in Speech Recognition, Lawrence R. Rabiner, Proceedings of the IEEE, Vol. 77, No. 2, Feb. 1989](https://ieeexplore.ieee.org/document/18626/)\n",
    "\n",
    "##### [Documentation for **pydub**](https://github.com/jiaaro/pydub/blob/master/API.markdown)\n",
    "\n",
    "This notebook contains instructions for the project. \n",
    "\n",
    "# Collecting data for training sample\n",
    "\n",
    "To train an Automatic Speech Recognizer (ASR) collect recordings of waveforms of numerals from as many people as possible. Organize the records to use them for training models.\n"
   ]
  },
  {
   "cell_type": "markdown",
   "metadata": {},
   "source": [
    "## Recording\n",
    "\n",
    "Use any software that can create recordings in the form of uncompressed raw .WAV files with 1 channel, sampling rate 8,000 Hz (8 kHz), 16 bit sample size (precision) and 16-bit signed integer PCM (Pulse-Code Modulation) data encoding.\n",
    "\n",
    "A popular command line utility that can do it is Sox  - Sound  eXchange - available [here](http://sox.sourceforge.net/).\n",
    "\n",
    "To make a recording of the required quality wit SOX follow the steps:\n",
    "- Download and install `sox`\n",
    "- Connect microphone or use the built in one and check that it is functioning properly\n",
    "- Start recording by executing command: `rec -c 1 -r 8k filename.wav`. <br>\n",
    "Here `-c 1` means recording mono (1 channel); `-r 8k` means recording with sampling rate of 8 kHz\n",
    "- Stop recording by executing `Ctrl+C`. Check the file parameters: `soxi filename.wav`. Parameter `bit-rate` in the output is a measure of the amount of storage occupied by an encoded audio signal over a unit of time\n",
    "- Play the file using any media player\n",
    "\n",
    "If any other recording software used it is recommended to make .WAV files with the same characteristics and without any metadata.\n",
    "\n",
    "It is recommended to make several recordings with each speaker. Each recording contains spoken numbers from \"zero\" to \"nine\" with clear pauses of at least about 1 sec between them. "
   ]
  },
  {
   "cell_type": "markdown",
   "metadata": {},
   "source": [
    "## Splitting\n",
    "\n",
    "Collected records should have one or several .WAV files from each speaker with utterances of numerals from \"zero\" to \"nine\" separated by silent segments of about 1 second long.\n",
    "\n",
    "Before training models split each record and store utterances in separate .WAV files. \n",
    "\n",
    "A commonly used python package for splitting by silence is `pydub`. <br>\n",
    "Install it by either `conda install -c auto pydub` or `pip install pydub`."
   ]
  },
  {
   "cell_type": "code",
   "execution_count": 1,
   "metadata": {},
   "outputs": [],
   "source": [
    "from pydub import AudioSegment as asg\n",
    "from pydub.silence import split_on_silence\n",
    "from pydub.playback import play"
   ]
  },
  {
   "cell_type": "markdown",
   "metadata": {},
   "source": [
    "Select one file from each of the fruit names folders and combine utterances in one segment to learn how to split utterances by silence."
   ]
  },
  {
   "cell_type": "code",
   "execution_count": 2,
   "metadata": {},
   "outputs": [],
   "source": [
    "fruit_paths = ['./data/apple/apple01.wav',\n",
    "               './data/banana/banana01.wav',\n",
    "               './data/kiwi/kiwi01.wav',\n",
    "               './data/lime/lime01.wav',\n",
    "               './data/orange/orange01.wav',\n",
    "               './data/peach/peach01.wav',\n",
    "               './data/pineapple/pineapple01.wav']\n",
    "fruit_sequence = asg.silent()\n",
    "for f_path in fruit_paths:\n",
    "    fruit_sequence = fruit_sequence + asg.from_file(f_path) + asg.silent()\n",
    "\n",
    "play(fruit_sequence)"
   ]
  },
  {
   "cell_type": "markdown",
   "metadata": {},
   "source": [
    "Save the file with fruit names."
   ]
  },
  {
   "cell_type": "code",
   "execution_count": 3,
   "metadata": {},
   "outputs": [
    {
     "data": {
      "text/plain": [
       "<_io.BufferedRandom name='fruit_seq.wav'>"
      ]
     },
     "execution_count": 3,
     "metadata": {},
     "output_type": "execute_result"
    }
   ],
   "source": [
    "fruit_sequence.export('fruit_seq.wav',format=\"wav\")"
   ]
  },
  {
   "cell_type": "markdown",
   "metadata": {},
   "source": [
    "Check parameters of the saved file by running `soxi fruit_seq.wav`. <br>\n",
    "The sample frequency may need to be transformed back to 8 kHz:"
   ]
  },
  {
   "cell_type": "code",
   "execution_count": 4,
   "metadata": {},
   "outputs": [
    {
     "data": {
      "text/plain": [
       "<_io.BufferedRandom name='fruit_seq.wav'>"
      ]
     },
     "execution_count": 4,
     "metadata": {},
     "output_type": "execute_result"
    }
   ],
   "source": [
    "fruit_sequence = fruit_sequence.set_frame_rate(8000)\n",
    "fruit_sequence.export('fruit_seq.wav',format=\"wav\")"
   ]
  },
  {
   "cell_type": "markdown",
   "metadata": {},
   "source": [
    "Read the file and split it into separate utterances by silence. <br>\n",
    "First, select parameters for splitting, for example, as:\n",
    "- Minimum length of silence to split as 200 ms\n",
    "- Threshold for definition of silence in dB relative to full scale (dBFS) as default value of (-16).\n",
    "\n",
    "Run function `split_on_silence()`"
   ]
  },
  {
   "cell_type": "code",
   "execution_count": 5,
   "metadata": {},
   "outputs": [
    {
     "name": "stdout",
     "output_type": "stream",
     "text": [
      "7\n"
     ]
    }
   ],
   "source": [
    "all_utterances = asg.from_file('fruit_seq.wav')\n",
    "\n",
    "silence_len = 200 # (in ms) minimum length of a silence to be used for a split\n",
    "thresh = -50 # (in dBFS) anything quieter than this will be considered silence. default=-16\n",
    "\n",
    "separate_utterances = split_on_silence(all_utterances,\n",
    "                                       min_silence_len=silence_len, \n",
    "                                       silence_thresh=thresh \n",
    "                                       )\n",
    "\n",
    "print(len(separate_utterances))"
   ]
  },
  {
   "cell_type": "markdown",
   "metadata": {},
   "source": [
    "Note that there was no split: level of threshold for silence is too high to detect any silence segments. <br>\n",
    "Change the threshold to -20. There is only 2 segments after split. <br>\n",
    "Change the threshold to -30. Now there are 7 segments. Play them all and check how well the utterances are separated."
   ]
  },
  {
   "cell_type": "code",
   "execution_count": 6,
   "metadata": {},
   "outputs": [],
   "source": [
    "play(separate_utterances[3])"
   ]
  },
  {
   "cell_type": "markdown",
   "metadata": {},
   "source": [
    "Some of the words appear truncated. <br>\n",
    "Finally, with threshold equal to -50 all words can be heard.\n",
    "\n",
    "This example shows how important and challenging is the problem of splitting speech into single word segments.\n",
    "\n",
    "Select appropriate parameters for splitting or improve the splitting method by first analyzing characteristics of noise and then running `split_on_silence()`.\n",
    "\n",
    "Collect all utterances of the same numeral in one folder. This is the training sample."
   ]
  },
  {
   "cell_type": "markdown",
   "metadata": {},
   "source": [
    "## Augmenting data\n",
    "\n",
    "Like for other applications, data augmentation is an important method allowing better training of automatic speech recognition models.\n",
    "\n",
    "This sections contains some code from [this post](https://www.kaggle.com/CVxTz/audio-data-augmentation) with significant modifications. The post describes some useful approaches to speech data augmentation: adding noise, stretching and rolling, shifting the pitch."
   ]
  },
  {
   "cell_type": "code",
   "execution_count": 7,
   "metadata": {},
   "outputs": [],
   "source": [
    "import numpy as np\n",
    "import random\n",
    "import scipy.io.wavfile as wavfile\n",
    "import IPython.display as ipd\n",
    "import matplotlib.pyplot as plt\n",
    "import librosa\n",
    "\n",
    "%matplotlib inline"
   ]
  },
  {
   "cell_type": "code",
   "execution_count": 8,
   "metadata": {},
   "outputs": [],
   "source": [
    "def plot_waveform(signal,sampling_freq):\n",
    "    time_axis=1000*np.arange(0,len(signal),1)/float(sampling_freq)\n",
    "    plt.plot(time_axis,signal,color='black')\n",
    "    plt.xlabel('Time (milliseconds)')\n",
    "    plt.ylabel('Amplitude')\n",
    "    plt.title('Waveform of Utterance')\n",
    "    plt.show()"
   ]
  },
  {
   "cell_type": "code",
   "execution_count": 9,
   "metadata": {},
   "outputs": [
    {
     "data": {
      "image/png": "[encoded data removed]",
      "text/plain": [
       "<Figure size 432x288 with 1 Axes>"
      ]
     },
     "metadata": {},
     "output_type": "display_data"
    }
   ],
   "source": [
    "sampling_freq, signal = wavfile.read('./data/apple/apple01.wav')\n",
    "plot_waveform(signal,sampling_freq)"
   ]
  },
  {
   "cell_type": "markdown",
   "metadata": {},
   "source": [
    "### Adding white noise\n",
    "\n",
    "Add random white noise to the utterance."
   ]
  },
  {
   "cell_type": "code",
   "execution_count": 10,
   "metadata": {
    "scrolled": true
   },
   "outputs": [
    {
     "data": {
      "image/png": "[encoded data removed]",
      "text/plain": [
       "<Figure size 432x288 with 1 Axes>"
      ]
     },
     "metadata": {},
     "output_type": "display_data"
    }
   ],
   "source": [
    "wn = np.random.randn(len(signal)) # generate white noise\n",
    "signal_wn = signal + 1000*wn # add white noise to signal\n",
    "\n",
    "# Scale it to 16-bit integer values\n",
    "scaling_factor = np.power(2, 15) - 1\n",
    "signal_wn_normalized = signal_wn / np.max(np.abs(signal_wn))\n",
    "signal_wn_scaled = np.int16(signal_wn_normalized * scaling_factor)\n",
    "\n",
    "plot_waveform(signal_wn_scaled,sampling_freq)"
   ]
  },
  {
   "cell_type": "markdown",
   "metadata": {},
   "source": [
    "Write modified signal to a new file."
   ]
  },
  {
   "cell_type": "code",
   "execution_count": 11,
   "metadata": {},
   "outputs": [],
   "source": [
    "wavfile.write('apple_noise.wav', sampling_freq, signal_wn_scaled)"
   ]
  },
  {
   "cell_type": "markdown",
   "metadata": {},
   "source": [
    "Read the file and play it."
   ]
  },
  {
   "cell_type": "code",
   "execution_count": 12,
   "metadata": {},
   "outputs": [],
   "source": [
    "play(asg.from_file('apple_noise.wav'))"
   ]
  },
  {
   "cell_type": "markdown",
   "metadata": {},
   "source": [
    "### Shifting the sound\n",
    "\n",
    "Shifting is equivalent to rolling the time series of signal by a specified shift. As the signal shifts forward the last values become first."
   ]
  },
  {
   "cell_type": "code",
   "execution_count": 13,
   "metadata": {},
   "outputs": [
    {
     "data": {
      "image/png": "[encoded data removed]",
      "text/plain": [
       "<Figure size 432x288 with 1 Axes>"
      ]
     },
     "metadata": {},
     "output_type": "display_data"
    }
   ],
   "source": [
    "signal_roll = np.roll(signal, shift=1000)\n",
    "plot_waveform(signal_roll,sampling_freq)"
   ]
  },
  {
   "cell_type": "code",
   "execution_count": 14,
   "metadata": {},
   "outputs": [],
   "source": [
    "wavfile.write('apple_roll.wav', sampling_freq, signal_roll)\n",
    "play(asg.from_file('apple_roll.wav'))"
   ]
  },
  {
   "cell_type": "markdown",
   "metadata": {},
   "source": [
    "### Stretching sound\n",
    "\n",
    "Stretching sound means changing the length of the signal which typically leads to change in the frequency of the signal.\n",
    "\n",
    "To stretch the signal use package `librosa`.\n",
    "\n",
    "Create a function that stretches given signal by a certain rate."
   ]
  },
  {
   "cell_type": "code",
   "execution_count": 15,
   "metadata": {},
   "outputs": [],
   "source": [
    "def stretch(data, rate=1):\n",
    "    data = data.astype(float) # time_stretch() accepts floating format\n",
    "    data = librosa.effects.time_stretch(data, rate) # stretching\n",
    "\n",
    "    # Scale it to 16-bit integer values\n",
    "    scaling_factor = np.power(2, 15) - 1\n",
    "    data_normalized = data / np.max(np.abs(data))\n",
    "    data_scaled = np.int16(data_normalized * scaling_factor)\n",
    "\n",
    "    return data_scaled"
   ]
  },
  {
   "cell_type": "markdown",
   "metadata": {},
   "source": [
    "For comparison print duration and length of the original signal."
   ]
  },
  {
   "cell_type": "code",
   "execution_count": 16,
   "metadata": {},
   "outputs": [
    {
     "name": "stdout",
     "output_type": "stream",
     "text": [
      "Original duration:  0.168375 , Length original:  2694\n"
     ]
    }
   ],
   "source": [
    "# Create sound in the format of pydub AudioSegment\n",
    "sound_original = asg(data=signal,sample_width=2,frame_rate=sampling_freq,channels=1)\n",
    "print('Original duration: ',sound_original.duration_seconds,', Length original: ',len(signal))\n",
    "play(sound_original)"
   ]
  },
  {
   "cell_type": "markdown",
   "metadata": {},
   "source": [
    "Now stretch the signal with coefficient 0.8."
   ]
  },
  {
   "cell_type": "code",
   "execution_count": 17,
   "metadata": {},
   "outputs": [
    {
     "data": {
      "image/png": "[encoded data removed]",
      "text/plain": [
       "<Figure size 432x288 with 1 Axes>"
      ]
     },
     "metadata": {},
     "output_type": "display_data"
    },
    {
     "name": "stdout",
     "output_type": "stream",
     "text": [
      "Stretch 80% duration:  0.1792 , Length stretch 80%:  3584\n"
     ]
    }
   ],
   "source": [
    "signal_stretch_80 =stretch(signal, 0.8)\n",
    "plot_waveform(signal_stretch_80,int(sampling_freq/0.8)) # adjust sampling frequency accordingly\n",
    "sound_stretch80 = asg(signal_stretch_80,sample_width=2,frame_rate=int(sampling_freq/0.8),channels=1)\n",
    "print('Stretch 80% duration: ',sound_stretch80.duration_seconds,', Length stretch 80%: ',len(signal_stretch_80))\n",
    "play(sound_stretch80)"
   ]
  },
  {
   "cell_type": "markdown",
   "metadata": {},
   "source": [
    "Export the file to .WAV format."
   ]
  },
  {
   "cell_type": "code",
   "execution_count": 18,
   "metadata": {},
   "outputs": [
    {
     "data": {
      "text/plain": [
       "<_io.BufferedRandom name='apple_stretch80.wav'>"
      ]
     },
     "execution_count": 18,
     "metadata": {},
     "output_type": "execute_result"
    }
   ],
   "source": [
    "sound_stretch80.export('apple_stretch80.wav',format='wav')"
   ]
  },
  {
   "cell_type": "markdown",
   "metadata": {},
   "source": [
    "Check the saved file. Note that sample rate increased. Read the file and adjust the sampling rate back to 8 kHz."
   ]
  },
  {
   "cell_type": "code",
   "execution_count": 19,
   "metadata": {},
   "outputs": [],
   "source": [
    "sound = asg.from_wav('apple_stretch80.wav')\n",
    "sound = sound.set_frame_rate(8000)\n",
    "sound.export('apple_stretch80_adj.wav',format='wav')\n",
    "play(sound)"
   ]
  },
  {
   "cell_type": "markdown",
   "metadata": {},
   "source": [
    "Now stretch the signal with coefficient 1.2."
   ]
  },
  {
   "cell_type": "code",
   "execution_count": 20,
   "metadata": {},
   "outputs": [
    {
     "data": {
      "image/png": "[encoded data removed]",
      "text/plain": [
       "<Figure size 432x288 with 1 Axes>"
      ]
     },
     "metadata": {},
     "output_type": "display_data"
    },
    {
     "name": "stdout",
     "output_type": "stream",
     "text": [
      "Stretch 120% duration:  0.15361536153615363 , Length stretch 120%:  2048\n"
     ]
    }
   ],
   "source": [
    "signal_stretch120 =stretch(signal, 1.2)\n",
    "plot_waveform(signal_stretch120,int(sampling_freq/1.2))\n",
    "sound_stretch120 = asg(signal_stretch120,sample_width=2,frame_rate=int(sampling_freq/1.2),channels=1)\n",
    "print('Stretch 120% duration: ',sound_stretch120.duration_seconds,', Length stretch 120%: ',len(signal_stretch120))"
   ]
  },
  {
   "cell_type": "markdown",
   "metadata": {},
   "source": [
    "Again, export the stretched sound to file, read it back and adjust the sampling frequency. "
   ]
  },
  {
   "cell_type": "code",
   "execution_count": 21,
   "metadata": {},
   "outputs": [
    {
     "data": {
      "text/plain": [
       "<_io.BufferedRandom name='apple_stretch120_adj.wav'>"
      ]
     },
     "execution_count": 21,
     "metadata": {},
     "output_type": "execute_result"
    }
   ],
   "source": [
    "sound_stretch120.export('apple_stretch120.wav',format='wav')\n",
    "sound120 = asg.from_wav('apple_stretch120.wav')\n",
    "sound120_adj = sound120.set_frame_rate(8000)\n",
    "sound120_adj.export('apple_stretch120_adj.wav',format='wav')"
   ]
  },
  {
   "cell_type": "markdown",
   "metadata": {},
   "source": [
    "Check parameters of both adjusted files and play them to compare them with the original."
   ]
  },
  {
   "cell_type": "code",
   "execution_count": 22,
   "metadata": {},
   "outputs": [],
   "source": [
    "play(asg.from_wav('./data/apple/apple01.wav'))\n",
    "play(asg.from_wav('apple_stretch120_adj.wav'))\n",
    "play(asg.from_wav('apple_stretch80_adj.wav'))"
   ]
  },
  {
   "cell_type": "markdown",
   "metadata": {},
   "source": [
    "# Training model"
   ]
  },
  {
   "cell_type": "markdown",
   "metadata": {},
   "source": [
    "## Organizing data\n",
    "\n",
    "Collect all original and augmented files together in subfolders corresponding to spoken numerals.\n",
    "\n",
    "Now it is time to train a model for each subfolder."
   ]
  },
  {
   "cell_type": "markdown",
   "metadata": {},
   "source": [
    "## Selecting parameters, extracting features\n",
    "\n",
    "Training a model for one numeral includes the following <a href=\"https://ilykei.com/api/fileProxy/documents%2FAdvanced%20Machine%20Learning%2FSpeech%20Recognition%2FMScA32017_AMLAI_SpeechRecognition_1.ipynb\" target=\"_blank\">(see notebook 1)</a> :\n",
    "- Deciding how many states and how many MFCC coefficients is necessary to train a model for a given numeral. Check AIC values for different combinations and select a reasonable one. It is possible that different words can be better detected by models with different combinations \n",
    "- For the selected combination extract MFCC features for each frame of each sample. The resulting feature matrix has number of rows equal to the total number of frames in all available samples of the word and number of columns equal to the selected number of cepstrum coefficients\n",
    "- Train HMM with the selected number of states and observations equal to the features\n",
    "\n",
    "Save (pickle) models for each word to a file."
   ]
  },
  {
   "cell_type": "markdown",
   "metadata": {},
   "source": [
    "# Automatic speech recogninition"
   ]
  },
  {
   "cell_type": "markdown",
   "metadata": {},
   "source": [
    "## Test data\n",
    "\n",
    "Received test data archive will contain a folder with multiple .WAV files. Each file is a telephone number: a spoken sequence of 10 numbers separated by short silence segments. Telephone numbers are recorded by different speakers. "
   ]
  },
  {
   "cell_type": "markdown",
   "metadata": {},
   "source": [
    "## Splitting phone numbers into separate numbers\n",
    "\n",
    "Before scoring models for each numeral split telephone numbers into single spoken numerals. Use the algorithm  implemented for splitting training records in the section above. \n",
    "\n",
    "Store the test phone numbers in separate folders: returned solutions will need to be in the form of telephone numbers as well."
   ]
  },
  {
   "cell_type": "markdown",
   "metadata": {},
   "source": [
    "## Recognizing words by maximum likelihood\n",
    "\n",
    "Loop through all test telephone numbers, for each telephone number loop through all numerals. \n",
    "\n",
    "For each spoken numeral: \n",
    "- Loop through the trained models\n",
    "- For each model extract features for the numbers of HMM states and MFCC coefficients corresponding to that model\n",
    "- Calculate log likelihood for each of the models and select model predicting the given numeral with highest log likelihood. Prediction by that model is the recognized word \n"
   ]
  },
  {
   "cell_type": "markdown",
   "metadata": {},
   "source": [
    "# Preparation of the results and submission\n",
    "\n",
    "Collect all predicted numerals in telephone numbers combinations and upload them for grading.\n",
    "\n",
    "## Instructions for submitting results\n",
    "\n",
    "Recognized telephone numbers must be submitted as `.CSV` file containing 2 columns without any headers. The first column is the original file name (as it was downloaded) as ID, the second column is the recognized telephone number (without spacing). \n",
    "\n",
    "Submitted file should look something like this:\n",
    "\n",
    "`1.wav, 2347789015` <br>  \n",
    "`2.wav, 1078900356` <br> \n",
    "`3.wav, 9054403200` <br> \n",
    "`...`\n",
    "\n",
    "## Calculation of score\n",
    "\n",
    "Score for this project is calculated as **micro precision**:\n",
    "\n",
    "Let $C_1,\\ldots,C_k$ be $k$ classes for classification and let $$TP_i,FP_i,~i=1,\\ldots,k,$$\n",
    "be True Positive and False Positive rates for class $C_i$, correspondingly. Then micro precision is\n",
    "$$Prec_{micro}=\\frac{\\sum_{i=1}^k TP_i}{\\sum_{i=1}^k TP_i+\\sum_{i=1}^k FP_i}.$$"
   ]
  },
  {
   "cell_type": "markdown",
   "metadata": {},
   "source": [
    "# Test"
   ]
  },
  {
   "cell_type": "code",
   "execution_count": 23,
   "metadata": {},
   "outputs": [
    {
     "data": {
      "text/html": [
       "\n",
       "        <iframe\n",
       "            width=\"500\"\n",
       "            height=\"300\"\n",
       "            src=\"https://shiny.ilykei.com/courses/AdvancedML/Speech_Recognition\"\n",
       "            frameborder=\"0\"\n",
       "            allowfullscreen\n",
       "        ></iframe>\n",
       "        "
      ],
      "text/plain": [
       "<IPython.lib.display.IFrame at 0x7f97ca1edb38>"
      ]
     },
     "execution_count": 23,
     "metadata": {},
     "output_type": "execute_result"
    }
   ],
   "source": [
    "from IPython.display import IFrame\n",
    "def show(url,width=400,height=400):\n",
    "    return IFrame(url, width, height)\n",
    "show(\"https://shiny.ilykei.com/courses/AdvancedML/Speech_Recognition\",\n",
    "    width=500,height=300)"
   ]
  }
 ],
 "metadata": {
  "kernelspec": {
   "display_name": "Python 3",
   "language": "python",
   "name": "python3"
  },
  "language_info": {
   "codemirror_mode": {
    "name": "ipython",
    "version": 3
   },
   "file_extension": ".py",
   "mimetype": "text/x-python",
   "name": "python",
   "nbconvert_exporter": "python",
   "pygments_lexer": "ipython3",
   "version": "3.6.7"
  }
 },
 "nbformat": 4,
 "nbformat_minor": 2
}
