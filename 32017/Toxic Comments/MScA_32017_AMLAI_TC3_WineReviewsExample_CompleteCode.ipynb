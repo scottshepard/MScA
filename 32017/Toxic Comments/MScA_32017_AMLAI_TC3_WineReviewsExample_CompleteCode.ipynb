{
 "cells": [
  {
   "cell_type": "markdown",
   "metadata": {},
   "source": [
    "# iLykei Lecture Series\n",
    "# Advanced Machine Learning and Artificial Intelligence (MScA 32017)\n",
    "\n",
    "# Project: Detection of Toxic Comments Online\n",
    "\n",
    "## Notebook 3: Wine Reviews Example\n",
    "\n",
    "## Yuri Balasanov, Leonid Nazarov, &copy; iLykei 2018\n",
    "\n",
    "This notebook describes multiclass classification based on text description: problem similar to the main project. \n",
    "\n",
    "Data for this document can be downloaded from the [Kaggle competition web site](https://www.kaggle.com/christopheiv/winemagdata130k).\n",
    "\n",
    "The goal is to identify wine producing country by analyzing text from a sommelier describing the wine's taste, smell, look, feel, etc.\n",
    "\n",
    "# Word embeddings and preparation\n",
    "\n",
    "Load the data."
   ]
  },
  {
   "cell_type": "code",
   "execution_count": 2,
   "metadata": {
    "scrolled": true
   },
   "outputs": [
    {
     "data": {
      "text/html": [
       "<div>\n",
       "<style scoped>\n",
       "    .dataframe tbody tr th:only-of-type {\n",
       "        vertical-align: middle;\n",
       "    }\n",
       "\n",
       "    .dataframe tbody tr th {\n",
       "        vertical-align: top;\n",
       "    }\n",
       "\n",
       "    .dataframe thead th {\n",
       "        text-align: right;\n",
       "    }\n",
       "</style>\n",
       "<table border=\"1\" class=\"dataframe\">\n",
       "  <thead>\n",
       "    <tr style=\"text-align: right;\">\n",
       "      <th></th>\n",
       "      <th>country</th>\n",
       "      <th>description</th>\n",
       "      <th>designation</th>\n",
       "      <th>points</th>\n",
       "      <th>price</th>\n",
       "      <th>province</th>\n",
       "      <th>region_1</th>\n",
       "      <th>region_2</th>\n",
       "      <th>taster_name</th>\n",
       "      <th>taster_twitter_handle</th>\n",
       "      <th>title</th>\n",
       "      <th>variety</th>\n",
       "      <th>winery</th>\n",
       "    </tr>\n",
       "  </thead>\n",
       "  <tbody>\n",
       "    <tr>\n",
       "      <th>0</th>\n",
       "      <td>Italy</td>\n",
       "      <td>Aromas include tropical fruit, broom, brimston...</td>\n",
       "      <td>Vulkà Bianco</td>\n",
       "      <td>87</td>\n",
       "      <td>NaN</td>\n",
       "      <td>Sicily &amp; Sardinia</td>\n",
       "      <td>Etna</td>\n",
       "      <td>NaN</td>\n",
       "      <td>Kerin O’Keefe</td>\n",
       "      <td>@kerinokeefe</td>\n",
       "      <td>Nicosia 2013 Vulkà Bianco  (Etna)</td>\n",
       "      <td>White Blend</td>\n",
       "      <td>Nicosia</td>\n",
       "    </tr>\n",
       "    <tr>\n",
       "      <th>1</th>\n",
       "      <td>Portugal</td>\n",
       "      <td>This is ripe and fruity, a wine that is smooth...</td>\n",
       "      <td>Avidagos</td>\n",
       "      <td>87</td>\n",
       "      <td>15.0</td>\n",
       "      <td>Douro</td>\n",
       "      <td>NaN</td>\n",
       "      <td>NaN</td>\n",
       "      <td>Roger Voss</td>\n",
       "      <td>@vossroger</td>\n",
       "      <td>Quinta dos Avidagos 2011 Avidagos Red (Douro)</td>\n",
       "      <td>Portuguese Red</td>\n",
       "      <td>Quinta dos Avidagos</td>\n",
       "    </tr>\n",
       "    <tr>\n",
       "      <th>2</th>\n",
       "      <td>US</td>\n",
       "      <td>Tart and snappy, the flavors of lime flesh and...</td>\n",
       "      <td>NaN</td>\n",
       "      <td>87</td>\n",
       "      <td>14.0</td>\n",
       "      <td>Oregon</td>\n",
       "      <td>Willamette Valley</td>\n",
       "      <td>Willamette Valley</td>\n",
       "      <td>Paul Gregutt</td>\n",
       "      <td>@paulgwine</td>\n",
       "      <td>Rainstorm 2013 Pinot Gris (Willamette Valley)</td>\n",
       "      <td>Pinot Gris</td>\n",
       "      <td>Rainstorm</td>\n",
       "    </tr>\n",
       "    <tr>\n",
       "      <th>3</th>\n",
       "      <td>US</td>\n",
       "      <td>Pineapple rind, lemon pith and orange blossom ...</td>\n",
       "      <td>Reserve Late Harvest</td>\n",
       "      <td>87</td>\n",
       "      <td>13.0</td>\n",
       "      <td>Michigan</td>\n",
       "      <td>Lake Michigan Shore</td>\n",
       "      <td>NaN</td>\n",
       "      <td>Alexander Peartree</td>\n",
       "      <td>NaN</td>\n",
       "      <td>St. Julian 2013 Reserve Late Harvest Riesling ...</td>\n",
       "      <td>Riesling</td>\n",
       "      <td>St. Julian</td>\n",
       "    </tr>\n",
       "    <tr>\n",
       "      <th>4</th>\n",
       "      <td>US</td>\n",
       "      <td>Much like the regular bottling from 2012, this...</td>\n",
       "      <td>Vintner's Reserve Wild Child Block</td>\n",
       "      <td>87</td>\n",
       "      <td>65.0</td>\n",
       "      <td>Oregon</td>\n",
       "      <td>Willamette Valley</td>\n",
       "      <td>Willamette Valley</td>\n",
       "      <td>Paul Gregutt</td>\n",
       "      <td>@paulgwine</td>\n",
       "      <td>Sweet Cheeks 2012 Vintner's Reserve Wild Child...</td>\n",
       "      <td>Pinot Noir</td>\n",
       "      <td>Sweet Cheeks</td>\n",
       "    </tr>\n",
       "  </tbody>\n",
       "</table>\n",
       "</div>"
      ],
      "text/plain": [
       "    country                                        description  \\\n",
       "0     Italy  Aromas include tropical fruit, broom, brimston...   \n",
       "1  Portugal  This is ripe and fruity, a wine that is smooth...   \n",
       "2        US  Tart and snappy, the flavors of lime flesh and...   \n",
       "3        US  Pineapple rind, lemon pith and orange blossom ...   \n",
       "4        US  Much like the regular bottling from 2012, this...   \n",
       "\n",
       "                          designation  points  price           province  \\\n",
       "0                        Vulkà Bianco      87    NaN  Sicily & Sardinia   \n",
       "1                            Avidagos      87   15.0              Douro   \n",
       "2                                 NaN      87   14.0             Oregon   \n",
       "3                Reserve Late Harvest      87   13.0           Michigan   \n",
       "4  Vintner's Reserve Wild Child Block      87   65.0             Oregon   \n",
       "\n",
       "              region_1           region_2         taster_name  \\\n",
       "0                 Etna                NaN       Kerin O’Keefe   \n",
       "1                  NaN                NaN          Roger Voss   \n",
       "2    Willamette Valley  Willamette Valley        Paul Gregutt   \n",
       "3  Lake Michigan Shore                NaN  Alexander Peartree   \n",
       "4    Willamette Valley  Willamette Valley        Paul Gregutt   \n",
       "\n",
       "  taster_twitter_handle                                              title  \\\n",
       "0          @kerinokeefe                  Nicosia 2013 Vulkà Bianco  (Etna)   \n",
       "1            @vossroger      Quinta dos Avidagos 2011 Avidagos Red (Douro)   \n",
       "2           @paulgwine       Rainstorm 2013 Pinot Gris (Willamette Valley)   \n",
       "3                   NaN  St. Julian 2013 Reserve Late Harvest Riesling ...   \n",
       "4           @paulgwine   Sweet Cheeks 2012 Vintner's Reserve Wild Child...   \n",
       "\n",
       "          variety               winery  \n",
       "0     White Blend              Nicosia  \n",
       "1  Portuguese Red  Quinta dos Avidagos  \n",
       "2      Pinot Gris            Rainstorm  \n",
       "3        Riesling           St. Julian  \n",
       "4      Pinot Noir         Sweet Cheeks  "
      ]
     },
     "execution_count": 2,
     "metadata": {},
     "output_type": "execute_result"
    }
   ],
   "source": [
    "%matplotlib inline\n",
    "import numpy as np\n",
    "import pandas as pd\n",
    "import os\n",
    "from os.path import expanduser\n",
    "import pickle\n",
    "from sklearn.preprocessing import LabelEncoder\n",
    "from sklearn.model_selection import train_test_split\n",
    "\n",
    "dataPath = expanduser(\"~/Datasets/32017/\")\n",
    "reviews = pd.read_csv(dataPath+\"winemag-data-130k-v2.csv\", index_col=0)\n",
    "reviews.head()\n"
   ]
  },
  {
   "cell_type": "markdown",
   "metadata": {},
   "source": [
    "Count number of wines from each country."
   ]
  },
  {
   "cell_type": "code",
   "execution_count": 3,
   "metadata": {},
   "outputs": [
    {
     "data": {
      "text/plain": [
       "US          54504\n",
       "France      22093\n",
       "Italy       19540\n",
       "Spain        6645\n",
       "Portugal     5691\n",
       "Name: country, dtype: int64"
      ]
     },
     "execution_count": 3,
     "metadata": {},
     "output_type": "execute_result"
    }
   ],
   "source": [
    "reviews.country.value_counts().head()"
   ]
  },
  {
   "cell_type": "markdown",
   "metadata": {},
   "source": [
    "The goal of the project is building a model separating US wines from Italian ones based on the reviews. \n",
    "\n",
    "Reduce data set leaving only US and Italian wines in it. "
   ]
  },
  {
   "cell_type": "code",
   "execution_count": 4,
   "metadata": {},
   "outputs": [],
   "source": [
    "Countries = ['US','Italy']\n",
    "reviews = reviews[np.isin(reviews.country,Countries)][['description','country']]\n",
    "reviews['country'] = LabelEncoder().fit_transform(reviews.country)"
   ]
  },
  {
   "cell_type": "markdown",
   "metadata": {},
   "source": [
    "## Embedding index\n",
    "\n",
    "Create FastText embeddings index from file `*crawl-300d-2M.vec*` with FastText word vectors as shown in [MScA_32017_AMLAI_TC1_NLP_Basics.ipynb](https://ilykei.com/api/fileProxy/documents%2FAdvanced%20Machine%20Learning%2FToxicComments%2FMScA_32017_AMLAI_TC1_NLP_Basics.ipynb).  \n",
    "\n",
    "Recall that the first line of the file contains the number of words in the vocabulary and the size of the vectors. Each line contains a word followed by its vector, like in the default fastText text format. Each value is space separated. Words are ordered by descending frequency.  \n",
    "\n",
    "Create dictionary with words as keys and embeddings as values."
   ]
  },
  {
   "cell_type": "code",
   "execution_count": 6,
   "metadata": {},
   "outputs": [],
   "source": [
    "# Create embedding index from file in .txt format. First line contains \n",
    "# dictionary size and embedding dim. Fields are space separated\n",
    "def get_embeddings(file_name):\n",
    "    embeddings_index = {}\n",
    "    with open(file_name, encoding=\"utf8\") as f:\n",
    "        for line in f:\n",
    "            values = line.rstrip().split(' ')\n",
    "            if len(values) > 2:\n",
    "                embeddings_index[values[0]] = np.asarray(values[1:], dtype=\"float32\")\n",
    "    return embeddings_index\n",
    "embeddings_path = expanduser('~/Datasets/text_embeddings/')\n",
    "embeddings_index = get_embeddings(embeddings_path+'crawl-300d-2M.vec')"
   ]
  },
  {
   "cell_type": "markdown",
   "metadata": {},
   "source": [
    "## Remove unnecessary tokens\n",
    "\n",
    "The function in the next cell replaces punctuation marks (except apostrophe), digits, Carriage Return and Line Feed symbols with space. Then several consecutive spaces are replaced with single one. Replacing with method `translate()` is very fast."
   ]
  },
  {
   "cell_type": "code",
   "execution_count": 7,
   "metadata": {},
   "outputs": [],
   "source": [
    "import string\n",
    "trans_table = str.maketrans({key: ' ' for key in string.digits + '\\r\\n' +\n",
    "                             string.punctuation.replace(\"\\'\",'')})\n",
    "def preprocess(text):\n",
    "    return ' '.join(text.lower().translate(trans_table).split(' '))"
   ]
  },
  {
   "cell_type": "markdown",
   "metadata": {},
   "source": [
    "Use `preprocess()` to preprocess comments and remove rare words.\n",
    "Create vocabulary of words that occur more than 5 times.\n",
    "To count occurrences use `CountVectorizer` which converts a collection of text documents into a matrix of token counts."
   ]
  },
  {
   "cell_type": "code",
   "execution_count": 8,
   "metadata": {
    "scrolled": true
   },
   "outputs": [
    {
     "name": "stdout",
     "output_type": "stream",
     "text": [
      "Creating the vocabulary of words occurred more than 5\n",
      "9366 top words\n"
     ]
    }
   ],
   "source": [
    "from sklearn.feature_extraction.text import CountVectorizer\n",
    "\n",
    "UNKNOWN_PROXY = 'unknown'\n",
    "MIN_WORD_OCCURRENCE = 5\n",
    "\n",
    "reviews['description'] = reviews.description.apply(preprocess)\n",
    "print(\"Creating the vocabulary of words occurred more than\", MIN_WORD_OCCURRENCE)\n",
    "\n",
    "vectorizer = CountVectorizer(lowercase=False, token_pattern=\"\\S+\", \n",
    "                             min_df=MIN_WORD_OCCURRENCE)\n",
    "vectorizer.fit(reviews.description)\n",
    "\n",
    "top_words = set(vectorizer.vocabulary_.keys())\n",
    "top_words.add(UNKNOWN_PROXY)\n",
    "print(len(top_words),'top words')"
   ]
  },
  {
   "cell_type": "markdown",
   "metadata": {},
   "source": [
    "Check the first 10 words in the vocabulary `top_words`.\n",
    "Also check that added word \"unknown\" belongs to `top_words`.  "
   ]
  },
  {
   "cell_type": "code",
   "execution_count": 9,
   "metadata": {},
   "outputs": [
    {
     "name": "stdout",
     "output_type": "stream",
     "text": [
      "First 10 out of \"top_words\": \n",
      " ['remaining', 'neive', 'predictably', 'claim', 'aerate', 'onward', 'button', 'ben', 'umpqua', 'carignano']\n",
      "\n",
      "Is \"unknown\" in top_words? \n",
      " True\n"
     ]
    }
   ],
   "source": [
    "print('First 10 out of \"top_words\": \\n',list(top_words)[:10])\n",
    "print('\\nIs \"unknown\" in top_words? \\n','unknown' in top_words)"
   ]
  },
  {
   "cell_type": "markdown",
   "metadata": {},
   "source": [
    "<font color=blue>\n",
    "    \n",
    "**Assignment** <br>\n",
    "Replace all words in `reviews['description']` that do not belong to the intersection of `top_words` and `embeddings_index.keys()` with `UNKNOWN_PROXY`.\n",
    "\n",
    "Create function `filter_unknown(text, vocabulary, proxy)` which does that."
   ]
  },
  {
   "cell_type": "code",
   "execution_count": 10,
   "metadata": {},
   "outputs": [],
   "source": [
    "# Skipped code\n",
    "# Function filter_unknown()\n"
   ]
  },
  {
   "cell_type": "code",
   "execution_count": 11,
   "metadata": {},
   "outputs": [],
   "source": [
    "# Skipped code\n",
    "# Remove\n",
    "\n",
    "def filter_unknown(text, vocabulary, proxy):\n",
    "    return ' '. \\\n",
    "join([w if w in vocabulary else proxy for w in text.split(' ')])"
   ]
  },
  {
   "cell_type": "markdown",
   "metadata": {},
   "source": [
    "Apply the function to the variable of reviews."
   ]
  },
  {
   "cell_type": "code",
   "execution_count": 12,
   "metadata": {},
   "outputs": [],
   "source": [
    "reviews['description'] = reviews.description.apply(filter_unknown,\n",
    "                args=(set(embeddings_index.keys() & top_words), \\\n",
    "                      UNKNOWN_PROXY))"
   ]
  },
  {
   "cell_type": "code",
   "execution_count": 13,
   "metadata": {},
   "outputs": [
    {
     "data": {
      "text/plain": [
       "\"aromas include tropical fruit unknown broom unknown brimstone and dried herb unknown the palate isn't overly expressive unknown offering unknown apple unknown citrus and dried sage alongside brisk acidity unknown\""
      ]
     },
     "execution_count": 13,
     "metadata": {},
     "output_type": "execute_result"
    }
   ],
   "source": [
    "reviews['description'][0]"
   ]
  },
  {
   "cell_type": "markdown",
   "metadata": {},
   "source": [
    "## Tokenization\n",
    "\n",
    "Tokenize reviews by Keras preprocessing classes\n",
    "\n",
    "`Tokenizer`: Class allowing to vectorize a text corpus, by turning each text into either a sequence of integers (each integer being the index of a token in a dictionary) or into a vector where the coefficient for each token could be binary, based on word count, based on tf-idf...\n",
    "\n",
    "`fit_on_texts()`: Method of `Tokenizer` that updates internal vocabulary based on a list of texts.\n",
    "Required before using `texts_to_sequences()` or `texts_to_matrix()`."
   ]
  },
  {
   "cell_type": "code",
   "execution_count": 14,
   "metadata": {
    "scrolled": false
   },
   "outputs": [
    {
     "name": "stderr",
     "output_type": "stream",
     "text": [
      "/Users/rowena/miniconda3/envs/msca/lib/python3.6/site-packages/h5py/__init__.py:36: FutureWarning: Conversion of the second argument of issubdtype from `float` to `np.floating` is deprecated. In future, it will be treated as `np.float64 == np.dtype(float).type`.\n",
      "  from ._conv import register_converters as _register_converters\n",
      "Using TensorFlow backend.\n"
     ]
    }
   ],
   "source": [
    "from keras.preprocessing.text import text_to_word_sequence, Tokenizer\n",
    "from keras.preprocessing.sequence import pad_sequences\n",
    "from keras.layers import Embedding"
   ]
  },
  {
   "cell_type": "markdown",
   "metadata": {},
   "source": [
    "### Word index\n",
    "\n",
    "Fit tokenizer: create `word_index` of words in the corpus."
   ]
  },
  {
   "cell_type": "code",
   "execution_count": 15,
   "metadata": {},
   "outputs": [
    {
     "name": "stdout",
     "output_type": "stream",
     "text": [
      "<keras_preprocessing.text.Tokenizer object at 0x119ea3940>\n"
     ]
    }
   ],
   "source": [
    "tokenizer = Tokenizer(filters=\"\")\n",
    "tokenizer.fit_on_texts(reviews.description)\n",
    "print(tokenizer)"
   ]
  },
  {
   "cell_type": "markdown",
   "metadata": {},
   "source": [
    "Result of `fit_on_texts()` is `word_index` - list of tuples  with words and their index values."
   ]
  },
  {
   "cell_type": "code",
   "execution_count": 16,
   "metadata": {},
   "outputs": [
    {
     "name": "stdout",
     "output_type": "stream",
     "text": [
      "8678\n"
     ]
    },
    {
     "data": {
      "text/plain": [
       "[('unknown', 1),\n",
       " ('and', 2),\n",
       " ('the', 3),\n",
       " ('of', 4),\n",
       " ('a', 5),\n",
       " ('with', 6),\n",
       " ('this', 7),\n",
       " ('is', 8),\n",
       " ('in', 9),\n",
       " ('wine', 10),\n",
       " ('flavors', 11),\n",
       " ('to', 12),\n",
       " ('it', 13),\n",
       " ('fruit', 14),\n",
       " ('on', 15),\n",
       " ('aromas', 16)]"
      ]
     },
     "execution_count": 16,
     "metadata": {},
     "output_type": "execute_result"
    }
   ],
   "source": [
    "word_index = tokenizer.word_index\n",
    "print(len(word_index))\n",
    "list(word_index.items())[:16]"
   ]
  },
  {
   "cell_type": "markdown",
   "metadata": {},
   "source": [
    "# Input data for network\n",
    "\n",
    "Prepare input data for neural network.\n",
    "\n",
    "Method `texts_to_sequences()` turns each text into a sequence of based on `word_index` integers. Integers are index values in `word_index`: check the first review, it starts with \"aroma\". That word is #16 in `word_index`. The first integer in the first list of `seq` is 16.\n",
    "\n",
    "Method `pad_sequences()` pads sequences to the same lengths.\n",
    "\n",
    "Dump data into file `wine_data.pkl`."
   ]
  },
  {
   "cell_type": "code",
   "execution_count": 17,
   "metadata": {},
   "outputs": [
    {
     "name": "stdout",
     "output_type": "stream",
     "text": [
      "\n",
      "First 2 sequences in `seq`:  [[16, 892, 223, 14, 1, 1398, 1, 2587, 2, 61, 71, 1, 3, 17, 904, 1216, 784, 1, 250, 1, 58, 1, 77, 2, 61, 276, 82, 294, 24, 1], [88, 2, 1891, 1, 3, 11, 4, 137, 922, 2, 612, 895, 1, 97, 94, 194, 5021, 66, 1, 6, 70, 24, 4218, 3, 11, 1, 3, 10, 321, 102, 557, 542, 382, 1]]\n",
      "\n",
      "Shape of `data`:  (74044, 50)\n",
      "\n",
      "First prepared text in `data`: [  16  892  223   14    1 1398    1 2587    2   61   71    1    3   17\n",
      "  904 1216  784    1  250    1   58    1   77    2   61  276   82  294\n",
      "   24    1    0    0    0    0    0    0    0    0    0    0    0    0\n",
      "    0    0    0    0    0    0    0    0]\n"
     ]
    }
   ],
   "source": [
    "MAX_SEQUENCE_LENGTH = 50\n",
    "seq = tokenizer.texts_to_sequences(reviews.description)\n",
    "data = pad_sequences(seq,maxlen=MAX_SEQUENCE_LENGTH,padding='post',\n",
    "                     truncating='post')\n",
    "with open(dataPath + 'wine_data.pkl','wb') as f: pickle.dump(data, f, -1)\n",
    "\n",
    "print('\\nFirst 2 sequences in `seq`: ',seq[:2])\n",
    "print('\\nShape of `data`: ',data.shape)\n",
    "print('\\nFirst prepared text in `data`:',data[0])"
   ]
  },
  {
   "cell_type": "markdown",
   "metadata": {},
   "source": [
    "## Prepare embedding matrix\n",
    "\n",
    "In function `get_embedding_matrix()` below the following combination of iterator `iter()` and method `next()` allow sequentially moving through iterable object as in this simple example:"
   ]
  },
  {
   "cell_type": "code",
   "execution_count": 18,
   "metadata": {},
   "outputs": [
    {
     "name": "stdout",
     "output_type": "stream",
     "text": [
      "word_1\n",
      "word_2\n",
      "word_3\n",
      "enough\n",
      "enough\n"
     ]
    }
   ],
   "source": [
    "mlist=['word_1','word_2','word_3']\n",
    "moveIter=iter(mlist)\n",
    "print(next(moveIter,'enough'))\n",
    "print(next(moveIter,'enough'))\n",
    "print(next(moveIter,'enough'))\n",
    "print(next(moveIter,'enough'))\n",
    "print(next(moveIter,'enough'))"
   ]
  },
  {
   "cell_type": "markdown",
   "metadata": {},
   "source": [
    "Below iterator is used to find length of the first row of values of `embeddings_index`:"
   ]
  },
  {
   "cell_type": "code",
   "execution_count": 19,
   "metadata": {},
   "outputs": [
    {
     "data": {
      "text/plain": [
       "300"
      ]
     },
     "execution_count": 19,
     "metadata": {},
     "output_type": "execute_result"
    }
   ],
   "source": [
    "embeddings_dim = len(next(iter(embeddings_index.values())))\n",
    "embeddings_dim"
   ]
  },
  {
   "cell_type": "markdown",
   "metadata": {},
   "source": [
    "Note that this is necessary because values of a dictionary have no attribute `shape`, so `embeddings_index.values().shape` will not work."
   ]
  },
  {
   "cell_type": "markdown",
   "metadata": {},
   "source": [
    "The following function `get_embedding_matrix()` makes embedding matrix from `word_index` and `embeddings_index` obtained above. <br>\n",
    "\n",
    "Embedding matrix shape is `(len(word_index) + 1,embeddings_dim)`. <br>\n",
    "\n",
    "Row number $i$ of the embedding matrix contains embedding vector of the word whith index in `word_index` equal to $i$."
   ]
  },
  {
   "cell_type": "code",
   "execution_count": 20,
   "metadata": {},
   "outputs": [],
   "source": [
    "# Create embedding matrix\n",
    "def get_embedding_matrix(word_index,embeddings_index):\n",
    "    nb_words = len(word_index) + 1 # +1 since min(word_index.values())=1\n",
    "    embedding_matrix = np.zeros((nb_words,embeddings_dim))\n",
    "    unknown = 0\n",
    "    for word, i in word_index.items():\n",
    "        embedding_vector = embeddings_index.get(word)\n",
    "        if embedding_vector is None: unknown += 1\n",
    "        else: embedding_matrix[i] = embedding_vector\n",
    "    return embedding_matrix, unknown"
   ]
  },
  {
   "cell_type": "markdown",
   "metadata": {},
   "source": [
    "# Embedding layer\n",
    "\n",
    "Now preparation of the data is finished. It is possible to start building model. But it is common and convenient to create embedding layer and save it beforehand. \n",
    "This helpes separating data preparation and network fitting. \n",
    "Then only two files are necessary to run the network: `wine_data.pkl` and the embedding layer, both saved earlier.\n",
    "\n",
    "In text processing networks embedding layer comes first after the input layer. It transforms sequences of integers (word indices) to sequences of correspondent embedding vectors using embedding matrix.\n",
    "\n",
    "The function below creates and saves  embedding layer. Setting `trainable=False` means that the weights of this layer (actually the elements of embedding matrix) will not be changed during model training. "
   ]
  },
  {
   "cell_type": "code",
   "execution_count": 21,
   "metadata": {},
   "outputs": [
    {
     "name": "stdout",
     "output_type": "stream",
     "text": [
      "0 unknown words\n"
     ]
    }
   ],
   "source": [
    "# Create embedding_layer and save it.\n",
    "def make_save_emb_layer(word_index,embeddings_index,layer_file_name):\n",
    "    embedding_matrix,unknown = get_embedding_matrix(word_index,embeddings_index)\n",
    "    embedding_layer = Embedding(embedding_matrix.shape[0],embedding_matrix.shape[1],\n",
    "                                weights=[embedding_matrix],trainable=False)\n",
    "    with open(layer_file_name,'wb') as f: \n",
    "        pickle.dump(embedding_layer, f, -1)\n",
    "    return unknown\n",
    "\n",
    "EMBEDDING_LAYER_FILE = dataPath + 'wine_embed_layer.pkl'\n",
    "print(make_save_emb_layer(word_index,embeddings_index,EMBEDDING_LAYER_FILE),\n",
    "      'unknown words')"
   ]
  },
  {
   "cell_type": "markdown",
   "metadata": {},
   "source": [
    "# Model\n",
    "\n",
    "The following architecture of the model was used in the competition by several participans."
   ]
  },
  {
   "cell_type": "code",
   "execution_count": 22,
   "metadata": {},
   "outputs": [],
   "source": [
    "from keras.layers import Dense,Embedding,Input,Dropout,Conv1D\n",
    "from keras.layers import SpatialDropout1D, Flatten,LSTM\n",
    "from keras.models import Model\n",
    "from keras.optimizers import Adam\n",
    "from keras.layers.normalization import BatchNormalization\n",
    "from keras.callbacks import EarlyStopping, ModelCheckpoint, TensorBoard\n",
    "from sklearn.metrics import roc_auc_score\n",
    "from keras.utils import plot_model\n",
    "\n",
    "\n",
    "def get_model():\n",
    "    input_layer = Input(shape=(MAX_SEQUENCE_LENGTH,))\n",
    "    x = embedding_layer(input_layer)\n",
    "    x = SpatialDropout1D(0.5)(x)\n",
    "    x = LSTM(10, return_sequences=True)(x)\n",
    "    x = Conv1D(5, kernel_size=2, padding=\"valid\")(x)\n",
    "    x = Flatten()(x)\n",
    "    x = BatchNormalization()(x)\n",
    "    x = Dropout(.2)(x)\n",
    "    output_layer = Dense(1, activation=\"sigmoid\")(x)\n",
    "    model = Model(inputs=input_layer, outputs=output_layer)\n",
    "    model.compile(loss=\"binary_crossentropy\", optimizer=Adam())\n",
    "    return model\n"
   ]
  },
  {
   "cell_type": "markdown",
   "metadata": {},
   "source": [
    "Load the data and the pre-saved embedding layer.\n",
    "Split data into train and validation sets."
   ]
  },
  {
   "cell_type": "code",
   "execution_count": 23,
   "metadata": {},
   "outputs": [],
   "source": [
    "with open(EMBEDDING_LAYER_FILE, 'rb') as f: embedding_layer = pickle.load(f)\n",
    "with open(dataPath + 'wine_data.pkl', 'rb') as f: data = pickle.load(f)   \n",
    "\n",
    "X_train, X_test, y_train, y_test = train_test_split(data, reviews.country, \n",
    "                    test_size=0.2, stratify = reviews.country, random_state=0)\n"
   ]
  },
  {
   "cell_type": "markdown",
   "metadata": {},
   "source": [
    "Set parameters, build and summarize the model."
   ]
  },
  {
   "cell_type": "code",
   "execution_count": 24,
   "metadata": {},
   "outputs": [
    {
     "name": "stdout",
     "output_type": "stream",
     "text": [
      "_________________________________________________________________\n",
      "Layer (type)                 Output Shape              Param #   \n",
      "=================================================================\n",
      "input_1 (InputLayer)         (None, 50)                0         \n",
      "_________________________________________________________________\n",
      "embedding_1 (Embedding)      (None, 50, 300)           2603700   \n",
      "_________________________________________________________________\n",
      "spatial_dropout1d_1 (Spatial (None, 50, 300)           0         \n",
      "_________________________________________________________________\n",
      "lstm_1 (LSTM)                (None, 50, 10)            12440     \n",
      "_________________________________________________________________\n",
      "conv1d_1 (Conv1D)            (None, 49, 5)             105       \n",
      "_________________________________________________________________\n",
      "flatten_1 (Flatten)          (None, 245)               0         \n",
      "_________________________________________________________________\n",
      "batch_normalization_1 (Batch (None, 245)               980       \n",
      "_________________________________________________________________\n",
      "dropout_1 (Dropout)          (None, 245)               0         \n",
      "_________________________________________________________________\n",
      "dense_1 (Dense)              (None, 1)                 246       \n",
      "=================================================================\n",
      "Total params: 2,617,471\n",
      "Trainable params: 13,281\n",
      "Non-trainable params: 2,604,190\n",
      "_________________________________________________________________\n",
      "None\n"
     ]
    }
   ],
   "source": [
    "best_model_path = 'best_model.h5'\n",
    "BATCH_SIZE = 512\n",
    "\n",
    "early_stopping = EarlyStopping(patience=2)\n",
    "model_checkpoint = ModelCheckpoint(best_model_path,\n",
    "                                   save_best_only=True, save_weights_only=True)\n",
    "model = get_model()\n",
    "print(model.summary())\n",
    "plot_model(model, to_file='wine_reviews.png',show_shapes=True,show_layer_names=True)"
   ]
  },
  {
   "cell_type": "markdown",
   "metadata": {},
   "source": [
    "![WineReviewsModel](wine_reviews.png)"
   ]
  },
  {
   "cell_type": "markdown",
   "metadata": {},
   "source": [
    "Train the model and validate it."
   ]
  },
  {
   "cell_type": "code",
   "execution_count": 24,
   "metadata": {},
   "outputs": [
    {
     "name": "stdout",
     "output_type": "stream",
     "text": [
      "Train on 59235 samples, validate on 14809 samples\n",
      "Epoch 1/28\n",
      " - 31s - loss: 0.5523 - val_loss: 0.2676\n",
      "Epoch 2/28\n",
      " - 18s - loss: 0.2866 - val_loss: 0.3000\n",
      "Epoch 3/28\n",
      " - 17s - loss: 0.1996 - val_loss: 0.1981\n",
      "Epoch 4/28\n",
      " - 17s - loss: 0.1631 - val_loss: 0.1462\n",
      "Epoch 5/28\n",
      " - 17s - loss: 0.1405 - val_loss: 0.1206\n",
      "Epoch 6/28\n",
      " - 17s - loss: 0.1284 - val_loss: 0.0867\n",
      "Epoch 7/28\n",
      " - 17s - loss: 0.1217 - val_loss: 0.0816\n",
      "Epoch 8/28\n",
      " - 17s - loss: 0.1120 - val_loss: 0.0732\n",
      "Epoch 9/28\n",
      " - 19s - loss: 0.1066 - val_loss: 0.0697\n",
      "Epoch 10/28\n",
      " - 17s - loss: 0.0993 - val_loss: 0.0768\n",
      "Epoch 11/28\n",
      " - 17s - loss: 0.0970 - val_loss: 0.0724\n",
      "validation AUC 0.9945266681796163\n"
     ]
    }
   ],
   "source": [
    "hist = model.fit(X_train, y_train,validation_data=(X_test, y_test),\n",
    "                 epochs=28, batch_size=BATCH_SIZE, shuffle=True, verbose=2,\n",
    "                 callbacks=[model_checkpoint, early_stopping])\n",
    "model.load_weights(best_model_path)\n",
    "test_pred = model.predict(X_test, batch_size=BATCH_SIZE, verbose=0)\n",
    "print('validation AUC',roc_auc_score(y_test, test_pred))"
   ]
  },
  {
   "cell_type": "markdown",
   "metadata": {},
   "source": [
    "Plot history of loss and validation loss."
   ]
  },
  {
   "cell_type": "code",
   "execution_count": 25,
   "metadata": {},
   "outputs": [
    {
     "data": {
      "image/png": "[encoded data removed]",
      "text/plain": [
       "<Figure size 432x288 with 1 Axes>"
      ]
     },
     "metadata": {
      "needs_background": "light"
     },
     "output_type": "display_data"
    }
   ],
   "source": [
    "import matplotlib.pyplot as plt\n",
    "plt.plot(hist.history['loss'])\n",
    "plt.plot(hist.history['val_loss'])\n",
    "plt.title('model loss')\n",
    "plt.ylabel('loss')\n",
    "plt.xlabel('epoch')\n",
    "plt.legend(['train', 'test'], loc='upper right');"
   ]
  },
  {
   "cell_type": "markdown",
   "metadata": {
    "collapsed": true
   },
   "source": [
    "<font color=blue>\n",
    "    \n",
    "**Assignment** <br>\n",
    "Run the same model for data set including only US and French wines. Calculate validation AUC for it. Which vines are closer to US ones according to the model?"
   ]
  },
  {
   "cell_type": "code",
   "execution_count": null,
   "metadata": {},
   "outputs": [],
   "source": [
    "# Remove\n",
    "# Answer: French. Validation AUC for them is less than 0.99. So it is easier for the model to solve binary classification problem with 'Italy' as alternative to 'US'."
   ]
  },
  {
   "cell_type": "markdown",
   "metadata": {},
   "source": [
    "# Words Polarity Analysis\n",
    "\n",
    "Analyze words polarity like in [MScA_32017_AMLAI_TC2_DataOverview.ipynb](https://ilykei.com/api/fileProxy/documents%2FAdvanced%20Machine%20Learning%2FToxicComments%2FMScA_32017_AMLAI_TC2_DataOverview.ipynb)"
   ]
  },
  {
   "cell_type": "markdown",
   "metadata": {},
   "source": [
    "Create tf-idf features for words from train data set comments with the following settings: max_features=50000, min_df=5, max_df=0.9."
   ]
  },
  {
   "cell_type": "code",
   "execution_count": 26,
   "metadata": {},
   "outputs": [],
   "source": [
    "from sklearn.feature_extraction.text import TfidfVectorizer\n",
    "tfidf = TfidfVectorizer(max_features=50000, min_df=5, max_df=0.9)\n",
    "X = tfidf.fit_transform(reviews.description)"
   ]
  },
  {
   "cell_type": "markdown",
   "metadata": {},
   "source": [
    "Fit logistic regression model taking these features as regressors and 'country' as target variable."
   ]
  },
  {
   "cell_type": "code",
   "execution_count": 27,
   "metadata": {},
   "outputs": [
    {
     "name": "stderr",
     "output_type": "stream",
     "text": [
      "/home/yuri/anaconda3/envs/newtf/lib/python3.7/site-packages/sklearn/linear_model/logistic.py:432: FutureWarning: Default solver will be changed to 'lbfgs' in 0.22. Specify a solver to silence this warning.\n",
      "  FutureWarning)\n"
     ]
    },
    {
     "data": {
      "text/plain": [
       "LogisticRegression(C=1.0, class_weight=None, dual=False, fit_intercept=True,\n",
       "                   intercept_scaling=1, l1_ratio=None, max_iter=100,\n",
       "                   multi_class='warn', n_jobs=None, penalty='l2',\n",
       "                   random_state=None, solver='warn', tol=0.0001, verbose=0,\n",
       "                   warm_start=False)"
      ]
     },
     "execution_count": 27,
     "metadata": {},
     "output_type": "execute_result"
    }
   ],
   "source": [
    "from sklearn.linear_model import LogisticRegression\n",
    "lr = LogisticRegression()\n",
    "lr.fit(X, reviews['country'].values)"
   ]
  },
  {
   "cell_type": "markdown",
   "metadata": {},
   "source": [
    "Make data frame *polarity* with index containing all words from *TfidfVectorizer* *vocabulary_.keys()* and two columns. First of them contains corresponding  *vocabulary_.values()*, the second one - logistic regression coefficients."
   ]
  },
  {
   "cell_type": "code",
   "execution_count": 28,
   "metadata": {},
   "outputs": [],
   "source": [
    "polarity = pd.DataFrame.from_dict(tfidf.vocabulary_,orient='index')\\\n",
    "                                                    .sort_values(0)\n",
    "polarity['coef'] = lr.coef_[0]"
   ]
  },
  {
   "cell_type": "markdown",
   "metadata": {},
   "source": [
    "Sort data frame *polarity* according to coefficient value. Find 30 words with maximal coefficients and 30 words with minimal coefficients. Plot their coefficients with horizontal bars."
   ]
  },
  {
   "cell_type": "code",
   "execution_count": 29,
   "metadata": {
    "scrolled": false
   },
   "outputs": [
    {
     "data": {
      "text/plain": [
       "<matplotlib.axes._subplots.AxesSubplot at 0x7f8e643097f0>"
      ]
     },
     "execution_count": 29,
     "metadata": {},
     "output_type": "execute_result"
    },
    {
     "data": {
      "image/png": "[encoded data removed]",
      "text/plain": [
       "<Figure size 1440x720 with 2 Axes>"
      ]
     },
     "metadata": {
      "needs_background": "light"
     },
     "output_type": "display_data"
    }
   ],
   "source": [
    "from matplotlib import pyplot as plt\n",
    "polarity.sort_values('coef',inplace=True)\n",
    "plt.figure(figsize=(20, 10))\n",
    "ax = plt.subplot(1,2,1)\n",
    "polarity[['coef']].tail(30).plot(kind='barh', color='red', ax=ax)\n",
    "ax = plt.subplot(1,2,2)\n",
    "polarity[['coef']].head(30).plot(kind='barh', color='green', ax=ax)"
   ]
  },
  {
   "cell_type": "markdown",
   "metadata": {
    "collapsed": true
   },
   "source": [
    "Words from the right green plot correspond to Italian wines."
   ]
  }
 ],
 "metadata": {
  "kernelspec": {
   "display_name": "Python 3",
   "language": "python",
   "name": "python3"
  },
  "language_info": {
   "codemirror_mode": {
    "name": "ipython",
    "version": 3
   },
   "file_extension": ".py",
   "mimetype": "text/x-python",
   "name": "python",
   "nbconvert_exporter": "python",
   "pygments_lexer": "ipython3",
   "version": "3.6.4"
  },
  "toc": {
   "base_numbering": 1,
   "nav_menu": {},
   "number_sections": true,
   "sideBar": true,
   "skip_h1_title": false,
   "title_cell": "Table of Contents",
   "title_sidebar": "Contents",
   "toc_cell": false,
   "toc_position": {},
   "toc_section_display": true,
   "toc_window_display": false
  }
 },
 "nbformat": 4,
 "nbformat_minor": 2
}
