{
 "cells": [
  {
   "cell_type": "markdown",
   "metadata": {},
   "source": [
    "# iLykei Lecture Series\n",
    "\n",
    "# Advanced Machine Learning and Artificial Intelligence (MScA 32017)\n",
    "\n",
    "# Reinforcement Learning\n",
    "\n",
    "## Notebook 5: Learning Simplified Pac-Man with Q-Learning\n",
    "\n",
    "## Yuri Balasanov, Mihail Tselishchev, &copy; iLykei 2018\n",
    "\n",
    "##### Main text: Hands-On Machine Learning with Scikit-Learn and TensorFlow, Aurelien Geron, &copy; Aurelien Geron 2017, O'Reilly Media, Inc\n",
    "\n"
   ]
  },
  {
   "cell_type": "markdown",
   "metadata": {},
   "source": [
    "This notebook shows how to make an agent to self-learn playing reduced Pac-Man game using Q-Learning method."
   ]
  },
  {
   "cell_type": "markdown",
   "metadata": {},
   "source": [
    "Install package *pyglet* by executing in terminal window:\n",
    "\n",
    "*conda install -c conda-forge pyglet*"
   ]
  },
  {
   "cell_type": "code",
   "execution_count": 1,
   "metadata": {},
   "outputs": [],
   "source": [
    "%matplotlib inline\n",
    "import matplotlib.pyplot as plt\n",
    "import numpy as np\n",
    "import random\n",
    "import time\n",
    "import pyglet"
   ]
  },
  {
   "cell_type": "markdown",
   "metadata": {},
   "source": [
    "# The game\n",
    "\n",
    "Here is a simplified realization of famous Ms. Pac-Man game. \n",
    "\n",
    "The agent is represented by `☺`, which can move in any direction inside the field except for walls `▒`. <br>\n",
    "Each move earns `1` point. Agent can collect diamonds `♦`, each diamond earns extra `10` points. So, score earned by one move (`reward`) is either 1 (no diamond) or 11 (with diamond). <br> \n",
    "\n",
    "On the field there are also monsters `☢`, their objective is to catch the agent. <br>\n",
    "Monsters move in random directions until the agent is within the `monster_vision_range`, then monster moves exactly in the direction of the agent. \n",
    "\n",
    "The game ends when monster touches the agent or when the agent is still alive after 100 moves.\n",
    "\n",
    "Create a game with 10x10 field, 2 monsters, 3 diamonds and 4 walls."
   ]
  },
  {
   "cell_type": "code",
   "execution_count": 2,
   "metadata": {},
   "outputs": [],
   "source": [
    "from pacman.mini_pacman import PacmanGame\n",
    "\n",
    "env = PacmanGame(field_shape=(10,10), nmonsters=2,\n",
    "                 ndiamonds=3, nwalls=4, monster_vision_range=1)\n",
    "#env.print_field()  # will print a picture in text symbols\n",
    "env.render()  # creates graphical rendering of the field"
   ]
  },
  {
   "cell_type": "markdown",
   "metadata": {},
   "source": [
    "Player can control agent using actions from `1` to `9` according tp the following table:"
   ]
  },
  {
   "cell_type": "code",
   "execution_count": 4,
   "metadata": {},
   "outputs": [
    {
     "name": "stdout",
     "output_type": "stream",
     "text": [
      "|   Action Code | Move       |\n",
      "|---------------+------------|\n",
      "|             1 | Down-Left  |\n",
      "|             2 | Down       |\n",
      "|             3 | Down-Right |\n",
      "|             4 | Left       |\n",
      "|             5 | No Move    |\n",
      "|             6 | Right      |\n",
      "|             7 | Up-Left    |\n",
      "|             8 | Up         |\n",
      "|             9 | Up-Right   |\n"
     ]
    }
   ],
   "source": [
    "from tabulate import tabulate\n",
    "print(tabulate([[1,'Down-Left'], \\\n",
    "                [2,'Down'], \\\n",
    "                [3,'Down-Right'], \\\n",
    "                [4,'Left'], \\\n",
    "                [5,'No Move'], \\\n",
    "                [6,'Right'], \\\n",
    "                [7,'Up-Left'], \\\n",
    "                [8,'Up'], \\\n",
    "                [9,'Up-Right']], \\\n",
    "               headers = ['Action Code','Move'], \\\n",
    "              tablefmt='orgtbl'))"
   ]
  },
  {
   "cell_type": "markdown",
   "metadata": {},
   "source": [
    "Execute actions in the following cell several times to see how easy/difficult it is to stay alive."
   ]
  },
  {
   "cell_type": "code",
   "execution_count": 5,
   "metadata": {},
   "outputs": [],
   "source": [
    "obs = env.make_action(4)\n",
    "env.render()"
   ]
  },
  {
   "cell_type": "markdown",
   "metadata": {},
   "source": [
    "Function `make_action()` returns a dictionary containing current observation of the game (all coordinates, possible agent actions, reward and total score):"
   ]
  },
  {
   "cell_type": "code",
   "execution_count": 6,
   "metadata": {},
   "outputs": [
    {
     "data": {
      "text/plain": [
       "{'diamonds': [(0, 9), (2, 2), (9, 4)],\n",
       " 'end_game': False,\n",
       " 'monsters': [(2, 5), (4, 8)],\n",
       " 'player': (5, 3),\n",
       " 'possible_actions': [1, 2, 3, 4, 5, 6, 7, 8, 9],\n",
       " 'reward': 1,\n",
       " 'total_score': 1,\n",
       " 'walls': [(1, 1), (3, 0), (8, 3), (8, 8)]}"
      ]
     },
     "execution_count": 6,
     "metadata": {},
     "output_type": "execute_result"
    }
   ],
   "source": [
    "obs"
   ]
  },
  {
   "cell_type": "markdown",
   "metadata": {},
   "source": [
    "Current observation can also be reached using `get_obs()` method of `PacmanGame` object."
   ]
  },
  {
   "cell_type": "code",
   "execution_count": 7,
   "metadata": {},
   "outputs": [
    {
     "data": {
      "text/plain": [
       "{'diamonds': [(0, 9), (2, 2), (9, 4)],\n",
       " 'end_game': False,\n",
       " 'monsters': [(2, 5), (4, 8)],\n",
       " 'player': (5, 3),\n",
       " 'possible_actions': [1, 2, 3, 4, 5, 6, 7, 8, 9],\n",
       " 'reward': 1,\n",
       " 'total_score': 1,\n",
       " 'walls': [(1, 1), (3, 0), (8, 3), (8, 8)]}"
      ]
     },
     "execution_count": 7,
     "metadata": {},
     "output_type": "execute_result"
    }
   ],
   "source": [
    "env.get_obs()"
   ]
  },
  {
   "cell_type": "markdown",
   "metadata": {},
   "source": [
    "Game can be restarted using `env.reset()` or by creating new instance of `PacmanGame` object. `env.reset()` returns an observation of restarted game."
   ]
  },
  {
   "cell_type": "markdown",
   "metadata": {},
   "source": [
    "Try to run the game several times against the environment selecting random actions. What scores do you observe?"
   ]
  },
  {
   "cell_type": "code",
   "execution_count": 9,
   "metadata": {},
   "outputs": [],
   "source": [
    "# Render random-action game\n",
    "obs = env.reset()\n",
    "while not obs['end_game']:\n",
    "    action = random.choice(obs['possible_actions'])\n",
    "    obs = env.make_action(action)\n",
    "    env.render()\n",
    "    time.sleep(0.5)"
   ]
  },
  {
   "cell_type": "markdown",
   "metadata": {},
   "source": [
    "Play 100 games using random action strategy and find average score."
   ]
  },
  {
   "cell_type": "code",
   "execution_count": 11,
   "metadata": {},
   "outputs": [
    {
     "name": "stdout",
     "output_type": "stream",
     "text": [
      "Mean:  27.95 \n",
      "Median:  22.0\n"
     ]
    }
   ],
   "source": [
    "game_scores=[]\n",
    "for one_game in range(100):\n",
    "    obs = env.reset()\n",
    "    while not obs['end_game']:    \n",
    "        action = random.choice(obs['possible_actions'])\n",
    "        obs = env.make_action(action)\n",
    "    game_scores.append(obs['total_score'])\n",
    "print('Mean: ',np.mean(game_scores),'\\nMedian: ',np.median(game_scores))"
   ]
  },
  {
   "cell_type": "markdown",
   "metadata": {},
   "source": [
    "Close the game (including window):"
   ]
  },
  {
   "cell_type": "code",
   "execution_count": 12,
   "metadata": {},
   "outputs": [],
   "source": [
    "env.close()"
   ]
  },
  {
   "cell_type": "markdown",
   "metadata": {},
   "source": [
    "The goal of the project is to let agent learn a strategy that maximizes its total score; use random action strategy as a benchmark."
   ]
  },
  {
   "cell_type": "markdown",
   "metadata": {},
   "source": [
    "# Markov Decision Process and Q-Learning\n",
    "\n",
    "## Bellman equation\n",
    "\n",
    "This game fits the framework of dynamic programing and can be solved using [Markov Decision Process](https://en.wikipedia.org/wiki/Markov_decision_process). Indeed, given current state and current action, distribution of future states and rewards do not depend on previous states, rewards and actions. \n",
    "\n",
    "Suppose the agent tries to maximize the discounted future rewards (or discounted total score in our case), that is $\\sum_t \\gamma^t R_t$, where $R_t$ is a reward at time $t=1,2,\\ldots$ and $\\gamma\\in[0,1]$ is a discount coefficient (which can be chosen arbitrarily).\n",
    "\n",
    "Suppose there exists a function $Q(s,a)$ that shows expected discounted future rewards, given that the agent acts optimally, the current state is $s$ and the agent choses action $a$. Then, according to the result obtained by Richard Bellman, such function satisfies the Bellman equation:\n",
    "\n",
    "$$\n",
    "Q(s,a) = \\sum_{s'} P(s,a,s') \\left( R(s,a,s') + \\gamma \\cdot \\max_{a'} Q(s',a') \\right),\n",
    "$$\n",
    "\n",
    "where \n",
    "+ the sum is taken over all possible states $s'$ and maximum is taken over all actions $a'$ available at state $s'$; \n",
    "+ $P(s,a,s')$ is the probability to get into state $s'$ over 1 step if an agent is in state $s$ and choses action $a$; \n",
    "+ $R(s,a,s')$ is a reward given for moving from state $s$ to state $s'$ with action $a$.\n",
    "\n",
    "## Q-value iterations\n",
    "\n",
    "A natural way to solve this equation is a **Q-Value iteration algoithm**:\n",
    "\n",
    "1. $Q_0(s,a) = 0$ for all state-action pairs $(s,a)$;\n",
    "2. $Q_{n+1}(s,a) = \\sum_{s'} P(s,a,s') \\left( R(s,a,s') + \\gamma \\cdot \\max_{a'} Q_n(s',a') \\right)$ for all state-action pairs $(s,a)$, $n=1,2,\\ldots$.\n",
    "\n",
    "Note that the solution requires calculating all transition probabilities $P(s,a,s')$. In the Pac-Man game above these probabilities can be calculated analytically because we know that monsters move randomly. However, that is not the case in general. \n",
    "\n",
    "## Q-learning\n",
    "\n",
    "**Q-Learning** algorithm is an adaptation of the Bellman algorithm for the unknown behavior of the environment. \n",
    "\n",
    "The agent uses some _exploration policy_ while interacting with the graph of the game and updates estimates of Q-Values for current state $s$ and chosen action $a$ at each step:\n",
    "$$\n",
    "Q_{n+1} (s,a) = (1-\\alpha) Q_n (s,a) + \\alpha \\left(R + \\gamma \\cdot \\max_{a'} Q_n(s',a')\\right),\n",
    "$$\n",
    "\n",
    "where $s'$ is the state where an agent turned out to be after chosing action $a$ and $\\alpha\\in (0,1)$ is a learning rate.\n",
    "\n",
    "A common _exploration policy_ is the so called **$\\varepsilon$-greedy strategy**. $\\varepsilon$-greedy strategy is a mix of a random strategy selected with probability $\\varepsilon$ and a greedy strategy that always choses highest known Q-Value action with probability $(1-\\varepsilon)$."
   ]
  },
  {
   "cell_type": "markdown",
   "metadata": {},
   "source": [
    "## Using Q-Learning for PacmanGame\n",
    "\n",
    "Create a simple game with parameters:"
   ]
  },
  {
   "cell_type": "code",
   "execution_count": 13,
   "metadata": {},
   "outputs": [],
   "source": [
    "FIELD_SHAPE = (4, 4)\n",
    "N_MONSTERS = 1\n",
    "N_DIAMONDS = 1\n",
    "N_WALLS = 0\n",
    "MONSTER_VISION_RANGE = 1\n",
    "\n",
    "env = PacmanGame(field_shape=FIELD_SHAPE, nmonsters=N_MONSTERS,\n",
    "                 ndiamonds=N_DIAMONDS, nwalls=N_WALLS,\n",
    "                 monster_vision_range=MONSTER_VISION_RANGE)"
   ]
  },
  {
   "cell_type": "markdown",
   "metadata": {},
   "source": [
    "## Random strategy\n",
    "\n",
    "First, find total scores if the agent uses purely random strategy. It is going to be the initial benchmark."
   ]
  },
  {
   "cell_type": "code",
   "execution_count": 14,
   "metadata": {},
   "outputs": [],
   "source": [
    "n_games = 1000\n",
    "\n",
    "scores = []\n",
    "for i in range(n_games):\n",
    "    obs = env.reset()  # restart the game\n",
    "    while not obs['end_game']:\n",
    "        action = random.choice(obs['possible_actions'])\n",
    "        obs = env.make_action(action)\n",
    "        scores.append(obs['total_score'])"
   ]
  },
  {
   "cell_type": "markdown",
   "metadata": {},
   "source": [
    "Since `scores` are rather noisy, smooth them using moving-average and plot:"
   ]
  },
  {
   "cell_type": "code",
   "execution_count": 15,
   "metadata": {},
   "outputs": [],
   "source": [
    "def moving_average(v, window=100):\n",
    "    out = []\n",
    "    for j in range(len(v)):\n",
    "        out.append(sum(v[max(j-window+1, 0):j]) / (min(j, window) + 1))\n",
    "    return out"
   ]
  },
  {
   "cell_type": "code",
   "execution_count": 16,
   "metadata": {},
   "outputs": [
    {
     "data": {
      "text/plain": [
       "[<matplotlib.lines.Line2D at 0x102c8c048>]"
      ]
     },
     "execution_count": 16,
     "metadata": {},
     "output_type": "execute_result"
    },
    {
     "data": {
      "image/png": "[encoded data removed]",
      "text/plain": [
       "<matplotlib.figure.Figure at 0x10b08e898>"
      ]
     },
     "metadata": {},
     "output_type": "display_data"
    }
   ],
   "source": [
    "ma_scores = moving_average(scores, window=100)\n",
    "plt.plot(ma_scores)"
   ]
  },
  {
   "cell_type": "markdown",
   "metadata": {},
   "source": [
    "Calculate 1-st and 3-d quartile boundaries of scores:"
   ]
  },
  {
   "cell_type": "code",
   "execution_count": 17,
   "metadata": {},
   "outputs": [
    {
     "data": {
      "text/plain": [
       "(2.0, 10.0, 4.0)"
      ]
     },
     "execution_count": 17,
     "metadata": {},
     "output_type": "execute_result"
    }
   ],
   "source": [
    "np.percentile(scores, 25), np.percentile(scores, 75), np.median(scores)"
   ]
  },
  {
   "cell_type": "markdown",
   "metadata": {},
   "source": [
    "## Q-Learning strategy\n",
    "\n",
    "Now use the Q-learning method to improve random strategy. \n",
    "\n",
    "First, represent current state as a vector of features."
   ]
  },
  {
   "cell_type": "code",
   "execution_count": 18,
   "metadata": {},
   "outputs": [],
   "source": [
    "def get_state(obs):\n",
    "    v = []\n",
    "    x,y = obs['player']\n",
    "    v.append(x)\n",
    "    v.append(y)\n",
    "    for x, y in obs['monsters']:\n",
    "        v.append(x)\n",
    "        v.append(y)\n",
    "    for x, y in obs['diamonds']:\n",
    "        v.append(x)\n",
    "        v.append(y)\n",
    "    for x, y in obs['walls']:\n",
    "        v.append(x)\n",
    "        v.append(y)\n",
    "    return v"
   ]
  },
  {
   "cell_type": "markdown",
   "metadata": {},
   "source": [
    "Next, create a class for Q-Learning method. We need both gamma and alpha parameters as well as dictionary for storing Q-Value estimates for all possible (state, action) pairs. \n",
    "\n",
    "Since  keys of the dict should be immutable, we will use tuples as keys."
   ]
  },
  {
   "cell_type": "code",
   "execution_count": 19,
   "metadata": {},
   "outputs": [],
   "source": [
    "class QLearn:\n",
    "    def __init__(self, gamma=0.95, alpha=0.05):\n",
    "        from collections import defaultdict\n",
    "        self.gamma = gamma\n",
    "        self.alpha = alpha\n",
    "        self.qmap = defaultdict(int)\n",
    "\n",
    "    def iteration(self, old_state, old_action, reward, new_state, new_possible_actions):\n",
    "        # Produce iteration step (update Q-Value estimates)\n",
    "        old_stateaction = tuple(old_state) + (old_action,)\n",
    "        max_q = max([self.qmap[tuple(new_state) + (a,)] for a in new_possible_actions])\n",
    "        self.qmap[old_stateaction] = (1-self.alpha)*self.qmap[old_stateaction] + self.alpha*(reward+self.gamma*max_q)\n",
    "        return\n",
    "\n",
    "    def best_action(self, state, possible_actions):\n",
    "        # Get the action with highest Q-Value estimate for specific state\n",
    "        a, q = max([(a, self.qmap[tuple(state) + (a,)]) for a in possible_actions], key=lambda x: x[1])\n",
    "        return a"
   ]
  },
  {
   "cell_type": "markdown",
   "metadata": {},
   "source": [
    "Method `iteration()` of class `QLearn` implements Q-Value iteration of the Q-Learning algorithm\n",
    "$$\n",
    "Q_{n+1} (s,a) = (1-\\alpha) Q_n (s,a) + \\alpha \\left(R + \\gamma \\cdot \\max_{a'} Q_n(s',a')\\right),\n",
    "$$\n",
    "where $s=$ `old_state`, $a=$ `old_action`, $R=$ `reward` after taking action $a$ in state $s$, $s'=$ `new_state`, $a'$ is one of possible actions in the new state $s'$. \n",
    "\n",
    "The method updates the Q-value dictionary for the pair $(s,a)$.\n",
    "\n",
    "To illustrate the work of the method initiate the object and the game, calculate `old_obs` as the initial state of the game and its vector of features `old_state`. "
   ]
  },
  {
   "cell_type": "code",
   "execution_count": 20,
   "metadata": {},
   "outputs": [
    {
     "name": "stdout",
     "output_type": "stream",
     "text": [
      "old_obs:  {'reward': 0, 'total_score': 0, 'end_game': False, 'player': (3, 3), 'monsters': [(3, 0)], 'diamonds': [(1, 2)], 'walls': [], 'possible_actions': [4, 5, 7, 8]}\n",
      "old_state:  [3, 3, 3, 0, 1, 2]\n",
      "Q-function:  defaultdict(<class 'int'>, {})\n"
     ]
    }
   ],
   "source": [
    "ql = QLearn(gamma=0.95, alpha=0.05)\n",
    "old_obs = env.reset()\n",
    "print('old_obs: ', old_obs)\n",
    "old_state = get_state(old_obs)\n",
    "print('old_state: ', old_state)\n",
    "print('Q-function: ', ql.qmap)"
   ]
  },
  {
   "cell_type": "markdown",
   "metadata": {},
   "source": [
    "Based on the old state (position of the agent and the monster) select an action. If the action is not appropriate select another action.\n",
    "\n",
    "Then calculate `new_obs` by running the selected action through the environment and find its vector of features `new_state`.\n",
    "\n",
    "Extract from `new_obs` the immediate `reward` value and available actions in the new state `new_possible_actions`."
   ]
  },
  {
   "cell_type": "code",
   "execution_count": 21,
   "metadata": {},
   "outputs": [
    {
     "name": "stdout",
     "output_type": "stream",
     "text": [
      "new_obs:  {'reward': 1, 'total_score': 1, 'end_game': False, 'player': (3, 3), 'monsters': [(3, 0)], 'diamonds': [(1, 2)], 'walls': [], 'possible_actions': [4, 5, 7, 8]}\n",
      "new_state:  [3, 3, 3, 0, 1, 2]\n",
      "reward:  1\n",
      "new_possible_actions:  [4, 5, 7, 8]\n",
      "Iteration results: \n"
     ]
    },
    {
     "data": {
      "text/plain": [
       "defaultdict(int,\n",
       "            {(3, 3, 3, 0, 1, 2, 2): 0.05,\n",
       "             (3, 3, 3, 0, 1, 2, 4): 0,\n",
       "             (3, 3, 3, 0, 1, 2, 5): 0,\n",
       "             (3, 3, 3, 0, 1, 2, 7): 0,\n",
       "             (3, 3, 3, 0, 1, 2, 8): 0})"
      ]
     },
     "execution_count": 21,
     "metadata": {},
     "output_type": "execute_result"
    }
   ],
   "source": [
    "old_action = 2\n",
    "new_obs = env.make_action(old_action)\n",
    "print('new_obs: ', new_obs)\n",
    "new_state = get_state(new_obs)\n",
    "print('new_state: ', new_state)\n",
    "reward = new_obs['reward']\n",
    "print('reward: ', reward)\n",
    "new_possible_actions = new_obs['possible_actions']\n",
    "print('new_possible_actions: ', new_possible_actions)\n",
    "ql.iteration(old_state, old_action,\n",
    "             reward, new_state, new_possible_actions)\n",
    "print('Iteration results: ')\n",
    "ql.qmap"
   ]
  },
  {
   "cell_type": "markdown",
   "metadata": {},
   "source": [
    "The updated Q-value dictionary contains the new value for `old_state` and zero values corresponding to the new state and all available actions in it.\n",
    "\n",
    "The second method `best_action()` selects the action with the highest Q-value. "
   ]
  },
  {
   "cell_type": "markdown",
   "metadata": {},
   "source": [
    "Now implement $\\varepsilon$-greedy strategy for the agent. The strategy selects random action with probability $\\varepsilon$ and the best known action with probability $1-\\varepsilon$."
   ]
  },
  {
   "cell_type": "code",
   "execution_count": 22,
   "metadata": {},
   "outputs": [],
   "source": [
    "def strategy(ql, state, possible_actions, eps=0.0):\n",
    "    if random.random() < eps:\n",
    "        # select random action\n",
    "        action = random.choice(possible_actions)\n",
    "    else:\n",
    "        # select action with max Q-Value estimate\n",
    "        action = ql.best_action(state, possible_actions)\n",
    "    return action"
   ]
  },
  {
   "cell_type": "markdown",
   "metadata": {},
   "source": [
    "The following function uses the strategy and updates Q-Value estimates while playing `n_games` training games:"
   ]
  },
  {
   "cell_type": "code",
   "execution_count": 23,
   "metadata": {},
   "outputs": [],
   "source": [
    "def play_and_train(eps, n_games, ql, training, scores):\n",
    "    for i in range(n_games):\n",
    "        obs = env.reset() # restart game:\n",
    "        state = get_state(obs)\n",
    "        while not obs['end_game']:\n",
    "            # select next action using strategy\n",
    "            action = strategy(ql, state, obs['possible_actions'], eps=eps)\n",
    "            new_obs = env.make_action(action)\n",
    "            new_state = get_state(new_obs)\n",
    "            if training:\n",
    "                # update Q-Value estimates\n",
    "                ql.iteration(state, action, obs['reward'], \n",
    "                             new_state, new_obs['possible_actions'])\n",
    "            obs = new_obs\n",
    "            state = new_state\n",
    "        scores.append(obs['total_score'])\n",
    "    return"
   ]
  },
  {
   "cell_type": "markdown",
   "metadata": {},
   "source": [
    "Finally, combine everything to train the agent using descending values of $\\varepsilon$ in the exploration policy."
   ]
  },
  {
   "cell_type": "code",
   "execution_count": null,
   "metadata": {},
   "outputs": [
    {
     "name": "stdout",
     "output_type": "stream",
     "text": [
      "Training with eps = 0.9 ...\n",
      "Training with eps = 0.7 ...\n",
      "Training with eps = 0.5 ...\n",
      "Training with eps = 0.3 ...\n",
      "Training with eps = 0.2 ...\n",
      "Training with eps = 0.1 ...\n"
     ]
    }
   ],
   "source": [
    "### Make n_games lower if you get MemoryError\n",
    "\n",
    "ql = QLearn(gamma=0.95, alpha=0.05)\n",
    "train_scores = []  # container for results\n",
    "n_games = 100000  # number of games per eps\n",
    "eps_list = [0.9, 0.7, 0.5, 0.3, 0.2, 0.1, 0.05, 0.0]\n",
    "for eps in eps_list:\n",
    "    print('Training with eps = {} ...'.format(eps))\n",
    "    play_and_train(eps, n_games, ql, training=True, scores=train_scores)\n",
    "print('Done.')"
   ]
  },
  {
   "cell_type": "markdown",
   "metadata": {},
   "source": [
    "Show how average score has changed during the process of training:"
   ]
  },
  {
   "cell_type": "code",
   "execution_count": 25,
   "metadata": {},
   "outputs": [
    {
     "data": {
      "text/plain": [
       "[<matplotlib.lines.Line2D at 0x7ff364f972e8>]"
      ]
     },
     "execution_count": 25,
     "metadata": {},
     "output_type": "execute_result"
    },
    {
     "data": {
      "image/png": "[encoded data removed]",
      "text/plain": [
       "<Figure size 432x288 with 1 Axes>"
      ]
     },
     "metadata": {},
     "output_type": "display_data"
    }
   ],
   "source": [
    "ma_train_scores = moving_average(train_scores)\n",
    "plt.plot(ma_train_scores)"
   ]
  },
  {
   "cell_type": "markdown",
   "metadata": {},
   "source": [
    "Now check scores for the trained model:"
   ]
  },
  {
   "cell_type": "code",
   "execution_count": 26,
   "metadata": {},
   "outputs": [],
   "source": [
    "test_scores=[]\n",
    "n_games = 1000\n",
    "play_and_train(0, n_games, ql, training=False, scores=test_scores)"
   ]
  },
  {
   "cell_type": "markdown",
   "metadata": {},
   "source": [
    "Plot moving average of the scores."
   ]
  },
  {
   "cell_type": "code",
   "execution_count": 27,
   "metadata": {},
   "outputs": [
    {
     "data": {
      "text/plain": [
       "[<matplotlib.lines.Line2D at 0x7ff364b7b3c8>]"
      ]
     },
     "execution_count": 27,
     "metadata": {},
     "output_type": "execute_result"
    },
    {
     "data": {
      "image/png": "[encoded data removed]",
      "text/plain": [
       "<Figure size 432x288 with 1 Axes>"
      ]
     },
     "metadata": {},
     "output_type": "display_data"
    }
   ],
   "source": [
    "ma_test_scores = moving_average(test_scores)\n",
    "plt.plot(ma_test_scores)"
   ]
  },
  {
   "cell_type": "markdown",
   "metadata": {},
   "source": [
    "Calculate first and third quartiles of the scores and the median:"
   ]
  },
  {
   "cell_type": "code",
   "execution_count": 28,
   "metadata": {},
   "outputs": [
    {
     "data": {
      "text/plain": [
       "(63.0, 160.0, 130.0)"
      ]
     },
     "execution_count": 28,
     "metadata": {},
     "output_type": "execute_result"
    }
   ],
   "source": [
    "np.percentile(test_scores, 25), np.percentile(test_scores, 75), np.median(test_scores)"
   ]
  },
  {
   "cell_type": "markdown",
   "metadata": {},
   "source": [
    "Q-Learning gave significant improvement with respect to random strategy. \n",
    "\n",
    "The estimated Q-value function can be extracted from the object as `ql.qmap` member:"
   ]
  },
  {
   "cell_type": "code",
   "execution_count": 29,
   "metadata": {
    "scrolled": true
   },
   "outputs": [
    {
     "data": {
      "text/plain": [
       "defaultdict(int,\n",
       "            {(3, 2, 2, 2, 2, 1, 4): 26.076021082819278,\n",
       "             (3, 2, 2, 2, 2, 1, 5): 1.792095977466062,\n",
       "             (3, 2, 2, 2, 2, 1, 6): 19.306444754863037,\n",
       "             (3, 2, 2, 2, 2, 1, 7): 1.287487484354917,\n",
       "             (3, 2, 2, 2, 2, 1, 8): 1.170433347574392,\n",
       "             (3, 2, 2, 2, 2, 1, 9): 1.2386041481111973,\n",
       "             (3, 3, 1, 3, 2, 1, 4): 28.097859991185686,\n",
       "             (2, 1, 2, 1, 0, 3, 1): 0,\n",
       "             (2, 1, 2, 1, 0, 3, 2): 0,\n",
       "             (2, 1, 2, 1, 0, 3, 3): 0,\n",
       "             (2, 1, 2, 1, 0, 3, 4): 0,\n",
       "             (2, 1, 2, 1, 0, 3, 5): 0,\n",
       "             (2, 1, 2, 1, 0, 3, 6): 0,\n",
       "             (2, 1, 2, 1, 0, 3, 7): 0,\n",
       "             (2, 1, 2, 1, 0, 3, 8): 0,\n",
       "             (2, 1, 2, 1, 0, 3, 9): 0,\n",
       "             (3, 1, 1, 1, 0, 1, 4): 23.812077205683142,\n",
       "             (3, 1, 1, 1, 0, 1, 5): 25.275745076577003,\n",
       "             (3, 1, 1, 1, 0, 1, 6): 26.978155862876193,\n",
       "             (3, 1, 1, 1, 0, 1, 7): 23.234463109353367,\n",
       "             (3, 1, 1, 1, 0, 1, 8): 1.0117620041122395,\n",
       "             (3, 1, 1, 1, 0, 1, 9): 23.66180613269879,\n",
       "             (2, 1, 1, 1, 0, 1, 2): 17.798066497560217,\n",
       "             (3, 1, 2, 2, 0, 1, 4): 25.47375691401504,\n",
       "             (3, 1, 2, 2, 0, 1, 5): 22.429241266705212,\n",
       "             (3, 1, 2, 2, 0, 1, 6): 1.187307751477925,\n",
       "             (3, 1, 2, 2, 0, 1, 7): 26.804050260891344,\n",
       "             (3, 1, 2, 2, 0, 1, 8): 1.35788156663385,\n",
       "             (3, 1, 2, 2, 0, 1, 9): 2.5368421473835543,\n",
       "             (3, 2, 3, 2, 0, 1, 4): 0,\n",
       "             (3, 2, 3, 2, 0, 1, 5): 0,\n",
       "             (3, 2, 3, 2, 0, 1, 6): 0,\n",
       "             (3, 2, 3, 2, 0, 1, 7): 0,\n",
       "             (3, 2, 3, 2, 0, 1, 8): 0,\n",
       "             (3, 2, 3, 2, 0, 1, 9): 0,\n",
       "             (2, 0, 1, 2, 2, 1, 2): 28.182113535155604,\n",
       "             (2, 0, 1, 2, 2, 1, 3): 25.66499137505761,\n",
       "             (2, 0, 1, 2, 2, 1, 5): 25.748011582270095,\n",
       "             (2, 0, 1, 2, 2, 1, 6): 25.108131031824254,\n",
       "             (2, 0, 1, 2, 2, 1, 8): 25.636922936364034,\n",
       "             (2, 0, 1, 2, 2, 1, 9): 1.2135338642569617,\n",
       "             (1, 0, 0, 3, 2, 1, 2): 24.517125078363442,\n",
       "             (3, 0, 0, 1, 2, 1, 5): 22.674437171379598,\n",
       "             (3, 0, 0, 1, 2, 1, 6): 18.71875538425695,\n",
       "             (3, 0, 0, 1, 2, 1, 8): 17.197267114815574,\n",
       "             (3, 0, 0, 1, 2, 1, 9): 28.443451313339946,\n",
       "             (3, 0, 1, 2, 2, 1, 5): 25.790224812298984,\n",
       "             (3, 0, 1, 2, 2, 1, 6): 26.07639257529547,\n",
       "             (3, 0, 1, 2, 2, 1, 8): 28.030049975116146,\n",
       "             (3, 0, 1, 2, 2, 1, 9): 23.746153533383573,\n",
       "             (2, 0, 1, 3, 2, 1, 2): 26.733028842686437,\n",
       "             (2, 0, 1, 3, 2, 1, 3): 28.82083855547604,\n",
       "             (2, 0, 1, 3, 2, 1, 5): 26.47982452324439,\n",
       "             (2, 0, 1, 3, 2, 1, 6): 26.22551477796686,\n",
       "             (2, 0, 1, 3, 2, 1, 8): 25.751462470206093,\n",
       "             (2, 0, 1, 3, 2, 1, 9): 26.368384585816266,\n",
       "             (3, 1, 2, 3, 2, 1, 4): 18.512038268682765,\n",
       "             (3, 1, 2, 3, 2, 1, 5): 21.7234806739191,\n",
       "             (3, 1, 2, 3, 2, 1, 6): 13.216567178632216,\n",
       "             (3, 1, 2, 3, 2, 1, 7): 19.98988509390271,\n",
       "             (3, 1, 2, 3, 2, 1, 8): 29.016382013663584,\n",
       "             (3, 1, 2, 3, 2, 1, 9): 3.1350828586424186,\n",
       "             (3, 1, 2, 2, 2, 1, 4): 21.7105622081438,\n",
       "             (3, 1, 2, 2, 2, 1, 5): 22.987008192145165,\n",
       "             (3, 1, 2, 2, 2, 1, 6): 1.3141379653646235,\n",
       "             (3, 1, 2, 2, 2, 1, 7): 29.029789071302663,\n",
       "             (3, 1, 2, 2, 2, 1, 8): 1.4571133107467107,\n",
       "             (3, 1, 2, 2, 2, 1, 9): 1.8163202159264444,\n",
       "             (2, 2, 2, 2, 2, 1, 1): 0,\n",
       "             (2, 2, 2, 2, 2, 1, 2): 0,\n",
       "             (2, 2, 2, 2, 2, 1, 3): 0,\n",
       "             (2, 2, 2, 2, 2, 1, 4): 0,\n",
       "             (2, 2, 2, 2, 2, 1, 5): 0,\n",
       "             (2, 2, 2, 2, 2, 1, 6): 0,\n",
       "             (2, 2, 2, 2, 2, 1, 7): 0,\n",
       "             (2, 2, 2, 2, 2, 1, 8): 0,\n",
       "             (2, 2, 2, 2, 2, 1, 9): 0,\n",
       "             (0, 2, 3, 0, 1, 1, 1): 27.903260007258567,\n",
       "             (0, 2, 3, 0, 1, 1, 2): 23.3077894862437,\n",
       "             (0, 2, 3, 0, 1, 1, 3): 23.880510843015387,\n",
       "             (0, 2, 3, 0, 1, 1, 4): 24.05403440547494,\n",
       "             (0, 2, 3, 0, 1, 1, 5): 23.659010566194098,\n",
       "             (0, 2, 3, 0, 1, 1, 6): 24.86267125466476,\n",
       "             (0, 3, 3, 1, 1, 1, 4): 28.05119671554712,\n",
       "             (1, 3, 2, 0, 1, 1, 1): 26.33811098828171,\n",
       "             (1, 3, 2, 0, 1, 1, 2): 26.206528608060754,\n",
       "             (1, 3, 2, 0, 1, 1, 4): 25.61410517861013,\n",
       "             (1, 3, 2, 0, 1, 1, 5): 25.391528262678584,\n",
       "             (1, 3, 2, 0, 1, 1, 7): 25.60994258249789,\n",
       "             (1, 3, 2, 0, 1, 1, 8): 27.860489891587687,\n",
       "             (1, 3, 3, 0, 1, 1, 1): 25.894577029197997,\n",
       "             (1, 3, 3, 0, 1, 1, 2): 25.773598085208963,\n",
       "             (1, 3, 3, 0, 1, 1, 4): 27.255414097509085,\n",
       "             (1, 3, 3, 0, 1, 1, 5): 25.096104950488137,\n",
       "             (1, 3, 3, 0, 1, 1, 7): 25.929335330585815,\n",
       "             (1, 3, 3, 0, 1, 1, 8): 26.11405565892405,\n",
       "             (0, 3, 2, 0, 1, 1, 1): 25.53709422608091,\n",
       "             (0, 3, 2, 0, 1, 1, 2): 27.320216512161583,\n",
       "             (0, 3, 2, 0, 1, 1, 4): 25.062348808995655,\n",
       "             (0, 3, 2, 0, 1, 1, 5): 25.728550660966093,\n",
       "             (1, 3, 3, 1, 1, 1, 1): 21.42995553445003,\n",
       "             (1, 3, 3, 1, 1, 1, 2): 25.322868483799304,\n",
       "             (1, 3, 3, 1, 1, 1, 4): 27.667524200006778,\n",
       "             (1, 3, 3, 1, 1, 1, 5): 25.955590757641147,\n",
       "             (1, 3, 3, 1, 1, 1, 7): 25.788265659071214,\n",
       "             (1, 3, 3, 1, 1, 1, 8): 25.966254170439974,\n",
       "             (2, 2, 3, 1, 1, 1, 1): 1.090509468921836,\n",
       "             (2, 2, 3, 1, 1, 1, 2): 1.3714862215995551,\n",
       "             (2, 2, 3, 1, 1, 1, 3): 16.781519890859833,\n",
       "             (2, 2, 3, 1, 1, 1, 4): 2.2004267506073596,\n",
       "             (2, 2, 3, 1, 1, 1, 5): 17.032591298165897,\n",
       "             (2, 2, 3, 1, 1, 1, 6): 16.572396455331084,\n",
       "             (2, 2, 3, 1, 1, 1, 7): 19.692871871857353,\n",
       "             (2, 2, 3, 1, 1, 1, 8): 27.202839229975957,\n",
       "             (2, 2, 3, 1, 1, 1, 9): 19.91390733798994,\n",
       "             (3, 2, 3, 2, 1, 1, 4): 0,\n",
       "             (3, 2, 3, 2, 1, 1, 5): 0,\n",
       "             (3, 2, 3, 2, 1, 1, 6): 0,\n",
       "             (3, 2, 3, 2, 1, 1, 7): 0,\n",
       "             (3, 2, 3, 2, 1, 1, 8): 0,\n",
       "             (3, 2, 3, 2, 1, 1, 9): 0,\n",
       "             (0, 0, 1, 2, 1, 3, 2): 28.5857164773924,\n",
       "             (0, 0, 1, 2, 1, 3, 3): 1.2663102738826957,\n",
       "             (0, 0, 1, 2, 1, 3, 5): 22.338098223961644,\n",
       "             (0, 0, 1, 2, 1, 3, 6): 20.66396130504852,\n",
       "             (0, 0, 0, 2, 1, 3, 5): 17.64185055895719,\n",
       "             (0, 1, 2, 2, 1, 3, 1): 25.664701978653646,\n",
       "             (0, 1, 2, 2, 1, 3, 2): 23.514000166322965,\n",
       "             (0, 1, 2, 2, 1, 3, 3): 1.6381885582288656,\n",
       "             (0, 1, 2, 2, 1, 3, 4): 25.132458624037056,\n",
       "             (0, 1, 2, 2, 1, 3, 5): 25.71181891909286,\n",
       "             (0, 1, 2, 2, 1, 3, 6): 27.713136176887595,\n",
       "             (0, 1, 1, 3, 1, 3, 1): 22.93753008619799,\n",
       "             (0, 1, 1, 3, 1, 3, 2): 22.941715318076614,\n",
       "             (0, 1, 1, 3, 1, 3, 3): 1.831732787821065,\n",
       "             (0, 1, 1, 3, 1, 3, 4): 27.955985210234168,\n",
       "             (0, 1, 1, 3, 1, 3, 5): 22.381716543113424,\n",
       "             (0, 1, 1, 3, 1, 3, 6): 17.70020390957301,\n",
       "             (1, 1, 1, 3, 1, 3, 1): 23.42269114752413,\n",
       "             (1, 1, 1, 3, 1, 3, 2): 27.54696136297596,\n",
       "             (1, 1, 1, 3, 1, 3, 3): 19.009168733025838,\n",
       "             (1, 1, 1, 3, 1, 3, 4): 24.819653047658466,\n",
       "             (1, 1, 1, 3, 1, 3, 5): 22.264016847505562,\n",
       "             (1, 1, 1, 3, 1, 3, 6): 1.7365042463198355,\n",
       "             (1, 1, 1, 3, 1, 3, 7): 22.733167493559183,\n",
       "             (1, 1, 1, 3, 1, 3, 8): 22.344056446488544,\n",
       "             (1, 1, 1, 3, 1, 3, 9): 17.476594777828854,\n",
       "             (2, 0, 1, 2, 1, 3, 2): 25.18576974013543,\n",
       "             (2, 0, 1, 2, 1, 3, 3): 27.53853984703003,\n",
       "             (2, 0, 1, 2, 1, 3, 5): 25.10248554331797,\n",
       "             (2, 0, 1, 2, 1, 3, 6): 24.68951351916481,\n",
       "             (2, 0, 1, 2, 1, 3, 8): 25.256996081582713,\n",
       "             (2, 0, 1, 2, 1, 3, 9): 1.0970841488542624,\n",
       "             (2, 0, 0, 3, 1, 3, 2): 25.39343039241166,\n",
       "             (2, 0, 0, 3, 1, 3, 3): 27.444260697968684,\n",
       "             (2, 0, 0, 3, 1, 3, 5): 25.162891344970966,\n",
       "             (2, 0, 0, 3, 1, 3, 6): 25.712723695189155,\n",
       "             (2, 0, 0, 3, 1, 3, 8): 25.12863968718709,\n",
       "             (2, 0, 0, 3, 1, 3, 9): 25.314443396033862,\n",
       "             (3, 1, 1, 3, 1, 3, 4): 28.003120236199187,\n",
       "             (3, 1, 1, 3, 1, 3, 5): 26.103474382022732,\n",
       "             (3, 1, 1, 3, 1, 3, 6): 24.336814703570397,\n",
       "             (3, 1, 1, 3, 1, 3, 7): 25.885140028091595,\n",
       "             (3, 1, 1, 3, 1, 3, 8): 25.723475488162183,\n",
       "             (3, 1, 1, 3, 1, 3, 9): 23.148544466677013,\n",
       "             (3, 0, 0, 2, 1, 3, 5): 28.10209672053305,\n",
       "             (3, 0, 0, 2, 1, 3, 6): 26.120767716799595,\n",
       "             (3, 0, 0, 2, 1, 3, 8): 24.40541775376219,\n",
       "             (3, 0, 0, 2, 1, 3, 9): 24.97783349980876,\n",
       "             (2, 1, 0, 2, 1, 3, 1): 24.026167769221253,\n",
       "             (2, 1, 0, 2, 1, 3, 2): 23.711193235002174,\n",
       "             (2, 1, 0, 2, 1, 3, 3): 23.843958568299772,\n",
       "             (2, 1, 0, 2, 1, 3, 4): 24.353829407411183,\n",
       "             (2, 1, 0, 2, 1, 3, 5): 28.317446798757686,\n",
       "             (2, 1, 0, 2, 1, 3, 6): 23.963343899323466,\n",
       "             (2, 1, 0, 2, 1, 3, 7): 20.893161758959064,\n",
       "             (2, 1, 0, 2, 1, 3, 8): 17.40397083797251,\n",
       "             (2, 1, 0, 2, 1, 3, 9): 1.36250368414168,\n",
       "             (2, 1, 0, 1, 1, 3, 1): 22.84291696464154,\n",
       "             (2, 1, 0, 1, 1, 3, 2): 21.211187251997174,\n",
       "             (2, 1, 0, 1, 1, 3, 3): 23.26260610266317,\n",
       "             (2, 1, 0, 1, 1, 3, 4): 22.617355100476768,\n",
       "             (2, 1, 0, 1, 1, 3, 5): 24.61006840836083,\n",
       "             (2, 1, 0, 1, 1, 3, 6): 30.810713053639628,\n",
       "             (2, 1, 0, 1, 1, 3, 7): 17.50064386726964,\n",
       "             (2, 1, 0, 1, 1, 3, 8): 2.407782346412942,\n",
       "             (2, 1, 0, 1, 1, 3, 9): 18.970543330351752,\n",
       "             (2, 2, 1, 0, 1, 3, 1): 21.15685259405215,\n",
       "             (2, 2, 1, 0, 1, 3, 2): 24.20051920892613,\n",
       "             (2, 2, 1, 0, 1, 3, 3): 24.197174520000246,\n",
       "             (2, 2, 1, 0, 1, 3, 4): 17.582587125582005,\n",
       "             (2, 2, 1, 0, 1, 3, 5): 24.18586100526945,\n",
       "             (2, 2, 1, 0, 1, 3, 6): 28.407276525217256,\n",
       "             (2, 2, 1, 0, 1, 3, 7): 1.3803203757244888,\n",
       "             (2, 2, 1, 0, 1, 3, 8): 21.90158940634993,\n",
       "             (2, 2, 1, 0, 1, 3, 9): 25.098499819812364,\n",
       "             (3, 3, 2, 1, 1, 3, 4): 22.20498416157294,\n",
       "             (3, 3, 2, 1, 1, 3, 5): 25.007007060119776,\n",
       "             (3, 3, 2, 1, 1, 3, 7): 1.7198136938704416,\n",
       "             (3, 3, 2, 1, 1, 3, 8): 27.820948108966135,\n",
       "             (3, 2, 1, 1, 1, 3, 4): 25.16625900667661,\n",
       "             (3, 2, 1, 1, 1, 3, 5): 25.434864782024068,\n",
       "             (3, 2, 1, 1, 1, 3, 6): 25.385179996878875,\n",
       "             (3, 2, 1, 1, 1, 3, 7): 1.5930452188305941,\n",
       "             (3, 2, 1, 1, 1, 3, 8): 23.448166620956258,\n",
       "             (3, 2, 1, 1, 1, 3, 9): 27.653854990282607,\n",
       "             (2, 3, 0, 1, 1, 3, 1): 28.037114468568042,\n",
       "             (2, 3, 0, 1, 1, 3, 2): 26.094445258975867,\n",
       "             (2, 3, 0, 1, 1, 3, 4): 26.567659506205814,\n",
       "             (2, 3, 0, 1, 1, 3, 5): 25.160088345256245,\n",
       "             (2, 3, 0, 1, 1, 3, 7): 21.445958261554264,\n",
       "             (2, 3, 0, 1, 1, 3, 8): 25.186442637524806,\n",
       "             (3, 2, 0, 1, 1, 3, 4): 25.030732830044954,\n",
       "             (3, 2, 0, 1, 1, 3, 5): 25.531385802416228,\n",
       "             (3, 2, 0, 1, 1, 3, 6): 24.846460024894835,\n",
       "             (3, 2, 0, 1, 1, 3, 7): 25.129328046490365,\n",
       "             (3, 2, 0, 1, 1, 3, 8): 25.48226734433012,\n",
       "             (3, 2, 0, 1, 1, 3, 9): 28.183068642457673,\n",
       "             (3, 1, 0, 1, 1, 3, 4): 24.753888756824423,\n",
       "             (3, 1, 0, 1, 1, 3, 5): 25.688932341062507,\n",
       "             (3, 1, 0, 1, 1, 3, 6): 28.574818358035166,\n",
       "             (3, 1, 0, 1, 1, 3, 7): 25.04076856524737,\n",
       "             (3, 1, 0, 1, 1, 3, 8): 25.609156970895214,\n",
       "             (3, 1, 0, 1, 1, 3, 9): 26.402642538856615,\n",
       "             (3, 0, 0, 0, 1, 3, 5): 27.38633633286512,\n",
       "             (3, 0, 0, 0, 1, 3, 6): 24.221295460143082,\n",
       "             (3, 0, 0, 0, 1, 3, 8): 23.385009119007716,\n",
       "             (3, 0, 0, 0, 1, 3, 9): 23.793132708339726,\n",
       "             (3, 0, 1, 1, 1, 3, 5): 24.587238180863828,\n",
       "             (3, 0, 1, 1, 1, 3, 6): 27.528921688463754,\n",
       "             (3, 0, 1, 1, 1, 3, 8): 22.13712273136585,\n",
       "             (3, 0, 1, 1, 1, 3, 9): 1.7895303084747378,\n",
       "             (3, 1, 1, 2, 1, 3, 4): 25.468318863017075,\n",
       "             (3, 1, 1, 2, 1, 3, 5): 25.526420918613624,\n",
       "             (3, 1, 1, 2, 1, 3, 6): 27.294138776171117,\n",
       "             (3, 1, 1, 2, 1, 3, 7): 24.95240653317073,\n",
       "             (3, 1, 1, 2, 1, 3, 8): 22.77385681641217,\n",
       "             (3, 1, 1, 2, 1, 3, 9): 1.348526486893854,\n",
       "             (3, 1, 0, 2, 1, 3, 4): 25.888084933836257,\n",
       "             (3, 1, 0, 2, 1, 3, 5): 26.09370328815622,\n",
       "             (3, 1, 0, 2, 1, 3, 6): 25.99664546650365,\n",
       "             (3, 1, 0, 2, 1, 3, 7): 26.030863121688864,\n",
       "             (3, 1, 0, 2, 1, 3, 8): 28.080542744888792,\n",
       "             (3, 1, 0, 2, 1, 3, 9): 26.109782643395846,\n",
       "             (3, 0, 0, 1, 1, 3, 5): 25.225554295908022,\n",
       "             (3, 0, 0, 1, 1, 3, 6): 28.49606980830465,\n",
       "             (3, 0, 0, 1, 1, 3, 8): 23.97779480816286,\n",
       "             (3, 0, 0, 1, 1, 3, 9): 25.018624139820886,\n",
       "             (1, 1, 1, 1, 1, 3, 1): 0,\n",
       "             (1, 1, 1, 1, 1, 3, 2): 0,\n",
       "             (1, 1, 1, 1, 1, 3, 3): 0,\n",
       "             (1, 1, 1, 1, 1, 3, 4): 0,\n",
       "             (1, 1, 1, 1, 1, 3, 5): 0,\n",
       "             (1, 1, 1, 1, 1, 3, 6): 0,\n",
       "             (1, 1, 1, 1, 1, 3, 7): 0,\n",
       "             (1, 1, 1, 1, 1, 3, 8): 0,\n",
       "             (1, 1, 1, 1, 1, 3, 9): 0,\n",
       "             (3, 2, 0, 0, 3, 3, 4): 25.109917079938196,\n",
       "             (3, 2, 0, 0, 3, 3, 5): 24.59730115380537,\n",
       "             (3, 2, 0, 0, 3, 3, 6): 26.49770617931611,\n",
       "             (3, 2, 0, 0, 3, 3, 7): 25.382437329034133,\n",
       "             (3, 2, 0, 0, 3, 3, 8): 28.95188908626832,\n",
       "             (3, 2, 0, 0, 3, 3, 9): 25.015260595753347,\n",
       "             (2, 3, 1, 1, 3, 3, 1): 25.786395715486186,\n",
       "             (2, 2, 0, 1, 3, 3, 1): 24.96191483570456,\n",
       "             (2, 2, 0, 1, 3, 3, 2): 28.700383521174,\n",
       "             (2, 2, 0, 1, 3, 3, 3): 26.017637846854157,\n",
       "             (2, 2, 0, 1, 3, 3, 4): 25.811995479873346,\n",
       "             (2, 2, 0, 1, 3, 3, 5): 25.355070940837493,\n",
       "             (2, 2, 0, 1, 3, 3, 6): 24.888951351888444,\n",
       "             (2, 2, 0, 1, 3, 3, 7): 1.4137061140911327,\n",
       "             (2, 2, 0, 1, 3, 3, 8): 22.77135795304079,\n",
       "             (2, 2, 0, 1, 3, 3, 9): 24.837467937358575,\n",
       "             (3, 3, 0, 0, 1, 3, 4): 29.265707556880376,\n",
       "             (3, 3, 0, 0, 1, 3, 5): 19.4617825921831,\n",
       "             (3, 3, 0, 0, 1, 3, 7): 19.05690523862236,\n",
       "             (3, 3, 0, 0, 1, 3, 8): 21.46146184764485,\n",
       "             (3, 2, 0, 0, 1, 3, 4): 23.565757068026098,\n",
       "             (3, 2, 0, 0, 1, 3, 5): 23.215590375842996,\n",
       "             (3, 2, 0, 0, 1, 3, 6): 24.70568399406481,\n",
       "             (3, 2, 0, 0, 1, 3, 7): 24.53492014465737,\n",
       "             (3, 2, 0, 0, 1, 3, 8): 22.567118299340237,\n",
       "             (3, 2, 0, 0, 1, 3, 9): 28.39946859840635,\n",
       "             (3, 3, 1, 0, 1, 3, 4): 23.99154984695092,\n",
       "             (3, 3, 1, 0, 1, 3, 5): 25.12834458732007,\n",
       "             (3, 3, 1, 0, 1, 3, 7): 29.61106107768231,\n",
       "             (3, 3, 1, 0, 1, 3, 8): 20.627643457828583,\n",
       "             (2, 2, 2, 0, 1, 3, 1): 14.720357889148518,\n",
       "             (2, 2, 2, 0, 1, 3, 2): 17.65876971606208,\n",
       "             (2, 2, 2, 0, 1, 3, 3): 15.770902710437424,\n",
       "             (2, 2, 2, 0, 1, 3, 4): 1.1595978408010414,\n",
       "             (2, 2, 2, 0, 1, 3, 5): 14.472869441728198,\n",
       "             (2, 2, 2, 0, 1, 3, 6): 18.983765140576924,\n",
       "             (2, 2, 2, 0, 1, 3, 7): 16.543435328187716,\n",
       "             (2, 2, 2, 0, 1, 3, 8): 29.91798746907885,\n",
       "             (2, 2, 2, 0, 1, 3, 9): 18.639992610811838,\n",
       "             (2, 3, 3, 0, 1, 3, 1): 27.460728916290694,\n",
       "             (2, 3, 3, 0, 1, 3, 2): 20.08760550871416,\n",
       "             (2, 3, 3, 0, 1, 3, 4): 22.583748146324346,\n",
       "             (2, 3, 3, 0, 1, 3, 5): 21.693525231215126,\n",
       "             (2, 3, 3, 0, 1, 3, 7): 20.6799255494948,\n",
       "             (2, 3, 3, 0, 1, 3, 8): 23.609558736017096,\n",
       "             (1, 2, 3, 1, 1, 3, 1): 2.305636348250979,\n",
       "             (1, 2, 3, 1, 1, 3, 2): 22.801351155002497,\n",
       "             (1, 2, 3, 1, 1, 3, 3): 23.53149359016359,\n",
       "             (1, 2, 3, 1, 1, 3, 4): 23.44984518973574,\n",
       "             (1, 2, 3, 1, 1, 3, 5): 23.840996308851516,\n",
       "             (1, 2, 3, 1, 1, 3, 6): 28.475299515727375,\n",
       "             (1, 2, 3, 1, 1, 3, 7): 26.299675316193817,\n",
       "             (1, 2, 3, 1, 1, 3, 8): 24.70594982879777,\n",
       "             (1, 2, 3, 1, 1, 3, 9): 25.249533156240634,\n",
       "             (1, 1, 2, 0, 1, 3, 1): 0.8241252112218568,\n",
       "             (1, 1, 2, 0, 1, 3, 2): 2.0189219468035597,\n",
       "             (1, 1, 2, 0, 1, 3, 3): 12.618099567274882,\n",
       "             (1, 1, 2, 0, 1, 3, 4): 1.4832690245198623,\n",
       "             (1, 1, 2, 0, 1, 3, 5): 10.983102571573584,\n",
       "             (1, 1, 2, 0, 1, 3, 6): 16.037286377208787,\n",
       "             (1, 1, 2, 0, 1, 3, 7): 10.89611049120458,\n",
       "             (1, 1, 2, 0, 1, 3, 8): 33.82860799032754,\n",
       "             (1, 1, 2, 0, 1, 3, 9): 15.081126059996137,\n",
       "             (0, 0, 2, 0, 1, 3, 2): 1.1834617428428196,\n",
       "             (0, 0, 2, 0, 1, 3, 3): 17.071145575470783,\n",
       "             (0, 0, 2, 0, 1, 3, 5): 21.30340603137021,\n",
       "             (0, 0, 2, 0, 1, 3, 6): 28.999893851102378,\n",
       "             (1, 1, 1, 0, 1, 3, 1): 0.4139838021656873,\n",
       "             (1, 1, 1, 0, 1, 3, 2): 5.726766077509632,\n",
       "             (1, 1, 1, 0, 1, 3, 3): 7.301845867878512,\n",
       "             (1, 1, 1, 0, 1, 3, 4): 1.3387339194249284,\n",
       "             (1, 1, 1, 0, 1, 3, 5): 0.36156671578897365,\n",
       "             (1, 1, 1, 0, 1, 3, 6): 7.173091848276442,\n",
       "             (1, 1, 1, 0, 1, 3, 7): 0.34870196191879593,\n",
       "             (1, 1, 1, 0, 1, 3, 8): 7.3579277425101415,\n",
       "             (1, 1, 1, 0, 1, 3, 9): 26.487827221166906,\n",
       "             (0, 2, 2, 1, 1, 3, 1): 1.9799657298212598,\n",
       "             (0, 2, 2, 1, 1, 3, 2): 24.28883089783635,\n",
       "             (0, 2, 2, 1, 1, 3, 3): 25.233761796970164,\n",
       "             (0, 2, 2, 1, 1, 3, 4): 28.136055283664728,\n",
       "             (0, 2, 2, 1, 1, 3, 5): 25.844883932044503,\n",
       "             (0, 2, 2, 1, 1, 3, 6): 25.511359537254066,\n",
       "             (0, 2, 2, 2, 1, 3, 1): 21.225665257141607,\n",
       "             (0, 2, 2, 2, 1, 3, 2): 2.3139614431881252,\n",
       "             (0, 2, 2, 2, 1, 3, 3): 21.74389064154653,\n",
       "             (0, 2, 2, 2, 1, 3, 4): 28.36576674270401,\n",
       "             (0, 2, 2, 2, 1, 3, 5): 22.798565833119895,\n",
       "             (0, 2, 2, 2, 1, 3, 6): 22.092424854822013,\n",
       "             (1, 2, 1, 2, 1, 3, 1): 0,\n",
       "             (1, 2, 1, 2, 1, 3, 2): 0,\n",
       "             (1, 2, 1, 2, 1, 3, 3): 0,\n",
       "             (1, 2, 1, 2, 1, 3, 4): 0,\n",
       "             (1, 2, 1, 2, 1, 3, 5): 0,\n",
       "             (1, 2, 1, 2, 1, 3, 6): 0,\n",
       "             (1, 2, 1, 2, 1, 3, 7): 0,\n",
       "             (1, 2, 1, 2, 1, 3, 8): 0,\n",
       "             (1, 2, 1, 2, 1, 3, 9): 0,\n",
       "             (3, 1, 3, 3, 0, 2, 4): 21.35460194463755,\n",
       "             (3, 1, 3, 3, 0, 2, 5): 20.147602793540376,\n",
       "             (3, 1, 3, 3, 0, 2, 6): 0.9164281182875893,\n",
       "             (3, 1, 3, 3, 0, 2, 7): 18.821277199545275,\n",
       "             (3, 1, 3, 3, 0, 2, 8): 28.131226713978712,\n",
       "             (3, 1, 3, 3, 0, 2, 9): 14.173373929566933,\n",
       "             (2, 2, 3, 2, 0, 2, 1): 0.4505147179112173,\n",
       "             (2, 2, 3, 2, 0, 2, 2): 0.6297547114771501,\n",
       "             (2, 2, 3, 2, 0, 2, 3): 0.3164568503130346,\n",
       "             (2, 2, 3, 2, 0, 2, 4): 20.736639912225474,\n",
       "             (2, 2, 3, 2, 0, 2, 5): 0.3595567586640828,\n",
       "             (2, 2, 3, 2, 0, 2, 6): 4.1746131663742405,\n",
       "             (2, 2, 3, 2, 0, 2, 7): 7.965905558668812,\n",
       "             (2, 2, 3, 2, 0, 2, 8): 6.22574294791573,\n",
       "             (2, 2, 3, 2, 0, 2, 9): 4.841417389443609,\n",
       "             (1, 3, 3, 1, 0, 2, 1): 21.382604903298464,\n",
       "             (1, 3, 3, 1, 0, 2, 2): 25.31690906941712,\n",
       "             (1, 3, 3, 1, 0, 2, 4): 26.683958717236397,\n",
       "             (1, 3, 3, 1, 0, 2, 5): 26.632202453758154,\n",
       "             (1, 3, 3, 1, 0, 2, 7): 25.128698158789874,\n",
       "             (1, 3, 3, 1, 0, 2, 8): 28.760269648911247,\n",
       "             (0, 3, 2, 1, 0, 2, 1): 22.672761346415378,\n",
       "             (0, 3, 2, 1, 0, 2, 2): 22.274013356672114,\n",
       "             (0, 3, 2, 1, 0, 2, 4): 28.56659941896428,\n",
       "             (0, 3, 2, 1, 0, 2, 5): 25.025743747871193,\n",
       "             (0, 2, 3, 2, 2, 2, 1): 25.899867570239593,\n",
       "             (0, 2, 3, 2, 2, 2, 2): 25.58490614743424,\n",
       "             (0, 2, 3, 2, 2, 2, 3): 25.274271821678436,\n",
       "             (0, 2, 3, 2, 2, 2, 4): 26.78977972933248,\n",
       "             (0, 2, 3, 2, 2, 2, 5): 25.57064681589814,\n",
       "             (0, 2, 3, 2, 2, 2, 6): 26.085617009692314,\n",
       "             (1, 2, 3, 3, 2, 2, 1): 17.347298022877567,\n",
       "             (1, 2, 3, 3, 2, 2, 2): 14.295488706017391,\n",
       "             (1, 2, 3, 3, 2, 2, 3): 2.1032222773199036,\n",
       "             (1, 2, 3, 3, 2, 2, 4): 16.13067652529502,\n",
       "             (1, 2, 3, 3, 2, 2, 5): 15.989203373665365,\n",
       "             (1, 2, 3, 3, 2, 2, 6): 15.96925204114682,\n",
       "             (1, 2, 3, 3, 2, 2, 7): 20.471507007684917,\n",
       "             (1, 2, 3, 3, 2, 2, 8): 29.82394414274308,\n",
       "             (1, 2, 3, 3, 2, 2, 9): 20.710085102325724,\n",
       "             (2, 2, 2, 3, 3, 0, 1): 26.364012937258366,\n",
       "             (2, 2, 2, 3, 3, 0, 2): 7.578373170145144,\n",
       "             (2, 2, 2, 3, 3, 0, 3): 0.4925282216833239,\n",
       "             (2, 2, 2, 3, 3, 0, 4): 5.123348881445503,\n",
       "             (2, 2, 2, 3, 3, 0, 5): 0.35157656319228997,\n",
       "             (2, 2, 2, 3, 3, 0, 6): 0.88975407918188,\n",
       "             (2, 2, 2, 3, 3, 0, 7): 7.949522821808411,\n",
       "             (2, 2, 2, 3, 3, 0, 8): 6.628911812931941,\n",
       "             (2, 2, 2, 3, 3, 0, 9): 1.0811239527848526,\n",
       "             (2, 3, 2, 3, 3, 0, 1): 0,\n",
       "             (2, 3, 2, 3, 3, 0, 2): 0,\n",
       "             (2, 3, 2, 3, 3, 0, 4): 0,\n",
       "             (2, 3, 2, 3, 3, 0, 5): 0,\n",
       "             (2, 3, 2, 3, 3, 0, 7): 0,\n",
       "             (2, 3, 2, 3, 3, 0, 8): 0,\n",
       "             (1, 2, 1, 3, 1, 3, 1): 27.207786472111543,\n",
       "             (1, 2, 1, 3, 1, 3, 2): 4.133430954565509,\n",
       "             (1, 2, 1, 3, 1, 3, 3): 2.1011723633222656,\n",
       "             (1, 2, 1, 3, 1, 3, 4): 3.296915504414613,\n",
       "             (1, 2, 1, 3, 1, 3, 5): 1.6714564464281112,\n",
       "             (1, 2, 1, 3, 1, 3, 6): 0.9153454167204947,\n",
       "             (1, 2, 1, 3, 1, 3, 7): 6.686093352734057,\n",
       "             (1, 2, 1, 3, 1, 3, 8): 5.808221674175318,\n",
       "             (1, 2, 1, 3, 1, 3, 9): 0.73035020390625,\n",
       "             (1, 2, 0, 3, 1, 3, 5): 1.8953758833162038,\n",
       "             (0, 1, 2, 3, 1, 3, 1): 24.34123419854767,\n",
       "             (0, 1, 2, 3, 1, 3, 2): 27.867434879410922,\n",
       "             (0, 1, 2, 3, 1, 3, 3): 18.617099545570927,\n",
       "             (0, 1, 2, 3, 1, 3, 4): 24.504078775049233,\n",
       "             (0, 1, 2, 3, 1, 3, 5): 24.503692832715544,\n",
       "             (0, 1, 2, 3, 1, 3, 6): 24.292259511543833,\n",
       "             (0, 1, 3, 2, 1, 3, 1): 28.826433838397474,\n",
       "             (0, 1, 3, 2, 1, 3, 2): 25.882926165054673,\n",
       "             (0, 1, 3, 2, 1, 3, 3): 25.569485867361383,\n",
       "             (0, 1, 3, 2, 1, 3, 4): 26.439125571840904,\n",
       "             (0, 1, 3, 2, 1, 3, 5): 25.597056427778593,\n",
       "             (0, 1, 3, 2, 1, 3, 6): 26.52087042150438,\n",
       "             (1, 1, 2, 3, 1, 3, 1): 25.34365356942168,\n",
       "             (1, 1, 2, 3, 1, 3, 2): 25.180977928279617,\n",
       "             (1, 1, 2, 3, 1, 3, 3): 1.8397315351130143,\n",
       "             (1, 1, 2, 3, 1, 3, 4): 25.313966483274353,\n",
       "             (1, 1, 2, 3, 1, 3, 5): 27.569409235420927,\n",
       "             (1, 1, 2, 3, 1, 3, 6): 21.97608433912085,\n",
       "             (1, 1, 2, 3, 1, 3, 7): 25.292372363838126,\n",
       "             (1, 1, 2, 3, 1, 3, 8): 25.271757988790977,\n",
       "             (1, 1, 2, 3, 1, 3, 9): 25.026201595149182,\n",
       "             (0, 1, 1, 2, 1, 3, 1): 28.32657855242596,\n",
       "             (0, 1, 1, 2, 1, 3, 2): 2.0165899918300743,\n",
       "             (0, 1, 1, 2, 1, 3, 3): 1.3890110574568528,\n",
       "             (0, 1, 1, 2, 1, 3, 4): 23.706746452382014,\n",
       "             (0, 1, 1, 2, 1, 3, 5): 21.8484351181243,\n",
       "             (0, 1, 1, 2, 1, 3, 6): 1.204715223595154,\n",
       "             (0, 2, 0, 2, 1, 3, 1): 0,\n",
       "             (0, 2, 0, 2, 1, 3, 2): 0,\n",
       "             (0, 2, 0, 2, 1, 3, 3): 0,\n",
       "             (0, 2, 0, 2, 1, 3, 4): 0,\n",
       "             (0, 2, 0, 2, 1, 3, 5): 0,\n",
       "             (0, 2, 0, 2, 1, 3, 6): 0,\n",
       "             (0, 0, 0, 0, 2, 0, 2): 0,\n",
       "             (0, 0, 0, 0, 2, 0, 3): 0,\n",
       "             (0, 0, 0, 0, 2, 0, 5): 0,\n",
       "             (0, 0, 0, 0, 2, 0, 6): 0,\n",
       "             (0, 0, 0, 1, 2, 0, 5): 0.8746622660229993,\n",
       "             (1, 2, 3, 2, 3, 3, 1): 18.61742139461134,\n",
       "             (1, 2, 3, 2, 3, 3, 2): 1.1962501576633222,\n",
       "             (1, 2, 3, 2, 3, 3, 3): 16.915983633154017,\n",
       "             (1, 2, 3, 2, 3, 3, 4): 23.87671487923308,\n",
       "             (1, 2, 3, 2, 3, 3, 5): 23.649827951196304,\n",
       "             (1, 2, 3, 2, 3, 3, 6): 23.313305002398785,\n",
       "             (1, 2, 3, 2, 3, 3, 7): 27.719337977050493,\n",
       "             (1, 2, 3, 2, 3, 3, 8): 21.50346884044525,\n",
       "             (1, 2, 3, 2, 3, 3, 9): 22.508904275554674,\n",
       "             (0, 3, 3, 2, 3, 3, 1): 27.53882346567638,\n",
       "             (2, 1, 2, 1, 3, 3, 1): 0,\n",
       "             (2, 1, 2, 1, 3, 3, 2): 0,\n",
       "             (2, 1, 2, 1, 3, 3, 3): 0,\n",
       "             (2, 1, 2, 1, 3, 3, 4): 0,\n",
       "             (2, 1, 2, 1, 3, 3, 5): 0,\n",
       "             (2, 1, 2, 1, 3, 3, 6): 0,\n",
       "             (2, 1, 2, 1, 3, 3, 7): 0,\n",
       "             (2, 1, 2, 1, 3, 3, 8): 0,\n",
       "             (2, 1, 2, 1, 3, 3, 9): 0,\n",
       "             (3, 2, 0, 3, 2, 0, 4): 26.156013592811473,\n",
       "             (3, 2, 0, 3, 2, 0, 5): 26.801870814606623,\n",
       "             (3, 2, 0, 3, 2, 0, 6): 25.8860974702996,\n",
       "             (3, 2, 0, 3, 2, 0, 7): 28.473197941801047,\n",
       "             (3, 2, 0, 3, 2, 0, 8): 26.180419517982244,\n",
       "             (3, 2, 0, 3, 2, 0, 9): 25.88963347601997,\n",
       "             (3, 1, 0, 3, 2, 0, 4): 23.283746660669372,\n",
       "             (3, 1, 0, 3, 2, 0, 5): 24.631334448350287,\n",
       "             (3, 1, 0, 3, 2, 0, 6): 23.21190014997569,\n",
       "             (3, 1, 0, 3, 2, 0, 7): 22.44107653211537,\n",
       "             (3, 1, 0, 3, 2, 0, 8): 23.11211993857397,\n",
       "             (3, 1, 0, 3, 2, 0, 9): 29.30591053313009,\n",
       "             (3, 2, 1, 2, 2, 0, 4): 28.701322054068775,\n",
       "             (3, 2, 1, 2, 2, 0, 5): 26.200428528119982,\n",
       "             (3, 2, 1, 2, 2, 0, 6): 24.622666375257353,\n",
       "             (3, 2, 1, 2, 2, 0, 7): 23.34102163745832,\n",
       "             (3, 2, 1, 2, 2, 0, 8): 1.2432726770782399,\n",
       "             (3, 2, 1, 2, 2, 0, 9): 24.264372918837264,\n",
       "             (3, 2, 1, 3, 2, 0, 4): 26.211995407580634,\n",
       "             (3, 2, 1, 3, 2, 0, 5): 25.081782956714584,\n",
       "             (3, 2, 1, 3, 2, 0, 6): 23.506023170755988,\n",
       "             (3, 2, 1, 3, 2, 0, 7): 28.038057901141705,\n",
       "             (3, 2, 1, 3, 2, 0, 8): 20.325706649128865,\n",
       "             (3, 2, 1, 3, 2, 0, 9): 1.4438739688307602,\n",
       "             (3, 3, 1, 2, 2, 0, 4): 27.280155336200917,\n",
       "             (3, 3, 1, 2, 2, 0, 5): 23.745804462808415,\n",
       "             (3, 3, 1, 2, 2, 0, 7): 0.9964316626947249,\n",
       "             (3, 3, 1, 2, 2, 0, 8): 21.550392978885377,\n",
       "             (3, 2, 2, 2, 2, 0, 4): 24.723524307314154,\n",
       "             (3, 2, 2, 2, 2, 0, 5): 2.2306199138714877,\n",
       "             (3, 2, 2, 2, 2, 0, 6): 19.85278525635997,\n",
       "             (3, 2, 2, 2, 2, 0, 7): 1.2983829084592786,\n",
       "             (3, 2, 2, 2, 2, 0, 8): 0.9722430171582097,\n",
       "             (3, 2, 2, 2, 2, 0, 9): 1.223290164154106,\n",
       "             (3, 1, 2, 2, 2, 0, 4): 26.48268775011642,\n",
       "             (3, 1, 2, 2, 2, 0, 5): 21.221257734756016,\n",
       "             (3, 1, 2, 2, 2, 0, 6): 1.8219254454593936,\n",
       "             (3, 1, 2, 2, 2, 0, 7): 27.4793115560572,\n",
       "             (3, 1, 2, 2, 2, 0, 8): 0.9845215721840067,\n",
       "             (3, 1, 2, 2, 2, 0, 9): 1.6228393975742255,\n",
       "             (2, 2, 2, 2, 2, 0, 1): 0,\n",
       "             (2, 2, 2, 2, 2, 0, 2): 0,\n",
       "             (2, 2, 2, 2, 2, 0, 3): 0,\n",
       "             (2, 2, 2, 2, 2, 0, 4): 0,\n",
       "             (2, 2, 2, 2, 2, 0, 5): 0,\n",
       "             (2, 2, 2, 2, 2, 0, 6): 0,\n",
       "             (2, 2, 2, 2, 2, 0, 7): 0,\n",
       "             (2, 2, 2, 2, 2, 0, 8): 0,\n",
       "             (2, 2, 2, 2, 2, 0, 9): 0,\n",
       "             (1, 3, 1, 3, 2, 2, 1): 0,\n",
       "             (1, 3, 1, 3, 2, 2, 2): 0,\n",
       "             (1, 3, 1, 3, 2, 2, 4): 0,\n",
       "             (1, 3, 1, 3, 2, 2, 5): 0,\n",
       "             (1, 3, 1, 3, 2, 2, 7): 0,\n",
       "             (1, 3, 1, 3, 2, 2, 8): 0,\n",
       "             (1, 3, 1, 2, 2, 2, 5): 0.8952788077808396,\n",
       "             (3, 1, 0, 1, 2, 1, 4): 24.200956428277525,\n",
       "             (3, 1, 0, 1, 2, 1, 5): 24.58522557900768,\n",
       "             (3, 1, 0, 1, 2, 1, 6): 28.66861209115961,\n",
       "             (3, 1, 0, 1, 2, 1, 7): 23.881932034783464,\n",
       "             (3, 1, 0, 1, 2, 1, 8): 25.441183017044427,\n",
       "             (3, 1, 0, 1, 2, 1, 9): 24.080222366079973,\n",
       "             (3, 2, 0, 2, 2, 1, 4): 28.467070921306565,\n",
       "             (2, 1, 1, 2, 3, 0, 1): 24.974046680522417,\n",
       "             (2, 1, 1, 2, 3, 0, 2): 27.610750425693062,\n",
       "             (2, 1, 1, 2, 3, 0, 3): 25.416815185453608,\n",
       "             (2, 1, 1, 2, 3, 0, 4): 25.743892040869277,\n",
       "             (2, 1, 1, 2, 3, 0, 5): 22.45662508710587,\n",
       "             (2, 1, 1, 2, 3, 0, 6): 1.3279682250433729,\n",
       "             (2, 1, 1, 2, 3, 0, 7): 25.621742153284227,\n",
       "             (2, 1, 1, 2, 3, 0, 8): 1.522521654707537,\n",
       "             (2, 1, 1, 2, 3, 0, 9): 1.5963048075212225,\n",
       "             (1, 0, 0, 2, 3, 0, 2): 25.53756536078656,\n",
       "             (1, 0, 0, 2, 3, 0, 3): 28.258084057178866,\n",
       "             (1, 0, 0, 2, 3, 0, 5): 24.65361271737764,\n",
       "             (1, 0, 0, 2, 3, 0, 6): 20.10509338317842,\n",
       "             (1, 0, 0, 2, 3, 0, 8): 23.696459726905484,\n",
       "             (1, 0, 0, 2, 3, 0, 9): 1.03480048731333,\n",
       "             (2, 0, 1, 3, 3, 0, 2): 29.21642860788639,\n",
       "             (2, 0, 1, 3, 3, 0, 3): 26.908351766221603,\n",
       "             (2, 0, 1, 3, 3, 0, 5): 25.867738705987144,\n",
       "             (2, 0, 1, 3, 3, 0, 6): 26.549179121318964,\n",
       "             (2, 0, 1, 3, 3, 0, 8): 26.044450593004257,\n",
       "             (2, 0, 1, 3, 3, 0, 9): 26.552797044804528,\n",
       "             (2, 1, 0, 2, 3, 0, 1): 25.229790317607243,\n",
       "             (2, 1, 0, 2, 3, 0, 2): 27.84556045043012,\n",
       "             (2, 1, 0, 2, 3, 0, 3): 25.549518140201794,\n",
       "             (2, 1, 0, 2, 3, 0, 4): 24.739787312707055,\n",
       "             (2, 1, 0, 2, 3, 0, 5): 25.221248753290308,\n",
       "             (2, 1, 0, 2, 3, 0, 6): 25.85558203362113,\n",
       "             (2, 1, 0, 2, 3, 0, 7): 24.349717761224987,\n",
       "             (2, 1, 0, 2, 3, 0, 8): 22.576507284450113,\n",
       "             (2, 1, 0, 2, 3, 0, 9): 1.3702372079830245,\n",
       "             (3, 0, 1, 3, 1, 3, 5): 25.83524198597144,\n",
       "             (3, 0, 1, 3, 1, 3, 6): 24.3552396234263,\n",
       "             (3, 0, 1, 3, 1, 3, 8): 28.789897902479225,\n",
       "             (3, 0, 1, 3, 1, 3, 9): 24.919121367238418,\n",
       "             (3, 2, 2, 3, 1, 3, 4): 27.490539802415963,\n",
       "             (3, 2, 2, 3, 1, 3, 5): 16.07136762015052,\n",
       "             (3, 2, 2, 3, 1, 3, 6): 0.6224170240012957,\n",
       "             (3, 2, 2, 3, 1, 3, 7): 17.01689434263806,\n",
       "             (3, 2, 2, 3, 1, 3, 8): 1.1193931894377847,\n",
       "             (3, 2, 2, 3, 1, 3, 9): 0.8301295342437846,\n",
       "             (3, 3, 3, 3, 1, 3, 4): 0,\n",
       "             (3, 3, 3, 3, 1, 3, 5): 0,\n",
       "             (3, 3, 3, 3, 1, 3, 7): 0,\n",
       "             (3, 3, 3, 3, 1, 3, 8): 0,\n",
       "             (3, 3, 3, 1, 3, 1, 4): 1.6478350339048913,\n",
       "             (3, 3, 3, 1, 3, 1, 5): 20.62056930395434,\n",
       "             (3, 3, 3, 1, 3, 1, 7): 20.631033076590185,\n",
       "             (3, 3, 3, 1, 3, 1, 8): 29.322256512616946,\n",
       "             (3, 3, 2, 2, 3, 1, 5): 23.657678981468862,\n",
       "             (3, 3, 2, 1, 3, 1, 4): 21.835836167507786,\n",
       "             (3, 3, 2, 1, 3, 1, 5): 25.4917673340139,\n",
       "             (3, 3, 2, 1, 3, 1, 7): 1.371034318344376,\n",
       "             (3, 3, 2, 1, 3, 1, 8): 28.882693455309933,\n",
       "             (3, 2, 3, 2, 3, 1, 4): 0,\n",
       "             (3, 2, 3, 2, 3, 1, 5): 0,\n",
       "             (3, 2, 3, 2, 3, 1, 6): 0,\n",
       "             (3, 2, 3, 2, 3, 1, 7): 0,\n",
       "             (3, 2, 3, 2, 3, 1, 8): 0,\n",
       "             (3, 2, 3, 2, 3, 1, 9): 0,\n",
       "             (1, 0, 1, 0, 0, 3, 2): 0,\n",
       "             (1, 0, 1, 0, 0, 3, 3): 0,\n",
       "             (1, 0, 1, 0, 0, 3, 5): 0,\n",
       "             (1, 0, 1, 0, 0, 3, 6): 0,\n",
       "             (1, 0, 1, 0, 0, 3, 8): 0,\n",
       "             (1, 0, 1, 0, 0, 3, 9): 0,\n",
       "             (0, 0, 1, 1, 0, 3, 2): 1.5518731675755915,\n",
       "             (3, 3, 2, 0, 2, 3, 4): 19.044815803034435,\n",
       "             (3, 3, 2, 0, 2, 3, 5): 22.475512019350706,\n",
       "             (3, 3, 2, 0, 2, 3, 7): 30.500422967503166,\n",
       "             (3, 3, 2, 0, 2, 3, 8): 21.412205830001625,\n",
       "             (3, 3, 3, 1, 2, 3, 5): 8.957229655094523,\n",
       "             (3, 3, 1, 1, 2, 3, 4): 25.1805702317755,\n",
       "             (3, 3, 1, 1, 2, 3, 5): 22.384838423078964,\n",
       "             (3, 3, 1, 1, 2, 3, 7): 21.596653791951024,\n",
       "             (3, 3, 1, 1, 2, 3, 8): 29.152464565341145,\n",
       "             (2, 3, 1, 0, 2, 0, 1): 27.84848811286636,\n",
       "             (2, 3, 1, 0, 2, 0, 2): 26.410131525786774,\n",
       "             (2, 3, 1, 0, 2, 0, 4): 25.84428865148273,\n",
       "             (2, 3, 1, 0, 2, 0, 5): 25.744361374882676,\n",
       "             (2, 3, 1, 0, 2, 0, 7): 26.06944185627584,\n",
       "             (2, 3, 1, 0, 2, 0, 8): 26.093440371041485,\n",
       "             (3, 3, 2, 0, 2, 0, 4): 24.946387228141198,\n",
       "             (3, 3, 2, 0, 2, 0, 5): 25.50298524382396,\n",
       "             (3, 3, 2, 0, 2, 0, 7): 25.723379833946986,\n",
       "             (3, 3, 2, 0, 2, 0, 8): 27.617379637946243,\n",
       "             (2, 2, 3, 0, 2, 0, 1): 0.8776049197277791,\n",
       "             (2, 2, 3, 0, 2, 0, 2): 11.116044180142458,\n",
       "             (2, 2, 3, 0, 2, 0, 3): 13.115304473789056,\n",
       "             (2, 2, 3, 0, 2, 0, 4): 8.27066668789694,\n",
       "             (2, 2, 3, 0, 2, 0, 5): 10.815364322881493,\n",
       "             (2, 2, 3, 0, 2, 0, 6): 11.512346215439718,\n",
       "             (2, 2, 3, 0, 2, 0, 7): 26.911970442977108,\n",
       "             (2, 2, 3, 0, 2, 0, 8): 11.635479301223356,\n",
       "             (2, 2, 3, 0, 2, 0, 9): 12.751265327824301,\n",
       "             (3, 2, 2, 1, 2, 0, 4): 1.4043493440843984,\n",
       "             (3, 2, 2, 1, 2, 0, 5): 23.210767372693184,\n",
       "             (3, 2, 2, 1, 2, 0, 6): 26.75282752348855,\n",
       "             (3, 2, 2, 1, 2, 0, 7): 1.8379974616311126,\n",
       "             (3, 2, 2, 1, 2, 0, 8): 1.327334462621064,\n",
       "             (3, 2, 2, 1, 2, 0, 9): 24.401368212254244,\n",
       "             (2, 3, 1, 1, 2, 0, 1): 25.594954087746398,\n",
       "             (2, 3, 1, 1, 2, 0, 2): 28.00696284138857,\n",
       "             (2, 3, 1, 1, 2, 0, 4): 21.738789759541373,\n",
       "             (2, 3, 1, 1, 2, 0, 5): 25.520288489294373,\n",
       "             (2, 3, 1, 1, 2, 0, 7): 0.9982993963199743,\n",
       "             (2, 3, 1, 1, 2, 0, 8): 25.681020281664154,\n",
       "             (3, 3, 1, 1, 2, 0, 4): 27.4115804664157,\n",
       "             (3, 3, 1, 1, 2, 0, 5): 26.026221553905714,\n",
       "             (3, 3, 1, 1, 2, 0, 7): 23.313443554845083,\n",
       "             (3, 3, 1, 1, 2, 0, 8): 25.959366109480012,\n",
       "             (2, 1, 0, 3, 2, 0, 1): 24.39034357464022,\n",
       "             (2, 1, 0, 3, 2, 0, 2): 21.37951602839656,\n",
       "             (2, 1, 0, 3, 2, 0, 3): 28.45412157380963,\n",
       "             (2, 1, 0, 3, 2, 0, 4): 22.01647686733848,\n",
       "             (2, 1, 0, 3, 2, 0, 5): 22.275593090331014,\n",
       "             (2, 1, 0, 3, 2, 0, 6): 21.087170817941853,\n",
       "             (2, 1, 0, 3, 2, 0, 7): 22.268437787852072,\n",
       "             (2, 1, 0, 3, 2, 0, 8): 21.14153408767313,\n",
       "             (2, 1, 0, 3, 2, 0, 9): 13.001352331842272,\n",
       "             (3, 0, 0, 3, 2, 0, 5): 29.084924643377704,\n",
       "             (3, 0, 0, 3, 2, 0, 6): 24.947772822676257,\n",
       "             (3, 0, 0, 3, 2, 0, 8): 22.093900200601393,\n",
       "             (3, 0, 0, 3, 2, 0, 9): 23.74559332493725,\n",
       "             (3, 0, 0, 2, 2, 0, 5): 20.47486987763013,\n",
       "             (3, 0, 0, 2, 2, 0, 6): 25.53060734024227,\n",
       "             (3, 0, 0, 2, 2, 0, 8): 29.04634251508741,\n",
       "             (3, 0, 0, 2, 2, 0, 9): 25.40422998529967,\n",
       "             (2, 1, 1, 3, 2, 0, 1): 23.586758152917685,\n",
       "             (2, 1, 1, 3, 2, 0, 2): 23.838980899854118,\n",
       "             (2, 1, 1, 3, 2, 0, 3): 20.83159035952439,\n",
       "             (2, 1, 1, 3, 2, 0, 4): 27.432483151059365,\n",
       "             (2, 1, 1, 3, 2, 0, 5): 22.84582675847187,\n",
       "             (2, 1, 1, 3, 2, 0, 6): 18.610724463949214,\n",
       "             (2, 1, 1, 3, 2, 0, 7): 24.243099448718848,\n",
       "             (2, 1, 1, 3, 2, 0, 8): 23.7046655642521,\n",
       "             (2, 1, 1, 3, 2, 0, 9): 1.3653899617968552,\n",
       "             (2, 0, 1, 2, 1, 1, 2): 25.568413881146416,\n",
       "             (2, 0, 1, 2, 1, 1, 3): 26.51301524248317,\n",
       "             (2, 0, 1, 2, 1, 1, 5): 25.6406454800544,\n",
       "             (2, 0, 1, 2, 1, 1, 6): 22.86785894409169,\n",
       "             (2, 0, 1, 2, 1, 1, 8): 25.508822276105995,\n",
       "             (2, 0, 1, 2, 1, 1, 9): 2.1169516135364934,\n",
       "             (1, 0, 2, 1, 1, 1, 2): 2.17973832504535,\n",
       "             (1, 0, 2, 1, 1, 1, 3): 1.6731432331103342,\n",
       "             (1, 0, 2, 1, 1, 1, 5): 21.68731774126607,\n",
       "             (1, 0, 2, 1, 1, 1, 6): 1.046836876687275,\n",
       "             (1, 0, 2, 1, 1, 1, 8): 25.35891507621512,\n",
       "             (1, 0, 2, 1, 1, 1, 9): 28.052873771189866,\n",
       "             (0, 0, 2, 0, 1, 1, 2): 1.2560884125665166,\n",
       "             (0, 0, 2, 0, 1, 1, 3): 14.979852257847403,\n",
       "             (0, 0, 2, 0, 1, 1, 5): 17.364954685342536,\n",
       "             (0, 0, 2, 0, 1, 1, 6): 27.21143872371372,\n",
       "             (0, 0, 1, 0, 1, 1, 2): 0.7649090483824484,\n",
       "             (0, 0, 1, 0, 1, 1, 3): 0.5354183770103573,\n",
       "             (0, 0, 1, 0, 1, 1, 5): 1.1130573840877978,\n",
       "             (0, 0, 1, 0, 1, 1, 6): 20.991226063429018,\n",
       "             (1, 0, 1, 0, 1, 1, 2): 0,\n",
       "             (1, 0, 1, 0, 1, 1, 3): 0,\n",
       "             (1, 0, 1, 0, 1, 1, 5): 0,\n",
       "             (1, 0, 1, 0, 1, 1, 6): 0,\n",
       "             (1, 0, 1, 0, 1, 1, 8): 0,\n",
       "             (1, 0, 1, 0, 1, 1, 9): 0,\n",
       "             (1, 0, 1, 2, 1, 3, 6): 1.0639967769371457,\n",
       "             (3, 0, 2, 2, 0, 2, 5): 25.81622392003121,\n",
       "             (3, 0, 2, 2, 0, 2, 6): 22.945513679763437,\n",
       "             (3, 0, 2, 2, 0, 2, 8): 27.940211976723827,\n",
       "             (3, 0, 2, 2, 0, 2, 9): 1.7023388032938882,\n",
       "             (3, 0, 2, 3, 0, 2, 5): 26.313540985237847,\n",
       "             (2, 0, 2, 2, 0, 2, 2): 24.898089763922787,\n",
       "             (2, 0, 2, 2, 0, 2, 3): 20.639547079666855,\n",
       "             (2, 0, 2, 2, 0, 2, 5): 25.424177147082162,\n",
       "             (2, 0, 2, 2, 0, 2, 6): 1.3976805163938564,\n",
       "             (2, 0, 2, 2, 0, 2, 8): 28.764477883980838,\n",
       "             (2, 0, 2, 2, 0, 2, 9): 25.05667483495429,\n",
       "             (1, 0, 3, 2, 0, 2, 2): 25.584095162882196,\n",
       "             (1, 0, 3, 2, 0, 2, 3): 24.051612662707957,\n",
       "             (1, 0, 3, 2, 0, 2, 5): 26.0988976564551,\n",
       "             (1, 0, 3, 2, 0, 2, 6): 26.706377994386497,\n",
       "             (1, 0, 3, 2, 0, 2, 8): 28.29929243015875,\n",
       "             (1, 0, 3, 2, 0, 2, 9): 25.916270873709585,\n",
       "             (2, 0, 2, 1, 0, 2, 2): 18.434122388390204,\n",
       "             (2, 0, 2, 1, 0, 2, 3): 1.087257884126098,\n",
       "             (2, 0, 2, 1, 0, 2, 5): 1.611091693822568,\n",
       "             (2, 0, 2, 1, 0, 2, 6): 1.0833512058093013,\n",
       "             (2, 0, 2, 1, 0, 2, 8): 24.287623224779928,\n",
       "             (2, 0, 2, 1, 0, 2, 9): 1.8050405332640351,\n",
       "             (1, 1, 1, 1, 0, 2, 1): 0,\n",
       "             (1, 1, 1, 1, 0, 2, 2): 0,\n",
       "             (1, 1, 1, 1, 0, 2, 3): 0,\n",
       "             (1, 1, 1, 1, 0, 2, 4): 0,\n",
       "             (1, 1, 1, 1, 0, 2, 5): 0,\n",
       "             (1, 1, 1, 1, 0, 2, 6): 0,\n",
       "             (1, 1, 1, 1, 0, 2, 7): 0,\n",
       "             (1, 1, 1, 1, 0, 2, 8): 0,\n",
       "             (1, 1, 1, 1, 0, 2, 9): 0,\n",
       "             (0, 2, 3, 2, 3, 0, 1): 25.280344257995907,\n",
       "             (0, 2, 3, 2, 3, 0, 2): 25.403429107751123,\n",
       "             (0, 2, 3, 2, 3, 0, 3): 25.052264677410975,\n",
       "             (0, 2, 3, 2, 3, 0, 4): 28.03582577222409,\n",
       "             (0, 2, 3, 2, 3, 0, 5): 25.19486556427692,\n",
       "             (0, 2, 3, 2, 3, 0, 6): 23.955160959980617,\n",
       "             (0, 1, 2, 2, 3, 0, 6): 25.23733795887399,\n",
       "             (1, 1, 3, 1, 3, 0, 1): 19.86100601053134,\n",
       "             (1, 1, 3, 1, 3, 0, 2): 1.034179886322576,\n",
       "             (1, 1, 3, 1, 3, 0, 3): 21.7071014652764,\n",
       "             (1, 1, 3, 1, 3, 0, 4): 24.1938512841759,\n",
       "             (1, 1, 3, 1, 3, 0, 5): 23.656177091854115,\n",
       "             (1, 1, 3, 1, 3, 0, 6): 23.39469829578071,\n",
       "             (1, 1, 3, 1, 3, 0, 7): 24.07059136578837,\n",
       "             (1, 1, 3, 1, 3, 0, 8): 26.931840535917846,\n",
       "             (1, 1, 3, 1, 3, 0, 9): 24.449354153872193,\n",
       "             (0, 1, 3, 0, 3, 0, 1): 23.632603943584485,\n",
       "             (0, 1, 3, 0, 3, 0, 2): 24.224553249835857,\n",
       "             (0, 1, 3, 0, 3, 0, 3): 24.175005265518028,\n",
       "             (0, 1, 3, 0, 3, 0, 4): 23.804738607195702,\n",
       "             (0, 1, 3, 0, 3, 0, 5): 23.895767443717578,\n",
       "             (0, 1, 3, 0, 3, 0, 6): 26.722059682855445,\n",
       "             (1, 0, 2, 1, 3, 0, 2): 1.2307151294782759,\n",
       "             (1, 0, 2, 1, 3, 0, 3): 1.1258371927670283,\n",
       "             (1, 0, 2, 1, 3, 0, 5): 19.91449895387299,\n",
       "             (1, 0, 2, 1, 3, 0, 6): 1.141439054186951,\n",
       "             (1, 0, 2, 1, 3, 0, 8): 23.92468199023079,\n",
       "             (1, 0, 2, 1, 3, 0, 9): 27.455640819765687,\n",
       "             (2, 0, 2, 0, 3, 0, 2): 0,\n",
       "             (2, 0, 2, 0, 3, 0, 3): 0,\n",
       "             (2, 0, 2, 0, 3, 0, 5): 0,\n",
       "             (2, 0, 2, 0, 3, 0, 6): 0,\n",
       "             (2, 0, 2, 0, 3, 0, 8): 0,\n",
       "             (2, 0, 2, 0, 3, 0, 9): 0,\n",
       "             (0, 3, 2, 3, 2, 0, 1): 11.771692316224678,\n",
       "             (0, 3, 2, 3, 2, 0, 2): 0.7617932135427057,\n",
       "             (0, 3, 2, 3, 2, 0, 4): 26.67204621448936,\n",
       "             (0, 3, 2, 3, 2, 0, 5): 14.555623525966128,\n",
       "             (1, 3, 3, 2, 2, 0, 8): 25.370207978530217,\n",
       "             (0, 2, 3, 3, 2, 0, 1): 25.76998790475543,\n",
       "             (0, 2, 3, 3, 2, 0, 2): 25.761668656024014,\n",
       "             (0, 2, 3, 3, 2, 0, 3): 25.686778441666576,\n",
       "             (0, 2, 3, 3, 2, 0, 4): 26.182376553395233,\n",
       "             (0, 2, 3, 3, 2, 0, 5): 27.38599411099006,\n",
       "             (0, 2, 3, 3, 2, 0, 6): 25.183997341488897,\n",
       "             (0, 1, 3, 3, 2, 0, 1): 26.468747048845156,\n",
       "             (0, 1, 3, 3, 2, 0, 2): 26.951169901190013,\n",
       "             (0, 1, 3, 3, 2, 0, 3): 27.955312806154794,\n",
       "             (0, 1, 3, 3, 2, 0, 4): 26.4480505301133,\n",
       "             (0, 1, 3, 3, 2, 0, 5): 26.57043004856393,\n",
       "             (0, 1, 3, 3, 2, 0, 6): 26.310353240883785,\n",
       "             (1, 2, 2, 2, 2, 0, 1): 1.399729338501849,\n",
       "             (1, 2, 2, 2, 2, 0, 2): 1.4027402352341494,\n",
       "             (1, 2, 2, 2, 2, 0, 3): 1.182229827279327,\n",
       "             (1, 2, 2, 2, 2, 0, 4): 22.52406318989434,\n",
       "             (1, 2, 2, 2, 2, 0, 5): 1.3283996455366065,\n",
       "             (1, 2, 2, 2, 2, 0, 6): 22.342646809699477,\n",
       "             (1, 2, 2, 2, 2, 0, 7): 24.44561421873585,\n",
       "             (1, 2, 2, 2, 2, 0, 8): 27.61366536112969,\n",
       "             (1, 2, 2, 2, 2, 0, 9): 23.950463066243735,\n",
       "             (2, 3, 2, 3, 2, 0, 1): 0,\n",
       "             (2, 3, 2, 3, 2, 0, 2): 0,\n",
       "             (2, 3, 2, 3, 2, 0, 4): 0,\n",
       "             (2, 3, 2, 3, 2, 0, 5): 0,\n",
       "             (2, 3, 2, 3, 2, 0, 7): 0,\n",
       "             (2, 3, 2, 3, 2, 0, 8): 0,\n",
       "             (2, 0, 3, 2, 3, 3, 2): 24.95271204384456,\n",
       "             (2, 0, 3, 2, 3, 3, 3): 1.0372817885818248,\n",
       "             (2, 0, 3, 2, 3, 3, 5): 25.762727129341073,\n",
       "             (2, 0, 3, 2, 3, 3, 6): 23.22385521305653,\n",
       "             (2, 0, 3, 2, 3, 3, 8): 26.97330197326071,\n",
       "             (2, 0, 3, 2, 3, 3, 9): 25.81716637419811,\n",
       "             (3, 0, 3, 2, 3, 3, 8): 28.153963552250154,\n",
       "             (2, 1, 3, 3, 3, 3, 1): 31.268797969133246,\n",
       "             (2, 1, 3, 3, 3, 3, 2): 12.977334628553074,\n",
       "             (2, 1, 3, 3, 3, 3, 3): 1.059169913560773,\n",
       "             (2, 1, 3, 3, 3, 3, 4): 14.195263064561857,\n",
       "             (2, 1, 3, 3, 3, 3, 5): 11.581632816456143,\n",
       "             (2, 1, 3, 3, 3, 3, 6): 9.706561595657222,\n",
       "             (2, 1, 3, 3, 3, 3, 7): 14.173641936802364,\n",
       "             (2, 1, 3, 3, 3, 3, 8): 11.849182690528163,\n",
       "             (2, 1, 3, 3, 3, 3, 9): 16.238005794956006,\n",
       "             (2, 2, 2, 2, 3, 3, 1): 0,\n",
       "             (2, 2, 2, 2, 3, 3, 2): 0,\n",
       "             (2, 2, 2, 2, 3, 3, 3): 0,\n",
       "             (2, 2, 2, 2, 3, 3, 4): 0,\n",
       "             (2, 2, 2, 2, 3, 3, 5): 0,\n",
       "             (2, 2, 2, 2, 3, 3, 6): 0,\n",
       "             (2, 2, 2, 2, 3, 3, 7): 0,\n",
       "             (2, 2, 2, 2, 3, 3, 8): 0,\n",
       "             (2, 2, 2, 2, 3, 3, 9): 0,\n",
       "             (1, 2, 1, 0, 1, 0, 1): 16.873205517938736,\n",
       "             (1, 2, 1, 0, 1, 0, 2): 18.578373318219867,\n",
       "             (1, 2, 1, 0, 1, 0, 3): 21.39684609393349,\n",
       "             (1, 2, 1, 0, 1, 0, 4): 1.3538764347096317,\n",
       "             (1, 2, 1, 0, 1, 0, 5): 20.205286649744583,\n",
       "             (1, 2, 1, 0, 1, 0, 6): 20.372833183688428,\n",
       "             (1, 2, 1, 0, 1, 0, 7): 16.097092581210337,\n",
       "             (1, 2, 1, 0, 1, 0, 8): 20.669899852730296,\n",
       "             (1, 2, 1, 0, 1, 0, 9): 27.31347552648913,\n",
       "             (0, 3, 2, 1, 1, 0, 1): 24.31989686873718,\n",
       "             (2, 1, 1, 0, 1, 0, 1): 17.09247142720794,\n",
       "             (2, 1, 1, 0, 1, 0, 2): 15.276718000992542,\n",
       "             (2, 1, 1, 0, 1, 0, 3): 19.586270585544142,\n",
       "             (2, 1, 1, 0, 1, 0, 4): 1.3099160016838307,\n",
       "             (2, 1, 1, 0, 1, 0, 5): 17.253576209642226,\n",
       "             (2, 1, 1, 0, 1, 0, 6): 28.339483653307834,\n",
       "             (2, 1, 1, 0, 1, 0, 7): 2.1957220548293592,\n",
       "             (2, 1, 1, 0, 1, 0, 8): 1.0135275135091895,\n",
       "             (2, 1, 1, 0, 1, 0, 9): 15.617334197110672,\n",
       "             (1, 2, 2, 0, 1, 0, 1): 1.6323826246873587,\n",
       "             (1, 2, 2, 0, 1, 0, 2): 23.668626441258084,\n",
       "             (1, 2, 2, 0, 1, 0, 3): 23.437740771518076,\n",
       "             (1, 2, 2, 0, 1, 0, 4): 20.888671874982947,\n",
       "             (1, 2, 2, 0, 1, 0, 5): 27.42978544695429,\n",
       "             (1, 2, 2, 0, 1, 0, 6): 23.465776689217467,\n",
       "             (1, 2, 2, 0, 1, 0, 7): 23.91953011706714,\n",
       "             (1, 2, 2, 0, 1, 0, 8): 23.496055305501923,\n",
       "             (1, 2, 2, 0, 1, 0, 9): 23.816628943707833,\n",
       "             (1, 1, 3, 1, 1, 0, 1): 13.672785672672823,\n",
       "             (1, 1, 3, 1, 1, 0, 2): 1.5703394228737835,\n",
       "             (1, 1, 3, 1, 1, 0, 3): 18.176117167256557,\n",
       "             (1, 1, 3, 1, 1, 0, 4): 19.194451301245035,\n",
       "             (1, 1, 3, 1, 1, 0, 5): 17.23291877353628,\n",
       "             (1, 1, 3, 1, 1, 0, 6): 16.777414530878634,\n",
       "             (1, 1, 3, 1, 1, 0, 7): 19.193190944788505,\n",
       "             (1, 1, 3, 1, 1, 0, 8): 18.6509596181524,\n",
       "             (1, 1, 3, 1, 1, 0, 9): 28.17369353279523,\n",
       "             (1, 0, 3, 2, 0, 3, 2): 24.71787769042375,\n",
       "             (1, 0, 3, 2, 0, 3, 3): 22.917185559805414,\n",
       "             (1, 0, 3, 2, 0, 3, 5): 25.950143508762924,\n",
       "             (1, 0, 3, 2, 0, 3, 6): 25.457676538242136,\n",
       "             (1, 0, 3, 2, 0, 3, 8): 27.85563574963654,\n",
       "             (1, 0, 3, 2, 0, 3, 9): 25.247830164012118,\n",
       "             (0, 1, 3, 1, 0, 3, 1): 25.8960719657318,\n",
       "             (0, 1, 3, 1, 0, 3, 2): 26.173546384669717,\n",
       "             (0, 1, 3, 1, 0, 3, 3): 27.60585955058979,\n",
       "             (0, 1, 3, 1, 0, 3, 4): 25.99076984350738,\n",
       "             (0, 1, 3, 1, 0, 3, 5): 26.13077278572228,\n",
       "             (0, 1, 3, 1, 0, 3, 6): 26.37049187754203,\n",
       "             (0, 1, 2, 2, 0, 3, 1): 24.701682492135085,\n",
       "             (0, 1, 2, 2, 0, 3, 2): 23.021135476906252,\n",
       "             (0, 1, 2, 2, 0, 3, 3): 1.7285934746345435,\n",
       "             (0, 1, 2, 2, 0, 3, 4): 25.116197269411145,\n",
       "             (0, 1, 2, 2, 0, 3, 5): 26.398743788666028,\n",
       "             (0, 1, 2, 2, 0, 3, 6): 24.979335297740526,\n",
       "             (1, 0, 2, 3, 0, 3, 2): 25.163294157476635,\n",
       "             (1, 0, 2, 3, 0, 3, 3): 27.413583250540324,\n",
       "             (1, 0, 2, 3, 0, 3, 5): 25.48112080892182,\n",
       "             (1, 0, 2, 3, 0, 3, 6): 25.721543216978638,\n",
       "             (1, 0, 2, 3, 0, 3, 8): 25.102820493411414,\n",
       "             (1, 0, 2, 3, 0, 3, 9): 25.86572245056551,\n",
       "             (2, 1, 3, 2, 0, 3, 1): 16.04667278961228,\n",
       "             (2, 1, 3, 2, 0, 3, 2): 0.9593403659942608,\n",
       "             (2, 1, 3, 2, 0, 3, 3): 0.9404756628251818,\n",
       "             (2, 1, 3, 2, 0, 3, 4): 20.902694974176427,\n",
       "             (2, 1, 3, 2, 0, 3, 5): 14.68714506796455,\n",
       "             (2, 1, 3, 2, 0, 3, 6): 1.27355587233219,\n",
       "             (2, 1, 3, 2, 0, 3, 7): 18.7340594330716,\n",
       "             (2, 1, 3, 2, 0, 3, 8): 27.5531250853227,\n",
       "             (2, 1, 3, 2, 0, 3, 9): 18.886438207793738,\n",
       "             (3, 1, 3, 1, 0, 3, 4): 0,\n",
       "             (3, 1, 3, 1, 0, 3, 5): 0,\n",
       "             (3, 1, 3, 1, 0, 3, 6): 0,\n",
       "             (3, 1, 3, 1, 0, 3, 7): 0,\n",
       "             (3, 1, 3, 1, 0, 3, 8): 0,\n",
       "             (3, 1, 3, 1, 0, 3, 9): 0,\n",
       "             (2, 1, 1, 1, 3, 0, 1): 23.968305340091604,\n",
       "             (2, 1, 1, 1, 3, 0, 2): 24.090266152261055,\n",
       "             (2, 1, 1, 1, 3, 0, 3): 26.439880617600146,\n",
       "             (2, 1, 1, 1, 3, 0, 4): 23.193966440996537,\n",
       "             (2, 1, 1, 1, 3, 0, 5): 1.6444238887280633,\n",
       "             (2, 1, 1, 1, 3, 0, 6): 20.492032094952513,\n",
       "             (2, 1, 1, 1, 3, 0, 7): 1.1820009855262463,\n",
       "             (2, 1, 1, 1, 3, 0, 8): 1.0749799398653959,\n",
       "             (2, 1, 1, 1, 3, 0, 9): 1.7633398797342055,\n",
       "             (2, 0, 1, 1, 3, 0, 2): 23.385106504192652,\n",
       "             (2, 0, 1, 1, 3, 0, 3): 28.211130008972788,\n",
       "             (2, 0, 1, 1, 3, 0, 5): 20.416890642459094,\n",
       "             (2, 0, 1, 1, 3, 0, 6): 1.0596238435465644,\n",
       "             (2, 0, 1, 1, 3, 0, 8): 1.0183862368217866,\n",
       "             (2, 0, 1, 1, 3, 0, 9): 1.2511976471778852,\n",
       "             (2, 1, 2, 1, 3, 0, 1): 0,\n",
       "             (2, 1, 2, 1, 3, 0, 2): 0,\n",
       "             (2, 1, 2, 1, 3, 0, 3): 0,\n",
       "             (2, 1, 2, 1, 3, 0, 4): 0,\n",
       "             (2, 1, 2, 1, 3, 0, 5): 0,\n",
       "             (2, 1, 2, 1, 3, 0, 6): 0,\n",
       "             (2, 1, 2, 1, 3, 0, 7): 0,\n",
       "             (2, 1, 2, 1, 3, 0, 8): 0,\n",
       "             (2, 1, 2, 1, 3, 0, 9): 0,\n",
       "             (0, 3, 0, 3, 1, 2, 1): 0,\n",
       "             (0, 3, 0, 3, 1, 2, 2): 0,\n",
       "             (0, 3, 0, 3, 1, 2, 4): 0,\n",
       "             (0, 3, 0, 3, 1, 2, 5): 0,\n",
       "             (0, 3, 1, 3, 1, 2, 5): 0.8610174644421774,\n",
       "             (3, 0, 1, 2, 0, 1, 5): 25.854273984550023,\n",
       "             (3, 0, 1, 2, 0, 1, 6): 27.294665385496668,\n",
       "             (3, 0, 1, 2, 0, 1, 8): 26.062435820069766,\n",
       "             (3, 0, 1, 2, 0, 1, 9): 25.35051938652496,\n",
       "             (2, 0, 2, 3, 0, 1, 2): 26.55609309757444,\n",
       "             (3, 0, 0, 2, 0, 1, 5): 26.071967592006107,\n",
       "             (3, 0, 0, 2, 0, 1, 6): 27.64378060863311,\n",
       "             (3, 0, 0, 2, 0, 1, 8): 26.186741141909984,\n",
       "             (3, 0, 0, 2, 0, 1, 9): 26.47926427520038,\n",
       "             (2, 1, 0, 3, 0, 1, 1): 25.042989301099585,\n",
       "             (2, 1, 0, 3, 0, 1, 2): 24.646094978565866,\n",
       "             (2, 1, 0, 3, 0, 1, 3): 24.123869828399506,\n",
       "             (2, 1, 0, 3, 0, 1, 4): 27.376547077059016,\n",
       "             (2, 1, 0, 3, 0, 1, 5): 24.009896408383323,\n",
       "             (2, 1, 0, 3, 0, 1, 6): 23.716840919608178,\n",
       "             (2, 1, 0, 3, 0, 1, 7): 25.29341139186092,\n",
       "             (2, 1, 0, 3, 0, 1, 8): 22.652162536707564,\n",
       "             (2, 1, 0, 3, 0, 1, 9): 16.948912307598242,\n",
       "             (3, 2, 1, 3, 0, 1, 4): 25.32571826328259,\n",
       "             (3, 2, 1, 3, 0, 1, 5): 24.561585859568385,\n",
       "             (3, 2, 1, 3, 0, 1, 6): 23.573511691469456,\n",
       "             (3, 2, 1, 3, 0, 1, 7): 27.631522116020985,\n",
       "             (3, 2, 1, 3, 0, 1, 8): 22.93009399988593,\n",
       "             (3, 2, 1, 3, 0, 1, 9): 1.2701682844706557,\n",
       "             (3, 2, 1, 2, 0, 1, 4): 26.948534629670064,\n",
       "             (3, 2, 1, 2, 0, 1, 5): 25.048863373997158,\n",
       "             (3, 2, 1, 2, 0, 1, 6): 24.482075890307108,\n",
       "             (3, 2, 1, 2, 0, 1, 7): 23.469163702263938,\n",
       "             (3, 2, 1, 2, 0, 1, 8): 1.7015916250281007,\n",
       "             (3, 2, 1, 2, 0, 1, 9): 22.166691929891513,\n",
       "             (2, 2, 2, 2, 0, 1, 1): 0,\n",
       "             (2, 2, 2, 2, 0, 1, 2): 0,\n",
       "             (2, 2, 2, 2, 0, 1, 3): 0,\n",
       "             (2, 2, 2, 2, 0, 1, 4): 0,\n",
       "             (2, 2, 2, 2, 0, 1, 5): 0,\n",
       "             (2, 2, 2, 2, 0, 1, 6): 0,\n",
       "             (2, 2, 2, 2, 0, 1, 7): 0,\n",
       "             (2, 2, 2, 2, 0, 1, 8): 0,\n",
       "             (2, 2, 2, 2, 0, 1, 9): 0,\n",
       "             (2, 3, 0, 1, 0, 2, 1): 24.963108257133882,\n",
       "             (2, 3, 0, 1, 0, 2, 2): 25.14567495100545,\n",
       "             (2, 3, 0, 1, 0, 2, 4): 25.614529520941367,\n",
       "             (2, 3, 0, 1, 0, 2, 5): 28.256444137751384,\n",
       "             (2, 3, 0, 1, 0, 2, 7): 22.38144909356245,\n",
       "             (2, 3, 0, 1, 0, 2, 8): 25.762703051365328,\n",
       "             (3, 3, 1, 0, 0, 2, 8): 25.77011130184019,\n",
       "             (1, 3, 0, 2, 0, 2, 1): 28.246128441500446,\n",
       "             (1, 3, 0, 2, 0, 2, 2): 14.506422082135295,\n",
       "             (1, 3, 0, 2, 0, 2, 4): 1.5511462572749761,\n",
       "             (1, 3, 0, 2, 0, 2, 5): 15.375253997104108,\n",
       "             (1, 3, 0, 2, 0, 2, 7): 0.9348875323920903,\n",
       "             (1, 3, 0, 2, 0, 2, 8): 1.5699343994009083,\n",
       "             (0, 3, 0, 3, 0, 2, 1): 0,\n",
       "             (0, 3, 0, 3, 0, 2, 2): 0,\n",
       "             (0, 3, 0, 3, 0, 2, 4): 0,\n",
       "             (0, 3, 0, 3, 0, 2, 5): 0,\n",
       "             (3, 3, 2, 0, 3, 0, 4): 24.768522883153906,\n",
       "             (3, 3, 2, 0, 3, 0, 5): 25.718556670460316,\n",
       "             (3, 3, 2, 0, 3, 0, 7): 25.48088227963615,\n",
       "             (3, 3, 2, 0, 3, 0, 8): 27.714334184469898,\n",
       "             (2, 3, 2, 1, 3, 0, 2): 25.086234363393856,\n",
       "             (3, 2, 3, 1, 3, 0, 4): 1.423572974699181,\n",
       "             (3, 2, 3, 1, 3, 0, 5): 0.7387971556415858,\n",
       "             (3, 2, 3, 1, 3, 0, 6): 26.855210133883432,\n",
       "             (3, 2, 3, 1, 3, 0, 7): 2.5259574902558555,\n",
       "             (3, 2, 3, 1, 3, 0, 8): 11.183054064433971,\n",
       "             (3, 2, 3, 1, 3, 0, 9): 17.78741087742271,\n",
       "             (3, 3, 2, 1, 3, 0, 4): 22.933767378562035,\n",
       "             (3, 3, 2, 1, 3, 0, 5): 24.926922701954126,\n",
       "             (3, 3, 2, 1, 3, 0, 7): 2.242067101029627,\n",
       "             ...})"
      ]
     },
     "execution_count": 29,
     "metadata": {},
     "output_type": "execute_result"
    }
   ],
   "source": [
    "ql.qmap"
   ]
  },
  {
   "cell_type": "markdown",
   "metadata": {},
   "source": [
    "Show the agent's strategy in real time."
   ]
  },
  {
   "cell_type": "code",
   "execution_count": 30,
   "metadata": {},
   "outputs": [
    {
     "name": "stdout",
     "output_type": "stream",
     "text": [
      "Total score = 190\n"
     ]
    }
   ],
   "source": [
    "obs = env.reset()\n",
    "env.render()\n",
    "state = get_state(obs)\n",
    "while not obs['end_game']:\n",
    "    time.sleep(0.1)\n",
    "    # select best next action using Q-Learning (no random component here, eps=0)\n",
    "    action = strategy(ql, state, obs['possible_actions'], eps=0)\n",
    "    obs = env.make_action(action)\n",
    "    state = get_state(obs)\n",
    "    env.render()\n",
    "\n",
    "print('Total score = {}'.format(obs['total_score']))"
   ]
  },
  {
   "cell_type": "code",
   "execution_count": 31,
   "metadata": {},
   "outputs": [],
   "source": [
    "env.close()"
   ]
  },
  {
   "cell_type": "markdown",
   "metadata": {},
   "source": [
    "The estimated Q-value function for this simple game on $4 \\times 4$-field is very large."
   ]
  },
  {
   "cell_type": "code",
   "execution_count": 32,
   "metadata": {
    "scrolled": true
   },
   "outputs": [
    {
     "data": {
      "text/plain": [
       "24000"
      ]
     },
     "execution_count": 32,
     "metadata": {},
     "output_type": "execute_result"
    }
   ],
   "source": [
    "len(ql.qmap)"
   ]
  },
  {
   "cell_type": "markdown",
   "metadata": {},
   "source": [
    "Note that when the game is more complex than 1 monster and 1 diamond the size of `ql.qmap` is **extremely large**. \n",
    "\n",
    "In general case number of all possible states can be estimated as $(a\\cdot b)^{1+N_\\text{monsters}+N_\\text{diamonds} +N_\\text{walls}}$, where $(a,b)$ is the shape of the field. Multiply it by $9$ to get an estimate to all state-action pairs. \n",
    "\n",
    "Billions of games will have to be played for each $\\varepsilon$ to reach every state. \n",
    "\n",
    "It is evident, that proposed solution is not well-scalable. **Deep neural network** (**DQN**) approach has to be used to approximate Q-Values for all possible actions given current state $s$."
   ]
  }
 ],
 "metadata": {
  "kernelspec": {
   "display_name": "Python 3",
   "language": "python",
   "name": "python3"
  },
  "language_info": {
   "codemirror_mode": {
    "name": "ipython",
    "version": 3
   },
   "file_extension": ".py",
   "mimetype": "text/x-python",
   "name": "python",
   "nbconvert_exporter": "python",
   "pygments_lexer": "ipython3",
   "version": "3.6.4"
  },
  "toc": {
   "base_numbering": 1,
   "nav_menu": {},
   "number_sections": true,
   "sideBar": true,
   "skip_h1_title": false,
   "title_cell": "Table of Contents",
   "title_sidebar": "Contents",
   "toc_cell": false,
   "toc_position": {},
   "toc_section_display": true,
   "toc_window_display": false
  }
 },
 "nbformat": 4,
 "nbformat_minor": 2
}
