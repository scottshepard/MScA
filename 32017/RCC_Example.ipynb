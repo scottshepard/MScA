{
 "cells": [
  {
   "cell_type": "markdown",
   "metadata": {},
   "source": [
    "# ILykei Lecture Series\n",
    "# Advanced Machine Learning and Artificial Intelligence\n",
    "\n",
    "\n",
    "## Project: MNIST by Simple NN. How to run it on RCC?\n",
    "\n",
    "\n",
    "## Yuri Balasanov, &copy; iLykei 2018\n",
    "\n",
    "##### Main source: [Keras Documentation](https://github.com/keras-team/keras/tree/master/examples)\n",
    "\n",
    "This notebook shows how to train a simple neural network on the MNIST dataset using GPU on RCC."
   ]
  },
  {
   "cell_type": "markdown",
   "metadata": {},
   "source": [
    "There are complete and clear instructions on connecting and running a project on RCC GPU using TensorFlow/Keras [here](https://git.rcc.uchicago.edu/ivy2/TF_midway2).     \n",
    "\n",
    "## Job running steps     \n",
    "\n",
    "### Step 1. Create python code    \n",
    "\n",
    "File with python code that runs on a GPU node on RCC can be created from Jupyter python notebook.    \n",
    "\n",
    "Use, for example, a simple and shallow sequential network analyzing MNIST data."
   ]
  },
  {
   "cell_type": "code",
   "execution_count": 1,
   "metadata": {},
   "outputs": [
    {
     "name": "stderr",
     "output_type": "stream",
     "text": [
      "/home/yuri/anaconda3/envs/tensorflow/lib/python3.6/importlib/_bootstrap.py:219: RuntimeWarning: numpy.dtype size changed, may indicate binary incompatibility. Expected 96, got 88\n",
      "  return f(*args, **kwds)\n",
      "Using TensorFlow backend.\n",
      "/home/yuri/anaconda3/envs/tensorflow/lib/python3.6/importlib/_bootstrap.py:219: RuntimeWarning: numpy.dtype size changed, may indicate binary incompatibility. Expected 96, got 88\n",
      "  return f(*args, **kwds)\n",
      "/home/yuri/anaconda3/envs/tensorflow/lib/python3.6/importlib/_bootstrap.py:219: RuntimeWarning: numpy.dtype size changed, may indicate binary incompatibility. Expected 96, got 88\n",
      "  return f(*args, **kwds)\n"
     ]
    }
   ],
   "source": [
    "from __future__ import print_function\n",
    "\n",
    "import keras\n",
    "from keras.datasets import mnist\n",
    "from keras.models import Sequential\n",
    "from keras.layers import Dense\n",
    "from keras.optimizers import RMSprop\n",
    "import matplotlib as mpl\n",
    "from matplotlib import pyplot as plt\n",
    "import numpy as np\n",
    "import imageio"
   ]
  },
  {
   "cell_type": "markdown",
   "metadata": {},
   "source": [
    "Set main parameters."
   ]
  },
  {
   "cell_type": "code",
   "execution_count": 2,
   "metadata": {},
   "outputs": [],
   "source": [
    "batch_size = 128\n",
    "num_classes = 10\n",
    "epochs = 20"
   ]
  },
  {
   "cell_type": "markdown",
   "metadata": {},
   "source": [
    "Load the data, create train and test samples."
   ]
  },
  {
   "cell_type": "code",
   "execution_count": 3,
   "metadata": {},
   "outputs": [
    {
     "name": "stdout",
     "output_type": "stream",
     "text": [
      "Shape x_train:  (60000, 28, 28)\n"
     ]
    }
   ],
   "source": [
    "# the data, split between train and test sets\n",
    "(x_train, y_train), (x_test, y_test) = mnist.load_data()\n",
    "print('Shape x_train: ',x_train.shape)"
   ]
  },
  {
   "cell_type": "markdown",
   "metadata": {},
   "source": [
    "The code in the cell below does visualization. It can work in the notebook, but needs to be removed before running on the cluster. To remove the code simply change the cell type from \"Code\" to \"Markdown\" before downloading the file as python."
   ]
  },
  {
   "cell_type": "code",
   "execution_count": 4,
   "metadata": {},
   "outputs": [
    {
     "name": "stdout",
     "output_type": "stream",
     "text": [
      "Shape:  (28, 28)\n"
     ]
    },
    {
     "data": {
      "image/png": "[encoded data removed]",
      "text/plain": [
       "<Figure size 432x288 with 1 Axes>"
      ]
     },
     "metadata": {},
     "output_type": "display_data"
    }
   ],
   "source": [
    "# Remove when make file for RCC GPU\n",
    "first_image = x_train[0]\n",
    "print('Shape: ',first_image.shape)\n",
    "#first_image = np.array(first_image, dtype='float')\n",
    "#print('First label: ',y_train[0])\n",
    "\n",
    "plt.imshow(first_image, cmap='gray')\n",
    "plt.show()"
   ]
  },
  {
   "cell_type": "markdown",
   "metadata": {},
   "source": [
    "Flatten and normalize the train and test samples images"
   ]
  },
  {
   "cell_type": "code",
   "execution_count": 5,
   "metadata": {},
   "outputs": [
    {
     "name": "stdout",
     "output_type": "stream",
     "text": [
      "60000 train samples\n",
      "10000 test samples\n"
     ]
    }
   ],
   "source": [
    "x_train = x_train.reshape(60000, 784) # each image as vector 784=28*28\n",
    "x_test = x_test.reshape(10000, 784)\n",
    "x_train = x_train.astype('float32')\n",
    "x_test = x_test.astype('float32')\n",
    "x_train /= 255\n",
    "x_test /= 255\n",
    "print(x_train.shape[0], 'train samples')\n",
    "print(x_test.shape[0], 'test samples')"
   ]
  },
  {
   "cell_type": "markdown",
   "metadata": {},
   "source": [
    "Convert class vectors to binary class matrices."
   ]
  },
  {
   "cell_type": "code",
   "execution_count": 6,
   "metadata": {},
   "outputs": [
    {
     "name": "stdout",
     "output_type": "stream",
     "text": [
      "Row size of y_train:  (10,)\n",
      "y_train: \n",
      " [[0. 0. 0. 0. 0. 1. 0. 0. 0. 0.]\n",
      " [1. 0. 0. 0. 0. 0. 0. 0. 0. 0.]\n",
      " [0. 0. 0. 0. 1. 0. 0. 0. 0. 0.]\n",
      " [0. 1. 0. 0. 0. 0. 0. 0. 0. 0.]\n",
      " [0. 0. 0. 0. 0. 0. 0. 0. 0. 1.]\n",
      " [0. 0. 1. 0. 0. 0. 0. 0. 0. 0.]]\n",
      "y_test: \n",
      " [[0. 0. 0. 0. 0. 0. 0. 1. 0. 0.]\n",
      " [0. 0. 1. 0. 0. 0. 0. 0. 0. 0.]\n",
      " [0. 1. 0. 0. 0. 0. 0. 0. 0. 0.]\n",
      " [1. 0. 0. 0. 0. 0. 0. 0. 0. 0.]\n",
      " [0. 0. 0. 0. 1. 0. 0. 0. 0. 0.]\n",
      " [0. 1. 0. 0. 0. 0. 0. 0. 0. 0.]]\n"
     ]
    }
   ],
   "source": [
    "y_train = keras.utils.to_categorical(y_train, num_classes)\n",
    "y_test = keras.utils.to_categorical(y_test, num_classes)\n",
    "print('Row size of y_train: ',y_train[0].shape)\n",
    "print('y_train: \\n',y_train[:6])\n",
    "print('y_test: \\n',y_test[:6])"
   ]
  },
  {
   "cell_type": "markdown",
   "metadata": {},
   "source": [
    "Create model with 1 hidden layer of 100 units."
   ]
  },
  {
   "cell_type": "code",
   "execution_count": 7,
   "metadata": {},
   "outputs": [],
   "source": [
    "model1 = Sequential()\n",
    "model1.add(Dense(100, activation='relu', input_shape=(784,)))\n",
    "model1.add(Dense(num_classes, activation='softmax'))"
   ]
  },
  {
   "cell_type": "markdown",
   "metadata": {},
   "source": [
    "The code in the cell below is not necessary when run the job on RCC GPU. Remove it before downloading the file as python. "
   ]
  },
  {
   "cell_type": "code",
   "execution_count": 8,
   "metadata": {},
   "outputs": [
    {
     "name": "stdout",
     "output_type": "stream",
     "text": [
      "_________________________________________________________________\n",
      "Layer (type)                 Output Shape              Param #   \n",
      "=================================================================\n",
      "dense_1 (Dense)              (None, 100)               78500     \n",
      "_________________________________________________________________\n",
      "dense_2 (Dense)              (None, 10)                1010      \n",
      "=================================================================\n",
      "Total params: 79,510\n",
      "Trainable params: 79,510\n",
      "Non-trainable params: 0\n",
      "_________________________________________________________________\n"
     ]
    }
   ],
   "source": [
    "# Remove when make file for RCC GPU\n",
    "\n",
    "model1.summary()"
   ]
  },
  {
   "cell_type": "markdown",
   "metadata": {},
   "source": [
    "Follow the steps:\n",
    "\n",
    "* Compile the model\n",
    "* Fit it\n",
    "* Evaluate it."
   ]
  },
  {
   "cell_type": "code",
   "execution_count": 9,
   "metadata": {},
   "outputs": [],
   "source": [
    "# Compile the model\n",
    "model1.compile(loss='categorical_crossentropy',\n",
    "              optimizer=RMSprop(),\n",
    "              metrics=['accuracy'])"
   ]
  },
  {
   "cell_type": "code",
   "execution_count": 10,
   "metadata": {},
   "outputs": [],
   "source": [
    "# Fit the model\n",
    "history1 = model1.fit(x_train, y_train,\n",
    "                    batch_size=batch_size,\n",
    "                    epochs=epochs,\n",
    "                    verbose=0,\n",
    "                    validation_data=(x_test, y_test))"
   ]
  },
  {
   "cell_type": "markdown",
   "metadata": {},
   "source": [
    "Save weights of fitted model in a file.\n",
    "\n",
    "To use these weights later use\n",
    "\n",
    "`model.load_weights('model1_weights.h5')`"
   ]
  },
  {
   "cell_type": "code",
   "execution_count": 11,
   "metadata": {},
   "outputs": [],
   "source": [
    "#model1.save('saved_model.h5')\n",
    "model1.save_weights('model1_weights.h5')"
   ]
  },
  {
   "cell_type": "code",
   "execution_count": 12,
   "metadata": {},
   "outputs": [
    {
     "name": "stdout",
     "output_type": "stream",
     "text": [
      "Test loss: 0.08581530220233544\n",
      "Test accuracy: 0.9784\n"
     ]
    }
   ],
   "source": [
    "# Evaluate the model\n",
    "score = model1.evaluate(x_test, y_test, verbose=0)\n",
    "print('Test loss:', score[0])\n",
    "print('Test accuracy:', score[1])"
   ]
  },
  {
   "cell_type": "markdown",
   "metadata": {},
   "source": [
    "Check how the first 5 numbers from the test sample are predicted. "
   ]
  },
  {
   "cell_type": "code",
   "execution_count": 13,
   "metadata": {
    "scrolled": true
   },
   "outputs": [
    {
     "name": "stdout",
     "output_type": "stream",
     "text": [
      "Actual: \n",
      " [[0. 0. 0. 0. 0. 0. 0. 1. 0. 0.]\n",
      " [0. 0. 1. 0. 0. 0. 0. 0. 0. 0.]\n",
      " [0. 1. 0. 0. 0. 0. 0. 0. 0. 0.]\n",
      " [1. 0. 0. 0. 0. 0. 0. 0. 0. 0.]\n",
      " [0. 0. 0. 0. 1. 0. 0. 0. 0. 0.]] \n",
      " \n",
      "Predicted: \n",
      " [[0. 0. 0. 0. 0. 0. 0. 1. 0. 0.]\n",
      " [0. 0. 1. 0. 0. 0. 0. 0. 0. 0.]\n",
      " [0. 1. 0. 0. 0. 0. 0. 0. 0. 0.]\n",
      " [1. 0. 0. 0. 0. 0. 0. 0. 0. 0.]\n",
      " [0. 0. 0. 0. 1. 0. 0. 0. 0. 0.]]\n"
     ]
    }
   ],
   "source": [
    "print('Actual: \\n',y_test[:5],'\\n ')\n",
    "print('Predicted: \\n',np.around(np.array(model1.predict(x_test)[:5]), decimals=2))"
   ]
  },
  {
   "cell_type": "markdown",
   "metadata": {},
   "source": [
    "To finish preparation of the code:\n",
    "* Deactivate all unnecessary python computing cells by turning them into Markdown type     \n",
    "* Add code saving all necessary output data into files if necessary. For example, graphs will not be added to the `log.out` file. Save the data you would like to plot and make plot later on your local computer.   \n",
    "* Download the notebook as python        \n",
    "* Copy the python code to cluster directory as shown in the sections below.   "
   ]
  },
  {
   "cell_type": "markdown",
   "metadata": {},
   "source": [
    "### Step 2. Connect to RCC     \n",
    "\n",
    "Follow instructions for [connecting to RCC with SSH](https://rcc.uchicago.edu/docs/connecting/index.html#connecting-with-ssh)\n",
    "\n",
    "Look for connection to Midway2 via secure shell (ssh). \n",
    "\n",
    "To connect from Linux or Mac run in terminal:\n",
    "\n",
    "`ssh <CNetID>@midway2.rcc.uchicago.edu`     \n",
    "\n",
    "and enter CNet password for authentication.\n",
    "\n",
    "To connect from Windows, first download an ssh client, such as [PuTTY](https://www.chiark.greenend.org.uk/~sgtatham/putty/) which allows to interact with the remote Unix command line. "
   ]
  },
  {
   "cell_type": "markdown",
   "metadata": {},
   "source": [
    "### Step 3. Transfer data and code    \n",
    "\n",
    "Follow [instructions](https://rcc.uchicago.edu/docs/data-transfer/index.html) for transferring files to/from RCC on the RCC web site.\n",
    "\n",
    "Transfer data from local drive to cluster node according to [instructions](https://rcc.uchicago.edu/docs/data-transfer/index.html) using secure copy (`scp`) protocol either through command line or WinCP interface (for Windows users):    \n",
    "\n",
    "Open new Terminal window on the local computer and run:     \n",
    "\n",
    "`scp /path/to/your/local/file <CNetID>@midway2.rcc.uchicago.edu:~/destination_folder`.\n",
    "\n",
    "Before running this line create directory `destination_folder`, for example, using `mkdir`.     \n",
    "\n",
    "Use wildcards to send all .py files from local folder to cluster:     \n",
    "\n",
    "`scp /path/to/your/local/folder/*.py <CNetID>@midway2.rcc.uchicago.edu:~/destination_folder`    \n",
    "\n",
    "Folders can also be copied recursively (including subdirectories):\n",
    "\n",
    "`scp -r /path/to/your/local/folder <CNetID>@midway2.rcc.uchicago.edu:~/destination_folder`\n",
    "\n",
    "To receive file back from cluster to your machine use the same command but with reversed arguments:\n",
    "\n",
    "`scp <CNetID>@midway2.rcc.uchicago.edu:~/path/to/your/file/on/midway /path/to/local/destination/folder/`\n",
    "\n",
    "Create a folder for project on the RCC node and copy there all necessary files. \n",
    "\n",
    "What needs to be transferred in the folder on RCC:\n",
    "\n",
    "- Prepared python code\n",
    "- Data for the project\n",
    "- SBATCH file described in the following section"
   ]
  },
  {
   "cell_type": "markdown",
   "metadata": {},
   "source": [
    "### Step 4. Create SBATCH file    \n",
    "\n",
    "See instructions on creating sbatch [here](https://git.rcc.uchicago.edu/ivy2/TF_midway2/blob/master/examples/GPU/mnist_deep.batch).\n",
    "\n",
    "Example of sbatch file for the project in this notebook is given below.\n",
    "\n",
    "Example, of sbatch for the Sattelite Image Segmentation project is in the <a href=\"https://ilykei.com/api/fileProxy/documents%2FAdvanced%20Machine%20Learning%2FSatellite%20Image%20Segmentation%2Fcode.zip\" target=\"_blank\">archive with project code</a>. \n",
    "\n"
   ]
  },
  {
   "cell_type": "raw",
   "metadata": {},
   "source": [
    "#!/bin/bash\n",
    "\n",
    "#SBATCH --account=mscagpu\n",
    "#SBATCH --job-name=rcc_example\n",
    "#SBATCH --output=%j_out.log    # symbol \"%j\" will be replaced by the job allocation number\n",
    "#SBATCH --error=%j_err.log\n",
    "#SBATCH --time=00:10:00\n",
    "#SBATCH --nodes=1\n",
    "#SBATCH --ntasks=1\n",
    "#SBATCH --partition=mscagpu\n",
    "#SBATCH --gres=gpu:1\n",
    "#SBATCH --mem-per-cpu=20000\n",
    "\n",
    "\n",
    "# Load modules:\n",
    "#module load Anaconda3/5.0.1 cuda/9.0    # Uncomment this line when run\n",
    "\n",
    "# Activate conda environment:\n",
    "#source activate z11     # Uncomment this line when run\n",
    "\n",
    "# GPU-based executable:\n",
    "#python RCC_Example.py     # Uncomment this line when run\n"
   ]
  },
  {
   "cell_type": "markdown",
   "metadata": {},
   "source": [
    "\n",
    "1. Line `#!/bin/bash` means that everything below needs to run using interpreter `bash`     \n",
    "2. Line `#SBATCH --account=mscagpu` shows account\n",
    "3. Replace in line `#SBATCH --job-name=rcc_example` \"rcc_example\" with any name you decide to give this job    \n",
    "4. Lines `#SBATCH --output=%j_out.log` and `#SBATCH --error=%j_err.log` specify names of the output file and file with error messages. Note that\"%j\" will be replaced with job id when the job runs. After the job is finished these files will contain all results and all error logs, correspondingly. File `%j_out.log` will include all printouts within the code.    \n",
    "5. Line `#SBATCH --time=00:10:00` reserves time for the job. After running this time the job is cancelled.   \n",
    "6. Line `#SBATCH --partition=mscagpu` specifies type of the computing node on Midway2\n",
    "7. The rest of the lines define requested resources, module, environment where necessary packages have been preinstalled, python source code to be executed on GPU    "
   ]
  },
  {
   "cell_type": "markdown",
   "metadata": {},
   "source": [
    "\n",
    "### Step 5. Runing the job    \n",
    "\n",
    "In terminal while logged into RCC Midway 2 navigate to the directory of the project.\n",
    "Then execute \n",
    "\n",
    "`sbatch run.sbatch`   \n",
    "\n",
    "You will be given job ID. It can be used to cancel your job:    \n",
    "\n",
    "`scancel your_job_ID`    \n",
    "\n",
    "To check the status do:\n",
    "\n",
    "`squeue --user=<CNetID>`    \n",
    "\n",
    "Output files (uncluding error file) can be read using one of the following commands:\n",
    "\n",
    "`cat output_file`    \n",
    "`less output_file`    \n",
    "`tail -f output_file`\n",
    "\n",
    "The last command also reflects file modifications and can be used while your job is still running.\n",
    "\n",
    "Transfer both log files and any saved files from the RCC node when the job is done.\n",
    "\n"
   ]
  }
 ],
 "metadata": {
  "kernelspec": {
   "display_name": "Python 3",
   "language": "python",
   "name": "python3"
  },
  "language_info": {
   "codemirror_mode": {
    "name": "ipython",
    "version": 3
   },
   "file_extension": ".py",
   "mimetype": "text/x-python",
   "name": "python",
   "nbconvert_exporter": "python",
   "pygments_lexer": "ipython3",
   "version": "3.6.4"
  },
  "toc": {
   "base_numbering": 1,
   "nav_menu": {},
   "number_sections": true,
   "sideBar": true,
   "skip_h1_title": false,
   "title_cell": "Table of Contents",
   "title_sidebar": "Contents",
   "toc_cell": false,
   "toc_position": {},
   "toc_section_display": true,
   "toc_window_display": false
  }
 },
 "nbformat": 4,
 "nbformat_minor": 2
}
