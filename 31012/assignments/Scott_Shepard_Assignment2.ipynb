{
 "cells": [
  {
   "cell_type": "code",
   "execution_count": 24,
   "metadata": {},
   "outputs": [],
   "source": [
    "#import statements\n",
    "import pymysql\n",
    "import pandas as pd\n",
    "from matplotlib import pyplot as plt"
   ]
  },
  {
   "cell_type": "code",
   "execution_count": 8,
   "metadata": {},
   "outputs": [],
   "source": [
    "db = pymysql.connect(\"localhost\",\"root\",\"passphrase\",\"sakila\" )\n",
    "cursor = db.cursor()"
   ]
  },
  {
   "cell_type": "markdown",
   "metadata": {},
   "source": [
    "## Part C, Question 1A"
   ]
  },
  {
   "cell_type": "code",
   "execution_count": 15,
   "metadata": {},
   "outputs": [],
   "source": [
    "sql = '''\n",
    "    select\n",
    "    first_name,\n",
    "    last_name,\n",
    "    count(*) as c\n",
    "from actor a\n",
    "    join film_actor fa on fa.actor_id = a.actor_id\n",
    "    join film f on f.film_id = fa.film_id\n",
    "group by 1, 2\n",
    "having c > 25\n",
    "limit 10\n",
    "'''"
   ]
  },
  {
   "cell_type": "code",
   "execution_count": 26,
   "metadata": {},
   "outputs": [
    {
     "name": "stderr",
     "output_type": "stream",
     "text": [
      "/Users/rowena/miniconda3/envs/msca/lib/python3.6/site-packages/ipykernel_launcher.py:2: UserWarning: Pandas doesn't allow columns to be created via a new attribute name - see https://pandas.pydata.org/pandas-docs/stable/indexing.html#attribute-access\n",
      "  \n"
     ]
    },
    {
     "data": {
      "text/plain": [
       "[Text(0,0,'JOHNNY LOLLOBRIGIDA'),\n",
       " Text(0,0,'GRACE MOSTEL'),\n",
       " Text(0,0,'KARL BERRY'),\n",
       " Text(0,0,'UMA WOOD'),\n",
       " Text(0,0,'VIVIEN BERGEN'),\n",
       " Text(0,0,'CUBA OLIVIER'),\n",
       " Text(0,0,'FRED COSTNER'),\n",
       " Text(0,0,'HELEN VOIGHT'),\n",
       " Text(0,0,'LUCILLE TRACY'),\n",
       " Text(0,0,'KIRSTEN PALTROW')]"
      ]
     },
     "execution_count": 26,
     "metadata": {},
     "output_type": "execute_result"
    },
    {
     "data": {
      "image/png": "[encoded data removed]",
      "text/plain": [
       "<matplotlib.figure.Figure at 0x114c597b8>"
      ]
     },
     "metadata": {},
     "output_type": "display_data"
    }
   ],
   "source": [
    "df = pd.read_sql(sql, db)\n",
    "df.fullname=df.first_name + ' ' + df.last_name\n",
    "ax = df.plot.bar()\n",
    "ax.set_xticklabels(df.fullname)"
   ]
  },
  {
   "cell_type": "markdown",
   "metadata": {},
   "source": [
    "## Part C, Question 1d"
   ]
  },
  {
   "cell_type": "code",
   "execution_count": 29,
   "metadata": {},
   "outputs": [
    {
     "data": {
      "text/plain": [
       "<matplotlib.axes._subplots.AxesSubplot at 0x119b8c320>"
      ]
     },
     "execution_count": 29,
     "metadata": {},
     "output_type": "execute_result"
    },
    {
     "data": {
      "image/png": "[encoded data removed]",
      "text/plain": [
       "<matplotlib.figure.Figure at 0x119a730f0>"
      ]
     },
     "metadata": {},
     "output_type": "display_data"
    }
   ],
   "source": [
    "sql = '''\n",
    "select\n",
    "    c.first_name,\n",
    "    c.last_name,\n",
    "    count(distinct f.film_id) as horror_rentals\n",
    "from customer c\n",
    "    join rental r on r.customer_id = c.customer_id\n",
    "    join inventory i on i.inventory_id = r.inventory_id\n",
    "    join film f on i.film_id = f.film_id\n",
    "    join film_category fc on fc.film_id = f.film_id\n",
    "    join category cat on cat.category_id = fc.category_id\n",
    "where cat.name = 'Horror'\n",
    "group by 1,2\n",
    "having horror_rentals > 3\n",
    "'''\n",
    "df = pd.read_sql(sql, db)\n",
    "df.plot.bar()"
   ]
  },
  {
   "cell_type": "markdown",
   "metadata": {},
   "source": [
    "## Part C, Question 1k"
   ]
  },
  {
   "cell_type": "code",
   "execution_count": 38,
   "metadata": {},
   "outputs": [
    {
     "data": {
      "text/plain": [
       "<matplotlib.axes._subplots.AxesSubplot at 0x119d3db00>"
      ]
     },
     "execution_count": 38,
     "metadata": {},
     "output_type": "execute_result"
    },
    {
     "data": {
      "image/png": "[encoded data removed]",
      "text/plain": [
       "<matplotlib.figure.Figure at 0x119a588d0>"
      ]
     },
     "metadata": {},
     "output_type": "display_data"
    }
   ],
   "source": [
    "sql = '''\n",
    "select \n",
    "\tcat.name,\n",
    "\tavg(f.replacement_cost - f.rental_rate) as avg_diff\n",
    "\n",
    "from film f\n",
    "\tjoin film_category fc on fc.film_id = f.film_id\n",
    "\tjoin category cat on cat.category_id = fc.category_id\n",
    "group by 1\n",
    "having avg_diff > 17\n",
    "order by 2 desc\n",
    "'''\n",
    "df = pd.read_sql(sql, db)\n",
    "df.plot.bar()"
   ]
  },
  {
   "cell_type": "markdown",
   "metadata": {},
   "source": [
    "## Part C, Question 1j"
   ]
  },
  {
   "cell_type": "code",
   "execution_count": 39,
   "metadata": {},
   "outputs": [
    {
     "data": {
      "text/html": [
       "<div>\n",
       "<style scoped>\n",
       "    .dataframe tbody tr th:only-of-type {\n",
       "        vertical-align: middle;\n",
       "    }\n",
       "\n",
       "    .dataframe tbody tr th {\n",
       "        vertical-align: top;\n",
       "    }\n",
       "\n",
       "    .dataframe thead th {\n",
       "        text-align: right;\n",
       "    }\n",
       "</style>\n",
       "<table border=\"1\" class=\"dataframe\">\n",
       "  <thead>\n",
       "    <tr style=\"text-align: right;\">\n",
       "      <th></th>\n",
       "      <th>name</th>\n",
       "      <th>film_count</th>\n",
       "    </tr>\n",
       "  </thead>\n",
       "  <tbody>\n",
       "    <tr>\n",
       "      <th>0</th>\n",
       "      <td>Horror</td>\n",
       "      <td>56</td>\n",
       "    </tr>\n",
       "    <tr>\n",
       "      <th>1</th>\n",
       "      <td>Travel</td>\n",
       "      <td>57</td>\n",
       "    </tr>\n",
       "    <tr>\n",
       "      <th>2</th>\n",
       "      <td>Classics</td>\n",
       "      <td>57</td>\n",
       "    </tr>\n",
       "    <tr>\n",
       "      <th>3</th>\n",
       "      <td>Comedy</td>\n",
       "      <td>58</td>\n",
       "    </tr>\n",
       "    <tr>\n",
       "      <th>4</th>\n",
       "      <td>Children</td>\n",
       "      <td>60</td>\n",
       "    </tr>\n",
       "  </tbody>\n",
       "</table>\n",
       "</div>"
      ],
      "text/plain": [
       "       name  film_count\n",
       "0    Horror          56\n",
       "1    Travel          57\n",
       "2  Classics          57\n",
       "3    Comedy          58\n",
       "4  Children          60"
      ]
     },
     "execution_count": 39,
     "metadata": {},
     "output_type": "execute_result"
    }
   ],
   "source": [
    "sql = '''\n",
    "select \n",
    "\tcat.name,\n",
    "    count(distinct f.film_id) film_count\n",
    "from film f\n",
    "\tjoin film_category fc on fc.film_id = f.film_id\n",
    "\tjoin category cat on cat.category_id = fc.category_id\n",
    "group by 1\n",
    "having film_count between 55 and 65\n",
    "order by 2\n",
    "'''\n",
    "df = pd.read_sql(sql, db)\n",
    "df.head()"
   ]
  },
  {
   "cell_type": "markdown",
   "metadata": {},
   "source": [
    "## Part C, Question 2b"
   ]
  },
  {
   "cell_type": "code",
   "execution_count": 40,
   "metadata": {},
   "outputs": [
    {
     "data": {
      "text/plain": [
       "array([[<matplotlib.axes._subplots.AxesSubplot object at 0x1150599b0>]],\n",
       "      dtype=object)"
      ]
     },
     "execution_count": 40,
     "metadata": {},
     "output_type": "execute_result"
    },
    {
     "data": {
      "image/png": "[encoded data removed]",
      "text/plain": [
       "<matplotlib.figure.Figure at 0x11996f710>"
      ]
     },
     "metadata": {},
     "output_type": "display_data"
    }
   ],
   "source": [
    "sql = '''\n",
    "select \n",
    "\tfirst_name,\n",
    "    last_name,\n",
    "    amount\n",
    "from customer c\n",
    "\tjoin payment p on p.customer_id = c.customer_id\n",
    "where p.amount > (\n",
    "\tselect avg(amount)\n",
    "\tfrom payment)\n",
    "'''\n",
    "df = pd.read_sql(sql, db)\n",
    "df.hist()"
   ]
  },
  {
   "cell_type": "markdown",
   "metadata": {},
   "source": [
    "## Part C, Question 2d"
   ]
  },
  {
   "cell_type": "code",
   "execution_count": 37,
   "metadata": {},
   "outputs": [
    {
     "data": {
      "text/plain": [
       "<matplotlib.axes._subplots.AxesSubplot at 0x11a033e80>"
      ]
     },
     "execution_count": 37,
     "metadata": {},
     "output_type": "execute_result"
    },
    {
     "data": {
      "image/png": "[encoded data removed]",
      "text/plain": [
       "<matplotlib.figure.Figure at 0x11a04e6a0>"
      ]
     },
     "metadata": {},
     "output_type": "display_data"
    }
   ],
   "source": [
    "sql = '''\n",
    "select\n",
    "    floor(max(amount)),\n",
    "    floor(min(amount)),\n",
    "    floor(avg(amount))\n",
    "from payment\n",
    "'''\n",
    "df = pd.read_sql(sql, db)\n",
    "df.plot.bar()"
   ]
  },
  {
   "cell_type": "markdown",
   "metadata": {},
   "source": [
    "## Part C, Question 4e"
   ]
  },
  {
   "cell_type": "code",
   "execution_count": 36,
   "metadata": {},
   "outputs": [
    {
     "data": {
      "text/plain": [
       "array([[<matplotlib.axes._subplots.AxesSubplot object at 0x119e92eb8>]],\n",
       "      dtype=object)"
      ]
     },
     "execution_count": 36,
     "metadata": {},
     "output_type": "execute_result"
    },
    {
     "data": {
      "image/png": "[encoded data removed]",
      "text/plain": [
       "<matplotlib.figure.Figure at 0x119e45e48>"
      ]
     },
     "metadata": {},
     "output_type": "display_data"
    }
   ],
   "source": [
    "sql = '''\n",
    "select datediff(return_date, rental_date)\n",
    "from rental\n",
    "where return_date is not null\n",
    "limit 10\n",
    "'''\n",
    "df = pd.read_sql(sql, db)\n",
    "df.hist()"
   ]
  },
  {
   "cell_type": "markdown",
   "metadata": {},
   "source": [
    "## Part C, Question 5a"
   ]
  },
  {
   "cell_type": "code",
   "execution_count": 30,
   "metadata": {},
   "outputs": [],
   "source": [
    "sql = '''\n",
    "select\n",
    "    year(rental_date) as year,\n",
    "    week(rental_date) as week,\n",
    "    count(*) as n_rentals\n",
    "from rental\n",
    "group by 1, 2\n",
    "order by 1, 2\n",
    "'''\n",
    "df = pd.read_sql(sql, db)"
   ]
  },
  {
   "cell_type": "code",
   "execution_count": 33,
   "metadata": {},
   "outputs": [
    {
     "data": {
      "text/plain": [
       "<matplotlib.axes._subplots.AxesSubplot at 0x119d8ed68>"
      ]
     },
     "execution_count": 33,
     "metadata": {},
     "output_type": "execute_result"
    },
    {
     "data": {
      "image/png": "[encoded data removed]",
      "text/plain": [
       "<matplotlib.figure.Figure at 0x119bbd908>"
      ]
     },
     "metadata": {},
     "output_type": "display_data"
    }
   ],
   "source": [
    "df['n_rentals'].plot()"
   ]
  },
  {
   "cell_type": "code",
   "execution_count": null,
   "metadata": {},
   "outputs": [],
   "source": []
  }
 ],
 "metadata": {
  "kernelspec": {
   "display_name": "Python 3",
   "language": "python",
   "name": "python3"
  },
  "language_info": {
   "codemirror_mode": {
    "name": "ipython",
    "version": 3
   },
   "file_extension": ".py",
   "mimetype": "text/x-python",
   "name": "python",
   "nbconvert_exporter": "python",
   "pygments_lexer": "ipython3",
   "version": "3.6.4"
  }
 },
 "nbformat": 4,
 "nbformat_minor": 2
}
