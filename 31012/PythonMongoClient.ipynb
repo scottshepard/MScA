{
 "cells": [
  {
   "cell_type": "markdown",
   "metadata": {},
   "source": [
    "### DATA ENGINEERING PLATFORMS (MSCA 31012)\n",
    "### File        :   Class Exercise - Session 7 - PythonMongoClient\n",
    "### Desc     :  Connecting to MongoDB via Jupyter Notebook\n",
    "### Authors:  Shreenidhi Bharadwaj\n",
    "### Date      :   11/15/2018                     \n",
    "\n",
    "References: \n",
    "https://docs.mongodb.com/getting-started/python/client/\n",
    "\n",
    "Installation:\n",
    "`pip install pymongo`\n",
    "\n",
    "pymongo is an interface for connecting to a Mongo database server from Python. The steps are as follows:\n",
    "\n",
    "1. Install and start MongoDB on your local machine.\n",
    "2. Make sure to run mongod with the data folder option\n",
    "    \"C:\\Program Files\\MongoDB\\Server\\3.4\\bin\\mongod.exe\" --dbpath \"C:\\data\"\n",
    "\n",
    "3. Download file \n",
    "https://raw.githubusercontent.com/mongodb/docs-assets/primer-dataset/primer-dataset.json\n",
    "\n",
    "4. Import downloaded sample data into Mongo DB (25359 documents)\n",
    "mongoimport --db test --collection restaurants --drop --file \"C:\\Users\\SBharadwaj\\Desktop\\Shree\\DEPA\\03-Lectures\\7\\InClass Exercises\\primer-dataset.json\""
   ]
  },
  {
   "cell_type": "code",
   "execution_count": 1,
   "metadata": {},
   "outputs": [],
   "source": [
    "#import libraries\n",
    "import pymongo\n",
    "import json\n",
    "from pymongo import MongoClient"
   ]
  },
  {
   "cell_type": "markdown",
   "metadata": {},
   "source": [
    "### Connect to MongoDB"
   ]
  },
  {
   "cell_type": "code",
   "execution_count": 2,
   "metadata": {},
   "outputs": [],
   "source": [
    "#connect to local database server\n",
    "client = MongoClient()\n",
    "\n",
    "#switch to test DB\n",
    "db = client.test"
   ]
  },
  {
   "cell_type": "code",
   "execution_count": 3,
   "metadata": {},
   "outputs": [],
   "source": [
    "# function to print only first n documents (to avoid perf/memory issues)\n",
    "def printhead(cursor, n):\n",
    "    for idx,document in enumerate(cursor):\n",
    "        if idx <= n: \n",
    "            print(document)\n",
    "        else:\n",
    "            break"
   ]
  },
  {
   "cell_type": "markdown",
   "metadata": {},
   "source": [
    "### Query MongoDB"
   ]
  },
  {
   "cell_type": "code",
   "execution_count": 4,
   "metadata": {},
   "outputs": [
    {
     "name": "stdout",
     "output_type": "stream",
     "text": [
      "{'_id': ObjectId('5bef6d18a6b0511f7dbc161b'), 'address': {'building': '351', 'coord': [-73.98513559999999, 40.7676919], 'street': 'West   57 Street', 'zipcode': '10019'}, 'borough': 'Manhattan', 'cuisine': 'Irish', 'grades': [{'date': datetime.datetime(2014, 9, 6, 0, 0), 'grade': 'A', 'score': 2}, {'date': datetime.datetime(2013, 7, 22, 0, 0), 'grade': 'A', 'score': 11}, {'date': datetime.datetime(2012, 7, 31, 0, 0), 'grade': 'A', 'score': 12}, {'date': datetime.datetime(2011, 12, 29, 0, 0), 'grade': 'A', 'score': 12}], 'name': 'Dj Reynolds Pub And Restaurant', 'restaurant_id': '30191841'}\n",
      "{'_id': ObjectId('5bef6d18a6b0511f7dbc161c'), 'address': {'building': '469', 'coord': [-73.961704, 40.662942], 'street': 'Flatbush Avenue', 'zipcode': '11225'}, 'borough': 'Brooklyn', 'cuisine': 'Hamburgers', 'grades': [{'date': datetime.datetime(2014, 12, 30, 0, 0), 'grade': 'A', 'score': 8}, {'date': datetime.datetime(2014, 7, 1, 0, 0), 'grade': 'B', 'score': 23}, {'date': datetime.datetime(2013, 4, 30, 0, 0), 'grade': 'A', 'score': 12}, {'date': datetime.datetime(2012, 5, 8, 0, 0), 'grade': 'A', 'score': 12}], 'name': \"Wendy'S\", 'restaurant_id': '30112340'}\n",
      "{'_id': ObjectId('5bef6d18a6b0511f7dbc161d'), 'address': {'building': '1007', 'coord': [-73.856077, 40.848447], 'street': 'Morris Park Ave', 'zipcode': '10462'}, 'borough': 'Bronx', 'cuisine': 'Bakery', 'grades': [{'date': datetime.datetime(2014, 3, 3, 0, 0), 'grade': 'A', 'score': 2}, {'date': datetime.datetime(2013, 9, 11, 0, 0), 'grade': 'A', 'score': 6}, {'date': datetime.datetime(2013, 1, 24, 0, 0), 'grade': 'A', 'score': 10}, {'date': datetime.datetime(2011, 11, 23, 0, 0), 'grade': 'A', 'score': 9}, {'date': datetime.datetime(2011, 3, 10, 0, 0), 'grade': 'B', 'score': 14}], 'name': 'Morris Park Bake Shop', 'restaurant_id': '30075445'}\n"
     ]
    }
   ],
   "source": [
    "# List the first 2 documents in the db \n",
    "restaurants = db.restaurants.find()\n",
    "printhead(restaurants, 2)"
   ]
  },
  {
   "cell_type": "markdown",
   "metadata": {},
   "source": [
    "#### Cut paste the JSON results into a JSON formatter ( URL below ) and click on format to get a clean view of the data\n",
    "http://jsonviewer.stack.hu/  ( Pretty JSON ) "
   ]
  },
  {
   "cell_type": "code",
   "execution_count": 9,
   "metadata": {},
   "outputs": [
    {
     "ename": "AttributeError",
     "evalue": "'Cursor' object has no attribute 'data'",
     "output_type": "error",
     "traceback": [
      "\u001b[0;31m---------------------------------------------------------------------------\u001b[0m",
      "\u001b[0;31mAttributeError\u001b[0m                            Traceback (most recent call last)",
      "\u001b[0;32m<ipython-input-9-22f6d734121c>\u001b[0m in \u001b[0;36m<module>\u001b[0;34m()\u001b[0m\n\u001b[0;32m----> 1\u001b[0;31m \u001b[0mrestaurantData\u001b[0m\u001b[0;34m.\u001b[0m\u001b[0mdata\u001b[0m\u001b[0;34m\u001b[0m\u001b[0m\n\u001b[0m",
      "\u001b[0;31mAttributeError\u001b[0m: 'Cursor' object has no attribute 'data'"
     ]
    }
   ],
   "source": [
    "restaurantData.data"
   ]
  },
  {
   "cell_type": "code",
   "execution_count": 6,
   "metadata": {},
   "outputs": [
    {
     "ename": "JSONDecodeError",
     "evalue": "Expecting value: line 1 column 1 (char 0)",
     "output_type": "error",
     "traceback": [
      "\u001b[0;31m---------------------------------------------------------------------------\u001b[0m",
      "\u001b[0;31mJSONDecodeError\u001b[0m                           Traceback (most recent call last)",
      "\u001b[0;32m<ipython-input-6-efcd0d59db7c>\u001b[0m in \u001b[0;36m<module>\u001b[0;34m()\u001b[0m\n\u001b[1;32m      1\u001b[0m \u001b[0;31m# List all documents in the restaurant collection where borough is Manhattan\u001b[0m\u001b[0;34m\u001b[0m\u001b[0;34m\u001b[0m\u001b[0m\n\u001b[1;32m      2\u001b[0m \u001b[0mrestaurantData\u001b[0m \u001b[0;34m=\u001b[0m \u001b[0mdb\u001b[0m\u001b[0;34m.\u001b[0m\u001b[0mrestaurants\u001b[0m\u001b[0;34m.\u001b[0m\u001b[0mfind\u001b[0m\u001b[0;34m(\u001b[0m\u001b[0;34m{\u001b[0m\u001b[0;34m\"borough\"\u001b[0m\u001b[0;34m:\u001b[0m \u001b[0;34m\"Manhattan\"\u001b[0m\u001b[0;34m}\u001b[0m\u001b[0;34m)\u001b[0m\u001b[0;34m\u001b[0m\u001b[0m\n\u001b[0;32m----> 3\u001b[0;31m \u001b[0mr\u001b[0m \u001b[0;34m=\u001b[0m \u001b[0mjson\u001b[0m\u001b[0;34m.\u001b[0m\u001b[0mloads\u001b[0m\u001b[0;34m(\u001b[0m\u001b[0mstr\u001b[0m\u001b[0;34m(\u001b[0m\u001b[0mrestaurantData\u001b[0m\u001b[0;34m)\u001b[0m\u001b[0;34m)\u001b[0m\u001b[0;34m\u001b[0m\u001b[0m\n\u001b[0m\u001b[1;32m      4\u001b[0m \u001b[0;31m#printhead(restaurantData, 2)\u001b[0m\u001b[0;34m\u001b[0m\u001b[0;34m\u001b[0m\u001b[0m\n",
      "\u001b[0;32m~/miniconda3/envs/msca/lib/python3.6/json/__init__.py\u001b[0m in \u001b[0;36mloads\u001b[0;34m(s, encoding, cls, object_hook, parse_float, parse_int, parse_constant, object_pairs_hook, **kw)\u001b[0m\n\u001b[1;32m    352\u001b[0m             \u001b[0mparse_int\u001b[0m \u001b[0;32mis\u001b[0m \u001b[0;32mNone\u001b[0m \u001b[0;32mand\u001b[0m \u001b[0mparse_float\u001b[0m \u001b[0;32mis\u001b[0m \u001b[0;32mNone\u001b[0m \u001b[0;32mand\u001b[0m\u001b[0;34m\u001b[0m\u001b[0m\n\u001b[1;32m    353\u001b[0m             parse_constant is None and object_pairs_hook is None and not kw):\n\u001b[0;32m--> 354\u001b[0;31m         \u001b[0;32mreturn\u001b[0m \u001b[0m_default_decoder\u001b[0m\u001b[0;34m.\u001b[0m\u001b[0mdecode\u001b[0m\u001b[0;34m(\u001b[0m\u001b[0ms\u001b[0m\u001b[0;34m)\u001b[0m\u001b[0;34m\u001b[0m\u001b[0m\n\u001b[0m\u001b[1;32m    355\u001b[0m     \u001b[0;32mif\u001b[0m \u001b[0mcls\u001b[0m \u001b[0;32mis\u001b[0m \u001b[0;32mNone\u001b[0m\u001b[0;34m:\u001b[0m\u001b[0;34m\u001b[0m\u001b[0m\n\u001b[1;32m    356\u001b[0m         \u001b[0mcls\u001b[0m \u001b[0;34m=\u001b[0m \u001b[0mJSONDecoder\u001b[0m\u001b[0;34m\u001b[0m\u001b[0m\n",
      "\u001b[0;32m~/miniconda3/envs/msca/lib/python3.6/json/decoder.py\u001b[0m in \u001b[0;36mdecode\u001b[0;34m(self, s, _w)\u001b[0m\n\u001b[1;32m    337\u001b[0m \u001b[0;34m\u001b[0m\u001b[0m\n\u001b[1;32m    338\u001b[0m         \"\"\"\n\u001b[0;32m--> 339\u001b[0;31m         \u001b[0mobj\u001b[0m\u001b[0;34m,\u001b[0m \u001b[0mend\u001b[0m \u001b[0;34m=\u001b[0m \u001b[0mself\u001b[0m\u001b[0;34m.\u001b[0m\u001b[0mraw_decode\u001b[0m\u001b[0;34m(\u001b[0m\u001b[0ms\u001b[0m\u001b[0;34m,\u001b[0m \u001b[0midx\u001b[0m\u001b[0;34m=\u001b[0m\u001b[0m_w\u001b[0m\u001b[0;34m(\u001b[0m\u001b[0ms\u001b[0m\u001b[0;34m,\u001b[0m \u001b[0;36m0\u001b[0m\u001b[0;34m)\u001b[0m\u001b[0;34m.\u001b[0m\u001b[0mend\u001b[0m\u001b[0;34m(\u001b[0m\u001b[0;34m)\u001b[0m\u001b[0;34m)\u001b[0m\u001b[0;34m\u001b[0m\u001b[0m\n\u001b[0m\u001b[1;32m    340\u001b[0m         \u001b[0mend\u001b[0m \u001b[0;34m=\u001b[0m \u001b[0m_w\u001b[0m\u001b[0;34m(\u001b[0m\u001b[0ms\u001b[0m\u001b[0;34m,\u001b[0m \u001b[0mend\u001b[0m\u001b[0;34m)\u001b[0m\u001b[0;34m.\u001b[0m\u001b[0mend\u001b[0m\u001b[0;34m(\u001b[0m\u001b[0;34m)\u001b[0m\u001b[0;34m\u001b[0m\u001b[0m\n\u001b[1;32m    341\u001b[0m         \u001b[0;32mif\u001b[0m \u001b[0mend\u001b[0m \u001b[0;34m!=\u001b[0m \u001b[0mlen\u001b[0m\u001b[0;34m(\u001b[0m\u001b[0ms\u001b[0m\u001b[0;34m)\u001b[0m\u001b[0;34m:\u001b[0m\u001b[0;34m\u001b[0m\u001b[0m\n",
      "\u001b[0;32m~/miniconda3/envs/msca/lib/python3.6/json/decoder.py\u001b[0m in \u001b[0;36mraw_decode\u001b[0;34m(self, s, idx)\u001b[0m\n\u001b[1;32m    355\u001b[0m             \u001b[0mobj\u001b[0m\u001b[0;34m,\u001b[0m \u001b[0mend\u001b[0m \u001b[0;34m=\u001b[0m \u001b[0mself\u001b[0m\u001b[0;34m.\u001b[0m\u001b[0mscan_once\u001b[0m\u001b[0;34m(\u001b[0m\u001b[0ms\u001b[0m\u001b[0;34m,\u001b[0m \u001b[0midx\u001b[0m\u001b[0;34m)\u001b[0m\u001b[0;34m\u001b[0m\u001b[0m\n\u001b[1;32m    356\u001b[0m         \u001b[0;32mexcept\u001b[0m \u001b[0mStopIteration\u001b[0m \u001b[0;32mas\u001b[0m \u001b[0merr\u001b[0m\u001b[0;34m:\u001b[0m\u001b[0;34m\u001b[0m\u001b[0m\n\u001b[0;32m--> 357\u001b[0;31m             \u001b[0;32mraise\u001b[0m \u001b[0mJSONDecodeError\u001b[0m\u001b[0;34m(\u001b[0m\u001b[0;34m\"Expecting value\"\u001b[0m\u001b[0;34m,\u001b[0m \u001b[0ms\u001b[0m\u001b[0;34m,\u001b[0m \u001b[0merr\u001b[0m\u001b[0;34m.\u001b[0m\u001b[0mvalue\u001b[0m\u001b[0;34m)\u001b[0m \u001b[0;32mfrom\u001b[0m \u001b[0;32mNone\u001b[0m\u001b[0;34m\u001b[0m\u001b[0m\n\u001b[0m\u001b[1;32m    358\u001b[0m         \u001b[0;32mreturn\u001b[0m \u001b[0mobj\u001b[0m\u001b[0;34m,\u001b[0m \u001b[0mend\u001b[0m\u001b[0;34m\u001b[0m\u001b[0m\n",
      "\u001b[0;31mJSONDecodeError\u001b[0m: Expecting value: line 1 column 1 (char 0)"
     ]
    }
   ],
   "source": [
    "# List all documents in the restaurant collection where borough is Manhattan\n",
    "restaurantData = db.restaurants.find({\"borough\": \"Manhattan\"})\n",
    "r = json.loads(str(restaurantData))\n",
    "#printhead(restaurantData, 2)"
   ]
  },
  {
   "cell_type": "code",
   "execution_count": 24,
   "metadata": {},
   "outputs": [
    {
     "name": "stdout",
     "output_type": "stream",
     "text": [
      "{'_id': ObjectId('5be7b4e1e0b0663ca0536697'), 'address': {'building': '650', 'coord': [-73.92537449999999, 40.8207116], 'street': 'Grand Concourse', 'zipcode': ''}, 'borough': 'Bronx', 'cuisine': 'Sandwiches', 'grades': [{'date': datetime.datetime(2014, 9, 30, 0, 0), 'grade': 'A', 'score': 7}], 'name': 'Subway#50497 (Cardinal Hayes High School)', 'restaurant_id': '50006048'}\n",
      "{'_id': ObjectId('5be7b4e0e0b0663ca053139c'), 'address': {'building': '72', 'coord': [-73.92506, 40.8275556], 'street': 'East  161 Street', 'zipcode': '10451'}, 'borough': 'Bronx', 'cuisine': 'American ', 'grades': [{'date': datetime.datetime(2014, 4, 15, 0, 0), 'grade': 'A', 'score': 9}, {'date': datetime.datetime(2013, 11, 14, 0, 0), 'grade': 'A', 'score': 4}, {'date': datetime.datetime(2013, 7, 29, 0, 0), 'grade': 'A', 'score': 10}, {'date': datetime.datetime(2012, 12, 31, 0, 0), 'grade': 'B', 'score': 15}, {'date': datetime.datetime(2012, 5, 30, 0, 0), 'grade': 'A', 'score': 13}, {'date': datetime.datetime(2012, 1, 9, 0, 0), 'grade': 'A', 'score': 10}, {'date': datetime.datetime(2011, 8, 15, 0, 0), 'grade': 'C', 'score': 37}], 'name': 'Yankee Tavern', 'restaurant_id': '40365499'}\n",
      "{'_id': ObjectId('5be7b4e0e0b0663ca0531699'), 'address': {'building': '101', 'coord': [-73.9243061, 40.8276297], 'street': 'East 161 Street', 'zipcode': '10451'}, 'borough': 'Bronx', 'cuisine': 'Latin (Cuban, Dominican, Puerto Rican, South & Central American)', 'grades': [{'date': datetime.datetime(2014, 4, 10, 0, 0), 'grade': 'A', 'score': 10}, {'date': datetime.datetime(2013, 10, 1, 0, 0), 'grade': 'A', 'score': 6}, {'date': datetime.datetime(2013, 4, 11, 0, 0), 'grade': 'B', 'score': 25}, {'date': datetime.datetime(2012, 10, 25, 0, 0), 'grade': 'A', 'score': 12}, {'date': datetime.datetime(2012, 10, 10, 0, 0), 'grade': 'P', 'score': 12}, {'date': datetime.datetime(2012, 5, 25, 0, 0), 'grade': 'B', 'score': 14}, {'date': datetime.datetime(2011, 9, 14, 0, 0), 'grade': 'B', 'score': 26}, {'date': datetime.datetime(2011, 4, 25, 0, 0), 'grade': 'C', 'score': 76}], 'name': 'El Molino Rojo Restaurant', 'restaurant_id': '40393688'}\n"
     ]
    }
   ],
   "source": [
    "#### Sort the query results based on borougn and zipcode\n",
    "restaurantData = db.restaurants.find().sort([\n",
    "    (\"borough\", pymongo.ASCENDING),\n",
    "    (\"address.zipcode\", pymongo.ASCENDING)\n",
    "])\n",
    "printhead(restaurantData, 2)"
   ]
  },
  {
   "cell_type": "markdown",
   "metadata": {},
   "source": [
    "#### Insert data"
   ]
  },
  {
   "cell_type": "code",
   "execution_count": 10,
   "metadata": {},
   "outputs": [],
   "source": [
    "# insert data relating to a new restaurant\n",
    "from datetime import datetime\n",
    "result = db.restaurants.insert_one(\n",
    "    {\n",
    "        \"address\": {\n",
    "            \"street\": \"2 Avenue\",\n",
    "            \"zipcode\": \"10075\",\n",
    "            \"building\": \"1480\",\n",
    "            \"coord\": [-73.9557413, 40.7720266]\n",
    "        },\n",
    "        \"borough\": \"Manhattan\",\n",
    "        \"cuisine\": \"Italian\",\n",
    "        \"grades\": [\n",
    "            {\n",
    "                \"date\": datetime.strptime(\"2014-10-01\", \"%Y-%m-%d\"),\n",
    "                \"grade\": \"A\",\n",
    "                \"score\": 11\n",
    "            },\n",
    "            {\n",
    "                \"date\": datetime.strptime(\"2014-01-16\", \"%Y-%m-%d\"),\n",
    "                \"grade\": \"B\",\n",
    "                \"score\": 17\n",
    "            }\n",
    "        ],\n",
    "        \"name\": \"Vella\",\n",
    "        \"restaurant_id\": \"41704620\"\n",
    "    }\n",
    ")"
   ]
  },
  {
   "cell_type": "code",
   "execution_count": 11,
   "metadata": {},
   "outputs": [
    {
     "data": {
      "text/plain": [
       "<pymongo.results.InsertOneResult at 0x10879bec8>"
      ]
     },
     "execution_count": 11,
     "metadata": {},
     "output_type": "execute_result"
    }
   ],
   "source": [
    "#print object type of the result\n",
    "result"
   ]
  },
  {
   "cell_type": "code",
   "execution_count": 12,
   "metadata": {},
   "outputs": [
    {
     "data": {
      "text/plain": [
       "ObjectId('5bef83cdd972f623f4cc0eaf')"
      ]
     },
     "execution_count": 12,
     "metadata": {},
     "output_type": "execute_result"
    }
   ],
   "source": [
    "#check document that was inserted\n",
    "result.inserted_id"
   ]
  },
  {
   "cell_type": "markdown",
   "metadata": {},
   "source": [
    "#### Insert more than one documents"
   ]
  },
  {
   "cell_type": "code",
   "execution_count": 13,
   "metadata": {},
   "outputs": [],
   "source": [
    "result = db.test.insert_many([{\n",
    "        \"address\": {\n",
    "            \"street\": \"2 Avenue\",\n",
    "            \"zipcode\": \"10075\",\n",
    "            \"building\": \"1480\",\n",
    "            \"coord\": [-72.937413, 40.75466]\n",
    "        },\n",
    "        \"borough\": \"Manhattan\",\n",
    "        \"cuisine\": \"Indian\",\n",
    "        \"grades\": [\n",
    "            {\n",
    "                \"date\": datetime.strptime(\"2014-10-01\", \"%Y-%m-%d\"),\n",
    "                \"grade\": \"A\",\n",
    "                \"score\": 11\n",
    "            },\n",
    "            {\n",
    "                \"date\": datetime.strptime(\"2015-05-16\", \"%Y-%m-%d\"),\n",
    "                \"grade\": \"B\",\n",
    "                \"score\": 17\n",
    "            }\n",
    "        ],\n",
    "        \"name\": \"India Garden\",\n",
    "        \"restaurant_id\": \"4170462\" + str(i)\n",
    "    } for i in range(4)])"
   ]
  },
  {
   "cell_type": "code",
   "execution_count": 14,
   "metadata": {},
   "outputs": [
    {
     "data": {
      "text/plain": [
       "[ObjectId('5bef83d3d972f623f4cc0eb0'),\n",
       " ObjectId('5bef83d3d972f623f4cc0eb1'),\n",
       " ObjectId('5bef83d3d972f623f4cc0eb2'),\n",
       " ObjectId('5bef83d3d972f623f4cc0eb3')]"
      ]
     },
     "execution_count": 14,
     "metadata": {},
     "output_type": "execute_result"
    }
   ],
   "source": [
    "#documents that were inserted\n",
    "result.inserted_ids"
   ]
  },
  {
   "cell_type": "markdown",
   "metadata": {},
   "source": [
    "#### Update documents { update_one(),update_many() }\n",
    "In MongoDB, a write operation is atomic on the level of a single document, even if the operation modifies multiple embedded documents within a single document. When a single write operation modifies multiple documents, the modification of each document is atomic, but the operation as a whole is not atomic and other operations may interleave.However, you can isolate a single write operation that affects multiple documents using the $isolated operator."
   ]
  },
  {
   "cell_type": "code",
   "execution_count": 15,
   "metadata": {},
   "outputs": [],
   "source": [
    "#update document \n",
    "result = db.restaurants.update_one(\n",
    "    {\"cuisine\": \"Indian\"},\n",
    "    {\n",
    "        \"$set\": {\n",
    "            \"name\": \"Mexican Garden\"\n",
    "        },\n",
    "        \"$currentDate\": {\"lastModified\": True}\n",
    "    }\n",
    ")"
   ]
  },
  {
   "cell_type": "code",
   "execution_count": 16,
   "metadata": {},
   "outputs": [
    {
     "name": "stdout",
     "output_type": "stream",
     "text": [
      "1\n",
      "1\n",
      "{'_id': ObjectId('5bef6d19a6b0511f7dbc174a'), 'address': {'building': '320', 'coord': [-73.977597, 40.779593], 'street': 'Columbus Avenue', 'zipcode': '10023'}, 'borough': 'Manhattan', 'cuisine': 'Indian', 'grades': [{'date': datetime.datetime(2014, 10, 27, 0, 0), 'grade': 'A', 'score': 7}, {'date': datetime.datetime(2013, 7, 29, 0, 0), 'grade': 'A', 'score': 5}, {'date': datetime.datetime(2013, 2, 19, 0, 0), 'grade': 'A', 'score': 11}, {'date': datetime.datetime(2012, 1, 12, 0, 0), 'grade': 'A', 'score': 2}], 'name': 'Mexican Garden', 'restaurant_id': '40370243', 'lastModified': datetime.datetime(2018, 11, 17, 2, 58, 29, 811000)}\n"
     ]
    }
   ],
   "source": [
    "#documents that were updated\n",
    "print (result.matched_count)\n",
    "print (result.modified_count)\n",
    "cursor = db.restaurants.find({\"name\": \"Mexican Garden\"})\n",
    "printhead(cursor, 10)"
   ]
  },
  {
   "cell_type": "markdown",
   "metadata": {},
   "source": [
    "####  Replace documents {replace_one()}\n",
    "To replace the entire document rather than selected fields"
   ]
  },
  {
   "cell_type": "code",
   "execution_count": 17,
   "metadata": {},
   "outputs": [],
   "source": [
    "#update documents\n",
    "#After the update, the document only contains the field or fields in the replacement document.\n",
    "\n",
    "result = db.restaurants.replace_one(\n",
    "    {\"restaurant_id\": \"41704620\"},\n",
    "    {\n",
    "        \"name\": \"Mexican Garden\",\n",
    "        \"cuisine\": \"Mexican\",\n",
    "        \"address\": {\n",
    "            \"coord\": [-73.9557413, 40.7720266],\n",
    "            \"building\": \"1480\",\n",
    "            \"street\": \"2 Avenue\",\n",
    "            \"zipcode\": \"10075\"\n",
    "        }\n",
    "    }\n",
    ")"
   ]
  },
  {
   "cell_type": "code",
   "execution_count": 18,
   "metadata": {},
   "outputs": [
    {
     "name": "stdout",
     "output_type": "stream",
     "text": [
      "1\n",
      "1\n",
      "{'_id': ObjectId('5bef6d19a6b0511f7dbc174a'), 'address': {'building': '320', 'coord': [-73.977597, 40.779593], 'street': 'Columbus Avenue', 'zipcode': '10023'}, 'borough': 'Manhattan', 'cuisine': 'Indian', 'grades': [{'date': datetime.datetime(2014, 10, 27, 0, 0), 'grade': 'A', 'score': 7}, {'date': datetime.datetime(2013, 7, 29, 0, 0), 'grade': 'A', 'score': 5}, {'date': datetime.datetime(2013, 2, 19, 0, 0), 'grade': 'A', 'score': 11}, {'date': datetime.datetime(2012, 1, 12, 0, 0), 'grade': 'A', 'score': 2}], 'name': 'Mexican Garden', 'restaurant_id': '40370243', 'lastModified': datetime.datetime(2018, 11, 17, 2, 58, 29, 811000)}\n",
      "{'_id': ObjectId('5bef6d1aa6b0511f7dbc5b16'), 'name': 'Mexican Garden', 'cuisine': 'Mexican', 'address': {'coord': [-73.9557413, 40.7720266], 'building': '1480', 'street': '2 Avenue', 'zipcode': '10075'}}\n"
     ]
    }
   ],
   "source": [
    "#documents that were updated\n",
    "print (result.matched_count)\n",
    "print (result.modified_count)\n",
    "cursor = db.restaurants.find({\"name\": \"Mexican Garden\"})\n",
    "printhead(cursor, 10)"
   ]
  },
  {
   "cell_type": "markdown",
   "metadata": {},
   "source": [
    "####  Data Aggregation, Grouping & Sorting \n",
    "Documents enter a multi-stage pipeline that transforms the documents into aggregated results"
   ]
  },
  {
   "cell_type": "code",
   "execution_count": 37,
   "metadata": {},
   "outputs": [
    {
     "name": "stdout",
     "output_type": "stream",
     "text": [
      "{'_id': 'Manhattan', 'count': 10259}\n",
      "{'_id': 'Missing', 'count': 51}\n",
      "{'_id': 'Queens', 'count': 5656}\n",
      "{'_id': 'Bronx', 'count': 2338}\n",
      "{'_id': 'Staten Island', 'count': 969}\n",
      "{'_id': None, 'count': 1}\n",
      "{'_id': 'Brooklyn', 'count': 6086}\n"
     ]
    }
   ],
   "source": [
    "# Groups documents by city and get counts of each sorted in descending order\n",
    "cursor = db.restaurants.aggregate(\n",
    "    [ \n",
    "        { '$group': { '_id': \"$borough\", \"count\": { '$sum': 1 } } },\n",
    "        { '$sort' : {'total' : -1} }\n",
    "    ]\n",
    ")\n",
    "printhead(cursor, 10)"
   ]
  },
  {
   "cell_type": "code",
   "execution_count": 38,
   "metadata": {},
   "outputs": [
    {
     "name": "stdout",
     "output_type": "stream",
     "text": [
      "{'_id': None, 'Bronx restaurants': 2338}\n"
     ]
    }
   ],
   "source": [
    "# find a list of restaurants located in the Bronx, grouped by restaurant category\n",
    "cursor = db.restaurants.aggregate( \n",
    "      [ \n",
    "          { '$match': { \"borough\": \"Bronx\" } },\n",
    "#           { '$unwind': '$categories'},\n",
    "          { '$group': { '_id': \"$categories\", 'Bronx restaurants': { '$sum': 1 } } }\n",
    "      ]  )\n",
    "printhead(cursor, 10)"
   ]
  },
  {
   "cell_type": "code",
   "execution_count": 39,
   "metadata": {},
   "outputs": [
    {
     "name": "stdout",
     "output_type": "stream",
     "text": [
      "{'_id': '11368', 'count': 1}\n",
      "{'_id': '11101', 'count': 2}\n",
      "{'_id': '11106', 'count': 3}\n",
      "{'_id': '11377', 'count': 1}\n",
      "{'_id': '11103', 'count': 1}\n"
     ]
    }
   ],
   "source": [
    "# The following pipeline uses $match to query the restaurants collection for documents with borough \n",
    "# equal to \"Queens\" and cuisine equal to Brazilian. The _id field contains the distinct zipcode value.\n",
    "cursor = db.restaurants.aggregate(\n",
    "   [\n",
    "     { '$match': { \"borough\": \"Queens\", \"cuisine\": \"Brazilian\" } },\n",
    "     { '$group': { \"_id\": \"$address.zipcode\" , \"count\": { '$sum': 1 } } }\n",
    "   ] )\n",
    "printhead(cursor, 10)"
   ]
  },
  {
   "cell_type": "markdown",
   "metadata": {},
   "source": [
    "### Delete documents\n",
    "\n",
    "delete_one(), delete_many()"
   ]
  },
  {
   "cell_type": "code",
   "execution_count": 40,
   "metadata": {},
   "outputs": [
    {
     "data": {
      "text/plain": [
       "<pymongo.results.DeleteResult at 0x17acf615288>"
      ]
     },
     "execution_count": 40,
     "metadata": {},
     "output_type": "execute_result"
    }
   ],
   "source": [
    "#delete one document where name matches condition\n",
    "db.restaurants.delete_one({\"name\": \"India Garden\"})"
   ]
  },
  {
   "cell_type": "code",
   "execution_count": 41,
   "metadata": {},
   "outputs": [
    {
     "data": {
      "text/plain": [
       "<pymongo.results.DeleteResult at 0x17acf5bbbc8>"
      ]
     },
     "execution_count": 41,
     "metadata": {},
     "output_type": "execute_result"
    }
   ],
   "source": [
    "#delete all documents where name matches condition\n",
    "db.restaurants.delete_many({\"name\": \"India Garden\"})"
   ]
  },
  {
   "cell_type": "code",
   "execution_count": 42,
   "metadata": {},
   "outputs": [
    {
     "data": {
      "text/plain": [
       "<pymongo.results.DeleteResult at 0x17acf394688>"
      ]
     },
     "execution_count": 42,
     "metadata": {},
     "output_type": "execute_result"
    }
   ],
   "source": [
    "#delete all documents - empties the DB\n",
    "db.restaurants.delete_many({})"
   ]
  },
  {
   "cell_type": "code",
   "execution_count": 43,
   "metadata": {
    "collapsed": true
   },
   "outputs": [],
   "source": [
    "#find the first 10 documents in the db - none should be found since the data was deleted \n",
    "cursor = db.restaurants.find()\n",
    "printhead(cursor, 10)"
   ]
  },
  {
   "cell_type": "markdown",
   "metadata": {},
   "source": [
    "### Explore Further\n",
    "\n",
    "https://docs.mongodb.com/manual/core/bulk-write-operations/\n",
    "\n",
    "https://docs.mongodb.com/manual/reference/sql-comparison/"
   ]
  }
 ],
 "metadata": {
  "anaconda-cloud": {},
  "kernelspec": {
   "display_name": "Python 3",
   "language": "python",
   "name": "python3"
  },
  "language_info": {
   "codemirror_mode": {
    "name": "ipython",
    "version": 3
   },
   "file_extension": ".py",
   "mimetype": "text/x-python",
   "name": "python",
   "nbconvert_exporter": "python",
   "pygments_lexer": "ipython3",
   "version": "3.6.4"
  }
 },
 "nbformat": 4,
 "nbformat_minor": 1
}
