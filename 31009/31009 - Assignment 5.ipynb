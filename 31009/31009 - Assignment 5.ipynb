{
 "cells": [
  {
   "cell_type": "markdown",
   "metadata": {},
   "source": [
    "# 31009 Assignment 5: Support Vector Machines "
   ]
  },
  {
   "cell_type": "code",
   "execution_count": 1,
   "metadata": {},
   "outputs": [],
   "source": [
    "import pandas as pd\n",
    "import numpy as np\n",
    "import matplotlib.pyplot as plt\n",
    "%matplotlib inline\n",
    "\n",
    "from sklearn import metrics as skm\n",
    "from sklearn import svm\n",
    "\n",
    "from sklearn.preprocessing import StandardScaler\n",
    "from sklearn.ensemble import RandomForestClassifier\n",
    "from sklearn.model_selection import GridSearchCV"
   ]
  },
  {
   "cell_type": "markdown",
   "metadata": {},
   "source": [
    "## 1. Data Processing:"
   ]
  },
  {
   "cell_type": "code",
   "execution_count": 2,
   "metadata": {},
   "outputs": [
    {
     "name": "stdout",
     "output_type": "stream",
     "text": [
      "(507, 148)\n",
      "(168, 148)\n"
     ]
    }
   ],
   "source": [
    "tn = pd.read_csv('data/train_data5.csv')\n",
    "tt = pd.read_csv('data/test_data5.csv')\n",
    "\n",
    "tn = tn.dropna(how='any', axis = 0)\n",
    "tt = tt.dropna(how='any', axis = 0)\n",
    "\n",
    "print(tn.shape)\n",
    "print(tt.shape)"
   ]
  },
  {
   "cell_type": "code",
   "execution_count": 3,
   "metadata": {},
   "outputs": [
    {
     "data": {
      "text/html": [
       "<div>\n",
       "<style scoped>\n",
       "    .dataframe tbody tr th:only-of-type {\n",
       "        vertical-align: middle;\n",
       "    }\n",
       "\n",
       "    .dataframe tbody tr th {\n",
       "        vertical-align: top;\n",
       "    }\n",
       "\n",
       "    .dataframe thead th {\n",
       "        text-align: right;\n",
       "    }\n",
       "</style>\n",
       "<table border=\"1\" class=\"dataframe\">\n",
       "  <thead>\n",
       "    <tr style=\"text-align: right;\">\n",
       "      <th></th>\n",
       "      <th>class</th>\n",
       "      <th>BrdIndx</th>\n",
       "      <th>Area</th>\n",
       "      <th>Round</th>\n",
       "      <th>Bright</th>\n",
       "      <th>Compact</th>\n",
       "      <th>ShpIndx</th>\n",
       "      <th>Mean_G</th>\n",
       "      <th>Mean_R</th>\n",
       "      <th>Mean_NIR</th>\n",
       "      <th>...</th>\n",
       "      <th>SD_NIR_140</th>\n",
       "      <th>LW_140</th>\n",
       "      <th>GLCM1_140</th>\n",
       "      <th>Rect_140</th>\n",
       "      <th>GLCM2_140</th>\n",
       "      <th>Dens_140</th>\n",
       "      <th>Assym_140</th>\n",
       "      <th>NDVI_140</th>\n",
       "      <th>BordLngth_140</th>\n",
       "      <th>GLCM3_140</th>\n",
       "    </tr>\n",
       "  </thead>\n",
       "  <tbody>\n",
       "    <tr>\n",
       "      <th>0</th>\n",
       "      <td>car</td>\n",
       "      <td>1.27</td>\n",
       "      <td>91</td>\n",
       "      <td>0.97</td>\n",
       "      <td>231.38</td>\n",
       "      <td>1.39</td>\n",
       "      <td>1.47</td>\n",
       "      <td>207.92</td>\n",
       "      <td>241.74</td>\n",
       "      <td>244.48</td>\n",
       "      <td>...</td>\n",
       "      <td>26.18</td>\n",
       "      <td>2.00</td>\n",
       "      <td>0.50</td>\n",
       "      <td>0.85</td>\n",
       "      <td>6.29</td>\n",
       "      <td>1.67</td>\n",
       "      <td>0.70</td>\n",
       "      <td>-0.08</td>\n",
       "      <td>56</td>\n",
       "      <td>3806.36</td>\n",
       "    </tr>\n",
       "    <tr>\n",
       "      <th>1</th>\n",
       "      <td>concrete</td>\n",
       "      <td>2.36</td>\n",
       "      <td>241</td>\n",
       "      <td>1.56</td>\n",
       "      <td>216.15</td>\n",
       "      <td>2.46</td>\n",
       "      <td>2.51</td>\n",
       "      <td>187.85</td>\n",
       "      <td>229.39</td>\n",
       "      <td>231.20</td>\n",
       "      <td>...</td>\n",
       "      <td>22.29</td>\n",
       "      <td>2.25</td>\n",
       "      <td>0.79</td>\n",
       "      <td>0.55</td>\n",
       "      <td>8.42</td>\n",
       "      <td>1.38</td>\n",
       "      <td>0.81</td>\n",
       "      <td>-0.09</td>\n",
       "      <td>1746</td>\n",
       "      <td>1450.14</td>\n",
       "    </tr>\n",
       "    <tr>\n",
       "      <th>2</th>\n",
       "      <td>concrete</td>\n",
       "      <td>2.12</td>\n",
       "      <td>266</td>\n",
       "      <td>1.47</td>\n",
       "      <td>232.18</td>\n",
       "      <td>2.07</td>\n",
       "      <td>2.21</td>\n",
       "      <td>206.54</td>\n",
       "      <td>244.22</td>\n",
       "      <td>245.79</td>\n",
       "      <td>...</td>\n",
       "      <td>15.59</td>\n",
       "      <td>2.19</td>\n",
       "      <td>0.76</td>\n",
       "      <td>0.74</td>\n",
       "      <td>7.24</td>\n",
       "      <td>1.68</td>\n",
       "      <td>0.81</td>\n",
       "      <td>-0.07</td>\n",
       "      <td>566</td>\n",
       "      <td>1094.04</td>\n",
       "    </tr>\n",
       "    <tr>\n",
       "      <th>3</th>\n",
       "      <td>concrete</td>\n",
       "      <td>2.42</td>\n",
       "      <td>399</td>\n",
       "      <td>1.28</td>\n",
       "      <td>230.40</td>\n",
       "      <td>2.49</td>\n",
       "      <td>2.73</td>\n",
       "      <td>204.60</td>\n",
       "      <td>243.27</td>\n",
       "      <td>243.32</td>\n",
       "      <td>...</td>\n",
       "      <td>13.51</td>\n",
       "      <td>3.34</td>\n",
       "      <td>0.82</td>\n",
       "      <td>0.74</td>\n",
       "      <td>7.44</td>\n",
       "      <td>1.36</td>\n",
       "      <td>0.92</td>\n",
       "      <td>-0.09</td>\n",
       "      <td>1178</td>\n",
       "      <td>1125.38</td>\n",
       "    </tr>\n",
       "    <tr>\n",
       "      <th>4</th>\n",
       "      <td>concrete</td>\n",
       "      <td>2.15</td>\n",
       "      <td>944</td>\n",
       "      <td>1.73</td>\n",
       "      <td>193.18</td>\n",
       "      <td>2.28</td>\n",
       "      <td>4.10</td>\n",
       "      <td>165.98</td>\n",
       "      <td>205.55</td>\n",
       "      <td>208.00</td>\n",
       "      <td>...</td>\n",
       "      <td>15.65</td>\n",
       "      <td>50.08</td>\n",
       "      <td>0.85</td>\n",
       "      <td>0.49</td>\n",
       "      <td>8.15</td>\n",
       "      <td>0.23</td>\n",
       "      <td>1.00</td>\n",
       "      <td>-0.08</td>\n",
       "      <td>6232</td>\n",
       "      <td>1146.38</td>\n",
       "    </tr>\n",
       "  </tbody>\n",
       "</table>\n",
       "<p>5 rows × 148 columns</p>\n",
       "</div>"
      ],
      "text/plain": [
       "       class  BrdIndx  Area  Round  Bright  Compact  ShpIndx  Mean_G  Mean_R  \\\n",
       "0       car      1.27    91   0.97  231.38     1.39     1.47  207.92  241.74   \n",
       "1  concrete      2.36   241   1.56  216.15     2.46     2.51  187.85  229.39   \n",
       "2  concrete      2.12   266   1.47  232.18     2.07     2.21  206.54  244.22   \n",
       "3  concrete      2.42   399   1.28  230.40     2.49     2.73  204.60  243.27   \n",
       "4  concrete      2.15   944   1.73  193.18     2.28     4.10  165.98  205.55   \n",
       "\n",
       "   Mean_NIR    ...      SD_NIR_140  LW_140  GLCM1_140  Rect_140  GLCM2_140  \\\n",
       "0    244.48    ...           26.18    2.00       0.50      0.85       6.29   \n",
       "1    231.20    ...           22.29    2.25       0.79      0.55       8.42   \n",
       "2    245.79    ...           15.59    2.19       0.76      0.74       7.24   \n",
       "3    243.32    ...           13.51    3.34       0.82      0.74       7.44   \n",
       "4    208.00    ...           15.65   50.08       0.85      0.49       8.15   \n",
       "\n",
       "   Dens_140  Assym_140  NDVI_140  BordLngth_140  GLCM3_140  \n",
       "0      1.67       0.70     -0.08             56    3806.36  \n",
       "1      1.38       0.81     -0.09           1746    1450.14  \n",
       "2      1.68       0.81     -0.07            566    1094.04  \n",
       "3      1.36       0.92     -0.09           1178    1125.38  \n",
       "4      0.23       1.00     -0.08           6232    1146.38  \n",
       "\n",
       "[5 rows x 148 columns]"
      ]
     },
     "execution_count": 3,
     "metadata": {},
     "output_type": "execute_result"
    }
   ],
   "source": [
    "tt.head()"
   ]
  },
  {
   "cell_type": "code",
   "execution_count": 4,
   "metadata": {},
   "outputs": [],
   "source": [
    "y_train = tn['class']\n",
    "y_test  = tt['class']\n",
    "\n",
    "tn.drop(columns='class', inplace=True)\n",
    "tt.drop(columns='class', inplace=True)\n",
    "\n",
    "scaler = StandardScaler()\n",
    "scaler.fit(tn)\n",
    "\n",
    "X_train_scaled = pd.DataFrame(scaler.transform(tn), columns=tn.columns)\n",
    "X_test_scaled  = pd.DataFrame(scaler.transform(tt), columns=tt.columns)"
   ]
  },
  {
   "cell_type": "code",
   "execution_count": 5,
   "metadata": {},
   "outputs": [
    {
     "data": {
      "text/html": [
       "<div>\n",
       "<style scoped>\n",
       "    .dataframe tbody tr th:only-of-type {\n",
       "        vertical-align: middle;\n",
       "    }\n",
       "\n",
       "    .dataframe tbody tr th {\n",
       "        vertical-align: top;\n",
       "    }\n",
       "\n",
       "    .dataframe thead th {\n",
       "        text-align: right;\n",
       "    }\n",
       "</style>\n",
       "<table border=\"1\" class=\"dataframe\">\n",
       "  <thead>\n",
       "    <tr style=\"text-align: right;\">\n",
       "      <th></th>\n",
       "      <th>BrdIndx</th>\n",
       "      <th>Area</th>\n",
       "      <th>Round</th>\n",
       "      <th>Bright</th>\n",
       "      <th>Compact</th>\n",
       "      <th>ShpIndx</th>\n",
       "      <th>Mean_G</th>\n",
       "      <th>Mean_R</th>\n",
       "      <th>Mean_NIR</th>\n",
       "      <th>SD_G</th>\n",
       "      <th>...</th>\n",
       "      <th>SD_NIR_140</th>\n",
       "      <th>LW_140</th>\n",
       "      <th>GLCM1_140</th>\n",
       "      <th>Rect_140</th>\n",
       "      <th>GLCM2_140</th>\n",
       "      <th>Dens_140</th>\n",
       "      <th>Assym_140</th>\n",
       "      <th>NDVI_140</th>\n",
       "      <th>BordLngth_140</th>\n",
       "      <th>GLCM3_140</th>\n",
       "    </tr>\n",
       "  </thead>\n",
       "  <tbody>\n",
       "    <tr>\n",
       "      <th>0</th>\n",
       "      <td>-1.221577</td>\n",
       "      <td>-0.675542</td>\n",
       "      <td>-0.476591</td>\n",
       "      <td>1.041138</td>\n",
       "      <td>-0.912836</td>\n",
       "      <td>-1.124818</td>\n",
       "      <td>0.703688</td>\n",
       "      <td>1.082655</td>\n",
       "      <td>1.094633</td>\n",
       "      <td>2.152514</td>\n",
       "      <td>...</td>\n",
       "      <td>0.129506</td>\n",
       "      <td>-0.188670</td>\n",
       "      <td>-3.000051</td>\n",
       "      <td>1.278539</td>\n",
       "      <td>-2.234303</td>\n",
       "      <td>0.474507</td>\n",
       "      <td>0.183615</td>\n",
       "      <td>-0.803547</td>\n",
       "      <td>-1.224828</td>\n",
       "      <td>5.070035</td>\n",
       "    </tr>\n",
       "    <tr>\n",
       "      <th>1</th>\n",
       "      <td>0.540344</td>\n",
       "      <td>-0.460631</td>\n",
       "      <td>0.574291</td>\n",
       "      <td>0.800037</td>\n",
       "      <td>0.312553</td>\n",
       "      <td>0.324191</td>\n",
       "      <td>0.364434</td>\n",
       "      <td>0.914359</td>\n",
       "      <td>0.903921</td>\n",
       "      <td>-0.837096</td>\n",
       "      <td>...</td>\n",
       "      <td>-0.189572</td>\n",
       "      <td>-0.138043</td>\n",
       "      <td>-0.261676</td>\n",
       "      <td>-0.241913</td>\n",
       "      <td>0.471713</td>\n",
       "      <td>-0.168031</td>\n",
       "      <td>0.621794</td>\n",
       "      <td>-0.878340</td>\n",
       "      <td>0.316804</td>\n",
       "      <td>0.652683</td>\n",
       "    </tr>\n",
       "    <tr>\n",
       "      <th>2</th>\n",
       "      <td>0.152398</td>\n",
       "      <td>-0.424813</td>\n",
       "      <td>0.413987</td>\n",
       "      <td>1.053803</td>\n",
       "      <td>-0.134084</td>\n",
       "      <td>-0.093792</td>\n",
       "      <td>0.680361</td>\n",
       "      <td>1.116450</td>\n",
       "      <td>1.113446</td>\n",
       "      <td>-0.919693</td>\n",
       "      <td>...</td>\n",
       "      <td>-0.739139</td>\n",
       "      <td>-0.150193</td>\n",
       "      <td>-0.544956</td>\n",
       "      <td>0.721040</td>\n",
       "      <td>-1.027395</td>\n",
       "      <td>0.496664</td>\n",
       "      <td>0.621794</td>\n",
       "      <td>-0.728753</td>\n",
       "      <td>-0.759601</td>\n",
       "      <td>-0.014920</td>\n",
       "    </tr>\n",
       "    <tr>\n",
       "      <th>3</th>\n",
       "      <td>0.637331</td>\n",
       "      <td>-0.234259</td>\n",
       "      <td>0.075567</td>\n",
       "      <td>1.025624</td>\n",
       "      <td>0.346910</td>\n",
       "      <td>0.630713</td>\n",
       "      <td>0.647568</td>\n",
       "      <td>1.103504</td>\n",
       "      <td>1.077974</td>\n",
       "      <td>-1.000276</td>\n",
       "      <td>...</td>\n",
       "      <td>-0.909751</td>\n",
       "      <td>0.082694</td>\n",
       "      <td>0.021605</td>\n",
       "      <td>0.721040</td>\n",
       "      <td>-0.773309</td>\n",
       "      <td>-0.212344</td>\n",
       "      <td>1.059973</td>\n",
       "      <td>-0.878340</td>\n",
       "      <td>-0.201330</td>\n",
       "      <td>0.043835</td>\n",
       "    </tr>\n",
       "    <tr>\n",
       "      <th>4</th>\n",
       "      <td>0.200891</td>\n",
       "      <td>0.546581</td>\n",
       "      <td>0.877087</td>\n",
       "      <td>0.436406</td>\n",
       "      <td>0.106413</td>\n",
       "      <td>2.539504</td>\n",
       "      <td>-0.005246</td>\n",
       "      <td>0.589486</td>\n",
       "      <td>0.570749</td>\n",
       "      <td>0.148025</td>\n",
       "      <td>...</td>\n",
       "      <td>-0.734218</td>\n",
       "      <td>9.548045</td>\n",
       "      <td>0.304885</td>\n",
       "      <td>-0.546003</td>\n",
       "      <td>0.128697</td>\n",
       "      <td>-2.716028</td>\n",
       "      <td>1.378648</td>\n",
       "      <td>-0.803547</td>\n",
       "      <td>4.408971</td>\n",
       "      <td>0.083205</td>\n",
       "    </tr>\n",
       "  </tbody>\n",
       "</table>\n",
       "<p>5 rows × 147 columns</p>\n",
       "</div>"
      ],
      "text/plain": [
       "    BrdIndx      Area     Round    Bright   Compact   ShpIndx    Mean_G  \\\n",
       "0 -1.221577 -0.675542 -0.476591  1.041138 -0.912836 -1.124818  0.703688   \n",
       "1  0.540344 -0.460631  0.574291  0.800037  0.312553  0.324191  0.364434   \n",
       "2  0.152398 -0.424813  0.413987  1.053803 -0.134084 -0.093792  0.680361   \n",
       "3  0.637331 -0.234259  0.075567  1.025624  0.346910  0.630713  0.647568   \n",
       "4  0.200891  0.546581  0.877087  0.436406  0.106413  2.539504 -0.005246   \n",
       "\n",
       "     Mean_R  Mean_NIR      SD_G    ...      SD_NIR_140    LW_140  GLCM1_140  \\\n",
       "0  1.082655  1.094633  2.152514    ...        0.129506 -0.188670  -3.000051   \n",
       "1  0.914359  0.903921 -0.837096    ...       -0.189572 -0.138043  -0.261676   \n",
       "2  1.116450  1.113446 -0.919693    ...       -0.739139 -0.150193  -0.544956   \n",
       "3  1.103504  1.077974 -1.000276    ...       -0.909751  0.082694   0.021605   \n",
       "4  0.589486  0.570749  0.148025    ...       -0.734218  9.548045   0.304885   \n",
       "\n",
       "   Rect_140  GLCM2_140  Dens_140  Assym_140  NDVI_140  BordLngth_140  \\\n",
       "0  1.278539  -2.234303  0.474507   0.183615 -0.803547      -1.224828   \n",
       "1 -0.241913   0.471713 -0.168031   0.621794 -0.878340       0.316804   \n",
       "2  0.721040  -1.027395  0.496664   0.621794 -0.728753      -0.759601   \n",
       "3  0.721040  -0.773309 -0.212344   1.059973 -0.878340      -0.201330   \n",
       "4 -0.546003   0.128697 -2.716028   1.378648 -0.803547       4.408971   \n",
       "\n",
       "   GLCM3_140  \n",
       "0   5.070035  \n",
       "1   0.652683  \n",
       "2  -0.014920  \n",
       "3   0.043835  \n",
       "4   0.083205  \n",
       "\n",
       "[5 rows x 147 columns]"
      ]
     },
     "execution_count": 5,
     "metadata": {},
     "output_type": "execute_result"
    }
   ],
   "source": [
    "X_test_scaled.head()"
   ]
  },
  {
   "cell_type": "markdown",
   "metadata": {},
   "source": [
    "## 2. Random Forest Classifier - Base Model"
   ]
  },
  {
   "cell_type": "code",
   "execution_count": 6,
   "metadata": {},
   "outputs": [],
   "source": [
    "rf = RandomForestClassifier()\n",
    "\n",
    "rf.fit(X_train_scaled, y_train)\n",
    "\n",
    "y_tn_pred_rf = rf.predict(X_train_scaled)\n",
    "y_tt_pred_rf = rf.predict(X_test_scaled)"
   ]
  },
  {
   "cell_type": "code",
   "execution_count": 7,
   "metadata": {},
   "outputs": [
    {
     "name": "stdout",
     "output_type": "stream",
     "text": [
      "Random Forest Train Score: 1.0\n",
      "\n",
      "Random Forest Train Confusion Matrix\n",
      "[[45  0  0  0  0  0  0  0  0]\n",
      " [ 0 96  0  1  0  0  0  0  0]\n",
      " [ 0  1 20  0  0  0  0  0  0]\n",
      " [ 0  0  0 93  0  0  0  0  0]\n",
      " [ 0  0  0  0 83  0  0  0  0]\n",
      " [ 0  0  0  0  0 14  0  0  0]\n",
      " [ 0  0  0  0  0  0 45  0  0]\n",
      " [ 0  0  0  0  0  0  0 20  0]\n",
      " [ 0  0  0  0  0  0  0  0 89]]\n",
      "\n",
      "Random Forest Train Classification Report\n",
      "             precision    recall  f1-score   support\n",
      "\n",
      "   asphalt        1.00      1.00      1.00        45\n",
      "  building        0.99      0.99      0.99        97\n",
      "       car        1.00      0.95      0.98        21\n",
      "  concrete        0.99      1.00      0.99        93\n",
      "     grass        1.00      1.00      1.00        83\n",
      "      pool        1.00      1.00      1.00        14\n",
      "    shadow        1.00      1.00      1.00        45\n",
      "      soil        1.00      1.00      1.00        20\n",
      "      tree        1.00      1.00      1.00        89\n",
      "\n",
      "avg / total       1.00      1.00      1.00       507\n",
      "\n",
      "-----------------------------------------------------\n",
      "\n",
      "Random Forest Test Score: 1.0\n",
      "\n",
      "Random Forest Test Confusion Matrix\n",
      "[[14  0  0  0  0  0  0  0  0]\n",
      " [ 1 21  1  2  0  0  0  0  0]\n",
      " [ 1  0 10  2  0  0  1  1  0]\n",
      " [ 0  6  0 17  0  0  0  0  0]\n",
      " [ 0  0  0  0 25  0  0  0  4]\n",
      " [ 3  0  2  0  0 10  0  0  0]\n",
      " [ 2  0  0  0  0  0 14  0  0]\n",
      " [ 0  1  0  5  3  0  0  5  0]\n",
      " [ 0  0  0  1  1  0  0  0 15]]\n",
      "\n",
      "Random Forest Test Classification Report\n",
      "             precision    recall  f1-score   support\n",
      "\n",
      "   asphalt        0.67      1.00      0.80        14\n",
      "  building        0.75      0.84      0.79        25\n",
      "       car        0.77      0.67      0.71        15\n",
      "  concrete        0.63      0.74      0.68        23\n",
      "     grass        0.86      0.86      0.86        29\n",
      "      pool        1.00      0.67      0.80        15\n",
      "    shadow        0.93      0.88      0.90        16\n",
      "      soil        0.83      0.36      0.50        14\n",
      "      tree        0.79      0.88      0.83        17\n",
      "\n",
      "avg / total       0.80      0.78      0.77       168\n",
      "\n"
     ]
    }
   ],
   "source": [
    "print(\"Random Forest Train Score:\", rf.score(X_train_scaled, y_tn_pred_rf))\n",
    "print(\"\\nRandom Forest Train Confusion Matrix\")\n",
    "print(skm.confusion_matrix(y_train, y_tn_pred_rf))\n",
    "print(\"\\nRandom Forest Train Classification Report\")\n",
    "print(skm.classification_report(y_train, y_tn_pred_rf))\n",
    "print('-'*53 + '\\n')\n",
    "print(\"Random Forest Test Score:\", rf.score(X_test_scaled, y_tt_pred_rf))\n",
    "print(\"\\nRandom Forest Test Confusion Matrix\")\n",
    "print(skm.confusion_matrix(y_test, y_tt_pred_rf))\n",
    "print(\"\\nRandom Forest Test Classification Report\")\n",
    "print(skm.classification_report(y_test, y_tt_pred_rf))"
   ]
  },
  {
   "cell_type": "code",
   "execution_count": 8,
   "metadata": {},
   "outputs": [],
   "source": [
    "feature_importances = pd.DataFrame({'feature':tn.columns, 'importance':rf.feature_importances_})\n",
    "feature_importances.sort_values('importance', ascending=False, inplace=True)"
   ]
  },
  {
   "cell_type": "code",
   "execution_count": 9,
   "metadata": {},
   "outputs": [
    {
     "data": {
      "text/plain": [
       "Text(0.5,1,'Feature Importance of Random Forest Base Model')"
      ]
     },
     "execution_count": 9,
     "metadata": {},
     "output_type": "execute_result"
    },
    {
     "data": {
      "image/png": "[encoded data removed]",
      "text/plain": [
       "<matplotlib.figure.Figure at 0x110ec5940>"
      ]
     },
     "metadata": {},
     "output_type": "display_data"
    }
   ],
   "source": [
    "ax = feature_importances.iloc[:5,].plot.bar(x='feature',y='importance', legend=False)\n",
    "ax.set_ylabel('Feature Importance')\n",
    "ax.set_title('Feature Importance of Random Forest Base Model')"
   ]
  },
  {
   "cell_type": "markdown",
   "metadata": {},
   "source": [
    "## 3. LinearSVM Classifier - Base Model"
   ]
  },
  {
   "cell_type": "code",
   "execution_count": 10,
   "metadata": {},
   "outputs": [],
   "source": [
    "svc = svm.LinearSVC()\n",
    "svc.fit(X_train_scaled, y_train)\n",
    "\n",
    "y_tn_pred_svc = svc.predict(X_train_scaled)\n",
    "y_tt_pred_svc = svc.predict(X_test_scaled)"
   ]
  },
  {
   "cell_type": "code",
   "execution_count": 11,
   "metadata": {},
   "outputs": [
    {
     "name": "stdout",
     "output_type": "stream",
     "text": [
      "LinearSVM  Train Score: 1.0\n",
      "\n",
      "LinearSVM  Train Confusion Matrix\n",
      "[[45  0  0  0  0  0  0  0  0]\n",
      " [ 0 97  0  0  0  0  0  0  0]\n",
      " [ 0  0 21  0  0  0  0  0  0]\n",
      " [ 0  0  0 93  0  0  0  0  0]\n",
      " [ 0  1  0  0 80  0  0  0  2]\n",
      " [ 0  0  0  0  0 14  0  0  0]\n",
      " [ 0  0  0  0  0  0 45  0  0]\n",
      " [ 0  0  0  0  0  0  0 20  0]\n",
      " [ 0  0  0  0  0  0  0  0 89]]\n",
      "\n",
      "LinearSVM  Train Classification Report\n",
      "             precision    recall  f1-score   support\n",
      "\n",
      "   asphalt        1.00      1.00      1.00        45\n",
      "  building        0.99      1.00      0.99        97\n",
      "       car        1.00      1.00      1.00        21\n",
      "  concrete        1.00      1.00      1.00        93\n",
      "     grass        1.00      0.96      0.98        83\n",
      "      pool        1.00      1.00      1.00        14\n",
      "    shadow        1.00      1.00      1.00        45\n",
      "      soil        1.00      1.00      1.00        20\n",
      "      tree        0.98      1.00      0.99        89\n",
      "\n",
      "avg / total       0.99      0.99      0.99       507\n",
      "\n",
      "-----------------------------------------------------\n",
      "\n",
      "LinearSVM  Test Score: 1.0\n",
      "\n",
      "LinearSVM  Test Confusion Matrix\n",
      "[[13  0  0  0  0  0  1  0  0]\n",
      " [ 0 22  1  1  1  0  0  0  0]\n",
      " [ 0  2 12  0  0  0  0  0  1]\n",
      " [ 1  6  1 15  0  0  0  0  0]\n",
      " [ 0  0  0  1 26  0  0  0  2]\n",
      " [ 1  0  1  0  0 13  0  0  0]\n",
      " [ 2  0  0  0  0  0 14  0  0]\n",
      " [ 0  4  0  1  3  0  0  6  0]\n",
      " [ 0  0  0  1  6  0  0  0 10]]\n",
      "\n",
      "LinearSVM  Test Classification Report\n",
      "             precision    recall  f1-score   support\n",
      "\n",
      "   asphalt        0.76      0.93      0.84        14\n",
      "  building        0.65      0.88      0.75        25\n",
      "       car        0.80      0.80      0.80        15\n",
      "  concrete        0.79      0.65      0.71        23\n",
      "     grass        0.72      0.90      0.80        29\n",
      "      pool        1.00      0.87      0.93        15\n",
      "    shadow        0.93      0.88      0.90        16\n",
      "      soil        1.00      0.43      0.60        14\n",
      "      tree        0.77      0.59      0.67        17\n",
      "\n",
      "avg / total       0.80      0.78      0.77       168\n",
      "\n"
     ]
    }
   ],
   "source": [
    "print(\"LinearSVM  Train Score:\", svc.score(X_train_scaled, y_tn_pred_svc))\n",
    "print(\"\\nLinearSVM  Train Confusion Matrix\")\n",
    "print(skm.confusion_matrix(y_train, y_tn_pred_svc))\n",
    "print(\"\\nLinearSVM  Train Classification Report\")\n",
    "print(skm.classification_report(y_train, y_tn_pred_svc))\n",
    "print('-'*53 + '\\n')\n",
    "print(\"LinearSVM  Test Score:\", svc.score(X_test_scaled, y_tt_pred_svc))\n",
    "print(\"\\nLinearSVM  Test Confusion Matrix\")\n",
    "print(skm.confusion_matrix(y_test, y_tt_pred_svc))\n",
    "print(\"\\nLinearSVM  Test Classification Report\")\n",
    "print(skm.classification_report(y_test, y_tt_pred_svc))"
   ]
  },
  {
   "cell_type": "markdown",
   "metadata": {},
   "source": [
    "## 4. Support Vector Machine Classifier + Linear Kernel + Grid Search"
   ]
  },
  {
   "cell_type": "code",
   "execution_count": 12,
   "metadata": {},
   "outputs": [],
   "source": [
    "from sklearn.model_selection import cross_val_score"
   ]
  },
  {
   "cell_type": "code",
   "execution_count": 13,
   "metadata": {},
   "outputs": [],
   "source": [
    "C_arr = np.arange(0.0, 10, 0.2)\n",
    "C_arr[0] = 0.01\n",
    "C_arr = np.append(C_arr, 10)"
   ]
  },
  {
   "cell_type": "code",
   "execution_count": 14,
   "metadata": {},
   "outputs": [],
   "source": [
    "parameters = {'C': C_arr}\n",
    "\n",
    "svc = svm.SVC(kernel='linear')"
   ]
  },
  {
   "cell_type": "code",
   "execution_count": 15,
   "metadata": {},
   "outputs": [
    {
     "data": {
      "text/plain": [
       "GridSearchCV(cv=5, error_score='raise',\n",
       "       estimator=SVC(C=1.0, cache_size=200, class_weight=None, coef0=0.0,\n",
       "  decision_function_shape='ovr', degree=3, gamma='auto', kernel='linear',\n",
       "  max_iter=-1, probability=False, random_state=None, shrinking=True,\n",
       "  tol=0.001, verbose=False),\n",
       "       fit_params=None, iid=True, n_jobs=-1,\n",
       "       param_grid={'C': array([ 0.01,  0.2 ,  0.4 ,  0.6 ,  0.8 ,  1.  ,  1.2 ,  1.4 ,  1.6 ,\n",
       "        1.8 ,  2.  ,  2.2 ,  2.4 ,  2.6 ,  2.8 ,  3.  ,  3.2 ,  3.4 ,\n",
       "        3.6 ,  3.8 ,  4.  ,  4.2 ,  4.4 ,  4.6 ,  4.8 ,  5.  ,  5.2 ,\n",
       "        5.4 ,  5.6 ,  5.8 ,  6.  ,  6.2 ,  6.4 ,  6.6 ,  6.8 ,  7.  ,\n",
       "        7.2 ,  7.4 ,  7.6 ,  7.8 ,  8.  ,  8.2 ,  8.4 ,  8.6 ,  8.8 ,\n",
       "        9.  ,  9.2 ,  9.4 ,  9.6 ,  9.8 , 10.  ])},\n",
       "       pre_dispatch='2*n_jobs', refit=True, return_train_score=True,\n",
       "       scoring=None, verbose=0)"
      ]
     },
     "execution_count": 15,
     "metadata": {},
     "output_type": "execute_result"
    }
   ],
   "source": [
    "grid_search = GridSearchCV(svc, parameters, cv=5, refit=True, n_jobs=-1, verbose=0, return_train_score=True)\n",
    "\n",
    "grid_search.fit(X_train_scaled, y_train)"
   ]
  },
  {
   "cell_type": "code",
   "execution_count": 16,
   "metadata": {},
   "outputs": [
    {
     "name": "stderr",
     "output_type": "stream",
     "text": [
      "/Users/rowena/miniconda3/envs/msca/lib/python3.6/site-packages/pandas/plotting/_core.py:1716: UserWarning: Pandas doesn't allow columns to be created via a new attribute name - see https://pandas.pydata.org/pandas-docs/stable/indexing.html#attribute-access\n",
      "  series.name = label\n"
     ]
    },
    {
     "data": {
      "image/png": "[encoded data removed]",
      "text/plain": [
       "<matplotlib.figure.Figure at 0x10b6f2c50>"
      ]
     },
     "metadata": {},
     "output_type": "display_data"
    }
   ],
   "source": [
    "cv_scores = pd.DataFrame({\n",
    "    'c':C_arr,\n",
    "    'train':grid_search.cv_results_['mean_train_score'],\n",
    "    'test':grid_search.cv_results_['mean_test_score']    \n",
    "})\n",
    "\n",
    "ax = cv_scores.plot(x='c', y=['train', 'test'])"
   ]
  },
  {
   "cell_type": "markdown",
   "metadata": {},
   "source": [
    "The best model with a linear kerel is the one with the minimum possible C. This is a model that is not tolerant of misclassifications. This might be evidence that a linear kernel isn't the right fit."
   ]
  },
  {
   "cell_type": "code",
   "execution_count": 17,
   "metadata": {},
   "outputs": [
    {
     "name": "stdout",
     "output_type": "stream",
     "text": [
      "Best parameters: {'C': 0.01}\n",
      "\n",
      "Best Model: SVC(C=0.01, cache_size=200, class_weight=None, coef0=0.0,\n",
      "  decision_function_shape='ovr', degree=3, gamma='auto', kernel='linear',\n",
      "  max_iter=-1, probability=False, random_state=None, shrinking=True,\n",
      "  tol=0.001, verbose=False)\n"
     ]
    }
   ],
   "source": [
    "print('Best parameters:', grid_search.best_params_)\n",
    "print()\n",
    "print('Best Model:', grid_search.best_estimator_)"
   ]
  },
  {
   "cell_type": "code",
   "execution_count": 18,
   "metadata": {},
   "outputs": [],
   "source": [
    "y_tn_pred_svc = grid_search.best_estimator_.predict(X_train_scaled)\n",
    "y_tt_pred_svc = grid_search.best_estimator_.predict(X_test_scaled)"
   ]
  },
  {
   "cell_type": "code",
   "execution_count": 19,
   "metadata": {},
   "outputs": [
    {
     "name": "stdout",
     "output_type": "stream",
     "text": [
      "\n",
      "SVC w. Linear Kernel & GridSearchCV  Test Confusion Matrix\n",
      "[[13  0  0  0  0  0  1  0  0]\n",
      " [ 0 22  0  2  1  0  0  0  0]\n",
      " [ 0  1 14  0  0  0  0  0  0]\n",
      " [ 0  5  0 17  0  0  0  1  0]\n",
      " [ 0  0  0  1 25  0  0  0  3]\n",
      " [ 0  0  0  0  0 14  1  0  0]\n",
      " [ 1  0  0  0  0  0 15  0  0]\n",
      " [ 0  3  0  5  2  0  0  4  0]\n",
      " [ 0  0  0  1  2  0  0  0 14]]\n",
      "\n",
      "SVC w. Linear Kernel & GridSearchCV  Test Classification Report\n",
      "             precision    recall  f1-score   support\n",
      "\n",
      "   asphalt        0.93      0.93      0.93        14\n",
      "  building        0.71      0.88      0.79        25\n",
      "       car        1.00      0.93      0.97        15\n",
      "  concrete        0.65      0.74      0.69        23\n",
      "     grass        0.83      0.86      0.85        29\n",
      "      pool        1.00      0.93      0.97        15\n",
      "    shadow        0.88      0.94      0.91        16\n",
      "      soil        0.80      0.29      0.42        14\n",
      "      tree        0.82      0.82      0.82        17\n",
      "\n",
      "avg / total       0.83      0.82      0.81       168\n",
      "\n"
     ]
    }
   ],
   "source": [
    "print(\"\\nSVC w. Linear Kernel & GridSearchCV  Test Confusion Matrix\")\n",
    "print(skm.confusion_matrix(y_test, y_tt_pred_svc))\n",
    "print(\"\\nSVC w. Linear Kernel & GridSearchCV  Test Classification Report\")\n",
    "print(skm.classification_report(y_test, y_tt_pred_svc))"
   ]
  },
  {
   "cell_type": "markdown",
   "metadata": {},
   "source": [
    "## 5. Support Vector Machine Classifier + Polynomial Kernel + Grid Search"
   ]
  },
  {
   "cell_type": "code",
   "execution_count": 20,
   "metadata": {},
   "outputs": [],
   "source": [
    "svc_poly = svm.SVC(kernel='poly')"
   ]
  },
  {
   "cell_type": "code",
   "execution_count": 21,
   "metadata": {},
   "outputs": [
    {
     "name": "stdout",
     "output_type": "stream",
     "text": [
      "Fitting 5 folds for each of 255 candidates, totalling 1275 fits\n"
     ]
    },
    {
     "name": "stderr",
     "output_type": "stream",
     "text": [
      "[Parallel(n_jobs=-1)]: Done  42 tasks      | elapsed:    2.5s\n",
      "[Parallel(n_jobs=-1)]: Done 192 tasks      | elapsed:   10.7s\n",
      "[Parallel(n_jobs=-1)]: Done 442 tasks      | elapsed:   20.8s\n",
      "[Parallel(n_jobs=-1)]: Done 792 tasks      | elapsed:   35.6s\n",
      "[Parallel(n_jobs=-1)]: Done 1242 tasks      | elapsed:   53.8s\n",
      "[Parallel(n_jobs=-1)]: Done 1275 out of 1275 | elapsed:   54.9s finished\n"
     ]
    },
    {
     "data": {
      "text/plain": [
       "GridSearchCV(cv=5, error_score='raise',\n",
       "       estimator=SVC(C=1.0, cache_size=200, class_weight=None, coef0=0.0,\n",
       "  decision_function_shape='ovr', degree=3, gamma='auto', kernel='poly',\n",
       "  max_iter=-1, probability=False, random_state=None, shrinking=True,\n",
       "  tol=0.001, verbose=False),\n",
       "       fit_params=None, iid=True, n_jobs=-1,\n",
       "       param_grid={'C': array([ 0.01,  0.2 ,  0.4 ,  0.6 ,  0.8 ,  1.  ,  1.2 ,  1.4 ,  1.6 ,\n",
       "        1.8 ,  2.  ,  2.2 ,  2.4 ,  2.6 ,  2.8 ,  3.  ,  3.2 ,  3.4 ,\n",
       "        3.6 ,  3.8 ,  4.  ,  4.2 ,  4.4 ,  4.6 ,  4.8 ,  5.  ,  5.2 ,\n",
       "        5.4 ,  5.6 ,  5.8 ,  6.  ,  6.2 ,  6.4 ,  6.6 ,  6.8 ,  7.  ,\n",
       "        7.2 ,  7.4 ,  7.6 ,  7.8 ,  8.  ,  8.2 ,  8.4 ,  8.6 ,  8.8 ,\n",
       "        9.  ,  9.2 ,  9.4 ,  9.6 ,  9.8 , 10.  ]), 'degree': [2, 3, 4, 5, 6]},\n",
       "       pre_dispatch='2*n_jobs', refit=True, return_train_score='warn',\n",
       "       scoring=None, verbose=1)"
      ]
     },
     "execution_count": 21,
     "metadata": {},
     "output_type": "execute_result"
    }
   ],
   "source": [
    "parameters = {\n",
    "    'C': C_arr,\n",
    "    'degree': [2, 3, 4, 5, 6]\n",
    "}\n",
    "\n",
    "grid_search_svc_poly = GridSearchCV(svc_poly, parameters, cv=5, refit=True, n_jobs=-1, verbose=1)\n",
    "grid_search_svc_poly.fit(X_train_scaled, y_train)"
   ]
  },
  {
   "cell_type": "code",
   "execution_count": 22,
   "metadata": {},
   "outputs": [
    {
     "name": "stdout",
     "output_type": "stream",
     "text": [
      "Best parameters: {'C': 8.4, 'degree': 3}\n",
      "\n",
      "Best Model: SVC(C=8.4, cache_size=200, class_weight=None, coef0=0.0,\n",
      "  decision_function_shape='ovr', degree=3, gamma='auto', kernel='poly',\n",
      "  max_iter=-1, probability=False, random_state=None, shrinking=True,\n",
      "  tol=0.001, verbose=False)\n"
     ]
    }
   ],
   "source": [
    "print('Best parameters:', grid_search_svc_poly.best_params_)\n",
    "print()\n",
    "print('Best Model:', grid_search_svc_poly.best_estimator_)"
   ]
  },
  {
   "cell_type": "code",
   "execution_count": 23,
   "metadata": {},
   "outputs": [],
   "source": [
    "y_tt_pred_svc_poly = grid_search_svc_poly.best_estimator_.predict(X_test_scaled)"
   ]
  },
  {
   "cell_type": "code",
   "execution_count": 24,
   "metadata": {},
   "outputs": [
    {
     "name": "stdout",
     "output_type": "stream",
     "text": [
      "\n",
      "SVC w. Poly Kernel & GridSearchCV  Test Confusion Matrix\n",
      "[[13  0  0  0  0  0  1  0  0]\n",
      " [ 0 22  0  2  1  0  0  0  0]\n",
      " [ 0  2 11  0  0  1  0  1  0]\n",
      " [ 0  5  0 17  0  0  0  1  0]\n",
      " [ 0  0  0  0 26  0  0  1  2]\n",
      " [ 0  0  0  0  0 14  1  0  0]\n",
      " [ 2  0  0  0  0  0 14  0  0]\n",
      " [ 0  3  0  4  6  0  0  1  0]\n",
      " [ 0  0  0  1  3  0  0  0 13]]\n",
      "\n",
      "SVC w. Poly Kernel & GridSearchCV  Test Classification Report\n",
      "             precision    recall  f1-score   support\n",
      "\n",
      "   asphalt        0.87      0.93      0.90        14\n",
      "  building        0.69      0.88      0.77        25\n",
      "       car        1.00      0.73      0.85        15\n",
      "  concrete        0.71      0.74      0.72        23\n",
      "     grass        0.72      0.90      0.80        29\n",
      "      pool        0.93      0.93      0.93        15\n",
      "    shadow        0.88      0.88      0.88        16\n",
      "      soil        0.25      0.07      0.11        14\n",
      "      tree        0.87      0.76      0.81        17\n",
      "\n",
      "avg / total       0.76      0.78      0.76       168\n",
      "\n"
     ]
    }
   ],
   "source": [
    "print(\"\\nSVC w. Poly Kernel & GridSearchCV  Test Confusion Matrix\")\n",
    "print(skm.confusion_matrix(y_test, y_tt_pred_svc_poly))\n",
    "print(\"\\nSVC w. Poly Kernel & GridSearchCV  Test Classification Report\")\n",
    "print(skm.classification_report(y_test, y_tt_pred_svc_poly))"
   ]
  },
  {
   "cell_type": "markdown",
   "metadata": {},
   "source": [
    "## 6. Support Vector Machine Classifier + RBF Kernel + Grid Search"
   ]
  },
  {
   "cell_type": "code",
   "execution_count": 25,
   "metadata": {},
   "outputs": [
    {
     "name": "stdout",
     "output_type": "stream",
     "text": [
      "Fitting 5 folds for each of 204 candidates, totalling 1020 fits\n"
     ]
    },
    {
     "name": "stderr",
     "output_type": "stream",
     "text": [
      "[Parallel(n_jobs=-1)]: Done  42 tasks      | elapsed:    4.3s\n",
      "[Parallel(n_jobs=-1)]: Done 192 tasks      | elapsed:   13.1s\n",
      "[Parallel(n_jobs=-1)]: Done 442 tasks      | elapsed:   32.5s\n",
      "[Parallel(n_jobs=-1)]: Done 792 tasks      | elapsed:  1.1min\n",
      "[Parallel(n_jobs=-1)]: Done 1020 out of 1020 | elapsed:  1.5min finished\n"
     ]
    },
    {
     "data": {
      "text/plain": [
       "GridSearchCV(cv=5, error_score='raise',\n",
       "       estimator=SVC(C=1.0, cache_size=200, class_weight=None, coef0=0.0,\n",
       "  decision_function_shape='ovr', degree=3, gamma='auto', kernel='rbf',\n",
       "  max_iter=-1, probability=False, random_state=None, shrinking=True,\n",
       "  tol=0.001, verbose=False),\n",
       "       fit_params=None, iid=True, n_jobs=-1,\n",
       "       param_grid={'C': array([ 0.01,  0.2 ,  0.4 ,  0.6 ,  0.8 ,  1.  ,  1.2 ,  1.4 ,  1.6 ,\n",
       "        1.8 ,  2.  ,  2.2 ,  2.4 ,  2.6 ,  2.8 ,  3.  ,  3.2 ,  3.4 ,\n",
       "        3.6 ,  3.8 ,  4.  ,  4.2 ,  4.4 ,  4.6 ,  4.8 ,  5.  ,  5.2 ,\n",
       "        5.4 ,  5.6 ,  5.8 ,  6.  ,  6.2 ,  6.4 ,  6.6 ,  6.8 ,  7.  ,\n",
       "        7.2 ,  7.4 ,  7.6 ,  7.8 ,  8.  ,  8.2 ,  8.4 ,  8.6 ,  8.8 ,\n",
       "        9.  ,  9.2 ,  9.4 ,  9.6 ,  9.8 , 10.  ]), 'gamma': [0.1, 1, 10, 100]},\n",
       "       pre_dispatch='2*n_jobs', refit=True, return_train_score='warn',\n",
       "       scoring=None, verbose=1)"
      ]
     },
     "execution_count": 25,
     "metadata": {},
     "output_type": "execute_result"
    }
   ],
   "source": [
    "svc_rbf = svm.SVC(kernel='rbf')\n",
    "\n",
    "parameters = {\n",
    "    'C': C_arr,\n",
    "    'gamma': [0.1, 1, 10, 100]\n",
    "}\n",
    "\n",
    "grid_search_svc_rbf = GridSearchCV(svc_rbf, parameters, cv=5, refit=True, n_jobs=-1, verbose=1)\n",
    "grid_search_svc_rbf.fit(X_train_scaled, y_train)"
   ]
  },
  {
   "cell_type": "code",
   "execution_count": 26,
   "metadata": {},
   "outputs": [
    {
     "name": "stdout",
     "output_type": "stream",
     "text": [
      "Best parameters: {'C': 1.4000000000000001, 'gamma': 0.1}\n",
      "\n",
      "Best Model: SVC(C=1.4000000000000001, cache_size=200, class_weight=None, coef0=0.0,\n",
      "  decision_function_shape='ovr', degree=3, gamma=0.1, kernel='rbf',\n",
      "  max_iter=-1, probability=False, random_state=None, shrinking=True,\n",
      "  tol=0.001, verbose=False)\n"
     ]
    }
   ],
   "source": [
    "print('Best parameters:', grid_search_svc_rbf.best_params_)\n",
    "print()\n",
    "print('Best Model:', grid_search_svc_rbf.best_estimator_)"
   ]
  },
  {
   "cell_type": "code",
   "execution_count": 27,
   "metadata": {},
   "outputs": [],
   "source": [
    "y_tt_pred_svc_rbf = grid_search_svc_rbf.best_estimator_.predict(X_test_scaled)"
   ]
  },
  {
   "cell_type": "code",
   "execution_count": 28,
   "metadata": {},
   "outputs": [
    {
     "name": "stdout",
     "output_type": "stream",
     "text": [
      "\n",
      "SVC w. Linear Kernel & GridSearchCV  Test Confusion Matrix\n",
      "[[ 0  0  0 14  0  0  0  0  0]\n",
      " [ 0 17  0  7  0  0  0  0  1]\n",
      " [ 0  0  0 15  0  0  0  0  0]\n",
      " [ 0  3  0 20  0  0  0  0  0]\n",
      " [ 0  0  0  9  9  0  0  0 11]\n",
      " [ 0  0  0 15  0  0  0  0  0]\n",
      " [ 0  0  0 12  0  0  0  0  4]\n",
      " [ 0  0  0 13  1  0  0  0  0]\n",
      " [ 0  0  0  1  0  0  0  0 16]]\n",
      "\n",
      "SVC w. Linear Kernel & GridSearchCV  Test Classification Report\n",
      "             precision    recall  f1-score   support\n",
      "\n",
      "   asphalt        0.00      0.00      0.00        14\n",
      "  building        0.85      0.68      0.76        25\n",
      "       car        0.00      0.00      0.00        15\n",
      "  concrete        0.19      0.87      0.31        23\n",
      "     grass        0.90      0.31      0.46        29\n",
      "      pool        0.00      0.00      0.00        15\n",
      "    shadow        0.00      0.00      0.00        16\n",
      "      soil        0.00      0.00      0.00        14\n",
      "      tree        0.50      0.94      0.65        17\n",
      "\n",
      "avg / total       0.36      0.37      0.30       168\n",
      "\n"
     ]
    },
    {
     "name": "stderr",
     "output_type": "stream",
     "text": [
      "/Users/rowena/miniconda3/envs/msca/lib/python3.6/site-packages/sklearn/metrics/classification.py:1135: UndefinedMetricWarning: Precision and F-score are ill-defined and being set to 0.0 in labels with no predicted samples.\n",
      "  'precision', 'predicted', average, warn_for)\n"
     ]
    }
   ],
   "source": [
    "print(\"\\nSVC w. Linear Kernel & GridSearchCV  Test Confusion Matrix\")\n",
    "print(skm.confusion_matrix(y_test, y_tt_pred_svc_rbf))\n",
    "print(\"\\nSVC w. Linear Kernel & GridSearchCV  Test Classification Report\")\n",
    "print(skm.classification_report(y_test, y_tt_pred_svc_rbf))"
   ]
  },
  {
   "cell_type": "markdown",
   "metadata": {},
   "source": [
    "## 7. Comparison of Models\n",
    "\n",
    "In this assignment there were many models built: RandomForest, Linear SVC, Linear SVC w. CV, Poly SVC, and Radial SVC. The base model RandomForest performed pretty well and even outperformed the Linear SVC base model with the default hyperparameters. The tuning during k-fold cross validation improved the Linear SVC quite a bit, increasing the test percision three percentage points. \n",
    "\n",
    "The linear and poly models performed very similarly. The polynomial degree hypterparameter was only two so on scaled data it could be that it ended up looking very similar to the linear classifier. It's likely that is the case given the similiaries in the classification report and confusion matrix. The radial kernel performed the worst out of all the models with less than half the precision of the linear or polynomial kernels.\n",
    "\n",
    "Overall the best model accoriding to the test classfication report is the linear SVC with tuned hyperparameters. While the polynomial kernel had the same perfomance metrics, it introduced unnecessary complexity so a simpler model is preferred."
   ]
  },
  {
   "cell_type": "markdown",
   "metadata": {},
   "source": [
    "## 8. Comparison of Kernels\n",
    "\n",
    "During the grid search cross-validation phase, three different kernels were compared: linear, polynomial, and radial. The linear and polynomial kernels in this homework resulted in models with almost the exact same outputs. The radial kernel looked completely different however. The benefits and downsides of using one kernel over another is all about the true decision boundary. If the decision boundary is in fact linear, then nothing will outperform a linear kernal. If it's a tad non-linear then a polynomial kernal will help approximate that. If the decision boundary is more localized then a radial kernel will work better. If the decision boundary is linear, a radial kernel will do an awful job as we see here, because it's effectively trying to draw a circle around a line. "
   ]
  },
  {
   "cell_type": "markdown",
   "metadata": {},
   "source": [
    "## 9. Explanation of Hyperparameters\n",
    "\n",
    "The hyperparameter of C is used in all three SVC models built in this assignment. In a SVC, the total error cannot exceed C. Error is whenever a datapoint is misclassified (-1) or falls within the margin. A high value for C means a wide margin and a higher tolerance for misclassification. A very low C means a low tolerance for misclassification and a tigher margin. The optimization problem will differ greatly depending on the value of C. A C too large will overfit the data and a C too small will tend to underfit but not giving enough weight to points farther from the margin."
   ]
  },
  {
   "cell_type": "markdown",
   "metadata": {},
   "source": [
    "## 10. Overfitting Check"
   ]
  },
  {
   "cell_type": "code",
   "execution_count": 29,
   "metadata": {},
   "outputs": [
    {
     "name": "stdout",
     "output_type": "stream",
     "text": [
      "1.0\n",
      "1.0\n",
      "             precision    recall  f1-score   support\n",
      "\n",
      "   asphalt        0.93      0.89      0.91        45\n",
      "  building        0.85      0.90      0.87        97\n",
      "       car        1.00      0.90      0.95        21\n",
      "  concrete        0.87      0.89      0.88        93\n",
      "     grass        0.91      0.84      0.88        83\n",
      "      pool        1.00      0.86      0.92        14\n",
      "    shadow        0.86      0.96      0.91        45\n",
      "      soil        1.00      0.55      0.71        20\n",
      "      tree        0.87      0.96      0.91        89\n",
      "\n",
      "avg / total       0.89      0.89      0.89       507\n",
      "\n",
      "             precision    recall  f1-score   support\n",
      "\n",
      "   asphalt        0.93      0.93      0.93        14\n",
      "  building        0.71      0.88      0.79        25\n",
      "       car        1.00      0.93      0.97        15\n",
      "  concrete        0.65      0.74      0.69        23\n",
      "     grass        0.83      0.86      0.85        29\n",
      "      pool        1.00      0.93      0.97        15\n",
      "    shadow        0.88      0.94      0.91        16\n",
      "      soil        0.80      0.29      0.42        14\n",
      "      tree        0.82      0.82      0.82        17\n",
      "\n",
      "avg / total       0.83      0.82      0.81       168\n",
      "\n"
     ]
    }
   ],
   "source": [
    "svc_cv = grid_search.best_estimator_\n",
    "\n",
    "print(svc_cv.score(X_train_scaled, y_tn_pred_svc))\n",
    "print(svc_cv.score(X_test_scaled, y_tt_pred_svc))\n",
    "\n",
    "print(skm.classification_report(y_train, svc_cv.predict(X_train_scaled)))\n",
    "print(skm.classification_report(y_test, svc_cv.predict(X_test_scaled)))"
   ]
  },
  {
   "cell_type": "markdown",
   "metadata": {},
   "source": [
    "The score and classification report for train and test are very similar. With overfitting we would expect the train scores to be much much higher than the test scores. This shows that overfitting is a slight but not huge problem with this model."
   ]
  }
 ],
 "metadata": {
  "kernelspec": {
   "display_name": "Python 3",
   "language": "python",
   "name": "python3"
  },
  "language_info": {
   "codemirror_mode": {
    "name": "ipython",
    "version": 3
   },
   "file_extension": ".py",
   "mimetype": "text/x-python",
   "name": "python",
   "nbconvert_exporter": "python",
   "pygments_lexer": "ipython3",
   "version": "3.6.4"
  }
 },
 "nbformat": 4,
 "nbformat_minor": 2
}
