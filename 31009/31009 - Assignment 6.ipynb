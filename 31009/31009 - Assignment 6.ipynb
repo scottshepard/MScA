{
 "cells": [
  {
   "cell_type": "code",
   "execution_count": 1,
   "metadata": {},
   "outputs": [],
   "source": [
    "import pandas as pd\n",
    "import numpy as np\n",
    "import matplotlib.pyplot as plt\n",
    "%matplotlib inline\n",
    "\n",
    "from sklearn import metrics as skm\n",
    "from sklearn import svm\n",
    "from sklearn.model_selection import train_test_split"
   ]
  },
  {
   "cell_type": "markdown",
   "metadata": {},
   "source": [
    "# 1. Data Processing\n",
    "\n",
    "The data in this assignment comes from the UC Irvine Machine Learning library."
   ]
  },
  {
   "cell_type": "code",
   "execution_count": 2,
   "metadata": {},
   "outputs": [],
   "source": [
    "df = pd.read_csv('https://archive.ics.uci.edu/ml/machine-learning-databases/adult/adult.data', header = None, skipinitialspace=True)"
   ]
  },
  {
   "cell_type": "markdown",
   "metadata": {},
   "source": [
    "The data here doesn't have column names. They have to be added manually. The list of names comes from [here](https://archive.ics.uci.edu/ml/machine-learning-databases/adult/adult.names)."
   ]
  },
  {
   "cell_type": "code",
   "execution_count": 3,
   "metadata": {},
   "outputs": [],
   "source": [
    "cols = [\n",
    "    'age',\n",
    "    'workclass',\n",
    "    'fnlwgt',\n",
    "    'education',\n",
    "    'education_num',\n",
    "    'marital_status',\n",
    "    'occupation',\n",
    "    'relationship',\n",
    "    'race',\n",
    "    'sex',\n",
    "    'capital_gain',\n",
    "    'capital_loss',\n",
    "    'hours_per_week',\n",
    "    'native_country',\n",
    "    'salary'\n",
    "]\n",
    "\n",
    "df.columns = cols"
   ]
  },
  {
   "cell_type": "markdown",
   "metadata": {},
   "source": [
    "Check the shape of the dataframe and print out a few rows to confirm everything looks good."
   ]
  },
  {
   "cell_type": "code",
   "execution_count": 4,
   "metadata": {},
   "outputs": [
    {
     "data": {
      "text/plain": [
       "(32561, 15)"
      ]
     },
     "execution_count": 4,
     "metadata": {},
     "output_type": "execute_result"
    }
   ],
   "source": [
    "df.shape"
   ]
  },
  {
   "cell_type": "code",
   "execution_count": 5,
   "metadata": {},
   "outputs": [],
   "source": [
    "# Unnecessary column\n",
    "df.drop(columns='fnlwgt', inplace=True)\n",
    "\n",
    "# Revalue the target variable\n",
    "df.salary.replace({'<=50K':0, '>50K':1}, inplace=True)"
   ]
  },
  {
   "cell_type": "code",
   "execution_count": 6,
   "metadata": {},
   "outputs": [
    {
     "data": {
      "text/html": [
       "<div>\n",
       "<style scoped>\n",
       "    .dataframe tbody tr th:only-of-type {\n",
       "        vertical-align: middle;\n",
       "    }\n",
       "\n",
       "    .dataframe tbody tr th {\n",
       "        vertical-align: top;\n",
       "    }\n",
       "\n",
       "    .dataframe thead th {\n",
       "        text-align: right;\n",
       "    }\n",
       "</style>\n",
       "<table border=\"1\" class=\"dataframe\">\n",
       "  <thead>\n",
       "    <tr style=\"text-align: right;\">\n",
       "      <th></th>\n",
       "      <th>age</th>\n",
       "      <th>workclass</th>\n",
       "      <th>education</th>\n",
       "      <th>education_num</th>\n",
       "      <th>marital_status</th>\n",
       "      <th>occupation</th>\n",
       "      <th>relationship</th>\n",
       "      <th>race</th>\n",
       "      <th>sex</th>\n",
       "      <th>capital_gain</th>\n",
       "      <th>capital_loss</th>\n",
       "      <th>hours_per_week</th>\n",
       "      <th>native_country</th>\n",
       "      <th>salary</th>\n",
       "    </tr>\n",
       "  </thead>\n",
       "  <tbody>\n",
       "    <tr>\n",
       "      <th>0</th>\n",
       "      <td>39</td>\n",
       "      <td>State-gov</td>\n",
       "      <td>Bachelors</td>\n",
       "      <td>13</td>\n",
       "      <td>Never-married</td>\n",
       "      <td>Adm-clerical</td>\n",
       "      <td>Not-in-family</td>\n",
       "      <td>White</td>\n",
       "      <td>Male</td>\n",
       "      <td>2174</td>\n",
       "      <td>0</td>\n",
       "      <td>40</td>\n",
       "      <td>United-States</td>\n",
       "      <td>0</td>\n",
       "    </tr>\n",
       "    <tr>\n",
       "      <th>1</th>\n",
       "      <td>50</td>\n",
       "      <td>Self-emp-not-inc</td>\n",
       "      <td>Bachelors</td>\n",
       "      <td>13</td>\n",
       "      <td>Married-civ-spouse</td>\n",
       "      <td>Exec-managerial</td>\n",
       "      <td>Husband</td>\n",
       "      <td>White</td>\n",
       "      <td>Male</td>\n",
       "      <td>0</td>\n",
       "      <td>0</td>\n",
       "      <td>13</td>\n",
       "      <td>United-States</td>\n",
       "      <td>0</td>\n",
       "    </tr>\n",
       "    <tr>\n",
       "      <th>2</th>\n",
       "      <td>38</td>\n",
       "      <td>Private</td>\n",
       "      <td>HS-grad</td>\n",
       "      <td>9</td>\n",
       "      <td>Divorced</td>\n",
       "      <td>Handlers-cleaners</td>\n",
       "      <td>Not-in-family</td>\n",
       "      <td>White</td>\n",
       "      <td>Male</td>\n",
       "      <td>0</td>\n",
       "      <td>0</td>\n",
       "      <td>40</td>\n",
       "      <td>United-States</td>\n",
       "      <td>0</td>\n",
       "    </tr>\n",
       "    <tr>\n",
       "      <th>3</th>\n",
       "      <td>53</td>\n",
       "      <td>Private</td>\n",
       "      <td>11th</td>\n",
       "      <td>7</td>\n",
       "      <td>Married-civ-spouse</td>\n",
       "      <td>Handlers-cleaners</td>\n",
       "      <td>Husband</td>\n",
       "      <td>Black</td>\n",
       "      <td>Male</td>\n",
       "      <td>0</td>\n",
       "      <td>0</td>\n",
       "      <td>40</td>\n",
       "      <td>United-States</td>\n",
       "      <td>0</td>\n",
       "    </tr>\n",
       "    <tr>\n",
       "      <th>4</th>\n",
       "      <td>28</td>\n",
       "      <td>Private</td>\n",
       "      <td>Bachelors</td>\n",
       "      <td>13</td>\n",
       "      <td>Married-civ-spouse</td>\n",
       "      <td>Prof-specialty</td>\n",
       "      <td>Wife</td>\n",
       "      <td>Black</td>\n",
       "      <td>Female</td>\n",
       "      <td>0</td>\n",
       "      <td>0</td>\n",
       "      <td>40</td>\n",
       "      <td>Cuba</td>\n",
       "      <td>0</td>\n",
       "    </tr>\n",
       "  </tbody>\n",
       "</table>\n",
       "</div>"
      ],
      "text/plain": [
       "   age         workclass  education  education_num      marital_status  \\\n",
       "0   39         State-gov  Bachelors             13       Never-married   \n",
       "1   50  Self-emp-not-inc  Bachelors             13  Married-civ-spouse   \n",
       "2   38           Private    HS-grad              9            Divorced   \n",
       "3   53           Private       11th              7  Married-civ-spouse   \n",
       "4   28           Private  Bachelors             13  Married-civ-spouse   \n",
       "\n",
       "          occupation   relationship   race     sex  capital_gain  \\\n",
       "0       Adm-clerical  Not-in-family  White    Male          2174   \n",
       "1    Exec-managerial        Husband  White    Male             0   \n",
       "2  Handlers-cleaners  Not-in-family  White    Male             0   \n",
       "3  Handlers-cleaners        Husband  Black    Male             0   \n",
       "4     Prof-specialty           Wife  Black  Female             0   \n",
       "\n",
       "   capital_loss  hours_per_week native_country  salary  \n",
       "0             0              40  United-States       0  \n",
       "1             0              13  United-States       0  \n",
       "2             0              40  United-States       0  \n",
       "3             0              40  United-States       0  \n",
       "4             0              40           Cuba       0  "
      ]
     },
     "execution_count": 6,
     "metadata": {},
     "output_type": "execute_result"
    }
   ],
   "source": [
    "df.head()"
   ]
  },
  {
   "cell_type": "code",
   "execution_count": 7,
   "metadata": {},
   "outputs": [],
   "source": [
    "X = df.drop(columns='salary')\n",
    "y = df.salary"
   ]
  },
  {
   "cell_type": "code",
   "execution_count": 8,
   "metadata": {},
   "outputs": [
    {
     "name": "stdout",
     "output_type": "stream",
     "text": [
      "(32561, 13)\n",
      "(32561,)\n"
     ]
    }
   ],
   "source": [
    "print(X.shape)\n",
    "print(y.shape)"
   ]
  },
  {
   "cell_type": "code",
   "execution_count": 9,
   "metadata": {},
   "outputs": [
    {
     "data": {
      "text/plain": [
       "(32561, 107)"
      ]
     },
     "execution_count": 9,
     "metadata": {},
     "output_type": "execute_result"
    }
   ],
   "source": [
    "X_encoded = pd.get_dummies(X)\n",
    "X_encoded.shape"
   ]
  },
  {
   "cell_type": "code",
   "execution_count": 10,
   "metadata": {},
   "outputs": [
    {
     "name": "stdout",
     "output_type": "stream",
     "text": [
      "(22792, 107)\n",
      "(9769, 107)\n"
     ]
    }
   ],
   "source": [
    "X_train, X_test, y_train, y_test = train_test_split(X_encoded, y, test_size=0.3, random_state=123)\n",
    "\n",
    "print(X_train.shape)\n",
    "print(X_test.shape)"
   ]
  },
  {
   "cell_type": "markdown",
   "metadata": {},
   "source": [
    "# 2. Random Forest Classifier - Base Model:"
   ]
  },
  {
   "cell_type": "code",
   "execution_count": 11,
   "metadata": {},
   "outputs": [],
   "source": [
    "from sklearn.ensemble import RandomForestClassifier"
   ]
  },
  {
   "cell_type": "code",
   "execution_count": 12,
   "metadata": {},
   "outputs": [
    {
     "name": "stdout",
     "output_type": "stream",
     "text": [
      "Random Forest Test Confusion Matrix\n",
      "[[6831  577]\n",
      " [ 955 1406]]\n",
      "\n",
      "Random Forest Test Classification Report\n",
      "             precision    recall  f1-score   support\n",
      "\n",
      "          0       0.88      0.92      0.90      7408\n",
      "          1       0.71      0.60      0.65      2361\n",
      "\n",
      "avg / total       0.84      0.84      0.84      9769\n",
      "\n",
      "\n",
      "Random Forest Test ROC AUC\n",
      "0.870716422737007\n"
     ]
    }
   ],
   "source": [
    "rf = RandomForestClassifier()\n",
    "\n",
    "rf.fit(X_train, y_train)\n",
    "\n",
    "y_test_rf_pred  = rf.predict(X_test)\n",
    "y_test_rf_proba = rf.predict_proba(X_test)\n",
    "\n",
    "print(\"Random Forest Test Confusion Matrix\")\n",
    "print(skm.confusion_matrix(y_test, y_test_rf_pred))\n",
    "print(\"\\nRandom Forest Test Classification Report\")\n",
    "print(skm.classification_report(y_test, y_test_rf_pred))\n",
    "print(\"\\nRandom Forest Test ROC AUC\")\n",
    "print(skm.roc_auc_score(y_test, y_test_rf_proba[:,1]))"
   ]
  },
  {
   "cell_type": "code",
   "execution_count": 13,
   "metadata": {},
   "outputs": [
    {
     "data": {
      "text/plain": [
       "Text(0,0.5,'Feature Importance')"
      ]
     },
     "execution_count": 13,
     "metadata": {},
     "output_type": "execute_result"
    },
    {
     "data": {
      "image/png": "[encoded data removed]",
      "text/plain": [
       "<matplotlib.figure.Figure at 0x11038c400>"
      ]
     },
     "metadata": {},
     "output_type": "display_data"
    }
   ],
   "source": [
    "fi = pd.DataFrame({'name': X_test.columns, 'importance': rf.feature_importances_})\n",
    "fi = fi.sort_values('importance', ascending=False).head(5)\n",
    "ax = fi.plot.bar(x='name', y='importance')\n",
    "ax.set_ylabel('Feature Importance')"
   ]
  },
  {
   "cell_type": "markdown",
   "metadata": {},
   "source": [
    "## Overfitting \n",
    "\n",
    "Is there overfitting in this model? Random Forest is prone to overfitting. If the train accuracy and ROC AUC score are much higher than the test scores it is an indicator of overfitting."
   ]
  },
  {
   "cell_type": "code",
   "execution_count": 14,
   "metadata": {},
   "outputs": [
    {
     "name": "stdout",
     "output_type": "stream",
     "text": [
      "Train Score: 0.97\n",
      "\n",
      "Train Confusion Matrix\n",
      "[[17102   210]\n",
      " [  478  5002]]\n",
      "\n",
      "Train Classification Report\n",
      "             precision    recall  f1-score   support\n",
      "\n",
      "          0       0.97      0.99      0.98     17312\n",
      "          1       0.96      0.91      0.94      5480\n",
      "\n",
      "avg / total       0.97      0.97      0.97     22792\n",
      "\n",
      "\n",
      "Train ROC AUC\n",
      "0.9958430115138901\n",
      "\n"
     ]
    }
   ],
   "source": [
    "y_train_rf_pred  = rf.predict(X_train)\n",
    "y_train_rf_proba = rf.predict_proba(X_train)\n",
    "\n",
    "print(\"Train Score:\", round(rf.score(X_train, y_train), 2))\n",
    "print(\"\\nTrain Confusion Matrix\")\n",
    "print(skm.confusion_matrix(y_train, y_train_rf_pred))\n",
    "print(\"\\nTrain Classification Report\")\n",
    "print(skm.classification_report(y_train, y_train_rf_pred))\n",
    "print(\"\\nTrain ROC AUC\")\n",
    "print(skm.roc_auc_score(y_train, y_train_rf_proba[:,1]))\n",
    "print(\"\")"
   ]
  },
  {
   "cell_type": "markdown",
   "metadata": {},
   "source": [
    "The RandomForest train score is much much higher than the test score. The train ROC is almost 1. The data has practically been memorized. There is definite overfitting happening in the RandomForest classifier."
   ]
  },
  {
   "cell_type": "markdown",
   "metadata": {},
   "source": [
    "# 3. AdaBoost Classifier - GridSearch"
   ]
  },
  {
   "cell_type": "code",
   "execution_count": 15,
   "metadata": {},
   "outputs": [],
   "source": [
    "from sklearn.ensemble import AdaBoostClassifier\n",
    "from sklearn.model_selection import GridSearchCV"
   ]
  },
  {
   "cell_type": "code",
   "execution_count": 16,
   "metadata": {},
   "outputs": [
    {
     "name": "stdout",
     "output_type": "stream",
     "text": [
      "Fitting 5 folds for each of 24 candidates, totalling 120 fits\n"
     ]
    },
    {
     "name": "stderr",
     "output_type": "stream",
     "text": [
      "[Parallel(n_jobs=-1)]: Done  42 tasks      | elapsed:  2.8min\n",
      "[Parallel(n_jobs=-1)]: Done 120 out of 120 | elapsed:  8.3min finished\n"
     ]
    },
    {
     "data": {
      "text/plain": [
       "GridSearchCV(cv=5, error_score='raise',\n",
       "       estimator=AdaBoostClassifier(algorithm='SAMME.R', base_estimator=None,\n",
       "          learning_rate=1.0, n_estimators=50, random_state=None),\n",
       "       fit_params=None, iid=True, n_jobs=-1,\n",
       "       param_grid={'n_estimators': [100, 200, 300, 400], 'learning_rate': [0.2, 0.4, 0.6, 0.8, 1, 1.2], 'random_state': [123]},\n",
       "       pre_dispatch='2*n_jobs', refit=True, return_train_score='warn',\n",
       "       scoring='roc_auc', verbose=1)"
      ]
     },
     "execution_count": 16,
     "metadata": {},
     "output_type": "execute_result"
    }
   ],
   "source": [
    "parameters = {\n",
    "    'n_estimators': [100, 200, 300, 400],\n",
    "    'learning_rate': [0.2,0.4,0.6,0.8,1, 1.2],\n",
    "    'random_state' : [123]\n",
    "}\n",
    "\n",
    "abc = AdaBoostClassifier()\n",
    "\n",
    "grid_search_abc = GridSearchCV(abc, parameters, cv=5, scoring='roc_auc',refit=True, n_jobs=-1, verbose=1)\n",
    "\n",
    "grid_search_abc.fit(X_train, y_train)"
   ]
  },
  {
   "cell_type": "code",
   "execution_count": 17,
   "metadata": {},
   "outputs": [
    {
     "name": "stdout",
     "output_type": "stream",
     "text": [
      "\n",
      "AdaBoost Test Confusion Matrix\n",
      "[[6988  420]\n",
      " [ 867 1494]]\n",
      "\n",
      "AdaBoost Test Classification Report\n",
      "             precision    recall  f1-score   support\n",
      "\n",
      "          0       0.89      0.94      0.92      7408\n",
      "          1       0.78      0.63      0.70      2361\n",
      "\n",
      "avg / total       0.86      0.87      0.86      9769\n",
      "\n",
      "\n",
      "AdaBoost Test ROC AUC\n",
      "0.9266556960068353\n",
      "\n"
     ]
    }
   ],
   "source": [
    "abc_best = grid_search_abc.best_estimator_\n",
    "\n",
    "y_test_abc_pred  = abc_best.predict(X_test)\n",
    "y_test_abc_proba = abc_best.predict_proba(X_test)\n",
    "\n",
    "print(\"\\nAdaBoost Test Confusion Matrix\")\n",
    "print(skm.confusion_matrix(y_test, y_test_abc_pred))\n",
    "print(\"\\nAdaBoost Test Classification Report\")\n",
    "print(skm.classification_report(y_test, y_test_abc_pred))\n",
    "print(\"\\nAdaBoost Test ROC AUC\")\n",
    "print(skm.roc_auc_score(y_test, y_test_abc_proba[:,1]))\n",
    "print(\"\")"
   ]
  },
  {
   "cell_type": "code",
   "execution_count": 18,
   "metadata": {},
   "outputs": [
    {
     "data": {
      "text/plain": [
       "Text(0,0.5,'Feature Importance')"
      ]
     },
     "execution_count": 18,
     "metadata": {},
     "output_type": "execute_result"
    },
    {
     "data": {
      "image/png": "[encoded data removed]",
      "text/plain": [
       "<matplotlib.figure.Figure at 0x1134a44a8>"
      ]
     },
     "metadata": {},
     "output_type": "display_data"
    }
   ],
   "source": [
    "fi = pd.DataFrame({'name': X_test.columns, 'importance': abc_best.feature_importances_})\n",
    "fi = fi.sort_values('importance', ascending=False).head(5)\n",
    "ax = fi.plot.bar(x='name', y='importance')\n",
    "ax.set_ylabel('Feature Importance')"
   ]
  },
  {
   "cell_type": "markdown",
   "metadata": {},
   "source": [
    "## Overfitting \n",
    "\n",
    "Is there overfitting in this model?"
   ]
  },
  {
   "cell_type": "code",
   "execution_count": 19,
   "metadata": {},
   "outputs": [],
   "source": [
    "y_train_abc_pred  = abc_best.predict(X_train)\n",
    "y_train_abc_proba = abc_best.predict_proba(X_train)"
   ]
  },
  {
   "cell_type": "code",
   "execution_count": 20,
   "metadata": {},
   "outputs": [
    {
     "name": "stdout",
     "output_type": "stream",
     "text": [
      "\n",
      "AdaBoost Train Confusion Matrix\n",
      "[[16301  1011]\n",
      " [ 1895  3585]]\n",
      "\n",
      "AdaBoost Train Classification Report\n",
      "             precision    recall  f1-score   support\n",
      "\n",
      "          0       0.90      0.94      0.92     17312\n",
      "          1       0.78      0.65      0.71      5480\n",
      "\n",
      "avg / total       0.87      0.87      0.87     22792\n",
      "\n",
      "\n",
      "AdaBoost Train ROC AUC\n",
      "0.9304835861290257\n",
      "\n"
     ]
    }
   ],
   "source": [
    "print(\"\\nAdaBoost Train Confusion Matrix\")\n",
    "print(skm.confusion_matrix(y_train, y_train_abc_pred))\n",
    "print(\"\\nAdaBoost Train Classification Report\")\n",
    "print(skm.classification_report(y_train, y_train_abc_pred))\n",
    "print(\"\\nAdaBoost Train ROC AUC\")\n",
    "print(skm.roc_auc_score(y_train, y_train_abc_proba[:,1]))\n",
    "print(\"\")"
   ]
  },
  {
   "cell_type": "markdown",
   "metadata": {},
   "source": [
    "Surprisingly not! The slow learning method of boosting seems to have aleviated much of the problems regarding overfitting. The train AUC and precision are almost exactly the same as test."
   ]
  },
  {
   "cell_type": "markdown",
   "metadata": {},
   "source": [
    "# 4. Gradient Boosting Classifier - GridSearch"
   ]
  },
  {
   "cell_type": "code",
   "execution_count": 21,
   "metadata": {},
   "outputs": [],
   "source": [
    "from sklearn.ensemble import GradientBoostingClassifier"
   ]
  },
  {
   "cell_type": "code",
   "execution_count": 22,
   "metadata": {},
   "outputs": [
    {
     "name": "stdout",
     "output_type": "stream",
     "text": [
      "Fitting 5 folds for each of 24 candidates, totalling 120 fits\n"
     ]
    },
    {
     "name": "stderr",
     "output_type": "stream",
     "text": [
      "[Parallel(n_jobs=-1)]: Done  42 tasks      | elapsed:  2.5min\n",
      "[Parallel(n_jobs=-1)]: Done 120 out of 120 | elapsed:  8.0min finished\n"
     ]
    },
    {
     "data": {
      "text/plain": [
       "GridSearchCV(cv=5, error_score='raise',\n",
       "       estimator=GradientBoostingClassifier(criterion='friedman_mse', init=None,\n",
       "              learning_rate=0.1, loss='deviance', max_depth=3,\n",
       "              max_features=None, max_leaf_nodes=None,\n",
       "              min_impurity_decrease=0.0, min_impurity_split=None,\n",
       "              min_samples_leaf=1, min_samples_split=2,\n",
       "              min_weight_fraction_leaf=0.0, n_estimators=100,\n",
       "              presort='auto', random_state=None, subsample=1.0, verbose=0,\n",
       "              warm_start=False),\n",
       "       fit_params=None, iid=True, n_jobs=-1,\n",
       "       param_grid={'n_estimators': [100, 200, 300, 400], 'learning_rate': [0.2, 0.6, 1.0], 'max_depth': [1, 2], 'random_state': [123]},\n",
       "       pre_dispatch='2*n_jobs', refit=True, return_train_score='warn',\n",
       "       scoring='roc_auc', verbose=1)"
      ]
     },
     "execution_count": 22,
     "metadata": {},
     "output_type": "execute_result"
    }
   ],
   "source": [
    "parameters = {\n",
    "    'n_estimators': [100, 200, 300, 400],\n",
    "    'learning_rate': [0.2,0.6,1.0],\n",
    "    'max_depth': [1,2],\n",
    "    'random_state' : [123]\n",
    "}\n",
    "\n",
    "gbc = GradientBoostingClassifier()\n",
    "\n",
    "grid_search_gbc = GridSearchCV(gbc, parameters, cv=5, scoring='roc_auc',refit=True, n_jobs=-1, verbose=1)\n",
    "\n",
    "grid_search_gbc.fit(X_train, y_train)"
   ]
  },
  {
   "cell_type": "code",
   "execution_count": 23,
   "metadata": {},
   "outputs": [],
   "source": [
    "gbc_best = grid_search_gbc.best_estimator_"
   ]
  },
  {
   "cell_type": "code",
   "execution_count": 24,
   "metadata": {},
   "outputs": [],
   "source": [
    "y_test_gbc_pred  = gbc_best.predict(X_test)\n",
    "y_test_gbc_proba = gbc_best.predict_proba(X_test)"
   ]
  },
  {
   "cell_type": "code",
   "execution_count": 25,
   "metadata": {},
   "outputs": [
    {
     "name": "stdout",
     "output_type": "stream",
     "text": [
      "Gradient Boosting Test Confusion Matrix\n",
      "[[7000  408]\n",
      " [ 848 1513]]\n",
      "\n",
      "Gradient Boosting Test Classification Report\n",
      "             precision    recall  f1-score   support\n",
      "\n",
      "          0       0.89      0.94      0.92      7408\n",
      "          1       0.79      0.64      0.71      2361\n",
      "\n",
      "avg / total       0.87      0.87      0.87      9769\n",
      "\n",
      "\n",
      "Gradient Boosting Test ROC AUC\n",
      "0.9279343770668613\n",
      "\n"
     ]
    }
   ],
   "source": [
    "print(\"Gradient Boosting Test Confusion Matrix\")\n",
    "print(skm.confusion_matrix(y_test, y_test_gbc_pred))\n",
    "print(\"\\nGradient Boosting Test Classification Report\")\n",
    "print(skm.classification_report(y_test, y_test_gbc_pred))\n",
    "print(\"\\nGradient Boosting Test ROC AUC\")\n",
    "print(skm.roc_auc_score(y_test, y_test_gbc_proba[:,1]))\n",
    "print(\"\")"
   ]
  },
  {
   "cell_type": "code",
   "execution_count": 26,
   "metadata": {},
   "outputs": [
    {
     "data": {
      "text/plain": [
       "Text(0,0.5,'Feature Importance')"
      ]
     },
     "execution_count": 26,
     "metadata": {},
     "output_type": "execute_result"
    },
    {
     "data": {
      "image/png": "[encoded data removed]",
      "text/plain": [
       "<matplotlib.figure.Figure at 0x10f6b8f98>"
      ]
     },
     "metadata": {},
     "output_type": "display_data"
    }
   ],
   "source": [
    "fi = pd.DataFrame({'name': X_test.columns, 'importance': gbc_best.feature_importances_})\n",
    "fi = fi.sort_values('importance', ascending=False).head(5)\n",
    "ax = fi.plot.bar(x='name', y='importance')\n",
    "ax.set_ylabel('Feature Importance')"
   ]
  },
  {
   "cell_type": "markdown",
   "metadata": {},
   "source": [
    "## Overfitting\n",
    "\n",
    "Is there overfitting with this model?"
   ]
  },
  {
   "cell_type": "code",
   "execution_count": 27,
   "metadata": {},
   "outputs": [
    {
     "name": "stdout",
     "output_type": "stream",
     "text": [
      "Gradient Boosting Train Confusion Matrix\n",
      "[[16413   899]\n",
      " [ 1820  3660]]\n",
      "\n",
      "nGradient Boosting Train Classification Report\n",
      "             precision    recall  f1-score   support\n",
      "\n",
      "          0       0.90      0.95      0.92     17312\n",
      "          1       0.80      0.67      0.73      5480\n",
      "\n",
      "avg / total       0.88      0.88      0.88     22792\n",
      "\n",
      "\n",
      "nGradient Boosting Train ROC AUC\n",
      "0.937715874900495\n",
      "\n"
     ]
    }
   ],
   "source": [
    "y_train_gbc_pred  = gbc_best.predict(X_train)\n",
    "y_train_gbc_proba = gbc_best.predict_proba(X_train)\n",
    "\n",
    "print(\"Gradient Boosting Train Confusion Matrix\")\n",
    "print(skm.confusion_matrix(y_train, y_train_gbc_pred))\n",
    "print(\"\\nnGradient Boosting Train Classification Report\")\n",
    "print(skm.classification_report(y_train, y_train_gbc_pred))\n",
    "print(\"\\nnGradient Boosting Train ROC AUC\")\n",
    "print(skm.roc_auc_score(y_train, y_train_gbc_proba[:,1]))\n",
    "print(\"\")"
   ]
  },
  {
   "cell_type": "markdown",
   "metadata": {},
   "source": [
    "Again, no! The boosting algorthims do not seem to lead to overfitting the way that RandomForest does. This is a significant improvment over that ensemble method."
   ]
  },
  {
   "cell_type": "markdown",
   "metadata": {},
   "source": [
    "# Conceptual Problems: \n",
    "\n",
    "**5) What does the alpha parameter represent in AdaBoost? Please refer to chapter 7 of the Hands-On ML book if you are struggling.**\n",
    "\n",
    "The alpha paramter in AdaBoost is the weight of that an individual predictor contributes to the ensemble model. The more accurate the predictor is the higher the weight it will get. The predictor weight is based on accuracy of the simple model, and also on the learning rate. A low learning rate will lead to a slower convergence on accuracy and more overall predictors with each predictor contributing less to the ensemble.\n",
    "\n",
    "**6) In AdaBoost explain how the final predicted class is determined. Be sure to reference the alpha term in your explanation.**\n",
    "\n",
    "Once all the predictors are trained and predictor weights determined, the model is ready to determine classes. It does this by running the test data through all the predictors in the model. Each weak learner outputs a class and the classes are weighted by the predictor weight, the alpha parameter. The class with a weighted majority wins.\n",
    "\n",
    "**7) In Gradient Boosting, what is the role of the max_depth parameter? Why is it important to tune on this parameter?**\n",
    "\n",
    "The max_depth parameter is the depth of the individual trees. Generally the lower the better. The point of boosting is to combine the results of many weak learners to produce a strong learner. Trees with only a few nodes are weak and are only marginally better than random guessing. This is good for a boosting algorithm. Choosing the number of splits in the individual trees controls the amount of learning we allow from those trees. With a greater depth you probably need fewer trees in your algorithm, so it is a parameter that controls the rate of learning. Will your algorithm learn very slowly or very quickly? With a larger number of splits you can learn more quickly which might be preferred on a large dataset even if you sacrifice some accuracy.\n",
    "\n",
    "**8) In Part (e) of Steps 2-4 you determined the top 5 predictors across each model. Do any predictors show up in the top 5 predictors for all three models? If so, comment on if this predictor makes sense given what you are attempting to predict. (Note: If you don't have any predictors showing up across all 3 predictors, explain one that shows up in 2 of them).**\n",
    "\n",
    "Many of the same variables show up as top 5 predictors in all three models. Age is one that stands out to me. This makes sense because older people tend to make more. They have worked more years at their jobs and have amassed more industry knowledge. They have progress further up the corporate ladder. It makes complete sense that this would be a top predictor of salary.\n",
    "\n",
    "**9) From the models run in steps 2-4, which performs the best based on the Classification Report? Support your reasoning with evidence from your test data and be sure to share the optimal hyperparameters found from your grid search.**\n",
    "\n",
    "Gradient Boosting performed the best of all the models run. It significantly outperformed RandomForest, achieiving an 87% test precision and a 92.8 test AUC ROC score. It only marginally outperformed AdaBoost to the point that I would say those two models tied. Both AdaBoost and Gradient Boosting had very high AUC ROC scores, very high precision, and low difference between train and test. However Gradient has a very very small advantage over AdaBoost on this dataset.\n",
    "\n",
    "**10) For your best performing model, plot out an ROC curve. Feel free to use sklearn, matplotlib or any other method in python.**"
   ]
  },
  {
   "cell_type": "code",
   "execution_count": 28,
   "metadata": {},
   "outputs": [
    {
     "data": {
      "text/plain": [
       "Text(0.5,0,'False Positive Rate')"
      ]
     },
     "execution_count": 28,
     "metadata": {},
     "output_type": "execute_result"
    },
    {
     "data": {
      "image/png": "[encoded data removed]",
      "text/plain": [
       "<matplotlib.figure.Figure at 0x10f766908>"
      ]
     },
     "metadata": {},
     "output_type": "display_data"
    }
   ],
   "source": [
    "fpr, tpr, threshold = skm.roc_curve(y_test, y_test_gbc_proba[:,1])\n",
    "roc_auc = skm.auc(fpr, tpr)\n",
    "\n",
    "fig, ax = plt.subplots(figsize=(11,7))\n",
    "ax.plot(fpr, tpr)\n",
    "plt.title('ROC Curve')\n",
    "plt.plot([0, 1], [0, 1],'r--')\n",
    "plt.ylabel('True Positive Rate')\n",
    "plt.xlabel('False Positive Rate')"
   ]
  }
 ],
 "metadata": {
  "kernelspec": {
   "display_name": "Python 3",
   "language": "python",
   "name": "python3"
  },
  "language_info": {
   "codemirror_mode": {
    "name": "ipython",
    "version": 3
   },
   "file_extension": ".py",
   "mimetype": "text/x-python",
   "name": "python",
   "nbconvert_exporter": "python",
   "pygments_lexer": "ipython3",
   "version": "3.6.4"
  }
 },
 "nbformat": 4,
 "nbformat_minor": 2
}
