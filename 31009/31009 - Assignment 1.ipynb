{
 "cells": [
  {
   "cell_type": "markdown",
   "metadata": {},
   "source": [
    "# 31009 - Assignment 1: Regression\n",
    "\n",
    "Use Linear equation normal equation to predict water temperature T_degC\n",
    "\n",
    "1. Only use 'Salnty', 'STheta' for predictors\n",
    "2. Remove NaN / NA values from dataset (prior to building train/test sets). \n",
    "3. Solve for rmse, variance explained, and r-squared.\n",
    "\n",
    "Data for this assignment is called \"bottle.csv\" and lives within the \"data/\" directory."
   ]
  },
  {
   "cell_type": "code",
   "execution_count": 1,
   "metadata": {},
   "outputs": [
    {
     "name": "stderr",
     "output_type": "stream",
     "text": [
      "/Users/rowena/miniconda3/envs/msca/lib/python3.6/site-packages/statsmodels/compat/pandas.py:56: FutureWarning: The pandas.core.datetools module is deprecated and will be removed in a future version. Please use the pandas.tseries module instead.\n",
      "  from pandas.core import datetools\n"
     ]
    }
   ],
   "source": [
    "import numpy as np\n",
    "import pandas as pd\n",
    "import matplotlib.pyplot as plt \n",
    "import statsmodels.api as sm\n",
    "\n",
    "%matplotlib inline"
   ]
  },
  {
   "cell_type": "markdown",
   "metadata": {},
   "source": [
    "## Read and Clean the Data"
   ]
  },
  {
   "cell_type": "code",
   "execution_count": 2,
   "metadata": {},
   "outputs": [
    {
     "name": "stderr",
     "output_type": "stream",
     "text": [
      "/Users/rowena/miniconda3/envs/msca/lib/python3.6/site-packages/IPython/core/interactiveshell.py:2728: DtypeWarning: Columns (47,73) have mixed types. Specify dtype option on import or set low_memory=False.\n",
      "  interactivity=interactivity, compiler=compiler, result=result)\n"
     ]
    }
   ],
   "source": [
    "df = pd.read_csv('data/bottle.csv')\n",
    "df = df.loc[:,['Salnty', 'STheta', 'T_degC']]"
   ]
  },
  {
   "cell_type": "code",
   "execution_count": 3,
   "metadata": {},
   "outputs": [
    {
     "name": "stdout",
     "output_type": "stream",
     "text": [
      "There are 864863 rows in raw dataset\n",
      "\n",
      "Remove 47354 rows because of missing values in Salnty\n",
      "Remove 5335 rows because of missing values in STheta\n",
      "Remove 0 rows because of missing values in T_degC\n",
      "\n",
      "Clean dataset has 812174 rows\n"
     ]
    }
   ],
   "source": [
    "print('There are {0} rows in raw dataset\\n'.format(len(df)))\n",
    "\n",
    "print(\"Remove {0} rows because of missing values in Salnty\".format(sum(df.Salnty.isna())))\n",
    "df = df[~df.Salnty.isna()]\n",
    "\n",
    "print(\"Remove {0} rows because of missing values in STheta\".format(sum(df.STheta.isna())))\n",
    "df = df[~df.STheta.isna()]\n",
    "\n",
    "print(\"Remove {0} rows because of missing values in T_degC\\n\".format(sum(df.T_degC.isna())))\n",
    "df = df[~df.T_degC.isna()]\n",
    "\n",
    "print(\"Clean dataset has {0} rows\".format(len(df)))"
   ]
  },
  {
   "cell_type": "markdown",
   "metadata": {},
   "source": [
    "## Exploration of the Data"
   ]
  },
  {
   "cell_type": "code",
   "execution_count": 4,
   "metadata": {},
   "outputs": [
    {
     "data": {
      "text/html": [
       "<div>\n",
       "<style scoped>\n",
       "    .dataframe tbody tr th:only-of-type {\n",
       "        vertical-align: middle;\n",
       "    }\n",
       "\n",
       "    .dataframe tbody tr th {\n",
       "        vertical-align: top;\n",
       "    }\n",
       "\n",
       "    .dataframe thead th {\n",
       "        text-align: right;\n",
       "    }\n",
       "</style>\n",
       "<table border=\"1\" class=\"dataframe\">\n",
       "  <thead>\n",
       "    <tr style=\"text-align: right;\">\n",
       "      <th></th>\n",
       "      <th>Salnty</th>\n",
       "      <th>STheta</th>\n",
       "      <th>T_degC</th>\n",
       "    </tr>\n",
       "  </thead>\n",
       "  <tbody>\n",
       "    <tr>\n",
       "      <th>0</th>\n",
       "      <td>33.440</td>\n",
       "      <td>25.649</td>\n",
       "      <td>10.50</td>\n",
       "    </tr>\n",
       "    <tr>\n",
       "      <th>1</th>\n",
       "      <td>33.440</td>\n",
       "      <td>25.656</td>\n",
       "      <td>10.46</td>\n",
       "    </tr>\n",
       "    <tr>\n",
       "      <th>2</th>\n",
       "      <td>33.437</td>\n",
       "      <td>25.654</td>\n",
       "      <td>10.46</td>\n",
       "    </tr>\n",
       "    <tr>\n",
       "      <th>3</th>\n",
       "      <td>33.420</td>\n",
       "      <td>25.643</td>\n",
       "      <td>10.45</td>\n",
       "    </tr>\n",
       "    <tr>\n",
       "      <th>4</th>\n",
       "      <td>33.421</td>\n",
       "      <td>25.643</td>\n",
       "      <td>10.45</td>\n",
       "    </tr>\n",
       "  </tbody>\n",
       "</table>\n",
       "</div>"
      ],
      "text/plain": [
       "   Salnty  STheta  T_degC\n",
       "0  33.440  25.649   10.50\n",
       "1  33.440  25.656   10.46\n",
       "2  33.437  25.654   10.46\n",
       "3  33.420  25.643   10.45\n",
       "4  33.421  25.643   10.45"
      ]
     },
     "execution_count": 4,
     "metadata": {},
     "output_type": "execute_result"
    }
   ],
   "source": [
    "df.head()"
   ]
  },
  {
   "cell_type": "code",
   "execution_count": 5,
   "metadata": {},
   "outputs": [
    {
     "data": {
      "text/plain": [
       "<matplotlib.axes._subplots.AxesSubplot at 0x10986cc88>"
      ]
     },
     "execution_count": 5,
     "metadata": {},
     "output_type": "execute_result"
    },
    {
     "data": {
      "image/png": "[encoded data removed]",
      "text/plain": [
       "<matplotlib.figure.Figure at 0x104115400>"
      ]
     },
     "metadata": {},
     "output_type": "display_data"
    }
   ],
   "source": [
    "df.Salnty.hist()"
   ]
  },
  {
   "cell_type": "code",
   "execution_count": 6,
   "metadata": {},
   "outputs": [
    {
     "data": {
      "text/plain": [
       "<matplotlib.axes._subplots.AxesSubplot at 0x109c2cb70>"
      ]
     },
     "execution_count": 6,
     "metadata": {},
     "output_type": "execute_result"
    },
    {
     "data": {
      "image/png": "[encoded data removed]",
      "text/plain": [
       "<matplotlib.figure.Figure at 0x109869ba8>"
      ]
     },
     "metadata": {},
     "output_type": "display_data"
    }
   ],
   "source": [
    "fig, ax = plt.subplots(1, 2, figsize=(12,4))\n",
    "df.boxplot(column='STheta', ax=ax[0])\n",
    "df[df.STheta < 50].STheta.hist(ax=ax[1])"
   ]
  },
  {
   "cell_type": "code",
   "execution_count": 7,
   "metadata": {},
   "outputs": [
    {
     "data": {
      "text/plain": [
       "<matplotlib.axes._subplots.AxesSubplot at 0x12fe4ff28>"
      ]
     },
     "execution_count": 7,
     "metadata": {},
     "output_type": "execute_result"
    },
    {
     "data": {
      "image/png": "[encoded data removed]",
      "text/plain": [
       "<matplotlib.figure.Figure at 0x1101f6c50>"
      ]
     },
     "metadata": {},
     "output_type": "display_data"
    }
   ],
   "source": [
    "df.T_degC.hist()"
   ]
  },
  {
   "cell_type": "code",
   "execution_count": 8,
   "metadata": {},
   "outputs": [
    {
     "data": {
      "text/plain": [
       "<matplotlib.axes._subplots.AxesSubplot at 0x110846320>"
      ]
     },
     "execution_count": 8,
     "metadata": {},
     "output_type": "execute_result"
    },
    {
     "data": {
      "image/png": "[encoded data removed]",
      "text/plain": [
       "<matplotlib.figure.Figure at 0x110408ac8>"
      ]
     },
     "metadata": {},
     "output_type": "display_data"
    }
   ],
   "source": [
    "fig, ax = plt.subplots(1, 2, figsize=(12,4))\n",
    "\n",
    "df.plot(x='Salnty', y='T_degC', ax=ax[0], kind='scatter')\n",
    "df.plot(x='STheta', y='T_degC', ax=ax[1], kind='scatter')"
   ]
  },
  {
   "cell_type": "markdown",
   "metadata": {},
   "source": [
    "## Split into Test / Train\n",
    "\n",
    "In this assignment I am using a 70/30 test/train split"
   ]
  },
  {
   "cell_type": "code",
   "execution_count": 9,
   "metadata": {},
   "outputs": [],
   "source": [
    "np.random.seed(123)\n",
    "msk = np.random.rand(len(df)) < 0.7\n",
    "tn = df[msk]\n",
    "tt = df[~msk]"
   ]
  },
  {
   "cell_type": "markdown",
   "metadata": {},
   "source": [
    "## Solving Normal Equation\n",
    "\n",
    "The normal equation is given by \n",
    "\n",
    "\n",
    "\\begin{equation}\n",
    "\\theta = (X^T X)^{-1} X^T Y\n",
    "\\end{equation}\n",
    "\n",
    "where X is a matrix of the predictor values and Y is a vector of the response."
   ]
  },
  {
   "cell_type": "code",
   "execution_count": 10,
   "metadata": {},
   "outputs": [
    {
     "data": {
      "text/plain": [
       "array([78.71276256,  0.59370174, -3.40673501])"
      ]
     },
     "execution_count": 10,
     "metadata": {},
     "output_type": "execute_result"
    }
   ],
   "source": [
    "X = tn[tn.columns[0:2]]\n",
    "# Insert a column of 1s to find an intercept \n",
    "X.insert(0, 'intercept', 1)\n",
    "\n",
    "X_T_inv = np.linalg.pinv(X.T.dot(X))\n",
    "\n",
    "Y = tn.T_degC\n",
    "\n",
    "model = X_T_inv.dot(X.T.dot(Y))\n",
    "model"
   ]
  },
  {
   "cell_type": "markdown",
   "metadata": {},
   "source": [
    "## Computing RMSE, Variance Explained, R-Squared"
   ]
  },
  {
   "cell_type": "code",
   "execution_count": 11,
   "metadata": {},
   "outputs": [
    {
     "data": {
      "text/plain": [
       "Index(['Salnty', 'STheta', 'T_degC'], dtype='object')"
      ]
     },
     "execution_count": 11,
     "metadata": {},
     "output_type": "execute_result"
    }
   ],
   "source": [
    "df.columns"
   ]
  },
  {
   "cell_type": "code",
   "execution_count": 12,
   "metadata": {},
   "outputs": [],
   "source": [
    "tn_pred = model[0] + model[1] * tn.Salnty + model[2] * tn.STheta\n",
    "tt_pred = model[0] + model[1] * tt.Salnty + model[2] * tt.STheta"
   ]
  },
  {
   "cell_type": "markdown",
   "metadata": {},
   "source": [
    "### Root Mean Squared Error\n",
    "\n",
    "\\begin{equation}\n",
    "RMSE = \\sqrt{\\frac{\\sum_{i=1}^n (\\hat y_i - y_i)^2}{n}}\n",
    "\\end{equation}"
   ]
  },
  {
   "cell_type": "code",
   "execution_count": 13,
   "metadata": {},
   "outputs": [
    {
     "name": "stdout",
     "output_type": "stream",
     "text": [
      "Train RSME: 2.11\n",
      "Test  RSME: 2.94\n"
     ]
    }
   ],
   "source": [
    "tn_rmse = (((tn_pred - tn.T_degC)**2).sum() / len(tn))**0.5\n",
    "tt_rmse = (((tt_pred - tt.T_degC)**2).sum() / len(tt))**0.5\n",
    "\n",
    "print(\"Train RSME: {}\".format(round(tn_rmse, 2)))\n",
    "print(\"Test  RSME: {}\".format(round(tt_rmse, 2)))"
   ]
  },
  {
   "cell_type": "markdown",
   "metadata": {},
   "source": [
    "### Variance Explained\n",
    "Variance explained is the total variance minus the Mean Squared Error of the predictions"
   ]
  },
  {
   "cell_type": "code",
   "execution_count": 14,
   "metadata": {},
   "outputs": [
    {
     "name": "stdout",
     "output_type": "stream",
     "text": [
      "Train Variance: 17.8\n",
      "Test  Variance: 17.86\n"
     ]
    }
   ],
   "source": [
    "tn_var = ((tn.T_degC - tn.T_degC.mean())**2).mean()\n",
    "tt_var = ((tt.T_degC - tt.T_degC.mean())**2).mean()\n",
    "\n",
    "print(\"Train Variance: {}\".format(round(tn_var, 2)))\n",
    "print(\"Test  Variance: {}\".format(round(tt_var, 2)))"
   ]
  },
  {
   "cell_type": "code",
   "execution_count": 15,
   "metadata": {},
   "outputs": [
    {
     "name": "stdout",
     "output_type": "stream",
     "text": [
      "Train Variance Explained: 13.34\n",
      "Test  Variance Explained: 9.2\n"
     ]
    }
   ],
   "source": [
    "tn_var_explained = tn_var - tn_rmse**2\n",
    "tt_var_explained = tt_var - tt_rmse**2\n",
    "\n",
    "print(\"Train Variance Explained: {}\".format(round(tn_var_explained, 2)))\n",
    "print(\"Test  Variance Explained: {}\".format(round(tt_var_explained, 2)))"
   ]
  },
  {
   "cell_type": "markdown",
   "metadata": {},
   "source": [
    "### R2\n",
    "\n",
    "R2 is the percentage of the variance explained out of the total variance"
   ]
  },
  {
   "cell_type": "code",
   "execution_count": 16,
   "metadata": {},
   "outputs": [
    {
     "name": "stdout",
     "output_type": "stream",
     "text": [
      "Train R2: 0.75\n",
      "Test  R2: 0.51\n"
     ]
    }
   ],
   "source": [
    "tn_r2 = tn_var_explained / tn_var\n",
    "tt_r2 = tt_var_explained / tt_var\n",
    "\n",
    "print(\"Train R2: {}\".format(round(tn_r2, 2)))\n",
    "print(\"Test  R2: {}\".format(round(tt_r2, 2)))"
   ]
  }
 ],
 "metadata": {
  "kernelspec": {
   "display_name": "Python 3",
   "language": "python",
   "name": "python3"
  },
  "language_info": {
   "codemirror_mode": {
    "name": "ipython",
    "version": 3
   },
   "file_extension": ".py",
   "mimetype": "text/x-python",
   "name": "python",
   "nbconvert_exporter": "python",
   "pygments_lexer": "ipython3",
   "version": "3.6.4"
  }
 },
 "nbformat": 4,
 "nbformat_minor": 2
}
