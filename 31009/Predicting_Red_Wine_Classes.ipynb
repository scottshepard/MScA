{
 "cells": [
  {
   "cell_type": "markdown",
   "metadata": {
    "colab_type": "text",
    "id": "Anpwo0H3LHvL"
   },
   "source": [
    "## Settings"
   ]
  },
  {
   "cell_type": "code",
   "execution_count": 0,
   "metadata": {
    "colab": {},
    "colab_type": "code",
    "id": "q2yv_SvyZL1s"
   },
   "outputs": [],
   "source": [
    "import os\n",
    "\n",
    "import pandas as pd\n",
    "import numpy as np\n",
    "\n",
    "import seaborn as sns\n",
    "import matplotlib.pyplot as plt\n",
    "%matplotlib inline\n",
    "\n",
    "from sklearn import metrics\n",
    "from sklearn import svm\n",
    "\n",
    "from sklearn.preprocessing import StandardScaler\n",
    "from sklearn.ensemble import RandomForestClassifier\n",
    "from sklearn.model_selection import GridSearchCV\n",
    "from sklearn.model_selection import train_test_split\n",
    "\n",
    "from sklearn.ensemble import AdaBoostClassifier\n",
    "from sklearn.tree import DecisionTreeClassifier\n",
    "\n",
    "from sklearn.ensemble import RandomForestClassifier\n",
    "from sklearn.metrics import roc_auc_score\n",
    "from sklearn.metrics import confusion_matrix, classification_report\n",
    "from sklearn.datasets import make_classification"
   ]
  },
  {
   "cell_type": "code",
   "execution_count": 0,
   "metadata": {
    "colab": {
     "base_uri": "https://localhost:8080/",
     "height": 105
    },
    "colab_type": "code",
    "id": "2k4CaDKHb84B",
    "outputId": "9a04a5a7-7e2b-40ff-db2a-295718aa123c"
   },
   "outputs": [
    {
     "name": "stdout",
     "output_type": "stream",
     "text": [
      "Requirement already satisfied: imbalanced-learn in /usr/local/lib/python3.6/dist-packages (0.4.3)\n",
      "Requirement already satisfied: scikit-learn>=0.20 in /usr/local/lib/python3.6/dist-packages (from imbalanced-learn) (0.20.1)\n",
      "Requirement already satisfied: scipy>=0.13.3 in /usr/local/lib/python3.6/dist-packages (from imbalanced-learn) (1.1.0)\n",
      "Requirement already satisfied: numpy>=1.8.2 in /usr/local/lib/python3.6/dist-packages (from imbalanced-learn) (1.14.6)\n"
     ]
    }
   ],
   "source": [
    "!pip install imbalanced-learn\n",
    "from imblearn.over_sampling import SMOTE"
   ]
  },
  {
   "cell_type": "code",
   "execution_count": 0,
   "metadata": {
    "colab": {},
    "colab_type": "code",
    "id": "nDaApFauJqFn"
   },
   "outputs": [],
   "source": [
    "SMALL_SIZE = 12\n",
    "MEDIUM_SIZE = 18\n",
    "BIGGER_SIZE = 22\n",
    "\n",
    "plt.rc('font', size=SMALL_SIZE)          # controls default text sizes\n",
    "plt.rc('axes', titlesize=BIGGER_SIZE)    # fontsize of the axes title\n",
    "plt.rc('axes', labelsize=MEDIUM_SIZE)    # fontsize of the x and y labels\n",
    "plt.rc('xtick', labelsize=SMALL_SIZE)    # fontsize of the tick labels\n",
    "plt.rc('ytick', labelsize=SMALL_SIZE)    # fontsize of the tick labels\n",
    "plt.rc('legend', fontsize=SMALL_SIZE)    # legend fontsize\n",
    "plt.rc('figure', titlesize=BIGGER_SIZE)  # fontsize of the figure title"
   ]
  },
  {
   "cell_type": "code",
   "execution_count": 0,
   "metadata": {
    "colab": {
     "base_uri": "https://localhost:8080/",
     "height": 54
    },
    "colab_type": "code",
    "id": "-exnZo0TZSdv",
    "outputId": "ee1c41b7-c6fe-41c4-9ff3-b69dbc198164"
   },
   "outputs": [
    {
     "name": "stdout",
     "output_type": "stream",
     "text": [
      "Drive already mounted at /content/gdrive; to attempt to forcibly remount, call drive.mount(\"/content/gdrive\", force_remount=True).\n"
     ]
    }
   ],
   "source": [
    "# This notebook is written using the COLAB software in google drive\n",
    "# To read data within a drive folder Google needs to be authorized\n",
    "# This needs to be done every time the notebook is opened\n",
    "from google.colab import drive\n",
    "drive.mount('/content/gdrive')"
   ]
  },
  {
   "cell_type": "markdown",
   "metadata": {
    "colab_type": "text",
    "id": "LFe_lxgsYf67"
   },
   "source": [
    "### Functions"
   ]
  },
  {
   "cell_type": "code",
   "execution_count": 0,
   "metadata": {
    "colab": {},
    "colab_type": "code",
    "id": "Jxlt0LKoYfBo"
   },
   "outputs": [],
   "source": [
    "def reports(modelname, xtrain, xtest, ytrain, ytrain_pred, ytest, ytest_pred):\n",
    "  '''\n",
    "  Print the classification report and confusion matrix for both train and test\n",
    "  '''\n",
    "  print(\"{0} Train Accuracy Score: {1}\".format(modelname, (ytrain == ytrain_pred).mean()))\n",
    "  print(\"\\n{0} Train Confusion Matrix\".format(modelname))\n",
    "  print(metrics.confusion_matrix(ytrain, ytrain_pred))\n",
    "  print(\"\\n{0} Train Classification Report\".format(modelname))\n",
    "  print(metrics.classification_report(ytrain, ytrain_pred))\n",
    "  print('-'*53 + '\\n')\n",
    "  print(\"{0} Test Accuracy Score: {1}\".format(modelname, (ytest == ytest_pred).mean()))\n",
    "  print(\"\\n{0} Test Confusion Matrix\".format(modelname))\n",
    "  print(metrics.confusion_matrix(ytest, ytest_pred))\n",
    "  print(\"\\n{0} Test Classification Report\".format(modelname))\n",
    "  print(metrics.classification_report(ytest, ytest_pred))\n",
    "  \n",
    "def svm_feature_importance_plot(coef, names):\n",
    "    imp = coef\n",
    "    imp,names = zip(*sorted(zip(imp,names)))\n",
    "    plt.barh(range(len(names)), imp, align='center')\n",
    "    plt.yticks(range(len(names)), names)\n",
    "    plt.show()"
   ]
  },
  {
   "cell_type": "markdown",
   "metadata": {
    "colab_type": "text",
    "id": "jEz4tGqrK_w_"
   },
   "source": [
    "# Load the Data\n",
    "\n",
    "Data comes from the UCI Machine Learning Repository. It has been downloaded and placed into Google Drive for accessibilty\n",
    "\n",
    "https://archive.ics.uci.edu/ml/datasets/wine+quality"
   ]
  },
  {
   "cell_type": "code",
   "execution_count": 0,
   "metadata": {
    "colab": {},
    "colab_type": "code",
    "id": "u10JaawzZYx9"
   },
   "outputs": [],
   "source": [
    "red = pd.read_csv('/content/gdrive/Team Drives/ML Project Team/wine/winequality-red.csv', sep=';')"
   ]
  },
  {
   "cell_type": "code",
   "execution_count": 0,
   "metadata": {
    "colab": {
     "base_uri": "https://localhost:8080/",
     "height": 258
    },
    "colab_type": "code",
    "id": "pHA-4JscZyPH",
    "outputId": "93559d23-2aa2-44ed-bf16-99ced47a54b0"
   },
   "outputs": [
    {
     "data": {
      "text/html": [
       "<div>\n",
       "<style scoped>\n",
       "    .dataframe tbody tr th:only-of-type {\n",
       "        vertical-align: middle;\n",
       "    }\n",
       "\n",
       "    .dataframe tbody tr th {\n",
       "        vertical-align: top;\n",
       "    }\n",
       "\n",
       "    .dataframe thead th {\n",
       "        text-align: right;\n",
       "    }\n",
       "</style>\n",
       "<table border=\"1\" class=\"dataframe\">\n",
       "  <thead>\n",
       "    <tr style=\"text-align: right;\">\n",
       "      <th></th>\n",
       "      <th>fixed acidity</th>\n",
       "      <th>volatile acidity</th>\n",
       "      <th>citric acid</th>\n",
       "      <th>residual sugar</th>\n",
       "      <th>chlorides</th>\n",
       "      <th>free sulfur dioxide</th>\n",
       "      <th>total sulfur dioxide</th>\n",
       "      <th>density</th>\n",
       "      <th>pH</th>\n",
       "      <th>sulphates</th>\n",
       "      <th>alcohol</th>\n",
       "      <th>quality</th>\n",
       "    </tr>\n",
       "  </thead>\n",
       "  <tbody>\n",
       "    <tr>\n",
       "      <th>0</th>\n",
       "      <td>7.4</td>\n",
       "      <td>0.70</td>\n",
       "      <td>0.00</td>\n",
       "      <td>1.9</td>\n",
       "      <td>0.076</td>\n",
       "      <td>11.0</td>\n",
       "      <td>34.0</td>\n",
       "      <td>0.9978</td>\n",
       "      <td>3.51</td>\n",
       "      <td>0.56</td>\n",
       "      <td>9.4</td>\n",
       "      <td>5</td>\n",
       "    </tr>\n",
       "    <tr>\n",
       "      <th>1</th>\n",
       "      <td>7.8</td>\n",
       "      <td>0.88</td>\n",
       "      <td>0.00</td>\n",
       "      <td>2.6</td>\n",
       "      <td>0.098</td>\n",
       "      <td>25.0</td>\n",
       "      <td>67.0</td>\n",
       "      <td>0.9968</td>\n",
       "      <td>3.20</td>\n",
       "      <td>0.68</td>\n",
       "      <td>9.8</td>\n",
       "      <td>5</td>\n",
       "    </tr>\n",
       "    <tr>\n",
       "      <th>2</th>\n",
       "      <td>7.8</td>\n",
       "      <td>0.76</td>\n",
       "      <td>0.04</td>\n",
       "      <td>2.3</td>\n",
       "      <td>0.092</td>\n",
       "      <td>15.0</td>\n",
       "      <td>54.0</td>\n",
       "      <td>0.9970</td>\n",
       "      <td>3.26</td>\n",
       "      <td>0.65</td>\n",
       "      <td>9.8</td>\n",
       "      <td>5</td>\n",
       "    </tr>\n",
       "    <tr>\n",
       "      <th>3</th>\n",
       "      <td>11.2</td>\n",
       "      <td>0.28</td>\n",
       "      <td>0.56</td>\n",
       "      <td>1.9</td>\n",
       "      <td>0.075</td>\n",
       "      <td>17.0</td>\n",
       "      <td>60.0</td>\n",
       "      <td>0.9980</td>\n",
       "      <td>3.16</td>\n",
       "      <td>0.58</td>\n",
       "      <td>9.8</td>\n",
       "      <td>6</td>\n",
       "    </tr>\n",
       "    <tr>\n",
       "      <th>4</th>\n",
       "      <td>7.4</td>\n",
       "      <td>0.70</td>\n",
       "      <td>0.00</td>\n",
       "      <td>1.9</td>\n",
       "      <td>0.076</td>\n",
       "      <td>11.0</td>\n",
       "      <td>34.0</td>\n",
       "      <td>0.9978</td>\n",
       "      <td>3.51</td>\n",
       "      <td>0.56</td>\n",
       "      <td>9.4</td>\n",
       "      <td>5</td>\n",
       "    </tr>\n",
       "  </tbody>\n",
       "</table>\n",
       "</div>"
      ],
      "text/plain": [
       "   fixed acidity  volatile acidity  citric acid  residual sugar  chlorides  \\\n",
       "0            7.4              0.70         0.00             1.9      0.076   \n",
       "1            7.8              0.88         0.00             2.6      0.098   \n",
       "2            7.8              0.76         0.04             2.3      0.092   \n",
       "3           11.2              0.28         0.56             1.9      0.075   \n",
       "4            7.4              0.70         0.00             1.9      0.076   \n",
       "\n",
       "   free sulfur dioxide  total sulfur dioxide  density    pH  sulphates  \\\n",
       "0                 11.0                  34.0   0.9978  3.51       0.56   \n",
       "1                 25.0                  67.0   0.9968  3.20       0.68   \n",
       "2                 15.0                  54.0   0.9970  3.26       0.65   \n",
       "3                 17.0                  60.0   0.9980  3.16       0.58   \n",
       "4                 11.0                  34.0   0.9978  3.51       0.56   \n",
       "\n",
       "   alcohol  quality  \n",
       "0      9.4        5  \n",
       "1      9.8        5  \n",
       "2      9.8        5  \n",
       "3      9.8        6  \n",
       "4      9.4        5  "
      ]
     },
     "execution_count": 7,
     "metadata": {
      "tags": []
     },
     "output_type": "execute_result"
    }
   ],
   "source": [
    "red.head()"
   ]
  },
  {
   "cell_type": "code",
   "execution_count": 0,
   "metadata": {
    "colab": {
     "base_uri": "https://localhost:8080/",
     "height": 238
    },
    "colab_type": "code",
    "id": "SldoyK8pjMkV",
    "outputId": "f324323e-0cb1-4452-b412-8d7c1f85ed48"
   },
   "outputs": [
    {
     "data": {
      "text/plain": [
       "fixed acidity            7.4000\n",
       "volatile acidity         0.7000\n",
       "citric acid              0.0000\n",
       "residual sugar           1.9000\n",
       "chlorides                0.0760\n",
       "free sulfur dioxide     11.0000\n",
       "total sulfur dioxide    34.0000\n",
       "density                  0.9978\n",
       "pH                       3.5100\n",
       "sulphates                0.5600\n",
       "alcohol                  9.4000\n",
       "quality                  5.0000\n",
       "Name: 0, dtype: float64"
      ]
     },
     "execution_count": 8,
     "metadata": {
      "tags": []
     },
     "output_type": "execute_result"
    }
   ],
   "source": [
    "# An example data point\n",
    "red.iloc[0]"
   ]
  },
  {
   "cell_type": "code",
   "execution_count": 0,
   "metadata": {
    "colab": {
     "base_uri": "https://localhost:8080/",
     "height": 34
    },
    "colab_type": "code",
    "id": "woc9vVAwBDTM",
    "outputId": "4afbc1a4-51da-4dbe-e31e-5f3b5e7d6e2e"
   },
   "outputs": [
    {
     "data": {
      "text/plain": [
       "(1599, 12)"
      ]
     },
     "execution_count": 9,
     "metadata": {
      "tags": []
     },
     "output_type": "execute_result"
    }
   ],
   "source": [
    "red.shape"
   ]
  },
  {
   "cell_type": "markdown",
   "metadata": {
    "colab_type": "text",
    "id": "TGlb8Uh-LOhR"
   },
   "source": [
    "# Data Exploration\n",
    "\n",
    "What does the data look like? It is important to look at the features themselves before diving into an ML task. Here we look at the distribution of classes and separation of features for insights on what model and transformations will be useful."
   ]
  },
  {
   "cell_type": "markdown",
   "metadata": {
    "colab_type": "text",
    "id": "4bcb57EsYQE3"
   },
   "source": [
    "## Response"
   ]
  },
  {
   "cell_type": "code",
   "execution_count": 0,
   "metadata": {
    "colab": {
     "base_uri": "https://localhost:8080/",
     "height": 473
    },
    "colab_type": "code",
    "id": "oV5lYjbwIQrp",
    "outputId": "80fd043c-1385-495e-acba-a3f4014a70e9"
   },
   "outputs": [
    {
     "data": {
      "image/png": "[encoded data removed]",
      "text/plain": [
       "<matplotlib.figure.Figure at 0x7fa66ef58d30>"
      ]
     },
     "metadata": {
      "tags": []
     },
     "output_type": "display_data"
    }
   ],
   "source": [
    "t = red.quality.value_counts().sort_index()\n",
    "ax = t.plot.bar(figsize=(11,7), color='tab:blue')\n",
    "\n",
    "plt.xticks(rotation=0)\n",
    "plt.title('Wine Quality Distribution')\n",
    "plt.xlabel('Quality Category')\n",
    "plt.ylabel('Count')\n",
    "\n",
    "for i, v in enumerate(t):\n",
    "    ax.text(i, v+3, v, ha='center', va='bottom')"
   ]
  },
  {
   "cell_type": "markdown",
   "metadata": {
    "colab_type": "text",
    "id": "3_mNWsHiYTuB"
   },
   "source": [
    "## Predictors"
   ]
  },
  {
   "cell_type": "code",
   "execution_count": 0,
   "metadata": {
    "colab": {
     "base_uri": "https://localhost:8080/",
     "height": 962
    },
    "colab_type": "code",
    "id": "OQtisbpgBGBZ",
    "outputId": "36c38efb-b07a-4120-f935-4f31978d757f"
   },
   "outputs": [
    {
     "data": {
      "text/plain": [
       "array([[<matplotlib.axes._subplots.AxesSubplot object at 0x7fa66ef58518>,\n",
       "        <matplotlib.axes._subplots.AxesSubplot object at 0x7fa66c620eb8>,\n",
       "        <matplotlib.axes._subplots.AxesSubplot object at 0x7fa66c5e0438>],\n",
       "       [<matplotlib.axes._subplots.AxesSubplot object at 0x7fa66c597a58>,\n",
       "        <matplotlib.axes._subplots.AxesSubplot object at 0x7fa66c5555f8>,\n",
       "        <matplotlib.axes._subplots.AxesSubplot object at 0x7fa66c555630>],\n",
       "       [<matplotlib.axes._subplots.AxesSubplot object at 0x7fa66c4be160>,\n",
       "        <matplotlib.axes._subplots.AxesSubplot object at 0x7fa66c4f1cc0>,\n",
       "        <matplotlib.axes._subplots.AxesSubplot object at 0x7fa66c4b0860>],\n",
       "       [<matplotlib.axes._subplots.AxesSubplot object at 0x7fa66c50b4e0>,\n",
       "        <matplotlib.axes._subplots.AxesSubplot object at 0x7fa66c4186a0>,\n",
       "        <matplotlib.axes._subplots.AxesSubplot object at 0x7fa66c3cae10>]],\n",
       "      dtype=object)"
      ]
     },
     "execution_count": 11,
     "metadata": {
      "tags": []
     },
     "output_type": "execute_result"
    },
    {
     "data": {
      "image/png": "[encoded data removed]",
      "text/plain": [
       "<matplotlib.figure.Figure at 0x7fa66ef586a0>"
      ]
     },
     "metadata": {
      "tags": []
     },
     "output_type": "display_data"
    }
   ],
   "source": [
    "plt.rc('axes', titlesize=MEDIUM_SIZE)\n",
    "red.drop(columns='quality').hist(figsize=(23,12))"
   ]
  },
  {
   "cell_type": "code",
   "execution_count": 0,
   "metadata": {
    "colab": {},
    "colab_type": "code",
    "id": "4AtLpwt72l0X"
   },
   "outputs": [],
   "source": []
  },
  {
   "cell_type": "markdown",
   "metadata": {
    "colab_type": "text",
    "id": "7w8DHFXr2mLe"
   },
   "source": [
    "## Correlation & Multicolinearity"
   ]
  },
  {
   "cell_type": "code",
   "execution_count": 0,
   "metadata": {
    "colab": {
     "base_uri": "https://localhost:8080/",
     "height": 532
    },
    "colab_type": "code",
    "id": "jpeOfjFcYRmI",
    "outputId": "72861ba2-b485-4d9d-d430-bf7fb4631f35"
   },
   "outputs": [
    {
     "data": {
      "text/plain": [
       "<matplotlib.axes._subplots.AxesSubplot at 0x7fa66c16bda0>"
      ]
     },
     "execution_count": 12,
     "metadata": {
      "tags": []
     },
     "output_type": "execute_result"
    },
    {
     "data": {
      "image/png": "[encoded data removed]",
      "text/plain": [
       "<matplotlib.figure.Figure at 0x7fa66c3b0e10>"
      ]
     },
     "metadata": {
      "tags": []
     },
     "output_type": "display_data"
    }
   ],
   "source": [
    "corr = red.drop(columns='quality').corr()\n",
    "\n",
    "mask = np.zeros_like(corr, dtype=np.bool)\n",
    "\n",
    "fig, ax = plt.subplots(figsize=(11,7))\n",
    "sns.heatmap(corr, ax=ax)"
   ]
  },
  {
   "cell_type": "code",
   "execution_count": 0,
   "metadata": {
    "colab": {
     "base_uri": "https://localhost:8080/",
     "height": 71
    },
    "colab_type": "code",
    "id": "UKyxAJWaZlDb",
    "outputId": "397db581-eea1-4cf0-815c-5b93bea834a2"
   },
   "outputs": [
    {
     "name": "stderr",
     "output_type": "stream",
     "text": [
      "/usr/local/lib/python3.6/dist-packages/statsmodels/compat/pandas.py:56: FutureWarning: The pandas.core.datetools module is deprecated and will be removed in a future version. Please use the pandas.tseries module instead.\n",
      "  from pandas.core import datetools\n"
     ]
    }
   ],
   "source": [
    "from patsy import dmatrices\n",
    "import statsmodels.api as sm\n",
    "from statsmodels.stats.outliers_influence import variance_inflation_factor"
   ]
  },
  {
   "cell_type": "code",
   "execution_count": 0,
   "metadata": {
    "colab": {
     "base_uri": "https://localhost:8080/",
     "height": 359
    },
    "colab_type": "code",
    "id": "d_NrBdKBcFS6",
    "outputId": "3bb3f623-4993-487c-8f5e-8a1aec2f3213"
   },
   "outputs": [
    {
     "data": {
      "text/html": [
       "<div>\n",
       "<style scoped>\n",
       "    .dataframe tbody tr th:only-of-type {\n",
       "        vertical-align: middle;\n",
       "    }\n",
       "\n",
       "    .dataframe tbody tr th {\n",
       "        vertical-align: top;\n",
       "    }\n",
       "\n",
       "    .dataframe thead th {\n",
       "        text-align: right;\n",
       "    }\n",
       "</style>\n",
       "<table border=\"1\" class=\"dataframe\">\n",
       "  <thead>\n",
       "    <tr style=\"text-align: right;\">\n",
       "      <th></th>\n",
       "      <th>VIF Factor</th>\n",
       "      <th>features</th>\n",
       "    </tr>\n",
       "  </thead>\n",
       "  <tbody>\n",
       "    <tr>\n",
       "      <th>1</th>\n",
       "      <td>7.767512</td>\n",
       "      <td>fixed_acidity</td>\n",
       "    </tr>\n",
       "    <tr>\n",
       "      <th>2</th>\n",
       "      <td>1.789390</td>\n",
       "      <td>volatile_acidity</td>\n",
       "    </tr>\n",
       "    <tr>\n",
       "      <th>3</th>\n",
       "      <td>3.128022</td>\n",
       "      <td>citric_acid</td>\n",
       "    </tr>\n",
       "    <tr>\n",
       "      <th>4</th>\n",
       "      <td>1.702588</td>\n",
       "      <td>residual_sugar</td>\n",
       "    </tr>\n",
       "    <tr>\n",
       "      <th>5</th>\n",
       "      <td>1.481932</td>\n",
       "      <td>chlorides</td>\n",
       "    </tr>\n",
       "    <tr>\n",
       "      <th>6</th>\n",
       "      <td>1.963019</td>\n",
       "      <td>free_sulfur_dioxide</td>\n",
       "    </tr>\n",
       "    <tr>\n",
       "      <th>7</th>\n",
       "      <td>2.186813</td>\n",
       "      <td>total_sulfur_dioxide</td>\n",
       "    </tr>\n",
       "    <tr>\n",
       "      <th>8</th>\n",
       "      <td>6.343760</td>\n",
       "      <td>density</td>\n",
       "    </tr>\n",
       "    <tr>\n",
       "      <th>9</th>\n",
       "      <td>3.329732</td>\n",
       "      <td>pH</td>\n",
       "    </tr>\n",
       "    <tr>\n",
       "      <th>10</th>\n",
       "      <td>1.429434</td>\n",
       "      <td>sulphates</td>\n",
       "    </tr>\n",
       "  </tbody>\n",
       "</table>\n",
       "</div>"
      ],
      "text/plain": [
       "    VIF Factor              features\n",
       "1     7.767512         fixed_acidity\n",
       "2     1.789390      volatile_acidity\n",
       "3     3.128022           citric_acid\n",
       "4     1.702588        residual_sugar\n",
       "5     1.481932             chlorides\n",
       "6     1.963019   free_sulfur_dioxide\n",
       "7     2.186813  total_sulfur_dioxide\n",
       "8     6.343760               density\n",
       "9     3.329732                    pH\n",
       "10    1.429434             sulphates"
      ]
     },
     "execution_count": 14,
     "metadata": {
      "tags": []
     },
     "output_type": "execute_result"
    }
   ],
   "source": [
    "vif_df = red.copy()\n",
    "vif_df.columns = [c.replace(\" \", \"_\") for c in vif_df.columns]\n",
    "\n",
    "#gather features\n",
    "features = \"+\".join(vif_df.drop(columns='quality').columns)\n",
    "\n",
    "# get y and X dataframes based on this regression:\n",
    "y2, X2 = dmatrices('quality ~' + features, vif_df, return_type='dataframe')\n",
    "\n",
    "vif = pd.DataFrame()\n",
    "vif[\"VIF Factor\"] = [variance_inflation_factor(X2.values, i) for i in range(X2.shape[1])]\n",
    "vif[\"features\"] = X2.columns\n",
    "\n",
    "vif.iloc[1:11,:]"
   ]
  },
  {
   "cell_type": "markdown",
   "metadata": {
    "colab_type": "text",
    "id": "r9_8gDr7Zcx0"
   },
   "source": [
    "# Data Transformation"
   ]
  },
  {
   "cell_type": "markdown",
   "metadata": {
    "colab_type": "text",
    "id": "8BoSgg0DWTLM"
   },
   "source": [
    "Some of the variables are more seperable than others. It will be hard for a linear, logistic, or SVM model to separate between these classes.\n",
    "\n",
    "We tried a few different data transformations:\n",
    "  - Unbalanced, raw dataset \n",
    "  - Dropping and rebalancing the classes\n",
    "  - Combining classes"
   ]
  },
  {
   "cell_type": "markdown",
   "metadata": {
    "colab_type": "text",
    "id": "8BE-hNv8amB2"
   },
   "source": [
    "## Unbalanced dataset"
   ]
  },
  {
   "cell_type": "code",
   "execution_count": 0,
   "metadata": {
    "colab": {},
    "colab_type": "code",
    "id": "btkn97FOald9"
   },
   "outputs": [],
   "source": [
    "y = red['quality']\n",
    "X = red.drop(columns='quality')\n",
    "X_train, X_test, y_train, y_test = train_test_split(X, y, test_size=0.2, random_state=42)"
   ]
  },
  {
   "cell_type": "markdown",
   "metadata": {
    "colab_type": "text",
    "id": "OzqW5tBJaubW"
   },
   "source": [
    "## Balanced dataset with dropped classes\n",
    "\n",
    "Here we drop classes 3 & 8 because there are so few datapoints, then rebalance the training set with the SMOTE function to create synthetic data."
   ]
  },
  {
   "cell_type": "code",
   "execution_count": 0,
   "metadata": {
    "colab": {},
    "colab_type": "code",
    "id": "4n1QOHRmatq1"
   },
   "outputs": [],
   "source": [
    "red_drop = red[~red.quality.isin([3,8])]\n",
    "\n",
    "y_drop = red_drop['quality']\n",
    "X_drop = red_drop.drop(columns='quality')\n",
    "X_train_drop, X_test_drop, y_train_drop, y_test_drop = train_test_split(X_drop, y_drop, test_size=0.20, random_state=42)\n",
    "\n",
    "sm = SMOTE(random_state=42, sampling_strategy={4:277, 5:554, 6:509, 7:277})\n",
    "X_train_bal, y_train_bal = sm.fit_resample(X_train_drop, y_train_drop)"
   ]
  },
  {
   "cell_type": "code",
   "execution_count": 0,
   "metadata": {
    "colab": {
     "base_uri": "https://localhost:8080/",
     "height": 395
    },
    "colab_type": "code",
    "id": "1zOs4hKFqUR7",
    "outputId": "d5732f9d-021b-4317-cd49-9a9a112b4e61"
   },
   "outputs": [
    {
     "data": {
      "image/png": "[encoded data removed]",
      "text/plain": [
       "<matplotlib.figure.Figure at 0x7fa669e36c18>"
      ]
     },
     "metadata": {
      "tags": []
     },
     "output_type": "display_data"
    }
   ],
   "source": [
    "t = pd.Series(y_train_bal).value_counts().sort_index()\n",
    "ax = t.plot.bar(figsize=(9,6), color='tab:blue')\n",
    "\n",
    "plt.xticks(rotation=0)\n",
    "plt.title('SMOTE Rebalancing: Train')\n",
    "\n",
    "for i, v in enumerate(t):\n",
    "    ax.text(i, v+3, v, ha='center', va='bottom')"
   ]
  },
  {
   "cell_type": "markdown",
   "metadata": {
    "colab_type": "text",
    "id": "RhlabmwGbIgI"
   },
   "source": [
    "## Combining Classes\n",
    "\n",
    "A second way of addressesing the imbalanced classes is to change the target output. Who cares about the difference between a 7 and an 8 anyway? We just want to know good or bad. Here we combine 3, 4, 5 into a 'bad' class and 6, 7, 8 into a 'good' class."
   ]
  },
  {
   "cell_type": "code",
   "execution_count": 0,
   "metadata": {
    "colab": {},
    "colab_type": "code",
    "id": "nLWzZOtpd3T2"
   },
   "outputs": [],
   "source": [
    "y_train_bin = pd.Series([y >= 6 for y in y_train])\n",
    "y_test_bin = pd.Series([y >= 6 for y in y_test])"
   ]
  },
  {
   "cell_type": "code",
   "execution_count": 0,
   "metadata": {
    "colab": {
     "base_uri": "https://localhost:8080/",
     "height": 68
    },
    "colab_type": "code",
    "id": "g0B8tzINlA6I",
    "outputId": "acdca64b-12bb-4a7f-823e-de76de2bdf07"
   },
   "outputs": [
    {
     "data": {
      "text/plain": [
       "True     676\n",
       "False    603\n",
       "dtype: int64"
      ]
     },
     "execution_count": 19,
     "metadata": {
      "tags": []
     },
     "output_type": "execute_result"
    }
   ],
   "source": [
    " y_train_bin.value_counts()"
   ]
  },
  {
   "cell_type": "code",
   "execution_count": 0,
   "metadata": {
    "colab": {
     "base_uri": "https://localhost:8080/",
     "height": 412
    },
    "colab_type": "code",
    "id": "-lQ29fq_kD4i",
    "outputId": "41817fd6-5a9b-4b58-9d64-a180a11c8267"
   },
   "outputs": [
    {
     "data": {
      "text/plain": [
       "Text(0.5,1,'Binning Classes: Train')"
      ]
     },
     "execution_count": 20,
     "metadata": {
      "tags": []
     },
     "output_type": "execute_result"
    },
    {
     "data": {
      "image/png": "[encoded data removed]",
      "text/plain": [
       "<matplotlib.figure.Figure at 0x7fa669e36668>"
      ]
     },
     "metadata": {
      "tags": []
     },
     "output_type": "display_data"
    }
   ],
   "source": [
    "fig, ax = plt.subplots(figsize=(9,6))\n",
    "t = y_train_bin.value_counts().sort_index()\n",
    "t.plot.bar(color='tab:blue', ax=ax)\n",
    "ax.set_xticklabels(['3, 4, 5', '6, 7, 8'],rotation=0)\n",
    "for i, v in enumerate(t):\n",
    "    ax.text(i, v+3, v, ha='center', va='bottom')\n",
    "ax.set_title('Binning Classes: Train')"
   ]
  },
  {
   "cell_type": "markdown",
   "metadata": {
    "colab_type": "text",
    "id": "DG8AP0Z5L5e8"
   },
   "source": [
    "# Model Building"
   ]
  },
  {
   "cell_type": "code",
   "execution_count": 0,
   "metadata": {
    "colab": {},
    "colab_type": "code",
    "id": "tIeV8lSfJ0Dl"
   },
   "outputs": [],
   "source": [
    "# keep track of final models & important scores\n",
    "models = {}"
   ]
  },
  {
   "cell_type": "markdown",
   "metadata": {
    "colab_type": "text",
    "id": "WqevEw-QMR3A"
   },
   "source": [
    "## Scaling the Dataset"
   ]
  },
  {
   "cell_type": "code",
   "execution_count": 0,
   "metadata": {
    "colab": {},
    "colab_type": "code",
    "id": "g4NPiBBbgSQR"
   },
   "outputs": [],
   "source": [
    "scaler = StandardScaler()\n",
    "scaler.fit(X_train)\n",
    "\n",
    "X_train_scaled = pd.DataFrame(scaler.transform(X_train), columns=X.columns)\n",
    "X_test_scaled  = pd.DataFrame(scaler.transform(X_test), columns=X.columns)"
   ]
  },
  {
   "cell_type": "code",
   "execution_count": 0,
   "metadata": {
    "colab": {},
    "colab_type": "code",
    "id": "ESyg5fUtaWgB"
   },
   "outputs": [],
   "source": [
    "scaler_bal = StandardScaler()\n",
    "scaler_bal.fit(X_train_bal)\n",
    "\n",
    "X_train_bal_scaled = pd.DataFrame(scaler.transform(X_train_bal), columns=X.columns)\n",
    "X_test_bal_scaled  = pd.DataFrame(scaler.transform(X_test), columns=X.columns)"
   ]
  },
  {
   "cell_type": "code",
   "execution_count": 0,
   "metadata": {
    "colab": {
     "base_uri": "https://localhost:8080/",
     "height": 34
    },
    "colab_type": "code",
    "id": "ZdTl5In0ZoL5",
    "outputId": "d73e948e-9b1d-4bfd-ea8a-e389d3c6e010"
   },
   "outputs": [
    {
     "data": {
      "text/plain": [
       "(1279, 11)"
      ]
     },
     "execution_count": 24,
     "metadata": {
      "tags": []
     },
     "output_type": "execute_result"
    }
   ],
   "source": [
    "X_train_scaled.shape"
   ]
  },
  {
   "cell_type": "code",
   "execution_count": 0,
   "metadata": {
    "colab": {
     "base_uri": "https://localhost:8080/",
     "height": 34
    },
    "colab_type": "code",
    "id": "btF-o9nXZr12",
    "outputId": "3ae2c06a-88ca-468b-d66a-12b5c2a063de"
   },
   "outputs": [
    {
     "data": {
      "text/plain": [
       "(1617,)"
      ]
     },
     "execution_count": 25,
     "metadata": {
      "tags": []
     },
     "output_type": "execute_result"
    }
   ],
   "source": [
    "y_train_bal.shape"
   ]
  },
  {
   "cell_type": "markdown",
   "metadata": {
    "colab_type": "text",
    "id": "C0e6MgqALnhn"
   },
   "source": [
    "## SVM - Scott"
   ]
  },
  {
   "cell_type": "markdown",
   "metadata": {
    "colab_type": "text",
    "id": "Rr0mNaC_g0nE"
   },
   "source": [
    "### Unbalanced"
   ]
  },
  {
   "cell_type": "markdown",
   "metadata": {
    "colab_type": "text",
    "id": "QiXBAbeiTmI6"
   },
   "source": [
    "#### Grid Search\n",
    "\n",
    "The first model to train is the SVM with linear kernel. We used grid search to tune the C hyperparamter. When training the model we ran many more instances of C, but as this notebook needed to be run many times we limit the number here for expidency's sake."
   ]
  },
  {
   "cell_type": "code",
   "execution_count": 0,
   "metadata": {
    "colab": {
     "base_uri": "https://localhost:8080/",
     "height": 275
    },
    "colab_type": "code",
    "id": "wFpT8DHng-VV",
    "outputId": "2bd42f17-0378-4d76-b03f-18f160fa248f"
   },
   "outputs": [
    {
     "name": "stdout",
     "output_type": "stream",
     "text": [
      "Fitting 5 folds for each of 5 candidates, totalling 25 fits\n"
     ]
    },
    {
     "name": "stderr",
     "output_type": "stream",
     "text": [
      "[Parallel(n_jobs=-1)]: Using backend LokyBackend with 2 concurrent workers.\n",
      "[Parallel(n_jobs=-1)]: Done  25 out of  25 | elapsed:    3.1s finished\n",
      "/usr/local/lib/python3.6/dist-packages/sklearn/model_selection/_search.py:841: DeprecationWarning: The default of the `iid` parameter will change from True to False in version 0.22 and will be removed in 0.24. This will change numeric results when test-set sizes are unequal.\n",
      "  DeprecationWarning)\n"
     ]
    },
    {
     "data": {
      "text/plain": [
       "GridSearchCV(cv=5, error_score='raise-deprecating',\n",
       "       estimator=SVC(C=1.0, cache_size=200, class_weight=None, coef0=0.0,\n",
       "  decision_function_shape='ovr', degree=3, gamma='auto_deprecated',\n",
       "  kernel='linear', max_iter=-1, probability=False, random_state=None,\n",
       "  shrinking=True, tol=0.001, verbose=False),\n",
       "       fit_params=None, iid='warn', n_jobs=-1,\n",
       "       param_grid={'C': [0.2, 0.4, 0.6, 0.8, 1.0]},\n",
       "       pre_dispatch='2*n_jobs', refit=True, return_train_score=True,\n",
       "       scoring=None, verbose=1)"
      ]
     },
     "execution_count": 26,
     "metadata": {
      "tags": []
     },
     "output_type": "execute_result"
    }
   ],
   "source": [
    "parameters = {'C': [0.2, 0.4, 0.6, 0.8, 1.0]}\n",
    "svc = svm.SVC(kernel='linear')\n",
    "\n",
    "grid_svc = GridSearchCV(svc, parameters, cv=5, refit=True, n_jobs=-1, verbose=1, return_train_score=True)\n",
    "grid_svc.fit(X_train_scaled, y_train)"
   ]
  },
  {
   "cell_type": "code",
   "execution_count": 0,
   "metadata": {
    "colab": {
     "base_uri": "https://localhost:8080/",
     "height": 34
    },
    "colab_type": "code",
    "id": "4VWEisZpRT7t",
    "outputId": "e1dc188c-85f4-40f4-ab48-bb82f27f4fac"
   },
   "outputs": [
    {
     "data": {
      "text/plain": [
       "{'C': 0.4}"
      ]
     },
     "execution_count": 27,
     "metadata": {
      "tags": []
     },
     "output_type": "execute_result"
    }
   ],
   "source": [
    "grid_svc.best_params_"
   ]
  },
  {
   "cell_type": "code",
   "execution_count": 0,
   "metadata": {
    "colab": {},
    "colab_type": "code",
    "id": "Co26tv0KKAQ8"
   },
   "outputs": [],
   "source": [
    "models['SVM'] = {\n",
    "    'unbalanced': {\n",
    "        'model': grid_svc.best_estimator_,\n",
    "        'params': grid_svc.best_params_\n",
    "    }\n",
    "}"
   ]
  },
  {
   "cell_type": "markdown",
   "metadata": {
    "colab_type": "text",
    "id": "ovXeGHC7Tbxa"
   },
   "source": [
    "#### Predictions"
   ]
  },
  {
   "cell_type": "code",
   "execution_count": 0,
   "metadata": {
    "colab": {},
    "colab_type": "code",
    "id": "tKyjNSSqREMt"
   },
   "outputs": [],
   "source": [
    "y_train_pred_svc = grid_svc.predict(X_train_scaled)\n",
    "y_test_pred_svc = grid_svc.predict(X_test_scaled)"
   ]
  },
  {
   "cell_type": "code",
   "execution_count": 0,
   "metadata": {
    "colab": {
     "base_uri": "https://localhost:8080/",
     "height": 921
    },
    "colab_type": "code",
    "id": "1kjPwQ9JjgzH",
    "outputId": "4fab4a0f-94d8-4c60-88bd-fcafed5b4a91"
   },
   "outputs": [
    {
     "name": "stdout",
     "output_type": "stream",
     "text": [
      "SVM Unbalanced Train Accuracy Score: 0.5934323690383112\n",
      "\n",
      "SVM Unbalanced Train Confusion Matrix\n",
      "[[  0   0   8   1   0   0]\n",
      " [  0   0  28  15   0   0]\n",
      " [  0   0 432 119   0   0]\n",
      " [  0   0 179 327   0   0]\n",
      " [  0   0  11 146   0   0]\n",
      " [  0   0   0  13   0   0]]\n",
      "\n",
      "SVM Unbalanced Train Classification Report\n",
      "              precision    recall  f1-score   support\n",
      "\n",
      "           3       0.00      0.00      0.00         9\n",
      "           4       0.00      0.00      0.00        43\n",
      "           5       0.66      0.78      0.71       551\n",
      "           6       0.53      0.65      0.58       506\n",
      "           7       0.00      0.00      0.00       157\n",
      "           8       0.00      0.00      0.00        13\n",
      "\n",
      "   micro avg       0.59      0.59      0.59      1279\n",
      "   macro avg       0.20      0.24      0.22      1279\n",
      "weighted avg       0.49      0.59      0.54      1279\n",
      "\n",
      "-----------------------------------------------------\n",
      "\n",
      "SVM Unbalanced Test Accuracy Score: 0.565625\n",
      "\n",
      "SVM Unbalanced Test Confusion Matrix\n",
      "[[  0   0   1   0   0   0]\n",
      " [  0   0   9   1   0   0]\n",
      " [  0   0 102  28   0   0]\n",
      " [  0   0  53  79   0   0]\n",
      " [  0   0   3  39   0   0]\n",
      " [  0   0   0   5   0   0]]\n",
      "\n",
      "SVM Unbalanced Test Classification Report\n",
      "              precision    recall  f1-score   support\n",
      "\n",
      "           3       0.00      0.00      0.00         1\n",
      "           4       0.00      0.00      0.00        10\n",
      "           5       0.61      0.78      0.68       130\n",
      "           6       0.52      0.60      0.56       132\n",
      "           7       0.00      0.00      0.00        42\n",
      "           8       0.00      0.00      0.00         5\n",
      "\n",
      "   micro avg       0.57      0.57      0.57       320\n",
      "   macro avg       0.19      0.23      0.21       320\n",
      "weighted avg       0.46      0.57      0.51       320\n",
      "\n"
     ]
    },
    {
     "name": "stderr",
     "output_type": "stream",
     "text": [
      "/usr/local/lib/python3.6/dist-packages/sklearn/metrics/classification.py:1143: UndefinedMetricWarning: Precision and F-score are ill-defined and being set to 0.0 in labels with no predicted samples.\n",
      "  'precision', 'predicted', average, warn_for)\n"
     ]
    }
   ],
   "source": [
    "reports(\"SVM Unbalanced\",\n",
    "    X_train_scaled, X_test_scaled, \n",
    "    y_train, y_train_pred_svc, \n",
    "    y_test, y_test_pred_svc)"
   ]
  },
  {
   "cell_type": "code",
   "execution_count": 0,
   "metadata": {
    "colab": {
     "base_uri": "https://localhost:8080/",
     "height": 54
    },
    "colab_type": "code",
    "id": "2YDPtzNApM8R",
    "outputId": "79e97759-561c-4ea3-dce4-d53df950894a"
   },
   "outputs": [
    {
     "data": {
      "text/plain": [
       "',0,1,2,3,4,5\\n0,0,0,1,0,0,0\\n1,0,0,9,1,0,0\\n2,0,0,102,28,0,0\\n3,0,0,53,79,0,0\\n4,0,0,3,39,0,0\\n5,0,0,0,5,0,0\\n'"
      ]
     },
     "execution_count": 31,
     "metadata": {
      "tags": []
     },
     "output_type": "execute_result"
    }
   ],
   "source": [
    "pd.DataFrame(metrics.confusion_matrix(y_test, y_test_pred_svc)).to_csv()"
   ]
  },
  {
   "cell_type": "code",
   "execution_count": 0,
   "metadata": {
    "colab": {},
    "colab_type": "code",
    "id": "-3XlBBLBKhQc"
   },
   "outputs": [],
   "source": [
    "models['SVM']['unbalanced']['accuracy'] = {\n",
    "    'train': (y_train == y_train_pred_svc).mean(),\n",
    "    'test': (y_test == y_test_pred_svc).mean(),\n",
    "}"
   ]
  },
  {
   "cell_type": "markdown",
   "metadata": {
    "colab_type": "text",
    "id": "d6RIoSTaTefT"
   },
   "source": [
    "#### Feature Importance\n",
    "\n",
    "The weights obtained from svm.coef_ represent the vector coordinates which are orthogonal to the hyperplane and their direction indicates the predicted class. With a multiclass problem, there are more coordinates than just the one set, there are `n_class * (n_class-1) / 2`, which for the unbalanced data is 15. To get an idea of overall feature importance we take the mean of each coefficient across the predictor.\n",
    "\n",
    "The positive and negative directions mean less with a multiclass problem, as we're not sure which class they are predicting at any given moment. Positive could mean one class on the first split and then a different class on the second split. But overall size is important. Below we see that alcohol is the most important feature followed by volitile acidity, sulphates, pH, and chlorides."
   ]
  },
  {
   "cell_type": "code",
   "execution_count": 0,
   "metadata": {
    "colab": {
     "base_uri": "https://localhost:8080/",
     "height": 267
    },
    "colab_type": "code",
    "id": "Mo-AbPXfUvnT",
    "outputId": "72bbb7ac-adad-4021-e6ee-fbeb4f1a3989"
   },
   "outputs": [
    {
     "data": {
      "image/png": "[encoded data removed]",
      "text/plain": [
       "<matplotlib.figure.Figure at 0x7fa669d556d8>"
      ]
     },
     "metadata": {
      "tags": []
     },
     "output_type": "display_data"
    }
   ],
   "source": [
    "plt.rc('axes', titlesize=BIGGER_SIZE)  # fontsize of the figure title\n",
    "\n",
    "svm_feature_importance_plot(\n",
    "    pd.DataFrame(grid_svc.best_estimator_.coef_).apply('mean'), \n",
    "    X.columns)"
   ]
  },
  {
   "cell_type": "markdown",
   "metadata": {
    "colab_type": "text",
    "id": "lAJNFAaag538"
   },
   "source": [
    "### Balanced"
   ]
  },
  {
   "cell_type": "markdown",
   "metadata": {
    "colab_type": "text",
    "id": "75nywJxbXRdb"
   },
   "source": [
    "#### Grid Search"
   ]
  },
  {
   "cell_type": "code",
   "execution_count": 0,
   "metadata": {
    "colab": {
     "base_uri": "https://localhost:8080/",
     "height": 238
    },
    "colab_type": "code",
    "id": "yfm8OI3oSQtb",
    "outputId": "977e714b-bd55-40da-fb06-37fb4d557aed"
   },
   "outputs": [
    {
     "name": "stdout",
     "output_type": "stream",
     "text": [
      "Fitting 5 folds for each of 5 candidates, totalling 25 fits\n"
     ]
    },
    {
     "name": "stderr",
     "output_type": "stream",
     "text": [
      "[Parallel(n_jobs=-1)]: Using backend LokyBackend with 2 concurrent workers.\n",
      "[Parallel(n_jobs=-1)]: Done  22 out of  25 | elapsed:    2.0s remaining:    0.3s\n",
      "[Parallel(n_jobs=-1)]: Done  25 out of  25 | elapsed:    2.1s finished\n"
     ]
    },
    {
     "data": {
      "text/plain": [
       "GridSearchCV(cv=5, error_score='raise-deprecating',\n",
       "       estimator=SVC(C=1.0, cache_size=200, class_weight=None, coef0=0.0,\n",
       "  decision_function_shape='ovr', degree=3, gamma='auto_deprecated',\n",
       "  kernel='linear', max_iter=-1, probability=False, random_state=None,\n",
       "  shrinking=True, tol=0.001, verbose=False),\n",
       "       fit_params=None, iid='warn', n_jobs=-1,\n",
       "       param_grid={'C': [0.2, 0.4, 0.6, 0.8, 1.0]},\n",
       "       pre_dispatch='2*n_jobs', refit=True, return_train_score=True,\n",
       "       scoring=None, verbose=1)"
      ]
     },
     "execution_count": 34,
     "metadata": {
      "tags": []
     },
     "output_type": "execute_result"
    }
   ],
   "source": [
    "params_svc_bal = {'C': [0.2, 0.4, 0.6, 0.8, 1.0]}\n",
    "svc_bal = svm.SVC(kernel='linear')\n",
    "\n",
    "grid_svc_bal = GridSearchCV(svc_bal, params_svc_bal, cv=5, refit=True, n_jobs=-1, verbose=1, return_train_score=True)\n",
    "grid_svc_bal.fit(X_train_bal_scaled, y_train_bal)"
   ]
  },
  {
   "cell_type": "code",
   "execution_count": 0,
   "metadata": {
    "colab": {
     "base_uri": "https://localhost:8080/",
     "height": 34
    },
    "colab_type": "code",
    "id": "xtFjKvsKSltf",
    "outputId": "cb461ca3-df3d-432a-f16c-b6d2277da168"
   },
   "outputs": [
    {
     "data": {
      "text/plain": [
       "{'C': 0.6}"
      ]
     },
     "execution_count": 35,
     "metadata": {
      "tags": []
     },
     "output_type": "execute_result"
    }
   ],
   "source": [
    "grid_svc_bal.best_params_"
   ]
  },
  {
   "cell_type": "markdown",
   "metadata": {
    "colab_type": "text",
    "id": "-PET3Q84XXpU"
   },
   "source": [
    "#### Predictions"
   ]
  },
  {
   "cell_type": "code",
   "execution_count": 0,
   "metadata": {
    "colab": {},
    "colab_type": "code",
    "id": "VZjc2ENFZ4xU"
   },
   "outputs": [],
   "source": [
    "y_train_bal_pred_svc = grid_svc_bal.predict(X_train_bal_scaled)\n",
    "y_test_bal_pred_svc = grid_svc_bal.predict(X_test_bal_scaled)"
   ]
  },
  {
   "cell_type": "code",
   "execution_count": 0,
   "metadata": {
    "colab": {
     "base_uri": "https://localhost:8080/",
     "height": 853
    },
    "colab_type": "code",
    "id": "dYkz4nxujJHA",
    "outputId": "152b890a-e407-459d-c999-b4b4ee44a221"
   },
   "outputs": [
    {
     "name": "stdout",
     "output_type": "stream",
     "text": [
      "SVM Balanced Train Accuracy Score: 0.5763760049474336\n",
      "\n",
      "SVM Balanced Train Confusion Matrix\n",
      "[[126 116  32   3]\n",
      " [ 38 412  87  17]\n",
      " [ 34 166 226  83]\n",
      " [  8  16  85 168]]\n",
      "\n",
      "SVM Balanced Train Classification Report\n",
      "              precision    recall  f1-score   support\n",
      "\n",
      "           4       0.61      0.45      0.52       277\n",
      "           5       0.58      0.74      0.65       554\n",
      "           6       0.53      0.44      0.48       509\n",
      "           7       0.62      0.61      0.61       277\n",
      "\n",
      "   micro avg       0.58      0.58      0.58      1617\n",
      "   macro avg       0.58      0.56      0.57      1617\n",
      "weighted avg       0.58      0.58      0.57      1617\n",
      "\n",
      "-----------------------------------------------------\n",
      "\n",
      "SVM Balanced Test Accuracy Score: 0.53125\n",
      "\n",
      "SVM Balanced Test Confusion Matrix\n",
      "[[ 0  1  0  0  0  0]\n",
      " [ 0  4  5  1  0  0]\n",
      " [ 0 11 97 18  4  0]\n",
      " [ 0  5 52 48 27  0]\n",
      " [ 0  1  3 17 21  0]\n",
      " [ 0  0  0  0  5  0]]\n",
      "\n",
      "SVM Balanced Test Classification Report\n",
      "              precision    recall  f1-score   support\n",
      "\n",
      "           3       0.00      0.00      0.00         1\n",
      "           4       0.18      0.40      0.25        10\n",
      "           5       0.62      0.75      0.68       130\n",
      "           6       0.57      0.36      0.44       132\n",
      "           7       0.37      0.50      0.42        42\n",
      "           8       0.00      0.00      0.00         5\n",
      "\n",
      "   micro avg       0.53      0.53      0.53       320\n",
      "   macro avg       0.29      0.33      0.30       320\n",
      "weighted avg       0.54      0.53      0.52       320\n",
      "\n"
     ]
    },
    {
     "name": "stderr",
     "output_type": "stream",
     "text": [
      "/usr/local/lib/python3.6/dist-packages/sklearn/metrics/classification.py:1143: UndefinedMetricWarning: Precision and F-score are ill-defined and being set to 0.0 in labels with no predicted samples.\n",
      "  'precision', 'predicted', average, warn_for)\n"
     ]
    }
   ],
   "source": [
    "reports(\"SVM Balanced\",\n",
    "    X_train_bal_scaled, X_test_bal_scaled, \n",
    "    y_train_bal, y_train_bal_pred_svc, \n",
    "    y_test, y_test_bal_pred_svc)"
   ]
  },
  {
   "cell_type": "code",
   "execution_count": 0,
   "metadata": {
    "colab": {},
    "colab_type": "code",
    "id": "LvsiiAuLK-lP"
   },
   "outputs": [],
   "source": [
    "models['SVM']['balanced'] = {\n",
    "    'model': grid_svc_bal.best_estimator_,\n",
    "    'params': grid_svc_bal.best_params_,\n",
    "    'accuracy': {\n",
    "        'train': (y_train_bal == y_train_bal_pred_svc).mean(),\n",
    "        'test': (y_test == y_test_bal_pred_svc).mean()\n",
    "    }\n",
    "}"
   ]
  },
  {
   "cell_type": "markdown",
   "metadata": {
    "colab_type": "text",
    "id": "CQQ_GcNMXaJv"
   },
   "source": [
    "#### Feature Importance\n",
    "\n",
    "Similar features are important to the balanced dataset as they were in the unbalanced dataset. Density is a new important one."
   ]
  },
  {
   "cell_type": "code",
   "execution_count": 0,
   "metadata": {
    "colab": {
     "base_uri": "https://localhost:8080/",
     "height": 267
    },
    "colab_type": "code",
    "id": "7wU4uPpmXdqO",
    "outputId": "df57a29e-0a79-4456-cd19-7d642dadf192"
   },
   "outputs": [
    {
     "data": {
      "image/png": "[encoded data removed]",
      "text/plain": [
       "<matplotlib.figure.Figure at 0x7fa669dfcc88>"
      ]
     },
     "metadata": {
      "tags": []
     },
     "output_type": "display_data"
    }
   ],
   "source": [
    "svm_feature_importance_plot(\n",
    "    pd.DataFrame(grid_svc_bal.best_estimator_.coef_).apply('mean'), \n",
    "    X.columns)"
   ]
  },
  {
   "cell_type": "markdown",
   "metadata": {
    "colab_type": "text",
    "id": "vYB62jsJg8e_"
   },
   "source": [
    "### Combined Classes"
   ]
  },
  {
   "cell_type": "markdown",
   "metadata": {
    "colab_type": "text",
    "id": "z1dLHRW7Xv1-"
   },
   "source": [
    "#### Grid Search"
   ]
  },
  {
   "cell_type": "code",
   "execution_count": 0,
   "metadata": {
    "colab": {
     "base_uri": "https://localhost:8080/",
     "height": 221
    },
    "colab_type": "code",
    "id": "KH0KgEjpif9Q",
    "outputId": "a0f644a3-0d5c-45d5-eadf-cbaab47c512d"
   },
   "outputs": [
    {
     "name": "stdout",
     "output_type": "stream",
     "text": [
      "Fitting 5 folds for each of 5 candidates, totalling 25 fits\n"
     ]
    },
    {
     "name": "stderr",
     "output_type": "stream",
     "text": [
      "[Parallel(n_jobs=-1)]: Using backend LokyBackend with 2 concurrent workers.\n",
      "[Parallel(n_jobs=-1)]: Done  25 out of  25 | elapsed:    1.0s finished\n"
     ]
    },
    {
     "data": {
      "text/plain": [
       "GridSearchCV(cv=5, error_score='raise-deprecating',\n",
       "       estimator=SVC(C=1.0, cache_size=200, class_weight=None, coef0=0.0,\n",
       "  decision_function_shape='ovr', degree=3, gamma='auto_deprecated',\n",
       "  kernel='linear', max_iter=-1, probability=False, random_state=None,\n",
       "  shrinking=True, tol=0.001, verbose=False),\n",
       "       fit_params=None, iid='warn', n_jobs=-1,\n",
       "       param_grid={'C': [0.2, 0.4, 0.6, 0.8, 1.0]},\n",
       "       pre_dispatch='2*n_jobs', refit=True, return_train_score=True,\n",
       "       scoring=None, verbose=1)"
      ]
     },
     "execution_count": 40,
     "metadata": {
      "tags": []
     },
     "output_type": "execute_result"
    }
   ],
   "source": [
    "params_svc_bin = {'C': [0.2, 0.4, 0.6, 0.8, 1.0]}\n",
    "svc_bin = svm.SVC(kernel='linear')\n",
    "\n",
    "grid_svc_bin = GridSearchCV(svc_bin, params_svc_bin, cv=5, refit=True, n_jobs=-1, verbose=1, return_train_score=True)\n",
    "grid_svc_bin.fit(X_train_scaled, y_train_bin)"
   ]
  },
  {
   "cell_type": "code",
   "execution_count": 0,
   "metadata": {
    "colab": {
     "base_uri": "https://localhost:8080/",
     "height": 34
    },
    "colab_type": "code",
    "id": "iqA26lZNX_mo",
    "outputId": "04349a7e-9e9c-43ed-bd74-828c89342238"
   },
   "outputs": [
    {
     "data": {
      "text/plain": [
       "{'C': 0.2}"
      ]
     },
     "execution_count": 41,
     "metadata": {
      "tags": []
     },
     "output_type": "execute_result"
    }
   ],
   "source": [
    "grid_svc_bin.best_params_"
   ]
  },
  {
   "cell_type": "markdown",
   "metadata": {
    "colab_type": "text",
    "id": "PjyC34lqXxrV"
   },
   "source": [
    "#### Predictions"
   ]
  },
  {
   "cell_type": "code",
   "execution_count": 0,
   "metadata": {
    "colab": {},
    "colab_type": "code",
    "id": "wgD_z7ulbTYc"
   },
   "outputs": [],
   "source": [
    "y_train_bin_pred_svc = grid_svc_bin.predict(X_train_scaled)\n",
    "y_test_bin_pred_svc = grid_svc_bin.predict(X_test_scaled)"
   ]
  },
  {
   "cell_type": "code",
   "execution_count": 0,
   "metadata": {
    "colab": {
     "base_uri": "https://localhost:8080/",
     "height": 595
    },
    "colab_type": "code",
    "id": "o9FJ7CYbkcSi",
    "outputId": "aaad4158-c9ce-418d-cb89-835ddfe91716"
   },
   "outputs": [
    {
     "name": "stdout",
     "output_type": "stream",
     "text": [
      "SVM Combined Train Accuracy Score: 0.746677091477717\n",
      "\n",
      "SVM Combined Train Confusion Matrix\n",
      "[[470 133]\n",
      " [191 485]]\n",
      "\n",
      "SVM Combined Train Classification Report\n",
      "              precision    recall  f1-score   support\n",
      "\n",
      "       False       0.71      0.78      0.74       603\n",
      "        True       0.78      0.72      0.75       676\n",
      "\n",
      "   micro avg       0.75      0.75      0.75      1279\n",
      "   macro avg       0.75      0.75      0.75      1279\n",
      "weighted avg       0.75      0.75      0.75      1279\n",
      "\n",
      "-----------------------------------------------------\n",
      "\n",
      "SVM Combined Test Accuracy Score: 0.728125\n",
      "\n",
      "SVM Combined Test Confusion Matrix\n",
      "[[110  31]\n",
      " [ 56 123]]\n",
      "\n",
      "SVM Combined Test Classification Report\n",
      "              precision    recall  f1-score   support\n",
      "\n",
      "       False       0.66      0.78      0.72       141\n",
      "        True       0.80      0.69      0.74       179\n",
      "\n",
      "   micro avg       0.73      0.73      0.73       320\n",
      "   macro avg       0.73      0.73      0.73       320\n",
      "weighted avg       0.74      0.73      0.73       320\n",
      "\n"
     ]
    }
   ],
   "source": [
    "reports(\"SVM Combined\",\n",
    "    X_train_scaled, X_test_scaled, \n",
    "    y_train_bin, y_train_bin_pred_svc, \n",
    "    y_test_bin, y_test_bin_pred_svc)"
   ]
  },
  {
   "cell_type": "code",
   "execution_count": 0,
   "metadata": {
    "colab": {},
    "colab_type": "code",
    "id": "DfqxXEYxL15t"
   },
   "outputs": [],
   "source": [
    "models['SVM']['combined'] = {\n",
    "    'model': grid_svc_bin.best_estimator_,\n",
    "    'params': grid_svc_bin.best_params_,\n",
    "    'accuracy': {\n",
    "        'train': (y_train_bin == y_train_bin_pred_svc).mean(),\n",
    "        'test': (y_test_bin == y_test_bin_pred_svc).mean()\n",
    "    }\n",
    "}"
   ]
  },
  {
   "cell_type": "markdown",
   "metadata": {
    "colab_type": "text",
    "id": "5chC6aoeXz83"
   },
   "source": [
    "#### Feature Importance\n",
    "\n",
    "Alcohol is much more important in the combined classes data than it was in either of the first two, completely dominating this set."
   ]
  },
  {
   "cell_type": "code",
   "execution_count": 0,
   "metadata": {
    "colab": {
     "base_uri": "https://localhost:8080/",
     "height": 267
    },
    "colab_type": "code",
    "id": "WrqZ-VkVX2xP",
    "outputId": "f3c3d2a0-9172-4521-d13a-47e6593916bf"
   },
   "outputs": [
    {
     "data": {
      "image/png": "[encoded data removed]",
      "text/plain": [
       "<matplotlib.figure.Figure at 0x7fa668c53470>"
      ]
     },
     "metadata": {
      "tags": []
     },
     "output_type": "display_data"
    }
   ],
   "source": [
    "svm_feature_importance_plot(\n",
    "    pd.DataFrame(grid_svc_bin.best_estimator_.coef_).apply('mean'), \n",
    "    X.columns)"
   ]
  },
  {
   "cell_type": "markdown",
   "metadata": {
    "colab_type": "text",
    "id": "5cFdYOF0MmKn"
   },
   "source": [
    "## AdaBoost - Shree"
   ]
  },
  {
   "cell_type": "markdown",
   "metadata": {
    "colab_type": "text",
    "id": "M_T8nbVAvVU2"
   },
   "source": [
    "### Unbalanced"
   ]
  },
  {
   "cell_type": "markdown",
   "metadata": {
    "colab_type": "text",
    "id": "uxB0O-s6-HAj"
   },
   "source": [
    "#### Grid Search 1\n",
    "\n",
    "AdaBoost Classifier along with GridSearchCV tool\n",
    "\n",
    "Starting with a dictionary of a few parameters, then continue to tune:\n",
    "  \n",
    "    n_estimators: 100, 200, 300  \n",
    "    learning_rate: 0.5, 1, 1.5"
   ]
  },
  {
   "cell_type": "code",
   "execution_count": 0,
   "metadata": {
    "colab": {},
    "colab_type": "code",
    "id": "ntUY55ytM3Qd"
   },
   "outputs": [],
   "source": [
    "param_grid = {\n",
    "  'n_estimators' : [100,200,300],\n",
    "  'learning_rate': [0.5,1,1.5]}\n",
    "\n",
    "ada_clf = AdaBoostClassifier(DecisionTreeClassifier(max_depth=1), random_state=42)\n",
    "ada_Grid1 = GridSearchCV(ada_clf, param_grid, cv = 5, refit=True, n_jobs=-1, verbose = 1)"
   ]
  },
  {
   "cell_type": "code",
   "execution_count": 0,
   "metadata": {
    "colab": {
     "base_uri": "https://localhost:8080/",
     "height": 343
    },
    "colab_type": "code",
    "id": "_FFXj_mwNT3G",
    "outputId": "b2183ee0-f0ed-4a9b-9287-7fea732683ac"
   },
   "outputs": [
    {
     "name": "stdout",
     "output_type": "stream",
     "text": [
      "Fitting 5 folds for each of 9 candidates, totalling 45 fits\n"
     ]
    },
    {
     "name": "stderr",
     "output_type": "stream",
     "text": [
      "[Parallel(n_jobs=-1)]: Using backend LokyBackend with 2 concurrent workers.\n",
      "[Parallel(n_jobs=-1)]: Done  45 out of  45 | elapsed:   17.1s finished\n",
      "/usr/local/lib/python3.6/dist-packages/sklearn/model_selection/_search.py:841: DeprecationWarning: The default of the `iid` parameter will change from True to False in version 0.22 and will be removed in 0.24. This will change numeric results when test-set sizes are unequal.\n",
      "  DeprecationWarning)\n"
     ]
    },
    {
     "data": {
      "text/plain": [
       "GridSearchCV(cv=5, error_score='raise-deprecating',\n",
       "       estimator=AdaBoostClassifier(algorithm='SAMME.R',\n",
       "          base_estimator=DecisionTreeClassifier(class_weight=None, criterion='gini', max_depth=1,\n",
       "            max_features=None, max_leaf_nodes=None,\n",
       "            min_impurity_decrease=0.0, min_impurity_split=None,\n",
       "            min_samples_leaf=1, min_samples_split=2,\n",
       "            min_weight_fraction_leaf=0.0, presort=False, random_state=None,\n",
       "            splitter='best'),\n",
       "          learning_rate=1.0, n_estimators=50, random_state=42),\n",
       "       fit_params=None, iid='warn', n_jobs=-1,\n",
       "       param_grid={'n_estimators': [100, 200, 300], 'learning_rate': [0.5, 1, 1.5]},\n",
       "       pre_dispatch='2*n_jobs', refit=True, return_train_score='warn',\n",
       "       scoring=None, verbose=1)"
      ]
     },
     "execution_count": 47,
     "metadata": {
      "tags": []
     },
     "output_type": "execute_result"
    }
   ],
   "source": [
    "# Fit the model:\n",
    "ada_Grid1.fit(X_train_scaled, y_train)"
   ]
  },
  {
   "cell_type": "code",
   "execution_count": 0,
   "metadata": {
    "colab": {
     "base_uri": "https://localhost:8080/",
     "height": 34
    },
    "colab_type": "code",
    "id": "JorIiUUt6V2g",
    "outputId": "eaf2518e-3c14-428c-ffd3-1c1e7818bf1b"
   },
   "outputs": [
    {
     "data": {
      "text/plain": [
       "{'learning_rate': 1, 'n_estimators': 100}"
      ]
     },
     "execution_count": 48,
     "metadata": {
      "tags": []
     },
     "output_type": "execute_result"
    }
   ],
   "source": [
    "ada_Grid1.best_params_"
   ]
  },
  {
   "cell_type": "markdown",
   "metadata": {
    "colab_type": "text",
    "id": "PCQw9Cyr_ACi"
   },
   "source": [
    "#### Grid Search 2\n",
    "\n",
    "The best estimator gave a learning rate of 1, which was the middle parameter\n",
    "chosen, and 100 estimators, which was the least number of parameters.   \n",
    "So on the second round tune this a bit finer grain"
   ]
  },
  {
   "cell_type": "code",
   "execution_count": 0,
   "metadata": {
    "colab": {},
    "colab_type": "code",
    "id": "EVp_CbwP8JtA"
   },
   "outputs": [],
   "source": [
    "param_grid2 = {\n",
    "  'n_estimators' : [50, 100, 150],\n",
    "  'learning_rate': [0.8, 1, 1.2]}\n",
    "\n",
    "ada_clf2 = AdaBoostClassifier(DecisionTreeClassifier(max_depth=1), random_state=42)\n",
    "ada_Grid2 = GridSearchCV(ada_clf2, param_grid2, cv = 5, refit=True, n_jobs=-1, verbose = 1)"
   ]
  },
  {
   "cell_type": "code",
   "execution_count": 0,
   "metadata": {
    "colab": {
     "base_uri": "https://localhost:8080/",
     "height": 343
    },
    "colab_type": "code",
    "id": "ELwx83aj8hXg",
    "outputId": "c885c0fb-adfc-4a66-c6de-0ca2391115b8"
   },
   "outputs": [
    {
     "name": "stdout",
     "output_type": "stream",
     "text": [
      "Fitting 5 folds for each of 9 candidates, totalling 45 fits\n"
     ]
    },
    {
     "name": "stderr",
     "output_type": "stream",
     "text": [
      "[Parallel(n_jobs=-1)]: Using backend LokyBackend with 2 concurrent workers.\n",
      "[Parallel(n_jobs=-1)]: Done  45 out of  45 | elapsed:    8.8s finished\n",
      "/usr/local/lib/python3.6/dist-packages/sklearn/model_selection/_search.py:841: DeprecationWarning: The default of the `iid` parameter will change from True to False in version 0.22 and will be removed in 0.24. This will change numeric results when test-set sizes are unequal.\n",
      "  DeprecationWarning)\n"
     ]
    },
    {
     "data": {
      "text/plain": [
       "GridSearchCV(cv=5, error_score='raise-deprecating',\n",
       "       estimator=AdaBoostClassifier(algorithm='SAMME.R',\n",
       "          base_estimator=DecisionTreeClassifier(class_weight=None, criterion='gini', max_depth=1,\n",
       "            max_features=None, max_leaf_nodes=None,\n",
       "            min_impurity_decrease=0.0, min_impurity_split=None,\n",
       "            min_samples_leaf=1, min_samples_split=2,\n",
       "            min_weight_fraction_leaf=0.0, presort=False, random_state=None,\n",
       "            splitter='best'),\n",
       "          learning_rate=1.0, n_estimators=50, random_state=42),\n",
       "       fit_params=None, iid='warn', n_jobs=-1,\n",
       "       param_grid={'n_estimators': [50, 100, 150], 'learning_rate': [0.8, 1, 1.2]},\n",
       "       pre_dispatch='2*n_jobs', refit=True, return_train_score='warn',\n",
       "       scoring=None, verbose=1)"
      ]
     },
     "execution_count": 50,
     "metadata": {
      "tags": []
     },
     "output_type": "execute_result"
    }
   ],
   "source": [
    "ada_Grid2.fit(X_train_scaled, y_train)"
   ]
  },
  {
   "cell_type": "code",
   "execution_count": 0,
   "metadata": {
    "colab": {
     "base_uri": "https://localhost:8080/",
     "height": 34
    },
    "colab_type": "code",
    "id": "laE2eHC38kRK",
    "outputId": "8acb17d2-fb67-4007-8c9c-a8f4492ecb6b"
   },
   "outputs": [
    {
     "data": {
      "text/plain": [
       "{'learning_rate': 1, 'n_estimators': 50}"
      ]
     },
     "execution_count": 51,
     "metadata": {
      "tags": []
     },
     "output_type": "execute_result"
    }
   ],
   "source": [
    "ada_Grid2.best_params_"
   ]
  },
  {
   "cell_type": "markdown",
   "metadata": {
    "colab_type": "text",
    "id": "U4gETvlr_Ndc"
   },
   "source": [
    "#### Grid Search 3\n",
    "\n",
    "The second iteration gave the learning parameter of 1 again and again the least number of estimators.  \n",
    "Tune again using learning rate of 1 and more estimators focused around 50."
   ]
  },
  {
   "cell_type": "code",
   "execution_count": 0,
   "metadata": {
    "colab": {},
    "colab_type": "code",
    "id": "MJhf47jr8xmd"
   },
   "outputs": [],
   "source": [
    "param_grid3 = {\n",
    "  'n_estimators' : [10, 20, 30, 40, 50, 60, 70, 80],\n",
    "  'learning_rate': [1]}\n",
    "\n",
    "ada_clf3 = AdaBoostClassifier(DecisionTreeClassifier(max_depth=1), random_state=42)\n",
    "ada_Grid3 = GridSearchCV(ada_clf3, param_grid3, cv = 5, refit=True, n_jobs=-1, verbose = 1)"
   ]
  },
  {
   "cell_type": "code",
   "execution_count": 0,
   "metadata": {
    "colab": {
     "base_uri": "https://localhost:8080/",
     "height": 343
    },
    "colab_type": "code",
    "id": "ET0qBWSn9EEO",
    "outputId": "c8f550e0-e9b7-4bab-e893-3153648a51a8"
   },
   "outputs": [
    {
     "name": "stderr",
     "output_type": "stream",
     "text": [
      "[Parallel(n_jobs=-1)]: Using backend LokyBackend with 2 concurrent workers.\n"
     ]
    },
    {
     "name": "stdout",
     "output_type": "stream",
     "text": [
      "Fitting 5 folds for each of 8 candidates, totalling 40 fits\n"
     ]
    },
    {
     "name": "stderr",
     "output_type": "stream",
     "text": [
      "[Parallel(n_jobs=-1)]: Done  40 out of  40 | elapsed:    3.7s finished\n",
      "/usr/local/lib/python3.6/dist-packages/sklearn/model_selection/_search.py:841: DeprecationWarning: The default of the `iid` parameter will change from True to False in version 0.22 and will be removed in 0.24. This will change numeric results when test-set sizes are unequal.\n",
      "  DeprecationWarning)\n"
     ]
    },
    {
     "data": {
      "text/plain": [
       "GridSearchCV(cv=5, error_score='raise-deprecating',\n",
       "       estimator=AdaBoostClassifier(algorithm='SAMME.R',\n",
       "          base_estimator=DecisionTreeClassifier(class_weight=None, criterion='gini', max_depth=1,\n",
       "            max_features=None, max_leaf_nodes=None,\n",
       "            min_impurity_decrease=0.0, min_impurity_split=None,\n",
       "            min_samples_leaf=1, min_samples_split=2,\n",
       "            min_weight_fraction_leaf=0.0, presort=False, random_state=None,\n",
       "            splitter='best'),\n",
       "          learning_rate=1.0, n_estimators=50, random_state=42),\n",
       "       fit_params=None, iid='warn', n_jobs=-1,\n",
       "       param_grid={'n_estimators': [10, 20, 30, 40, 50, 60, 70, 80], 'learning_rate': [1]},\n",
       "       pre_dispatch='2*n_jobs', refit=True, return_train_score='warn',\n",
       "       scoring=None, verbose=1)"
      ]
     },
     "execution_count": 53,
     "metadata": {
      "tags": []
     },
     "output_type": "execute_result"
    }
   ],
   "source": [
    "ada_Grid3.fit(X_train_scaled, y_train)"
   ]
  },
  {
   "cell_type": "code",
   "execution_count": 0,
   "metadata": {
    "colab": {
     "base_uri": "https://localhost:8080/",
     "height": 34
    },
    "colab_type": "code",
    "id": "_el0BNLO9IM9",
    "outputId": "64c50a92-6259-469d-d368-fdddd88b9b81"
   },
   "outputs": [
    {
     "data": {
      "text/plain": [
       "{'learning_rate': 1, 'n_estimators': 10}"
      ]
     },
     "execution_count": 54,
     "metadata": {
      "tags": []
     },
     "output_type": "execute_result"
    }
   ],
   "source": [
    "ada_Grid3.best_params_"
   ]
  },
  {
   "cell_type": "markdown",
   "metadata": {
    "colab_type": "text",
    "id": "ruvh4aar-BbI"
   },
   "source": [
    "We don't want to go below 10 estimators so we will stop here and base predictions off of the third grid search result."
   ]
  },
  {
   "cell_type": "markdown",
   "metadata": {
    "colab_type": "text",
    "id": "bu38oUbG_1lH"
   },
   "source": [
    "\n",
    "#### Predictions"
   ]
  },
  {
   "cell_type": "code",
   "execution_count": 0,
   "metadata": {
    "colab": {},
    "colab_type": "code",
    "id": "1c9S_yu6NVS5"
   },
   "outputs": [],
   "source": [
    "y_train_pred_ada = ada_Grid3.predict(X_train_scaled)\n",
    "y_test_pred_ada = ada_Grid3.predict(X_test_scaled)"
   ]
  },
  {
   "cell_type": "code",
   "execution_count": 0,
   "metadata": {
    "colab": {
     "base_uri": "https://localhost:8080/",
     "height": 921
    },
    "colab_type": "code",
    "id": "axQ5dthKNYG4",
    "outputId": "dde7fd1f-6b3b-43fd-b18e-f13d10fa5f48"
   },
   "outputs": [
    {
     "name": "stdout",
     "output_type": "stream",
     "text": [
      "Unbalanced ADA Train Accuracy Score: 0.5582486317435497\n",
      "\n",
      "Unbalanced ADA Train Confusion Matrix\n",
      "[[  1   3   5   0   0   0]\n",
      " [  1   2  26  14   0   0]\n",
      " [  5   2 462  82   0   0]\n",
      " [  0   1 256 249   0   0]\n",
      " [  0   0  30 127   0   0]\n",
      " [  0   0   2  11   0   0]]\n",
      "\n",
      "Unbalanced ADA Train Classification Report\n",
      "              precision    recall  f1-score   support\n",
      "\n",
      "           3       0.14      0.11      0.12         9\n",
      "           4       0.25      0.05      0.08        43\n",
      "           5       0.59      0.84      0.69       551\n",
      "           6       0.52      0.49      0.50       506\n",
      "           7       0.00      0.00      0.00       157\n",
      "           8       0.00      0.00      0.00        13\n",
      "\n",
      "   micro avg       0.56      0.56      0.56      1279\n",
      "   macro avg       0.25      0.25      0.23      1279\n",
      "weighted avg       0.47      0.56      0.50      1279\n",
      "\n",
      "-----------------------------------------------------\n",
      "\n",
      "Unbalanced ADA Test Accuracy Score: 0.528125\n",
      "\n",
      "Unbalanced ADA Test Confusion Matrix\n",
      "[[  0   0   1   0   0   0]\n",
      " [  0   1   7   2   0   0]\n",
      " [  2   0 108  20   0   0]\n",
      " [  0   0  72  60   0   0]\n",
      " [  0   0   7  35   0   0]\n",
      " [  0   0   0   5   0   0]]\n",
      "\n",
      "Unbalanced ADA Test Classification Report\n",
      "              precision    recall  f1-score   support\n",
      "\n",
      "           3       0.00      0.00      0.00         1\n",
      "           4       1.00      0.10      0.18        10\n",
      "           5       0.55      0.83      0.66       130\n",
      "           6       0.49      0.45      0.47       132\n",
      "           7       0.00      0.00      0.00        42\n",
      "           8       0.00      0.00      0.00         5\n",
      "\n",
      "   micro avg       0.53      0.53      0.53       320\n",
      "   macro avg       0.34      0.23      0.22       320\n",
      "weighted avg       0.46      0.53      0.47       320\n",
      "\n"
     ]
    },
    {
     "name": "stderr",
     "output_type": "stream",
     "text": [
      "/usr/local/lib/python3.6/dist-packages/sklearn/metrics/classification.py:1143: UndefinedMetricWarning: Precision and F-score are ill-defined and being set to 0.0 in labels with no predicted samples.\n",
      "  'precision', 'predicted', average, warn_for)\n"
     ]
    }
   ],
   "source": [
    "reports(\"Unbalanced ADA\",\n",
    "    X_train_scaled, X_test_scaled, \n",
    "    y_train, y_train_pred_ada, \n",
    "    y_test, y_test_pred_ada)"
   ]
  },
  {
   "cell_type": "code",
   "execution_count": 0,
   "metadata": {
    "colab": {},
    "colab_type": "code",
    "id": "puYktEVtMFKu"
   },
   "outputs": [],
   "source": [
    "models['ADA'] = {\n",
    "    'unbalanced': {\n",
    "      'model': ada_Grid3.best_estimator_,\n",
    "      'params': ada_Grid3.best_params_,\n",
    "      'accuracy': {\n",
    "          'train': (y_train == y_train_pred_ada).mean(),\n",
    "          'test': (y_test == y_test_pred_ada).mean()\n",
    "      }\n",
    "    }\n",
    "}"
   ]
  },
  {
   "cell_type": "markdown",
   "metadata": {
    "colab_type": "text",
    "id": "9pGTSb6U_4zi"
   },
   "source": [
    "#### Feature Importance\n",
    "\n",
    "One nice thinga about tree-based methods is that you can get feature importances. This will tell us how much each predictor contributed to the overall model. With boosted trees you lose the easy interpretibility of a single decision tree, but you can gain some of that back by looking at feature importances."
   ]
  },
  {
   "cell_type": "code",
   "execution_count": 0,
   "metadata": {
    "colab": {
     "base_uri": "https://localhost:8080/",
     "height": 390
    },
    "colab_type": "code",
    "id": "TjYXC3RIClp1",
    "outputId": "270d5cab-dafc-4ee3-bf0f-8aa9c25b974c"
   },
   "outputs": [
    {
     "data": {
      "text/html": [
       "<div>\n",
       "<style scoped>\n",
       "    .dataframe tbody tr th:only-of-type {\n",
       "        vertical-align: middle;\n",
       "    }\n",
       "\n",
       "    .dataframe tbody tr th {\n",
       "        vertical-align: top;\n",
       "    }\n",
       "\n",
       "    .dataframe thead th {\n",
       "        text-align: right;\n",
       "    }\n",
       "</style>\n",
       "<table border=\"1\" class=\"dataframe\">\n",
       "  <thead>\n",
       "    <tr style=\"text-align: right;\">\n",
       "      <th></th>\n",
       "      <th>feature</th>\n",
       "      <th>importance</th>\n",
       "      <th>std</th>\n",
       "    </tr>\n",
       "  </thead>\n",
       "  <tbody>\n",
       "    <tr>\n",
       "      <th>4</th>\n",
       "      <td>chlorides</td>\n",
       "      <td>0.4</td>\n",
       "      <td>0.489898</td>\n",
       "    </tr>\n",
       "    <tr>\n",
       "      <th>9</th>\n",
       "      <td>sulphates</td>\n",
       "      <td>0.4</td>\n",
       "      <td>0.489898</td>\n",
       "    </tr>\n",
       "    <tr>\n",
       "      <th>1</th>\n",
       "      <td>volatile acidity</td>\n",
       "      <td>0.1</td>\n",
       "      <td>0.300000</td>\n",
       "    </tr>\n",
       "    <tr>\n",
       "      <th>10</th>\n",
       "      <td>alcohol</td>\n",
       "      <td>0.1</td>\n",
       "      <td>0.300000</td>\n",
       "    </tr>\n",
       "    <tr>\n",
       "      <th>0</th>\n",
       "      <td>fixed acidity</td>\n",
       "      <td>0.0</td>\n",
       "      <td>0.000000</td>\n",
       "    </tr>\n",
       "    <tr>\n",
       "      <th>2</th>\n",
       "      <td>citric acid</td>\n",
       "      <td>0.0</td>\n",
       "      <td>0.000000</td>\n",
       "    </tr>\n",
       "    <tr>\n",
       "      <th>3</th>\n",
       "      <td>residual sugar</td>\n",
       "      <td>0.0</td>\n",
       "      <td>0.000000</td>\n",
       "    </tr>\n",
       "    <tr>\n",
       "      <th>5</th>\n",
       "      <td>free sulfur dioxide</td>\n",
       "      <td>0.0</td>\n",
       "      <td>0.000000</td>\n",
       "    </tr>\n",
       "    <tr>\n",
       "      <th>6</th>\n",
       "      <td>total sulfur dioxide</td>\n",
       "      <td>0.0</td>\n",
       "      <td>0.000000</td>\n",
       "    </tr>\n",
       "    <tr>\n",
       "      <th>7</th>\n",
       "      <td>density</td>\n",
       "      <td>0.0</td>\n",
       "      <td>0.000000</td>\n",
       "    </tr>\n",
       "    <tr>\n",
       "      <th>8</th>\n",
       "      <td>pH</td>\n",
       "      <td>0.0</td>\n",
       "      <td>0.000000</td>\n",
       "    </tr>\n",
       "  </tbody>\n",
       "</table>\n",
       "</div>"
      ],
      "text/plain": [
       "                 feature  importance       std\n",
       "4              chlorides         0.4  0.489898\n",
       "9              sulphates         0.4  0.489898\n",
       "1       volatile acidity         0.1  0.300000\n",
       "10               alcohol         0.1  0.300000\n",
       "0          fixed acidity         0.0  0.000000\n",
       "2            citric acid         0.0  0.000000\n",
       "3         residual sugar         0.0  0.000000\n",
       "5    free sulfur dioxide         0.0  0.000000\n",
       "6   total sulfur dioxide         0.0  0.000000\n",
       "7                density         0.0  0.000000\n",
       "8                     pH         0.0  0.000000"
      ]
     },
     "execution_count": 58,
     "metadata": {
      "tags": []
     },
     "output_type": "execute_result"
    }
   ],
   "source": [
    "importances = ada_Grid3.best_estimator_.feature_importances_\n",
    "stds = np.std([tree.feature_importances_ for tree in ada_Grid3.best_estimator_.estimators_], axis=0)\n",
    "\n",
    "fi_df_ada = pd.DataFrame(\n",
    "    data={'importance': pd.Series(importances), \n",
    "          'std': pd.Series(stds),\n",
    "          'feature': X.columns\n",
    "         }\n",
    ").sort_values('importance', ascending=False)\n",
    "fi_df_ada"
   ]
  },
  {
   "cell_type": "code",
   "execution_count": 0,
   "metadata": {
    "colab": {
     "base_uri": "https://localhost:8080/",
     "height": 466
    },
    "colab_type": "code",
    "id": "_lampjC2A_bM",
    "outputId": "5098d88f-977a-47ed-ba50-7a07b53e36a3"
   },
   "outputs": [
    {
     "data": {
      "text/plain": [
       "Text(0,0.5,'Importance')"
      ]
     },
     "execution_count": 59,
     "metadata": {
      "tags": []
     },
     "output_type": "execute_result"
    },
    {
     "data": {
      "image/png": "[encoded data removed]",
      "text/plain": [
       "<matplotlib.figure.Figure at 0x7fa668b9a550>"
      ]
     },
     "metadata": {
      "tags": []
     },
     "output_type": "display_data"
    }
   ],
   "source": [
    "fig, ax = plt.subplots(figsize=(8,5))\n",
    "fi_df_ada.plot.bar(x='feature', y='importance', ax=ax, legend=False)\n",
    "ax.set_title('Feature Importance for Unbalanced AdaBoost')\n",
    "ax.set_ylabel('Importance')"
   ]
  },
  {
   "cell_type": "markdown",
   "metadata": {
    "colab_type": "text",
    "id": "fxOOkpPs4w26"
   },
   "source": [
    "Only four features end up having any bearing on the predicted classes for the unbalanced dataset when using AdaBoost: \n",
    "  - chlorides\n",
    "  - sulphates\n",
    "  - volatile acidity\n",
    "  - alcohol"
   ]
  },
  {
   "cell_type": "markdown",
   "metadata": {
    "colab_type": "text",
    "id": "-8f4G1ZDt8WJ"
   },
   "source": [
    "### Balanced"
   ]
  },
  {
   "cell_type": "markdown",
   "metadata": {
    "colab_type": "text",
    "id": "UM1AcSi8LZkQ"
   },
   "source": [
    "#### Grid Search 1\n",
    "\n",
    "Repeat the parameter tuning for the balanced dataset. Hopefully with a balanced dataset the grid search will return more sensible parameters."
   ]
  },
  {
   "cell_type": "code",
   "execution_count": 0,
   "metadata": {
    "colab": {},
    "colab_type": "code",
    "id": "jH5V9-su0DNL"
   },
   "outputs": [],
   "source": [
    "param_grid_bal1 = {\n",
    "  'n_estimators' : [100, 200, 300],\n",
    "  'learning_rate': [0.2, 0.6, 1.0, 1.2]}\n",
    "\n",
    "ada_clf_bal1 = AdaBoostClassifier(DecisionTreeClassifier(max_depth=1), random_state=42)\n",
    "ada_Grid_bal1 = GridSearchCV(ada_clf_bal1, param_grid_bal1, cv = 5, refit=True, n_jobs=-1, verbose = 1)"
   ]
  },
  {
   "cell_type": "code",
   "execution_count": 0,
   "metadata": {
    "colab": {
     "base_uri": "https://localhost:8080/",
     "height": 306
    },
    "colab_type": "code",
    "id": "SGz4JY5R0LIO",
    "outputId": "445ff0ad-98f1-495c-d974-fca0889d7909"
   },
   "outputs": [
    {
     "name": "stdout",
     "output_type": "stream",
     "text": [
      "Fitting 5 folds for each of 12 candidates, totalling 60 fits\n"
     ]
    },
    {
     "name": "stderr",
     "output_type": "stream",
     "text": [
      "[Parallel(n_jobs=-1)]: Using backend LokyBackend with 2 concurrent workers.\n",
      "[Parallel(n_jobs=-1)]: Done  46 tasks      | elapsed:   19.7s\n",
      "[Parallel(n_jobs=-1)]: Done  60 out of  60 | elapsed:   26.0s finished\n"
     ]
    },
    {
     "data": {
      "text/plain": [
       "GridSearchCV(cv=5, error_score='raise-deprecating',\n",
       "       estimator=AdaBoostClassifier(algorithm='SAMME.R',\n",
       "          base_estimator=DecisionTreeClassifier(class_weight=None, criterion='gini', max_depth=1,\n",
       "            max_features=None, max_leaf_nodes=None,\n",
       "            min_impurity_decrease=0.0, min_impurity_split=None,\n",
       "            min_samples_leaf=1, min_samples_split=2,\n",
       "            min_weight_fraction_leaf=0.0, presort=False, random_state=None,\n",
       "            splitter='best'),\n",
       "          learning_rate=1.0, n_estimators=50, random_state=42),\n",
       "       fit_params=None, iid='warn', n_jobs=-1,\n",
       "       param_grid={'n_estimators': [100, 200, 300], 'learning_rate': [0.2, 0.6, 1.0, 1.2]},\n",
       "       pre_dispatch='2*n_jobs', refit=True, return_train_score='warn',\n",
       "       scoring=None, verbose=1)"
      ]
     },
     "execution_count": 61,
     "metadata": {
      "tags": []
     },
     "output_type": "execute_result"
    }
   ],
   "source": [
    "ada_Grid_bal1.fit(X_train_bal_scaled, y_train_bal)"
   ]
  },
  {
   "cell_type": "code",
   "execution_count": 0,
   "metadata": {
    "colab": {
     "base_uri": "https://localhost:8080/",
     "height": 34
    },
    "colab_type": "code",
    "id": "4-yZF_0r6BtD",
    "outputId": "379957b5-8f1b-4e1c-9d3a-8044df583ee9"
   },
   "outputs": [
    {
     "data": {
      "text/plain": [
       "{'learning_rate': 0.2, 'n_estimators': 100}"
      ]
     },
     "execution_count": 62,
     "metadata": {
      "tags": []
     },
     "output_type": "execute_result"
    }
   ],
   "source": [
    "ada_Grid_bal1.best_params_"
   ]
  },
  {
   "cell_type": "markdown",
   "metadata": {
    "colab_type": "text",
    "id": "FXGnSyD9LuFU"
   },
   "source": [
    "#### Grid Search 2\n",
    "\n",
    "In the first search, the hyperparameters returned were the lowest learning rate and the lowest number of estimators. Repeat the grid with finer control round these rates."
   ]
  },
  {
   "cell_type": "code",
   "execution_count": 0,
   "metadata": {
    "colab": {},
    "colab_type": "code",
    "id": "RjbF9Jx6L-La"
   },
   "outputs": [],
   "source": [
    "param_grid_bal2 = {\n",
    "  'n_estimators' : [40, 60, 80, 100, 120],\n",
    "  'learning_rate': [0.1, 0.2, 0.3]}\n",
    "\n",
    "ada_clf_bal2 = AdaBoostClassifier(DecisionTreeClassifier(max_depth=1), random_state=42)\n",
    "ada_Grid_bal2 = GridSearchCV(ada_clf_bal2, param_grid_bal2, cv = 5, refit=True, n_jobs=-1, verbose = 1)"
   ]
  },
  {
   "cell_type": "code",
   "execution_count": 0,
   "metadata": {
    "colab": {
     "base_uri": "https://localhost:8080/",
     "height": 306
    },
    "colab_type": "code",
    "id": "VpJFgvpxMNRr",
    "outputId": "73478afa-f4f6-4dda-8bb1-2e6b71a289c6"
   },
   "outputs": [
    {
     "name": "stdout",
     "output_type": "stream",
     "text": [
      "Fitting 5 folds for each of 15 candidates, totalling 75 fits\n"
     ]
    },
    {
     "name": "stderr",
     "output_type": "stream",
     "text": [
      "[Parallel(n_jobs=-1)]: Using backend LokyBackend with 2 concurrent workers.\n",
      "[Parallel(n_jobs=-1)]: Done  72 out of  75 | elapsed:   12.6s remaining:    0.5s\n",
      "[Parallel(n_jobs=-1)]: Done  75 out of  75 | elapsed:   13.1s finished\n"
     ]
    },
    {
     "data": {
      "text/plain": [
       "GridSearchCV(cv=5, error_score='raise-deprecating',\n",
       "       estimator=AdaBoostClassifier(algorithm='SAMME.R',\n",
       "          base_estimator=DecisionTreeClassifier(class_weight=None, criterion='gini', max_depth=1,\n",
       "            max_features=None, max_leaf_nodes=None,\n",
       "            min_impurity_decrease=0.0, min_impurity_split=None,\n",
       "            min_samples_leaf=1, min_samples_split=2,\n",
       "            min_weight_fraction_leaf=0.0, presort=False, random_state=None,\n",
       "            splitter='best'),\n",
       "          learning_rate=1.0, n_estimators=50, random_state=42),\n",
       "       fit_params=None, iid='warn', n_jobs=-1,\n",
       "       param_grid={'n_estimators': [40, 60, 80, 100, 120], 'learning_rate': [0.1, 0.2, 0.3]},\n",
       "       pre_dispatch='2*n_jobs', refit=True, return_train_score='warn',\n",
       "       scoring=None, verbose=1)"
      ]
     },
     "execution_count": 64,
     "metadata": {
      "tags": []
     },
     "output_type": "execute_result"
    }
   ],
   "source": [
    "ada_Grid_bal2.fit(X_train_bal_scaled, y_train_bal)"
   ]
  },
  {
   "cell_type": "code",
   "execution_count": 0,
   "metadata": {
    "colab": {
     "base_uri": "https://localhost:8080/",
     "height": 34
    },
    "colab_type": "code",
    "id": "8g3PEwKaMmgw",
    "outputId": "205e672a-5a76-4760-8972-835d8f76a2a1"
   },
   "outputs": [
    {
     "data": {
      "text/plain": [
       "{'learning_rate': 0.1, 'n_estimators': 80}"
      ]
     },
     "execution_count": 65,
     "metadata": {
      "tags": []
     },
     "output_type": "execute_result"
    }
   ],
   "source": [
    "ada_Grid_bal2.best_params_"
   ]
  },
  {
   "cell_type": "markdown",
   "metadata": {
    "colab_type": "text",
    "id": "h70SpoD3MOg0"
   },
   "source": [
    "#### Grid Search 3\n",
    "\n",
    "Again with the lowest learning rate but not the lowest number of estimators. This time tune only the learning rate"
   ]
  },
  {
   "cell_type": "code",
   "execution_count": 0,
   "metadata": {
    "colab": {},
    "colab_type": "code",
    "id": "y-lsQ6c_MxjB"
   },
   "outputs": [],
   "source": [
    "param_grid_bal3 = {\n",
    "  'learning_rate': [0.06, 0.08, 0.10, 0.12, 0.14]\n",
    "}\n",
    "\n",
    "ada_clf_bal3 = AdaBoostClassifier(DecisionTreeClassifier(max_depth=1), random_state=42, n_estimators=80)\n",
    "ada_Grid_bal3 = GridSearchCV(ada_clf_bal3, param_grid_bal3, cv = 5, refit=True, n_jobs=-1, verbose = 1)"
   ]
  },
  {
   "cell_type": "code",
   "execution_count": 0,
   "metadata": {
    "colab": {
     "base_uri": "https://localhost:8080/",
     "height": 289
    },
    "colab_type": "code",
    "id": "Oowao6UYNAgz",
    "outputId": "f03e0c9c-3e32-439c-a46d-3ccd192eb1dc"
   },
   "outputs": [
    {
     "name": "stdout",
     "output_type": "stream",
     "text": [
      "Fitting 5 folds for each of 5 candidates, totalling 25 fits\n"
     ]
    },
    {
     "name": "stderr",
     "output_type": "stream",
     "text": [
      "[Parallel(n_jobs=-1)]: Using backend LokyBackend with 2 concurrent workers.\n",
      "[Parallel(n_jobs=-1)]: Done  25 out of  25 | elapsed:    4.5s finished\n"
     ]
    },
    {
     "data": {
      "text/plain": [
       "GridSearchCV(cv=5, error_score='raise-deprecating',\n",
       "       estimator=AdaBoostClassifier(algorithm='SAMME.R',\n",
       "          base_estimator=DecisionTreeClassifier(class_weight=None, criterion='gini', max_depth=1,\n",
       "            max_features=None, max_leaf_nodes=None,\n",
       "            min_impurity_decrease=0.0, min_impurity_split=None,\n",
       "            min_samples_leaf=1, min_samples_split=2,\n",
       "            min_weight_fraction_leaf=0.0, presort=False, random_state=None,\n",
       "            splitter='best'),\n",
       "          learning_rate=1.0, n_estimators=80, random_state=42),\n",
       "       fit_params=None, iid='warn', n_jobs=-1,\n",
       "       param_grid={'learning_rate': [0.06, 0.08, 0.1, 0.12, 0.14]},\n",
       "       pre_dispatch='2*n_jobs', refit=True, return_train_score='warn',\n",
       "       scoring=None, verbose=1)"
      ]
     },
     "execution_count": 67,
     "metadata": {
      "tags": []
     },
     "output_type": "execute_result"
    }
   ],
   "source": [
    "ada_Grid_bal3.fit(X_train_bal_scaled, y_train_bal)"
   ]
  },
  {
   "cell_type": "code",
   "execution_count": 0,
   "metadata": {
    "colab": {
     "base_uri": "https://localhost:8080/",
     "height": 34
    },
    "colab_type": "code",
    "id": "ZW1khinLNEQm",
    "outputId": "de933110-b423-407f-e15e-a083a8a98532"
   },
   "outputs": [
    {
     "data": {
      "text/plain": [
       "{'learning_rate': 0.08}"
      ]
     },
     "execution_count": 68,
     "metadata": {
      "tags": []
     },
     "output_type": "execute_result"
    }
   ],
   "source": [
    "ada_Grid_bal3.best_params_"
   ]
  },
  {
   "cell_type": "markdown",
   "metadata": {
    "colab_type": "text",
    "id": "7YSiwtJXNHjv"
   },
   "source": [
    "A learning rate and number of estimators have been found for the balanced dataset.\n",
    "\n",
    "    n_estimators = 80\n",
    "    learning_rate = 0.08"
   ]
  },
  {
   "cell_type": "markdown",
   "metadata": {
    "colab_type": "text",
    "id": "WH8JoKn2MQEJ"
   },
   "source": [
    "#### Predictions"
   ]
  },
  {
   "cell_type": "code",
   "execution_count": 0,
   "metadata": {
    "colab": {
     "base_uri": "https://localhost:8080/",
     "height": 853
    },
    "colab_type": "code",
    "id": "AluU2mnDvZia",
    "outputId": "58963cd6-f672-4713-fc14-cbd6d0b4f600"
   },
   "outputs": [
    {
     "name": "stdout",
     "output_type": "stream",
     "text": [
      "Balanced ADA Train Accuracy Score: 0.5553494124922697\n",
      "\n",
      "Balanced ADA Train Confusion Matrix\n",
      "[[ 92 132  53   0]\n",
      " [ 27 381 144   2]\n",
      " [ 14 133 321  41]\n",
      " [  0   6 167 104]]\n",
      "\n",
      "Balanced ADA Train Classification Report\n",
      "              precision    recall  f1-score   support\n",
      "\n",
      "           4       0.69      0.33      0.45       277\n",
      "           5       0.58      0.69      0.63       554\n",
      "           6       0.47      0.63      0.54       509\n",
      "           7       0.71      0.38      0.49       277\n",
      "\n",
      "   micro avg       0.56      0.56      0.56      1617\n",
      "   macro avg       0.61      0.51      0.53      1617\n",
      "weighted avg       0.59      0.56      0.55      1617\n",
      "\n",
      "-----------------------------------------------------\n",
      "\n",
      "Balanced ADA Test Accuracy Score: 0.565625\n",
      "\n",
      "Balanced ADA Test Confusion Matrix\n",
      "[[ 0  1  0  0  0  0]\n",
      " [ 0  5  5  0  0  0]\n",
      " [ 0  7 89 33  1  0]\n",
      " [ 0  6 38 76 12  0]\n",
      " [ 0  0  0 31 11  0]\n",
      " [ 0  0  0  3  2  0]]\n",
      "\n",
      "Balanced ADA Test Classification Report\n",
      "              precision    recall  f1-score   support\n",
      "\n",
      "           3       0.00      0.00      0.00         1\n",
      "           4       0.26      0.50      0.34        10\n",
      "           5       0.67      0.68      0.68       130\n",
      "           6       0.53      0.58      0.55       132\n",
      "           7       0.42      0.26      0.32        42\n",
      "           8       0.00      0.00      0.00         5\n",
      "\n",
      "   micro avg       0.57      0.57      0.57       320\n",
      "   macro avg       0.32      0.34      0.32       320\n",
      "weighted avg       0.56      0.57      0.56       320\n",
      "\n"
     ]
    },
    {
     "name": "stderr",
     "output_type": "stream",
     "text": [
      "/usr/local/lib/python3.6/dist-packages/sklearn/metrics/classification.py:1143: UndefinedMetricWarning: Precision and F-score are ill-defined and being set to 0.0 in labels with no predicted samples.\n",
      "  'precision', 'predicted', average, warn_for)\n"
     ]
    }
   ],
   "source": [
    "y_train_bal_pred_ada = ada_Grid_bal3.predict(X_train_bal_scaled)\n",
    "y_test_bal_pred_ada = ada_Grid_bal3.predict(X_test_bal_scaled)\n",
    "\n",
    "reports(\"Balanced ADA\",\n",
    "    X_train_bal_scaled, X_test_bal_scaled, \n",
    "    y_train_bal, y_train_bal_pred_ada, \n",
    "    y_test, y_test_bal_pred_ada)"
   ]
  },
  {
   "cell_type": "code",
   "execution_count": 0,
   "metadata": {
    "colab": {},
    "colab_type": "code",
    "id": "u6tm5djNMcrN"
   },
   "outputs": [],
   "source": [
    "models['ADA']['balanced'] = {\n",
    "    'model': ada_Grid_bal3.best_estimator_,\n",
    "    'params': ada_Grid_bal3.best_params_,\n",
    "    'accuracy': {\n",
    "        'train': (y_train_bal == y_train_bal_pred_ada).mean(),\n",
    "        'test': (y_test == y_test_bal_pred_ada).mean()\n",
    "    }\n",
    "}"
   ]
  },
  {
   "cell_type": "markdown",
   "metadata": {
    "colab_type": "text",
    "id": "qKyprWMNMRYG"
   },
   "source": [
    "#### Feature Importance"
   ]
  },
  {
   "cell_type": "code",
   "execution_count": 0,
   "metadata": {
    "colab": {
     "base_uri": "https://localhost:8080/",
     "height": 390
    },
    "colab_type": "code",
    "id": "EaBn7kp7No2Q",
    "outputId": "99c85069-0f99-4016-8530-39e2e1f73b5c"
   },
   "outputs": [
    {
     "data": {
      "text/html": [
       "<div>\n",
       "<style scoped>\n",
       "    .dataframe tbody tr th:only-of-type {\n",
       "        vertical-align: middle;\n",
       "    }\n",
       "\n",
       "    .dataframe tbody tr th {\n",
       "        vertical-align: top;\n",
       "    }\n",
       "\n",
       "    .dataframe thead th {\n",
       "        text-align: right;\n",
       "    }\n",
       "</style>\n",
       "<table border=\"1\" class=\"dataframe\">\n",
       "  <thead>\n",
       "    <tr style=\"text-align: right;\">\n",
       "      <th></th>\n",
       "      <th>feature</th>\n",
       "      <th>importance</th>\n",
       "      <th>std</th>\n",
       "    </tr>\n",
       "  </thead>\n",
       "  <tbody>\n",
       "    <tr>\n",
       "      <th>10</th>\n",
       "      <td>alcohol</td>\n",
       "      <td>0.3125</td>\n",
       "      <td>0.463512</td>\n",
       "    </tr>\n",
       "    <tr>\n",
       "      <th>1</th>\n",
       "      <td>volatile acidity</td>\n",
       "      <td>0.2875</td>\n",
       "      <td>0.452597</td>\n",
       "    </tr>\n",
       "    <tr>\n",
       "      <th>6</th>\n",
       "      <td>total sulfur dioxide</td>\n",
       "      <td>0.2000</td>\n",
       "      <td>0.400000</td>\n",
       "    </tr>\n",
       "    <tr>\n",
       "      <th>9</th>\n",
       "      <td>sulphates</td>\n",
       "      <td>0.1875</td>\n",
       "      <td>0.390312</td>\n",
       "    </tr>\n",
       "    <tr>\n",
       "      <th>3</th>\n",
       "      <td>residual sugar</td>\n",
       "      <td>0.0125</td>\n",
       "      <td>0.111102</td>\n",
       "    </tr>\n",
       "    <tr>\n",
       "      <th>0</th>\n",
       "      <td>fixed acidity</td>\n",
       "      <td>0.0000</td>\n",
       "      <td>0.000000</td>\n",
       "    </tr>\n",
       "    <tr>\n",
       "      <th>2</th>\n",
       "      <td>citric acid</td>\n",
       "      <td>0.0000</td>\n",
       "      <td>0.000000</td>\n",
       "    </tr>\n",
       "    <tr>\n",
       "      <th>4</th>\n",
       "      <td>chlorides</td>\n",
       "      <td>0.0000</td>\n",
       "      <td>0.000000</td>\n",
       "    </tr>\n",
       "    <tr>\n",
       "      <th>5</th>\n",
       "      <td>free sulfur dioxide</td>\n",
       "      <td>0.0000</td>\n",
       "      <td>0.000000</td>\n",
       "    </tr>\n",
       "    <tr>\n",
       "      <th>7</th>\n",
       "      <td>density</td>\n",
       "      <td>0.0000</td>\n",
       "      <td>0.000000</td>\n",
       "    </tr>\n",
       "    <tr>\n",
       "      <th>8</th>\n",
       "      <td>pH</td>\n",
       "      <td>0.0000</td>\n",
       "      <td>0.000000</td>\n",
       "    </tr>\n",
       "  </tbody>\n",
       "</table>\n",
       "</div>"
      ],
      "text/plain": [
       "                 feature  importance       std\n",
       "10               alcohol      0.3125  0.463512\n",
       "1       volatile acidity      0.2875  0.452597\n",
       "6   total sulfur dioxide      0.2000  0.400000\n",
       "9              sulphates      0.1875  0.390312\n",
       "3         residual sugar      0.0125  0.111102\n",
       "0          fixed acidity      0.0000  0.000000\n",
       "2            citric acid      0.0000  0.000000\n",
       "4              chlorides      0.0000  0.000000\n",
       "5    free sulfur dioxide      0.0000  0.000000\n",
       "7                density      0.0000  0.000000\n",
       "8                     pH      0.0000  0.000000"
      ]
     },
     "execution_count": 71,
     "metadata": {
      "tags": []
     },
     "output_type": "execute_result"
    }
   ],
   "source": [
    "importances = ada_Grid_bal3.best_estimator_.feature_importances_\n",
    "stds = np.std([tree.feature_importances_ for tree in ada_Grid_bal3.best_estimator_.estimators_], axis=0)\n",
    "\n",
    "fi_df_ada_bal = pd.DataFrame(\n",
    "    data={'importance': pd.Series(importances), \n",
    "          'std': pd.Series(stds),\n",
    "          'feature': X.columns\n",
    "         }\n",
    ").sort_values('importance', ascending=False)\n",
    "fi_df_ada_bal"
   ]
  },
  {
   "cell_type": "code",
   "execution_count": 0,
   "metadata": {
    "colab": {
     "base_uri": "https://localhost:8080/",
     "height": 466
    },
    "colab_type": "code",
    "id": "dxlDottnNsHY",
    "outputId": "0687105b-af28-4801-c4b6-2596b304edd1"
   },
   "outputs": [
    {
     "data": {
      "text/plain": [
       "Text(0,0.5,'Importance')"
      ]
     },
     "execution_count": 72,
     "metadata": {
      "tags": []
     },
     "output_type": "execute_result"
    },
    {
     "data": {
      "image/png": "[encoded data removed]",
      "text/plain": [
       "<matplotlib.figure.Figure at 0x7fa668b31c50>"
      ]
     },
     "metadata": {
      "tags": []
     },
     "output_type": "display_data"
    }
   ],
   "source": [
    "fig, ax = plt.subplots(figsize=(8,5))\n",
    "fi_df_ada_bal.plot.bar(x='feature', y='importance', ax=ax, legend=False)\n",
    "ax.set_title('Feature Importance for Balanced AdaBoost')\n",
    "ax.set_ylabel('Importance')"
   ]
  },
  {
   "cell_type": "markdown",
   "metadata": {
    "colab_type": "text",
    "id": "YmyPuIabw-Ex"
   },
   "source": [
    "### Combined Classes"
   ]
  },
  {
   "cell_type": "markdown",
   "metadata": {
    "colab_type": "text",
    "id": "BM0qzHfIN5la"
   },
   "source": [
    "#### Grid Search 1\n",
    "\n",
    "Finally, the last dataset for AdaBoost -- Combined Classes. Similar approach to hyperparameter tuning as the other models."
   ]
  },
  {
   "cell_type": "code",
   "execution_count": 0,
   "metadata": {
    "colab": {},
    "colab_type": "code",
    "id": "HzjSS9v40j67"
   },
   "outputs": [],
   "source": [
    "param_grid_bin1 = {\n",
    "  'n_estimators' : [100, 200, 300],\n",
    "  'learning_rate': [0.2, 0.4, 0.8, 1.0]}\n",
    "\n",
    "ada_clf_bin1 = AdaBoostClassifier(DecisionTreeClassifier(max_depth=1), random_state=42)\n",
    "\n",
    "ada_Grid_bin1 = GridSearchCV(ada_clf_bin1, param_grid_bin1, cv = 5, refit=True, n_jobs=-1, verbose = 1)"
   ]
  },
  {
   "cell_type": "code",
   "execution_count": 0,
   "metadata": {
    "colab": {
     "base_uri": "https://localhost:8080/",
     "height": 306
    },
    "colab_type": "code",
    "id": "y-8gTl-w0kbl",
    "outputId": "213dc1d8-bd47-4104-ade7-a78c5d640ae9"
   },
   "outputs": [
    {
     "name": "stdout",
     "output_type": "stream",
     "text": [
      "Fitting 5 folds for each of 12 candidates, totalling 60 fits\n"
     ]
    },
    {
     "name": "stderr",
     "output_type": "stream",
     "text": [
      "[Parallel(n_jobs=-1)]: Using backend LokyBackend with 2 concurrent workers.\n",
      "[Parallel(n_jobs=-1)]: Done  46 tasks      | elapsed:   15.5s\n",
      "[Parallel(n_jobs=-1)]: Done  60 out of  60 | elapsed:   20.2s finished\n"
     ]
    },
    {
     "data": {
      "text/plain": [
       "GridSearchCV(cv=5, error_score='raise-deprecating',\n",
       "       estimator=AdaBoostClassifier(algorithm='SAMME.R',\n",
       "          base_estimator=DecisionTreeClassifier(class_weight=None, criterion='gini', max_depth=1,\n",
       "            max_features=None, max_leaf_nodes=None,\n",
       "            min_impurity_decrease=0.0, min_impurity_split=None,\n",
       "            min_samples_leaf=1, min_samples_split=2,\n",
       "            min_weight_fraction_leaf=0.0, presort=False, random_state=None,\n",
       "            splitter='best'),\n",
       "          learning_rate=1.0, n_estimators=50, random_state=42),\n",
       "       fit_params=None, iid='warn', n_jobs=-1,\n",
       "       param_grid={'n_estimators': [100, 200, 300], 'learning_rate': [0.2, 0.4, 0.8, 1.0]},\n",
       "       pre_dispatch='2*n_jobs', refit=True, return_train_score='warn',\n",
       "       scoring=None, verbose=1)"
      ]
     },
     "execution_count": 74,
     "metadata": {
      "tags": []
     },
     "output_type": "execute_result"
    }
   ],
   "source": [
    "ada_Grid_bin1.fit(X_train_scaled, y_train_bin)"
   ]
  },
  {
   "cell_type": "code",
   "execution_count": 0,
   "metadata": {
    "colab": {
     "base_uri": "https://localhost:8080/",
     "height": 34
    },
    "colab_type": "code",
    "id": "xZd1J0V6OS3y",
    "outputId": "9257f11a-60b3-444b-a75e-35c403b39e72"
   },
   "outputs": [
    {
     "data": {
      "text/plain": [
       "{'learning_rate': 0.2, 'n_estimators': 300}"
      ]
     },
     "execution_count": 75,
     "metadata": {
      "tags": []
     },
     "output_type": "execute_result"
    }
   ],
   "source": [
    "ada_Grid_bin1.best_params_"
   ]
  },
  {
   "cell_type": "markdown",
   "metadata": {
    "colab_type": "text",
    "id": "Dho2Fhp1OTPB"
   },
   "source": [
    "#### Grid Search 2\n",
    "\n",
    "Interestingly, the number of estimators is no longer the lowest possible input. So this time around we have to search on a higher ceiling of estimators and a lower threshold for learning rate"
   ]
  },
  {
   "cell_type": "code",
   "execution_count": 0,
   "metadata": {
    "colab": {},
    "colab_type": "code",
    "id": "5q2HceLKOTAQ"
   },
   "outputs": [],
   "source": [
    "param_grid_bin2 = {\n",
    "  'n_estimators' : [350, 400, 500],\n",
    "  'learning_rate': [0.05, 0.10, 0.15]}\n",
    "\n",
    "ada_clf_bin2 = AdaBoostClassifier(DecisionTreeClassifier(max_depth=1), random_state=42)\n",
    "ada_Grid_bin2 = GridSearchCV(ada_clf_bin2, param_grid_bin2, cv = 5, refit=True, n_jobs=-1, verbose = 1)"
   ]
  },
  {
   "cell_type": "code",
   "execution_count": 0,
   "metadata": {
    "colab": {
     "base_uri": "https://localhost:8080/",
     "height": 289
    },
    "colab_type": "code",
    "id": "xmxNFKYSOtfV",
    "outputId": "8e04f465-c2ae-4b78-ae86-75b86f32edbb"
   },
   "outputs": [
    {
     "name": "stdout",
     "output_type": "stream",
     "text": [
      "Fitting 5 folds for each of 9 candidates, totalling 45 fits\n"
     ]
    },
    {
     "name": "stderr",
     "output_type": "stream",
     "text": [
      "[Parallel(n_jobs=-1)]: Using backend LokyBackend with 2 concurrent workers.\n",
      "[Parallel(n_jobs=-1)]: Done  45 out of  45 | elapsed:   30.4s finished\n"
     ]
    },
    {
     "data": {
      "text/plain": [
       "GridSearchCV(cv=5, error_score='raise-deprecating',\n",
       "       estimator=AdaBoostClassifier(algorithm='SAMME.R',\n",
       "          base_estimator=DecisionTreeClassifier(class_weight=None, criterion='gini', max_depth=1,\n",
       "            max_features=None, max_leaf_nodes=None,\n",
       "            min_impurity_decrease=0.0, min_impurity_split=None,\n",
       "            min_samples_leaf=1, min_samples_split=2,\n",
       "            min_weight_fraction_leaf=0.0, presort=False, random_state=None,\n",
       "            splitter='best'),\n",
       "          learning_rate=1.0, n_estimators=50, random_state=42),\n",
       "       fit_params=None, iid='warn', n_jobs=-1,\n",
       "       param_grid={'n_estimators': [350, 400, 500], 'learning_rate': [0.05, 0.1, 0.15]},\n",
       "       pre_dispatch='2*n_jobs', refit=True, return_train_score='warn',\n",
       "       scoring=None, verbose=1)"
      ]
     },
     "execution_count": 77,
     "metadata": {
      "tags": []
     },
     "output_type": "execute_result"
    }
   ],
   "source": [
    "ada_Grid_bin2.fit(X_train_scaled, y_train_bin)"
   ]
  },
  {
   "cell_type": "code",
   "execution_count": 0,
   "metadata": {
    "colab": {
     "base_uri": "https://localhost:8080/",
     "height": 34
    },
    "colab_type": "code",
    "id": "KBJ0bJRYPDhb",
    "outputId": "1fdaf58c-4b22-4aa7-9981-b335290cef22"
   },
   "outputs": [
    {
     "data": {
      "text/plain": [
       "{'learning_rate': 0.15, 'n_estimators': 400}"
      ]
     },
     "execution_count": 78,
     "metadata": {
      "tags": []
     },
     "output_type": "execute_result"
    }
   ],
   "source": [
    "ada_Grid_bin2.best_params_"
   ]
  },
  {
   "cell_type": "markdown",
   "metadata": {
    "colab_type": "text",
    "id": "BCTbT3NzOVsx"
   },
   "source": [
    "#### Grid Search 3\n",
    "\n",
    "A bit more tuning and we're just about done with AdaBoost"
   ]
  },
  {
   "cell_type": "code",
   "execution_count": 0,
   "metadata": {
    "colab": {},
    "colab_type": "code",
    "id": "5fK4Ajz4Paz4"
   },
   "outputs": [],
   "source": [
    "param_grid_bin3 = {\n",
    "  'n_estimators' : [350, 400, 450],\n",
    "  'learning_rate': [0.15, 0.18, 0.20]}\n",
    "\n",
    "ada_clf_bin3 = AdaBoostClassifier(DecisionTreeClassifier(max_depth=1), random_state=42)\n",
    "ada_Grid_bin3 = GridSearchCV(ada_clf_bin3, param_grid_bin3, cv = 5, refit=True, n_jobs=-1, verbose = 1)"
   ]
  },
  {
   "cell_type": "code",
   "execution_count": 0,
   "metadata": {
    "colab": {
     "base_uri": "https://localhost:8080/",
     "height": 289
    },
    "colab_type": "code",
    "id": "brBhPopNPl_T",
    "outputId": "374e7ce5-1050-4474-db02-dd2e9d9d447e"
   },
   "outputs": [
    {
     "name": "stdout",
     "output_type": "stream",
     "text": [
      "Fitting 5 folds for each of 9 candidates, totalling 45 fits\n"
     ]
    },
    {
     "name": "stderr",
     "output_type": "stream",
     "text": [
      "[Parallel(n_jobs=-1)]: Using backend LokyBackend with 2 concurrent workers.\n",
      "[Parallel(n_jobs=-1)]: Done  45 out of  45 | elapsed:   29.2s finished\n"
     ]
    },
    {
     "data": {
      "text/plain": [
       "GridSearchCV(cv=5, error_score='raise-deprecating',\n",
       "       estimator=AdaBoostClassifier(algorithm='SAMME.R',\n",
       "          base_estimator=DecisionTreeClassifier(class_weight=None, criterion='gini', max_depth=1,\n",
       "            max_features=None, max_leaf_nodes=None,\n",
       "            min_impurity_decrease=0.0, min_impurity_split=None,\n",
       "            min_samples_leaf=1, min_samples_split=2,\n",
       "            min_weight_fraction_leaf=0.0, presort=False, random_state=None,\n",
       "            splitter='best'),\n",
       "          learning_rate=1.0, n_estimators=50, random_state=42),\n",
       "       fit_params=None, iid='warn', n_jobs=-1,\n",
       "       param_grid={'n_estimators': [350, 400, 450], 'learning_rate': [0.15, 0.18, 0.2]},\n",
       "       pre_dispatch='2*n_jobs', refit=True, return_train_score='warn',\n",
       "       scoring=None, verbose=1)"
      ]
     },
     "execution_count": 80,
     "metadata": {
      "tags": []
     },
     "output_type": "execute_result"
    }
   ],
   "source": [
    "ada_Grid_bin3.fit(X_train_scaled, y_train_bin)"
   ]
  },
  {
   "cell_type": "code",
   "execution_count": 0,
   "metadata": {
    "colab": {
     "base_uri": "https://localhost:8080/",
     "height": 34
    },
    "colab_type": "code",
    "id": "tJBl1sBhPnvL",
    "outputId": "2f285acc-c4b7-4c44-a477-3c3548ea403a"
   },
   "outputs": [
    {
     "data": {
      "text/plain": [
       "{'learning_rate': 0.18, 'n_estimators': 350}"
      ]
     },
     "execution_count": 81,
     "metadata": {
      "tags": []
     },
     "output_type": "execute_result"
    }
   ],
   "source": [
    "ada_Grid_bin3.best_params_"
   ]
  },
  {
   "cell_type": "markdown",
   "metadata": {
    "colab_type": "text",
    "id": "xYtJqXz2QC33"
   },
   "source": [
    "We have our hyperparameters for AdaBoost Combined Classes\n",
    "\n",
    "    n_estimators: 350\n",
    "    learning_rate: 0.18"
   ]
  },
  {
   "cell_type": "markdown",
   "metadata": {
    "colab_type": "text",
    "id": "q0gkilagPJhc"
   },
   "source": [
    "#### Predictions"
   ]
  },
  {
   "cell_type": "code",
   "execution_count": 0,
   "metadata": {
    "colab": {
     "base_uri": "https://localhost:8080/",
     "height": 595
    },
    "colab_type": "code",
    "id": "p44nf3RMxC1a",
    "outputId": "3dfa1846-b024-4829-c1c5-cbed2940ce68"
   },
   "outputs": [
    {
     "name": "stdout",
     "output_type": "stream",
     "text": [
      "Combined AdaBoost Train Accuracy Score: 0.8076622361219703\n",
      "\n",
      "Combined AdaBoost Train Confusion Matrix\n",
      "[[484 119]\n",
      " [127 549]]\n",
      "\n",
      "Combined AdaBoost Train Classification Report\n",
      "              precision    recall  f1-score   support\n",
      "\n",
      "       False       0.79      0.80      0.80       603\n",
      "        True       0.82      0.81      0.82       676\n",
      "\n",
      "   micro avg       0.81      0.81      0.81      1279\n",
      "   macro avg       0.81      0.81      0.81      1279\n",
      "weighted avg       0.81      0.81      0.81      1279\n",
      "\n",
      "-----------------------------------------------------\n",
      "\n",
      "Combined AdaBoost Test Accuracy Score: 0.759375\n",
      "\n",
      "Combined AdaBoost Test Confusion Matrix\n",
      "[[109  32]\n",
      " [ 45 134]]\n",
      "\n",
      "Combined AdaBoost Test Classification Report\n",
      "              precision    recall  f1-score   support\n",
      "\n",
      "       False       0.71      0.77      0.74       141\n",
      "        True       0.81      0.75      0.78       179\n",
      "\n",
      "   micro avg       0.76      0.76      0.76       320\n",
      "   macro avg       0.76      0.76      0.76       320\n",
      "weighted avg       0.76      0.76      0.76       320\n",
      "\n"
     ]
    }
   ],
   "source": [
    "# b) Use the best estimator from GridSearchCV to predict on test data.Use the.predict_proba()\n",
    "# and the .predict() methods to get predicted probabilities as well as predicted classes.\n",
    "\n",
    "y_train_bin_pred_ada = ada_Grid_bin3.predict(X_train_scaled)\n",
    "y_test_bin_pred_ada = ada_Grid_bin3.predict(X_test_scaled)\n",
    "\n",
    "\n",
    "reports(\"Combined AdaBoost\",\n",
    "    X_train_scaled, X_test_scaled, \n",
    "    y_train_bin, y_train_bin_pred_ada, \n",
    "    y_test_bin, y_test_bin_pred_ada)"
   ]
  },
  {
   "cell_type": "code",
   "execution_count": 0,
   "metadata": {
    "colab": {},
    "colab_type": "code",
    "id": "-YX-6pcuMzt4"
   },
   "outputs": [],
   "source": [
    "models['ADA']['combined'] = {\n",
    "    'model': ada_Grid_bin3.best_estimator_,\n",
    "    'params': ada_Grid_bin3.best_params_,\n",
    "    'accuracy': {\n",
    "        'train': (y_train_bin == y_train_bin_pred_ada).mean(),\n",
    "        'test': (y_test_bin == y_test_bin_pred_ada).mean()\n",
    "    }\n",
    "}"
   ]
  },
  {
   "cell_type": "markdown",
   "metadata": {
    "colab_type": "text",
    "id": "6_oZ-3o7PONo"
   },
   "source": [
    "#### Feature Importance"
   ]
  },
  {
   "cell_type": "code",
   "execution_count": 0,
   "metadata": {
    "colab": {
     "base_uri": "https://localhost:8080/",
     "height": 390
    },
    "colab_type": "code",
    "id": "WXix-PYvORuP",
    "outputId": "dfbf3cd6-8dfc-4685-baf8-52046595a8b2"
   },
   "outputs": [
    {
     "data": {
      "text/html": [
       "<div>\n",
       "<style scoped>\n",
       "    .dataframe tbody tr th:only-of-type {\n",
       "        vertical-align: middle;\n",
       "    }\n",
       "\n",
       "    .dataframe tbody tr th {\n",
       "        vertical-align: top;\n",
       "    }\n",
       "\n",
       "    .dataframe thead th {\n",
       "        text-align: right;\n",
       "    }\n",
       "</style>\n",
       "<table border=\"1\" class=\"dataframe\">\n",
       "  <thead>\n",
       "    <tr style=\"text-align: right;\">\n",
       "      <th></th>\n",
       "      <th>feature</th>\n",
       "      <th>importance</th>\n",
       "      <th>std</th>\n",
       "    </tr>\n",
       "  </thead>\n",
       "  <tbody>\n",
       "    <tr>\n",
       "      <th>4</th>\n",
       "      <td>chlorides</td>\n",
       "      <td>0.165714</td>\n",
       "      <td>0.371824</td>\n",
       "    </tr>\n",
       "    <tr>\n",
       "      <th>10</th>\n",
       "      <td>alcohol</td>\n",
       "      <td>0.165714</td>\n",
       "      <td>0.371824</td>\n",
       "    </tr>\n",
       "    <tr>\n",
       "      <th>9</th>\n",
       "      <td>sulphates</td>\n",
       "      <td>0.128571</td>\n",
       "      <td>0.334725</td>\n",
       "    </tr>\n",
       "    <tr>\n",
       "      <th>6</th>\n",
       "      <td>total sulfur dioxide</td>\n",
       "      <td>0.105714</td>\n",
       "      <td>0.307472</td>\n",
       "    </tr>\n",
       "    <tr>\n",
       "      <th>7</th>\n",
       "      <td>density</td>\n",
       "      <td>0.091429</td>\n",
       "      <td>0.288218</td>\n",
       "    </tr>\n",
       "    <tr>\n",
       "      <th>3</th>\n",
       "      <td>residual sugar</td>\n",
       "      <td>0.088571</td>\n",
       "      <td>0.284124</td>\n",
       "    </tr>\n",
       "    <tr>\n",
       "      <th>2</th>\n",
       "      <td>citric acid</td>\n",
       "      <td>0.065714</td>\n",
       "      <td>0.247782</td>\n",
       "    </tr>\n",
       "    <tr>\n",
       "      <th>0</th>\n",
       "      <td>fixed acidity</td>\n",
       "      <td>0.062857</td>\n",
       "      <td>0.242706</td>\n",
       "    </tr>\n",
       "    <tr>\n",
       "      <th>1</th>\n",
       "      <td>volatile acidity</td>\n",
       "      <td>0.045714</td>\n",
       "      <td>0.208865</td>\n",
       "    </tr>\n",
       "    <tr>\n",
       "      <th>8</th>\n",
       "      <td>pH</td>\n",
       "      <td>0.045714</td>\n",
       "      <td>0.208865</td>\n",
       "    </tr>\n",
       "    <tr>\n",
       "      <th>5</th>\n",
       "      <td>free sulfur dioxide</td>\n",
       "      <td>0.034286</td>\n",
       "      <td>0.181962</td>\n",
       "    </tr>\n",
       "  </tbody>\n",
       "</table>\n",
       "</div>"
      ],
      "text/plain": [
       "                 feature  importance       std\n",
       "4              chlorides    0.165714  0.371824\n",
       "10               alcohol    0.165714  0.371824\n",
       "9              sulphates    0.128571  0.334725\n",
       "6   total sulfur dioxide    0.105714  0.307472\n",
       "7                density    0.091429  0.288218\n",
       "3         residual sugar    0.088571  0.284124\n",
       "2            citric acid    0.065714  0.247782\n",
       "0          fixed acidity    0.062857  0.242706\n",
       "1       volatile acidity    0.045714  0.208865\n",
       "8                     pH    0.045714  0.208865\n",
       "5    free sulfur dioxide    0.034286  0.181962"
      ]
     },
     "execution_count": 84,
     "metadata": {
      "tags": []
     },
     "output_type": "execute_result"
    }
   ],
   "source": [
    "importances = ada_Grid_bin3.best_estimator_.feature_importances_\n",
    "stds = np.std([tree.feature_importances_ for tree in ada_Grid_bin3.best_estimator_.estimators_], axis=0)\n",
    "\n",
    "fi_ada_bin = pd.DataFrame(\n",
    "    data={'importance': pd.Series(importances), \n",
    "          'std': pd.Series(stds),\n",
    "          'feature': X.columns\n",
    "         }\n",
    ").sort_values('importance', ascending=False)\n",
    "fi_ada_bin"
   ]
  },
  {
   "cell_type": "code",
   "execution_count": 0,
   "metadata": {
    "colab": {
     "base_uri": "https://localhost:8080/",
     "height": 466
    },
    "colab_type": "code",
    "id": "GCVnHcV5Qi-U",
    "outputId": "63df1880-e838-4f27-fe18-93ccc01bf295"
   },
   "outputs": [
    {
     "data": {
      "text/plain": [
       "Text(0,0.5,'Importance')"
      ]
     },
     "execution_count": 85,
     "metadata": {
      "tags": []
     },
     "output_type": "execute_result"
    },
    {
     "data": {
      "image/png": "[encoded data removed]",
      "text/plain": [
       "<matplotlib.figure.Figure at 0x7fa668a03cc0>"
      ]
     },
     "metadata": {
      "tags": []
     },
     "output_type": "display_data"
    }
   ],
   "source": [
    "fig, ax = plt.subplots(figsize=(8,5))\n",
    "fi_ada_bin.plot.bar(x='feature', y='importance', ax=ax, legend=False)\n",
    "ax.set_title('Feature Importance for Combined AdaBoost')\n",
    "ax.set_ylabel('Importance')"
   ]
  },
  {
   "cell_type": "markdown",
   "metadata": {
    "colab_type": "text",
    "id": "dJWTsKST5pEy"
   },
   "source": [
    "The features that came up as important in the other two datasets continue to be important here, but noteable all the features are included when predicting a binary variable."
   ]
  },
  {
   "cell_type": "markdown",
   "metadata": {
    "colab_type": "text",
    "id": "pXnq6fOR8_cx"
   },
   "source": [
    "## Random Forest \n"
   ]
  },
  {
   "cell_type": "markdown",
   "metadata": {
    "colab_type": "text",
    "id": "2pHIEEEX9Y0T"
   },
   "source": [
    "### Unbalanced"
   ]
  },
  {
   "cell_type": "markdown",
   "metadata": {
    "colab_type": "text",
    "id": "Ov8NM3GL59wc"
   },
   "source": [
    "#### Grid Search 1\n",
    "\n",
    "RandomForest Classifier with GridSearchCV\n",
    "\n",
    "parameters:  \n",
    "\n",
    "    n_estimators: [500, 750, 1000]  \n",
    "    max_features: [2, 4, 6]\n",
    "    max_depth: [10, 50, 100]\n"
   ]
  },
  {
   "cell_type": "code",
   "execution_count": 0,
   "metadata": {
    "colab": {
     "base_uri": "https://localhost:8080/",
     "height": 326
    },
    "colab_type": "code",
    "id": "AjWySj0M9eLa",
    "outputId": "6bd00275-2a58-4141-be41-3545d79663f4"
   },
   "outputs": [
    {
     "name": "stdout",
     "output_type": "stream",
     "text": [
      "Fitting 5 folds for each of 27 candidates, totalling 135 fits\n"
     ]
    },
    {
     "name": "stderr",
     "output_type": "stream",
     "text": [
      "[Parallel(n_jobs=-1)]: Using backend LokyBackend with 2 concurrent workers.\n",
      "[Parallel(n_jobs=-1)]: Done  46 tasks      | elapsed:  1.2min\n",
      "[Parallel(n_jobs=-1)]: Done 135 out of 135 | elapsed:  3.7min finished\n",
      "/usr/local/lib/python3.6/dist-packages/sklearn/model_selection/_search.py:841: DeprecationWarning: The default of the `iid` parameter will change from True to False in version 0.22 and will be removed in 0.24. This will change numeric results when test-set sizes are unequal.\n",
      "  DeprecationWarning)\n"
     ]
    },
    {
     "data": {
      "text/plain": [
       "GridSearchCV(cv=5, error_score='raise-deprecating',\n",
       "       estimator=RandomForestClassifier(bootstrap=True, class_weight=None, criterion='gini',\n",
       "            max_depth=None, max_features='auto', max_leaf_nodes=None,\n",
       "            min_impurity_decrease=0.0, min_impurity_split=None,\n",
       "            min_samples_leaf=1, min_samples_split=2,\n",
       "            min_weight_fraction_leaf=0.0, n_estimators='warn', n_jobs=None,\n",
       "            oob_score=False, random_state=42, verbose=0, warm_start=False),\n",
       "       fit_params=None, iid='warn', n_jobs=-1,\n",
       "       param_grid={'n_estimators': [500, 750, 1000], 'max_features': [2, 4, 6], 'max_depth': [10, 50, 100]},\n",
       "       pre_dispatch='2*n_jobs', refit=True, return_train_score='warn',\n",
       "       scoring=None, verbose=1)"
      ]
     },
     "execution_count": 86,
     "metadata": {
      "tags": []
     },
     "output_type": "execute_result"
    }
   ],
   "source": [
    "param_grid_rdf1 = {\n",
    "    'n_estimators': [500, 750, 1000],\n",
    "    'max_features': [2, 4, 6],\n",
    "    'max_depth': [10, 50, 100]\n",
    "}\n",
    "\n",
    "rdf1 = RandomForestClassifier(random_state=42)\n",
    "grid_search_rdf1 = GridSearchCV(rdf1, param_grid_rdf1, cv=5, refit=True, n_jobs=-1, verbose=1)\n",
    "grid_search_rdf1.fit(X_train_scaled, y_train)"
   ]
  },
  {
   "cell_type": "code",
   "execution_count": 0,
   "metadata": {
    "colab": {
     "base_uri": "https://localhost:8080/",
     "height": 34
    },
    "colab_type": "code",
    "id": "Fe3o2kqE7j7Z",
    "outputId": "3ba72469-686c-4f75-bd4f-77c58caea783"
   },
   "outputs": [
    {
     "data": {
      "text/plain": [
       "{'max_depth': 50, 'max_features': 2, 'n_estimators': 750}"
      ]
     },
     "execution_count": 87,
     "metadata": {
      "tags": []
     },
     "output_type": "execute_result"
    }
   ],
   "source": [
    "grid_search_rdf1.best_params_"
   ]
  },
  {
   "cell_type": "markdown",
   "metadata": {
    "colab_type": "text",
    "id": "ROeUfkkH7rYQ"
   },
   "source": [
    "#### Grid Search 2\n",
    "\n",
    "Grid Search picked up the max number of n_estimators and and min number of max_features. Retune centered around these variables. \n",
    "\n",
    "    n_estimators: [700, 750, 800]  \n",
    "    max_features: 2\n",
    "    max_depth: [40, 50, 60]"
   ]
  },
  {
   "cell_type": "code",
   "execution_count": 0,
   "metadata": {
    "colab": {
     "base_uri": "https://localhost:8080/",
     "height": 309
    },
    "colab_type": "code",
    "id": "RYrzEyN57qoP",
    "outputId": "26eef160-8d0c-483a-e6a9-167136065892"
   },
   "outputs": [
    {
     "name": "stdout",
     "output_type": "stream",
     "text": [
      "Fitting 5 folds for each of 9 candidates, totalling 45 fits\n"
     ]
    },
    {
     "name": "stderr",
     "output_type": "stream",
     "text": [
      "[Parallel(n_jobs=-1)]: Using backend LokyBackend with 2 concurrent workers.\n",
      "[Parallel(n_jobs=-1)]: Done  45 out of  45 | elapsed:   58.0s finished\n",
      "/usr/local/lib/python3.6/dist-packages/sklearn/model_selection/_search.py:841: DeprecationWarning: The default of the `iid` parameter will change from True to False in version 0.22 and will be removed in 0.24. This will change numeric results when test-set sizes are unequal.\n",
      "  DeprecationWarning)\n"
     ]
    },
    {
     "data": {
      "text/plain": [
       "GridSearchCV(cv=5, error_score='raise-deprecating',\n",
       "       estimator=RandomForestClassifier(bootstrap=True, class_weight=None, criterion='gini',\n",
       "            max_depth=None, max_features=2, max_leaf_nodes=None,\n",
       "            min_impurity_decrease=0.0, min_impurity_split=None,\n",
       "            min_samples_leaf=1, min_samples_split=2,\n",
       "            min_weight_fraction_leaf=0.0, n_estimators='warn', n_jobs=None,\n",
       "            oob_score=False, random_state=42, verbose=0, warm_start=False),\n",
       "       fit_params=None, iid='warn', n_jobs=-1,\n",
       "       param_grid={'n_estimators': [700, 750, 800], 'max_depth': [40, 50, 60]},\n",
       "       pre_dispatch='2*n_jobs', refit=True, return_train_score='warn',\n",
       "       scoring=None, verbose=1)"
      ]
     },
     "execution_count": 88,
     "metadata": {
      "tags": []
     },
     "output_type": "execute_result"
    }
   ],
   "source": [
    "param_grid_rdf2 = {\n",
    "   'n_estimators': [700, 750, 800],\n",
    "   'max_depth': [40, 50, 60]\n",
    "}\n",
    "\n",
    "rdf2 = RandomForestClassifier(random_state=42, max_features=2)\n",
    "grid_search_rdf2 = GridSearchCV(rdf2, param_grid_rdf2, cv=5, refit=True, n_jobs=-1, verbose=1)\n",
    "grid_search_rdf2.fit(X_train_scaled, y_train)"
   ]
  },
  {
   "cell_type": "code",
   "execution_count": 0,
   "metadata": {
    "colab": {
     "base_uri": "https://localhost:8080/",
     "height": 34
    },
    "colab_type": "code",
    "id": "pDZQC_Am74oR",
    "outputId": "b0dc887a-b950-40f8-bf86-d6a372f3c262"
   },
   "outputs": [
    {
     "data": {
      "text/plain": [
       "{'max_depth': 40, 'n_estimators': 800}"
      ]
     },
     "execution_count": 89,
     "metadata": {
      "tags": []
     },
     "output_type": "execute_result"
    }
   ],
   "source": [
    "grid_search_rdf2.best_params_"
   ]
  },
  {
   "cell_type": "markdown",
   "metadata": {
    "colab_type": "text",
    "id": "nmO9afdl8wWe"
   },
   "source": [
    "I don't think a third round of training is needed. These parameters are just going to memorize the training data anyway."
   ]
  },
  {
   "cell_type": "markdown",
   "metadata": {
    "colab_type": "text",
    "id": "WDH6rgJm78GQ"
   },
   "source": [
    "#### Predictions 1"
   ]
  },
  {
   "cell_type": "code",
   "execution_count": 0,
   "metadata": {
    "colab": {},
    "colab_type": "code",
    "id": "5aLNSm7C9pxA"
   },
   "outputs": [],
   "source": [
    "y_train_pred_rdf = grid_search_rdf2.predict(X_train_scaled)\n",
    "y_test_pred_rdf = grid_search_rdf2.predict(X_test_scaled)"
   ]
  },
  {
   "cell_type": "code",
   "execution_count": 0,
   "metadata": {
    "colab": {
     "base_uri": "https://localhost:8080/",
     "height": 921
    },
    "colab_type": "code",
    "id": "RXyG8Z4C-H1E",
    "outputId": "b2f5e85c-b56d-40d2-c786-eb6b9af995d7"
   },
   "outputs": [
    {
     "name": "stdout",
     "output_type": "stream",
     "text": [
      "Unbalanced RandomForest Train Accuracy Score: 1.0\n",
      "\n",
      "Unbalanced RandomForest Train Confusion Matrix\n",
      "[[  9   0   0   0   0   0]\n",
      " [  0  43   0   0   0   0]\n",
      " [  0   0 551   0   0   0]\n",
      " [  0   0   0 506   0   0]\n",
      " [  0   0   0   0 157   0]\n",
      " [  0   0   0   0   0  13]]\n",
      "\n",
      "Unbalanced RandomForest Train Classification Report\n",
      "              precision    recall  f1-score   support\n",
      "\n",
      "           3       1.00      1.00      1.00         9\n",
      "           4       1.00      1.00      1.00        43\n",
      "           5       1.00      1.00      1.00       551\n",
      "           6       1.00      1.00      1.00       506\n",
      "           7       1.00      1.00      1.00       157\n",
      "           8       1.00      1.00      1.00        13\n",
      "\n",
      "   micro avg       1.00      1.00      1.00      1279\n",
      "   macro avg       1.00      1.00      1.00      1279\n",
      "weighted avg       1.00      1.00      1.00      1279\n",
      "\n",
      "-----------------------------------------------------\n",
      "\n",
      "Unbalanced RandomForest Test Accuracy Score: 0.671875\n",
      "\n",
      "Unbalanced RandomForest Test Confusion Matrix\n",
      "[[  0   0   1   0   0   0]\n",
      " [  0   0   6   4   0   0]\n",
      " [  0   0 100  29   1   0]\n",
      " [  0   0  33  93   6   0]\n",
      " [  0   0   0  19  22   1]\n",
      " [  0   0   0   1   4   0]]\n",
      "\n",
      "Unbalanced RandomForest Test Classification Report\n",
      "              precision    recall  f1-score   support\n",
      "\n",
      "           3       0.00      0.00      0.00         1\n",
      "           4       0.00      0.00      0.00        10\n",
      "           5       0.71      0.77      0.74       130\n",
      "           6       0.64      0.70      0.67       132\n",
      "           7       0.67      0.52      0.59        42\n",
      "           8       0.00      0.00      0.00         5\n",
      "\n",
      "   micro avg       0.67      0.67      0.67       320\n",
      "   macro avg       0.34      0.33      0.33       320\n",
      "weighted avg       0.64      0.67      0.65       320\n",
      "\n"
     ]
    },
    {
     "name": "stderr",
     "output_type": "stream",
     "text": [
      "/usr/local/lib/python3.6/dist-packages/sklearn/metrics/classification.py:1143: UndefinedMetricWarning: Precision and F-score are ill-defined and being set to 0.0 in labels with no predicted samples.\n",
      "  'precision', 'predicted', average, warn_for)\n"
     ]
    }
   ],
   "source": [
    "reports(\"Unbalanced RandomForest\",\n",
    "    X_train_scaled, X_test_scaled, \n",
    "    y_train, y_train_pred_rdf, \n",
    "    y_test, y_test_pred_rdf)"
   ]
  },
  {
   "cell_type": "markdown",
   "metadata": {
    "colab_type": "text",
    "id": "MS2RkQpM9PeX"
   },
   "source": [
    "Wow that is a nastily overfit tree. The model just memorized the training data! Still, it did better on the test set than any other model run so far, so maybe dramatic overfitting isn't that terrible of an idea.\n",
    "\n",
    "However it's probably a good idea to limit the depth and try again."
   ]
  },
  {
   "cell_type": "markdown",
   "metadata": {
    "colab_type": "text",
    "id": "21gzPhcB9fw6"
   },
   "source": [
    "#### Grid Search 3\n",
    "\n",
    "Doing a third round of tuning after all, this time with a limited number of estimators and no depth pruning."
   ]
  },
  {
   "cell_type": "code",
   "execution_count": 0,
   "metadata": {
    "colab": {
     "base_uri": "https://localhost:8080/",
     "height": 326
    },
    "colab_type": "code",
    "id": "T0-i1rA_9n2d",
    "outputId": "4f7d2354-af72-493e-f771-e0d6b8cc7c92"
   },
   "outputs": [
    {
     "name": "stdout",
     "output_type": "stream",
     "text": [
      "Fitting 5 folds for each of 20 candidates, totalling 100 fits\n"
     ]
    },
    {
     "name": "stderr",
     "output_type": "stream",
     "text": [
      "[Parallel(n_jobs=-1)]: Using backend LokyBackend with 2 concurrent workers.\n",
      "[Parallel(n_jobs=-1)]: Done  46 tasks      | elapsed:   20.8s\n",
      "[Parallel(n_jobs=-1)]: Done 100 out of 100 | elapsed:   55.7s finished\n",
      "/usr/local/lib/python3.6/dist-packages/sklearn/model_selection/_search.py:841: DeprecationWarning: The default of the `iid` parameter will change from True to False in version 0.22 and will be removed in 0.24. This will change numeric results when test-set sizes are unequal.\n",
      "  DeprecationWarning)\n"
     ]
    },
    {
     "data": {
      "text/plain": [
       "GridSearchCV(cv=5, error_score='raise-deprecating',\n",
       "       estimator=RandomForestClassifier(bootstrap=True, class_weight=None, criterion='gini',\n",
       "            max_depth=None, max_features='auto', max_leaf_nodes=None,\n",
       "            min_impurity_decrease=0.0, min_impurity_split=None,\n",
       "            min_samples_leaf=1, min_samples_split=2,\n",
       "            min_weight_fraction_leaf=0.0, n_estimators='warn', n_jobs=None,\n",
       "            oob_score=False, random_state=42, verbose=0, warm_start=False),\n",
       "       fit_params=None, iid='warn', n_jobs=-1,\n",
       "       param_grid={'n_estimators': [100, 200, 300, 400, 500], 'max_features': [1, 2, 3, 4]},\n",
       "       pre_dispatch='2*n_jobs', refit=True, return_train_score='warn',\n",
       "       scoring=None, verbose=1)"
      ]
     },
     "execution_count": 92,
     "metadata": {
      "tags": []
     },
     "output_type": "execute_result"
    }
   ],
   "source": [
    "param_grid_rdf3 = {\n",
    "    'n_estimators': [100, 200, 300, 400, 500],\n",
    "    'max_features': [1, 2, 3, 4]\n",
    "}\n",
    "\n",
    "rdf3 = RandomForestClassifier(random_state=42)\n",
    "grid_search_rdf3 = GridSearchCV(rdf3, param_grid_rdf3, cv=5, refit=True, n_jobs=-1, verbose=1)\n",
    "grid_search_rdf3.fit(X_train_scaled, y_train)"
   ]
  },
  {
   "cell_type": "code",
   "execution_count": 0,
   "metadata": {
    "colab": {
     "base_uri": "https://localhost:8080/",
     "height": 34
    },
    "colab_type": "code",
    "id": "_xgJQgAM90av",
    "outputId": "916aa7e1-4697-41f2-d0ed-51fa3dd526d5"
   },
   "outputs": [
    {
     "data": {
      "text/plain": [
       "{'max_features': 1, 'n_estimators': 400}"
      ]
     },
     "execution_count": 93,
     "metadata": {
      "tags": []
     },
     "output_type": "execute_result"
    }
   ],
   "source": [
    "grid_search_rdf3.best_params_"
   ]
  },
  {
   "cell_type": "code",
   "execution_count": 0,
   "metadata": {
    "colab": {},
    "colab_type": "code",
    "id": "-QG-8ffM_NL2"
   },
   "outputs": [],
   "source": [
    "y_train_pred_rdf = grid_search_rdf3.predict(X_train_scaled)\n",
    "y_test_pred_rdf = grid_search_rdf3.predict(X_test_scaled)"
   ]
  },
  {
   "cell_type": "code",
   "execution_count": 0,
   "metadata": {
    "colab": {
     "base_uri": "https://localhost:8080/",
     "height": 921
    },
    "colab_type": "code",
    "id": "nctG_FOG_PUU",
    "outputId": "5fa98018-ef6f-4813-f675-b0ce56bc2516"
   },
   "outputs": [
    {
     "name": "stdout",
     "output_type": "stream",
     "text": [
      "Unbalanced RandomForest Train Accuracy Score: 1.0\n",
      "\n",
      "Unbalanced RandomForest Train Confusion Matrix\n",
      "[[  9   0   0   0   0   0]\n",
      " [  0  43   0   0   0   0]\n",
      " [  0   0 551   0   0   0]\n",
      " [  0   0   0 506   0   0]\n",
      " [  0   0   0   0 157   0]\n",
      " [  0   0   0   0   0  13]]\n",
      "\n",
      "Unbalanced RandomForest Train Classification Report\n",
      "              precision    recall  f1-score   support\n",
      "\n",
      "           3       1.00      1.00      1.00         9\n",
      "           4       1.00      1.00      1.00        43\n",
      "           5       1.00      1.00      1.00       551\n",
      "           6       1.00      1.00      1.00       506\n",
      "           7       1.00      1.00      1.00       157\n",
      "           8       1.00      1.00      1.00        13\n",
      "\n",
      "   micro avg       1.00      1.00      1.00      1279\n",
      "   macro avg       1.00      1.00      1.00      1279\n",
      "weighted avg       1.00      1.00      1.00      1279\n",
      "\n",
      "-----------------------------------------------------\n",
      "\n",
      "Unbalanced RandomForest Test Accuracy Score: 0.66875\n",
      "\n",
      "Unbalanced RandomForest Test Confusion Matrix\n",
      "[[  0   0   1   0   0   0]\n",
      " [  0   0   8   2   0   0]\n",
      " [  0   0 100  30   0   0]\n",
      " [  0   0  33  95   4   0]\n",
      " [  0   0   1  21  19   1]\n",
      " [  0   0   0   1   4   0]]\n",
      "\n",
      "Unbalanced RandomForest Test Classification Report\n",
      "              precision    recall  f1-score   support\n",
      "\n",
      "           3       0.00      0.00      0.00         1\n",
      "           4       0.00      0.00      0.00        10\n",
      "           5       0.70      0.77      0.73       130\n",
      "           6       0.64      0.72      0.68       132\n",
      "           7       0.70      0.45      0.55        42\n",
      "           8       0.00      0.00      0.00         5\n",
      "\n",
      "   micro avg       0.67      0.67      0.67       320\n",
      "   macro avg       0.34      0.32      0.33       320\n",
      "weighted avg       0.64      0.67      0.65       320\n",
      "\n"
     ]
    },
    {
     "name": "stderr",
     "output_type": "stream",
     "text": [
      "/usr/local/lib/python3.6/dist-packages/sklearn/metrics/classification.py:1143: UndefinedMetricWarning: Precision and F-score are ill-defined and being set to 0.0 in labels with no predicted samples.\n",
      "  'precision', 'predicted', average, warn_for)\n"
     ]
    }
   ],
   "source": [
    "reports(\"Unbalanced RandomForest\",\n",
    "    X_train_scaled, X_test_scaled, \n",
    "    y_train, y_train_pred_rdf, \n",
    "    y_test, y_test_pred_rdf)"
   ]
  },
  {
   "cell_type": "markdown",
   "metadata": {
    "colab_type": "text",
    "id": "nUQNOa7__vS8"
   },
   "source": [
    "Still way too much overfitting. It seems like GridSearch latches onto the highest number of estimators. Can we get something better with manual tuning?"
   ]
  },
  {
   "cell_type": "markdown",
   "metadata": {
    "colab_type": "text",
    "id": "2a8H32tH_rr5"
   },
   "source": [
    "#### Manual Tuning"
   ]
  },
  {
   "cell_type": "code",
   "execution_count": 0,
   "metadata": {
    "colab": {
     "base_uri": "https://localhost:8080/",
     "height": 921
    },
    "colab_type": "code",
    "id": "z2kd5VP2_jIg",
    "outputId": "35b0846f-9d18-4055-dea5-eeb9b14317df"
   },
   "outputs": [
    {
     "name": "stdout",
     "output_type": "stream",
     "text": [
      "Unbalanced RandomForest Train Accuracy Score: 0.8889757623143081\n",
      "\n",
      "Unbalanced RandomForest Train Confusion Matrix\n",
      "[[  0   2   6   1   0   0]\n",
      " [  0  37   5   1   0   0]\n",
      " [  0   2 519  27   3   0]\n",
      " [  0   2  43 452   9   0]\n",
      " [  0   0   6  22 129   0]\n",
      " [  0   0   0   8   5   0]]\n",
      "\n",
      "Unbalanced RandomForest Train Classification Report\n",
      "              precision    recall  f1-score   support\n",
      "\n",
      "           3       0.00      0.00      0.00         9\n",
      "           4       0.86      0.86      0.86        43\n",
      "           5       0.90      0.94      0.92       551\n",
      "           6       0.88      0.89      0.89       506\n",
      "           7       0.88      0.82      0.85       157\n",
      "           8       0.00      0.00      0.00        13\n",
      "\n",
      "   micro avg       0.89      0.89      0.89      1279\n",
      "   macro avg       0.59      0.59      0.59      1279\n",
      "weighted avg       0.87      0.89      0.88      1279\n",
      "\n",
      "-----------------------------------------------------\n",
      "\n",
      "Unbalanced RandomForest Test Accuracy Score: 0.871875\n",
      "\n",
      "Unbalanced RandomForest Test Confusion Matrix\n",
      "[[  0   1   0   0   0   0]\n",
      " [  0   7   3   0   0   0]\n",
      " [  0   1 119  10   0   0]\n",
      " [  0   0  14 116   2   0]\n",
      " [  0   0   0   5  37   0]\n",
      " [  0   0   0   0   5   0]]\n",
      "\n",
      "Unbalanced RandomForest Test Classification Report\n",
      "              precision    recall  f1-score   support\n",
      "\n",
      "           3       0.00      0.00      0.00         1\n",
      "           4       0.78      0.70      0.74        10\n",
      "           5       0.88      0.92      0.89       130\n",
      "           6       0.89      0.88      0.88       132\n",
      "           7       0.84      0.88      0.86        42\n",
      "           8       0.00      0.00      0.00         5\n",
      "\n",
      "   micro avg       0.87      0.87      0.87       320\n",
      "   macro avg       0.56      0.56      0.56       320\n",
      "weighted avg       0.86      0.87      0.86       320\n",
      "\n"
     ]
    },
    {
     "name": "stderr",
     "output_type": "stream",
     "text": [
      "/usr/local/lib/python3.6/dist-packages/sklearn/metrics/classification.py:1143: UndefinedMetricWarning: Precision and F-score are ill-defined and being set to 0.0 in labels with no predicted samples.\n",
      "  'precision', 'predicted', average, warn_for)\n"
     ]
    }
   ],
   "source": [
    "rdf = RandomForestClassifier(random_state=42, n_estimators=100, max_features=2, max_depth=10)\n",
    "rdf.fit(X_train_bal_scaled, y_train_bal)\n",
    "\n",
    "y_train_pred_rdf = rdf.predict(X_train_scaled)\n",
    "y_test_pred_rdf = rdf.predict(X_test_scaled)\n",
    "\n",
    "reports(\"Unbalanced RandomForest\",\n",
    "    X_train_scaled, X_test_scaled, \n",
    "    y_train, y_train_pred_rdf,\n",
    "    y_test, y_test_pred_rdf)"
   ]
  },
  {
   "cell_type": "markdown",
   "metadata": {
    "colab_type": "text",
    "id": "EnJYaClxAXnP"
   },
   "source": [
    "WOW! So much better on the overfitting and a boosted accuracy score."
   ]
  },
  {
   "cell_type": "code",
   "execution_count": 0,
   "metadata": {
    "colab": {},
    "colab_type": "code",
    "id": "BzyoonE5NK4J"
   },
   "outputs": [],
   "source": [
    "models['RDF'] = {\n",
    "    'unbalanced': {\n",
    "      'model': rdf,\n",
    "      'params': {'n_estimators':100, 'max_features':2},\n",
    "      'accuracy': {\n",
    "          'train': (y_train == y_train_pred_rdf).mean(),\n",
    "          'test': (y_test == y_test_pred_rdf).mean()\n",
    "      }\n",
    "    }\n",
    "}"
   ]
  },
  {
   "cell_type": "markdown",
   "metadata": {
    "colab_type": "text",
    "id": "WEJCh2rU8GpU"
   },
   "source": [
    "#### Feature Importance"
   ]
  },
  {
   "cell_type": "code",
   "execution_count": 0,
   "metadata": {
    "colab": {
     "base_uri": "https://localhost:8080/",
     "height": 390
    },
    "colab_type": "code",
    "id": "4DLuCRm9ArmH",
    "outputId": "74cdd376-d8da-4459-de46-a85afa9886a4"
   },
   "outputs": [
    {
     "data": {
      "text/html": [
       "<div>\n",
       "<style scoped>\n",
       "    .dataframe tbody tr th:only-of-type {\n",
       "        vertical-align: middle;\n",
       "    }\n",
       "\n",
       "    .dataframe tbody tr th {\n",
       "        vertical-align: top;\n",
       "    }\n",
       "\n",
       "    .dataframe thead th {\n",
       "        text-align: right;\n",
       "    }\n",
       "</style>\n",
       "<table border=\"1\" class=\"dataframe\">\n",
       "  <thead>\n",
       "    <tr style=\"text-align: right;\">\n",
       "      <th></th>\n",
       "      <th>feature</th>\n",
       "      <th>importance</th>\n",
       "    </tr>\n",
       "  </thead>\n",
       "  <tbody>\n",
       "    <tr>\n",
       "      <th>10</th>\n",
       "      <td>alcohol</td>\n",
       "      <td>0.147349</td>\n",
       "    </tr>\n",
       "    <tr>\n",
       "      <th>6</th>\n",
       "      <td>total sulfur dioxide</td>\n",
       "      <td>0.114992</td>\n",
       "    </tr>\n",
       "    <tr>\n",
       "      <th>9</th>\n",
       "      <td>sulphates</td>\n",
       "      <td>0.110124</td>\n",
       "    </tr>\n",
       "    <tr>\n",
       "      <th>1</th>\n",
       "      <td>volatile acidity</td>\n",
       "      <td>0.108191</td>\n",
       "    </tr>\n",
       "    <tr>\n",
       "      <th>7</th>\n",
       "      <td>density</td>\n",
       "      <td>0.087873</td>\n",
       "    </tr>\n",
       "    <tr>\n",
       "      <th>0</th>\n",
       "      <td>fixed acidity</td>\n",
       "      <td>0.076790</td>\n",
       "    </tr>\n",
       "    <tr>\n",
       "      <th>5</th>\n",
       "      <td>free sulfur dioxide</td>\n",
       "      <td>0.074832</td>\n",
       "    </tr>\n",
       "    <tr>\n",
       "      <th>2</th>\n",
       "      <td>citric acid</td>\n",
       "      <td>0.071463</td>\n",
       "    </tr>\n",
       "    <tr>\n",
       "      <th>4</th>\n",
       "      <td>chlorides</td>\n",
       "      <td>0.070946</td>\n",
       "    </tr>\n",
       "    <tr>\n",
       "      <th>8</th>\n",
       "      <td>pH</td>\n",
       "      <td>0.069608</td>\n",
       "    </tr>\n",
       "    <tr>\n",
       "      <th>3</th>\n",
       "      <td>residual sugar</td>\n",
       "      <td>0.067831</td>\n",
       "    </tr>\n",
       "  </tbody>\n",
       "</table>\n",
       "</div>"
      ],
      "text/plain": [
       "                 feature  importance\n",
       "10               alcohol    0.147349\n",
       "6   total sulfur dioxide    0.114992\n",
       "9              sulphates    0.110124\n",
       "1       volatile acidity    0.108191\n",
       "7                density    0.087873\n",
       "0          fixed acidity    0.076790\n",
       "5    free sulfur dioxide    0.074832\n",
       "2            citric acid    0.071463\n",
       "4              chlorides    0.070946\n",
       "8                     pH    0.069608\n",
       "3         residual sugar    0.067831"
      ]
     },
     "execution_count": 98,
     "metadata": {
      "tags": []
     },
     "output_type": "execute_result"
    }
   ],
   "source": [
    "importances = rdf.feature_importances_\n",
    "fi_rdf = pd.DataFrame(\n",
    "    data={'importance': pd.Series(importances), \n",
    "          'feature': X.columns\n",
    "         }\n",
    ").sort_values('importance', ascending=False)\n",
    "fi_rdf"
   ]
  },
  {
   "cell_type": "code",
   "execution_count": 0,
   "metadata": {
    "colab": {
     "base_uri": "https://localhost:8080/",
     "height": 592
    },
    "colab_type": "code",
    "id": "pDP9MR-RA4WJ",
    "outputId": "fe2cbcaf-e955-4a46-c581-2cc33daffa7b"
   },
   "outputs": [
    {
     "data": {
      "text/plain": [
       "Text(0,0.5,'Importance')"
      ]
     },
     "execution_count": 119,
     "metadata": {
      "tags": []
     },
     "output_type": "execute_result"
    },
    {
     "data": {
      "image/png": "[encoded data removed]",
      "text/plain": [
       "<matplotlib.figure.Figure at 0x7fa6685865c0>"
      ]
     },
     "metadata": {
      "tags": []
     },
     "output_type": "display_data"
    }
   ],
   "source": [
    "plt.rc('axes', titlesize=MEDIUM_SIZE)\n",
    "fig, ax = plt.subplots(figsize=(16, 7))\n",
    "fi_rdf.plot.bar(x='feature', y='importance', ax=ax, color='tab:blue')\n",
    "ax.set_title('Feature Importance: Unbalanced RandomForest')\n",
    "ax.set_ylabel('Importance')"
   ]
  },
  {
   "cell_type": "markdown",
   "metadata": {
    "colab_type": "text",
    "id": "gdbMG8hV9neO"
   },
   "source": [
    "### Balanced \n",
    "\n",
    "With eyes wide open, let's dig into the hyper-parameters of the balanced dataset. Now we know that GridSearch will probably want to memorize the training data, we'll check the overfitting after each iteration and probably manually tune in the end."
   ]
  },
  {
   "cell_type": "markdown",
   "metadata": {
    "colab_type": "text",
    "id": "TRwbdwQUCKLN"
   },
   "source": [
    "#### Grid Search"
   ]
  },
  {
   "cell_type": "code",
   "execution_count": 0,
   "metadata": {
    "colab": {
     "base_uri": "https://localhost:8080/",
     "height": 255
    },
    "colab_type": "code",
    "id": "sar7CB2XCOE3",
    "outputId": "c0be46bc-2437-403f-97ad-f553966fc69f"
   },
   "outputs": [
    {
     "name": "stdout",
     "output_type": "stream",
     "text": [
      "Fitting 5 folds for each of 9 candidates, totalling 45 fits\n"
     ]
    },
    {
     "name": "stderr",
     "output_type": "stream",
     "text": [
      "[Parallel(n_jobs=-1)]: Using backend LokyBackend with 2 concurrent workers.\n",
      "[Parallel(n_jobs=-1)]: Done  45 out of  45 | elapsed:  1.6min finished\n"
     ]
    },
    {
     "data": {
      "text/plain": [
       "GridSearchCV(cv=5, error_score='raise-deprecating',\n",
       "       estimator=RandomForestClassifier(bootstrap=True, class_weight=None, criterion='gini',\n",
       "            max_depth=None, max_features='auto', max_leaf_nodes=None,\n",
       "            min_impurity_decrease=0.0, min_impurity_split=None,\n",
       "            min_samples_leaf=1, min_samples_split=2,\n",
       "            min_weight_fraction_leaf=0.0, n_estimators='warn', n_jobs=None,\n",
       "            oob_score=False, random_state=42, verbose=0, warm_start=False),\n",
       "       fit_params=None, iid='warn', n_jobs=-1,\n",
       "       param_grid={'n_estimators': [500, 750, 1000], 'max_features': [2, 4, 6]},\n",
       "       pre_dispatch='2*n_jobs', refit=True, return_train_score='warn',\n",
       "       scoring=None, verbose=1)"
      ]
     },
     "execution_count": 100,
     "metadata": {
      "tags": []
     },
     "output_type": "execute_result"
    }
   ],
   "source": [
    "param_grid_rdf1 = {\n",
    "    'n_estimators': [500, 750, 1000],\n",
    "    'max_features': [2, 4, 6]\n",
    "}\n",
    "\n",
    "rdf_bal = RandomForestClassifier(random_state=42)\n",
    "grid_rdf_bal = GridSearchCV(rdf_bal, param_grid_rdf1, cv=5, refit=True, n_jobs=-1, verbose=1)\n",
    "grid_rdf_bal.fit(X_train_bal_scaled, y_train_bal)"
   ]
  },
  {
   "cell_type": "code",
   "execution_count": 0,
   "metadata": {
    "colab": {
     "base_uri": "https://localhost:8080/",
     "height": 34
    },
    "colab_type": "code",
    "id": "qtfHcleACs5I",
    "outputId": "97867e28-4023-49f3-c182-b8ceeebf24b2"
   },
   "outputs": [
    {
     "data": {
      "text/plain": [
       "{'max_features': 4, 'n_estimators': 1000}"
      ]
     },
     "execution_count": 101,
     "metadata": {
      "tags": []
     },
     "output_type": "execute_result"
    }
   ],
   "source": [
    "grid_rdf_bal.best_params_"
   ]
  },
  {
   "cell_type": "code",
   "execution_count": 0,
   "metadata": {
    "colab": {
     "base_uri": "https://localhost:8080/",
     "height": 853
    },
    "colab_type": "code",
    "id": "NHwGmk3FCYAW",
    "outputId": "b13d45f7-1e6c-4629-8a36-974ca1bc1790"
   },
   "outputs": [
    {
     "name": "stdout",
     "output_type": "stream",
     "text": [
      "Balanced RandomForest Train Accuracy Score: 1.0\n",
      "\n",
      "Balanced RandomForest Train Confusion Matrix\n",
      "[[277   0   0   0]\n",
      " [  0 554   0   0]\n",
      " [  0   0 509   0]\n",
      " [  0   0   0 277]]\n",
      "\n",
      "Balanced RandomForest Train Classification Report\n",
      "              precision    recall  f1-score   support\n",
      "\n",
      "           4       1.00      1.00      1.00       277\n",
      "           5       1.00      1.00      1.00       554\n",
      "           6       1.00      1.00      1.00       509\n",
      "           7       1.00      1.00      1.00       277\n",
      "\n",
      "   micro avg       1.00      1.00      1.00      1617\n",
      "   macro avg       1.00      1.00      1.00      1617\n",
      "weighted avg       1.00      1.00      1.00      1617\n",
      "\n",
      "-----------------------------------------------------\n",
      "\n",
      "Balanced RandomForest Test Accuracy Score: 0.896875\n",
      "\n",
      "Balanced RandomForest Test Confusion Matrix\n",
      "[[  0   1   0   0   0   0]\n",
      " [  0   7   3   0   0   0]\n",
      " [  0   1 122   7   0   0]\n",
      " [  0   0  11 119   2   0]\n",
      " [  0   0   0   3  39   0]\n",
      " [  0   0   0   1   4   0]]\n",
      "\n",
      "Balanced RandomForest Test Classification Report\n",
      "              precision    recall  f1-score   support\n",
      "\n",
      "           3       0.00      0.00      0.00         1\n",
      "           4       0.78      0.70      0.74        10\n",
      "           5       0.90      0.94      0.92       130\n",
      "           6       0.92      0.90      0.91       132\n",
      "           7       0.87      0.93      0.90        42\n",
      "           8       0.00      0.00      0.00         5\n",
      "\n",
      "   micro avg       0.90      0.90      0.90       320\n",
      "   macro avg       0.58      0.58      0.58       320\n",
      "weighted avg       0.88      0.90      0.89       320\n",
      "\n"
     ]
    },
    {
     "name": "stderr",
     "output_type": "stream",
     "text": [
      "/usr/local/lib/python3.6/dist-packages/sklearn/metrics/classification.py:1143: UndefinedMetricWarning: Precision and F-score are ill-defined and being set to 0.0 in labels with no predicted samples.\n",
      "  'precision', 'predicted', average, warn_for)\n"
     ]
    }
   ],
   "source": [
    "y_train_bal_pred_rdf = grid_rdf_bal.predict(X_train_bal_scaled)\n",
    "y_test_bal_pred_rdf = grid_rdf_bal.predict(X_test_bal_scaled)\n",
    "\n",
    "reports(\"Balanced RandomForest\",\n",
    "    X_train_bal_scaled, X_test_bal_scaled, \n",
    "    y_train_bal, y_train_bal_pred_rdf, \n",
    "    y_test, y_test_bal_pred_rdf)"
   ]
  },
  {
   "cell_type": "markdown",
   "metadata": {
    "colab_type": "text",
    "id": "vDozxVVcE6mZ"
   },
   "source": [
    "#### Manual Tuning\n",
    "\n",
    "The overfitting in Grid Search 1 isn't that dramatic. The training data was memorized sure but the test accuracy is quite high. Keeping max_features the same and manually tuning the etimators to reduce overfitting is the next step.\n",
    "\n",
    "Here we fiddled with the number of estimators until we introduced at least some error into the training classification report."
   ]
  },
  {
   "cell_type": "code",
   "execution_count": 0,
   "metadata": {
    "colab": {
     "base_uri": "https://localhost:8080/",
     "height": 853
    },
    "colab_type": "code",
    "id": "nMmOcrhUFY5g",
    "outputId": "486be9e0-762e-405a-d188-4277d6c979b5"
   },
   "outputs": [
    {
     "name": "stdout",
     "output_type": "stream",
     "text": [
      "Balanced RandomForest Train Accuracy Score: 0.9981447124304267\n",
      "\n",
      "Balanced RandomForest Train Confusion Matrix\n",
      "[[277   0   0   0]\n",
      " [  0 553   1   0]\n",
      " [  0   2 507   0]\n",
      " [  0   0   0 277]]\n",
      "\n",
      "Balanced RandomForest Train Classification Report\n",
      "              precision    recall  f1-score   support\n",
      "\n",
      "           4       1.00      1.00      1.00       277\n",
      "           5       1.00      1.00      1.00       554\n",
      "           6       1.00      1.00      1.00       509\n",
      "           7       1.00      1.00      1.00       277\n",
      "\n",
      "   micro avg       1.00      1.00      1.00      1617\n",
      "   macro avg       1.00      1.00      1.00      1617\n",
      "weighted avg       1.00      1.00      1.00      1617\n",
      "\n",
      "-----------------------------------------------------\n",
      "\n",
      "Balanced RandomForest Test Accuracy Score: 0.89375\n",
      "\n",
      "Balanced RandomForest Test Confusion Matrix\n",
      "[[  0   0   1   0   0   0]\n",
      " [  0   7   2   1   0   0]\n",
      " [  0   0 121   9   0   0]\n",
      " [  0   0  12 118   2   0]\n",
      " [  0   0   0   2  40   0]\n",
      " [  0   0   0   1   4   0]]\n",
      "\n",
      "Balanced RandomForest Test Classification Report\n",
      "              precision    recall  f1-score   support\n",
      "\n",
      "           3       0.00      0.00      0.00         1\n",
      "           4       1.00      0.70      0.82        10\n",
      "           5       0.89      0.93      0.91       130\n",
      "           6       0.90      0.89      0.90       132\n",
      "           7       0.87      0.95      0.91        42\n",
      "           8       0.00      0.00      0.00         5\n",
      "\n",
      "   micro avg       0.89      0.89      0.89       320\n",
      "   macro avg       0.61      0.58      0.59       320\n",
      "weighted avg       0.88      0.89      0.88       320\n",
      "\n"
     ]
    },
    {
     "name": "stderr",
     "output_type": "stream",
     "text": [
      "/usr/local/lib/python3.6/dist-packages/sklearn/metrics/classification.py:1143: UndefinedMetricWarning: Precision and F-score are ill-defined and being set to 0.0 in labels with no predicted samples.\n",
      "  'precision', 'predicted', average, warn_for)\n"
     ]
    }
   ],
   "source": [
    "rdf_bal = RandomForestClassifier(random_state=42, n_estimators=20, max_features=4)\n",
    "rdf_bal.fit(X_train_bal_scaled, y_train_bal)\n",
    "\n",
    "y_train_bal_pred_rdf = rdf_bal.predict(X_train_bal_scaled)\n",
    "y_test_bal_pred_rdf = rdf_bal.predict(X_test_bal_scaled)\n",
    "\n",
    "reports(\"Balanced RandomForest\",\n",
    "    X_train_bal_scaled, X_test_bal_scaled, \n",
    "    y_train_bal, y_train_bal_pred_rdf, \n",
    "    y_test, y_test_bal_pred_rdf)"
   ]
  },
  {
   "cell_type": "code",
   "execution_count": 0,
   "metadata": {
    "colab": {},
    "colab_type": "code",
    "id": "pqrdxcRmN2i3"
   },
   "outputs": [],
   "source": [
    "models['RDF']['balanced'] = {\n",
    "    'model': rdf_bal,\n",
    "    'params': {'n_estimators':20, 'max_features':4},\n",
    "    'accuracy': {\n",
    "        'train': (y_train_bal == y_train_bal_pred_rdf).mean(),\n",
    "        'test': (y_test == y_test_bal_pred_rdf).mean()\n",
    "    }\n",
    "}"
   ]
  },
  {
   "cell_type": "markdown",
   "metadata": {
    "colab_type": "text",
    "id": "b33TpUsDGKP-"
   },
   "source": [
    "#### Feature Importance"
   ]
  },
  {
   "cell_type": "code",
   "execution_count": 0,
   "metadata": {
    "colab": {
     "base_uri": "https://localhost:8080/",
     "height": 390
    },
    "colab_type": "code",
    "id": "4lW4dH-tGMqC",
    "outputId": "e158651e-15d1-4ff8-8dc5-9907b4e74d51"
   },
   "outputs": [
    {
     "data": {
      "text/html": [
       "<div>\n",
       "<style scoped>\n",
       "    .dataframe tbody tr th:only-of-type {\n",
       "        vertical-align: middle;\n",
       "    }\n",
       "\n",
       "    .dataframe tbody tr th {\n",
       "        vertical-align: top;\n",
       "    }\n",
       "\n",
       "    .dataframe thead th {\n",
       "        text-align: right;\n",
       "    }\n",
       "</style>\n",
       "<table border=\"1\" class=\"dataframe\">\n",
       "  <thead>\n",
       "    <tr style=\"text-align: right;\">\n",
       "      <th></th>\n",
       "      <th>feature</th>\n",
       "      <th>importance</th>\n",
       "    </tr>\n",
       "  </thead>\n",
       "  <tbody>\n",
       "    <tr>\n",
       "      <th>10</th>\n",
       "      <td>alcohol</td>\n",
       "      <td>0.152120</td>\n",
       "    </tr>\n",
       "    <tr>\n",
       "      <th>9</th>\n",
       "      <td>sulphates</td>\n",
       "      <td>0.119329</td>\n",
       "    </tr>\n",
       "    <tr>\n",
       "      <th>1</th>\n",
       "      <td>volatile acidity</td>\n",
       "      <td>0.111910</td>\n",
       "    </tr>\n",
       "    <tr>\n",
       "      <th>6</th>\n",
       "      <td>total sulfur dioxide</td>\n",
       "      <td>0.110749</td>\n",
       "    </tr>\n",
       "    <tr>\n",
       "      <th>5</th>\n",
       "      <td>free sulfur dioxide</td>\n",
       "      <td>0.076514</td>\n",
       "    </tr>\n",
       "    <tr>\n",
       "      <th>7</th>\n",
       "      <td>density</td>\n",
       "      <td>0.076178</td>\n",
       "    </tr>\n",
       "    <tr>\n",
       "      <th>0</th>\n",
       "      <td>fixed acidity</td>\n",
       "      <td>0.074359</td>\n",
       "    </tr>\n",
       "    <tr>\n",
       "      <th>8</th>\n",
       "      <td>pH</td>\n",
       "      <td>0.072520</td>\n",
       "    </tr>\n",
       "    <tr>\n",
       "      <th>4</th>\n",
       "      <td>chlorides</td>\n",
       "      <td>0.072481</td>\n",
       "    </tr>\n",
       "    <tr>\n",
       "      <th>3</th>\n",
       "      <td>residual sugar</td>\n",
       "      <td>0.070744</td>\n",
       "    </tr>\n",
       "    <tr>\n",
       "      <th>2</th>\n",
       "      <td>citric acid</td>\n",
       "      <td>0.063094</td>\n",
       "    </tr>\n",
       "  </tbody>\n",
       "</table>\n",
       "</div>"
      ],
      "text/plain": [
       "                 feature  importance\n",
       "10               alcohol    0.152120\n",
       "9              sulphates    0.119329\n",
       "1       volatile acidity    0.111910\n",
       "6   total sulfur dioxide    0.110749\n",
       "5    free sulfur dioxide    0.076514\n",
       "7                density    0.076178\n",
       "0          fixed acidity    0.074359\n",
       "8                     pH    0.072520\n",
       "4              chlorides    0.072481\n",
       "3         residual sugar    0.070744\n",
       "2            citric acid    0.063094"
      ]
     },
     "execution_count": 105,
     "metadata": {
      "tags": []
     },
     "output_type": "execute_result"
    }
   ],
   "source": [
    "importances = rdf_bal.feature_importances_\n",
    "fi_rdf_bal = pd.DataFrame(\n",
    "    data={'importance': pd.Series(importances), \n",
    "          'feature': X.columns\n",
    "         }\n",
    ").sort_values('importance', ascending=False)\n",
    "fi_rdf_bal"
   ]
  },
  {
   "cell_type": "code",
   "execution_count": 0,
   "metadata": {
    "colab": {
     "base_uri": "https://localhost:8080/",
     "height": 518
    },
    "colab_type": "code",
    "id": "ugMKJhg8GTwA",
    "outputId": "271d4595-8b6c-419b-abf1-891ddef8245d"
   },
   "outputs": [
    {
     "data": {
      "text/plain": [
       "Text(0,0.5,'Importance')"
      ]
     },
     "execution_count": 106,
     "metadata": {
      "tags": []
     },
     "output_type": "execute_result"
    },
    {
     "data": {
      "image/png": "[encoded data removed]",
      "text/plain": [
       "<matplotlib.figure.Figure at 0x7fa668826d30>"
      ]
     },
     "metadata": {
      "tags": []
     },
     "output_type": "display_data"
    }
   ],
   "source": [
    "plt.rc('axes', titlesize=MEDIUM_SIZE)\n",
    "fig, ax = plt.subplots(figsize=(8, 6))\n",
    "fi_rdf_bal.plot.bar(x='feature', y='importance', ax=ax)\n",
    "ax.set_title('Feature Importance: Balanced RandomForest')\n",
    "ax.set_ylabel('Importance')"
   ]
  },
  {
   "cell_type": "markdown",
   "metadata": {
    "colab_type": "text",
    "id": "CRwz7M719rhQ"
   },
   "source": [
    "### Combined Classes \n",
    "\n",
    "At this point the drill is well established. Do one grid search to get the optimal number of max_features, then manually tune the number of estimators."
   ]
  },
  {
   "cell_type": "markdown",
   "metadata": {
    "colab_type": "text",
    "id": "9qG-2LIFGuM1"
   },
   "source": [
    "#### Grid Search"
   ]
  },
  {
   "cell_type": "code",
   "execution_count": 0,
   "metadata": {
    "colab": {
     "base_uri": "https://localhost:8080/",
     "height": 255
    },
    "colab_type": "code",
    "id": "glgxWFMnGy7S",
    "outputId": "0edeb692-7ded-4257-de5b-b00bca7c5908"
   },
   "outputs": [
    {
     "name": "stdout",
     "output_type": "stream",
     "text": [
      "Fitting 5 folds for each of 9 candidates, totalling 45 fits\n"
     ]
    },
    {
     "name": "stderr",
     "output_type": "stream",
     "text": [
      "[Parallel(n_jobs=-1)]: Using backend LokyBackend with 2 concurrent workers.\n",
      "[Parallel(n_jobs=-1)]: Done  45 out of  45 | elapsed:  1.1min finished\n"
     ]
    },
    {
     "data": {
      "text/plain": [
       "GridSearchCV(cv=5, error_score='raise-deprecating',\n",
       "       estimator=RandomForestClassifier(bootstrap=True, class_weight=None, criterion='gini',\n",
       "            max_depth=None, max_features='auto', max_leaf_nodes=None,\n",
       "            min_impurity_decrease=0.0, min_impurity_split=None,\n",
       "            min_samples_leaf=1, min_samples_split=2,\n",
       "            min_weight_fraction_leaf=0.0, n_estimators='warn', n_jobs=None,\n",
       "            oob_score=False, random_state=42, verbose=0, warm_start=False),\n",
       "       fit_params=None, iid='warn', n_jobs=-1,\n",
       "       param_grid={'n_estimators': [500, 750, 1000], 'max_features': [2, 4, 6]},\n",
       "       pre_dispatch='2*n_jobs', refit=True, return_train_score='warn',\n",
       "       scoring=None, verbose=1)"
      ]
     },
     "execution_count": 107,
     "metadata": {
      "tags": []
     },
     "output_type": "execute_result"
    }
   ],
   "source": [
    "param_grid_rdf = {\n",
    "    'n_estimators': [500, 750, 1000],\n",
    "    'max_features': [2, 4, 6]\n",
    "}\n",
    "\n",
    "rdf_bin = RandomForestClassifier(random_state=42)\n",
    "grid_rdf_bin = GridSearchCV(rdf_bin, param_grid_rdf, cv=5, refit=True, n_jobs=-1, verbose=1)\n",
    "grid_rdf_bin.fit(X_train_scaled, y_train_bin)"
   ]
  },
  {
   "cell_type": "code",
   "execution_count": 0,
   "metadata": {
    "colab": {
     "base_uri": "https://localhost:8080/",
     "height": 34
    },
    "colab_type": "code",
    "id": "JxxKrJuoHGuN",
    "outputId": "d9e141c2-1c62-4ade-82ce-8f6963e443a3"
   },
   "outputs": [
    {
     "data": {
      "text/plain": [
       "{'max_features': 2, 'n_estimators': 750}"
      ]
     },
     "execution_count": 108,
     "metadata": {
      "tags": []
     },
     "output_type": "execute_result"
    }
   ],
   "source": [
    "grid_rdf_bin.best_params_"
   ]
  },
  {
   "cell_type": "code",
   "execution_count": 0,
   "metadata": {
    "colab": {
     "base_uri": "https://localhost:8080/",
     "height": 595
    },
    "colab_type": "code",
    "id": "t1Wi6kdsHbXs",
    "outputId": "7c50ebec-9462-47f1-a4c1-3b65e90b9637"
   },
   "outputs": [
    {
     "name": "stdout",
     "output_type": "stream",
     "text": [
      "Combined RandomForest Train Accuracy Score: 1.0\n",
      "\n",
      "Combined RandomForest Train Confusion Matrix\n",
      "[[603   0]\n",
      " [  0 676]]\n",
      "\n",
      "Combined RandomForest Train Classification Report\n",
      "              precision    recall  f1-score   support\n",
      "\n",
      "       False       1.00      1.00      1.00       603\n",
      "        True       1.00      1.00      1.00       676\n",
      "\n",
      "   micro avg       1.00      1.00      1.00      1279\n",
      "   macro avg       1.00      1.00      1.00      1279\n",
      "weighted avg       1.00      1.00      1.00      1279\n",
      "\n",
      "-----------------------------------------------------\n",
      "\n",
      "Combined RandomForest Test Accuracy Score: 0.790625\n",
      "\n",
      "Combined RandomForest Test Confusion Matrix\n",
      "[[108  33]\n",
      " [ 34 145]]\n",
      "\n",
      "Combined RandomForest Test Classification Report\n",
      "              precision    recall  f1-score   support\n",
      "\n",
      "       False       0.76      0.77      0.76       141\n",
      "        True       0.81      0.81      0.81       179\n",
      "\n",
      "   micro avg       0.79      0.79      0.79       320\n",
      "   macro avg       0.79      0.79      0.79       320\n",
      "weighted avg       0.79      0.79      0.79       320\n",
      "\n"
     ]
    }
   ],
   "source": [
    "y_train_bin_pred_rdf = grid_rdf_bin.predict(X_train_scaled)\n",
    "y_test_bin_pred_rdf = grid_rdf_bin.predict(X_test_scaled)\n",
    "\n",
    "\n",
    "reports(\"Combined RandomForest\",\n",
    "    X_train_scaled, X_test_scaled, \n",
    "    y_train_bin, y_train_bin_pred_rdf, \n",
    "    y_test_bin, y_test_bin_pred_rdf)"
   ]
  },
  {
   "cell_type": "markdown",
   "metadata": {
    "colab_type": "text",
    "id": "8vHS8vJuHNBh"
   },
   "source": [
    "#### Manual Tuning\n",
    "\n",
    "Manually search for hyperparameters than introduce some error into the training classification."
   ]
  },
  {
   "cell_type": "code",
   "execution_count": 0,
   "metadata": {
    "colab": {
     "base_uri": "https://localhost:8080/",
     "height": 595
    },
    "colab_type": "code",
    "id": "SaHf4Mjs9vlB",
    "outputId": "350ef565-b757-48b2-c11e-a983168a89ae"
   },
   "outputs": [
    {
     "name": "stdout",
     "output_type": "stream",
     "text": [
      "Combined RandomForest Train Accuracy Score: 0.9937451133698202\n",
      "\n",
      "Combined RandomForest Train Confusion Matrix\n",
      "[[601   2]\n",
      " [  6 670]]\n",
      "\n",
      "Combined RandomForest Train Classification Report\n",
      "              precision    recall  f1-score   support\n",
      "\n",
      "       False       0.99      1.00      0.99       603\n",
      "        True       1.00      0.99      0.99       676\n",
      "\n",
      "   micro avg       0.99      0.99      0.99      1279\n",
      "   macro avg       0.99      0.99      0.99      1279\n",
      "weighted avg       0.99      0.99      0.99      1279\n",
      "\n",
      "-----------------------------------------------------\n",
      "\n",
      "Combined RandomForest Test Accuracy Score: 0.796875\n",
      "\n",
      "Combined RandomForest Test Confusion Matrix\n",
      "[[117  24]\n",
      " [ 41 138]]\n",
      "\n",
      "Combined RandomForest Test Classification Report\n",
      "              precision    recall  f1-score   support\n",
      "\n",
      "       False       0.74      0.83      0.78       141\n",
      "        True       0.85      0.77      0.81       179\n",
      "\n",
      "   micro avg       0.80      0.80      0.80       320\n",
      "   macro avg       0.80      0.80      0.80       320\n",
      "weighted avg       0.80      0.80      0.80       320\n",
      "\n"
     ]
    }
   ],
   "source": [
    "## Fit the model on the training sets\n",
    "rdf_bin = RandomForestClassifier(random_state=42, max_features=2, n_estimators=10)\n",
    "rdf_bin.fit(X_train_scaled, y_train_bin)\n",
    "\n",
    "y_train_bin_pred_rdf = rdf_bin.predict(X_train_scaled)\n",
    "y_test_bin_pred_rdf = rdf_bin.predict(X_test_scaled)\n",
    "\n",
    "# limit to probability for class = 1\n",
    "y_train_bin_pred_rdf_proba = rdf_bin.predict_proba(X_train_scaled)[:,1]\n",
    "y_test_bin_pred_rdf_proba = rdf_bin.predict_proba(X_test_scaled)[:,1]\n",
    "\n",
    "reports(\"Combined RandomForest\",\n",
    "    X_train_scaled, X_test_scaled, \n",
    "    y_train_bin, y_train_bin_pred_rdf, \n",
    "    y_test_bin, y_test_bin_pred_rdf)"
   ]
  },
  {
   "cell_type": "code",
   "execution_count": 0,
   "metadata": {
    "colab": {
     "base_uri": "https://localhost:8080/",
     "height": 504
    },
    "colab_type": "code",
    "id": "qhE4tEP8QZG-",
    "outputId": "1b4056c2-e435-4227-ee40-afc742de5718"
   },
   "outputs": [
    {
     "name": "stdout",
     "output_type": "stream",
     "text": [
      "0.8715480011093943\n"
     ]
    },
    {
     "data": {
      "text/plain": [
       "Text(0.5,0,'False Positive Rate')"
      ]
     },
     "execution_count": 111,
     "metadata": {
      "tags": []
     },
     "output_type": "execute_result"
    },
    {
     "data": {
      "image/png": "[encoded data removed]",
      "text/plain": [
       "<matplotlib.figure.Figure at 0x7fa66865cb70>"
      ]
     },
     "metadata": {
      "tags": []
     },
     "output_type": "display_data"
    }
   ],
   "source": [
    "fpr, tpr, threshold = metrics.roc_curve(y_test_bin, y_test_bin_pred_rdf_proba)\n",
    "roc_auc = metrics.auc(fpr, tpr)\n",
    "print(roc_auc)\n",
    "\n",
    "fig, ax = plt.subplots(figsize=(11,7))\n",
    "ax.plot(fpr, tpr)\n",
    "plt.title('ROC Curve')\n",
    "plt.plot([0, 1], [0, 1],'r--')\n",
    "plt.ylabel('True Positive Rate')\n",
    "plt.xlabel('False Positive Rate')"
   ]
  },
  {
   "cell_type": "code",
   "execution_count": 0,
   "metadata": {
    "colab": {},
    "colab_type": "code",
    "id": "5LYayEB8OgAR"
   },
   "outputs": [],
   "source": [
    "models['RDF']['combined'] = {\n",
    "    'model': rdf_bin,\n",
    "    'params': {'n_estimators':10, 'max_features':2},\n",
    "    'accuracy': {\n",
    "        'train': (y_train_bin == y_train_bin_pred_rdf).mean(),\n",
    "        'test': (y_test_bin == y_test_bin_pred_rdf).mean()\n",
    "    },\n",
    "    'roc': roc_auc\n",
    "}"
   ]
  },
  {
   "cell_type": "markdown",
   "metadata": {
    "colab_type": "text",
    "id": "S39IOl2-Jabo"
   },
   "source": [
    "#### Feature Importance"
   ]
  },
  {
   "cell_type": "code",
   "execution_count": 0,
   "metadata": {
    "colab": {
     "base_uri": "https://localhost:8080/",
     "height": 390
    },
    "colab_type": "code",
    "id": "n8LJglIoJceS",
    "outputId": "28a556a2-5ee4-49a5-b297-07063fd1124e"
   },
   "outputs": [
    {
     "data": {
      "text/html": [
       "<div>\n",
       "<style scoped>\n",
       "    .dataframe tbody tr th:only-of-type {\n",
       "        vertical-align: middle;\n",
       "    }\n",
       "\n",
       "    .dataframe tbody tr th {\n",
       "        vertical-align: top;\n",
       "    }\n",
       "\n",
       "    .dataframe thead th {\n",
       "        text-align: right;\n",
       "    }\n",
       "</style>\n",
       "<table border=\"1\" class=\"dataframe\">\n",
       "  <thead>\n",
       "    <tr style=\"text-align: right;\">\n",
       "      <th></th>\n",
       "      <th>feature</th>\n",
       "      <th>importance</th>\n",
       "    </tr>\n",
       "  </thead>\n",
       "  <tbody>\n",
       "    <tr>\n",
       "      <th>10</th>\n",
       "      <td>alcohol</td>\n",
       "      <td>0.183632</td>\n",
       "    </tr>\n",
       "    <tr>\n",
       "      <th>9</th>\n",
       "      <td>sulphates</td>\n",
       "      <td>0.137612</td>\n",
       "    </tr>\n",
       "    <tr>\n",
       "      <th>1</th>\n",
       "      <td>volatile acidity</td>\n",
       "      <td>0.096690</td>\n",
       "    </tr>\n",
       "    <tr>\n",
       "      <th>7</th>\n",
       "      <td>density</td>\n",
       "      <td>0.094205</td>\n",
       "    </tr>\n",
       "    <tr>\n",
       "      <th>6</th>\n",
       "      <td>total sulfur dioxide</td>\n",
       "      <td>0.088545</td>\n",
       "    </tr>\n",
       "    <tr>\n",
       "      <th>0</th>\n",
       "      <td>fixed acidity</td>\n",
       "      <td>0.077845</td>\n",
       "    </tr>\n",
       "    <tr>\n",
       "      <th>4</th>\n",
       "      <td>chlorides</td>\n",
       "      <td>0.076441</td>\n",
       "    </tr>\n",
       "    <tr>\n",
       "      <th>8</th>\n",
       "      <td>pH</td>\n",
       "      <td>0.065166</td>\n",
       "    </tr>\n",
       "    <tr>\n",
       "      <th>2</th>\n",
       "      <td>citric acid</td>\n",
       "      <td>0.064673</td>\n",
       "    </tr>\n",
       "    <tr>\n",
       "      <th>5</th>\n",
       "      <td>free sulfur dioxide</td>\n",
       "      <td>0.059001</td>\n",
       "    </tr>\n",
       "    <tr>\n",
       "      <th>3</th>\n",
       "      <td>residual sugar</td>\n",
       "      <td>0.056189</td>\n",
       "    </tr>\n",
       "  </tbody>\n",
       "</table>\n",
       "</div>"
      ],
      "text/plain": [
       "                 feature  importance\n",
       "10               alcohol    0.183632\n",
       "9              sulphates    0.137612\n",
       "1       volatile acidity    0.096690\n",
       "7                density    0.094205\n",
       "6   total sulfur dioxide    0.088545\n",
       "0          fixed acidity    0.077845\n",
       "4              chlorides    0.076441\n",
       "8                     pH    0.065166\n",
       "2            citric acid    0.064673\n",
       "5    free sulfur dioxide    0.059001\n",
       "3         residual sugar    0.056189"
      ]
     },
     "execution_count": 113,
     "metadata": {
      "tags": []
     },
     "output_type": "execute_result"
    }
   ],
   "source": [
    "importances = rdf_bin.feature_importances_\n",
    "fi_rdf_bin = pd.DataFrame(\n",
    "    data={'importance': pd.Series(importances), \n",
    "          'feature': X.columns\n",
    "         }\n",
    ").sort_values('importance', ascending=False)\n",
    "fi_rdf_bin"
   ]
  },
  {
   "cell_type": "code",
   "execution_count": 0,
   "metadata": {
    "colab": {
     "base_uri": "https://localhost:8080/",
     "height": 518
    },
    "colab_type": "code",
    "id": "bqhW7fxUJdGJ",
    "outputId": "2352f172-ea78-4be0-a1b0-7a28b0052521"
   },
   "outputs": [
    {
     "data": {
      "text/plain": [
       "Text(0,0.5,'Importance')"
      ]
     },
     "execution_count": 114,
     "metadata": {
      "tags": []
     },
     "output_type": "execute_result"
    },
    {
     "data": {
      "image/png": "[encoded data removed]",
      "text/plain": [
       "<matplotlib.figure.Figure at 0x7fa668594908>"
      ]
     },
     "metadata": {
      "tags": []
     },
     "output_type": "display_data"
    }
   ],
   "source": [
    "plt.rc('axes', titlesize=MEDIUM_SIZE)\n",
    "fig, ax = plt.subplots(figsize=(8, 6))\n",
    "fi_rdf_bin.plot.bar(x='feature', y='importance', ax=ax)\n",
    "ax.set_title('Feature Importance: Combined RandomForest')\n",
    "ax.set_ylabel('Importance')"
   ]
  },
  {
   "cell_type": "markdown",
   "metadata": {
    "colab_type": "text",
    "id": "5tnUcY82OzEZ"
   },
   "source": [
    "# Model Comparison"
   ]
  },
  {
   "cell_type": "code",
   "execution_count": 0,
   "metadata": {
    "colab": {
     "base_uri": "https://localhost:8080/",
     "height": 221
    },
    "colab_type": "code",
    "id": "Pr_A3pWgO07d",
    "outputId": "11ca9a3e-6754-47d5-f6da-ba39e96dd91e"
   },
   "outputs": [
    {
     "name": "stdout",
     "output_type": "stream",
     "text": [
      "SVM\n",
      "Unbalanced: {'train': 0.5934323690383112, 'test': 0.565625}\n",
      "Balanced: {'train': 0.5763760049474336, 'test': 0.53125}\n",
      "Combined: {'train': 0.746677091477717, 'test': 0.728125}\n",
      "ADA\n",
      "Unbalanced: {'train': 0.5582486317435497, 'test': 0.528125}\n",
      "Balanced: {'train': 0.5553494124922697, 'test': 0.565625}\n",
      "Combined: {'train': 0.8076622361219703, 'test': 0.759375}\n",
      "RDF\n",
      "Unbalanced: {'train': 0.8889757623143081, 'test': 0.871875}\n",
      "Balanced: {'train': 0.9981447124304267, 'test': 0.89375}\n",
      "Combined: {'train': 0.9937451133698202, 'test': 0.796875}\n"
     ]
    }
   ],
   "source": [
    "for m in models:\n",
    "    print(m)\n",
    "    print('Unbalanced:', models[m]['unbalanced']['accuracy'])\n",
    "    print('Balanced:', models[m]['balanced']['accuracy'])\n",
    "    print('Combined:', models[m]['combined']['accuracy'])"
   ]
  },
  {
   "cell_type": "markdown",
   "metadata": {
    "colab_type": "text",
    "id": "jBP2WZw1LOvW"
   },
   "source": [
    "The best model here is RandomForest on the unbalanced dataset"
   ]
  }
 ],
 "metadata": {
  "colab": {
   "collapsed_sections": [],
   "name": "Predicting Red Wine Classes.ipynb",
   "provenance": [],
   "toc_visible": true,
   "version": "0.3.2"
  },
  "kernelspec": {
   "display_name": "Python 3",
   "language": "python",
   "name": "python3"
  },
  "language_info": {
   "codemirror_mode": {
    "name": "ipython",
    "version": 3
   },
   "file_extension": ".py",
   "mimetype": "text/x-python",
   "name": "python",
   "nbconvert_exporter": "python",
   "pygments_lexer": "ipython3",
   "version": "3.6.4"
  },
  "toc": {
   "base_numbering": 1,
   "nav_menu": {},
   "number_sections": true,
   "sideBar": true,
   "skip_h1_title": false,
   "title_cell": "Table of Contents",
   "title_sidebar": "Contents",
   "toc_cell": false,
   "toc_position": {},
   "toc_section_display": true,
   "toc_window_display": false
  }
 },
 "nbformat": 4,
 "nbformat_minor": 1
}
