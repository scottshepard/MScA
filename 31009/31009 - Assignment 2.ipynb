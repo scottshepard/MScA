{
 "cells": [
  {
   "cell_type": "markdown",
   "metadata": {},
   "source": [
    "# 31009 - Assignment 2: Regression with Gradient Descent\n",
    "\n",
    "Use linear regression with gradient descent to predict water temperature T_degC using the dataset from assignment 1.\n",
    "\n",
    "1) Only use 'Salnty', 'STheta' for predictors (same as HW #1)\n",
    "\n",
    "2) Remove NaN / NA values from dataset (prior to building train/test sets) (same as HW #1)\n",
    "\n",
    "3) Scale all features to improve convergence. It is highly encouraged that you review the appropriate method of handling normalization with train & test. Additional info on scaling with train & test sets: https://stats.stackexchange.com/questions/174823/how-to-apply-standardization-normalization-to-train-and-testset-if-prediction-i\n",
    "\n",
    "Feel free to use the sklearn tool \"StandardScaler\" - more info here: http://scikit-learn.org/stable/modules/generated/sklearn.preprocessing.StandardScaler.html (Links to an external site.)Links to an external site. \n",
    "\n",
    "4) For the cost function we will use mean squared error. Please use the same function utilized in Chapter 4 of The Hands On Machine Learning (Equation 4.5) for the derivative of the cost function. \n",
    "\n",
    "Example code from chapter: \n",
    "\n",
    "derived_cost_function = 2/m * X_b.T.dot(X_b.dot(theta) - y)  \n",
    "\n",
    "5) Try mini batch sizes of 50, 2000 and 10,000. Comment on the prediction accuracy based on rmse, variance explained, and r-squared.\n",
    "\n",
    "Note: Feel free to use any value for eta and epochs, but 0.1 eta and 100 epochs are fine for this HW. "
   ]
  },
  {
   "cell_type": "code",
   "execution_count": 1,
   "metadata": {},
   "outputs": [
    {
     "name": "stderr",
     "output_type": "stream",
     "text": [
      "/Users/rowena/miniconda3/envs/msca/lib/python3.6/site-packages/statsmodels/compat/pandas.py:56: FutureWarning: The pandas.core.datetools module is deprecated and will be removed in a future version. Please use the pandas.tseries module instead.\n",
      "  from pandas.core import datetools\n"
     ]
    }
   ],
   "source": [
    "import numpy as np\n",
    "import pandas as pd\n",
    "import matplotlib.pyplot as plt \n",
    "import statsmodels.api as sm\n",
    "import time\n",
    "\n",
    "%matplotlib inline"
   ]
  },
  {
   "cell_type": "code",
   "execution_count": 2,
   "metadata": {},
   "outputs": [
    {
     "name": "stderr",
     "output_type": "stream",
     "text": [
      "/Users/rowena/miniconda3/envs/msca/lib/python3.6/site-packages/IPython/core/interactiveshell.py:2728: DtypeWarning: Columns (47,73) have mixed types. Specify dtype option on import or set low_memory=False.\n",
      "  interactivity=interactivity, compiler=compiler, result=result)\n"
     ]
    }
   ],
   "source": [
    "df = pd.read_csv('data/bottle.csv')\n",
    "df = df.loc[:,['Salnty', 'STheta', 'T_degC']]"
   ]
  },
  {
   "cell_type": "code",
   "execution_count": 3,
   "metadata": {},
   "outputs": [
    {
     "name": "stdout",
     "output_type": "stream",
     "text": [
      "There are 864863 rows in raw dataset\n",
      "\n",
      "Remove 47354 rows because of missing values in Salnty\n",
      "Remove 5335 rows because of missing values in STheta\n",
      "Remove 0 rows because of missing values in T_degC\n",
      "\n",
      "Clean dataset has 812174 rows\n"
     ]
    }
   ],
   "source": [
    "print('There are {0} rows in raw dataset\\n'.format(len(df)))\n",
    "\n",
    "print(\"Remove {0} rows because of missing values in Salnty\".format(sum(df.Salnty.isna())))\n",
    "df = df[~df.Salnty.isna()]\n",
    "\n",
    "print(\"Remove {0} rows because of missing values in STheta\".format(sum(df.STheta.isna())))\n",
    "df = df[~df.STheta.isna()]\n",
    "\n",
    "print(\"Remove {0} rows because of missing values in T_degC\\n\".format(sum(df.T_degC.isna())))\n",
    "df = df[~df.T_degC.isna()]\n",
    "\n",
    "print(\"Clean dataset has {0} rows\".format(len(df)))"
   ]
  },
  {
   "cell_type": "markdown",
   "metadata": {},
   "source": [
    "## Remove Outliers\n",
    "\n",
    "There are big outliers in STheta that need to be removed or else they will screw up the line of best fit."
   ]
  },
  {
   "cell_type": "code",
   "execution_count": 4,
   "metadata": {},
   "outputs": [
    {
     "data": {
      "text/plain": [
       "<matplotlib.axes._subplots.AxesSubplot at 0x1113fb5f8>"
      ]
     },
     "execution_count": 4,
     "metadata": {},
     "output_type": "execute_result"
    },
    {
     "data": {
      "image/png": "[encoded data removed]",
      "text/plain": [
       "<matplotlib.figure.Figure at 0x10bd40898>"
      ]
     },
     "metadata": {},
     "output_type": "display_data"
    }
   ],
   "source": [
    "df.boxplot(column='STheta')"
   ]
  },
  {
   "cell_type": "code",
   "execution_count": 5,
   "metadata": {},
   "outputs": [],
   "source": [
    "df = df[df.STheta <= 50]"
   ]
  },
  {
   "cell_type": "markdown",
   "metadata": {},
   "source": [
    "## Split into Test / Train\n",
    "\n",
    "In this assignment I am using a 70/30 test/train split"
   ]
  },
  {
   "cell_type": "code",
   "execution_count": 6,
   "metadata": {},
   "outputs": [],
   "source": [
    "np.random.seed(123)\n",
    "msk = np.random.rand(len(df)) < 0.7\n",
    "tn = df[msk]\n",
    "tt = df[~msk]"
   ]
  },
  {
   "cell_type": "markdown",
   "metadata": {},
   "source": [
    "## Normalize the Data\n",
    "\n",
    "Scale each variable in train and test. The test data should be scaled with training mean and sd to avoid information leakage.  \n",
    "It is not necessary to scale the response variable."
   ]
  },
  {
   "cell_type": "code",
   "execution_count": 7,
   "metadata": {},
   "outputs": [],
   "source": [
    "means = tn.mean()\n",
    "stdvs = tn.std()"
   ]
  },
  {
   "cell_type": "code",
   "execution_count": 8,
   "metadata": {},
   "outputs": [
    {
     "name": "stderr",
     "output_type": "stream",
     "text": [
      "/Users/rowena/miniconda3/envs/msca/lib/python3.6/site-packages/pandas/core/indexing.py:621: SettingWithCopyWarning: \n",
      "A value is trying to be set on a copy of a slice from a DataFrame.\n",
      "Try using .loc[row_indexer,col_indexer] = value instead\n",
      "\n",
      "See the caveats in the documentation: http://pandas.pydata.org/pandas-docs/stable/indexing.html#indexing-view-versus-copy\n",
      "  self.obj[item_labels[indexer[info_axis]]] = value\n"
     ]
    }
   ],
   "source": [
    "tn.loc[:,'Salnty'] = (tn.Salnty - means['Salnty']) / stdvs['Salnty']\n",
    "tn.loc[:,'STheta'] = (tn.STheta - means['STheta']) / stdvs['STheta']\n",
    "\n",
    "tt.loc[:,'Salnty'] = (tt.Salnty - means['Salnty']) / stdvs['Salnty']\n",
    "tt.loc[:,'STheta'] = (tt.STheta - means['STheta']) / stdvs['STheta']"
   ]
  },
  {
   "cell_type": "markdown",
   "metadata": {},
   "source": [
    "## Gradient Descent\n",
    "\n",
    "Gradient descent calculates a partial derivitaive at each step at then goes the other way to attempt to find a global mininum in the cost function. If done correctly it should reach the same answer as solving for the cost function directly but without the computational expense of inverting a matrix."
   ]
  },
  {
   "cell_type": "code",
   "execution_count": 9,
   "metadata": {},
   "outputs": [],
   "source": [
    "X_b = tn[tn.columns[0:2]]\n",
    "X_b.insert(0, 'intercept', 1)\n",
    "y = tn.T_degC"
   ]
  },
  {
   "cell_type": "code",
   "execution_count": 10,
   "metadata": {},
   "outputs": [
    {
     "data": {
      "text/html": [
       "<div>\n",
       "<style scoped>\n",
       "    .dataframe tbody tr th:only-of-type {\n",
       "        vertical-align: middle;\n",
       "    }\n",
       "\n",
       "    .dataframe tbody tr th {\n",
       "        vertical-align: top;\n",
       "    }\n",
       "\n",
       "    .dataframe thead th {\n",
       "        text-align: right;\n",
       "    }\n",
       "</style>\n",
       "<table border=\"1\" class=\"dataframe\">\n",
       "  <thead>\n",
       "    <tr style=\"text-align: right;\">\n",
       "      <th></th>\n",
       "      <th>intercept</th>\n",
       "      <th>Salnty</th>\n",
       "      <th>STheta</th>\n",
       "    </tr>\n",
       "  </thead>\n",
       "  <tbody>\n",
       "    <tr>\n",
       "      <th>0</th>\n",
       "      <td>1</td>\n",
       "      <td>-0.871123</td>\n",
       "      <td>-0.167803</td>\n",
       "    </tr>\n",
       "    <tr>\n",
       "      <th>1</th>\n",
       "      <td>1</td>\n",
       "      <td>-0.871123</td>\n",
       "      <td>-0.160851</td>\n",
       "    </tr>\n",
       "    <tr>\n",
       "      <th>2</th>\n",
       "      <td>1</td>\n",
       "      <td>-0.877622</td>\n",
       "      <td>-0.162837</td>\n",
       "    </tr>\n",
       "    <tr>\n",
       "      <th>3</th>\n",
       "      <td>1</td>\n",
       "      <td>-0.914454</td>\n",
       "      <td>-0.173761</td>\n",
       "    </tr>\n",
       "    <tr>\n",
       "      <th>5</th>\n",
       "      <td>1</td>\n",
       "      <td>-0.890622</td>\n",
       "      <td>-0.165817</td>\n",
       "    </tr>\n",
       "  </tbody>\n",
       "</table>\n",
       "</div>"
      ],
      "text/plain": [
       "   intercept    Salnty    STheta\n",
       "0          1 -0.871123 -0.167803\n",
       "1          1 -0.871123 -0.160851\n",
       "2          1 -0.877622 -0.162837\n",
       "3          1 -0.914454 -0.173761\n",
       "5          1 -0.890622 -0.165817"
      ]
     },
     "execution_count": 10,
     "metadata": {},
     "output_type": "execute_result"
    }
   ],
   "source": [
    "X_b.head()"
   ]
  },
  {
   "cell_type": "code",
   "execution_count": 11,
   "metadata": {},
   "outputs": [],
   "source": [
    "def mini_batch_gradient_descent(X_b, y, n_epochs, minibatch_size, eta):\n",
    "    m = len(X_b)\n",
    "\n",
    "    np.random.seed(123)\n",
    "    theta = np.random.randn(3,1) \n",
    "    \n",
    "    for epoch in range(n_epochs):\n",
    "        shuffled_indices = np.random.choice(X_b.index, m, replace=False)\n",
    "        X_b_shuffled = X_b.loc[shuffled_indices]\n",
    "        y_shuffled = y.loc[shuffled_indices]\n",
    "        y_shuffled = np.asarray(y_shuffled).reshape((len(y_shuffled),1))\n",
    "        for i in range(0, m, minibatch_size):\n",
    "            xi = X_b_shuffled[i:i+minibatch_size]\n",
    "            yi = y_shuffled[i:i+minibatch_size]\n",
    "            derived_cost_function = 2/minibatch_size * xi.T.dot(xi.dot(theta) - yi)\n",
    "            theta = theta - eta * derived_cost_function\n",
    "    return(theta)"
   ]
  },
  {
   "cell_type": "markdown",
   "metadata": {},
   "source": [
    "Compute estimates of the linear regression using the the mini-batch gradient descent on different batch sizes: 50, 2,000, and 50,000. For each batch size we'll use 20 iterations and a 0.1 learning step."
   ]
  },
  {
   "cell_type": "code",
   "execution_count": 19,
   "metadata": {},
   "outputs": [
    {
     "name": "stdout",
     "output_type": "stream",
     "text": [
      "Mini-batch Gradient Descent with a 50 minibatch size\n",
      "                   0\n",
      "intercept  10.853977\n",
      "Salnty      1.414366\n",
      "STheta     -5.053720\n",
      "MBGD 50 took about 469 seconds.\n",
      "\n",
      "Mini-batch Gradient Descent with a 2,000 minibatch size\n",
      "                   0\n",
      "intercept  10.846961\n",
      "Salnty      1.446968\n",
      "STheta     -5.074566\n",
      "MBGD 2,000 took about 17 seconds.\n",
      "\n",
      "Mini-batch Gradient Descent with a 50,000 minibatch size\n",
      "                   0\n",
      "intercept  10.845809\n",
      "Salnty      1.435034\n",
      "STheta     -5.073946\n",
      "MBGD 50,000 took about 7 seconds.\n"
     ]
    }
   ],
   "source": [
    "start = time.time()\n",
    "theta_50 = mini_batch_gradient_descent(X_b, y, 20, 50, 0.1)\n",
    "end = time.time()\n",
    "time_50 = end - start\n",
    "print(\"Mini-batch Gradient Descent with a 50 minibatch size\")\n",
    "print(theta_50)\n",
    "print(\"MBGD 50 took about {} seconds.\".format(round(time_50)))\n",
    "\n",
    "start = time.time()\n",
    "theta_2000 = mini_batch_gradient_descent(X_b, y, 20, 2000, 0.1)\n",
    "end = time.time()\n",
    "time_2000 = end - start\n",
    "print(\"\\nMini-batch Gradient Descent with a 2,000 minibatch size\")\n",
    "print(theta_2000)\n",
    "print(\"MBGD 2,000 took about {} seconds.\".format(round(time_2000)))\n",
    "\n",
    "start = time.time()\n",
    "theta_50000 = mini_batch_gradient_descent(X_b, y, 20, 50000, 0.1)\n",
    "end = time.time()\n",
    "time_50000 = end - start\n",
    "print(\"\\nMini-batch Gradient Descent with a 50,000 minibatch size\")\n",
    "print(theta_50000)\n",
    "print(\"MBGD 50,000 took about {} seconds.\".format(round(time_50000)))"
   ]
  },
  {
   "cell_type": "code",
   "execution_count": 20,
   "metadata": {},
   "outputs": [
    {
     "name": "stdout",
     "output_type": "stream",
     "text": [
      "Train RSME: 0.4828\n",
      "Test  RSME: 0.484\n",
      "Train Variance: 17.79\n",
      "Test  Variance: 17.87\n",
      "Train Variance Explained: 17.56\n",
      "Test  Variance Explained: 17.63\n",
      "Train R2: 0.986901\n",
      "Test  R2: 0.986888\n"
     ]
    }
   ],
   "source": [
    "tn_pred_50 = theta_50[0][0] + theta_50[0][1] * tn.Salnty + theta_50[0][2] * tn.STheta\n",
    "tt_pred_50 = theta_50[0][0] + theta_50[0][1] * tt.Salnty + theta_50[0][2] * tt.STheta\n",
    "\n",
    "tn_rmse_50 = (((tn_pred_50 - tn.T_degC)**2).sum() / len(tn))**0.5\n",
    "tt_rmse_50 = (((tt_pred_50 - tt.T_degC)**2).sum() / len(tt))**0.5\n",
    "\n",
    "print(\"Train RSME: {}\".format(round(tn_rmse_50, 4)))\n",
    "print(\"Test  RSME: {}\".format(round(tt_rmse_50, 4)))\n",
    "\n",
    "tn_var = ((tn.T_degC - tn.T_degC.mean())**2).mean()\n",
    "tt_var = ((tt.T_degC - tt.T_degC.mean())**2).mean()\n",
    "\n",
    "print(\"Train Variance: {}\".format(round(tn_var, 2)))\n",
    "print(\"Test  Variance: {}\".format(round(tt_var, 2)))\n",
    "\n",
    "tn_var_explained_50 = tn_var - tn_rmse_50**2\n",
    "tt_var_explained_50 = tt_var - tt_rmse_50**2\n",
    "\n",
    "print(\"Train Variance Explained: {}\".format(round(tn_var_explained_50, 2)))\n",
    "print(\"Test  Variance Explained: {}\".format(round(tt_var_explained_50, 2)))\n",
    "\n",
    "tn_r2_50 = tn_var_explained_50 / tn_var\n",
    "tt_r2_50 = tt_var_explained_50 / tt_var\n",
    "\n",
    "print(\"Train R2: {}\".format(round(tn_r2_50, 6)))\n",
    "print(\"Test  R2: {}\".format(round(tt_r2_50, 6)))"
   ]
  },
  {
   "cell_type": "code",
   "execution_count": 21,
   "metadata": {},
   "outputs": [
    {
     "name": "stdout",
     "output_type": "stream",
     "text": [
      "Train RSME: 0.4826\n",
      "Test  RSME: 0.4839\n",
      "Train Variance: 17.79\n",
      "Test  Variance: 17.87\n",
      "Train Variance Explained: 17.56\n",
      "Test  Variance Explained: 17.63\n",
      "Train R2: 0.986911\n",
      "Test  R2: 0.986896\n"
     ]
    }
   ],
   "source": [
    "tn_pred_2000 = theta_2000[0][0] + theta_2000[0][1] * tn.Salnty + theta_2000[0][2] * tn.STheta\n",
    "tt_pred_2000 = theta_2000[0][0] + theta_2000[0][1] * tt.Salnty + theta_2000[0][2] * tt.STheta\n",
    "\n",
    "tn_rmse_2000 = (((tn_pred_2000 - tn.T_degC)**2).sum() / len(tn))**0.5\n",
    "tt_rmse_2000 = (((tt_pred_2000 - tt.T_degC)**2).sum() / len(tt))**0.5\n",
    "\n",
    "print(\"Train RSME: {}\".format(round(tn_rmse_2000, 4)))\n",
    "print(\"Test  RSME: {}\".format(round(tt_rmse_2000, 4)))\n",
    "\n",
    "tn_var = ((tn.T_degC - tn.T_degC.mean())**2).mean()\n",
    "tt_var = ((tt.T_degC - tt.T_degC.mean())**2).mean()\n",
    "\n",
    "print(\"Train Variance: {}\".format(round(tn_var, 2)))\n",
    "print(\"Test  Variance: {}\".format(round(tt_var, 2)))\n",
    "\n",
    "tn_var_explained_2000 = tn_var - tn_rmse_2000**2\n",
    "tt_var_explained_2000 = tt_var - tt_rmse_2000**2\n",
    "\n",
    "print(\"Train Variance Explained: {}\".format(round(tn_var_explained_2000, 2)))\n",
    "print(\"Test  Variance Explained: {}\".format(round(tt_var_explained_2000, 2)))\n",
    "\n",
    "tn_r2_2000 = tn_var_explained_2000 / tn_var\n",
    "tt_r2_2000 = tt_var_explained_2000 / tt_var\n",
    "\n",
    "print(\"Train R2: {}\".format(round(tn_r2_2000, 6)))\n",
    "print(\"Test  R2: {}\".format(round(tt_r2_2000, 6)))"
   ]
  },
  {
   "cell_type": "code",
   "execution_count": 22,
   "metadata": {},
   "outputs": [
    {
     "name": "stdout",
     "output_type": "stream",
     "text": [
      "Train RSME: 0.4825\n",
      "Test  RSME: 0.4838\n",
      "Train Variance: 17.79\n",
      "Test  Variance: 17.87\n",
      "Train Variance Explained: 17.56\n",
      "Test  Variance Explained: 17.63\n",
      "Train R2: 0.986918\n",
      "Test  R2: 0.986903\n"
     ]
    }
   ],
   "source": [
    "tn_pred_50000 = theta_50000[0][0] + theta_50000[0][1] * tn.Salnty + theta_50000[0][2] * tn.STheta\n",
    "tt_pred_50000 = theta_50000[0][0] + theta_50000[0][1] * tt.Salnty + theta_50000[0][2] * tt.STheta\n",
    "\n",
    "tn_rmse_50000 = (((tn_pred_50000 - tn.T_degC)**2).sum() / len(tn))**0.5\n",
    "tt_rmse_50000 = (((tt_pred_50000 - tt.T_degC)**2).sum() / len(tt))**0.5\n",
    "\n",
    "print(\"Train RSME: {}\".format(round(tn_rmse_50000, 4)))\n",
    "print(\"Test  RSME: {}\".format(round(tt_rmse_50000, 4)))\n",
    "\n",
    "tn_var = ((tn.T_degC - tn.T_degC.mean())**2).mean()\n",
    "tt_var = ((tt.T_degC - tt.T_degC.mean())**2).mean()\n",
    "\n",
    "print(\"Train Variance: {}\".format(round(tn_var, 2)))\n",
    "print(\"Test  Variance: {}\".format(round(tt_var, 2)))\n",
    "\n",
    "tn_var_explained_50000 = tn_var - tn_rmse_50000**2\n",
    "tt_var_explained_50000 = tt_var - tt_rmse_50000**2\n",
    "\n",
    "print(\"Train Variance Explained: {}\".format(round(tn_var_explained_50000, 2)))\n",
    "print(\"Test  Variance Explained: {}\".format(round(tt_var_explained_50000, 2)))\n",
    "\n",
    "tn_r2_50000 = tn_var_explained_50000 / tn_var\n",
    "tt_r2_50000 = tt_var_explained_50000 / tt_var\n",
    "\n",
    "print(\"Train R2: {}\".format(round(tn_r2_50000, 6)))\n",
    "print(\"Test  R2: {}\".format(round(tt_r2_50000, 6)))"
   ]
  },
  {
   "cell_type": "markdown",
   "metadata": {},
   "source": [
    "## Results\n",
    "\n",
    "This algorithm leads to shockingly accurate results. An R^2 of 0.99 is so good it makes me suspicious. The advantage of scaling data and removing outliers as compared to homework one is obvious. The gradient decent algorithm honed in on the right answer no matter the batch size, but the time it took to output was wildly different. It seems like in this case large batch sizes are better. \n",
    "\n",
    "The normalized results make it a bit more difficult to interpret the coefficients. Instead of units of X they are now in units of standard deviations of X."
   ]
  }
 ],
 "metadata": {
  "kernelspec": {
   "display_name": "Python 3",
   "language": "python",
   "name": "python3"
  },
  "language_info": {
   "codemirror_mode": {
    "name": "ipython",
    "version": 3
   },
   "file_extension": ".py",
   "mimetype": "text/x-python",
   "name": "python",
   "nbconvert_exporter": "python",
   "pygments_lexer": "ipython3",
   "version": "3.6.4"
  }
 },
 "nbformat": 4,
 "nbformat_minor": 2
}
