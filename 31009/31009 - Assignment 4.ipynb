{
 "cells": [
  {
   "cell_type": "markdown",
   "metadata": {},
   "source": [
    "# 31009 - Assignment 4: Random Forest"
   ]
  },
  {
   "cell_type": "markdown",
   "metadata": {},
   "source": [
    "## 1. Data Processing"
   ]
  },
  {
   "cell_type": "code",
   "execution_count": 26,
   "metadata": {},
   "outputs": [],
   "source": [
    "%matplotlib inline\n",
    "\n",
    "import numpy as np\n",
    "import pandas as pd\n",
    "import matplotlib.pyplot as plt"
   ]
  },
  {
   "cell_type": "code",
   "execution_count": 2,
   "metadata": {},
   "outputs": [],
   "source": [
    "df = pd.read_excel('data/default of credit card clients.xls')\n",
    "df.dropna(how='any', axis = 0, inplace=True)"
   ]
  },
  {
   "cell_type": "code",
   "execution_count": 3,
   "metadata": {},
   "outputs": [],
   "source": [
    "def split_data(data):\n",
    "    msk = np.random.rand(len(data)) < 0.8\n",
    "    return df[msk], df[~msk]"
   ]
  },
  {
   "cell_type": "code",
   "execution_count": 4,
   "metadata": {},
   "outputs": [],
   "source": [
    "np.random.seed(123)\n",
    "tn, tt = split_data(df)\n",
    "\n",
    "X_tn = tn.drop(columns='default payment next month')\n",
    "y_tn = tn['default payment next month']\n",
    "\n",
    "X_tt = tt.drop(columns='default payment next month')\n",
    "y_tt = tt['default payment next month']"
   ]
  },
  {
   "cell_type": "markdown",
   "metadata": {},
   "source": [
    "## 2. Random Forest Classifier - Base Model"
   ]
  },
  {
   "cell_type": "code",
   "execution_count": 5,
   "metadata": {},
   "outputs": [],
   "source": [
    "from sklearn.ensemble import RandomForestClassifier\n",
    "from sklearn import metrics as skm"
   ]
  },
  {
   "cell_type": "code",
   "execution_count": 6,
   "metadata": {},
   "outputs": [
    {
     "name": "stdout",
     "output_type": "stream",
     "text": [
      "Train Score: 0.98\n",
      "\n",
      "Train Confusion Matrix\n",
      "[[18706    31]\n",
      " [  453  4884]]\n",
      "\n",
      "Train Classification Report\n",
      "             precision    recall  f1-score   support\n",
      "\n",
      "          0       0.98      1.00      0.99     18737\n",
      "          1       0.99      0.92      0.95      5337\n",
      "\n",
      "avg / total       0.98      0.98      0.98     24074\n",
      "\n",
      "\n",
      "Train ROC AUC\n",
      "0.999136434550902\n",
      "\n",
      "Test Score: 0.81\n",
      "\n",
      "Test Confusion Matrix\n",
      "[[4367  260]\n",
      " [ 885  414]]\n",
      "\n",
      "Test Classification Report\n",
      "             precision    recall  f1-score   support\n",
      "\n",
      "          0       0.83      0.94      0.88      4627\n",
      "          1       0.61      0.32      0.42      1299\n",
      "\n",
      "avg / total       0.78      0.81      0.78      5926\n",
      "\n",
      "\n",
      "Test ROC AUC\n",
      "0.7325154775672398\n"
     ]
    }
   ],
   "source": [
    "clf = RandomForestClassifier()\n",
    "\n",
    "clf.fit(X_tn, y_tn)\n",
    "\n",
    "y_tn_pred = clf.predict(X_tn)\n",
    "y_tt_pred = clf.predict(X_tt)\n",
    "\n",
    "y_tn_proba = clf.predict_proba(X_tn)\n",
    "y_tt_proba = clf.predict_proba(X_tt)\n",
    "\n",
    "print(\"Train Score:\", round(clf.score(X_tn, y_tn),2))\n",
    "print(\"\\nTrain Confusion Matrix\")\n",
    "print(skm.confusion_matrix(y_tn, y_tn_pred))\n",
    "print(\"\\nTrain Classification Report\")\n",
    "print(skm.classification_report(y_tn, y_tn_pred))\n",
    "print(\"\\nTrain ROC AUC\")\n",
    "print(skm.roc_auc_score(y_tn, y_tn_proba[:,1]))\n",
    "print(\"\")\n",
    "\n",
    "print(\"Test Score:\", round(clf.score(X_tt, y_tt),2))\n",
    "print(\"\\nTest Confusion Matrix\")\n",
    "print(skm.confusion_matrix(y_tt, y_tt_pred))\n",
    "print(\"\\nTest Classification Report\")\n",
    "print(skm.classification_report(y_tt, y_tt_pred))\n",
    "print(\"\\nTest ROC AUC\")\n",
    "print(skm.roc_auc_score(y_tt, y_tt_proba[:,1]))"
   ]
  },
  {
   "cell_type": "markdown",
   "metadata": {},
   "source": [
    "## 3. Random Forest Classifier - Grid Search"
   ]
  },
  {
   "cell_type": "code",
   "execution_count": 7,
   "metadata": {},
   "outputs": [
    {
     "name": "stdout",
     "output_type": "stream",
     "text": [
      "Fitting 5 folds for each of 9 candidates, totalling 45 fits\n"
     ]
    },
    {
     "name": "stderr",
     "output_type": "stream",
     "text": [
      "[Parallel(n_jobs=-1)]: Done  45 out of  45 | elapsed: 29.9min finished\n"
     ]
    },
    {
     "data": {
      "text/plain": [
       "GridSearchCV(cv=5, error_score='raise',\n",
       "       estimator=RandomForestClassifier(bootstrap=True, class_weight=None, criterion='gini',\n",
       "            max_depth=None, max_features='auto', max_leaf_nodes=None,\n",
       "            min_impurity_decrease=0.0, min_impurity_split=None,\n",
       "            min_samples_leaf=1, min_samples_split=2,\n",
       "            min_weight_fraction_leaf=0.0, n_estimators=10, n_jobs=1,\n",
       "            oob_score=False, random_state=None, verbose=0,\n",
       "            warm_start=False),\n",
       "       fit_params=None, iid=True, n_jobs=-1,\n",
       "       param_grid={'n_estimators': [500, 750, 1000], 'max_features': [2, 4, 6]},\n",
       "       pre_dispatch='2*n_jobs', refit=True, return_train_score='warn',\n",
       "       scoring='roc_auc', verbose=1)"
      ]
     },
     "execution_count": 7,
     "metadata": {},
     "output_type": "execute_result"
    }
   ],
   "source": [
    "from sklearn.model_selection import GridSearchCV\n",
    "\n",
    "parameters = {\n",
    "    'n_estimators': [500, 750, 1000],\n",
    "    'max_features': [2, 4, 6]\n",
    "}\n",
    "\n",
    "clf = RandomForestClassifier()\n",
    "\n",
    "grid_search = GridSearchCV(clf, parameters, cv=5, scoring='roc_auc',refit=True, n_jobs=-1, verbose=1)\n",
    "\n",
    "grid_search.fit(X_tn, y_tn)"
   ]
  },
  {
   "cell_type": "code",
   "execution_count": 8,
   "metadata": {},
   "outputs": [
    {
     "data": {
      "text/plain": [
       "{'max_features': 2, 'n_estimators': 750}"
      ]
     },
     "execution_count": 8,
     "metadata": {},
     "output_type": "execute_result"
    }
   ],
   "source": [
    "grid_search.best_params_"
   ]
  },
  {
   "cell_type": "code",
   "execution_count": 9,
   "metadata": {},
   "outputs": [
    {
     "data": {
      "text/plain": [
       "RandomForestClassifier(bootstrap=True, class_weight=None, criterion='gini',\n",
       "            max_depth=None, max_features=2, max_leaf_nodes=None,\n",
       "            min_impurity_decrease=0.0, min_impurity_split=None,\n",
       "            min_samples_leaf=1, min_samples_split=2,\n",
       "            min_weight_fraction_leaf=0.0, n_estimators=750, n_jobs=1,\n",
       "            oob_score=False, random_state=None, verbose=0,\n",
       "            warm_start=False)"
      ]
     },
     "execution_count": 9,
     "metadata": {},
     "output_type": "execute_result"
    }
   ],
   "source": [
    "grid_search.best_estimator_"
   ]
  },
  {
   "cell_type": "code",
   "execution_count": 10,
   "metadata": {},
   "outputs": [],
   "source": [
    "rf = grid_search.best_estimator_"
   ]
  },
  {
   "cell_type": "code",
   "execution_count": 11,
   "metadata": {},
   "outputs": [],
   "source": [
    "y_tn_pred = rf.predict(X_tn)\n",
    "y_tt_pred = rf.predict(X_tt)\n",
    "\n",
    "y_tn_proba = rf.predict_proba(X_tn)\n",
    "y_tt_proba = rf.predict_proba(X_tt)"
   ]
  },
  {
   "cell_type": "code",
   "execution_count": 13,
   "metadata": {},
   "outputs": [
    {
     "name": "stdout",
     "output_type": "stream",
     "text": [
      "Train Score: 1.0\n",
      "\n",
      "Train Confusion Matrix\n",
      "[[18733     4]\n",
      " [   11  5326]]\n",
      "\n",
      "Train Classification Report\n",
      "             precision    recall  f1-score   support\n",
      "\n",
      "          0       1.00      1.00      1.00     18737\n",
      "          1       1.00      1.00      1.00      5337\n",
      "\n",
      "avg / total       1.00      1.00      1.00     24074\n",
      "\n",
      "\n",
      "Train ROC AUC: 1.0\n",
      "\n",
      "Test Score: 0.82\n",
      "\n",
      "Test Confusion Matrix\n",
      "[[4379  248]\n",
      " [ 831  468]]\n",
      "\n",
      "Test Classification Report\n",
      "             precision    recall  f1-score   support\n",
      "\n",
      "          0       0.84      0.95      0.89      4627\n",
      "          1       0.65      0.36      0.46      1299\n",
      "\n",
      "avg / total       0.80      0.82      0.80      5926\n",
      "\n",
      "\n",
      "Test ROC AUC: 0.78\n"
     ]
    }
   ],
   "source": [
    "print(\"Train Score:\", round(rf.score(X_tn, y_tn),2))\n",
    "print(\"\\nTrain Confusion Matrix\")\n",
    "print(skm.confusion_matrix(y_tn, y_tn_pred))\n",
    "print(\"\\nTrain Classification Report\")\n",
    "print(skm.classification_report(y_tn, y_tn_pred))\n",
    "print(\"\\nTrain ROC AUC:\", round(skm.roc_auc_score(y_tn, y_tn_proba[:,1]), 2))\n",
    "print(\"\")\n",
    "\n",
    "print(\"Test Score:\", round(rf.score(X_tt, y_tt),2))\n",
    "print(\"\\nTest Confusion Matrix\")\n",
    "print(skm.confusion_matrix(y_tt, y_tt_pred))\n",
    "print(\"\\nTest Classification Report\")\n",
    "print(skm.classification_report(y_tt, y_tt_pred))\n",
    "print(\"\\nTest ROC AUC:\", round(skm.roc_auc_score(y_tt, y_tt_proba[:,1]), 2))"
   ]
  },
  {
   "cell_type": "markdown",
   "metadata": {},
   "source": []
  },
  {
   "cell_type": "markdown",
   "metadata": {},
   "source": [
    "## 4. Model Comparison\n",
    "\n",
    "  - What are the best parameters from the Grid Search? \n",
    "  - Does the Model from #3 outperform Model #2? "
   ]
  },
  {
   "cell_type": "markdown",
   "metadata": {},
   "source": [
    "### 4.1 What are the best parameters from the Grid Search?"
   ]
  },
  {
   "cell_type": "code",
   "execution_count": 17,
   "metadata": {},
   "outputs": [
    {
     "data": {
      "text/plain": [
       "{'max_features': 2, 'n_estimators': 750}"
      ]
     },
     "execution_count": 17,
     "metadata": {},
     "output_type": "execute_result"
    }
   ],
   "source": [
    "grid_search.best_params_"
   ]
  },
  {
   "cell_type": "markdown",
   "metadata": {},
   "source": [
    "The best parameters from gid search were max_features = 2 & n_estimaters = 750\n",
    "\n",
    "Since we tested an n_estimators number that is greater than than the best model we can be reasonably sure that the true best parameter is somewhere near the chosen parameter."
   ]
  },
  {
   "cell_type": "markdown",
   "metadata": {},
   "source": [
    "### 4.2 Does the Model from #3 outperform Model #2?\n",
    "\n",
    "Model 3 does outperfom model 2. Model 2 has an test AUC of 0.72 while Model 3 has a test AUC of 0.78. However model 3 suffers from extreme overfitting as the train AUC is 0.99."
   ]
  },
  {
   "cell_type": "markdown",
   "metadata": {},
   "source": [
    "## 5. Feature Importance Plot\n",
    "\n",
    "  - What are the top 5 features for this model? "
   ]
  },
  {
   "cell_type": "code",
   "execution_count": 34,
   "metadata": {},
   "outputs": [
    {
     "data": {
      "text/plain": [
       "<matplotlib.axes._subplots.AxesSubplot at 0x146abbb00>"
      ]
     },
     "execution_count": 34,
     "metadata": {},
     "output_type": "execute_result"
    },
    {
     "data": {
      "image/png": "[encoded data removed]",
      "text/plain": [
       "<matplotlib.figure.Figure at 0x1469b1ac8>"
      ]
     },
     "metadata": {},
     "output_type": "display_data"
    }
   ],
   "source": [
    "fi = pd.DataFrame({'name': X_tt.columns, 'importance': rf.feature_importances_})\n",
    "fi.sort_values('importance', ascending=False, inplace=True)\n",
    "fi.plot.bar(x='name', y='importance')"
   ]
  },
  {
   "cell_type": "markdown",
   "metadata": {},
   "source": [
    "The top five features of the is model are `PAY_0`, `AGE`, `LIMIT_BAL`, `BILL_AMT1` and `BILL_AMT2`.\n",
    "\n",
    "`PAY_0` is categorical variable containing information on how they paid their first bill. First bill payments are highly predictive of next week defaults.\n",
    "\n",
    "It is interesting that only one demographic variable made it into the top 5: age. The other demographic variables: Education, Marriage, and Sex didn't matter very much. It seems like married or not, if you have a high balance and didn't make your first payment then you are likely to default next week."
   ]
  }
 ],
 "metadata": {
  "kernelspec": {
   "display_name": "Python 3",
   "language": "python",
   "name": "python3"
  },
  "language_info": {
   "codemirror_mode": {
    "name": "ipython",
    "version": 3
   },
   "file_extension": ".py",
   "mimetype": "text/x-python",
   "name": "python",
   "nbconvert_exporter": "python",
   "pygments_lexer": "ipython3",
   "version": "3.6.4"
  }
 },
 "nbformat": 4,
 "nbformat_minor": 2
}
