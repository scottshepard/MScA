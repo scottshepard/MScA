{
 "cells": [
  {
   "cell_type": "markdown",
   "metadata": {},
   "source": [
    "# Excercise 1:  \n",
    "\n",
    "Identify how many articles in \"news_apple_fruit.pkl\" (out of 6475) are talking about fruits vs. technology company\n"
   ]
  },
  {
   "cell_type": "code",
   "execution_count": 1,
   "metadata": {},
   "outputs": [],
   "source": [
    "import pandas as pd\n",
    "import json, os, glob\n",
    "from pandas.io.json import json_normalize"
   ]
  },
  {
   "cell_type": "code",
   "execution_count": 2,
   "metadata": {},
   "outputs": [
    {
     "name": "stdout",
     "output_type": "stream",
     "text": [
      "-rwxr-xr-x 1 kadochnikov kadochnikov 10906318 Nov  7 21:10 /project/msca/kadochnikov/news/news_apple_fruit.pkl\r\n"
     ]
    }
   ],
   "source": [
    "!ls -l /project/msca/kadochnikov/news/*app*"
   ]
  },
  {
   "cell_type": "code",
   "execution_count": 3,
   "metadata": {},
   "outputs": [
    {
     "data": {
      "text/plain": [
       "(6475, 4)"
      ]
     },
     "execution_count": 3,
     "metadata": {},
     "output_type": "execute_result"
    }
   ],
   "source": [
    "news_apple_fruit = pd.read_pickle('/project/msca/kadochnikov/news/news_apple_fruit.pkl')\n",
    "news_apple_fruit.shape"
   ]
  },
  {
   "cell_type": "code",
   "execution_count": 4,
   "metadata": {},
   "outputs": [
    {
     "data": {
      "text/html": [
       "<div>\n",
       "<style scoped>\n",
       "    .dataframe tbody tr th:only-of-type {\n",
       "        vertical-align: middle;\n",
       "    }\n",
       "\n",
       "    .dataframe tbody tr th {\n",
       "        vertical-align: top;\n",
       "    }\n",
       "\n",
       "    .dataframe thead th {\n",
       "        text-align: right;\n",
       "    }\n",
       "</style>\n",
       "<table border=\"1\" class=\"dataframe\">\n",
       "  <thead>\n",
       "    <tr style=\"text-align: right;\">\n",
       "      <th></th>\n",
       "      <th>crawled</th>\n",
       "      <th>language</th>\n",
       "      <th>text</th>\n",
       "      <th>title</th>\n",
       "    </tr>\n",
       "  </thead>\n",
       "  <tbody>\n",
       "    <tr>\n",
       "      <th>5</th>\n",
       "      <td>2018-11-05T04:57:51.015+02:00</td>\n",
       "      <td>english</td>\n",
       "      <td>November 4, 2018 Spread the love\\nStarting to ...</td>\n",
       "      <td>Apple Cranberry Salad</td>\n",
       "    </tr>\n",
       "    <tr>\n",
       "      <th>7</th>\n",
       "      <td>2018-11-05T04:58:36.012+02:00</td>\n",
       "      <td>english</td>\n",
       "      <td>Home Nation First snowfall in November in nine...</td>\n",
       "      <td>First snowfall in November in nine years pushe...</td>\n",
       "    </tr>\n",
       "    <tr>\n",
       "      <th>11</th>\n",
       "      <td>2018-11-05T05:02:21.004+02:00</td>\n",
       "      <td>english</td>\n",
       "      <td>more ads by this user Lovely apple green nephr...</td>\n",
       "      <td>Estate Vintage Apple Green Nephrite Jade Marqu...</td>\n",
       "    </tr>\n",
       "    <tr>\n",
       "      <th>16</th>\n",
       "      <td>2018-11-05T05:07:11.004+02:00</td>\n",
       "      <td>english</td>\n",
       "      <td>Type: For Sale 390 Good Day! I am selling here...</td>\n",
       "      <td>Chord Mojo &amp; Apple Lightning kit</td>\n",
       "    </tr>\n",
       "    <tr>\n",
       "      <th>18</th>\n",
       "      <td>2018-11-05T05:10:46.008+02:00</td>\n",
       "      <td>english</td>\n",
       "      <td>I was trying to buy an X Factor live performan...</td>\n",
       "      <td>Apple Music deleted all my songs.</td>\n",
       "    </tr>\n",
       "  </tbody>\n",
       "</table>\n",
       "</div>"
      ],
      "text/plain": [
       "                          crawled language  \\\n",
       "5   2018-11-05T04:57:51.015+02:00  english   \n",
       "7   2018-11-05T04:58:36.012+02:00  english   \n",
       "11  2018-11-05T05:02:21.004+02:00  english   \n",
       "16  2018-11-05T05:07:11.004+02:00  english   \n",
       "18  2018-11-05T05:10:46.008+02:00  english   \n",
       "\n",
       "                                                 text  \\\n",
       "5   November 4, 2018 Spread the love\\nStarting to ...   \n",
       "7   Home Nation First snowfall in November in nine...   \n",
       "11  more ads by this user Lovely apple green nephr...   \n",
       "16  Type: For Sale 390 Good Day! I am selling here...   \n",
       "18  I was trying to buy an X Factor live performan...   \n",
       "\n",
       "                                                title  \n",
       "5                               Apple Cranberry Salad  \n",
       "7   First snowfall in November in nine years pushe...  \n",
       "11  Estate Vintage Apple Green Nephrite Jade Marqu...  \n",
       "16                   Chord Mojo & Apple Lightning kit  \n",
       "18                  Apple Music deleted all my songs.  "
      ]
     },
     "execution_count": 4,
     "metadata": {},
     "output_type": "execute_result"
    }
   ],
   "source": [
    "news_apple_fruit[(news_apple_fruit['text'].str.contains('apple'))].head(5)"
   ]
  },
  {
   "cell_type": "code",
   "execution_count": 5,
   "metadata": {},
   "outputs": [
    {
     "data": {
      "text/html": [
       "<div>\n",
       "<style scoped>\n",
       "    .dataframe tbody tr th:only-of-type {\n",
       "        vertical-align: middle;\n",
       "    }\n",
       "\n",
       "    .dataframe tbody tr th {\n",
       "        vertical-align: top;\n",
       "    }\n",
       "\n",
       "    .dataframe thead th {\n",
       "        text-align: right;\n",
       "    }\n",
       "</style>\n",
       "<table border=\"1\" class=\"dataframe\">\n",
       "  <thead>\n",
       "    <tr style=\"text-align: right;\">\n",
       "      <th></th>\n",
       "      <th>crawled</th>\n",
       "      <th>language</th>\n",
       "      <th>text</th>\n",
       "      <th>title</th>\n",
       "    </tr>\n",
       "  </thead>\n",
       "  <tbody>\n",
       "    <tr>\n",
       "      <th>16</th>\n",
       "      <td>2018-11-05T05:07:11.004+02:00</td>\n",
       "      <td>english</td>\n",
       "      <td>Type: For Sale 390 Good Day! I am selling here...</td>\n",
       "      <td>Chord Mojo &amp; Apple Lightning kit</td>\n",
       "    </tr>\n",
       "    <tr>\n",
       "      <th>152</th>\n",
       "      <td>2018-11-05T07:04:25.003+02:00</td>\n",
       "      <td>english</td>\n",
       "      <td>maspul\\nWhat does the ‘R’ in iPhone XR stand f...</td>\n",
       "      <td>Apple iPhone XR review: The ‘cheapest’ iPhone ...</td>\n",
       "    </tr>\n",
       "    <tr>\n",
       "      <th>267</th>\n",
       "      <td>2018-11-05T08:43:43.002+02:00</td>\n",
       "      <td>english</td>\n",
       "      <td>Published New Discard Success! contact 9885347...</td>\n",
       "      <td>Apple Showroom in Hyderabad|Apple Stores in hy...</td>\n",
       "    </tr>\n",
       "    <tr>\n",
       "      <th>312</th>\n",
       "      <td>2018-11-05T09:21:05.019+02:00</td>\n",
       "      <td>english</td>\n",
       "      <td>http://www.tabstores.in/apple-iphones.html</td>\n",
       "      <td>http://www.tabstores.in/apple-iphones.html</td>\n",
       "    </tr>\n",
       "    <tr>\n",
       "      <th>343</th>\n",
       "      <td>2018-11-05T09:53:34.002+02:00</td>\n",
       "      <td>english</td>\n",
       "      <td>apple , Business , infographic , ipad , iphone...</td>\n",
       "      <td>Apple Will Not Be Reporting Unit Sales Anymore...</td>\n",
       "    </tr>\n",
       "  </tbody>\n",
       "</table>\n",
       "</div>"
      ],
      "text/plain": [
       "                           crawled language  \\\n",
       "16   2018-11-05T05:07:11.004+02:00  english   \n",
       "152  2018-11-05T07:04:25.003+02:00  english   \n",
       "267  2018-11-05T08:43:43.002+02:00  english   \n",
       "312  2018-11-05T09:21:05.019+02:00  english   \n",
       "343  2018-11-05T09:53:34.002+02:00  english   \n",
       "\n",
       "                                                  text  \\\n",
       "16   Type: For Sale 390 Good Day! I am selling here...   \n",
       "152  maspul\\nWhat does the ‘R’ in iPhone XR stand f...   \n",
       "267  Published New Discard Success! contact 9885347...   \n",
       "312         http://www.tabstores.in/apple-iphones.html   \n",
       "343  apple , Business , infographic , ipad , iphone...   \n",
       "\n",
       "                                                 title  \n",
       "16                    Chord Mojo & Apple Lightning kit  \n",
       "152  Apple iPhone XR review: The ‘cheapest’ iPhone ...  \n",
       "267  Apple Showroom in Hyderabad|Apple Stores in hy...  \n",
       "312         http://www.tabstores.in/apple-iphones.html  \n",
       "343  Apple Will Not Be Reporting Unit Sales Anymore...  "
      ]
     },
     "execution_count": 5,
     "metadata": {},
     "output_type": "execute_result"
    }
   ],
   "source": [
    "news_apple_fruit[(news_apple_fruit['text'].str.contains('apple')) & (news_apple_fruit['text'].str.contains('iphone'))].\\\n",
    "head(5)"
   ]
  },
  {
   "cell_type": "code",
   "execution_count": 6,
   "metadata": {},
   "outputs": [
    {
     "data": {
      "text/html": [
       "<div>\n",
       "<style scoped>\n",
       "    .dataframe tbody tr th:only-of-type {\n",
       "        vertical-align: middle;\n",
       "    }\n",
       "\n",
       "    .dataframe tbody tr th {\n",
       "        vertical-align: top;\n",
       "    }\n",
       "\n",
       "    .dataframe thead th {\n",
       "        text-align: right;\n",
       "    }\n",
       "</style>\n",
       "<table border=\"1\" class=\"dataframe\">\n",
       "  <thead>\n",
       "    <tr style=\"text-align: right;\">\n",
       "      <th></th>\n",
       "      <th>crawled</th>\n",
       "      <th>language</th>\n",
       "      <th>text</th>\n",
       "      <th>title</th>\n",
       "    </tr>\n",
       "  </thead>\n",
       "  <tbody>\n",
       "    <tr>\n",
       "      <th>7</th>\n",
       "      <td>2018-11-05T04:58:36.012+02:00</td>\n",
       "      <td>english</td>\n",
       "      <td>Home Nation First snowfall in November in nine...</td>\n",
       "      <td>First snowfall in November in nine years pushe...</td>\n",
       "    </tr>\n",
       "    <tr>\n",
       "      <th>76</th>\n",
       "      <td>2018-11-05T05:55:51.018+02:00</td>\n",
       "      <td>english</td>\n",
       "      <td>400 tonnes of Vietnamese star apples set off f...</td>\n",
       "      <td>400 tonnes of Vietnamese star apples set off f...</td>\n",
       "    </tr>\n",
       "    <tr>\n",
       "      <th>207</th>\n",
       "      <td>2018-11-05T08:06:42.027+02:00</td>\n",
       "      <td>english</td>\n",
       "      <td>Untimely snowfall damages apple crop in Kashmi...</td>\n",
       "      <td>Untimely snowfall damages apple crop in Kashmir</td>\n",
       "    </tr>\n",
       "    <tr>\n",
       "      <th>265</th>\n",
       "      <td>2018-11-05T08:43:10.000+02:00</td>\n",
       "      <td>english</td>\n",
       "      <td>SRINAGAR: Apple crop worth crores of rupees ha...</td>\n",
       "      <td>Untimely snowfall damages apple crop | Srinagar</td>\n",
       "    </tr>\n",
       "    <tr>\n",
       "      <th>377</th>\n",
       "      <td>2018-11-05T10:26:42.011+02:00</td>\n",
       "      <td>english</td>\n",
       "      <td>November 5, 2018 apple crumble pie recipe Rust...</td>\n",
       "      <td>Rustle up the right way recipe for apple crisp...</td>\n",
       "    </tr>\n",
       "  </tbody>\n",
       "</table>\n",
       "</div>"
      ],
      "text/plain": [
       "                           crawled language  \\\n",
       "7    2018-11-05T04:58:36.012+02:00  english   \n",
       "76   2018-11-05T05:55:51.018+02:00  english   \n",
       "207  2018-11-05T08:06:42.027+02:00  english   \n",
       "265  2018-11-05T08:43:10.000+02:00  english   \n",
       "377  2018-11-05T10:26:42.011+02:00  english   \n",
       "\n",
       "                                                  text  \\\n",
       "7    Home Nation First snowfall in November in nine...   \n",
       "76   400 tonnes of Vietnamese star apples set off f...   \n",
       "207  Untimely snowfall damages apple crop in Kashmi...   \n",
       "265  SRINAGAR: Apple crop worth crores of rupees ha...   \n",
       "377  November 5, 2018 apple crumble pie recipe Rust...   \n",
       "\n",
       "                                                 title  \n",
       "7    First snowfall in November in nine years pushe...  \n",
       "76   400 tonnes of Vietnamese star apples set off f...  \n",
       "207    Untimely snowfall damages apple crop in Kashmir  \n",
       "265    Untimely snowfall damages apple crop | Srinagar  \n",
       "377  Rustle up the right way recipe for apple crisp...  "
      ]
     },
     "execution_count": 6,
     "metadata": {},
     "output_type": "execute_result"
    }
   ],
   "source": [
    "news_apple_fruit[(news_apple_fruit['text'].str.contains('fruit')) & (news_apple_fruit['title'].str.contains('apple'))].\\\n",
    "head(5)"
   ]
  },
  {
   "cell_type": "code",
   "execution_count": null,
   "metadata": {},
   "outputs": [],
   "source": []
  },
  {
   "cell_type": "code",
   "execution_count": null,
   "metadata": {},
   "outputs": [],
   "source": []
  }
 ],
 "metadata": {
  "kernelspec": {
   "display_name": "Python 3.6.4",
   "language": "python",
   "name": "python3"
  },
  "language_info": {
   "codemirror_mode": {
    "name": "ipython",
    "version": 3
   },
   "file_extension": ".py",
   "mimetype": "text/x-python",
   "name": "python",
   "nbconvert_exporter": "python",
   "pygments_lexer": "ipython3",
   "version": "3.6.4"
  }
 },
 "nbformat": 4,
 "nbformat_minor": 2
}
