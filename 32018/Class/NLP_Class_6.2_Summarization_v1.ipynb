{
 "cells": [
  {
   "cell_type": "markdown",
   "metadata": {},
   "source": [
    "## Text Summarization"
   ]
  },
  {
   "cell_type": "markdown",
   "metadata": {},
   "source": [
    "https://rare-technologies.com/text-summarization-in-python-extractive-vs-abstractive-techniques-revisited/"
   ]
  },
  {
   "cell_type": "code",
   "execution_count": 1,
   "metadata": {},
   "outputs": [
    {
     "name": "stdout",
     "output_type": "stream",
     "text": [
      "3.7.0 (default, Jun 28 2018, 08:04:48) [MSC v.1912 64 bit (AMD64)]\n"
     ]
    }
   ],
   "source": [
    "import os\n",
    "import sys\n",
    "print(sys.version)"
   ]
  },
  {
   "cell_type": "code",
   "execution_count": 2,
   "metadata": {},
   "outputs": [],
   "source": [
    "import warnings\n",
    "warnings.filterwarnings('ignore', category=FutureWarning)\n",
    "warnings.filterwarnings('ignore', category=DeprecationWarning)\n",
    "warnings.filterwarnings(action='ignore', category=UserWarning, module='gensim')"
   ]
  },
  {
   "cell_type": "markdown",
   "metadata": {},
   "source": [
    "### Summarization with gensim TextRank"
   ]
  },
  {
   "cell_type": "code",
   "execution_count": 3,
   "metadata": {},
   "outputs": [],
   "source": [
    "from gensim.summarization.summarizer import summarize\n",
    "import pandas as pd\n",
    "import re"
   ]
  },
  {
   "cell_type": "code",
   "execution_count": 4,
   "metadata": {},
   "outputs": [],
   "source": [
    "text = '''\n",
    "\n",
    "The University of Chicago is an urban research university that has driven new ways of thinking since 1890. Our commitment to free and open inquiry draws inspired scholars to our global campuses, where ideas are born that challenge and change the world.\n",
    "\n",
    "We empower individuals to challenge conventional thinking in pursuit of original ideas. Students in the College develop critical, analytic, and writing skills in our rigorous, interdisciplinary core curriculum. Through graduate programs, students test their ideas with UChicago scholars, and become the next generation of leaders in academia, industry, nonprofits, and government.\n",
    "\n",
    "UChicago research has led to such breakthroughs as discovering the link between cancer and genetics, establishing revolutionary theories of economics, and developing tools to produce reliably excellent urban schooling. We generate new insights for the benefit of present and future generations with our national and affiliated laboratories: Argonne National Laboratory, Fermi National Accelerator Laboratory, and the Marine Biological Laboratory in Woods Hole, Massachusetts.\n",
    "\n",
    "The University of Chicago is enriched by the city we call home. In partnership with our neighbors, we invest in Chicago's mid-South Side across such areas as health, education, economic growth, and the arts. Together with our medical center, we are the largest private employer on the South Side.\n",
    "\n",
    "In all we do, we are driven to dig deeper, push further, and ask bigger questions—and to leverage our knowledge to enrich all human life. Our diverse and creative students and alumni drive innovation, lead international conversations, and make masterpieces. Alumni and faculty, lecturers and postdocs go on to become Nobel laureates, CEOs, university presidents, attorneys general, literary giants, and astronauts. \n",
    "'''"
   ]
  },
  {
   "cell_type": "code",
   "execution_count": 5,
   "metadata": {},
   "outputs": [
    {
     "name": "stdout",
     "output_type": "stream",
     "text": [
      "\n",
      "\n",
      "The University of Chicago is an urban research university that has driven new ways of thinking since 1890. Our commitment to free and open inquiry draws inspired scholars to our global campuses, where ideas are born that challenge and change the world.\n",
      "\n",
      "We empower individuals to challenge conventional thinking in pursuit of original ideas. Students in the College develop critical, analytic, and writing skills in our rigorous, interdisciplinary core curriculum. Through graduate programs, students test their ideas with UChicago scholars, and become the next generation of leaders in academia, industry, nonprofits, and government.\n",
      "\n",
      "UChicago research has led to such breakthroughs as discovering the link between cancer and genetics, establishing revolutionary theories of economics, and developing tools to produce reliably excellent urban schooling. We generate new insights for the benefit of present and future generations with our national and affiliated laboratories: Argonne National Laboratory, Fermi National Accelerator Laboratory, and the Marine Biological Laboratory in Woods Hole, Massachusetts.\n",
      "\n",
      "The University of Chicago is enriched by the city we call home. In partnership with our neighbors, we invest in Chicago's mid-South Side across such areas as health, education, economic growth, and the arts. Together with our medical center, we are the largest private employer on the South Side.\n",
      "\n",
      "In all we do, we are driven to dig deeper, push further, and ask bigger questions—and to leverage our knowledge to enrich all human life. Our diverse and creative students and alumni drive innovation, lead international conversations, and make masterpieces. Alumni and faculty, lecturers and postdocs go on to become Nobel laureates, CEOs, university presidents, attorneys general, literary giants, and astronauts. \n",
      "\n"
     ]
    }
   ],
   "source": [
    "print(text)"
   ]
  },
  {
   "cell_type": "code",
   "execution_count": 6,
   "metadata": {},
   "outputs": [
    {
     "name": "stdout",
     "output_type": "stream",
     "text": [
      "The University of Chicago is an urban research university that has driven new ways of thinking since 1890.\n",
      "Through graduate programs, students test their ideas with UChicago scholars, and become the next generation of leaders in academia, industry, nonprofits, and government.\n"
     ]
    }
   ],
   "source": [
    "textSum = summarize(text)\n",
    "print(textSum)"
   ]
  },
  {
   "cell_type": "code",
   "execution_count": 7,
   "metadata": {},
   "outputs": [
    {
     "name": "stdout",
     "output_type": "stream",
     "text": [
      "The University of Chicago is an urban research university that has driven new ways of thinking since 1890.\n"
     ]
    }
   ],
   "source": [
    "textSum = summarize(text, ratio=0.1)\n",
    "print(textSum)"
   ]
  },
  {
   "cell_type": "markdown",
   "metadata": {},
   "source": [
    "### Summarizing book with TextRank"
   ]
  },
  {
   "cell_type": "code",
   "execution_count": 22,
   "metadata": {},
   "outputs": [],
   "source": [
    "directory = 'C://Users//IBM_ADMIN//Documents//Teaching//Data Projects//Text//Books//'\n",
    "book = '3boat10.txt'\n",
    "f = open(directory+book)\n",
    "textRaw = f.read()\n",
    "text = re.sub(r'\\n', ' ', textRaw)"
   ]
  },
  {
   "cell_type": "code",
   "execution_count": 23,
   "metadata": {},
   "outputs": [
    {
     "name": "stdout",
     "output_type": "stream",
     "text": [
      "Wall time: 48.9 s\n",
      "And we sit there, by its margin, while the moon, who loves it too, stoops  down to kiss it with a sister's kiss, and throws her silver arms around  it clingingly; and we watch it as it flows, ever singing, ever  whispering, out to meet its king, the sea - till our voices die away in  silence, and the pipes go out - till we, common-place, everyday young men  enough, feel strangely full of thoughts, half sad, half sweet, and do not  care or want to speak - till we laugh, and, rising, knock the ashes from  our burnt-out pipes, and say \"Good-night,\" and, lulled by the lapping  water and the rustling trees, we fall asleep beneath the great, still  stars, and dream that the world is young again - young and sweet as she  used to be ere the centuries of fret and care had furrowed her fair face,  ere her children's sins and follies had made old her loving heart - sweet  as she was in those bygone days when, a new-made mother, she nursed us,  her children, upon her own deep breast - ere the wiles of painted  civilization had lured us away from her fond arms, and the poisoned  sneers of artificiality had made us ashamed of the simple life we led  with her, and the simple, stately home where mankind was born so many  thousands years ago.\n",
      "I believe that if you met  Harris up in Paradise (supposing such a thing likely), he would  immediately greet you with:  \"So glad you've come, old fellow; I've found a nice place round the  corner here, where you can get some really first-class nectar.\"  In the present instance, however, as regarded the camping out, his  practical view of the matter came as a very timely hint.\n",
      "He will be snatched up to the bright skies in a chariot, that is  what will happen to him.\"  But, when I had paid for about a dozen chickens that he had killed; and  had dragged him, growling and kicking, by the scruff of his neck, out of  a hundred and fourteen street fights; and had had a dead cat brought  round for my inspection by an irate female, who called me a murderer; and  had been summoned by the man next door but one for having a ferocious dog  at large, that had kept him pinned up in his own tool-shed, afraid to  venture his nose outside the door for over two hours on a cold night; and  had learned that the gardener, unknown to myself, had won thirty  shillings by backing him to kill rats against time, then I began to think  that maybe they'd let him remain on earth for a bit longer, after all.\n"
     ]
    }
   ],
   "source": [
    "%time textSum = summarize(text, ratio=0.001)\n",
    "print(textSum)"
   ]
  },
  {
   "cell_type": "code",
   "execution_count": 24,
   "metadata": {},
   "outputs": [
    {
     "name": "stdout",
     "output_type": "stream",
     "text": [
      "Wall time: 49.7 s\n",
      "Then the big pipes are  filled and lighted, and the pleasant chat goes round in musical  undertone; while, in the pauses of our talk, the river, playing round the  boat, prattles strange old tales and secrets, sings low the old child's  song that it has sung so many thousand years - will sing so many thousand  years to come, before its voice grows harsh and old - a song that we, who  have learnt to love its changing face, who have so often nestled on its  yielding bosom, think, somehow, we understand, though we could not tell  you in mere words the story that we listen to.\n",
      "And we sit there, by its margin, while the moon, who loves it too, stoops  down to kiss it with a sister's kiss, and throws her silver arms around  it clingingly; and we watch it as it flows, ever singing, ever  whispering, out to meet its king, the sea - till our voices die away in  silence, and the pipes go out - till we, common-place, everyday young men  enough, feel strangely full of thoughts, half sad, half sweet, and do not  care or want to speak - till we laugh, and, rising, knock the ashes from  our burnt-out pipes, and say \"Good-night,\" and, lulled by the lapping  water and the rustling trees, we fall asleep beneath the great, still  stars, and dream that the world is young again - young and sweet as she  used to be ere the centuries of fret and care had furrowed her fair face,  ere her children's sins and follies had made old her loving heart - sweet  as she was in those bygone days when, a new-made mother, she nursed us,  her children, upon her own deep breast - ere the wiles of painted  civilization had lured us away from her fond arms, and the poisoned  sneers of artificiality had made us ashamed of the simple life we led  with her, and the simple, stately home where mankind was born so many  thousands years ago.\n",
      "I believe that if you met  Harris up in Paradise (supposing such a thing likely), he would  immediately greet you with:  \"So glad you've come, old fellow; I've found a nice place round the  corner here, where you can get some really first-class nectar.\"  In the present instance, however, as regarded the camping out, his  practical view of the matter came as a very timely hint.\n",
      "He will be snatched up to the bright skies in a chariot, that is  what will happen to him.\"  But, when I had paid for about a dozen chickens that he had killed; and  had dragged him, growling and kicking, by the scruff of his neck, out of  a hundred and fourteen street fights; and had had a dead cat brought  round for my inspection by an irate female, who called me a murderer; and  had been summoned by the man next door but one for having a ferocious dog  at large, that had kept him pinned up in his own tool-shed, afraid to  venture his nose outside the door for over two hours on a cold night; and  had learned that the gardener, unknown to myself, had won thirty  shillings by backing him to kill rats against time, then I began to think  that maybe they'd let him remain on earth for a bit longer, after all.\n",
      "Harris said that we should be  wanting to start in less than twelve hours' time, and thought that he and  George had better do the rest; and I agreed and sat down, and they had a  go.\n",
      "The quaint back streets of Kingston, where they came down to the water's  edge, looked quite picturesque in the flashing sunlight, the glinting  river with its drifting barges, the wooded towpath, the trim-kept villas  on the other side, Harris, in a red and orange blazer, grunting away at  the sculls, the distant glimpses of the grey old palace of the Tudors,  all made a sunny picture, so bright but calm, so full of life, and yet so  peaceful, that, early in the day though it was, I felt myself being  dreamily lulled off into a musing fit.\n"
     ]
    }
   ],
   "source": [
    "%time textSum = summarize(text, ratio=0.002)\n",
    "print(textSum)"
   ]
  },
  {
   "cell_type": "markdown",
   "metadata": {},
   "source": [
    "### Summarizing news articles with TextRank"
   ]
  },
  {
   "cell_type": "code",
   "execution_count": 66,
   "metadata": {},
   "outputs": [],
   "source": [
    "directory = 'C://Users//IBM_ADMIN//Documents//Teaching//Data Projects//Text//Webhose//'\n",
    "news_articles = 'news_toyota.pkl'\n",
    "path = directory+news_articles"
   ]
  },
  {
   "cell_type": "code",
   "execution_count": 67,
   "metadata": {},
   "outputs": [],
   "source": [
    "news_df = pd.read_pickle(directory+news_articles)"
   ]
  },
  {
   "cell_type": "code",
   "execution_count": 68,
   "metadata": {},
   "outputs": [],
   "source": [
    "# Filter non-English tweets\n",
    "news_eng = news_df[news_df['language']=='english'].reset_index(drop=True)"
   ]
  },
  {
   "cell_type": "code",
   "execution_count": 69,
   "metadata": {},
   "outputs": [],
   "source": [
    "# Remove /n characters to avoid problems with analysis\n",
    "news_eng['text_clean'] = news_eng['text'].map(lambda x: re.sub(r'\\n', '.  ', str(x)))"
   ]
  },
  {
   "cell_type": "code",
   "execution_count": 70,
   "metadata": {},
   "outputs": [
    {
     "data": {
      "text/html": [
       "<div>\n",
       "<style scoped>\n",
       "    .dataframe tbody tr th:only-of-type {\n",
       "        vertical-align: middle;\n",
       "    }\n",
       "\n",
       "    .dataframe tbody tr th {\n",
       "        vertical-align: top;\n",
       "    }\n",
       "\n",
       "    .dataframe thead th {\n",
       "        text-align: right;\n",
       "    }\n",
       "</style>\n",
       "<table border=\"1\" class=\"dataframe\">\n",
       "  <thead>\n",
       "    <tr style=\"text-align: right;\">\n",
       "      <th></th>\n",
       "      <th>text</th>\n",
       "      <th>text_clean</th>\n",
       "    </tr>\n",
       "  </thead>\n",
       "  <tbody>\n",
       "    <tr>\n",
       "      <th>0</th>\n",
       "      <td>QR Code Link to This Post All maintenance receipts available, one owner truck. Cash sale. No tra...</td>\n",
       "      <td>QR Code Link to This Post All maintenance receipts available, one owner truck. Cash sale. No tra...</td>\n",
       "    </tr>\n",
       "    <tr>\n",
       "      <th>1</th>\n",
       "      <td>0 \\nNEW YORK: Automakers reported mixed US car sales in January, with strong demand for SUVs and...</td>\n",
       "      <td>0 .  NEW YORK: Automakers reported mixed US car sales in January, with strong demand for SUVs an...</td>\n",
       "    </tr>\n",
       "    <tr>\n",
       "      <th>2</th>\n",
       "      <td>transmission: automatic   2005 Toyota Camry LE 4 door 4 cyl AUTOMATIC VERY CLEAN INSIDE CLOTH IN...</td>\n",
       "      <td>transmission: automatic   2005 Toyota Camry LE 4 door 4 cyl AUTOMATIC VERY CLEAN INSIDE CLOTH IN...</td>\n",
       "    </tr>\n",
       "    <tr>\n",
       "      <th>3</th>\n",
       "      <td>favorite this post Brand New Toyota Avalon Floor Mats - $115 (New Britain) hide this posting unh...</td>\n",
       "      <td>favorite this post Brand New Toyota Avalon Floor Mats - $115 (New Britain) hide this posting unh...</td>\n",
       "    </tr>\n",
       "    <tr>\n",
       "      <th>4</th>\n",
       "      <td>more ads by this user QR Code Link to This Post Black w/Piano Black w/Perforated NuLuxe Seat Tri...</td>\n",
       "      <td>more ads by this user QR Code Link to This Post Black w/Piano Black w/Perforated NuLuxe Seat Tri...</td>\n",
       "    </tr>\n",
       "  </tbody>\n",
       "</table>\n",
       "</div>"
      ],
      "text/plain": [
       "                                                                                                  text  \\\n",
       "0  QR Code Link to This Post All maintenance receipts available, one owner truck. Cash sale. No tra...   \n",
       "1  0 \\nNEW YORK: Automakers reported mixed US car sales in January, with strong demand for SUVs and...   \n",
       "2  transmission: automatic   2005 Toyota Camry LE 4 door 4 cyl AUTOMATIC VERY CLEAN INSIDE CLOTH IN...   \n",
       "3  favorite this post Brand New Toyota Avalon Floor Mats - $115 (New Britain) hide this posting unh...   \n",
       "4  more ads by this user QR Code Link to This Post Black w/Piano Black w/Perforated NuLuxe Seat Tri...   \n",
       "\n",
       "                                                                                            text_clean  \n",
       "0  QR Code Link to This Post All maintenance receipts available, one owner truck. Cash sale. No tra...  \n",
       "1  0 .  NEW YORK: Automakers reported mixed US car sales in January, with strong demand for SUVs an...  \n",
       "2  transmission: automatic   2005 Toyota Camry LE 4 door 4 cyl AUTOMATIC VERY CLEAN INSIDE CLOTH IN...  \n",
       "3  favorite this post Brand New Toyota Avalon Floor Mats - $115 (New Britain) hide this posting unh...  \n",
       "4  more ads by this user QR Code Link to This Post Black w/Piano Black w/Perforated NuLuxe Seat Tri...  "
      ]
     },
     "execution_count": 70,
     "metadata": {},
     "output_type": "execute_result"
    }
   ],
   "source": [
    "pd.set_option('display.max_colwidth', 100)\n",
    "news_eng[['text', 'text_clean']].head(5)"
   ]
  },
  {
   "cell_type": "code",
   "execution_count": 71,
   "metadata": {},
   "outputs": [
    {
     "data": {
      "text/plain": [
       "\"['QR Code Link to This Post All maintenance receipts available, one owner truck. Cash sale. No trades.   6477478013', '0 .  NEW YORK: Automakers reported mixed US car sales in January, with strong demand for SUVs and pickup trucks continuing to provide a cushion in a declining overall auto market. .  Ford and Fiat Chrysler reported declines in year-over-year sales, while General Motors scored a modest increase and Toyota saw a more substantial jump. .  US car sales fell last year for the first time since the financial crisis and are projected to decline again in 2018. Still, analysts and industry executives expect US sales this year to come in above a solid 16 million vehicles amid low unemployment and strong consumer confidence. .  “US economic factors are very healthy and we’re seeing the effect in the auto industry — not just in strong demand for SUVs and pickups, but in demand for high trim versions of vehicles,” said Mark LaNeve, Ford’s vice president for US marketing. .  Ford’s J\""
      ]
     },
     "execution_count": 71,
     "metadata": {},
     "output_type": "execute_result"
    }
   ],
   "source": [
    "text = str(news_eng['text_clean'].tolist())\n",
    "#text = str(news_eng['text'].tolist())\n",
    "text[:1000]"
   ]
  },
  {
   "cell_type": "code",
   "execution_count": 72,
   "metadata": {},
   "outputs": [
    {
     "name": "stdout",
     "output_type": "stream",
     "text": [
      "Wall time: 7.62 s\n",
      "NEW YORK: Automakers reported mixed US car sales in January, with strong demand for SUVs and pickup trucks continuing to provide a cushion in a declining overall auto market.\n",
      "See the video on our website, axlemotorsports.com , click on inventory then vehicles to see a video on this sled original MSRP $11,500 Very powerful 150 Horsepower motor 998cc engine 20 valve, dual overhead cam 4 Stroke', 'type: sedan QR Code Link to This Post Keyless entry and Start, AM/FM Stereo, CD/MP3 (Multi Disc), Tilt and Telescoping Wheel, Power Steering, Power windows/mirrors and door locks, all 4-wheel ABS do NOT contact me with unsolicited services or offers post id: 6481359698', 'type: sedan QR Code Link to This Post INCLUDES 3 MONTHS/3000 Mile LIMITED POWERTRAIN WARRANTY IN THE PRICE (Many Upgradable Options and up to 2 years Available) Warranties are through ASC Warranty.\n",
      "Unsubscribe | View all your alerts Receive this alert as RSS feed Send Feedback ', 'inspection paperwork by Toyota included No trades Camry, corolla, Nissan, leaf, civic, hybrid, Accord, Passat, Jetta, audi,A4,a6,a8,a3,tdi, Element, pilot, crv, rdx, explorer, sport do NOT contact me with unsolicited services or offers post id: 6467095867', 'Why Rising Commodity Prices Aren\\'t the Real Issue at Ford newsfeedback@fool.com (John Rosevear) Save .\n",
      "Research Make (e.g. Cadillac) Acura Alfa Romeo AM General Aston Martin Audi Bentley BMW Buick Cadillac Chevrolet Chrysler Daewoo Dodge Eagle Ferrari Fiat Fisker Ford Freightliner Genesis Geo GMC Honda Hummer Hyundai Infiniti Isuzu Jaguar Jeep Karma Kia Lamborghini Land Rover Lexus Lincoln Lotus Maserati Maybach Mazda McLaren Mercedes-Benz Mercury MINI Mitsubishi Nissan Oldsmobile Plymouth Pontiac Porsche Ram Rolls-Royce Saab Saturn Scion smart SRT Subaru Suzuki Tesla Toyota Volkswagen Volvo Lexus was also up 15 percent and off to a good start for the year—its NX model had its best January ever according to Jeff Bracken, Lexus VP/GM..\n",
      "On Friday, Toyota said its sales in China in January rose 24.5 percent from a year earlier to 127,500 vehicles.\n"
     ]
    }
   ],
   "source": [
    "%time textSum = summarize(text, ratio=0.003)\n",
    "print(textSum)"
   ]
  },
  {
   "cell_type": "code",
   "execution_count": 73,
   "metadata": {},
   "outputs": [
    {
     "data": {
      "text/plain": [
       "[Sentence(\"NEW YORK: Automakers reported mixed US car sales in January, with strong demand for SUVs and pickup trucks continuing to provide a cushion in a declining overall auto market.\"),\n",
       " Sentence(\"See the video on our website, axlemotorsports.com , click on inventory then vehicles to see a video on this sled original MSRP $11,500 Very powerful 150 Horsepower motor 998cc engine 20 valve, dual overhead cam 4 Stroke', 'type: sedan QR Code Link to This Post Keyless entry and Start, AM/FM Stereo, CD/MP3 (Multi Disc), Tilt and Telescoping Wheel, Power Steering, Power windows/mirrors and door locks, all 4-wheel ABS do NOT contact me with unsolicited services or offers post id: 6481359698', 'type: sedan QR Code Link to This Post INCLUDES 3 MONTHS/3000 Mile LIMITED POWERTRAIN WARRANTY IN THE PRICE (Many Upgradable Options and up to 2 years Available) Warranties are through ASC Warranty.\"),\n",
       " Sentence(\"Unsubscribe | View all your alerts Receive this alert as RSS feed Send Feedback ', 'inspection paperwork by Toyota included No trades Camry, corolla, Nissan, leaf, civic, hybrid, Accord, Passat, Jetta, audi,A4,a6,a8,a3,tdi, Element, pilot, crv, rdx, explorer, sport do NOT contact me with unsolicited services or offers post id: 6467095867', 'Why Rising Commodity Prices Aren\\'t the Real Issue at Ford newsfeedback@fool.com (John Rosevear) Save .\"),\n",
       " Sentence(\"Research Make (e.g.\"),\n",
       " Sentence(\"Cadillac) Acura Alfa Romeo AM General Aston Martin Audi Bentley BMW Buick Cadillac Chevrolet Chrysler Daewoo Dodge Eagle Ferrari Fiat Fisker Ford Freightliner Genesis Geo GMC Honda Hummer Hyundai Infiniti Isuzu Jaguar Jeep Karma Kia Lamborghini Land Rover Lexus Lincoln Lotus Maserati Maybach Mazda McLaren Mercedes-Benz Mercury MINI Mitsubishi Nissan Oldsmobile Plymouth Pontiac Porsche Ram Rolls-Royce Saab Saturn Scion smart SRT Subaru Suzuki Tesla Toyota Volkswagen Volvo Lexus was also up 15 percent and off to a good start for the year—its NX model had its best January ever according to Jeff Bracken, Lexus VP/GM..\n",
       " On Friday, Toyota said its sales in China in January rose 24.5 percent from a year earlier to 127,500 vehicles.\")]"
      ]
     },
     "execution_count": 73,
     "metadata": {},
     "output_type": "execute_result"
    }
   ],
   "source": [
    "from textblob import TextBlob\n",
    "blob = TextBlob(textSum)\n",
    "\n",
    "blob.sentences"
   ]
  },
  {
   "cell_type": "markdown",
   "metadata": {},
   "source": [
    "### Summarization with sumy LexRank"
   ]
  },
  {
   "cell_type": "code",
   "execution_count": 74,
   "metadata": {},
   "outputs": [],
   "source": [
    "from sumy.parsers.plaintext import PlaintextParser\n",
    "from sumy.nlp.tokenizers import Tokenizer\n",
    "from sumy.summarizers.lex_rank import LexRankSummarizer "
   ]
  },
  {
   "cell_type": "code",
   "execution_count": 75,
   "metadata": {},
   "outputs": [],
   "source": [
    "text = '''\n",
    "\n",
    "The University of Chicago is an urban research university that has driven new ways of thinking since 1890. Our commitment to free and open inquiry draws inspired scholars to our global campuses, where ideas are born that challenge and change the world.\n",
    "\n",
    "We empower individuals to challenge conventional thinking in pursuit of original ideas. Students in the College develop critical, analytic, and writing skills in our rigorous, interdisciplinary core curriculum. Through graduate programs, students test their ideas with UChicago scholars, and become the next generation of leaders in academia, industry, nonprofits, and government.\n",
    "\n",
    "UChicago research has led to such breakthroughs as discovering the link between cancer and genetics, establishing revolutionary theories of economics, and developing tools to produce reliably excellent urban schooling. We generate new insights for the benefit of present and future generations with our national and affiliated laboratories: Argonne National Laboratory, Fermi National Accelerator Laboratory, and the Marine Biological Laboratory in Woods Hole, Massachusetts.\n",
    "\n",
    "The University of Chicago is enriched by the city we call home. In partnership with our neighbors, we invest in Chicago's mid-South Side across such areas as health, education, economic growth, and the arts. Together with our medical center, we are the largest private employer on the South Side.\n",
    "\n",
    "In all we do, we are driven to dig deeper, push further, and ask bigger questions—and to leverage our knowledge to enrich all human life. Our diverse and creative students and alumni drive innovation, lead international conversations, and make masterpieces. Alumni and faculty, lecturers and postdocs go on to become Nobel laureates, CEOs, university presidents, attorneys general, literary giants, and astronauts. \n",
    "'''"
   ]
  },
  {
   "cell_type": "code",
   "execution_count": 76,
   "metadata": {},
   "outputs": [],
   "source": [
    "parser = PlaintextParser.from_string(text, Tokenizer('english'))"
   ]
  },
  {
   "cell_type": "code",
   "execution_count": 77,
   "metadata": {},
   "outputs": [
    {
     "name": "stdout",
     "output_type": "stream",
     "text": [
      "Wall time: 35 ms\n",
      "The University of Chicago is an urban research university that has driven new ways of thinking since 1890.\n",
      "Our commitment to free and open inquiry draws inspired scholars to our global campuses, where ideas are born that challenge and change the world.\n"
     ]
    }
   ],
   "source": [
    "summarizer = LexRankSummarizer()\n",
    "\n",
    "#Summarize the document, output 2 sentences\n",
    "%time summary = summarizer(parser.document, 2)\n",
    "\n",
    "for sentence in summary:\n",
    "    print(sentence)"
   ]
  },
  {
   "cell_type": "markdown",
   "metadata": {},
   "source": [
    "### Summarizing book with LexRank"
   ]
  },
  {
   "cell_type": "code",
   "execution_count": 78,
   "metadata": {},
   "outputs": [],
   "source": [
    "directory = 'C://Users//IBM_ADMIN//Documents//Teaching//Data Projects//Text//Books//'\n",
    "book = '3boat10.txt'\n",
    "text = directory+book"
   ]
  },
  {
   "cell_type": "code",
   "execution_count": 79,
   "metadata": {},
   "outputs": [],
   "source": [
    "parser = PlaintextParser.from_file(text, Tokenizer('english'))"
   ]
  },
  {
   "cell_type": "code",
   "execution_count": 80,
   "metadata": {},
   "outputs": [
    {
     "name": "stdout",
     "output_type": "stream",
     "text": [
      "Wall time: 3min 55s\n",
      "George said he should be all right, and would rather like it, but he would advise Harris and me not to think of it, as he felt sure we should both be ill. Harris said that, to himself, it was always a mystery how people managed to get sick at sea - said he thought people must do it on purpose, from affectation - said he had often wished to be, but had never been able.\n",
      "We would find the hammer for him, and then he would have lost sight of the mark he had made on the wall, where the nail was to go in, and each of us had to get up on the chair, beside him, and see if we could find it; and we would each discover it in a different place, and he would call us all fools, one after another, and tell us to get down.\n",
      "I was in Liverpool at the time, and my friend said that if I didn't mind he would get me to take them back with me to London, as he should not be coming up for a day or two himself, and he did not think the cheeses ought to be kept much longer.\n",
      "That is all I can do for you.\"\n",
      "Then we thought we were going to have supper (we had dispensed with tea, so as to save time), but George said no; that we had better get the canvas up first, before it got quite dark, and while we could see what we were doing.\n",
      "And George said: \"Not at all;\" that it was his fault; and Harris said no, it was his.\n",
      "that's where it is, is it?\"\n",
      "Of course, this conduct made the force only more distrustful of him than ever, and they would come and rout him out and ask him what he was doing there; and when he answered, \"Nothing,\" he had merely come out for a stroll (it was then four o'clock in the morning), they looked as though they did not believe him, and two plain-clothes constables came home with him to see if he really did live where he had said he did.\n",
      "\"Is it?\"\n",
      "But he had.\n"
     ]
    }
   ],
   "source": [
    "summarizer = LexRankSummarizer()\n",
    "\n",
    "%time summary = summarizer(parser.document, 10)\n",
    "\n",
    "for sentence in summary:\n",
    "    print(sentence)"
   ]
  },
  {
   "cell_type": "code",
   "execution_count": 81,
   "metadata": {},
   "outputs": [
    {
     "name": "stdout",
     "output_type": "stream",
     "text": [
      "Wall time: 3min 46s\n",
      "I had them all.\n",
      "He said:\n",
      "George said he should be all right, and would rather like it, but he would advise Harris and me not to think of it, as he felt sure we should both be ill. Harris said that, to himself, it was always a mystery how people managed to get sick at sea - said he thought people must do it on purpose, from affectation - said he had often wished to be, but had never been able.\n",
      "\"There you are!\n",
      "We would find the hammer for him, and then he would have lost sight of the mark he had made on the wall, where the nail was to go in, and each of us had to get up on the chair, beside him, and see if we could find it; and we would each discover it in a different place, and he would call us all fools, one after another, and tell us to get down.\n",
      "\"Why, some people would have had a man in to do a little thing like that!\"\n",
      "I was in Liverpool at the time, and my friend said that if I didn't mind he would get me to take them back with me to London, as he should not be coming up for a day or two himself, and he did not think the cheeses ought to be kept much longer.\n",
      "He said:\n",
      "Harris said it was old.\n",
      "That is all I can do for you.\"\n",
      "I said it was a thing I felt I wanted to be in at, too; and I drew out a map I had with me to see exactly how far it was.\n",
      "Then we thought we were going to have supper (we had dispensed with tea, so as to save time), but George said no; that we had better get the canvas up first, before it got quite dark, and while we could see what we were doing.\n",
      "And George said: \"Not at all;\" that it was his fault; and Harris said no, it was his.\n",
      "that's where it is, is it?\"\n",
      "Of course, this conduct made the force only more distrustful of him than ever, and they would come and rout him out and ask him what he was doing there; and when he answered, \"Nothing,\" he had merely come out for a stroll (it was then four o'clock in the morning), they looked as though they did not believe him, and two plain-clothes constables came home with him to see if he really did live where he had said he did.\n",
      "\"Ar'n't you - you - going to get it out?\"\n",
      "\"Is it?\"\n",
      "We said:\n",
      "But he had.\n",
      "and what is it?\"\n"
     ]
    }
   ],
   "source": [
    "summarizer = LexRankSummarizer()\n",
    "\n",
    "%time summary = summarizer(parser.document, 20)\n",
    "\n",
    "for sentence in summary:\n",
    "    print(sentence)"
   ]
  },
  {
   "cell_type": "code",
   "execution_count": 82,
   "metadata": {},
   "outputs": [
    {
     "name": "stdout",
     "output_type": "stream",
     "text": [
      "Wall time: 3min 47s\n",
      "I had them all.\n",
      "He said:\n",
      "George said he should be all right, and would rather like it, but he would advise Harris and me not to think of it, as he felt sure we should both be ill. Harris said that, to himself, it was always a mystery how people managed to get sick at sea - said he thought people must do it on purpose, from affectation - said he had often wished to be, but had never been able.\n",
      "George said:\n",
      "\"There you are!\n",
      "We would find the hammer for him, and then he would have lost sight of the mark he had made on the wall, where the nail was to go in, and each of us had to get up on the chair, beside him, and see if we could find it; and we would each discover it in a different place, and he would call us all fools, one after another, and tell us to get down.\n",
      "\"Why, some people would have had a man in to do a little thing like that!\"\n",
      "George said:\n",
      "George said:\n",
      "I was in Liverpool at the time, and my friend said that if I didn't mind he would get me to take them back with me to London, as he should not be coming up for a day or two himself, and he did not think the cheeses ought to be kept much longer.\n",
      "He said:\n",
      "Harris said it was old.\n",
      "He said:\n",
      "He said:\n",
      "He said:\n",
      "he said.\n",
      "He said:\n",
      "That is all I can do for you.\"\n",
      "I said it was a thing I felt I wanted to be in at, too; and I drew out a map I had with me to see exactly how far it was.\n",
      "Then we thought we were going to have supper (we had dispensed with tea, so as to save time), but George said no; that we had better get the canvas up first, before it got quite dark, and while we could see what we were doing.\n",
      "And George said: \"Not at all;\" that it was his fault; and Harris said no, it was his.\n",
      "that's where it is, is it?\"\n",
      "Of course, this conduct made the force only more distrustful of him than ever, and they would come and rout him out and ask him what he was doing there; and when he answered, \"Nothing,\" he had merely come out for a stroll (it was then four o'clock in the morning), they looked as though they did not believe him, and two plain-clothes constables came home with him to see if he really did live where he had said he did.\n",
      "\"Ar'n't you - you - going to get it out?\"\n",
      "\"Is it?\"\n",
      "He said:\n",
      "We said:\n",
      "He said:\n",
      "But he had.\n",
      "and what is it?\"\n"
     ]
    }
   ],
   "source": [
    "summarizer = LexRankSummarizer()\n",
    "\n",
    "%time summary = summarizer(parser.document, 30)\n",
    "\n",
    "for sentence in summary:\n",
    "    print(sentence)"
   ]
  },
  {
   "cell_type": "code",
   "execution_count": null,
   "metadata": {},
   "outputs": [],
   "source": []
  }
 ],
 "metadata": {
  "kernelspec": {
   "display_name": "Python 3",
   "language": "python",
   "name": "python3"
  },
  "language_info": {
   "codemirror_mode": {
    "name": "ipython",
    "version": 3
   },
   "file_extension": ".py",
   "mimetype": "text/x-python",
   "name": "python",
   "nbconvert_exporter": "python",
   "pygments_lexer": "ipython3",
   "version": "3.7.0"
  }
 },
 "nbformat": 4,
 "nbformat_minor": 2
}
