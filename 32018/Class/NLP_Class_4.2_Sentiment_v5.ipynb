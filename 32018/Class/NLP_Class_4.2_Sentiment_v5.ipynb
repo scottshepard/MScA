{
 "cells": [
  {
   "cell_type": "markdown",
   "metadata": {},
   "source": [
    "# Sentiment Analysis in Python"
   ]
  },
  {
   "cell_type": "code",
   "execution_count": 1,
   "metadata": {
    "collapsed": true
   },
   "outputs": [],
   "source": [
    "#import nltk\n",
    "#nltk.download('popular', halt_on_error=False)\n",
    "#nltk.download('all', halt_on_error=False)"
   ]
  },
  {
   "cell_type": "code",
   "execution_count": 2,
   "metadata": {
    "collapsed": true
   },
   "outputs": [],
   "source": [
    "import pandas as pd\n",
    "import re\n",
    "import sys\n",
    "import matplotlib.pyplot as plt\n",
    "#import nltk as nltk\n",
    "#import nltk.corpus  \n",
    "#from nltk.text import Text\n",
    "from textblob import TextBlob\n",
    "from textblob.sentiments import NaiveBayesAnalyzer"
   ]
  },
  {
   "cell_type": "code",
   "execution_count": 3,
   "metadata": {},
   "outputs": [
    {
     "name": "stdout",
     "output_type": "stream",
     "text": [
      "3.5.4 |Anaconda 4.0.0 (64-bit)| (default, Aug 14 2017, 13:41:13) [MSC v.1900 64 bit (AMD64)]\n"
     ]
    }
   ],
   "source": [
    "print(sys.version)"
   ]
  },
  {
   "cell_type": "markdown",
   "metadata": {},
   "source": [
    "## Sentiment Analysis with TextBlob: Polarity and Subjectivity\n",
    "Subjectivity can come in many forms, e.g., opinions, allegations, desires, beliefs, suspicions, and speculations."
   ]
  },
  {
   "cell_type": "markdown",
   "metadata": {},
   "source": [
    "__textblob.sentiments__ module contains two sentiment analysis implementations, PatternAnalyzer (based on the pattern library: https://www.clips.uantwerpen.be/pattern) and NaiveBayesAnalyzer (an NLTK classifier trained on a movie reviews corpus).\n",
    "\n",
    "The default implementation is PatternAnalyzer, but you can override the analyzer to use NaiveBayesAnalyzer"
   ]
  },
  {
   "cell_type": "code",
   "execution_count": 4,
   "metadata": {
    "collapsed": true
   },
   "outputs": [],
   "source": [
    "text = \"What a federal government shutdown would mean in Chicago\""
   ]
  },
  {
   "cell_type": "code",
   "execution_count": 5,
   "metadata": {},
   "outputs": [
    {
     "data": {
      "text/plain": [
       "Sentiment(classification='pos', p_pos=0.6807460809168577, p_neg=0.31925391908314127)"
      ]
     },
     "execution_count": 5,
     "metadata": {},
     "output_type": "execute_result"
    }
   ],
   "source": [
    "blob = TextBlob(text, analyzer=NaiveBayesAnalyzer())\n",
    "blob.sentiment"
   ]
  },
  {
   "cell_type": "code",
   "execution_count": 6,
   "metadata": {},
   "outputs": [
    {
     "data": {
      "text/plain": [
       "Sentiment(polarity=-0.3125, subjectivity=0.6875)"
      ]
     },
     "execution_count": 6,
     "metadata": {},
     "output_type": "execute_result"
    }
   ],
   "source": [
    "blob = TextBlob(text)\n",
    "blob.sentiment"
   ]
  },
  {
   "cell_type": "code",
   "execution_count": 7,
   "metadata": {
    "collapsed": true
   },
   "outputs": [],
   "source": [
    "text = \"Wolf experts urge UK police not to shoot escaped animal\""
   ]
  },
  {
   "cell_type": "code",
   "execution_count": 8,
   "metadata": {},
   "outputs": [
    {
     "data": {
      "text/plain": [
       "Sentiment(classification='pos', p_pos=0.6175593484868049, p_neg=0.382440651513196)"
      ]
     },
     "execution_count": 8,
     "metadata": {},
     "output_type": "execute_result"
    }
   ],
   "source": [
    "blob = TextBlob(text, analyzer=NaiveBayesAnalyzer())\n",
    "blob.sentiment"
   ]
  },
  {
   "cell_type": "code",
   "execution_count": 9,
   "metadata": {},
   "outputs": [
    {
     "data": {
      "text/plain": [
       "Sentiment(polarity=0.0, subjectivity=0.0)"
      ]
     },
     "execution_count": 9,
     "metadata": {},
     "output_type": "execute_result"
    }
   ],
   "source": [
    "blob = TextBlob(text)\n",
    "blob.sentiment"
   ]
  },
  {
   "cell_type": "code",
   "execution_count": 10,
   "metadata": {
    "collapsed": true
   },
   "outputs": [],
   "source": [
    "text = \"A 29-year-old man was shot Friday evening on the South Side.\""
   ]
  },
  {
   "cell_type": "code",
   "execution_count": 11,
   "metadata": {},
   "outputs": [
    {
     "data": {
      "text/plain": [
       "Sentiment(classification='pos', p_pos=0.7079960513228761, p_neg=0.29200394867712504)"
      ]
     },
     "execution_count": 11,
     "metadata": {},
     "output_type": "execute_result"
    }
   ],
   "source": [
    "blob = TextBlob(text, analyzer=NaiveBayesAnalyzer())\n",
    "blob.sentiment"
   ]
  },
  {
   "cell_type": "code",
   "execution_count": 12,
   "metadata": {},
   "outputs": [
    {
     "data": {
      "text/plain": [
       "Sentiment(polarity=0.0, subjectivity=0.0)"
      ]
     },
     "execution_count": 12,
     "metadata": {},
     "output_type": "execute_result"
    }
   ],
   "source": [
    "blob = TextBlob(text)\n",
    "blob.sentiment"
   ]
  },
  {
   "cell_type": "code",
   "execution_count": 13,
   "metadata": {
    "collapsed": true
   },
   "outputs": [],
   "source": [
    "text = \"Three teenagers have been charged with felony robbery after they were\\\n",
    "taken into custody in connection with a string of robberies from the Near North Side to Kenwood.\""
   ]
  },
  {
   "cell_type": "code",
   "execution_count": 14,
   "metadata": {},
   "outputs": [
    {
     "data": {
      "text/plain": [
       "Sentiment(classification='pos', p_pos=0.8951825240223382, p_neg=0.1048174759776575)"
      ]
     },
     "execution_count": 14,
     "metadata": {},
     "output_type": "execute_result"
    }
   ],
   "source": [
    "blob = TextBlob(text, analyzer=NaiveBayesAnalyzer())\n",
    "blob.sentiment"
   ]
  },
  {
   "cell_type": "code",
   "execution_count": 15,
   "metadata": {},
   "outputs": [
    {
     "data": {
      "text/plain": [
       "Sentiment(polarity=0.1, subjectivity=0.4)"
      ]
     },
     "execution_count": 15,
     "metadata": {},
     "output_type": "execute_result"
    }
   ],
   "source": [
    "blob = TextBlob(text)\n",
    "blob.sentiment"
   ]
  },
  {
   "cell_type": "code",
   "execution_count": 16,
   "metadata": {
    "collapsed": true
   },
   "outputs": [],
   "source": [
    "text = \"American and Southwest joined United Airlines in reporting expectation-beating earnings \\\n",
    "and unveiling expansion plans.  But investors, fearing that more flights might lead to a fare war, \\\n",
    "pounded airline stocks for a second day even as American Airlines signaled that higher fuel costs \\\n",
    "will probably force it to raise fares..\""
   ]
  },
  {
   "cell_type": "code",
   "execution_count": 17,
   "metadata": {},
   "outputs": [
    {
     "data": {
      "text/plain": [
       "Sentiment(classification='pos', p_pos=0.9141571646860674, p_neg=0.08584283531393729)"
      ]
     },
     "execution_count": 17,
     "metadata": {},
     "output_type": "execute_result"
    }
   ],
   "source": [
    "blob = TextBlob(text, analyzer=NaiveBayesAnalyzer())\n",
    "blob.sentiment"
   ]
  },
  {
   "cell_type": "code",
   "execution_count": 18,
   "metadata": {},
   "outputs": [
    {
     "data": {
      "text/plain": [
       "Sentiment(polarity=0.15, subjectivity=0.2)"
      ]
     },
     "execution_count": 18,
     "metadata": {},
     "output_type": "execute_result"
    }
   ],
   "source": [
    "blob = TextBlob(text)\n",
    "blob.sentiment"
   ]
  },
  {
   "cell_type": "code",
   "execution_count": 19,
   "metadata": {
    "collapsed": true
   },
   "outputs": [],
   "source": [
    "text = \" The gorgeous Giulia Quadrifoglio seduces the soul and sears the \\\n",
    "senses with a beautiful balance of aggression and finesse. \\\n",
    "Alfa flaunts its racing pedigree with the four-leaf-clover \\\n",
    "badge displayed on the Giulia’s shapely flanks. \\\n",
    "Its Ferrari-derived twin-turbo V-6 sings a sinister tune, \\\n",
    "belting out 505 horsepower. Its clever, communicative chassis can \\\n",
    "conquer a race course with unfiltered ferocity or coolly traverse \\\n",
    "the tarmac without commotion. An excellent eight-speed automatic \\\n",
    "transmission and rear-wheel drive are standard; sadly, \\\n",
    "a manual gearbox is missing. Alfa Romeo’s past and present \\\n",
    "reliability issues also remain an unknown quantity. \\\n",
    "Still, the Giulia Quadrifoglio, or QF, is an exotic sports sedan \\\n",
    "that sets a new benchmark for the genre—which is why it made our list of 10Best Cars for 2018. .\""
   ]
  },
  {
   "cell_type": "code",
   "execution_count": 20,
   "metadata": {},
   "outputs": [
    {
     "data": {
      "text/plain": [
       "Sentiment(classification='pos', p_pos=0.991948748693045, p_neg=0.008051251306940057)"
      ]
     },
     "execution_count": 20,
     "metadata": {},
     "output_type": "execute_result"
    }
   ],
   "source": [
    "blob = TextBlob(text, analyzer=NaiveBayesAnalyzer())\n",
    "blob.sentiment"
   ]
  },
  {
   "cell_type": "code",
   "execution_count": 21,
   "metadata": {},
   "outputs": [
    {
     "data": {
      "text/plain": [
       "Sentiment(polarity=0.15378787878787878, subjectivity=0.6241341991341992)"
      ]
     },
     "execution_count": 21,
     "metadata": {},
     "output_type": "execute_result"
    }
   ],
   "source": [
    "blob = TextBlob(text)\n",
    "blob.sentiment"
   ]
  },
  {
   "cell_type": "code",
   "execution_count": 22,
   "metadata": {
    "collapsed": true
   },
   "outputs": [],
   "source": [
    "text = \"My husband ordered a fruit arrangement for me for Valentine's Day. \\\n",
    "He had planned on taking me to the movies with two free tickets he was promised with a \\\n",
    "promotion you had been advertising. My husband was unaware that these tickets came via email. \\\n",
    "However, your sales representative who took his order failed to record his email address. \\\n",
    "Therefore we never received the tickets. \\\n",
    "I have called corporate and the store manager about this. \\\n",
    "They seem to not be able to resolve things in a timely manner. \\\n",
    "Also the fruit was not the best tasting. \\\n",
    "Needless to say we will never be supporting your business again. \\\n",
    "Overall poor customer service and a very overpriced product.\""
   ]
  },
  {
   "cell_type": "code",
   "execution_count": 23,
   "metadata": {},
   "outputs": [
    {
     "data": {
      "text/plain": [
       "Sentiment(classification='pos', p_pos=0.9993862773779272, p_neg=0.0006137226220642903)"
      ]
     },
     "execution_count": 23,
     "metadata": {},
     "output_type": "execute_result"
    }
   ],
   "source": [
    "blob = TextBlob(text, analyzer=NaiveBayesAnalyzer())\n",
    "blob.sentiment"
   ]
  },
  {
   "cell_type": "code",
   "execution_count": 24,
   "metadata": {},
   "outputs": [
    {
     "data": {
      "text/plain": [
       "Sentiment(polarity=0.08636363636363636, subjectivity=0.425)"
      ]
     },
     "execution_count": 24,
     "metadata": {},
     "output_type": "execute_result"
    }
   ],
   "source": [
    "blob = TextBlob(text)\n",
    "blob.sentiment"
   ]
  },
  {
   "cell_type": "markdown",
   "metadata": {},
   "source": [
    "## Reading from URL\n",
    "#### BeautifulSoup to clean up meta-tags "
   ]
  },
  {
   "cell_type": "code",
   "execution_count": 25,
   "metadata": {
    "collapsed": true
   },
   "outputs": [],
   "source": [
    "url = \"https://en.wikipedia.org/wiki/University_of_Chicago\""
   ]
  },
  {
   "cell_type": "code",
   "execution_count": 26,
   "metadata": {
    "collapsed": true
   },
   "outputs": [],
   "source": [
    "from bs4 import BeautifulSoup\n",
    "import urllib.request\n",
    "page = urllib.request.urlopen(url)\n",
    "soup = BeautifulSoup(page.read(), \"lxml\")"
   ]
  },
  {
   "cell_type": "code",
   "execution_count": 27,
   "metadata": {},
   "outputs": [
    {
     "name": "stdout",
     "output_type": "stream",
     "text": [
      "ons in various national and international rankings.[6][7][8][9][10]\n",
      "The university is composed of the College, various graduate programs and interdisciplinary committees organized into five academic research divisions and seven professional schools. Beyond the arts and sciences, Chicago is also well known for its professional schools, which include the Pritzker School of Medicine, the Booth School of Business, the Law School, the School of Social Service Administration, the Harris School of Public Policy Studies, the Divinity School and the Graham School of Continuing Liberal and Professional Studies. The university currently enrolls 5,971 undergraduate students, and 16,016 students overall.[11]\n",
      "University of Chicago scholars have played a major role in the development of many academic disciplines, including sociology,[12] law,[\n"
     ]
    }
   ],
   "source": [
    "uc_wiki = (soup.get_text())\n",
    "#print (type(uc_wiki))\n",
    "print (uc_wiki[7170:8010]) "
   ]
  },
  {
   "cell_type": "code",
   "execution_count": 28,
   "metadata": {
    "collapsed": true
   },
   "outputs": [],
   "source": [
    "blob = TextBlob(uc_wiki)"
   ]
  },
  {
   "cell_type": "markdown",
   "metadata": {},
   "source": [
    "#### Sentiment analysis on entire body of text might be difficult to interpret"
   ]
  },
  {
   "cell_type": "code",
   "execution_count": 29,
   "metadata": {},
   "outputs": [
    {
     "data": {
      "text/plain": [
       "Sentiment(polarity=0.07594573085644514, subjectivity=0.3624277157518917)"
      ]
     },
     "execution_count": 29,
     "metadata": {},
     "output_type": "execute_result"
    }
   ],
   "source": [
    "blob.sentiment"
   ]
  },
  {
   "cell_type": "code",
   "execution_count": 30,
   "metadata": {},
   "outputs": [
    {
     "name": "stdout",
     "output_type": "stream",
     "text": [
      "[Sentence(\"[19] With an estimated completion date of 2020, the Barack Obama Presidential Center will be housed at the university and include both the Obama presidential library and offices of the Obama Foundation.\"), Sentence(\"[20]\n",
      "The University of Chicago has many prominent alumni, faculty members and researchers.\"), Sentence(\"92 Nobel laureates[21] have been affiliated with the university as professors, students, faculty, or staff, making it the fifth most of any institution in the world.\"), Sentence(\"Similarly, 34 faculty members and 17 alumni have been awarded the MacArthur \"Genius Grant\".\"), Sentence(\"[22] In addition, Chicago's alumni and faculty include 53 Rhodes Scholars,[23] 25 Marshall Scholars,[24] 9 Fields Medalists,[25] 20 National Humanities Medalists,[26] 13 billionaire graduates and a plethora of members of the United States Congress and heads of state of countries all over the world.\")]\n"
     ]
    }
   ],
   "source": [
    "b_sentences = blob.sentences\n",
    "print (b_sentences[10:15])"
   ]
  },
  {
   "cell_type": "code",
   "execution_count": 31,
   "metadata": {
    "collapsed": true
   },
   "outputs": [],
   "source": [
    "b_sentiment = []\n",
    "b_subjectivity = []\n",
    "for sentence in blob.sentences:\n",
    "    b_sentiment.append(str(sentence.sentiment.polarity))\n",
    "    b_subjectivity.append(str(sentence.sentiment.subjectivity))"
   ]
  },
  {
   "cell_type": "code",
   "execution_count": 32,
   "metadata": {
    "collapsed": true
   },
   "outputs": [],
   "source": [
    "b_sen_sen = list(zip(b_sentences, b_sentiment, b_subjectivity))"
   ]
  },
  {
   "cell_type": "code",
   "execution_count": 33,
   "metadata": {},
   "outputs": [
    {
     "name": "stdout",
     "output_type": "stream",
     "text": [
      "(Sentence(\"Other early benefactors included businessmen Charles L. Hutchinson (trustee, treasurer and donor of Hutchinson Commons), Martin A. Ryerson (president of the board of trustees and donor of the Ryerson Physical Laboratory) Adolphus Clay Bartlett and Leon Mandel, who funded the construction of the gymnasium and assembly hall, and George C. Walker of the Walker Museum, a relative of Cobb who encouraged his inaugural donation for facilities.\"), '-0.006249999999999999', '0.2044642857142857')\n",
      "\n",
      "(Sentence(\"[40] The university's Articles of Incorporation provided that the President and two-thirds of the Trustees must be members of \"regular Baptist churches\", on penalty of losing that part of the land purchased by the ABES, though this requirement was reduced in 1922 to requiring that 3/5 of the trustees must be members of Baptist churches.\"), '0.0', '0.07692307692307693')\n",
      "\n",
      "(Sentence(\"[41]\n",
      "While legally organized as an independent institution, the Hyde Park campus continued the mission, legacy, and name of the original Baptist university of the same name, which had closed in 1886 after its campus was foreclosed on.\"), '0.095', '0.26')\n",
      "\n",
      "(Sentence(\"[42] William Rainey Harper became the university's president on July 1, 1891 and the Hyde Park campus opened for classes on October 1, 1892.\"), '0.0', '0.0')\n",
      "\n",
      "(Sentence(\"[42] Harper worked on building up the faculty and in two years he had a faculty of 120, including eight former university or college presidents.\"), '0.0', '0.0')\n"
     ]
    }
   ],
   "source": [
    "print(*b_sen_sen[35:40], sep='\\n\\n')"
   ]
  },
  {
   "cell_type": "markdown",
   "metadata": {},
   "source": [
    "#### Analyzing sentiment for entire book"
   ]
  },
  {
   "cell_type": "code",
   "execution_count": 34,
   "metadata": {
    "collapsed": true
   },
   "outputs": [],
   "source": [
    "directory = 'C://Users//Nick//Documents//Teaching//Data Projects//Text//Books//'\n",
    "book = 'book_2.txt'"
   ]
  },
  {
   "cell_type": "code",
   "execution_count": 35,
   "metadata": {
    "collapsed": true
   },
   "outputs": [],
   "source": [
    "blob = TextBlob(open(directory+book, encoding=\"utf8\").read())"
   ]
  },
  {
   "cell_type": "code",
   "execution_count": 36,
   "metadata": {},
   "outputs": [
    {
     "data": {
      "text/plain": [
       "Sentiment(polarity=0.0647677321705668, subjectivity=0.48703200714189915)"
      ]
     },
     "execution_count": 36,
     "metadata": {},
     "output_type": "execute_result"
    }
   ],
   "source": [
    "blob.sentiment"
   ]
  },
  {
   "cell_type": "markdown",
   "metadata": {
    "collapsed": true
   },
   "source": [
    "### Processing the sentiment of each sentence in the book and passing to PandasDF"
   ]
  },
  {
   "cell_type": "code",
   "execution_count": 37,
   "metadata": {
    "collapsed": true
   },
   "outputs": [],
   "source": [
    "polarity = []\n",
    "subjectivity = []\n",
    "sentences = []\n",
    "sentiment_df = pd.DataFrame(columns=['sentence', 'polarity', 'subjectivity'])\n",
    "\n",
    "for sentence in blob.sentences:\n",
    "    polarity.append(sentence.sentiment.polarity)\n",
    "    subjectivity.append(sentence.sentiment.subjectivity)\n",
    "    sentences.append(str(sentence.raw))\n",
    "\n",
    "sentiment_df['sentence'] = sentences\n",
    "sentiment_df['polarity'] = polarity\n",
    "sentiment_df['subjectivity'] = subjectivity\n",
    "\n",
    "sentiment_df['sentence'] = sentiment_df['sentence'].str.replace('\\n', ' ')"
   ]
  },
  {
   "cell_type": "code",
   "execution_count": 38,
   "metadata": {},
   "outputs": [
    {
     "data": {
      "text/html": [
       "<div>\n",
       "<style>\n",
       "    .dataframe thead tr:only-child th {\n",
       "        text-align: right;\n",
       "    }\n",
       "\n",
       "    .dataframe thead th {\n",
       "        text-align: left;\n",
       "    }\n",
       "\n",
       "    .dataframe tbody tr th {\n",
       "        vertical-align: top;\n",
       "    }\n",
       "</style>\n",
       "<table border=\"1\" class=\"dataframe\">\n",
       "  <thead>\n",
       "    <tr style=\"text-align: right;\">\n",
       "      <th></th>\n",
       "      <th>sentence</th>\n",
       "      <th>polarity</th>\n",
       "      <th>subjectivity</th>\n",
       "    </tr>\n",
       "  </thead>\n",
       "  <tbody>\n",
       "    <tr>\n",
       "      <th>0</th>\n",
       "      <td>﻿Produced by David Widger      THE ADVENTURES ...</td>\n",
       "      <td>0.000000</td>\n",
       "      <td>0.375000</td>\n",
       "    </tr>\n",
       "    <tr>\n",
       "      <th>1</th>\n",
       "      <td>Strong Temptations--Strategic Movements--The I...</td>\n",
       "      <td>0.433333</td>\n",
       "      <td>0.733333</td>\n",
       "    </tr>\n",
       "    <tr>\n",
       "      <th>2</th>\n",
       "      <td>Tom as a General--Triumph and Reward--Dismal F...</td>\n",
       "      <td>0.000000</td>\n",
       "      <td>0.000000</td>\n",
       "    </tr>\n",
       "    <tr>\n",
       "      <th>3</th>\n",
       "      <td>Mental Acrobatics--Attending Sunday--School--T...</td>\n",
       "      <td>0.100000</td>\n",
       "      <td>0.100000</td>\n",
       "    </tr>\n",
       "    <tr>\n",
       "      <th>4</th>\n",
       "      <td>Self-Examination--Dentistry--The Midnight Char...</td>\n",
       "      <td>0.000000</td>\n",
       "      <td>0.000000</td>\n",
       "    </tr>\n",
       "    <tr>\n",
       "      <th>5</th>\n",
       "      <td>A Treaty Entered Into--Early Lessons--A Mistak...</td>\n",
       "      <td>0.000000</td>\n",
       "      <td>0.000000</td>\n",
       "    </tr>\n",
       "    <tr>\n",
       "      <th>6</th>\n",
       "      <td>Tom Decides on his Course--Old Scenes Re-enact...</td>\n",
       "      <td>0.000000</td>\n",
       "      <td>0.000000</td>\n",
       "    </tr>\n",
       "    <tr>\n",
       "      <th>7</th>\n",
       "      <td>A Solemn Situation--Grave Subjects Introduced-...</td>\n",
       "      <td>0.000000</td>\n",
       "      <td>0.000000</td>\n",
       "    </tr>\n",
       "    <tr>\n",
       "      <th>8</th>\n",
       "      <td>The Solemn Oath--Terror Brings Repentance--Men...</td>\n",
       "      <td>0.000000</td>\n",
       "      <td>0.000000</td>\n",
       "    </tr>\n",
       "    <tr>\n",
       "      <th>9</th>\n",
       "      <td>Muff Potter Comes Himself--Tom’s Conscience at...</td>\n",
       "      <td>0.000000</td>\n",
       "      <td>0.000000</td>\n",
       "    </tr>\n",
       "  </tbody>\n",
       "</table>\n",
       "</div>"
      ],
      "text/plain": [
       "                                            sentence  polarity  subjectivity\n",
       "0  ﻿Produced by David Widger      THE ADVENTURES ...  0.000000      0.375000\n",
       "1  Strong Temptations--Strategic Movements--The I...  0.433333      0.733333\n",
       "2  Tom as a General--Triumph and Reward--Dismal F...  0.000000      0.000000\n",
       "3  Mental Acrobatics--Attending Sunday--School--T...  0.100000      0.100000\n",
       "4  Self-Examination--Dentistry--The Midnight Char...  0.000000      0.000000\n",
       "5  A Treaty Entered Into--Early Lessons--A Mistak...  0.000000      0.000000\n",
       "6  Tom Decides on his Course--Old Scenes Re-enact...  0.000000      0.000000\n",
       "7  A Solemn Situation--Grave Subjects Introduced-...  0.000000      0.000000\n",
       "8  The Solemn Oath--Terror Brings Repentance--Men...  0.000000      0.000000\n",
       "9  Muff Potter Comes Himself--Tom’s Conscience at...  0.000000      0.000000"
      ]
     },
     "execution_count": 38,
     "metadata": {},
     "output_type": "execute_result"
    }
   ],
   "source": [
    "sentiment_df.head(10)"
   ]
  },
  {
   "cell_type": "code",
   "execution_count": 39,
   "metadata": {
    "collapsed": true
   },
   "outputs": [],
   "source": [
    "polarity = []\n",
    "subjectivity = []\n",
    "sentences = []\n",
    "sentiment_df = pd.DataFrame(columns=['sentence', 'polarity', 'subjectivity'])\n",
    "\n",
    "for sentence in blob.sentences:\n",
    "    polarity.append(sentence.sentiment.polarity)\n",
    "    subjectivity.append(sentence.sentiment.subjectivity)\n",
    "    sentences.append(str(sentence.raw))\n",
    "\n",
    "sentiment_df['sentence'] = sentences\n",
    "sentiment_df['polarity'] = polarity\n",
    "sentiment_df['subjectivity'] = subjectivity\n",
    "\n",
    "sentiment_df['sentence'] = sentiment_df['sentence'].str.replace('\\n', ' ')"
   ]
  },
  {
   "cell_type": "markdown",
   "metadata": {},
   "source": [
    "#### Most positive sentences in the book"
   ]
  },
  {
   "cell_type": "code",
   "execution_count": 40,
   "metadata": {},
   "outputs": [
    {
     "data": {
      "text/html": [
       "<div>\n",
       "<style>\n",
       "    .dataframe thead tr:only-child th {\n",
       "        text-align: right;\n",
       "    }\n",
       "\n",
       "    .dataframe thead th {\n",
       "        text-align: left;\n",
       "    }\n",
       "\n",
       "    .dataframe tbody tr th {\n",
       "        vertical-align: top;\n",
       "    }\n",
       "</style>\n",
       "<table border=\"1\" class=\"dataframe\">\n",
       "  <thead>\n",
       "    <tr style=\"text-align: right;\">\n",
       "      <th></th>\n",
       "      <th>sentence</th>\n",
       "      <th>polarity</th>\n",
       "      <th>subjectivity</th>\n",
       "    </tr>\n",
       "  </thead>\n",
       "  <tbody>\n",
       "    <tr>\n",
       "      <th>2565</th>\n",
       "      <td>He always divided up with ‘em perfectly square.”  “Well, he must ‘a’ been a brick.”  “I bet you ...</td>\n",
       "      <td>1.0</td>\n",
       "      <td>1.00</td>\n",
       "    </tr>\n",
       "    <tr>\n",
       "      <th>1368</th>\n",
       "      <td>“I know you was meaning for the best, aunty, and so was I with Peter.</td>\n",
       "      <td>1.0</td>\n",
       "      <td>0.30</td>\n",
       "    </tr>\n",
       "    <tr>\n",
       "      <th>2978</th>\n",
       "      <td>There was no sound--the stillness was perfect.</td>\n",
       "      <td>1.0</td>\n",
       "      <td>1.00</td>\n",
       "    </tr>\n",
       "    <tr>\n",
       "      <th>2560</th>\n",
       "      <td>Who’s Robin Hood?”  “Why, he was one of the greatest men that was ever in England--and the best.</td>\n",
       "      <td>1.0</td>\n",
       "      <td>0.65</td>\n",
       "    </tr>\n",
       "    <tr>\n",
       "      <th>2672</th>\n",
       "      <td>by the great Sachem, no!</td>\n",
       "      <td>1.0</td>\n",
       "      <td>0.75</td>\n",
       "    </tr>\n",
       "    <tr>\n",
       "      <th>412</th>\n",
       "      <td>When they came to recite their lessons, not one of them knew his verses perfectly, but had to be...</td>\n",
       "      <td>1.0</td>\n",
       "      <td>1.00</td>\n",
       "    </tr>\n",
       "    <tr>\n",
       "      <th>1522</th>\n",
       "      <td>They fried the fish with the bacon, and were astonished; for no fish had ever seemed so deliciou...</td>\n",
       "      <td>1.0</td>\n",
       "      <td>1.00</td>\n",
       "    </tr>\n",
       "    <tr>\n",
       "      <th>908</th>\n",
       "      <td>He put his hand there and uttered this incantation impressively:  “What hasn’t come here, come!</td>\n",
       "      <td>1.0</td>\n",
       "      <td>1.00</td>\n",
       "    </tr>\n",
       "    <tr>\n",
       "      <th>508</th>\n",
       "      <td>He was regarded as a wonderful reader.</td>\n",
       "      <td>1.0</td>\n",
       "      <td>1.00</td>\n",
       "    </tr>\n",
       "    <tr>\n",
       "      <th>2758</th>\n",
       "      <td>He found that in the best tavern, No.</td>\n",
       "      <td>1.0</td>\n",
       "      <td>0.30</td>\n",
       "    </tr>\n",
       "  </tbody>\n",
       "</table>\n",
       "</div>"
      ],
      "text/plain": [
       "                                                                                                 sentence  \\\n",
       "2565  He always divided up with ‘em perfectly square.”  “Well, he must ‘a’ been a brick.”  “I bet you ...   \n",
       "1368                                “I know you was meaning for the best, aunty, and so was I with Peter.   \n",
       "2978                                                       There was no sound--the stillness was perfect.   \n",
       "2560     Who’s Robin Hood?”  “Why, he was one of the greatest men that was ever in England--and the best.   \n",
       "2672                                                                             by the great Sachem, no!   \n",
       "412   When they came to recite their lessons, not one of them knew his verses perfectly, but had to be...   \n",
       "1522  They fried the fish with the bacon, and were astonished; for no fish had ever seemed so deliciou...   \n",
       "908       He put his hand there and uttered this incantation impressively:  “What hasn’t come here, come!   \n",
       "508                                                                He was regarded as a wonderful reader.   \n",
       "2758                                                                He found that in the best tavern, No.   \n",
       "\n",
       "      polarity  subjectivity  \n",
       "2565       1.0          1.00  \n",
       "1368       1.0          0.30  \n",
       "2978       1.0          1.00  \n",
       "2560       1.0          0.65  \n",
       "2672       1.0          0.75  \n",
       "412        1.0          1.00  \n",
       "1522       1.0          1.00  \n",
       "908        1.0          1.00  \n",
       "508        1.0          1.00  \n",
       "2758       1.0          0.30  "
      ]
     },
     "execution_count": 40,
     "metadata": {},
     "output_type": "execute_result"
    }
   ],
   "source": [
    "sentiment_df.sort_values(by='polarity', ascending=False, inplace=True)\n",
    "pd.set_option('display.max_colwidth', 100)\n",
    "sentiment_df.head(10)"
   ]
  },
  {
   "cell_type": "markdown",
   "metadata": {},
   "source": [
    "#### Most negative sentences in the book"
   ]
  },
  {
   "cell_type": "code",
   "execution_count": 41,
   "metadata": {},
   "outputs": [
    {
     "data": {
      "text/html": [
       "<div>\n",
       "<style>\n",
       "    .dataframe thead tr:only-child th {\n",
       "        text-align: right;\n",
       "    }\n",
       "\n",
       "    .dataframe thead th {\n",
       "        text-align: left;\n",
       "    }\n",
       "\n",
       "    .dataframe tbody tr th {\n",
       "        vertical-align: top;\n",
       "    }\n",
       "</style>\n",
       "<table border=\"1\" class=\"dataframe\">\n",
       "  <thead>\n",
       "    <tr style=\"text-align: right;\">\n",
       "      <th></th>\n",
       "      <th>sentence</th>\n",
       "      <th>polarity</th>\n",
       "      <th>subjectivity</th>\n",
       "    </tr>\n",
       "  </thead>\n",
       "  <tbody>\n",
       "    <tr>\n",
       "      <th>2531</th>\n",
       "      <td>It’s awful.”  “Well, it just is.</td>\n",
       "      <td>-1.0</td>\n",
       "      <td>1.0</td>\n",
       "    </tr>\n",
       "    <tr>\n",
       "      <th>3494</th>\n",
       "      <td>It’s an awful snug place for orgies.”  “What orgies?”  “I dono.</td>\n",
       "      <td>-1.0</td>\n",
       "      <td>1.0</td>\n",
       "    </tr>\n",
       "    <tr>\n",
       "      <th>1303</th>\n",
       "      <td>He began to find himself hanging around her father’s house, nights, and feeling very miserable.</td>\n",
       "      <td>-1.0</td>\n",
       "      <td>1.0</td>\n",
       "    </tr>\n",
       "    <tr>\n",
       "      <th>1241</th>\n",
       "      <td>Tom’s heartbreak vanished and he joined the procession, not because he would not a thousand time...</td>\n",
       "      <td>-1.0</td>\n",
       "      <td>1.0</td>\n",
       "    </tr>\n",
       "    <tr>\n",
       "      <th>2633</th>\n",
       "      <td>Injun Joe sat up, stared around--smiled grimly upon his comrade, whose head was drooping upon hi...</td>\n",
       "      <td>-1.0</td>\n",
       "      <td>1.0</td>\n",
       "    </tr>\n",
       "    <tr>\n",
       "      <th>189</th>\n",
       "      <td>She talks awful, but talk don’t hurt--anyways it don’t if she don’t cry.</td>\n",
       "      <td>-1.0</td>\n",
       "      <td>1.0</td>\n",
       "    </tr>\n",
       "    <tr>\n",
       "      <th>1283</th>\n",
       "      <td>It’s that dreadful murder.</td>\n",
       "      <td>-1.0</td>\n",
       "      <td>1.0</td>\n",
       "    </tr>\n",
       "    <tr>\n",
       "      <th>1260</th>\n",
       "      <td>Potter lifted his face and looked around him with a pathetic hopelessness in his eyes.</td>\n",
       "      <td>-1.0</td>\n",
       "      <td>1.0</td>\n",
       "    </tr>\n",
       "    <tr>\n",
       "      <th>2734</th>\n",
       "      <td>Oh, ain’t it awful!”  “‘Tain’t a dream, then, ‘tain’t a dream!</td>\n",
       "      <td>-1.0</td>\n",
       "      <td>1.0</td>\n",
       "    </tr>\n",
       "    <tr>\n",
       "      <th>552</th>\n",
       "      <td>CHAPTER VI  MONDAY morning found Tom Sawyer miserable.</td>\n",
       "      <td>-1.0</td>\n",
       "      <td>1.0</td>\n",
       "    </tr>\n",
       "  </tbody>\n",
       "</table>\n",
       "</div>"
      ],
      "text/plain": [
       "                                                                                                 sentence  \\\n",
       "2531                                                                     It’s awful.”  “Well, it just is.   \n",
       "3494                                      It’s an awful snug place for orgies.”  “What orgies?”  “I dono.   \n",
       "1303      He began to find himself hanging around her father’s house, nights, and feeling very miserable.   \n",
       "1241  Tom’s heartbreak vanished and he joined the procession, not because he would not a thousand time...   \n",
       "2633  Injun Joe sat up, stared around--smiled grimly upon his comrade, whose head was drooping upon hi...   \n",
       "189                              She talks awful, but talk don’t hurt--anyways it don’t if she don’t cry.   \n",
       "1283                                                                           It’s that dreadful murder.   \n",
       "1260               Potter lifted his face and looked around him with a pathetic hopelessness in his eyes.   \n",
       "2734                                       Oh, ain’t it awful!”  “‘Tain’t a dream, then, ‘tain’t a dream!   \n",
       "552                                                CHAPTER VI  MONDAY morning found Tom Sawyer miserable.   \n",
       "\n",
       "      polarity  subjectivity  \n",
       "2531      -1.0           1.0  \n",
       "3494      -1.0           1.0  \n",
       "1303      -1.0           1.0  \n",
       "1241      -1.0           1.0  \n",
       "2633      -1.0           1.0  \n",
       "189       -1.0           1.0  \n",
       "1283      -1.0           1.0  \n",
       "1260      -1.0           1.0  \n",
       "2734      -1.0           1.0  \n",
       "552       -1.0           1.0  "
      ]
     },
     "execution_count": 41,
     "metadata": {},
     "output_type": "execute_result"
    }
   ],
   "source": [
    "sentiment_df.sort_values(by='polarity', ascending=True, inplace=True)\n",
    "pd.set_option('display.max_colwidth', 100)\n",
    "sentiment_df.head(10)"
   ]
  },
  {
   "cell_type": "code",
   "execution_count": 42,
   "metadata": {
    "collapsed": true
   },
   "outputs": [],
   "source": [
    "sentiment_df.sort_index(inplace=True)\n",
    "sentiment_top_df = sentiment_df.head(n=200)\n",
    "pd.set_option('display.max_colwidth', 100)\n",
    "#sentiment_df.head(10)"
   ]
  },
  {
   "cell_type": "markdown",
   "metadata": {},
   "source": [
    "#### Plotting sentiment changes in the book as the story unveils"
   ]
  },
  {
   "cell_type": "code",
   "execution_count": 43,
   "metadata": {},
   "outputs": [
    {
     "data": {
      "image/png": "[encoded data removed]",
      "text/plain": [
       "<matplotlib.figure.Figure at 0x1b13b358>"
      ]
     },
     "metadata": {},
     "output_type": "display_data"
    }
   ],
   "source": [
    "plt.figure().set_size_inches(20, 10)\n",
    "plt.plot(sentiment_top_df['polarity'])\n",
    "plt.xlabel('Sentence')\n",
    "plt.ylabel('Polarity')\n",
    "plt.show()"
   ]
  },
  {
   "cell_type": "markdown",
   "metadata": {},
   "source": [
    "## Analyzing Tweets with Python"
   ]
  },
  {
   "cell_type": "code",
   "execution_count": 44,
   "metadata": {
    "collapsed": true
   },
   "outputs": [],
   "source": [
    "directory = 'C://Users//Nick//Documents//Teaching//Data Projects//Text//Tweets//'\n",
    "file = 'jeep_new.txt'\n",
    "path = directory + file"
   ]
  },
  {
   "cell_type": "code",
   "execution_count": 45,
   "metadata": {
    "collapsed": true
   },
   "outputs": [],
   "source": [
    "tweets = pd.read_csv(path,sep='\\t', names = ['id', 'lang', 'created_at', 'screen_name', \\\n",
    "                                                       'name', 'location', 'retweet_count', 'text'])\n",
    "\n",
    "tweets = tweets.sample(n=1000)"
   ]
  },
  {
   "cell_type": "code",
   "execution_count": 46,
   "metadata": {
    "collapsed": true
   },
   "outputs": [],
   "source": [
    "pd.set_option('display.max_rows', 10)"
   ]
  },
  {
   "cell_type": "code",
   "execution_count": 47,
   "metadata": {},
   "outputs": [
    {
     "data": {
      "text/html": [
       "<div>\n",
       "<style>\n",
       "    .dataframe thead tr:only-child th {\n",
       "        text-align: right;\n",
       "    }\n",
       "\n",
       "    .dataframe thead th {\n",
       "        text-align: left;\n",
       "    }\n",
       "\n",
       "    .dataframe tbody tr th {\n",
       "        vertical-align: top;\n",
       "    }\n",
       "</style>\n",
       "<table border=\"1\" class=\"dataframe\">\n",
       "  <thead>\n",
       "    <tr style=\"text-align: right;\">\n",
       "      <th></th>\n",
       "      <th>id</th>\n",
       "      <th>lang</th>\n",
       "      <th>created_at</th>\n",
       "      <th>screen_name</th>\n",
       "      <th>name</th>\n",
       "      <th>location</th>\n",
       "      <th>retweet_count</th>\n",
       "      <th>text</th>\n",
       "    </tr>\n",
       "  </thead>\n",
       "  <tbody>\n",
       "    <tr>\n",
       "      <th>39972</th>\n",
       "      <td>9.235298e+17</td>\n",
       "      <td>en</td>\n",
       "      <td>Thu Oct 26 12:40:33 +0000 2017</td>\n",
       "      <td>KnottsTaylor</td>\n",
       "      <td>Taylor Knotts</td>\n",
       "      <td>Millsboro, DE</td>\n",
       "      <td>0.0</td>\n",
       "      <td>Was wondering why people were waving at me..... I’m in the Jeep</td>\n",
       "    </tr>\n",
       "    <tr>\n",
       "      <th>63663</th>\n",
       "      <td>9.234132e+17</td>\n",
       "      <td>en</td>\n",
       "      <td>Thu Oct 26 04:57:19 +0000 2017</td>\n",
       "      <td>neonlightfeeIs</td>\n",
       "      <td>neon lights</td>\n",
       "      <td>NaN</td>\n",
       "      <td>0.0</td>\n",
       "      <td>RT @luxbucketlist: I need this Jeep 😩 https://t.co/YipKRECk1n</td>\n",
       "    </tr>\n",
       "    <tr>\n",
       "      <th>25300</th>\n",
       "      <td>9.233761e+17</td>\n",
       "      <td>tl</td>\n",
       "      <td>Thu Oct 26 02:29:45 +0000 2017</td>\n",
       "      <td>aillenaaaa</td>\n",
       "      <td>A I L L E N E🌸💕😻</td>\n",
       "      <td>NaN</td>\n",
       "      <td>0.0</td>\n",
       "      <td>RT @HTs_Vanguard: Sa Jeep!  Me: Manong, bayad po! Isang regular, dalawang estudyante at isang be...</td>\n",
       "    </tr>\n",
       "    <tr>\n",
       "      <th>11931</th>\n",
       "      <td>9.220485e+17</td>\n",
       "      <td>ja</td>\n",
       "      <td>Sun Oct 22 10:34:36 +0000 2017</td>\n",
       "      <td>shimako12</td>\n",
       "      <td>しまこ</td>\n",
       "      <td>NaN</td>\n",
       "      <td>0.0</td>\n",
       "      <td>RT @JapanJeep: フォロー＆リツイートでオフィシャルグッズプレゼント！ New #Jeep #Compass デビュー！ わたしがうれしい装備は #貴重品を隠しておける助手席下収納...</td>\n",
       "    </tr>\n",
       "    <tr>\n",
       "      <th>55319</th>\n",
       "      <td>9.229210e+17</td>\n",
       "      <td>en</td>\n",
       "      <td>Tue Oct 24 20:21:35 +0000 2017</td>\n",
       "      <td>CLM_net</td>\n",
       "      <td>Nonstop news</td>\n",
       "      <td>United States</td>\n",
       "      <td>0.0</td>\n",
       "      <td>https://t.co/8LIaOsbLFc 2018 Jeep Wrangler confirmed for LA auto show; Ram, Jeep detail future… ...</td>\n",
       "    </tr>\n",
       "  </tbody>\n",
       "</table>\n",
       "</div>"
      ],
      "text/plain": [
       "                 id lang                      created_at     screen_name  \\\n",
       "39972  9.235298e+17   en  Thu Oct 26 12:40:33 +0000 2017    KnottsTaylor   \n",
       "63663  9.234132e+17   en  Thu Oct 26 04:57:19 +0000 2017  neonlightfeeIs   \n",
       "25300  9.233761e+17   tl  Thu Oct 26 02:29:45 +0000 2017      aillenaaaa   \n",
       "11931  9.220485e+17   ja  Sun Oct 22 10:34:36 +0000 2017       shimako12   \n",
       "55319  9.229210e+17   en  Tue Oct 24 20:21:35 +0000 2017         CLM_net   \n",
       "\n",
       "                   name       location  retweet_count  \\\n",
       "39972     Taylor Knotts  Millsboro, DE            0.0   \n",
       "63663       neon lights            NaN            0.0   \n",
       "25300  A I L L E N E🌸💕😻            NaN            0.0   \n",
       "11931               しまこ            NaN            0.0   \n",
       "55319      Nonstop news  United States            0.0   \n",
       "\n",
       "                                                                                                      text  \n",
       "39972                                      Was wondering why people were waving at me..... I’m in the Jeep  \n",
       "63663                                        RT @luxbucketlist: I need this Jeep 😩 https://t.co/YipKRECk1n  \n",
       "25300  RT @HTs_Vanguard: Sa Jeep!  Me: Manong, bayad po! Isang regular, dalawang estudyante at isang be...  \n",
       "11931  RT @JapanJeep: フォロー＆リツイートでオフィシャルグッズプレゼント！ New #Jeep #Compass デビュー！ わたしがうれしい装備は #貴重品を隠しておける助手席下収納...  \n",
       "55319  https://t.co/8LIaOsbLFc 2018 Jeep Wrangler confirmed for LA auto show; Ram, Jeep detail future… ...  "
      ]
     },
     "execution_count": 47,
     "metadata": {},
     "output_type": "execute_result"
    }
   ],
   "source": [
    "tweets.head(5)"
   ]
  },
  {
   "cell_type": "code",
   "execution_count": 48,
   "metadata": {},
   "outputs": [
    {
     "data": {
      "text/plain": [
       "en     583\n",
       "tl     248\n",
       "es      48\n",
       "ja      27\n",
       "und     19\n",
       "      ... \n",
       "sl       1\n",
       "nl       1\n",
       "fi       1\n",
       "pl       1\n",
       "ml       1\n",
       "Name: lang, Length: 24, dtype: int64"
      ]
     },
     "execution_count": 48,
     "metadata": {},
     "output_type": "execute_result"
    }
   ],
   "source": [
    "tweets['lang'].value_counts()"
   ]
  },
  {
   "cell_type": "code",
   "execution_count": 49,
   "metadata": {
    "collapsed": true
   },
   "outputs": [],
   "source": [
    "# Filter non-English tweets\n",
    "tweets_eng = tweets[tweets['lang']=='en'].reset_index(drop=True)"
   ]
  },
  {
   "cell_type": "code",
   "execution_count": 50,
   "metadata": {
    "collapsed": true
   },
   "outputs": [],
   "source": [
    "pd.set_option('display.max_colwidth', 50)"
   ]
  },
  {
   "cell_type": "code",
   "execution_count": 51,
   "metadata": {},
   "outputs": [
    {
     "data": {
      "text/html": [
       "<div>\n",
       "<style>\n",
       "    .dataframe thead tr:only-child th {\n",
       "        text-align: right;\n",
       "    }\n",
       "\n",
       "    .dataframe thead th {\n",
       "        text-align: left;\n",
       "    }\n",
       "\n",
       "    .dataframe tbody tr th {\n",
       "        vertical-align: top;\n",
       "    }\n",
       "</style>\n",
       "<table border=\"1\" class=\"dataframe\">\n",
       "  <thead>\n",
       "    <tr style=\"text-align: right;\">\n",
       "      <th></th>\n",
       "      <th>id</th>\n",
       "      <th>lang</th>\n",
       "      <th>created_at</th>\n",
       "      <th>screen_name</th>\n",
       "      <th>name</th>\n",
       "      <th>location</th>\n",
       "      <th>retweet_count</th>\n",
       "      <th>text</th>\n",
       "    </tr>\n",
       "  </thead>\n",
       "  <tbody>\n",
       "    <tr>\n",
       "      <th>0</th>\n",
       "      <td>9.235298e+17</td>\n",
       "      <td>en</td>\n",
       "      <td>Thu Oct 26 12:40:33 +0000 2017</td>\n",
       "      <td>KnottsTaylor</td>\n",
       "      <td>Taylor Knotts</td>\n",
       "      <td>Millsboro, DE</td>\n",
       "      <td>0.0</td>\n",
       "      <td>Was wondering why people were waving at me.......</td>\n",
       "    </tr>\n",
       "    <tr>\n",
       "      <th>1</th>\n",
       "      <td>9.234132e+17</td>\n",
       "      <td>en</td>\n",
       "      <td>Thu Oct 26 04:57:19 +0000 2017</td>\n",
       "      <td>neonlightfeeIs</td>\n",
       "      <td>neon lights</td>\n",
       "      <td>NaN</td>\n",
       "      <td>0.0</td>\n",
       "      <td>RT @luxbucketlist: I need this Jeep 😩 https://...</td>\n",
       "    </tr>\n",
       "    <tr>\n",
       "      <th>2</th>\n",
       "      <td>9.229210e+17</td>\n",
       "      <td>en</td>\n",
       "      <td>Tue Oct 24 20:21:35 +0000 2017</td>\n",
       "      <td>CLM_net</td>\n",
       "      <td>Nonstop news</td>\n",
       "      <td>United States</td>\n",
       "      <td>0.0</td>\n",
       "      <td>https://t.co/8LIaOsbLFc 2018 Jeep Wrangler con...</td>\n",
       "    </tr>\n",
       "    <tr>\n",
       "      <th>3</th>\n",
       "      <td>9.235500e+17</td>\n",
       "      <td>en</td>\n",
       "      <td>Thu Oct 26 14:00:56 +0000 2017</td>\n",
       "      <td>ZanahRajak</td>\n",
       "      <td>Zanna of Catlantis🐱</td>\n",
       "      <td>The Milky Way</td>\n",
       "      <td>0.0</td>\n",
       "      <td>RT @Jeep: Do you even lift? 📸: Kristen F. http...</td>\n",
       "    </tr>\n",
       "    <tr>\n",
       "      <th>4</th>\n",
       "      <td>9.219328e+17</td>\n",
       "      <td>en</td>\n",
       "      <td>Sun Oct 22 02:54:42 +0000 2017</td>\n",
       "      <td>joeyhenne</td>\n",
       "      <td>Joey</td>\n",
       "      <td>Pacific Northwest, USA</td>\n",
       "      <td>0.0</td>\n",
       "      <td>Got a few more #geocache yesterday while out i...</td>\n",
       "    </tr>\n",
       "  </tbody>\n",
       "</table>\n",
       "</div>"
      ],
      "text/plain": [
       "             id lang                      created_at     screen_name  \\\n",
       "0  9.235298e+17   en  Thu Oct 26 12:40:33 +0000 2017    KnottsTaylor   \n",
       "1  9.234132e+17   en  Thu Oct 26 04:57:19 +0000 2017  neonlightfeeIs   \n",
       "2  9.229210e+17   en  Tue Oct 24 20:21:35 +0000 2017         CLM_net   \n",
       "3  9.235500e+17   en  Thu Oct 26 14:00:56 +0000 2017      ZanahRajak   \n",
       "4  9.219328e+17   en  Sun Oct 22 02:54:42 +0000 2017       joeyhenne   \n",
       "\n",
       "                  name                location  retweet_count  \\\n",
       "0        Taylor Knotts           Millsboro, DE            0.0   \n",
       "1          neon lights                     NaN            0.0   \n",
       "2         Nonstop news           United States            0.0   \n",
       "3  Zanna of Catlantis🐱           The Milky Way            0.0   \n",
       "4                 Joey  Pacific Northwest, USA            0.0   \n",
       "\n",
       "                                                text  \n",
       "0  Was wondering why people were waving at me.......  \n",
       "1  RT @luxbucketlist: I need this Jeep 😩 https://...  \n",
       "2  https://t.co/8LIaOsbLFc 2018 Jeep Wrangler con...  \n",
       "3  RT @Jeep: Do you even lift? 📸: Kristen F. http...  \n",
       "4  Got a few more #geocache yesterday while out i...  "
      ]
     },
     "execution_count": 51,
     "metadata": {},
     "output_type": "execute_result"
    }
   ],
   "source": [
    "tweets_eng.head(5)"
   ]
  },
  {
   "cell_type": "code",
   "execution_count": 52,
   "metadata": {},
   "outputs": [
    {
     "data": {
      "text/plain": [
       "583"
      ]
     },
     "execution_count": 52,
     "metadata": {},
     "output_type": "execute_result"
    }
   ],
   "source": [
    "# Count records \n",
    "len(tweets_eng)"
   ]
  },
  {
   "cell_type": "code",
   "execution_count": 53,
   "metadata": {
    "collapsed": true
   },
   "outputs": [],
   "source": [
    "# Remove special characters to avoid problems with analysis\n",
    "tweets_eng['text_clean'] = tweets_eng['text'].map(lambda x: re.sub('[^a-zA-Z0-9 @ . , : - _]', '', str(x)))"
   ]
  },
  {
   "cell_type": "code",
   "execution_count": 54,
   "metadata": {},
   "outputs": [
    {
     "data": {
      "text/html": [
       "<div>\n",
       "<style>\n",
       "    .dataframe thead tr:only-child th {\n",
       "        text-align: right;\n",
       "    }\n",
       "\n",
       "    .dataframe thead th {\n",
       "        text-align: left;\n",
       "    }\n",
       "\n",
       "    .dataframe tbody tr th {\n",
       "        vertical-align: top;\n",
       "    }\n",
       "</style>\n",
       "<table border=\"1\" class=\"dataframe\">\n",
       "  <thead>\n",
       "    <tr style=\"text-align: right;\">\n",
       "      <th></th>\n",
       "      <th>text</th>\n",
       "      <th>text_clean</th>\n",
       "    </tr>\n",
       "  </thead>\n",
       "  <tbody>\n",
       "    <tr>\n",
       "      <th>0</th>\n",
       "      <td>Was wondering why people were waving at me..... I’m in the Jeep</td>\n",
       "      <td>Was wondering why people were waving at me..... Im in the Jeep</td>\n",
       "    </tr>\n",
       "    <tr>\n",
       "      <th>1</th>\n",
       "      <td>RT @luxbucketlist: I need this Jeep 😩 https://t.co/YipKRECk1n</td>\n",
       "      <td>RT @luxbucketlist: I need this Jeep  https:t.coYipKRECk1n</td>\n",
       "    </tr>\n",
       "    <tr>\n",
       "      <th>2</th>\n",
       "      <td>https://t.co/8LIaOsbLFc 2018 Jeep Wrangler confirmed for LA auto show; Ram, Jeep detail future… ...</td>\n",
       "      <td>https:t.co8LIaOsbLFc 2018 Jeep Wrangler confirmed for LA auto show Ram, Jeep detail future https...</td>\n",
       "    </tr>\n",
       "    <tr>\n",
       "      <th>3</th>\n",
       "      <td>RT @Jeep: Do you even lift? 📸: Kristen F. https://t.co/SPvgWLEeuP</td>\n",
       "      <td>RT @Jeep: Do you even lift : Kristen F. https:t.coSPvgWLEeuP</td>\n",
       "    </tr>\n",
       "    <tr>\n",
       "      <th>4</th>\n",
       "      <td>Got a few more #geocache yesterday while out in the #jeep  #gogeocaching #hike #snowday https://...</td>\n",
       "      <td>Got a few more geocache yesterday while out in the jeep  gogeocaching hike snowday https:t.coIq7...</td>\n",
       "    </tr>\n",
       "  </tbody>\n",
       "</table>\n",
       "</div>"
      ],
      "text/plain": [
       "                                                                                                  text  \\\n",
       "0                                      Was wondering why people were waving at me..... I’m in the Jeep   \n",
       "1                                        RT @luxbucketlist: I need this Jeep 😩 https://t.co/YipKRECk1n   \n",
       "2  https://t.co/8LIaOsbLFc 2018 Jeep Wrangler confirmed for LA auto show; Ram, Jeep detail future… ...   \n",
       "3                                    RT @Jeep: Do you even lift? 📸: Kristen F. https://t.co/SPvgWLEeuP   \n",
       "4  Got a few more #geocache yesterday while out in the #jeep  #gogeocaching #hike #snowday https://...   \n",
       "\n",
       "                                                                                            text_clean  \n",
       "0                                       Was wondering why people were waving at me..... Im in the Jeep  \n",
       "1                                            RT @luxbucketlist: I need this Jeep  https:t.coYipKRECk1n  \n",
       "2  https:t.co8LIaOsbLFc 2018 Jeep Wrangler confirmed for LA auto show Ram, Jeep detail future https...  \n",
       "3                                         RT @Jeep: Do you even lift : Kristen F. https:t.coSPvgWLEeuP  \n",
       "4  Got a few more geocache yesterday while out in the jeep  gogeocaching hike snowday https:t.coIq7...  "
      ]
     },
     "execution_count": 54,
     "metadata": {},
     "output_type": "execute_result"
    }
   ],
   "source": [
    "pd.set_option('display.max_colwidth', 100)\n",
    "tweets_eng[['text', 'text_clean']].head(5)"
   ]
  },
  {
   "cell_type": "code",
   "execution_count": 55,
   "metadata": {
    "collapsed": true
   },
   "outputs": [],
   "source": [
    "blob = TextBlob(tweets_eng['text_clean'].to_string())"
   ]
  },
  {
   "cell_type": "code",
   "execution_count": 56,
   "metadata": {},
   "outputs": [
    {
     "data": {
      "text/plain": [
       "TextBlob(\"0                                           Was wondering why people were waving at me..... Im in the Jeep\n",
       "1                                                RT @luxbucketlist: I need this Jeep  https:t.coYipKRECk1n\n",
       "2      https:t.co8LIaOsbLFc 2018 Jeep Wrangler confirmed for LA auto show Ram, Jeep detail future https...\n",
       "3                                             RT @Jeep: Do you even lift : Kristen F. https:t.coSPvgWLEeuP\n",
       "4      Got a few more geocache yesterday while out in the jeep  gogeocaching hike snowday https:t.coIq7...\n",
       "5      Pair 7 160W Beam PHILIPS Round Headlights LED For JEEP Wrangler JK CJ Hummer TJ https:t.cobGMZgM...\n",
       "6                               Jeep Grand Cherokee Summit 2017: Prueba a Bordo VIDEO https:t.coANL9VTT2wt\n",
       "7                                                 We hope that day comes soon   Jeep Jeep October 25, 2017\n",
       "8      I added a video to a @YouTube playlist https:t.cob6Oqv1al2B A BOY ON JEEP  Photo EDIT  01  BOONT...\n",
       "9      RT @MaDailyGist: Hummer Jeep s\")"
      ]
     },
     "execution_count": 56,
     "metadata": {},
     "output_type": "execute_result"
    }
   ],
   "source": [
    "blob[:1000]"
   ]
  },
  {
   "cell_type": "code",
   "execution_count": 57,
   "metadata": {
    "collapsed": true
   },
   "outputs": [],
   "source": [
    "tags = TextBlob(tweets_eng['text_clean'].to_string()).tags"
   ]
  },
  {
   "cell_type": "code",
   "execution_count": 58,
   "metadata": {},
   "outputs": [
    {
     "data": {
      "text/plain": [
       "8696"
      ]
     },
     "execution_count": 58,
     "metadata": {},
     "output_type": "execute_result"
    }
   ],
   "source": [
    "len(tags)"
   ]
  },
  {
   "cell_type": "code",
   "execution_count": 59,
   "metadata": {
    "collapsed": true
   },
   "outputs": [],
   "source": [
    "#list all possible tags and values\n",
    "#nltk.help.upenn_tagset('.*')"
   ]
  },
  {
   "cell_type": "code",
   "execution_count": 60,
   "metadata": {},
   "outputs": [
    {
     "data": {
      "text/plain": [
       "[('0', 'CD'),\n",
       " ('Was', 'NNP'),\n",
       " ('wondering', 'VBG'),\n",
       " ('why', 'WRB'),\n",
       " ('people', 'NNS'),\n",
       " ('were', 'VBD'),\n",
       " ('waving', 'VBG'),\n",
       " ('at', 'IN'),\n",
       " ('me', 'PRP'),\n",
       " ('..', 'JJ')]"
      ]
     },
     "execution_count": 60,
     "metadata": {},
     "output_type": "execute_result"
    }
   ],
   "source": [
    "tags[:10]"
   ]
  },
  {
   "cell_type": "code",
   "execution_count": 61,
   "metadata": {},
   "outputs": [
    {
     "data": {
      "text/html": [
       "<div>\n",
       "<style>\n",
       "    .dataframe thead tr:only-child th {\n",
       "        text-align: right;\n",
       "    }\n",
       "\n",
       "    .dataframe thead th {\n",
       "        text-align: left;\n",
       "    }\n",
       "\n",
       "    .dataframe tbody tr th {\n",
       "        vertical-align: top;\n",
       "    }\n",
       "</style>\n",
       "<table border=\"1\" class=\"dataframe\">\n",
       "  <thead>\n",
       "    <tr style=\"text-align: right;\">\n",
       "      <th></th>\n",
       "      <th>POS Tag</th>\n",
       "      <th>Word</th>\n",
       "    </tr>\n",
       "  </thead>\n",
       "  <tbody>\n",
       "    <tr>\n",
       "      <th>0</th>\n",
       "      <td>0</td>\n",
       "      <td>CD</td>\n",
       "    </tr>\n",
       "    <tr>\n",
       "      <th>1</th>\n",
       "      <td>Was</td>\n",
       "      <td>NNP</td>\n",
       "    </tr>\n",
       "    <tr>\n",
       "      <th>2</th>\n",
       "      <td>wondering</td>\n",
       "      <td>VBG</td>\n",
       "    </tr>\n",
       "    <tr>\n",
       "      <th>3</th>\n",
       "      <td>why</td>\n",
       "      <td>WRB</td>\n",
       "    </tr>\n",
       "    <tr>\n",
       "      <th>4</th>\n",
       "      <td>people</td>\n",
       "      <td>NNS</td>\n",
       "    </tr>\n",
       "    <tr>\n",
       "      <th>...</th>\n",
       "      <td>...</td>\n",
       "      <td>...</td>\n",
       "    </tr>\n",
       "    <tr>\n",
       "      <th>8691</th>\n",
       "      <td>STILL</td>\n",
       "      <td>NNP</td>\n",
       "    </tr>\n",
       "    <tr>\n",
       "      <th>8692</th>\n",
       "      <td>CARE</td>\n",
       "      <td>NNP</td>\n",
       "    </tr>\n",
       "    <tr>\n",
       "      <th>8693</th>\n",
       "      <td>SO</td>\n",
       "      <td>NNP</td>\n",
       "    </tr>\n",
       "    <tr>\n",
       "      <th>8694</th>\n",
       "      <td>JUST</td>\n",
       "      <td>NNP</td>\n",
       "    </tr>\n",
       "    <tr>\n",
       "      <th>8695</th>\n",
       "      <td>STFU</td>\n",
       "      <td>NNP</td>\n",
       "    </tr>\n",
       "  </tbody>\n",
       "</table>\n",
       "<p>8696 rows × 2 columns</p>\n",
       "</div>"
      ],
      "text/plain": [
       "        POS Tag Word\n",
       "0             0   CD\n",
       "1           Was  NNP\n",
       "2     wondering  VBG\n",
       "3           why  WRB\n",
       "4        people  NNS\n",
       "...         ...  ...\n",
       "8691      STILL  NNP\n",
       "8692       CARE  NNP\n",
       "8693         SO  NNP\n",
       "8694       JUST  NNP\n",
       "8695       STFU  NNP\n",
       "\n",
       "[8696 rows x 2 columns]"
      ]
     },
     "execution_count": 61,
     "metadata": {},
     "output_type": "execute_result"
    }
   ],
   "source": [
    "pd.set_option('display.max_colwidth', 50)\n",
    "tags_pd = pd.DataFrame(tags, columns={\"Word\",\"POS Tag\"})\n",
    "tags_pd"
   ]
  },
  {
   "cell_type": "code",
   "execution_count": 62,
   "metadata": {
    "collapsed": true
   },
   "outputs": [],
   "source": [
    "nouns = TextBlob(tweets_eng['text_clean'].to_string()).noun_phrases"
   ]
  },
  {
   "cell_type": "code",
   "execution_count": 63,
   "metadata": {},
   "outputs": [
    {
     "data": {
      "text/plain": [
       "WordList(['was', '... ...', 'rt', '@ luxbucketlist', 'jeep', 't.c ...', 'jeep wrangler', 'confir ...', 'rt', 'jeep', 'kristen f.', 'got', 'pair', 'beam philips', 'headlights led', 'jeep', 'cherokee summit', 'prueba', 'bord', 'jeep jeep octobe', 'youtube', 'playlist https', 't ...', 'rt', 'madailygist', 'hummer jeep', 'nigeri', 'gaga', 'tour dates', 'time ...', 'rt', 'detroitpistons', 'thats', '30point games fo ...', 'jeep wra', 'hummer jeep', 'nigeria', 'c ...', 'rt', 'detroitpistons', 'hes', 'pros pro', 'atollive', 'photos', 'fayose gifts brand', 'land cruiser je', 'rt', 'jeep', 'morning miles', '@ debten ...', 'jeep', 'jeep', 'rt', 'kameronbennett', 'black jeep', 'rt', 'robthetoonman', 'cute jeep jeeps jee ...', 'jeep', 'rt', 'kameronbennett', 'black jeep', 'jeep wrangler rubicon', 'edition', '@ sanjay73sri 2g', 'rt', 'jeep_people', 'allblack body', '18i ...', 'jeep', 'nana n pas', 'new jeep', 'hell thi ...', 'rt', 'jake_colter11', 'rt', '@ loveysparkz', 'zain looks so freaking hot dr', 'rt', '@ luxbucketlist', 'jeep', 't.c ...', 'speedenews', 'jeep', 'cherokee tra', 'jeep', 'rt', '@ carriedillon1', 'absolutely', 'rt', 'bamfxoxo', 'cod', 'jokayaye', '..they mustve', 'f ...', 'jeep', 'rt', 'legacyfied', 'hummer jeep', 'nigeria'])"
      ]
     },
     "execution_count": 63,
     "metadata": {},
     "output_type": "execute_result"
    }
   ],
   "source": [
    "nouns[:100]"
   ]
  },
  {
   "cell_type": "code",
   "execution_count": 64,
   "metadata": {},
   "outputs": [
    {
     "data": {
      "text/plain": [
       "textblob.blob.WordList"
      ]
     },
     "execution_count": 64,
     "metadata": {},
     "output_type": "execute_result"
    }
   ],
   "source": [
    "type(nouns)"
   ]
  },
  {
   "cell_type": "code",
   "execution_count": 65,
   "metadata": {},
   "outputs": [
    {
     "data": {
      "text/html": [
       "<div>\n",
       "<style>\n",
       "    .dataframe thead tr:only-child th {\n",
       "        text-align: right;\n",
       "    }\n",
       "\n",
       "    .dataframe thead th {\n",
       "        text-align: left;\n",
       "    }\n",
       "\n",
       "    .dataframe tbody tr th {\n",
       "        vertical-align: top;\n",
       "    }\n",
       "</style>\n",
       "<table border=\"1\" class=\"dataframe\">\n",
       "  <thead>\n",
       "    <tr style=\"text-align: right;\">\n",
       "      <th></th>\n",
       "      <th>nouns</th>\n",
       "    </tr>\n",
       "  </thead>\n",
       "  <tbody>\n",
       "    <tr>\n",
       "      <th>0</th>\n",
       "      <td>[was, ... .., im, jeep]</td>\n",
       "    </tr>\n",
       "    <tr>\n",
       "      <th>1</th>\n",
       "      <td>[rt, @ luxbucketlist, jeep]</td>\n",
       "    </tr>\n",
       "    <tr>\n",
       "      <th>2</th>\n",
       "      <td>[jeep wrangler, la, auto show, ram, jeep, future https]</td>\n",
       "    </tr>\n",
       "    <tr>\n",
       "      <th>3</th>\n",
       "      <td>[rt, jeep, kristen f.]</td>\n",
       "    </tr>\n",
       "    <tr>\n",
       "      <th>4</th>\n",
       "      <td>[got, snowday https]</td>\n",
       "    </tr>\n",
       "  </tbody>\n",
       "</table>\n",
       "</div>"
      ],
      "text/plain": [
       "                                                     nouns\n",
       "0                                  [was, ... .., im, jeep]\n",
       "1                              [rt, @ luxbucketlist, jeep]\n",
       "2  [jeep wrangler, la, auto show, ram, jeep, future https]\n",
       "3                                   [rt, jeep, kristen f.]\n",
       "4                                     [got, snowday https]"
      ]
     },
     "execution_count": 65,
     "metadata": {},
     "output_type": "execute_result"
    }
   ],
   "source": [
    "pd.set_option('display.max_colwidth', 100)\n",
    "# The x in the lambda function is a row (because axis=1 is set)\n",
    "# Apply iterates the function accross the dataframe's rows\n",
    "tweets_eng['nouns'] = tweets_eng.apply(lambda x: TextBlob(x['text_clean']).noun_phrases, axis=1)\n",
    "tweets_eng[['nouns']].head(5)"
   ]
  },
  {
   "cell_type": "code",
   "execution_count": 66,
   "metadata": {},
   "outputs": [
    {
     "data": {
      "text/html": [
       "<div>\n",
       "<style>\n",
       "    .dataframe thead tr:only-child th {\n",
       "        text-align: right;\n",
       "    }\n",
       "\n",
       "    .dataframe thead th {\n",
       "        text-align: left;\n",
       "    }\n",
       "\n",
       "    .dataframe tbody tr th {\n",
       "        vertical-align: top;\n",
       "    }\n",
       "</style>\n",
       "<table border=\"1\" class=\"dataframe\">\n",
       "  <thead>\n",
       "    <tr style=\"text-align: right;\">\n",
       "      <th></th>\n",
       "      <th>text_clean</th>\n",
       "      <th>polarity</th>\n",
       "      <th>subjectivity</th>\n",
       "    </tr>\n",
       "  </thead>\n",
       "  <tbody>\n",
       "    <tr>\n",
       "      <th>0</th>\n",
       "      <td>Was wondering why people were waving at me..... Im in the Jeep</td>\n",
       "      <td>0.00</td>\n",
       "      <td>0.0000</td>\n",
       "    </tr>\n",
       "    <tr>\n",
       "      <th>1</th>\n",
       "      <td>RT @luxbucketlist: I need this Jeep  https:t.coYipKRECk1n</td>\n",
       "      <td>0.00</td>\n",
       "      <td>0.0000</td>\n",
       "    </tr>\n",
       "    <tr>\n",
       "      <th>2</th>\n",
       "      <td>https:t.co8LIaOsbLFc 2018 Jeep Wrangler confirmed for LA auto show Ram, Jeep detail future https...</td>\n",
       "      <td>0.20</td>\n",
       "      <td>0.5625</td>\n",
       "    </tr>\n",
       "    <tr>\n",
       "      <th>3</th>\n",
       "      <td>RT @Jeep: Do you even lift : Kristen F. https:t.coSPvgWLEeuP</td>\n",
       "      <td>0.00</td>\n",
       "      <td>0.0000</td>\n",
       "    </tr>\n",
       "    <tr>\n",
       "      <th>4</th>\n",
       "      <td>Got a few more geocache yesterday while out in the jeep  gogeocaching hike snowday https:t.coIq7...</td>\n",
       "      <td>0.15</td>\n",
       "      <td>0.3000</td>\n",
       "    </tr>\n",
       "  </tbody>\n",
       "</table>\n",
       "</div>"
      ],
      "text/plain": [
       "                                                                                            text_clean  \\\n",
       "0                                       Was wondering why people were waving at me..... Im in the Jeep   \n",
       "1                                            RT @luxbucketlist: I need this Jeep  https:t.coYipKRECk1n   \n",
       "2  https:t.co8LIaOsbLFc 2018 Jeep Wrangler confirmed for LA auto show Ram, Jeep detail future https...   \n",
       "3                                         RT @Jeep: Do you even lift : Kristen F. https:t.coSPvgWLEeuP   \n",
       "4  Got a few more geocache yesterday while out in the jeep  gogeocaching hike snowday https:t.coIq7...   \n",
       "\n",
       "   polarity  subjectivity  \n",
       "0      0.00        0.0000  \n",
       "1      0.00        0.0000  \n",
       "2      0.20        0.5625  \n",
       "3      0.00        0.0000  \n",
       "4      0.15        0.3000  "
      ]
     },
     "execution_count": 66,
     "metadata": {},
     "output_type": "execute_result"
    }
   ],
   "source": [
    "tweets_eng['polarity'] = tweets_eng.apply(lambda x: TextBlob(x['text_clean']).sentiment.polarity, axis=1)\n",
    "tweets_eng['subjectivity'] = tweets_eng.apply(lambda x: TextBlob(x['text_clean']).sentiment.subjectivity, axis=1)\n",
    "tweets_eng[['text_clean', 'polarity', 'subjectivity']].head(5)"
   ]
  },
  {
   "cell_type": "code",
   "execution_count": 67,
   "metadata": {},
   "outputs": [
    {
     "data": {
      "text/html": [
       "<div>\n",
       "<style>\n",
       "    .dataframe thead tr:only-child th {\n",
       "        text-align: right;\n",
       "    }\n",
       "\n",
       "    .dataframe thead th {\n",
       "        text-align: left;\n",
       "    }\n",
       "\n",
       "    .dataframe tbody tr th {\n",
       "        vertical-align: top;\n",
       "    }\n",
       "</style>\n",
       "<table border=\"1\" class=\"dataframe\">\n",
       "  <thead>\n",
       "    <tr style=\"text-align: right;\">\n",
       "      <th></th>\n",
       "      <th>text_clean</th>\n",
       "      <th>polarity</th>\n",
       "      <th>subjectivity</th>\n",
       "    </tr>\n",
       "  </thead>\n",
       "  <tbody>\n",
       "    <tr>\n",
       "      <th>113</th>\n",
       "      <td>@ryanpavlov @Jeep Great photo</td>\n",
       "      <td>0.8</td>\n",
       "      <td>0.75</td>\n",
       "    </tr>\n",
       "    <tr>\n",
       "      <th>127</th>\n",
       "      <td>RT @Jeep: Rugged good looks. https:t.co4mWvR8XZVm</td>\n",
       "      <td>0.7</td>\n",
       "      <td>0.60</td>\n",
       "    </tr>\n",
       "    <tr>\n",
       "      <th>154</th>\n",
       "      <td>RT @XpriteUSA: This is great https:t.coKoAqHmZsnl</td>\n",
       "      <td>0.8</td>\n",
       "      <td>0.75</td>\n",
       "    </tr>\n",
       "    <tr>\n",
       "      <th>161</th>\n",
       "      <td>@Murderc4 Welcome to the Jeep life</td>\n",
       "      <td>0.8</td>\n",
       "      <td>0.90</td>\n",
       "    </tr>\n",
       "    <tr>\n",
       "      <th>201</th>\n",
       "      <td>Ive never understood the point of best car for senior superlatives anyway. Youre gonna congratul...</td>\n",
       "      <td>1.0</td>\n",
       "      <td>0.30</td>\n",
       "    </tr>\n",
       "  </tbody>\n",
       "</table>\n",
       "</div>"
      ],
      "text/plain": [
       "                                                                                              text_clean  \\\n",
       "113                                                                        @ryanpavlov @Jeep Great photo   \n",
       "127                                                    RT @Jeep: Rugged good looks. https:t.co4mWvR8XZVm   \n",
       "154                                                    RT @XpriteUSA: This is great https:t.coKoAqHmZsnl   \n",
       "161                                                                  @Murderc4 Welcome to the Jeep life    \n",
       "201  Ive never understood the point of best car for senior superlatives anyway. Youre gonna congratul...   \n",
       "\n",
       "     polarity  subjectivity  \n",
       "113       0.8          0.75  \n",
       "127       0.7          0.60  \n",
       "154       0.8          0.75  \n",
       "161       0.8          0.90  \n",
       "201       1.0          0.30  "
      ]
     },
     "execution_count": 67,
     "metadata": {},
     "output_type": "execute_result"
    }
   ],
   "source": [
    "tweets_eng[['text_clean', 'polarity', 'subjectivity']][tweets_eng['polarity'] > 0.6].head(5)"
   ]
  },
  {
   "cell_type": "code",
   "execution_count": 68,
   "metadata": {},
   "outputs": [
    {
     "data": {
      "text/html": [
       "<div>\n",
       "<style>\n",
       "    .dataframe thead tr:only-child th {\n",
       "        text-align: right;\n",
       "    }\n",
       "\n",
       "    .dataframe thead th {\n",
       "        text-align: left;\n",
       "    }\n",
       "\n",
       "    .dataframe tbody tr th {\n",
       "        vertical-align: top;\n",
       "    }\n",
       "</style>\n",
       "<table border=\"1\" class=\"dataframe\">\n",
       "  <thead>\n",
       "    <tr style=\"text-align: right;\">\n",
       "      <th></th>\n",
       "      <th>text_clean</th>\n",
       "      <th>polarity</th>\n",
       "      <th>subjectivity</th>\n",
       "    </tr>\n",
       "  </thead>\n",
       "  <tbody>\n",
       "    <tr>\n",
       "      <th>53</th>\n",
       "      <td>I want a Jeep so bad</td>\n",
       "      <td>-0.70</td>\n",
       "      <td>0.666667</td>\n",
       "    </tr>\n",
       "    <tr>\n",
       "      <th>81</th>\n",
       "      <td>Bad boys, Bad Boys,  Just dont try this on the street kids jeep policelights strobelights https:...</td>\n",
       "      <td>-0.70</td>\n",
       "      <td>0.666667</td>\n",
       "    </tr>\n",
       "    <tr>\n",
       "      <th>117</th>\n",
       "      <td>RT @MailOnline: This is the terrifying moment an ambulance was overturned by a jeep     https:t....</td>\n",
       "      <td>-1.00</td>\n",
       "      <td>1.000000</td>\n",
       "    </tr>\n",
       "    <tr>\n",
       "      <th>366</th>\n",
       "      <td>@SadistHailey Ill never forget the guy who wanted me to run over his arm in a Jeep, and claimed ...</td>\n",
       "      <td>-0.75</td>\n",
       "      <td>1.000000</td>\n",
       "    </tr>\n",
       "    <tr>\n",
       "      <th>449</th>\n",
       "      <td>Trying to decide if I should take this job in Columbus, I hate driving and my jeep is horrible o...</td>\n",
       "      <td>-0.90</td>\n",
       "      <td>0.950000</td>\n",
       "    </tr>\n",
       "  </tbody>\n",
       "</table>\n",
       "</div>"
      ],
      "text/plain": [
       "                                                                                              text_clean  \\\n",
       "53                                                                                  I want a Jeep so bad   \n",
       "81   Bad boys, Bad Boys,  Just dont try this on the street kids jeep policelights strobelights https:...   \n",
       "117  RT @MailOnline: This is the terrifying moment an ambulance was overturned by a jeep     https:t....   \n",
       "366  @SadistHailey Ill never forget the guy who wanted me to run over his arm in a Jeep, and claimed ...   \n",
       "449  Trying to decide if I should take this job in Columbus, I hate driving and my jeep is horrible o...   \n",
       "\n",
       "     polarity  subjectivity  \n",
       "53      -0.70      0.666667  \n",
       "81      -0.70      0.666667  \n",
       "117     -1.00      1.000000  \n",
       "366     -0.75      1.000000  \n",
       "449     -0.90      0.950000  "
      ]
     },
     "execution_count": 68,
     "metadata": {},
     "output_type": "execute_result"
    }
   ],
   "source": [
    "tweets_eng[['text_clean', 'polarity', 'subjectivity']][tweets_eng['polarity'] < -0.6].head(5)"
   ]
  },
  {
   "cell_type": "markdown",
   "metadata": {},
   "source": [
    "## Very advanced (and labor intensive) sentiment analysis"
   ]
  },
  {
   "cell_type": "code",
   "execution_count": 69,
   "metadata": {
    "collapsed": true
   },
   "outputs": [],
   "source": [
    "# Read in the corpus of positive/negative words compiled by University of Pittsburgh, available at UNC Chapel Hill websie\n",
    "# These came from researchers Theresa Wilson, Janyce Wiebe, and Paul Hoffmann at the University of Pittsburgh, \n",
    "# and were readily available at http://mpqa.cs.pitt.edu/\n",
    "\n",
    "#Code adopted from: http://nealcaren.web.unc.edu/an-introduction-to-text-analysis-with-python-part-3/\n",
    "\n",
    "from urllib.request import urlretrieve\n",
    "\n",
    "import urllib\n",
    "outpath = 'http://www.unc.edu/~ncaren/haphazard/'\n",
    "directory = 'C://Users//Nick//Documents//Teaching//Data Projects//Text//Tweets//'\n",
    "tweet_directory = 'C://Users//Nick//Documents//Teaching//Data Projects//Text//Tweets//'\n",
    "file_pos = 'positive.txt'\n",
    "file_neg = 'negative.txt'\n",
    "\n",
    "corpus = [file_pos,file_neg]\n",
    "for file in corpus:\n",
    "    urlretrieve(outpath+file,tweet_directory+file)"
   ]
  },
  {
   "cell_type": "code",
   "execution_count": 70,
   "metadata": {
    "collapsed": true
   },
   "outputs": [],
   "source": [
    "tweet_list = tweets_eng['text_clean'].tolist()"
   ]
  },
  {
   "cell_type": "code",
   "execution_count": 71,
   "metadata": {
    "collapsed": true
   },
   "outputs": [],
   "source": [
    "pos_sent = open(tweet_directory +file_pos).read()\n",
    "pos_words = pos_sent.split('\\n')\n",
    "neg_sent = open(tweet_directory +file_neg).read()\n",
    "neg_words = neg_sent.split('\\n')"
   ]
  },
  {
   "cell_type": "code",
   "execution_count": 72,
   "metadata": {
    "collapsed": true
   },
   "outputs": [],
   "source": [
    "# customize the dictionaries by adding and removing your own positive and negative words and get some counts\n",
    "\n",
    "pos_add = ['your_pos_term_1, your_pos_term_2']\n",
    "\n",
    "for term in pos_add:\n",
    "    pos_words.append(term)\n",
    "\n",
    "neg_add = ['your_neg_term_1, your_neg_term_2']\n",
    "\n",
    "for term in neg_add:\n",
    "    neg_words.append(term)\n",
    "\n",
    "import re\n",
    "from string import punctuation\n",
    "from __future__ import division  \n",
    "sentiment_scores=[]\n",
    "for tweet in tweet_list:\n",
    "    sentiment_score=0\n",
    "    for p in list(punctuation):\n",
    "        tweet=tweet.replace(p,'')\n",
    "        words=tweet.split(' ')\n",
    "    for word in words:\n",
    "        if word in pos_words:\n",
    "            sentiment_score=sentiment_score+1\n",
    "        if word in neg_words:\n",
    "            sentiment_score=sentiment_score-1\n",
    "    sentiment_scores.append(sentiment_score/len(words))\n",
    "\n",
    "tweet_sentiment=zip(tweet_list,sentiment_scores)"
   ]
  },
  {
   "cell_type": "code",
   "execution_count": 73,
   "metadata": {
    "collapsed": true
   },
   "outputs": [],
   "source": [
    "# Create a dataframe from the results\n",
    "column_names = [\"Text\", \"Sentiment_Score\"]\n",
    "sentiment_results = [tweet_list, sentiment_scores]\n",
    "results_dict = dict(zip(column_names,sentiment_results))\n",
    "all_tweets_df = pd.DataFrame.from_dict(results_dict, orient='columns')\n",
    "all_tweets_df = all_tweets_df[column_names]   # set specific column order"
   ]
  },
  {
   "cell_type": "code",
   "execution_count": 74,
   "metadata": {
    "collapsed": true
   },
   "outputs": [],
   "source": [
    "# Create a list to store the sentiments\n",
    "sent_list = []\n",
    "\n",
    "# For each row in the column,\n",
    "for row in all_tweets_df['Sentiment_Score']:\n",
    "    if row > 0:\n",
    "        sent_list.append('Positive')\n",
    "    elif row < 0:\n",
    "        sent_list.append('Negative')\n",
    "    else:\n",
    "        sent_list.append('Neutral')\n",
    "\n",
    "# Create a column from the list\n",
    "all_tweets_df['Sentiment_Label'] = sent_list"
   ]
  },
  {
   "cell_type": "code",
   "execution_count": 75,
   "metadata": {},
   "outputs": [
    {
     "data": {
      "text/plain": [
       "0"
      ]
     },
     "execution_count": 75,
     "metadata": {},
     "output_type": "execute_result"
    }
   ],
   "source": [
    "#Make sure I didn't loose any records\n",
    "len(tweet_list) - len(all_tweets_df)"
   ]
  },
  {
   "cell_type": "code",
   "execution_count": 76,
   "metadata": {
    "collapsed": true
   },
   "outputs": [],
   "source": [
    "pd.set_option('display.max_colwidth', 150)"
   ]
  },
  {
   "cell_type": "code",
   "execution_count": 77,
   "metadata": {},
   "outputs": [
    {
     "data": {
      "text/html": [
       "<div>\n",
       "<style>\n",
       "    .dataframe thead tr:only-child th {\n",
       "        text-align: right;\n",
       "    }\n",
       "\n",
       "    .dataframe thead th {\n",
       "        text-align: left;\n",
       "    }\n",
       "\n",
       "    .dataframe tbody tr th {\n",
       "        vertical-align: top;\n",
       "    }\n",
       "</style>\n",
       "<table border=\"1\" class=\"dataframe\">\n",
       "  <thead>\n",
       "    <tr style=\"text-align: right;\">\n",
       "      <th></th>\n",
       "      <th>Text</th>\n",
       "      <th>Sentiment_Score</th>\n",
       "      <th>Sentiment_Label</th>\n",
       "    </tr>\n",
       "  </thead>\n",
       "  <tbody>\n",
       "    <tr>\n",
       "      <th>423</th>\n",
       "      <td>Lebanon Chrysler Dodge Jeep Ram, where the LIFTS are HIGH but the Prices are LOW https:t.cobxPAq7iXbg https:t.coabPbAVtvqH</td>\n",
       "      <td>0.0</td>\n",
       "      <td>Neutral</td>\n",
       "    </tr>\n",
       "    <tr>\n",
       "      <th>501</th>\n",
       "      <td>Your Shop  Items toyota chevolet ferrari ford rs jeep chrysler audi min m3 bmw  https:t.co4eKgue4mQl https:t.coqBiryuraqH</td>\n",
       "      <td>0.0</td>\n",
       "      <td>Neutral</td>\n",
       "    </tr>\n",
       "    <tr>\n",
       "      <th>224</th>\n",
       "      <td>eBay: 2015 Jeep Wrangler Sport Willys Wheeler Edition 4X4 2015 6 Speed Manual Trans Willys Wheeler https:t.couxdXVRuuFr</td>\n",
       "      <td>0.0</td>\n",
       "      <td>Neutral</td>\n",
       "    </tr>\n",
       "  </tbody>\n",
       "</table>\n",
       "</div>"
      ],
      "text/plain": [
       "                                                                                                                           Text  \\\n",
       "423  Lebanon Chrysler Dodge Jeep Ram, where the LIFTS are HIGH but the Prices are LOW https:t.cobxPAq7iXbg https:t.coabPbAVtvqH   \n",
       "501   Your Shop  Items toyota chevolet ferrari ford rs jeep chrysler audi min m3 bmw  https:t.co4eKgue4mQl https:t.coqBiryuraqH   \n",
       "224     eBay: 2015 Jeep Wrangler Sport Willys Wheeler Edition 4X4 2015 6 Speed Manual Trans Willys Wheeler https:t.couxdXVRuuFr   \n",
       "\n",
       "     Sentiment_Score Sentiment_Label  \n",
       "423              0.0         Neutral  \n",
       "501              0.0         Neutral  \n",
       "224              0.0         Neutral  "
      ]
     },
     "execution_count": 77,
     "metadata": {},
     "output_type": "execute_result"
    }
   ],
   "source": [
    "all_tweets_df.sample(frac=0.005, replace=True)"
   ]
  },
  {
   "cell_type": "code",
   "execution_count": 78,
   "metadata": {
    "collapsed": true
   },
   "outputs": [],
   "source": [
    "#all_tweets_df['Sentiment_Label'].value_counts()"
   ]
  },
  {
   "cell_type": "code",
   "execution_count": 79,
   "metadata": {},
   "outputs": [
    {
     "name": "stdout",
     "output_type": "stream",
     "text": [
      "Neutral     432\n",
      "Positive    110\n",
      "Negative     41\n",
      "dtype: int64\n"
     ]
    },
    {
     "data": {
      "image/png": "[encoded data removed]",
      "text/plain": [
       "<matplotlib.figure.Figure at 0x1806e1d0>"
      ]
     },
     "metadata": {},
     "output_type": "display_data"
    }
   ],
   "source": [
    "plt.figure().set_size_inches(10, 5)\n",
    "\n",
    "CountSentiment = pd.value_counts(all_tweets_df['Sentiment_Label'].values, sort=True)\n",
    "print (CountSentiment)\n",
    "\n",
    "#CountStatus.plot.barh()\n",
    "CountSentiment.plot.bar()\n",
    "plt.show()"
   ]
  },
  {
   "cell_type": "markdown",
   "metadata": {},
   "source": [
    "#### Export the results of advanced sentiment analysis"
   ]
  },
  {
   "cell_type": "code",
   "execution_count": 80,
   "metadata": {
    "collapsed": true
   },
   "outputs": [],
   "source": [
    "writer = pd.ExcelWriter(tweet_directory+'jeep_adv_sentiment.xlsx', engine='xlsxwriter')\n",
    "all_tweets_df.to_excel(writer, sheet_name='Tweets_Sentiment')\n",
    "writer.save()"
   ]
  },
  {
   "cell_type": "code",
   "execution_count": null,
   "metadata": {
    "collapsed": true
   },
   "outputs": [],
   "source": []
  }
 ],
 "metadata": {
  "anaconda-cloud": {},
  "kernelspec": {
   "display_name": "Python 3",
   "language": "python",
   "name": "python3"
  },
  "language_info": {
   "codemirror_mode": {
    "name": "ipython",
    "version": 3
   },
   "file_extension": ".py",
   "mimetype": "text/x-python",
   "name": "python",
   "nbconvert_exporter": "python",
   "pygments_lexer": "ipython3",
   "version": "3.5.4"
  }
 },
 "nbformat": 4,
 "nbformat_minor": 1
}
