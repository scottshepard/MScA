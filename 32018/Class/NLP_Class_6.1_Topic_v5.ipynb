{
 "cells": [
  {
   "cell_type": "markdown",
   "metadata": {},
   "source": [
    "## Advanced text mining with Python - Topic Modeling"
   ]
  },
  {
   "cell_type": "markdown",
   "metadata": {},
   "source": []
  },
  {
   "cell_type": "code",
   "execution_count": 12,
   "metadata": {},
   "outputs": [],
   "source": [
    "#!pip install pyLDAvis"
   ]
  },
  {
   "cell_type": "code",
   "execution_count": 13,
   "metadata": {},
   "outputs": [
    {
     "name": "stdout",
     "output_type": "stream",
     "text": [
      "3.7.2 (default, Feb 12 2019, 08:15:36) \n",
      "[Clang 10.0.0 (clang-1000.11.45.5)]\n"
     ]
    }
   ],
   "source": [
    "import sys\n",
    "print(sys.version)"
   ]
  },
  {
   "cell_type": "code",
   "execution_count": 14,
   "metadata": {},
   "outputs": [],
   "source": [
    "import warnings\n",
    "warnings.filterwarnings(\"ignore\", category=FutureWarning)\n",
    "warnings.filterwarnings(\"ignore\", category=DeprecationWarning)"
   ]
  },
  {
   "cell_type": "code",
   "execution_count": 15,
   "metadata": {},
   "outputs": [],
   "source": [
    "import time\n",
    "import math\n",
    "import re\n",
    "from textblob import TextBlob\n",
    "import pandas as pd\n",
    "\n",
    "import nltk as nltk\n",
    "from nltk.corpus import stopwords\n",
    "from nltk.stem.wordnet import WordNetLemmatizer\n",
    "\n",
    "import string\n",
    "\n",
    "import warnings\n",
    "warnings.filterwarnings(action='ignore', category=UserWarning, module='gensim')\n",
    "\n",
    "import gensim\n",
    "from gensim import corpora, models\n",
    "from gensim.models.ldamulticore import LdaMulticore\n",
    "import pyLDAvis.gensim\n",
    "\n"
   ]
  },
  {
   "cell_type": "code",
   "execution_count": 16,
   "metadata": {},
   "outputs": [],
   "source": [
    "directory = '~/Datasets/32018/'\n",
    "#file = 'jeep.txt'\n",
    "file = 'jeep_new.txt'\n",
    "path = directory + file"
   ]
  },
  {
   "cell_type": "code",
   "execution_count": 17,
   "metadata": {},
   "outputs": [],
   "source": [
    "tweets = pd.read_csv(path,sep='\\t', names = ['id', 'lang', 'created_at', 'screen_name', \\\n",
    "                                                       'name', 'location', 'retweet_count', 'text'])"
   ]
  },
  {
   "cell_type": "code",
   "execution_count": 18,
   "metadata": {},
   "outputs": [
    {
     "data": {
      "text/plain": [
       "id               68921\n",
       "lang             68921\n",
       "created_at       68921\n",
       "screen_name      68921\n",
       "name             68920\n",
       "location         46879\n",
       "retweet_count    68921\n",
       "text             68921\n",
       "dtype: int64"
      ]
     },
     "execution_count": 18,
     "metadata": {},
     "output_type": "execute_result"
    }
   ],
   "source": [
    "tweets.count()"
   ]
  },
  {
   "cell_type": "code",
   "execution_count": 19,
   "metadata": {},
   "outputs": [
    {
     "data": {
      "text/html": [
       "<div>\n",
       "<style scoped>\n",
       "    .dataframe tbody tr th:only-of-type {\n",
       "        vertical-align: middle;\n",
       "    }\n",
       "\n",
       "    .dataframe tbody tr th {\n",
       "        vertical-align: top;\n",
       "    }\n",
       "\n",
       "    .dataframe thead th {\n",
       "        text-align: right;\n",
       "    }\n",
       "</style>\n",
       "<table border=\"1\" class=\"dataframe\">\n",
       "  <thead>\n",
       "    <tr style=\"text-align: right;\">\n",
       "      <th></th>\n",
       "      <th>id</th>\n",
       "      <th>lang</th>\n",
       "      <th>created_at</th>\n",
       "      <th>screen_name</th>\n",
       "      <th>name</th>\n",
       "      <th>location</th>\n",
       "      <th>retweet_count</th>\n",
       "      <th>text</th>\n",
       "    </tr>\n",
       "  </thead>\n",
       "  <tbody>\n",
       "    <tr>\n",
       "      <th>0</th>\n",
       "      <td>9.222399e+17</td>\n",
       "      <td>en</td>\n",
       "      <td>Sun Oct 22 23:15:03 +0000 2017</td>\n",
       "      <td>alyssa_rose4</td>\n",
       "      <td>Princess Alyssa♛</td>\n",
       "      <td>Chicago, IL</td>\n",
       "      <td>0.0</td>\n",
       "      <td>@Rachel_31297 where’s the Jeep Wrangler option</td>\n",
       "    </tr>\n",
       "    <tr>\n",
       "      <th>1</th>\n",
       "      <td>9.222399e+17</td>\n",
       "      <td>en</td>\n",
       "      <td>Sun Oct 22 23:15:09 +0000 2017</td>\n",
       "      <td>negocialoya_us</td>\n",
       "      <td>NegocialoYa USA</td>\n",
       "      <td>Estados Unidos</td>\n",
       "      <td>0.0</td>\n",
       "      <td>Check this out: 2016 JEEP PATRIOT LATITUDE 4X4...</td>\n",
       "    </tr>\n",
       "    <tr>\n",
       "      <th>2</th>\n",
       "      <td>9.222400e+17</td>\n",
       "      <td>tl</td>\n",
       "      <td>Sun Oct 22 23:15:14 +0000 2017</td>\n",
       "      <td>Jasmne_abr</td>\n",
       "      <td>Jas</td>\n",
       "      <td>blueberry</td>\n",
       "      <td>0.0</td>\n",
       "      <td>Kadugay sa jeep</td>\n",
       "    </tr>\n",
       "    <tr>\n",
       "      <th>3</th>\n",
       "      <td>9.222400e+17</td>\n",
       "      <td>en</td>\n",
       "      <td>Sun Oct 22 23:15:15 +0000 2017</td>\n",
       "      <td>JFCO38</td>\n",
       "      <td>JUAN FCO</td>\n",
       "      <td>NaN</td>\n",
       "      <td>0.0</td>\n",
       "      <td>RT @Jeep: The Grand Cherokee Trackhawk is offi...</td>\n",
       "    </tr>\n",
       "    <tr>\n",
       "      <th>4</th>\n",
       "      <td>9.222400e+17</td>\n",
       "      <td>tl</td>\n",
       "      <td>Sun Oct 22 23:15:15 +0000 2017</td>\n",
       "      <td>MaestreRaymond</td>\n",
       "      <td>Jin Rae Min</td>\n",
       "      <td>Northern Mindanao</td>\n",
       "      <td>0.0</td>\n",
       "      <td>Kadugay mularga sa jeep nga kadali ko😬😭</td>\n",
       "    </tr>\n",
       "    <tr>\n",
       "      <th>5</th>\n",
       "      <td>9.222400e+17</td>\n",
       "      <td>tl</td>\n",
       "      <td>Sun Oct 22 23:15:21 +0000 2017</td>\n",
       "      <td>troyxaquino</td>\n",
       "      <td>Troy</td>\n",
       "      <td>NaN</td>\n",
       "      <td>0.0</td>\n",
       "      <td>Bang luluwag ng mga jeep hahaha</td>\n",
       "    </tr>\n",
       "    <tr>\n",
       "      <th>6</th>\n",
       "      <td>9.222400e+17</td>\n",
       "      <td>en</td>\n",
       "      <td>Sun Oct 22 23:15:27 +0000 2017</td>\n",
       "      <td>LifeForTrucker</td>\n",
       "      <td>TruckerForLife™</td>\n",
       "      <td>United States</td>\n",
       "      <td>0.0</td>\n",
       "      <td>RT @Jeep: Power stance. https://t.co/kl0oC8Xvof</td>\n",
       "    </tr>\n",
       "    <tr>\n",
       "      <th>7</th>\n",
       "      <td>9.222400e+17</td>\n",
       "      <td>en</td>\n",
       "      <td>Sun Oct 22 23:15:30 +0000 2017</td>\n",
       "      <td>rpx53</td>\n",
       "      <td>Rod O|||||||O</td>\n",
       "      <td>Where the blacktop ends</td>\n",
       "      <td>0.0</td>\n",
       "      <td>@THEJeepMafia @Jeep Thanks, 28° but Chaos and ...</td>\n",
       "    </tr>\n",
       "    <tr>\n",
       "      <th>8</th>\n",
       "      <td>9.222400e+17</td>\n",
       "      <td>tl</td>\n",
       "      <td>Sun Oct 22 23:15:34 +0000 2017</td>\n",
       "      <td>ronneldash</td>\n",
       "      <td>🏳️‍🌈ROX🏳️‍🌈</td>\n",
       "      <td>St. Paul</td>\n",
       "      <td>0.0</td>\n",
       "      <td>tangina mula 6:00 nasa sakayan ako tas 7:30 na...</td>\n",
       "    </tr>\n",
       "    <tr>\n",
       "      <th>9</th>\n",
       "      <td>9.222401e+17</td>\n",
       "      <td>tl</td>\n",
       "      <td>Sun Oct 22 23:15:49 +0000 2017</td>\n",
       "      <td>FayeUsi</td>\n",
       "      <td>aria</td>\n",
       "      <td>Las Pinas City, National Capit</td>\n",
       "      <td>0.0</td>\n",
       "      <td>@Dncyngs ikaw yung nakakasabay ko lagi sa jeep...</td>\n",
       "    </tr>\n",
       "  </tbody>\n",
       "</table>\n",
       "</div>"
      ],
      "text/plain": [
       "             id lang                      created_at     screen_name  \\\n",
       "0  9.222399e+17   en  Sun Oct 22 23:15:03 +0000 2017    alyssa_rose4   \n",
       "1  9.222399e+17   en  Sun Oct 22 23:15:09 +0000 2017  negocialoya_us   \n",
       "2  9.222400e+17   tl  Sun Oct 22 23:15:14 +0000 2017      Jasmne_abr   \n",
       "3  9.222400e+17   en  Sun Oct 22 23:15:15 +0000 2017          JFCO38   \n",
       "4  9.222400e+17   tl  Sun Oct 22 23:15:15 +0000 2017  MaestreRaymond   \n",
       "5  9.222400e+17   tl  Sun Oct 22 23:15:21 +0000 2017     troyxaquino   \n",
       "6  9.222400e+17   en  Sun Oct 22 23:15:27 +0000 2017  LifeForTrucker   \n",
       "7  9.222400e+17   en  Sun Oct 22 23:15:30 +0000 2017           rpx53   \n",
       "8  9.222400e+17   tl  Sun Oct 22 23:15:34 +0000 2017      ronneldash   \n",
       "9  9.222401e+17   tl  Sun Oct 22 23:15:49 +0000 2017         FayeUsi   \n",
       "\n",
       "               name                        location  retweet_count  \\\n",
       "0  Princess Alyssa♛                     Chicago, IL            0.0   \n",
       "1   NegocialoYa USA                  Estados Unidos            0.0   \n",
       "2               Jas                       blueberry            0.0   \n",
       "3          JUAN FCO                             NaN            0.0   \n",
       "4       Jin Rae Min               Northern Mindanao            0.0   \n",
       "5              Troy                             NaN            0.0   \n",
       "6   TruckerForLife™                   United States            0.0   \n",
       "7     Rod O|||||||O         Where the blacktop ends            0.0   \n",
       "8       🏳️‍🌈ROX🏳️‍🌈                        St. Paul            0.0   \n",
       "9              aria  Las Pinas City, National Capit            0.0   \n",
       "\n",
       "                                                text  \n",
       "0     @Rachel_31297 where’s the Jeep Wrangler option  \n",
       "1  Check this out: 2016 JEEP PATRIOT LATITUDE 4X4...  \n",
       "2                                    Kadugay sa jeep  \n",
       "3  RT @Jeep: The Grand Cherokee Trackhawk is offi...  \n",
       "4            Kadugay mularga sa jeep nga kadali ko😬😭  \n",
       "5                    Bang luluwag ng mga jeep hahaha  \n",
       "6    RT @Jeep: Power stance. https://t.co/kl0oC8Xvof  \n",
       "7  @THEJeepMafia @Jeep Thanks, 28° but Chaos and ...  \n",
       "8  tangina mula 6:00 nasa sakayan ako tas 7:30 na...  \n",
       "9  @Dncyngs ikaw yung nakakasabay ko lagi sa jeep...  "
      ]
     },
     "execution_count": 19,
     "metadata": {},
     "output_type": "execute_result"
    }
   ],
   "source": [
    "tweets.head(10)"
   ]
  },
  {
   "cell_type": "code",
   "execution_count": 20,
   "metadata": {},
   "outputs": [],
   "source": [
    "# Filter non-English tweets\n",
    "tweets_eng = tweets[tweets['lang']=='en'].reset_index(drop=True)"
   ]
  },
  {
   "cell_type": "code",
   "execution_count": 21,
   "metadata": {},
   "outputs": [],
   "source": [
    "# Remove special characters to avoid problems with analysis\n",
    "tweets_eng['text_clean'] = tweets_eng['text'].map(lambda x: re.sub('[^a-zA-Z0-9 @ . , : - _]', '', str(x)))"
   ]
  },
  {
   "cell_type": "code",
   "execution_count": 22,
   "metadata": {},
   "outputs": [
    {
     "data": {
      "text/html": [
       "<div>\n",
       "<style scoped>\n",
       "    .dataframe tbody tr th:only-of-type {\n",
       "        vertical-align: middle;\n",
       "    }\n",
       "\n",
       "    .dataframe tbody tr th {\n",
       "        vertical-align: top;\n",
       "    }\n",
       "\n",
       "    .dataframe thead th {\n",
       "        text-align: right;\n",
       "    }\n",
       "</style>\n",
       "<table border=\"1\" class=\"dataframe\">\n",
       "  <thead>\n",
       "    <tr style=\"text-align: right;\">\n",
       "      <th></th>\n",
       "      <th>text</th>\n",
       "      <th>text_clean</th>\n",
       "    </tr>\n",
       "  </thead>\n",
       "  <tbody>\n",
       "    <tr>\n",
       "      <th>0</th>\n",
       "      <td>@Rachel_31297 where’s the Jeep Wrangler option</td>\n",
       "      <td>@Rachel_31297 wheres the Jeep Wrangler option</td>\n",
       "    </tr>\n",
       "    <tr>\n",
       "      <th>1</th>\n",
       "      <td>Check this out: 2016 JEEP PATRIOT LATITUDE 4X4 - $8500 (MIAMI-DADE) 8500.00 USD https://t.co/akP...</td>\n",
       "      <td>Check this out: 2016 JEEP PATRIOT LATITUDE 4X4  8500 MIAMIDADE 8500.00 USD https:t.coakPkANPpEn ...</td>\n",
       "    </tr>\n",
       "    <tr>\n",
       "      <th>2</th>\n",
       "      <td>RT @Jeep: The Grand Cherokee Trackhawk is officially in production. Keep your eyes peeled for on...</td>\n",
       "      <td>RT @Jeep: The Grand Cherokee Trackhawk is officially in production. Keep your eyes peeled for on...</td>\n",
       "    </tr>\n",
       "    <tr>\n",
       "      <th>3</th>\n",
       "      <td>RT @Jeep: Power stance. https://t.co/kl0oC8Xvof</td>\n",
       "      <td>RT @Jeep: Power stance. https:t.cokl0oC8Xvof</td>\n",
       "    </tr>\n",
       "    <tr>\n",
       "      <th>4</th>\n",
       "      <td>@THEJeepMafia @Jeep Thanks, 28° but Chaos and Bear were awesome feet warmers! 🐾🐾 https://t.co/nN...</td>\n",
       "      <td>@THEJeepMafia @Jeep Thanks, 28 but Chaos and Bear were awesome feet warmers  https:t.conNIoaRVXlW</td>\n",
       "    </tr>\n",
       "  </tbody>\n",
       "</table>\n",
       "</div>"
      ],
      "text/plain": [
       "                                                                                                  text  \\\n",
       "0                                                       @Rachel_31297 where’s the Jeep Wrangler option   \n",
       "1  Check this out: 2016 JEEP PATRIOT LATITUDE 4X4 - $8500 (MIAMI-DADE) 8500.00 USD https://t.co/akP...   \n",
       "2  RT @Jeep: The Grand Cherokee Trackhawk is officially in production. Keep your eyes peeled for on...   \n",
       "3                                                      RT @Jeep: Power stance. https://t.co/kl0oC8Xvof   \n",
       "4  @THEJeepMafia @Jeep Thanks, 28° but Chaos and Bear were awesome feet warmers! 🐾🐾 https://t.co/nN...   \n",
       "\n",
       "                                                                                            text_clean  \n",
       "0                                                        @Rachel_31297 wheres the Jeep Wrangler option  \n",
       "1  Check this out: 2016 JEEP PATRIOT LATITUDE 4X4  8500 MIAMIDADE 8500.00 USD https:t.coakPkANPpEn ...  \n",
       "2  RT @Jeep: The Grand Cherokee Trackhawk is officially in production. Keep your eyes peeled for on...  \n",
       "3                                                         RT @Jeep: Power stance. https:t.cokl0oC8Xvof  \n",
       "4    @THEJeepMafia @Jeep Thanks, 28 but Chaos and Bear were awesome feet warmers  https:t.conNIoaRVXlW  "
      ]
     },
     "execution_count": 22,
     "metadata": {},
     "output_type": "execute_result"
    }
   ],
   "source": [
    "pd.set_option('display.max_colwidth', 100)\n",
    "tweets_eng[['text', 'text_clean']].head(5)"
   ]
  },
  {
   "cell_type": "markdown",
   "metadata": {},
   "source": [
    "## Topic Modeling\n",
    "#### Topics can be defined as “a repeating pattern of co-occurring terms in a corpus”"
   ]
  },
  {
   "cell_type": "markdown",
   "metadata": {},
   "source": [
    "### TF-IDF (term frequency–inverse document frequency)"
   ]
  },
  {
   "cell_type": "markdown",
   "metadata": {},
   "source": [
    "#### Using TextBlob functionality to create TF-IDF function for our select Tweets"
   ]
  },
  {
   "cell_type": "code",
   "execution_count": 23,
   "metadata": {},
   "outputs": [],
   "source": [
    "# http://stevenloria.com/finding-important-words-in-a-document-using-tf-idf/\n",
    "\n",
    "def tf(word, blob):\n",
    "    return blob.words.count(word) / len(blob.words)\n",
    "# tf(word, blob) computes \"term frequency\" which is the number of times a word appears in a document blob, \n",
    "# normalized by dividing by the total number of words in blob. We use TextBlob for breaking up the text into words \n",
    "# and getting the word counts.\n",
    "\n",
    "\n",
    "def n_containing(word, bloblist):\n",
    "    return sum(1 for blob in bloblist if word in blob.words)\n",
    "# n_containing(word, bloblist) returns the number of documents containing word. \n",
    "# A generator expression is passed to the sum() function.\n",
    "\n",
    "\n",
    "def idf(word, bloblist):\n",
    "    return math.log(len(bloblist) / (1 + n_containing(word, bloblist)))\n",
    "# idf(word, bloblist) computes \"inverse document frequency\" which measures how common a word is \n",
    "# among all documents in bloblist. The more common a word is, the lower its idf. \n",
    "# We take the ratio of the total number of documents to the number of documents containing word, \n",
    "# then take the log of that. Add 1 to the divisor to prevent division by zero\n",
    "\n",
    "\n",
    "def tfidf(word, blob, bloblist):\n",
    "    return tf(word, blob) * idf(word, bloblist)\n",
    "# tfidf(word, blob, bloblist) computes the TF-IDF score. It is simply the product of tf and idf."
   ]
  },
  {
   "cell_type": "code",
   "execution_count": 24,
   "metadata": {},
   "outputs": [
    {
     "data": {
      "text/plain": [
       "40704"
      ]
     },
     "execution_count": 24,
     "metadata": {},
     "output_type": "execute_result"
    }
   ],
   "source": [
    "bloblist = []\n",
    "del bloblist[:]\n",
    "\n",
    "for i  in range(0,len(tweets_eng)):\n",
    "    bloblist.append(TextBlob(tweets_eng['text_clean'].iloc[i]))\n",
    "    \n",
    "len(bloblist)  "
   ]
  },
  {
   "cell_type": "code",
   "execution_count": 25,
   "metadata": {},
   "outputs": [
    {
     "name": "stdout",
     "output_type": "stream",
     "text": [
      "Top words in tweet 1\n",
      "\tWord: Rachel_31297, TF-IDF: 1.65349\n",
      "\tWord: wheres, TF-IDF: 1.50077\n",
      "\tWord: option, TF-IDF: 1.226\n",
      "\tWord: Wrangler, TF-IDF: 0.38572\n",
      "\tWord: the, TF-IDF: 0.28659\n",
      "Top words in tweet 2\n",
      "\tWord: t.coakPkANPpEn, TF-IDF: 0.58358\n",
      "\tWord: t.coL2WaZBsUTf, TF-IDF: 0.58358\n",
      "\tWord: MIAMIDADE, TF-IDF: 0.55973\n",
      "\tWord: 8500.00, TF-IDF: 0.55973\n",
      "\tWord: 8500, TF-IDF: 0.51896\n",
      "Top words in tweet 3\n",
      "\tWord: t.cobbiPfPXXax, TF-IDF: 0.34509\n",
      "\tWord: peeled, TF-IDF: 0.34191\n",
      "\tWord: Keep, TF-IDF: 0.31915\n",
      "\tWord: wild, TF-IDF: 0.31915\n",
      "\tWord: officially, TF-IDF: 0.31637\n",
      "Top words in tweet 4\n",
      "\tWord: t.cokl0oC8Xvof, TF-IDF: 0.89363\n",
      "\tWord: stance, TF-IDF: 0.89104\n",
      "\tWord: Power, TF-IDF: 0.85214\n",
      "\tWord: RT, TF-IDF: 0.18822\n",
      "\tWord: Jeep, TF-IDF: 0.06069\n",
      "Top words in tweet 5\n",
      "\tWord: t.conNIoaRVXlW, TF-IDF: 0.70864\n",
      "\tWord: warmers, TF-IDF: 0.65913\n",
      "\tWord: Chaos, TF-IDF: 0.63017\n",
      "\tWord: Bear, TF-IDF: 0.60962\n",
      "\tWord: feet, TF-IDF: 0.56011\n"
     ]
    }
   ],
   "source": [
    "for i, blob in enumerate(bloblist):\n",
    "# Print top 5 values\n",
    "    if i == 5:\n",
    "        break\n",
    "    print(\"Top words in tweet {}\".format(i + 1))\n",
    "    scores = {word: tfidf(word, blob, bloblist) for word in blob.words}\n",
    "    sorted_words = sorted(scores.items(), key=lambda x: x[1], reverse=True)\n",
    "    for word, score in sorted_words[:5]:\n",
    "        print(\"\\tWord: {}, TF-IDF: {}\".format(word, round(score, 5)))"
   ]
  },
  {
   "cell_type": "markdown",
   "metadata": {
    "collapsed": true
   },
   "source": [
    "## LDA (latent dirichlet allocation)\n",
    "#### LDA is a matrix factorization technique, which assumes documents are produced from a mixture of topics. Those topics then generate words based on their probability distribution."
   ]
  },
  {
   "cell_type": "code",
   "execution_count": 15,
   "metadata": {},
   "outputs": [],
   "source": [
    "#https://www.analyticsvidhya.com/blog/2016/08/beginners-guide-to-topic-modeling-in-python/"
   ]
  },
  {
   "cell_type": "code",
   "execution_count": 16,
   "metadata": {},
   "outputs": [],
   "source": [
    "doc1 = \"BMW upbeat sustained sales growth\"\n",
    "doc2 = \"Ad wars When BMW Audi Mercedes Benz Jaguar prove prowess through advertisements\"\n",
    "doc3 = \"BMW Protonic Frozen Yellow Edition Looks So Cool\"\n",
    "doc4 = \"Judge Shuts Door On SoftClose Defect Suit Against BMW Law\"\n",
    "doc5 = \"Just Listed BMW Alpina B Turbo Automobile Magazine\"\n",
    "doc6 = \"How take part BMW Ultimate Driving Experience\"\n",
    "doc7 = \"Long Beach BMW Motorcycles Becomes First BMW Dealer Offer Virtual Reality Experience Virtual Reality Reporter\"\n",
    "doc8 = \"NYC Auto Show BMW M Performance Video Overview\"\n",
    "doc9 = \"BMW F X Spy video shows SUV stress test\"\n",
    "doc10 = \"Driver taken hospital BMW smashes tree Stourbridge Express Star\"\n",
    "\n",
    "# compile documents\n",
    "doc_complete = [doc1, doc2, doc3, doc4, doc5, doc6, doc7, doc8, doc9, doc10]"
   ]
  },
  {
   "cell_type": "code",
   "execution_count": 17,
   "metadata": {},
   "outputs": [],
   "source": [
    "stop = set(stopwords.words('english'))\n",
    "exclude = set(string.punctuation)\n",
    "lemma = WordNetLemmatizer()\n",
    "def clean(doc):\n",
    "    stop_free = \" \".join([i for i in doc.lower().split() if i not in stop])\n",
    "    punc_free = ''.join(ch for ch in stop_free if ch not in exclude)\n",
    "    normalized = \" \".join(lemma.lemmatize(word) for word in punc_free.split())\n",
    "    return normalized\n",
    "\n",
    "doc_clean = [clean(doc).split() for doc in doc_complete]     "
   ]
  },
  {
   "cell_type": "code",
   "execution_count": 19,
   "metadata": {},
   "outputs": [
    {
     "data": {
      "text/plain": [
       "[['bmw', 'upbeat', 'sustained', 'sale', 'growth'],\n",
       " ['ad',\n",
       "  'war',\n",
       "  'bmw',\n",
       "  'audi',\n",
       "  'mercedes',\n",
       "  'benz',\n",
       "  'jaguar',\n",
       "  'prove',\n",
       "  'prowess',\n",
       "  'advertisement'],\n",
       " ['bmw', 'protonic', 'frozen', 'yellow', 'edition', 'look', 'cool']]"
      ]
     },
     "execution_count": 19,
     "metadata": {},
     "output_type": "execute_result"
    }
   ],
   "source": [
    "doc_clean[:3]"
   ]
  },
  {
   "cell_type": "code",
   "execution_count": 18,
   "metadata": {},
   "outputs": [],
   "source": [
    "# Creating the term dictionary of our courpus, where every unique term is assigned an index. \n",
    "dictionary = corpora.Dictionary(doc_clean)\n",
    "\n",
    "# Converting list of documents (corpus) into Document Term Matrix using dictionary prepared above.\n",
    "doc_term_matrix = [dictionary.doc2bow(doc) for doc in doc_clean]"
   ]
  },
  {
   "cell_type": "markdown",
   "metadata": {},
   "source": [
    "https://towardsdatascience.com/topic-modelling-in-python-with-nltk-and-gensim-4ef03213cd21"
   ]
  },
  {
   "cell_type": "code",
   "execution_count": 21,
   "metadata": {},
   "outputs": [],
   "source": [
    "# Creating the object for LDA model using gensim library\n",
    "Lda = gensim.models.ldamodel.LdaModel"
   ]
  },
  {
   "cell_type": "markdown",
   "metadata": {},
   "source": [
    "### Three-topic Model"
   ]
  },
  {
   "cell_type": "code",
   "execution_count": 24,
   "metadata": {},
   "outputs": [
    {
     "name": "stdout",
     "output_type": "stream",
     "text": [
      "Wall time: 501 ms\n",
      "(0, '0.048*\"sustained\" + 0.048*\"sale\" + 0.048*\"upbeat\"')\n",
      "(1, '0.083*\"bmw\" + 0.025*\"stourbridge\" + 0.025*\"smash\"')\n",
      "(2, '0.090*\"bmw\" + 0.033*\"reality\" + 0.033*\"virtual\"')\n"
     ]
    }
   ],
   "source": [
    "# Running and Trainign LDA model on the document term matrix.\n",
    "%time ldamodel = Lda(doc_term_matrix, num_topics=3, id2word = dictionary, passes=50) #3 topics\n",
    "print(*ldamodel.print_topics(num_topics=3, num_words=3), sep='\\n')"
   ]
  },
  {
   "cell_type": "markdown",
   "metadata": {},
   "source": [
    "#### For larger datasets LdaMulticore should provide significant speed improvements"
   ]
  },
  {
   "cell_type": "code",
   "execution_count": 28,
   "metadata": {},
   "outputs": [
    {
     "name": "stdout",
     "output_type": "stream",
     "text": [
      "Wall time: 9.68 s\n",
      "(0, '0.076*\"bmw\" + 0.031*\"express\" + 0.031*\"star\"')\n",
      "(1, '0.092*\"bmw\" + 0.034*\"virtual\" + 0.034*\"reality\"')\n",
      "(2, '0.060*\"bmw\" + 0.035*\"video\" + 0.035*\"show\"')\n"
     ]
    }
   ],
   "source": [
    "%time ldamodel = LdaMulticore(doc_term_matrix, num_topics=3, id2word = dictionary, passes=50) #3 topics\n",
    "print(*ldamodel.print_topics(num_topics=3, num_words=3), sep='\\n')"
   ]
  },
  {
   "cell_type": "code",
   "execution_count": 61,
   "metadata": {},
   "outputs": [],
   "source": [
    "#topics = ldamodel.print_topics(num_words=3)\n",
    "#for topic in topics:\n",
    "#    print(topic)"
   ]
  },
  {
   "cell_type": "code",
   "execution_count": 62,
   "metadata": {},
   "outputs": [
    {
     "data": {
      "text/html": [
       "\n",
       "<link rel=\"stylesheet\" type=\"text/css\" href=\"https://cdn.rawgit.com/bmabey/pyLDAvis/files/ldavis.v1.0.0.css\">\n",
       "\n",
       "\n",
       "<div id=\"ldavis_el12476904161362102974124\"></div>\n",
       "<script type=\"text/javascript\">\n",
       "\n",
       "var ldavis_el12476904161362102974124_data = {\"mdsDat\": {\"x\": [0.0822392719762843, -0.0035395401843678195, -0.07869973179191644], \"y\": [0.0359510032840615, -0.07698115889878958, 0.041030155614728094], \"topics\": [1, 2, 3], \"cluster\": [1, 1, 1], \"Freq\": [35.301876068115234, 20.705612182617188, 43.99251174926758]}, \"tinfo\": {\"Category\": [\"Default\", \"Default\", \"Default\", \"Default\", \"Default\", \"Default\", \"Default\", \"Default\", \"Default\", \"Default\", \"Default\", \"Default\", \"Default\", \"Default\", \"Default\", \"Default\", \"Default\", \"Default\", \"Default\", \"Default\", \"Default\", \"Default\", \"Default\", \"Default\", \"Default\", \"Default\", \"Default\", \"Default\", \"Default\", \"Default\", \"Topic1\", \"Topic1\", \"Topic1\", \"Topic1\", \"Topic1\", \"Topic1\", \"Topic1\", \"Topic1\", \"Topic1\", \"Topic1\", \"Topic1\", \"Topic1\", \"Topic1\", \"Topic1\", \"Topic1\", \"Topic1\", \"Topic1\", \"Topic1\", \"Topic1\", \"Topic1\", \"Topic1\", \"Topic1\", \"Topic1\", \"Topic1\", \"Topic1\", \"Topic1\", \"Topic1\", \"Topic1\", \"Topic1\", \"Topic1\", \"Topic1\", \"Topic1\", \"Topic1\", \"Topic1\", \"Topic1\", \"Topic1\", \"Topic1\", \"Topic1\", \"Topic1\", \"Topic2\", \"Topic2\", \"Topic2\", \"Topic2\", \"Topic2\", \"Topic2\", \"Topic2\", \"Topic2\", \"Topic2\", \"Topic2\", \"Topic2\", \"Topic2\", \"Topic2\", \"Topic2\", \"Topic2\", \"Topic2\", \"Topic2\", \"Topic2\", \"Topic2\", \"Topic2\", \"Topic2\", \"Topic2\", \"Topic2\", \"Topic2\", \"Topic2\", \"Topic2\", \"Topic2\", \"Topic2\", \"Topic2\", \"Topic2\", \"Topic2\", \"Topic2\", \"Topic2\", \"Topic2\", \"Topic2\", \"Topic2\", \"Topic2\", \"Topic2\", \"Topic2\", \"Topic2\", \"Topic2\", \"Topic2\", \"Topic2\", \"Topic2\", \"Topic2\", \"Topic2\", \"Topic2\", \"Topic3\", \"Topic3\", \"Topic3\", \"Topic3\", \"Topic3\", \"Topic3\", \"Topic3\", \"Topic3\", \"Topic3\", \"Topic3\", \"Topic3\", \"Topic3\", \"Topic3\", \"Topic3\", \"Topic3\", \"Topic3\", \"Topic3\", \"Topic3\", \"Topic3\", \"Topic3\", \"Topic3\", \"Topic3\", \"Topic3\", \"Topic3\", \"Topic3\", \"Topic3\", \"Topic3\", \"Topic3\", \"Topic3\", \"Topic3\", \"Topic3\", \"Topic3\"], \"Freq\": [1.0, 1.0, 1.0, 1.0, 0.0, 0.0, 0.0, 0.0, 0.0, 0.0, 0.0, 0.0, 0.0, 0.0, 1.0, 1.0, 1.0, 1.0, 1.0, 1.0, 1.0, 1.0, 1.0, 1.0, 1.0, 1.0, 1.0, 1.0, 1.0, 1.0, 1.3224413394927979, 1.3224413394927979, 0.7555897235870361, 0.7555897235870361, 0.7555897235870361, 0.7555897235870361, 0.7555897235870361, 0.7555897235870361, 0.7555897235870361, 0.7555897235870361, 0.7554596066474915, 0.7554596066474915, 0.7554596066474915, 0.7554596066474915, 0.7554596066474915, 0.7554596066474915, 0.7554596066474915, 0.7554596066474915, 0.755164384841919, 0.755164384841919, 0.7551644444465637, 0.755164384841919, 0.7603175044059753, 2.4642224311828613, 0.18909937143325806, 0.18909937143325806, 0.18909937143325806, 0.18909935653209686, 0.18906261026859283, 0.18906255066394806, 0.18906253576278687, 0.18906253576278687, 0.18906252086162567, 0.18925519287586212, 0.18925519287586212, 0.18925519287586212, 0.18925519287586212, 0.18917948007583618, 0.18917948007583618, 1.036559820175171, 1.036559820175171, 0.5922577381134033, 0.5922577381134033, 0.5922576785087585, 0.5922576785087585, 0.5922576189041138, 0.5922576189041138, 0.5922034978866577, 0.5922034978866577, 0.5922034978866577, 0.5922034978866577, 1.033615231513977, 0.1484013944864273, 0.1484013944864273, 0.1484013944864273, 0.1484013944864273, 0.14826291799545288, 0.1482629030942917, 0.1482628732919693, 0.1482628732919693, 0.1482628583908081, 0.1482628583908081, 0.1482628583908081, 0.1482628583908081, 0.14819946885108948, 0.14819946885108948, 0.14819946885108948, 0.14819946885108948, 0.14819946885108948, 0.14819946885108948, 0.14839141070842743, 0.14839142560958862, 0.14839141070842743, 0.14839142560958862, 0.14819946885108948, 0.14834727346897125, 0.14834727346897125, 0.14834727346897125, 0.14834727346897125, 0.14834727346897125, 0.14834727346897125, 0.14834727346897125, 0.14834727346897125, 0.14834727346897125, 0.14848409593105316, 0.14834727346897125, 0.802588701248169, 0.802588701248169, 0.802588701248169, 0.802588701248169, 0.802588701248169, 0.8025885820388794, 0.8025885820388794, 0.8025885224342346, 0.8025884628295898, 0.8024842143058777, 0.8024842143058777, 0.8024842143058777, 0.8024842143058777, 0.8024842143058777, 0.8024842143058777, 0.8024842143058777, 0.8024075627326965, 0.8024075627326965, 0.8024075627326965, 0.8024075627326965, 0.8024073243141174, 0.8024073243141174, 0.8024073243141174, 0.8024075627326965, 0.8024073243141174, 0.8024073243141174, 0.8024073243141174, 0.8024075627326965, 0.8022671937942505, 0.8022671937942505, 3.207758903503418, 0.8022671937942505], \"Term\": [\"show\", \"video\", \"reality\", \"virtual\", \"x\", \"spy\", \"test\", \"f\", \"suv\", \"stress\", \"performance\", \"overview\", \"nyc\", \"auto\", \"first\", \"long\", \"motorcycle\", \"dealer\", \"becomes\", \"offer\", \"beach\", \"reporter\", \"express\", \"driver\", \"tree\", \"taken\", \"hospital\", \"smash\", \"star\", \"stourbridge\", \"reality\", \"virtual\", \"offer\", \"reporter\", \"motorcycle\", \"long\", \"first\", \"dealer\", \"becomes\", \"beach\", \"taken\", \"tree\", \"driver\", \"express\", \"hospital\", \"smash\", \"stourbridge\", \"star\", \"sustained\", \"sale\", \"growth\", \"upbeat\", \"experience\", \"bmw\", \"auto\", \"overview\", \"nyc\", \"performance\", \"suv\", \"stress\", \"spy\", \"x\", \"f\", \"part\", \"take\", \"ultimate\", \"driving\", \"yellow\", \"protonic\", \"video\", \"show\", \"test\", \"f\", \"spy\", \"x\", \"stress\", \"suv\", \"overview\", \"performance\", \"nyc\", \"auto\", \"bmw\", \"upbeat\", \"sustained\", \"sale\", \"growth\", \"star\", \"express\", \"tree\", \"driver\", \"taken\", \"smash\", \"stourbridge\", \"hospital\", \"offer\", \"motorcycle\", \"long\", \"first\", \"dealer\", \"reporter\", \"ultimate\", \"part\", \"take\", \"driving\", \"beach\", \"yellow\", \"frozen\", \"alpina\", \"automobile\", \"cool\", \"edition\", \"look\", \"protonic\", \"b\", \"experience\", \"magazine\", \"war\", \"advertisement\", \"benz\", \"jaguar\", \"mercedes\", \"audi\", \"prowess\", \"prove\", \"ad\", \"suit\", \"judge\", \"door\", \"defect\", \"softclose\", \"law\", \"shuts\", \"alpina\", \"automobile\", \"b\", \"listed\", \"yellow\", \"look\", \"protonic\", \"turbo\", \"frozen\", \"edition\", \"cool\", \"magazine\", \"ultimate\", \"driving\", \"bmw\", \"take\"], \"Total\": [1.0, 1.0, 1.0, 1.0, 0.0, 0.0, 0.0, 0.0, 0.0, 0.0, 0.0, 0.0, 0.0, 0.0, 1.0, 1.0, 1.0, 1.0, 1.0, 1.0, 1.0, 1.0, 1.0, 1.0, 1.0, 1.0, 1.0, 1.0, 1.0, 1.0, 1.6714602708816528, 1.6714602708816528, 1.1046184301376343, 1.1046184301376343, 1.1046184301376343, 1.1046184301376343, 1.1046184301376343, 1.1046184301376343, 1.1046184301376343, 1.1046184301376343, 1.1046040058135986, 1.1046040058135986, 1.1046040058135986, 1.1046040058135986, 1.1046040058135986, 1.1046040058135986, 1.1046040058135986, 1.1046040058135986, 1.1045732498168945, 1.1045732498168945, 1.104573369026184, 1.1045732498168945, 1.7064578533172607, 6.705596446990967, 0.9821867942810059, 0.9821867942810059, 0.9821867942810059, 0.9821867942810059, 0.9821697473526001, 0.9821696877479553, 0.9821697473526001, 0.9821697473526001, 0.9821698069572449, 1.13991379737854, 1.13991379737854, 1.13991379737854, 1.13991379737854, 1.1399340629577637, 1.1399340629577637, 1.4264936447143555, 1.426493763923645, 0.9821697473526001, 0.9821698069572449, 0.9821697473526001, 0.9821697473526001, 0.9821696877479553, 0.9821697473526001, 0.9821867942810059, 0.9821867942810059, 0.9821867942810059, 0.9821867942810059, 6.705596446990967, 1.1045732498168945, 1.1045732498168945, 1.1045732498168945, 1.104573369026184, 1.1046040058135986, 1.1046040058135986, 1.1046040058135986, 1.1046040058135986, 1.1046040058135986, 1.1046040058135986, 1.1046040058135986, 1.1046040058135986, 1.1046184301376343, 1.1046184301376343, 1.1046184301376343, 1.1046184301376343, 1.1046184301376343, 1.1046184301376343, 1.13991379737854, 1.13991379737854, 1.13991379737854, 1.13991379737854, 1.1046184301376343, 1.1399340629577637, 1.1399340629577637, 1.1399343013763428, 1.1399343013763428, 1.1399340629577637, 1.1399340629577637, 1.1399340629577637, 1.1399340629577637, 1.1399343013763428, 1.7064578533172607, 1.1399343013763428, 1.1399657726287842, 1.1399657726287842, 1.1399657726287842, 1.1399657726287842, 1.1399657726287842, 1.1399657726287842, 1.1399657726287842, 1.1399657726287842, 1.1399657726287842, 1.139947533607483, 1.139947533607483, 1.139947533607483, 1.139947533607483, 1.139947533607483, 1.139947533607483, 1.139947533607483, 1.1399343013763428, 1.1399343013763428, 1.1399343013763428, 1.1399343013763428, 1.1399340629577637, 1.1399340629577637, 1.1399340629577637, 1.1399343013763428, 1.1399340629577637, 1.1399340629577637, 1.1399340629577637, 1.1399343013763428, 1.13991379737854, 1.13991379737854, 6.705596446990967, 1.13991379737854], \"loglift\": [30.0, 29.0, 28.0, 27.0, 26.0, 25.0, 24.0, 23.0, 22.0, 21.0, 20.0, 19.0, 18.0, 17.0, 16.0, 15.0, 14.0, 13.0, 12.0, 11.0, 10.0, 9.0, 8.0, 7.0, 6.0, 5.0, 4.0, 3.0, 2.0, 1.0, 0.8069999814033508, 0.8069999814033508, 0.6614999771118164, 0.6614999771118164, 0.6614999771118164, 0.6614999771118164, 0.6614999771118164, 0.6614999771118164, 0.6614999771118164, 0.6614999771118164, 0.661300003528595, 0.661300003528595, 0.661300003528595, 0.661300003528595, 0.661300003528595, 0.661300003528595, 0.661300003528595, 0.661300003528595, 0.6610000133514404, 0.6610000133514404, 0.6610000133514404, 0.6610000133514404, 0.23280000686645508, 0.04019999876618385, -0.6062999963760376, -0.6062999963760376, -0.6062999963760376, -0.6062999963760376, -0.6065000295639038, -0.6065000295639038, -0.6065000295639038, -0.6065000295639038, -0.6065000295639038, -0.7544000148773193, -0.7544000148773193, -0.7544000148773193, -0.7544000148773193, -0.754800021648407, -0.754800021648407, 1.2554999589920044, 1.2554999589920044, 1.0688999891281128, 1.0688999891281128, 1.0688999891281128, 1.0688999891281128, 1.0688999891281128, 1.0688999891281128, 1.0687999725341797, 1.0687999725341797, 1.0687999725341797, 1.0687999725341797, -0.29510000348091125, -0.4325000047683716, -0.4325000047683716, -0.4325000047683716, -0.4325000047683716, -0.4334999918937683, -0.4334999918937683, -0.4334999918937683, -0.4334999918937683, -0.4334999918937683, -0.4334999918937683, -0.4334999918937683, -0.4334999918937683, -0.43389999866485596, -0.43389999866485596, -0.43389999866485596, -0.43389999866485596, -0.43389999866485596, -0.43389999866485596, -0.4641000032424927, -0.4641000032424927, -0.4641000032424927, -0.4641000032424927, -0.43389999866485596, -0.4643999934196472, -0.4643999934196472, -0.4643999934196472, -0.4643999934196472, -0.4643999934196472, -0.4643999934196472, -0.4643999934196472, -0.4643999934196472, -0.4643999934196472, -0.8669000267982483, -0.4643999934196472, 0.4702000021934509, 0.4702000021934509, 0.4702000021934509, 0.4702000021934509, 0.4702000021934509, 0.4702000021934509, 0.4702000021934509, 0.4702000021934509, 0.4702000021934509, 0.4700999855995178, 0.4700999855995178, 0.4700999855995178, 0.4700999855995178, 0.4700999855995178, 0.4700999855995178, 0.4700999855995178, 0.4699999988079071, 0.4699999988079071, 0.4699999988079071, 0.4699999988079071, 0.4699999988079071, 0.4699999988079071, 0.4699999988079071, 0.4699999988079071, 0.4699999988079071, 0.4699999988079071, 0.4699999988079071, 0.4699999988079071, 0.4699000120162964, 0.4699000120162964, 0.08380000293254852, 0.4699000120162964], \"logprob\": [30.0, 29.0, 28.0, 27.0, 26.0, 25.0, 24.0, 23.0, 22.0, 21.0, 20.0, 19.0, 18.0, 17.0, 16.0, 15.0, 14.0, 13.0, 12.0, 11.0, 10.0, 9.0, 8.0, 7.0, 6.0, 5.0, 4.0, 3.0, 2.0, 1.0, -3.098099946975708, -3.098099946975708, -3.657900094985962, -3.657900094985962, -3.657900094985962, -3.657900094985962, -3.657900094985962, -3.657900094985962, -3.657900094985962, -3.657900094985962, -3.6579999923706055, -3.6579999923706055, -3.6579999923706055, -3.6579999923706055, -3.6579999923706055, -3.6579999923706055, -3.6579999923706055, -3.6579999923706055, -3.658400058746338, -3.658400058746338, -3.658400058746338, -3.658400058746338, -3.651599884033203, -2.4756999015808105, -5.043099880218506, -5.043099880218506, -5.043099880218506, -5.043099880218506, -5.043300151824951, -5.043300151824951, -5.043300151824951, -5.043300151824951, -5.043300151824951, -5.042300224304199, -5.042300224304199, -5.042300224304199, -5.042300224304199, -5.042699813842773, -5.042699813842773, -2.808199882507324, -2.808199882507324, -3.3678998947143555, -3.3678998947143555, -3.3678998947143555, -3.3678998947143555, -3.3678998947143555, -3.3678998947143555, -3.368000030517578, -3.368000030517578, -3.368000030517578, -3.368000030517578, -2.811000108718872, -4.7519001960754395, -4.7519001960754395, -4.7519001960754395, -4.7519001960754395, -4.752799987792969, -4.752799987792969, -4.752799987792969, -4.752799987792969, -4.752799987792969, -4.752799987792969, -4.752799987792969, -4.752799987792969, -4.753300189971924, -4.753300189971924, -4.753300189971924, -4.753300189971924, -4.753300189971924, -4.753300189971924, -4.751999855041504, -4.751999855041504, -4.751999855041504, -4.751999855041504, -4.753300189971924, -4.752299785614014, -4.752299785614014, -4.752299785614014, -4.752299785614014, -4.752299785614014, -4.752299785614014, -4.752299785614014, -4.752299785614014, -4.752299785614014, -4.751399993896484, -4.752299785614014, -3.8176000118255615, -3.8176000118255615, -3.8176000118255615, -3.8176000118255615, -3.8176000118255615, -3.8176000118255615, -3.8176000118255615, -3.8176000118255615, -3.8176000118255615, -3.817699909210205, -3.817699909210205, -3.817699909210205, -3.817699909210205, -3.817699909210205, -3.817699909210205, -3.817699909210205, -3.8178000450134277, -3.8178000450134277, -3.8178000450134277, -3.8178000450134277, -3.8178000450134277, -3.8178000450134277, -3.8178000450134277, -3.8178000450134277, -3.8178000450134277, -3.8178000450134277, -3.8178000450134277, -3.8178000450134277, -3.818000078201294, -3.818000078201294, -2.4321000576019287, -3.818000078201294]}, \"token.table\": {\"Topic\": [3, 3, 3, 3, 2, 3, 3, 1, 1, 3, 1, 2, 3, 3, 1, 3, 3, 1, 3, 3, 1, 3, 1, 2, 1, 3, 1, 1, 3, 3, 3, 3, 1, 3, 3, 3, 1, 2, 1, 2, 3, 2, 3, 3, 3, 1, 1, 1, 2, 3, 1, 3, 2, 1, 1, 2, 3, 1, 2, 3, 1, 2, 1, 3, 3, 1, 2, 1, 3, 2, 3], \"Freq\": [0.8772193193435669, 0.8772193193435669, 0.8772435188293457, 0.8772193193435669, 1.0181362628936768, 0.8772435188293457, 0.8772435188293457, 0.9052900075912476, 0.9052900075912476, 0.8772193193435669, 0.29825833439826965, 0.14912916719913483, 0.4473874866962433, 0.87724369764328, 0.9052900075912476, 0.8772333264350891, 0.8772333264350891, 0.9053018093109131, 0.8772593140602112, 0.87724369764328, 0.5860092043876648, 0.5860092043876648, 0.9053018093109131, 1.0181539058685303, 0.9052900075912476, 0.87724369764328, 0.9053269028663635, 0.9053018093109131, 0.8772193193435669, 0.8772333264350891, 0.8772333264350891, 0.8772435188293457, 0.9052900075912476, 0.87724369764328, 0.8772435188293457, 0.8772193193435669, 0.9052900075912476, 1.0181362628936768, 0.9052900075912476, 1.0181362628936768, 0.8772593140602112, 1.0181362628936768, 0.87724369764328, 0.8772193193435669, 0.8772193193435669, 0.5982792377471924, 0.9052900075912476, 0.9053270220756531, 0.7010195255279541, 0.8772333264350891, 0.9053018093109131, 0.8772333264350891, 1.0181539058685303, 0.9053018093109131, 0.9053018093109131, 1.0181540250778198, 0.8772333264350891, 0.9053270220756531, 1.0181539058685303, 0.8772593140602112, 0.9053018093109131, 1.0181539058685303, 0.9053018093109131, 0.8772435188293457, 0.8772593140602112, 0.9053270220756531, 0.7010195851325989, 0.5982792377471924, 0.8772193193435669, 1.0181539058685303, 0.87724369764328], \"Term\": [\"ad\", \"advertisement\", \"alpina\", \"audi\", \"auto\", \"automobile\", \"b\", \"beach\", \"becomes\", \"benz\", \"bmw\", \"bmw\", \"bmw\", \"cool\", \"dealer\", \"defect\", \"door\", \"driver\", \"driving\", \"edition\", \"experience\", \"experience\", \"express\", \"f\", \"first\", \"frozen\", \"growth\", \"hospital\", \"jaguar\", \"judge\", \"law\", \"listed\", \"long\", \"look\", \"magazine\", \"mercedes\", \"motorcycle\", \"nyc\", \"offer\", \"overview\", \"part\", \"performance\", \"protonic\", \"prove\", \"prowess\", \"reality\", \"reporter\", \"sale\", \"show\", \"shuts\", \"smash\", \"softclose\", \"spy\", \"star\", \"stourbridge\", \"stress\", \"suit\", \"sustained\", \"suv\", \"take\", \"taken\", \"test\", \"tree\", \"turbo\", \"ultimate\", \"upbeat\", \"video\", \"virtual\", \"war\", \"x\", \"yellow\"]}, \"R\": 30, \"lambda.step\": 0.01, \"plot.opts\": {\"xlab\": \"PC1\", \"ylab\": \"PC2\"}, \"topic.order\": [1, 2, 3]};\n",
       "\n",
       "function LDAvis_load_lib(url, callback){\n",
       "  var s = document.createElement('script');\n",
       "  s.src = url;\n",
       "  s.async = true;\n",
       "  s.onreadystatechange = s.onload = callback;\n",
       "  s.onerror = function(){console.warn(\"failed to load library \" + url);};\n",
       "  document.getElementsByTagName(\"head\")[0].appendChild(s);\n",
       "}\n",
       "\n",
       "if(typeof(LDAvis) !== \"undefined\"){\n",
       "   // already loaded: just create the visualization\n",
       "   !function(LDAvis){\n",
       "       new LDAvis(\"#\" + \"ldavis_el12476904161362102974124\", ldavis_el12476904161362102974124_data);\n",
       "   }(LDAvis);\n",
       "}else if(typeof define === \"function\" && define.amd){\n",
       "   // require.js is available: use it to load d3/LDAvis\n",
       "   require.config({paths: {d3: \"https://cdnjs.cloudflare.com/ajax/libs/d3/3.5.5/d3.min\"}});\n",
       "   require([\"d3\"], function(d3){\n",
       "      window.d3 = d3;\n",
       "      LDAvis_load_lib(\"https://cdn.rawgit.com/bmabey/pyLDAvis/files/ldavis.v1.0.0.js\", function(){\n",
       "        new LDAvis(\"#\" + \"ldavis_el12476904161362102974124\", ldavis_el12476904161362102974124_data);\n",
       "      });\n",
       "    });\n",
       "}else{\n",
       "    // require.js not available: dynamically load d3 & LDAvis\n",
       "    LDAvis_load_lib(\"https://cdnjs.cloudflare.com/ajax/libs/d3/3.5.5/d3.min.js\", function(){\n",
       "         LDAvis_load_lib(\"https://cdn.rawgit.com/bmabey/pyLDAvis/files/ldavis.v1.0.0.js\", function(){\n",
       "                 new LDAvis(\"#\" + \"ldavis_el12476904161362102974124\", ldavis_el12476904161362102974124_data);\n",
       "            })\n",
       "         });\n",
       "}\n",
       "</script>"
      ],
      "text/plain": [
       "<IPython.core.display.HTML object>"
      ]
     },
     "execution_count": 62,
     "metadata": {},
     "output_type": "execute_result"
    }
   ],
   "source": [
    "lda_display = pyLDAvis.gensim.prepare(ldamodel, doc_term_matrix, dictionary, sort_topics=False, mds='mmds')\n",
    "pyLDAvis.display(lda_display)"
   ]
  },
  {
   "cell_type": "markdown",
   "metadata": {},
   "source": [
    "### Five-topic Model"
   ]
  },
  {
   "cell_type": "code",
   "execution_count": 69,
   "metadata": {},
   "outputs": [
    {
     "name": "stdout",
     "output_type": "stream",
     "text": [
      "Wall time: 500 ms\n",
      "(0, '0.077*\"bmw\" + 0.077*\"virtual\" + 0.077*\"reality\" + 0.042*\"experience\" + 0.042*\"becomes\"')\n",
      "(1, '0.058*\"turbo\" + 0.058*\"automobile\" + 0.058*\"b\" + 0.058*\"listed\" + 0.058*\"magazine\"')\n",
      "(2, '0.095*\"bmw\" + 0.022*\"audi\" + 0.022*\"ad\" + 0.022*\"mercedes\" + 0.022*\"jaguar\"')\n",
      "(3, '0.065*\"growth\" + 0.065*\"sale\" + 0.065*\"sustained\" + 0.065*\"upbeat\" + 0.064*\"bmw\"')\n",
      "(4, '0.077*\"bmw\" + 0.042*\"video\" + 0.042*\"show\" + 0.042*\"shuts\" + 0.042*\"softclose\"')\n"
     ]
    }
   ],
   "source": [
    "%time ldamodel = Lda(doc_term_matrix, num_topics=5, id2word = dictionary, passes=50) #5 topics\n",
    "print(*ldamodel.print_topics(num_topics=5, num_words=5), sep='\\n')"
   ]
  },
  {
   "cell_type": "code",
   "execution_count": 64,
   "metadata": {},
   "outputs": [
    {
     "data": {
      "text/html": [
       "\n",
       "<link rel=\"stylesheet\" type=\"text/css\" href=\"https://cdn.rawgit.com/bmabey/pyLDAvis/files/ldavis.v1.0.0.css\">\n",
       "\n",
       "\n",
       "<div id=\"ldavis_el12476904170963815360879\"></div>\n",
       "<script type=\"text/javascript\">\n",
       "\n",
       "var ldavis_el12476904170963815360879_data = {\"mdsDat\": {\"x\": [-0.0623099893982015, 0.1280581741367022, -0.01155143731356769, 0.008670022611220416, -0.06286677003615344], \"y\": [0.09360962676683952, -0.004679706128850431, 0.006895254977208585, 0.0068149588803495835, -0.1026401344955472], \"topics\": [1, 2, 3, 4, 5], \"cluster\": [1, 1, 1, 1, 1], \"Freq\": [20.464622497558594, 32.66535568237305, 11.890361785888672, 15.708549499511719, 19.271106719970703]}, \"tinfo\": {\"Category\": [\"Default\", \"Default\", \"Default\", \"Default\", \"Default\", \"Default\", \"Default\", \"Default\", \"Default\", \"Default\", \"Default\", \"Default\", \"Default\", \"Default\", \"Default\", \"Default\", \"Default\", \"Default\", \"Default\", \"Default\", \"Default\", \"Default\", \"Default\", \"Default\", \"Default\", \"Default\", \"Default\", \"Default\", \"Default\", \"Default\", \"Topic1\", \"Topic1\", \"Topic1\", \"Topic1\", \"Topic1\", \"Topic1\", \"Topic1\", \"Topic1\", \"Topic1\", \"Topic1\", \"Topic1\", \"Topic1\", \"Topic1\", \"Topic1\", \"Topic1\", \"Topic1\", \"Topic1\", \"Topic1\", \"Topic1\", \"Topic1\", \"Topic1\", \"Topic1\", \"Topic1\", \"Topic1\", \"Topic1\", \"Topic1\", \"Topic1\", \"Topic1\", \"Topic1\", \"Topic1\", \"Topic1\", \"Topic1\", \"Topic1\", \"Topic1\", \"Topic1\", \"Topic1\", \"Topic1\", \"Topic1\", \"Topic1\", \"Topic1\", \"Topic1\", \"Topic1\", \"Topic2\", \"Topic2\", \"Topic2\", \"Topic2\", \"Topic2\", \"Topic2\", \"Topic2\", \"Topic2\", \"Topic2\", \"Topic2\", \"Topic2\", \"Topic2\", \"Topic2\", \"Topic2\", \"Topic2\", \"Topic2\", \"Topic2\", \"Topic2\", \"Topic2\", \"Topic2\", \"Topic2\", \"Topic2\", \"Topic2\", \"Topic2\", \"Topic2\", \"Topic2\", \"Topic2\", \"Topic2\", \"Topic2\", \"Topic2\", \"Topic2\", \"Topic2\", \"Topic2\", \"Topic2\", \"Topic2\", \"Topic2\", \"Topic2\", \"Topic3\", \"Topic3\", \"Topic3\", \"Topic3\", \"Topic3\", \"Topic3\", \"Topic3\", \"Topic3\", \"Topic3\", \"Topic3\", \"Topic3\", \"Topic3\", \"Topic3\", \"Topic3\", \"Topic3\", \"Topic3\", \"Topic3\", \"Topic3\", \"Topic3\", \"Topic3\", \"Topic3\", \"Topic3\", \"Topic3\", \"Topic3\", \"Topic3\", \"Topic3\", \"Topic3\", \"Topic3\", \"Topic3\", \"Topic3\", \"Topic3\", \"Topic3\", \"Topic3\", \"Topic3\", \"Topic3\", \"Topic3\", \"Topic3\", \"Topic3\", \"Topic3\", \"Topic3\", \"Topic3\", \"Topic3\", \"Topic3\", \"Topic3\", \"Topic3\", \"Topic3\", \"Topic4\", \"Topic4\", \"Topic4\", \"Topic4\", \"Topic4\", \"Topic4\", \"Topic4\", \"Topic4\", \"Topic4\", \"Topic4\", \"Topic4\", \"Topic4\", \"Topic4\", \"Topic4\", \"Topic4\", \"Topic4\", \"Topic4\", \"Topic4\", \"Topic4\", \"Topic4\", \"Topic4\", \"Topic4\", \"Topic4\", \"Topic4\", \"Topic4\", \"Topic4\", \"Topic4\", \"Topic4\", \"Topic4\", \"Topic4\", \"Topic4\", \"Topic4\", \"Topic4\", \"Topic4\", \"Topic4\", \"Topic4\", \"Topic4\", \"Topic4\", \"Topic4\", \"Topic4\", \"Topic4\", \"Topic4\", \"Topic4\", \"Topic4\", \"Topic4\", \"Topic4\", \"Topic4\", \"Topic5\", \"Topic5\", \"Topic5\", \"Topic5\", \"Topic5\", \"Topic5\", \"Topic5\", \"Topic5\", \"Topic5\", \"Topic5\", \"Topic5\", \"Topic5\", \"Topic5\", \"Topic5\", \"Topic5\", \"Topic5\", \"Topic5\", \"Topic5\", \"Topic5\", \"Topic5\", \"Topic5\", \"Topic5\", \"Topic5\", \"Topic5\", \"Topic5\", \"Topic5\", \"Topic5\", \"Topic5\", \"Topic5\", \"Topic5\", \"Topic5\", \"Topic5\", \"Topic5\", \"Topic5\", \"Topic5\", \"Topic5\", \"Topic5\", \"Topic5\", \"Topic5\", \"Topic5\", \"Topic5\", \"Topic5\", \"Topic5\"], \"Freq\": [1.0, 1.0, 0.0, 0.0, 0.0, 0.0, 0.0, 0.0, 0.0, 0.0, 1.0, 1.0, 1.0, 1.0, 1.0, 1.0, 1.0, 1.0, 1.0, 1.0, 1.0, 1.0, 1.0, 1.0, 1.0, 1.0, 1.0, 1.0, 1.0, 1.0, 0.666103184223175, 0.666103184223175, 0.666103184223175, 0.666103184223175, 0.666103184223175, 0.666103184223175, 0.666103184223175, 0.666103184223175, 0.666103184223175, 0.6660992503166199, 0.6660992503166199, 0.6660992503166199, 0.6660992503166199, 0.6660992503166199, 0.6660992503166199, 1.2210112810134888, 0.11102022975683212, 0.11102022975683212, 0.11102022975683212, 0.11102022975683212, 0.11102022975683212, 0.11102022975683212, 0.11102022975683212, 0.11102022975683212, 0.11102153360843658, 0.11102153360843658, 0.11102153360843658, 0.11102153360843658, 0.11102108657360077, 0.11102108657360077, 0.11102418601512909, 0.11102417856454849, 0.11102417856454849, 0.11102417856454849, 0.11102329939603806, 0.111021988093853, 0.111021988093853, 0.111021988093853, 0.111021988093853, 0.111021988093853, 0.111021988093853, 0.111021988093853, 1.4337486028671265, 1.4337486028671265, 0.7820397019386292, 0.7820397019386292, 0.7820397019386292, 0.7820397019386292, 0.7820397019386292, 0.7820397019386292, 0.7820397019386292, 0.7820397019386292, 0.7820311784744263, 0.7820311784744263, 0.7820311784744263, 0.7820311784744263, 0.7820311784744263, 0.7820311784744263, 0.7820311784744263, 0.7820194363594055, 0.7820194363594055, 0.7820194363594055, 0.7820194363594055, 0.78206467628479, 2.7386181354522705, 0.13034296035766602, 0.13034296035766602, 0.13034296035766602, 0.13034296035766602, 0.13034296035766602, 0.13034296035766602, 0.13034296035766602, 0.13034412264823914, 0.13034412264823914, 0.13034412264823914, 0.13034412264823914, 0.13034404814243317, 0.13034404814243317, 0.13034404814243317, 0.5240412354469299, 0.5240412354469299, 0.5240412354469299, 0.5240412354469299, 0.5240412354469299, 0.5240412354469299, 0.5240412354469299, 0.5240412354469299, 0.08734416961669922, 0.08734416961669922, 0.08734416961669922, 0.08734416961669922, 0.08734370768070221, 0.08734370768070221, 0.08734370768070221, 0.08734370768070221, 0.08734370768070221, 0.08734370768070221, 0.08734400570392609, 0.08734400570392609, 0.08734400570392609, 0.08734400570392609, 0.08734332770109177, 0.08734332770109177, 0.08734332770109177, 0.08734332770109177, 0.08734332770109177, 0.08734332770109177, 0.08734411746263504, 0.08734411746263504, 0.5233782529830933, 0.08734699338674545, 0.08734699338674545, 0.08734699338674545, 0.08734699338674545, 0.08734606951475143, 0.08734467625617981, 0.08734467625617981, 0.08734467625617981, 0.08734467625617981, 0.08734467625617981, 0.08734467625617981, 0.08734467625617981, 0.08734411746263504, 0.08734411746263504, 0.08734411746263504, 0.5881779193878174, 0.5881779193878174, 0.5881779193878174, 0.5881779193878174, 0.5881779193878174, 0.5881779193878174, 0.5881762504577637, 0.5881762504577637, 0.5881762504577637, 0.5881762504577637, 0.5881614089012146, 1.078273892402649, 0.09803283214569092, 0.09803283214569092, 0.09803283214569092, 0.09803283214569092, 0.09803283214569092, 0.09803283214569092, 0.09803283214569092, 0.09803283214569092, 0.09803400933742523, 0.09803400933742523, 0.09803400933742523, 0.09803400933742523, 0.09803333878517151, 0.09803333878517151, 0.09803333878517151, 0.09803333878517151, 0.09803333878517151, 0.09803333878517151, 0.09803687036037445, 0.09803687036037445, 0.09803687036037445, 0.09803687036037445, 0.09803462028503418, 0.09803462028503418, 0.09803462028503418, 0.09803462028503418, 0.09803462028503418, 0.09803462028503418, 0.09803462028503418, 0.09803410619497299, 0.09803410619497299, 0.09803410619497299, 0.09803410619497299, 0.09803410619497299, 0.09803410619497299, 1.1888161897659302, 1.1888161897659302, 0.6484411954879761, 0.6484411954879761, 0.6484411954879761, 0.6484411954879761, 0.6484411954879761, 0.6484411954879761, 0.6484385132789612, 0.6484385132789612, 0.6484385132789612, 0.6484385132789612, 1.188717246055603, 0.10807665437459946, 0.10807665437459946, 0.10807665437459946, 0.10807665437459946, 0.10807665437459946, 0.10807665437459946, 0.10807665437459946, 0.10807665437459946, 0.10807795822620392, 0.10807795822620392, 0.10807795822620392, 0.10807795822620392, 0.1080775111913681, 0.1080775111913681, 0.1080775111913681, 0.1080775111913681, 0.1080775111913681, 0.10808063298463821, 0.10808063298463821, 0.10808063298463821, 0.10808063298463821, 0.10807974636554718, 0.10807842016220093, 0.10807842016220093, 0.10807842016220093, 0.10807842016220093, 0.10807842016220093, 0.10807842016220093, 0.10807842016220093, 0.10807790607213974], \"Term\": [\"show\", \"video\", \"hospital\", \"driver\", \"express\", \"tree\", \"smash\", \"star\", \"stourbridge\", \"taken\", \"alpina\", \"turbo\", \"magazine\", \"listed\", \"b\", \"automobile\", \"ultimate\", \"take\", \"part\", \"driving\", \"experience\", \"x\", \"f\", \"spy\", \"stress\", \"suv\", \"test\", \"auto\", \"nyc\", \"overview\", \"prove\", \"ad\", \"advertisement\", \"audi\", \"benz\", \"jaguar\", \"mercedes\", \"prowess\", \"war\", \"frozen\", \"protonic\", \"look\", \"yellow\", \"edition\", \"cool\", \"bmw\", \"taken\", \"tree\", \"stourbridge\", \"star\", \"smash\", \"hospital\", \"express\", \"driver\", \"driving\", \"ultimate\", \"part\", \"take\", \"listed\", \"b\", \"upbeat\", \"sustained\", \"sale\", \"growth\", \"experience\", \"defect\", \"door\", \"judge\", \"law\", \"shuts\", \"softclose\", \"suit\", \"reality\", \"virtual\", \"offer\", \"reporter\", \"long\", \"first\", \"dealer\", \"becomes\", \"beach\", \"motorcycle\", \"softclose\", \"suit\", \"shuts\", \"law\", \"judge\", \"door\", \"defect\", \"upbeat\", \"sustained\", \"sale\", \"growth\", \"experience\", \"bmw\", \"taken\", \"tree\", \"driver\", \"stourbridge\", \"star\", \"smash\", \"hospital\", \"ultimate\", \"part\", \"take\", \"driving\", \"look\", \"yellow\", \"protonic\", \"tree\", \"stourbridge\", \"star\", \"smash\", \"hospital\", \"express\", \"driver\", \"taken\", \"ultimate\", \"part\", \"take\", \"driving\", \"alpina\", \"automobile\", \"b\", \"listed\", \"magazine\", \"turbo\", \"performance\", \"overview\", \"nyc\", \"auto\", \"stress\", \"f\", \"x\", \"test\", \"suv\", \"spy\", \"yellow\", \"protonic\", \"bmw\", \"growth\", \"sale\", \"sustained\", \"upbeat\", \"experience\", \"defect\", \"suit\", \"softclose\", \"shuts\", \"law\", \"judge\", \"door\", \"look\", \"frozen\", \"edition\", \"alpina\", \"automobile\", \"b\", \"listed\", \"magazine\", \"turbo\", \"driving\", \"ultimate\", \"part\", \"take\", \"experience\", \"bmw\", \"stourbridge\", \"taken\", \"star\", \"smash\", \"hospital\", \"express\", \"driver\", \"tree\", \"auto\", \"performance\", \"overview\", \"nyc\", \"stress\", \"f\", \"x\", \"test\", \"suv\", \"spy\", \"growth\", \"upbeat\", \"sustained\", \"sale\", \"defect\", \"suit\", \"softclose\", \"shuts\", \"law\", \"judge\", \"door\", \"frozen\", \"protonic\", \"cool\", \"look\", \"edition\", \"yellow\", \"video\", \"show\", \"x\", \"test\", \"suv\", \"stress\", \"spy\", \"f\", \"auto\", \"nyc\", \"overview\", \"performance\", \"bmw\", \"taken\", \"tree\", \"driver\", \"hospital\", \"smash\", \"star\", \"express\", \"stourbridge\", \"ultimate\", \"part\", \"take\", \"driving\", \"b\", \"magazine\", \"alpina\", \"automobile\", \"listed\", \"sale\", \"sustained\", \"growth\", \"upbeat\", \"experience\", \"door\", \"defect\", \"judge\", \"law\", \"shuts\", \"softclose\", \"suit\", \"yellow\"], \"Total\": [1.0, 1.0, 0.0, 0.0, 0.0, 0.0, 0.0, 0.0, 0.0, 0.0, 1.0, 1.0, 1.0, 1.0, 1.0, 1.0, 1.0, 1.0, 1.0, 1.0, 1.0, 1.0, 1.0, 1.0, 1.0, 1.0, 1.0, 1.0, 1.0, 1.0, 1.0898997783660889, 1.0898997783660889, 1.0898997783660889, 1.0898997783660889, 1.0898997783660889, 1.0898997783660889, 1.0898997783660889, 1.0898997783660889, 1.0898997783660889, 1.0898994207382202, 1.0898994207382202, 1.0898994207382202, 1.0898994207382202, 1.0898994207382202, 1.0898994207382202, 6.749999046325684, 0.9715139269828796, 0.9715139269828796, 0.9715139269828796, 0.9715139269828796, 0.9715139269828796, 0.9715139269828796, 0.9715139269828796, 0.9715139269828796, 1.0249640941619873, 1.0249640941619873, 1.0249640941619873, 1.0249640941619873, 1.0249639749526978, 1.0249639749526978, 1.186508059501648, 1.186508059501648, 1.186508059501648, 1.186508059501648, 1.6766752004623413, 1.1865108013153076, 1.1865108013153076, 1.1865108013153076, 1.1865108013153076, 1.1865108013153076, 1.1865108013153076, 1.1865108013153076, 1.8382207155227661, 1.8382207155227661, 1.18651282787323, 1.18651282787323, 1.18651282787323, 1.18651282787323, 1.18651282787323, 1.18651282787323, 1.18651282787323, 1.18651282787323, 1.1865108013153076, 1.1865108013153076, 1.1865108013153076, 1.1865108013153076, 1.1865108013153076, 1.1865108013153076, 1.1865108013153076, 1.186508059501648, 1.186508059501648, 1.186508059501648, 1.186508059501648, 1.6766752004623413, 6.749999046325684, 0.9715139269828796, 0.9715139269828796, 0.9715139269828796, 0.9715139269828796, 0.9715139269828796, 0.9715139269828796, 0.9715139269828796, 1.0249640941619873, 1.0249640941619873, 1.0249640941619873, 1.0249640941619873, 1.0898994207382202, 1.0898994207382202, 1.0898994207382202, 0.9715139269828796, 0.9715139269828796, 0.9715139269828796, 0.9715139269828796, 0.9715139269828796, 0.9715139269828796, 0.9715139269828796, 0.9715139269828796, 1.0249640941619873, 1.0249640941619873, 1.0249640941619873, 1.0249640941619873, 1.0249639749526978, 1.0249639749526978, 1.0249639749526978, 1.0249639749526978, 1.0249639749526978, 1.0249639749526978, 1.0751819610595703, 1.0751819610595703, 1.0751819610595703, 1.0751819610595703, 1.0751819610595703, 1.0751819610595703, 1.0751819610595703, 1.0751819610595703, 1.0751819610595703, 1.0751819610595703, 1.0898994207382202, 1.0898994207382202, 6.749999046325684, 1.186508059501648, 1.186508059501648, 1.186508059501648, 1.186508059501648, 1.6766752004623413, 1.1865108013153076, 1.1865108013153076, 1.1865108013153076, 1.1865108013153076, 1.1865108013153076, 1.1865108013153076, 1.1865108013153076, 1.0898994207382202, 1.0898994207382202, 1.0898994207382202, 1.0249639749526978, 1.0249639749526978, 1.0249639749526978, 1.0249639749526978, 1.0249639749526978, 1.0249639749526978, 1.0249640941619873, 1.0249640941619873, 1.0249640941619873, 1.0249640941619873, 1.6766752004623413, 6.749999046325684, 0.9715139269828796, 0.9715139269828796, 0.9715139269828796, 0.9715139269828796, 0.9715139269828796, 0.9715139269828796, 0.9715139269828796, 0.9715139269828796, 1.0751819610595703, 1.0751819610595703, 1.0751819610595703, 1.0751819610595703, 1.0751819610595703, 1.0751819610595703, 1.0751819610595703, 1.0751819610595703, 1.0751819610595703, 1.0751819610595703, 1.186508059501648, 1.186508059501648, 1.186508059501648, 1.186508059501648, 1.1865108013153076, 1.1865108013153076, 1.1865108013153076, 1.1865108013153076, 1.1865108013153076, 1.1865108013153076, 1.1865108013153076, 1.0898994207382202, 1.0898994207382202, 1.0898994207382202, 1.0898994207382202, 1.0898994207382202, 1.0898994207382202, 1.6155569553375244, 1.6155569553375244, 1.0751819610595703, 1.0751819610595703, 1.0751819610595703, 1.0751819610595703, 1.0751819610595703, 1.0751819610595703, 1.0751819610595703, 1.0751819610595703, 1.0751819610595703, 1.0751819610595703, 6.749999046325684, 0.9715139269828796, 0.9715139269828796, 0.9715139269828796, 0.9715139269828796, 0.9715139269828796, 0.9715139269828796, 0.9715139269828796, 0.9715139269828796, 1.0249640941619873, 1.0249640941619873, 1.0249640941619873, 1.0249640941619873, 1.0249639749526978, 1.0249639749526978, 1.0249639749526978, 1.0249639749526978, 1.0249639749526978, 1.186508059501648, 1.186508059501648, 1.186508059501648, 1.186508059501648, 1.6766752004623413, 1.1865108013153076, 1.1865108013153076, 1.1865108013153076, 1.1865108013153076, 1.1865108013153076, 1.1865108013153076, 1.1865108013153076, 1.0898994207382202], \"loglift\": [30.0, 29.0, 28.0, 27.0, 26.0, 25.0, 24.0, 23.0, 22.0, 21.0, 20.0, 19.0, 18.0, 17.0, 16.0, 15.0, 14.0, 13.0, 12.0, 11.0, 10.0, 9.0, 8.0, 7.0, 6.0, 5.0, 4.0, 3.0, 2.0, 1.0, 1.094099998474121, 1.094099998474121, 1.094099998474121, 1.094099998474121, 1.094099998474121, 1.094099998474121, 1.094099998474121, 1.094099998474121, 1.094099998474121, 1.094099998474121, 1.094099998474121, 1.094099998474121, 1.094099998474121, 1.094099998474121, 1.094099998474121, -0.1234000027179718, -0.5827000141143799, -0.5827000141143799, -0.5827000141143799, -0.5827000141143799, -0.5827000141143799, -0.5827000141143799, -0.5827000141143799, -0.5827000141143799, -0.6362000107765198, -0.6362000107765198, -0.6362000107765198, -0.6362000107765198, -0.6362000107765198, -0.6362000107765198, -0.7825000286102295, -0.7825000286102295, -0.7825000286102295, -0.7825000286102295, -1.1283999681472778, -0.7825999855995178, -0.7825999855995178, -0.7825999855995178, -0.7825999855995178, -0.7825999855995178, -0.7825999855995178, -0.7825999855995178, 0.8702999949455261, 0.8702999949455261, 0.7020000219345093, 0.7020000219345093, 0.7020000219345093, 0.7020000219345093, 0.7020000219345093, 0.7020000219345093, 0.7020000219345093, 0.7020000219345093, 0.7020000219345093, 0.7020000219345093, 0.7020000219345093, 0.7020000219345093, 0.7020000219345093, 0.7020000219345093, 0.7020000219345093, 0.7020000219345093, 0.7020000219345093, 0.7020000219345093, 0.7020000219345093, 0.3562000095844269, 0.2168000042438507, -0.8898000121116638, -0.8898000121116638, -0.8898000121116638, -0.8898000121116638, -0.8898000121116638, -0.8898000121116638, -0.8898000121116638, -0.9434000253677368, -0.9434000253677368, -0.9434000253677368, -0.9434000253677368, -1.0047999620437622, -1.0047999620437622, -1.0047999620437622, 1.5121999979019165, 1.5121999979019165, 1.5121999979019165, 1.5121999979019165, 1.5121999979019165, 1.5121999979019165, 1.5121999979019165, 1.5121999979019165, -0.33309999108314514, -0.33309999108314514, -0.33309999108314514, -0.33309999108314514, -0.33309999108314514, -0.33309999108314514, -0.33309999108314514, -0.33309999108314514, -0.33309999108314514, -0.33309999108314514, -0.38089999556541443, -0.38089999556541443, -0.38089999556541443, -0.38089999556541443, -0.38100001215934753, -0.38100001215934753, -0.38100001215934753, -0.38100001215934753, -0.38100001215934753, -0.38100001215934753, -0.3944999873638153, -0.3944999873638153, -0.4275999963283539, -0.47940000891685486, -0.47940000891685486, -0.47940000891685486, -0.47940000891685486, -0.8252000212669373, -0.4794999957084656, -0.4794999957084656, -0.4794999957084656, -0.4794999957084656, -0.4794999957084656, -0.4794999957084656, -0.4794999957084656, -0.3944999873638153, -0.3944999873638153, -0.3944999873638153, 1.2956000566482544, 1.2956000566482544, 1.2956000566482544, 1.2956000566482544, 1.2956000566482544, 1.2956000566482544, 1.2956000566482544, 1.2956000566482544, 1.2956000566482544, 1.2956000566482544, 0.8033999800682068, 0.01679999940097332, -0.4426000118255615, -0.4426000118255615, -0.4426000118255615, -0.4426000118255615, -0.4426000118255615, -0.4426000118255615, -0.4426000118255615, -0.4426000118255615, -0.5440000295639038, -0.5440000295639038, -0.5440000295639038, -0.5440000295639038, -0.5440000295639038, -0.5440000295639038, -0.5440000295639038, -0.5440000295639038, -0.5440000295639038, -0.5440000295639038, -0.6424999833106995, -0.6424999833106995, -0.6424999833106995, -0.6424999833106995, -0.6424999833106995, -0.6424999833106995, -0.6424999833106995, -0.6424999833106995, -0.6424999833106995, -0.6424999833106995, -0.6424999833106995, -0.5576000213623047, -0.5576000213623047, -0.5576000213623047, -0.5576000213623047, -0.5576000213623047, -0.5576000213623047, 1.3398000001907349, 1.3398000001907349, 1.1409000158309937, 1.1409000158309937, 1.1409000158309937, 1.1409000158309937, 1.1409000158309937, 1.1409000158309937, 1.1409000158309937, 1.1409000158309937, 1.1409000158309937, 1.1409000158309937, -0.09009999781847, -0.5494999885559082, -0.5494999885559082, -0.5494999885559082, -0.5494999885559082, -0.5494999885559082, -0.5494999885559082, -0.5494999885559082, -0.5494999885559082, -0.6029999852180481, -0.6029999852180481, -0.6029999852180481, -0.6029999852180481, -0.6029999852180481, -0.6029999852180481, -0.6029999852180481, -0.6029999852180481, -0.6029999852180481, -0.7493000030517578, -0.7493000030517578, -0.7493000030517578, -0.7493000030517578, -1.0951000452041626, -0.7494000196456909, -0.7494000196456909, -0.7494000196456909, -0.7494000196456909, -0.7494000196456909, -0.7494000196456909, -0.7494000196456909, -0.6643999814987183], \"logprob\": [30.0, 29.0, 28.0, 27.0, 26.0, 25.0, 24.0, 23.0, 22.0, 21.0, 20.0, 19.0, 18.0, 17.0, 16.0, 15.0, 14.0, 13.0, 12.0, 11.0, 10.0, 9.0, 8.0, 7.0, 6.0, 5.0, 4.0, 3.0, 2.0, 1.0, -3.2386999130249023, -3.2386999130249023, -3.2386999130249023, -3.2386999130249023, -3.2386999130249023, -3.2386999130249023, -3.2386999130249023, -3.2386999130249023, -3.2386999130249023, -3.2386999130249023, -3.2386999130249023, -3.2386999130249023, -3.2386999130249023, -3.2386999130249023, -3.2386999130249023, -2.632699966430664, -5.030399799346924, -5.030399799346924, -5.030399799346924, -5.030399799346924, -5.030399799346924, -5.030399799346924, -5.030399799346924, -5.030399799346924, -5.030399799346924, -5.030399799346924, -5.030399799346924, -5.030399799346924, -5.030399799346924, -5.030399799346924, -5.030399799346924, -5.030399799346924, -5.030399799346924, -5.030399799346924, -5.030399799346924, -5.030399799346924, -5.030399799346924, -5.030399799346924, -5.030399799346924, -5.030399799346924, -5.030399799346924, -5.030399799346924, -2.93969988822937, -2.93969988822937, -3.545799970626831, -3.545799970626831, -3.545799970626831, -3.545799970626831, -3.545799970626831, -3.545799970626831, -3.545799970626831, -3.545799970626831, -3.545799970626831, -3.545799970626831, -3.545799970626831, -3.545799970626831, -3.545799970626831, -3.545799970626831, -3.545799970626831, -3.5459001064300537, -3.5459001064300537, -3.5459001064300537, -3.5459001064300537, -3.545799970626831, -2.2925000190734863, -5.337600231170654, -5.337600231170654, -5.337600231170654, -5.337600231170654, -5.337600231170654, -5.337600231170654, -5.337600231170654, -5.337600231170654, -5.337600231170654, -5.337600231170654, -5.337600231170654, -5.337600231170654, -5.337600231170654, -5.337600231170654, -2.9356000423431396, -2.9356000423431396, -2.9356000423431396, -2.9356000423431396, -2.9356000423431396, -2.9356000423431396, -2.9356000423431396, -2.9356000423431396, -4.72730016708374, -4.72730016708374, -4.72730016708374, -4.72730016708374, -4.72730016708374, -4.72730016708374, -4.72730016708374, -4.72730016708374, -4.72730016708374, -4.72730016708374, -4.72730016708374, -4.72730016708374, -4.72730016708374, -4.72730016708374, -4.72730016708374, -4.72730016708374, -4.72730016708374, -4.72730016708374, -4.72730016708374, -4.72730016708374, -4.72730016708374, -4.72730016708374, -2.936800003051758, -4.72730016708374, -4.72730016708374, -4.72730016708374, -4.72730016708374, -4.72730016708374, -4.72730016708374, -4.72730016708374, -4.72730016708374, -4.72730016708374, -4.72730016708374, -4.72730016708374, -4.72730016708374, -4.72730016708374, -4.72730016708374, -4.72730016708374, -3.098599910736084, -3.098599910736084, -3.098599910736084, -3.098599910736084, -3.098599910736084, -3.098599910736084, -3.098599910736084, -3.098599910736084, -3.098599910736084, -3.098599910736084, -3.098599910736084, -2.492500066757202, -4.8902997970581055, -4.8902997970581055, -4.8902997970581055, -4.8902997970581055, -4.8902997970581055, -4.8902997970581055, -4.8902997970581055, -4.8902997970581055, -4.8902997970581055, -4.8902997970581055, -4.8902997970581055, -4.8902997970581055, -4.8902997970581055, -4.8902997970581055, -4.8902997970581055, -4.8902997970581055, -4.8902997970581055, -4.8902997970581055, -4.8902997970581055, -4.8902997970581055, -4.8902997970581055, -4.8902997970581055, -4.8902997970581055, -4.8902997970581055, -4.8902997970581055, -4.8902997970581055, -4.8902997970581055, -4.8902997970581055, -4.8902997970581055, -4.8902997970581055, -4.8902997970581055, -4.8902997970581055, -4.8902997970581055, -4.8902997970581055, -4.8902997970581055, -2.599299907684326, -2.599299907684326, -3.2054998874664307, -3.2054998874664307, -3.2054998874664307, -3.2054998874664307, -3.2054998874664307, -3.2054998874664307, -3.2054998874664307, -3.2054998874664307, -3.2054998874664307, -3.2054998874664307, -2.599400043487549, -4.997200012207031, -4.997200012207031, -4.997200012207031, -4.997200012207031, -4.997200012207031, -4.997200012207031, -4.997200012207031, -4.997200012207031, -4.997200012207031, -4.997200012207031, -4.997200012207031, -4.997200012207031, -4.997200012207031, -4.997200012207031, -4.997200012207031, -4.997200012207031, -4.997200012207031, -4.997200012207031, -4.997200012207031, -4.997200012207031, -4.997200012207031, -4.997200012207031, -4.997200012207031, -4.997200012207031, -4.997200012207031, -4.997200012207031, -4.997200012207031, -4.997200012207031, -4.997200012207031, -4.997200012207031]}, \"token.table\": {\"Topic\": [1, 1, 4, 1, 5, 4, 4, 2, 2, 1, 1, 2, 3, 4, 5, 1, 2, 2, 2, 3, 4, 1, 2, 4, 3, 5, 2, 1, 2, 3, 1, 2, 2, 4, 2, 1, 4, 1, 2, 5, 2, 5, 4, 5, 1, 1, 1, 2, 2, 2, 5, 2, 3, 2, 5, 3, 3, 5, 2, 2, 5, 4, 3, 5, 3, 4, 4, 2, 5, 2, 1, 5, 1], \"Freq\": [0.9175155758857727, 0.9175155758857727, 0.975644052028656, 0.9175155758857727, 0.9300751090049744, 0.975644052028656, 0.975644052028656, 0.8428058624267578, 0.8428058624267578, 0.9175155758857727, 0.14814816415309906, 0.4444445073604584, 0.14814816415309906, 0.14814816415309906, 0.14814816415309906, 0.9175158739089966, 0.8428058624267578, 0.8428073525428772, 0.8428073525428772, 1.029321312904358, 0.9756439328193665, 0.9175158739089966, 0.5964184403419495, 0.5964184403419495, 1.029321312904358, 0.9300751090049744, 0.8428058624267578, 0.9175158739089966, 0.84280925989151, 1.029321312904358, 0.9175155758857727, 0.8428073525428772, 0.8428073525428772, 0.975644052028656, 0.8428058624267578, 0.9175158739089966, 0.975644052028656, 0.9175155758857727, 0.8428058624267578, 0.9300751090049744, 0.8428058624267578, 0.9300751090049744, 0.9756439328193665, 0.9300751090049744, 0.9175158739089966, 0.9175155758857727, 0.9175155758857727, 0.5440043210983276, 0.8428058624267578, 0.84280925989151, 0.6189815998077393, 0.8428073525428772, 1.029321312904358, 0.8428073525428772, 0.9300751090049744, 1.029321312904358, 1.029321312904358, 0.9300751090049744, 0.8428073525428772, 0.84280925989151, 0.9300751090049744, 0.9756439328193665, 1.029321312904358, 0.9300751090049744, 1.029321312904358, 0.975644052028656, 0.9756439328193665, 0.84280925989151, 0.6189815998077393, 0.5440043210983276, 0.9175155758857727, 0.9300751090049744, 0.9175158739089966], \"Term\": [\"ad\", \"advertisement\", \"alpina\", \"audi\", \"auto\", \"automobile\", \"b\", \"beach\", \"becomes\", \"benz\", \"bmw\", \"bmw\", \"bmw\", \"bmw\", \"bmw\", \"cool\", \"dealer\", \"defect\", \"door\", \"driver\", \"driving\", \"edition\", \"experience\", \"experience\", \"express\", \"f\", \"first\", \"frozen\", \"growth\", \"hospital\", \"jaguar\", \"judge\", \"law\", \"listed\", \"long\", \"look\", \"magazine\", \"mercedes\", \"motorcycle\", \"nyc\", \"offer\", \"overview\", \"part\", \"performance\", \"protonic\", \"prove\", \"prowess\", \"reality\", \"reporter\", \"sale\", \"show\", \"shuts\", \"smash\", \"softclose\", \"spy\", \"star\", \"stourbridge\", \"stress\", \"suit\", \"sustained\", \"suv\", \"take\", \"taken\", \"test\", \"tree\", \"turbo\", \"ultimate\", \"upbeat\", \"video\", \"virtual\", \"war\", \"x\", \"yellow\"]}, \"R\": 30, \"lambda.step\": 0.01, \"plot.opts\": {\"xlab\": \"PC1\", \"ylab\": \"PC2\"}, \"topic.order\": [1, 2, 3, 4, 5]};\n",
       "\n",
       "function LDAvis_load_lib(url, callback){\n",
       "  var s = document.createElement('script');\n",
       "  s.src = url;\n",
       "  s.async = true;\n",
       "  s.onreadystatechange = s.onload = callback;\n",
       "  s.onerror = function(){console.warn(\"failed to load library \" + url);};\n",
       "  document.getElementsByTagName(\"head\")[0].appendChild(s);\n",
       "}\n",
       "\n",
       "if(typeof(LDAvis) !== \"undefined\"){\n",
       "   // already loaded: just create the visualization\n",
       "   !function(LDAvis){\n",
       "       new LDAvis(\"#\" + \"ldavis_el12476904170963815360879\", ldavis_el12476904170963815360879_data);\n",
       "   }(LDAvis);\n",
       "}else if(typeof define === \"function\" && define.amd){\n",
       "   // require.js is available: use it to load d3/LDAvis\n",
       "   require.config({paths: {d3: \"https://cdnjs.cloudflare.com/ajax/libs/d3/3.5.5/d3.min\"}});\n",
       "   require([\"d3\"], function(d3){\n",
       "      window.d3 = d3;\n",
       "      LDAvis_load_lib(\"https://cdn.rawgit.com/bmabey/pyLDAvis/files/ldavis.v1.0.0.js\", function(){\n",
       "        new LDAvis(\"#\" + \"ldavis_el12476904170963815360879\", ldavis_el12476904170963815360879_data);\n",
       "      });\n",
       "    });\n",
       "}else{\n",
       "    // require.js not available: dynamically load d3 & LDAvis\n",
       "    LDAvis_load_lib(\"https://cdnjs.cloudflare.com/ajax/libs/d3/3.5.5/d3.min.js\", function(){\n",
       "         LDAvis_load_lib(\"https://cdn.rawgit.com/bmabey/pyLDAvis/files/ldavis.v1.0.0.js\", function(){\n",
       "                 new LDAvis(\"#\" + \"ldavis_el12476904170963815360879\", ldavis_el12476904170963815360879_data);\n",
       "            })\n",
       "         });\n",
       "}\n",
       "</script>"
      ],
      "text/plain": [
       "<IPython.core.display.HTML object>"
      ]
     },
     "execution_count": 64,
     "metadata": {},
     "output_type": "execute_result"
    }
   ],
   "source": [
    "lda_display = pyLDAvis.gensim.prepare(ldamodel, doc_term_matrix, dictionary, sort_topics=False, mds='mmds')\n",
    "pyLDAvis.display(lda_display)"
   ]
  },
  {
   "cell_type": "markdown",
   "metadata": {},
   "source": [
    "### Ten-topic Model"
   ]
  },
  {
   "cell_type": "code",
   "execution_count": 71,
   "metadata": {},
   "outputs": [
    {
     "name": "stdout",
     "output_type": "stream",
     "text": [
      "Wall time: 484 ms\n",
      "(0, '0.015*\"virtual\" + 0.015*\"auto\" + 0.015*\"reporter\" + 0.015*\"offer\" + 0.015*\"nyc\"')\n",
      "(1, '0.015*\"virtual\" + 0.015*\"auto\" + 0.015*\"reporter\" + 0.015*\"offer\" + 0.015*\"nyc\"')\n",
      "(2, '0.096*\"bmw\" + 0.096*\"reality\" + 0.096*\"virtual\" + 0.050*\"experience\" + 0.050*\"reporter\"')\n",
      "(3, '0.015*\"virtual\" + 0.015*\"auto\" + 0.015*\"reporter\" + 0.015*\"offer\" + 0.015*\"nyc\"')\n",
      "(4, '0.070*\"video\" + 0.070*\"show\" + 0.070*\"f\" + 0.070*\"stress\" + 0.070*\"spy\"')\n",
      "(5, '0.093*\"upbeat\" + 0.093*\"sustained\" + 0.093*\"sale\" + 0.093*\"growth\" + 0.093*\"bmw\"')\n",
      "(6, '0.080*\"edition\" + 0.080*\"frozen\" + 0.080*\"cool\" + 0.080*\"look\" + 0.080*\"yellow\"')\n",
      "(7, '0.070*\"smash\" + 0.070*\"stourbridge\" + 0.070*\"hospital\" + 0.070*\"driver\" + 0.070*\"star\"')\n",
      "(8, '0.114*\"bmw\" + 0.025*\"door\" + 0.025*\"magazine\" + 0.025*\"law\" + 0.025*\"defect\"')\n",
      "(9, '0.015*\"virtual\" + 0.015*\"auto\" + 0.015*\"reporter\" + 0.015*\"offer\" + 0.015*\"nyc\"')\n"
     ]
    }
   ],
   "source": [
    "%time ldamodel = Lda(doc_term_matrix, num_topics=10, id2word = dictionary, passes=50)\n",
    "print(*ldamodel.print_topics(num_topics=10, num_words=5), sep='\\n')"
   ]
  },
  {
   "cell_type": "code",
   "execution_count": 72,
   "metadata": {},
   "outputs": [
    {
     "data": {
      "text/html": [
       "\n",
       "<link rel=\"stylesheet\" type=\"text/css\" href=\"https://cdn.rawgit.com/bmabey/pyLDAvis/files/ldavis.v1.0.0.css\">\n",
       "\n",
       "\n",
       "<div id=\"ldavis_el12476904185366583294620\"></div>\n",
       "<script type=\"text/javascript\">\n",
       "\n",
       "var ldavis_el12476904185366583294620_data = {\"mdsDat\": {\"x\": [0.0036954926372763054, 0.0036954926372762716, -0.17565428164817104, 0.0036954926372762186, 0.05478692910195935, 0.0021852357971741893, 0.0006511633640808117, -0.0053444909492849635, 0.10859347378513674, 0.003695492637276227], \"y\": [0.0020998487475670075, 0.0020998487475669945, 0.06675728653327859, 0.002099848747567029, 0.010973390851064262, -0.0048307320605215035, -0.03198667929055094, -0.1446434730051719, 0.09533081198163311, 0.0020998487475670344], \"topics\": [1, 2, 3, 4, 5, 6, 7, 8, 9, 10], \"cluster\": [1, 1, 1, 1, 1, 1, 1, 1, 1, 1], \"Freq\": [1.066380262374878, 1.066380262374878, 18.00918960571289, 1.066380262374878, 10.825430870056152, 6.086456298828125, 8.445894241333008, 10.825411796569824, 41.54209899902344, 1.066380262374878]}, \"tinfo\": {\"Category\": [\"Default\", \"Default\", \"Default\", \"Default\", \"Default\", \"Default\", \"Default\", \"Default\", \"Default\", \"Default\", \"Default\", \"Default\", \"Default\", \"Default\", \"Default\", \"Default\", \"Default\", \"Default\", \"Default\", \"Default\", \"Default\", \"Default\", \"Default\", \"Default\", \"Default\", \"Default\", \"Default\", \"Default\", \"Default\", \"Default\", \"Topic1\", \"Topic1\", \"Topic1\", \"Topic1\", \"Topic1\", \"Topic1\", \"Topic1\", \"Topic1\", \"Topic1\", \"Topic1\", \"Topic1\", \"Topic1\", \"Topic1\", \"Topic1\", \"Topic1\", \"Topic1\", \"Topic1\", \"Topic1\", \"Topic1\", \"Topic1\", \"Topic1\", \"Topic1\", \"Topic1\", \"Topic1\", \"Topic1\", \"Topic1\", \"Topic1\", \"Topic1\", \"Topic1\", \"Topic1\", \"Topic1\", \"Topic1\", \"Topic1\", \"Topic1\", \"Topic1\", \"Topic1\", \"Topic1\", \"Topic1\", \"Topic1\", \"Topic1\", \"Topic1\", \"Topic1\", \"Topic1\", \"Topic1\", \"Topic1\", \"Topic1\", \"Topic1\", \"Topic1\", \"Topic1\", \"Topic1\", \"Topic1\", \"Topic1\", \"Topic2\", \"Topic2\", \"Topic2\", \"Topic2\", \"Topic2\", \"Topic2\", \"Topic2\", \"Topic2\", \"Topic2\", \"Topic2\", \"Topic2\", \"Topic2\", \"Topic2\", \"Topic2\", \"Topic2\", \"Topic2\", \"Topic2\", \"Topic2\", \"Topic2\", \"Topic2\", \"Topic2\", \"Topic2\", \"Topic2\", \"Topic2\", \"Topic2\", \"Topic2\", \"Topic2\", \"Topic2\", \"Topic2\", \"Topic2\", \"Topic2\", \"Topic2\", \"Topic2\", \"Topic2\", \"Topic2\", \"Topic2\", \"Topic2\", \"Topic2\", \"Topic2\", \"Topic2\", \"Topic2\", \"Topic2\", \"Topic2\", \"Topic2\", \"Topic2\", \"Topic2\", \"Topic2\", \"Topic2\", \"Topic2\", \"Topic2\", \"Topic2\", \"Topic2\", \"Topic3\", \"Topic3\", \"Topic3\", \"Topic3\", \"Topic3\", \"Topic3\", \"Topic3\", \"Topic3\", \"Topic3\", \"Topic3\", \"Topic3\", \"Topic3\", \"Topic3\", \"Topic3\", \"Topic3\", \"Topic3\", \"Topic3\", \"Topic3\", \"Topic3\", \"Topic3\", \"Topic3\", \"Topic3\", \"Topic3\", \"Topic3\", \"Topic3\", \"Topic3\", \"Topic3\", \"Topic3\", \"Topic3\", \"Topic3\", \"Topic3\", \"Topic3\", \"Topic3\", \"Topic3\", \"Topic3\", \"Topic3\", \"Topic3\", \"Topic3\", \"Topic3\", \"Topic3\", \"Topic3\", \"Topic3\", \"Topic4\", \"Topic4\", \"Topic4\", \"Topic4\", \"Topic4\", \"Topic4\", \"Topic4\", \"Topic4\", \"Topic4\", \"Topic4\", \"Topic4\", \"Topic4\", \"Topic4\", \"Topic4\", \"Topic4\", \"Topic4\", \"Topic4\", \"Topic4\", \"Topic4\", \"Topic4\", \"Topic4\", \"Topic4\", \"Topic4\", \"Topic4\", \"Topic4\", \"Topic4\", \"Topic4\", \"Topic4\", \"Topic4\", \"Topic4\", \"Topic4\", \"Topic4\", \"Topic4\", \"Topic4\", \"Topic4\", \"Topic4\", \"Topic4\", \"Topic4\", \"Topic4\", \"Topic4\", \"Topic4\", \"Topic4\", \"Topic4\", \"Topic4\", \"Topic4\", \"Topic4\", \"Topic4\", \"Topic4\", \"Topic4\", \"Topic4\", \"Topic4\", \"Topic4\", \"Topic5\", \"Topic5\", \"Topic5\", \"Topic5\", \"Topic5\", \"Topic5\", \"Topic5\", \"Topic5\", \"Topic5\", \"Topic5\", \"Topic5\", \"Topic5\", \"Topic5\", \"Topic5\", \"Topic5\", \"Topic5\", \"Topic5\", \"Topic5\", \"Topic5\", \"Topic5\", \"Topic5\", \"Topic5\", \"Topic5\", \"Topic5\", \"Topic5\", \"Topic5\", \"Topic5\", \"Topic5\", \"Topic5\", \"Topic5\", \"Topic5\", \"Topic5\", \"Topic5\", \"Topic5\", \"Topic5\", \"Topic5\", \"Topic5\", \"Topic5\", \"Topic5\", \"Topic5\", \"Topic5\", \"Topic5\", \"Topic5\", \"Topic5\", \"Topic5\", \"Topic5\", \"Topic5\", \"Topic6\", \"Topic6\", \"Topic6\", \"Topic6\", \"Topic6\", \"Topic6\", \"Topic6\", \"Topic6\", \"Topic6\", \"Topic6\", \"Topic6\", \"Topic6\", \"Topic6\", \"Topic6\", \"Topic6\", \"Topic6\", \"Topic6\", \"Topic6\", \"Topic6\", \"Topic6\", \"Topic6\", \"Topic6\", \"Topic6\", \"Topic6\", \"Topic6\", \"Topic6\", \"Topic6\", \"Topic6\", \"Topic6\", \"Topic6\", \"Topic6\", \"Topic6\", \"Topic6\", \"Topic6\", \"Topic6\", \"Topic6\", \"Topic6\", \"Topic6\", \"Topic6\", \"Topic6\", \"Topic6\", \"Topic6\", \"Topic6\", \"Topic6\", \"Topic6\", \"Topic6\", \"Topic6\", \"Topic6\", \"Topic6\", \"Topic6\", \"Topic7\", \"Topic7\", \"Topic7\", \"Topic7\", \"Topic7\", \"Topic7\", \"Topic7\", \"Topic7\", \"Topic7\", \"Topic7\", \"Topic7\", \"Topic7\", \"Topic7\", \"Topic7\", \"Topic7\", \"Topic7\", \"Topic7\", \"Topic7\", \"Topic7\", \"Topic7\", \"Topic7\", \"Topic7\", \"Topic7\", \"Topic7\", \"Topic7\", \"Topic7\", \"Topic7\", \"Topic7\", \"Topic7\", \"Topic7\", \"Topic7\", \"Topic7\", \"Topic7\", \"Topic7\", \"Topic7\", \"Topic7\", \"Topic7\", \"Topic7\", \"Topic7\", \"Topic7\", \"Topic7\", \"Topic7\", \"Topic7\", \"Topic7\", \"Topic7\", \"Topic7\", \"Topic7\", \"Topic7\", \"Topic7\", \"Topic7\", \"Topic8\", \"Topic8\", \"Topic8\", \"Topic8\", \"Topic8\", \"Topic8\", \"Topic8\", \"Topic8\", \"Topic8\", \"Topic8\", \"Topic8\", \"Topic8\", \"Topic8\", \"Topic8\", \"Topic8\", \"Topic8\", \"Topic8\", \"Topic8\", \"Topic8\", \"Topic8\", \"Topic8\", \"Topic8\", \"Topic8\", \"Topic8\", \"Topic8\", \"Topic8\", \"Topic8\", \"Topic8\", \"Topic8\", \"Topic8\", \"Topic8\", \"Topic8\", \"Topic8\", \"Topic8\", \"Topic8\", \"Topic8\", \"Topic8\", \"Topic8\", \"Topic8\", \"Topic8\", \"Topic8\", \"Topic8\", \"Topic8\", \"Topic8\", \"Topic8\", \"Topic8\", \"Topic9\", \"Topic9\", \"Topic9\", \"Topic9\", \"Topic9\", \"Topic9\", \"Topic9\", \"Topic9\", \"Topic9\", \"Topic9\", \"Topic9\", \"Topic9\", \"Topic9\", \"Topic9\", \"Topic9\", \"Topic9\", \"Topic9\", \"Topic9\", \"Topic9\", \"Topic9\", \"Topic9\", \"Topic9\", \"Topic9\", \"Topic9\", \"Topic9\", \"Topic9\", \"Topic9\", \"Topic9\", \"Topic9\", \"Topic9\", \"Topic9\", \"Topic10\", \"Topic10\", \"Topic10\", \"Topic10\", \"Topic10\", \"Topic10\", \"Topic10\", \"Topic10\", \"Topic10\", \"Topic10\", \"Topic10\", \"Topic10\", \"Topic10\", \"Topic10\", \"Topic10\", \"Topic10\", \"Topic10\", \"Topic10\", \"Topic10\", \"Topic10\", \"Topic10\", \"Topic10\", \"Topic10\", \"Topic10\", \"Topic10\", \"Topic10\", \"Topic10\", \"Topic10\", \"Topic10\", \"Topic10\", \"Topic10\", \"Topic10\", \"Topic10\", \"Topic10\", \"Topic10\", \"Topic10\", \"Topic10\", \"Topic10\", \"Topic10\", \"Topic10\", \"Topic10\", \"Topic10\", \"Topic10\", \"Topic10\", \"Topic10\", \"Topic10\", \"Topic10\", \"Topic10\", \"Topic10\", \"Topic10\", \"Topic10\", \"Topic10\"], \"Freq\": [1.0, 1.0, 1.0, 1.0, 7.0, 0.0, 0.0, 0.0, 0.0, 0.0, 0.0, 0.0, 0.0, 0.0, 0.0, 1.0, 0.0, 0.0, 0.0, 0.0, 0.0, 0.0, 0.0, 0.0, 0.0, 0.0, 0.0, 0.0, 0.0, 0.0, 0.01301611214876175, 0.01301611214876175, 0.01301611214876175, 0.01301611214876175, 0.01301611214876175, 0.01301611214876175, 0.01301611214876175, 0.01301611214876175, 0.01301611214876175, 0.01301611214876175, 0.01301611214876175, 0.01301611214876175, 0.01301611214876175, 0.01301611214876175, 0.01301611214876175, 0.01301611214876175, 0.01301611214876175, 0.01301611214876175, 0.01301611214876175, 0.01301611214876175, 0.01301611214876175, 0.01301611214876175, 0.01301611214876175, 0.01301611214876175, 0.01301611214876175, 0.01301611214876175, 0.01301611214876175, 0.01301611214876175, 0.01301611214876175, 0.01301611214876175, 0.01301611214876175, 0.01301611214876175, 0.01301611214876175, 0.01301611214876175, 0.01301611214876175, 0.01301611214876175, 0.01301611214876175, 0.01301611214876175, 0.01301611214876175, 0.01301611214876175, 0.01301611214876175, 0.01301611214876175, 0.01301611214876175, 0.01301611214876175, 0.01301611214876175, 0.01301611214876175, 0.01301611214876175, 0.01301611214876175, 0.01301611214876175, 0.01301611214876175, 0.01301611214876175, 0.01301611214876175, 0.01301611214876175, 0.01301611214876175, 0.01301611214876175, 0.01301611214876175, 0.01301611214876175, 0.01301611214876175, 0.01301611214876175, 0.01301611214876175, 0.01301611214876175, 0.01301611214876175, 0.01301611214876175, 0.01301611214876175, 0.01301611214876175, 0.01301611214876175, 0.01301611214876175, 0.01301611214876175, 0.01301611214876175, 0.01301611214876175, 0.01301611214876175, 0.01301611214876175, 0.01301611214876175, 0.01301611214876175, 0.01301611214876175, 0.01301611214876175, 0.01301611214876175, 0.01301611214876175, 0.01301611214876175, 0.01301611214876175, 0.01301611214876175, 0.01301611214876175, 0.01301611214876175, 0.01301611214876175, 0.01301611214876175, 0.01301611214876175, 0.01301611214876175, 0.01301611214876175, 0.01301611214876175, 0.01301611214876175, 0.01301611214876175, 0.01301611214876175, 0.01301611214876175, 0.01301611214876175, 0.01301611214876175, 0.01301611214876175, 0.01301611214876175, 0.01301611214876175, 0.01301611214876175, 0.01301611214876175, 0.01301611214876175, 0.01301611214876175, 0.01301611214876175, 0.01301611214876175, 1.4399064779281616, 1.4399064779281616, 0.7542366981506348, 0.7542366981506348, 0.7542366981506348, 0.7542366981506348, 0.7542366981506348, 0.7542366981506348, 0.7542366981506348, 0.7542366981506348, 0.7542437314987183, 1.4399253129959106, 0.06856698542833328, 0.06856698542833328, 0.06856698542833328, 0.06856698542833328, 0.06856698542833328, 0.06856698542833328, 0.06856698542833328, 0.06856698542833328, 0.06856698542833328, 0.06856698542833328, 0.06856698542833328, 0.06856698542833328, 0.06856698542833328, 0.06856698542833328, 0.06856698542833328, 0.06856698542833328, 0.06856698542833328, 0.06856698542833328, 0.06856698542833328, 0.06856698542833328, 0.06856698542833328, 0.06856698542833328, 0.06856698542833328, 0.06856698542833328, 0.06856698542833328, 0.06856698542833328, 0.06856698542833328, 0.06856698542833328, 0.06856698542833328, 0.06856698542833328, 0.01301611214876175, 0.01301611214876175, 0.01301611214876175, 0.01301611214876175, 0.01301611214876175, 0.01301611214876175, 0.01301611214876175, 0.01301611214876175, 0.01301611214876175, 0.01301611214876175, 0.01301611214876175, 0.01301611214876175, 0.01301611214876175, 0.01301611214876175, 0.01301611214876175, 0.01301611214876175, 0.01301611214876175, 0.01301611214876175, 0.01301611214876175, 0.01301611214876175, 0.01301611214876175, 0.01301611214876175, 0.01301611214876175, 0.01301611214876175, 0.01301611214876175, 0.01301611214876175, 0.01301611214876175, 0.01301611214876175, 0.01301611214876175, 0.01301611214876175, 0.01301611214876175, 0.01301611214876175, 0.01301611214876175, 0.01301611214876175, 0.01301611214876175, 0.01301611214876175, 0.01301611214876175, 0.01301611214876175, 0.01301611214876175, 0.01301611214876175, 0.01301611214876175, 0.01301611214876175, 0.01301611214876175, 0.01301611214876175, 0.01301611214876175, 0.01301611214876175, 0.01301611214876175, 0.01301611214876175, 0.01301611214876175, 0.01301611214876175, 0.01301611214876175, 0.01301611214876175, 0.6255444884300232, 0.6255444884300232, 0.6255444884300232, 0.6255444884300232, 0.6255444884300232, 0.6255444884300232, 0.6255514025688171, 0.6255514025688171, 0.6255425810813904, 0.05686768889427185, 0.05686768889427185, 0.05686768889427185, 0.05686768889427185, 0.05686768889427185, 0.05686768889427185, 0.05686768889427185, 0.05686768889427185, 0.05686768889427185, 0.05686768889427185, 0.05686768889427185, 0.05686768889427185, 0.05686768889427185, 0.05686768889427185, 0.05686768889427185, 0.05686768889427185, 0.05686768889427185, 0.05686768889427185, 0.05686768889427185, 0.05686768889427185, 0.05686768889427185, 0.05686768889427185, 0.05686768889427185, 0.05686768889427185, 0.05686768889427185, 0.05686768889427185, 0.05686768889427185, 0.05686768889427185, 0.05686768889427185, 0.05686768889427185, 0.05686768889427185, 0.05686768889427185, 0.05686768889427185, 0.05686768889427185, 0.05686768889427185, 0.05686768889427185, 0.05686768889427185, 0.05686768889427185, 0.4709267318248749, 0.4709267318248749, 0.4709267318248749, 0.4709267318248749, 0.470924437046051, 0.042811524122953415, 0.042811524122953415, 0.042811524122953415, 0.042811524122953415, 0.042811524122953415, 0.042811524122953415, 0.042811524122953415, 0.042811524122953415, 0.042811524122953415, 0.042811524122953415, 0.042811524122953415, 0.042811524122953415, 0.042811524122953415, 0.042811524122953415, 0.042811524122953415, 0.042811524122953415, 0.042811524122953415, 0.042811524122953415, 0.042811524122953415, 0.042811524122953415, 0.042811524122953415, 0.042811524122953415, 0.042811524122953415, 0.042811524122953415, 0.042811524122953415, 0.042811524122953415, 0.042811524122953415, 0.042811524122953415, 0.042811524122953415, 0.042811524122953415, 0.042811524122953415, 0.042811524122953415, 0.042811524122953415, 0.042811524122953415, 0.042811524122953415, 0.042811524122953415, 0.042811524122953415, 0.042811524122953415, 0.042811524122953415, 0.042811524122953415, 0.042811524122953415, 0.042811524122953415, 0.042811524122953415, 0.042811524122953415, 0.042811524122953415, 0.5587755441665649, 0.5587755441665649, 0.5587755441665649, 0.5587755441665649, 0.5587755441665649, 0.5587755441665649, 0.5587737560272217, 0.050797779113054276, 0.050797779113054276, 0.050797779113054276, 0.050797779113054276, 0.050797779113054276, 0.050797779113054276, 0.050797779113054276, 0.050797779113054276, 0.050797779113054276, 0.050797779113054276, 0.050797779113054276, 0.050797779113054276, 0.050797779113054276, 0.050797779113054276, 0.050797779113054276, 0.050797779113054276, 0.050797779113054276, 0.050797779113054276, 0.050797779113054276, 0.050797779113054276, 0.050797779113054276, 0.050797779113054276, 0.050797779113054276, 0.050797779113054276, 0.050797779113054276, 0.050797779113054276, 0.050797779113054276, 0.050797779113054276, 0.050797779113054276, 0.050797779113054276, 0.050797779113054276, 0.050797779113054276, 0.050797779113054276, 0.050797779113054276, 0.050797779113054276, 0.050797779113054276, 0.050797779113054276, 0.050797779113054276, 0.050797779113054276, 0.050797779113054276, 0.050797779113054276, 0.050797779113054276, 0.050797779113054276, 0.6255444288253784, 0.6255444288253784, 0.6255444288253784, 0.6255444288253784, 0.6255444288253784, 0.6255444288253784, 0.6255444288253784, 0.6255444288253784, 0.6255425214767456, 0.056867681443691254, 0.056867681443691254, 0.056867681443691254, 0.056867681443691254, 0.056867681443691254, 0.056867681443691254, 0.056867681443691254, 0.056867681443691254, 0.056867681443691254, 0.056867681443691254, 0.056867681443691254, 0.056867681443691254, 0.056867681443691254, 0.056867681443691254, 0.056867681443691254, 0.056867681443691254, 0.056867681443691254, 0.056867681443691254, 0.056867681443691254, 0.056867681443691254, 0.056867681443691254, 0.056867681443691254, 0.056867681443691254, 0.056867681443691254, 0.056867681443691254, 0.056867681443691254, 0.056867681443691254, 0.056867681443691254, 0.056867681443691254, 0.056867681443691254, 0.056867681443691254, 0.056867681443691254, 0.056867681443691254, 0.056867681443691254, 0.056867681443691254, 0.056867681443691254, 0.056867681443691254, 0.8466066122055054, 0.8466066122055054, 0.8466066122055054, 0.8466066718101501, 0.8466066718101501, 0.8466066718101501, 0.8466066718101501, 0.8466066718101501, 0.8466066718101501, 0.8466066718101501, 0.8466066718101501, 0.8466066718101501, 0.8466066718101501, 0.8466066718101501, 0.8466066718101501, 0.8466066718101501, 0.8466066718101501, 0.8466066718101501, 0.8466066718101501, 0.8466066718101501, 0.8466066718101501, 0.8466066718101501, 0.8466066718101501, 0.8466066718101501, 0.8466066718101501, 0.8466066718101501, 0.8466066718101501, 0.8466066718101501, 0.8466066718101501, 0.8466066122055054, 3.9251677989959717, 0.01301611214876175, 0.01301611214876175, 0.01301611214876175, 0.01301611214876175, 0.01301611214876175, 0.01301611214876175, 0.01301611214876175, 0.01301611214876175, 0.01301611214876175, 0.01301611214876175, 0.01301611214876175, 0.01301611214876175, 0.01301611214876175, 0.01301611214876175, 0.01301611214876175, 0.01301611214876175, 0.01301611214876175, 0.01301611214876175, 0.01301611214876175, 0.01301611214876175, 0.01301611214876175, 0.01301611214876175, 0.01301611214876175, 0.01301611214876175, 0.01301611214876175, 0.01301611214876175, 0.01301611214876175, 0.01301611214876175, 0.01301611214876175, 0.01301611214876175, 0.01301611214876175, 0.01301611214876175, 0.01301611214876175, 0.01301611214876175, 0.01301611214876175, 0.01301611214876175, 0.01301611214876175, 0.01301611214876175, 0.01301611214876175, 0.01301611214876175, 0.01301611214876175, 0.01301611214876175, 0.01301611214876175, 0.01301611214876175, 0.01301611214876175, 0.01301611214876175, 0.01301611214876175, 0.01301611214876175, 0.01301611214876175, 0.01301611214876175, 0.01301611214876175, 0.01301611214876175], \"Term\": [\"virtual\", \"reality\", \"video\", \"show\", \"bmw\", \"sale\", \"sustained\", \"upbeat\", \"growth\", \"edition\", \"yellow\", \"protonic\", \"look\", \"frozen\", \"cool\", \"experience\", \"tree\", \"taken\", \"stourbridge\", \"star\", \"smash\", \"hospital\", \"express\", \"driver\", \"stress\", \"f\", \"spy\", \"test\", \"suv\", \"x\", \"sustained\", \"growth\", \"upbeat\", \"sale\", \"protonic\", \"look\", \"frozen\", \"edition\", \"cool\", \"yellow\", \"suv\", \"express\", \"stourbridge\", \"star\", \"stress\", \"smash\", \"hospital\", \"tree\", \"driver\", \"taken\", \"x\", \"test\", \"f\", \"spy\", \"offer\", \"motorcycle\", \"long\", \"first\", \"dealer\", \"becomes\", \"beach\", \"shuts\", \"defect\", \"door\", \"judge\", \"law\", \"softclose\", \"suit\", \"alpina\", \"automobile\", \"b\", \"listed\", \"magazine\", \"war\", \"prowess\", \"prove\", \"mercedes\", \"jaguar\", \"benz\", \"audi\", \"advertisement\", \"ad\", \"sustained\", \"growth\", \"upbeat\", \"sale\", \"protonic\", \"look\", \"frozen\", \"edition\", \"cool\", \"yellow\", \"suv\", \"express\", \"stourbridge\", \"star\", \"stress\", \"smash\", \"hospital\", \"tree\", \"driver\", \"taken\", \"x\", \"test\", \"f\", \"spy\", \"offer\", \"motorcycle\", \"long\", \"first\", \"dealer\", \"becomes\", \"beach\", \"shuts\", \"defect\", \"door\", \"judge\", \"law\", \"softclose\", \"suit\", \"alpina\", \"automobile\", \"b\", \"listed\", \"magazine\", \"war\", \"prowess\", \"prove\", \"mercedes\", \"jaguar\", \"benz\", \"audi\", \"advertisement\", \"ad\", \"reality\", \"virtual\", \"offer\", \"reporter\", \"motorcycle\", \"long\", \"first\", \"dealer\", \"becomes\", \"beach\", \"experience\", \"bmw\", \"upbeat\", \"sustained\", \"sale\", \"growth\", \"protonic\", \"look\", \"frozen\", \"edition\", \"cool\", \"yellow\", \"taken\", \"tree\", \"stress\", \"suv\", \"stourbridge\", \"star\", \"smash\", \"hospital\", \"defect\", \"door\", \"judge\", \"law\", \"shuts\", \"softclose\", \"alpina\", \"benz\", \"ad\", \"advertisement\", \"audi\", \"jaguar\", \"sustained\", \"growth\", \"upbeat\", \"sale\", \"protonic\", \"look\", \"frozen\", \"edition\", \"cool\", \"yellow\", \"suv\", \"express\", \"stourbridge\", \"star\", \"stress\", \"smash\", \"hospital\", \"tree\", \"driver\", \"taken\", \"x\", \"test\", \"f\", \"spy\", \"offer\", \"motorcycle\", \"long\", \"first\", \"dealer\", \"becomes\", \"beach\", \"shuts\", \"defect\", \"door\", \"judge\", \"law\", \"softclose\", \"suit\", \"alpina\", \"automobile\", \"b\", \"listed\", \"magazine\", \"war\", \"prowess\", \"prove\", \"mercedes\", \"jaguar\", \"benz\", \"audi\", \"advertisement\", \"ad\", \"suv\", \"x\", \"f\", \"spy\", \"stress\", \"test\", \"show\", \"video\", \"bmw\", \"upbeat\", \"sustained\", \"sale\", \"growth\", \"edition\", \"cool\", \"frozen\", \"look\", \"protonic\", \"yellow\", \"taken\", \"tree\", \"driver\", \"stourbridge\", \"star\", \"smash\", \"hospital\", \"express\", \"reporter\", \"offer\", \"motorcycle\", \"beach\", \"becomes\", \"judge\", \"law\", \"shuts\", \"softclose\", \"suit\", \"alpina\", \"door\", \"defect\", \"mercedes\", \"war\", \"prowess\", \"prove\", \"b\", \"jaguar\", \"benz\", \"growth\", \"sale\", \"sustained\", \"upbeat\", \"bmw\", \"cool\", \"edition\", \"frozen\", \"look\", \"protonic\", \"yellow\", \"f\", \"taken\", \"tree\", \"stress\", \"suv\", \"driver\", \"x\", \"spy\", \"test\", \"express\", \"hospital\", \"smash\", \"star\", \"stourbridge\", \"reporter\", \"motorcycle\", \"long\", \"first\", \"dealer\", \"becomes\", \"beach\", \"softclose\", \"defect\", \"door\", \"judge\", \"law\", \"shuts\", \"automobile\", \"suit\", \"alpina\", \"b\", \"listed\", \"magazine\", \"war\", \"prowess\", \"prove\", \"mercedes\", \"jaguar\", \"benz\", \"cool\", \"edition\", \"frozen\", \"look\", \"protonic\", \"yellow\", \"bmw\", \"growth\", \"sale\", \"sustained\", \"upbeat\", \"f\", \"taken\", \"tree\", \"stress\", \"suv\", \"driver\", \"x\", \"spy\", \"test\", \"express\", \"hospital\", \"smash\", \"star\", \"stourbridge\", \"reporter\", \"motorcycle\", \"long\", \"first\", \"dealer\", \"becomes\", \"beach\", \"advertisement\", \"defect\", \"magazine\", \"listed\", \"b\", \"automobile\", \"alpina\", \"suit\", \"softclose\", \"shuts\", \"law\", \"judge\", \"door\", \"audi\", \"ad\", \"war\", \"prowess\", \"prove\", \"tree\", \"taken\", \"stourbridge\", \"star\", \"smash\", \"hospital\", \"express\", \"driver\", \"bmw\", \"growth\", \"sale\", \"sustained\", \"upbeat\", \"yellow\", \"protonic\", \"look\", \"cool\", \"edition\", \"frozen\", \"test\", \"x\", \"suv\", \"f\", \"spy\", \"stress\", \"offer\", \"motorcycle\", \"long\", \"first\", \"dealer\", \"becomes\", \"beach\", \"suit\", \"softclose\", \"shuts\", \"law\", \"judge\", \"door\", \"defect\", \"war\", \"automobile\", \"prowess\", \"prove\", \"mercedes\", \"jaguar\", \"benz\", \"driving\", \"ultimate\", \"part\", \"turbo\", \"magazine\", \"listed\", \"b\", \"automobile\", \"alpina\", \"suit\", \"softclose\", \"auto\", \"nyc\", \"overview\", \"performance\", \"shuts\", \"law\", \"judge\", \"door\", \"defect\", \"war\", \"prowess\", \"prove\", \"mercedes\", \"jaguar\", \"benz\", \"audi\", \"advertisement\", \"ad\", \"take\", \"bmw\", \"sustained\", \"growth\", \"upbeat\", \"sale\", \"protonic\", \"look\", \"frozen\", \"edition\", \"cool\", \"yellow\", \"suv\", \"express\", \"stourbridge\", \"star\", \"stress\", \"smash\", \"hospital\", \"tree\", \"driver\", \"taken\", \"x\", \"test\", \"f\", \"spy\", \"offer\", \"motorcycle\", \"long\", \"first\", \"dealer\", \"becomes\", \"beach\", \"shuts\", \"defect\", \"door\", \"judge\", \"law\", \"softclose\", \"suit\", \"alpina\", \"automobile\", \"b\", \"listed\", \"magazine\", \"war\", \"prowess\", \"prove\", \"mercedes\", \"jaguar\", \"benz\", \"audi\", \"advertisement\", \"ad\"], \"Total\": [1.0, 1.0, 1.0, 1.0, 7.0, 0.0, 0.0, 0.0, 0.0, 0.0, 0.0, 0.0, 0.0, 0.0, 0.0, 1.0, 0.0, 0.0, 0.0, 0.0, 0.0, 0.0, 0.0, 0.0, 0.0, 0.0, 0.0, 0.0, 0.0, 0.0, 0.8330554962158203, 0.8330554962158203, 0.8330554962158203, 0.8330554962158203, 0.9129180908203125, 0.9129180908203125, 0.9129180908203125, 0.9129180908203125, 0.9129180908203125, 0.9129180908203125, 0.9736170768737793, 0.9736170768737793, 0.9736170768737793, 0.9736170768737793, 0.9736170768737793, 0.9736170768737793, 0.9736170768737793, 0.9736170768737793, 0.9736170768737793, 0.9736170768737793, 0.9736170768737793, 0.9736170768737793, 0.9736170768737793, 0.9736170768737793, 1.0906100273132324, 1.0906100273132324, 1.0906100273132324, 1.0906100273132324, 1.0906100273132324, 1.0906100273132324, 1.0906100273132324, 1.174582839012146, 1.174582839012146, 1.174582839012146, 1.174582839012146, 1.174582839012146, 1.174582839012146, 1.174582839012146, 1.174582839012146, 1.174582839012146, 1.174582839012146, 1.174582839012146, 1.174582839012146, 1.174582839012146, 1.174582839012146, 1.174582839012146, 1.174582839012146, 1.174582839012146, 1.174582839012146, 1.174582839012146, 1.174582839012146, 1.174582839012146, 0.8330554962158203, 0.8330554962158203, 0.8330554962158203, 0.8330554962158203, 0.9129180908203125, 0.9129180908203125, 0.9129180908203125, 0.9129180908203125, 0.9129180908203125, 0.9129180908203125, 0.9736170768737793, 0.9736170768737793, 0.9736170768737793, 0.9736170768737793, 0.9736170768737793, 0.9736170768737793, 0.9736170768737793, 0.9736170768737793, 0.9736170768737793, 0.9736170768737793, 0.9736170768737793, 0.9736170768737793, 0.9736170768737793, 0.9736170768737793, 1.0906100273132324, 1.0906100273132324, 1.0906100273132324, 1.0906100273132324, 1.0906100273132324, 1.0906100273132324, 1.0906100273132324, 1.174582839012146, 1.174582839012146, 1.174582839012146, 1.174582839012146, 1.174582839012146, 1.174582839012146, 1.174582839012146, 1.174582839012146, 1.174582839012146, 1.174582839012146, 1.174582839012146, 1.174582839012146, 1.174582839012146, 1.174582839012146, 1.174582839012146, 1.174582839012146, 1.174582839012146, 1.174582839012146, 1.174582839012146, 1.174582839012146, 1.174582839012146, 1.7762799263000488, 1.7762799263000488, 1.0906100273132324, 1.0906100273132324, 1.0906100273132324, 1.0906100273132324, 1.0906100273132324, 1.0906100273132324, 1.0906100273132324, 1.0906100273132324, 1.8602519035339355, 7.697941303253174, 0.8330554962158203, 0.8330554962158203, 0.8330554962158203, 0.8330554962158203, 0.9129180908203125, 0.9129180908203125, 0.9129180908203125, 0.9129180908203125, 0.9129180908203125, 0.9129180908203125, 0.9736170768737793, 0.9736170768737793, 0.9736170768737793, 0.9736170768737793, 0.9736170768737793, 0.9736170768737793, 0.9736170768737793, 0.9736170768737793, 1.174582839012146, 1.174582839012146, 1.174582839012146, 1.174582839012146, 1.174582839012146, 1.174582839012146, 1.174582839012146, 1.174582839012146, 1.174582839012146, 1.174582839012146, 1.174582839012146, 1.174582839012146, 0.8330554962158203, 0.8330554962158203, 0.8330554962158203, 0.8330554962158203, 0.9129180908203125, 0.9129180908203125, 0.9129180908203125, 0.9129180908203125, 0.9129180908203125, 0.9129180908203125, 0.9736170768737793, 0.9736170768737793, 0.9736170768737793, 0.9736170768737793, 0.9736170768737793, 0.9736170768737793, 0.9736170768737793, 0.9736170768737793, 0.9736170768737793, 0.9736170768737793, 0.9736170768737793, 0.9736170768737793, 0.9736170768737793, 0.9736170768737793, 1.0906100273132324, 1.0906100273132324, 1.0906100273132324, 1.0906100273132324, 1.0906100273132324, 1.0906100273132324, 1.0906100273132324, 1.174582839012146, 1.174582839012146, 1.174582839012146, 1.174582839012146, 1.174582839012146, 1.174582839012146, 1.174582839012146, 1.174582839012146, 1.174582839012146, 1.174582839012146, 1.174582839012146, 1.174582839012146, 1.174582839012146, 1.174582839012146, 1.174582839012146, 1.174582839012146, 1.174582839012146, 1.174582839012146, 1.174582839012146, 1.174582839012146, 1.174582839012146, 0.9736170768737793, 0.9736170768737793, 0.9736170768737793, 0.9736170768737793, 0.9736170768737793, 0.9736170768737793, 1.7432574033737183, 1.7432574033737183, 7.697941303253174, 0.8330554962158203, 0.8330554962158203, 0.8330554962158203, 0.8330554962158203, 0.9129180908203125, 0.9129180908203125, 0.9129180908203125, 0.9129180908203125, 0.9129180908203125, 0.9129180908203125, 0.9736170768737793, 0.9736170768737793, 0.9736170768737793, 0.9736170768737793, 0.9736170768737793, 0.9736170768737793, 0.9736170768737793, 0.9736170768737793, 1.0906100273132324, 1.0906100273132324, 1.0906100273132324, 1.0906100273132324, 1.0906100273132324, 1.174582839012146, 1.174582839012146, 1.174582839012146, 1.174582839012146, 1.174582839012146, 1.174582839012146, 1.174582839012146, 1.174582839012146, 1.174582839012146, 1.174582839012146, 1.174582839012146, 1.174582839012146, 1.174582839012146, 1.174582839012146, 1.174582839012146, 0.8330554962158203, 0.8330554962158203, 0.8330554962158203, 0.8330554962158203, 7.697941303253174, 0.9129180908203125, 0.9129180908203125, 0.9129180908203125, 0.9129180908203125, 0.9129180908203125, 0.9129180908203125, 0.9736170768737793, 0.9736170768737793, 0.9736170768737793, 0.9736170768737793, 0.9736170768737793, 0.9736170768737793, 0.9736170768737793, 0.9736170768737793, 0.9736170768737793, 0.9736170768737793, 0.9736170768737793, 0.9736170768737793, 0.9736170768737793, 0.9736170768737793, 1.0906100273132324, 1.0906100273132324, 1.0906100273132324, 1.0906100273132324, 1.0906100273132324, 1.0906100273132324, 1.0906100273132324, 1.174582839012146, 1.174582839012146, 1.174582839012146, 1.174582839012146, 1.174582839012146, 1.174582839012146, 1.174582839012146, 1.174582839012146, 1.174582839012146, 1.174582839012146, 1.174582839012146, 1.174582839012146, 1.174582839012146, 1.174582839012146, 1.174582839012146, 1.174582839012146, 1.174582839012146, 1.174582839012146, 0.9129180908203125, 0.9129180908203125, 0.9129180908203125, 0.9129180908203125, 0.9129180908203125, 0.9129180908203125, 7.697941303253174, 0.8330554962158203, 0.8330554962158203, 0.8330554962158203, 0.8330554962158203, 0.9736170768737793, 0.9736170768737793, 0.9736170768737793, 0.9736170768737793, 0.9736170768737793, 0.9736170768737793, 0.9736170768737793, 0.9736170768737793, 0.9736170768737793, 0.9736170768737793, 0.9736170768737793, 0.9736170768737793, 0.9736170768737793, 0.9736170768737793, 1.0906100273132324, 1.0906100273132324, 1.0906100273132324, 1.0906100273132324, 1.0906100273132324, 1.0906100273132324, 1.0906100273132324, 1.174582839012146, 1.174582839012146, 1.174582839012146, 1.174582839012146, 1.174582839012146, 1.174582839012146, 1.174582839012146, 1.174582839012146, 1.174582839012146, 1.174582839012146, 1.174582839012146, 1.174582839012146, 1.174582839012146, 1.174582839012146, 1.174582839012146, 1.174582839012146, 1.174582839012146, 1.174582839012146, 0.9736170768737793, 0.9736170768737793, 0.9736170768737793, 0.9736170768737793, 0.9736170768737793, 0.9736170768737793, 0.9736170768737793, 0.9736170768737793, 7.697941303253174, 0.8330554962158203, 0.8330554962158203, 0.8330554962158203, 0.8330554962158203, 0.9129180908203125, 0.9129180908203125, 0.9129180908203125, 0.9129180908203125, 0.9129180908203125, 0.9129180908203125, 0.9736170768737793, 0.9736170768737793, 0.9736170768737793, 0.9736170768737793, 0.9736170768737793, 0.9736170768737793, 1.0906100273132324, 1.0906100273132324, 1.0906100273132324, 1.0906100273132324, 1.0906100273132324, 1.0906100273132324, 1.0906100273132324, 1.174582839012146, 1.174582839012146, 1.174582839012146, 1.174582839012146, 1.174582839012146, 1.174582839012146, 1.174582839012146, 1.174582839012146, 1.174582839012146, 1.174582839012146, 1.174582839012146, 1.174582839012146, 1.174582839012146, 1.174582839012146, 1.1745827198028564, 1.1745827198028564, 1.1745827198028564, 1.174582839012146, 1.174582839012146, 1.174582839012146, 1.174582839012146, 1.174582839012146, 1.174582839012146, 1.174582839012146, 1.174582839012146, 1.174582839012146, 1.174582839012146, 1.174582839012146, 1.174582839012146, 1.174582839012146, 1.174582839012146, 1.174582839012146, 1.174582839012146, 1.174582839012146, 1.174582839012146, 1.174582839012146, 1.174582839012146, 1.174582839012146, 1.174582839012146, 1.174582839012146, 1.174582839012146, 1.174582839012146, 1.174582839012146, 1.1745827198028564, 7.697941303253174, 0.8330554962158203, 0.8330554962158203, 0.8330554962158203, 0.8330554962158203, 0.9129180908203125, 0.9129180908203125, 0.9129180908203125, 0.9129180908203125, 0.9129180908203125, 0.9129180908203125, 0.9736170768737793, 0.9736170768737793, 0.9736170768737793, 0.9736170768737793, 0.9736170768737793, 0.9736170768737793, 0.9736170768737793, 0.9736170768737793, 0.9736170768737793, 0.9736170768737793, 0.9736170768737793, 0.9736170768737793, 0.9736170768737793, 0.9736170768737793, 1.0906100273132324, 1.0906100273132324, 1.0906100273132324, 1.0906100273132324, 1.0906100273132324, 1.0906100273132324, 1.0906100273132324, 1.174582839012146, 1.174582839012146, 1.174582839012146, 1.174582839012146, 1.174582839012146, 1.174582839012146, 1.174582839012146, 1.174582839012146, 1.174582839012146, 1.174582839012146, 1.174582839012146, 1.174582839012146, 1.174582839012146, 1.174582839012146, 1.174582839012146, 1.174582839012146, 1.174582839012146, 1.174582839012146, 1.174582839012146, 1.174582839012146, 1.174582839012146], \"loglift\": [30.0, 29.0, 28.0, 27.0, 26.0, 25.0, 24.0, 23.0, 22.0, 21.0, 20.0, 19.0, 18.0, 17.0, 16.0, 15.0, 14.0, 13.0, 12.0, 11.0, 10.0, 9.0, 8.0, 7.0, 6.0, 5.0, 4.0, 3.0, 2.0, 1.0, 0.38199999928474426, 0.38199999928474426, 0.38199999928474426, 0.38199999928474426, 0.2903999984264374, 0.2903999984264374, 0.2903999984264374, 0.2903999984264374, 0.2903999984264374, 0.2903999984264374, 0.22609999775886536, 0.22609999775886536, 0.22609999775886536, 0.22609999775886536, 0.22609999775886536, 0.22609999775886536, 0.22609999775886536, 0.22609999775886536, 0.22609999775886536, 0.22609999775886536, 0.22609999775886536, 0.22609999775886536, 0.22609999775886536, 0.22609999775886536, 0.11259999871253967, 0.11259999871253967, 0.11259999871253967, 0.11259999871253967, 0.11259999871253967, 0.11259999871253967, 0.11259999871253967, 0.03840000182390213, 0.03840000182390213, 0.03840000182390213, 0.03840000182390213, 0.03840000182390213, 0.03840000182390213, 0.03840000182390213, 0.03840000182390213, 0.03840000182390213, 0.03840000182390213, 0.03840000182390213, 0.03840000182390213, 0.03840000182390213, 0.03840000182390213, 0.03840000182390213, 0.03840000182390213, 0.03840000182390213, 0.03840000182390213, 0.03840000182390213, 0.03840000182390213, 0.03840000182390213, 0.38199999928474426, 0.38199999928474426, 0.38199999928474426, 0.38199999928474426, 0.2903999984264374, 0.2903999984264374, 0.2903999984264374, 0.2903999984264374, 0.2903999984264374, 0.2903999984264374, 0.22609999775886536, 0.22609999775886536, 0.22609999775886536, 0.22609999775886536, 0.22609999775886536, 0.22609999775886536, 0.22609999775886536, 0.22609999775886536, 0.22609999775886536, 0.22609999775886536, 0.22609999775886536, 0.22609999775886536, 0.22609999775886536, 0.22609999775886536, 0.11259999871253967, 0.11259999871253967, 0.11259999871253967, 0.11259999871253967, 0.11259999871253967, 0.11259999871253967, 0.11259999871253967, 0.03840000182390213, 0.03840000182390213, 0.03840000182390213, 0.03840000182390213, 0.03840000182390213, 0.03840000182390213, 0.03840000182390213, 0.03840000182390213, 0.03840000182390213, 0.03840000182390213, 0.03840000182390213, 0.03840000182390213, 0.03840000182390213, 0.03840000182390213, 0.03840000182390213, 0.03840000182390213, 0.03840000182390213, 0.03840000182390213, 0.03840000182390213, 0.03840000182390213, 0.03840000182390213, 1.5042999982833862, 1.5042999982833862, 1.3454999923706055, 1.3454999923706055, 1.3454999923706055, 1.3454999923706055, 1.3454999923706055, 1.3454999923706055, 1.3454999923706055, 1.3454999923706055, 0.8115000128746033, 0.03790000081062317, -0.7829999923706055, -0.7829999923706055, -0.7829999923706055, -0.7829999923706055, -0.8744999766349792, -0.8744999766349792, -0.8744999766349792, -0.8744999766349792, -0.8744999766349792, -0.8744999766349792, -0.9388999938964844, -0.9388999938964844, -0.9388999938964844, -0.9388999938964844, -0.9388999938964844, -0.9388999938964844, -0.9388999938964844, -0.9388999938964844, -1.1266000270843506, -1.1266000270843506, -1.1266000270843506, -1.1266000270843506, -1.1266000270843506, -1.1266000270843506, -1.1266000270843506, -1.1266000270843506, -1.1266000270843506, -1.1266000270843506, -1.1266000270843506, -1.1266000270843506, 0.38199999928474426, 0.38199999928474426, 0.38199999928474426, 0.38199999928474426, 0.2903999984264374, 0.2903999984264374, 0.2903999984264374, 0.2903999984264374, 0.2903999984264374, 0.2903999984264374, 0.22609999775886536, 0.22609999775886536, 0.22609999775886536, 0.22609999775886536, 0.22609999775886536, 0.22609999775886536, 0.22609999775886536, 0.22609999775886536, 0.22609999775886536, 0.22609999775886536, 0.22609999775886536, 0.22609999775886536, 0.22609999775886536, 0.22609999775886536, 0.11259999871253967, 0.11259999871253967, 0.11259999871253967, 0.11259999871253967, 0.11259999871253967, 0.11259999871253967, 0.11259999871253967, 0.03840000182390213, 0.03840000182390213, 0.03840000182390213, 0.03840000182390213, 0.03840000182390213, 0.03840000182390213, 0.03840000182390213, 0.03840000182390213, 0.03840000182390213, 0.03840000182390213, 0.03840000182390213, 0.03840000182390213, 0.03840000182390213, 0.03840000182390213, 0.03840000182390213, 0.03840000182390213, 0.03840000182390213, 0.03840000182390213, 0.03840000182390213, 0.03840000182390213, 0.03840000182390213, 1.780900001525879, 1.780900001525879, 1.780900001525879, 1.780900001525879, 1.780900001525879, 1.780900001525879, 1.1984000205993652, 1.1984000205993652, -0.28679999709129333, -0.4611000120639801, -0.4611000120639801, -0.4611000120639801, -0.4611000120639801, -0.5526000261306763, -0.5526000261306763, -0.5526000261306763, -0.5526000261306763, -0.5526000261306763, -0.5526000261306763, -0.6169999837875366, -0.6169999837875366, -0.6169999837875366, -0.6169999837875366, -0.6169999837875366, -0.6169999837875366, -0.6169999837875366, -0.6169999837875366, -0.7304999828338623, -0.7304999828338623, -0.7304999828338623, -0.7304999828338623, -0.7304999828338623, -0.8047000169754028, -0.8047000169754028, -0.8047000169754028, -0.8047000169754028, -0.8047000169754028, -0.8047000169754028, -0.8047000169754028, -0.8047000169754028, -0.8047000169754028, -0.8047000169754028, -0.8047000169754028, -0.8047000169754028, -0.8047000169754028, -0.8047000169754028, -0.8047000169754028, 2.2286999225616455, 2.2286999225616455, 2.2286999225616455, 2.2286999225616455, 0.005100000184029341, -0.260699987411499, -0.260699987411499, -0.260699987411499, -0.260699987411499, -0.260699987411499, -0.260699987411499, -0.32510000467300415, -0.32510000467300415, -0.32510000467300415, -0.32510000467300415, -0.32510000467300415, -0.32510000467300415, -0.32510000467300415, -0.32510000467300415, -0.32510000467300415, -0.32510000467300415, -0.32510000467300415, -0.32510000467300415, -0.32510000467300415, -0.32510000467300415, -0.43860000371932983, -0.43860000371932983, -0.43860000371932983, -0.43860000371932983, -0.43860000371932983, -0.43860000371932983, -0.43860000371932983, -0.5127999782562256, -0.5127999782562256, -0.5127999782562256, -0.5127999782562256, -0.5127999782562256, -0.5127999782562256, -0.5127999782562256, -0.5127999782562256, -0.5127999782562256, -0.5127999782562256, -0.5127999782562256, -0.5127999782562256, -0.5127999782562256, -0.5127999782562256, -0.5127999782562256, -0.5127999782562256, -0.5127999782562256, -0.5127999782562256, 1.9805999994277954, 1.9805999994277954, 1.9805999994277954, 1.9805999994277954, 1.9805999994277954, 1.9805999994277954, -0.15150000154972076, -0.32580000162124634, -0.32580000162124634, -0.32580000162124634, -0.32580000162124634, -0.48170000314712524, -0.48170000314712524, -0.48170000314712524, -0.48170000314712524, -0.48170000314712524, -0.48170000314712524, -0.48170000314712524, -0.48170000314712524, -0.48170000314712524, -0.48170000314712524, -0.48170000314712524, -0.48170000314712524, -0.48170000314712524, -0.48170000314712524, -0.5952000021934509, -0.5952000021934509, -0.5952000021934509, -0.5952000021934509, -0.5952000021934509, -0.5952000021934509, -0.5952000021934509, -0.6693000197410583, -0.6693000197410583, -0.6693000197410583, -0.6693000197410583, -0.6693000197410583, -0.6693000197410583, -0.6693000197410583, -0.6693000197410583, -0.6693000197410583, -0.6693000197410583, -0.6693000197410583, -0.6693000197410583, -0.6693000197410583, -0.6693000197410583, -0.6693000197410583, -0.6693000197410583, -0.6693000197410583, -0.6693000197410583, 1.780900001525879, 1.780900001525879, 1.780900001525879, 1.780900001525879, 1.780900001525879, 1.780900001525879, 1.780900001525879, 1.780900001525879, -0.28679999709129333, -0.4611000120639801, -0.4611000120639801, -0.4611000120639801, -0.4611000120639801, -0.5526000261306763, -0.5526000261306763, -0.5526000261306763, -0.5526000261306763, -0.5526000261306763, -0.5526000261306763, -0.6169999837875366, -0.6169999837875366, -0.6169999837875366, -0.6169999837875366, -0.6169999837875366, -0.6169999837875366, -0.7304999828338623, -0.7304999828338623, -0.7304999828338623, -0.7304999828338623, -0.7304999828338623, -0.7304999828338623, -0.7304999828338623, -0.8047000169754028, -0.8047000169754028, -0.8047000169754028, -0.8047000169754028, -0.8047000169754028, -0.8047000169754028, -0.8047000169754028, -0.8047000169754028, -0.8047000169754028, -0.8047000169754028, -0.8047000169754028, -0.8047000169754028, -0.8047000169754028, -0.8047000169754028, 0.5509999990463257, 0.5509999990463257, 0.5509999990463257, 0.5509999990463257, 0.5509999990463257, 0.5509999990463257, 0.5509999990463257, 0.5509999990463257, 0.5509999990463257, 0.5509999990463257, 0.5509999990463257, 0.5509999990463257, 0.5509999990463257, 0.5509999990463257, 0.5509999990463257, 0.5509999990463257, 0.5509999990463257, 0.5509999990463257, 0.5509999990463257, 0.5509999990463257, 0.5509999990463257, 0.5509999990463257, 0.5509999990463257, 0.5509999990463257, 0.5509999990463257, 0.5509999990463257, 0.5509999990463257, 0.5509999990463257, 0.5509999990463257, 0.5509999990463257, 0.20489999651908875, 0.38199999928474426, 0.38199999928474426, 0.38199999928474426, 0.38199999928474426, 0.2903999984264374, 0.2903999984264374, 0.2903999984264374, 0.2903999984264374, 0.2903999984264374, 0.2903999984264374, 0.22609999775886536, 0.22609999775886536, 0.22609999775886536, 0.22609999775886536, 0.22609999775886536, 0.22609999775886536, 0.22609999775886536, 0.22609999775886536, 0.22609999775886536, 0.22609999775886536, 0.22609999775886536, 0.22609999775886536, 0.22609999775886536, 0.22609999775886536, 0.11259999871253967, 0.11259999871253967, 0.11259999871253967, 0.11259999871253967, 0.11259999871253967, 0.11259999871253967, 0.11259999871253967, 0.03840000182390213, 0.03840000182390213, 0.03840000182390213, 0.03840000182390213, 0.03840000182390213, 0.03840000182390213, 0.03840000182390213, 0.03840000182390213, 0.03840000182390213, 0.03840000182390213, 0.03840000182390213, 0.03840000182390213, 0.03840000182390213, 0.03840000182390213, 0.03840000182390213, 0.03840000182390213, 0.03840000182390213, 0.03840000182390213, 0.03840000182390213, 0.03840000182390213, 0.03840000182390213], \"logprob\": [30.0, 29.0, 28.0, 27.0, 26.0, 25.0, 24.0, 23.0, 22.0, 21.0, 20.0, 19.0, 18.0, 17.0, 16.0, 15.0, 14.0, 13.0, 12.0, 11.0, 10.0, 9.0, 8.0, 7.0, 6.0, 5.0, 4.0, 3.0, 2.0, 1.0, -4.2195000648498535, -4.2195000648498535, -4.2195000648498535, -4.2195000648498535, -4.2195000648498535, -4.2195000648498535, -4.2195000648498535, -4.2195000648498535, -4.2195000648498535, -4.2195000648498535, -4.2195000648498535, -4.2195000648498535, -4.2195000648498535, -4.2195000648498535, -4.2195000648498535, -4.2195000648498535, -4.2195000648498535, -4.2195000648498535, -4.2195000648498535, -4.2195000648498535, -4.2195000648498535, -4.2195000648498535, -4.2195000648498535, -4.2195000648498535, -4.2195000648498535, -4.2195000648498535, -4.2195000648498535, -4.2195000648498535, -4.2195000648498535, -4.2195000648498535, -4.2195000648498535, -4.2195000648498535, -4.2195000648498535, -4.2195000648498535, -4.2195000648498535, -4.2195000648498535, -4.2195000648498535, -4.2195000648498535, -4.2195000648498535, -4.2195000648498535, -4.2195000648498535, -4.2195000648498535, -4.2195000648498535, -4.2195000648498535, -4.2195000648498535, -4.2195000648498535, -4.2195000648498535, -4.2195000648498535, -4.2195000648498535, -4.2195000648498535, -4.2195000648498535, -4.2195000648498535, -4.2195000648498535, -4.2195000648498535, -4.2195000648498535, -4.2195000648498535, -4.2195000648498535, -4.2195000648498535, -4.2195000648498535, -4.2195000648498535, -4.2195000648498535, -4.2195000648498535, -4.2195000648498535, -4.2195000648498535, -4.2195000648498535, -4.2195000648498535, -4.2195000648498535, -4.2195000648498535, -4.2195000648498535, -4.2195000648498535, -4.2195000648498535, -4.2195000648498535, -4.2195000648498535, -4.2195000648498535, -4.2195000648498535, -4.2195000648498535, -4.2195000648498535, -4.2195000648498535, -4.2195000648498535, -4.2195000648498535, -4.2195000648498535, -4.2195000648498535, -4.2195000648498535, -4.2195000648498535, -4.2195000648498535, -4.2195000648498535, -4.2195000648498535, -4.2195000648498535, -4.2195000648498535, -4.2195000648498535, -4.2195000648498535, -4.2195000648498535, -4.2195000648498535, -4.2195000648498535, -4.2195000648498535, -4.2195000648498535, -4.2195000648498535, -4.2195000648498535, -4.2195000648498535, -4.2195000648498535, -4.2195000648498535, -4.2195000648498535, -4.2195000648498535, -4.2195000648498535, -2.3399999141693115, -2.3399999141693115, -2.986599922180176, -2.986599922180176, -2.986599922180176, -2.986599922180176, -2.986599922180176, -2.986599922180176, -2.986599922180176, -2.986599922180176, -2.986599922180176, -2.3399999141693115, -5.384500026702881, -5.384500026702881, -5.384500026702881, -5.384500026702881, -5.384500026702881, -5.384500026702881, -5.384500026702881, -5.384500026702881, -5.384500026702881, -5.384500026702881, -5.384500026702881, -5.384500026702881, -5.384500026702881, -5.384500026702881, -5.384500026702881, -5.384500026702881, -5.384500026702881, -5.384500026702881, -5.384500026702881, -5.384500026702881, -5.384500026702881, -5.384500026702881, -5.384500026702881, -5.384500026702881, -5.384500026702881, -5.384500026702881, -5.384500026702881, -5.384500026702881, -5.384500026702881, -5.384500026702881, -4.2195000648498535, -4.2195000648498535, -4.2195000648498535, -4.2195000648498535, -4.2195000648498535, -4.2195000648498535, -4.2195000648498535, -4.2195000648498535, -4.2195000648498535, -4.2195000648498535, -4.2195000648498535, -4.2195000648498535, -4.2195000648498535, -4.2195000648498535, -4.2195000648498535, -4.2195000648498535, -4.2195000648498535, -4.2195000648498535, -4.2195000648498535, -4.2195000648498535, -4.2195000648498535, -4.2195000648498535, -4.2195000648498535, -4.2195000648498535, -4.2195000648498535, -4.2195000648498535, -4.2195000648498535, -4.2195000648498535, -4.2195000648498535, -4.2195000648498535, -4.2195000648498535, -4.2195000648498535, -4.2195000648498535, -4.2195000648498535, -4.2195000648498535, -4.2195000648498535, -4.2195000648498535, -4.2195000648498535, -4.2195000648498535, -4.2195000648498535, -4.2195000648498535, -4.2195000648498535, -4.2195000648498535, -4.2195000648498535, -4.2195000648498535, -4.2195000648498535, -4.2195000648498535, -4.2195000648498535, -4.2195000648498535, -4.2195000648498535, -4.2195000648498535, -4.2195000648498535, -2.6647000312805176, -2.6647000312805176, -2.6647000312805176, -2.6647000312805176, -2.6647000312805176, -2.6647000312805176, -2.6647000312805176, -2.6647000312805176, -2.6647000312805176, -5.062600135803223, -5.062600135803223, -5.062600135803223, -5.062600135803223, -5.062600135803223, -5.062600135803223, -5.062600135803223, -5.062600135803223, -5.062600135803223, -5.062600135803223, -5.062600135803223, -5.062600135803223, -5.062600135803223, -5.062600135803223, -5.062600135803223, -5.062600135803223, -5.062600135803223, -5.062600135803223, -5.062600135803223, -5.062600135803223, -5.062600135803223, -5.062600135803223, -5.062600135803223, -5.062600135803223, -5.062600135803223, -5.062600135803223, -5.062600135803223, -5.062600135803223, -5.062600135803223, -5.062600135803223, -5.062600135803223, -5.062600135803223, -5.062600135803223, -5.062600135803223, -5.062600135803223, -5.062600135803223, -5.062600135803223, -5.062600135803223, -2.37280011177063, -2.37280011177063, -2.37280011177063, -2.37280011177063, -2.37280011177063, -4.770699977874756, -4.770699977874756, -4.770699977874756, -4.770699977874756, -4.770699977874756, -4.770699977874756, -4.770699977874756, -4.770699977874756, -4.770699977874756, -4.770699977874756, -4.770699977874756, -4.770699977874756, -4.770699977874756, -4.770699977874756, -4.770699977874756, -4.770699977874756, -4.770699977874756, -4.770699977874756, -4.770699977874756, -4.770699977874756, -4.770699977874756, -4.770699977874756, -4.770699977874756, -4.770699977874756, -4.770699977874756, -4.770699977874756, -4.770699977874756, -4.770699977874756, -4.770699977874756, -4.770699977874756, -4.770699977874756, -4.770699977874756, -4.770699977874756, -4.770699977874756, -4.770699977874756, -4.770699977874756, -4.770699977874756, -4.770699977874756, -4.770699977874756, -4.770699977874756, -4.770699977874756, -4.770699977874756, -4.770699977874756, -4.770699977874756, -4.770699977874756, -2.529400110244751, -2.529400110244751, -2.529400110244751, -2.529400110244751, -2.529400110244751, -2.529400110244751, -2.529400110244751, -4.927299976348877, -4.927299976348877, -4.927299976348877, -4.927299976348877, -4.927299976348877, -4.927299976348877, -4.927299976348877, -4.927299976348877, -4.927299976348877, -4.927299976348877, -4.927299976348877, -4.927299976348877, -4.927299976348877, -4.927299976348877, -4.927299976348877, -4.927299976348877, -4.927299976348877, -4.927299976348877, -4.927299976348877, -4.927299976348877, -4.927299976348877, -4.927299976348877, -4.927299976348877, -4.927299976348877, -4.927299976348877, -4.927299976348877, -4.927299976348877, -4.927299976348877, -4.927299976348877, -4.927299976348877, -4.927299976348877, -4.927299976348877, -4.927299976348877, -4.927299976348877, -4.927299976348877, -4.927299976348877, -4.927299976348877, -4.927299976348877, -4.927299976348877, -4.927299976348877, -4.927299976348877, -4.927299976348877, -4.927299976348877, -2.6647000312805176, -2.6647000312805176, -2.6647000312805176, -2.6647000312805176, -2.6647000312805176, -2.6647000312805176, -2.6647000312805176, -2.6647000312805176, -2.6647000312805176, -5.062600135803223, -5.062600135803223, -5.062600135803223, -5.062600135803223, -5.062600135803223, -5.062600135803223, -5.062600135803223, -5.062600135803223, -5.062600135803223, -5.062600135803223, -5.062600135803223, -5.062600135803223, -5.062600135803223, -5.062600135803223, -5.062600135803223, -5.062600135803223, -5.062600135803223, -5.062600135803223, -5.062600135803223, -5.062600135803223, -5.062600135803223, -5.062600135803223, -5.062600135803223, -5.062600135803223, -5.062600135803223, -5.062600135803223, -5.062600135803223, -5.062600135803223, -5.062600135803223, -5.062600135803223, -5.062600135803223, -5.062600135803223, -5.062600135803223, -5.062600135803223, -5.062600135803223, -5.062600135803223, -5.062600135803223, -3.706899881362915, -3.706899881362915, -3.706899881362915, -3.706899881362915, -3.706899881362915, -3.706899881362915, -3.706899881362915, -3.706899881362915, -3.706899881362915, -3.706899881362915, -3.706899881362915, -3.706899881362915, -3.706899881362915, -3.706899881362915, -3.706899881362915, -3.706899881362915, -3.706899881362915, -3.706899881362915, -3.706899881362915, -3.706899881362915, -3.706899881362915, -3.706899881362915, -3.706899881362915, -3.706899881362915, -3.706899881362915, -3.706899881362915, -3.706899881362915, -3.706899881362915, -3.706899881362915, -3.706899881362915, -2.1730000972747803, -4.2195000648498535, -4.2195000648498535, -4.2195000648498535, -4.2195000648498535, -4.2195000648498535, -4.2195000648498535, -4.2195000648498535, -4.2195000648498535, -4.2195000648498535, -4.2195000648498535, -4.2195000648498535, -4.2195000648498535, -4.2195000648498535, -4.2195000648498535, -4.2195000648498535, -4.2195000648498535, -4.2195000648498535, -4.2195000648498535, -4.2195000648498535, -4.2195000648498535, -4.2195000648498535, -4.2195000648498535, -4.2195000648498535, -4.2195000648498535, -4.2195000648498535, -4.2195000648498535, -4.2195000648498535, -4.2195000648498535, -4.2195000648498535, -4.2195000648498535, -4.2195000648498535, -4.2195000648498535, -4.2195000648498535, -4.2195000648498535, -4.2195000648498535, -4.2195000648498535, -4.2195000648498535, -4.2195000648498535, -4.2195000648498535, -4.2195000648498535, -4.2195000648498535, -4.2195000648498535, -4.2195000648498535, -4.2195000648498535, -4.2195000648498535, -4.2195000648498535, -4.2195000648498535, -4.2195000648498535, -4.2195000648498535, -4.2195000648498535, -4.2195000648498535, -4.2195000648498535]}, \"token.table\": {\"Topic\": [9, 9, 9, 9, 9, 9, 9, 3, 3, 9, 3, 5, 7, 8, 9, 7, 3, 9, 9, 8, 9, 7, 3, 9, 8, 5, 3, 7, 8, 9, 9, 9, 9, 3, 7, 9, 9, 3, 9, 3, 9, 9, 9, 7, 9, 9, 3, 3, 5, 9, 9, 8, 9, 5, 8, 8, 5, 9, 5, 9, 8, 5, 8, 9, 9, 5, 9, 3, 9, 5, 7], \"Freq\": [0.8513661026954651, 0.8513661026954651, 0.8513661026954651, 0.8513661026954651, 0.8513661026954651, 0.8513661026954651, 0.8513661026954651, 0.9169180393218994, 0.9169180393218994, 0.8513661026954651, 0.1299048662185669, 0.1299048662185669, 0.1299048662185669, 0.1299048662185669, 0.5196194648742676, 1.0953885316848755, 0.9169180393218994, 0.8513661026954651, 0.8513661026954651, 1.0270978212356567, 0.8513661623001099, 1.0953885316848755, 0.5375615954399109, 0.5375615954399109, 1.0270978212356567, 1.0270978212356567, 0.9169180393218994, 1.0953885316848755, 1.0270978212356567, 0.8513661026954651, 0.8513661026954651, 0.8513661026954651, 0.8513661026954651, 0.9169180393218994, 1.0953885316848755, 0.8513661026954651, 0.8513661026954651, 0.9169180393218994, 0.8513661026954651, 0.9169180393218994, 0.8513661026954651, 0.8513661623001099, 0.8513661026954651, 1.0953885316848755, 0.8513661026954651, 0.8513661026954651, 0.5629743337631226, 0.9169180393218994, 0.5736387372016907, 0.5736387372016907, 0.8513661026954651, 1.0270978212356567, 0.8513661026954651, 1.0270978212356567, 1.0270978212356567, 1.0270978212356567, 1.0270978212356567, 0.8513661026954651, 1.0270978212356567, 0.8513661623001099, 1.0270978212356567, 1.0270978212356567, 1.0270978212356567, 0.8513661026954651, 0.8513661623001099, 0.5736387372016907, 0.5736387372016907, 0.5629743337631226, 0.8513661026954651, 1.0270978212356567, 1.0953885316848755], \"Term\": [\"ad\", \"advertisement\", \"alpina\", \"audi\", \"auto\", \"automobile\", \"b\", \"beach\", \"becomes\", \"benz\", \"bmw\", \"bmw\", \"bmw\", \"bmw\", \"bmw\", \"cool\", \"dealer\", \"defect\", \"door\", \"driver\", \"driving\", \"edition\", \"experience\", \"experience\", \"express\", \"f\", \"first\", \"frozen\", \"hospital\", \"jaguar\", \"judge\", \"law\", \"listed\", \"long\", \"look\", \"magazine\", \"mercedes\", \"motorcycle\", \"nyc\", \"offer\", \"overview\", \"part\", \"performance\", \"protonic\", \"prove\", \"prowess\", \"reality\", \"reporter\", \"show\", \"show\", \"shuts\", \"smash\", \"softclose\", \"spy\", \"star\", \"stourbridge\", \"stress\", \"suit\", \"suv\", \"take\", \"taken\", \"test\", \"tree\", \"turbo\", \"ultimate\", \"video\", \"video\", \"virtual\", \"war\", \"x\", \"yellow\"]}, \"R\": 30, \"lambda.step\": 0.01, \"plot.opts\": {\"xlab\": \"PC1\", \"ylab\": \"PC2\"}, \"topic.order\": [1, 2, 3, 4, 5, 6, 7, 8, 9, 10]};\n",
       "\n",
       "function LDAvis_load_lib(url, callback){\n",
       "  var s = document.createElement('script');\n",
       "  s.src = url;\n",
       "  s.async = true;\n",
       "  s.onreadystatechange = s.onload = callback;\n",
       "  s.onerror = function(){console.warn(\"failed to load library \" + url);};\n",
       "  document.getElementsByTagName(\"head\")[0].appendChild(s);\n",
       "}\n",
       "\n",
       "if(typeof(LDAvis) !== \"undefined\"){\n",
       "   // already loaded: just create the visualization\n",
       "   !function(LDAvis){\n",
       "       new LDAvis(\"#\" + \"ldavis_el12476904185366583294620\", ldavis_el12476904185366583294620_data);\n",
       "   }(LDAvis);\n",
       "}else if(typeof define === \"function\" && define.amd){\n",
       "   // require.js is available: use it to load d3/LDAvis\n",
       "   require.config({paths: {d3: \"https://cdnjs.cloudflare.com/ajax/libs/d3/3.5.5/d3.min\"}});\n",
       "   require([\"d3\"], function(d3){\n",
       "      window.d3 = d3;\n",
       "      LDAvis_load_lib(\"https://cdn.rawgit.com/bmabey/pyLDAvis/files/ldavis.v1.0.0.js\", function(){\n",
       "        new LDAvis(\"#\" + \"ldavis_el12476904185366583294620\", ldavis_el12476904185366583294620_data);\n",
       "      });\n",
       "    });\n",
       "}else{\n",
       "    // require.js not available: dynamically load d3 & LDAvis\n",
       "    LDAvis_load_lib(\"https://cdnjs.cloudflare.com/ajax/libs/d3/3.5.5/d3.min.js\", function(){\n",
       "         LDAvis_load_lib(\"https://cdn.rawgit.com/bmabey/pyLDAvis/files/ldavis.v1.0.0.js\", function(){\n",
       "                 new LDAvis(\"#\" + \"ldavis_el12476904185366583294620\", ldavis_el12476904185366583294620_data);\n",
       "            })\n",
       "         });\n",
       "}\n",
       "</script>"
      ],
      "text/plain": [
       "<IPython.core.display.HTML object>"
      ]
     },
     "execution_count": 72,
     "metadata": {},
     "output_type": "execute_result"
    }
   ],
   "source": [
    "lda_display = pyLDAvis.gensim.prepare(ldamodel, doc_term_matrix, dictionary, sort_topics=False, mds='mmds')\n",
    "pyLDAvis.display(lda_display)"
   ]
  },
  {
   "cell_type": "markdown",
   "metadata": {
    "collapsed": true
   },
   "source": [
    "### Applying LDA to tweets"
   ]
  },
  {
   "cell_type": "code",
   "execution_count": 121,
   "metadata": {},
   "outputs": [
    {
     "data": {
      "text/plain": [
       "['@Rachel_31297 wheres the Jeep Wrangler option',\n",
       " 'Check this out: 2016 JEEP PATRIOT LATITUDE 4X4  8500 MIAMIDADE 8500.00 USD https:t.coakPkANPpEn ads https:t.coL2WaZBsUTf',\n",
       " 'RT @Jeep: The Grand Cherokee Trackhawk is officially in production. Keep your eyes peeled for one in the wild. https:t.cobbiPfPXXax',\n",
       " 'RT @Jeep: Power stance. https:t.cokl0oC8Xvof',\n",
       " '@THEJeepMafia @Jeep Thanks, 28 but Chaos and Bear were awesome feet warmers  https:t.conNIoaRVXlW']"
      ]
     },
     "execution_count": 121,
     "metadata": {},
     "output_type": "execute_result"
    }
   ],
   "source": [
    "tweets_list = tweets_eng['text_clean'].tolist()\n",
    "tweets_list[:5]"
   ]
  },
  {
   "cell_type": "code",
   "execution_count": 122,
   "metadata": {},
   "outputs": [],
   "source": [
    "stop = set(stopwords.words('english'))\n",
    "exclude = set(string.punctuation)\n",
    "lemma = WordNetLemmatizer()\n",
    "def clean(doc):\n",
    "    stop_free = \" \".join([i for i in doc.lower().split() if i not in stop])\n",
    "    punc_free = ''.join(ch for ch in stop_free if ch not in exclude)\n",
    "    normalized = \" \".join(lemma.lemmatize(word) for word in punc_free.split())\n",
    "    return normalized\n",
    "\n",
    "tweet_clean = [clean(doc).split() for doc in tweets_list]"
   ]
  },
  {
   "cell_type": "code",
   "execution_count": 123,
   "metadata": {},
   "outputs": [
    {
     "name": "stdout",
     "output_type": "stream",
     "text": [
      "['rachel31297', 'wheres', 'jeep', 'wrangler', 'option']\n",
      "\n",
      "['check', 'out', '2016', 'jeep', 'patriot', 'latitude', '4x4', '8500', 'miamidade', '850000', 'usd', 'httpstcoakpkanppen', 'ad', 'httpstcol2wazbsutf']\n",
      "\n",
      "['rt', 'jeep', 'grand', 'cherokee', 'trackhawk', 'officially', 'production', 'keep', 'eye', 'peeled', 'one', 'wild', 'httpstcobbipfpxxax']\n"
     ]
    }
   ],
   "source": [
    "print(*tweet_clean[:3], sep='\\n\\n')"
   ]
  },
  {
   "cell_type": "code",
   "execution_count": 124,
   "metadata": {},
   "outputs": [
    {
     "name": "stdout",
     "output_type": "stream",
     "text": [
      "Wall time: 527 ms\n"
     ]
    }
   ],
   "source": [
    "# Creating the term dictionary of our corpus, where every unique term is assigned an index. \n",
    "\n",
    "dictionary = corpora.Dictionary(tweet_clean)\n",
    "\n",
    "# Converting list of documents (corpus) into Document Term Matrix using dictionary prepared above.\n",
    "\n",
    "%time doc_term_matrix = [dictionary.doc2bow(doc) for doc in tweet_clean]"
   ]
  },
  {
   "cell_type": "code",
   "execution_count": 125,
   "metadata": {},
   "outputs": [
    {
     "name": "stdout",
     "output_type": "stream",
     "text": [
      "Wall time: 13min 36s\n"
     ]
    }
   ],
   "source": [
    "#Using traditional LDA\n",
    "%time ldamodel = Lda(doc_term_matrix, num_topics=10, id2word = dictionary, passes=50)"
   ]
  },
  {
   "cell_type": "code",
   "execution_count": 126,
   "metadata": {},
   "outputs": [
    {
     "name": "stdout",
     "output_type": "stream",
     "text": [
      "Wall time: 8min 9s\n"
     ]
    }
   ],
   "source": [
    "#Using multicore LDA\n",
    "%time ldamodel = LdaMulticore(doc_term_matrix, num_topics=10, id2word = dictionary, passes=50)"
   ]
  },
  {
   "cell_type": "code",
   "execution_count": 127,
   "metadata": {},
   "outputs": [
    {
     "name": "stdout",
     "output_type": "stream",
     "text": [
      "(0, '0.111*\"jeep\" + 0.073*\"wrangler\" + 0.022*\"unlimited\"')\n",
      "(1, '0.121*\"jeep\" + 0.106*\"rt\" + 0.016*\"luxbucketlist\"')\n",
      "(2, '0.067*\"jeep\" + 0.038*\"rt\" + 0.017*\"compass\"')\n",
      "(3, '0.098*\"jeep\" + 0.012*\"im\" + 0.011*\"rt\"')\n",
      "(4, '0.085*\"jeep\" + 0.032*\"used\" + 0.026*\"rt\"')\n",
      "(5, '0.063*\"jeep\" + 0.020*\"via\" + 0.019*\"check\"')\n",
      "(6, '0.107*\"giveaway\" + 0.059*\"jeep\" + 0.059*\"girl\"')\n",
      "(7, '0.086*\"jeep\" + 0.044*\"rt\" + 0.022*\"jeepporn\"')\n",
      "(8, '0.101*\"jeep\" + 0.062*\"cherokee\" + 0.046*\"grand\"')\n",
      "(9, '0.078*\"jeep\" + 0.027*\"rt\" + 0.013*\"wrangler\"')\n"
     ]
    }
   ],
   "source": [
    "print(*ldamodel.print_topics(num_topics=10, num_words=3), sep='\\n')"
   ]
  },
  {
   "cell_type": "code",
   "execution_count": 128,
   "metadata": {},
   "outputs": [
    {
     "name": "stdout",
     "output_type": "stream",
     "text": [
      "(0, '0.111*\"jeep\" + 0.073*\"wrangler\" + 0.022*\"unlimited\"')\n",
      "(1, '0.121*\"jeep\" + 0.106*\"rt\" + 0.016*\"luxbucketlist\"')\n",
      "(2, '0.067*\"jeep\" + 0.038*\"rt\" + 0.017*\"compass\"')\n",
      "(3, '0.098*\"jeep\" + 0.012*\"im\" + 0.011*\"rt\"')\n",
      "(4, '0.085*\"jeep\" + 0.032*\"used\" + 0.026*\"rt\"')\n",
      "(5, '0.063*\"jeep\" + 0.020*\"via\" + 0.019*\"check\"')\n",
      "(6, '0.107*\"giveaway\" + 0.059*\"jeep\" + 0.059*\"girl\"')\n",
      "(7, '0.086*\"jeep\" + 0.044*\"rt\" + 0.022*\"jeepporn\"')\n",
      "(8, '0.101*\"jeep\" + 0.062*\"cherokee\" + 0.046*\"grand\"')\n",
      "(9, '0.078*\"jeep\" + 0.027*\"rt\" + 0.013*\"wrangler\"')\n"
     ]
    }
   ],
   "source": [
    "print(*ldamodel.print_topics(num_topics=10, num_words=3), sep='\\n')"
   ]
  },
  {
   "cell_type": "code",
   "execution_count": 129,
   "metadata": {},
   "outputs": [
    {
     "name": "stdout",
     "output_type": "stream",
     "text": [
      "(0, '0.111*\"jeep\" + 0.073*\"wrangler\" + 0.022*\"unlimited\" + 0.022*\"sport\" + 0.018*\"rt\"')\n",
      "\n",
      "(1, '0.121*\"jeep\" + 0.106*\"rt\" + 0.016*\"luxbucketlist\" + 0.015*\"jeeplife\" + 0.013*\"need\"')\n",
      "\n",
      "(2, '0.067*\"jeep\" + 0.038*\"rt\" + 0.017*\"compass\" + 0.013*\"amp\" + 0.010*\"world\"')\n",
      "\n",
      "(3, '0.098*\"jeep\" + 0.012*\"im\" + 0.011*\"rt\" + 0.011*\"like\" + 0.010*\"get\"')\n",
      "\n",
      "(4, '0.085*\"jeep\" + 0.032*\"used\" + 0.026*\"rt\" + 0.026*\"photo\" + 0.025*\"spotted\"')\n",
      "\n",
      "(5, '0.063*\"jeep\" + 0.020*\"via\" + 0.019*\"check\" + 0.019*\"ebay\" + 0.017*\"wrangler\"')\n",
      "\n",
      "(6, '0.107*\"giveaway\" + 0.059*\"jeep\" + 0.059*\"girl\" + 0.057*\"win\" + 0.055*\"small\"')\n",
      "\n",
      "(7, '0.086*\"jeep\" + 0.044*\"rt\" + 0.022*\"jeepporn\" + 0.016*\"beep\" + 0.012*\"make\"')\n",
      "\n",
      "(8, '0.101*\"jeep\" + 0.062*\"cherokee\" + 0.046*\"grand\" + 0.018*\"2017\" + 0.013*\"wrangler\"')\n",
      "\n",
      "(9, '0.078*\"jeep\" + 0.027*\"rt\" + 0.013*\"wrangler\" + 0.011*\"mile\" + 0.010*\"stuck\"')\n"
     ]
    }
   ],
   "source": [
    "print(*ldamodel.print_topics(num_topics=10, num_words=5), sep='\\n\\n')"
   ]
  },
  {
   "cell_type": "code",
   "execution_count": 130,
   "metadata": {},
   "outputs": [
    {
     "name": "stdout",
     "output_type": "stream",
     "text": [
      "(0, '0.111*\"jeep\" + 0.073*\"wrangler\" + 0.022*\"unlimited\" + 0.022*\"sport\" + 0.018*\"rt\" + 0.013*\"ebay\" + 0.013*\"rubicon\"')\n",
      "\n",
      "(1, '0.121*\"jeep\" + 0.106*\"rt\" + 0.016*\"luxbucketlist\" + 0.015*\"jeeplife\" + 0.013*\"need\" + 0.009*\"matte\" + 0.009*\"httpstcoyipkreck1n\"')\n",
      "\n",
      "(2, '0.067*\"jeep\" + 0.038*\"rt\" + 0.017*\"compass\" + 0.013*\"amp\" + 0.010*\"world\" + 0.008*\"new\" + 0.008*\"around\"')\n",
      "\n",
      "(3, '0.098*\"jeep\" + 0.012*\"im\" + 0.011*\"rt\" + 0.011*\"like\" + 0.010*\"get\" + 0.008*\"want\" + 0.008*\"car\"')\n",
      "\n",
      "(4, '0.085*\"jeep\" + 0.032*\"used\" + 0.026*\"rt\" + 0.026*\"photo\" + 0.025*\"spotted\" + 0.025*\"stick\" + 0.024*\"bamboo\"')\n",
      "\n",
      "(5, '0.063*\"jeep\" + 0.020*\"via\" + 0.019*\"check\" + 0.019*\"ebay\" + 0.017*\"wrangler\" + 0.015*\"decal\" + 0.013*\"oracal\"')\n",
      "\n",
      "(6, '0.107*\"giveaway\" + 0.059*\"jeep\" + 0.059*\"girl\" + 0.057*\"win\" + 0.055*\"small\" + 0.055*\"body\" + 0.054*\"chance\"')\n",
      "\n",
      "(7, '0.086*\"jeep\" + 0.044*\"rt\" + 0.022*\"jeepporn\" + 0.016*\"beep\" + 0.012*\"make\" + 0.011*\"looking\" + 0.010*\"mean\"')\n",
      "\n",
      "(8, '0.101*\"jeep\" + 0.062*\"cherokee\" + 0.046*\"grand\" + 0.018*\"2017\" + 0.013*\"wrangler\" + 0.013*\"new\" + 0.012*\"youtube\"')\n",
      "\n",
      "(9, '0.078*\"jeep\" + 0.027*\"rt\" + 0.013*\"wrangler\" + 0.011*\"mile\" + 0.010*\"stuck\" + 0.010*\"50\" + 0.010*\"cat\"')\n"
     ]
    }
   ],
   "source": [
    "print(*ldamodel.print_topics(num_topics=10, num_words=7), sep='\\n\\n')"
   ]
  },
  {
   "cell_type": "code",
   "execution_count": 131,
   "metadata": {},
   "outputs": [
    {
     "name": "stdout",
     "output_type": "stream",
     "text": [
      "(0, '0.111*\"jeep\" + 0.073*\"wrangler\" + 0.022*\"unlimited\" + 0.022*\"sport\" + 0.018*\"rt\" + 0.013*\"ebay\" + 0.013*\"rubicon\" + 0.010*\"2016\" + 0.007*\"4x4\" + 0.007*\"mile\"')\n",
      "\n",
      "(1, '0.121*\"jeep\" + 0.106*\"rt\" + 0.016*\"luxbucketlist\" + 0.015*\"jeeplife\" + 0.013*\"need\" + 0.009*\"matte\" + 0.009*\"httpstcoyipkreck1n\" + 0.009*\"better\" + 0.008*\"life\" + 0.008*\"black\"')\n",
      "\n",
      "(2, '0.067*\"jeep\" + 0.038*\"rt\" + 0.017*\"compass\" + 0.013*\"amp\" + 0.010*\"world\" + 0.008*\"new\" + 0.008*\"around\" + 0.008*\"makeinindia\" + 0.006*\"internationally\" + 0.006*\"madeinindia\"')\n",
      "\n",
      "(3, '0.098*\"jeep\" + 0.012*\"im\" + 0.011*\"rt\" + 0.011*\"like\" + 0.010*\"get\" + 0.008*\"want\" + 0.008*\"car\" + 0.007*\"got\" + 0.007*\"love\" + 0.007*\"back\"')\n",
      "\n",
      "(4, '0.085*\"jeep\" + 0.032*\"used\" + 0.026*\"rt\" + 0.026*\"photo\" + 0.025*\"spotted\" + 0.025*\"stick\" + 0.024*\"bamboo\" + 0.024*\"nigeria\" + 0.024*\"hummer\" + 0.024*\"convey\"')\n",
      "\n",
      "(5, '0.063*\"jeep\" + 0.020*\"via\" + 0.019*\"check\" + 0.019*\"ebay\" + 0.017*\"wrangler\" + 0.015*\"decal\" + 0.013*\"oracal\" + 0.012*\"graphic\" + 0.012*\"side\" + 0.011*\"cherokee\"')\n",
      "\n",
      "(6, '0.107*\"giveaway\" + 0.059*\"jeep\" + 0.059*\"girl\" + 0.057*\"win\" + 0.055*\"small\" + 0.055*\"body\" + 0.054*\"chance\" + 0.054*\"cross\" + 0.054*\"sun\" + 0.054*\"entered\"')\n",
      "\n",
      "(7, '0.086*\"jeep\" + 0.044*\"rt\" + 0.022*\"jeepporn\" + 0.016*\"beep\" + 0.012*\"make\" + 0.011*\"looking\" + 0.010*\"mean\" + 0.008*\"sexy\" + 0.008*\"combo\" + 0.007*\"day\"')\n",
      "\n",
      "(8, '0.101*\"jeep\" + 0.062*\"cherokee\" + 0.046*\"grand\" + 0.018*\"2017\" + 0.013*\"wrangler\" + 0.013*\"new\" + 0.012*\"youtube\" + 0.012*\"video\" + 0.011*\"ebay\" + 0.011*\"2018\"')\n",
      "\n",
      "(9, '0.078*\"jeep\" + 0.027*\"rt\" + 0.013*\"wrangler\" + 0.011*\"mile\" + 0.010*\"stuck\" + 0.010*\"50\" + 0.010*\"cat\" + 0.009*\"mailonline\" + 0.009*\"httpstcon65v0hjtbd\" + 0.009*\"thejeepmafia\"')\n"
     ]
    }
   ],
   "source": [
    "print(*ldamodel.print_topics(num_topics=10, num_words=10), sep='\\n\\n')"
   ]
  },
  {
   "cell_type": "code",
   "execution_count": 132,
   "metadata": {},
   "outputs": [
    {
     "data": {
      "text/html": [
       "\n",
       "<link rel=\"stylesheet\" type=\"text/css\" href=\"https://cdn.rawgit.com/bmabey/pyLDAvis/files/ldavis.v1.0.0.css\">\n",
       "\n",
       "\n",
       "<div id=\"ldavis_el100606373012889821143871\"></div>\n",
       "<script type=\"text/javascript\">\n",
       "\n",
       "var ldavis_el100606373012889821143871_data = {\"mdsDat\": {\"x\": [0.08394962843838752, 0.06144894311635855, 0.02033683633091476, 0.05572342434986216, -0.005538571701010077, 0.032842488407998756, -0.4046242145468699, 0.021045555835073157, 0.08677583658283794, 0.048040073186446576], \"y\": [0.17326474027919894, -0.07368535040890789, -0.13868524749474231, -0.15867984795915793, -0.032160753859529045, 0.0976027865635539, 0.042712815473080215, -0.11303651171976323, 0.2113482906054644, -0.008680921479197128], \"topics\": [1, 2, 3, 4, 5, 6, 7, 8, 9, 10], \"cluster\": [1, 1, 1, 1, 1, 1, 1, 1, 1, 1], \"Freq\": [10.98580551147461, 11.464845657348633, 8.50251293182373, 15.45293140411377, 7.98210334777832, 7.527919292449951, 11.395332336425781, 6.8511962890625, 12.489350318908691, 7.348001956939697]}, \"tinfo\": {\"Category\": [\"Default\", \"Default\", \"Default\", \"Default\", \"Default\", \"Default\", \"Default\", \"Default\", \"Default\", \"Default\", \"Default\", \"Default\", \"Default\", \"Default\", \"Default\", \"Default\", \"Default\", \"Default\", \"Default\", \"Default\", \"Default\", \"Default\", \"Default\", \"Default\", \"Default\", \"Default\", \"Default\", \"Default\", \"Default\", \"Default\", \"Topic1\", \"Topic1\", \"Topic1\", \"Topic1\", \"Topic1\", \"Topic1\", \"Topic1\", \"Topic1\", \"Topic1\", \"Topic1\", \"Topic1\", \"Topic1\", \"Topic1\", \"Topic1\", \"Topic1\", \"Topic1\", \"Topic1\", \"Topic1\", \"Topic1\", \"Topic1\", \"Topic1\", \"Topic1\", \"Topic1\", \"Topic1\", \"Topic1\", \"Topic1\", \"Topic1\", \"Topic1\", \"Topic1\", \"Topic1\", \"Topic1\", \"Topic1\", \"Topic1\", \"Topic1\", \"Topic1\", \"Topic1\", \"Topic1\", \"Topic1\", \"Topic1\", \"Topic1\", \"Topic1\", \"Topic1\", \"Topic1\", \"Topic1\", \"Topic1\", \"Topic1\", \"Topic1\", \"Topic1\", \"Topic1\", \"Topic1\", \"Topic1\", \"Topic1\", \"Topic1\", \"Topic1\", \"Topic1\", \"Topic1\", \"Topic1\", \"Topic1\", \"Topic1\", \"Topic1\", \"Topic1\", \"Topic1\", \"Topic1\", \"Topic2\", \"Topic2\", \"Topic2\", \"Topic2\", \"Topic2\", \"Topic2\", \"Topic2\", \"Topic2\", \"Topic2\", \"Topic2\", \"Topic2\", \"Topic2\", \"Topic2\", \"Topic2\", \"Topic2\", \"Topic2\", \"Topic2\", \"Topic2\", \"Topic2\", \"Topic2\", \"Topic2\", \"Topic2\", \"Topic2\", \"Topic2\", \"Topic2\", \"Topic2\", \"Topic2\", \"Topic2\", \"Topic2\", \"Topic2\", \"Topic2\", \"Topic2\", \"Topic2\", \"Topic2\", \"Topic2\", \"Topic2\", \"Topic2\", \"Topic2\", \"Topic2\", \"Topic2\", \"Topic2\", \"Topic2\", \"Topic2\", \"Topic2\", \"Topic2\", \"Topic2\", \"Topic2\", \"Topic2\", \"Topic2\", \"Topic2\", \"Topic3\", \"Topic3\", \"Topic3\", \"Topic3\", \"Topic3\", \"Topic3\", \"Topic3\", \"Topic3\", \"Topic3\", \"Topic3\", \"Topic3\", \"Topic3\", \"Topic3\", \"Topic3\", \"Topic3\", \"Topic3\", \"Topic3\", \"Topic3\", \"Topic3\", \"Topic3\", \"Topic3\", \"Topic3\", \"Topic3\", \"Topic3\", \"Topic3\", \"Topic3\", \"Topic3\", \"Topic3\", \"Topic3\", \"Topic3\", \"Topic3\", \"Topic3\", \"Topic3\", \"Topic3\", \"Topic3\", \"Topic3\", \"Topic3\", \"Topic3\", \"Topic3\", \"Topic3\", \"Topic3\", \"Topic3\", \"Topic3\", \"Topic3\", \"Topic3\", \"Topic3\", \"Topic3\", \"Topic3\", \"Topic3\", \"Topic4\", \"Topic4\", \"Topic4\", \"Topic4\", \"Topic4\", \"Topic4\", \"Topic4\", \"Topic4\", \"Topic4\", \"Topic4\", \"Topic4\", \"Topic4\", \"Topic4\", \"Topic4\", \"Topic4\", \"Topic4\", \"Topic4\", \"Topic4\", \"Topic4\", \"Topic4\", \"Topic4\", \"Topic4\", \"Topic4\", \"Topic4\", \"Topic4\", \"Topic4\", \"Topic4\", \"Topic4\", \"Topic4\", \"Topic4\", \"Topic4\", \"Topic4\", \"Topic4\", \"Topic4\", \"Topic4\", \"Topic4\", \"Topic4\", \"Topic4\", \"Topic4\", \"Topic4\", \"Topic4\", \"Topic4\", \"Topic4\", \"Topic4\", \"Topic4\", \"Topic4\", \"Topic4\", \"Topic4\", \"Topic4\", \"Topic4\", \"Topic4\", \"Topic4\", \"Topic4\", \"Topic4\", \"Topic4\", \"Topic4\", \"Topic4\", \"Topic4\", \"Topic4\", \"Topic4\", \"Topic4\", \"Topic4\", \"Topic4\", \"Topic4\", \"Topic4\", \"Topic4\", \"Topic4\", \"Topic4\", \"Topic5\", \"Topic5\", \"Topic5\", \"Topic5\", \"Topic5\", \"Topic5\", \"Topic5\", \"Topic5\", \"Topic5\", \"Topic5\", \"Topic5\", \"Topic5\", \"Topic5\", \"Topic5\", \"Topic5\", \"Topic5\", \"Topic5\", \"Topic5\", \"Topic5\", \"Topic5\", \"Topic5\", \"Topic5\", \"Topic5\", \"Topic5\", \"Topic5\", \"Topic5\", \"Topic5\", \"Topic5\", \"Topic5\", \"Topic5\", \"Topic5\", \"Topic5\", \"Topic5\", \"Topic5\", \"Topic5\", \"Topic5\", \"Topic5\", \"Topic5\", \"Topic5\", \"Topic5\", \"Topic5\", \"Topic5\", \"Topic5\", \"Topic5\", \"Topic5\", \"Topic5\", \"Topic5\", \"Topic5\", \"Topic5\", \"Topic6\", \"Topic6\", \"Topic6\", \"Topic6\", \"Topic6\", \"Topic6\", \"Topic6\", \"Topic6\", \"Topic6\", \"Topic6\", \"Topic6\", \"Topic6\", \"Topic6\", \"Topic6\", \"Topic6\", \"Topic6\", \"Topic6\", \"Topic6\", \"Topic6\", \"Topic6\", \"Topic6\", \"Topic6\", \"Topic6\", \"Topic6\", \"Topic6\", \"Topic6\", \"Topic6\", \"Topic6\", \"Topic6\", \"Topic6\", \"Topic6\", \"Topic6\", \"Topic6\", \"Topic6\", \"Topic6\", \"Topic6\", \"Topic6\", \"Topic6\", \"Topic6\", \"Topic6\", \"Topic6\", \"Topic6\", \"Topic6\", \"Topic6\", \"Topic6\", \"Topic6\", \"Topic6\", \"Topic6\", \"Topic6\", \"Topic6\", \"Topic6\", \"Topic7\", \"Topic7\", \"Topic7\", \"Topic7\", \"Topic7\", \"Topic7\", \"Topic7\", \"Topic7\", \"Topic7\", \"Topic7\", \"Topic7\", \"Topic7\", \"Topic7\", \"Topic7\", \"Topic7\", \"Topic7\", \"Topic7\", \"Topic7\", \"Topic7\", \"Topic7\", \"Topic7\", \"Topic7\", \"Topic7\", \"Topic7\", \"Topic7\", \"Topic7\", \"Topic7\", \"Topic7\", \"Topic7\", \"Topic7\", \"Topic7\", \"Topic7\", \"Topic7\", \"Topic7\", \"Topic7\", \"Topic7\", \"Topic8\", \"Topic8\", \"Topic8\", \"Topic8\", \"Topic8\", \"Topic8\", \"Topic8\", \"Topic8\", \"Topic8\", \"Topic8\", \"Topic8\", \"Topic8\", \"Topic8\", \"Topic8\", \"Topic8\", \"Topic8\", \"Topic8\", \"Topic8\", \"Topic8\", \"Topic8\", \"Topic8\", \"Topic8\", \"Topic8\", \"Topic8\", \"Topic8\", \"Topic8\", \"Topic8\", \"Topic8\", \"Topic8\", \"Topic8\", \"Topic8\", \"Topic8\", \"Topic8\", \"Topic8\", \"Topic8\", \"Topic8\", \"Topic8\", \"Topic8\", \"Topic8\", \"Topic8\", \"Topic8\", \"Topic8\", \"Topic8\", \"Topic8\", \"Topic8\", \"Topic8\", \"Topic8\", \"Topic8\", \"Topic9\", \"Topic9\", \"Topic9\", \"Topic9\", \"Topic9\", \"Topic9\", \"Topic9\", \"Topic9\", \"Topic9\", \"Topic9\", \"Topic9\", \"Topic9\", \"Topic9\", \"Topic9\", \"Topic9\", \"Topic9\", \"Topic9\", \"Topic9\", \"Topic9\", \"Topic9\", \"Topic9\", \"Topic9\", \"Topic9\", \"Topic9\", \"Topic9\", \"Topic9\", \"Topic9\", \"Topic9\", \"Topic9\", \"Topic9\", \"Topic9\", \"Topic9\", \"Topic9\", \"Topic9\", \"Topic9\", \"Topic9\", \"Topic9\", \"Topic9\", \"Topic9\", \"Topic9\", \"Topic9\", \"Topic9\", \"Topic9\", \"Topic9\", \"Topic9\", \"Topic9\", \"Topic9\", \"Topic9\", \"Topic9\", \"Topic9\", \"Topic9\", \"Topic9\", \"Topic9\", \"Topic9\", \"Topic9\", \"Topic9\", \"Topic9\", \"Topic9\", \"Topic9\", \"Topic9\", \"Topic9\", \"Topic10\", \"Topic10\", \"Topic10\", \"Topic10\", \"Topic10\", \"Topic10\", \"Topic10\", \"Topic10\", \"Topic10\", \"Topic10\", \"Topic10\", \"Topic10\", \"Topic10\", \"Topic10\", \"Topic10\", \"Topic10\", \"Topic10\", \"Topic10\", \"Topic10\", \"Topic10\", \"Topic10\", \"Topic10\", \"Topic10\", \"Topic10\", \"Topic10\", \"Topic10\", \"Topic10\", \"Topic10\", \"Topic10\", \"Topic10\", \"Topic10\", \"Topic10\", \"Topic10\", \"Topic10\", \"Topic10\", \"Topic10\", \"Topic10\", \"Topic10\", \"Topic10\", \"Topic10\", \"Topic10\", \"Topic10\", \"Topic10\", \"Topic10\", \"Topic10\", \"Topic10\", \"Topic10\", \"Topic10\", \"Topic10\", \"Topic10\", \"Topic10\", \"Topic10\", \"Topic10\", \"Topic10\", \"Topic10\"], \"Freq\": [5201.0, 3702.0, 2945.0, 2686.0, 11980.0, 2680.0, 2651.0, 2642.0, 2639.0, 2900.0, 2614.0, 2608.0, 2595.0, 5455.0, 2447.0, 2444.0, 1192.0, 1455.0, 1043.0, 1810.0, 864.0, 853.0, 1506.0, 837.0, 833.0, 826.0, 824.0, 988.0, 765.0, 1247.0, 1042.2957763671875, 239.98147583007812, 159.51210021972656, 154.86514282226562, 117.14149475097656, 110.28076171875, 103.39173889160156, 98.02851104736328, 94.51644134521484, 87.55247497558594, 82.33625793457031, 75.89098358154297, 75.64288330078125, 75.07379913330078, 75.07379913330078, 71.4598159790039, 65.71987915039062, 64.58732604980469, 63.825233459472656, 62.52137756347656, 60.09725570678711, 59.919029235839844, 59.28913116455078, 49.5526123046875, 48.790130615234375, 47.8966064453125, 47.451690673828125, 42.46642303466797, 42.2703742980957, 42.018394470214844, 190.89633178710938, 81.61846160888672, 213.77825927734375, 305.69091796875, 234.93313598632812, 3413.156005859375, 174.11114501953125, 1013.6220703125, 460.2991943359375, 607.8618774414062, 206.80792236328125, 295.6885986328125, 224.6665802001953, 215.4114227294922, 150.2305145263672, 247.17677307128906, 217.71681213378906, 5230.62744140625, 157.60977172851562, 152.25152587890625, 611.7819213867188, 265.4523010253906, 249.7100372314453, 286.9355773925781, 340.41522216796875, 336.1005554199219, 305.0738830566406, 832.495361328125, 319.8529052734375, 239.778564453125, 220.58404541015625, 189.2223358154297, 210.96218872070312, 787.8558959960938, 434.5052185058594, 420.4230041503906, 353.6036682128906, 352.6570129394531, 330.4404296875, 312.6168212890625, 302.0889892578125, 245.74586486816406, 234.87442016601562, 205.830810546875, 188.83152770996094, 176.20828247070312, 164.29661560058594, 154.34446716308594, 153.27301025390625, 152.1254119873047, 149.83877563476562, 148.39344787597656, 144.95668029785156, 144.06741333007812, 143.92486572265625, 143.51573181152344, 130.71717834472656, 122.43140411376953, 117.66886901855469, 109.26555633544922, 101.30926513671875, 95.62476348876953, 95.47209930419922, 318.794189453125, 662.2562866210938, 279.5713806152344, 5222.1787109375, 435.61346435546875, 392.2791748046875, 404.2572937011719, 304.15020751953125, 728.923095703125, 5943.4306640625, 321.20843505859375, 277.3578186035156, 401.53759765625, 335.774658203125, 243.2632293701172, 235.79473876953125, 243.98573303222656, 255.8498077392578, 207.36614990234375, 211.72300720214844, 355.9502868652344, 273.51611328125, 216.2713623046875, 202.91847229003906, 188.767333984375, 162.45199584960938, 142.98291015625, 135.13201904296875, 133.46710205078125, 126.24742126464844, 125.08224487304688, 124.5781021118164, 123.9698486328125, 120.18921661376953, 113.59587097167969, 107.2756576538086, 93.31010437011719, 90.53305053710938, 79.69395446777344, 77.4813232421875, 74.8472900390625, 71.64324951171875, 69.54657745361328, 68.37629699707031, 65.54821014404297, 64.34402465820312, 64.34402465820312, 62.90216827392578, 58.90669250488281, 58.420066833496094, 156.24729919433594, 280.0511169433594, 136.91273498535156, 122.59071350097656, 606.0396728515625, 455.1992492675781, 96.0536880493164, 123.45568084716797, 168.516845703125, 164.13882446289062, 1397.2041015625, 2445.864501953125, 173.58775329589844, 304.6230163574219, 139.58612060546875, 176.1586456298828, 129.7752685546875, 139.5839080810547, 126.78401184082031, 368.990478515625, 278.3817443847656, 257.18756103515625, 243.5921173095703, 232.05320739746094, 165.9602813720703, 158.9712677001953, 153.14556884765625, 142.57798767089844, 138.35617065429688, 128.56520080566406, 124.45857238769531, 123.29600524902344, 120.08186340332031, 96.60618591308594, 94.43286895751953, 93.57355499267578, 93.34860229492188, 90.19159698486328, 89.6962661743164, 88.43745422363281, 82.59652709960938, 81.17510223388672, 79.7033462524414, 78.25747680664062, 77.8855209350586, 77.42396545410156, 75.26278686523438, 74.3032455444336, 72.24840545654297, 241.27157592773438, 247.58529663085938, 160.2223358154297, 801.1563720703125, 171.73779296875, 162.1300811767578, 446.78466796875, 389.7460021972656, 719.5465087890625, 215.52276611328125, 177.71115112304688, 193.5008087158203, 448.2342224121094, 170.58958435058594, 162.376220703125, 129.82814025878906, 451.0361328125, 553.5562744140625, 303.6268615722656, 378.6180419921875, 352.28582763671875, 654.1969604492188, 257.4582824707031, 6450.05126953125, 358.2650146484375, 251.47035217285156, 391.1294250488281, 541.6367797851562, 373.27044677734375, 374.1165771484375, 278.49700927734375, 256.0633239746094, 322.8837585449219, 265.3361511230469, 733.8964233398438, 251.2108917236328, 255.7709197998047, 254.30599975585938, 863.4251098632812, 853.03125, 836.3831787109375, 832.9817504882812, 825.72119140625, 823.7911376953125, 226.0895233154297, 186.5672607421875, 163.66989135742188, 157.1346893310547, 154.71348571777344, 152.56748962402344, 141.41094970703125, 98.51111602783203, 96.25231170654297, 83.98950958251953, 77.9640884399414, 74.74249267578125, 73.3410415649414, 68.695068359375, 66.95728302001953, 66.95728302001953, 66.26558685302734, 66.26558685302734, 65.1295166015625, 62.31553268432617, 59.81939697265625, 59.81939697265625, 58.50148010253906, 56.12348175048828, 1098.3114013671875, 195.09405517578125, 157.494140625, 228.01953125, 886.2576293945312, 211.08799743652344, 225.75454711914062, 109.69120025634766, 356.7356262207031, 73.37084197998047, 2917.680908203125, 82.4339370727539, 247.89547729492188, 904.7883911132812, 135.19415283203125, 185.9929962158203, 150.1268768310547, 151.65870666503906, 101.3912353515625, 487.36651611328125, 425.7652893066406, 397.7765808105469, 383.87457275390625, 339.506591796875, 299.2768249511719, 288.58843994140625, 280.40716552734375, 260.3224182128906, 245.80474853515625, 190.66439819335938, 146.81301879882812, 126.7508316040039, 102.1465072631836, 101.7151870727539, 98.63510131835938, 96.32467651367188, 88.18265533447266, 86.61087036132812, 85.01612854003906, 85.01612854003906, 75.78107452392578, 70.13314056396484, 60.0478401184082, 55.6259880065918, 51.24937438964844, 48.35456848144531, 44.92355728149414, 40.501094818115234, 39.85740661621094, 256.5584716796875, 153.6422119140625, 659.0894775390625, 617.5746459960938, 220.42160034179688, 222.85128784179688, 605.9000244140625, 129.24859619140625, 103.95429992675781, 2044.8394775390625, 262.170654296875, 116.30514526367188, 543.0671997070312, 223.34292602539062, 298.9820251464844, 156.2425994873047, 362.125, 150.84750366210938, 351.8589172363281, 179.25885009765625, 136.54368591308594, 5200.875, 2685.369873046875, 2679.55126953125, 2650.21142578125, 2641.994873046875, 2638.31298828125, 2613.682373046875, 2607.74853515625, 2594.226318359375, 2446.561767578125, 194.2376708984375, 178.14620971679688, 164.96006774902344, 163.36134338378906, 155.25076293945312, 120.71118927001953, 48.10118865966797, 43.35570526123047, 42.93607711791992, 41.72459411621094, 41.28153610229492, 40.472652435302734, 39.28639221191406, 39.28639221191406, 39.28639221191406, 38.100128173828125, 29.36772918701172, 2857.476806640625, 21.30594825744629, 21.004253387451172, 2773.048583984375, 178.08982849121094, 169.60772705078125, 2895.858154296875, 43.05194091796875, 42.60139083862305, 468.5907897949219, 287.685302734375, 245.07192993164062, 190.2589569091797, 185.2696990966797, 137.39512634277344, 121.19720458984375, 113.7650375366211, 113.7650375366211, 112.07040405273438, 111.2929916381836, 100.03648376464844, 99.45213317871094, 78.0262680053711, 68.21710205078125, 65.81983947753906, 65.09644317626953, 63.77186965942383, 63.7512321472168, 63.06959915161133, 51.0692024230957, 48.280906677246094, 47.36868667602539, 46.792911529541016, 46.792911529541016, 45.604400634765625, 39.95965576171875, 39.71365737915039, 39.28512954711914, 38.62199401855469, 236.36300659179688, 633.7666625976562, 333.3796081542969, 365.6675720214844, 175.92138671875, 76.11030578613281, 97.90174102783203, 210.4623565673828, 101.51334381103516, 1282.7646484375, 2535.1552734375, 152.4908447265625, 154.8530731201172, 96.70917510986328, 104.80223846435547, 153.11891174316406, 90.43579864501953, 94.9415283203125, 2443.635986328125, 645.7904052734375, 261.7806091308594, 245.08140563964844, 231.32537841796875, 219.69381713867188, 219.69381713867188, 209.96681213378906, 202.54579162597656, 187.6932830810547, 186.45407104492188, 174.15162658691406, 168.37506103515625, 149.96278381347656, 139.03880310058594, 130.2689208984375, 82.9188232421875, 79.73683166503906, 70.69894409179688, 68.63648223876953, 64.73008728027344, 63.995338439941406, 62.264259338378906, 60.84124755859375, 60.41058349609375, 60.1489372253418, 56.48912811279297, 56.46279525756836, 56.10612106323242, 55.66935729980469, 3339.43896484375, 405.94378662109375, 184.8500518798828, 286.3382568359375, 631.44140625, 952.36181640625, 507.2275695800781, 219.80084228515625, 211.406005859375, 520.1373901367188, 146.22991943359375, 587.8814086914062, 268.0905456542969, 581.3148193359375, 229.54937744140625, 428.3046875, 5399.29736328125, 684.1240844726562, 592.3080444335938, 319.13775634765625, 441.53533935546875, 713.2296142578125, 390.2801208496094, 401.12200927734375, 357.43377685546875, 258.44384765625, 269.7019958496094, 279.80279541015625, 404.0891418457031, 254.3950653076172, 232.4064483642578, 313.7970886230469, 313.4369201660156, 271.921142578125, 128.48098754882812, 124.76103210449219, 99.69001007080078, 94.66527557373047, 91.66481018066406, 86.73754119873047, 84.63642883300781, 77.08171844482422, 75.09639739990234, 74.38677215576172, 70.72893524169922, 70.06951904296875, 66.97435760498047, 66.50376892089844, 66.28189086914062, 66.24467468261719, 65.65521240234375, 64.87470245361328, 64.15423583984375, 62.46616744995117, 62.34527587890625, 57.05848693847656, 55.679683685302734, 55.137142181396484, 53.94660949707031, 54.04515075683594, 50.99806594848633, 125.14216613769531, 293.1524963378906, 314.524169921875, 115.4474105834961, 126.6558837890625, 271.519775390625, 222.4095001220703, 110.57438659667969, 134.9193115234375, 132.73883056640625, 355.1650390625, 2455.872314453125, 236.75572204589844, 228.4079132080078, 851.1201782226562, 233.93234252929688, 147.42552185058594, 136.03993225097656, 404.7396545410156, 214.559326171875, 142.09584045410156, 117.89276123046875, 171.37831115722656, 116.12818908691406, 125.34637451171875], \"Term\": [\"giveaway\", \"cherokee\", \"girl\", \"small\", \"rt\", \"body\", \"chance\", \"cross\", \"sun\", \"win\", \"entered\", \"glittering\", \"nowa\", \"wrangler\", \"messenger\", \"grand\", \"used\", \"sport\", \"unlimited\", \"ebay\", \"spotted\", \"stick\", \"photo\", \"bamboo\", \"nigeria\", \"hummer\", \"convey\", \"via\", \"jeepporn\", \"2017\", \"unlimited\", \"power\", \"stance\", \"httpstcokl0oc8xvof\", \"rim\", \"player\", \"247\", \"2dr\", \"httpstcomtfwd7wjoi\", \"season\", \"fuel\", \"oregon\", \"jaime\", \"roughin\", \"httpstcosjarj6enuc\", \"tobias31\", \"heat\", \"clearcoat\", \"bright\", \"yj\", \"ticket\", \"30point\", \"andyto\", \"certified\", \"nextgeneration\", \"hardtop\", \"concern\", \"four\", \"httpstcokzltu\", \"usjeepsales\", \"x\", \"exploring\", \"jeepwrangler\", \"wheel\", \"ad\", \"wrangler\", \"custom\", \"sport\", \"2016\", \"rubicon\", \"game\", \"sahara\", \"ready\", \"2013\", \"6\", \"jk\", \"2012\", \"jeep\", \"miss\", \"whats\", \"ebay\", \"2014\", \"sale\", \"2015\", \"4x4\", \"mile\", \"black\", \"rt\", \"jeeplife\", \"4wd\", \"2017\", \"credit\", \"photo\", \"luxbucketlist\", \"httpstcoyipkreck1n\", \"better\", \"kylie\", \"httpstcobvgln4ayie\", \"jeepahoiics\", \"fact\", \"httpstco685ffiofnl\", \"kameronbennett\", \"rugged\", \"color\", \"in\", \"httpstco4mwvr8xzvm\", \"xpriteusa\", \"srtporn\", \"dylan\", \"httpstcopdfmvgpius\", \"reflection\", \"y\", \"debtenator\", \"httpstcoizkymbnrsh\", \"nature\", \"httpstcoy6p4ds0f2c\", \"httpstcot5q2hxkdng\", \"pop\", \"january\", \"httpstcos99npxakbl\", \"roadshow\", \"xprite\", \"pas\", \"weekend\", \"need\", \"morning\", \"rt\", \"matte\", \"blue\", \"life\", \"jeepmafia\", \"jeeplife\", \"jeep\", \"good\", \"ram\", \"black\", \"look\", \"chrysler\", \"credit\", \"one\", \"photo\", \"dodge\", \"get\", \"world\", \"makeinindia\", \"internationally\", \"madeinindia\", \"sold\", \"wsl\", \"portugal\", \"600\", \"wouldnt\", \"johnjohnflorenc\", \"leader\", \"cimgoi\", \"mind\", \"meoripcurlpro\", \"opportunity\", \"goal\", \"httpstcom4mjle3tbc\", \"rally\", \"link\", \"httpstcoohn8jwavuk\", \"working\", \"effect\", \"jeepjams\", \"sweet\", \"receive\", \"httpstcoyjkgay45jd\", \"gabbarsher\", \"theashoksingh\", \"pakistan\", \"hitting\", \"export\", \"around\", \"begin\", \"holyjeeps\", \"compass\", \"amp\", \"title\", \"bought\", \"india\", \"w\", \"rt\", \"jeep\", \"getting\", \"new\", \"road\", \"get\", \"ride\", \"drive\", \"win\", \"think\", \"know\", \"cant\", \"last\", \"lol\", \"ive\", \"ever\", \"wait\", \"shit\", \"gonna\", \"feel\", \"wanna\", \"fucking\", \"doesnt\", \"didnt\", \"sure\", \"yall\", \"end\", \"already\", \"member\", \"taking\", \"licensed\", \"jinyoung\", \"httpstcox58ir0tezx\", \"madprincejy\", \"leak\", \"ordering\", \"tomorrow\", \"god\", \"wanted\", \"going\", \"really\", \"someone\", \"im\", \"people\", \"every\", \"back\", \"time\", \"like\", \"still\", \"ill\", \"way\", \"love\", \"never\", \"wave\", \"dad\", \"got\", \"want\", \"driving\", \"dont\", \"go\", \"get\", \"thing\", \"jeep\", \"u\", \"man\", \"take\", \"car\", \"drive\", \"one\", \"day\", \"today\", \"amp\", \"buy\", \"rt\", \"see\", \"look\", \"new\", \"spotted\", \"stick\", \"bamboo\", \"nigeria\", \"hummer\", \"convey\", \"hell\", \"bitemekiki\", \"active\", \"mjt\", \"140cv\", \"19800\", \"httpstco6fkyq5sbjs\", \"supercars\", \"luxurycars\", \"sand\", \"heart021485\", \"gia\", \"stare\", \"confident\", \"jima\", \"iwo\", \"revillame\", \"willie\", \"httpstcoiokjcwp70a\", \"httpstcovtmjzcxnfe\", \"nitezens\", \"lugawfor\", \"gthummer\", \"kateshenna\", \"used\", \"raw\", \"euro\", \"music\", \"photo\", \"g\", \"20\", \"pink\", \"renegade\", \"breaking\", \"jeep\", \"junho\", \"drive\", \"rt\", \"making\", \"4wd\", \"limited\", \"car\", \"amp\", \"decal\", \"oracal\", \"graphic\", \"side\", \"vinyl\", \"2pcs\", \"sprint\", \"sticker\", \"light\", \"justforyousweepstakes\", \"led\", \"crd\", \"crazy\", \"floureedah\", \"named\", \"korean\", \"giving\", \"28\", \"aka\", \"filipina\", \"philippinesa\", \"lucky\", \"spot\", \"award\", \"httpstcoteb\", \"huffines\", \"trial\", \"40m\", \"carmodelfood\", \"2colors\", \"hood\", \"star\", \"via\", \"check\", \"overland\", \"door\", \"ebay\", \"sabit\", \"bar\", \"jeep\", \"rubicon\", \"away\", \"wrangler\", \"renegade\", \"new\", \"set\", \"cherokee\", \"would\", \"rt\", \"2018\", \"chrysler\", \"giveaway\", \"small\", \"body\", \"chance\", \"cross\", \"sun\", \"entered\", \"glittering\", \"nowa\", \"messenger\", \"f\", \"gold\", \"kristen\", \"httpstcospvgwleeup\", \"foil\", \"officeofrg\", \"profit\", \"narendramodi\", \"daniel\", \"gandhi\", \"pmoindia\", \"brain\", \"compaign\", \"unused\", \"rahul\", \"pankajsuper30\", \"silverado\", \"girl\", \"recon\", \"eric\", \"win\", \"lift\", \"even\", \"jeep\", \"open\", \"india\", \"beep\", \"mean\", \"sexy\", \"teal\", \"httpstcojg5ecber6c\", \"s\", \"httpstco0tqb1utgh3\", \"natalie\", \"outlast\", \"ng\", \"httpstcod2dyqnr1t3\", \"ang\", \"httpstcoqrr99j7vyf\", \"sabi\", \"sumabit\", \"lee\", \"alexander\", \"httpstco2ob8sjpagd\", \"gmanetwork\", \"lyricsartph\", \"mkjfever\", \"httpstcodqwhlromaq\", \"following\", \"httpstcodhhqeepg0q\", \"httpstco3tqcratygf\", \"tonka\", \"1993\", \"governor\", \"21\", \"ekiti\", \"combo\", \"jeepporn\", \"looking\", \"make\", \"sa\", \"beach\", \"call\", \"day\", \"watch\", \"rt\", \"jeep\", \"credit\", \"got\", \"alexander0729\", \"key\", \"photo\", \"see\", \"new\", \"grand\", \"youtube\", \"summit\", \"laredo\", \"wagoneer\", \"bordo\", \"prueba\", \"cry\", \"latitude\", \"demon\", \"liked\", \"rather\", \"happiness\", \"published\", \"siiiybae\", \"actually\", \"dlc\", \"altitude\", \"i4\", \"2019\", \"24v\", \"remote\", \"london\", \"fwd\", \"sunroof\", \"locksmith\", \"unlocking\", \"horizon\", \"transmission\", \"forza\", \"cherokee\", \"trackhawk\", \"post\", \"review\", \"video\", \"2017\", \"limited\", \"faster\", \"automatic\", \"suv\", \"srt\", \"2018\", \"auto\", \"4x4\", \"v6\", \"dodge\", \"jeep\", \"new\", \"ebay\", \"2015\", \"sport\", \"wrangler\", \"compass\", \"car\", \"jeeplife\", \"2014\", \"4wd\", \"via\", \"rt\", \"mile\", \"black\", \"50\", \"cat\", \"httpstcon65v0hjtbd\", \"recently\", \"inventory\", \"thejeepboss\", \"confirmed\", \"yo\", \"nextgen\", \"returncheck\", \"wall\", \"walked\", \"confused\", \"jus\", \"hey\", \"jackj\", \"tan\", \"raygunvoss\", \"reallllyyyyy\", \"thefacesofjeep\", \"maserati\", \"pro\", \"jeepindia\", \"shopping\", \"happened\", \"squad\", \"waterproof\", \"topjeeper\", \"jacket\", \"m1960a07\", \"changed\", \"mailonline\", \"stuck\", \"street\", \"fca\", \"thejeepmafia\", \"price\", \"rpx53\", \"fit\", \"help\", \"mile\", \"jeep\", \"look\", \"take\", \"rt\", \"check\", \"liberty\", \"added\", \"wrangler\", \"compass\", \"top\", \"guy\", \"car\", \"part\", \"want\"], \"Total\": [5201.0, 3702.0, 2945.0, 2686.0, 11980.0, 2680.0, 2651.0, 2642.0, 2639.0, 2900.0, 2614.0, 2608.0, 2595.0, 5455.0, 2447.0, 2444.0, 1192.0, 1455.0, 1043.0, 1810.0, 864.0, 853.0, 1506.0, 837.0, 833.0, 826.0, 824.0, 988.0, 765.0, 1247.0, 1043.1011962890625, 240.78683471679688, 160.3174285888672, 155.67047119140625, 117.94684600830078, 111.08611297607422, 104.19711303710938, 98.83382415771484, 95.3217544555664, 88.35781860351562, 83.14169311523438, 76.6963119506836, 76.44820404052734, 75.87911224365234, 75.87911224365234, 72.26514434814453, 66.52525329589844, 65.39265441894531, 64.6305923461914, 63.32673645019531, 60.90261459350586, 60.72433853149414, 60.09444046020508, 50.358009338378906, 49.59549331665039, 48.70195007324219, 48.25704574584961, 43.27183532714844, 43.07568359375, 42.823726654052734, 197.3191680908203, 85.87712860107422, 239.38668823242188, 355.6585693359375, 277.9591369628906, 5455.41552734375, 203.3228302001953, 1455.872802734375, 631.144775390625, 895.2994995117188, 260.9921875, 429.47979736328125, 307.79205322265625, 296.31256103515625, 187.93389892578125, 395.1422119140625, 355.95721435546875, 38318.67578125, 223.5681610107422, 214.8799591064453, 1810.619873046875, 524.6114501953125, 479.26995849609375, 606.7886352539062, 1071.306884765625, 1107.134521484375, 984.6939086914062, 11980.4931640625, 1462.8515625, 696.099609375, 1247.02880859375, 578.1369018554688, 1506.7281494140625, 788.661376953125, 435.3106689453125, 421.2285461425781, 354.40911865234375, 353.46246337890625, 331.2458801269531, 313.4222717285156, 302.8944396972656, 246.55133056640625, 235.67991638183594, 206.6363983154297, 189.6370391845703, 177.0137481689453, 165.10208129882812, 155.14993286132812, 154.07847595214844, 152.93087768554688, 150.6442413330078, 149.19891357421875, 145.76214599609375, 144.8728790283203, 144.73033142089844, 144.32119750976562, 131.52264404296875, 123.23687744140625, 118.4743423461914, 110.07101440429688, 102.11473083496094, 96.43022918701172, 96.27761840820312, 331.35809326171875, 831.8928833007812, 320.0250549316406, 11980.4931640625, 597.9055786132812, 562.5958862304688, 591.6092529296875, 406.8757019042969, 1462.8515625, 38318.67578125, 565.880615234375, 481.00274658203125, 984.6939086914062, 828.9293212890625, 596.7758178710938, 578.1369018554688, 876.6358642578125, 1506.7281494140625, 801.9447631835938, 1163.0023193359375, 356.7557067871094, 274.3215026855469, 217.07676696777344, 203.72389221191406, 189.57276916503906, 163.25741577148438, 143.788330078125, 135.93743896484375, 134.2725372314453, 127.05282592773438, 125.88765716552734, 125.38349914550781, 124.7752685546875, 120.99462127685547, 114.40128326416016, 108.0810775756836, 94.1155014038086, 91.33849334716797, 80.49942779541016, 78.2867202758789, 75.65276336669922, 72.44864654541016, 70.35198974609375, 69.18175506591797, 66.35360717773438, 65.14942169189453, 65.14942169189453, 63.70756912231445, 59.71210479736328, 59.22548294067383, 184.0803985595703, 377.4573974609375, 167.36770629882812, 147.74061584472656, 1211.506103515625, 918.4436645507812, 112.23593139648438, 164.94412231445312, 293.58734130859375, 284.4388427734375, 11980.4931640625, 38318.67578125, 326.3233642578125, 1834.644287109375, 363.4874572753906, 1163.0023193359375, 355.0638732910156, 842.5095825195312, 2900.540283203125, 369.795654296875, 279.1869812011719, 257.9927673339844, 244.39732360839844, 232.8583984375, 166.76548767089844, 159.77645874023438, 153.95077514648438, 143.3831787109375, 139.16134643554688, 129.3704071044922, 125.26375579833984, 124.10120391845703, 120.88706970214844, 97.41139221191406, 95.23809051513672, 94.3787612915039, 94.1538314819336, 90.99678039550781, 90.50142669677734, 89.24266052246094, 83.40168762207031, 81.98025512695312, 80.50849914550781, 79.06262969970703, 78.6906967163086, 78.22913360595703, 76.06798553466797, 75.10843658447266, 73.05359649658203, 245.396484375, 252.146484375, 165.1945343017578, 882.5179443359375, 178.66844177246094, 169.74864196777344, 495.09112548828125, 428.5421142578125, 828.4765014648438, 231.9198760986328, 189.8561553955078, 208.4925079345703, 519.9585571289062, 182.86624145507812, 176.06451416015625, 136.62770080566406, 606.6068115234375, 833.0504150390625, 402.3153381347656, 545.7274169921875, 496.161376953125, 1163.0023193359375, 329.6204833984375, 38318.67578125, 662.6221923828125, 362.7610778808594, 789.1746215820312, 1528.3406982421875, 842.5095825195312, 876.6358642578125, 514.1829223632812, 479.7490234375, 918.4436645507812, 533.5379638671875, 11980.4931640625, 528.3189086914062, 828.9293212890625, 1834.644287109375, 864.2301635742188, 853.8363037109375, 837.188232421875, 833.7868041992188, 826.5262451171875, 824.59619140625, 226.89459228515625, 187.37229919433594, 164.47494506835938, 157.9397430419922, 155.51853942871094, 153.37254333496094, 142.2159881591797, 99.31616973876953, 97.05736541748047, 84.7945785522461, 78.7691650390625, 75.54756164550781, 74.14608001708984, 69.50010681152344, 67.76232147216797, 67.76232147216797, 67.07079315185547, 67.07079315185547, 65.9345474243164, 63.12057876586914, 60.62443161010742, 60.62443161010742, 59.306514739990234, 56.92851638793945, 1192.4608154296875, 203.56439208984375, 176.2494354248047, 277.4733581542969, 1506.7281494140625, 289.212646484375, 317.6905822753906, 137.42965698242188, 812.7724609375, 78.26912689208984, 38318.67578125, 97.46643829345703, 842.5095825195312, 11980.4931640625, 257.6665954589844, 696.099609375, 658.0694580078125, 1528.3406982421875, 918.4436645507812, 488.17535400390625, 426.5741271972656, 398.5854187011719, 384.6835021972656, 340.3154296875, 300.0856628417969, 289.3973083496094, 281.2160339355469, 261.13140869140625, 246.6136474609375, 191.4733123779297, 147.62197875976562, 127.55974578857422, 102.9554214477539, 102.52407836914062, 99.44398498535156, 97.13361358642578, 88.99156188964844, 87.41974639892578, 85.82500457763672, 85.82500457763672, 76.58997344970703, 70.94204711914062, 60.85676956176758, 56.43486022949219, 52.05826187133789, 49.163448333740234, 45.73243713378906, 41.30998229980469, 40.66627883911133, 296.8934631347656, 173.05889892578125, 988.6377563476562, 924.6080322265625, 329.8031005859375, 382.7716064453125, 1810.619873046875, 197.80514526367188, 137.33140563964844, 38318.67578125, 895.2994995117188, 171.05870056152344, 5455.41552734375, 812.7724609375, 1834.644287109375, 358.8497009277344, 3702.282958984375, 422.9997253417969, 11980.4931640625, 977.8890380859375, 596.7758178710938, 5201.6708984375, 2686.166259765625, 2680.34765625, 2651.0078125, 2642.791259765625, 2639.109375, 2614.478759765625, 2608.544921875, 2595.022705078125, 2447.358154296875, 195.03404235839844, 178.9425811767578, 165.7563934326172, 164.15765380859375, 156.0470733642578, 121.5079116821289, 48.898319244384766, 44.15204620361328, 43.732479095458984, 42.52091979980469, 42.077857971191406, 41.268978118896484, 40.08271408081055, 40.08271408081055, 40.08271408081055, 38.89645004272461, 30.164207458496094, 2945.5732421875, 22.10264778137207, 21.80060577392578, 2900.540283203125, 288.1143798828125, 362.8075866699219, 38318.67578125, 208.26007080078125, 293.58734130859375, 469.3974304199219, 288.4919738769531, 245.8786163330078, 191.06561279296875, 186.07635498046875, 138.2018280029297, 122.00386810302734, 114.57170104980469, 114.57170104980469, 112.8770980834961, 112.09965515136719, 100.84317016601562, 100.25879669189453, 78.83293914794922, 69.02377319335938, 66.62651062011719, 65.90311431884766, 64.57854461669922, 64.55789947509766, 63.87626647949219, 51.87592697143555, 49.08757019042969, 48.17538070678711, 47.59957504272461, 47.59957504272461, 46.41108322143555, 40.76639175415039, 40.52033233642578, 40.09182357788086, 39.42866134643555, 251.0677032470703, 765.9207763671875, 411.5599365234375, 600.92578125, 274.5052185058594, 93.83501434326172, 148.82827758789062, 514.1829223632812, 166.51351928710938, 11980.4931640625, 38318.67578125, 578.1369018554688, 606.6068115234375, 186.272216796875, 233.81500244140625, 1506.7281494140625, 528.3189086914062, 1834.644287109375, 2444.440185546875, 646.5946655273438, 262.5848083496094, 245.88563537597656, 232.129638671875, 220.49803161621094, 220.49803161621094, 210.77108764648438, 203.35003662109375, 188.49749755859375, 187.25833129882812, 174.95587158203125, 169.17929077148438, 150.76702880859375, 139.843017578125, 131.07321166992188, 83.72305297851562, 80.54106903076172, 71.503173828125, 69.44071960449219, 65.53440856933594, 64.79962921142578, 63.06848907470703, 61.6454963684082, 61.2148323059082, 60.953163146972656, 57.293357849121094, 57.26702117919922, 56.910396575927734, 56.473575592041016, 3702.282958984375, 438.9027404785156, 197.89051818847656, 315.0730285644531, 748.0409545898438, 1247.02880859375, 658.0694580078125, 261.1127014160156, 260.57867431640625, 760.2276611328125, 171.09519958496094, 977.8890380859375, 384.4927062988281, 1071.306884765625, 317.99530029296875, 801.9447631835938, 38318.67578125, 1834.644287109375, 1810.619873046875, 606.7886352539062, 1455.872802734375, 5455.41552734375, 1211.506103515625, 1528.3406982421875, 1462.8515625, 524.6114501953125, 696.099609375, 988.6377563476562, 11980.4931640625, 1107.134521484375, 984.6939086914062, 314.6029968261719, 314.2428283691406, 272.72705078125, 129.2869110107422, 125.56694793701172, 100.49593353271484, 95.47120666503906, 92.47078704833984, 87.54346466064453, 85.44233703613281, 77.88764953613281, 75.90231323242188, 75.19268798828125, 71.53483581542969, 70.87548828125, 67.78025817871094, 67.30973815917969, 67.08779907226562, 67.05057525634766, 66.46115112304688, 65.68061065673828, 64.96017456054688, 63.27217483520508, 63.1512336730957, 57.86448287963867, 56.485595703125, 55.94306564331055, 54.75251388549805, 54.85521697998047, 51.80397033691406, 130.20880126953125, 342.2615966796875, 387.9725341796875, 129.49124145507812, 145.66085815429688, 385.06201171875, 314.37225341796875, 130.52651977539062, 212.37887573242188, 209.68618774414062, 1107.134521484375, 38318.67578125, 828.9293212890625, 789.1746215820312, 11980.4931640625, 924.6080322265625, 352.24468994140625, 302.81890869140625, 5455.41552734375, 1211.506103515625, 489.00048828125, 301.76129150390625, 1528.3406982421875, 338.30340576171875, 833.0504150390625], \"loglift\": [30.0, 29.0, 28.0, 27.0, 26.0, 25.0, 24.0, 23.0, 22.0, 21.0, 20.0, 19.0, 18.0, 17.0, 16.0, 15.0, 14.0, 13.0, 12.0, 11.0, 10.0, 9.0, 8.0, 7.0, 6.0, 5.0, 4.0, 3.0, 2.0, 1.0, 2.2077999114990234, 2.205199956893921, 2.2035000324249268, 2.203399896621704, 2.20169997215271, 2.2012999057769775, 2.2007999420166016, 2.2004001140594482, 2.2000999450683594, 2.199399948120117, 2.1988000869750977, 2.197999954223633, 2.197999954223633, 2.1979000568389893, 2.1979000568389893, 2.1974000930786133, 2.1963999271392822, 2.196199893951416, 2.196000099182129, 2.1958000659942627, 2.1953001022338867, 2.195199966430664, 2.1951000690460205, 2.1923999786376953, 2.192199945449829, 2.1919000148773193, 2.191699981689453, 2.1898000240325928, 2.18969988822937, 2.1895999908447266, 2.17549991607666, 2.1577000617980957, 2.095400094985962, 2.0571999549865723, 2.0404000282287598, 1.7395999431610107, 2.053499937057495, 1.846500039100647, 1.892899990081787, 1.8214000463485718, 1.9759000539779663, 1.8352999687194824, 1.8938000202178955, 1.8897000551223755, 1.9845999479293823, 1.739400029182434, 1.7170000076293945, 0.21719999611377716, 1.8589999675750732, 1.8639999628067017, 1.1234999895095825, 1.5273000001907349, 1.5565999746322632, 1.4595999717712402, 1.0621000528335571, 1.0163999795913696, 1.0368000268936157, -0.4580000042915344, 0.6883000135421753, 1.142799973487854, 0.4763000011444092, 1.0916999578475952, 0.24250000715255737, 2.164900064468384, 2.1640000343322754, 2.1640000343322754, 2.163599967956543, 2.163599967956543, 2.1633999347686768, 2.163300037384033, 2.1631999015808105, 2.162600040435791, 2.1624999046325684, 2.1619999408721924, 2.161600112915039, 2.16129994392395, 2.1610000133514404, 2.1607000827789307, 2.160599946975708, 2.160599946975708, 2.1605000495910645, 2.1605000495910645, 2.1603000164031982, 2.1603000164031982, 2.1603000164031982, 2.1603000164031982, 2.1596999168395996, 2.1593000888824463, 2.15910005569458, 2.1584999561309814, 2.1579999923706055, 2.1575000286102295, 2.1575000286102295, 2.12719988822937, 1.9378000497817993, 2.0306999683380127, 1.3355000019073486, 1.8492000102996826, 1.805299997329712, 1.785099983215332, 1.874899983406067, 1.4693000316619873, 0.30219998955726624, 1.5995999574661255, 1.6153000593185425, 1.2689000368118286, 1.2621999979019165, 1.2684999704360962, 1.2690000534057617, 0.886900007724762, 0.3928000032901764, 0.8133000135421753, 0.46239998936653137, 2.4625000953674316, 2.461899995803833, 2.4611001014709473, 2.4607999324798584, 2.460599899291992, 2.45989990234375, 2.459199905395508, 2.458899974822998, 2.4588000774383545, 2.458400011062622, 2.458400011062622, 2.458400011062622, 2.4583001136779785, 2.4581000804901123, 2.45770001411438, 2.4572999477386475, 2.456199884414673, 2.4560000896453857, 2.4547998905181885, 2.4544999599456787, 2.4540998935699463, 2.4535999298095703, 2.4532999992370605, 2.4530999660491943, 2.4526000022888184, 2.452399969100952, 2.452399969100952, 2.4521000385284424, 2.451200008392334, 2.4511001110076904, 2.3008999824523926, 2.166300058364868, 2.2639999389648438, 2.2781999111175537, 1.7720999717712402, 1.7628999948501587, 2.3090999126434326, 2.175100088119507, 1.9097000360488892, 1.9149999618530273, 0.3160000145435333, -0.2867000102996826, 1.8336000442504883, 0.6693000197410583, 1.507699966430664, 0.5774000287055969, 1.458299994468689, 0.6671000123023987, -0.6654000282287598, 1.8652000427246094, 1.8645000457763672, 1.8641999959945679, 1.8640999794006348, 1.8638999462127686, 1.8624999523162842, 1.8623000383377075, 1.8621000051498413, 1.8617000579833984, 1.8616000413894653, 1.8610999584197998, 1.8609000444412231, 1.8609000444412231, 1.860700011253357, 1.8590999841690063, 1.8588999509811401, 1.8588000535964966, 1.8588000535964966, 1.8585000038146973, 1.8583999872207642, 1.858299970626831, 1.857699990272522, 1.8574999570846558, 1.857300043106079, 1.857100009918213, 1.857100009918213, 1.8569999933242798, 1.8566999435424805, 1.856600046157837, 1.8562999963760376, 1.8503999710083008, 1.8490999937057495, 1.8367999792099, 1.7705999612808228, 1.8278000354766846, 1.8214999437332153, 1.7647000551223755, 1.7725000381469727, 1.7264000177383423, 1.7940000295639038, 1.801300048828125, 1.792799949645996, 1.7188999652862549, 1.7978999614715576, 1.7863999605178833, 1.8163000345230103, 1.5709999799728394, 1.4586000442504883, 1.5858999490737915, 1.5017999410629272, 1.524899959564209, 1.2920000553131104, 1.620300054550171, 0.08550000190734863, 1.2524000406265259, 1.5010000467300415, 1.1654000282287598, 0.8299999833106995, 1.0533000230789185, 1.0157999992370605, 1.2541999816894531, 1.2395000457763672, 0.8220000267028809, 1.1687999963760376, -0.9253000020980835, 1.1239999532699585, 0.6915000081062317, -0.10869999974966049, 2.5269999504089355, 2.5269999504089355, 2.5269999504089355, 2.5269999504089355, 2.5269999504089355, 2.5269999504089355, 2.524399995803833, 2.523699998855591, 2.523099899291992, 2.522900104522705, 2.5227999687194824, 2.522700071334839, 2.5223000049591064, 2.5197999477386475, 2.5195999145507812, 2.518399953842163, 2.517699956893921, 2.5172998905181885, 2.5171000957489014, 2.5162999629974365, 2.5160000324249268, 2.5160000324249268, 2.515899896621704, 2.515899896621704, 2.515700101852417, 2.5151000022888184, 2.5146000385284424, 2.5146000385284424, 2.5143001079559326, 2.513700008392334, 2.44569993019104, 2.4855000972747803, 2.4154999256134033, 2.331700086593628, 1.9973000288009644, 2.213099956512451, 2.186300039291382, 2.302500009536743, 1.7044999599456787, 2.4632999897003174, -0.047200001776218414, 2.3605000972747803, 1.3046000003814697, -0.055399999022483826, 1.8830000162124634, 1.2081999778747559, 1.0500999689102173, 0.21770000457763672, 0.32429999113082886, 2.58489990234375, 2.584700107574463, 2.5845000743865967, 2.584399938583374, 2.584199905395508, 2.583899974822998, 2.5838000774383545, 2.583699941635132, 2.583400011062622, 2.5833001136779785, 2.5822999477386475, 2.5810999870300293, 2.580199956893921, 2.578700065612793, 2.5785999298095703, 2.578399896621704, 2.578200101852417, 2.577399969100952, 2.5773000717163086, 2.5771000385284424, 2.5771000385284424, 2.575900077819824, 2.5750999450683594, 2.573199987411499, 2.5720999240875244, 2.5708999633789062, 2.569999933242798, 2.568700075149536, 2.566800117492676, 2.566499948501587, 2.440500020980835, 2.4674999713897705, 2.1810998916625977, 2.183000087738037, 2.1835999488830566, 2.045599937438965, 1.4917999505996704, 2.1610000133514404, 2.3080999851226807, -0.3440999984741211, 1.3583999872207642, 2.2007999420166016, 0.2793999910354614, 1.294800043106079, 0.7723000049591064, 1.7551000118255615, 0.26179999113082886, 1.555400013923645, -0.9412999749183655, 0.8899999856948853, 1.1117000579833984, 2.171799898147583, 2.1717000007629395, 2.1717000007629395, 2.1717000007629395, 2.1717000007629395, 2.1717000007629395, 2.1717000007629395, 2.1717000007629395, 2.1717000007629395, 2.171600103378296, 2.1679000854492188, 2.1675000190734863, 2.1672000885009766, 2.167099952697754, 2.166800022125244, 2.1654000282287598, 2.1554999351501465, 2.1538000106811523, 2.153599977493286, 2.15310001373291, 2.152899980545044, 2.1524999141693115, 2.151900053024292, 2.151900053024292, 2.151900053024292, 2.1512999534606934, 2.14520001411438, 2.1415998935699463, 2.1352999210357666, 2.1347999572753906, 2.127000093460083, 1.6908999681472778, 1.4115999937057495, -0.4106999933719635, 0.5956000089645386, 0.24169999361038208, 2.678999900817871, 2.6779000759124756, 2.677500009536743, 2.676500082015991, 2.6763999462127686, 2.6749000549316406, 2.674099922180176, 2.6737000942230225, 2.6737000942230225, 2.6735999584198, 2.6735000610351562, 2.6726999282836914, 2.6726999282836914, 2.6705000400543213, 2.6689999103546143, 2.668600082397461, 2.6684000492095947, 2.6682000160217285, 2.6682000160217285, 2.6679999828338623, 2.66510009765625, 2.6642000675201416, 2.6638998985290527, 2.6637001037597656, 2.6637001037597656, 2.6631999015808105, 2.660799980163574, 2.660599946975708, 2.660399913787842, 2.660099983215332, 2.6203999519348145, 2.491300106048584, 2.470099925994873, 2.184000015258789, 2.23580002784729, 2.471400022506714, 2.261899948120117, 1.787500023841858, 2.1858999729156494, 0.4465000033378601, -0.0348999984562397, 1.3480000495910645, 1.3152999877929688, 2.0251998901367188, 1.8782999515533447, 0.39430001378059387, 0.9157000184059143, -0.28060001134872437, 2.0799999237060547, 2.0789999961853027, 2.077199935913086, 2.0769999027252197, 2.0768001079559326, 2.0766000747680664, 2.0766000747680664, 2.0764999389648438, 2.0762999057769775, 2.0759999752044678, 2.0759999752044678, 2.075700044631958, 2.075500011444092, 2.074899911880493, 2.07450008392334, 2.0741000175476074, 2.0706000328063965, 2.0703001022338867, 2.069000005722046, 2.0685999393463135, 2.0678999423980713, 2.0678000450134277, 2.067500114440918, 2.067199945449829, 2.0671000480651855, 2.066999912261963, 2.066200017929077, 2.066200017929077, 2.0660998821258545, 2.065999984741211, 1.9771000146865845, 2.00219988822937, 2.0120999813079834, 1.9846999645233154, 1.9107999801635742, 1.8107000589370728, 1.8199000358581543, 1.9081000089645386, 1.8711999654769897, 1.7007999420166016, 1.92330002784729, 1.5714000463485718, 1.7196999788284302, 1.468999981880188, 1.7544000148773193, 1.4530999660491943, 0.12060000002384186, 1.0937999486923218, 0.9628999829292297, 1.4377000331878662, 0.8871999979019165, 0.04569999873638153, 0.9474999904632568, 0.7426000237464905, 0.6711000204086304, 1.3723000288009644, 1.132099986076355, 0.8180999755859375, -1.3091000318527222, 0.6097000241279602, 0.6365000009536743, 2.6082000732421875, 2.6082000732421875, 2.607800006866455, 2.6045000553131104, 2.604300022125244, 2.6026999950408936, 2.602299928665161, 2.6019999980926514, 2.6015000343322754, 2.601300001144409, 2.6003000736236572, 2.600100040435791, 2.5999999046325684, 2.599400043487549, 2.599299907684326, 2.59879994392395, 2.5987000465393066, 2.5987000465393066, 2.598599910736084, 2.5985000133514404, 2.598400115966797, 2.598299980163574, 2.597899913787842, 2.597899913787842, 2.5966999530792236, 2.596400022506714, 2.5961999893188477, 2.595900058746338, 2.595900058746338, 2.595099925994873, 2.5710999965667725, 2.455899953842163, 2.400899887084961, 2.4958999156951904, 2.470900058746338, 2.261399984359741, 2.264699935913086, 2.4449000358581543, 2.1570000648498535, 2.1535000801086426, 1.4737999439239502, -0.13670000433921814, 1.3575999736785889, 1.37090003490448, -0.03370000049471855, 1.2364000082015991, 1.7396999597549438, 1.8106000423431396, 0.009600000455975533, 0.8797000050544739, 1.374899983406067, 1.6708999872207642, 0.4226999878883362, 1.5414999723434448, 0.71670001745224], \"logprob\": [30.0, 29.0, 28.0, 27.0, 26.0, 25.0, 24.0, 23.0, 22.0, 21.0, 20.0, 19.0, 18.0, 17.0, 16.0, 15.0, 14.0, 13.0, 12.0, 11.0, 10.0, 9.0, 8.0, 7.0, 6.0, 5.0, 4.0, 3.0, 2.0, 1.0, -3.8090999126434326, -5.277699947357178, -5.686100006103516, -5.715700149536133, -5.994900226593018, -6.055200099945068, -6.119699954986572, -6.172999858856201, -6.209499835968018, -6.285999774932861, -6.347400188446045, -6.428899765014648, -6.432199954986572, -6.439799785614014, -6.439799785614014, -6.489099979400635, -6.572800159454346, -6.590199947357178, -6.602099895477295, -6.622700214385986, -6.662300109863281, -6.665299892425537, -6.67579984664917, -6.855199813842773, -6.870699882507324, -6.889200210571289, -6.898499965667725, -7.009500026702881, -7.014200210571289, -7.020100116729736, -5.506499767303467, -6.356200218200684, -5.3933000564575195, -5.035699844360352, -5.298900127410889, -2.6229000091552734, -5.598599910736084, -3.8369998931884766, -4.626399993896484, -4.348299980163574, -5.426499843597412, -5.068900108337402, -5.343599796295166, -5.385700225830078, -5.746099948883057, -5.2480998039245605, -5.375, -2.196000099182129, -5.6981000900268555, -5.732699871063232, -4.341899871826172, -5.176799774169922, -5.2378997802734375, -5.098999977111816, -4.928100109100342, -4.940800189971924, -5.037700176239014, -4.03380012512207, -4.9903998374938965, -5.278500080108643, -5.361999988555908, -5.5152997970581055, -5.406599998474121, -4.1315999031066895, -4.7266998291015625, -4.759699821472168, -4.932799816131592, -4.935400009155273, -5.000500202178955, -5.0559000968933105, -5.090199947357178, -5.296599864959717, -5.341899871826172, -5.473899841308594, -5.560100078582764, -5.629300117492676, -5.6992998123168945, -5.76170015335083, -5.768700122833252, -5.776199817657471, -5.791399955749512, -5.80109977722168, -5.82450008392334, -5.830599784851074, -5.831600189208984, -5.834499835968018, -5.9278998374938965, -5.9934000968933105, -6.033100128173828, -6.107100009918213, -6.182700157165527, -6.240499973297119, -6.242099761962891, -5.036399841308594, -4.305300235748291, -5.167699813842773, -2.240299940109253, -4.7241997718811035, -4.828999996185303, -4.798900127410889, -5.083399772644043, -4.209400177001953, -2.1108999252319336, -5.028800010681152, -5.175600051879883, -4.805600166320801, -4.984499931335449, -5.30679988861084, -5.3379998207092285, -5.303800106048584, -5.25629997253418, -5.466400146484375, -5.4456000328063965, -4.627200126647949, -4.890600204467773, -5.125500202178955, -5.189199924468994, -5.261499881744385, -5.411600112915039, -5.539299964904785, -5.595799922943115, -5.608099937438965, -5.66379976272583, -5.672999858856201, -5.67710018157959, -5.682000160217285, -5.712900161743164, -5.769400119781494, -5.826600074768066, -5.966100215911865, -5.996300220489502, -6.123799800872803, -6.1519999504089355, -6.186600208282471, -6.230299949645996, -6.260000228881836, -6.2769999504089355, -6.319200038909912, -6.337800025939941, -6.337800025939941, -6.360400199890137, -6.426000118255615, -6.434299945831299, -5.4506001472473145, -4.867000102996826, -5.582699775695801, -5.69320011138916, -4.095099925994873, -4.38129997253418, -5.937099933624268, -5.686100006103516, -5.375, -5.401299953460693, -3.2597999572753906, -2.6998000144958496, -5.345300197601318, -4.782899856567383, -5.563300132751465, -5.330599784851074, -5.636199951171875, -5.563300132751465, -5.6595001220703125, -5.188700199127197, -5.470399856567383, -5.549600124359131, -5.603899955749512, -5.652500152587891, -5.98769998550415, -6.030700206756592, -6.0680999755859375, -6.139599800109863, -6.169600009918213, -6.243000030517578, -6.2754998207092285, -6.284900188446045, -6.311299800872803, -6.528800010681152, -6.551599979400635, -6.560699939727783, -6.5630998611450195, -6.597499847412109, -6.603000164031982, -6.617099761962891, -6.685500144958496, -6.7027997970581055, -6.721099853515625, -6.7393999099731445, -6.744200229644775, -6.750100135803223, -6.778500080108643, -6.791299819946289, -6.819300174713135, -5.613500118255615, -5.587699890136719, -6.022900104522705, -4.413400173187256, -5.953499794006348, -6.011000156402588, -4.997399806976318, -5.133900165557861, -4.5208001136779785, -5.726399898529053, -5.919300079345703, -5.834199905395508, -4.994100093841553, -5.96019983291626, -6.009500026702881, -6.2332000732421875, -4.9878997802734375, -4.783100128173828, -5.383600234985352, -5.162899971008301, -5.235000133514404, -4.616000175476074, -5.548600196838379, -2.3276000022888184, -5.218200206756592, -5.5721001625061035, -5.13040018081665, -4.804800033569336, -5.17710018157959, -5.174900054931641, -5.46999979019165, -5.553999900817871, -5.3221001625061035, -5.518400192260742, -4.501100063323975, -5.5731000900268555, -5.555200099945068, -5.5609002113342285, -3.6779000759124756, -3.690000057220459, -3.7098000049591064, -3.7137999534606934, -3.722599983215332, -3.724900007247925, -5.017899990081787, -5.210100173950195, -5.341000080108643, -5.381700038909912, -5.397299766540527, -5.411200046539307, -5.487199783325195, -5.848700046539307, -5.8719000816345215, -6.008200168609619, -6.082600116729736, -6.124800205230713, -6.143700122833252, -6.209199905395508, -6.234799861907959, -6.234799861907959, -6.245200157165527, -6.245200157165527, -6.262499809265137, -6.306600093841553, -6.347499847412109, -6.347499847412109, -6.369800090789795, -6.411300182342529, -3.437299966812134, -5.16540002822876, -5.379499912261963, -5.009399890899658, -3.6517999172210693, -5.086599826812744, -5.019400119781494, -5.741199970245361, -4.561800003051758, -6.1433000564575195, -2.4602999687194824, -6.026800155639648, -4.92579984664917, -3.6310999393463135, -5.532100200653076, -5.213099956512451, -5.4274001121521, -5.417200088500977, -5.819900035858154, -4.191199779510498, -4.326399803161621, -4.394400119781494, -4.429900169372559, -4.552800178527832, -4.678899765014648, -4.7153000831604, -4.74399995803833, -4.818299770355225, -4.875699996948242, -5.129700183868408, -5.39109992980957, -5.538000106811523, -5.753900051116943, -5.7581000328063965, -5.78879976272583, -5.8125, -5.9008002281188965, -5.918799877166748, -5.937399864196777, -5.937399864196777, -6.0524001121521, -6.129899978637695, -6.285099983215332, -6.361599922180176, -6.443600177764893, -6.501699924468994, -6.575300216674805, -6.678899765014648, -6.695000171661377, -4.832900047302246, -5.345600128173828, -3.889400005340576, -3.9544999599456787, -4.9847002029418945, -4.973800182342529, -3.9735000133514404, -5.518499851226807, -5.736299991607666, -2.757200002670288, -4.811299800872803, -5.624000072479248, -4.083000183105469, -4.97160005569458, -4.679900169372559, -5.328800201416016, -4.48829984664917, -5.363999843597412, -4.517000198364258, -5.191400051116943, -5.463600158691406, -2.238300085067749, -2.8993000984191895, -2.901400089263916, -2.9124999046325684, -2.915600061416626, -2.9170000553131104, -2.926300048828125, -2.9286000728607178, -2.933799982070923, -2.9923999309539795, -5.5258002281188965, -5.612199783325195, -5.6890997886657715, -5.69890022277832, -5.749800205230713, -6.001399993896484, -6.921500205993652, -7.025400161743164, -7.035099983215332, -7.063799858093262, -7.074399948120117, -7.094200134277344, -7.124000072479248, -7.124000072479248, -7.124000072479248, -7.154600143432617, -7.414899826049805, -2.8371999263763428, -7.735899925231934, -7.750100135803223, -2.8671000003814697, -5.612599849700928, -5.661399841308594, -2.8238000869750977, -7.032400131225586, -7.043000221252441, -4.136300086975098, -4.624199867248535, -4.7845001220703125, -5.037700176239014, -5.064300060272217, -5.3632001876831055, -5.48859977722168, -5.5518999099731445, -5.5518999099731445, -5.56689977645874, -5.57390022277832, -5.680500030517578, -5.686399936676025, -5.928999900817871, -6.063399791717529, -6.099100112915039, -6.110199928283691, -6.130799770355225, -6.131100177764893, -6.1417999267578125, -6.35290002822876, -6.408999919891357, -6.428100109100342, -6.440299987792969, -6.440299987792969, -6.466100215911865, -6.598199844360352, -6.604400157928467, -6.615200042724609, -6.632199764251709, -4.820700168609619, -3.834399938583374, -4.476799964904785, -4.384300231933594, -5.116000175476074, -5.95389986038208, -5.702099800109863, -4.936800003051758, -5.665900230407715, -3.129300117492676, -2.4481000900268555, -5.258999824523926, -5.243599891662598, -5.714399814605713, -5.633999824523926, -5.254799842834473, -5.781400203704834, -5.732800006866455, -3.0852999687194824, -4.415999889373779, -5.318999767303467, -5.384900093078613, -5.442699909210205, -5.49429988861084, -5.49429988861084, -5.539599895477295, -5.5756001472473145, -5.651700019836426, -5.658299922943115, -5.726600170135498, -5.760300159454346, -5.876100063323975, -5.9517998695373535, -6.016900062561035, -6.468699932098389, -6.507800102233887, -6.6280999183654785, -6.657700061798096, -6.716300010681152, -6.727700233459473, -6.755099773406982, -6.778200149536133, -6.785399913787842, -6.789700031280518, -6.852499961853027, -6.85290002822876, -6.859300136566162, -6.867099761962891, -2.7730000019073486, -4.880300045013428, -5.666999816894531, -5.229300022125244, -4.438499927520752, -4.027599811553955, -4.657599925994873, -5.493800163269043, -5.532700061798096, -4.632400035858154, -5.901299953460693, -4.510000228881836, -5.295199871063232, -4.521200180053711, -5.450399875640869, -4.826700210571289, -2.2925000190734863, -4.358399868011475, -4.502500057220459, -5.1209001541137695, -4.796299934387207, -4.316699981689453, -4.9197001457214355, -4.892300128936768, -5.007599830627441, -5.3317999839782715, -5.2891998291015625, -5.252399921417236, -4.884900093078613, -5.347599983215332, -5.438000202178955, -4.6072998046875, -4.608500003814697, -4.7505998611450195, -5.50029993057251, -5.529699802398682, -5.754000186920166, -5.805699825286865, -5.837900161743164, -5.893199920654297, -5.917699813842773, -6.011199951171875, -6.037300109863281, -6.046800136566162, -6.0971999168396, -6.106599807739258, -6.151800155639648, -6.15880012512207, -6.162199974060059, -6.162700176239014, -6.1717000007629395, -6.183599948883057, -6.194799900054932, -6.221399784088135, -6.223400115966797, -6.311999797821045, -6.33650016784668, -6.346199989318848, -6.368100166320801, -6.366199970245361, -6.424300193786621, -5.526599884033203, -4.6753997802734375, -4.605000019073486, -5.6072998046875, -5.514599800109863, -4.751999855041504, -4.951499938964844, -5.650400161743164, -5.451399803161621, -5.467700004577637, -4.483500003814697, -2.549799919128418, -4.888999938964844, -4.924900054931641, -3.609499931335449, -4.901000022888184, -5.36269998550415, -5.4430999755859375, -4.352799892425537, -4.987500190734863, -5.399600028991699, -5.586299896240234, -5.212200164794922, -5.601399898529053, -5.525000095367432]}, \"token.table\": {\"Topic\": [5, 5, 8, 1, 2, 5, 6, 10, 1, 9, 1, 9, 1, 9, 1, 9, 1, 9, 1, 9, 10, 2, 4, 6, 9, 9, 8, 1, 9, 6, 6, 1, 6, 1, 6, 1, 5, 9, 1, 2, 6, 9, 10, 10, 1, 8, 9, 3, 5, 9, 1, 9, 9, 10, 6, 8, 6, 8, 4, 9, 3, 4, 5, 8, 1, 8, 1, 3, 1, 8, 9, 10, 1, 3, 9, 6, 4, 6, 3, 4, 5, 3, 6, 3, 5, 6, 8, 8, 3, 10, 2, 5, 1, 2, 6, 9, 10, 1, 2, 4, 8, 9, 10, 7, 9, 2, 3, 7, 5, 6, 1, 1, 2, 4, 9, 8, 9, 4, 1, 2, 3, 4, 5, 6, 8, 9, 10, 6, 10, 1, 7, 3, 10, 6, 8, 10, 6, 9, 2, 3, 6, 8, 9, 10, 3, 1, 2, 6, 8, 7, 3, 9, 10, 1, 5, 10, 10, 5, 6, 6, 1, 2, 8, 7, 9, 1, 8, 3, 4, 7, 3, 4, 8, 10, 2, 6, 9, 4, 9, 2, 5, 6, 8, 9, 10, 4, 1, 2, 3, 4, 1, 3, 6, 10, 1, 3, 4, 5, 4, 6, 8, 2, 1, 6, 9, 3, 8, 4, 7, 7, 5, 9, 3, 4, 7, 4, 4, 8, 1, 8, 3, 10, 7, 2, 2, 9, 8, 9, 10, 4, 6, 6, 9, 10, 6, 7, 8, 9, 1, 4, 1, 9, 5, 10, 3, 1, 4, 7, 2, 3, 4, 6, 8, 3, 4, 5, 6, 7, 7, 6, 7, 8, 3, 4, 6, 8, 9, 3, 4, 3, 4, 7, 4, 2, 3, 4, 4, 8, 8, 9, 6, 5, 4, 10, 10, 9, 1, 5, 1, 5, 2, 4, 8, 10, 10, 3, 1, 3, 5, 6, 9, 8, 8, 8, 2, 2, 5, 2, 8, 8, 8, 5, 2, 8, 1, 1, 3, 1, 10, 3, 2, 8, 2, 1, 7, 2, 6, 5, 4, 2, 2, 3, 6, 5, 9, 4, 8, 4, 8, 10, 2, 2, 3, 7, 10, 3, 10, 4, 5, 10, 10, 1, 2, 1, 2, 3, 4, 5, 6, 7, 8, 9, 10, 2, 10, 3, 1, 2, 8, 9, 2, 8, 9, 2, 8, 1, 8, 5, 4, 1, 2, 6, 9, 3, 2, 5, 10, 6, 2, 5, 4, 8, 10, 4, 6, 7, 2, 9, 4, 9, 3, 4, 6, 8, 1, 9, 10, 4, 2, 3, 4, 6, 1, 6, 7, 8, 10, 6, 1, 4, 5, 9, 5, 9, 3, 9, 4, 9, 2, 4, 10, 4, 8, 2, 4, 8, 6, 5, 2, 5, 8, 10, 3, 4, 3, 10, 2, 4, 8, 9, 3, 5, 6, 4, 5, 6, 10, 10, 2, 9, 8, 4, 3, 7, 1, 2, 9, 10, 3, 1, 2, 3, 5, 8, 2, 4, 4, 5, 6, 7, 8, 2, 2, 4, 10, 3, 4, 1, 2, 3, 4, 6, 8, 9, 10, 10, 1, 8, 5, 5, 7, 7, 2, 3, 4, 5, 6, 8, 2, 3, 4, 6, 7, 3, 6, 4, 1, 8, 6, 9, 3, 7, 1, 4, 9, 10, 2, 4, 8, 6, 1, 2, 5, 8, 3, 5, 1, 7, 2, 3, 4, 9, 1, 1, 4, 10, 10, 7, 9, 9, 7, 3, 2, 6, 9, 10, 9, 5, 9, 10, 1, 6, 10, 4, 5, 3, 10, 7, 2, 9, 2, 4, 5, 6, 9, 10, 3, 9, 5, 1, 3, 4, 6, 10, 1, 2, 3, 4, 6, 9, 2, 1, 2, 10, 1, 2, 3, 4, 5, 6, 8, 9, 10, 1, 6, 8, 2, 8, 2, 4, 8, 8, 5, 6, 1, 6, 1, 9, 10, 5, 1, 2, 3, 4, 7, 8, 10, 1, 2, 3, 5, 6, 8, 4, 10, 6, 9, 7, 7, 3, 3, 4, 1, 9, 6, 5, 6, 10, 5, 9, 2, 1, 6, 7, 5, 5, 6, 2, 4, 5, 10, 5, 10, 8, 9, 7, 9, 5, 4, 1, 2, 3, 8, 9, 3, 4, 6, 9, 10, 4, 10, 8, 3, 10, 10, 2, 10, 2, 4, 5, 4, 1, 3, 4, 8, 1, 3, 1, 2, 3, 4, 5, 6, 8, 9, 4, 8, 1, 3, 4, 6, 8, 10, 10, 5, 9, 9, 6, 2, 3, 4, 6, 8, 9, 10, 1, 9, 7, 5, 9, 1, 1, 9, 2, 6, 9, 1, 3, 8, 9, 6, 1, 3, 4, 10, 9, 4, 10, 10, 4, 2, 4, 10, 4, 1, 4, 5, 8, 10, 3, 4, 2, 4, 2, 9, 1, 4, 10, 1, 5, 5, 3, 7, 3, 3, 2, 3, 4, 6, 10, 3, 1, 2, 4, 6, 9, 10, 3, 1, 5, 2, 2, 2, 4, 1, 10, 9], \"Freq\": [0.9966657161712646, 0.9975709915161133, 0.9812003970146179, 0.16053356230258942, 0.025181734934449196, 0.7113839983940125, 0.03147716820240021, 0.0661020502448082, 0.612433135509491, 0.3876870572566986, 0.7255851626396179, 0.269985169172287, 0.5051357746124268, 0.4917925298213959, 0.47298184037208557, 0.5257185101509094, 0.7288343906402588, 0.2693518400192261, 0.17722125351428986, 0.7634146213531494, 0.058539144694805145, 0.12271331250667572, 0.09203498065471649, 0.183047354221344, 0.6012952327728271, 0.9936532974243164, 0.9727669358253479, 0.9885110855102539, 0.9918453693389893, 0.9888578057289124, 0.9836159348487854, 0.9915633797645569, 0.9963821768760681, 0.9880716800689697, 0.9839842915534973, 0.34477823972702026, 0.267203152179718, 0.3878755271434784, 0.31736937165260315, 0.10734552145004272, 0.0205356664955616, 0.5423282384872437, 0.011201271787285805, 0.9980832934379578, 0.7981529831886292, 0.11706243455410004, 0.07981529831886292, 0.9931039214134216, 0.9971123337745667, 0.9918121099472046, 0.8454480171203613, 0.15110135078430176, 0.5481824278831482, 0.44911330938339233, 0.9951984882354736, 0.9862963557243347, 0.4777953624725342, 0.5207432508468628, 0.9890459775924683, 0.9932820796966553, 0.4954032897949219, 0.3516818881034851, 0.1099686399102211, 0.041374340653419495, 0.9817879796028137, 0.9916387796401978, 0.2569826543331146, 0.7418055534362793, 0.1508481204509735, 0.018205806612968445, 0.6970223188400269, 0.13524313271045685, 0.10745315253734589, 0.08058986067771912, 0.8097362518310547, 0.9859215617179871, 0.3156810998916626, 0.6781297922134399, 0.09695184975862503, 0.9028640985488892, 0.9985806941986084, 0.24029463529586792, 0.7572922110557556, 0.08525602519512177, 0.053285013884305954, 0.04262801259756088, 0.8099322319030762, 0.9991533160209656, 0.8185569643974304, 0.17924605309963226, 0.9970834255218506, 0.9980130791664124, 0.30974093079566956, 0.4082486927509308, 0.029450776055455208, 0.23560620844364166, 0.016248704865574837, 0.04976929351687431, 0.6967701315879822, 0.1795249581336975, 0.031994547694921494, 0.015997273847460747, 0.024884646758437157, 0.9998703002929688, 0.9977413415908813, 0.24856902658939362, 0.745707094669342, 0.9692510366439819, 0.9326793551445007, 0.051105719059705734, 0.990243136882782, 0.024365650489926338, 0.08059407770633698, 0.4966844320297241, 0.3973475396633148, 0.6584770083427429, 0.3359576463699341, 0.9961519837379456, 0.059541698545217514, 0.02486356534063816, 0.041875481605529785, 0.3546329736709595, 0.09945426136255264, 0.03794965520501137, 0.006543043535202742, 0.2623760402202606, 0.11188604682683945, 0.9924961924552917, 0.9960449934005737, 0.9928907155990601, 0.9996198415756226, 0.03071988932788372, 0.9599965214729309, 0.6683913469314575, 0.07787083834409714, 0.25308021903038025, 0.09777750819921494, 0.9018759727478027, 0.4071880877017975, 0.07205385714769363, 0.22956694662570953, 0.07037818431854248, 0.17426979541778564, 0.04691879078745842, 0.9969413876533508, 0.9939954280853271, 0.9969202280044556, 0.055761851370334625, 0.9399855136871338, 0.9729880094528198, 0.5002038478851318, 0.32191336154937744, 0.1774650514125824, 0.9739510416984558, 0.992804229259491, 0.9950644373893738, 0.9841382503509521, 0.9992769956588745, 0.9956119060516357, 0.9957866668701172, 0.32691219449043274, 0.40820780396461487, 0.2629134953022003, 0.9997006058692932, 0.9963415861129761, 0.8557819128036499, 0.1377120316028595, 0.04391495883464813, 0.9514908194541931, 0.9832509160041809, 0.0330621637403965, 0.5406635999679565, 0.40841495990753174, 0.015558665618300438, 0.9947713017463684, 0.9975923299789429, 0.9973607063293457, 0.9957767724990845, 0.9913637638092041, 0.2581225037574768, 0.043643902987241745, 0.08853477239608765, 0.0448908731341362, 0.5337026119232178, 0.029927248135209084, 0.9926620125770569, 0.051307667046785355, 0.051307667046785355, 0.20156583189964294, 0.6944859027862549, 0.17242658138275146, 0.2063893973827362, 0.5825928449630737, 0.03657533600926399, 0.09614133834838867, 0.16617020964622498, 0.44272494316101074, 0.29435867071151733, 0.7556262016296387, 0.12676623463630676, 0.11682378500699997, 0.9930004477500916, 0.33800578117370605, 0.33469200134277344, 0.32695984840393066, 0.9938073754310608, 0.9891281723976135, 0.9877452254295349, 0.99981689453125, 0.9632759690284729, 0.8907830119132996, 0.10212798416614532, 0.2783844769001007, 0.25357794761657715, 0.46856793761253357, 0.9951403141021729, 0.9543522596359253, 0.041237443685531616, 0.9548525810241699, 0.04657817631959915, 0.8474557995796204, 0.14667503535747528, 0.994698166847229, 0.9986526966094971, 0.15702031552791595, 0.8425480723381042, 0.06865262240171432, 0.05492210015654564, 0.8718883395195007, 0.9971368312835693, 0.9903873801231384, 0.1459655463695526, 0.21659404039382935, 0.6356564164161682, 0.9907200336456299, 0.9932900071144104, 0.9756020307540894, 0.9916142225265503, 0.9706082344055176, 0.991126537322998, 0.9862681031227112, 0.9895288944244385, 0.7295669913291931, 0.26624009013175964, 0.9823571443557739, 0.793127179145813, 0.2030712068080902, 0.9877490997314453, 0.1822868287563324, 0.15133245289325714, 0.5623376369476318, 0.07222685217857361, 0.03181421011686325, 0.5332134366035461, 0.465795636177063, 0.9927520751953125, 0.029535846784710884, 0.9699300527572632, 0.999871015548706, 0.9883293509483337, 0.9997910857200623, 0.9913581609725952, 0.07054156810045242, 0.7094466090202332, 0.09472724795341492, 0.09472724795341492, 0.030232099816203117, 0.9899975061416626, 0.9852421879768372, 0.012225113809108734, 0.9820841550827026, 0.9947324991226196, 0.9916546940803528, 0.5672574639320374, 0.05654903128743172, 0.37463733553886414, 0.7434799671173096, 0.25551971793174744, 0.9871587157249451, 0.9998199343681335, 0.9985312819480896, 0.9948316812515259, 0.6064395904541016, 0.39103755354881287, 0.9850602149963379, 0.9930293560028076, 0.9855868220329285, 0.9902352094650269, 0.9921044707298279, 0.9960572123527527, 0.10968772321939468, 0.1669161021709442, 0.085842564702034, 0.6342811584472656, 0.987647533416748, 0.9793081879615784, 0.16244687139987946, 0.8325402140617371, 0.13472846150398254, 0.8656303882598877, 0.9778752326965332, 0.9917718172073364, 0.9910412430763245, 0.9874037504196167, 0.9942730665206909, 0.9970470070838928, 0.9914497137069702, 0.9986916184425354, 0.9901903867721558, 0.9874037504196167, 0.9778442978858948, 0.9858261346817017, 0.9939748644828796, 0.9942155480384827, 0.995693027973175, 0.9750280380249023, 0.9881475567817688, 0.9966245293617249, 0.9973341226577759, 0.983564019203186, 0.9939130544662476, 0.9874445199966431, 0.9902697801589966, 0.9884142875671387, 0.9929479360580444, 0.9960262179374695, 0.9922944903373718, 0.982246994972229, 0.993683934211731, 0.9977744221687317, 0.9992863535881042, 0.9823571443557739, 0.9796715974807739, 0.9993633031845093, 0.9929628968238831, 0.9375519156455994, 0.057938601821660995, 0.9076302647590637, 0.062321677803993225, 0.029461156576871872, 0.9966407418251038, 0.03406141325831413, 0.5756378769874573, 0.14646407961845398, 0.245242178440094, 0.995039701461792, 0.9954848885536194, 0.9954097867012024, 0.9887500405311584, 0.9844095706939697, 0.9884884357452393, 0.994137167930603, 0.9959962368011475, 0.13651306927204132, 0.15509408712387085, 0.06383310258388519, 0.16832523047924042, 0.07615085691213608, 0.053368233144283295, 0.07557672262191772, 0.06615573167800903, 0.14089734852313995, 0.06409407407045364, 0.9962388277053833, 0.9798936247825623, 0.9949967265129089, 0.21875083446502686, 0.49834173917770386, 0.0382813960313797, 0.24404390156269073, 0.7471569180488586, 0.03686629608273506, 0.21628226339817047, 0.17103596031665802, 0.8277618288993835, 0.8939511179924011, 0.10443354398012161, 0.9887500405311584, 0.9880427718162537, 0.6250914335250854, 0.12906745076179504, 0.17462067306041718, 0.0683298259973526, 0.9917134642601013, 0.1436391919851303, 0.8413152694702148, 0.9925234317779541, 0.9975116848945618, 0.9977638125419617, 0.9836897850036621, 0.14969100058078766, 0.4490729868412018, 0.3977503478527069, 0.9957484602928162, 0.9955353140830994, 0.9954367280006409, 0.998845636844635, 0.9963982105255127, 0.9983742833137512, 0.9982786774635315, 0.9929488301277161, 0.991222620010376, 0.997528076171875, 0.9905966520309448, 0.32931652665138245, 0.2498263418674469, 0.4173235297203064, 0.9951837062835693, 0.6828831434249878, 0.13353408873081207, 0.150437131524086, 0.032115790992975235, 0.22213399410247803, 0.03470843657851219, 0.6178101897239685, 0.09371278434991837, 0.024295905604958534, 0.9956672787666321, 0.05431656911969185, 0.8690651059150696, 0.07604319602251053, 0.9932802319526672, 0.22793947160243988, 0.7704353928565979, 0.9937958717346191, 0.9843623638153076, 0.9963136315345764, 0.9830582737922668, 0.405342161655426, 0.3088321089744568, 0.2859109938144684, 0.18709303438663483, 0.8091166615486145, 0.12308673560619354, 0.8616071343421936, 0.013462611474096775, 0.9922969937324524, 0.9897000193595886, 0.999161422252655, 0.989105761051178, 0.9862818121910095, 0.9844805002212524, 0.9964467287063599, 0.9865596294403076, 0.14024360477924347, 0.856070339679718, 0.08653315156698227, 0.23130975663661957, 0.6090602278709412, 0.07322035729885101, 0.9988279938697815, 0.5239328742027283, 0.47348007559776306, 0.6919154524803162, 0.03307962417602539, 0.23431400954723358, 0.03859289363026619, 0.989637553691864, 0.7292121052742004, 0.27094578742980957, 0.9982946515083313, 0.9944594502449036, 0.991779625415802, 0.9998536705970764, 0.303486168384552, 0.14542044699192047, 0.22942107915878296, 0.32064756751060486, 0.9937866926193237, 0.7067195773124695, 0.11629562824964523, 0.1789163500070572, 0.9940499663352966, 0.9831149578094482, 0.8749315142631531, 0.12499021738767624, 0.17659352719783783, 0.8217005133628845, 0.9948882460594177, 0.9739072918891907, 0.9950100779533386, 0.9949538707733154, 0.7957755327224731, 0.17550335824489594, 0.02764778956770897, 0.06562173366546631, 0.9351097345352173, 0.035974275320768356, 0.03651934117078781, 0.1662447601556778, 0.13844645023345947, 0.16297437250614166, 0.05178115516901016, 0.3728243112564087, 0.034884147346019745, 0.9937920570373535, 0.9879930019378662, 0.9922296404838562, 0.999056339263916, 0.9897000193595886, 0.9996058940887451, 0.9958199262619019, 0.278336763381958, 0.10266520082950592, 0.42663097381591797, 0.0536140501499176, 0.11293172091245651, 0.02509593963623047, 0.04801688715815544, 0.052818574011325836, 0.643426239490509, 0.04801688715815544, 0.20647260546684265, 0.996492326259613, 0.9986541271209717, 0.9842880368232727, 0.9909211993217468, 0.9950100779533386, 0.6670646667480469, 0.33050021529197693, 0.9880743622779846, 0.9769529104232788, 0.18917930126190186, 0.20691485702991486, 0.2571656107902527, 0.3428874611854553, 0.9867298603057861, 0.962677001953125, 0.03358175605535507, 0.9903873801231384, 0.14003853499889374, 0.16990457475185394, 0.5880290865898132, 0.10154452919960022, 0.1964641511440277, 0.8004094958305359, 0.9902228116989136, 0.9743841886520386, 0.9899634122848511, 0.99451744556427, 0.06063959002494812, 0.934860348701477, 0.996732234954834, 0.1781327724456787, 0.11451392620801926, 0.7061691880226135, 0.9852190017700195, 0.9816288352012634, 0.9977413415908813, 0.9949125051498413, 0.9729880094528198, 0.9962940812110901, 0.5758802890777588, 0.17047719657421112, 0.14552931487560272, 0.1060284972190857, 0.9945365190505981, 0.9579278230667114, 0.039299603551626205, 0.9837854504585266, 0.7310130000114441, 0.2664136290550232, 0.9843316078186035, 0.983555257320404, 0.015863794833421707, 0.9946708679199219, 0.9900460839271545, 0.9501124024391174, 0.9957234263420105, 0.9876599907875061, 0.030758915469050407, 0.11811424046754837, 0.4392373263835907, 0.2743695378303528, 0.13656958937644958, 0.9948229789733887, 0.08886828273534775, 0.9077260494232178, 0.9840348958969116, 0.0816754475235939, 0.3661313056945801, 0.3858460783958435, 0.1520853191614151, 0.01408197358250618, 0.9919722676277161, 0.0467691533267498, 0.3851577043533325, 0.24209913611412048, 0.22559237480163574, 0.09904055297374725, 0.9890835285186768, 0.9884142875671387, 0.14556428790092468, 0.8504018783569336, 0.06944622099399567, 0.43587520718574524, 0.1166062206029892, 0.06126625835895538, 0.07553946226835251, 0.029381094500422478, 0.10709074884653091, 0.03372148424386978, 0.07103213667869568, 0.67910236120224, 0.29263949394226074, 0.027923617511987686, 0.9971150755882263, 0.9913038015365601, 0.0910729467868805, 0.26593300700187683, 0.6411535739898682, 0.9894341230392456, 0.34377264976501465, 0.6521569490432739, 0.6892058849334717, 0.30967697501182556, 0.5216267108917236, 0.25664031505584717, 0.22116971015930176, 0.9906293749809265, 0.9959503412246704, 0.1381741166114807, 0.10031819343566895, 0.4750918447971344, 0.030284738168120384, 0.17035165429115295, 0.08328302949666977, 0.153267502784729, 0.3427618741989136, 0.05573363974690437, 0.011146727949380875, 0.4347223937511444, 0.9964266419410706, 0.9973275661468506, 0.9817702174186707, 0.9982231855392456, 0.9939717054367065, 0.9614043235778809, 0.999565839767456, 0.9969786405563354, 0.024213876575231552, 0.9685550332069397, 0.6964893937110901, 0.30359795689582825, 0.9867209196090698, 0.9985765814781189, 0.9986271262168884, 0.9914032220840454, 0.14027278125286102, 0.8533260822296143, 0.992588222026825, 0.9980199933052063, 0.8898704648017883, 0.10978920757770538, 0.984542965888977, 0.999020516872406, 0.995675802230835, 0.0689893439412117, 0.9313561320304871, 0.1003928929567337, 0.888090968132019, 0.18815764784812927, 0.8119131326675415, 0.9851678013801575, 0.9977728724479675, 0.999579668045044, 0.9801546335220337, 0.9968165159225464, 0.987000048160553, 0.18941694498062134, 0.02104632742702961, 0.08286990970373154, 0.02104632742702961, 0.684005618095398, 0.9829180836677551, 0.495454341173172, 0.12037893384695053, 0.09376885741949081, 0.2889094352722168, 0.9860754609107971, 0.9953983426094055, 0.9944227933883667, 0.9888935089111328, 0.993061363697052, 0.9950651526451111, 0.2934592366218567, 0.7063797116279602, 0.14865581691265106, 0.7796845436096191, 0.0697772204875946, 0.997848391532898, 0.9851793646812439, 0.030335407704114914, 0.9100622534751892, 0.05833732336759567, 0.13364703953266144, 0.8553410768508911, 0.9824930429458618, 0.05211057886481285, 0.06044827401638031, 0.5336123704910278, 0.12298096716403961, 0.02709750086069107, 0.13965635001659393, 0.06461711972951889, 0.9859601259231567, 0.9911425709724426, 0.2985682189464569, 0.02044987678527832, 0.22494864463806152, 0.0879344716668129, 0.07566454261541367, 0.2903882563114166, 0.9862560629844666, 0.07290909439325333, 0.9250341057777405, 0.9840030074119568, 0.9763351082801819, 0.03621973469853401, 0.14186063408851624, 0.5402777194976807, 0.09205849468708038, 0.012073244899511337, 0.013582400046288967, 0.1644979566335678, 0.9989442825317383, 0.9774256944656372, 0.9729880094528198, 0.9207849502563477, 0.07798998057842255, 0.9807646870613098, 0.2767336368560791, 0.7232811450958252, 0.049563147127628326, 0.6665737628936768, 0.28321799635887146, 0.060157135128974915, 0.06416761130094528, 0.030746979638934135, 0.8435366749763489, 0.9990731477737427, 0.151174858212471, 0.5765738487243652, 0.2390672117471695, 0.03164124861359596, 0.9951335787773132, 0.9938241839408875, 0.9881121516227722, 0.9886034727096558, 0.9899112582206726, 0.18486276268959045, 0.6650257706642151, 0.15005093812942505, 0.9855777621269226, 0.14413243532180786, 0.15013796091079712, 0.09008277207612991, 0.612562894821167, 0.9831423759460449, 0.07383657246828079, 0.9201172590255737, 0.06714869290590286, 0.9304890632629395, 0.9627047181129456, 0.03621459752321243, 0.707371711730957, 0.12099778652191162, 0.16753539443016052, 0.860375702381134, 0.1377725899219513, 0.9840348958969116, 0.04378494620323181, 0.9560287594795227, 0.9913715720176697, 0.9978817105293274, 0.1442081332206726, 0.014184406027197838, 0.44917285442352295, 0.35697421431541443, 0.0378250852227211, 0.9905227422714233, 0.6256168484687805, 0.028045525774359703, 0.0417933352291584, 0.09953412413597107, 0.13069581985473633, 0.07423815876245499, 0.9922979474067688, 0.9679749011993408, 0.030407588928937912, 0.9955384135246277, 0.993324875831604, 0.9919643402099609, 0.995986819267273, 0.9948404431343079, 0.9949088096618652, 0.9990803003311157], \"Term\": [\"140cv\", \"19800\", \"1993\", \"20\", \"20\", \"20\", \"20\", \"20\", \"2012\", \"2012\", \"2013\", \"2013\", \"2014\", \"2014\", \"2015\", \"2015\", \"2016\", \"2016\", \"2017\", \"2017\", \"2017\", \"2018\", \"2018\", \"2018\", \"2018\", \"2019\", \"21\", \"247\", \"24v\", \"28\", \"2colors\", \"2dr\", \"2pcs\", \"30point\", \"40m\", \"4wd\", \"4wd\", \"4wd\", \"4x4\", \"4x4\", \"4x4\", \"4x4\", \"4x4\", \"50\", \"6\", \"6\", \"6\", \"600\", \"active\", \"actually\", \"ad\", \"ad\", \"added\", \"added\", \"aka\", \"alexander\", \"alexander0729\", \"alexander0729\", \"already\", \"altitude\", \"amp\", \"amp\", \"amp\", \"amp\", \"andyto\", \"ang\", \"around\", \"around\", \"auto\", \"auto\", \"auto\", \"auto\", \"automatic\", \"automatic\", \"automatic\", \"award\", \"away\", \"away\", \"back\", \"back\", \"bamboo\", \"bar\", \"bar\", \"beach\", \"beach\", \"beach\", \"beach\", \"beep\", \"begin\", \"begin\", \"better\", \"bitemekiki\", \"black\", \"black\", \"black\", \"black\", \"black\", \"blue\", \"blue\", \"blue\", \"blue\", \"blue\", \"blue\", \"body\", \"bordo\", \"bought\", \"bought\", \"brain\", \"breaking\", \"breaking\", \"bright\", \"buy\", \"buy\", \"buy\", \"buy\", \"call\", \"call\", \"cant\", \"car\", \"car\", \"car\", \"car\", \"car\", \"car\", \"car\", \"car\", \"car\", \"carmodelfood\", \"cat\", \"certified\", \"chance\", \"changed\", \"changed\", \"check\", \"check\", \"check\", \"cherokee\", \"cherokee\", \"chrysler\", \"chrysler\", \"chrysler\", \"chrysler\", \"chrysler\", \"chrysler\", \"cimgoi\", \"clearcoat\", \"color\", \"combo\", \"combo\", \"compaign\", \"compass\", \"compass\", \"compass\", \"concern\", \"confident\", \"confirmed\", \"confused\", \"convey\", \"crazy\", \"crd\", \"credit\", \"credit\", \"credit\", \"cross\", \"cry\", \"custom\", \"custom\", \"dad\", \"dad\", \"daniel\", \"day\", \"day\", \"day\", \"day\", \"debtenator\", \"decal\", \"demon\", \"didnt\", \"dlc\", \"dodge\", \"dodge\", \"dodge\", \"dodge\", \"dodge\", \"dodge\", \"doesnt\", \"dont\", \"dont\", \"dont\", \"dont\", \"door\", \"door\", \"door\", \"door\", \"drive\", \"drive\", \"drive\", \"drive\", \"driving\", \"driving\", \"driving\", \"dylan\", \"ebay\", \"ebay\", \"ebay\", \"effect\", \"ekiti\", \"end\", \"entered\", \"eric\", \"euro\", \"euro\", \"even\", \"even\", \"even\", \"ever\", \"every\", \"every\", \"exploring\", \"exploring\", \"export\", \"export\", \"f\", \"fact\", \"faster\", \"faster\", \"fca\", \"fca\", \"fca\", \"feel\", \"filipina\", \"fit\", \"fit\", \"fit\", \"floureedah\", \"foil\", \"following\", \"forza\", \"four\", \"fucking\", \"fuel\", \"fwd\", \"g\", \"g\", \"gabbarsher\", \"game\", \"game\", \"gandhi\", \"get\", \"get\", \"get\", \"get\", \"get\", \"getting\", \"getting\", \"gia\", \"girl\", \"girl\", \"giveaway\", \"giving\", \"glittering\", \"gmanetwork\", \"go\", \"go\", \"go\", \"go\", \"go\", \"goal\", \"god\", \"going\", \"going\", \"gold\", \"gonna\", \"good\", \"good\", \"good\", \"got\", \"got\", \"governor\", \"grand\", \"graphic\", \"gthummer\", \"guy\", \"guy\", \"happened\", \"happiness\", \"hardtop\", \"heart021485\", \"heat\", \"hell\", \"help\", \"help\", \"help\", \"help\", \"hey\", \"hitting\", \"holyjeeps\", \"holyjeeps\", \"hood\", \"hood\", \"horizon\", \"httpstco0tqb1utgh3\", \"httpstco2ob8sjpagd\", \"httpstco3tqcratygf\", \"httpstco4mwvr8xzvm\", \"httpstco685ffiofnl\", \"httpstco6fkyq5sbjs\", \"httpstcobvgln4ayie\", \"httpstcod2dyqnr1t3\", \"httpstcodhhqeepg0q\", \"httpstcodqwhlromaq\", \"httpstcoiokjcwp70a\", \"httpstcoizkymbnrsh\", \"httpstcojg5ecber6c\", \"httpstcokl0oc8xvof\", \"httpstcokzltu\", \"httpstcom4mjle3tbc\", \"httpstcomtfwd7wjoi\", \"httpstcon65v0hjtbd\", \"httpstcoohn8jwavuk\", \"httpstcopdfmvgpius\", \"httpstcoqrr99j7vyf\", \"httpstcos99npxakbl\", \"httpstcosjarj6enuc\", \"httpstcospvgwleeup\", \"httpstcot5q2hxkdng\", \"httpstcoteb\", \"httpstcovtmjzcxnfe\", \"httpstcox58ir0tezx\", \"httpstcoy6p4ds0f2c\", \"httpstcoyipkreck1n\", \"httpstcoyjkgay45jd\", \"huffines\", \"hummer\", \"i4\", \"ill\", \"ill\", \"im\", \"im\", \"im\", \"in\", \"india\", \"india\", \"india\", \"india\", \"internationally\", \"inventory\", \"ive\", \"iwo\", \"jacket\", \"jackj\", \"jaime\", \"january\", \"jeep\", \"jeep\", \"jeep\", \"jeep\", \"jeep\", \"jeep\", \"jeep\", \"jeep\", \"jeep\", \"jeep\", \"jeepahoiics\", \"jeepindia\", \"jeepjams\", \"jeeplife\", \"jeeplife\", \"jeeplife\", \"jeeplife\", \"jeepmafia\", \"jeepmafia\", \"jeepmafia\", \"jeepporn\", \"jeepporn\", \"jeepwrangler\", \"jeepwrangler\", \"jima\", \"jinyoung\", \"jk\", \"jk\", \"jk\", \"jk\", \"johnjohnflorenc\", \"junho\", \"junho\", \"jus\", \"justforyousweepstakes\", \"kameronbennett\", \"kateshenna\", \"key\", \"key\", \"key\", \"know\", \"korean\", \"kristen\", \"kylie\", \"laredo\", \"last\", \"latitude\", \"leader\", \"leak\", \"led\", \"lee\", \"liberty\", \"liberty\", \"liberty\", \"licensed\", \"life\", \"life\", \"life\", \"life\", \"lift\", \"lift\", \"lift\", \"lift\", \"lift\", \"light\", \"like\", \"like\", \"like\", \"liked\", \"limited\", \"limited\", \"link\", \"locksmith\", \"lol\", \"london\", \"look\", \"look\", \"look\", \"looking\", \"looking\", \"love\", \"love\", \"love\", \"lucky\", \"lugawfor\", \"luxbucketlist\", \"luxurycars\", \"lyricsartph\", \"m1960a07\", \"madeinindia\", \"madprincejy\", \"mailonline\", \"mailonline\", \"make\", \"make\", \"make\", \"make\", \"makeinindia\", \"making\", \"making\", \"man\", \"man\", \"man\", \"man\", \"maserati\", \"matte\", \"matte\", \"mean\", \"member\", \"meoripcurlpro\", \"messenger\", \"mile\", \"mile\", \"mile\", \"mile\", \"mind\", \"miss\", \"miss\", \"miss\", \"mjt\", \"mkjfever\", \"morning\", \"morning\", \"music\", \"music\", \"named\", \"narendramodi\", \"natalie\", \"nature\", \"need\", \"need\", \"need\", \"never\", \"never\", \"new\", \"new\", \"new\", \"new\", \"new\", \"new\", \"new\", \"new\", \"nextgen\", \"nextgeneration\", \"ng\", \"nigeria\", \"nitezens\", \"nowa\", \"officeofrg\", \"one\", \"one\", \"one\", \"one\", \"one\", \"one\", \"open\", \"open\", \"open\", \"open\", \"open\", \"opportunity\", \"oracal\", \"ordering\", \"oregon\", \"outlast\", \"overland\", \"overland\", \"pakistan\", \"pankajsuper30\", \"part\", \"part\", \"part\", \"part\", \"pas\", \"people\", \"people\", \"philippinesa\", \"photo\", \"photo\", \"photo\", \"photo\", \"pink\", \"pink\", \"player\", \"pmoindia\", \"pop\", \"portugal\", \"post\", \"post\", \"power\", \"price\", \"price\", \"price\", \"pro\", \"profit\", \"prueba\", \"published\", \"rahul\", \"rally\", \"ram\", \"ram\", \"ram\", \"ram\", \"rather\", \"raw\", \"raw\", \"raygunvoss\", \"ready\", \"ready\", \"reallllyyyyy\", \"really\", \"really\", \"receive\", \"recently\", \"recon\", \"reflection\", \"remote\", \"renegade\", \"renegade\", \"renegade\", \"renegade\", \"renegade\", \"returncheck\", \"review\", \"review\", \"revillame\", \"ride\", \"ride\", \"ride\", \"ride\", \"ride\", \"rim\", \"road\", \"road\", \"road\", \"road\", \"road\", \"roadshow\", \"roughin\", \"rpx53\", \"rpx53\", \"rt\", \"rt\", \"rt\", \"rt\", \"rt\", \"rt\", \"rt\", \"rt\", \"rt\", \"rubicon\", \"rubicon\", \"rubicon\", \"rugged\", \"s\", \"sa\", \"sa\", \"sa\", \"sabi\", \"sabit\", \"sabit\", \"sahara\", \"sahara\", \"sale\", \"sale\", \"sale\", \"sand\", \"season\", \"see\", \"see\", \"see\", \"see\", \"see\", \"see\", \"set\", \"set\", \"set\", \"set\", \"set\", \"sexy\", \"shit\", \"shopping\", \"side\", \"siiiybae\", \"silverado\", \"small\", \"sold\", \"someone\", \"someone\", \"sport\", \"sport\", \"spot\", \"spotted\", \"sprint\", \"squad\", \"srt\", \"srt\", \"srtporn\", \"stance\", \"star\", \"star\", \"stare\", \"stick\", \"sticker\", \"still\", \"still\", \"street\", \"street\", \"stuck\", \"stuck\", \"sumabit\", \"summit\", \"sun\", \"sunroof\", \"supercars\", \"sure\", \"suv\", \"suv\", \"suv\", \"suv\", \"suv\", \"sweet\", \"take\", \"take\", \"take\", \"take\", \"taking\", \"tan\", \"teal\", \"theashoksingh\", \"thefacesofjeep\", \"thejeepboss\", \"thejeepmafia\", \"thejeepmafia\", \"thing\", \"thing\", \"thing\", \"think\", \"ticket\", \"time\", \"time\", \"time\", \"title\", \"title\", \"tobias31\", \"today\", \"today\", \"today\", \"today\", \"today\", \"today\", \"today\", \"tomorrow\", \"tonka\", \"top\", \"top\", \"top\", \"top\", \"top\", \"top\", \"topjeeper\", \"trackhawk\", \"trackhawk\", \"transmission\", \"trial\", \"u\", \"u\", \"u\", \"u\", \"u\", \"u\", \"u\", \"unlimited\", \"unlocking\", \"unused\", \"used\", \"used\", \"usjeepsales\", \"v6\", \"v6\", \"via\", \"via\", \"via\", \"video\", \"video\", \"video\", \"video\", \"vinyl\", \"w\", \"w\", \"w\", \"w\", \"wagoneer\", \"wait\", \"walked\", \"wall\", \"wanna\", \"want\", \"want\", \"want\", \"wanted\", \"watch\", \"watch\", \"watch\", \"watch\", \"waterproof\", \"wave\", \"wave\", \"way\", \"way\", \"weekend\", \"weekend\", \"whats\", \"whats\", \"whats\", \"wheel\", \"wheel\", \"willie\", \"win\", \"win\", \"working\", \"world\", \"would\", \"would\", \"would\", \"would\", \"would\", \"wouldnt\", \"wrangler\", \"wrangler\", \"wrangler\", \"wrangler\", \"wrangler\", \"wrangler\", \"wsl\", \"x\", \"x\", \"xprite\", \"xpriteusa\", \"y\", \"yall\", \"yj\", \"yo\", \"youtube\"]}, \"R\": 30, \"lambda.step\": 0.01, \"plot.opts\": {\"xlab\": \"PC1\", \"ylab\": \"PC2\"}, \"topic.order\": [1, 2, 3, 4, 5, 6, 7, 8, 9, 10]};\n",
       "\n",
       "function LDAvis_load_lib(url, callback){\n",
       "  var s = document.createElement('script');\n",
       "  s.src = url;\n",
       "  s.async = true;\n",
       "  s.onreadystatechange = s.onload = callback;\n",
       "  s.onerror = function(){console.warn(\"failed to load library \" + url);};\n",
       "  document.getElementsByTagName(\"head\")[0].appendChild(s);\n",
       "}\n",
       "\n",
       "if(typeof(LDAvis) !== \"undefined\"){\n",
       "   // already loaded: just create the visualization\n",
       "   !function(LDAvis){\n",
       "       new LDAvis(\"#\" + \"ldavis_el100606373012889821143871\", ldavis_el100606373012889821143871_data);\n",
       "   }(LDAvis);\n",
       "}else if(typeof define === \"function\" && define.amd){\n",
       "   // require.js is available: use it to load d3/LDAvis\n",
       "   require.config({paths: {d3: \"https://cdnjs.cloudflare.com/ajax/libs/d3/3.5.5/d3.min\"}});\n",
       "   require([\"d3\"], function(d3){\n",
       "      window.d3 = d3;\n",
       "      LDAvis_load_lib(\"https://cdn.rawgit.com/bmabey/pyLDAvis/files/ldavis.v1.0.0.js\", function(){\n",
       "        new LDAvis(\"#\" + \"ldavis_el100606373012889821143871\", ldavis_el100606373012889821143871_data);\n",
       "      });\n",
       "    });\n",
       "}else{\n",
       "    // require.js not available: dynamically load d3 & LDAvis\n",
       "    LDAvis_load_lib(\"https://cdnjs.cloudflare.com/ajax/libs/d3/3.5.5/d3.min.js\", function(){\n",
       "         LDAvis_load_lib(\"https://cdn.rawgit.com/bmabey/pyLDAvis/files/ldavis.v1.0.0.js\", function(){\n",
       "                 new LDAvis(\"#\" + \"ldavis_el100606373012889821143871\", ldavis_el100606373012889821143871_data);\n",
       "            })\n",
       "         });\n",
       "}\n",
       "</script>"
      ],
      "text/plain": [
       "<IPython.core.display.HTML object>"
      ]
     },
     "execution_count": 132,
     "metadata": {},
     "output_type": "execute_result"
    }
   ],
   "source": [
    "lda_display = pyLDAvis.gensim.prepare(ldamodel, doc_term_matrix, dictionary, sort_topics=False, mds='mmds')\n",
    "pyLDAvis.display(lda_display)"
   ]
  },
  {
   "cell_type": "markdown",
   "metadata": {},
   "source": [
    "## TF-IDF on news articles"
   ]
  },
  {
   "cell_type": "code",
   "execution_count": 61,
   "metadata": {},
   "outputs": [],
   "source": [
    "directory = 'C://Users//IBM_ADMIN//Documents//Teaching//Data Projects//Text//Webhose//'\n",
    "news_articles = 'news_toyota.pkl'\n",
    "path = directory+news_articles"
   ]
  },
  {
   "cell_type": "code",
   "execution_count": 62,
   "metadata": {},
   "outputs": [],
   "source": [
    "news_df = pd.read_pickle(directory+news_articles)"
   ]
  },
  {
   "cell_type": "code",
   "execution_count": 63,
   "metadata": {},
   "outputs": [
    {
     "data": {
      "text/html": [
       "<div>\n",
       "<style scoped>\n",
       "    .dataframe tbody tr th:only-of-type {\n",
       "        vertical-align: middle;\n",
       "    }\n",
       "\n",
       "    .dataframe tbody tr th {\n",
       "        vertical-align: top;\n",
       "    }\n",
       "\n",
       "    .dataframe thead th {\n",
       "        text-align: right;\n",
       "    }\n",
       "</style>\n",
       "<table border=\"1\" class=\"dataframe\">\n",
       "  <thead>\n",
       "    <tr style=\"text-align: right;\">\n",
       "      <th></th>\n",
       "      <th>crawled</th>\n",
       "      <th>language</th>\n",
       "      <th>text</th>\n",
       "      <th>title</th>\n",
       "    </tr>\n",
       "  </thead>\n",
       "  <tbody>\n",
       "    <tr>\n",
       "      <th>0</th>\n",
       "      <td>2018-02-02T04:24:51.072+02:00</td>\n",
       "      <td>english</td>\n",
       "      <td>QR Code Link to This Post All maintenance receipts available, one owner truck. Cash sale. No tra...</td>\n",
       "      <td>Dependable truck 03 Toyota Tacoma Double Cab $1500</td>\n",
       "    </tr>\n",
       "    <tr>\n",
       "      <th>1</th>\n",
       "      <td>2018-02-02T04:27:15.000+02:00</td>\n",
       "      <td>english</td>\n",
       "      <td>0 \\nNEW YORK: Automakers reported mixed US car sales in January, with strong demand for SUVs and...</td>\n",
       "      <td>US car sales mixed in January; trucks stay strong</td>\n",
       "    </tr>\n",
       "    <tr>\n",
       "      <th>2</th>\n",
       "      <td>2018-02-02T04:34:00.008+02:00</td>\n",
       "      <td>english</td>\n",
       "      <td>transmission: automatic   2005 Toyota Camry LE 4 door 4 cyl AUTOMATIC VERY CLEAN INSIDE CLOTH IN...</td>\n",
       "      <td>2005 TOYOTA CAMRY LE 167300 MILEAGE $2450 (TALLASSEE) $2450</td>\n",
       "    </tr>\n",
       "    <tr>\n",
       "      <th>3</th>\n",
       "      <td>2018-02-02T04:36:42.006+02:00</td>\n",
       "      <td>english</td>\n",
       "      <td>favorite this post Brand New Toyota Avalon Floor Mats - $115 (New Britain) hide this posting unh...</td>\n",
       "      <td>Brand New Toyota Avalon Floor Mats (New Britain) $115</td>\n",
       "    </tr>\n",
       "    <tr>\n",
       "      <th>4</th>\n",
       "      <td>2018-02-02T04:38:24.018+02:00</td>\n",
       "      <td>english</td>\n",
       "      <td>more ads by this user QR Code Link to This Post Black w/Piano Black w/Perforated NuLuxe Seat Tri...</td>\n",
       "      <td>2016 Lexus ES 350 (Coliseum Lexus of Oakland) $27772</td>\n",
       "    </tr>\n",
       "  </tbody>\n",
       "</table>\n",
       "</div>"
      ],
      "text/plain": [
       "                         crawled language  \\\n",
       "0  2018-02-02T04:24:51.072+02:00  english   \n",
       "1  2018-02-02T04:27:15.000+02:00  english   \n",
       "2  2018-02-02T04:34:00.008+02:00  english   \n",
       "3  2018-02-02T04:36:42.006+02:00  english   \n",
       "4  2018-02-02T04:38:24.018+02:00  english   \n",
       "\n",
       "                                                                                                  text  \\\n",
       "0  QR Code Link to This Post All maintenance receipts available, one owner truck. Cash sale. No tra...   \n",
       "1  0 \\nNEW YORK: Automakers reported mixed US car sales in January, with strong demand for SUVs and...   \n",
       "2  transmission: automatic   2005 Toyota Camry LE 4 door 4 cyl AUTOMATIC VERY CLEAN INSIDE CLOTH IN...   \n",
       "3  favorite this post Brand New Toyota Avalon Floor Mats - $115 (New Britain) hide this posting unh...   \n",
       "4  more ads by this user QR Code Link to This Post Black w/Piano Black w/Perforated NuLuxe Seat Tri...   \n",
       "\n",
       "                                                         title  \n",
       "0           Dependable truck 03 Toyota Tacoma Double Cab $1500  \n",
       "1            US car sales mixed in January; trucks stay strong  \n",
       "2  2005 TOYOTA CAMRY LE 167300 MILEAGE $2450 (TALLASSEE) $2450  \n",
       "3        Brand New Toyota Avalon Floor Mats (New Britain) $115  \n",
       "4         2016 Lexus ES 350 (Coliseum Lexus of Oakland) $27772  "
      ]
     },
     "execution_count": 63,
     "metadata": {},
     "output_type": "execute_result"
    }
   ],
   "source": [
    "news_df.head(5)"
   ]
  },
  {
   "cell_type": "code",
   "execution_count": 64,
   "metadata": {},
   "outputs": [
    {
     "data": {
      "text/plain": [
       "(100, 4)"
      ]
     },
     "execution_count": 64,
     "metadata": {},
     "output_type": "execute_result"
    }
   ],
   "source": [
    "news_df.shape"
   ]
  },
  {
   "cell_type": "code",
   "execution_count": 65,
   "metadata": {},
   "outputs": [],
   "source": [
    "# Filter non-English tweets\n",
    "news_eng = news_df[news_df['language']=='english'].reset_index(drop=True)"
   ]
  },
  {
   "cell_type": "code",
   "execution_count": 66,
   "metadata": {},
   "outputs": [],
   "source": [
    "# Remove special characters to avoid problems with analysis\n",
    "news_eng['text_clean'] = news_eng['text'].map(lambda x: re.sub('[^a-zA-Z0-9 @ . , : - _]', '', str(x)))"
   ]
  },
  {
   "cell_type": "code",
   "execution_count": 67,
   "metadata": {},
   "outputs": [
    {
     "data": {
      "text/html": [
       "<div>\n",
       "<style scoped>\n",
       "    .dataframe tbody tr th:only-of-type {\n",
       "        vertical-align: middle;\n",
       "    }\n",
       "\n",
       "    .dataframe tbody tr th {\n",
       "        vertical-align: top;\n",
       "    }\n",
       "\n",
       "    .dataframe thead th {\n",
       "        text-align: right;\n",
       "    }\n",
       "</style>\n",
       "<table border=\"1\" class=\"dataframe\">\n",
       "  <thead>\n",
       "    <tr style=\"text-align: right;\">\n",
       "      <th></th>\n",
       "      <th>text</th>\n",
       "      <th>text_clean</th>\n",
       "    </tr>\n",
       "  </thead>\n",
       "  <tbody>\n",
       "    <tr>\n",
       "      <th>0</th>\n",
       "      <td>QR Code Link to This Post All maintenance receipts available, one owner truck. Cash sale. No tra...</td>\n",
       "      <td>QR Code Link to This Post All maintenance receipts available, one owner truck. Cash sale. No tra...</td>\n",
       "    </tr>\n",
       "    <tr>\n",
       "      <th>1</th>\n",
       "      <td>0 \\nNEW YORK: Automakers reported mixed US car sales in January, with strong demand for SUVs and...</td>\n",
       "      <td>0 NEW YORK: Automakers reported mixed US car sales in January, with strong demand for SUVs and p...</td>\n",
       "    </tr>\n",
       "    <tr>\n",
       "      <th>2</th>\n",
       "      <td>transmission: automatic   2005 Toyota Camry LE 4 door 4 cyl AUTOMATIC VERY CLEAN INSIDE CLOTH IN...</td>\n",
       "      <td>transmission: automatic   2005 Toyota Camry LE 4 door 4 cyl AUTOMATIC VERY CLEAN INSIDE CLOTH IN...</td>\n",
       "    </tr>\n",
       "    <tr>\n",
       "      <th>3</th>\n",
       "      <td>favorite this post Brand New Toyota Avalon Floor Mats - $115 (New Britain) hide this posting unh...</td>\n",
       "      <td>favorite this post Brand New Toyota Avalon Floor Mats  115 New Britain hide this posting unhide ...</td>\n",
       "    </tr>\n",
       "    <tr>\n",
       "      <th>4</th>\n",
       "      <td>more ads by this user QR Code Link to This Post Black w/Piano Black w/Perforated NuLuxe Seat Tri...</td>\n",
       "      <td>more ads by this user QR Code Link to This Post Black wPiano Black wPerforated NuLuxe Seat Trim....</td>\n",
       "    </tr>\n",
       "  </tbody>\n",
       "</table>\n",
       "</div>"
      ],
      "text/plain": [
       "                                                                                                  text  \\\n",
       "0  QR Code Link to This Post All maintenance receipts available, one owner truck. Cash sale. No tra...   \n",
       "1  0 \\nNEW YORK: Automakers reported mixed US car sales in January, with strong demand for SUVs and...   \n",
       "2  transmission: automatic   2005 Toyota Camry LE 4 door 4 cyl AUTOMATIC VERY CLEAN INSIDE CLOTH IN...   \n",
       "3  favorite this post Brand New Toyota Avalon Floor Mats - $115 (New Britain) hide this posting unh...   \n",
       "4  more ads by this user QR Code Link to This Post Black w/Piano Black w/Perforated NuLuxe Seat Tri...   \n",
       "\n",
       "                                                                                            text_clean  \n",
       "0  QR Code Link to This Post All maintenance receipts available, one owner truck. Cash sale. No tra...  \n",
       "1  0 NEW YORK: Automakers reported mixed US car sales in January, with strong demand for SUVs and p...  \n",
       "2  transmission: automatic   2005 Toyota Camry LE 4 door 4 cyl AUTOMATIC VERY CLEAN INSIDE CLOTH IN...  \n",
       "3  favorite this post Brand New Toyota Avalon Floor Mats  115 New Britain hide this posting unhide ...  \n",
       "4  more ads by this user QR Code Link to This Post Black wPiano Black wPerforated NuLuxe Seat Trim....  "
      ]
     },
     "execution_count": 67,
     "metadata": {},
     "output_type": "execute_result"
    }
   ],
   "source": [
    "pd.set_option('display.max_colwidth', 100)\n",
    "    news_eng[['text', 'text_clean']].head(5)"
   ]
  },
  {
   "cell_type": "code",
   "execution_count": 68,
   "metadata": {},
   "outputs": [
    {
     "data": {
      "text/plain": [
       "100"
      ]
     },
     "execution_count": 68,
     "metadata": {},
     "output_type": "execute_result"
    }
   ],
   "source": [
    "bloblist = []\n",
    "del bloblist[:]\n",
    "\n",
    "for i  in range(0,len(news_eng)):\n",
    "    bloblist.append(TextBlob(news_eng['text_clean'].iloc[i]))\n",
    "    \n",
    "len(bloblist) "
   ]
  },
  {
   "cell_type": "code",
   "execution_count": 69,
   "metadata": {},
   "outputs": [
    {
     "name": "stdout",
     "output_type": "stream",
     "text": [
      "Top words in news article 1\n",
      "\tWord: receipts, TF-IDF: 0.21733\n",
      "\tWord: Cash, TF-IDF: 0.21733\n",
      "\tWord: 6477478013, TF-IDF: 0.21733\n",
      "\tWord: sale, TF-IDF: 0.19481\n",
      "\tWord: maintenance, TF-IDF: 0.17883\n",
      "\tWord: owner, TF-IDF: 0.17883\n",
      "\tWord: available, TF-IDF: 0.16643\n",
      "\tWord: trades, TF-IDF: 0.1563\n",
      "\tWord: truck, TF-IDF: 0.11779\n",
      "\tWord: QR, TF-IDF: 0.09844\n",
      "Top words in news article 2\n",
      "\tWord: And, TF-IDF: 0.06643\n",
      "\tWord: In, TF-IDF: 0.05853\n",
      "\tWord: sales, TF-IDF: 0.04664\n",
      "\tWord: US, TF-IDF: 0.02365\n",
      "\tWord: The, TF-IDF: 0.02218\n",
      "\tWord: pickup, TF-IDF: 0.02214\n",
      "\tWord: saw, TF-IDF: 0.02117\n",
      "\tWord: strong, TF-IDF: 0.02106\n",
      "\tWord: percent, TF-IDF: 0.01984\n",
      "\tWord: overall, TF-IDF: 0.0195\n",
      "Top words in news article 3\n",
      "\tWord: AUTOMATIC, TF-IDF: 0.18935\n",
      "\tWord: automatic, TF-IDF: 0.15643\n",
      "\tWord: LE, TF-IDF: 0.11506\n",
      "\tWord: cyl, TF-IDF: 0.11506\n",
      "\tWord: VERY, TF-IDF: 0.11506\n",
      "\tWord: INSIDE, TF-IDF: 0.11506\n",
      "\tWord: CLOTH, TF-IDF: 0.11506\n",
      "\tWord: INTERIOR, TF-IDF: 0.11506\n",
      "\tWord: NICE, TF-IDF: 0.11506\n",
      "\tWord: Just, TF-IDF: 0.11506\n",
      "Top words in news article 4\n",
      "\tWord: Mats, TF-IDF: 0.13336\n",
      "\tWord: mats, TF-IDF: 0.13336\n",
      "\tWord: Floor, TF-IDF: 0.08891\n",
      "\tWord: floor, TF-IDF: 0.07969\n",
      "\tWord: Avalon, TF-IDF: 0.06394\n",
      "\tWord: Post, TF-IDF: 0.05846\n",
      "\tWord: original, TF-IDF: 0.0574\n",
      "\tWord: These, TF-IDF: 0.05233\n",
      "\tWord: post, TF-IDF: 0.04592\n",
      "\tWord: Brand, TF-IDF: 0.04445\n",
      "Top words in news article 5\n",
      "\tWord: included, TF-IDF: 0.0788\n",
      "\tWord: Black, TF-IDF: 0.06732\n",
      "\tWord: Lexus, TF-IDF: 0.06177\n",
      "\tWord: below, TF-IDF: 0.05174\n",
      "\tWord: user, TF-IDF: 0.04396\n",
      "\tWord: wPiano, TF-IDF: 0.04396\n",
      "\tWord: wPerforated, TF-IDF: 0.04396\n",
      "\tWord: NuLuxe, TF-IDF: 0.04396\n",
      "\tWord: Trim, TF-IDF: 0.04396\n",
      "\tWord: CARFAX, TF-IDF: 0.04396\n"
     ]
    }
   ],
   "source": [
    "for i, blob in enumerate(bloblist):\n",
    "# Print top 5 values\n",
    "    if i == 5:\n",
    "        break\n",
    "    print(\"Top words in news article {}\".format(i + 1))\n",
    "    scores = {word: tfidf(word, blob, bloblist) for word in blob.words}\n",
    "    sorted_words = sorted(scores.items(), key=lambda x: x[1], reverse=True)\n",
    "    for word, score in sorted_words[:10]:\n",
    "        print(\"\\tWord: {}, TF-IDF: {}\".format(word, round(score, 5)))"
   ]
  },
  {
   "cell_type": "markdown",
   "metadata": {},
   "source": [
    "### Applying LDA to news articles"
   ]
  },
  {
   "cell_type": "code",
   "execution_count": 70,
   "metadata": {},
   "outputs": [
    {
     "data": {
      "text/plain": [
       "['QR Code Link to This Post All maintenance receipts available, one owner truck. Cash sale. No trades.   6477478013']"
      ]
     },
     "execution_count": 70,
     "metadata": {},
     "output_type": "execute_result"
    }
   ],
   "source": [
    "news_list = news_eng['text_clean'].tolist()\n",
    "news_list[:1]"
   ]
  },
  {
   "cell_type": "code",
   "execution_count": 71,
   "metadata": {},
   "outputs": [],
   "source": [
    "news_clean = [clean(doc).split() for doc in news_list]"
   ]
  },
  {
   "cell_type": "code",
   "execution_count": 72,
   "metadata": {},
   "outputs": [
    {
     "data": {
      "text/plain": [
       "100"
      ]
     },
     "execution_count": 72,
     "metadata": {},
     "output_type": "execute_result"
    }
   ],
   "source": [
    "len(news_clean)"
   ]
  },
  {
   "cell_type": "code",
   "execution_count": 73,
   "metadata": {},
   "outputs": [
    {
     "name": "stdout",
     "output_type": "stream",
     "text": [
      "['qr', 'code', 'link', 'post', 'maintenance', 'receipt', 'available', 'one', 'owner', 'truck', 'cash', 'sale', 'trade', '6477478013']\n"
     ]
    }
   ],
   "source": [
    "print(*news_clean[:1], sep='\\n\\n')"
   ]
  },
  {
   "cell_type": "code",
   "execution_count": 74,
   "metadata": {},
   "outputs": [
    {
     "name": "stdout",
     "output_type": "stream",
     "text": [
      "Wall time: 17 ms\n"
     ]
    }
   ],
   "source": [
    "# Creating the term dictionary of our courpus, where every unique term is assigned an index. \n",
    "\n",
    "dictionary = corpora.Dictionary(news_clean)\n",
    "\n",
    "# Converting list of documents (corpus) into Document Term Matrix using dictionary prepared above.\n",
    "\n",
    "%time doc_term_matrix = [dictionary.doc2bow(doc) for doc in news_clean]"
   ]
  },
  {
   "cell_type": "markdown",
   "metadata": {},
   "source": [
    "#### 3 topic model"
   ]
  },
  {
   "cell_type": "code",
   "execution_count": 100,
   "metadata": {},
   "outputs": [
    {
     "name": "stdout",
     "output_type": "stream",
     "text": [
      "Wall time: 37 s\n"
     ]
    }
   ],
   "source": [
    "numtopics = 3\n",
    "\n",
    "%time ldamodel = LdaMulticore(doc_term_matrix, num_topics=numtopics, id2word = dictionary, passes=50)"
   ]
  },
  {
   "cell_type": "code",
   "execution_count": 101,
   "metadata": {},
   "outputs": [
    {
     "name": "stdout",
     "output_type": "stream",
     "text": [
      "(0, '0.013*\"percent\" + 0.011*\"car\" + 0.005*\"said\"')\n",
      "(1, '0.019*\"toyota\" + 0.011*\"vehicle\" + 0.011*\"sale\"')\n",
      "(2, '0.019*\"u\" + 0.018*\"percent\" + 0.012*\"cent\"')\n"
     ]
    }
   ],
   "source": [
    "`"
   ]
  },
  {
   "cell_type": "code",
   "execution_count": 102,
   "metadata": {},
   "outputs": [
    {
     "name": "stdout",
     "output_type": "stream",
     "text": [
      "(0, '0.013*\"percent\" + 0.011*\"car\" + 0.005*\"said\" + 0.005*\"toyota\" + 0.004*\"job\"')\n",
      "\n",
      "(1, '0.019*\"toyota\" + 0.011*\"vehicle\" + 0.011*\"sale\" + 0.008*\"ford\" + 0.008*\"year\"')\n",
      "\n",
      "(2, '0.019*\"u\" + 0.018*\"percent\" + 0.012*\"cent\" + 0.011*\"earnings\" + 0.011*\"per\"')\n"
     ]
    }
   ],
   "source": [
    "print(*ldamodel.print_topics(num_topics=numtopics, num_words=5), sep='\\n\\n')"
   ]
  },
  {
   "cell_type": "code",
   "execution_count": 103,
   "metadata": {},
   "outputs": [
    {
     "name": "stdout",
     "output_type": "stream",
     "text": [
      "(0, '0.013*\"percent\" + 0.011*\"car\" + 0.005*\"said\" + 0.005*\"toyota\" + 0.004*\"job\" + 0.004*\"state\" + 0.004*\"company\"')\n",
      "\n",
      "(1, '0.019*\"toyota\" + 0.011*\"vehicle\" + 0.011*\"sale\" + 0.008*\"ford\" + 0.008*\"year\" + 0.005*\"2018\" + 0.005*\"motor\"')\n",
      "\n",
      "(2, '0.019*\"u\" + 0.018*\"percent\" + 0.012*\"cent\" + 0.011*\"earnings\" + 0.011*\"per\" + 0.011*\"yield\" + 0.010*\"share\"')\n"
     ]
    }
   ],
   "source": [
    "print(*ldamodel.print_topics(num_topics=numtopics, num_words=7), sep='\\n\\n')"
   ]
  },
  {
   "cell_type": "code",
   "execution_count": 104,
   "metadata": {},
   "outputs": [
    {
     "name": "stdout",
     "output_type": "stream",
     "text": [
      "(0, '0.013*\"percent\" + 0.011*\"car\" + 0.005*\"said\" + 0.005*\"toyota\" + 0.004*\"job\" + 0.004*\"state\" + 0.004*\"company\" + 0.004*\"d\" + 0.004*\"export\" + 0.004*\"also\"')\n",
      "\n",
      "(1, '0.019*\"toyota\" + 0.011*\"vehicle\" + 0.011*\"sale\" + 0.008*\"ford\" + 0.008*\"year\" + 0.005*\"2018\" + 0.005*\"motor\" + 0.005*\"new\" + 0.005*\"car\" + 0.004*\"january\"')\n",
      "\n",
      "(2, '0.019*\"u\" + 0.018*\"percent\" + 0.012*\"cent\" + 0.011*\"earnings\" + 0.011*\"per\" + 0.011*\"yield\" + 0.010*\"share\" + 0.010*\"index\" + 0.008*\"lower\" + 0.008*\"investor\"')\n"
     ]
    }
   ],
   "source": [
    "print(*ldamodel.print_topics(num_topics=numtopics, num_words=10), sep='\\n\\n')"
   ]
  },
  {
   "cell_type": "code",
   "execution_count": 105,
   "metadata": {},
   "outputs": [
    {
     "data": {
      "text/html": [
       "\n",
       "<link rel=\"stylesheet\" type=\"text/css\" href=\"https://cdn.rawgit.com/bmabey/pyLDAvis/files/ldavis.v1.0.0.css\">\n",
       "\n",
       "\n",
       "<div id=\"ldavis_el100606337707764271913349\"></div>\n",
       "<script type=\"text/javascript\">\n",
       "\n",
       "var ldavis_el100606337707764271913349_data = {\"mdsDat\": {\"x\": [-0.10054807079827587, -0.13185459933567192, 0.23240267013394786], \"y\": [-0.10833850991345659, 0.09902722655254223, 0.009311283360914429], \"topics\": [1, 2, 3], \"cluster\": [1, 1, 1], \"Freq\": [18.629085540771484, 38.95260238647461, 42.41831588745117]}, \"tinfo\": {\"Category\": [\"Default\", \"Default\", \"Default\", \"Default\", \"Default\", \"Default\", \"Default\", \"Default\", \"Default\", \"Default\", \"Default\", \"Default\", \"Default\", \"Default\", \"Default\", \"Default\", \"Default\", \"Default\", \"Default\", \"Default\", \"Default\", \"Default\", \"Default\", \"Default\", \"Default\", \"Default\", \"Default\", \"Default\", \"Default\", \"Default\", \"Topic1\", \"Topic1\", \"Topic1\", \"Topic1\", \"Topic1\", \"Topic1\", \"Topic1\", \"Topic1\", \"Topic1\", \"Topic1\", \"Topic1\", \"Topic1\", \"Topic1\", \"Topic1\", \"Topic1\", \"Topic1\", \"Topic1\", \"Topic1\", \"Topic1\", \"Topic1\", \"Topic1\", \"Topic1\", \"Topic1\", \"Topic1\", \"Topic1\", \"Topic1\", \"Topic1\", \"Topic1\", \"Topic1\", \"Topic1\", \"Topic1\", \"Topic1\", \"Topic1\", \"Topic1\", \"Topic1\", \"Topic1\", \"Topic1\", \"Topic1\", \"Topic1\", \"Topic1\", \"Topic1\", \"Topic1\", \"Topic1\", \"Topic1\", \"Topic1\", \"Topic1\", \"Topic1\", \"Topic1\", \"Topic1\", \"Topic1\", \"Topic1\", \"Topic1\", \"Topic1\", \"Topic1\", \"Topic1\", \"Topic1\", \"Topic1\", \"Topic1\", \"Topic1\", \"Topic1\", \"Topic1\", \"Topic2\", \"Topic2\", \"Topic2\", \"Topic2\", \"Topic2\", \"Topic2\", \"Topic2\", \"Topic2\", \"Topic2\", \"Topic2\", \"Topic2\", \"Topic2\", \"Topic2\", \"Topic2\", \"Topic2\", \"Topic2\", \"Topic2\", \"Topic2\", \"Topic2\", \"Topic2\", \"Topic2\", \"Topic2\", \"Topic2\", \"Topic2\", \"Topic2\", \"Topic2\", \"Topic2\", \"Topic2\", \"Topic2\", \"Topic2\", \"Topic2\", \"Topic2\", \"Topic2\", \"Topic2\", \"Topic2\", \"Topic2\", \"Topic2\", \"Topic2\", \"Topic2\", \"Topic2\", \"Topic2\", \"Topic2\", \"Topic2\", \"Topic2\", \"Topic2\", \"Topic2\", \"Topic2\", \"Topic2\", \"Topic2\", \"Topic2\", \"Topic2\", \"Topic2\", \"Topic2\", \"Topic2\", \"Topic2\", \"Topic2\", \"Topic2\", \"Topic2\", \"Topic3\", \"Topic3\", \"Topic3\", \"Topic3\", \"Topic3\", \"Topic3\", \"Topic3\", \"Topic3\", \"Topic3\", \"Topic3\", \"Topic3\", \"Topic3\", \"Topic3\", \"Topic3\", \"Topic3\", \"Topic3\", \"Topic3\", \"Topic3\", \"Topic3\", \"Topic3\", \"Topic3\", \"Topic3\", \"Topic3\", \"Topic3\", \"Topic3\", \"Topic3\", \"Topic3\", \"Topic3\", \"Topic3\", \"Topic3\", \"Topic3\", \"Topic3\", \"Topic3\", \"Topic3\", \"Topic3\", \"Topic3\", \"Topic3\", \"Topic3\", \"Topic3\", \"Topic3\", \"Topic3\", \"Topic3\", \"Topic3\", \"Topic3\", \"Topic3\", \"Topic3\", \"Topic3\", \"Topic3\", \"Topic3\", \"Topic3\", \"Topic3\", \"Topic3\", \"Topic3\"], \"Freq\": [219.0, 125.0, 115.0, 122.0, 106.0, 110.0, 98.0, 117.0, 126.0, 285.0, 80.0, 236.0, 89.0, 80.0, 84.0, 120.0, 81.0, 93.0, 75.0, 68.0, 60.0, 54.0, 67.0, 48.0, 47.0, 47.0, 42.0, 45.0, 45.0, 43.0, 17.271934509277344, 15.791486740112305, 15.05125904083252, 13.556290626525879, 12.830052375793457, 13.515725135803223, 9.12944507598877, 8.389225959777832, 8.382232666015625, 9.077954292297363, 7.648290634155273, 6.904475688934326, 6.904435157775879, 16.541851043701172, 8.955951690673828, 6.163186550140381, 5.428321361541748, 4.688096523284912, 4.686997413635254, 4.673272132873535, 4.673272609710693, 4.673271179199219, 3.9478700160980225, 3.947868824005127, 3.947868824005127, 3.9478633403778076, 3.9478602409362793, 3.9478566646575928, 3.9477739334106445, 3.947516441345215, 9.118907928466797, 18.03800392150879, 9.129060745239258, 9.094995498657227, 4.538684844970703, 13.570298194885254, 52.2243537902832, 10.483838081359863, 9.416510581970215, 8.370368957519531, 11.318808555603027, 6.935726165771484, 6.910182952880859, 7.651086807250977, 20.699525833129883, 60.31187438964844, 9.880240440368652, 24.946788787841797, 13.124007225036621, 16.355375289916992, 13.10462474822998, 17.40414810180664, 22.04023551940918, 12.555571556091309, 15.31863784790039, 14.591934204101562, 10.798136711120605, 12.02618408203125, 11.497489929199219, 10.699975967407227, 10.256513595581055, 80.13990783691406, 41.5020751953125, 26.053499221801758, 23.471498489379883, 20.897216796875, 21.724529266357422, 53.329349517822266, 17.464433670043945, 18.27074432373047, 16.605518341064453, 16.605487823486328, 16.605344772338867, 16.598819732666016, 15.746620178222656, 15.74227523803711, 15.739720344543457, 14.887714385986328, 14.887679100036621, 14.028762817382812, 13.998991012573242, 12.310986518859863, 12.310957908630371, 106.1263656616211, 12.305362701416016, 11.452078819274902, 11.444955825805664, 11.444613456726074, 11.407262802124023, 10.593172073364258, 10.593034744262695, 110.96390533447266, 17.07973861694336, 24.848520278930664, 24.33420753479004, 18.32355308532715, 39.4000129699707, 186.367919921875, 26.593029022216797, 34.744850158691406, 38.03104019165039, 33.519351959228516, 77.406005859375, 37.613609313964844, 21.7590389251709, 28.34218978881836, 53.653076171875, 51.398590087890625, 18.911935806274414, 42.784889221191406, 45.39034652709961, 27.27737045288086, 31.20640754699707, 32.14776611328125, 32.94541549682617, 32.205169677734375, 38.93435287475586, 34.23509216308594, 29.149784088134766, 115.10503387451172, 105.59534454345703, 59.85096740722656, 47.75398635864258, 46.899871826171875, 45.1796989440918, 46.878265380859375, 43.453086853027344, 42.58917999267578, 123.56338500976562, 45.129737854003906, 39.12700653076172, 37.409942626953125, 39.10594940185547, 32.2301025390625, 30.488662719726562, 28.776878356933594, 120.30635070800781, 28.776031494140625, 27.9135684967041, 26.186962127685547, 26.997596740722656, 25.308006286621094, 24.460342407226562, 24.460342407226562, 24.46034049987793, 24.46034049987793, 24.46034049987793, 67.42346954345703, 24.446443557739258, 81.30670928955078, 77.29869079589844, 71.90245056152344, 78.1733627319336, 119.78385925292969, 84.91455078125, 39.95344924926758, 201.15878295898438, 87.64085388183594, 64.19880676269531, 108.6837158203125, 38.13859176635742, 46.73906326293945, 59.62248611450195, 196.4750213623047, 57.87918472290039, 46.91559600830078, 50.3138542175293, 44.83015060424805, 64.831787109375, 47.25569152832031, 49.686622619628906, 47.00739669799805], \"Term\": [\"u\", \"cent\", \"yield\", \"earnings\", \"index\", \"sale\", \"car\", \"vehicle\", \"per\", \"percent\", \"ford\", \"toyota\", \"investor\", \"friday\", \"benchmark\", \"share\", \"01\", \"lower\", \"report\", \"rose\", \"barrel\", \"motor\", \"latest\", \"trading\", \"bond\", \"crude\", \"post\", \"hong\", \"yen\", \"asian\", \"d\", \"workforce\", \"alabama\", \"losing\", \"review\", \"need\", \"soul\", \"training\", \"magazine\", \"staff\", \"spec\", \"space\", \"uk\", \"export\", \"date\", \"chevy\", \"crossback\", \"aidt\", \"tesla\", \"closed\", \"trader\", \"ninemonth\", \"birmingham\", \"touchscreen\", \"quite\", \"got\", \"damn\", \"kostrna\", \"hate\", \"redesign\", \"declining\", \"state\", \"2019\", \"almost\", \"suspension\", \"release\", \"car\", \"7\", \"automobile\", \"program\", \"point\", \"picture\", \"find\", \"hit\", \"job\", \"percent\", \"even\", \"said\", \"increase\", \"also\", \"model\", \"company\", \"toyota\", \"get\", \"market\", \"new\", \"make\", \"price\", \"1\", \"january\", \"one\", \"ford\", \"post\", \"hydrogen\", \"contact\", \"margin\", \"commercial\", \"motor\", \"law\", \"overall\", \"canada\", \"2015\", \"commodity\", \"id\", \"player\", \"fuel\", \"unsolicited\", \"ball\", \"bag\", \"prius\", \"qr\", \"hma\", \"rx\", \"sale\", \"game\", \"win\", \"must\", \"power\", \"camry\", \"f1\", \"co\", \"vehicle\", \"customer\", \"service\", \"million\", \"air\", \"last\", \"toyota\", \"truck\", \"suv\", \"2017\", \"industry\", \"year\", \"one\", \"2016\", \"lexus\", \"2018\", \"new\", \"offer\", \"january\", \"car\", \"model\", \"also\", \"time\", \"unit\", \"month\", \"said\", \"company\", \"percent\", \"yield\", \"index\", \"barrel\", \"trading\", \"bond\", \"hong\", \"crude\", \"asian\", \"mostly\", \"cent\", \"yen\", \"03\", \"composite\", \"monthly\", \"weigh\", \"climbed\", \"worry\", \"earnings\", \"hang\", \"seng\", \"kong\", \"stronger\", \"interest\", \"sank\", \"dipped\", \"10year\", \"fueled\", \"treasury\", \"rose\", \"nikkei\", \"benchmark\", \"friday\", \"report\", \"01\", \"per\", \"investor\", \"pace\", \"u\", \"lower\", \"latest\", \"share\", \"expected\", \"oil\", \"fell\", \"percent\", \"japan\", \"week\", \"economy\", \"thursday\", \"market\", \"rate\", \"price\", \"world\"], \"Total\": [219.0, 125.0, 115.0, 122.0, 106.0, 110.0, 98.0, 117.0, 126.0, 285.0, 80.0, 236.0, 89.0, 80.0, 84.0, 120.0, 81.0, 93.0, 75.0, 68.0, 60.0, 54.0, 67.0, 48.0, 47.0, 47.0, 42.0, 45.0, 45.0, 43.0, 17.846017837524414, 16.365568161010742, 15.62533950805664, 14.147303581237793, 13.404746055603027, 14.153826713562012, 9.703530311584473, 8.963303565979004, 8.964424133300781, 9.711980819702148, 8.223191261291504, 7.4835662841796875, 7.483572483062744, 17.963071823120117, 9.731705665588379, 6.743483543395996, 6.002398490905762, 5.262172698974609, 5.262348175048828, 5.264637470245361, 5.264636993408203, 5.264636993408203, 4.521945476531982, 4.521945476531982, 4.521945953369141, 4.521946907043457, 4.521946907043457, 4.521948337554932, 4.521961212158203, 4.522002220153809, 10.56423282623291, 22.87664222717285, 11.421407699584961, 11.43527889251709, 5.286128044128418, 19.298452377319336, 98.13400268554688, 14.63996696472168, 13.093141555786133, 11.543052673339844, 17.959407806396484, 9.20431137084961, 9.200440406799316, 10.799467086791992, 50.938758850097656, 285.9366760253906, 16.485071182250977, 104.42924499511719, 32.2773323059082, 54.09893798828125, 40.84667205810547, 90.16793823242188, 236.24331665039062, 41.885501861572266, 102.66105651855469, 97.4540786743164, 24.920005798339844, 78.20343780517578, 58.46567916870117, 86.05902862548828, 48.17375183105469, 80.69701385498047, 42.04689407348633, 26.588037490844727, 24.01061248779297, 21.434560775756836, 22.29367446899414, 54.78607940673828, 17.998960494995117, 18.857975006103516, 17.140056610107422, 17.140050888061523, 17.140029907226562, 17.1391658782959, 16.28114891052246, 16.28107452392578, 16.28020477294922, 15.4222412109375, 15.42223834991455, 14.563329696655273, 14.559255599975586, 12.845518112182617, 12.845515251159668, 110.7474136352539, 12.845425605773926, 11.986610412597656, 11.986300468444824, 11.986336708068848, 11.9814453125, 11.127700805664062, 11.127703666687012, 117.53164672851562, 17.945890426635742, 26.42157745361328, 26.35088539123535, 19.598127365112305, 44.12029266357422, 236.24331665039062, 29.624191284179688, 39.63629150390625, 44.73065185546875, 40.94762420654297, 117.22251892089844, 48.17375183105469, 24.514909744262695, 35.04731750488281, 82.99476623535156, 97.4540786743164, 21.160343170166016, 86.05902862548828, 98.13400268554688, 40.84667205810547, 54.09893798828125, 58.21540069580078, 65.12356567382812, 64.66732025146484, 104.42924499511719, 90.16793823242188, 285.9366760253906, 115.6402816772461, 106.14200592041016, 60.3882942199707, 48.30046844482422, 47.43846893310547, 45.71277618408203, 47.435386657714844, 43.98616027832031, 43.12283706665039, 125.13172149658203, 45.70565414428711, 39.66957473754883, 37.943016052246094, 39.66838455200195, 32.7631721496582, 31.036479949951172, 29.30994415283203, 122.53766632080078, 29.309938430786133, 28.446636199951172, 26.720027923583984, 27.575817108154297, 25.856630325317383, 24.993406295776367, 24.993408203125, 24.993408203125, 24.993408203125, 24.993408203125, 68.89293670654297, 24.99142837524414, 84.2911148071289, 80.23112487792969, 75.0505599975586, 81.79332733154297, 126.83026123046875, 89.71906280517578, 41.27306365966797, 219.6931915283203, 93.6904296875, 67.90560913085938, 120.38639831542969, 39.54597854614258, 50.49103927612305, 67.23424530029297, 285.9366760253906, 66.19091796875, 50.874488830566406, 56.192665100097656, 51.07851028442383, 102.66105651855469, 56.679222106933594, 78.20343780517578, 66.69195556640625], \"loglift\": [30.0, 29.0, 28.0, 27.0, 26.0, 25.0, 24.0, 23.0, 22.0, 21.0, 20.0, 19.0, 18.0, 17.0, 16.0, 15.0, 14.0, 13.0, 12.0, 11.0, 10.0, 9.0, 8.0, 7.0, 6.0, 5.0, 4.0, 3.0, 2.0, 1.0, 1.6476999521255493, 1.644700050354004, 1.6430000066757202, 1.6377999782562256, 1.6366000175476074, 1.6342999935150146, 1.6195000410079956, 1.614300012588501, 1.6132999658584595, 1.6129000186920166, 1.6080000400543213, 1.5999000072479248, 1.5999000072479248, 1.5980000495910645, 1.5973999500274658, 1.590499997138977, 1.5799000263214111, 1.5649000406265259, 1.5647000074386597, 1.5613000392913818, 1.5613000392913818, 1.5613000392913818, 1.544700026512146, 1.544700026512146, 1.544700026512146, 1.544700026512146, 1.544700026512146, 1.544700026512146, 1.544700026512146, 1.544600009918213, 1.5333000421524048, 1.4428000450134277, 1.4564000368118286, 1.4515000581741333, 1.527999997138977, 1.3282999992370605, 1.0497000217437744, 1.346500039100647, 1.3508000373840332, 1.3590999841690063, 1.2187999486923218, 1.3975000381469727, 1.3941999673843384, 1.335800051689148, 0.7799000144004822, 0.1242000013589859, 1.1684999465942383, 0.24869999289512634, 0.7804999947547913, 0.48420000076293945, 0.5436000227928162, 0.03550000116229057, -0.6915000081062317, 0.4756999909877777, -0.22190000116825104, -0.21850000321865082, 0.8440999984741211, -0.19179999828338623, 0.054099999368190765, -0.4043000042438507, 0.13349999487400055, 0.9358999729156494, 0.9297999739646912, 0.9225000143051147, 0.9200999736785889, 0.9174000024795532, 0.9169999957084656, 0.9158999919891357, 0.9126999974250793, 0.9111999869346619, 0.9110999703407288, 0.9110999703407288, 0.9110999703407288, 0.9107999801635742, 0.9093999862670898, 0.9092000126838684, 0.9090999960899353, 0.9075999855995178, 0.9075000286102295, 0.9053999781608582, 0.9035999774932861, 0.9003000259399414, 0.9003000259399414, 0.9002000093460083, 0.8999000191688538, 0.8971999883651733, 0.8966000080108643, 0.8966000080108643, 0.8937000036239624, 0.8935999870300293, 0.8935999870300293, 0.8852999806404114, 0.8934000134468079, 0.8813999891281128, 0.8632000088691711, 0.8755999803543091, 0.8296999931335449, 0.7056999802589417, 0.8349000215530396, 0.8111000061035156, 0.7806000113487244, 0.7426999807357788, 0.5278000235557556, 0.6953999996185303, 0.8235999941825867, 0.7304999828338623, 0.506600022315979, 0.30309998989105225, 0.8305000066757202, 0.24400000274181366, 0.17180000245571136, 0.5390999913215637, 0.39259999990463257, 0.3490000069141388, 0.2614000141620636, 0.24570000171661377, -0.043800000101327896, -0.025599999353289604, -1.340499997138977, 0.8529999852180481, 0.852400004863739, 0.8486999869346619, 0.8461999893188477, 0.8461999893188477, 0.8458999991416931, 0.84579998254776, 0.8453999757766724, 0.8450999855995178, 0.8450000286102295, 0.8449000120162964, 0.8438000082969666, 0.8434000015258789, 0.8432999849319458, 0.8411999940872192, 0.8398000001907349, 0.8392000198364258, 0.8392000198364258, 0.8392000198364258, 0.838699996471405, 0.8374000191688538, 0.8363999724388123, 0.8360999822616577, 0.8360000252723694, 0.8360000252723694, 0.8360000252723694, 0.8360000252723694, 0.8360000252723694, 0.8360000252723694, 0.8355000019073486, 0.8215000033378601, 0.8203999996185303, 0.8147000074386597, 0.8123000264167786, 0.8004000186920166, 0.8026000261306763, 0.8251000046730042, 0.7695000171661377, 0.7907999753952026, 0.8015000224113464, 0.755299985408783, 0.821399986743927, 0.7803999781608582, 0.7373999953269958, 0.48240000009536743, 0.7233999967575073, 0.7766000032424927, 0.7470999956130981, 0.7271000146865845, 0.39800000190734863, 0.6758000254631042, 0.40400001406669617, 0.5077999830245972], \"logprob\": [30.0, 29.0, 28.0, 27.0, 26.0, 25.0, 24.0, 23.0, 22.0, 21.0, 20.0, 19.0, 18.0, 17.0, 16.0, 15.0, 14.0, 13.0, 12.0, 11.0, 10.0, 9.0, 8.0, 7.0, 6.0, 5.0, 4.0, 3.0, 2.0, 1.0, -5.599299907684326, -5.688899993896484, -5.7368998527526855, -5.8414998054504395, -5.896599769592285, -5.8445000648498535, -6.2368998527526855, -6.321400165557861, -6.322299957275391, -6.242499828338623, -6.413899898529053, -6.516200065612793, -6.516200065612793, -5.642499923706055, -6.256100177764893, -6.629799842834473, -6.756800174713135, -6.90339994430542, -6.903600215911865, -6.906499862670898, -6.906499862670898, -6.906499862670898, -7.075200080871582, -7.075200080871582, -7.075200080871582, -7.075200080871582, -7.075200080871582, -7.075200080871582, -7.075200080871582, -7.075300216674805, -6.23799991607666, -5.5559000968933105, -6.2368998527526855, -6.240699768066406, -6.935699939727783, -5.8404998779296875, -4.492800235748291, -6.098499774932861, -6.205900192260742, -6.323699951171875, -6.021900177001953, -6.51170015335083, -6.515399932861328, -6.41349983215332, -5.418300151824951, -4.348899841308594, -6.157800197601318, -5.231599807739258, -5.873899936676025, -5.653800010681152, -5.875400066375732, -5.591700077056885, -5.355500221252441, -5.9182000160217285, -5.719299793243408, -5.767899990081787, -6.068999767303467, -5.961299896240234, -6.00629997253418, -6.078100204467773, -6.120500087738037, -4.802199840545654, -5.460299968719482, -5.925899982452393, -6.030200004577637, -6.146399974822998, -6.107600212097168, -5.209499835968018, -6.325799942016602, -6.280700206756592, -6.376299858093262, -6.376299858093262, -6.376299858093262, -6.376699924468994, -6.4293999671936035, -6.429699897766113, -6.429800033569336, -6.485499858856201, -6.485499858856201, -6.544899940490723, -6.546999931335449, -6.67549991607666, -6.67549991607666, -4.521399974822998, -6.676000118255615, -6.747799873352051, -6.748499870300293, -6.748499870300293, -6.751800060272217, -6.825799942016602, -6.825799942016602, -4.476799964904785, -6.348100185394287, -5.973199844360352, -5.994100093841553, -6.2778000831604, -5.512199878692627, -3.9583001136779785, -5.905399799346924, -5.638000011444092, -5.547599792480469, -5.673900127410889, -4.836900234222412, -5.558599948883057, -6.105999946594238, -5.841700077056885, -5.203499794006348, -5.246399879455566, -6.246200084686279, -5.429800033569336, -5.370699882507324, -5.879899978637695, -5.7453999519348145, -5.715700149536133, -5.691199779510498, -5.713900089263916, -5.524099826812744, -5.6528000831604, -5.813600063323975, -4.525400161743164, -4.611599922180176, -5.1793999671936035, -5.405200004577637, -5.4232001304626465, -5.460599899291992, -5.423699855804443, -5.499599933624268, -5.519599914550781, -4.454500198364258, -5.461699962615967, -5.604400157928467, -5.6493000984191895, -5.605000019073486, -5.798299789428711, -5.853899955749512, -5.9116997718811035, -4.481200218200684, -5.9116997718811035, -5.9421000480651855, -6.00600004196167, -5.975500106811523, -6.04010009765625, -6.07420015335083, -6.07420015335083, -6.07420015335083, -6.07420015335083, -6.07420015335083, -5.060200214385986, -6.07480001449585, -4.873000144958496, -4.923600196838379, -4.9959001541137695, -4.912300109863281, -4.485599994659424, -4.829599857330322, -5.583499908447266, -3.967099905014038, -4.797999858856201, -5.109300136566162, -4.582799911499023, -5.630000114440918, -5.426700115203857, -5.183199882507324, -3.9907000064849854, -5.212900161743164, -5.422900199890137, -5.353000164031982, -5.468400001525879, -5.099400043487549, -5.4156999588012695, -5.365499973297119, -5.420899868011475]}, \"token.table\": {\"Topic\": [1, 2, 3, 3, 1, 2, 3, 3, 2, 1, 2, 1, 2, 3, 1, 2, 3, 1, 2, 1, 2, 1, 1, 2, 1, 1, 3, 1, 2, 3, 3, 1, 2, 2, 2, 3, 1, 2, 3, 1, 3, 2, 2, 1, 2, 3, 2, 3, 1, 3, 1, 2, 2, 2, 1, 2, 3, 3, 2, 1, 3, 1, 2, 1, 1, 1, 1, 2, 3, 2, 3, 1, 2, 3, 1, 3, 1, 3, 1, 2, 2, 2, 3, 1, 2, 2, 2, 3, 2, 3, 2, 1, 2, 3, 1, 3, 1, 1, 2, 2, 3, 2, 2, 1, 2, 3, 3, 1, 2, 3, 2, 3, 1, 2, 3, 1, 2, 3, 1, 2, 3, 3, 1, 1, 2, 3, 1, 2, 3, 2, 1, 2, 1, 1, 2, 3, 1, 1, 2, 3, 2, 1, 2, 3, 1, 2, 1, 2, 1, 2, 3, 3, 3, 1, 2, 2, 1, 1, 2, 3, 3, 1, 1, 2, 1, 2, 3, 1, 2, 2, 1, 3, 2, 3, 1, 2, 3, 1, 3, 2, 1, 2, 3, 2, 2, 1, 2, 3, 2, 1, 2, 2, 1, 1, 2, 3, 1, 1, 2, 2, 3, 1, 1, 3, 2, 1, 2, 3, 2, 3, 3, 3, 1, 2, 1, 2, 3, 1, 1, 1, 1, 1, 2, 3, 1, 1, 2, 1, 1, 2, 3, 1, 2, 3, 1, 1, 2, 3, 1, 3, 1, 3, 1, 2, 1, 2, 3, 1, 1, 2, 3, 2, 1, 2, 2, 3, 3, 2, 1, 1, 2, 3, 3, 1, 2, 3, 3, 3], \"Freq\": [0.01222593616694212, 0.02445187233388424, 0.9536229968070984, 0.9831212162971497, 0.18814456462860107, 0.18814456462860107, 0.6157458424568176, 0.9602531790733337, 0.9918290376663208, 0.08158300817012787, 0.8974130749702454, 0.11178017407655716, 0.8495293259620667, 0.04471207037568092, 0.09639161825180054, 0.6506434082984924, 0.253028005361557, 0.7879939079284668, 0.17510975897312164, 0.6830616593360901, 0.2732246518135071, 0.9501778483390808, 0.051025282591581345, 0.9184551239013672, 0.9599791169166565, 0.7870380878448486, 0.17489735782146454, 0.29575443267822266, 0.5730242133140564, 0.1293925642967224, 0.977580189704895, 0.6873827576637268, 0.22912758588790894, 0.9726214408874512, 0.9726212620735168, 0.9935700297355652, 0.02372729405760765, 0.011863647028803825, 0.9609553813934326, 0.8845750093460083, 0.9907571077346802, 0.9180862307548523, 0.9918286800384521, 0.5298876762390137, 0.4585566520690918, 0.010190147906541824, 0.007991578429937363, 0.9909557700157166, 0.8897478580474854, 0.966604471206665, 0.9497330188751221, 0.9885237812995911, 0.98682701587677, 0.9918302297592163, 0.18853707611560822, 0.37707415223121643, 0.43252626061439514, 0.9751465320587158, 0.9579097628593445, 0.8330003619194031, 0.9908214807510376, 0.05572306364774704, 0.9472920894622803, 0.9525934457778931, 0.8845747113227844, 0.9248121976852417, 0.8519312143325806, 0.09465903043746948, 0.9602531790733337, 0.016321511939167976, 0.9792907238006592, 0.08897958695888519, 0.01779591664671898, 0.8897958397865295, 0.6066094636917114, 0.3639656603336334, 0.025287020951509476, 0.9609068036079407, 0.9463860392570496, 0.055669765919446945, 0.9885240793228149, 0.1041136085987091, 0.8924023509025574, 0.7608331441879272, 0.21738089621067047, 0.9913625717163086, 0.03739197179675102, 0.9597272872924805, 0.9827361106872559, 0.9602531790733337, 0.9341846704483032, 0.31036990880966187, 0.2626207172870636, 0.4297429621219635, 0.8845747113227844, 0.9894254803657532, 0.88457190990448, 0.740777313709259, 0.27779147028923035, 0.9341779947280884, 0.9844074845314026, 0.9778833985328674, 0.9918802380561829, 0.4027594327926636, 0.43374091386795044, 0.1549074798822403, 0.9986621141433716, 0.17095008492469788, 0.8303290009498596, 0.9668700098991394, 0.055729515850543976, 0.947401762008667, 0.1278192400932312, 0.4996570348739624, 0.3834577202796936, 0.01510781329125166, 0.10575468838214874, 0.8762531280517578, 0.4122597575187683, 0.039262834936380386, 0.5693110823631287, 0.9730528593063354, 0.8845744729042053, 0.06799592077732086, 0.8839470148086548, 0.02266530692577362, 0.029452648013830185, 0.029452648013830185, 0.9424847364425659, 0.9444990158081055, 0.17119713127613068, 0.7989199161529541, 0.9895878434181213, 0.02134689688682556, 0.04269379377365112, 0.9392634630203247, 0.8924164772033691, 0.44141241908073425, 0.36115559935569763, 0.20064200460910797, 0.9797261357307434, 0.1461118757724762, 0.22403821349143982, 0.6331514716148376, 0.07589878141880035, 0.9107853174209595, 0.31826338171958923, 0.6610085368156433, 0.07731880247592926, 0.4948403537273407, 0.4329853057861328, 0.9831507205963135, 0.9971514344215393, 0.018252812325954437, 0.967399001121521, 0.9177143573760986, 0.9891318082809448, 0.15391865372657776, 0.5233234167098999, 0.3180985450744629, 0.9603292346000671, 0.9497330784797668, 0.09451642632484436, 0.8979060649871826, 0.05941648408770561, 0.01980549469590187, 0.9308582544326782, 0.20758192241191864, 0.7888113260269165, 0.9545033574104309, 0.024228878319263458, 0.9691550731658936, 0.055191874504089355, 0.9461464285850525, 0.2098366767168045, 0.101421058177948, 0.685466468334198, 0.760513186454773, 0.21728947758674622, 0.9827316403388977, 0.6124923825263977, 0.16704337298870087, 0.22272449731826782, 0.9988847374916077, 0.9177115559577942, 0.15344594419002533, 0.20459458231925964, 0.6393581032752991, 0.9613186120986938, 0.6930575370788574, 0.25989657640457153, 0.9615876078605652, 0.8845749497413635, 0.12350204586982727, 0.05292944982647896, 0.8292280435562134, 0.8845639228820801, 0.7254467606544495, 0.2590881288051605, 0.03997305408120155, 0.9593532681465149, 0.9698057770729065, 0.014515276066958904, 0.9725235104560852, 0.9341781735420227, 0.23939654231071472, 0.373458594083786, 0.3926103413105011, 0.9571329355239868, 0.03611822426319122, 0.9602532386779785, 0.9842991828918457, 0.0378478541970253, 0.9461963176727295, 0.02491975948214531, 0.07475927472114563, 0.9054179191589355, 0.9274975061416626, 0.9353829026222229, 0.9728583097457886, 0.9266904592514038, 0.7868287563323975, 0.21856354176998138, 0.9791187644004822, 0.945871889591217, 0.12614701688289642, 0.8830291032791138, 0.9501461982727051, 0.07831081748008728, 0.03915540874004364, 0.8809967041015625, 0.12024309486150742, 0.5496827363967896, 0.3263741135597229, 0.8845750093460083, 0.09312433004379272, 0.7873238325119019, 0.11852186918258667, 0.9497330784797668, 0.993779182434082, 0.8925280570983887, 0.9602531790733337, 0.10126858949661255, 0.9114173054695129, 0.03641441836953163, 0.05006982758641243, 0.9149122834205627, 0.9353821277618408, 0.030710849910974503, 0.506729006767273, 0.46066272258758545, 0.982788622379303, 0.051050081849098206, 0.9444264769554138, 0.07862486690282822, 0.923842191696167, 0.9767063856124878, 0.917690634727478, 0.9776623845100403, 0.04498293623328209, 0.23990899324417114, 0.7047326564788818, 0.9894253015518188, 0.07677705585956573, 0.6568703651428223, 0.26445430517196655, 0.9845609068870544, 0.9944631457328796], \"Term\": [\"01\", \"01\", \"01\", \"03\", \"1\", \"1\", \"1\", \"10year\", \"2015\", \"2016\", \"2016\", \"2017\", \"2017\", \"2017\", \"2018\", \"2018\", \"2018\", \"2019\", \"2019\", \"7\", \"7\", \"aidt\", \"air\", \"air\", \"alabama\", \"almost\", \"almost\", \"also\", \"also\", \"also\", \"asian\", \"automobile\", \"automobile\", \"bag\", \"ball\", \"barrel\", \"benchmark\", \"benchmark\", \"benchmark\", \"birmingham\", \"bond\", \"camry\", \"canada\", \"car\", \"car\", \"car\", \"cent\", \"cent\", \"chevy\", \"climbed\", \"closed\", \"co\", \"commercial\", \"commodity\", \"company\", \"company\", \"company\", \"composite\", \"contact\", \"crossback\", \"crude\", \"customer\", \"customer\", \"d\", \"damn\", \"date\", \"declining\", \"declining\", \"dipped\", \"earnings\", \"earnings\", \"economy\", \"economy\", \"economy\", \"even\", \"even\", \"expected\", \"expected\", \"export\", \"export\", \"f1\", \"fell\", \"fell\", \"find\", \"find\", \"ford\", \"friday\", \"friday\", \"fuel\", \"fueled\", \"game\", \"get\", \"get\", \"get\", \"got\", \"hang\", \"hate\", \"hit\", \"hit\", \"hma\", \"hong\", \"hydrogen\", \"id\", \"increase\", \"increase\", \"increase\", \"index\", \"industry\", \"industry\", \"interest\", \"investor\", \"investor\", \"january\", \"january\", \"january\", \"japan\", \"japan\", \"japan\", \"job\", \"job\", \"job\", \"kong\", \"kostrna\", \"last\", \"last\", \"last\", \"latest\", \"latest\", \"latest\", \"law\", \"lexus\", \"lexus\", \"losing\", \"lower\", \"lower\", \"lower\", \"magazine\", \"make\", \"make\", \"make\", \"margin\", \"market\", \"market\", \"market\", \"million\", \"million\", \"model\", \"model\", \"month\", \"month\", \"month\", \"monthly\", \"mostly\", \"motor\", \"motor\", \"must\", \"need\", \"new\", \"new\", \"new\", \"nikkei\", \"ninemonth\", \"offer\", \"offer\", \"oil\", \"oil\", \"oil\", \"one\", \"one\", \"overall\", \"pace\", \"pace\", \"per\", \"per\", \"percent\", \"percent\", \"percent\", \"picture\", \"picture\", \"player\", \"point\", \"point\", \"point\", \"post\", \"power\", \"price\", \"price\", \"price\", \"prius\", \"program\", \"program\", \"qr\", \"quite\", \"rate\", \"rate\", \"rate\", \"redesign\", \"release\", \"release\", \"report\", \"report\", \"review\", \"rose\", \"rose\", \"rx\", \"said\", \"said\", \"said\", \"sale\", \"sale\", \"sank\", \"seng\", \"service\", \"service\", \"share\", \"share\", \"share\", \"soul\", \"space\", \"spec\", \"staff\", \"state\", \"state\", \"stronger\", \"suspension\", \"suv\", \"suv\", \"tesla\", \"thursday\", \"thursday\", \"thursday\", \"time\", \"time\", \"time\", \"touchscreen\", \"toyota\", \"toyota\", \"toyota\", \"trader\", \"trading\", \"training\", \"treasury\", \"truck\", \"truck\", \"u\", \"u\", \"u\", \"uk\", \"unit\", \"unit\", \"unit\", \"unsolicited\", \"vehicle\", \"vehicle\", \"week\", \"week\", \"weigh\", \"win\", \"workforce\", \"world\", \"world\", \"world\", \"worry\", \"year\", \"year\", \"year\", \"yen\", \"yield\"]}, \"R\": 30, \"lambda.step\": 0.01, \"plot.opts\": {\"xlab\": \"PC1\", \"ylab\": \"PC2\"}, \"topic.order\": [1, 2, 3]};\n",
       "\n",
       "function LDAvis_load_lib(url, callback){\n",
       "  var s = document.createElement('script');\n",
       "  s.src = url;\n",
       "  s.async = true;\n",
       "  s.onreadystatechange = s.onload = callback;\n",
       "  s.onerror = function(){console.warn(\"failed to load library \" + url);};\n",
       "  document.getElementsByTagName(\"head\")[0].appendChild(s);\n",
       "}\n",
       "\n",
       "if(typeof(LDAvis) !== \"undefined\"){\n",
       "   // already loaded: just create the visualization\n",
       "   !function(LDAvis){\n",
       "       new LDAvis(\"#\" + \"ldavis_el100606337707764271913349\", ldavis_el100606337707764271913349_data);\n",
       "   }(LDAvis);\n",
       "}else if(typeof define === \"function\" && define.amd){\n",
       "   // require.js is available: use it to load d3/LDAvis\n",
       "   require.config({paths: {d3: \"https://cdnjs.cloudflare.com/ajax/libs/d3/3.5.5/d3.min\"}});\n",
       "   require([\"d3\"], function(d3){\n",
       "      window.d3 = d3;\n",
       "      LDAvis_load_lib(\"https://cdn.rawgit.com/bmabey/pyLDAvis/files/ldavis.v1.0.0.js\", function(){\n",
       "        new LDAvis(\"#\" + \"ldavis_el100606337707764271913349\", ldavis_el100606337707764271913349_data);\n",
       "      });\n",
       "    });\n",
       "}else{\n",
       "    // require.js not available: dynamically load d3 & LDAvis\n",
       "    LDAvis_load_lib(\"https://cdnjs.cloudflare.com/ajax/libs/d3/3.5.5/d3.min.js\", function(){\n",
       "         LDAvis_load_lib(\"https://cdn.rawgit.com/bmabey/pyLDAvis/files/ldavis.v1.0.0.js\", function(){\n",
       "                 new LDAvis(\"#\" + \"ldavis_el100606337707764271913349\", ldavis_el100606337707764271913349_data);\n",
       "            })\n",
       "         });\n",
       "}\n",
       "</script>"
      ],
      "text/plain": [
       "<IPython.core.display.HTML object>"
      ]
     },
     "execution_count": 105,
     "metadata": {},
     "output_type": "execute_result"
    }
   ],
   "source": [
    "lda_display = pyLDAvis.gensim.prepare(ldamodel, doc_term_matrix, dictionary, sort_topics=False, mds='mmds')\n",
    "pyLDAvis.display(lda_display)"
   ]
  },
  {
   "cell_type": "markdown",
   "metadata": {},
   "source": [
    "#### 5 topic model"
   ]
  },
  {
   "cell_type": "code",
   "execution_count": 106,
   "metadata": {},
   "outputs": [
    {
     "name": "stdout",
     "output_type": "stream",
     "text": [
      "Wall time: 37.7 s\n"
     ]
    }
   ],
   "source": [
    "numtopics = 5\n",
    "\n",
    "%time ldamodel = LdaMulticore(doc_term_matrix, num_topics=numtopics, id2word = dictionary, passes=50)"
   ]
  },
  {
   "cell_type": "code",
   "execution_count": 109,
   "metadata": {},
   "outputs": [
    {
     "name": "stdout",
     "output_type": "stream",
     "text": [
      "(0, '0.017*\"unit\" + 0.014*\"market\" + 0.014*\"percent\"')\n",
      "\n",
      "(1, '0.021*\"toyota\" + 0.014*\"sale\" + 0.013*\"vehicle\"')\n",
      "\n",
      "(2, '0.017*\"ford\" + 0.010*\"post\" + 0.009*\"toyota\"')\n",
      "\n",
      "(3, '0.021*\"u\" + 0.019*\"percent\" + 0.012*\"earnings\"')\n",
      "\n",
      "(4, '0.019*\"car\" + 0.006*\"d\" + 0.005*\"law\"')\n"
     ]
    }
   ],
   "source": [
    "print(*ldamodel.print_topics(num_topics=numtopics, num_words=3), sep='\\n\\n')"
   ]
  },
  {
   "cell_type": "code",
   "execution_count": 107,
   "metadata": {},
   "outputs": [
    {
     "name": "stdout",
     "output_type": "stream",
     "text": [
      "(0, '0.017*\"unit\" + 0.014*\"market\" + 0.014*\"percent\" + 0.013*\"toyota\" + 0.009*\"january\"')\n",
      "\n",
      "(1, '0.021*\"toyota\" + 0.014*\"sale\" + 0.013*\"vehicle\" + 0.009*\"percent\" + 0.006*\"japan\"')\n",
      "\n",
      "(2, '0.017*\"ford\" + 0.010*\"post\" + 0.009*\"toyota\" + 0.008*\"year\" + 0.007*\"contact\"')\n",
      "\n",
      "(3, '0.021*\"u\" + 0.019*\"percent\" + 0.012*\"earnings\" + 0.012*\"yield\" + 0.011*\"index\"')\n",
      "\n",
      "(4, '0.019*\"car\" + 0.006*\"d\" + 0.005*\"law\" + 0.004*\"toyota\" + 0.004*\"player\"')\n"
     ]
    }
   ],
   "source": [
    "print(*ldamodel.print_topics(num_topics=numtopics, num_words=5), sep='\\n\\n')"
   ]
  },
  {
   "cell_type": "code",
   "execution_count": 108,
   "metadata": {},
   "outputs": [
    {
     "name": "stdout",
     "output_type": "stream",
     "text": [
      "(0, '0.017*\"unit\" + 0.014*\"market\" + 0.014*\"percent\" + 0.013*\"toyota\" + 0.009*\"january\" + 0.008*\"vehicle\" + 0.007*\"2018\"')\n",
      "\n",
      "(1, '0.021*\"toyota\" + 0.014*\"sale\" + 0.013*\"vehicle\" + 0.009*\"percent\" + 0.006*\"japan\" + 0.006*\"year\" + 0.005*\"industry\"')\n",
      "\n",
      "(2, '0.017*\"ford\" + 0.010*\"post\" + 0.009*\"toyota\" + 0.008*\"year\" + 0.007*\"contact\" + 0.006*\"margin\" + 0.006*\"export\"')\n",
      "\n",
      "(3, '0.021*\"u\" + 0.019*\"percent\" + 0.012*\"earnings\" + 0.012*\"yield\" + 0.011*\"index\" + 0.009*\"share\" + 0.009*\"lower\"')\n",
      "\n",
      "(4, '0.019*\"car\" + 0.006*\"d\" + 0.005*\"law\" + 0.004*\"toyota\" + 0.004*\"player\" + 0.004*\"ball\" + 0.004*\"review\"')\n"
     ]
    }
   ],
   "source": [
    "print(*ldamodel.print_topics(num_topics=numtopics, num_words=7), sep='\\n\\n')"
   ]
  },
  {
   "cell_type": "code",
   "execution_count": 110,
   "metadata": {},
   "outputs": [
    {
     "name": "stdout",
     "output_type": "stream",
     "text": [
      "(0, '0.017*\"unit\" + 0.014*\"market\" + 0.014*\"percent\" + 0.013*\"toyota\" + 0.009*\"january\" + 0.008*\"vehicle\" + 0.007*\"2018\" + 0.007*\"new\" + 0.007*\"1\" + 0.006*\"year\"')\n",
      "\n",
      "(1, '0.021*\"toyota\" + 0.014*\"sale\" + 0.013*\"vehicle\" + 0.009*\"percent\" + 0.006*\"japan\" + 0.006*\"year\" + 0.005*\"industry\" + 0.005*\"lexus\" + 0.005*\"company\" + 0.005*\"2018\"')\n",
      "\n",
      "(2, '0.017*\"ford\" + 0.010*\"post\" + 0.009*\"toyota\" + 0.008*\"year\" + 0.007*\"contact\" + 0.006*\"margin\" + 0.006*\"export\" + 0.006*\"service\" + 0.005*\"company\" + 0.005*\"motor\"')\n",
      "\n",
      "(3, '0.021*\"u\" + 0.019*\"percent\" + 0.012*\"earnings\" + 0.012*\"yield\" + 0.011*\"index\" + 0.009*\"share\" + 0.009*\"lower\" + 0.009*\"cent\" + 0.009*\"per\" + 0.009*\"investor\"')\n",
      "\n",
      "(4, '0.019*\"car\" + 0.006*\"d\" + 0.005*\"law\" + 0.004*\"toyota\" + 0.004*\"player\" + 0.004*\"ball\" + 0.004*\"review\" + 0.004*\"get\" + 0.004*\"release\" + 0.004*\"new\"')\n"
     ]
    }
   ],
   "source": [
    "print(*ldamodel.print_topics(num_topics=numtopics, num_words=10), sep='\\n\\n')"
   ]
  },
  {
   "cell_type": "code",
   "execution_count": 111,
   "metadata": {},
   "outputs": [
    {
     "name": "stdout",
     "output_type": "stream",
     "text": [
      "(0, '0.017*\"unit\" + 0.014*\"market\" + 0.014*\"percent\" + 0.013*\"toyota\" + 0.009*\"january\" + 0.008*\"vehicle\" + 0.007*\"2018\" + 0.007*\"new\" + 0.007*\"1\" + 0.006*\"year\"')\n",
      "\n",
      "(1, '0.021*\"toyota\" + 0.014*\"sale\" + 0.013*\"vehicle\" + 0.009*\"percent\" + 0.006*\"japan\" + 0.006*\"year\" + 0.005*\"industry\" + 0.005*\"lexus\" + 0.005*\"company\" + 0.005*\"2018\"')\n",
      "\n",
      "(2, '0.017*\"ford\" + 0.010*\"post\" + 0.009*\"toyota\" + 0.008*\"year\" + 0.007*\"contact\" + 0.006*\"margin\" + 0.006*\"export\" + 0.006*\"service\" + 0.005*\"company\" + 0.005*\"motor\"')\n",
      "\n",
      "(3, '0.021*\"u\" + 0.019*\"percent\" + 0.012*\"earnings\" + 0.012*\"yield\" + 0.011*\"index\" + 0.009*\"share\" + 0.009*\"lower\" + 0.009*\"cent\" + 0.009*\"per\" + 0.009*\"investor\"')\n",
      "\n",
      "(4, '0.019*\"car\" + 0.006*\"d\" + 0.005*\"law\" + 0.004*\"toyota\" + 0.004*\"player\" + 0.004*\"ball\" + 0.004*\"review\" + 0.004*\"get\" + 0.004*\"release\" + 0.004*\"new\"')\n"
     ]
    }
   ],
   "source": [
    "print(*ldamodel.print_topics(num_topics=numtopics, num_words=10), sep='\\n\\n')"
   ]
  },
  {
   "cell_type": "code",
   "execution_count": 112,
   "metadata": {},
   "outputs": [
    {
     "data": {
      "text/html": [
       "\n",
       "<link rel=\"stylesheet\" type=\"text/css\" href=\"https://cdn.rawgit.com/bmabey/pyLDAvis/files/ldavis.v1.0.0.css\">\n",
       "\n",
       "\n",
       "<div id=\"ldavis_el10060635055704762037238\"></div>\n",
       "<script type=\"text/javascript\">\n",
       "\n",
       "var ldavis_el10060635055704762037238_data = {\"mdsDat\": {\"x\": [-0.029240900422475062, -0.08248889706535385, -0.07254585882244506, 0.29370461806953757, -0.10942896175926337], \"y\": [0.10612488716200508, 0.0967450730839962, -0.051741054918961346, -0.022840808344671188, -0.12828809698236884], \"topics\": [1, 2, 3, 4, 5], \"cluster\": [1, 1, 1, 1, 1], \"Freq\": [11.945408821105957, 23.853145599365234, 11.700403213500977, 40.79554748535156, 11.705500602722168]}, \"tinfo\": {\"Category\": [\"Default\", \"Default\", \"Default\", \"Default\", \"Default\", \"Default\", \"Default\", \"Default\", \"Default\", \"Default\", \"Default\", \"Default\", \"Default\", \"Default\", \"Default\", \"Default\", \"Default\", \"Default\", \"Default\", \"Default\", \"Default\", \"Default\", \"Default\", \"Default\", \"Default\", \"Default\", \"Default\", \"Default\", \"Default\", \"Default\", \"Topic1\", \"Topic1\", \"Topic1\", \"Topic1\", \"Topic1\", \"Topic1\", \"Topic1\", \"Topic1\", \"Topic1\", \"Topic1\", \"Topic1\", \"Topic1\", \"Topic1\", \"Topic1\", \"Topic1\", \"Topic1\", \"Topic1\", \"Topic1\", \"Topic1\", \"Topic1\", \"Topic1\", \"Topic1\", \"Topic1\", \"Topic1\", \"Topic1\", \"Topic1\", \"Topic1\", \"Topic1\", \"Topic1\", \"Topic1\", \"Topic1\", \"Topic1\", \"Topic1\", \"Topic1\", \"Topic1\", \"Topic1\", \"Topic1\", \"Topic1\", \"Topic1\", \"Topic1\", \"Topic1\", \"Topic1\", \"Topic1\", \"Topic1\", \"Topic1\", \"Topic1\", \"Topic1\", \"Topic1\", \"Topic1\", \"Topic1\", \"Topic1\", \"Topic1\", \"Topic1\", \"Topic1\", \"Topic1\", \"Topic1\", \"Topic1\", \"Topic1\", \"Topic1\", \"Topic1\", \"Topic1\", \"Topic1\", \"Topic1\", \"Topic1\", \"Topic1\", \"Topic1\", \"Topic1\", \"Topic2\", \"Topic2\", \"Topic2\", \"Topic2\", \"Topic2\", \"Topic2\", \"Topic2\", \"Topic2\", \"Topic2\", \"Topic2\", \"Topic2\", \"Topic2\", \"Topic2\", \"Topic2\", \"Topic2\", \"Topic2\", \"Topic2\", \"Topic2\", \"Topic2\", \"Topic2\", \"Topic2\", \"Topic2\", \"Topic2\", \"Topic2\", \"Topic2\", \"Topic2\", \"Topic2\", \"Topic2\", \"Topic2\", \"Topic2\", \"Topic2\", \"Topic2\", \"Topic2\", \"Topic2\", \"Topic2\", \"Topic2\", \"Topic2\", \"Topic2\", \"Topic2\", \"Topic2\", \"Topic2\", \"Topic2\", \"Topic2\", \"Topic2\", \"Topic2\", \"Topic2\", \"Topic2\", \"Topic2\", \"Topic2\", \"Topic2\", \"Topic2\", \"Topic2\", \"Topic2\", \"Topic2\", \"Topic2\", \"Topic2\", \"Topic2\", \"Topic2\", \"Topic2\", \"Topic2\", \"Topic2\", \"Topic2\", \"Topic2\", \"Topic2\", \"Topic3\", \"Topic3\", \"Topic3\", \"Topic3\", \"Topic3\", \"Topic3\", \"Topic3\", \"Topic3\", \"Topic3\", \"Topic3\", \"Topic3\", \"Topic3\", \"Topic3\", \"Topic3\", \"Topic3\", \"Topic3\", \"Topic3\", \"Topic3\", \"Topic3\", \"Topic3\", \"Topic3\", \"Topic3\", \"Topic3\", \"Topic3\", \"Topic3\", \"Topic3\", \"Topic3\", \"Topic3\", \"Topic3\", \"Topic3\", \"Topic3\", \"Topic3\", \"Topic3\", \"Topic3\", \"Topic3\", \"Topic3\", \"Topic3\", \"Topic3\", \"Topic3\", \"Topic3\", \"Topic3\", \"Topic3\", \"Topic3\", \"Topic3\", \"Topic3\", \"Topic3\", \"Topic3\", \"Topic3\", \"Topic3\", \"Topic3\", \"Topic3\", \"Topic3\", \"Topic3\", \"Topic3\", \"Topic3\", \"Topic3\", \"Topic3\", \"Topic3\", \"Topic4\", \"Topic4\", \"Topic4\", \"Topic4\", \"Topic4\", \"Topic4\", \"Topic4\", \"Topic4\", \"Topic4\", \"Topic4\", \"Topic4\", \"Topic4\", \"Topic4\", \"Topic4\", \"Topic4\", \"Topic4\", \"Topic4\", \"Topic4\", \"Topic4\", \"Topic4\", \"Topic4\", \"Topic4\", \"Topic4\", \"Topic4\", \"Topic4\", \"Topic4\", \"Topic4\", \"Topic4\", \"Topic4\", \"Topic4\", \"Topic4\", \"Topic4\", \"Topic4\", \"Topic4\", \"Topic4\", \"Topic4\", \"Topic4\", \"Topic4\", \"Topic4\", \"Topic4\", \"Topic4\", \"Topic4\", \"Topic4\", \"Topic4\", \"Topic4\", \"Topic4\", \"Topic4\", \"Topic4\", \"Topic4\", \"Topic4\", \"Topic4\", \"Topic4\", \"Topic4\", \"Topic4\", \"Topic4\", \"Topic4\", \"Topic4\", \"Topic5\", \"Topic5\", \"Topic5\", \"Topic5\", \"Topic5\", \"Topic5\", \"Topic5\", \"Topic5\", \"Topic5\", \"Topic5\", \"Topic5\", \"Topic5\", \"Topic5\", \"Topic5\", \"Topic5\", \"Topic5\", \"Topic5\", \"Topic5\", \"Topic5\", \"Topic5\", \"Topic5\", \"Topic5\", \"Topic5\", \"Topic5\", \"Topic5\", \"Topic5\", \"Topic5\", \"Topic5\", \"Topic5\", \"Topic5\", \"Topic5\", \"Topic5\", \"Topic5\", \"Topic5\", \"Topic5\", \"Topic5\", \"Topic5\", \"Topic5\", \"Topic5\", \"Topic5\", \"Topic5\", \"Topic5\", \"Topic5\", \"Topic5\", \"Topic5\", \"Topic5\", \"Topic5\", \"Topic5\", \"Topic5\", \"Topic5\", \"Topic5\", \"Topic5\", \"Topic5\", \"Topic5\", \"Topic5\", \"Topic5\", \"Topic5\", \"Topic5\", \"Topic5\", \"Topic5\", \"Topic5\", \"Topic5\", \"Topic5\"], \"Freq\": [57.0, 96.0, 121.0, 71.0, 128.0, 229.0, 108.0, 230.0, 111.0, 113.0, 98.0, 37.0, 297.0, 93.0, 88.0, 98.0, 63.0, 83.0, 21.0, 83.0, 72.0, 85.0, 71.0, 49.0, 18.0, 18.0, 48.0, 112.0, 18.0, 50.0, 14.400636672973633, 13.650046348571777, 9.150404930114746, 51.8520622253418, 5.400235176086426, 4.650205612182617, 4.650203227996826, 4.650201797485352, 4.649627208709717, 4.649626731872559, 4.649626731872559, 9.150238990783691, 3.900172472000122, 3.900171995162964, 3.900169610977173, 3.900169849395752, 3.900169610977173, 3.900169610977173, 3.899824619293213, 3.89982533454895, 3.899559497833252, 3.150139331817627, 3.150139331817627, 3.150139331817627, 3.150139093399048, 3.150139093399048, 3.1501379013061523, 3.150137186050415, 3.150137186050415, 3.149843215942383, 6.150439739227295, 6.150439262390137, 6.151473045349121, 8.400786399841309, 6.1498613357543945, 4.6502909660339355, 43.3469352722168, 11.400871276855469, 4.6497344970703125, 10.491265296936035, 10.651206970214844, 7.650527477264404, 26.50284767150879, 19.714508056640625, 5.399975776672363, 7.538525581359863, 39.22674560546875, 8.733946800231934, 9.15127182006836, 20.038715362548828, 24.1961727142334, 40.99251174926758, 12.901595115661621, 16.388137817382812, 14.839990615844727, 19.752782821655273, 8.401278495788574, 18.075624465942383, 16.328075408935547, 14.937565803527832, 9.971210479736328, 9.733782768249512, 11.91679573059082, 11.400328636169434, 11.400435447692871, 9.899763107299805, 9.150927543640137, 25.935588836669922, 16.48885154724121, 15.628421783447266, 14.76718807220459, 13.912469863891602, 13.048713684082031, 12.194878578186035, 12.19467830657959, 10.47729206085205, 10.47729206085205, 10.47729206085205, 10.477052688598633, 9.618496894836426, 9.618496894836426, 9.615484237670898, 8.7597017288208, 8.7597017288208, 8.759300231933594, 7.900908946990967, 7.882122993469238, 7.041751384735107, 7.039393424987793, 6.966861724853516, 6.183319091796875, 6.183315277099609, 6.946117401123047, 13.028680801391602, 5.324525356292725, 5.324525356292725, 5.324525356292725, 15.628458023071289, 10.477415084838867, 30.092287063598633, 85.88785552978516, 11.000751495361328, 31.275869369506836, 78.00731658935547, 14.716782569885254, 12.19511604309082, 126.61699676513672, 10.977473258972168, 14.758359909057617, 15.135172843933105, 33.33116912841797, 13.422086715698242, 23.36011505126953, 24.308277130126953, 15.953815460205078, 16.98565673828125, 27.938438415527344, 32.87751007080078, 51.96926498413086, 22.25575065612793, 28.859237670898438, 27.08868408203125, 19.301969528198242, 26.77940559387207, 17.348142623901367, 27.88412857055664, 24.21776008605957, 20.831344604492188, 20.28997802734375, 17.06853675842285, 16.320280075073242, 14.394159317016602, 14.32158088684082, 13.587007522583008, 12.124051094055176, 9.146291732788086, 7.646895408630371, 17.393457412719727, 16.64423942565918, 6.897202014923096, 19.30245590209961, 7.524372100830078, 6.147504806518555, 6.134383678436279, 12.86328411102295, 4.6481146812438965, 4.648114204406738, 8.396624565124512, 3.898418426513672, 3.89703369140625, 3.8673112392425537, 5.171268939971924, 12.145499229431152, 12.6692476272583, 3.7934980392456055, 3.1487224102020264, 3.1487224102020264, 3.1487224102020264, 3.1487221717834473, 3.1487221717834473, 3.1487221717834473, 15.101982116699219, 3.14872145652771, 3.14872145652771, 6.107484817504883, 28.55171775817871, 6.147649765014648, 4.9656853675842285, 49.443504333496094, 16.215152740478516, 5.397937774658203, 5.373314380645752, 6.147628307342529, 8.797710418701172, 11.251059532165527, 15.549690246582031, 22.744022369384766, 12.986244201660156, 26.031627655029297, 9.270439147949219, 15.842209815979004, 12.484367370605469, 10.91140079498291, 10.646121978759766, 13.630805015563965, 12.588104248046875, 11.73705768585205, 10.730854988098145, 11.667769432067871, 121.35311126708984, 63.03650665283203, 49.36180877685547, 47.558712005615234, 45.736534118652344, 110.25204467773438, 41.17157745361328, 39.35892105102539, 126.79522705078125, 35.71444320678711, 33.89241027832031, 30.248069763183594, 40.904266357421875, 29.33697509765625, 49.715267181396484, 27.51480484008789, 26.60332489013672, 25.69264030456543, 25.69263458251953, 25.69263458251953, 25.692638397216797, 25.692638397216797, 23.870464324951172, 23.87046241760254, 22.959379196166992, 22.959375381469727, 22.959375381469727, 22.959379196166992, 22.959375381469727, 22.959375381469727, 85.41278076171875, 43.914527893066406, 89.4637451171875, 41.974735260009766, 51.17859649658203, 68.83842468261719, 92.2761459350586, 211.64993286132812, 67.60376739501953, 47.658016204833984, 78.49149322509766, 80.08519744873047, 72.72451782226562, 39.861106872558594, 44.75291061401367, 55.39204406738281, 53.88180160522461, 95.58183288574219, 192.30337524414062, 47.74169158935547, 92.20244598388672, 90.13468933105469, 57.15489196777344, 49.11653137207031, 52.91067123413086, 51.47175216674805, 46.67189407348633, 17.444509506225586, 15.188752174377441, 12.932997703552246, 12.932988166809082, 8.421486854553223, 8.421486854553223, 7.669566631317139, 7.669562816619873, 7.668706893920898, 6.917648792266846, 12.935102462768555, 5.413812637329102, 4.661893367767334, 4.66189432144165, 4.661889553070068, 5.235196113586426, 3.909975051879883, 3.909975528717041, 3.909975051879883, 3.909975051879883, 3.909975528717041, 3.9099748134613037, 3.909972667694092, 3.8828322887420654, 3.8828206062316895, 5.118937015533447, 3.1580567359924316, 3.1580567359924316, 3.1580564975738525, 3.1580562591552734, 9.173507690429688, 9.173543930053711, 8.300277709960938, 5.414344787597656, 10.65815544128418, 55.631309509277344, 7.6696319580078125, 6.867958068847656, 8.092411994934082, 5.413928985595703, 5.396236896514893, 11.42985725402832, 7.017939567565918, 7.669879913330078, 8.422124862670898, 6.808841228485107, 12.720817565917969, 6.166662216186523, 8.422682762145996, 6.648678779602051, 6.760342121124268, 9.174363136291504, 11.027979850769043, 9.174825668334961, 7.670209884643555, 13.185667037963867, 10.156304359436035, 9.925146102905273, 8.606562614440918, 7.78231143951416, 7.670488357543945, 7.6700849533081055, 7.67001485824585], \"Term\": [\"unit\", \"car\", \"yield\", \"ford\", \"earnings\", \"toyota\", \"sale\", \"u\", \"index\", \"vehicle\", \"market\", \"post\", \"percent\", \"investor\", \"benchmark\", \"lower\", \"barrel\", \"january\", \"contact\", \"friday\", \"rose\", \"01\", \"latest\", \"bond\", \"d\", \"margin\", \"hong\", \"year\", \"export\", \"trading\", \"registration\", \"losing\", \"soul\", \"unit\", \"estate\", \"wythe\", \"dallas\", \"ashmore\", \"ninemonth\", \"closed\", \"trader\", \"declining\", \"crawford\", \"table\", \"kdc\", \"ntcar\", \"hall\", \"fame\", \"109\", \"performer\", \"overnight\", \"livestock\", \"polo\", \"driveaway\", \"ran\", \"mediacamera\", \"cowboy\", \"mickey\", \"jerry\", \"capacity\", \"cx3\", \"chr\", \"bestselling\", \"mazda\", \"6\", \"association\", \"market\", \"followed\", \"advancing\", \"corolla\", \"top\", \"kia\", \"january\", \"1\", \"corp\", \"leader\", \"toyota\", \"point\", \"commercial\", \"2018\", \"vehicle\", \"percent\", \"suv\", \"month\", \"also\", \"new\", \"passenger\", \"year\", \"sale\", \"share\", \"model\", \"last\", \"said\", \"cent\", \"per\", \"ford\", \"2017\", \"hydrogen\", \"canada\", \"fuel\", \"bag\", \"museum\", \"demand\", \"hma\", \"rx\", \"matcha\", \"staff\", \"tour\", \"nx\", \"magazine\", \"mobility\", \"recall\", \"canadian\", \"cell\", \"alliance\", \"culture\", \"continue\", \"march\", \"role\", \"education\", \"worldwide\", \"esso\", \"supplier\", \"prius\", \"weaving\", \"doll\", \"emission\", \"technology\", \"factory\", \"lexus\", \"sale\", \"development\", \"industry\", \"vehicle\", \"number\", \"electrified\", \"toyota\", \"program\", \"challenge\", \"air\", \"japan\", \"customer\", \"australia\", \"motor\", \"million\", \"truck\", \"2018\", \"year\", \"percent\", \"also\", \"company\", \"january\", \"model\", \"car\", \"increase\", \"per\", \"cent\", \"new\", \"said\", \"2017\", \"one\", \"commodity\", \"id\", \"unsolicited\", \"qr\", \"f1\", \"aluminum\", \"margin\", \"export\", \"alonso\", \"contact\", \"tire\", \"shank\", \"mile\", \"code\", \"snowmobile\", \"hackett\", \"le\", \"sled\", \"delivery\", \"title\", \"text\", \"operating\", \"link\", \"anytime\", \"fernando\", \"turkey\", \"wec\", \"bykeki\", \"fitness\", \"f150\", \"offer\", \"given\", \"normal\", \"call\", \"post\", \"tm\", \"info\", \"ford\", \"service\", \"mclaren\", \"increased\", \"steel\", \"2015\", \"automotive\", \"motor\", \"year\", \"one\", \"toyota\", \"4\", \"company\", \"time\", \"last\", \"profit\", \"new\", \"said\", \"price\", \"month\", \"percent\", \"yield\", \"barrel\", \"bond\", \"hong\", \"asian\", \"index\", \"03\", \"composite\", \"earnings\", \"providing\", \"weigh\", \"worry\", \"monthly\", \"seng\", \"trading\", \"kong\", \"interest\", \"10year\", \"sank\", \"dipped\", \"fueled\", \"treasury\", \"euro\", \"score\", \"hovered\", \"risen\", \"kongs\", \"shanghai\", \"kospi\", \"korea\", \"benchmark\", \"mostly\", \"investor\", \"pace\", \"week\", \"rose\", \"lower\", \"u\", \"latest\", \"crude\", \"friday\", \"01\", \"report\", \"expected\", \"yen\", \"rate\", \"economy\", \"share\", \"percent\", \"oil\", \"cent\", \"per\", \"fell\", \"job\", \"price\", \"said\", \"world\", \"d\", \"law\", \"ball\", \"review\", \"scrum\", \"amendment\", \"rugby\", \"spec\", \"super\", \"ruck\", \"player\", \"crossback\", \"referee\", \"foot\", \"bowl\", \"transmission\", \"hemisphere\", \"rationale\", \"kostrna\", \"damn\", \"touchscreen\", \"hate\", \"redesign\", \"yes\", \"money\", \"steering\", \"southern\", \"selden\", \"guy\", \"book\", \"2019\", \"game\", \"wheel\", \"ad\", \"7\", \"car\", \"date\", \"premium\", \"design\", \"chevy\", \"feature\", \"release\", \"automatic\", \"team\", \"performance\", \"must\", \"get\", \"picture\", \"news\", \"line\", \"drive\", \"model\", \"new\", \"one\", \"see\", \"toyota\", \"year\", \"said\", \"price\", \"time\", \"like\", \"2018\", \"last\"], \"Total\": [57.0, 96.0, 121.0, 71.0, 128.0, 229.0, 108.0, 230.0, 111.0, 113.0, 98.0, 37.0, 297.0, 93.0, 88.0, 98.0, 63.0, 83.0, 21.0, 83.0, 72.0, 85.0, 71.0, 49.0, 18.0, 18.0, 48.0, 112.0, 18.0, 50.0, 15.05494499206543, 14.305031776428223, 9.804708480834961, 57.71678161621094, 6.054541110992432, 5.304507255554199, 5.304507732391357, 5.304507255554199, 5.30463171005249, 5.30463171005249, 5.30463171005249, 10.663566589355469, 4.554473400115967, 4.554473400115967, 4.554472923278809, 4.554473400115967, 4.554473400115967, 4.554473400115967, 4.554549217224121, 4.554549694061279, 4.554605007171631, 3.8044400215148926, 3.8044400215148926, 3.804440498352051, 3.804440498352051, 3.8044402599334717, 3.8044402599334717, 3.8044402599334717, 3.8044402599334717, 3.804482936859131, 7.554270267486572, 7.5542707443237305, 7.6631951332092285, 11.522083282470703, 8.304069519042969, 6.054203510284424, 98.8777084350586, 18.706989288330078, 6.163410663604736, 17.23168182373047, 18.365732192993164, 12.277958869934082, 83.73665618896484, 58.31639099121094, 7.717962265014648, 13.473755836486816, 229.6653289794922, 18.243680953979492, 20.00986099243164, 80.29743194580078, 113.81925964355469, 297.83380126953125, 37.0184211730957, 62.5206184387207, 52.935325622558594, 94.90740203857422, 18.24533462524414, 112.8006362915039, 108.15235900878906, 122.93316650390625, 40.000919342041016, 40.63116455078125, 106.19178009033203, 128.1209259033203, 129.71981811523438, 71.87137603759766, 42.11848831176758, 26.568145751953125, 17.121408462524414, 16.262449264526367, 15.40347671508789, 14.545022010803223, 13.68565559387207, 12.827430725097656, 12.827407836914062, 11.109843254089355, 11.109844207763672, 11.109844207763672, 11.109811782836914, 10.251049041748047, 10.251049041748047, 10.250736236572266, 9.392253875732422, 9.392253875732422, 9.392278671264648, 8.533458709716797, 8.534255027770996, 7.674617767333984, 7.674428939819336, 7.6792449951171875, 6.815869331359863, 6.8158674240112305, 7.680508136749268, 14.43274974822998, 5.9570746421813965, 5.9570746421813965, 5.9570746421813965, 17.766374588012695, 11.859554290771484, 35.347591400146484, 108.15235900878906, 12.739116668701172, 40.747520446777344, 113.81925964355469, 17.648345947265625, 14.32907772064209, 229.6653289794922, 12.7402925491333, 18.40411376953125, 19.20359992980957, 66.5672378540039, 17.481523513793945, 45.537742614746094, 51.12076187133789, 25.308835983276367, 28.439102172851562, 80.29743194580078, 112.8006362915039, 297.83380126953125, 52.935325622558594, 92.3146743774414, 83.73665618896484, 40.000919342041016, 96.58099365234375, 32.795108795166016, 129.71981811523438, 128.1209259033203, 94.90740203857422, 106.19178009033203, 42.11848831176758, 45.790740966796875, 15.04853630065918, 15.063139915466309, 14.310150146484375, 12.803837776184082, 9.80066204071045, 8.30126953125, 18.906042098999023, 18.156274795532227, 7.551571846008301, 21.279762268066406, 8.325017929077148, 6.801877498626709, 6.804535865783691, 14.413689613342285, 5.302483558654785, 5.302484512329102, 9.801004409790039, 4.552787780761719, 4.553000450134277, 4.55917501449585, 6.100609302520752, 14.410110473632812, 15.057106971740723, 4.574928283691406, 3.803091049194336, 3.803090810775757, 3.803091049194336, 3.803090810775757, 3.803091287612915, 3.803091287612915, 19.14104461669922, 3.803091049194336, 3.803091049194336, 7.55418586730957, 37.8978157043457, 7.66064977645874, 6.144754409790039, 71.87137603759766, 23.995954513549805, 6.910956382751465, 6.914540767669678, 9.052108764648438, 15.75422477722168, 25.384119033813477, 51.12076187133789, 112.8006362915039, 45.790740966796875, 229.6653289794922, 22.855487823486328, 92.3146743774414, 57.347320556640625, 40.63116455078125, 37.695796966552734, 94.90740203857422, 106.19178009033203, 79.36167907714844, 62.5206184387207, 297.83380126953125, 121.97828674316406, 63.667442321777344, 49.99965286254883, 48.18085479736328, 46.35867691040039, 111.76555633544922, 41.80164337158203, 39.98106002807617, 128.9398956298828, 36.33670425415039, 34.51453399658203, 30.870189666748047, 41.75437927246094, 29.9591007232666, 50.81216812133789, 28.136926651000977, 27.225770950317383, 26.31475257873535, 26.31475257873535, 26.31475067138672, 26.314754486083984, 26.314754486083984, 24.492576599121094, 24.492578506469727, 23.58148956298828, 23.58148956298828, 23.58148956298828, 23.581493377685547, 23.58148956298828, 23.58148956298828, 88.6257553100586, 45.395301818847656, 93.83847045898438, 43.44340515136719, 53.431575775146484, 72.31024932861328, 98.08653259277344, 230.9302215576172, 71.22820281982422, 49.698463439941406, 83.76051330566406, 85.54981994628906, 78.35698699951172, 41.71136474609375, 47.68486404418945, 60.313323974609375, 59.16625213623047, 122.93316650390625, 297.83380126953125, 52.71238708496094, 128.1209259033203, 129.71981811523438, 68.98383331298828, 56.1276969909668, 79.36167907714844, 106.19178009033203, 68.18009948730469, 18.098440170288086, 15.842680931091309, 13.586925506591797, 13.586925506591797, 9.07541275024414, 9.07541275024414, 8.323492050170898, 8.323493957519531, 8.323562622070312, 7.5715742111206055, 14.445268630981445, 6.067737102508545, 5.315818786621094, 5.315819263458252, 5.31581974029541, 6.09928560256958, 4.563899040222168, 4.563899517059326, 4.563899517059326, 4.563899993896484, 4.563899993896484, 4.563899993896484, 4.563899517059326, 4.5691423416137695, 4.569143772125244, 6.129012584686279, 3.811980724334717, 3.811980962753296, 3.811980962753296, 3.811980962753296, 11.3267240524292, 11.544898986816406, 10.707942962646484, 6.817436695098877, 14.332200050354004, 96.58099365234375, 10.041075706481934, 9.268861770629883, 11.43331241607666, 6.926514625549316, 6.928952217102051, 19.159061431884766, 10.169150352478027, 11.64964485168457, 14.225665092468262, 10.92053508758545, 42.23847198486328, 9.287300109863281, 26.401424407958984, 13.155940055847168, 14.138664245605469, 40.000919342041016, 94.90740203857422, 45.790740966796875, 23.018444061279297, 229.6653289794922, 112.8006362915039, 106.19178009033203, 79.36167907714844, 57.347320556640625, 23.559432983398438, 80.29743194580078, 40.63116455078125], \"loglift\": [30.0, 29.0, 28.0, 27.0, 26.0, 25.0, 24.0, 23.0, 22.0, 21.0, 20.0, 19.0, 18.0, 17.0, 16.0, 15.0, 14.0, 13.0, 12.0, 11.0, 10.0, 9.0, 8.0, 7.0, 6.0, 5.0, 4.0, 3.0, 2.0, 1.0, 2.080399990081787, 2.078000068664551, 2.055799961090088, 2.017699956893921, 2.010499954223633, 1.9931999444961548, 1.9931999444961548, 1.9931999444961548, 1.9930000305175781, 1.9930000305175781, 1.9930000305175781, 1.9717999696731567, 1.9696999788284302, 1.9696999788284302, 1.9696999788284302, 1.9696999788284302, 1.9696999788284302, 1.9696999788284302, 1.969599962234497, 1.969599962234497, 1.969499945640564, 1.9361000061035156, 1.9361000061035156, 1.9361000061035156, 1.9361000061035156, 1.9361000061035156, 1.9361000061035156, 1.9361000061035156, 1.9361000061035156, 1.9359999895095825, 1.9191999435424805, 1.9191999435424805, 1.9050999879837036, 1.808899998664856, 1.8244999647140503, 1.8609999418258667, 1.3001999855041504, 1.6296000480651855, 1.843000054359436, 1.628600001335144, 1.5800000429153442, 1.6518000364303589, 0.974399983882904, 1.0403000116348267, 1.767699956893921, 1.544100046157837, 0.35760000348091125, 1.388200044631958, 1.3424999713897705, 0.7368000149726868, 0.5763999819755554, 0.14169999957084656, 1.0707999467849731, 0.7858999967575073, 0.8531000018119812, 0.5551999807357788, 1.3493000268936157, 0.2937999963760376, 0.23420000076293945, 0.017100000753998756, 0.7355999946594238, 0.695900022983551, -0.0625, -0.2944999933242798, -0.3068999946117401, 0.14249999821186066, 0.5982000231742859, 1.4091999530792236, 1.3955999612808228, 1.3934999704360962, 1.3911000490188599, 1.388800024986267, 1.385599970817566, 1.382699966430664, 1.382699966430664, 1.3746000528335571, 1.3746000528335571, 1.3746000528335571, 1.3746000528335571, 1.3696000576019287, 1.3696000576019287, 1.3693000078201294, 1.3634999990463257, 1.3634999990463257, 1.3634999990463257, 1.3561999797821045, 1.3538000583648682, 1.3472000360488892, 1.3468999862670898, 1.3358999490737915, 1.3358999490737915, 1.3358999490737915, 1.332800030708313, 1.330899953842163, 1.3209999799728394, 1.3209999799728394, 1.3209999799728394, 1.3049999475479126, 1.3092999458312988, 1.2723000049591064, 1.2028000354766846, 1.2864999771118164, 1.1686999797821045, 1.055400013923645, 1.2516000270843506, 1.2719999551773071, 0.8378000259399414, 1.2842999696731567, 1.212499976158142, 1.195199966430664, 0.7415000200271606, 1.1690000295639038, 0.7656999826431274, 0.6898999810218811, 0.9718000292778015, 0.917900025844574, 0.3774999976158142, 0.2003999948501587, -0.3125999867916107, 0.5667999982833862, 0.2705000042915344, 0.30469998717308044, 0.7045999765396118, 0.15049999952316284, 0.796500027179718, -0.10409999638795853, -0.23260000348091125, -0.08320000022649765, -0.22190000116825104, 0.5299999713897705, 0.4016000032424927, 2.101099967956543, 2.095099925994873, 2.0936999320983887, 2.0910000801086426, 2.0764000415802, 2.0634000301361084, 2.0622000694274902, 2.0585999488830566, 2.0548999309539795, 2.0480000972747803, 2.0443999767303467, 2.0443999767303467, 2.0418999195098877, 2.0316998958587646, 2.0137999057769775, 2.0137999057769775, 1.9909000396728516, 1.990399956703186, 1.9900000095367432, 1.9809999465942383, 1.980299949645996, 1.9745999574661255, 1.9729000329971313, 1.9581999778747559, 1.9566999673843384, 1.9566999673843384, 1.9566999673843384, 1.9566999673843384, 1.9566999673843384, 1.9566999673843384, 1.9084999561309814, 1.9566999673843384, 1.9566999673843384, 1.9329999685287476, 1.8624000549316406, 1.9255000352859497, 1.9325000047683716, 1.7714999914169312, 1.753600001335144, 1.8984999656677246, 1.893399953842163, 1.7585999965667725, 1.5628999471664429, 1.3319000005722046, 0.9553999900817871, 0.5442000031471252, 0.8853999972343445, -0.03180000185966492, 1.2431999444961548, 0.382999986410141, 0.6208999752998352, 0.8307999968528748, 0.8812000155448914, 0.20499999821186066, 0.013100000098347664, 0.23430000245571136, 0.3831999897956848, -1.0942000150680542, 0.8914999961853027, 0.8866000175476074, 0.8838000297546387, 0.8835999965667725, 0.8830999732017517, 0.8830000162124634, 0.8813999891281128, 0.8809000253677368, 0.879800021648407, 0.8792999982833862, 0.8784000277519226, 0.8762000203132629, 0.8759999871253967, 0.8755999803543091, 0.8748000264167786, 0.8741999864578247, 0.8734999895095825, 0.8726999759674072, 0.8726999759674072, 0.8726999759674072, 0.8726999759674072, 0.8726999759674072, 0.8708999752998352, 0.8708999752998352, 0.8698999881744385, 0.8698999881744385, 0.8698999881744385, 0.8698999881744385, 0.8698999881744385, 0.8698999881744385, 0.8597000241279602, 0.8633999824523926, 0.8489000201225281, 0.8622000217437744, 0.8535000085830688, 0.8474000096321106, 0.8355000019073486, 0.8094000220298767, 0.8443999886512756, 0.8547000288963318, 0.83160001039505, 0.8306000232696533, 0.8220000267028809, 0.8511999845504761, 0.8331000208854675, 0.8115000128746033, 0.8029999732971191, 0.6449000239372253, 0.45910000801086426, 0.7975999712944031, 0.5676000118255615, 0.5325000286102295, 0.7085000276565552, 0.7631999850273132, 0.4912000000476837, 0.17239999771118164, 0.5175999999046326, 2.108299970626831, 2.1029999256134033, 2.0957999229431152, 2.0957999229431152, 2.0703001022338867, 2.0703001022338867, 2.0632998943328857, 2.0632998943328857, 2.063199996948242, 2.054800033569336, 2.0346999168395996, 2.031100034713745, 2.0137999057769775, 2.0137999057769775, 2.0137999057769775, 1.992300033569336, 1.9904999732971191, 1.9904999732971191, 1.9904999732971191, 1.9904999732971191, 1.9904999732971191, 1.9904999732971191, 1.9904999732971191, 1.9823999404907227, 1.982300043106079, 1.965000033378601, 1.9569000005722046, 1.9569000005722046, 1.9569000005722046, 1.9569000005722046, 1.9342999458312988, 1.9151999950408936, 1.8904000520706177, 1.9147000312805176, 1.8488999605178833, 1.593500018119812, 1.8756999969482422, 1.8452999591827393, 1.7994999885559082, 1.8986999988555908, 1.8950999975204468, 1.628600001335144, 1.7741999626159668, 1.7271000146865845, 1.62090003490448, 1.672700047492981, 0.9449999928474426, 1.7355999946594238, 1.0025999546051025, 1.4627000093460083, 1.4072999954223633, 0.6725999712944031, -0.007400000002235174, 0.5375000238418579, 1.0462000370025635, -0.7124000191688538, -0.2624000012874603, -0.22509999573230743, -0.07639999687671661, 0.1477999985218048, 1.0230000019073486, -0.20329999923706055, 0.4778999984264374], \"logprob\": [30.0, 29.0, 28.0, 27.0, 26.0, 25.0, 24.0, 23.0, 22.0, 21.0, 20.0, 19.0, 18.0, 17.0, 16.0, 15.0, 14.0, 13.0, 12.0, 11.0, 10.0, 9.0, 8.0, 7.0, 6.0, 5.0, 4.0, 3.0, 2.0, 1.0, -5.336699962615967, -5.3902997970581055, -5.790200233459473, -4.055600166320801, -6.317599773406982, -6.467100143432617, -6.467100143432617, -6.467100143432617, -6.467199802398682, -6.467199802398682, -6.467199802398682, -5.790200233459473, -6.64300012588501, -6.64300012588501, -6.64300012588501, -6.64300012588501, -6.64300012588501, -6.64300012588501, -6.643099784851074, -6.643099784851074, -6.643099784851074, -6.856599807739258, -6.856599807739258, -6.856599807739258, -6.856599807739258, -6.856599807739258, -6.856599807739258, -6.856599807739258, -6.856599807739258, -6.8566999435424805, -6.1875, -6.1875, -6.187300205230713, -5.875699996948242, -6.187600135803223, -6.467100143432617, -4.234799861907959, -5.570300102233887, -6.467199802398682, -5.653500080108643, -5.638299942016602, -5.969200134277344, -4.726799964904785, -5.02269983291626, -6.317599773406982, -5.984000205993652, -4.33459997177124, -5.8368000984191895, -5.79010009765625, -5.00629997253418, -4.817800045013428, -4.290599822998047, -5.446700096130371, -5.207399845123291, -5.306700229644775, -5.020699977874756, -5.8755998611450195, -5.109399795532227, -5.211100101470947, -5.300099849700928, -5.7042999267578125, -5.728400230407715, -5.526100158691406, -5.570400238037109, -5.570400238037109, -5.71150016784668, -5.790200233459473, -5.440000057220459, -5.892899990081787, -5.946499824523926, -6.003200054168701, -6.06279993057251, -6.1269001960754395, -6.1946001052856445, -6.1946001052856445, -6.346399784088135, -6.346399784088135, -6.346399784088135, -6.346399784088135, -6.4319000244140625, -6.4319000244140625, -6.432199954986572, -6.525400161743164, -6.525400161743164, -6.5254998207092285, -6.628600120544434, -6.63100004196167, -6.74370002746582, -6.744100093841553, -6.75439977645874, -6.873700141906738, -6.873700141906738, -6.757400035858154, -6.128399848937988, -7.0233001708984375, -7.0233001708984375, -7.0233001708984375, -5.946499824523926, -6.346399784088135, -5.291299819946289, -4.242499828338623, -6.297599792480469, -5.252699851989746, -4.338799953460693, -6.0065999031066895, -6.194499969482422, -3.8543999195098877, -6.299699783325195, -6.003799915313721, -5.978600025177002, -5.1890997886657715, -6.098700046539307, -5.54449987411499, -5.504799842834473, -5.925899982452393, -5.8632001876831055, -5.365600109100342, -5.2027997970581055, -4.744900226593018, -5.5929999351501465, -5.333099842071533, -5.396500110626221, -5.735400199890137, -5.407899856567383, -5.842100143432617, -5.367499828338623, -5.508500099182129, -5.65910005569458, -5.685400009155273, -5.85830020904541, -5.903200149536133, -5.316500186920166, -5.321499824523926, -5.374199867248535, -5.488100051879883, -5.769899845123291, -5.948999881744385, -5.127200126647949, -5.171199798583984, -6.052199840545654, -5.0229997634887695, -5.965099811553955, -6.167200088500977, -6.169400215148926, -5.428899765014648, -6.446800231933594, -6.446800231933594, -5.855500221252441, -6.622700214385986, -6.6230998039245605, -6.63070011138916, -6.340199947357178, -5.486299991607666, -5.4440999031066895, -6.650000095367432, -6.836299896240234, -6.836299896240234, -6.836299896240234, -6.836299896240234, -6.836299896240234, -6.836299896240234, -5.268499851226807, -6.836299896240234, -6.836299896240234, -6.173799991607666, -4.6315999031066895, -6.167200088500977, -6.38070011138916, -4.082499980926514, -5.197299957275391, -6.297299861907959, -6.301799774169922, -6.167200088500977, -5.808800220489502, -5.56279993057251, -5.239200115203857, -4.859000205993652, -5.419400215148926, -4.723999977111816, -5.756499767303467, -5.220600128173828, -5.458799839019775, -5.593500137329102, -5.618100166320801, -5.3709001541137695, -5.450500011444092, -5.520500183105469, -5.610199928283691, -5.526500225067139, -4.433499813079834, -5.088500022888184, -5.333099842071533, -5.370299816131592, -5.409299850463867, -4.5295000076293945, -5.514500141143799, -5.559500217437744, -4.389699935913086, -5.656700134277344, -5.709000110626221, -5.822800159454346, -5.520999908447266, -5.853400230407715, -5.325900077819824, -5.917500019073486, -5.951200008392334, -5.986000061035156, -5.986000061035156, -5.986000061035156, -5.986000061035156, -5.986000061035156, -6.059599876403809, -6.059599876403809, -6.098499774932861, -6.098499774932861, -6.098499774932861, -6.098499774932861, -6.098499774932861, -6.098499774932861, -4.7846999168396, -5.449999809265137, -4.738399982452393, -5.495200157165527, -5.296899795532227, -5.000500202178955, -4.707399845123291, -3.8773000240325928, -5.018599987030029, -5.368199825286865, -4.869200229644775, -4.849100112915039, -4.9456000328063965, -5.546800136566162, -5.431099891662598, -5.217800140380859, -5.2453999519348145, -4.6722002029418945, -3.9732000827789307, -5.366399765014648, -4.708199977874756, -4.730899810791016, -5.186500072479248, -5.3379998207092285, -5.263599872589111, -5.291200160980225, -5.389100074768066, -5.12470006942749, -5.263199806213379, -5.423900127410889, -5.423900127410889, -5.85290002822876, -5.85290002822876, -5.946499824523926, -5.946499824523926, -5.946599960327148, -6.049600124359131, -5.423799991607666, -6.2947998046875, -6.444300174713135, -6.444300174713135, -6.444300174713135, -6.3282999992370605, -6.620200157165527, -6.620200157165527, -6.620200157165527, -6.620200157165527, -6.620200157165527, -6.620200157165527, -6.620200157165527, -6.627200126647949, -6.627200126647949, -6.350800037384033, -6.833799839019775, -6.833799839019775, -6.833799839019775, -6.833799839019775, -5.767399787902832, -5.767399787902832, -5.867400169372559, -6.2947001457214355, -5.617400169372559, -3.9649999141693115, -5.946400165557861, -6.0569000244140625, -5.8927998542785645, -6.2947001457214355, -6.297999858856201, -5.547500133514404, -6.035200119018555, -5.946400165557861, -5.85290002822876, -6.065499782562256, -5.440499782562256, -6.164599895477295, -5.852799892425537, -6.089300155639648, -6.0725998878479, -5.767300128936768, -5.5833001136779785, -5.767300128936768, -5.946400165557861, -5.404600143432617, -5.665599822998047, -5.688600063323975, -5.831200122833252, -5.9319000244140625, -5.946300029754639, -5.946400165557861, -5.946400165557861]}, \"token.table\": {\"Topic\": [1, 2, 4, 5, 4, 1, 2, 3, 4, 5, 1, 4, 1, 2, 3, 1, 2, 3, 4, 5, 1, 2, 3, 4, 5, 3, 5, 1, 2, 3, 4, 5, 1, 3, 1, 5, 3, 5, 1, 2, 2, 3, 5, 2, 3, 1, 2, 3, 4, 5, 3, 5, 3, 1, 4, 1, 3, 1, 2, 4, 5, 2, 4, 5, 2, 3, 5, 2, 5, 4, 1, 4, 5, 1, 2, 4, 5, 5, 3, 3, 5, 2, 2, 1, 1, 2, 3, 5, 2, 1, 2, 4, 1, 2, 3, 2, 5, 1, 3, 1, 2, 3, 1, 2, 5, 3, 1, 2, 3, 4, 5, 4, 3, 4, 2, 1, 2, 5, 1, 2, 3, 1, 1, 5, 1, 4, 2, 2, 3, 1, 3, 5, 1, 5, 2, 5, 1, 2, 3, 2, 2, 3, 5, 1, 2, 4, 4, 2, 1, 2, 5, 1, 3, 4, 1, 2, 4, 5, 2, 2, 3, 5, 2, 2, 1, 4, 2, 4, 2, 3, 3, 3, 2, 3, 1, 2, 5, 1, 2, 3, 4, 3, 3, 1, 2, 3, 5, 1, 2, 3, 5, 1, 2, 4, 5, 2, 4, 2, 5, 1, 2, 3, 4, 5, 3, 5, 3, 1, 5, 5, 2, 4, 4, 2, 3, 1, 2, 3, 4, 5, 2, 3, 1, 4, 1, 2, 3, 5, 3, 4, 4, 3, 4, 1, 2, 3, 4, 1, 2, 3, 4, 1, 1, 2, 4, 5, 1, 1, 2, 5, 4, 4, 4, 4, 5, 1, 2, 3, 4, 5, 3, 4, 5, 5, 1, 3, 1, 2, 2, 3, 5, 1, 2, 3, 5, 1, 2, 3, 5, 3, 5, 1, 1, 1, 3, 4, 2, 2, 2, 3, 1, 2, 3, 4, 5, 2, 1, 2, 3, 2, 3, 1, 1, 3, 1, 2, 3, 5, 2, 1, 2, 3, 5, 5, 1, 2, 3, 4, 4, 2, 4, 1, 2, 3, 5, 2, 1, 2, 5, 1, 2, 3, 4, 5, 1, 2, 3, 4, 5, 1, 3, 1, 2, 3, 5, 2, 2, 3, 4, 5, 1, 3, 4, 1, 2, 3, 4, 5, 2, 3, 5, 1, 3, 4, 1, 2, 3, 5, 1, 2, 4, 1, 2, 3, 4, 5, 2, 5, 1, 1, 2, 5, 2, 5, 1, 2, 4, 5, 1, 2, 3, 2, 5, 1, 2, 3, 4, 5, 2, 3, 3, 4, 2, 3, 4, 4, 3, 1, 2, 3, 4, 5, 2, 5, 5, 1, 1, 2, 3, 5, 1, 2, 3, 4, 5, 4, 2, 1, 2, 4, 5, 5, 2, 1, 2, 3, 4, 5, 1, 2, 3, 4, 4, 4, 5, 1, 2, 3, 5, 5, 4, 1, 2, 3, 5, 4, 3, 1, 2, 3, 4, 5, 3, 3, 1, 5, 5, 2, 1, 3, 4, 5, 5, 2, 1, 2, 3, 5, 1, 2, 3, 5, 2, 5, 3, 1, 2, 3, 4, 5, 3, 3, 2, 3, 1, 2, 3, 5, 5, 2, 1, 2, 3, 4, 5, 1, 1, 4, 5, 4, 1, 2, 3, 5, 3, 1, 2, 3, 4, 5, 1, 2, 3, 1, 2, 3, 4, 5, 2, 3, 2, 4, 5, 4, 1, 2, 5, 1, 2, 3, 4, 5, 2, 4, 1, 1, 2, 3, 4, 5, 1, 4, 5, 4], \"Freq\": [0.03506728634238243, 0.011689095757901669, 0.9351276159286499, 0.023378191515803337, 0.9808226823806763, 0.3429567515850067, 0.10288702696561813, 0.03429567441344261, 0.4972873032093048, 0.03429567441344261, 0.8782427906990051, 0.988038957118988, 0.06347503513097763, 0.380850225687027, 0.5712753534317017, 0.2136828899383545, 0.40362322330474854, 0.2136828899383545, 0.023742541670799255, 0.14245525002479553, 0.24907396733760834, 0.3487035632133484, 0.07472219318151474, 0.22416657209396362, 0.09962958842515945, 0.17657355964183807, 0.7945809960365295, 0.1312595009803772, 0.08750633895397186, 0.3937785029411316, 0.21876583993434906, 0.1312595009803772, 0.7225372791290283, 0.24084576964378357, 0.2093188762664795, 0.7675025463104248, 0.14668269455432892, 0.7334134578704834, 0.8112391233444214, 0.16224782168865204, 0.7811035513877869, 0.10414713621139526, 0.10414713621139526, 0.9582338929176331, 0.9269593358039856, 0.2833646535873413, 0.4156014919281006, 0.15112781524658203, 0.05667293071746826, 0.09445488452911377, 0.9637080430984497, 0.881502628326416, 0.8743306398391724, 0.9425946474075317, 0.9922630190849304, 0.8258724808692932, 0.16517449915409088, 0.021959805861115456, 0.5050755143165588, 0.4391961097717285, 0.021959805861115456, 0.19667325913906097, 0.09833662956953049, 0.6883563995361328, 0.4333418011665344, 0.4333418011665344, 0.11818412691354752, 0.9738061428070068, 0.9568021893501282, 0.9895167350769043, 0.02256680279970169, 0.9590891599655151, 0.011283401399850845, 0.782963216304779, 0.1304938644170761, 0.9800068140029907, 0.7869923710823059, 0.9405887126922607, 0.7888320684432983, 0.794261634349823, 0.13237693905830383, 0.9345025420188904, 0.9582364559173584, 0.7885434031486511, 0.08283203095197678, 0.27955812215805054, 0.05177002027630806, 0.5798242092132568, 0.9582364559173584, 0.08585638552904129, 0.18732303380966187, 0.7180716395378113, 0.10867135971784592, 0.8150351643562317, 0.10867135971784592, 0.14437276124954224, 0.7218637466430664, 0.7942526936531067, 0.13237544894218445, 0.9425725340843201, 0.06937848776578903, 0.9019203782081604, 0.4497782289981842, 0.19990143179893494, 0.34982752799987793, 0.93032306432724, 0.03249754011631012, 0.3141429126262665, 0.1733202189207077, 0.46579810976982117, 0.010832513682544231, 0.9754619002342224, 0.8928670883178711, 0.04699300602078438, 0.9373987317085266, 0.5803263783454895, 0.29016318917274475, 0.05803263932466507, 0.647839367389679, 0.12956787645816803, 0.12956787645816803, 0.7885522842407227, 0.8782573938369751, 0.8240303993225098, 0.040242694318294525, 0.9658246040344238, 0.9374862313270569, 0.743642270565033, 0.22881300747394562, 0.7942527532577515, 0.13237546384334564, 0.939307451248169, 0.9425945281982422, 0.8764433860778809, 0.19918183982372284, 0.7967273592948914, 0.8439952731132507, 0.09377725422382355, 0.8785415291786194, 0.9498996734619141, 0.08746371418237686, 0.17492742836475372, 0.6997097134590149, 0.07849837839603424, 0.8634821772575378, 0.07849837839603424, 0.9880390167236328, 0.8393381237983704, 0.14145608246326447, 0.35364019870758057, 0.49509626626968384, 0.7885522246360779, 0.015511102974414825, 0.9849550127983093, 0.050704579800367355, 0.016901526600122452, 0.9126824736595154, 0.016901526600122452, 0.9115479588508606, 0.8374579548835754, 0.06978816539049149, 0.06978816539049149, 0.8393381237983704, 0.8802987933158875, 0.8258264064788818, 0.9798887372016907, 0.023974280804395676, 0.9589712619781494, 0.05507737770676613, 0.9363154172897339, 0.9183053374290466, 0.7888319492340088, 0.8432019948959351, 0.08432020246982574, 0.8782573938369751, 0.1443219631910324, 0.7216098308563232, 0.0579846017062664, 0.04348845034837723, 0.07248075306415558, 0.8262805342674255, 0.7888320088386536, 0.7888319492340088, 0.5880154967308044, 0.2672797739505768, 0.10691191256046295, 0.9405887722969055, 0.13913744688034058, 0.1530511975288391, 0.6817734837532043, 0.027827490121126175, 0.03581640124320984, 0.011938800103962421, 0.931226372718811, 0.011938800103962421, 0.9838616251945496, 0.9880388379096985, 0.173236683011055, 0.7795650959014893, 0.0473501980304718, 0.0473501980304718, 0.0947003960609436, 0.4971770644187927, 0.3077762722969055, 0.7888320088386536, 0.7869923710823059, 0.9429541826248169, 0.8782573938369751, 0.8764433860778809, 0.8764435648918152, 0.9354951977729797, 0.996246337890625, 0.975341260433197, 0.9786155223846436, 0.929421067237854, 0.06098470464348793, 0.5183699727058411, 0.24393881857395172, 0.09147705882787704, 0.06098470464348793, 0.14462275803089142, 0.7231138348579407, 0.008947300724685192, 0.984203040599823, 0.09816548228263855, 0.7607824802398682, 0.07362411171197891, 0.049082741141319275, 0.8137021660804749, 0.16274043917655945, 0.991707444190979, 0.04262644052505493, 0.948438286781311, 0.32243943214416504, 0.32243943214416504, 0.09553761035203934, 0.26272842288017273, 0.09013442695140839, 0.4957393705844879, 0.015022404491901398, 0.39058253169059753, 0.7885522842407227, 0.03563303127884865, 0.017816515639424324, 0.8730092644691467, 0.05344954878091812, 0.8782575130462646, 0.6515740752220154, 0.16289351880550385, 0.16289351880550385, 0.9951335787773132, 0.975341260433197, 0.975341260433197, 0.975341260433197, 0.8764435052871704, 0.246116504073143, 0.27072814106941223, 0.27072814106941223, 0.02461165003478527, 0.19689320027828217, 0.02807876467704773, 0.9546779990196228, 0.02807876467704773, 0.9468094706535339, 0.10203035920858383, 0.8162428736686707, 0.5937468409538269, 0.3710917830467224, 0.8487141132354736, 0.08487141132354736, 0.05658094212412834, 0.08489168435335159, 0.33956673741340637, 0.2546750605106354, 0.33956673741340637, 0.0760112926363945, 0.2280338704586029, 0.2280338704586029, 0.5320790410041809, 0.8633796572685242, 0.13282763957977295, 0.7885523438453674, 0.9786766171455383, 0.030585238710045815, 0.020390158519148827, 0.9379473328590393, 0.9755099415779114, 0.9120975136756897, 0.05289314314723015, 0.899183452129364, 0.4348806142807007, 0.1314755380153656, 0.050567515194416046, 0.3236320912837982, 0.050567515194416046, 0.9001027345657349, 0.6943188905715942, 0.17357972264289856, 0.08678986132144928, 0.14469777047634125, 0.7234888672828674, 0.7885522842407227, 0.7885522842407227, 0.8817647695541382, 0.19755946099758148, 0.6321902871131897, 0.07902378588914871, 0.07902378588914871, 0.9755099415779114, 0.24999424815177917, 0.4749890863895416, 0.024999424815177917, 0.22499482333660126, 0.8754375576972961, 0.2559155821800232, 0.2239261269569397, 0.17594195902347565, 0.33588919043540955, 0.9819329380989075, 0.022028710693120956, 0.9692633152008057, 0.0978076159954071, 0.469476580619812, 0.3129843771457672, 0.117369145154953, 0.962528645992279, 0.09157060086727142, 0.27471181750297546, 0.6409942507743835, 0.21073171496391296, 0.22126831114292145, 0.14751219749450684, 0.31609758734703064, 0.11590244621038437, 0.11363023519515991, 0.34089070558547974, 0.15150697529315948, 0.11363023519515991, 0.30301395058631897, 0.9425725340843201, 0.7888320088386536, 0.8782573938369751, 0.8499380350112915, 0.11332506686449051, 0.056662533432245255, 0.9001052379608154, 0.10448750853538513, 0.7836562991142273, 0.052243754267692566, 0.052243754267692566, 0.03794174641370773, 0.03794174641370773, 0.9106019139289856, 0.1310308575630188, 0.3494156301021576, 0.2839002013206482, 0.02183847688138485, 0.1965462863445282, 0.06939572095870972, 0.8327486515045166, 0.06939572095870972, 0.8782320022583008, 0.023018453270196915, 0.9667750597000122, 0.43846824765205383, 0.43846824765205383, 0.05480853095650673, 0.05480853095650673, 0.08479814231395721, 0.215849831700325, 0.6938030123710632, 0.1376606673002243, 0.17459401488304138, 0.04029092565178871, 0.6446548104286194, 0.003357577370479703, 0.35147741436958313, 0.562363862991333, 0.8782426714897156, 0.10767392069101334, 0.21534784138202667, 0.6460435390472412, 0.06922681629657745, 0.8999486565589905, 0.4933215081691742, 0.10962700098752975, 0.2192540019750595, 0.16444049775600433, 0.7885523438453674, 0.23748070001602173, 0.7652156352996826, 0.2157762199640274, 0.7552167773246765, 0.05040216073393822, 0.02520108036696911, 0.15120647847652435, 0.6678286194801331, 0.11340485513210297, 0.900729238986969, 0.06928686797618866, 0.29180970788002014, 0.6897320747375488, 0.8634024858474731, 0.07849113643169403, 0.07849113643169403, 0.9907337427139282, 0.9372190237045288, 0.7885522246360779, 0.033160168677568436, 0.033160168677568436, 0.9119046330451965, 0.8764435052871704, 0.9755396842956543, 0.8764435052871704, 0.9405888915061951, 0.9299269914627075, 0.15658387541770935, 0.15658387541770935, 0.1043892502784729, 0.5741408467292786, 0.025524208322167397, 0.025524208322167397, 0.025524208322167397, 0.9316335916519165, 0.9568021893501282, 0.975341260433197, 0.91211998462677, 0.027658596634864807, 0.013829298317432404, 0.9542215466499329, 0.9245105385780334, 0.9611350297927856, 0.9354968667030334, 0.11300309747457504, 0.1883384883403778, 0.12242002040147781, 0.4802631735801697, 0.0941692441701889, 0.14793944358825684, 0.7951745390892029, 0.027738645672798157, 0.027738645672798157, 0.988038957118988, 0.9798886775970459, 0.881502628326416, 0.04344342276453972, 0.4344342350959778, 0.2172171175479889, 0.34754738211631775, 0.7869923710823059, 0.9679863452911377, 0.0416736900806427, 0.2083684504032135, 0.6667790412902832, 0.0416736900806427, 0.9753411412239075, 0.8821094036102295, 0.1220175176858902, 0.06507600843906403, 0.02440350316464901, 0.7809121012687683, 0.016269002109766006, 0.8785825967788696, 0.9429543614387512, 0.9179263114929199, 0.7869924306869507, 0.9611348509788513, 0.9001026153564453, 0.22094298899173737, 0.6628289818763733, 0.16315841674804688, 0.8157920837402344, 0.9611269235610962, 0.9113980531692505, 0.35117650032043457, 0.3781901001930237, 0.21610862016677856, 0.08104073256254196, 0.8782573938369751, 0.25751858949661255, 0.08583952486515045, 0.6867161989212036, 0.9005776643753052, 0.11257220804691315, 0.8195902705192566, 0.03487521409988403, 0.191813662648201, 0.209251269698143, 0.418502539396286, 0.13950085639953613, 0.9609588980674744, 0.877351701259613, 0.1305372267961502, 0.7832233905792236, 0.5989415645599365, 0.16334769129753113, 0.16334769129753113, 0.10889846086502075, 0.8764433860778809, 0.9001026153564453, 0.16981230676174164, 0.5529785752296448, 0.11320820450782776, 0.10885404795408249, 0.05660410225391388, 0.9425725340843201, 0.01968032494187355, 0.9840162396430969, 0.8197681307792664, 0.9880388379096985, 0.17581427097320557, 0.5977685451507568, 0.1406514197587967, 0.10548856109380722, 0.7888320684432983, 0.004330312367528677, 0.05196375027298927, 0.012990937568247318, 0.9180262088775635, 0.012990937568247318, 0.9009511470794678, 0.08662991970777512, 0.9783265590667725, 0.21086062490940094, 0.6852970123291016, 0.06150101497769356, 0.017571719363331795, 0.017571719363331795, 0.8393381237983704, 0.7888320088386536, 0.018715525045990944, 0.9544917941093445, 0.018715525045990944, 0.9850922226905823, 0.0933886170387268, 0.0933886170387268, 0.7471089363098145, 0.014667036011815071, 0.16133740544319153, 0.08800221979618073, 0.6893507242202759, 0.04400110989809036, 0.8802985548973083, 0.9718113541603088, 0.9425946474075317, 0.15957356989383698, 0.29255154728889465, 0.2038995623588562, 0.2570907473564148, 0.08865198493003845, 0.04194203019142151, 0.9436956644058228, 0.8754377961158752, 0.9919798374176025], \"Term\": [\"01\", \"01\", \"01\", \"01\", \"03\", \"1\", \"1\", \"1\", \"1\", \"1\", \"109\", \"10year\", \"2015\", \"2015\", \"2015\", \"2017\", \"2017\", \"2017\", \"2017\", \"2017\", \"2018\", \"2018\", \"2018\", \"2018\", \"2018\", \"2019\", \"2019\", \"4\", \"4\", \"4\", \"4\", \"4\", \"6\", \"6\", \"7\", \"7\", \"ad\", \"ad\", \"advancing\", \"advancing\", \"air\", \"air\", \"air\", \"alliance\", \"alonso\", \"also\", \"also\", \"also\", \"also\", \"also\", \"aluminum\", \"amendment\", \"anytime\", \"ashmore\", \"asian\", \"association\", \"association\", \"australia\", \"australia\", \"australia\", \"australia\", \"automatic\", \"automatic\", \"automatic\", \"automotive\", \"automotive\", \"automotive\", \"bag\", \"ball\", \"barrel\", \"benchmark\", \"benchmark\", \"benchmark\", \"bestselling\", \"bestselling\", \"bond\", \"book\", \"bowl\", \"bykeki\", \"call\", \"call\", \"canada\", \"canadian\", \"capacity\", \"car\", \"car\", \"car\", \"car\", \"cell\", \"cent\", \"cent\", \"cent\", \"challenge\", \"challenge\", \"challenge\", \"chevy\", \"chevy\", \"chr\", \"chr\", \"closed\", \"code\", \"code\", \"commercial\", \"commercial\", \"commercial\", \"commodity\", \"company\", \"company\", \"company\", \"company\", \"company\", \"composite\", \"contact\", \"contact\", \"continue\", \"corolla\", \"corolla\", \"corolla\", \"corp\", \"corp\", \"corp\", \"cowboy\", \"crawford\", \"crossback\", \"crude\", \"crude\", \"culture\", \"customer\", \"customer\", \"cx3\", \"cx3\", \"d\", \"dallas\", \"damn\", \"date\", \"date\", \"declining\", \"declining\", \"delivery\", \"demand\", \"design\", \"design\", \"design\", \"development\", \"development\", \"development\", \"dipped\", \"doll\", \"drive\", \"drive\", \"drive\", \"driveaway\", \"earnings\", \"earnings\", \"economy\", \"economy\", \"economy\", \"economy\", \"education\", \"electrified\", \"electrified\", \"electrified\", \"emission\", \"esso\", \"estate\", \"euro\", \"expected\", \"expected\", \"export\", \"export\", \"f1\", \"f150\", \"factory\", \"factory\", \"fame\", \"feature\", \"feature\", \"fell\", \"fell\", \"fell\", \"fell\", \"fernando\", \"fitness\", \"followed\", \"followed\", \"followed\", \"foot\", \"ford\", \"ford\", \"ford\", \"ford\", \"friday\", \"friday\", \"friday\", \"friday\", \"fuel\", \"fueled\", \"game\", \"game\", \"get\", \"get\", \"get\", \"get\", \"get\", \"given\", \"guy\", \"hackett\", \"hall\", \"hate\", \"hemisphere\", \"hma\", \"hong\", \"hovered\", \"hydrogen\", \"id\", \"increase\", \"increase\", \"increase\", \"increase\", \"increase\", \"increased\", \"increased\", \"index\", \"index\", \"industry\", \"industry\", \"industry\", \"industry\", \"info\", \"info\", \"interest\", \"investor\", \"investor\", \"january\", \"january\", \"january\", \"january\", \"japan\", \"japan\", \"japan\", \"japan\", \"jerry\", \"job\", \"job\", \"job\", \"job\", \"kdc\", \"kia\", \"kia\", \"kia\", \"kong\", \"kongs\", \"korea\", \"kospi\", \"kostrna\", \"last\", \"last\", \"last\", \"last\", \"last\", \"latest\", \"latest\", \"latest\", \"law\", \"le\", \"le\", \"leader\", \"leader\", \"lexus\", \"lexus\", \"lexus\", \"like\", \"like\", \"like\", \"like\", \"line\", \"line\", \"line\", \"line\", \"link\", \"link\", \"livestock\", \"losing\", \"lower\", \"lower\", \"lower\", \"magazine\", \"march\", \"margin\", \"margin\", \"market\", \"market\", \"market\", \"market\", \"market\", \"matcha\", \"mazda\", \"mazda\", \"mazda\", \"mclaren\", \"mclaren\", \"mediacamera\", \"mickey\", \"mile\", \"million\", \"million\", \"million\", \"million\", \"mobility\", \"model\", \"model\", \"model\", \"model\", \"money\", \"month\", \"month\", \"month\", \"month\", \"monthly\", \"mostly\", \"mostly\", \"motor\", \"motor\", \"motor\", \"motor\", \"museum\", \"must\", \"must\", \"must\", \"new\", \"new\", \"new\", \"new\", \"new\", \"news\", \"news\", \"news\", \"news\", \"news\", \"ninemonth\", \"normal\", \"ntcar\", \"number\", \"number\", \"number\", \"nx\", \"offer\", \"offer\", \"offer\", \"offer\", \"oil\", \"oil\", \"oil\", \"one\", \"one\", \"one\", \"one\", \"one\", \"operating\", \"operating\", \"operating\", \"overnight\", \"pace\", \"pace\", \"passenger\", \"passenger\", \"passenger\", \"passenger\", \"per\", \"per\", \"per\", \"percent\", \"percent\", \"percent\", \"percent\", \"percent\", \"performance\", \"performance\", \"performer\", \"picture\", \"picture\", \"picture\", \"player\", \"player\", \"point\", \"point\", \"point\", \"point\", \"polo\", \"post\", \"post\", \"premium\", \"premium\", \"price\", \"price\", \"price\", \"price\", \"price\", \"prius\", \"prius\", \"profit\", \"profit\", \"program\", \"program\", \"program\", \"providing\", \"qr\", \"ran\", \"rate\", \"rate\", \"rate\", \"rationale\", \"recall\", \"redesign\", \"referee\", \"registration\", \"release\", \"release\", \"release\", \"release\", \"report\", \"report\", \"report\", \"report\", \"review\", \"risen\", \"role\", \"rose\", \"rose\", \"rose\", \"ruck\", \"rugby\", \"rx\", \"said\", \"said\", \"said\", \"said\", \"said\", \"sale\", \"sale\", \"sale\", \"sale\", \"sank\", \"score\", \"scrum\", \"see\", \"see\", \"see\", \"see\", \"selden\", \"seng\", \"service\", \"service\", \"service\", \"service\", \"shanghai\", \"shank\", \"share\", \"share\", \"share\", \"share\", \"share\", \"sled\", \"snowmobile\", \"soul\", \"southern\", \"spec\", \"staff\", \"steel\", \"steel\", \"steering\", \"steering\", \"super\", \"supplier\", \"suv\", \"suv\", \"suv\", \"suv\", \"table\", \"team\", \"team\", \"team\", \"technology\", \"technology\", \"text\", \"time\", \"time\", \"time\", \"time\", \"time\", \"tire\", \"title\", \"tm\", \"tm\", \"top\", \"top\", \"top\", \"top\", \"touchscreen\", \"tour\", \"toyota\", \"toyota\", \"toyota\", \"toyota\", \"toyota\", \"trader\", \"trading\", \"trading\", \"transmission\", \"treasury\", \"truck\", \"truck\", \"truck\", \"truck\", \"turkey\", \"u\", \"u\", \"u\", \"u\", \"u\", \"unit\", \"unit\", \"unsolicited\", \"vehicle\", \"vehicle\", \"vehicle\", \"vehicle\", \"vehicle\", \"weaving\", \"wec\", \"week\", \"week\", \"week\", \"weigh\", \"wheel\", \"wheel\", \"wheel\", \"world\", \"world\", \"world\", \"world\", \"world\", \"worldwide\", \"worry\", \"wythe\", \"year\", \"year\", \"year\", \"year\", \"year\", \"yen\", \"yen\", \"yes\", \"yield\"]}, \"R\": 30, \"lambda.step\": 0.01, \"plot.opts\": {\"xlab\": \"PC1\", \"ylab\": \"PC2\"}, \"topic.order\": [1, 2, 3, 4, 5]};\n",
       "\n",
       "function LDAvis_load_lib(url, callback){\n",
       "  var s = document.createElement('script');\n",
       "  s.src = url;\n",
       "  s.async = true;\n",
       "  s.onreadystatechange = s.onload = callback;\n",
       "  s.onerror = function(){console.warn(\"failed to load library \" + url);};\n",
       "  document.getElementsByTagName(\"head\")[0].appendChild(s);\n",
       "}\n",
       "\n",
       "if(typeof(LDAvis) !== \"undefined\"){\n",
       "   // already loaded: just create the visualization\n",
       "   !function(LDAvis){\n",
       "       new LDAvis(\"#\" + \"ldavis_el10060635055704762037238\", ldavis_el10060635055704762037238_data);\n",
       "   }(LDAvis);\n",
       "}else if(typeof define === \"function\" && define.amd){\n",
       "   // require.js is available: use it to load d3/LDAvis\n",
       "   require.config({paths: {d3: \"https://cdnjs.cloudflare.com/ajax/libs/d3/3.5.5/d3.min\"}});\n",
       "   require([\"d3\"], function(d3){\n",
       "      window.d3 = d3;\n",
       "      LDAvis_load_lib(\"https://cdn.rawgit.com/bmabey/pyLDAvis/files/ldavis.v1.0.0.js\", function(){\n",
       "        new LDAvis(\"#\" + \"ldavis_el10060635055704762037238\", ldavis_el10060635055704762037238_data);\n",
       "      });\n",
       "    });\n",
       "}else{\n",
       "    // require.js not available: dynamically load d3 & LDAvis\n",
       "    LDAvis_load_lib(\"https://cdnjs.cloudflare.com/ajax/libs/d3/3.5.5/d3.min.js\", function(){\n",
       "         LDAvis_load_lib(\"https://cdn.rawgit.com/bmabey/pyLDAvis/files/ldavis.v1.0.0.js\", function(){\n",
       "                 new LDAvis(\"#\" + \"ldavis_el10060635055704762037238\", ldavis_el10060635055704762037238_data);\n",
       "            })\n",
       "         });\n",
       "}\n",
       "</script>"
      ],
      "text/plain": [
       "<IPython.core.display.HTML object>"
      ]
     },
     "execution_count": 112,
     "metadata": {},
     "output_type": "execute_result"
    }
   ],
   "source": [
    "lda_display = pyLDAvis.gensim.prepare(ldamodel, doc_term_matrix, dictionary, sort_topics=False, mds='mmds')\n",
    "pyLDAvis.display(lda_display)"
   ]
  },
  {
   "cell_type": "markdown",
   "metadata": {},
   "source": [
    "#### 10 topic model"
   ]
  },
  {
   "cell_type": "code",
   "execution_count": 113,
   "metadata": {},
   "outputs": [
    {
     "name": "stdout",
     "output_type": "stream",
     "text": [
      "Wall time: 34.8 s\n"
     ]
    }
   ],
   "source": [
    "numtopics = 10\n",
    "\n",
    "%time ldamodel = LdaMulticore(doc_term_matrix, num_topics=numtopics, id2word = dictionary, passes=50)"
   ]
  },
  {
   "cell_type": "code",
   "execution_count": 114,
   "metadata": {},
   "outputs": [
    {
     "name": "stdout",
     "output_type": "stream",
     "text": [
      "(0, '0.024*\"u\" + 0.020*\"percent\" + 0.014*\"earnings\"')\n",
      "\n",
      "(1, '0.028*\"toyota\" + 0.018*\"lexus\" + 0.017*\"air\"')\n",
      "\n",
      "(2, '0.012*\"toyota\" + 0.009*\"japan\" + 0.008*\"hydrogen\"')\n",
      "\n",
      "(3, '0.017*\"percent\" + 0.014*\"sale\" + 0.009*\"year\"')\n",
      "\n",
      "(4, '0.010*\"truck\" + 0.010*\"wythe\" + 0.008*\"toyota\"')\n",
      "\n",
      "(5, '0.029*\"percent\" + 0.017*\"toyota\" + 0.011*\"car\"')\n",
      "\n",
      "(6, '0.013*\"export\" + 0.010*\"year\" + 0.010*\"percent\"')\n",
      "\n",
      "(7, '0.025*\"post\" + 0.018*\"contact\" + 0.016*\"car\"')\n",
      "\n",
      "(8, '0.014*\"unit\" + 0.012*\"sale\" + 0.011*\"toyota\"')\n",
      "\n",
      "(9, '0.035*\"ford\" + 0.014*\"vehicle\" + 0.013*\"margin\"')\n"
     ]
    }
   ],
   "source": [
    "print(*ldamodel.print_topics(num_topics=numtopics, num_words=3), sep='\\n\\n')"
   ]
  },
  {
   "cell_type": "code",
   "execution_count": 115,
   "metadata": {},
   "outputs": [
    {
     "name": "stdout",
     "output_type": "stream",
     "text": [
      "(0, '0.024*\"u\" + 0.020*\"percent\" + 0.014*\"earnings\" + 0.014*\"yield\" + 0.012*\"index\"')\n",
      "\n",
      "(1, '0.028*\"toyota\" + 0.018*\"lexus\" + 0.017*\"air\" + 0.015*\"bag\" + 0.012*\"could\"')\n",
      "\n",
      "(2, '0.012*\"toyota\" + 0.009*\"japan\" + 0.008*\"hydrogen\" + 0.008*\"australia\" + 0.006*\"company\"')\n",
      "\n",
      "(3, '0.017*\"percent\" + 0.014*\"sale\" + 0.009*\"year\" + 0.009*\"toyota\" + 0.006*\"law\"')\n",
      "\n",
      "(4, '0.010*\"truck\" + 0.010*\"wythe\" + 0.008*\"toyota\" + 0.006*\"said\" + 0.006*\"county\"')\n",
      "\n",
      "(5, '0.029*\"percent\" + 0.017*\"toyota\" + 0.011*\"car\" + 0.010*\"1\" + 0.008*\"market\"')\n",
      "\n",
      "(6, '0.013*\"export\" + 0.010*\"year\" + 0.010*\"percent\" + 0.010*\"toyota\" + 0.008*\"vehicle\"')\n",
      "\n",
      "(7, '0.025*\"post\" + 0.018*\"contact\" + 0.016*\"car\" + 0.015*\"offer\" + 0.014*\"service\"')\n",
      "\n",
      "(8, '0.014*\"unit\" + 0.012*\"sale\" + 0.011*\"toyota\" + 0.011*\"market\" + 0.009*\"per\"')\n",
      "\n",
      "(9, '0.035*\"ford\" + 0.014*\"vehicle\" + 0.013*\"margin\" + 0.011*\"commodity\" + 0.011*\"toyota\"')\n"
     ]
    }
   ],
   "source": [
    "print(*ldamodel.print_topics(num_topics=numtopics, num_words=5), sep='\\n\\n')"
   ]
  },
  {
   "cell_type": "code",
   "execution_count": 118,
   "metadata": {},
   "outputs": [
    {
     "name": "stdout",
     "output_type": "stream",
     "text": [
      "(0, '0.024*\"u\" + 0.020*\"percent\" + 0.014*\"earnings\" + 0.014*\"yield\" + 0.012*\"index\" + 0.011*\"share\" + 0.011*\"cent\"')\n",
      "\n",
      "(1, '0.028*\"toyota\" + 0.018*\"lexus\" + 0.017*\"air\" + 0.015*\"bag\" + 0.012*\"could\" + 0.011*\"vehicle\" + 0.009*\"prius\"')\n",
      "\n",
      "(2, '0.012*\"toyota\" + 0.009*\"japan\" + 0.008*\"hydrogen\" + 0.008*\"australia\" + 0.006*\"company\" + 0.006*\"year\" + 0.005*\"also\"')\n",
      "\n",
      "(3, '0.017*\"percent\" + 0.014*\"sale\" + 0.009*\"year\" + 0.009*\"toyota\" + 0.006*\"law\" + 0.006*\"last\" + 0.006*\"january\"')\n",
      "\n",
      "(4, '0.010*\"truck\" + 0.010*\"wythe\" + 0.008*\"toyota\" + 0.006*\"said\" + 0.006*\"county\" + 0.006*\"livestock\" + 0.005*\"avoid\"')\n",
      "\n",
      "(5, '0.029*\"percent\" + 0.017*\"toyota\" + 0.011*\"car\" + 0.010*\"1\" + 0.008*\"market\" + 0.007*\"vehicle\" + 0.007*\"canada\"')\n",
      "\n",
      "(6, '0.013*\"export\" + 0.010*\"year\" + 0.010*\"percent\" + 0.010*\"toyota\" + 0.008*\"vehicle\" + 0.008*\"said\" + 0.007*\"january\"')\n",
      "\n",
      "(7, '0.025*\"post\" + 0.018*\"contact\" + 0.016*\"car\" + 0.015*\"offer\" + 0.014*\"service\" + 0.013*\"id\" + 0.012*\"unsolicited\"')\n",
      "\n",
      "(8, '0.014*\"unit\" + 0.012*\"sale\" + 0.011*\"toyota\" + 0.011*\"market\" + 0.009*\"per\" + 0.009*\"cent\" + 0.009*\"vehicle\"')\n",
      "\n",
      "(9, '0.035*\"ford\" + 0.014*\"vehicle\" + 0.013*\"margin\" + 0.011*\"commodity\" + 0.011*\"toyota\" + 0.009*\"sale\" + 0.009*\"operating\"')\n"
     ]
    }
   ],
   "source": [
    "print(*ldamodel.print_topics(num_topics=numtopics, num_words=7), sep='\\n\\n')"
   ]
  },
  {
   "cell_type": "code",
   "execution_count": 116,
   "metadata": {},
   "outputs": [
    {
     "name": "stdout",
     "output_type": "stream",
     "text": [
      "(0, '0.024*\"u\" + 0.020*\"percent\" + 0.014*\"earnings\" + 0.014*\"yield\" + 0.012*\"index\" + 0.011*\"share\" + 0.011*\"cent\" + 0.011*\"per\" + 0.010*\"investor\" + 0.010*\"benchmark\"')\n",
      "\n",
      "(1, '0.028*\"toyota\" + 0.018*\"lexus\" + 0.017*\"air\" + 0.015*\"bag\" + 0.012*\"could\" + 0.011*\"vehicle\" + 0.009*\"prius\" + 0.008*\"owner\" + 0.008*\"nx\" + 0.008*\"recall\"')\n",
      "\n",
      "(2, '0.012*\"toyota\" + 0.009*\"japan\" + 0.008*\"hydrogen\" + 0.008*\"australia\" + 0.006*\"company\" + 0.006*\"year\" + 0.005*\"also\" + 0.005*\"car\" + 0.005*\"one\" + 0.004*\"museum\"')\n",
      "\n",
      "(3, '0.017*\"percent\" + 0.014*\"sale\" + 0.009*\"year\" + 0.009*\"toyota\" + 0.006*\"law\" + 0.006*\"last\" + 0.006*\"january\" + 0.006*\"ball\" + 0.005*\"player\" + 0.005*\"month\"')\n",
      "\n",
      "(4, '0.010*\"truck\" + 0.010*\"wythe\" + 0.008*\"toyota\" + 0.006*\"said\" + 0.006*\"county\" + 0.006*\"livestock\" + 0.005*\"avoid\" + 0.005*\"geller\" + 0.005*\"pig\" + 0.005*\"tractortrailer\"')\n",
      "\n",
      "(5, '0.029*\"percent\" + 0.017*\"toyota\" + 0.011*\"car\" + 0.010*\"1\" + 0.008*\"market\" + 0.007*\"vehicle\" + 0.007*\"canada\" + 0.007*\"losing\" + 0.007*\"review\" + 0.007*\"release\"')\n",
      "\n",
      "(6, '0.013*\"export\" + 0.010*\"year\" + 0.010*\"percent\" + 0.010*\"toyota\" + 0.008*\"vehicle\" + 0.008*\"said\" + 0.007*\"january\" + 0.007*\"two\" + 0.006*\"increase\" + 0.006*\"market\"')\n",
      "\n",
      "(7, '0.025*\"post\" + 0.018*\"contact\" + 0.016*\"car\" + 0.015*\"offer\" + 0.014*\"service\" + 0.013*\"id\" + 0.012*\"unsolicited\" + 0.012*\"link\" + 0.011*\"qr\" + 0.011*\"code\"')\n",
      "\n",
      "(8, '0.014*\"unit\" + 0.012*\"sale\" + 0.011*\"toyota\" + 0.011*\"market\" + 0.009*\"per\" + 0.009*\"cent\" + 0.009*\"vehicle\" + 0.008*\"january\" + 0.007*\"new\" + 0.006*\"company\"')\n",
      "\n",
      "(9, '0.035*\"ford\" + 0.014*\"vehicle\" + 0.013*\"margin\" + 0.011*\"commodity\" + 0.011*\"toyota\" + 0.009*\"sale\" + 0.009*\"operating\" + 0.009*\"year\" + 0.009*\"2017\" + 0.009*\"price\"')\n"
     ]
    }
   ],
   "source": [
    "print(*ldamodel.print_topics(num_topics=numtopics, num_words=10), sep='\\n\\n')"
   ]
  },
  {
   "cell_type": "code",
   "execution_count": 117,
   "metadata": {},
   "outputs": [
    {
     "name": "stdout",
     "output_type": "stream",
     "text": [
      "(0, '0.024*\"u\" + 0.020*\"percent\" + 0.014*\"earnings\" + 0.014*\"yield\" + 0.012*\"index\" + 0.011*\"share\" + 0.011*\"cent\" + 0.011*\"per\" + 0.010*\"investor\" + 0.010*\"benchmark\"')\n",
      "\n",
      "(1, '0.028*\"toyota\" + 0.018*\"lexus\" + 0.017*\"air\" + 0.015*\"bag\" + 0.012*\"could\" + 0.011*\"vehicle\" + 0.009*\"prius\" + 0.008*\"owner\" + 0.008*\"nx\" + 0.008*\"recall\"')\n",
      "\n",
      "(2, '0.012*\"toyota\" + 0.009*\"japan\" + 0.008*\"hydrogen\" + 0.008*\"australia\" + 0.006*\"company\" + 0.006*\"year\" + 0.005*\"also\" + 0.005*\"car\" + 0.005*\"one\" + 0.004*\"museum\"')\n",
      "\n",
      "(3, '0.017*\"percent\" + 0.014*\"sale\" + 0.009*\"year\" + 0.009*\"toyota\" + 0.006*\"law\" + 0.006*\"last\" + 0.006*\"january\" + 0.006*\"ball\" + 0.005*\"player\" + 0.005*\"month\"')\n",
      "\n",
      "(4, '0.010*\"truck\" + 0.010*\"wythe\" + 0.008*\"toyota\" + 0.006*\"said\" + 0.006*\"county\" + 0.006*\"livestock\" + 0.005*\"avoid\" + 0.005*\"geller\" + 0.005*\"pig\" + 0.005*\"tractortrailer\"')\n",
      "\n",
      "(5, '0.029*\"percent\" + 0.017*\"toyota\" + 0.011*\"car\" + 0.010*\"1\" + 0.008*\"market\" + 0.007*\"vehicle\" + 0.007*\"canada\" + 0.007*\"losing\" + 0.007*\"review\" + 0.007*\"release\"')\n",
      "\n",
      "(6, '0.013*\"export\" + 0.010*\"year\" + 0.010*\"percent\" + 0.010*\"toyota\" + 0.008*\"vehicle\" + 0.008*\"said\" + 0.007*\"january\" + 0.007*\"two\" + 0.006*\"increase\" + 0.006*\"market\"')\n",
      "\n",
      "(7, '0.025*\"post\" + 0.018*\"contact\" + 0.016*\"car\" + 0.015*\"offer\" + 0.014*\"service\" + 0.013*\"id\" + 0.012*\"unsolicited\" + 0.012*\"link\" + 0.011*\"qr\" + 0.011*\"code\"')\n",
      "\n",
      "(8, '0.014*\"unit\" + 0.012*\"sale\" + 0.011*\"toyota\" + 0.011*\"market\" + 0.009*\"per\" + 0.009*\"cent\" + 0.009*\"vehicle\" + 0.008*\"january\" + 0.007*\"new\" + 0.006*\"company\"')\n",
      "\n",
      "(9, '0.035*\"ford\" + 0.014*\"vehicle\" + 0.013*\"margin\" + 0.011*\"commodity\" + 0.011*\"toyota\" + 0.009*\"sale\" + 0.009*\"operating\" + 0.009*\"year\" + 0.009*\"2017\" + 0.009*\"price\"')\n"
     ]
    }
   ],
   "source": [
    "print(*ldamodel.print_topics(num_topics=numtopics, num_words=10), sep='\\n\\n')"
   ]
  },
  {
   "cell_type": "code",
   "execution_count": 119,
   "metadata": {},
   "outputs": [
    {
     "data": {
      "text/html": [
       "\n",
       "<link rel=\"stylesheet\" type=\"text/css\" href=\"https://cdn.rawgit.com/bmabey/pyLDAvis/files/ldavis.v1.0.0.css\">\n",
       "\n",
       "\n",
       "<div id=\"ldavis_el100606337702964511866145\"></div>\n",
       "<script type=\"text/javascript\">\n",
       "\n",
       "var ldavis_el100606337702964511866145_data = {\"mdsDat\": {\"x\": [0.3653070645560131, -0.07899037017961448, -0.08686149799395355, -0.038529056861309134, -0.0740602909940567, 0.09300003952582614, -0.035067020363149244, -0.08724571629400593, -0.024649200801953784, -0.03290395059379657], \"y\": [-0.004311627277058891, 0.0698051008052401, -0.03524366981730306, -0.09585552529706928, 0.04682546522919654, 0.10646404622051761, -0.03160473241667603, 0.15036823309744018, -0.10672961261948985, -0.09971767792479753], \"topics\": [1, 2, 3, 4, 5, 6, 7, 8, 9, 10], \"cluster\": [1, 1, 1, 1, 1, 1, 1, 1, 1, 1], \"Freq\": [34.73827362060547, 2.475916624069214, 12.459253311157227, 10.382903099060059, 0.6191495060920715, 8.34757137298584, 4.611171245574951, 3.908510208129883, 17.402070999145508, 5.055178642272949]}, \"tinfo\": {\"Category\": [\"Default\", \"Default\", \"Default\", \"Default\", \"Default\", \"Default\", \"Default\", \"Default\", \"Default\", \"Default\", \"Default\", \"Default\", \"Default\", \"Default\", \"Default\", \"Default\", \"Default\", \"Default\", \"Default\", \"Default\", \"Default\", \"Default\", \"Default\", \"Default\", \"Default\", \"Default\", \"Default\", \"Default\", \"Default\", \"Default\", \"Topic1\", \"Topic1\", \"Topic1\", \"Topic1\", \"Topic1\", \"Topic1\", \"Topic1\", \"Topic1\", \"Topic1\", \"Topic1\", \"Topic1\", \"Topic1\", \"Topic1\", \"Topic1\", \"Topic1\", \"Topic1\", \"Topic1\", \"Topic1\", \"Topic1\", \"Topic1\", \"Topic1\", \"Topic1\", \"Topic1\", \"Topic1\", \"Topic1\", \"Topic1\", \"Topic1\", \"Topic1\", \"Topic1\", \"Topic1\", \"Topic1\", \"Topic1\", \"Topic1\", \"Topic1\", \"Topic1\", \"Topic1\", \"Topic1\", \"Topic1\", \"Topic1\", \"Topic1\", \"Topic1\", \"Topic1\", \"Topic1\", \"Topic1\", \"Topic1\", \"Topic1\", \"Topic1\", \"Topic1\", \"Topic1\", \"Topic1\", \"Topic1\", \"Topic1\", \"Topic1\", \"Topic1\", \"Topic1\", \"Topic1\", \"Topic1\", \"Topic1\", \"Topic1\", \"Topic1\", \"Topic1\", \"Topic1\", \"Topic1\", \"Topic1\", \"Topic1\", \"Topic1\", \"Topic2\", \"Topic2\", \"Topic2\", \"Topic2\", \"Topic2\", \"Topic2\", \"Topic2\", \"Topic2\", \"Topic2\", \"Topic2\", \"Topic2\", \"Topic2\", \"Topic2\", \"Topic2\", \"Topic2\", \"Topic2\", \"Topic2\", \"Topic2\", \"Topic2\", \"Topic2\", \"Topic2\", \"Topic2\", \"Topic2\", \"Topic2\", \"Topic2\", \"Topic2\", \"Topic2\", \"Topic2\", \"Topic2\", \"Topic2\", \"Topic2\", \"Topic2\", \"Topic2\", \"Topic2\", \"Topic2\", \"Topic2\", \"Topic2\", \"Topic2\", \"Topic2\", \"Topic2\", \"Topic2\", \"Topic2\", \"Topic2\", \"Topic2\", \"Topic2\", \"Topic2\", \"Topic2\", \"Topic2\", \"Topic3\", \"Topic3\", \"Topic3\", \"Topic3\", \"Topic3\", \"Topic3\", \"Topic3\", \"Topic3\", \"Topic3\", \"Topic3\", \"Topic3\", \"Topic3\", \"Topic3\", \"Topic3\", \"Topic3\", \"Topic3\", \"Topic3\", \"Topic3\", \"Topic3\", \"Topic3\", \"Topic3\", \"Topic3\", \"Topic3\", \"Topic3\", \"Topic3\", \"Topic3\", \"Topic3\", \"Topic3\", \"Topic3\", \"Topic3\", \"Topic3\", \"Topic3\", \"Topic3\", \"Topic3\", \"Topic3\", \"Topic3\", \"Topic3\", \"Topic3\", \"Topic3\", \"Topic3\", \"Topic3\", \"Topic3\", \"Topic3\", \"Topic3\", \"Topic3\", \"Topic3\", \"Topic3\", \"Topic3\", \"Topic3\", \"Topic3\", \"Topic3\", \"Topic3\", \"Topic3\", \"Topic3\", \"Topic3\", \"Topic3\", \"Topic3\", \"Topic3\", \"Topic3\", \"Topic3\", \"Topic3\", \"Topic3\", \"Topic3\", \"Topic4\", \"Topic4\", \"Topic4\", \"Topic4\", \"Topic4\", \"Topic4\", \"Topic4\", \"Topic4\", \"Topic4\", \"Topic4\", \"Topic4\", \"Topic4\", \"Topic4\", \"Topic4\", \"Topic4\", \"Topic4\", \"Topic4\", \"Topic4\", \"Topic4\", \"Topic4\", \"Topic4\", \"Topic4\", \"Topic4\", \"Topic4\", \"Topic4\", \"Topic4\", \"Topic4\", \"Topic4\", \"Topic4\", \"Topic4\", \"Topic4\", \"Topic4\", \"Topic4\", \"Topic4\", \"Topic4\", \"Topic4\", \"Topic4\", \"Topic4\", \"Topic4\", \"Topic4\", \"Topic4\", \"Topic4\", \"Topic4\", \"Topic4\", \"Topic4\", \"Topic4\", \"Topic4\", \"Topic4\", \"Topic4\", \"Topic4\", \"Topic4\", \"Topic4\", \"Topic4\", \"Topic4\", \"Topic4\", \"Topic5\", \"Topic5\", \"Topic5\", \"Topic5\", \"Topic5\", \"Topic5\", \"Topic5\", \"Topic5\", \"Topic5\", \"Topic5\", \"Topic5\", \"Topic5\", \"Topic5\", \"Topic5\", \"Topic5\", \"Topic5\", \"Topic5\", \"Topic5\", \"Topic5\", \"Topic5\", \"Topic5\", \"Topic5\", \"Topic5\", \"Topic5\", \"Topic5\", \"Topic5\", \"Topic5\", \"Topic5\", \"Topic5\", \"Topic5\", \"Topic5\", \"Topic5\", \"Topic5\", \"Topic5\", \"Topic5\", \"Topic5\", \"Topic5\", \"Topic5\", \"Topic5\", \"Topic5\", \"Topic5\", \"Topic5\", \"Topic5\", \"Topic5\", \"Topic5\", \"Topic5\", \"Topic5\", \"Topic5\", \"Topic5\", \"Topic5\", \"Topic5\", \"Topic5\", \"Topic5\", \"Topic5\", \"Topic5\", \"Topic5\", \"Topic5\", \"Topic5\", \"Topic6\", \"Topic6\", \"Topic6\", \"Topic6\", \"Topic6\", \"Topic6\", \"Topic6\", \"Topic6\", \"Topic6\", \"Topic6\", \"Topic6\", \"Topic6\", \"Topic6\", \"Topic6\", \"Topic6\", \"Topic6\", \"Topic6\", \"Topic6\", \"Topic6\", \"Topic6\", \"Topic6\", \"Topic6\", \"Topic6\", \"Topic6\", \"Topic6\", \"Topic6\", \"Topic6\", \"Topic6\", \"Topic6\", \"Topic6\", \"Topic6\", \"Topic6\", \"Topic6\", \"Topic6\", \"Topic6\", \"Topic6\", \"Topic6\", \"Topic6\", \"Topic6\", \"Topic6\", \"Topic6\", \"Topic6\", \"Topic6\", \"Topic6\", \"Topic6\", \"Topic6\", \"Topic6\", \"Topic6\", \"Topic6\", \"Topic6\", \"Topic6\", \"Topic6\", \"Topic6\", \"Topic6\", \"Topic6\", \"Topic6\", \"Topic6\", \"Topic6\", \"Topic6\", \"Topic6\", \"Topic6\", \"Topic6\", \"Topic6\", \"Topic6\", \"Topic6\", \"Topic6\", \"Topic6\", \"Topic6\", \"Topic6\", \"Topic6\", \"Topic6\", \"Topic6\", \"Topic6\", \"Topic6\", \"Topic6\", \"Topic6\", \"Topic6\", \"Topic6\", \"Topic6\", \"Topic6\", \"Topic6\", \"Topic6\", \"Topic6\", \"Topic6\", \"Topic6\", \"Topic6\", \"Topic6\", \"Topic6\", \"Topic6\", \"Topic6\", \"Topic6\", \"Topic6\", \"Topic7\", \"Topic7\", \"Topic7\", \"Topic7\", \"Topic7\", \"Topic7\", \"Topic7\", \"Topic7\", \"Topic7\", \"Topic7\", \"Topic7\", \"Topic7\", \"Topic7\", \"Topic7\", \"Topic7\", \"Topic7\", \"Topic7\", \"Topic7\", \"Topic7\", \"Topic7\", \"Topic7\", \"Topic7\", \"Topic7\", \"Topic7\", \"Topic7\", \"Topic7\", \"Topic7\", \"Topic7\", \"Topic7\", \"Topic7\", \"Topic7\", \"Topic7\", \"Topic7\", \"Topic7\", \"Topic7\", \"Topic7\", \"Topic7\", \"Topic7\", \"Topic7\", \"Topic7\", \"Topic7\", \"Topic7\", \"Topic7\", \"Topic7\", \"Topic7\", \"Topic7\", \"Topic7\", \"Topic7\", \"Topic7\", \"Topic7\", \"Topic7\", \"Topic7\", \"Topic7\", \"Topic7\", \"Topic7\", \"Topic7\", \"Topic7\", \"Topic7\", \"Topic7\", \"Topic7\", \"Topic7\", \"Topic7\", \"Topic7\", \"Topic7\", \"Topic7\", \"Topic7\", \"Topic7\", \"Topic7\", \"Topic7\", \"Topic7\", \"Topic7\", \"Topic7\", \"Topic8\", \"Topic8\", \"Topic8\", \"Topic8\", \"Topic8\", \"Topic8\", \"Topic8\", \"Topic8\", \"Topic8\", \"Topic8\", \"Topic8\", \"Topic8\", \"Topic8\", \"Topic8\", \"Topic8\", \"Topic8\", \"Topic8\", \"Topic8\", \"Topic8\", \"Topic8\", \"Topic8\", \"Topic8\", \"Topic8\", \"Topic8\", \"Topic8\", \"Topic8\", \"Topic8\", \"Topic8\", \"Topic8\", \"Topic8\", \"Topic8\", \"Topic8\", \"Topic8\", \"Topic8\", \"Topic8\", \"Topic8\", \"Topic8\", \"Topic8\", \"Topic8\", \"Topic8\", \"Topic8\", \"Topic8\", \"Topic8\", \"Topic8\", \"Topic8\", \"Topic8\", \"Topic9\", \"Topic9\", \"Topic9\", \"Topic9\", \"Topic9\", \"Topic9\", \"Topic9\", \"Topic9\", \"Topic9\", \"Topic9\", \"Topic9\", \"Topic9\", \"Topic9\", \"Topic9\", \"Topic9\", \"Topic9\", \"Topic9\", \"Topic9\", \"Topic9\", \"Topic9\", \"Topic9\", \"Topic9\", \"Topic9\", \"Topic9\", \"Topic9\", \"Topic9\", \"Topic9\", \"Topic9\", \"Topic9\", \"Topic9\", \"Topic9\", \"Topic9\", \"Topic9\", \"Topic9\", \"Topic9\", \"Topic9\", \"Topic9\", \"Topic9\", \"Topic9\", \"Topic9\", \"Topic9\", \"Topic9\", \"Topic9\", \"Topic9\", \"Topic9\", \"Topic9\", \"Topic9\", \"Topic9\", \"Topic9\", \"Topic9\", \"Topic9\", \"Topic9\", \"Topic9\", \"Topic9\", \"Topic9\", \"Topic9\", \"Topic9\", \"Topic9\", \"Topic9\", \"Topic9\", \"Topic9\", \"Topic9\", \"Topic9\", \"Topic9\", \"Topic9\", \"Topic9\", \"Topic10\", \"Topic10\", \"Topic10\", \"Topic10\", \"Topic10\", \"Topic10\", \"Topic10\", \"Topic10\", \"Topic10\", \"Topic10\", \"Topic10\", \"Topic10\", \"Topic10\", \"Topic10\", \"Topic10\", \"Topic10\", \"Topic10\", \"Topic10\", \"Topic10\", \"Topic10\", \"Topic10\", \"Topic10\", \"Topic10\", \"Topic10\", \"Topic10\", \"Topic10\", \"Topic10\", \"Topic10\", \"Topic10\", \"Topic10\", \"Topic10\", \"Topic10\", \"Topic10\", \"Topic10\", \"Topic10\", \"Topic10\", \"Topic10\", \"Topic10\", \"Topic10\", \"Topic10\", \"Topic10\", \"Topic10\", \"Topic10\", \"Topic10\", \"Topic10\", \"Topic10\", \"Topic10\", \"Topic10\", \"Topic10\", \"Topic10\", \"Topic10\", \"Topic10\", \"Topic10\", \"Topic10\", \"Topic10\", \"Topic10\", \"Topic10\", \"Topic10\", \"Topic10\", \"Topic10\", \"Topic10\", \"Topic10\", \"Topic10\", \"Topic10\"], \"Freq\": [302.0, 220.0, 72.0, 108.0, 126.0, 109.0, 98.0, 132.0, 60.0, 114.0, 34.0, 67.0, 134.0, 105.0, 236.0, 29.0, 81.0, 135.0, 96.0, 115.0, 106.0, 37.0, 24.0, 18.0, 88.0, 60.0, 91.0, 100.0, 48.0, 18.0, 49.23542022705078, 47.34537124633789, 40.73020935058594, 35.060081481933594, 31.28011131286621, 30.3350887298584, 28.445043563842773, 27.49997329711914, 26.555011749267578, 26.555004119873047, 26.55499839782715, 26.55499839782715, 26.55499839782715, 122.94194793701172, 24.66495704650879, 24.66495704650879, 23.719945907592773, 23.719945907592773, 23.719940185546875, 23.719940185546875, 23.719938278198242, 23.719938278198242, 23.719938278198242, 23.719938278198242, 23.719934463500977, 22.774917602539062, 21.829906463623047, 21.82989501953125, 21.82989501953125, 21.82989501953125, 45.45533752441406, 28.445051193237305, 41.67524719238281, 125.77189636230469, 70.0252685546875, 62.46095657348633, 86.0865707397461, 89.8668441772461, 36.00508117675781, 207.98184204101562, 104.03003692626953, 48.28638458251953, 68.13147735595703, 51.125465393066406, 75.68479919433594, 75.6771011352539, 85.12596130371094, 70.01539611816406, 46.391395568847656, 40.73020935058594, 36.95011901855469, 96.4813461303711, 52.06895065307617, 38.84016799926758, 95.54143524169922, 172.88937377929688, 92.70638275146484, 40.585540771484375, 50.1804313659668, 54.89801025390625, 43.5523681640625, 42.620174407958984, 50.159149169921875, 45.226097106933594, 43.550682067871094, 44.509220123291016, 9.561789512634277, 4.529301166534424, 3.410900115966797, 3.410841226577759, 2.851790428161621, 2.851790428161621, 2.851790428161621, 2.851790189743042, 2.851790189743042, 2.2926104068756104, 2.292609930038452, 2.292448043823242, 10.667752265930176, 1.7334465980529785, 1.7334333658218384, 1.7333897352218628, 1.7333879470825195, 1.733378291130066, 1.7333749532699585, 1.733367919921875, 1.7333630323410034, 1.7333606481552124, 1.7333543300628662, 1.733346700668335, 1.7333296537399292, 1.7331115007400513, 4.938871383666992, 2.8517990112304688, 2.8517916202545166, 5.088501453399658, 5.016602516174316, 5.530676364898682, 11.31955623626709, 3.381840467453003, 4.546862602233887, 3.410966634750366, 17.174474716186523, 2.8373420238494873, 7.189570426940918, 4.514573574066162, 4.0516743659973145, 2.851790428161621, 3.4109416007995605, 6.951552867889404, 2.9456872940063477, 3.3565421104431152, 3.1356568336486816, 2.851801633834839, 26.006954193115234, 13.910689353942871, 12.182658195495605, 10.454622268676758, 10.454621315002441, 10.454621315002441, 9.590605735778809, 7.862565994262695, 6.134531021118164, 5.27051305770874, 5.27051305770874, 5.270511150360107, 5.270511150360107, 5.270511150360107, 5.270492076873779, 10.454621315002441, 4.406494140625, 4.406494140625, 4.406494140625, 4.406494140625, 4.406493186950684, 4.406493186950684, 4.406493186950684, 4.406493186950684, 4.406492233276367, 4.406491756439209, 4.405758380889893, 3.5424752235412598, 3.5424752235412598, 3.5424752235412598, 3.542475700378418, 3.542475700378418, 6.1345295906066895, 9.590603828430176, 3.542475700378418, 8.726318359375, 23.414899826049805, 28.599014282226562, 8.726587295532227, 12.182661056518555, 5.270511150360107, 6.134532451629639, 6.134532451629639, 9.590607643127441, 5.270512580871582, 5.270511627197266, 15.638745307922363, 36.30262756347656, 16.502758026123047, 10.454659461975098, 13.623313903808594, 8.726587295532227, 18.230792999267578, 17.366771697998047, 15.879158020019531, 6.998550891876221, 11.318647384643555, 12.182665824890137, 7.862567901611328, 9.59060287475586, 10.407691955566406, 10.454628944396973, 9.224040031433105, 16.881319046020508, 14.36172103881836, 10.162388801574707, 9.322522163391113, 9.322522163391113, 9.32252025604248, 8.482653617858887, 8.482654571533203, 7.642788410186768, 7.642787456512451, 6.802920341491699, 5.963054656982422, 5.12318754196167, 5.123181343078613, 4.283319473266602, 4.28331995010376, 4.28331995010376, 4.28331995010376, 4.2833147048950195, 9.322522163391113, 3.443453788757324, 3.4434540271759033, 3.443453788757324, 3.443453788757324, 3.443453788757324, 3.443453550338745, 3.443402051925659, 12.681992530822754, 2.6035873889923096, 2.6035873889923096, 2.6035873889923096, 11.002223014831543, 5.12318754196167, 8.482698440551758, 8.482656478881836, 8.482656478881836, 35.42280197143555, 6.80292272567749, 16.796873092651367, 8.451608657836914, 43.15971374511719, 8.465261459350586, 8.482660293579102, 22.64520835876465, 8.443122863769531, 9.256829261779785, 22.58929443359375, 14.830855369567871, 12.310612678527832, 9.943822860717773, 11.96374797821045, 11.490741729736328, 9.981999397277832, 9.997474670410156, 8.636414527893066, 1.4814245700836182, 0.995711624622345, 0.7528551816940308, 0.7528551816940308, 0.7528551816940308, 0.5099986791610718, 0.5099986791610718, 0.5099986791610718, 0.5099986791610718, 0.9957128167152405, 0.2671421766281128, 0.2671421766281128, 0.2671421766281128, 0.2671421766281128, 0.2671421468257904, 0.2671421468257904, 0.2671421766281128, 0.2671421468257904, 0.2671421468257904, 0.2671421468257904, 0.2671421468257904, 0.2671421766281128, 0.2671421468257904, 0.2671421468257904, 0.2671421766281128, 0.2671421468257904, 0.2671421468257904, 0.2671421468257904, 0.2671421468257904, 0.2671421766281128, 0.2671421766281128, 0.2671421468257904, 0.2671421468257904, 0.2671421468257904, 0.2671421468257904, 0.7528557777404785, 0.2671421468257904, 1.4814393520355225, 0.2671421468257904, 0.2671421468257904, 0.5099990963935852, 0.5099990367889404, 0.5099990963935852, 1.2873386144638062, 0.9957160353660583, 0.510000467300415, 0.3063153028488159, 0.26714327931404114, 0.2671433985233307, 0.267143189907074, 0.26714304089546204, 0.26714301109313965, 0.2671429216861725, 0.2671429216861725, 0.2671428620815277, 0.26714271306991577, 0.267142653465271, 0.267142653465271, 15.448506355285645, 14.63968276977539, 13.830818176269531, 8.169105529785156, 4.933815956115723, 4.933815956115723, 4.933815956115723, 4.933814525604248, 9.786750793457031, 4.124993324279785, 4.124985694885254, 3.3161709308624268, 3.316166400909424, 3.316167116165161, 3.316166639328003, 3.316166400909424, 3.316167116165161, 7.36022424697876, 2.5073490142822266, 2.5073487758636475, 2.5073487758636475, 2.5073490142822266, 2.5073487758636475, 2.5073487758636475, 2.5073490142822266, 2.5073487758636475, 2.5073490142822266, 2.5073487758636475, 2.5073490142822266, 2.5073490142822266, 5.742397308349609, 2.5073490142822266, 2.5073490142822266, 8.169010162353516, 2.5073490142822266, 2.5073490142822266, 2.5073487758636475, 2.5073490142822266, 2.5073490142822266, 8.977818489074707, 2.5073487758636475, 2.5073490142822266, 4.933816432952881, 2.5073490142822266, 2.5073490142822266, 2.5073490142822266, 2.5073490142822266, 2.5073490142822266, 2.5073490142822266, 2.5073487758636475, 13.764492988586426, 2.5073490142822266, 2.5073490142822266, 2.5073490142822266, 2.5073487758636475, 2.5073487758636475, 4.090557098388672, 2.5073487758636475, 2.5073490142822266, 2.5073487758636475, 7.36028528213501, 5.724724769592285, 5.742640018463135, 9.786755561828613, 4.124992847442627, 5.742635726928711, 20.250368118286133, 61.37461853027344, 7.360302448272705, 23.245359420776367, 36.55793380737305, 10.455268859863281, 4.933817386627197, 4.933812618255615, 5.742618083953857, 8.999310493469238, 16.245716094970703, 15.583365440368652, 12.133296966552734, 10.81340503692627, 8.994550704956055, 8.250524520874023, 9.804184913635254, 9.801036834716797, 8.616227149963379, 7.3699445724487305, 8.18541431427002, 7.328599452972412, 8.856173515319824, 7.373801231384277, 7.372926712036133, 7.371899127960205, 15.542914390563965, 3.5868237018585205, 2.8835256099700928, 2.8835256099700928, 2.8835251331329346, 2.1802268028259277, 2.1802268028259277, 2.180224657058716, 2.180222272872925, 1.4769275188446045, 1.4769275188446045, 1.4769275188446045, 1.4769275188446045, 1.4769275188446045, 1.4769275188446045, 1.4769275188446045, 1.476927638053894, 1.4769275188446045, 1.4769275188446045, 1.4769275188446045, 1.4769275188446045, 1.4769275188446045, 1.4769275188446045, 1.4769275188446045, 1.4769275188446045, 1.4769275188446045, 1.4769275188446045, 1.4769275188446045, 1.4769275188446045, 1.4769275188446045, 4.993424892425537, 1.4769275188446045, 1.476927638053894, 1.476927638053894, 4.002686023712158, 2.1802268028259277, 4.993424415588379, 7.806619644165039, 2.180223226547241, 2.180222988128662, 2.1802268028259277, 2.180227279663086, 2.1802260875701904, 2.7639126777648926, 4.2901225090026855, 3.5868279933929443, 2.883526086807251, 7.103329658508301, 12.026432037353516, 2.8835251331329346, 2.1802268028259277, 4.99342679977417, 6.400028228759766, 6.400034427642822, 9.213220596313477, 9.213224411010742, 6.400022983551025, 11.367539405822754, 7.806631088256836, 12.026413917541504, 3.5868258476257324, 7.103328704833984, 6.400028705596924, 4.993429183959961, 4.290124893188477, 4.993431091308594, 4.993442058563232, 4.290128231048584, 3.5868310928344727, 3.586822748184204, 3.586827278137207, 3.586829900741577, 12.685461044311523, 12.021292686462402, 10.683655738830566, 17.187252044677734, 6.707705497741699, 5.379726409912109, 4.715542793273926, 4.715416431427002, 4.051403045654297, 4.051330089569092, 11.680167198181152, 14.649920463562012, 3.3872382640838623, 10.683645248413086, 2.723074197769165, 2.723073959350586, 2.723073720932007, 2.7230660915374756, 2.7230064868927, 2.722986936569214, 2.0589098930358887, 2.0589098930358887, 2.0578980445861816, 4.658413410186768, 4.051403999328613, 24.387725830078125, 1.3947452306747437, 1.3947452306747437, 1.3947452306747437, 1.3947452306747437, 1.3947452306747437, 5.242648601531982, 7.280068874359131, 13.352995872497559, 5.80055570602417, 4.05140495300293, 3.9999051094055176, 4.579492568969727, 9.2103910446167, 15.710243225097656, 4.714868068695068, 10.634206771850586, 7.683166980743408, 4.835923671722412, 4.905246257781982, 4.715573787689209, 20.750320434570312, 18.953737258911133, 18.055458068847656, 17.157194137573242, 9.970926284790039, 9.072650909423828, 8.174347877502441, 61.859397888183594, 6.37780237197876, 5.479520797729492, 5.479518413543701, 5.479236602783203, 4.581238746643066, 4.581238746643066, 4.581238269805908, 4.581238269805908, 4.581236362457275, 3.6829564571380615, 3.6829569339752197, 3.6829564571380615, 3.682955265045166, 3.682954788208008, 3.682952642440796, 3.6829419136047363, 3.6828038692474365, 5.160536766052246, 3.6536078453063965, 3.6359498500823975, 7.276083946228027, 12.402165412902832, 16.2589111328125, 18.9537410736084, 9.072650909423828, 15.360626220703125, 9.970736503601074, 14.22728157043457, 6.162908554077148, 7.276086330413818, 5.479522228240967, 52.6279296875, 12.559059143066406, 47.297279357910156, 10.869207382202148, 9.072644233703613, 36.58137893676758, 20.08570671081543, 8.325329780578613, 20.199661254882812, 38.19662857055664, 13.563948631286621, 25.49300765991211, 10.86909008026123, 39.614131927490234, 38.71583557128906, 31.233301162719727, 48.61381912231445, 27.264989852905273, 17.20086669921875, 25.823434829711914, 19.535951614379883, 21.02391242980957, 23.09041976928711, 21.652545928955078, 16.102075576782227, 16.45188331604004, 15.84458065032959, 13.79533863067627, 7.294917583465576, 16.684419631958008, 6.572651386260986, 5.850378036499023, 4.4058403968811035, 3.6835732460021973, 11.628533363342285, 2.9613027572631836, 2.9613027572631836, 2.9613022804260254, 2.9613027572631836, 2.9613022804260254, 2.9613022804260254, 2.961301326751709, 10.184001922607422, 2.2390339374542236, 3.6835758686065674, 1.5167663097381592, 1.5167663097381592, 1.5167655944824219, 1.5167655944824219, 1.5167655944824219, 1.5167655944824219, 1.5167655944824219, 1.5167655944824219, 1.5167657136917114, 1.5167652368545532, 1.5167652368545532, 1.5167651176452637, 1.5167651176452637, 1.5167651176452637, 1.5167652368545532, 1.5167652368545532, 44.13065719604492, 5.8503804206848145, 8.017190933227539, 9.461730003356934, 4.4058427810668945, 8.739461898803711, 2.239034652709961, 4.4058427810668945, 2.961305856704712, 10.184000968933105, 10.906279563903809, 7.294928550720215, 3.683574676513672, 17.119932174682617, 6.572661399841309, 10.90627670288086, 8.739470481872559, 11.820701599121094, 10.90628433227539, 13.66672420501709, 6.572664737701416, 4.405840873718262, 4.40584135055542, 6.572653293609619, 5.8503899574279785, 5.128118515014648, 4.405871868133545, 4.405853271484375, 4.405852317810059, 4.405847072601318], \"Term\": [\"percent\", \"toyota\", \"ford\", \"sale\", \"yield\", \"vehicle\", \"car\", \"earnings\", \"could\", \"index\", \"post\", \"unit\", \"cent\", \"said\", \"u\", \"lexus\", \"price\", \"per\", \"investor\", \"year\", \"market\", \"profit\", \"truck\", \"contact\", \"january\", \"1\", \"benchmark\", \"lower\", \"billion\", \"margin\", \"hong\", \"asian\", \"composite\", \"weigh\", \"worry\", \"seng\", \"kong\", \"interest\", \"sank\", \"10year\", \"fueled\", \"dipped\", \"treasury\", \"yield\", \"score\", \"euro\", \"prospect\", \"hovered\", \"stoking\", \"risen\", \"swiftly\", \"shanghai\", \"kospi\", \"kongs\", \"korea\", \"inflation\", \"overhaul\", \"plate\", \"digesting\", \"brent\", \"mostly\", \"evaluated\", \"03\", \"earnings\", \"latest\", \"barrel\", \"benchmark\", \"investor\", \"providing\", \"u\", \"index\", \"bond\", \"rose\", \"week\", \"friday\", \"01\", \"lower\", \"report\", \"trading\", \"pace\", \"likely\", \"share\", \"economy\", \"expected\", \"cent\", \"percent\", \"per\", \"gain\", \"rate\", \"fell\", \"crude\", \"added\", \"price\", \"global\", \"oil\", \"world\", \"bag\", \"march\", \"stop\", \"electrical\", \"replace\", \"circuit\", \"recalling\", \"inspect\", \"serial\", \"occur\", \"notify\", \"645000\", \"air\", \"taxi\", \"49000\", \"esquire\", \"alphard\", \"probox\", \"noah\", \"levin\", \"voxy\", \"succeed\", \"letter\", \"inflating\", \"sienta\", \"vellfire\", \"recall\", \"warning\", \"necessary\", \"owner\", \"nx\", \"prius\", \"lexus\", \"sensor\", \"rx\", \"open\", \"toyota\", \"starting\", \"could\", \"may\", \"2016\", \"dealer\", \"2015\", \"vehicle\", \"side\", \"model\", \"also\", \"customer\", \"hydrogen\", \"museum\", \"hma\", \"soul\", \"tour\", \"matcha\", \"mobility\", \"culture\", \"estate\", \"ashmore\", \"dallas\", \"doll\", \"weaving\", \"bowl\", \"alert\", \"factory\", \"kdc\", \"fame\", \"ntcar\", \"hall\", \"society\", \"hmca\", \"renewable\", \"fuelcell\", \"karakuri\", \"prefecture\", \"wood\", \"driveaway\", \"mediacamera\", \"founding\", \"michael\", \"mickey\", \"ad\", \"game\", \"cowboy\", \"real\", \"australia\", \"japan\", \"kia\", \"commercial\", \"traditional\", \"cx3\", \"member\", \"technology\", \"aichi\", \"old\", \"one\", \"toyota\", \"also\", \"like\", \"industry\", \"hyundai\", \"company\", \"year\", \"car\", \"production\", \"motor\", \"world\", \"photo\", \"last\", \"2018\", \"new\", \"vehicle\", \"law\", \"ball\", \"f1\", \"magazine\", \"amendment\", \"scrum\", \"rugby\", \"suspect\", \"alonso\", \"ruck\", \"mclaren\", \"esso\", \"trujillo\", \"snowmobile\", \"jose\", \"hemisphere\", \"rationale\", \"delivery\", \"sled\", \"staff\", \"fernando\", \"luis\", \"programme\", \"residence\", \"wec\", \"southern\", \"santa\", \"player\", \"smile\", \"prize\", \"ana\", \"automobile\", \"tackle\", \"le\", \"win\", \"team\", \"sale\", \"season\", \"last\", \"fiat\", \"percent\", \"pickup\", \"man\", \"year\", \"chrysler\", \"brand\", \"toyota\", \"january\", \"month\", \"suv\", \"2018\", \"vehicle\", \"ford\", \"said\", \"car\", \"wythe\", \"livestock\", \"pig\", \"geller\", \"tractortrailer\", \"swerved\", \"i81\", \"overturned\", \"stopped\", \"county\", \"survived\", \"interstate\", \"thompson\", \"77\", \"veterinarian\", \"wreck\", \"wendel\", \"virginia\", \"manassas\", \"melinda\", \"melindasouthwesttimescom\", \"minor\", \"tuesday\", \"survivor\", \"trooper\", \"southbound\", \"spokeswoman\", \"traveling\", \"stopping\", \"lane\", \"determined\", \"killed\", \"surviving\", \"corinne\", \"indiana\", \"avoid\", \"83\", \"truck\", \"written\", \"751\", \"six\", \"able\", \"behind\", \"toyota\", \"said\", \"right\", \"1\", \"r\", \"pm\", \"february\", \"2018\", \"another\", \"line\", \"due\", \"left\", \"road\", \"however\", \"2013\", \"canada\", \"losing\", \"review\", \"canadian\", \"trader\", \"ninemonth\", \"closed\", \"tmmc\", \"declining\", \"overnight\", \"redesign\", \"supply\", \"navigation\", \"refurbished\", \"artist\", \"subscription\", \"book\", \"spec\", \"wti\", \"exploration\", \"opec\", \"flip\", \"follows\", \"watched\", \"gaining\", \"trillion\", \"sumitomo\", \"streak\", \"softbank\", \"ufj\", \"chevy\", \"yenrange\", \"2562\", \"date\", \"2315786\", \"dented\", \"each\", \"snapped\", \"97\", \"2019\", \"sixday\", \"inched\", \"advancing\", \"minolta\", \"4year\", \"3732\", \"petroleum\", \"477259\", \"seemed\", \"32825\", \"release\", \"casio\", \"kobe\", \"140\", \"inpex\", \"reluctant\", \"tesla\", \"mitsui\", \"112\", \"canon\", \"almost\", \"chevrolet\", \"6\", \"point\", \"exporter\", \"picture\", \"1\", \"percent\", \"mixed\", \"car\", \"toyota\", \"news\", \"corp\", \"uk\", \"concept\", \"lexus\", \"market\", \"vehicle\", \"price\", \"2018\", \"thursday\", \"model\", \"lower\", \"index\", \"new\", \"higher\", \"01\", \"2017\", \"u\", \"yen\", \"oil\", \"japan\", \"export\", \"damn\", \"turkey\", \"bykeki\", \"guy\", \"sakarya\", \"maybe\", \"subcompact\", \"cab\", \"163\", \"bright\", \"bumper\", \"yesterday\", \"careless\", \"olive\", \"parity\", \"experienced\", \"turkish\", \"freaking\", \"eu\", \"eurodollar\", \"x\", \"troc\", \"reaching\", \"kodiaq\", \"alex\", \"czech\", \"interview\", \"interface\", \"geneva\", \"tm\", \"positively\", \"platform\", \"rae\", \"tacoma\", \"sits\", \"hit\", \"two\", \"2wd\", \"regular\", \"skoda\", \"meeting\", \"capacity\", \"2013\", \"target\", \"country\", \"increased\", \"increase\", \"year\", \"chr\", \"chairman\", \"million\", \"suv\", \"one\", \"said\", \"vehicle\", \"billion\", \"toyota\", \"january\", \"percent\", \"sector\", \"market\", \"car\", \"month\", \"last\", \"2018\", \"sale\", \"also\", \"say\", \"china\", \"time\", \"company\", \"id\", \"unsolicited\", \"qr\", \"contact\", \"tire\", \"nice\", \"text\", \"info\", \"fee\", \"tundra\", \"link\", \"offer\", \"kostrna\", \"code\", \"selden\", \"realize\", \"waste\", \"mileage\", \"v8\", \"camino\", \"gas\", \"7eleven\", \"audio\", \"mile\", \"warranty\", \"post\", \"yan\", \"newsdayatnite\", \"silly\", \"ellen\", \"assistant\", \"brake\", \"great\", \"service\", \"automatic\", \"suzuki\", \"door\", \"clean\", \"4\", \"car\", \"power\", \"toyota\", \"new\", \"truck\", \"time\", \"said\", \"d\", \"workforce\", \"alabama\", \"registration\", \"training\", \"alliance\", \"bestselling\", \"unit\", \"crossback\", \"driven\", \"aidt\", \"hilux\", \"although\", \"crawford\", \"table\", \"touchscreen\", \"birmingham\", \"rental\", \"99\", \"polo\", \"labor\", \"nation\", \"taylor\", \"lot\", \"continuing\", \"unemployment\", \"produced\", \"centre\", \"continue\", \"leader\", \"followed\", \"state\", \"segment\", \"top\", \"program\", \"passenger\", \"supplier\", \"renault\", \"second\", \"sale\", \"corolla\", \"market\", \"need\", \"development\", \"january\", \"suv\", \"across\", \"industry\", \"vehicle\", \"say\", \"month\", \"low\", \"per\", \"cent\", \"new\", \"toyota\", \"company\", \"model\", \"car\", \"job\", \"2018\", \"said\", \"share\", \"also\", \"ford\", \"year\", \"commodity\", \"aluminum\", \"margin\", \"2020\", \"shank\", \"hackett\", \"2050\", \"operating\", \"presentation\", \"argue\", \"normal\", \"f150\", \"exposure\", \"given\", \"fitness\", \"electrified\", \"improving\", \"environmental\", \"pictwittercomkaq8xmirlv\", \"httpsbloombg2e7pz4e\", \"90\", \"reducing\", \"mass\", \"bus\", \"2030\", \"152\", \"powertrains\", \"milestone\", \"achieving\", \"john\", \"recognize\", \"meaningful\", \"68\", \"fitter\", \"ford\", \"steel\", \"2015\", \"2016\", \"wont\", \"automotive\", \"sustainable\", \"target\", \"answer\", \"profit\", \"2017\", \"million\", \"plan\", \"vehicle\", \"business\", \"price\", \"motor\", \"sale\", \"year\", \"toyota\", \"one\", \"key\", \"cost\", \"company\", \"global\", \"said\", \"like\", \"still\", \"new\", \"time\"], \"Total\": [302.0, 220.0, 72.0, 108.0, 126.0, 109.0, 98.0, 132.0, 60.0, 114.0, 34.0, 67.0, 134.0, 105.0, 236.0, 29.0, 81.0, 135.0, 96.0, 115.0, 106.0, 37.0, 24.0, 18.0, 88.0, 60.0, 91.0, 100.0, 48.0, 18.0, 49.86582946777344, 47.97577667236328, 41.36063003540039, 35.69051742553711, 31.910446166992188, 30.965423583984375, 29.07538604736328, 28.130359649658203, 27.185344696044922, 27.185340881347656, 27.185338973999023, 27.185340881347656, 27.185340881347656, 126.003173828125, 25.295299530029297, 25.295299530029297, 24.350284576416016, 24.350284576416016, 24.35028076171875, 24.35028076171875, 24.35028076171875, 24.35028076171875, 24.35028076171875, 24.35028076171875, 24.35028076171875, 23.40526008605957, 22.460243225097656, 22.460237503051758, 22.46023941040039, 22.46023941040039, 46.949764251708984, 29.318241119384766, 43.14552688598633, 132.70851135253906, 73.61758422851562, 65.52188873291016, 91.73948669433594, 96.37579345703125, 37.533809661865234, 236.89340209960938, 114.3804931640625, 51.34669494628906, 74.27841186523438, 54.812232971191406, 85.90584564208984, 87.75164031982422, 100.3222427368164, 80.6820297241211, 51.88240432739258, 44.77851486206055, 39.98773956298828, 128.08802795410156, 61.525508880615234, 42.88920593261719, 134.7979736328125, 302.830810546875, 135.86785888671875, 45.61253356933594, 61.92313003540039, 71.01361083984375, 50.664424896240234, 49.998226165771484, 81.20156860351562, 59.60638427734375, 53.575340270996094, 70.38795471191406, 10.23084545135498, 5.198207855224609, 4.079883575439453, 4.079919338226318, 3.5206665992736816, 3.5206665992736816, 3.5206663608551025, 3.520667314529419, 3.520667314529419, 2.9614920616149902, 2.9614925384521484, 2.9615912437438965, 13.98303508758545, 2.4023079872131348, 2.402313470840454, 2.4023423194885254, 2.402343511581421, 2.4023494720458984, 2.4023513793945312, 2.402355670928955, 2.4023587703704834, 2.402359962463379, 2.4023635387420654, 2.4023687839508057, 2.402378797531128, 2.40251088142395, 7.5337443351745605, 4.384681224822998, 4.384685039520264, 7.949733257293701, 8.353565216064453, 10.87260627746582, 29.34819221496582, 5.894070625305176, 10.043302536010742, 6.9149041175842285, 220.5521240234375, 6.594520568847656, 60.40910720825195, 22.406896591186523, 20.792387008666992, 8.470341682434082, 13.728713989257812, 109.5051040649414, 10.96878433227539, 40.85786819458008, 54.40681838989258, 15.86134147644043, 26.645341873168945, 14.549076080322266, 12.821040153503418, 11.093003273010254, 11.09300422668457, 11.09300422668457, 10.228985786437988, 8.500947952270508, 6.772908687591553, 5.908890724182129, 5.908890724182129, 5.908890247344971, 5.908890724182129, 5.908891201019287, 5.90888786315918, 11.796302795410156, 5.044871807098389, 5.044871807098389, 5.044871807098389, 5.044871807098389, 5.044870853424072, 5.044870853424072, 5.044870853424072, 5.044870853424072, 5.044870853424072, 5.0448713302612305, 5.044938087463379, 4.180851936340332, 4.180851936340332, 4.18085241317749, 4.180852890014648, 4.180852890014648, 7.33208703994751, 12.630987167358398, 4.180852890014648, 11.531798362731934, 46.55065155029297, 67.24846649169922, 13.739547729492188, 22.7021484375, 6.612189292907715, 8.374491691589355, 8.421599388122559, 17.603425979614258, 6.717713356018066, 6.748757362365723, 46.0950927734375, 220.5521240234375, 54.40681838989258, 24.17736053466797, 42.54645919799805, 17.332677841186523, 94.62855529785156, 115.13453674316406, 98.41853332519531, 12.402229309082031, 51.8071174621582, 70.38795471191406, 19.279277801513672, 43.487884521484375, 82.7333984375, 97.58231353759766, 109.5051040649414, 17.52211570739746, 15.002518653869629, 10.803182601928711, 9.963315963745117, 9.963315963745117, 9.9633150100708, 9.12344741821289, 9.123448371887207, 8.283580780029297, 8.283580780029297, 7.443713665008545, 6.603847026824951, 5.763979434967041, 5.763978958129883, 4.924111843109131, 4.9241132736206055, 4.9241132736206055, 4.924113750457764, 4.924112319946289, 10.8273344039917, 4.084245681762695, 4.0842461585998535, 4.0842461585998535, 4.0842461585998535, 4.0842461585998535, 4.084246635437012, 4.084226131439209, 15.754122734069824, 3.2443790435791016, 3.2443790435791016, 3.2443790435791016, 14.074384689331055, 6.46727991104126, 10.885708808898926, 11.749768257141113, 12.619756698608398, 108.88961029052734, 11.142794609069824, 43.487884521484375, 16.174808502197266, 302.830810546875, 16.53693389892578, 17.53629493713379, 115.13453674316406, 17.93769073486328, 25.828577041625977, 220.5521240234375, 88.29798126220703, 66.16427612304688, 39.50231170654297, 82.7333984375, 109.5051040649414, 72.77132415771484, 105.41429901123047, 98.41853332519531, 2.181919574737549, 1.6962053775787354, 1.4533483982086182, 1.4533486366271973, 1.4533486366271973, 1.21049165725708, 1.21049165725708, 1.21049165725708, 1.2104917764663696, 2.536069869995117, 0.9676346778869629, 0.9676346778869629, 0.9676346778869629, 0.9676347374916077, 0.9676347374916077, 0.9676347970962524, 0.9676347970962524, 0.9676347970962524, 0.9676347970962524, 0.9676347374916077, 0.9676347374916077, 0.9676347970962524, 0.9676347374916077, 0.9676347374916077, 0.9676347970962524, 0.9676347970962524, 0.9676347374916077, 0.9676347374916077, 0.9676347970962524, 0.9676347970962524, 0.9676347970962524, 0.9676347374916077, 0.9676347970962524, 0.9676347374916077, 0.9676347970962524, 4.113930702209473, 0.9676347970962524, 24.740047454833984, 0.9676347374916077, 0.9676347970962524, 3.8469226360321045, 6.3024115562438965, 8.13323974609375, 220.5521240234375, 105.41429901123047, 11.036787033081055, 60.18287658691406, 5.122133731842041, 8.692168235778809, 15.723443031311035, 82.7333984375, 30.365230560302734, 13.592668533325195, 47.17719268798828, 5.40645170211792, 7.651393890380859, 9.520549774169922, 5.302358627319336, 16.0924072265625, 15.283583641052246, 14.474756240844727, 8.813005447387695, 5.577713489532471, 5.577713489532471, 5.577713489532471, 5.577713489532471, 11.270514488220215, 4.768890380859375, 4.768889904022217, 3.9600679874420166, 3.960066080093384, 3.960066556930542, 3.960066318511963, 3.9600675106048584, 3.960068464279175, 8.90245532989502, 3.1512451171875, 3.151244878768921, 3.151244878768921, 3.1512451171875, 3.151244878768921, 3.151244878768921, 3.1512451171875, 3.1512451171875, 3.1512451171875, 3.151244878768921, 3.1512451171875, 3.1512451171875, 7.226359844207764, 3.1512451171875, 3.1512451171875, 10.541027069091797, 3.1512451171875, 3.1512451171875, 3.1512451171875, 3.1512451171875, 3.1512451171875, 11.964630126953125, 3.151244878768921, 3.1512451171875, 6.441731929779053, 3.1512451171875, 3.1512451171875, 3.1512451171875, 3.1512451171875, 3.1512451171875, 3.1512451171875, 3.1512451171875, 20.126787185668945, 3.1512451171875, 3.1512451171875, 3.1512451171875, 3.151244878768921, 3.151244878768921, 5.61007833480835, 3.151244878768921, 3.1512451171875, 3.1512451171875, 11.993093490600586, 8.906821250915527, 8.96455192565918, 19.37843894958496, 6.175488471984863, 9.750417709350586, 60.18287658691406, 302.830810546875, 14.34797477722168, 98.41853332519531, 220.5521240234375, 27.669095993041992, 8.01916217803955, 8.077576637268066, 11.141718864440918, 29.34819221496582, 106.26272583007812, 109.5051040649414, 81.20156860351562, 82.7333984375, 53.68558883666992, 40.85786819458008, 100.3222427368164, 114.3804931640625, 97.58231353759766, 42.289119720458984, 87.75164031982422, 43.422645568847656, 236.89340209960938, 48.637786865234375, 53.575340270996094, 67.24846649169922, 17.06138038635254, 4.241273403167725, 3.5379745960235596, 3.5379748344421387, 3.5379745960235596, 2.8346755504608154, 2.8346762657165527, 2.8346757888793945, 2.8346753120422363, 2.131376266479492, 2.131376266479492, 2.131376266479492, 2.131376266479492, 2.131376266479492, 2.131376266479492, 2.131376266479492, 2.131376266479492, 2.131376266479492, 2.131376266479492, 2.131376266479492, 2.131376266479492, 2.131376266479492, 2.131376266479492, 2.131376028060913, 2.131376028060913, 2.131376028060913, 2.131376266479492, 2.131376266479492, 2.131376266479492, 2.131376266479492, 7.268425464630127, 2.131376266479492, 2.131376266479492, 2.131376266479492, 6.256908893585205, 3.498840570449829, 10.148778915405273, 21.246816635131836, 3.674541711807251, 3.6986937522888184, 3.732957363128662, 3.7329580783843994, 3.7329578399658203, 5.302358627319336, 10.142210960388184, 9.132379531860352, 6.6622490882873535, 32.803218841552734, 115.13453674316406, 7.892332553863525, 4.562713623046875, 23.62240982055664, 39.50231170654297, 46.0950927734375, 105.41429901123047, 109.5051040649414, 48.9946403503418, 220.5521240234375, 88.29798126220703, 302.830810546875, 13.716943740844727, 106.26272583007812, 98.41853332519531, 66.16427612304688, 43.487884521484375, 82.7333984375, 108.88961029052734, 54.40681838989258, 24.41582489013672, 29.347110748291016, 56.921730041503906, 94.62855529785156, 13.343925476074219, 12.679759979248047, 11.353891372680664, 18.871932983398438, 7.366513729095459, 6.038098335266113, 5.373937606811523, 5.373970031738281, 4.7097673416137695, 4.709782123565674, 13.609846115112305, 17.108606338500977, 4.045601844787598, 12.921212196350098, 3.381437063217163, 3.381437063217163, 3.381437301635742, 3.381436586380005, 3.3814444541931152, 3.381456136703491, 2.7172722816467285, 2.7172725200653076, 2.717331886291504, 6.228916645050049, 5.573784828186035, 34.31466293334961, 2.053107261657715, 2.053107261657715, 2.053107261657715, 2.053107261657715, 2.053107261657715, 7.881135940551758, 11.407546043395996, 22.199621200561523, 9.448609352111816, 6.447915554046631, 6.524463176727295, 8.037980079650879, 22.054649353027344, 98.41853332519531, 10.416481018066406, 220.5521240234375, 97.58231353759766, 24.740047454833984, 56.921730041503906, 105.41429901123047, 21.385276794433594, 19.588706970214844, 18.6904239654541, 17.79214859008789, 10.605884552001953, 9.70760440826416, 8.809318542480469, 67.42709350585938, 7.012754440307617, 6.11447286605835, 6.11447286605835, 6.1143646240234375, 5.216189861297607, 5.216189861297607, 5.216189384460449, 5.216189384460449, 5.216189384460449, 4.317906856536865, 4.317907333374023, 4.317907333374023, 4.317907333374023, 4.317907333374023, 4.317906379699707, 4.317903995513916, 4.317897796630859, 6.093729019165039, 4.314857006072998, 4.313226222991943, 8.633307456970215, 15.018714904785156, 20.70246696472168, 24.57796287536621, 11.387336730957031, 20.697532653808594, 12.893086433410645, 19.62200927734375, 7.800176620483398, 9.59077262878418, 6.923295021057129, 108.88961029052734, 18.989410400390625, 106.26272583007812, 16.178176879882812, 13.021928787231445, 88.29798126220703, 39.50231170654297, 11.917585372924805, 42.54645919799805, 109.5051040649414, 24.41582489013672, 66.16427612304688, 17.5675106048584, 135.86785888671875, 134.7979736328125, 97.58231353759766, 220.5521240234375, 94.62855529785156, 40.85786819458008, 98.41853332519531, 57.16334533691406, 82.7333984375, 105.41429901123047, 128.08802795410156, 54.40681838989258, 72.77132415771484, 115.13453674316406, 14.447909355163574, 7.947478771209717, 18.235271453857422, 7.225207328796387, 6.502937316894531, 5.058398246765137, 4.336126804351807, 14.043400764465332, 3.6138577461242676, 3.6138577461242676, 3.6138577461242676, 3.6138579845428467, 3.6138579845428467, 3.613858222961426, 3.6138577461242676, 12.438138961791992, 2.891587495803833, 5.200145721435547, 2.1693172454833984, 2.1693172454833984, 2.1693174839019775, 2.1693174839019775, 2.1693174839019775, 2.1693174839019775, 2.1693174839019775, 2.1693174839019775, 2.1693174839019775, 2.1693172454833984, 2.1693174839019775, 2.1693177223205566, 2.1693177223205566, 2.1693177223205566, 2.1693177223205566, 2.1693177223205566, 72.77132415771484, 8.92940616607666, 13.728713989257812, 20.792387008666992, 9.650493621826172, 25.531726837158203, 3.7556064128875732, 10.142210960388184, 5.845340728759766, 37.832977294921875, 43.422645568847656, 23.62240982055664, 8.481461524963379, 109.5051040649414, 24.470508575439453, 81.20156860351562, 51.8071174621582, 108.88961029052734, 115.13453674316406, 220.5521240234375, 46.0950927734375, 14.006958961486816, 14.397407531738281, 94.62855529785156, 59.60638427734375, 105.41429901123047, 24.17736053466797, 21.516244888305664, 97.58231353759766, 56.921730041503906], \"loglift\": [30.0, 29.0, 28.0, 27.0, 26.0, 25.0, 24.0, 23.0, 22.0, 21.0, 20.0, 19.0, 18.0, 17.0, 16.0, 15.0, 14.0, 13.0, 12.0, 11.0, 10.0, 9.0, 8.0, 7.0, 6.0, 5.0, 4.0, 3.0, 2.0, 1.0, 1.044600009918213, 1.044100046157837, 1.0420000553131104, 1.0394999980926514, 1.0374000072479248, 1.0368000268936157, 1.0354000329971313, 1.0347000360488892, 1.0339000225067139, 1.0339000225067139, 1.0339000225067139, 1.0339000225067139, 1.0339000225067139, 1.0326999425888062, 1.032099962234497, 1.032099962234497, 1.0311000347137451, 1.0311000347137451, 1.0311000347137451, 1.0311000347137451, 1.0311000347137451, 1.0311000347137451, 1.0311000347137451, 1.0311000347137451, 1.0311000347137451, 1.0299999713897705, 1.0289000272750854, 1.0289000272750854, 1.0289000272750854, 1.0289000272750854, 1.024999976158142, 1.0270999670028687, 1.0226999521255493, 1.003600001335144, 1.0073000192642212, 1.0095000267028809, 0.9937000274658203, 0.9873999953269958, 1.0156999826431274, 0.9272000193595886, 0.9624999761581421, 0.9958999752998352, 0.9708999991416931, 0.9876999855041504, 0.9307000041007996, 0.9093000292778015, 0.8931000232696533, 0.9154999852180481, 0.9455000162124634, 0.9625999927520752, 0.9782999753952026, 0.7739999890327454, 0.8903999924659729, 0.9581999778747559, 0.713100016117096, 0.4968000054359436, 0.6751000285148621, 0.9405999779701233, 0.847100019454956, 0.7998999953269958, 0.9060999751091003, 0.8977000117301941, 0.5756000280380249, 0.7811999917030334, 0.8501999974250793, 0.5989999771118164, 3.6308999061584473, 3.560800075531006, 3.5195000171661377, 3.519399881362915, 3.4879000186920166, 3.4879000186920166, 3.4879000186920166, 3.4879000186920166, 3.4879000186920166, 3.4426000118255615, 3.4426000118255615, 3.442500114440918, 3.4279000759124756, 3.3722000122070312, 3.3722000122070312, 3.3722000122070312, 3.3722000122070312, 3.3722000122070312, 3.3722000122070312, 3.3722000122070312, 3.3722000122070312, 3.3722000122070312, 3.3722000122070312, 3.3722000122070312, 3.3721001148223877, 3.371999979019165, 3.2762999534606934, 3.268399953842163, 3.268399953842163, 3.2523999214172363, 3.1886000633239746, 3.022599935531616, 2.7458999156951904, 3.1429998874664307, 2.906100034713745, 2.9918999671936035, 1.145799994468689, 2.8552000522613525, 1.570099949836731, 2.0964999198913574, 2.0631000995635986, 2.6098999977111816, 2.3060998916625977, 0.9416000247001648, 2.3838000297546387, 1.1993999481201172, 0.8449000120162964, 1.9825999736785889, 2.058500051498413, 2.0378000736236572, 2.031599998474121, 2.023400068283081, 2.023400068283081, 2.023400068283081, 2.0183000564575195, 2.0046000480651855, 1.9837000370025635, 1.968400001525879, 1.968400001525879, 1.968400001525879, 1.968400001525879, 1.968400001525879, 1.968400001525879, 1.9620000123977661, 1.9473999738693237, 1.9473999738693237, 1.9473999738693237, 1.9473999738693237, 1.9473999738693237, 1.9473999738693237, 1.9473999738693237, 1.9473999738693237, 1.9473999738693237, 1.9473999738693237, 1.9471999406814575, 1.9170000553131104, 1.9170000553131104, 1.9170000553131104, 1.9170000553131104, 1.9170000553131104, 1.9043999910354614, 1.8072999715805054, 1.9170000553131104, 1.8039000034332275, 1.3954999446868896, 1.2276999950408936, 1.6288000345230103, 1.4602999687194824, 1.8559000492095947, 1.7714999914169312, 1.7657999992370605, 1.4753999710083008, 1.8401000499725342, 1.8355000019073486, 1.0017999410629272, 0.2784999907016754, 0.8896999955177307, 1.2443000078201294, 0.9438999891281128, 1.3964999914169312, 0.4359000027179718, 0.19120000302791595, 0.25850000977516174, 1.5104999542236328, 0.5616000294685364, 0.3287000060081482, 1.1857999563217163, 0.5709999799728394, 0.009600000455975533, -0.1509000062942505, -0.39149999618530273, 2.227799892425537, 2.221400022506714, 2.203900098800659, 2.198499917984009, 2.198499917984009, 2.198499917984009, 2.192199945449829, 2.192199945449829, 2.184499979019165, 2.184499979019165, 2.174999952316284, 2.162899971008301, 2.147200107574463, 2.147200107574463, 2.1256000995635986, 2.1256000995635986, 2.1256000995635986, 2.1256000995635986, 2.1256000995635986, 2.1154000759124756, 2.0943000316619873, 2.0943000316619873, 2.0943000316619873, 2.0943000316619873, 2.0943000316619873, 2.0943000316619873, 2.0943000316619873, 2.048099994659424, 2.0450000762939453, 2.0450000762939453, 2.0450000762939453, 2.0188000202178955, 2.0320000648498535, 2.0155999660491943, 1.9392000436782837, 1.867799997329712, 1.1419999599456787, 1.7716000080108643, 1.3136999607086182, 1.6159000396728516, 0.3167000114917755, 1.5953999757766724, 1.5388000011444092, 0.6388999819755554, 1.5115000009536743, 1.2388999462127686, -0.01360000018030405, 0.48100000619888306, 0.583299994468689, 0.8855999708175659, 0.3312999904155731, 0.010599999688565731, 0.2784999907016754, -0.09059999883174896, -0.16820000112056732, 4.697400093078613, 4.5518999099731445, 4.426799774169922, 4.426799774169922, 4.426799774169922, 4.220200061798096, 4.220200061798096, 4.220200061798096, 4.220200061798096, 4.149700164794922, 3.797499895095825, 3.797499895095825, 3.797499895095825, 3.797499895095825, 3.797499895095825, 3.797499895095825, 3.797499895095825, 3.797499895095825, 3.797499895095825, 3.797499895095825, 3.797499895095825, 3.797499895095825, 3.797499895095825, 3.797499895095825, 3.797499895095825, 3.797499895095825, 3.797499895095825, 3.797499895095825, 3.797499895095825, 3.797499895095825, 3.797499895095825, 3.797499895095825, 3.797499895095825, 3.797499895095825, 3.797499895095825, 3.3863000869750977, 3.797499895095825, 2.269200086593628, 3.797499895095825, 3.797499895095825, 3.063999891281128, 2.5703001022338867, 2.3152999877929688, -0.05900000035762787, 0.42239999771118164, 2.009999990463257, -0.19589999318122864, 2.13100004196167, 1.6022000312805176, 1.0095000267028809, -0.6510000228881836, 0.3513000011444092, 1.1550999879837036, -0.0892999991774559, 2.0769999027252197, 1.729699969291687, 1.511199951171875, 2.0964999198913574, 2.4423999786376953, 2.440200090408325, 2.437700033187866, 2.4072999954223633, 2.3605000972747803, 2.3605000972747803, 2.3605000972747803, 2.3605000972747803, 2.3420000076293945, 2.338200092315674, 2.338099956512451, 2.3057000637054443, 2.3057000637054443, 2.3057000637054443, 2.3057000637054443, 2.3057000637054443, 2.3057000637054443, 2.2929999828338623, 2.2546000480651855, 2.2546000480651855, 2.2546000480651855, 2.2546000480651855, 2.2546000480651855, 2.2546000480651855, 2.2546000480651855, 2.2546000480651855, 2.2546000480651855, 2.2546000480651855, 2.2546000480651855, 2.2546000480651855, 2.2532999515533447, 2.2546000480651855, 2.2546000480651855, 2.228300094604492, 2.2546000480651855, 2.2546000480651855, 2.2546000480651855, 2.2546000480651855, 2.2546000480651855, 2.196000099182129, 2.2546000480651855, 2.2546000480651855, 2.2165000438690186, 2.2546000480651855, 2.2546000480651855, 2.2546000480651855, 2.2546000480651855, 2.2546000480651855, 2.2546000480651855, 2.2546000480651855, 2.1031999588012695, 2.2546000480651855, 2.2546000480651855, 2.2546000480651855, 2.2546000480651855, 2.2546000480651855, 2.16729998588562, 2.2546000480651855, 2.2546000480651855, 2.2546000480651855, 1.9950000047683716, 2.0411999225616455, 2.0378000736236572, 1.8000999689102173, 2.079699993133545, 1.9537999629974365, 1.3940000534057617, 0.8870000243186951, 1.8157000541687012, 1.0400999784469604, 0.6859999895095825, 1.5099999904632568, 1.997499942779541, 1.9902000427246094, 1.8203999996185303, 1.3011000156402588, 0.6050999760627747, 0.5333999991416931, 0.5821999907493591, 0.44839999079704285, 0.6966999769210815, 0.883400022983551, 0.15760000050067902, 0.026200000196695328, 0.05620000138878822, 0.7361000180244446, 0.11100000143051147, 0.7039999961853027, -0.8033000230789185, 0.5967000126838684, 0.4999000132083893, 0.27250000834465027, 2.9835000038146973, 2.90910005569458, 2.8721001148223877, 2.8721001148223877, 2.8721001148223877, 2.814199924468994, 2.814199924468994, 2.814199924468994, 2.814199924468994, 2.70989990234375, 2.70989990234375, 2.70989990234375, 2.70989990234375, 2.70989990234375, 2.70989990234375, 2.70989990234375, 2.70989990234375, 2.70989990234375, 2.70989990234375, 2.70989990234375, 2.70989990234375, 2.70989990234375, 2.70989990234375, 2.70989990234375, 2.70989990234375, 2.70989990234375, 2.70989990234375, 2.70989990234375, 2.70989990234375, 2.70989990234375, 2.7012999057769775, 2.70989990234375, 2.70989990234375, 2.70989990234375, 2.630000114440918, 2.6036999225616455, 2.367500066757202, 2.075500011444092, 2.5546998977661133, 2.548099994659424, 2.5388998985290527, 2.5388998985290527, 2.5388998985290527, 2.4251999855041504, 2.2163000106811523, 2.1421000957489014, 2.2392001152038574, 1.5467000007629395, 0.8177000284194946, 2.0697999000549316, 2.338200092315674, 1.5226000547409058, 1.256600022315979, 1.1023000478744507, 0.6394000053405762, 0.6014000177383423, 1.0413000583648682, 0.11129999905824661, 0.6509000062942505, -0.149399995803833, 1.7352999448776245, 0.37130001187324524, 0.34380000829696655, 0.4927000105381012, 0.7605000138282776, 0.26919999718666077, -0.005499999970197678, 0.5364999771118164, 1.1586999893188477, 0.9747999906539917, 0.3122999966144562, -0.19599999487400055, 3.1914000511169434, 3.188699960708618, 3.1812000274658203, 3.1484999656677246, 3.1482999324798584, 3.1266000270843506, 3.111299991607666, 3.111299991607666, 3.091399908065796, 3.091399908065796, 3.089099884033203, 3.086899995803833, 3.0643999576568604, 3.0518999099731445, 3.0255000591278076, 3.0255000591278076, 3.0255000591278076, 3.0255000591278076, 3.025399923324585, 3.025399923324585, 2.964600086212158, 2.964600086212158, 2.9639999866485596, 2.9514999389648438, 2.9230000972747803, 2.9005000591278076, 2.8554000854492188, 2.8554000854492188, 2.8554000854492188, 2.8554000854492188, 2.8554000854492188, 2.834399938583374, 2.7929000854492188, 2.7337000370025635, 2.7541000843048096, 2.7772998809814453, 2.752700090408325, 2.6793999671936035, 2.368799924850464, 1.407099962234497, 2.4493000507354736, 0.20999999344348907, 0.7002999782562256, 1.6096999645233154, 0.7906000018119812, 0.13500000536441803, 1.718400001525879, 1.7156000137329102, 1.7139999866485596, 1.7122000455856323, 1.6868000030517578, 1.680899977684021, 1.673799991607666, 1.6624000072479248, 1.6536999940872192, 1.6389000415802002, 1.6389000415802002, 1.6389000415802002, 1.6188000440597534, 1.6188000440597534, 1.6188000440597534, 1.6188000440597534, 1.6188000440597534, 1.5894999504089355, 1.5894999504089355, 1.5894999504089355, 1.5894999504089355, 1.5894999504089355, 1.5894999504089355, 1.5894999504089355, 1.5894999504089355, 1.5823999643325806, 1.582200050354004, 1.5778000354766846, 1.5774999856948853, 1.5571999549865723, 1.5069999694824219, 1.488700032234192, 1.521299958229065, 1.4503999948501587, 1.4915000200271606, 1.4270999431610107, 1.5130000114440918, 1.4723999500274658, 1.5147000551223755, 1.0214999914169312, 1.3351000547409058, 0.9391000270843506, 1.3509000539779663, 1.3871999979019165, 0.8673999905586243, 1.0721999406814575, 1.3898999691009521, 1.0037000179290771, 0.6953999996185303, 1.1607999801635742, 0.7947999835014343, 1.2684999704360962, 0.5160999894142151, 0.5011000037193298, 0.6093999743461609, 0.23639999330043793, 0.5041999816894531, 0.883400022983551, 0.4106000065803528, 0.6748999953269958, 0.37860000133514404, 0.23010000586509705, -0.028999999165534973, 0.531000018119812, 0.26170000433921814, -0.23469999432563782, 2.938499927520752, 2.8991000652313232, 2.895900011062622, 2.8901000022888184, 2.878999948501587, 2.84660005569458, 2.821700096130371, 2.796099901199341, 2.785599946975708, 2.785599946975708, 2.785599946975708, 2.785599946975708, 2.785599946975708, 2.785599946975708, 2.785599946975708, 2.7848000526428223, 2.7290000915527344, 2.640000104904175, 2.6268999576568604, 2.6268999576568604, 2.6268999576568604, 2.6268999576568604, 2.6268999576568604, 2.6268999576568604, 2.6268999576568604, 2.6268999576568604, 2.6268999576568604, 2.6268999576568604, 2.6268999576568604, 2.6268999576568604, 2.6268999576568604, 2.6268999576568604, 2.6268999576568604, 2.6268999576568604, 2.484600067138672, 2.5618999004364014, 2.446899890899658, 2.1974000930786133, 2.200700044631958, 1.9127000570297241, 2.467600107192993, 2.1510000228881836, 2.3046998977661133, 1.6723999977111816, 1.6030999422073364, 1.8097000122070312, 2.1507999897003174, 1.128999948501587, 1.670199990272522, 0.9771999716758728, 1.2051000595092773, 0.7642999887466431, 0.628000020980835, 0.20360000431537628, 1.0369999408721924, 1.8280999660491943, 1.8006000518798828, 0.31769999861717224, 0.6635000109672546, -0.03840000182390213, 1.2822999954223633, 1.398900032043457, -0.11299999803304672, 0.4259999990463257], \"logprob\": [30.0, 29.0, 28.0, 27.0, 26.0, 25.0, 24.0, 23.0, 22.0, 21.0, 20.0, 19.0, 18.0, 17.0, 16.0, 15.0, 14.0, 13.0, 12.0, 11.0, 10.0, 9.0, 8.0, 7.0, 6.0, 5.0, 4.0, 3.0, 2.0, 1.0, -5.174900054931641, -5.214000225067139, -5.364500045776367, -5.514400005340576, -5.628499984741211, -5.659200191497803, -5.723499774932861, -5.757299900054932, -5.792300224304199, -5.792300224304199, -5.792300224304199, -5.792300224304199, -5.792300224304199, -4.259799957275391, -5.866099834442139, -5.866099834442139, -5.905200004577637, -5.905200004577637, -5.905200004577637, -5.905200004577637, -5.905200004577637, -5.905200004577637, -5.905200004577637, -5.905200004577637, -5.905200004577637, -5.945799827575684, -5.9882001876831055, -5.9882001876831055, -5.9882001876831055, -5.9882001876831055, -5.254799842834473, -5.723499774932861, -5.341599941253662, -4.236999988555908, -4.8225998878479, -4.936999797821045, -4.616099834442139, -4.573200225830078, -5.487800121307373, -3.7339999675750732, -4.426799774169922, -5.194399833679199, -4.850100040435791, -5.137199878692627, -4.744900226593018, -4.744999885559082, -4.627399921417236, -4.822800159454346, -5.234399795532227, -5.364500045776367, -5.461900234222412, -4.502200126647949, -5.118899822235107, -5.4120001792907715, -4.511899948120117, -3.918800115585327, -4.542099952697754, -5.368100166320801, -5.155900001525879, -5.065999984741211, -5.297500133514404, -5.319200038909912, -5.156300067901611, -5.259799957275391, -5.297599792480469, -5.2758002281188965, -4.172500133514404, -4.9197001457214355, -5.2032999992370605, -5.2032999992370605, -5.382299900054932, -5.382299900054932, -5.382299900054932, -5.382299900054932, -5.382299900054932, -5.600599765777588, -5.600599765777588, -5.600599765777588, -4.063000202178955, -5.880199909210205, -5.880199909210205, -5.880199909210205, -5.880199909210205, -5.880199909210205, -5.880199909210205, -5.880199909210205, -5.880199909210205, -5.880199909210205, -5.880199909210205, -5.880199909210205, -5.880199909210205, -5.88040018081665, -4.833099842071533, -5.382299900054932, -5.382299900054932, -4.803299903869629, -4.817500114440918, -4.71999979019165, -4.003699779510498, -5.2118000984191895, -4.915800094604492, -5.2032999992370605, -3.5868000984191895, -5.387400150299072, -4.457600116729736, -4.922999858856201, -5.031099796295166, -5.382299900054932, -5.2032999992370605, -4.491300106048584, -5.349899768829346, -5.219399929046631, -5.287399768829346, -5.382299900054932, -4.787799835205078, -5.41349983215332, -5.54610013961792, -5.699100017547607, -5.699100017547607, -5.699100017547607, -5.785299777984619, -5.984000205993652, -6.2322001457214355, -6.383999824523926, -6.383999824523926, -6.383999824523926, -6.383999824523926, -6.383999824523926, -6.383999824523926, -5.699100017547607, -6.563000202178955, -6.563000202178955, -6.563000202178955, -6.563000202178955, -6.563000202178955, -6.563000202178955, -6.563000202178955, -6.563000202178955, -6.563000202178955, -6.563000202178955, -6.563199996948242, -6.781300067901611, -6.781300067901611, -6.781300067901611, -6.781300067901611, -6.781300067901611, -6.2322001457214355, -5.785299777984619, -6.781300067901611, -5.879799842834473, -4.8927001953125, -4.692699909210205, -5.879700183868408, -5.54610013961792, -6.383999824523926, -6.2322001457214355, -6.2322001457214355, -5.785299777984619, -6.383999824523926, -6.383999824523926, -5.29640007019043, -4.45419979095459, -5.242599964141846, -5.699100017547607, -5.434299945831299, -5.879700183868408, -5.14300012588501, -5.1915998458862305, -5.281099796295166, -6.100399971008301, -5.619699954986572, -5.54610013961792, -5.984000205993652, -5.785299777984619, -5.70359992980957, -5.699100017547607, -5.8242998123168945, -5.037600040435791, -5.1992998123168945, -5.545100212097168, -5.631400108337402, -5.631400108337402, -5.631400108337402, -5.725800037384033, -5.725800037384033, -5.830100059509277, -5.830100059509277, -5.946499824523926, -6.078199863433838, -6.230000019073486, -6.230000019073486, -6.40910005569458, -6.40910005569458, -6.40910005569458, -6.40910005569458, -6.40910005569458, -5.631400108337402, -6.627299785614014, -6.627299785614014, -6.627299785614014, -6.627299785614014, -6.627299785614014, -6.627299785614014, -6.627399921417236, -5.323599815368652, -6.906899929046631, -6.906899929046631, -6.906899929046631, -5.465700149536133, -6.230000019073486, -5.725800037384033, -5.725800037384033, -5.725800037384033, -4.296500205993652, -5.946499824523926, -5.042600154876709, -5.729499816894531, -4.098899841308594, -5.727799892425537, -5.725800037384033, -4.743899822235107, -5.730500221252441, -5.638500213623047, -4.746300220489502, -5.167099952697754, -5.353400230407715, -5.56689977645874, -5.381899833679199, -5.422299861907959, -5.563000202178955, -5.561500072479248, -5.707799911499023, -4.651199817657471, -5.048500061035156, -5.328100204467773, -5.328100204467773, -5.328100204467773, -5.717599868774414, -5.717599868774414, -5.717599868774414, -5.717599868774414, -5.048500061035156, -6.364200115203857, -6.364200115203857, -6.364200115203857, -6.364200115203857, -6.364200115203857, -6.364200115203857, -6.364200115203857, -6.364200115203857, -6.364200115203857, -6.364200115203857, -6.364200115203857, -6.364200115203857, -6.364200115203857, -6.364200115203857, -6.364200115203857, -6.364200115203857, -6.364200115203857, -6.364200115203857, -6.364200115203857, -6.364200115203857, -6.364200115203857, -6.364200115203857, -6.364200115203857, -6.364200115203857, -6.364200115203857, -5.328100204467773, -6.364200115203857, -4.651199817657471, -6.364200115203857, -6.364200115203857, -5.717599868774414, -5.717599868774414, -5.717599868774414, -4.7916998863220215, -5.048500061035156, -5.717599868774414, -6.227399826049805, -6.364200115203857, -6.364200115203857, -6.364200115203857, -6.364200115203857, -6.364200115203857, -6.364200115203857, -6.364200115203857, -6.364200115203857, -6.364200115203857, -6.364200115203857, -6.364200115203857, -4.908100128173828, -4.961900234222412, -5.018700122833252, -5.545300006866455, -6.049499988555908, -6.049499988555908, -6.049499988555908, -6.049499988555908, -5.36460018157959, -6.228600025177002, -6.228600025177002, -6.446800231933594, -6.446800231933594, -6.446800231933594, -6.446800231933594, -6.446800231933594, -6.446800231933594, -5.649499893188477, -6.726399898529053, -6.726399898529053, -6.726399898529053, -6.726399898529053, -6.726399898529053, -6.726399898529053, -6.726399898529053, -6.726399898529053, -6.726399898529053, -6.726399898529053, -6.726399898529053, -6.726399898529053, -5.897799968719482, -6.726399898529053, -6.726399898529053, -5.545300006866455, -6.726399898529053, -6.726399898529053, -6.726399898529053, -6.726399898529053, -6.726399898529053, -5.450900077819824, -6.726399898529053, -6.726399898529053, -6.049499988555908, -6.726399898529053, -6.726399898529053, -6.726399898529053, -6.726399898529053, -6.726399898529053, -6.726399898529053, -6.726399898529053, -5.023499965667725, -6.726399898529053, -6.726399898529053, -6.726399898529053, -6.726399898529053, -6.726399898529053, -6.2368998527526855, -6.726399898529053, -6.726399898529053, -6.726399898529053, -5.649499893188477, -5.9008002281188965, -5.89769983291626, -5.36460018157959, -6.228600025177002, -5.89769983291626, -4.637499809265137, -3.528599977493286, -5.649499893188477, -4.499499797821045, -4.0467000007629395, -5.298500061035156, -6.049499988555908, -6.049499988555908, -5.89769983291626, -5.448500156402588, -4.857800006866455, -4.899400234222412, -5.149700164794922, -5.264800071716309, -5.448999881744385, -5.535399913787842, -5.362800121307373, -5.363100051879883, -5.492000102996826, -5.648200035095215, -5.543300151824951, -5.653800010681152, -5.4644999504089355, -5.64769983291626, -5.647799968719482, -5.6479997634887695, -4.308499813079834, -5.774899959564209, -5.993100166320801, -5.993100166320801, -5.993100166320801, -6.27269983291626, -6.27269983291626, -6.27269983291626, -6.27269983291626, -6.662199974060059, -6.662199974060059, -6.662199974060059, -6.662199974060059, -6.662199974060059, -6.662199974060059, -6.662199974060059, -6.662199974060059, -6.662199974060059, -6.662199974060059, -6.662199974060059, -6.662199974060059, -6.662199974060059, -6.662199974060059, -6.662199974060059, -6.662199974060059, -6.662199974060059, -6.662199974060059, -6.662199974060059, -6.662199974060059, -6.662199974060059, -5.443999767303467, -6.662199974060059, -6.662199974060059, -6.662199974060059, -5.665200233459473, -6.27269983291626, -5.443999767303467, -4.997200012207031, -6.27269983291626, -6.27269983291626, -6.27269983291626, -6.27269983291626, -6.27269983291626, -6.0355000495910645, -5.595799922943115, -5.774899959564209, -5.993100166320801, -5.091599941253662, -4.565000057220459, -5.993100166320801, -6.27269983291626, -5.443999767303467, -5.195799827575684, -5.195799827575684, -4.831500053405762, -4.831500053405762, -5.195799827575684, -4.621399879455566, -4.997200012207031, -4.565000057220459, -5.774899959564209, -5.091599941253662, -5.195799827575684, -5.443999767303467, -5.595799922943115, -5.443999767303467, -5.443999767303467, -5.595799922943115, -5.774899959564209, -5.774899959564209, -5.774899959564209, -5.774899959564209, -4.346399784088135, -4.400100231170654, -4.518099784851074, -4.042600154876709, -4.98360013961792, -5.20419979095459, -5.335999965667725, -5.335999965667725, -5.487800121307373, -5.487800121307373, -4.428899765014648, -4.202400207519531, -5.666800022125244, -4.518099784851074, -5.8850998878479, -5.8850998878479, -5.8850998878479, -5.8850998878479, -5.8850998878479, -5.8850998878479, -6.164599895477295, -6.164599895477295, -6.16510009765625, -5.348100185394287, -5.487800121307373, -3.692699909210205, -6.554100036621094, -6.554100036621094, -6.554100036621094, -6.554100036621094, -6.554100036621094, -5.230000019073486, -4.901700019836426, -4.295100212097168, -5.128900051116943, -5.487800121307373, -5.500500202178955, -5.365200042724609, -4.666500091552734, -4.132500171661377, -5.336100101470947, -4.52269983291626, -4.847799777984619, -5.310699939727783, -5.296500205993652, -5.335899829864502, -5.347700119018555, -5.438199996948242, -5.486800193786621, -5.537799835205078, -6.080599784851074, -6.175000190734863, -6.279200077056885, -4.25540018081665, -6.527400016784668, -6.679200172424316, -6.679200172424316, -6.679299831390381, -6.85830020904541, -6.85830020904541, -6.85830020904541, -6.85830020904541, -6.85830020904541, -7.076499938964844, -7.076499938964844, -7.076499938964844, -7.076499938964844, -7.076499938964844, -7.076499938964844, -7.076499938964844, -7.076600074768066, -6.739200115203857, -7.084499835968018, -7.089399814605713, -6.395699977874756, -5.862400054931641, -5.591599941253662, -5.438199996948242, -6.175000190734863, -5.648399829864502, -6.080599784851074, -5.725100040435791, -6.561699867248535, -6.395699977874756, -6.679200172424316, -4.416999816894531, -5.849800109863281, -4.523799896240234, -5.99429988861084, -6.175000190734863, -4.780700206756592, -5.380199909210205, -6.260900020599365, -5.374599933624268, -4.737500190734863, -5.772799968719482, -5.1417999267578125, -5.99429988861084, -4.701099872589111, -4.723999977111816, -4.938799858093262, -4.496300220489502, -5.0746002197265625, -5.535299777984619, -5.129000186920166, -5.4079999923706055, -5.33459997177124, -5.240799903869629, -5.305099964141846, -5.60129976272583, -5.579800128936768, -5.617400169372559, -4.519700050354004, -5.156899929046631, -4.329599857330322, -5.261199951171875, -5.377600193023682, -5.661099910736084, -5.840199947357178, -4.6905999183654785, -6.0584001541137695, -6.0584001541137695, -6.0584001541137695, -6.0584001541137695, -6.0584001541137695, -6.0584001541137695, -6.0584001541137695, -4.823299884796143, -6.3379998207092285, -5.840199947357178, -6.727499961853027, -6.727499961853027, -6.727499961853027, -6.727499961853027, -6.727499961853027, -6.727499961853027, -6.727499961853027, -6.727499961853027, -6.727499961853027, -6.727499961853027, -6.727499961853027, -6.727499961853027, -6.727499961853027, -6.727499961853027, -6.727499961853027, -6.727499961853027, -3.3568999767303467, -5.377600193023682, -5.0625, -4.8968000411987305, -5.661099910736084, -4.976200103759766, -6.3379998207092285, -5.661099910736084, -6.0584001541137695, -4.823299884796143, -4.754700183868408, -5.156899929046631, -5.840199947357178, -4.303800106048584, -5.261199951171875, -4.754700183868408, -4.976200103759766, -4.674200057983398, -4.754700183868408, -4.529099941253662, -5.261199951171875, -5.661099910736084, -5.661099910736084, -5.261199951171875, -5.377600193023682, -5.509300231933594, -5.661099910736084, -5.661099910736084, -5.661099910736084, -5.661099910736084]}, \"token.table\": {\"Topic\": [1, 4, 6, 7, 9, 1, 4, 1, 3, 4, 6, 8, 9, 1, 6, 6, 10, 7, 3, 7, 8, 2, 3, 4, 10, 2, 3, 6, 9, 10, 1, 3, 4, 6, 9, 10, 1, 2, 3, 4, 6, 7, 8, 9, 10, 6, 9, 10, 10, 10, 10, 6, 6, 4, 7, 6, 6, 1, 3, 4, 6, 8, 9, 6, 2, 6, 4, 6, 9, 2, 10, 8, 10, 6, 9, 3, 5, 7, 9, 10, 4, 6, 9, 10, 2, 3, 1, 4, 7, 9, 10, 3, 6, 3, 6, 9, 2, 3, 9, 9, 3, 7, 9, 3, 6, 8, 9, 4, 2, 1, 2, 3, 4, 6, 7, 9, 10, 9, 10, 4, 4, 1, 3, 6, 7, 9, 3, 7, 8, 10, 10, 6, 3, 1, 8, 8, 1, 3, 6, 9, 3, 8, 9, 3, 4, 7, 3, 4, 6, 7, 9, 10, 3, 5, 9, 2, 4, 1, 6, 3, 5, 7, 9, 1, 3, 6, 9, 1, 7, 9, 10, 9, 1, 6, 6, 3, 8, 9, 3, 4, 9, 1, 7, 7, 10, 1, 3, 6, 9, 10, 7, 7, 8, 6, 6, 6, 7, 9, 2, 3, 4, 6, 7, 8, 9, 10, 7, 6, 1, 9, 9, 3, 7, 4, 6, 4, 6, 1, 7, 9, 10, 3, 7, 9, 3, 4, 9, 2, 3, 8, 9, 6, 3, 7, 8, 3, 9, 10, 1, 2, 3, 4, 7, 9, 10, 1, 3, 6, 7, 9, 10, 4, 8, 9, 10, 9, 3, 6, 8, 9, 4, 6, 7, 9, 2, 7, 9, 10, 1, 2, 3, 7, 9, 10, 3, 4, 6, 7, 8, 9, 4, 5, 3, 9, 9, 1, 6, 3, 2, 4, 6, 9, 10, 3, 7, 9, 7, 9, 3, 7, 3, 6, 2, 4, 6, 4, 6, 4, 6, 3, 9, 10, 1, 1, 3, 8, 9, 3, 9, 1, 4, 6, 7, 9, 6, 1, 6, 10, 1, 3, 6, 9, 2, 7, 9, 10, 8, 3, 10, 2, 4, 3, 7, 1, 7, 1, 1, 4, 9, 7, 6, 3, 7, 6, 7, 10, 4, 10, 3, 7, 3, 1, 3, 4, 6, 7, 9, 8, 1, 4, 6, 9, 10, 4, 3, 4, 9, 10, 10, 6, 4, 7, 9, 10, 6, 3, 4, 9, 10, 3, 7, 1, 3, 4, 6, 7, 3, 1, 1, 4, 9, 6, 3, 4, 10, 8, 5, 7, 10, 1, 3, 4, 9, 10, 3, 4, 6, 8, 7, 10, 3, 4, 1, 6, 9, 10, 9, 3, 7, 8, 10, 3, 3, 1, 1, 1, 3, 4, 8, 9, 10, 3, 3, 4, 9, 5, 8, 10, 6, 1, 4, 6, 7, 9, 10, 4, 7, 10, 1, 6, 3, 4, 6, 7, 9, 2, 1, 8, 6, 2, 1, 7, 7, 1, 2, 6, 10, 1, 2, 4, 6, 7, 9, 1, 3, 4, 6, 7, 9, 10, 1, 3, 6, 7, 9, 10, 4, 3, 3, 3, 9, 10, 3, 4, 9, 6, 7, 1, 1, 1, 1, 8, 9, 1, 3, 4, 7, 9, 10, 1, 4, 6, 7, 8, 4, 3, 4, 9, 3, 9, 3, 4, 7, 8, 2, 2, 2, 3, 4, 6, 9, 2, 3, 4, 6, 7, 9, 10, 1, 3, 4, 7, 3, 4, 7, 9, 10, 4, 8, 5, 6, 9, 3, 6, 8, 9, 10, 1, 6, 7, 9, 10, 4, 4, 1, 4, 7, 9, 2, 9, 10, 1, 3, 4, 6, 7, 8, 9, 10, 10, 3, 1, 2, 3, 4, 6, 9, 10, 7, 4, 10, 3, 7, 9, 3, 4, 6, 3, 3, 4, 8, 8, 10, 2, 3, 4, 6, 7, 9, 10, 6, 6, 1, 3, 4, 6, 9, 3, 2, 3, 4, 6, 9, 10, 1, 3, 4, 7, 8, 9, 10, 1, 3, 2, 3, 4, 6, 7, 8, 9, 10, 3, 9, 6, 2, 3, 3, 6, 8, 9, 1, 2, 3, 4, 6, 7, 8, 9, 10, 1, 3, 4, 6, 8, 9, 8, 8, 6, 2, 10, 2, 3, 2, 4, 6, 9, 2, 3, 8, 9, 1, 2, 4, 6, 7, 3, 4, 7, 2, 3, 4, 6, 7, 8, 9, 10, 6, 1, 2, 3, 9, 10, 1, 6, 5, 2, 3, 8, 1, 4, 9, 7, 2, 3, 4, 7, 9, 1, 4, 9, 10, 1, 3, 4, 6, 7, 9, 10, 6, 1, 2, 3, 4, 7, 8, 1, 4, 6, 7, 9, 10, 3, 6, 7, 9, 10, 5, 3, 4, 7, 9, 10, 1, 7, 3, 4, 7, 1, 3, 4, 6, 8, 9, 1, 4, 6, 9, 9, 7, 3, 6, 8, 9, 10, 3, 8, 10, 10, 3, 10, 1, 3, 6, 8, 9, 10, 2, 3, 6, 8, 10, 4, 2, 9, 3, 4, 7, 9, 10, 1, 6, 10, 2, 3, 9, 4, 1, 1, 9, 8, 3, 6, 7, 1, 4, 7, 9, 4, 7, 3, 10, 8, 2, 6, 9, 2, 10, 6, 10, 6, 9, 3, 7, 6, 7, 8, 9, 6, 4, 9, 3, 9, 2, 1, 3, 4, 6, 9, 4, 6, 1, 5, 7, 9, 1, 3, 8, 9, 1, 4, 6, 7, 4, 4, 2, 6, 1, 2, 3, 4, 5, 6, 7, 8, 9, 10, 7, 1, 4, 7, 8, 9, 10, 1, 4, 3, 7, 8, 9, 10, 1, 4, 1, 3, 4, 6, 9, 3, 6, 7, 9, 6, 4, 9, 8, 1, 2, 9, 2, 2, 3, 4, 6, 8, 9, 1, 10, 1, 2, 4, 6, 7, 8, 9, 10, 2, 4, 6, 7, 9, 2, 8, 7, 8, 4, 5, 9, 6, 7, 9, 4, 4, 6, 4, 3, 6, 3, 4, 6, 9, 3, 4, 2, 9, 10, 7, 8, 9, 10, 6, 10, 1, 3, 4, 7, 9, 10, 1, 2, 5, 6, 7, 6, 2, 6, 6, 9, 6, 4, 3, 10, 3, 4, 7, 9, 4, 8, 9, 5, 1, 9, 4, 7, 7, 8, 3, 7, 10, 2, 9, 3, 4, 6, 9, 2, 3, 7, 9, 10, 4, 6, 8, 1, 2, 4, 6, 7, 8, 1, 2, 3, 4, 6, 7, 8, 9, 10, 8, 7, 9, 10, 6, 3, 7, 9, 9, 3, 1, 2, 3, 4, 5, 6, 7, 8, 9, 10, 5, 6, 1, 6, 3, 7, 9, 1, 6, 7, 3, 4, 5, 7, 8, 9, 4, 8, 7, 7, 3, 4, 7, 9, 10, 1, 3, 4, 6, 7, 8, 9, 10, 6, 6, 7, 9, 9, 4, 6, 9, 10, 8, 8, 2, 3, 4, 6, 7, 8, 9, 10, 2, 2, 2, 3, 3, 8, 8, 6, 3, 4, 1, 3, 8, 1, 3, 4, 9, 2, 3, 7, 9, 10, 3, 9, 1, 3, 4, 6, 7, 9, 10, 1, 6, 5, 7, 8, 1, 2, 3, 4, 6, 7, 8, 9, 10, 1, 6, 6, 7, 1, 6], \"Freq\": [0.8660807013511658, 0.011395798064768314, 0.09116638451814651, 0.011395798064768314, 0.02279159612953663, 0.97344970703125, 0.0231773741543293, 0.41540053486824036, 0.06646408885717392, 0.03323204442858696, 0.3323204517364502, 0.01661602221429348, 0.11631215363740921, 0.9931823015213013, 0.9520046710968018, 0.9520046710968018, 0.9219489693641663, 0.4691804051399231, 0.18859530985355377, 0.5657859444618225, 0.18859530985355377, 0.21852010488510132, 0.07284003496170044, 0.07284003496170044, 0.5827202796936035, 0.19237810373306274, 0.048094525933265686, 0.14428357779979706, 0.14428357779979706, 0.43285074830055237, 0.02302945777773857, 0.04605891555547714, 0.18423566222190857, 0.1612062007188797, 0.3224124014377594, 0.253324031829834, 0.22965332865715027, 0.012087017297744751, 0.12087017297744751, 0.145044207572937, 0.13295719027519226, 0.060435086488723755, 0.012087017297744751, 0.25382736325263977, 0.024174034595489502, 0.752217173576355, 0.08357968181371689, 0.16715936362743378, 0.9688303470611572, 0.9219489693641663, 0.9224822521209717, 0.9520046710968018, 0.9520046710968018, 0.27214276790618896, 0.5442855358123779, 0.9520046710968018, 0.9520046710968018, 0.13602574169635773, 0.045341912657022476, 0.13602574169635773, 0.1813676506280899, 0.408077210187912, 0.045341912657022476, 0.9520046710968018, 0.8325307965278625, 0.9520046710968018, 0.223100945353508, 0.6693028211593628, 0.111550472676754, 0.6753126382827759, 0.9219488501548767, 0.7360321879386902, 0.9219489693641663, 0.9520046710968018, 0.9263746738433838, 0.47600826621055603, 0.15866942703723907, 0.15866942703723907, 0.31733885407447815, 0.9219489693641663, 0.08390961587429047, 0.08390961587429047, 0.6712769269943237, 0.16781923174858093, 0.13638681173324585, 0.8183208703994751, 0.8600305318832397, 0.02000070922076702, 0.02000070922076702, 0.08000283688306808, 0.02000070922076702, 0.15523774921894073, 0.7761887907981873, 0.744300901889801, 0.1488601714372635, 0.8177319765090942, 0.78666752576828, 0.14303046464920044, 0.07151523232460022, 0.9630600214004517, 0.8461829423904419, 0.46918046474456787, 0.9271082282066345, 0.08338132500648499, 0.5836692452430725, 0.08338132500648499, 0.16676265001296997, 0.9657658934593201, 0.8325204253196716, 0.05514014884829521, 0.05514014884829521, 0.31246083974838257, 0.07352019846439362, 0.11028029769659042, 0.07352019846439362, 0.29408079385757446, 0.018380049616098404, 0.9585540890693665, 0.8807824850082397, 0.9033136963844299, 0.9246761798858643, 0.7245128750801086, 0.06586480885744095, 0.06586480885744095, 0.032932404428720474, 0.09879720956087112, 0.1710764318704605, 0.1710764318704605, 0.1710764318704605, 0.513229250907898, 0.8301378488540649, 0.757563054561615, 0.8461825251579285, 0.9796610474586487, 0.4870666265487671, 0.7360160946846008, 0.4511215090751648, 0.4940854609012604, 0.02148197591304779, 0.02148197591304779, 0.1058356836438179, 0.6350140571594238, 0.2116713672876358, 0.14210212230682373, 0.7815616726875305, 0.07105106115341187, 0.1566678136587143, 0.039166953414678574, 0.11750086396932602, 0.039166953414678574, 0.2741686999797821, 0.35250258445739746, 0.24307653307914734, 0.24307653307914734, 0.4861530661582947, 0.9774363040924072, 0.9331766366958618, 0.9462486505508423, 0.04578622430562973, 0.24590447545051575, 0.12295223772525787, 0.12295223772525787, 0.6147611737251282, 0.937437117099762, 0.032701294869184494, 0.032701294869184494, 0.9081292748451233, 0.7755950689315796, 0.12246237695217133, 0.06123118847608566, 0.04082079231739044, 0.9585541486740112, 0.934821605682373, 0.058426350355148315, 0.7575626373291016, 0.8461824655532837, 0.6344262957572937, 0.25377053022384644, 0.30973443388938904, 0.34845125675201416, 0.30973443388938904, 0.9795086979866028, 0.4691804051399231, 0.4691804051399231, 0.9219489693641663, 0.3677896559238434, 0.08173103630542755, 0.040865518152713776, 0.20432758331298828, 0.286058634519577, 0.8479427099227905, 0.7055481672286987, 0.8871917724609375, 0.9321166276931763, 0.907749354839325, 0.9520046710968018, 0.5357681512832642, 0.2678840756416321, 0.020321376621723175, 0.1625710129737854, 0.09144619107246399, 0.23369581997394562, 0.06096412613987923, 0.1625710129737854, 0.2641778886318207, 0.010160688310861588, 0.4691804051399231, 0.9520046710968018, 0.7121768593788147, 0.2893218696117401, 0.9273800849914551, 0.4383356273174286, 0.4383356273174286, 0.336820513010025, 0.67364102602005, 0.13838225603103638, 0.8302935361862183, 0.7155730128288269, 0.13629962503910065, 0.13629962503910065, 0.03407490625977516, 0.5068210363388062, 0.3801157474517822, 0.12670525908470154, 0.2229941487312317, 0.4459882974624634, 0.2787426710128784, 0.8521113395690918, 0.24881872534751892, 0.6220468282699585, 0.12440936267375946, 0.8964246511459351, 0.07739211618900299, 0.07739211618900299, 0.8513132929801941, 0.528584361076355, 0.44048693776130676, 0.9689983129501343, 0.35929957032203674, 0.010567634366452694, 0.19021742045879364, 0.042270537465810776, 0.042270537465810776, 0.28532612323760986, 0.07397343963384628, 0.9912808537483215, 0.17950551211833954, 0.5385165214538574, 0.08975275605916977, 0.08975275605916977, 0.08975275605916977, 0.05298874154686928, 0.9008086323738098, 0.8108132481575012, 0.11583046615123749, 0.9263767004013062, 0.2106437236070633, 0.10532186180353165, 0.05266093090176582, 0.684592068195343, 0.12470130622386932, 0.6235065460205078, 0.12470130622386932, 0.12470130622386932, 0.13891389966011047, 0.06945694983005524, 0.48619863390922546, 0.27782779932022095, 0.678705632686615, 0.11587657034397125, 0.06621517986059189, 0.016553794965147972, 0.09932277351617813, 0.033107589930295944, 0.10950048267841339, 0.10950048267841339, 0.21900096535682678, 0.43800193071365356, 0.10950048267841339, 0.10950048267841339, 0.3943108916282654, 0.3943108916282654, 0.9567425847053528, 0.9585540890693665, 0.855583906173706, 0.8684594631195068, 0.13816401362419128, 0.9410715103149414, 0.18913911283016205, 0.25218549370765686, 0.06304637342691422, 0.25218549370765686, 0.18913911283016205, 0.7164614200592041, 0.11941023170948029, 0.11941023170948029, 0.4691804051399231, 0.98198401927948, 0.8461825251579285, 0.9431129693984985, 0.1897348314523697, 0.7589393258094788, 0.35417696833610535, 0.35417696833610535, 0.23611798882484436, 0.08872709423303604, 0.8872709274291992, 0.8123289346694946, 0.9520046710968018, 0.23038062453269958, 0.6911418437957764, 0.07679353654384613, 0.9795086979866028, 0.9931823015213013, 0.8461825847625732, 0.6130772829055786, 0.3065386414527893, 0.9567428231239319, 0.8177319765090942, 0.8690640330314636, 0.02119668386876583, 0.06359004974365234, 0.02119668386876583, 0.02119668386876583, 0.9520046710968018, 0.9494493007659912, 0.03767655789852142, 0.015070623718202114, 0.8451778888702393, 0.03250684216618538, 0.01625342108309269, 0.09752052277326584, 0.7353086471557617, 0.08039788156747818, 0.08039788156747818, 0.8039788007736206, 0.4870666265487671, 0.19230230152606964, 0.7692092061042786, 0.8325208425521851, 0.9085613489151001, 0.8858823180198669, 0.4691804051399231, 0.9883258938789368, 0.4691804051399231, 0.9550368189811707, 0.9093196988105774, 0.06994766741991043, 0.02331588976085186, 0.4691804051399231, 0.9520047307014465, 0.058611903339624405, 0.9377904534339905, 0.647722065448761, 0.16193051636219025, 0.8301377892494202, 0.9256531596183777, 0.8301377892494202, 0.8477232456207275, 0.08477232605218887, 0.792884349822998, 0.2543972134590149, 0.2543972134590149, 0.19079791009426117, 0.06359930336475372, 0.06359930336475372, 0.12719860672950745, 0.8492988348007202, 0.7744994163513184, 0.07040903717279434, 0.07040903717279434, 0.042245421558618546, 0.042245421558618546, 0.7345297336578369, 0.24729813635349274, 0.4945962727069855, 0.24729813635349274, 0.8301378488540649, 0.9219488501548767, 0.9520046710968018, 0.09660684317350388, 0.04830342158675194, 0.772854745388031, 0.04830342158675194, 0.9520047307014465, 0.02748335339128971, 0.1374167650938034, 0.2198668271303177, 0.6046337485313416, 0.9567427039146423, 0.4691804051399231, 0.8846895098686218, 0.011640651151537895, 0.011640651151537895, 0.08148455619812012, 0.011640651151537895, 0.7928845286369324, 0.9931824207305908, 0.8988757133483887, 0.06577139347791672, 0.021923799067735672, 0.9520046710968018, 0.7917037606239319, 0.15834075212478638, 0.07917037606239319, 0.736032247543335, 0.6880661249160767, 0.4691804051399231, 0.8301377296447754, 0.7549526691436768, 0.0838836282491684, 0.03355345129966736, 0.01677672564983368, 0.10066036134958267, 0.0876612737774849, 0.1753225475549698, 0.0876612737774849, 0.6136289238929749, 0.8479427695274353, 0.7907641530036926, 0.792884349822998, 0.8123289942741394, 0.662108838558197, 0.16552720963954926, 0.11823371797800064, 0.047293487936258316, 0.8177464604377747, 0.19706803560256958, 0.49267011880874634, 0.09853401780128479, 0.19706803560256958, 0.9359614849090576, 0.7928845286369324, 0.9826368093490601, 0.9856147766113281, 0.42014381289482117, 0.10503595322370529, 0.21007190644741058, 0.10503595322370529, 0.10503595322370529, 0.9219490885734558, 0.9757803082466125, 0.5192503929138184, 0.11538898199796677, 0.3461669385433197, 0.8261106014251709, 0.9742260575294495, 0.6916615962982178, 0.9520046710968018, 0.09145443886518478, 0.12193924933671951, 0.09145443886518478, 0.2133936882019043, 0.39630258083343506, 0.060969624668359756, 0.30019891262054443, 0.45029839873313904, 0.30019891262054443, 0.9092459678649902, 0.08742749691009521, 0.32905206084251404, 0.14102230966091156, 0.02350371889770031, 0.02350371889770031, 0.4700743556022644, 0.8325116634368896, 0.9826850891113281, 0.9304108619689941, 0.9520047307014465, 0.8521111607551575, 0.959817111492157, 0.4691804051399231, 0.4691804051399231, 0.9338444471359253, 0.01037604920566082, 0.03112814761698246, 0.03112814761698246, 0.24915632605552673, 0.011325287632644176, 0.16987930238246918, 0.06795172393321991, 0.09060230106115341, 0.4190356135368347, 0.35688546299934387, 0.43123659491539, 0.014870227314531803, 0.1040915921330452, 0.014870227314531803, 0.044610682874917984, 0.029740454629063606, 0.542305588722229, 0.017493728548288345, 0.08746863901615143, 0.017493728548288345, 0.3498745560646057, 0.9219488501548767, 0.8123292326927185, 0.7928845286369324, 0.792884349822998, 0.07139308750629425, 0.571144700050354, 0.285572350025177, 0.6550434231758118, 0.1455651968717575, 0.21834780275821686, 0.9520046710968018, 0.46918046474456787, 0.9630138874053955, 0.9856148958206177, 0.9856148958206177, 0.9856148958206177, 0.7415460348129272, 0.9263746738433838, 0.022994909435510635, 0.22994910180568695, 0.3909134864807129, 0.09197963774204254, 0.22994910180568695, 0.04598981887102127, 0.950859785079956, 0.013583711348474026, 0.013583711348474026, 0.013583711348474026, 0.013583711348474026, 0.9702024459838867, 0.09186356514692307, 0.7349085211753845, 0.09186356514692307, 0.13316719233989716, 0.7990031242370605, 0.18496419489383698, 0.18496419489383698, 0.18496419489383698, 0.18496419489383698, 0.8325134515762329, 0.8325161933898926, 0.374810129404068, 0.06814730167388916, 0.13629460334777832, 0.30666282773017883, 0.06814730167388916, 0.0413610078394413, 0.4136100709438324, 0.0827220156788826, 0.0413610078394413, 0.0827220156788826, 0.1654440313577652, 0.1654440313577652, 0.9252836108207703, 0.025007665157318115, 0.025007665157318115, 0.025007665157318115, 0.14713814854621887, 0.22070720791816711, 0.07356907427310944, 0.367845356464386, 0.14713814854621887, 0.07347621768712997, 0.8817145824432373, 0.5895512700080872, 0.9814451932907104, 0.9263753890991211, 0.056923262774944305, 0.17076978087425232, 0.056923262774944305, 0.6261558532714844, 0.11384652554988861, 0.8472697138786316, 0.09967879205942154, 0.009967879392206669, 0.029903637245297432, 0.019935758784413338, 0.7345296740531921, 0.9033136963844299, 0.3421475291252136, 0.45619669556617737, 0.05702458694577217, 0.11404917389154434, 0.9618699550628662, 0.05483877658843994, 0.932259202003479, 0.272908478975296, 0.018821274861693382, 0.018821274861693382, 0.15057019889354706, 0.06587446480989456, 0.009410637430846691, 0.4422999620437622, 0.009410637430846691, 0.9219489693641663, 0.9014690518379211, 0.26777470111846924, 0.22314558923244476, 0.13388735055923462, 0.13388735055923462, 0.13388735055923462, 0.044629115611314774, 0.08925823122262955, 0.7055479288101196, 0.9403908252716064, 0.9219488501548767, 0.9567428231239319, 0.5357681512832642, 0.2678840756416321, 0.7124537229537964, 0.11874228715896606, 0.11874228715896606, 0.9567425847053528, 0.9567425847053528, 0.1605415642261505, 0.8027077913284302, 0.8871968984603882, 0.9219490885734558, 0.04233268275856972, 0.12699805200099945, 0.12699805200099945, 0.08466536551713943, 0.21166342496871948, 0.08466536551713943, 0.2963287830352783, 0.9520046710968018, 0.9520047307014465, 0.2090887427330017, 0.06969624757766724, 0.06969624757766724, 0.48787373304367065, 0.13939249515533447, 0.9776140451431274, 0.07342527061700821, 0.07342527061700821, 0.19580072164535522, 0.19580072164535522, 0.41607654094696045, 0.048950180411338806, 0.30227792263031006, 0.015113895758986473, 0.18136675655841827, 0.07556948065757751, 0.015113895758986473, 0.3778474032878876, 0.015113895758986473, 0.9584712386131287, 0.021299362182617188, 0.01930236630141735, 0.2123260349035263, 0.1544189304113388, 0.0772094652056694, 0.0579071007668972, 0.0386047326028347, 0.270233154296875, 0.1737212985754013, 0.9622604250907898, 0.9263746738433838, 0.7575631141662598, 0.6841996312141418, 0.228066548705101, 0.123623326420784, 0.123623326420784, 0.061811663210392, 0.6799283027648926, 0.25619396567344666, 0.030743276700377464, 0.10247758775949478, 0.05123879387974739, 0.09222982823848724, 0.020495517179369926, 0.0819820687174797, 0.3176805078983307, 0.04099103435873985, 0.10842421650886536, 0.2168484330177307, 0.03614140301942825, 0.3614140450954437, 0.03614140301942825, 0.2168484330177307, 0.4870666265487671, 0.8280752897262573, 0.8964246511459351, 0.832517683506012, 0.8301378488540649, 0.675335168838501, 0.792884349822998, 0.5985468029975891, 0.11970936506986618, 0.11970936506986618, 0.11970936506986618, 0.6753352284431458, 0.058450113981962204, 0.876751720905304, 0.058450113981962204, 0.8212733864784241, 0.01866530440747738, 0.01866530440747738, 0.1306571215391159, 0.01866530440747738, 0.7408771514892578, 0.1481754332780838, 0.4691804051399231, 0.021694283932447433, 0.34710854291915894, 0.130165696144104, 0.10847141593694687, 0.130165696144104, 0.04338856786489487, 0.08677713572978973, 0.15185998380184174, 0.9520047307014465, 0.43384549021720886, 0.43384549021720886, 0.07120782136917114, 0.07120782136917114, 0.8544938564300537, 0.9795085191726685, 0.8387695550918579, 0.8261106014251709, 0.628951907157898, 0.12579038739204407, 0.12579038739204407, 0.9156177043914795, 0.06699641793966293, 0.022332139313220978, 0.4691804051399231, 0.050963182002305984, 0.10192636400461197, 0.050963182002305984, 0.050963182002305984, 0.713484525680542, 0.6844885945320129, 0.007360092364251614, 0.29440370202064514, 0.014720184728503227, 0.571276068687439, 0.0033021739218384027, 0.1419934779405594, 0.20143261551856995, 0.03962608799338341, 0.03302174061536789, 0.0066043478436768055, 0.9520046710968018, 0.31121498346328735, 0.10373832285404205, 0.4149532914161682, 0.05186916142702103, 0.05186916142702103, 0.05186916142702103, 0.18141210079193115, 0.4837656021118164, 0.06047070026397705, 0.06047070026397705, 0.06047070026397705, 0.1209414005279541, 0.10255970805883408, 0.6153582334518433, 0.10255970805883408, 0.20511941611766815, 0.9219490885734558, 0.6880662441253662, 0.11790420860052109, 0.23580841720104218, 0.11790420860052109, 0.11790420860052109, 0.47161683440208435, 0.9795087575912476, 0.4691804051399231, 0.12695088982582092, 0.8251808285713196, 0.06347544491291046, 0.345138281583786, 0.11504609137773514, 0.23009218275547028, 0.11504609137773514, 0.11504609137773514, 0.11504609137773514, 0.15481123328208923, 0.15481123328208923, 0.5160374641418457, 0.20641498267650604, 0.9263746738433838, 0.4691804051399231, 0.02914206124842167, 0.1457103043794632, 0.6994094848632812, 0.05828412249684334, 0.05828412249684334, 0.3840068578720093, 0.4800085425376892, 0.09600171446800232, 0.9219489693641663, 0.7928844690322876, 0.8301378488540649, 0.6157516241073608, 0.049260132014751434, 0.1477804034948349, 0.012315033003687859, 0.024630066007375717, 0.1354653686285019, 0.5518456101417542, 0.09197426587343216, 0.09197426587343216, 0.09197426587343216, 0.18394853174686432, 0.9246761798858643, 0.8325183391571045, 0.927029550075531, 0.5644146800041199, 0.08063066750764847, 0.08063066750764847, 0.16126133501529694, 0.08063066750764847, 0.6607991456985474, 0.07929590344429016, 0.26431965827941895, 0.07756094634532928, 0.15512189269065857, 0.7756094932556152, 0.7345296740531921, 0.9856147766113281, 0.9591352343559265, 0.02664264664053917, 0.9688308238983154, 0.3904622793197632, 0.5856934189796448, 0.4691804051399231, 0.8074527382850647, 0.04844716191291809, 0.01614905521273613, 0.11304338276386261, 0.8123289942741394, 0.46918046474456787, 0.780450701713562, 0.17343348264694214, 0.8871967792510986, 0.6636806130409241, 0.13273611664772034, 0.13273611664772034, 0.8521113991737366, 0.9219488501548767, 0.8387696146965027, 0.9219489693641663, 0.757563054561615, 0.9554776549339294, 0.27036571502685547, 0.5407314300537109, 0.6955903768539429, 0.049685027450323105, 0.049685027450323105, 0.19874010980129242, 0.9520047307014465, 0.20853377878665924, 0.7298682332038879, 0.7928845286369324, 0.9263747930526733, 0.8521113395690918, 0.8676033616065979, 0.024788666516542435, 0.012394333258271217, 0.0743660032749176, 0.024788666516542435, 0.7345296740531921, 0.9672011137008667, 0.27181825041770935, 0.09060607850551605, 0.09060607850551605, 0.5436365008354187, 0.9856148958206177, 0.1306951344013214, 0.1306951344013214, 0.6534757018089294, 0.9154745936393738, 0.026925723999738693, 0.04038858413696289, 0.013462861999869347, 0.9657658934593201, 0.8768615126609802, 0.49784421920776367, 0.49784421920776367, 0.39842793345451355, 0.009486379101872444, 0.06640465557575226, 0.09486378729343414, 0.009486379101872444, 0.028459137305617332, 0.08537741005420685, 0.04743189364671707, 0.21818672120571136, 0.04743189364671707, 0.705548107624054, 0.02755083702504635, 0.3214264512062073, 0.0459180623292923, 0.009183612652122974, 0.48673146963119507, 0.1102033481001854, 0.9931821823120117, 0.7345332503318787, 0.12287113070487976, 0.16382817924022675, 0.12287113070487976, 0.5733985900878906, 0.08191408962011337, 0.9883258938789368, 0.9033138155937195, 0.26923227310180664, 0.08974409103393555, 0.6282086372375488, 0.14443989098072052, 0.7221994996070862, 0.29161015152931213, 0.2187076061964035, 0.29161015152931213, 0.29161015152931213, 0.9520046710968018, 0.17563369870185852, 0.7903516292572021, 0.8871967792510986, 0.9688225388526917, 0.5089861154556274, 0.33932405710220337, 0.8521111607551575, 0.04504581540822983, 0.1351374387741089, 0.09009163081645966, 0.04504581540822983, 0.5855955481529236, 0.09009163081645966, 0.9856148958206177, 0.9226599931716919, 0.7494845390319824, 0.007807130925357342, 0.015614261850714684, 0.02342139184474945, 0.007807130925357342, 0.007807130925357342, 0.17175687849521637, 0.015614261850714684, 0.2735034227371216, 0.18233561515808105, 0.2735034227371216, 0.09116780757904053, 0.09116780757904053, 0.8325082063674927, 0.4870666265487671, 0.5716179013252258, 0.2858089506626129, 0.2599480450153351, 0.2599480450153351, 0.5198960900306702, 0.9520047307014465, 0.5357682704925537, 0.26788413524627686, 0.8123291730880737, 0.9246761798858643, 0.9520046710968018, 0.867456316947937, 0.7928845286369324, 0.9520046710968018, 0.9014691114425659, 0.7345296144485474, 0.7862999439239502, 0.11232855916023254, 0.09235883504152298, 0.8312295079231262, 0.454923152923584, 0.15164104104042053, 0.30328208208084106, 0.04068685322999954, 0.12206056714057922, 0.7730502486228943, 0.04068685322999954, 0.33596858382225037, 0.6719371676445007, 0.13942953944206238, 0.23238255083560944, 0.23238255083560944, 0.046476513147354126, 0.13942953944206238, 0.1859060525894165, 0.9856148958206177, 0.7353150844573975, 0.8261105418205261, 0.9520047307014465, 0.7055480480194092, 0.7575628161430359, 0.8325147032737732, 0.9520046710968018, 0.12820222973823547, 0.7692133784294128, 0.7575627565383911, 0.8768614530563354, 0.2662685811519623, 0.5325371623039246, 0.0759449228644371, 0.25314974784851074, 0.1518898457288742, 0.5062994956970215, 0.1550888866186142, 0.6203555464744568, 0.1550888866186142, 0.8261106014251709, 0.9856148958206177, 0.9585541486740112, 0.7731225490570068, 0.15462450683116913, 0.6392933130264282, 0.3196466565132141, 0.09859783202409744, 0.39439132809638977, 0.39439132809638977, 0.8325327038764954, 0.9263748526573181, 0.0792408287525177, 0.6339266300201416, 0.0792408287525177, 0.1584816575050354, 0.05680712312459946, 0.5680712461471558, 0.05680712312459946, 0.2840356230735779, 0.05680712312459946, 0.17825062572956085, 0.7130025029182434, 0.930416464805603, 0.7637059092521667, 0.018626973032951355, 0.018626973032951355, 0.1676427572965622, 0.018626973032951355, 0.018626973032951355, 0.33379167318344116, 0.035135965794324875, 0.07027193158864975, 0.1405438631772995, 0.035135965794324875, 0.07027193158864975, 0.08783991634845734, 0.15811185538768768, 0.07027193158864975, 0.9502459764480591, 0.6879069209098816, 0.13758137822151184, 0.13758137822151184, 0.8964246511459351, 0.14494481682777405, 0.09662987291812897, 0.7247240543365479, 0.9585541486740112, 0.9014690518379211, 0.09974966198205948, 0.07707928121089935, 0.16322672367095947, 0.10428373515605927, 0.004534075502306223, 0.16776078939437866, 0.04987483099102974, 0.04987483099102974, 0.2221696972846985, 0.0634770616889, 0.6880661249160767, 0.8964246511459351, 0.8866204619407654, 0.09637178480625153, 0.7561792135238647, 0.15123583376407623, 0.9428728222846985, 0.9931823015213013, 0.9520046710968018, 0.4691804051399231, 0.1616811752319336, 0.2829420566558838, 0.0404202938079834, 0.0404202938079834, 0.202101469039917, 0.2425217628479004, 0.8674562573432922, 0.8492962121963501, 0.8479427695274353, 0.4691804051399231, 0.14119762182235718, 0.14119762182235718, 0.37652698159217834, 0.23532937467098236, 0.09413174539804459, 0.8780320286750793, 0.004221308045089245, 0.03377046436071396, 0.03799177333712578, 0.00844261609017849, 0.004221308045089245, 0.02110653929412365, 0.00844261609017849, 0.9520046710968018, 0.6189975142478943, 0.12379950284957886, 0.24759900569915771, 0.8205156326293945, 0.029661666601896286, 0.029661666601896286, 0.9195116758346558, 0.029661666601896286, 0.9463901519775391, 0.887194812297821, 0.06392396241426468, 0.0821879506111145, 0.10045193880796432, 0.14611190557479858, 0.0821879506111145, 0.018263988196849823, 0.3470157980918884, 0.1552439033985138, 0.8324624300003052, 0.8325151205062866, 0.6842002272605896, 0.22806675732135773, 0.17941130697727203, 0.7176452279090881, 0.8871967196464539, 0.9520047307014465, 0.8461825251579285, 0.7345296740531921, 0.9304492473602295, 0.03648820519447327, 0.018244102597236633, 0.9806526303291321, 0.1702161282300949, 0.6808645129203796, 0.08510806411504745, 0.10362163931131363, 0.20724327862262726, 0.10362163931131363, 0.10362163931131363, 0.4144865572452545, 0.7928739786148071, 0.9699466228485107, 0.6393139362335205, 0.17048370838165283, 0.08524185419082642, 0.014206976629793644, 0.014206976629793644, 0.056827906519174576, 0.028413953259587288, 0.9714686870574951, 0.9520046710968018, 0.4583120346069336, 0.4691804051399231, 0.4870666265487671, 0.24319374561309814, 0.008685491047799587, 0.14765335619449615, 0.19976629316806793, 0.04342745617032051, 0.10422589629888535, 0.008685491047799587, 0.1389678567647934, 0.09554040431976318, 0.8429659605026245, 0.14392101764678955, 0.9520046710968018, 0.4691804051399231, 0.9761658906936646, 0.023808924481272697], \"Term\": [\"01\", \"01\", \"01\", \"01\", \"01\", \"03\", \"03\", \"1\", \"1\", \"1\", \"1\", \"1\", \"1\", \"10year\", \"112\", \"140\", \"152\", \"163\", \"2013\", \"2013\", \"2013\", \"2015\", \"2015\", \"2015\", \"2015\", \"2016\", \"2016\", \"2016\", \"2016\", \"2016\", \"2017\", \"2017\", \"2017\", \"2017\", \"2017\", \"2017\", \"2018\", \"2018\", \"2018\", \"2018\", \"2018\", \"2018\", \"2018\", \"2018\", \"2018\", \"2019\", \"2019\", \"2019\", \"2020\", \"2030\", \"2050\", \"2315786\", \"2562\", \"2wd\", \"2wd\", \"32825\", \"3732\", \"4\", \"4\", \"4\", \"4\", \"4\", \"4\", \"477259\", \"49000\", \"4year\", \"6\", \"6\", \"6\", \"645000\", \"68\", \"7eleven\", \"90\", \"97\", \"99\", \"able\", \"able\", \"able\", \"able\", \"achieving\", \"across\", \"across\", \"across\", \"across\", \"ad\", \"ad\", \"added\", \"added\", \"added\", \"added\", \"added\", \"advancing\", \"advancing\", \"aichi\", \"aichi\", \"aidt\", \"air\", \"air\", \"air\", \"alabama\", \"alert\", \"alex\", \"alliance\", \"almost\", \"almost\", \"almost\", \"almost\", \"alonso\", \"alphard\", \"also\", \"also\", \"also\", \"also\", \"also\", \"also\", \"also\", \"also\", \"although\", \"aluminum\", \"amendment\", \"ana\", \"another\", \"another\", \"another\", \"another\", \"another\", \"answer\", \"answer\", \"answer\", \"answer\", \"argue\", \"artist\", \"ashmore\", \"asian\", \"assistant\", \"audio\", \"australia\", \"australia\", \"australia\", \"australia\", \"automatic\", \"automatic\", \"automatic\", \"automobile\", \"automobile\", \"automobile\", \"automotive\", \"automotive\", \"automotive\", \"automotive\", \"automotive\", \"automotive\", \"avoid\", \"avoid\", \"avoid\", \"bag\", \"ball\", \"barrel\", \"barrel\", \"behind\", \"behind\", \"behind\", \"behind\", \"benchmark\", \"benchmark\", \"benchmark\", \"bestselling\", \"billion\", \"billion\", \"billion\", \"billion\", \"birmingham\", \"bond\", \"bond\", \"book\", \"bowl\", \"brake\", \"brake\", \"brand\", \"brand\", \"brand\", \"brent\", \"bright\", \"bumper\", \"bus\", \"business\", \"business\", \"business\", \"business\", \"business\", \"bykeki\", \"cab\", \"camino\", \"canada\", \"canadian\", \"canon\", \"capacity\", \"capacity\", \"car\", \"car\", \"car\", \"car\", \"car\", \"car\", \"car\", \"car\", \"careless\", \"casio\", \"cent\", \"cent\", \"centre\", \"chairman\", \"chairman\", \"chevrolet\", \"chevrolet\", \"chevy\", \"chevy\", \"china\", \"china\", \"china\", \"china\", \"chr\", \"chr\", \"chr\", \"chrysler\", \"chrysler\", \"chrysler\", \"circuit\", \"clean\", \"clean\", \"clean\", \"closed\", \"code\", \"code\", \"code\", \"commercial\", \"commercial\", \"commodity\", \"company\", \"company\", \"company\", \"company\", \"company\", \"company\", \"company\", \"composite\", \"concept\", \"concept\", \"concept\", \"concept\", \"concept\", \"contact\", \"contact\", \"continue\", \"continue\", \"continuing\", \"corolla\", \"corolla\", \"corolla\", \"corolla\", \"corp\", \"corp\", \"corp\", \"corp\", \"cost\", \"cost\", \"cost\", \"cost\", \"could\", \"could\", \"could\", \"could\", \"could\", \"could\", \"country\", \"country\", \"country\", \"country\", \"country\", \"country\", \"county\", \"county\", \"cowboy\", \"crawford\", \"crossback\", \"crude\", \"crude\", \"culture\", \"customer\", \"customer\", \"customer\", \"customer\", \"customer\", \"cx3\", \"cx3\", \"cx3\", \"czech\", \"d\", \"dallas\", \"damn\", \"date\", \"date\", \"dealer\", \"dealer\", \"dealer\", \"declining\", \"declining\", \"delivery\", \"dented\", \"development\", \"development\", \"development\", \"digesting\", \"dipped\", \"doll\", \"door\", \"door\", \"driveaway\", \"driven\", \"due\", \"due\", \"due\", \"due\", \"due\", \"each\", \"earnings\", \"earnings\", \"earnings\", \"economy\", \"economy\", \"economy\", \"economy\", \"electrical\", \"electrified\", \"electrified\", \"electrified\", \"ellen\", \"environmental\", \"environmental\", \"esquire\", \"esso\", \"estate\", \"eu\", \"euro\", \"eurodollar\", \"evaluated\", \"expected\", \"expected\", \"expected\", \"experienced\", \"exploration\", \"export\", \"export\", \"exporter\", \"exporter\", \"exposure\", \"f1\", \"f150\", \"factory\", \"factory\", \"fame\", \"february\", \"february\", \"february\", \"february\", \"february\", \"february\", \"fee\", \"fell\", \"fell\", \"fell\", \"fell\", \"fell\", \"fernando\", \"fiat\", \"fiat\", \"fiat\", \"fitness\", \"fitter\", \"flip\", \"followed\", \"followed\", \"followed\", \"followed\", \"follows\", \"ford\", \"ford\", \"ford\", \"ford\", \"founding\", \"freaking\", \"friday\", \"friday\", \"friday\", \"friday\", \"friday\", \"fuelcell\", \"fueled\", \"gain\", \"gain\", \"gain\", \"gaining\", \"game\", \"game\", \"game\", \"gas\", \"geller\", \"geneva\", \"given\", \"global\", \"global\", \"global\", \"global\", \"global\", \"great\", \"great\", \"great\", \"great\", \"guy\", \"hackett\", \"hall\", \"hemisphere\", \"higher\", \"higher\", \"higher\", \"higher\", \"hilux\", \"hit\", \"hit\", \"hit\", \"hit\", \"hma\", \"hmca\", \"hong\", \"hovered\", \"however\", \"however\", \"however\", \"however\", \"however\", \"httpsbloombg2e7pz4e\", \"hydrogen\", \"hyundai\", \"hyundai\", \"hyundai\", \"i81\", \"id\", \"improving\", \"inched\", \"increase\", \"increase\", \"increase\", \"increase\", \"increase\", \"increase\", \"increased\", \"increased\", \"increased\", \"index\", \"index\", \"industry\", \"industry\", \"industry\", \"industry\", \"industry\", \"inflating\", \"inflation\", \"info\", \"inpex\", \"inspect\", \"interest\", \"interface\", \"interview\", \"investor\", \"investor\", \"investor\", \"investor\", \"january\", \"january\", \"january\", \"january\", \"january\", \"january\", \"japan\", \"japan\", \"japan\", \"japan\", \"japan\", \"japan\", \"japan\", \"job\", \"job\", \"job\", \"job\", \"job\", \"john\", \"jose\", \"karakuri\", \"kdc\", \"key\", \"key\", \"key\", \"kia\", \"kia\", \"kia\", \"kobe\", \"kodiaq\", \"kong\", \"kongs\", \"korea\", \"kospi\", \"kostrna\", \"labor\", \"last\", \"last\", \"last\", \"last\", \"last\", \"last\", \"latest\", \"latest\", \"latest\", \"latest\", \"latest\", \"law\", \"le\", \"le\", \"le\", \"leader\", \"leader\", \"left\", \"left\", \"left\", \"left\", \"letter\", \"levin\", \"lexus\", \"lexus\", \"lexus\", \"lexus\", \"lexus\", \"like\", \"like\", \"like\", \"like\", \"like\", \"like\", \"like\", \"likely\", \"likely\", \"likely\", \"likely\", \"line\", \"line\", \"line\", \"line\", \"line\", \"link\", \"link\", \"livestock\", \"losing\", \"lot\", \"low\", \"low\", \"low\", \"low\", \"low\", \"lower\", \"lower\", \"lower\", \"lower\", \"lower\", \"luis\", \"magazine\", \"man\", \"man\", \"man\", \"man\", \"march\", \"margin\", \"margin\", \"market\", \"market\", \"market\", \"market\", \"market\", \"market\", \"market\", \"market\", \"mass\", \"matcha\", \"may\", \"may\", \"may\", \"may\", \"may\", \"may\", \"may\", \"maybe\", \"mclaren\", \"meaningful\", \"mediacamera\", \"meeting\", \"meeting\", \"member\", \"member\", \"member\", \"michael\", \"mickey\", \"mile\", \"mile\", \"mileage\", \"milestone\", \"million\", \"million\", \"million\", \"million\", \"million\", \"million\", \"million\", \"minolta\", \"mitsui\", \"mixed\", \"mixed\", \"mixed\", \"mixed\", \"mixed\", \"mobility\", \"model\", \"model\", \"model\", \"model\", \"model\", \"model\", \"month\", \"month\", \"month\", \"month\", \"month\", \"month\", \"month\", \"mostly\", \"mostly\", \"motor\", \"motor\", \"motor\", \"motor\", \"motor\", \"motor\", \"motor\", \"motor\", \"museum\", \"nation\", \"navigation\", \"necessary\", \"necessary\", \"need\", \"need\", \"need\", \"need\", \"new\", \"new\", \"new\", \"new\", \"new\", \"new\", \"new\", \"new\", \"new\", \"news\", \"news\", \"news\", \"news\", \"news\", \"news\", \"newsdayatnite\", \"nice\", \"ninemonth\", \"noah\", \"normal\", \"notify\", \"ntcar\", \"nx\", \"nx\", \"nx\", \"nx\", \"occur\", \"offer\", \"offer\", \"offer\", \"oil\", \"oil\", \"oil\", \"oil\", \"oil\", \"old\", \"old\", \"olive\", \"one\", \"one\", \"one\", \"one\", \"one\", \"one\", \"one\", \"one\", \"opec\", \"open\", \"open\", \"operating\", \"operating\", \"operating\", \"overhaul\", \"overnight\", \"overturned\", \"owner\", \"owner\", \"owner\", \"pace\", \"pace\", \"pace\", \"parity\", \"passenger\", \"passenger\", \"passenger\", \"passenger\", \"passenger\", \"per\", \"per\", \"per\", \"per\", \"percent\", \"percent\", \"percent\", \"percent\", \"percent\", \"percent\", \"percent\", \"petroleum\", \"photo\", \"photo\", \"photo\", \"photo\", \"photo\", \"photo\", \"pickup\", \"pickup\", \"pickup\", \"pickup\", \"pickup\", \"pickup\", \"picture\", \"picture\", \"picture\", \"picture\", \"pictwittercomkaq8xmirlv\", \"pig\", \"plan\", \"plan\", \"plan\", \"plan\", \"plan\", \"plate\", \"platform\", \"player\", \"player\", \"player\", \"pm\", \"pm\", \"pm\", \"pm\", \"pm\", \"pm\", \"point\", \"point\", \"point\", \"point\", \"polo\", \"positively\", \"post\", \"post\", \"post\", \"post\", \"post\", \"power\", \"power\", \"power\", \"powertrains\", \"prefecture\", \"presentation\", \"price\", \"price\", \"price\", \"price\", \"price\", \"price\", \"prius\", \"prius\", \"prius\", \"prius\", \"prius\", \"prize\", \"probox\", \"produced\", \"production\", \"production\", \"production\", \"production\", \"production\", \"profit\", \"profit\", \"profit\", \"program\", \"program\", \"program\", \"programme\", \"prospect\", \"providing\", \"providing\", \"qr\", \"r\", \"r\", \"rae\", \"rate\", \"rate\", \"rate\", \"rate\", \"rationale\", \"reaching\", \"real\", \"real\", \"realize\", \"recall\", \"recall\", \"recall\", \"recalling\", \"recognize\", \"redesign\", \"reducing\", \"refurbished\", \"registration\", \"regular\", \"regular\", \"release\", \"release\", \"release\", \"release\", \"reluctant\", \"renault\", \"renault\", \"renewable\", \"rental\", \"replace\", \"report\", \"report\", \"report\", \"report\", \"report\", \"residence\", \"review\", \"right\", \"right\", \"right\", \"right\", \"risen\", \"road\", \"road\", \"road\", \"rose\", \"rose\", \"rose\", \"rose\", \"ruck\", \"rugby\", \"rx\", \"rx\", \"said\", \"said\", \"said\", \"said\", \"said\", \"said\", \"said\", \"said\", \"said\", \"said\", \"sakarya\", \"sale\", \"sale\", \"sale\", \"sale\", \"sale\", \"sale\", \"sank\", \"santa\", \"say\", \"say\", \"say\", \"say\", \"say\", \"score\", \"scrum\", \"season\", \"season\", \"season\", \"second\", \"second\", \"sector\", \"sector\", \"sector\", \"sector\", \"seemed\", \"segment\", \"segment\", \"selden\", \"seng\", \"sensor\", \"sensor\", \"serial\", \"service\", \"service\", \"service\", \"service\", \"service\", \"service\", \"shanghai\", \"shank\", \"share\", \"share\", \"share\", \"share\", \"share\", \"share\", \"share\", \"share\", \"side\", \"side\", \"side\", \"side\", \"side\", \"sienta\", \"silly\", \"sits\", \"sits\", \"six\", \"six\", \"six\", \"sixday\", \"skoda\", \"skoda\", \"sled\", \"smile\", \"snapped\", \"snowmobile\", \"society\", \"softbank\", \"soul\", \"southern\", \"spec\", \"spec\", \"staff\", \"staff\", \"starting\", \"starting\", \"starting\", \"state\", \"state\", \"state\", \"state\", \"steel\", \"steel\", \"still\", \"still\", \"still\", \"still\", \"still\", \"still\", \"stoking\", \"stop\", \"stopped\", \"streak\", \"subcompact\", \"subscription\", \"succeed\", \"sumitomo\", \"supplier\", \"supplier\", \"supply\", \"suspect\", \"sustainable\", \"sustainable\", \"suv\", \"suv\", \"suv\", \"suv\", \"suzuki\", \"suzuki\", \"suzuki\", \"swerved\", \"swiftly\", \"table\", \"tackle\", \"tackle\", \"tacoma\", \"tacoma\", \"target\", \"target\", \"target\", \"taxi\", \"taylor\", \"team\", \"team\", \"team\", \"team\", \"technology\", \"technology\", \"technology\", \"technology\", \"technology\", \"tesla\", \"tesla\", \"text\", \"thursday\", \"thursday\", \"thursday\", \"thursday\", \"thursday\", \"thursday\", \"time\", \"time\", \"time\", \"time\", \"time\", \"time\", \"time\", \"time\", \"time\", \"tire\", \"tm\", \"tm\", \"tm\", \"tmmc\", \"top\", \"top\", \"top\", \"touchscreen\", \"tour\", \"toyota\", \"toyota\", \"toyota\", \"toyota\", \"toyota\", \"toyota\", \"toyota\", \"toyota\", \"toyota\", \"toyota\", \"tractortrailer\", \"trader\", \"trading\", \"trading\", \"traditional\", \"traditional\", \"training\", \"treasury\", \"trillion\", \"troc\", \"truck\", \"truck\", \"truck\", \"truck\", \"truck\", \"truck\", \"trujillo\", \"tundra\", \"turkey\", \"turkish\", \"two\", \"two\", \"two\", \"two\", \"two\", \"u\", \"u\", \"u\", \"u\", \"u\", \"u\", \"u\", \"u\", \"ufj\", \"uk\", \"uk\", \"uk\", \"unemployment\", \"unit\", \"unit\", \"unit\", \"unit\", \"unsolicited\", \"v8\", \"vehicle\", \"vehicle\", \"vehicle\", \"vehicle\", \"vehicle\", \"vehicle\", \"vehicle\", \"vehicle\", \"vellfire\", \"voxy\", \"warning\", \"warning\", \"warranty\", \"warranty\", \"waste\", \"watched\", \"weaving\", \"wec\", \"week\", \"week\", \"week\", \"weigh\", \"win\", \"win\", \"win\", \"wont\", \"wont\", \"wont\", \"wont\", \"wont\", \"wood\", \"workforce\", \"world\", \"world\", \"world\", \"world\", \"world\", \"world\", \"world\", \"worry\", \"wti\", \"wythe\", \"x\", \"yan\", \"year\", \"year\", \"year\", \"year\", \"year\", \"year\", \"year\", \"year\", \"year\", \"yen\", \"yen\", \"yenrange\", \"yesterday\", \"yield\", \"yield\"]}, \"R\": 30, \"lambda.step\": 0.01, \"plot.opts\": {\"xlab\": \"PC1\", \"ylab\": \"PC2\"}, \"topic.order\": [1, 2, 3, 4, 5, 6, 7, 8, 9, 10]};\n",
       "\n",
       "function LDAvis_load_lib(url, callback){\n",
       "  var s = document.createElement('script');\n",
       "  s.src = url;\n",
       "  s.async = true;\n",
       "  s.onreadystatechange = s.onload = callback;\n",
       "  s.onerror = function(){console.warn(\"failed to load library \" + url);};\n",
       "  document.getElementsByTagName(\"head\")[0].appendChild(s);\n",
       "}\n",
       "\n",
       "if(typeof(LDAvis) !== \"undefined\"){\n",
       "   // already loaded: just create the visualization\n",
       "   !function(LDAvis){\n",
       "       new LDAvis(\"#\" + \"ldavis_el100606337702964511866145\", ldavis_el100606337702964511866145_data);\n",
       "   }(LDAvis);\n",
       "}else if(typeof define === \"function\" && define.amd){\n",
       "   // require.js is available: use it to load d3/LDAvis\n",
       "   require.config({paths: {d3: \"https://cdnjs.cloudflare.com/ajax/libs/d3/3.5.5/d3.min\"}});\n",
       "   require([\"d3\"], function(d3){\n",
       "      window.d3 = d3;\n",
       "      LDAvis_load_lib(\"https://cdn.rawgit.com/bmabey/pyLDAvis/files/ldavis.v1.0.0.js\", function(){\n",
       "        new LDAvis(\"#\" + \"ldavis_el100606337702964511866145\", ldavis_el100606337702964511866145_data);\n",
       "      });\n",
       "    });\n",
       "}else{\n",
       "    // require.js not available: dynamically load d3 & LDAvis\n",
       "    LDAvis_load_lib(\"https://cdnjs.cloudflare.com/ajax/libs/d3/3.5.5/d3.min.js\", function(){\n",
       "         LDAvis_load_lib(\"https://cdn.rawgit.com/bmabey/pyLDAvis/files/ldavis.v1.0.0.js\", function(){\n",
       "                 new LDAvis(\"#\" + \"ldavis_el100606337702964511866145\", ldavis_el100606337702964511866145_data);\n",
       "            })\n",
       "         });\n",
       "}\n",
       "</script>"
      ],
      "text/plain": [
       "<IPython.core.display.HTML object>"
      ]
     },
     "execution_count": 119,
     "metadata": {},
     "output_type": "execute_result"
    }
   ],
   "source": [
    "lda_display = pyLDAvis.gensim.prepare(ldamodel, doc_term_matrix, dictionary, sort_topics=False, mds='mmds')\n",
    "pyLDAvis.display(lda_display)"
   ]
  },
  {
   "cell_type": "code",
   "execution_count": null,
   "metadata": {},
   "outputs": [],
   "source": []
  },
  {
   "cell_type": "code",
   "execution_count": null,
   "metadata": {},
   "outputs": [],
   "source": []
  }
 ],
 "metadata": {
  "anaconda-cloud": {},
  "kernelspec": {
   "display_name": "Python 3",
   "language": "python",
   "name": "python3"
  },
  "language_info": {
   "codemirror_mode": {
    "name": "ipython",
    "version": 3
   },
   "file_extension": ".py",
   "mimetype": "text/x-python",
   "name": "python",
   "nbconvert_exporter": "python",
   "pygments_lexer": "ipython3",
   "version": "3.7.2"
  }
 },
 "nbformat": 4,
 "nbformat_minor": 1
}
