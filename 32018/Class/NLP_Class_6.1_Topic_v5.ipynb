{
 "cells": [
  {
   "cell_type": "markdown",
   "metadata": {},
   "source": [
    "## Advanced text mining with Python - Topic Modeling"
   ]
  },
  {
   "cell_type": "markdown",
   "metadata": {},
   "source": []
  },
  {
   "cell_type": "code",
   "execution_count": 1,
   "metadata": {},
   "outputs": [],
   "source": [
    "#!pip install pyLDAvis"
   ]
  },
  {
   "cell_type": "code",
   "execution_count": 2,
   "metadata": {},
   "outputs": [
    {
     "name": "stdout",
     "output_type": "stream",
     "text": [
      "3.7.2 (default, Feb 12 2019, 08:15:36) \n",
      "[Clang 10.0.0 (clang-1000.11.45.5)]\n"
     ]
    }
   ],
   "source": [
    "import sys\n",
    "print(sys.version)"
   ]
  },
  {
   "cell_type": "code",
   "execution_count": 3,
   "metadata": {},
   "outputs": [],
   "source": [
    "import warnings\n",
    "warnings.filterwarnings(\"ignore\", category=FutureWarning)\n",
    "warnings.filterwarnings(\"ignore\", category=DeprecationWarning)"
   ]
  },
  {
   "cell_type": "code",
   "execution_count": 4,
   "metadata": {},
   "outputs": [],
   "source": [
    "import time\n",
    "import math\n",
    "import re\n",
    "from textblob import TextBlob\n",
    "import pandas as pd\n",
    "\n",
    "import nltk as nltk\n",
    "from nltk.corpus import stopwords\n",
    "from nltk.stem.wordnet import WordNetLemmatizer\n",
    "\n",
    "import string\n",
    "\n",
    "import warnings\n",
    "warnings.filterwarnings(action='ignore', category=UserWarning, module='gensim')\n",
    "\n",
    "import gensim\n",
    "from gensim import corpora, models\n",
    "from gensim.models.ldamulticore import LdaMulticore\n",
    "import pyLDAvis.gensim\n",
    "\n"
   ]
  },
  {
   "cell_type": "code",
   "execution_count": 5,
   "metadata": {},
   "outputs": [],
   "source": [
    "directory = '~/Datasets/32018/'\n",
    "#file = 'jeep.txt'\n",
    "file = 'jeep_new.txt'\n",
    "path = directory + file"
   ]
  },
  {
   "cell_type": "code",
   "execution_count": 6,
   "metadata": {},
   "outputs": [],
   "source": [
    "tweets = pd.read_csv(path,sep='\\t', names = ['id', 'lang', 'created_at', 'screen_name', \\\n",
    "                                                       'name', 'location', 'retweet_count', 'text'])"
   ]
  },
  {
   "cell_type": "code",
   "execution_count": 7,
   "metadata": {},
   "outputs": [
    {
     "data": {
      "text/plain": [
       "id               68921\n",
       "lang             68921\n",
       "created_at       68921\n",
       "screen_name      68921\n",
       "name             68920\n",
       "location         46879\n",
       "retweet_count    68921\n",
       "text             68921\n",
       "dtype: int64"
      ]
     },
     "execution_count": 7,
     "metadata": {},
     "output_type": "execute_result"
    }
   ],
   "source": [
    "tweets.count()"
   ]
  },
  {
   "cell_type": "code",
   "execution_count": 8,
   "metadata": {},
   "outputs": [
    {
     "data": {
      "text/html": [
       "<div>\n",
       "<style scoped>\n",
       "    .dataframe tbody tr th:only-of-type {\n",
       "        vertical-align: middle;\n",
       "    }\n",
       "\n",
       "    .dataframe tbody tr th {\n",
       "        vertical-align: top;\n",
       "    }\n",
       "\n",
       "    .dataframe thead th {\n",
       "        text-align: right;\n",
       "    }\n",
       "</style>\n",
       "<table border=\"1\" class=\"dataframe\">\n",
       "  <thead>\n",
       "    <tr style=\"text-align: right;\">\n",
       "      <th></th>\n",
       "      <th>id</th>\n",
       "      <th>lang</th>\n",
       "      <th>created_at</th>\n",
       "      <th>screen_name</th>\n",
       "      <th>name</th>\n",
       "      <th>location</th>\n",
       "      <th>retweet_count</th>\n",
       "      <th>text</th>\n",
       "    </tr>\n",
       "  </thead>\n",
       "  <tbody>\n",
       "    <tr>\n",
       "      <th>0</th>\n",
       "      <td>9.222399e+17</td>\n",
       "      <td>en</td>\n",
       "      <td>Sun Oct 22 23:15:03 +0000 2017</td>\n",
       "      <td>alyssa_rose4</td>\n",
       "      <td>Princess Alyssa♛</td>\n",
       "      <td>Chicago, IL</td>\n",
       "      <td>0.0</td>\n",
       "      <td>@Rachel_31297 where’s the Jeep Wrangler option</td>\n",
       "    </tr>\n",
       "    <tr>\n",
       "      <th>1</th>\n",
       "      <td>9.222399e+17</td>\n",
       "      <td>en</td>\n",
       "      <td>Sun Oct 22 23:15:09 +0000 2017</td>\n",
       "      <td>negocialoya_us</td>\n",
       "      <td>NegocialoYa USA</td>\n",
       "      <td>Estados Unidos</td>\n",
       "      <td>0.0</td>\n",
       "      <td>Check this out: 2016 JEEP PATRIOT LATITUDE 4X4...</td>\n",
       "    </tr>\n",
       "    <tr>\n",
       "      <th>2</th>\n",
       "      <td>9.222400e+17</td>\n",
       "      <td>tl</td>\n",
       "      <td>Sun Oct 22 23:15:14 +0000 2017</td>\n",
       "      <td>Jasmne_abr</td>\n",
       "      <td>Jas</td>\n",
       "      <td>blueberry</td>\n",
       "      <td>0.0</td>\n",
       "      <td>Kadugay sa jeep</td>\n",
       "    </tr>\n",
       "    <tr>\n",
       "      <th>3</th>\n",
       "      <td>9.222400e+17</td>\n",
       "      <td>en</td>\n",
       "      <td>Sun Oct 22 23:15:15 +0000 2017</td>\n",
       "      <td>JFCO38</td>\n",
       "      <td>JUAN FCO</td>\n",
       "      <td>NaN</td>\n",
       "      <td>0.0</td>\n",
       "      <td>RT @Jeep: The Grand Cherokee Trackhawk is offi...</td>\n",
       "    </tr>\n",
       "    <tr>\n",
       "      <th>4</th>\n",
       "      <td>9.222400e+17</td>\n",
       "      <td>tl</td>\n",
       "      <td>Sun Oct 22 23:15:15 +0000 2017</td>\n",
       "      <td>MaestreRaymond</td>\n",
       "      <td>Jin Rae Min</td>\n",
       "      <td>Northern Mindanao</td>\n",
       "      <td>0.0</td>\n",
       "      <td>Kadugay mularga sa jeep nga kadali ko😬😭</td>\n",
       "    </tr>\n",
       "    <tr>\n",
       "      <th>5</th>\n",
       "      <td>9.222400e+17</td>\n",
       "      <td>tl</td>\n",
       "      <td>Sun Oct 22 23:15:21 +0000 2017</td>\n",
       "      <td>troyxaquino</td>\n",
       "      <td>Troy</td>\n",
       "      <td>NaN</td>\n",
       "      <td>0.0</td>\n",
       "      <td>Bang luluwag ng mga jeep hahaha</td>\n",
       "    </tr>\n",
       "    <tr>\n",
       "      <th>6</th>\n",
       "      <td>9.222400e+17</td>\n",
       "      <td>en</td>\n",
       "      <td>Sun Oct 22 23:15:27 +0000 2017</td>\n",
       "      <td>LifeForTrucker</td>\n",
       "      <td>TruckerForLife™</td>\n",
       "      <td>United States</td>\n",
       "      <td>0.0</td>\n",
       "      <td>RT @Jeep: Power stance. https://t.co/kl0oC8Xvof</td>\n",
       "    </tr>\n",
       "    <tr>\n",
       "      <th>7</th>\n",
       "      <td>9.222400e+17</td>\n",
       "      <td>en</td>\n",
       "      <td>Sun Oct 22 23:15:30 +0000 2017</td>\n",
       "      <td>rpx53</td>\n",
       "      <td>Rod O|||||||O</td>\n",
       "      <td>Where the blacktop ends</td>\n",
       "      <td>0.0</td>\n",
       "      <td>@THEJeepMafia @Jeep Thanks, 28° but Chaos and ...</td>\n",
       "    </tr>\n",
       "    <tr>\n",
       "      <th>8</th>\n",
       "      <td>9.222400e+17</td>\n",
       "      <td>tl</td>\n",
       "      <td>Sun Oct 22 23:15:34 +0000 2017</td>\n",
       "      <td>ronneldash</td>\n",
       "      <td>🏳️‍🌈ROX🏳️‍🌈</td>\n",
       "      <td>St. Paul</td>\n",
       "      <td>0.0</td>\n",
       "      <td>tangina mula 6:00 nasa sakayan ako tas 7:30 na...</td>\n",
       "    </tr>\n",
       "    <tr>\n",
       "      <th>9</th>\n",
       "      <td>9.222401e+17</td>\n",
       "      <td>tl</td>\n",
       "      <td>Sun Oct 22 23:15:49 +0000 2017</td>\n",
       "      <td>FayeUsi</td>\n",
       "      <td>aria</td>\n",
       "      <td>Las Pinas City, National Capit</td>\n",
       "      <td>0.0</td>\n",
       "      <td>@Dncyngs ikaw yung nakakasabay ko lagi sa jeep...</td>\n",
       "    </tr>\n",
       "  </tbody>\n",
       "</table>\n",
       "</div>"
      ],
      "text/plain": [
       "             id lang                      created_at     screen_name  \\\n",
       "0  9.222399e+17   en  Sun Oct 22 23:15:03 +0000 2017    alyssa_rose4   \n",
       "1  9.222399e+17   en  Sun Oct 22 23:15:09 +0000 2017  negocialoya_us   \n",
       "2  9.222400e+17   tl  Sun Oct 22 23:15:14 +0000 2017      Jasmne_abr   \n",
       "3  9.222400e+17   en  Sun Oct 22 23:15:15 +0000 2017          JFCO38   \n",
       "4  9.222400e+17   tl  Sun Oct 22 23:15:15 +0000 2017  MaestreRaymond   \n",
       "5  9.222400e+17   tl  Sun Oct 22 23:15:21 +0000 2017     troyxaquino   \n",
       "6  9.222400e+17   en  Sun Oct 22 23:15:27 +0000 2017  LifeForTrucker   \n",
       "7  9.222400e+17   en  Sun Oct 22 23:15:30 +0000 2017           rpx53   \n",
       "8  9.222400e+17   tl  Sun Oct 22 23:15:34 +0000 2017      ronneldash   \n",
       "9  9.222401e+17   tl  Sun Oct 22 23:15:49 +0000 2017         FayeUsi   \n",
       "\n",
       "               name                        location  retweet_count  \\\n",
       "0  Princess Alyssa♛                     Chicago, IL            0.0   \n",
       "1   NegocialoYa USA                  Estados Unidos            0.0   \n",
       "2               Jas                       blueberry            0.0   \n",
       "3          JUAN FCO                             NaN            0.0   \n",
       "4       Jin Rae Min               Northern Mindanao            0.0   \n",
       "5              Troy                             NaN            0.0   \n",
       "6   TruckerForLife™                   United States            0.0   \n",
       "7     Rod O|||||||O         Where the blacktop ends            0.0   \n",
       "8       🏳️‍🌈ROX🏳️‍🌈                        St. Paul            0.0   \n",
       "9              aria  Las Pinas City, National Capit            0.0   \n",
       "\n",
       "                                                text  \n",
       "0     @Rachel_31297 where’s the Jeep Wrangler option  \n",
       "1  Check this out: 2016 JEEP PATRIOT LATITUDE 4X4...  \n",
       "2                                    Kadugay sa jeep  \n",
       "3  RT @Jeep: The Grand Cherokee Trackhawk is offi...  \n",
       "4            Kadugay mularga sa jeep nga kadali ko😬😭  \n",
       "5                    Bang luluwag ng mga jeep hahaha  \n",
       "6    RT @Jeep: Power stance. https://t.co/kl0oC8Xvof  \n",
       "7  @THEJeepMafia @Jeep Thanks, 28° but Chaos and ...  \n",
       "8  tangina mula 6:00 nasa sakayan ako tas 7:30 na...  \n",
       "9  @Dncyngs ikaw yung nakakasabay ko lagi sa jeep...  "
      ]
     },
     "execution_count": 8,
     "metadata": {},
     "output_type": "execute_result"
    }
   ],
   "source": [
    "tweets.head(10)"
   ]
  },
  {
   "cell_type": "code",
   "execution_count": 9,
   "metadata": {},
   "outputs": [],
   "source": [
    "# Filter non-English tweets\n",
    "tweets_eng = tweets[tweets['lang']=='en'].reset_index(drop=True)"
   ]
  },
  {
   "cell_type": "code",
   "execution_count": 10,
   "metadata": {},
   "outputs": [],
   "source": [
    "# Remove special characters to avoid problems with analysis\n",
    "tweets_eng['text_clean'] = tweets_eng['text'].map(lambda x: re.sub('[^a-zA-Z0-9 @ . , : - _]', '', str(x)))"
   ]
  },
  {
   "cell_type": "code",
   "execution_count": 11,
   "metadata": {},
   "outputs": [
    {
     "data": {
      "text/html": [
       "<div>\n",
       "<style scoped>\n",
       "    .dataframe tbody tr th:only-of-type {\n",
       "        vertical-align: middle;\n",
       "    }\n",
       "\n",
       "    .dataframe tbody tr th {\n",
       "        vertical-align: top;\n",
       "    }\n",
       "\n",
       "    .dataframe thead th {\n",
       "        text-align: right;\n",
       "    }\n",
       "</style>\n",
       "<table border=\"1\" class=\"dataframe\">\n",
       "  <thead>\n",
       "    <tr style=\"text-align: right;\">\n",
       "      <th></th>\n",
       "      <th>text</th>\n",
       "      <th>text_clean</th>\n",
       "    </tr>\n",
       "  </thead>\n",
       "  <tbody>\n",
       "    <tr>\n",
       "      <th>0</th>\n",
       "      <td>@Rachel_31297 where’s the Jeep Wrangler option</td>\n",
       "      <td>@Rachel_31297 wheres the Jeep Wrangler option</td>\n",
       "    </tr>\n",
       "    <tr>\n",
       "      <th>1</th>\n",
       "      <td>Check this out: 2016 JEEP PATRIOT LATITUDE 4X4 - $8500 (MIAMI-DADE) 8500.00 USD https://t.co/akP...</td>\n",
       "      <td>Check this out: 2016 JEEP PATRIOT LATITUDE 4X4  8500 MIAMIDADE 8500.00 USD https:t.coakPkANPpEn ...</td>\n",
       "    </tr>\n",
       "    <tr>\n",
       "      <th>2</th>\n",
       "      <td>RT @Jeep: The Grand Cherokee Trackhawk is officially in production. Keep your eyes peeled for on...</td>\n",
       "      <td>RT @Jeep: The Grand Cherokee Trackhawk is officially in production. Keep your eyes peeled for on...</td>\n",
       "    </tr>\n",
       "    <tr>\n",
       "      <th>3</th>\n",
       "      <td>RT @Jeep: Power stance. https://t.co/kl0oC8Xvof</td>\n",
       "      <td>RT @Jeep: Power stance. https:t.cokl0oC8Xvof</td>\n",
       "    </tr>\n",
       "    <tr>\n",
       "      <th>4</th>\n",
       "      <td>@THEJeepMafia @Jeep Thanks, 28° but Chaos and Bear were awesome feet warmers! 🐾🐾 https://t.co/nN...</td>\n",
       "      <td>@THEJeepMafia @Jeep Thanks, 28 but Chaos and Bear were awesome feet warmers  https:t.conNIoaRVXlW</td>\n",
       "    </tr>\n",
       "  </tbody>\n",
       "</table>\n",
       "</div>"
      ],
      "text/plain": [
       "                                                                                                  text  \\\n",
       "0                                                       @Rachel_31297 where’s the Jeep Wrangler option   \n",
       "1  Check this out: 2016 JEEP PATRIOT LATITUDE 4X4 - $8500 (MIAMI-DADE) 8500.00 USD https://t.co/akP...   \n",
       "2  RT @Jeep: The Grand Cherokee Trackhawk is officially in production. Keep your eyes peeled for on...   \n",
       "3                                                      RT @Jeep: Power stance. https://t.co/kl0oC8Xvof   \n",
       "4  @THEJeepMafia @Jeep Thanks, 28° but Chaos and Bear were awesome feet warmers! 🐾🐾 https://t.co/nN...   \n",
       "\n",
       "                                                                                            text_clean  \n",
       "0                                                        @Rachel_31297 wheres the Jeep Wrangler option  \n",
       "1  Check this out: 2016 JEEP PATRIOT LATITUDE 4X4  8500 MIAMIDADE 8500.00 USD https:t.coakPkANPpEn ...  \n",
       "2  RT @Jeep: The Grand Cherokee Trackhawk is officially in production. Keep your eyes peeled for on...  \n",
       "3                                                         RT @Jeep: Power stance. https:t.cokl0oC8Xvof  \n",
       "4    @THEJeepMafia @Jeep Thanks, 28 but Chaos and Bear were awesome feet warmers  https:t.conNIoaRVXlW  "
      ]
     },
     "execution_count": 11,
     "metadata": {},
     "output_type": "execute_result"
    }
   ],
   "source": [
    "pd.set_option('display.max_colwidth', 100)\n",
    "tweets_eng[['text', 'text_clean']].head(5)"
   ]
  },
  {
   "cell_type": "markdown",
   "metadata": {},
   "source": [
    "## Topic Modeling\n",
    "#### Topics can be defined as “a repeating pattern of co-occurring terms in a corpus”"
   ]
  },
  {
   "cell_type": "markdown",
   "metadata": {},
   "source": [
    "### TF-IDF (term frequency–inverse document frequency)"
   ]
  },
  {
   "cell_type": "markdown",
   "metadata": {},
   "source": [
    "#### Using TextBlob functionality to create TF-IDF function for our select Tweets"
   ]
  },
  {
   "cell_type": "code",
   "execution_count": 12,
   "metadata": {},
   "outputs": [],
   "source": [
    "# http://stevenloria.com/finding-important-words-in-a-document-using-tf-idf/\n",
    "\n",
    "def tf(word, blob):\n",
    "    return blob.words.count(word) / len(blob.words)\n",
    "# tf(word, blob) computes \"term frequency\" which is the number of times a word appears in a document blob, \n",
    "# normalized by dividing by the total number of words in blob. We use TextBlob for breaking up the text into words \n",
    "# and getting the word counts.\n",
    "\n",
    "\n",
    "def n_containing(word, bloblist):\n",
    "    return sum(1 for blob in bloblist if word in blob.words)\n",
    "# n_containing(word, bloblist) returns the number of documents containing word. \n",
    "# A generator expression is passed to the sum() function.\n",
    "\n",
    "\n",
    "def idf(word, bloblist):\n",
    "    return math.log(len(bloblist) / (1 + n_containing(word, bloblist)))\n",
    "# idf(word, bloblist) computes \"inverse document frequency\" which measures how common a word is \n",
    "# among all documents in bloblist. The more common a word is, the lower its idf. \n",
    "# We take the ratio of the total number of documents to the number of documents containing word, \n",
    "# then take the log of that. Add 1 to the divisor to prevent division by zero\n",
    "\n",
    "\n",
    "def tfidf(word, blob, bloblist):\n",
    "    return tf(word, blob) * idf(word, bloblist)\n",
    "# tfidf(word, blob, bloblist) computes the TF-IDF score. It is simply the product of tf and idf."
   ]
  },
  {
   "cell_type": "code",
   "execution_count": 13,
   "metadata": {},
   "outputs": [
    {
     "data": {
      "text/plain": [
       "40704"
      ]
     },
     "execution_count": 13,
     "metadata": {},
     "output_type": "execute_result"
    }
   ],
   "source": [
    "bloblist = []\n",
    "del bloblist[:]\n",
    "\n",
    "for i  in range(0,len(tweets_eng)):\n",
    "    bloblist.append(TextBlob(tweets_eng['text_clean'].iloc[i]))\n",
    "    \n",
    "len(bloblist)  "
   ]
  },
  {
   "cell_type": "code",
   "execution_count": 14,
   "metadata": {},
   "outputs": [
    {
     "name": "stdout",
     "output_type": "stream",
     "text": [
      "Top words in tweet 1\n",
      "\tWord: Rachel_31297, TF-IDF: 1.65349\n",
      "\tWord: wheres, TF-IDF: 1.50077\n",
      "\tWord: option, TF-IDF: 1.226\n",
      "\tWord: Wrangler, TF-IDF: 0.38572\n",
      "\tWord: the, TF-IDF: 0.28659\n",
      "Top words in tweet 2\n",
      "\tWord: t.coakPkANPpEn, TF-IDF: 0.58358\n",
      "\tWord: t.coL2WaZBsUTf, TF-IDF: 0.58358\n",
      "\tWord: MIAMIDADE, TF-IDF: 0.55973\n",
      "\tWord: 8500.00, TF-IDF: 0.55973\n",
      "\tWord: 8500, TF-IDF: 0.51896\n",
      "Top words in tweet 3\n",
      "\tWord: t.cobbiPfPXXax, TF-IDF: 0.34509\n",
      "\tWord: peeled, TF-IDF: 0.34191\n",
      "\tWord: Keep, TF-IDF: 0.31915\n",
      "\tWord: wild, TF-IDF: 0.31915\n",
      "\tWord: officially, TF-IDF: 0.31637\n",
      "Top words in tweet 4\n",
      "\tWord: t.cokl0oC8Xvof, TF-IDF: 0.89363\n",
      "\tWord: stance, TF-IDF: 0.89104\n",
      "\tWord: Power, TF-IDF: 0.85214\n",
      "\tWord: RT, TF-IDF: 0.18822\n",
      "\tWord: Jeep, TF-IDF: 0.06069\n",
      "Top words in tweet 5\n",
      "\tWord: t.conNIoaRVXlW, TF-IDF: 0.70864\n",
      "\tWord: warmers, TF-IDF: 0.65913\n",
      "\tWord: Chaos, TF-IDF: 0.63017\n",
      "\tWord: Bear, TF-IDF: 0.60962\n",
      "\tWord: feet, TF-IDF: 0.56011\n"
     ]
    }
   ],
   "source": [
    "for i, blob in enumerate(bloblist):\n",
    "# Print top 5 values\n",
    "    if i == 5:\n",
    "        break\n",
    "    print(\"Top words in tweet {}\".format(i + 1))\n",
    "    scores = {word: tfidf(word, blob, bloblist) for word in blob.words}\n",
    "    sorted_words = sorted(scores.items(), key=lambda x: x[1], reverse=True)\n",
    "    for word, score in sorted_words[:5]:\n",
    "        print(\"\\tWord: {}, TF-IDF: {}\".format(word, round(score, 5)))"
   ]
  },
  {
   "cell_type": "markdown",
   "metadata": {
    "collapsed": true
   },
   "source": [
    "## LDA (latent dirichlet allocation)\n",
    "#### LDA is a matrix factorization technique, which assumes documents are produced from a mixture of topics. Those topics then generate words based on their probability distribution."
   ]
  },
  {
   "cell_type": "code",
   "execution_count": 15,
   "metadata": {},
   "outputs": [],
   "source": [
    "#https://www.analyticsvidhya.com/blog/2016/08/beginners-guide-to-topic-modeling-in-python/"
   ]
  },
  {
   "cell_type": "code",
   "execution_count": 16,
   "metadata": {},
   "outputs": [],
   "source": [
    "doc1 = \"BMW upbeat sustained sales growth\"\n",
    "doc2 = \"Ad wars When BMW Audi Mercedes Benz Jaguar prove prowess through advertisements\"\n",
    "doc3 = \"BMW Protonic Frozen Yellow Edition Looks So Cool\"\n",
    "doc4 = \"Judge Shuts Door On SoftClose Defect Suit Against BMW Law\"\n",
    "doc5 = \"Just Listed BMW Alpina B Turbo Automobile Magazine\"\n",
    "doc6 = \"How take part BMW Ultimate Driving Experience\"\n",
    "doc7 = \"Long Beach BMW Motorcycles Becomes First BMW Dealer Offer Virtual Reality Experience Virtual Reality Reporter\"\n",
    "doc8 = \"NYC Auto Show BMW M Performance Video Overview\"\n",
    "doc9 = \"BMW F X Spy video shows SUV stress test\"\n",
    "doc10 = \"Driver taken hospital BMW smashes tree Stourbridge Express Star\"\n",
    "\n",
    "# compile documents\n",
    "doc_complete = [doc1, doc2, doc3, doc4, doc5, doc6, doc7, doc8, doc9, doc10]"
   ]
  },
  {
   "cell_type": "code",
   "execution_count": 17,
   "metadata": {},
   "outputs": [],
   "source": [
    "stop = set(stopwords.words('english'))\n",
    "exclude = set(string.punctuation)\n",
    "lemma = WordNetLemmatizer()\n",
    "def clean(doc):\n",
    "    stop_free = \" \".join([i for i in doc.lower().split() if i not in stop])\n",
    "    punc_free = ''.join(ch for ch in stop_free if ch not in exclude)\n",
    "    normalized = \" \".join(lemma.lemmatize(word) for word in punc_free.split())\n",
    "    return normalized\n",
    "\n",
    "doc_clean = [clean(doc).split() for doc in doc_complete]     "
   ]
  },
  {
   "cell_type": "code",
   "execution_count": 18,
   "metadata": {},
   "outputs": [
    {
     "data": {
      "text/plain": [
       "[['bmw', 'upbeat', 'sustained', 'sale', 'growth'],\n",
       " ['ad',\n",
       "  'war',\n",
       "  'bmw',\n",
       "  'audi',\n",
       "  'mercedes',\n",
       "  'benz',\n",
       "  'jaguar',\n",
       "  'prove',\n",
       "  'prowess',\n",
       "  'advertisement'],\n",
       " ['bmw', 'protonic', 'frozen', 'yellow', 'edition', 'look', 'cool']]"
      ]
     },
     "execution_count": 18,
     "metadata": {},
     "output_type": "execute_result"
    }
   ],
   "source": [
    "doc_clean[:3]"
   ]
  },
  {
   "cell_type": "code",
   "execution_count": 19,
   "metadata": {},
   "outputs": [],
   "source": [
    "# Creating the term dictionary of our courpus, where every unique term is assigned an index. \n",
    "dictionary = corpora.Dictionary(doc_clean)\n",
    "\n",
    "# Converting list of documents (corpus) into Document Term Matrix using dictionary prepared above.\n",
    "doc_term_matrix = [dictionary.doc2bow(doc) for doc in doc_clean]"
   ]
  },
  {
   "cell_type": "markdown",
   "metadata": {},
   "source": [
    "https://towardsdatascience.com/topic-modelling-in-python-with-nltk-and-gensim-4ef03213cd21"
   ]
  },
  {
   "cell_type": "code",
   "execution_count": 20,
   "metadata": {},
   "outputs": [],
   "source": [
    "# Creating the object for LDA model using gensim library\n",
    "Lda = gensim.models.ldamodel.LdaModel"
   ]
  },
  {
   "cell_type": "markdown",
   "metadata": {},
   "source": [
    "### Three-topic Model"
   ]
  },
  {
   "cell_type": "code",
   "execution_count": 21,
   "metadata": {},
   "outputs": [
    {
     "name": "stdout",
     "output_type": "stream",
     "text": [
      "CPU times: user 223 ms, sys: 10.6 ms, total: 234 ms\n",
      "Wall time: 227 ms\n",
      "(0, '0.095*\"bmw\" + 0.035*\"reality\" + 0.035*\"virtual\"')\n",
      "(1, '0.067*\"bmw\" + 0.038*\"protonic\" + 0.038*\"frozen\"')\n",
      "(2, '0.067*\"bmw\" + 0.027*\"benz\" + 0.027*\"advertisement\"')\n"
     ]
    }
   ],
   "source": [
    "# Running and Trainign LDA model on the document term matrix.\n",
    "%time ldamodel = Lda(doc_term_matrix, num_topics=3, id2word = dictionary, passes=50) #3 topics\n",
    "print(*ldamodel.print_topics(num_topics=3, num_words=3), sep='\\n')"
   ]
  },
  {
   "cell_type": "markdown",
   "metadata": {},
   "source": [
    "#### For larger datasets LdaMulticore should provide significant speed improvements"
   ]
  },
  {
   "cell_type": "code",
   "execution_count": 22,
   "metadata": {},
   "outputs": [
    {
     "name": "stdout",
     "output_type": "stream",
     "text": [
      "CPU times: user 255 ms, sys: 45.8 ms, total: 301 ms\n",
      "Wall time: 338 ms\n",
      "(0, '0.043*\"defect\" + 0.043*\"law\" + 0.043*\"shuts\"')\n",
      "(1, '0.073*\"bmw\" + 0.051*\"show\" + 0.051*\"video\"')\n",
      "(2, '0.098*\"bmw\" + 0.031*\"reality\" + 0.031*\"virtual\"')\n"
     ]
    }
   ],
   "source": [
    "%time ldamodel = LdaMulticore(doc_term_matrix, num_topics=3, id2word = dictionary, passes=50) #3 topics\n",
    "print(*ldamodel.print_topics(num_topics=3, num_words=3), sep='\\n')"
   ]
  },
  {
   "cell_type": "code",
   "execution_count": 23,
   "metadata": {},
   "outputs": [],
   "source": [
    "#topics = ldamodel.print_topics(num_words=3)\n",
    "#for topic in topics:\n",
    "#    print(topic)"
   ]
  },
  {
   "cell_type": "code",
   "execution_count": 24,
   "metadata": {},
   "outputs": [
    {
     "data": {
      "text/html": [
       "\n",
       "<link rel=\"stylesheet\" type=\"text/css\" href=\"https://cdn.rawgit.com/bmabey/pyLDAvis/files/ldavis.v1.0.0.css\">\n",
       "\n",
       "\n",
       "<div id=\"ldavis_el3469348309788401132918579\"></div>\n",
       "<script type=\"text/javascript\">\n",
       "\n",
       "var ldavis_el3469348309788401132918579_data = {\"mdsDat\": {\"x\": [0.04788348719296118, 0.0002693769244238643, -0.048152864117385036], \"y\": [0.016715021377392586, -0.08406089246401828, 0.06734587108662568], \"topics\": [1, 2, 3], \"cluster\": [1, 1, 1], \"Freq\": [12.143204689025879, 28.087600708007812, 59.769187927246094]}, \"tinfo\": {\"Category\": [\"Default\", \"Default\", \"Default\", \"Default\", \"Default\", \"Default\", \"Default\", \"Default\", \"Default\", \"Default\", \"Default\", \"Default\", \"Default\", \"Default\", \"Default\", \"Default\", \"Default\", \"Default\", \"Default\", \"Default\", \"Default\", \"Default\", \"Default\", \"Default\", \"Default\", \"Default\", \"Default\", \"Default\", \"Default\", \"Default\", \"Topic1\", \"Topic1\", \"Topic1\", \"Topic1\", \"Topic1\", \"Topic1\", \"Topic1\", \"Topic1\", \"Topic1\", \"Topic1\", \"Topic1\", \"Topic1\", \"Topic1\", \"Topic1\", \"Topic1\", \"Topic1\", \"Topic1\", \"Topic1\", \"Topic1\", \"Topic1\", \"Topic1\", \"Topic1\", \"Topic1\", \"Topic1\", \"Topic1\", \"Topic1\", \"Topic1\", \"Topic1\", \"Topic1\", \"Topic1\", \"Topic1\", \"Topic1\", \"Topic1\", \"Topic1\", \"Topic1\", \"Topic1\", \"Topic1\", \"Topic1\", \"Topic1\", \"Topic1\", \"Topic1\", \"Topic1\", \"Topic1\", \"Topic1\", \"Topic1\", \"Topic1\", \"Topic2\", \"Topic2\", \"Topic2\", \"Topic2\", \"Topic2\", \"Topic2\", \"Topic2\", \"Topic2\", \"Topic2\", \"Topic2\", \"Topic2\", \"Topic2\", \"Topic2\", \"Topic2\", \"Topic2\", \"Topic2\", \"Topic2\", \"Topic2\", \"Topic2\", \"Topic2\", \"Topic2\", \"Topic2\", \"Topic2\", \"Topic2\", \"Topic2\", \"Topic2\", \"Topic2\", \"Topic2\", \"Topic2\", \"Topic2\", \"Topic2\", \"Topic2\", \"Topic2\", \"Topic2\", \"Topic2\", \"Topic2\", \"Topic2\", \"Topic3\", \"Topic3\", \"Topic3\", \"Topic3\", \"Topic3\", \"Topic3\", \"Topic3\", \"Topic3\", \"Topic3\", \"Topic3\", \"Topic3\", \"Topic3\", \"Topic3\", \"Topic3\", \"Topic3\", \"Topic3\", \"Topic3\", \"Topic3\", \"Topic3\", \"Topic3\", \"Topic3\", \"Topic3\", \"Topic3\", \"Topic3\", \"Topic3\", \"Topic3\", \"Topic3\", \"Topic3\", \"Topic3\", \"Topic3\", \"Topic3\", \"Topic3\", \"Topic3\"], \"Freq\": [1.0, 1.0, 0.0, 0.0, 0.0, 0.0, 0.0, 0.0, 0.0, 1.0, 1.0, 1.0, 1.0, 1.0, 1.0, 1.0, 1.0, 1.0, 1.0, 1.0, 1.0, 1.0, 1.0, 1.0, 1.0, 7.0, 1.0, 1.0, 1.0, 1.0, 0.4378072917461395, 0.43780726194381714, 0.43780726194381714, 0.43780717253685, 0.43780717253685, 0.43780717253685, 0.43780717253685, 0.10964876413345337, 0.10964876413345337, 0.10964876413345337, 0.10964876413345337, 0.10964876413345337, 0.10964876413345337, 0.10964780300855637, 0.10964780300855637, 0.10964780300855637, 0.10964780300855637, 0.10960935056209564, 0.10960935056209564, 0.10960935056209564, 0.10960935056209564, 0.10960935056209564, 0.10960935056209564, 0.10987892746925354, 0.10987892746925354, 0.10987892746925354, 0.10987892746925354, 0.10980697721242905, 0.10980697721242905, 0.10980697721242905, 0.4331475794315338, 0.10980697721242905, 0.10975974053144455, 0.10975974053144455, 0.10975974053144455, 0.10975974053144455, 0.10975974053144455, 0.10975974053144455, 0.10969554632902145, 0.10969554632902145, 0.10969554632902145, 0.10969554632902145, 0.10969554632902145, 0.10969554632902145, 0.10969554632902145, 0.10969554632902145, 1.19048273563385, 1.19048273563385, 0.6801677942276001, 0.6801677942276001, 0.6801677942276001, 0.6801677942276001, 0.6801677942276001, 0.6801677942276001, 0.6800808906555176, 0.6800808906555176, 0.6800808906555176, 0.680080771446228, 0.6800790429115295, 0.6800790429115295, 0.6800790429115295, 0.6800790429115295, 0.6800790429115295, 0.6800790429115295, 1.703723669052124, 0.17022429406642914, 0.17022426426410675, 0.17022420465946198, 0.17022420465946198, 0.17022418975830078, 0.1702241748571396, 0.17022408545017242, 0.1705331802368164, 0.1705331802368164, 0.1705331802368164, 0.1705331802368164, 0.17045557498931885, 0.17045557498931885, 0.17045557498931885, 0.17045557498931885, 0.17040395736694336, 0.17040395736694336, 0.17040395736694336, 1.5505733489990234, 1.5505733489990234, 1.550254225730896, 0.8858425617218018, 0.8858425617218018, 0.8858425617218018, 0.8858425617218018, 0.8858425617218018, 0.8858425617218018, 0.8858425617218018, 0.8858425617218018, 0.8856214284896851, 0.8856215476989746, 0.8856215476989746, 0.8856215476989746, 0.8856215476989746, 0.8856215476989746, 0.8856215476989746, 0.8856215476989746, 0.8856215476989746, 0.8855463266372681, 0.8855463266372681, 0.8855463266372681, 0.8855463266372681, 0.8855463266372681, 0.8855463266372681, 0.8855463266372681, 0.8855463266372681, 0.885327160358429, 0.885327160358429, 4.880802154541016, 0.885327160358429, 0.885327160358429], \"Term\": [\"show\", \"video\", \"defect\", \"shuts\", \"law\", \"judge\", \"suit\", \"softclose\", \"door\", \"f\", \"spy\", \"x\", \"test\", \"suv\", \"stress\", \"nyc\", \"auto\", \"overview\", \"performance\", \"frozen\", \"look\", \"protonic\", \"yellow\", \"edition\", \"cool\", \"bmw\", \"sale\", \"sustained\", \"upbeat\", \"growth\", \"defect\", \"shuts\", \"law\", \"suit\", \"softclose\", \"judge\", \"door\", \"look\", \"frozen\", \"cool\", \"edition\", \"yellow\", \"protonic\", \"nyc\", \"performance\", \"overview\", \"auto\", \"f\", \"spy\", \"stress\", \"suv\", \"test\", \"x\", \"upbeat\", \"sustained\", \"sale\", \"growth\", \"ultimate\", \"part\", \"take\", \"bmw\", \"driving\", \"alpina\", \"automobile\", \"b\", \"listed\", \"magazine\", \"turbo\", \"tree\", \"driver\", \"taken\", \"express\", \"stourbridge\", \"star\", \"smash\", \"hospital\", \"show\", \"video\", \"x\", \"f\", \"spy\", \"stress\", \"suv\", \"test\", \"auto\", \"performance\", \"overview\", \"nyc\", \"edition\", \"cool\", \"frozen\", \"look\", \"protonic\", \"yellow\", \"bmw\", \"judge\", \"suit\", \"law\", \"softclose\", \"door\", \"shuts\", \"defect\", \"upbeat\", \"sustained\", \"sale\", \"growth\", \"ultimate\", \"part\", \"take\", \"driving\", \"automobile\", \"turbo\", \"alpina\", \"reality\", \"virtual\", \"experience\", \"long\", \"offer\", \"motorcycle\", \"reporter\", \"first\", \"dealer\", \"becomes\", \"beach\", \"ad\", \"advertisement\", \"benz\", \"jaguar\", \"mercedes\", \"prove\", \"prowess\", \"war\", \"audi\", \"tree\", \"taken\", \"driver\", \"express\", \"hospital\", \"smash\", \"star\", \"stourbridge\", \"b\", \"automobile\", \"bmw\", \"turbo\", \"magazine\"], \"Total\": [1.0, 1.0, 0.0, 0.0, 0.0, 0.0, 0.0, 0.0, 0.0, 1.0, 1.0, 1.0, 1.0, 1.0, 1.0, 1.0, 1.0, 1.0, 1.0, 1.0, 1.0, 1.0, 1.0, 1.0, 1.0, 7.0, 1.0, 1.0, 1.0, 1.0, 0.8296942710876465, 0.8296942710876465, 0.8296942710876465, 0.8296942710876465, 0.8296942710876465, 0.8296942710876465, 0.8296942710876465, 1.011441707611084, 1.011441707611084, 1.011441707611084, 1.011441707611084, 1.011441707611084, 1.011441707611084, 1.0114421844482422, 1.0114423036575317, 1.0114423036575317, 1.0114423036575317, 1.0114554166793823, 1.0114554166793823, 1.0114554166793823, 1.0114554166793823, 1.0114554166793823, 1.0114554166793823, 1.1653294563293457, 1.1653294563293457, 1.1653294563293457, 1.1653294563293457, 1.1654268503189087, 1.1654268503189087, 1.1654268503189087, 7.017673492431641, 1.1654268503189087, 1.1654908657073975, 1.1654908657073975, 1.1654908657073975, 1.1654908657073975, 1.1654908657073975, 1.1654908657073975, 1.1655774116516113, 1.1655774116516113, 1.1655774116516113, 1.1655774116516113, 1.1655774116516113, 1.1655774116516113, 1.1655774116516113, 1.1655774116516113, 1.5217920541763306, 1.5217920541763306, 1.0114554166793823, 1.0114554166793823, 1.0114554166793823, 1.0114554166793823, 1.0114554166793823, 1.0114554166793823, 1.0114423036575317, 1.0114423036575317, 1.0114423036575317, 1.0114421844482422, 1.011441707611084, 1.011441707611084, 1.011441707611084, 1.011441707611084, 1.011441707611084, 1.011441707611084, 7.017673492431641, 0.8296942710876465, 0.8296942710876465, 0.8296942710876465, 0.8296942710876465, 0.8296942710876465, 0.8296942710876465, 0.8296942710876465, 1.1653294563293457, 1.1653294563293457, 1.1653294563293457, 1.1653294563293457, 1.1654268503189087, 1.1654268503189087, 1.1654268503189087, 1.1654268503189087, 1.1654908657073975, 1.1654908657073975, 1.1654908657073975, 1.830411672592163, 1.830411672592163, 1.8302855491638184, 1.1656951904296875, 1.1656951904296875, 1.1656951904296875, 1.1656951904296875, 1.1656951904296875, 1.1656951904296875, 1.1656951904296875, 1.1656951904296875, 1.1656070947647095, 1.165607213973999, 1.165607213973999, 1.165607213973999, 1.165607213973999, 1.165607213973999, 1.165607213973999, 1.165607213973999, 1.165607213973999, 1.1655774116516113, 1.1655774116516113, 1.1655774116516113, 1.1655774116516113, 1.1655774116516113, 1.1655774116516113, 1.1655774116516113, 1.1655774116516113, 1.1654908657073975, 1.1654908657073975, 7.017673492431641, 1.1654908657073975, 1.1654908657073975], \"loglift\": [30.0, 29.0, 28.0, 27.0, 26.0, 25.0, 24.0, 23.0, 22.0, 21.0, 20.0, 19.0, 18.0, 17.0, 16.0, 15.0, 14.0, 13.0, 12.0, 11.0, 10.0, 9.0, 8.0, 7.0, 6.0, 5.0, 4.0, 3.0, 2.0, 1.0, 1.469099998474121, 1.469099998474121, 1.469099998474121, 1.469099998474121, 1.469099998474121, 1.469099998474121, 1.469099998474121, -0.11339999735355377, -0.11339999735355377, -0.11339999735355377, -0.11339999735355377, -0.11339999735355377, -0.11339999735355377, -0.11349999904632568, -0.11349999904632568, -0.11349999904632568, -0.11349999904632568, -0.11379999667406082, -0.11379999667406082, -0.11379999667406082, -0.11379999667406082, -0.11379999667406082, -0.11379999667406082, -0.2529999911785126, -0.2529999911785126, -0.2529999911785126, -0.2529999911785126, -0.25369998812675476, -0.25369998812675476, -0.25369998812675476, -0.6766999959945679, -0.25369998812675476, -0.2542000114917755, -0.2542000114917755, -0.2542000114917755, -0.2542000114917755, -0.2542000114917755, -0.2542000114917755, -0.2549000084400177, -0.2549000084400177, -0.2549000084400177, -0.2549000084400177, -0.2549000084400177, -0.2549000084400177, -0.2549000084400177, -0.2549000084400177, 1.0242999792099, 1.0242999792099, 0.8730000257492065, 0.8730000257492065, 0.8730000257492065, 0.8730000257492065, 0.8730000257492065, 0.8730000257492065, 0.8729000091552734, 0.8729000091552734, 0.8729000091552734, 0.8729000091552734, 0.8729000091552734, 0.8729000091552734, 0.8729000091552734, 0.8729000091552734, 0.8729000091552734, 0.8729000091552734, -0.14579999446868896, -0.3140999972820282, -0.3140999972820282, -0.3140999972820282, -0.3140999972820282, -0.3140999972820282, -0.3140999972820282, -0.3140999972820282, -0.6520000100135803, -0.6520000100135803, -0.6520000100135803, -0.6520000100135803, -0.6524999737739563, -0.6524999737739563, -0.6524999737739563, -0.6524999737739563, -0.652899980545044, -0.652899980545044, -0.652899980545044, 0.34880000352859497, 0.34880000352859497, 0.34860000014305115, 0.24009999632835388, 0.24009999632835388, 0.24009999632835388, 0.24009999632835388, 0.24009999632835388, 0.24009999632835388, 0.24009999632835388, 0.24009999632835388, 0.23999999463558197, 0.23999999463558197, 0.23999999463558197, 0.23999999463558197, 0.23999999463558197, 0.23999999463558197, 0.23999999463558197, 0.23999999463558197, 0.23999999463558197, 0.23989999294281006, 0.23989999294281006, 0.23989999294281006, 0.23989999294281006, 0.23989999294281006, 0.23989999294281006, 0.23989999294281006, 0.23989999294281006, 0.23970000445842743, 0.23970000445842743, 0.15160000324249268, 0.23970000445842743, 0.23970000445842743], \"logprob\": [30.0, 29.0, 28.0, 27.0, 26.0, 25.0, 24.0, 23.0, 22.0, 21.0, 20.0, 19.0, 18.0, 17.0, 16.0, 15.0, 14.0, 13.0, 12.0, 11.0, 10.0, 9.0, 8.0, 7.0, 6.0, 5.0, 4.0, 3.0, 2.0, 1.0, -3.136399984359741, -3.136399984359741, -3.136399984359741, -3.136399984359741, -3.136399984359741, -3.136399984359741, -3.136399984359741, -4.520899772644043, -4.520899772644043, -4.520899772644043, -4.520899772644043, -4.520899772644043, -4.520899772644043, -4.520899772644043, -4.520899772644043, -4.520899772644043, -4.520899772644043, -4.521299839019775, -4.521299839019775, -4.521299839019775, -4.521299839019775, -4.521299839019775, -4.521299839019775, -4.518799781799316, -4.518799781799316, -4.518799781799316, -4.518799781799316, -4.519499778747559, -4.519499778747559, -4.519499778747559, -3.1470999717712402, -4.519499778747559, -4.519899845123291, -4.519899845123291, -4.519899845123291, -4.519899845123291, -4.519899845123291, -4.519899845123291, -4.520500183105469, -4.520500183105469, -4.520500183105469, -4.520500183105469, -4.520500183105469, -4.520500183105469, -4.520500183105469, -4.520500183105469, -2.974600076675415, -2.974600076675415, -3.53439998626709, -3.53439998626709, -3.53439998626709, -3.53439998626709, -3.53439998626709, -3.53439998626709, -3.5344998836517334, -3.5344998836517334, -3.5344998836517334, -3.5344998836517334, -3.5344998836517334, -3.5344998836517334, -3.5344998836517334, -3.5344998836517334, -3.5344998836517334, -3.5344998836517334, -2.6161999702453613, -4.919600009918213, -4.919600009918213, -4.919600009918213, -4.919600009918213, -4.919600009918213, -4.919600009918213, -4.919600009918213, -4.917799949645996, -4.917799949645996, -4.917799949645996, -4.917799949645996, -4.918300151824951, -4.918300151824951, -4.918300151824951, -4.918300151824951, -4.918600082397461, -4.918600082397461, -4.918600082397461, -3.4655001163482666, -3.4655001163482666, -3.4656999111175537, -4.025400161743164, -4.025400161743164, -4.025400161743164, -4.025400161743164, -4.025400161743164, -4.025400161743164, -4.025400161743164, -4.025400161743164, -4.025599956512451, -4.025599956512451, -4.025599956512451, -4.025599956512451, -4.025599956512451, -4.025599956512451, -4.025599956512451, -4.025599956512451, -4.025599956512451, -4.025700092315674, -4.025700092315674, -4.025700092315674, -4.025700092315674, -4.025700092315674, -4.025700092315674, -4.025700092315674, -4.025700092315674, -4.026000022888184, -4.026000022888184, -2.3189001083374023, -4.026000022888184, -4.026000022888184]}, \"token.table\": {\"Topic\": [3, 3, 3, 3, 2, 3, 3, 3, 3, 3, 2, 3, 2, 3, 3, 3, 2, 3, 3, 2, 3, 2, 3, 3, 3, 3, 3, 2, 3, 3, 3, 2, 3, 2, 3, 2, 2, 3, 3, 3, 3, 3, 2, 3, 2, 3, 3, 2, 3, 2, 3, 3, 2, 3, 3, 3, 3, 2, 3, 3, 2, 2], \"Freq\": [0.8579220175743103, 0.8579219579696655, 0.8580076098442078, 0.8579219579696655, 0.9886871576309204, 0.8580076098442078, 0.8580076098442078, 0.8578571677207947, 0.8578571677207947, 0.8579219579696655, 0.2849947214126587, 0.7124868631362915, 0.9886877536773682, 0.8578571677207947, 0.8579438924789429, 0.8580546975135803, 0.9886877536773682, 1.0927256345748901, 0.8579438924789429, 0.9886743426322937, 0.8578571677207947, 0.9886877536773682, 0.8581264019012451, 0.8579438924789429, 0.8579219579696655, 0.8580076098442078, 0.8578571677207947, 0.9886877536773682, 0.8580076098442078, 0.8579219579696655, 0.8578571677207947, 0.98868727684021, 0.8578571677207947, 0.9886871576309204, 0.8580546975135803, 0.9886871576309204, 0.9886877536773682, 0.8579219579696655, 0.8579219579696655, 1.0926504135131836, 0.8578571677207947, 0.8581264019012451, 0.6571199893951416, 0.8579438924789429, 0.9886743426322937, 0.8579438924789429, 0.8579438924789429, 0.9886743426322937, 0.8581264019012451, 0.9886743426322937, 0.8580546975135803, 0.8579438924789429, 0.9886743426322937, 0.8579438924789429, 0.8580076098442078, 0.8580546975135803, 0.8581264019012451, 0.6571199893951416, 1.0926504135131836, 0.8579219579696655, 0.9886743426322937, 0.9886877536773682], \"Term\": [\"ad\", \"advertisement\", \"alpina\", \"audi\", \"auto\", \"automobile\", \"b\", \"beach\", \"becomes\", \"benz\", \"bmw\", \"bmw\", \"cool\", \"dealer\", \"driver\", \"driving\", \"edition\", \"experience\", \"express\", \"f\", \"first\", \"frozen\", \"growth\", \"hospital\", \"jaguar\", \"listed\", \"long\", \"look\", \"magazine\", \"mercedes\", \"motorcycle\", \"nyc\", \"offer\", \"overview\", \"part\", \"performance\", \"protonic\", \"prove\", \"prowess\", \"reality\", \"reporter\", \"sale\", \"show\", \"smash\", \"spy\", \"star\", \"stourbridge\", \"stress\", \"sustained\", \"suv\", \"take\", \"taken\", \"test\", \"tree\", \"turbo\", \"ultimate\", \"upbeat\", \"video\", \"virtual\", \"war\", \"x\", \"yellow\"]}, \"R\": 30, \"lambda.step\": 0.01, \"plot.opts\": {\"xlab\": \"PC1\", \"ylab\": \"PC2\"}, \"topic.order\": [1, 2, 3]};\n",
       "\n",
       "function LDAvis_load_lib(url, callback){\n",
       "  var s = document.createElement('script');\n",
       "  s.src = url;\n",
       "  s.async = true;\n",
       "  s.onreadystatechange = s.onload = callback;\n",
       "  s.onerror = function(){console.warn(\"failed to load library \" + url);};\n",
       "  document.getElementsByTagName(\"head\")[0].appendChild(s);\n",
       "}\n",
       "\n",
       "if(typeof(LDAvis) !== \"undefined\"){\n",
       "   // already loaded: just create the visualization\n",
       "   !function(LDAvis){\n",
       "       new LDAvis(\"#\" + \"ldavis_el3469348309788401132918579\", ldavis_el3469348309788401132918579_data);\n",
       "   }(LDAvis);\n",
       "}else if(typeof define === \"function\" && define.amd){\n",
       "   // require.js is available: use it to load d3/LDAvis\n",
       "   require.config({paths: {d3: \"https://cdnjs.cloudflare.com/ajax/libs/d3/3.5.5/d3.min\"}});\n",
       "   require([\"d3\"], function(d3){\n",
       "      window.d3 = d3;\n",
       "      LDAvis_load_lib(\"https://cdn.rawgit.com/bmabey/pyLDAvis/files/ldavis.v1.0.0.js\", function(){\n",
       "        new LDAvis(\"#\" + \"ldavis_el3469348309788401132918579\", ldavis_el3469348309788401132918579_data);\n",
       "      });\n",
       "    });\n",
       "}else{\n",
       "    // require.js not available: dynamically load d3 & LDAvis\n",
       "    LDAvis_load_lib(\"https://cdnjs.cloudflare.com/ajax/libs/d3/3.5.5/d3.min.js\", function(){\n",
       "         LDAvis_load_lib(\"https://cdn.rawgit.com/bmabey/pyLDAvis/files/ldavis.v1.0.0.js\", function(){\n",
       "                 new LDAvis(\"#\" + \"ldavis_el3469348309788401132918579\", ldavis_el3469348309788401132918579_data);\n",
       "            })\n",
       "         });\n",
       "}\n",
       "</script>"
      ],
      "text/plain": [
       "<IPython.core.display.HTML object>"
      ]
     },
     "execution_count": 24,
     "metadata": {},
     "output_type": "execute_result"
    }
   ],
   "source": [
    "lda_display = pyLDAvis.gensim.prepare(ldamodel, doc_term_matrix, dictionary, sort_topics=False, mds='mmds')\n",
    "pyLDAvis.display(lda_display)"
   ]
  },
  {
   "cell_type": "markdown",
   "metadata": {},
   "source": [
    "### Five-topic Model"
   ]
  },
  {
   "cell_type": "code",
   "execution_count": 25,
   "metadata": {},
   "outputs": [
    {
     "name": "stdout",
     "output_type": "stream",
     "text": [
      "CPU times: user 312 ms, sys: 17.8 ms, total: 330 ms\n",
      "Wall time: 352 ms\n",
      "(0, '0.072*\"bmw\" + 0.039*\"advertisement\" + 0.039*\"jaguar\" + 0.039*\"mercedes\" + 0.039*\"audi\"')\n",
      "(1, '0.086*\"bmw\" + 0.047*\"show\" + 0.047*\"video\" + 0.047*\"performance\" + 0.047*\"overview\"')\n",
      "(2, '0.085*\"bmw\" + 0.032*\"stress\" + 0.032*\"f\" + 0.032*\"spy\" + 0.032*\"suv\"')\n",
      "(3, '0.096*\"bmw\" + 0.050*\"virtual\" + 0.050*\"reality\" + 0.050*\"experience\" + 0.028*\"dealer\"')\n",
      "(4, '0.015*\"bmw\" + 0.015*\"show\" + 0.015*\"video\" + 0.015*\"part\" + 0.015*\"ultimate\"')\n"
     ]
    }
   ],
   "source": [
    "%time ldamodel = Lda(doc_term_matrix, num_topics=5, id2word = dictionary, passes=50) #5 topics\n",
    "print(*ldamodel.print_topics(num_topics=5, num_words=5), sep='\\n')"
   ]
  },
  {
   "cell_type": "code",
   "execution_count": 26,
   "metadata": {},
   "outputs": [
    {
     "data": {
      "text/html": [
       "\n",
       "<link rel=\"stylesheet\" type=\"text/css\" href=\"https://cdn.rawgit.com/bmabey/pyLDAvis/files/ldavis.v1.0.0.css\">\n",
       "\n",
       "\n",
       "<div id=\"ldavis_el3469348407741768783694126\"></div>\n",
       "<script type=\"text/javascript\">\n",
       "\n",
       "var ldavis_el3469348407741768783694126_data = {\"mdsDat\": {\"x\": [-0.020610793066975663, -0.005226592935692463, -0.11685992886774269, 0.13891647718878825, 0.003780837681622566], \"y\": [0.11506891638793999, -0.07855575418694086, -0.03519563105890466, -0.011665320277378169, 0.010347789135283697], \"topics\": [1, 2, 3, 4, 5], \"cluster\": [1, 1, 1, 1, 1], \"Freq\": [20.464391708374023, 14.532904624938965, 27.837133407592773, 35.031917572021484, 2.133653402328491]}, \"tinfo\": {\"Category\": [\"Default\", \"Default\", \"Default\", \"Default\", \"Default\", \"Default\", \"Default\", \"Default\", \"Default\", \"Default\", \"Default\", \"Default\", \"Default\", \"Default\", \"Default\", \"Default\", \"Default\", \"Default\", \"Default\", \"Default\", \"Default\", \"Default\", \"Default\", \"Default\", \"Default\", \"Default\", \"Default\", \"Default\", \"Default\", \"Default\", \"Topic1\", \"Topic1\", \"Topic1\", \"Topic1\", \"Topic1\", \"Topic1\", \"Topic1\", \"Topic1\", \"Topic1\", \"Topic1\", \"Topic1\", \"Topic1\", \"Topic1\", \"Topic1\", \"Topic1\", \"Topic1\", \"Topic1\", \"Topic1\", \"Topic1\", \"Topic1\", \"Topic1\", \"Topic1\", \"Topic1\", \"Topic1\", \"Topic1\", \"Topic1\", \"Topic1\", \"Topic1\", \"Topic1\", \"Topic1\", \"Topic1\", \"Topic1\", \"Topic1\", \"Topic1\", \"Topic1\", \"Topic1\", \"Topic2\", \"Topic2\", \"Topic2\", \"Topic2\", \"Topic2\", \"Topic2\", \"Topic2\", \"Topic2\", \"Topic2\", \"Topic2\", \"Topic2\", \"Topic2\", \"Topic2\", \"Topic2\", \"Topic2\", \"Topic2\", \"Topic2\", \"Topic2\", \"Topic2\", \"Topic2\", \"Topic2\", \"Topic2\", \"Topic2\", \"Topic2\", \"Topic2\", \"Topic2\", \"Topic2\", \"Topic2\", \"Topic2\", \"Topic2\", \"Topic2\", \"Topic2\", \"Topic2\", \"Topic2\", \"Topic2\", \"Topic2\", \"Topic2\", \"Topic2\", \"Topic2\", \"Topic2\", \"Topic2\", \"Topic2\", \"Topic2\", \"Topic2\", \"Topic2\", \"Topic3\", \"Topic3\", \"Topic3\", \"Topic3\", \"Topic3\", \"Topic3\", \"Topic3\", \"Topic3\", \"Topic3\", \"Topic3\", \"Topic3\", \"Topic3\", \"Topic3\", \"Topic3\", \"Topic3\", \"Topic3\", \"Topic3\", \"Topic3\", \"Topic3\", \"Topic3\", \"Topic3\", \"Topic3\", \"Topic3\", \"Topic3\", \"Topic3\", \"Topic3\", \"Topic3\", \"Topic3\", \"Topic3\", \"Topic3\", \"Topic3\", \"Topic3\", \"Topic3\", \"Topic3\", \"Topic4\", \"Topic4\", \"Topic4\", \"Topic4\", \"Topic4\", \"Topic4\", \"Topic4\", \"Topic4\", \"Topic4\", \"Topic4\", \"Topic4\", \"Topic4\", \"Topic4\", \"Topic4\", \"Topic4\", \"Topic4\", \"Topic4\", \"Topic4\", \"Topic4\", \"Topic4\", \"Topic4\", \"Topic4\", \"Topic4\", \"Topic4\", \"Topic4\", \"Topic4\", \"Topic4\", \"Topic4\", \"Topic4\", \"Topic4\", \"Topic4\", \"Topic4\", \"Topic4\", \"Topic4\", \"Topic4\", \"Topic4\", \"Topic5\", \"Topic5\", \"Topic5\", \"Topic5\", \"Topic5\", \"Topic5\", \"Topic5\", \"Topic5\", \"Topic5\", \"Topic5\", \"Topic5\", \"Topic5\", \"Topic5\", \"Topic5\", \"Topic5\", \"Topic5\", \"Topic5\", \"Topic5\", \"Topic5\", \"Topic5\", \"Topic5\", \"Topic5\", \"Topic5\", \"Topic5\", \"Topic5\", \"Topic5\", \"Topic5\", \"Topic5\", \"Topic5\", \"Topic5\", \"Topic5\", \"Topic5\", \"Topic5\", \"Topic5\", \"Topic5\", \"Topic5\", \"Topic5\", \"Topic5\", \"Topic5\", \"Topic5\", \"Topic5\", \"Topic5\", \"Topic5\", \"Topic5\", \"Topic5\", \"Topic5\", \"Topic5\", \"Topic5\", \"Topic5\", \"Topic5\"], \"Freq\": [1.0, 1.0, 0.0, 0.0, 0.0, 0.0, 0.0, 0.0, 0.0, 0.0, 1.0, 1.0, 1.0, 1.0, 1.0, 1.0, 1.0, 1.0, 1.0, 1.0, 1.0, 1.0, 1.0, 1.0, 1.0, 1.0, 1.0, 1.0, 1.0, 1.0, 0.6660990118980408, 0.6660990118980408, 0.6660990118980408, 0.6660990118980408, 0.6660990118980408, 0.6660990118980408, 0.6660990118980408, 0.6660990118980408, 0.6660990118980408, 0.6660946011543274, 0.6660946011543274, 0.6660946011543274, 0.6660945415496826, 0.6660945415496826, 0.6660945415496826, 1.2208598852157593, 0.11102205514907837, 0.11102205514907837, 0.11102205514907837, 0.11102205514907837, 0.1110210120677948, 0.1110210120677948, 0.1110210120677948, 0.1110210120677948, 0.11102215945720673, 0.11102215945720673, 0.11102215945720673, 0.11102215945720673, 0.11102215945720673, 0.11102215945720673, 0.11102371662855148, 0.11102371662855148, 0.11102344840765, 0.11102344840765, 0.11102344840765, 0.11102344840765, 0.5654066205024719, 0.5654066205024719, 0.5654066205024719, 0.5654066205024719, 0.5654023885726929, 0.5654023885726929, 0.5654023885726929, 0.5654023885726929, 0.5655878782272339, 0.5655878782272339, 1.0362601280212402, 0.09423934668302536, 0.09423934668302536, 0.09423934668302536, 0.09423934668302536, 0.09423934668302536, 0.09423934668302536, 0.09423843026161194, 0.09423843026161194, 0.09423843026161194, 0.09423843026161194, 0.09423843026161194, 0.09423843026161194, 0.09423843026161194, 0.09423843026161194, 0.09423843026161194, 0.09424002468585968, 0.09424002468585968, 0.09424002468585968, 0.09424002468585968, 0.09424133598804474, 0.09424133598804474, 0.09424133598804474, 0.09424133598804474, 0.09424002468585968, 0.09424002468585968, 0.09423961490392685, 0.09423961490392685, 0.09423961490392685, 0.09423961490392685, 0.09423961490392685, 0.09423961490392685, 0.09423961490392685, 0.09423961490392685, 0.09423954039812088, 0.7374009490013123, 0.7374009490013123, 0.7374009490013123, 0.7374009490013123, 0.7374009490013123, 0.7374009490013123, 0.737399160861969, 0.737399160861969, 0.737399160861969, 0.737399160861969, 0.737399160861969, 0.737399160861969, 0.737399160861969, 0.7373964786529541, 0.7373964786529541, 0.7373964786529541, 0.7373964786529541, 0.7373964786529541, 0.7373964786529541, 0.7371706366539001, 0.7371706366539001, 1.9662306308746338, 0.12290655076503754, 0.12290655076503754, 0.12290655076503754, 0.12290655076503754, 0.1229056715965271, 0.1229056715965271, 0.1229056715965271, 0.1229056715965271, 0.12290780246257782, 0.12290780246257782, 0.12290780246257782, 0.12290780246257782, 1.4671134948730469, 1.4671134948730469, 1.4671052694320679, 0.8002352118492126, 0.8002352118492126, 0.8002352118492126, 0.8002352118492126, 0.8002352118492126, 0.8002352118492126, 0.8002352118492126, 0.8002352118492126, 0.8002268671989441, 0.8002268671989441, 0.8002268671989441, 0.8002268671989441, 0.8002268671989441, 0.8002268671989441, 0.8002268671989441, 0.8002268671989441, 0.8002158403396606, 0.8002158403396606, 0.8002158403396606, 0.8002158403396606, 2.801980972290039, 0.13337819278240204, 0.13337819278240204, 0.13337819278240204, 0.13337819278240204, 0.1333773136138916, 0.1333773136138916, 0.13337959349155426, 0.13337959349155426, 0.1333782821893692, 0.1333782821893692, 0.1333782821893692, 0.1333782821893692, 0.026043344289064407, 0.026043344289064407, 0.026043344289064407, 0.026043344289064407, 0.02604280784726143, 0.02604280784726143, 0.02604280784726143, 0.02604280598461628, 0.026043059304356575, 0.026043059304356575, 0.026043059304356575, 0.026043059304356575, 0.026043059304356575, 0.026043059304356575, 0.02604258991777897, 0.02604258991777897, 0.02604258991777897, 0.02604258991777897, 0.02604258991777897, 0.02604258991777897, 0.02604258991777897, 0.02604258991777897, 0.02604258991777897, 0.026043415069580078, 0.026043415069580078, 0.026043415069580078, 0.02604341320693493, 0.02604341320693493, 0.02604341320693493, 0.02604317106306553, 0.02604660950601101, 0.026044251397252083, 0.026044251397252083, 0.026044100522994995, 0.026044100522994995, 0.026044100522994995, 0.026044100522994995, 0.02604321576654911, 0.02604321576654911, 0.02604321576654911, 0.02604321576654911, 0.02604321576654911, 0.02604321576654911, 0.02604321576654911, 0.02604321576654911, 0.02604317106306553, 0.02604317106306553, 0.02604317106306553, 0.02604317106306553, 0.02604317106306553], \"Term\": [\"video\", \"show\", \"auto\", \"overview\", \"performance\", \"nyc\", \"sale\", \"sustained\", \"upbeat\", \"growth\", \"experience\", \"virtual\", \"reality\", \"look\", \"protonic\", \"frozen\", \"yellow\", \"edition\", \"cool\", \"war\", \"prowess\", \"prove\", \"mercedes\", \"jaguar\", \"benz\", \"audi\", \"advertisement\", \"ad\", \"magazine\", \"turbo\", \"mercedes\", \"benz\", \"ad\", \"advertisement\", \"war\", \"prowess\", \"prove\", \"jaguar\", \"audi\", \"protonic\", \"look\", \"frozen\", \"yellow\", \"edition\", \"cool\", \"bmw\", \"sale\", \"upbeat\", \"growth\", \"sustained\", \"overview\", \"performance\", \"auto\", \"nyc\", \"alpina\", \"automobile\", \"b\", \"listed\", \"magazine\", \"turbo\", \"video\", \"show\", \"ultimate\", \"part\", \"take\", \"driving\", \"auto\", \"nyc\", \"overview\", \"performance\", \"growth\", \"sale\", \"sustained\", \"upbeat\", \"video\", \"show\", \"bmw\", \"edition\", \"cool\", \"frozen\", \"look\", \"protonic\", \"yellow\", \"war\", \"prowess\", \"mercedes\", \"prove\", \"jaguar\", \"audi\", \"advertisement\", \"ad\", \"benz\", \"magazine\", \"alpina\", \"automobile\", \"b\", \"part\", \"take\", \"ultimate\", \"driving\", \"turbo\", \"listed\", \"tree\", \"express\", \"driver\", \"taken\", \"hospital\", \"smash\", \"star\", \"stourbridge\", \"law\", \"suv\", \"x\", \"f\", \"spy\", \"stress\", \"test\", \"door\", \"judge\", \"law\", \"suit\", \"softclose\", \"shuts\", \"defect\", \"b\", \"automobile\", \"alpina\", \"listed\", \"magazine\", \"turbo\", \"video\", \"show\", \"bmw\", \"upbeat\", \"sustained\", \"sale\", \"growth\", \"performance\", \"overview\", \"nyc\", \"auto\", \"ultimate\", \"part\", \"take\", \"driving\", \"reality\", \"virtual\", \"experience\", \"reporter\", \"offer\", \"motorcycle\", \"long\", \"first\", \"dealer\", \"becomes\", \"beach\", \"tree\", \"taken\", \"driver\", \"express\", \"hospital\", \"smash\", \"star\", \"stourbridge\", \"ultimate\", \"part\", \"take\", \"driving\", \"bmw\", \"growth\", \"sale\", \"sustained\", \"upbeat\", \"nyc\", \"auto\", \"show\", \"video\", \"turbo\", \"magazine\", \"listed\", \"b\", \"growth\", \"sale\", \"sustained\", \"upbeat\", \"performance\", \"auto\", \"nyc\", \"overview\", \"protonic\", \"look\", \"frozen\", \"edition\", \"cool\", \"yellow\", \"audi\", \"mercedes\", \"ad\", \"advertisement\", \"benz\", \"prove\", \"war\", \"jaguar\", \"prowess\", \"b\", \"alpina\", \"listed\", \"automobile\", \"magazine\", \"turbo\", \"suit\", \"bmw\", \"video\", \"show\", \"part\", \"take\", \"ultimate\", \"driving\", \"smash\", \"taken\", \"stourbridge\", \"star\", \"driver\", \"tree\", \"hospital\", \"express\", \"defect\", \"door\", \"law\", \"shuts\", \"softclose\"], \"Total\": [1.0, 1.0, 0.0, 0.0, 0.0, 0.0, 0.0, 0.0, 0.0, 0.0, 1.0, 1.0, 1.0, 1.0, 1.0, 1.0, 1.0, 1.0, 1.0, 1.0, 1.0, 1.0, 1.0, 1.0, 1.0, 1.0, 1.0, 1.0, 1.0, 1.0, 1.042662262916565, 1.042662262916565, 1.042662262916565, 1.042662262916565, 1.042662262916565, 1.042662262916565, 1.042662262916565, 1.042662262916565, 1.042662262916565, 1.0426607131958008, 1.0426607131958008, 1.0426607131958008, 1.0426607131958008, 1.0426607131958008, 1.0426607131958008, 7.05137825012207, 0.9587525725364685, 0.9587525725364685, 0.9587525725364685, 0.9587525725364685, 0.9587534070014954, 0.9587534070014954, 0.9587534070014954, 0.9587534070014954, 1.1020803451538086, 1.1020803451538086, 1.1020803451538086, 1.1020803451538086, 1.1020803451538086, 1.1020803451538086, 1.5732060670852661, 1.5732060670852661, 1.1544325351715088, 1.1544325351715088, 1.1544325351715088, 1.1544325351715088, 0.9587534070014954, 0.9587534070014954, 0.9587534070014954, 0.9587534070014954, 0.9587525725364685, 0.9587525725364685, 0.9587525725364685, 0.9587525725364685, 1.5732060670852661, 1.5732060670852661, 7.05137825012207, 1.0426607131958008, 1.0426607131958008, 1.0426607131958008, 1.0426607131958008, 1.0426607131958008, 1.0426607131958008, 1.042662262916565, 1.042662262916565, 1.042662262916565, 1.042662262916565, 1.042662262916565, 1.042662262916565, 1.042662262916565, 1.042662262916565, 1.042662262916565, 1.1020803451538086, 1.1020803451538086, 1.1020803451538086, 1.1020803451538086, 1.1544325351715088, 1.1544325351715088, 1.1544325351715088, 1.1544325351715088, 1.1020803451538086, 1.1020803451538086, 1.154437780380249, 1.154437780380249, 1.154437780380249, 1.154437780380249, 1.154437780380249, 1.154437780380249, 1.154437780380249, 1.154437780380249, 1.1020814180374146, 1.1020821332931519, 1.1020821332931519, 1.1020821332931519, 1.1020821332931519, 1.1020821332931519, 1.1020821332931519, 1.1020814180374146, 1.1020814180374146, 1.1020814180374146, 1.1020814180374146, 1.1020814180374146, 1.1020814180374146, 1.1020814180374146, 1.1020803451538086, 1.1020803451538086, 1.1020803451538086, 1.1020803451538086, 1.1020803451538086, 1.1020803451538086, 1.5732060670852661, 1.5732060670852661, 7.05137825012207, 0.9587525725364685, 0.9587525725364685, 0.9587525725364685, 0.9587525725364685, 0.9587534070014954, 0.9587534070014954, 0.9587534070014954, 0.9587534070014954, 1.1544325351715088, 1.1544325351715088, 1.1544325351715088, 1.1544325351715088, 1.8213191032409668, 1.8213191032409668, 1.8213152885437012, 1.1544417142868042, 1.1544417142868042, 1.1544417142868042, 1.1544417142868042, 1.1544417142868042, 1.1544417142868042, 1.1544417142868042, 1.1544417142868042, 1.154437780380249, 1.154437780380249, 1.154437780380249, 1.154437780380249, 1.154437780380249, 1.154437780380249, 1.154437780380249, 1.154437780380249, 1.1544325351715088, 1.1544325351715088, 1.1544325351715088, 1.1544325351715088, 7.05137825012207, 0.9587525725364685, 0.9587525725364685, 0.9587525725364685, 0.9587525725364685, 0.9587534070014954, 0.9587534070014954, 1.5732060670852661, 1.5732060670852661, 1.1020803451538086, 1.1020803451538086, 1.1020803451538086, 1.1020803451538086, 0.9587525725364685, 0.9587525725364685, 0.9587525725364685, 0.9587525725364685, 0.9587534070014954, 0.9587534070014954, 0.9587534070014954, 0.9587534070014954, 1.0426607131958008, 1.0426607131958008, 1.0426607131958008, 1.0426607131958008, 1.0426607131958008, 1.0426607131958008, 1.042662262916565, 1.042662262916565, 1.042662262916565, 1.042662262916565, 1.042662262916565, 1.042662262916565, 1.042662262916565, 1.042662262916565, 1.042662262916565, 1.1020803451538086, 1.1020803451538086, 1.1020803451538086, 1.1020803451538086, 1.1020803451538086, 1.1020803451538086, 1.1020814180374146, 7.05137825012207, 1.5732060670852661, 1.5732060670852661, 1.1544325351715088, 1.1544325351715088, 1.1544325351715088, 1.1544325351715088, 1.154437780380249, 1.154437780380249, 1.154437780380249, 1.154437780380249, 1.154437780380249, 1.154437780380249, 1.154437780380249, 1.154437780380249, 1.1020814180374146, 1.1020814180374146, 1.1020814180374146, 1.1020814180374146, 1.1020814180374146], \"loglift\": [30.0, 29.0, 28.0, 27.0, 26.0, 25.0, 24.0, 23.0, 22.0, 21.0, 20.0, 19.0, 18.0, 17.0, 16.0, 15.0, 14.0, 13.0, 12.0, 11.0, 10.0, 9.0, 8.0, 7.0, 6.0, 5.0, 4.0, 3.0, 2.0, 1.0, 1.1383999586105347, 1.1383999586105347, 1.1383999586105347, 1.1383999586105347, 1.1383999586105347, 1.1383999586105347, 1.1383999586105347, 1.1383999586105347, 1.1383999586105347, 1.1383999586105347, 1.1383999586105347, 1.1383999586105347, 1.1383999586105347, 1.1383999586105347, 1.1383999586105347, -0.1671999990940094, -0.5694000124931335, -0.5694000124931335, -0.5694000124931335, -0.5694000124931335, -0.5694000124931335, -0.5694000124931335, -0.5694000124931335, -0.5694000124931335, -0.7087000012397766, -0.7087000012397766, -0.7087000012397766, -0.7087000012397766, -0.7087000012397766, -0.7087000012397766, -1.0645999908447266, -1.0645999908447266, -0.7551000118255615, -0.7551000118255615, -0.7551000118255615, -0.7551000118255615, 1.4006999731063843, 1.4006999731063843, 1.4006999731063843, 1.4006999731063843, 1.4006999731063843, 1.4006999731063843, 1.4006999731063843, 1.4006999731063843, 0.9057000279426575, 0.9057000279426575, 0.011099999770522118, -0.4749000072479248, -0.4749000072479248, -0.4749000072479248, -0.4749000072479248, -0.4749000072479248, -0.4749000072479248, -0.4749000072479248, -0.4749000072479248, -0.4749000072479248, -0.4749000072479248, -0.4749000072479248, -0.4749000072479248, -0.4749000072479248, -0.4749000072479248, -0.4749000072479248, -0.5303999781608582, -0.5303999781608582, -0.5303999781608582, -0.5303999781608582, -0.5767999887466431, -0.5767999887466431, -0.5767999887466431, -0.5767999887466431, -0.5303999781608582, -0.5303999781608582, -0.5767999887466431, -0.5767999887466431, -0.5767999887466431, -0.5767999887466431, -0.5767999887466431, -0.5767999887466431, -0.5767999887466431, -0.5767999887466431, -0.5303999781608582, 0.8769999742507935, 0.8769999742507935, 0.8769999742507935, 0.8769999742507935, 0.8769999742507935, 0.8769999742507935, 0.8769999742507935, 0.8769999742507935, 0.8769999742507935, 0.8769999742507935, 0.8769999742507935, 0.8769999742507935, 0.8769999742507935, 0.8769999742507935, 0.8769999742507935, 0.8769999742507935, 0.8769999742507935, 0.8769999742507935, 0.8769999742507935, 0.5206999778747559, 0.5206999778747559, 0.0017000000225380063, -0.7753999829292297, -0.7753999829292297, -0.7753999829292297, -0.7753999829292297, -0.7753999829292297, -0.7753999829292297, -0.7753999829292297, -0.7753999829292297, -0.9610999822616577, -0.9610999822616577, -0.9610999822616577, -0.9610999822616577, 0.8325999975204468, 0.8325999975204468, 0.8325999975204468, 0.6823999881744385, 0.6823999881744385, 0.6823999881744385, 0.6823999881744385, 0.6823999881744385, 0.6823999881744385, 0.6823999881744385, 0.6823999881744385, 0.6823999881744385, 0.6823999881744385, 0.6823999881744385, 0.6823999881744385, 0.6823999881744385, 0.6823999881744385, 0.6823999881744385, 0.6823999881744385, 0.6823999881744385, 0.6823999881744385, 0.6823999881744385, 0.6823999881744385, 0.12600000202655792, -0.9235000014305115, -0.9235000014305115, -0.9235000014305115, -0.9235000014305115, -0.9235000014305115, -0.9235000014305115, -1.4187999963760376, -1.4187999963760376, -1.0628999471664429, -1.0628999471664429, -1.0628999471664429, -1.0628999471664429, 0.24150000512599945, 0.24150000512599945, 0.24150000512599945, 0.24150000512599945, 0.24140000343322754, 0.24140000343322754, 0.24140000343322754, 0.24140000343322754, 0.15760000050067902, 0.15760000050067902, 0.15760000050067902, 0.15760000050067902, 0.15760000050067902, 0.15760000050067902, 0.1574999988079071, 0.1574999988079071, 0.1574999988079071, 0.1574999988079071, 0.1574999988079071, 0.1574999988079071, 0.1574999988079071, 0.1574999988079071, 0.1574999988079071, 0.10209999978542328, 0.10209999978542328, 0.10209999978542328, 0.10209999978542328, 0.10209999978542328, 0.10209999978542328, 0.10209999978542328, -1.7538000345230103, -0.25369998812675476, -0.25369998812675476, 0.055799998342990875, 0.055799998342990875, 0.055799998342990875, 0.055799998342990875, 0.05570000037550926, 0.05570000037550926, 0.05570000037550926, 0.05570000037550926, 0.05570000037550926, 0.05570000037550926, 0.05570000037550926, 0.05570000037550926, 0.10209999978542328, 0.10209999978542328, 0.10209999978542328, 0.10209999978542328, 0.10209999978542328], \"logprob\": [30.0, 29.0, 28.0, 27.0, 26.0, 25.0, 24.0, 23.0, 22.0, 21.0, 20.0, 19.0, 18.0, 17.0, 16.0, 15.0, 14.0, 13.0, 12.0, 11.0, 10.0, 9.0, 8.0, 7.0, 6.0, 5.0, 4.0, 3.0, 2.0, 1.0, -3.2386999130249023, -3.2386999130249023, -3.2386999130249023, -3.2386999130249023, -3.2386999130249023, -3.2386999130249023, -3.2386999130249023, -3.2386999130249023, -3.2386999130249023, -3.2386999130249023, -3.2386999130249023, -3.2386999130249023, -3.2386999130249023, -3.2386999130249023, -3.2386999130249023, -2.6328001022338867, -5.030399799346924, -5.030399799346924, -5.030399799346924, -5.030399799346924, -5.030399799346924, -5.030399799346924, -5.030399799346924, -5.030399799346924, -5.030399799346924, -5.030399799346924, -5.030399799346924, -5.030399799346924, -5.030399799346924, -5.030399799346924, -5.030399799346924, -5.030399799346924, -5.030399799346924, -5.030399799346924, -5.030399799346924, -5.030399799346924, -3.06030011177063, -3.06030011177063, -3.06030011177063, -3.06030011177063, -3.06030011177063, -3.06030011177063, -3.06030011177063, -3.06030011177063, -3.059999942779541, -3.059999942779541, -2.4544999599456787, -4.8520002365112305, -4.8520002365112305, -4.8520002365112305, -4.8520002365112305, -4.8520002365112305, -4.8520002365112305, -4.8520002365112305, -4.8520002365112305, -4.8520002365112305, -4.8520002365112305, -4.8520002365112305, -4.8520002365112305, -4.8520002365112305, -4.8520002365112305, -4.8520002365112305, -4.8520002365112305, -4.8520002365112305, -4.8520002365112305, -4.8520002365112305, -4.8520002365112305, -4.8520002365112305, -4.8520002365112305, -4.8520002365112305, -4.8520002365112305, -4.8520002365112305, -4.8520002365112305, -4.8520002365112305, -4.8520002365112305, -4.8520002365112305, -4.8520002365112305, -4.8520002365112305, -4.8520002365112305, -4.8520002365112305, -4.8520002365112305, -3.444700002670288, -3.444700002670288, -3.444700002670288, -3.444700002670288, -3.444700002670288, -3.444700002670288, -3.444700002670288, -3.444700002670288, -3.444700002670288, -3.444700002670288, -3.444700002670288, -3.444700002670288, -3.444700002670288, -3.444700002670288, -3.444700002670288, -3.444700002670288, -3.444700002670288, -3.444700002670288, -3.444700002670288, -3.444999933242798, -3.444999933242798, -2.463900089263916, -5.236400127410889, -5.236400127410889, -5.236400127410889, -5.236400127410889, -5.236400127410889, -5.236400127410889, -5.236400127410889, -5.236400127410889, -5.236400127410889, -5.236400127410889, -5.236400127410889, -5.236400127410889, -2.986599922180176, -2.986599922180176, -2.986599922180176, -3.5927999019622803, -3.5927999019622803, -3.5927999019622803, -3.5927999019622803, -3.5927999019622803, -3.5927999019622803, -3.5927999019622803, -3.5927999019622803, -3.5927999019622803, -3.5927999019622803, -3.5927999019622803, -3.5927999019622803, -3.5927999019622803, -3.5927999019622803, -3.5927999019622803, -3.5927999019622803, -3.5927999019622803, -3.5927999019622803, -3.5927999019622803, -3.5927999019622803, -2.339600086212158, -5.384500026702881, -5.384500026702881, -5.384500026702881, -5.384500026702881, -5.384500026702881, -5.384500026702881, -5.384500026702881, -5.384500026702881, -5.384500026702881, -5.384500026702881, -5.384500026702881, -5.384500026702881, -4.2195000648498535, -4.2195000648498535, -4.2195000648498535, -4.2195000648498535, -4.2195000648498535, -4.2195000648498535, -4.2195000648498535, -4.2195000648498535, -4.2195000648498535, -4.2195000648498535, -4.2195000648498535, -4.2195000648498535, -4.2195000648498535, -4.2195000648498535, -4.2195000648498535, -4.2195000648498535, -4.2195000648498535, -4.2195000648498535, -4.2195000648498535, -4.2195000648498535, -4.2195000648498535, -4.2195000648498535, -4.2195000648498535, -4.2195000648498535, -4.2195000648498535, -4.2195000648498535, -4.2195000648498535, -4.2195000648498535, -4.2195000648498535, -4.2195000648498535, -4.219399929046631, -4.2195000648498535, -4.2195000648498535, -4.2195000648498535, -4.2195000648498535, -4.2195000648498535, -4.2195000648498535, -4.2195000648498535, -4.2195000648498535, -4.2195000648498535, -4.2195000648498535, -4.2195000648498535, -4.2195000648498535, -4.2195000648498535, -4.2195000648498535, -4.2195000648498535, -4.2195000648498535, -4.2195000648498535, -4.2195000648498535, -4.2195000648498535]}, \"token.table\": {\"Topic\": [1, 1, 3, 1, 2, 3, 3, 4, 4, 1, 1, 2, 3, 4, 1, 4, 3, 3, 4, 4, 1, 4, 4, 3, 4, 1, 2, 4, 1, 3, 3, 3, 4, 1, 3, 1, 4, 2, 4, 2, 4, 2, 1, 1, 1, 4, 4, 2, 2, 3, 3, 4, 3, 3, 4, 4, 3, 3, 2, 3, 4, 4, 3, 4, 3, 4, 2, 2, 3, 4, 1, 3, 1], \"Freq\": [0.9590833187103271, 0.9590833187103271, 0.9073748588562012, 0.9590833187103271, 1.0430210828781128, 0.9073748588562012, 0.9073748588562012, 0.8662195801734924, 0.8662195801734924, 0.9590833187103271, 0.14181624352931976, 0.14181624352931976, 0.2836324870586395, 0.4254487454891205, 0.9590847492218018, 0.8662195801734924, 0.9073739647865295, 0.9073739647865295, 0.8662225008010864, 0.8662264347076416, 0.9590847492218018, 0.5490537285804749, 0.8662225008010864, 0.9073733687400818, 0.8662195801734924, 0.9590847492218018, 1.0430219173431396, 0.8662225008010864, 0.9590833187103271, 0.9073739647865295, 0.9073739647865295, 0.9073748588562012, 0.8662195801734924, 0.9590847492218018, 0.9073748588562012, 0.9590833187103271, 0.8662195801734924, 1.0430210828781128, 0.8662195801734924, 1.0430210828781128, 0.8662264347076416, 1.0430210828781128, 0.9590847492218018, 0.9590833187103271, 0.9590833187103271, 0.5490525960922241, 0.8662195801734924, 1.0430219173431396, 0.6356446146965027, 0.6356446146965027, 0.9073739647865295, 0.8662225008010864, 0.9073739647865295, 0.9073733687400818, 0.8662225008010864, 0.8662225008010864, 0.9073733687400818, 0.9073739647865295, 1.0430219173431396, 0.9073733687400818, 0.8662264347076416, 0.8662225008010864, 0.9073733687400818, 0.8662225008010864, 0.9073748588562012, 0.8662264347076416, 1.0430219173431396, 0.6356446146965027, 0.6356446146965027, 0.5490525960922241, 0.9590833187103271, 0.9073733687400818, 0.9590847492218018], \"Term\": [\"ad\", \"advertisement\", \"alpina\", \"audi\", \"auto\", \"automobile\", \"b\", \"beach\", \"becomes\", \"benz\", \"bmw\", \"bmw\", \"bmw\", \"bmw\", \"cool\", \"dealer\", \"defect\", \"door\", \"driver\", \"driving\", \"edition\", \"experience\", \"express\", \"f\", \"first\", \"frozen\", \"growth\", \"hospital\", \"jaguar\", \"judge\", \"law\", \"listed\", \"long\", \"look\", \"magazine\", \"mercedes\", \"motorcycle\", \"nyc\", \"offer\", \"overview\", \"part\", \"performance\", \"protonic\", \"prove\", \"prowess\", \"reality\", \"reporter\", \"sale\", \"show\", \"show\", \"shuts\", \"smash\", \"softclose\", \"spy\", \"star\", \"stourbridge\", \"stress\", \"suit\", \"sustained\", \"suv\", \"take\", \"taken\", \"test\", \"tree\", \"turbo\", \"ultimate\", \"upbeat\", \"video\", \"video\", \"virtual\", \"war\", \"x\", \"yellow\"]}, \"R\": 30, \"lambda.step\": 0.01, \"plot.opts\": {\"xlab\": \"PC1\", \"ylab\": \"PC2\"}, \"topic.order\": [1, 2, 3, 4, 5]};\n",
       "\n",
       "function LDAvis_load_lib(url, callback){\n",
       "  var s = document.createElement('script');\n",
       "  s.src = url;\n",
       "  s.async = true;\n",
       "  s.onreadystatechange = s.onload = callback;\n",
       "  s.onerror = function(){console.warn(\"failed to load library \" + url);};\n",
       "  document.getElementsByTagName(\"head\")[0].appendChild(s);\n",
       "}\n",
       "\n",
       "if(typeof(LDAvis) !== \"undefined\"){\n",
       "   // already loaded: just create the visualization\n",
       "   !function(LDAvis){\n",
       "       new LDAvis(\"#\" + \"ldavis_el3469348407741768783694126\", ldavis_el3469348407741768783694126_data);\n",
       "   }(LDAvis);\n",
       "}else if(typeof define === \"function\" && define.amd){\n",
       "   // require.js is available: use it to load d3/LDAvis\n",
       "   require.config({paths: {d3: \"https://cdnjs.cloudflare.com/ajax/libs/d3/3.5.5/d3.min\"}});\n",
       "   require([\"d3\"], function(d3){\n",
       "      window.d3 = d3;\n",
       "      LDAvis_load_lib(\"https://cdn.rawgit.com/bmabey/pyLDAvis/files/ldavis.v1.0.0.js\", function(){\n",
       "        new LDAvis(\"#\" + \"ldavis_el3469348407741768783694126\", ldavis_el3469348407741768783694126_data);\n",
       "      });\n",
       "    });\n",
       "}else{\n",
       "    // require.js not available: dynamically load d3 & LDAvis\n",
       "    LDAvis_load_lib(\"https://cdnjs.cloudflare.com/ajax/libs/d3/3.5.5/d3.min.js\", function(){\n",
       "         LDAvis_load_lib(\"https://cdn.rawgit.com/bmabey/pyLDAvis/files/ldavis.v1.0.0.js\", function(){\n",
       "                 new LDAvis(\"#\" + \"ldavis_el3469348407741768783694126\", ldavis_el3469348407741768783694126_data);\n",
       "            })\n",
       "         });\n",
       "}\n",
       "</script>"
      ],
      "text/plain": [
       "<IPython.core.display.HTML object>"
      ]
     },
     "execution_count": 26,
     "metadata": {},
     "output_type": "execute_result"
    }
   ],
   "source": [
    "lda_display = pyLDAvis.gensim.prepare(ldamodel, doc_term_matrix, dictionary, sort_topics=False, mds='mmds')\n",
    "pyLDAvis.display(lda_display)"
   ]
  },
  {
   "cell_type": "markdown",
   "metadata": {},
   "source": [
    "### Ten-topic Model"
   ]
  },
  {
   "cell_type": "code",
   "execution_count": 27,
   "metadata": {},
   "outputs": [
    {
     "name": "stdout",
     "output_type": "stream",
     "text": [
      "CPU times: user 207 ms, sys: 6.03 ms, total: 213 ms\n",
      "Wall time: 209 ms\n",
      "(0, '0.015*\"virtual\" + 0.015*\"auto\" + 0.015*\"reporter\" + 0.015*\"offer\" + 0.015*\"nyc\"')\n",
      "(1, '0.106*\"bmw\" + 0.056*\"defect\" + 0.056*\"shuts\" + 0.056*\"suit\" + 0.056*\"door\"')\n",
      "(2, '0.015*\"virtual\" + 0.015*\"auto\" + 0.015*\"reporter\" + 0.015*\"offer\" + 0.015*\"nyc\"')\n",
      "(3, '0.070*\"smash\" + 0.070*\"stourbridge\" + 0.070*\"hospital\" + 0.070*\"driver\" + 0.070*\"star\"')\n",
      "(4, '0.096*\"bmw\" + 0.050*\"video\" + 0.050*\"show\" + 0.050*\"f\" + 0.050*\"stress\"')\n",
      "(5, '0.015*\"virtual\" + 0.015*\"auto\" + 0.015*\"reporter\" + 0.015*\"offer\" + 0.015*\"nyc\"')\n",
      "(6, '0.115*\"bmw\" + 0.059*\"reality\" + 0.059*\"virtual\" + 0.031*\"offer\" + 0.031*\"dealer\"')\n",
      "(7, '0.080*\"turbo\" + 0.080*\"alpina\" + 0.080*\"listed\" + 0.080*\"b\" + 0.080*\"automobile\"')\n",
      "(8, '0.015*\"virtual\" + 0.015*\"auto\" + 0.015*\"reporter\" + 0.015*\"offer\" + 0.015*\"nyc\"')\n",
      "(9, '0.065*\"advertisement\" + 0.065*\"jaguar\" + 0.065*\"benz\" + 0.065*\"prove\" + 0.065*\"mercedes\"')\n"
     ]
    }
   ],
   "source": [
    "%time ldamodel = Lda(doc_term_matrix, num_topics=10, id2word = dictionary, passes=50)\n",
    "print(*ldamodel.print_topics(num_topics=10, num_words=5), sep='\\n')"
   ]
  },
  {
   "cell_type": "code",
   "execution_count": 28,
   "metadata": {},
   "outputs": [
    {
     "data": {
      "text/html": [
       "\n",
       "<link rel=\"stylesheet\" type=\"text/css\" href=\"https://cdn.rawgit.com/bmabey/pyLDAvis/files/ldavis.v1.0.0.css\">\n",
       "\n",
       "\n",
       "<div id=\"ldavis_el3469351605214242733657337\"></div>\n",
       "<script type=\"text/javascript\">\n",
       "\n",
       "var ldavis_el3469351605214242733657337_data = {\"mdsDat\": {\"x\": [0.0019928068700435825, 0.055478295344778765, 0.0019858968165044214, -0.10144176192805548, 0.08295129685507867, 0.001986867187106238, -0.07438545023428632, -0.12414207544802247, 0.0019914472041100855, 0.15358267733274247], \"y\": [0.004429030174677817, 0.1625604721959707, 0.004428883191149329, 0.11324264434777039, -0.14138012214514725, 0.00442904149373801, -0.1631926556113098, -0.010543421481579909, 0.004428872468740564, 0.02159725536599009], \"topics\": [1, 2, 3, 4, 5, 6, 7, 8, 9, 10], \"cluster\": [1, 1, 1, 1, 1, 1, 1, 1, 1, 1], \"Freq\": [1.0663843154907227, 14.654067039489746, 1.0663843154907227, 10.825408935546875, 17.02163314819336, 1.0663843154907227, 32.7681770324707, 8.445894241333008, 1.0663843154907227, 12.019278526306152]}, \"tinfo\": {\"Category\": [\"Default\", \"Default\", \"Default\", \"Default\", \"Default\", \"Default\", \"Default\", \"Default\", \"Default\", \"Default\", \"Default\", \"Default\", \"Default\", \"Default\", \"Default\", \"Default\", \"Default\", \"Default\", \"Default\", \"Default\", \"Default\", \"Default\", \"Default\", \"Default\", \"Default\", \"Default\", \"Default\", \"Default\", \"Default\", \"Default\", \"Topic1\", \"Topic1\", \"Topic1\", \"Topic1\", \"Topic1\", \"Topic1\", \"Topic1\", \"Topic1\", \"Topic1\", \"Topic1\", \"Topic1\", \"Topic1\", \"Topic1\", \"Topic1\", \"Topic1\", \"Topic1\", \"Topic1\", \"Topic1\", \"Topic1\", \"Topic1\", \"Topic1\", \"Topic1\", \"Topic1\", \"Topic1\", \"Topic1\", \"Topic1\", \"Topic1\", \"Topic1\", \"Topic1\", \"Topic1\", \"Topic1\", \"Topic1\", \"Topic1\", \"Topic1\", \"Topic1\", \"Topic1\", \"Topic1\", \"Topic1\", \"Topic1\", \"Topic1\", \"Topic2\", \"Topic2\", \"Topic2\", \"Topic2\", \"Topic2\", \"Topic2\", \"Topic2\", \"Topic2\", \"Topic2\", \"Topic2\", \"Topic2\", \"Topic2\", \"Topic2\", \"Topic2\", \"Topic2\", \"Topic2\", \"Topic2\", \"Topic2\", \"Topic2\", \"Topic2\", \"Topic2\", \"Topic2\", \"Topic2\", \"Topic2\", \"Topic2\", \"Topic2\", \"Topic2\", \"Topic2\", \"Topic2\", \"Topic2\", \"Topic2\", \"Topic2\", \"Topic2\", \"Topic2\", \"Topic2\", \"Topic2\", \"Topic2\", \"Topic2\", \"Topic2\", \"Topic2\", \"Topic2\", \"Topic3\", \"Topic3\", \"Topic3\", \"Topic3\", \"Topic3\", \"Topic3\", \"Topic3\", \"Topic3\", \"Topic3\", \"Topic3\", \"Topic3\", \"Topic3\", \"Topic3\", \"Topic3\", \"Topic3\", \"Topic3\", \"Topic3\", \"Topic3\", \"Topic3\", \"Topic3\", \"Topic3\", \"Topic3\", \"Topic3\", \"Topic3\", \"Topic3\", \"Topic3\", \"Topic3\", \"Topic3\", \"Topic3\", \"Topic3\", \"Topic3\", \"Topic3\", \"Topic3\", \"Topic3\", \"Topic3\", \"Topic3\", \"Topic3\", \"Topic3\", \"Topic3\", \"Topic3\", \"Topic4\", \"Topic4\", \"Topic4\", \"Topic4\", \"Topic4\", \"Topic4\", \"Topic4\", \"Topic4\", \"Topic4\", \"Topic4\", \"Topic4\", \"Topic4\", \"Topic4\", \"Topic4\", \"Topic4\", \"Topic4\", \"Topic4\", \"Topic4\", \"Topic4\", \"Topic4\", \"Topic4\", \"Topic4\", \"Topic4\", \"Topic4\", \"Topic4\", \"Topic4\", \"Topic4\", \"Topic4\", \"Topic4\", \"Topic4\", \"Topic4\", \"Topic4\", \"Topic4\", \"Topic4\", \"Topic4\", \"Topic4\", \"Topic4\", \"Topic4\", \"Topic4\", \"Topic4\", \"Topic4\", \"Topic4\", \"Topic5\", \"Topic5\", \"Topic5\", \"Topic5\", \"Topic5\", \"Topic5\", \"Topic5\", \"Topic5\", \"Topic5\", \"Topic5\", \"Topic5\", \"Topic5\", \"Topic5\", \"Topic5\", \"Topic5\", \"Topic5\", \"Topic5\", \"Topic5\", \"Topic5\", \"Topic5\", \"Topic5\", \"Topic5\", \"Topic5\", \"Topic5\", \"Topic5\", \"Topic5\", \"Topic5\", \"Topic5\", \"Topic5\", \"Topic5\", \"Topic5\", \"Topic5\", \"Topic5\", \"Topic5\", \"Topic5\", \"Topic5\", \"Topic5\", \"Topic5\", \"Topic5\", \"Topic5\", \"Topic5\", \"Topic5\", \"Topic5\", \"Topic5\", \"Topic5\", \"Topic5\", \"Topic6\", \"Topic6\", \"Topic6\", \"Topic6\", \"Topic6\", \"Topic6\", \"Topic6\", \"Topic6\", \"Topic6\", \"Topic6\", \"Topic6\", \"Topic6\", \"Topic6\", \"Topic6\", \"Topic6\", \"Topic6\", \"Topic6\", \"Topic6\", \"Topic6\", \"Topic6\", \"Topic6\", \"Topic6\", \"Topic6\", \"Topic6\", \"Topic6\", \"Topic6\", \"Topic6\", \"Topic6\", \"Topic6\", \"Topic6\", \"Topic6\", \"Topic6\", \"Topic6\", \"Topic6\", \"Topic6\", \"Topic6\", \"Topic6\", \"Topic6\", \"Topic6\", \"Topic6\", \"Topic7\", \"Topic7\", \"Topic7\", \"Topic7\", \"Topic7\", \"Topic7\", \"Topic7\", \"Topic7\", \"Topic7\", \"Topic7\", \"Topic7\", \"Topic7\", \"Topic7\", \"Topic7\", \"Topic7\", \"Topic7\", \"Topic7\", \"Topic7\", \"Topic7\", \"Topic7\", \"Topic7\", \"Topic7\", \"Topic7\", \"Topic7\", \"Topic7\", \"Topic7\", \"Topic7\", \"Topic7\", \"Topic7\", \"Topic7\", \"Topic7\", \"Topic7\", \"Topic7\", \"Topic7\", \"Topic7\", \"Topic7\", \"Topic8\", \"Topic8\", \"Topic8\", \"Topic8\", \"Topic8\", \"Topic8\", \"Topic8\", \"Topic8\", \"Topic8\", \"Topic8\", \"Topic8\", \"Topic8\", \"Topic8\", \"Topic8\", \"Topic8\", \"Topic8\", \"Topic8\", \"Topic8\", \"Topic8\", \"Topic8\", \"Topic8\", \"Topic8\", \"Topic8\", \"Topic8\", \"Topic8\", \"Topic8\", \"Topic8\", \"Topic8\", \"Topic8\", \"Topic8\", \"Topic8\", \"Topic8\", \"Topic8\", \"Topic8\", \"Topic8\", \"Topic8\", \"Topic8\", \"Topic8\", \"Topic8\", \"Topic8\", \"Topic9\", \"Topic9\", \"Topic9\", \"Topic9\", \"Topic9\", \"Topic9\", \"Topic9\", \"Topic9\", \"Topic9\", \"Topic9\", \"Topic9\", \"Topic9\", \"Topic9\", \"Topic9\", \"Topic9\", \"Topic9\", \"Topic9\", \"Topic9\", \"Topic9\", \"Topic9\", \"Topic9\", \"Topic9\", \"Topic9\", \"Topic9\", \"Topic9\", \"Topic9\", \"Topic9\", \"Topic9\", \"Topic9\", \"Topic9\", \"Topic9\", \"Topic9\", \"Topic9\", \"Topic9\", \"Topic9\", \"Topic9\", \"Topic9\", \"Topic9\", \"Topic9\", \"Topic9\", \"Topic10\", \"Topic10\", \"Topic10\", \"Topic10\", \"Topic10\", \"Topic10\", \"Topic10\", \"Topic10\", \"Topic10\", \"Topic10\", \"Topic10\", \"Topic10\", \"Topic10\", \"Topic10\", \"Topic10\", \"Topic10\", \"Topic10\", \"Topic10\", \"Topic10\", \"Topic10\", \"Topic10\", \"Topic10\", \"Topic10\", \"Topic10\", \"Topic10\", \"Topic10\", \"Topic10\", \"Topic10\", \"Topic10\", \"Topic10\", \"Topic10\", \"Topic10\", \"Topic10\", \"Topic10\", \"Topic10\", \"Topic10\", \"Topic10\", \"Topic10\", \"Topic10\", \"Topic10\", \"Topic10\"], \"Freq\": [1.0, 1.0, 0.0, 0.0, 0.0, 0.0, 0.0, 0.0, 0.0, 0.0, 0.0, 0.0, 0.0, 0.0, 0.0, 0.0, 1.0, 1.0, 1.0, 1.0, 1.0, 1.0, 1.0, 1.0, 1.0, 1.0, 1.0, 1.0, 1.0, 1.0, 0.01301616057753563, 0.01301616057753563, 0.01301616057753563, 0.01301616057753563, 0.01301616057753563, 0.01301616057753563, 0.01301616057753563, 0.01301616057753563, 0.01301616057753563, 0.01301616057753563, 0.01301616057753563, 0.01301616057753563, 0.01301616057753563, 0.01301616057753563, 0.01301616057753563, 0.01301616057753563, 0.01301616057753563, 0.01301616057753563, 0.01301616057753563, 0.01301616057753563, 0.01301616057753563, 0.01301616057753563, 0.01301616057753563, 0.01301616057753563, 0.01301616057753563, 0.01301616057753563, 0.01301616057753563, 0.01301616057753563, 0.01301616057753563, 0.01301616057753563, 0.01301616057753563, 0.01301616057753563, 0.01301616057753563, 0.01301616057753563, 0.01301616057753563, 0.01301616057753563, 0.01301616057753563, 0.01301616057753563, 0.01301616057753563, 0.01301616057753563, 0.675714373588562, 0.675714373588562, 0.675714373588562, 0.675714373588562, 0.675714373588562, 0.675714373588562, 0.675714373588562, 0.6757142543792725, 0.6757142543792725, 0.6757142543792725, 0.6757142543792725, 1.2900046110153198, 0.06142880395054817, 0.06142880395054817, 0.06142880395054817, 0.06142880395054817, 0.06142880395054817, 0.06142880395054817, 0.06142880395054817, 0.06142880395054817, 0.06142880395054817, 0.06142880395054817, 0.06142880395054817, 0.06142880395054817, 0.06142880395054817, 0.06142880395054817, 0.06142880395054817, 0.06142880395054817, 0.06142880395054817, 0.06142880395054817, 0.06142880395054817, 0.06142880395054817, 0.06142880395054817, 0.06142880395054817, 0.06142880395054817, 0.06142880395054817, 0.06142880395054817, 0.06142880395054817, 0.06142880395054817, 0.06142880395054817, 0.06142880395054817, 0.01301616057753563, 0.01301616057753563, 0.01301616057753563, 0.01301616057753563, 0.01301616057753563, 0.01301616057753563, 0.01301616057753563, 0.01301616057753563, 0.01301616057753563, 0.01301616057753563, 0.01301616057753563, 0.01301616057753563, 0.01301616057753563, 0.01301616057753563, 0.01301616057753563, 0.01301616057753563, 0.01301616057753563, 0.01301616057753563, 0.01301616057753563, 0.01301616057753563, 0.01301616057753563, 0.01301616057753563, 0.01301616057753563, 0.01301616057753563, 0.01301616057753563, 0.01301616057753563, 0.01301616057753563, 0.01301616057753563, 0.01301616057753563, 0.01301616057753563, 0.01301616057753563, 0.01301616057753563, 0.01301616057753563, 0.01301616057753563, 0.01301616057753563, 0.01301616057753563, 0.01301616057753563, 0.01301616057753563, 0.01301616057753563, 0.01301616057753563, 0.6255437731742859, 0.6255437731742859, 0.6255437731742859, 0.6255437731742859, 0.6255437731742859, 0.6255437731742859, 0.6255437731742859, 0.6255437731742859, 0.6255406141281128, 0.056867778301239014, 0.056867778301239014, 0.056867778301239014, 0.056867778301239014, 0.056867778301239014, 0.056867778301239014, 0.056867778301239014, 0.056867778301239014, 0.056867778301239014, 0.056867778301239014, 0.056867778301239014, 0.056867778301239014, 0.056867778301239014, 0.056867778301239014, 0.056867778301239014, 0.056867778301239014, 0.056867778301239014, 0.056867778301239014, 0.056867778301239014, 0.056867778301239014, 0.056867778301239014, 0.056867778301239014, 0.056867778301239014, 0.056867778301239014, 0.056867778301239014, 0.056867778301239014, 0.056867778301239014, 0.056867778301239014, 0.056867778301239014, 0.056867778301239014, 0.056867778301239014, 0.056867778301239014, 0.056867778301239014, 0.7128771543502808, 0.7128773331642151, 0.7128771543502808, 0.7128771543502808, 0.7128771543502808, 0.7128773331642151, 0.7128773331642151, 0.7128773331642151, 0.7128773331642151, 0.7128773331642151, 0.7128808498382568, 0.7128808498382568, 0.7128772139549255, 1.360951542854309, 0.06480728089809418, 0.06480728089809418, 0.06480728089809418, 0.06480728089809418, 0.06480728089809418, 0.06480728089809418, 0.06480728089809418, 0.06480728089809418, 0.06480728089809418, 0.06480728089809418, 0.06480728089809418, 0.06480728089809418, 0.06480728089809418, 0.06480728089809418, 0.06480728089809418, 0.06480728089809418, 0.06480728089809418, 0.06480728089809418, 0.06480728089809418, 0.06480728089809418, 0.06480728089809418, 0.06480728089809418, 0.06480728089809418, 0.06480728089809418, 0.06480728089809418, 0.06480728089809418, 0.06480728089809418, 0.06480728089809418, 0.06480728089809418, 0.06480728089809418, 0.06480728089809418, 0.06480728089809418, 0.01301616057753563, 0.01301616057753563, 0.01301616057753563, 0.01301616057753563, 0.01301616057753563, 0.01301616057753563, 0.01301616057753563, 0.01301616057753563, 0.01301616057753563, 0.01301616057753563, 0.01301616057753563, 0.01301616057753563, 0.01301616057753563, 0.01301616057753563, 0.01301616057753563, 0.01301616057753563, 0.01301616057753563, 0.01301616057753563, 0.01301616057753563, 0.01301616057753563, 0.01301616057753563, 0.01301616057753563, 0.01301616057753563, 0.01301616057753563, 0.01301616057753563, 0.01301616057753563, 0.01301616057753563, 0.01301616057753563, 0.01301616057753563, 0.01301616057753563, 0.01301616057753563, 0.01301616057753563, 0.01301616057753563, 0.01301616057753563, 0.01301616057753563, 0.01301616057753563, 0.01301616057753563, 0.01301616057753563, 0.01301616057753563, 0.01301616057753563, 1.5953924655914307, 1.5953924655914307, 0.8356788754463196, 0.8356788754463196, 0.8356788754463196, 0.8356788754463196, 0.8356788754463196, 0.8356788754463196, 0.8356788754463196, 0.8356788754463196, 0.8356783986091614, 0.8356783986091614, 0.8356783986091614, 0.8356783986091614, 0.8356783986091614, 0.8356783986091614, 0.8356783986091614, 0.8356783986091614, 0.8356783986091614, 0.8356783986091614, 0.8356785774230957, 0.8356743454933167, 0.8356743454933167, 3.114828109741211, 0.07597127556800842, 0.07597127556800842, 0.07597127556800842, 0.07597127556800842, 0.07597127556800842, 0.07597127556800842, 0.07597127556800842, 0.07597127556800842, 0.07597127556800842, 0.07597127556800842, 0.07597127556800842, 0.07597127556800842, 0.558775007724762, 0.558775007724762, 0.558775007724762, 0.558775007724762, 0.558775007724762, 0.558775007724762, 0.5587719678878784, 0.05079785734415054, 0.05079785734415054, 0.05079785734415054, 0.05079785734415054, 0.05079785734415054, 0.05079785734415054, 0.05079785734415054, 0.05079785734415054, 0.05079785734415054, 0.05079785734415054, 0.05079785734415054, 0.05079785734415054, 0.05079785734415054, 0.05079785734415054, 0.05079785734415054, 0.05079785734415054, 0.05079785734415054, 0.05079785734415054, 0.05079785734415054, 0.05079785734415054, 0.05079785734415054, 0.05079785734415054, 0.05079785734415054, 0.05079785734415054, 0.05079785734415054, 0.05079785734415054, 0.05079785734415054, 0.05079785734415054, 0.05079785734415054, 0.05079785734415054, 0.05079785734415054, 0.05079785734415054, 0.05079785734415054, 0.01301616057753563, 0.01301616057753563, 0.01301616057753563, 0.01301616057753563, 0.01301616057753563, 0.01301616057753563, 0.01301616057753563, 0.01301616057753563, 0.01301616057753563, 0.01301616057753563, 0.01301616057753563, 0.01301616057753563, 0.01301616057753563, 0.01301616057753563, 0.01301616057753563, 0.01301616057753563, 0.01301616057753563, 0.01301616057753563, 0.01301616057753563, 0.01301616057753563, 0.01301616057753563, 0.01301616057753563, 0.01301616057753563, 0.01301616057753563, 0.01301616057753563, 0.01301616057753563, 0.01301616057753563, 0.01301616057753563, 0.01301616057753563, 0.01301616057753563, 0.01301616057753563, 0.01301616057753563, 0.01301616057753563, 0.01301616057753563, 0.01301616057753563, 0.01301616057753563, 0.01301616057753563, 0.01301616057753563, 0.01301616057753563, 0.01301616057753563, 0.6531899571418762, 0.6531899571418762, 0.6531899571418762, 0.6531899571418762, 0.6531899571418762, 0.6531899571418762, 0.6531899571418762, 0.6531899571418762, 0.6531899571418762, 0.653186559677124, 0.05938108637928963, 0.05938108637928963, 0.05938108637928963, 0.05938108637928963, 0.05938108637928963, 0.05938108637928963, 0.05938108637928963, 0.05938108637928963, 0.05938108637928963, 0.05938108637928963, 0.05938108637928963, 0.05938108637928963, 0.05938108637928963, 0.05938108637928963, 0.05938108637928963, 0.05938108637928963, 0.05938108637928963, 0.05938108637928963, 0.05938108637928963, 0.05938108637928963, 0.05938108637928963, 0.05938108637928963, 0.05938108637928963, 0.05938108637928963, 0.05938108637928963, 0.05938108637928963, 0.05938108637928963, 0.05938108637928963, 0.05938108637928963, 0.05938108637928963, 0.05938108637928963], \"Term\": [\"reality\", \"virtual\", \"automobile\", \"alpina\", \"b\", \"listed\", \"magazine\", \"turbo\", \"tree\", \"driver\", \"express\", \"hospital\", \"smash\", \"star\", \"stourbridge\", \"taken\", \"show\", \"video\", \"experience\", \"audi\", \"jaguar\", \"prove\", \"prowess\", \"ad\", \"advertisement\", \"war\", \"mercedes\", \"benz\", \"door\", \"judge\", \"turbo\", \"magazine\", \"listed\", \"b\", \"automobile\", \"alpina\", \"taken\", \"tree\", \"express\", \"stourbridge\", \"star\", \"driver\", \"smash\", \"hospital\", \"mercedes\", \"ad\", \"advertisement\", \"audi\", \"benz\", \"jaguar\", \"prove\", \"prowess\", \"war\", \"growth\", \"sale\", \"upbeat\", \"sustained\", \"law\", \"shuts\", \"softclose\", \"suit\", \"judge\", \"door\", \"protonic\", \"yellow\", \"defect\", \"look\", \"frozen\", \"edition\", \"cool\", \"law\", \"softclose\", \"defect\", \"door\", \"judge\", \"suit\", \"shuts\", \"growth\", \"sale\", \"sustained\", \"upbeat\", \"bmw\", \"alpina\", \"automobile\", \"b\", \"listed\", \"magazine\", \"turbo\", \"taken\", \"tree\", \"stourbridge\", \"star\", \"smash\", \"hospital\", \"driver\", \"express\", \"prowess\", \"ad\", \"advertisement\", \"audi\", \"mercedes\", \"war\", \"prove\", \"protonic\", \"yellow\", \"frozen\", \"look\", \"edition\", \"cool\", \"jaguar\", \"benz\", \"turbo\", \"magazine\", \"listed\", \"b\", \"automobile\", \"alpina\", \"taken\", \"tree\", \"express\", \"stourbridge\", \"star\", \"driver\", \"smash\", \"hospital\", \"mercedes\", \"ad\", \"advertisement\", \"audi\", \"benz\", \"jaguar\", \"prove\", \"prowess\", \"war\", \"growth\", \"sale\", \"upbeat\", \"sustained\", \"law\", \"shuts\", \"softclose\", \"suit\", \"judge\", \"door\", \"protonic\", \"yellow\", \"defect\", \"look\", \"frozen\", \"edition\", \"cool\", \"tree\", \"taken\", \"stourbridge\", \"star\", \"smash\", \"hospital\", \"express\", \"driver\", \"bmw\", \"b\", \"turbo\", \"listed\", \"automobile\", \"alpina\", \"magazine\", \"ad\", \"mercedes\", \"advertisement\", \"war\", \"prove\", \"prowess\", \"jaguar\", \"benz\", \"audi\", \"upbeat\", \"sustained\", \"sale\", \"growth\", \"defect\", \"judge\", \"law\", \"shuts\", \"softclose\", \"test\", \"cool\", \"suit\", \"door\", \"yellow\", \"protonic\", \"look\", \"frozen\", \"edition\", \"driving\", \"f\", \"part\", \"take\", \"ultimate\", \"x\", \"test\", \"suv\", \"stress\", \"spy\", \"show\", \"video\", \"experience\", \"bmw\", \"alpina\", \"automobile\", \"b\", \"listed\", \"magazine\", \"turbo\", \"driver\", \"hospital\", \"express\", \"taken\", \"stourbridge\", \"star\", \"smash\", \"tree\", \"mercedes\", \"ad\", \"war\", \"audi\", \"benz\", \"shuts\", \"law\", \"judge\", \"door\", \"defect\", \"yellow\", \"protonic\", \"look\", \"frozen\", \"edition\", \"cool\", \"prowess\", \"prove\", \"turbo\", \"magazine\", \"listed\", \"b\", \"automobile\", \"alpina\", \"taken\", \"tree\", \"express\", \"stourbridge\", \"star\", \"driver\", \"smash\", \"hospital\", \"mercedes\", \"ad\", \"advertisement\", \"audi\", \"benz\", \"jaguar\", \"prove\", \"prowess\", \"war\", \"growth\", \"sale\", \"upbeat\", \"sustained\", \"law\", \"shuts\", \"softclose\", \"suit\", \"judge\", \"door\", \"protonic\", \"yellow\", \"defect\", \"look\", \"frozen\", \"edition\", \"cool\", \"reality\", \"virtual\", \"becomes\", \"reporter\", \"motorcycle\", \"long\", \"offer\", \"dealer\", \"first\", \"beach\", \"yellow\", \"protonic\", \"look\", \"frozen\", \"performance\", \"overview\", \"nyc\", \"auto\", \"edition\", \"cool\", \"experience\", \"video\", \"show\", \"bmw\", \"turbo\", \"magazine\", \"listed\", \"b\", \"automobile\", \"alpina\", \"mercedes\", \"defect\", \"war\", \"judge\", \"door\", \"upbeat\", \"alpina\", \"automobile\", \"b\", \"listed\", \"magazine\", \"turbo\", \"bmw\", \"taken\", \"tree\", \"smash\", \"driver\", \"hospital\", \"star\", \"stourbridge\", \"express\", \"ad\", \"mercedes\", \"advertisement\", \"war\", \"prove\", \"prowess\", \"jaguar\", \"benz\", \"audi\", \"upbeat\", \"sustained\", \"sale\", \"growth\", \"defect\", \"judge\", \"law\", \"shuts\", \"softclose\", \"suit\", \"door\", \"yellow\", \"protonic\", \"look\", \"edition\", \"cool\", \"turbo\", \"magazine\", \"listed\", \"b\", \"automobile\", \"alpina\", \"taken\", \"tree\", \"express\", \"stourbridge\", \"star\", \"driver\", \"smash\", \"hospital\", \"mercedes\", \"ad\", \"advertisement\", \"audi\", \"benz\", \"jaguar\", \"prove\", \"prowess\", \"war\", \"growth\", \"sale\", \"upbeat\", \"sustained\", \"law\", \"shuts\", \"softclose\", \"suit\", \"judge\", \"door\", \"protonic\", \"yellow\", \"defect\", \"look\", \"frozen\", \"edition\", \"cool\", \"prove\", \"prowess\", \"ad\", \"advertisement\", \"audi\", \"benz\", \"jaguar\", \"mercedes\", \"war\", \"bmw\", \"alpina\", \"automobile\", \"b\", \"listed\", \"magazine\", \"turbo\", \"taken\", \"tree\", \"smash\", \"stourbridge\", \"star\", \"hospital\", \"express\", \"driver\", \"growth\", \"sale\", \"sustained\", \"upbeat\", \"door\", \"law\", \"judge\", \"defect\", \"shuts\", \"suit\", \"softclose\", \"frozen\", \"yellow\", \"protonic\", \"look\", \"edition\", \"cool\"], \"Total\": [1.0, 1.0, 0.0, 0.0, 0.0, 0.0, 0.0, 0.0, 0.0, 0.0, 0.0, 0.0, 0.0, 0.0, 0.0, 0.0, 1.0, 1.0, 1.0, 1.0, 1.0, 1.0, 1.0, 1.0, 1.0, 1.0, 1.0, 1.0, 1.0, 1.0, 0.9292958974838257, 0.9292958974838257, 0.9292958974838257, 0.9292958974838257, 0.9292958974838257, 0.9292958974838257, 0.9899947047233582, 0.9899947047233582, 0.9899947047233582, 0.9899947047233582, 0.9899947047233582, 0.9899947047233582, 0.9899947047233582, 0.9899947047233582, 1.0151276588439941, 1.0151276588439941, 1.0151276588439941, 1.0151276588439941, 1.0151276588439941, 1.0151276588439941, 1.0151276588439941, 1.0151276588439941, 1.0151276588439941, 1.0356042385101318, 1.0356042385101318, 1.0356042385101318, 1.0356042385101318, 1.0356043577194214, 1.0356043577194214, 1.0356043577194214, 1.0356043577194214, 1.0356043577194214, 1.0356043577194214, 1.1810258626937866, 1.1810258626937866, 1.0356043577194214, 1.1810258626937866, 1.1810258626937866, 1.1810258626937866, 1.1810258626937866, 1.0356043577194214, 1.0356043577194214, 1.0356043577194214, 1.0356043577194214, 1.0356043577194214, 1.0356043577194214, 1.0356043577194214, 1.0356042385101318, 1.0356042385101318, 1.0356042385101318, 1.0356042385101318, 7.65534782409668, 0.9292958974838257, 0.9292958974838257, 0.9292958974838257, 0.9292958974838257, 0.9292958974838257, 0.9292958974838257, 0.9899947047233582, 0.9899947047233582, 0.9899947047233582, 0.9899947047233582, 0.9899947047233582, 0.9899947047233582, 0.9899947047233582, 0.9899947047233582, 1.0151276588439941, 1.0151276588439941, 1.0151276588439941, 1.0151276588439941, 1.0151276588439941, 1.0151276588439941, 1.0151276588439941, 1.1810258626937866, 1.1810258626937866, 1.1810258626937866, 1.1810258626937866, 1.1810258626937866, 1.1810258626937866, 1.0151276588439941, 1.0151276588439941, 0.9292958974838257, 0.9292958974838257, 0.9292958974838257, 0.9292958974838257, 0.9292958974838257, 0.9292958974838257, 0.9899947047233582, 0.9899947047233582, 0.9899947047233582, 0.9899947047233582, 0.9899947047233582, 0.9899947047233582, 0.9899947047233582, 0.9899947047233582, 1.0151276588439941, 1.0151276588439941, 1.0151276588439941, 1.0151276588439941, 1.0151276588439941, 1.0151276588439941, 1.0151276588439941, 1.0151276588439941, 1.0151276588439941, 1.0356042385101318, 1.0356042385101318, 1.0356042385101318, 1.0356042385101318, 1.0356043577194214, 1.0356043577194214, 1.0356043577194214, 1.0356043577194214, 1.0356043577194214, 1.0356043577194214, 1.1810258626937866, 1.1810258626937866, 1.0356043577194214, 1.1810258626937866, 1.1810258626937866, 1.1810258626937866, 1.1810258626937866, 0.9899947047233582, 0.9899947047233582, 0.9899947047233582, 0.9899947047233582, 0.9899947047233582, 0.9899947047233582, 0.9899947047233582, 0.9899947047233582, 7.65534782409668, 0.9292958974838257, 0.9292958974838257, 0.9292958974838257, 0.9292958974838257, 0.9292958974838257, 0.9292958974838257, 1.0151276588439941, 1.0151276588439941, 1.0151276588439941, 1.0151276588439941, 1.0151276588439941, 1.0151276588439941, 1.0151276588439941, 1.0151276588439941, 1.0151276588439941, 1.0356042385101318, 1.0356042385101318, 1.0356042385101318, 1.0356042385101318, 1.0356043577194214, 1.0356043577194214, 1.0356043577194214, 1.0356043577194214, 1.0356043577194214, 1.0693888664245605, 1.1810258626937866, 1.0356043577194214, 1.0356043577194214, 1.1810258626937866, 1.1810258626937866, 1.1810258626937866, 1.1810258626937866, 1.1810258626937866, 1.0693886280059814, 1.0693888664245605, 1.0693886280059814, 1.0693886280059814, 1.0693886280059814, 1.0693888664245605, 1.0693888664245605, 1.0693888664245605, 1.0693888664245605, 1.0693888664245605, 1.8290952444076538, 1.8290952444076538, 1.8290959596633911, 7.65534782409668, 0.9292958974838257, 0.9292958974838257, 0.9292958974838257, 0.9292958974838257, 0.9292958974838257, 0.9292958974838257, 0.9899947047233582, 0.9899947047233582, 0.9899947047233582, 0.9899947047233582, 0.9899947047233582, 0.9899947047233582, 0.9899947047233582, 0.9899947047233582, 1.0151276588439941, 1.0151276588439941, 1.0151276588439941, 1.0151276588439941, 1.0151276588439941, 1.0356043577194214, 1.0356043577194214, 1.0356043577194214, 1.0356043577194214, 1.0356043577194214, 1.1810258626937866, 1.1810258626937866, 1.1810258626937866, 1.1810258626937866, 1.1810258626937866, 1.1810258626937866, 1.0151276588439941, 1.0151276588439941, 0.9292958974838257, 0.9292958974838257, 0.9292958974838257, 0.9292958974838257, 0.9292958974838257, 0.9292958974838257, 0.9899947047233582, 0.9899947047233582, 0.9899947047233582, 0.9899947047233582, 0.9899947047233582, 0.9899947047233582, 0.9899947047233582, 0.9899947047233582, 1.0151276588439941, 1.0151276588439941, 1.0151276588439941, 1.0151276588439941, 1.0151276588439941, 1.0151276588439941, 1.0151276588439941, 1.0151276588439941, 1.0151276588439941, 1.0356042385101318, 1.0356042385101318, 1.0356042385101318, 1.0356042385101318, 1.0356043577194214, 1.0356043577194214, 1.0356043577194214, 1.0356043577194214, 1.0356043577194214, 1.0356043577194214, 1.1810258626937866, 1.1810258626937866, 1.0356043577194214, 1.1810258626937866, 1.1810258626937866, 1.1810258626937866, 1.1810258626937866, 1.9407398700714111, 1.9407398700714111, 1.1810263395309448, 1.1810263395309448, 1.1810263395309448, 1.1810263395309448, 1.1810263395309448, 1.1810263395309448, 1.1810263395309448, 1.1810263395309448, 1.1810258626937866, 1.1810258626937866, 1.1810258626937866, 1.1810258626937866, 1.1810258626937866, 1.1810258626937866, 1.1810258626937866, 1.1810258626937866, 1.1810258626937866, 1.1810258626937866, 1.8290959596633911, 1.8290952444076538, 1.8290952444076538, 7.65534782409668, 0.9292958974838257, 0.9292958974838257, 0.9292958974838257, 0.9292958974838257, 0.9292958974838257, 0.9292958974838257, 1.0151276588439941, 1.0356043577194214, 1.0151276588439941, 1.0356043577194214, 1.0356043577194214, 1.0356042385101318, 0.9292958974838257, 0.9292958974838257, 0.9292958974838257, 0.9292958974838257, 0.9292958974838257, 0.9292958974838257, 7.65534782409668, 0.9899947047233582, 0.9899947047233582, 0.9899947047233582, 0.9899947047233582, 0.9899947047233582, 0.9899947047233582, 0.9899947047233582, 0.9899947047233582, 1.0151276588439941, 1.0151276588439941, 1.0151276588439941, 1.0151276588439941, 1.0151276588439941, 1.0151276588439941, 1.0151276588439941, 1.0151276588439941, 1.0151276588439941, 1.0356042385101318, 1.0356042385101318, 1.0356042385101318, 1.0356042385101318, 1.0356043577194214, 1.0356043577194214, 1.0356043577194214, 1.0356043577194214, 1.0356043577194214, 1.0356043577194214, 1.0356043577194214, 1.1810258626937866, 1.1810258626937866, 1.1810258626937866, 1.1810258626937866, 1.1810258626937866, 0.9292958974838257, 0.9292958974838257, 0.9292958974838257, 0.9292958974838257, 0.9292958974838257, 0.9292958974838257, 0.9899947047233582, 0.9899947047233582, 0.9899947047233582, 0.9899947047233582, 0.9899947047233582, 0.9899947047233582, 0.9899947047233582, 0.9899947047233582, 1.0151276588439941, 1.0151276588439941, 1.0151276588439941, 1.0151276588439941, 1.0151276588439941, 1.0151276588439941, 1.0151276588439941, 1.0151276588439941, 1.0151276588439941, 1.0356042385101318, 1.0356042385101318, 1.0356042385101318, 1.0356042385101318, 1.0356043577194214, 1.0356043577194214, 1.0356043577194214, 1.0356043577194214, 1.0356043577194214, 1.0356043577194214, 1.1810258626937866, 1.1810258626937866, 1.0356043577194214, 1.1810258626937866, 1.1810258626937866, 1.1810258626937866, 1.1810258626937866, 1.0151276588439941, 1.0151276588439941, 1.0151276588439941, 1.0151276588439941, 1.0151276588439941, 1.0151276588439941, 1.0151276588439941, 1.0151276588439941, 1.0151276588439941, 7.65534782409668, 0.9292958974838257, 0.9292958974838257, 0.9292958974838257, 0.9292958974838257, 0.9292958974838257, 0.9292958974838257, 0.9899947047233582, 0.9899947047233582, 0.9899947047233582, 0.9899947047233582, 0.9899947047233582, 0.9899947047233582, 0.9899947047233582, 0.9899947047233582, 1.0356042385101318, 1.0356042385101318, 1.0356042385101318, 1.0356042385101318, 1.0356043577194214, 1.0356043577194214, 1.0356043577194214, 1.0356043577194214, 1.0356043577194214, 1.0356043577194214, 1.0356043577194214, 1.1810258626937866, 1.1810258626937866, 1.1810258626937866, 1.1810258626937866, 1.1810258626937866, 1.1810258626937866], \"loglift\": [30.0, 29.0, 28.0, 27.0, 26.0, 25.0, 24.0, 23.0, 22.0, 21.0, 20.0, 19.0, 18.0, 17.0, 16.0, 15.0, 14.0, 13.0, 12.0, 11.0, 10.0, 9.0, 8.0, 7.0, 6.0, 5.0, 4.0, 3.0, 2.0, 1.0, 0.2727000117301941, 0.2727000117301941, 0.2727000117301941, 0.2727000117301941, 0.2727000117301941, 0.2727000117301941, 0.2093999981880188, 0.2093999981880188, 0.2093999981880188, 0.2093999981880188, 0.2093999981880188, 0.2093999981880188, 0.2093999981880188, 0.2093999981880188, 0.1843000054359436, 0.1843000054359436, 0.1843000054359436, 0.1843000054359436, 0.1843000054359436, 0.1843000054359436, 0.1843000054359436, 0.1843000054359436, 0.1843000054359436, 0.16429999470710754, 0.16429999470710754, 0.16429999470710754, 0.16429999470710754, 0.16429999470710754, 0.16429999470710754, 0.16429999470710754, 0.16429999470710754, 0.16429999470710754, 0.16429999470710754, 0.03290000185370445, 0.03290000185370445, 0.16429999470710754, 0.03290000185370445, 0.03290000185370445, 0.03290000185370445, 0.03290000185370445, 1.493499994277954, 1.493499994277954, 1.493499994277954, 1.493499994277954, 1.493499994277954, 1.493499994277954, 1.493499994277954, 1.493499994277954, 1.493499994277954, 1.493499994277954, 1.493499994277954, 0.1396999955177307, -0.7961000204086304, -0.7961000204086304, -0.7961000204086304, -0.7961000204086304, -0.7961000204086304, -0.7961000204086304, -0.8593999743461609, -0.8593999743461609, -0.8593999743461609, -0.8593999743461609, -0.8593999743461609, -0.8593999743461609, -0.8593999743461609, -0.8593999743461609, -0.8844000101089478, -0.8844000101089478, -0.8844000101089478, -0.8844000101089478, -0.8844000101089478, -0.8844000101089478, -0.8844000101089478, -1.0357999801635742, -1.0357999801635742, -1.0357999801635742, -1.0357999801635742, -1.0357999801635742, -1.0357999801635742, -0.8844000101089478, -0.8844000101089478, 0.2727000117301941, 0.2727000117301941, 0.2727000117301941, 0.2727000117301941, 0.2727000117301941, 0.2727000117301941, 0.2093999981880188, 0.2093999981880188, 0.2093999981880188, 0.2093999981880188, 0.2093999981880188, 0.2093999981880188, 0.2093999981880188, 0.2093999981880188, 0.1843000054359436, 0.1843000054359436, 0.1843000054359436, 0.1843000054359436, 0.1843000054359436, 0.1843000054359436, 0.1843000054359436, 0.1843000054359436, 0.1843000054359436, 0.16429999470710754, 0.16429999470710754, 0.16429999470710754, 0.16429999470710754, 0.16429999470710754, 0.16429999470710754, 0.16429999470710754, 0.16429999470710754, 0.16429999470710754, 0.16429999470710754, 0.03290000185370445, 0.03290000185370445, 0.16429999470710754, 0.03290000185370445, 0.03290000185370445, 0.03290000185370445, 0.03290000185370445, 1.76419997215271, 1.76419997215271, 1.76419997215271, 1.76419997215271, 1.76419997215271, 1.76419997215271, 1.76419997215271, 1.76419997215271, -0.28130000829696655, -0.5703999996185303, -0.5703999996185303, -0.5703999996185303, -0.5703999996185303, -0.5703999996185303, -0.5703999996185303, -0.6588000059127808, -0.6588000059127808, -0.6588000059127808, -0.6588000059127808, -0.6588000059127808, -0.6588000059127808, -0.6588000059127808, -0.6588000059127808, -0.6588000059127808, -0.6786999702453613, -0.6786999702453613, -0.6786999702453613, -0.6786999702453613, -0.6786999702453613, -0.6786999702453613, -0.6786999702453613, -0.6786999702453613, -0.6786999702453613, -0.7107999920845032, -0.8101000189781189, -0.6786999702453613, -0.6786999702453613, -0.8101000189781189, -0.8101000189781189, -0.8101000189781189, -0.8101000189781189, -0.8101000189781189, 1.3652000427246094, 1.3652000427246094, 1.3652000427246094, 1.3652000427246094, 1.3652000427246094, 1.3652000427246094, 1.3652000427246094, 1.3652000427246094, 1.3652000427246094, 1.3652000427246094, 0.8284000158309937, 0.8284000158309937, 0.8284000158309937, 0.04349999874830246, -0.892300009727478, -0.892300009727478, -0.892300009727478, -0.892300009727478, -0.892300009727478, -0.892300009727478, -0.9556000232696533, -0.9556000232696533, -0.9556000232696533, -0.9556000232696533, -0.9556000232696533, -0.9556000232696533, -0.9556000232696533, -0.9556000232696533, -0.9807000160217285, -0.9807000160217285, -0.9807000160217285, -0.9807000160217285, -0.9807000160217285, -1.000599980354309, -1.000599980354309, -1.000599980354309, -1.000599980354309, -1.000599980354309, -1.1319999694824219, -1.1319999694824219, -1.1319999694824219, -1.1319999694824219, -1.1319999694824219, -1.1319999694824219, -0.9807000160217285, -0.9807000160217285, 0.2727000117301941, 0.2727000117301941, 0.2727000117301941, 0.2727000117301941, 0.2727000117301941, 0.2727000117301941, 0.2093999981880188, 0.2093999981880188, 0.2093999981880188, 0.2093999981880188, 0.2093999981880188, 0.2093999981880188, 0.2093999981880188, 0.2093999981880188, 0.1843000054359436, 0.1843000054359436, 0.1843000054359436, 0.1843000054359436, 0.1843000054359436, 0.1843000054359436, 0.1843000054359436, 0.1843000054359436, 0.1843000054359436, 0.16429999470710754, 0.16429999470710754, 0.16429999470710754, 0.16429999470710754, 0.16429999470710754, 0.16429999470710754, 0.16429999470710754, 0.16429999470710754, 0.16429999470710754, 0.16429999470710754, 0.03290000185370445, 0.03290000185370445, 0.16429999470710754, 0.03290000185370445, 0.03290000185370445, 0.03290000185370445, 0.03290000185370445, 0.9197999835014343, 0.9197999835014343, 0.7698000073432922, 0.7698000073432922, 0.7698000073432922, 0.7698000073432922, 0.7698000073432922, 0.7698000073432922, 0.7698000073432922, 0.7698000073432922, 0.7698000073432922, 0.7698000073432922, 0.7698000073432922, 0.7698000073432922, 0.7698000073432922, 0.7698000073432922, 0.7698000073432922, 0.7698000073432922, 0.7698000073432922, 0.7698000073432922, 0.33239999413490295, 0.33239999413490295, 0.33239999413490295, 0.21649999916553497, -1.3883999586105347, -1.3883999586105347, -1.3883999586105347, -1.3883999586105347, -1.3883999586105347, -1.3883999586105347, -1.476699948310852, -1.4967000484466553, -1.476699948310852, -1.4967000484466553, -1.4967000484466553, -1.4967000484466553, 1.9628000259399414, 1.9628000259399414, 1.9628000259399414, 1.9628000259399414, 1.9628000259399414, 1.9628000259399414, -0.14589999616146088, -0.4984000027179718, -0.4984000027179718, -0.4984000027179718, -0.4984000027179718, -0.4984000027179718, -0.4984000027179718, -0.4984000027179718, -0.4984000027179718, -0.5234000086784363, -0.5234000086784363, -0.5234000086784363, -0.5234000086784363, -0.5234000086784363, -0.5234000086784363, -0.5234000086784363, -0.5234000086784363, -0.5234000086784363, -0.54339998960495, -0.54339998960495, -0.54339998960495, -0.54339998960495, -0.54339998960495, -0.54339998960495, -0.54339998960495, -0.54339998960495, -0.54339998960495, -0.54339998960495, -0.54339998960495, -0.6747999787330627, -0.6747999787330627, -0.6747999787330627, -0.6747999787330627, -0.6747999787330627, 0.2727000117301941, 0.2727000117301941, 0.2727000117301941, 0.2727000117301941, 0.2727000117301941, 0.2727000117301941, 0.2093999981880188, 0.2093999981880188, 0.2093999981880188, 0.2093999981880188, 0.2093999981880188, 0.2093999981880188, 0.2093999981880188, 0.2093999981880188, 0.1843000054359436, 0.1843000054359436, 0.1843000054359436, 0.1843000054359436, 0.1843000054359436, 0.1843000054359436, 0.1843000054359436, 0.1843000054359436, 0.1843000054359436, 0.16429999470710754, 0.16429999470710754, 0.16429999470710754, 0.16429999470710754, 0.16429999470710754, 0.16429999470710754, 0.16429999470710754, 0.16429999470710754, 0.16429999470710754, 0.16429999470710754, 0.03290000185370445, 0.03290000185370445, 0.16429999470710754, 0.03290000185370445, 0.03290000185370445, 0.03290000185370445, 0.03290000185370445, 1.6778000593185425, 1.6778000593185425, 1.6778000593185425, 1.6778000593185425, 1.6778000593185425, 1.6778000593185425, 1.6778000593185425, 1.6778000593185425, 1.6778000593185425, -0.3425999879837036, -0.6317999958992004, -0.6317999958992004, -0.6317999958992004, -0.6317999958992004, -0.6317999958992004, -0.6317999958992004, -0.6951000094413757, -0.6951000094413757, -0.6951000094413757, -0.6951000094413757, -0.6951000094413757, -0.6951000094413757, -0.6951000094413757, -0.6951000094413757, -0.7401000261306763, -0.7401000261306763, -0.7401000261306763, -0.7401000261306763, -0.7401000261306763, -0.7401000261306763, -0.7401000261306763, -0.7401000261306763, -0.7401000261306763, -0.7401000261306763, -0.7401000261306763, -0.8715000152587891, -0.8715000152587891, -0.8715000152587891, -0.8715000152587891, -0.8715000152587891, -0.8715000152587891], \"logprob\": [30.0, 29.0, 28.0, 27.0, 26.0, 25.0, 24.0, 23.0, 22.0, 21.0, 20.0, 19.0, 18.0, 17.0, 16.0, 15.0, 14.0, 13.0, 12.0, 11.0, 10.0, 9.0, 8.0, 7.0, 6.0, 5.0, 4.0, 3.0, 2.0, 1.0, -4.2195000648498535, -4.2195000648498535, -4.2195000648498535, -4.2195000648498535, -4.2195000648498535, -4.2195000648498535, -4.2195000648498535, -4.2195000648498535, -4.2195000648498535, -4.2195000648498535, -4.2195000648498535, -4.2195000648498535, -4.2195000648498535, -4.2195000648498535, -4.2195000648498535, -4.2195000648498535, -4.2195000648498535, -4.2195000648498535, -4.2195000648498535, -4.2195000648498535, -4.2195000648498535, -4.2195000648498535, -4.2195000648498535, -4.2195000648498535, -4.2195000648498535, -4.2195000648498535, -4.2195000648498535, -4.2195000648498535, -4.2195000648498535, -4.2195000648498535, -4.2195000648498535, -4.2195000648498535, -4.2195000648498535, -4.2195000648498535, -4.2195000648498535, -4.2195000648498535, -4.2195000648498535, -4.2195000648498535, -4.2195000648498535, -4.2195000648498535, -2.890399932861328, -2.890399932861328, -2.890399932861328, -2.890399932861328, -2.890399932861328, -2.890399932861328, -2.890399932861328, -2.890399932861328, -2.890399932861328, -2.890399932861328, -2.890399932861328, -2.2437000274658203, -5.288300037384033, -5.288300037384033, -5.288300037384033, -5.288300037384033, -5.288300037384033, -5.288300037384033, -5.288300037384033, -5.288300037384033, -5.288300037384033, -5.288300037384033, -5.288300037384033, -5.288300037384033, -5.288300037384033, -5.288300037384033, -5.288300037384033, -5.288300037384033, -5.288300037384033, -5.288300037384033, -5.288300037384033, -5.288300037384033, -5.288300037384033, -5.288300037384033, -5.288300037384033, -5.288300037384033, -5.288300037384033, -5.288300037384033, -5.288300037384033, -5.288300037384033, -5.288300037384033, -4.2195000648498535, -4.2195000648498535, -4.2195000648498535, -4.2195000648498535, -4.2195000648498535, -4.2195000648498535, -4.2195000648498535, -4.2195000648498535, -4.2195000648498535, -4.2195000648498535, -4.2195000648498535, -4.2195000648498535, -4.2195000648498535, -4.2195000648498535, -4.2195000648498535, -4.2195000648498535, -4.2195000648498535, -4.2195000648498535, -4.2195000648498535, -4.2195000648498535, -4.2195000648498535, -4.2195000648498535, -4.2195000648498535, -4.2195000648498535, -4.2195000648498535, -4.2195000648498535, -4.2195000648498535, -4.2195000648498535, -4.2195000648498535, -4.2195000648498535, -4.2195000648498535, -4.2195000648498535, -4.2195000648498535, -4.2195000648498535, -4.2195000648498535, -4.2195000648498535, -4.2195000648498535, -4.2195000648498535, -4.2195000648498535, -4.2195000648498535, -2.6647000312805176, -2.6647000312805176, -2.6647000312805176, -2.6647000312805176, -2.6647000312805176, -2.6647000312805176, -2.6647000312805176, -2.6647000312805176, -2.6647000312805176, -5.062600135803223, -5.062600135803223, -5.062600135803223, -5.062600135803223, -5.062600135803223, -5.062600135803223, -5.062600135803223, -5.062600135803223, -5.062600135803223, -5.062600135803223, -5.062600135803223, -5.062600135803223, -5.062600135803223, -5.062600135803223, -5.062600135803223, -5.062600135803223, -5.062600135803223, -5.062600135803223, -5.062600135803223, -5.062600135803223, -5.062600135803223, -5.062600135803223, -5.062600135803223, -5.062600135803223, -5.062600135803223, -5.062600135803223, -5.062600135803223, -5.062600135803223, -5.062600135803223, -5.062600135803223, -5.062600135803223, -5.062600135803223, -5.062600135803223, -2.986599922180176, -2.986599922180176, -2.986599922180176, -2.986599922180176, -2.986599922180176, -2.986599922180176, -2.986599922180176, -2.986599922180176, -2.986599922180176, -2.986599922180176, -2.986599922180176, -2.986599922180176, -2.986599922180176, -2.3399999141693115, -5.384500026702881, -5.384500026702881, -5.384500026702881, -5.384500026702881, -5.384500026702881, -5.384500026702881, -5.384500026702881, -5.384500026702881, -5.384500026702881, -5.384500026702881, -5.384500026702881, -5.384500026702881, -5.384500026702881, -5.384500026702881, -5.384500026702881, -5.384500026702881, -5.384500026702881, -5.384500026702881, -5.384500026702881, -5.384500026702881, -5.384500026702881, -5.384500026702881, -5.384500026702881, -5.384500026702881, -5.384500026702881, -5.384500026702881, -5.384500026702881, -5.384500026702881, -5.384500026702881, -5.384500026702881, -5.384500026702881, -5.384500026702881, -4.2195000648498535, -4.2195000648498535, -4.2195000648498535, -4.2195000648498535, -4.2195000648498535, -4.2195000648498535, -4.2195000648498535, -4.2195000648498535, -4.2195000648498535, -4.2195000648498535, -4.2195000648498535, -4.2195000648498535, -4.2195000648498535, -4.2195000648498535, -4.2195000648498535, -4.2195000648498535, -4.2195000648498535, -4.2195000648498535, -4.2195000648498535, -4.2195000648498535, -4.2195000648498535, -4.2195000648498535, -4.2195000648498535, -4.2195000648498535, -4.2195000648498535, -4.2195000648498535, -4.2195000648498535, -4.2195000648498535, -4.2195000648498535, -4.2195000648498535, -4.2195000648498535, -4.2195000648498535, -4.2195000648498535, -4.2195000648498535, -4.2195000648498535, -4.2195000648498535, -4.2195000648498535, -4.2195000648498535, -4.2195000648498535, -4.2195000648498535, -2.8359999656677246, -2.8359999656677246, -3.482599973678589, -3.482599973678589, -3.482599973678589, -3.482599973678589, -3.482599973678589, -3.482599973678589, -3.482599973678589, -3.482599973678589, -3.482599973678589, -3.482599973678589, -3.482599973678589, -3.482599973678589, -3.482599973678589, -3.482599973678589, -3.482599973678589, -3.482599973678589, -3.482599973678589, -3.482599973678589, -3.482599973678589, -3.482599973678589, -3.482599973678589, -2.1670000553131104, -5.880499839782715, -5.880499839782715, -5.880499839782715, -5.880499839782715, -5.880499839782715, -5.880499839782715, -5.880499839782715, -5.880499839782715, -5.880499839782715, -5.880499839782715, -5.880499839782715, -5.880499839782715, -2.529400110244751, -2.529400110244751, -2.529400110244751, -2.529400110244751, -2.529400110244751, -2.529400110244751, -2.529400110244751, -4.927299976348877, -4.927299976348877, -4.927299976348877, -4.927299976348877, -4.927299976348877, -4.927299976348877, -4.927299976348877, -4.927299976348877, -4.927299976348877, -4.927299976348877, -4.927299976348877, -4.927299976348877, -4.927299976348877, -4.927299976348877, -4.927299976348877, -4.927299976348877, -4.927299976348877, -4.927299976348877, -4.927299976348877, -4.927299976348877, -4.927299976348877, -4.927299976348877, -4.927299976348877, -4.927299976348877, -4.927299976348877, -4.927299976348877, -4.927299976348877, -4.927299976348877, -4.927299976348877, -4.927299976348877, -4.927299976348877, -4.927299976348877, -4.927299976348877, -4.2195000648498535, -4.2195000648498535, -4.2195000648498535, -4.2195000648498535, -4.2195000648498535, -4.2195000648498535, -4.2195000648498535, -4.2195000648498535, -4.2195000648498535, -4.2195000648498535, -4.2195000648498535, -4.2195000648498535, -4.2195000648498535, -4.2195000648498535, -4.2195000648498535, -4.2195000648498535, -4.2195000648498535, -4.2195000648498535, -4.2195000648498535, -4.2195000648498535, -4.2195000648498535, -4.2195000648498535, -4.2195000648498535, -4.2195000648498535, -4.2195000648498535, -4.2195000648498535, -4.2195000648498535, -4.2195000648498535, -4.2195000648498535, -4.2195000648498535, -4.2195000648498535, -4.2195000648498535, -4.2195000648498535, -4.2195000648498535, -4.2195000648498535, -4.2195000648498535, -4.2195000648498535, -4.2195000648498535, -4.2195000648498535, -4.2195000648498535, -2.726099967956543, -2.726099967956543, -2.726099967956543, -2.726099967956543, -2.726099967956543, -2.726099967956543, -2.726099967956543, -2.726099967956543, -2.726099967956543, -2.726099967956543, -5.124000072479248, -5.124000072479248, -5.124000072479248, -5.124000072479248, -5.124000072479248, -5.124000072479248, -5.124000072479248, -5.124000072479248, -5.124000072479248, -5.124000072479248, -5.124000072479248, -5.124000072479248, -5.124000072479248, -5.124000072479248, -5.124000072479248, -5.124000072479248, -5.124000072479248, -5.124000072479248, -5.124000072479248, -5.124000072479248, -5.124000072479248, -5.124000072479248, -5.124000072479248, -5.124000072479248, -5.124000072479248, -5.124000072479248, -5.124000072479248, -5.124000072479248, -5.124000072479248, -5.124000072479248, -5.124000072479248]}, \"token.table\": {\"Topic\": [10, 10, 8, 10, 7, 8, 8, 7, 7, 10, 2, 4, 5, 7, 8, 10, 7, 7, 2, 2, 4, 5, 7, 5, 7, 4, 5, 7, 7, 2, 4, 10, 2, 2, 8, 7, 7, 8, 10, 7, 7, 7, 7, 5, 7, 7, 10, 10, 7, 7, 2, 5, 7, 2, 4, 2, 5, 4, 4, 5, 2, 2, 5, 5, 4, 5, 4, 8, 5, 2, 5, 7, 7, 10, 5, 7], \"Freq\": [0.9850977659225464, 0.9850977659225464, 1.0760835409164429, 0.9850977659225464, 0.8467215299606323, 1.0760835409164429, 1.0760835409164429, 0.8467211723327637, 0.8467211723327637, 0.9850977659225464, 0.13062763214111328, 0.13062763214111328, 0.13062763214111328, 0.39188292622566223, 0.13062763214111328, 0.13062763214111328, 0.8467215299606323, 0.8467211723327637, 0.9656197428703308, 0.9656197428703308, 1.0101064443588257, 0.9351137280464172, 0.8467215299606323, 0.546718180179596, 0.546718180179596, 1.0101064443588257, 0.9351135492324829, 0.8467211723327637, 0.8467215299606323, 0.9656198620796204, 1.0101064443588257, 0.9850977659225464, 0.9656197428703308, 0.9656197428703308, 1.0760835409164429, 0.8467211723327637, 0.8467215299606323, 1.0760835409164429, 0.9850977659225464, 0.8467211723327637, 0.8467215299606323, 0.8467211723327637, 0.8467215299606323, 0.9351137280464172, 0.8467215299606323, 0.8467215299606323, 0.9850977659225464, 0.9850977659225464, 1.0305348634719849, 0.8467211723327637, 0.9656198620796204, 0.5467183589935303, 0.5467183589935303, 0.9656197428703308, 1.0101064443588257, 0.9656197428703308, 0.9351135492324829, 1.0101064443588257, 1.0101064443588257, 0.9351135492324829, 0.9656197428703308, 0.9656198620796204, 0.9351135492324829, 0.9351137280464172, 1.0101064443588257, 0.9351135492324829, 1.0101064443588257, 1.0760835409164429, 0.9351137280464172, 0.9656198620796204, 0.5467183589935303, 0.5467183589935303, 1.0305348634719849, 0.9850977659225464, 0.9351135492324829, 0.8467215299606323], \"Term\": [\"ad\", \"advertisement\", \"alpina\", \"audi\", \"auto\", \"automobile\", \"b\", \"beach\", \"becomes\", \"benz\", \"bmw\", \"bmw\", \"bmw\", \"bmw\", \"bmw\", \"bmw\", \"cool\", \"dealer\", \"defect\", \"door\", \"driver\", \"driving\", \"edition\", \"experience\", \"experience\", \"express\", \"f\", \"first\", \"frozen\", \"growth\", \"hospital\", \"jaguar\", \"judge\", \"law\", \"listed\", \"long\", \"look\", \"magazine\", \"mercedes\", \"motorcycle\", \"nyc\", \"offer\", \"overview\", \"part\", \"performance\", \"protonic\", \"prove\", \"prowess\", \"reality\", \"reporter\", \"sale\", \"show\", \"show\", \"shuts\", \"smash\", \"softclose\", \"spy\", \"star\", \"stourbridge\", \"stress\", \"suit\", \"sustained\", \"suv\", \"take\", \"taken\", \"test\", \"tree\", \"turbo\", \"ultimate\", \"upbeat\", \"video\", \"video\", \"virtual\", \"war\", \"x\", \"yellow\"]}, \"R\": 30, \"lambda.step\": 0.01, \"plot.opts\": {\"xlab\": \"PC1\", \"ylab\": \"PC2\"}, \"topic.order\": [1, 2, 3, 4, 5, 6, 7, 8, 9, 10]};\n",
       "\n",
       "function LDAvis_load_lib(url, callback){\n",
       "  var s = document.createElement('script');\n",
       "  s.src = url;\n",
       "  s.async = true;\n",
       "  s.onreadystatechange = s.onload = callback;\n",
       "  s.onerror = function(){console.warn(\"failed to load library \" + url);};\n",
       "  document.getElementsByTagName(\"head\")[0].appendChild(s);\n",
       "}\n",
       "\n",
       "if(typeof(LDAvis) !== \"undefined\"){\n",
       "   // already loaded: just create the visualization\n",
       "   !function(LDAvis){\n",
       "       new LDAvis(\"#\" + \"ldavis_el3469351605214242733657337\", ldavis_el3469351605214242733657337_data);\n",
       "   }(LDAvis);\n",
       "}else if(typeof define === \"function\" && define.amd){\n",
       "   // require.js is available: use it to load d3/LDAvis\n",
       "   require.config({paths: {d3: \"https://cdnjs.cloudflare.com/ajax/libs/d3/3.5.5/d3.min\"}});\n",
       "   require([\"d3\"], function(d3){\n",
       "      window.d3 = d3;\n",
       "      LDAvis_load_lib(\"https://cdn.rawgit.com/bmabey/pyLDAvis/files/ldavis.v1.0.0.js\", function(){\n",
       "        new LDAvis(\"#\" + \"ldavis_el3469351605214242733657337\", ldavis_el3469351605214242733657337_data);\n",
       "      });\n",
       "    });\n",
       "}else{\n",
       "    // require.js not available: dynamically load d3 & LDAvis\n",
       "    LDAvis_load_lib(\"https://cdnjs.cloudflare.com/ajax/libs/d3/3.5.5/d3.min.js\", function(){\n",
       "         LDAvis_load_lib(\"https://cdn.rawgit.com/bmabey/pyLDAvis/files/ldavis.v1.0.0.js\", function(){\n",
       "                 new LDAvis(\"#\" + \"ldavis_el3469351605214242733657337\", ldavis_el3469351605214242733657337_data);\n",
       "            })\n",
       "         });\n",
       "}\n",
       "</script>"
      ],
      "text/plain": [
       "<IPython.core.display.HTML object>"
      ]
     },
     "execution_count": 28,
     "metadata": {},
     "output_type": "execute_result"
    }
   ],
   "source": [
    "lda_display = pyLDAvis.gensim.prepare(ldamodel, doc_term_matrix, dictionary, sort_topics=False, mds='mmds')\n",
    "pyLDAvis.display(lda_display)"
   ]
  },
  {
   "cell_type": "markdown",
   "metadata": {
    "collapsed": true
   },
   "source": [
    "### Applying LDA to tweets"
   ]
  },
  {
   "cell_type": "code",
   "execution_count": 29,
   "metadata": {},
   "outputs": [
    {
     "data": {
      "text/plain": [
       "['@Rachel_31297 wheres the Jeep Wrangler option',\n",
       " 'Check this out: 2016 JEEP PATRIOT LATITUDE 4X4  8500 MIAMIDADE 8500.00 USD https:t.coakPkANPpEn ads https:t.coL2WaZBsUTf',\n",
       " 'RT @Jeep: The Grand Cherokee Trackhawk is officially in production. Keep your eyes peeled for one in the wild. https:t.cobbiPfPXXax',\n",
       " 'RT @Jeep: Power stance. https:t.cokl0oC8Xvof',\n",
       " '@THEJeepMafia @Jeep Thanks, 28 but Chaos and Bear were awesome feet warmers  https:t.conNIoaRVXlW']"
      ]
     },
     "execution_count": 29,
     "metadata": {},
     "output_type": "execute_result"
    }
   ],
   "source": [
    "tweets_list = tweets_eng['text_clean'].tolist()\n",
    "tweets_list[:5]"
   ]
  },
  {
   "cell_type": "code",
   "execution_count": 30,
   "metadata": {},
   "outputs": [],
   "source": [
    "stop = set(stopwords.words('english'))\n",
    "exclude = set(string.punctuation)\n",
    "lemma = WordNetLemmatizer()\n",
    "def clean(doc):\n",
    "    stop_free = \" \".join([i for i in doc.lower().split() if i not in stop])\n",
    "    punc_free = ''.join(ch for ch in stop_free if ch not in exclude)\n",
    "    normalized = \" \".join(lemma.lemmatize(word) for word in punc_free.split())\n",
    "    return normalized\n",
    "\n",
    "tweet_clean = [clean(doc).split() for doc in tweets_list]"
   ]
  },
  {
   "cell_type": "code",
   "execution_count": 31,
   "metadata": {},
   "outputs": [
    {
     "name": "stdout",
     "output_type": "stream",
     "text": [
      "['rachel31297', 'wheres', 'jeep', 'wrangler', 'option']\n",
      "\n",
      "['check', 'out', '2016', 'jeep', 'patriot', 'latitude', '4x4', '8500', 'miamidade', '850000', 'usd', 'httpstcoakpkanppen', 'ad', 'httpstcol2wazbsutf']\n",
      "\n",
      "['rt', 'jeep', 'grand', 'cherokee', 'trackhawk', 'officially', 'production', 'keep', 'eye', 'peeled', 'one', 'wild', 'httpstcobbipfpxxax']\n"
     ]
    }
   ],
   "source": [
    "print(*tweet_clean[:3], sep='\\n\\n')"
   ]
  },
  {
   "cell_type": "code",
   "execution_count": 32,
   "metadata": {},
   "outputs": [
    {
     "name": "stdout",
     "output_type": "stream",
     "text": [
      "CPU times: user 437 ms, sys: 16.3 ms, total: 453 ms\n",
      "Wall time: 456 ms\n"
     ]
    }
   ],
   "source": [
    "# Creating the term dictionary of our corpus, where every unique term is assigned an index. \n",
    "\n",
    "dictionary = corpora.Dictionary(tweet_clean)\n",
    "\n",
    "# Converting list of documents (corpus) into Document Term Matrix using dictionary prepared above.\n",
    "\n",
    "%time doc_term_matrix = [dictionary.doc2bow(doc) for doc in tweet_clean]"
   ]
  },
  {
   "cell_type": "code",
   "execution_count": 33,
   "metadata": {},
   "outputs": [
    {
     "name": "stdout",
     "output_type": "stream",
     "text": [
      "CPU times: user 6min 47s, sys: 2.26 s, total: 6min 49s\n",
      "Wall time: 7min\n"
     ]
    }
   ],
   "source": [
    "#Using traditional LDA\n",
    "%time ldamodel = Lda(doc_term_matrix, num_topics=10, id2word = dictionary, passes=50)"
   ]
  },
  {
   "cell_type": "code",
   "execution_count": 34,
   "metadata": {},
   "outputs": [
    {
     "name": "stdout",
     "output_type": "stream",
     "text": [
      "CPU times: user 3min 56s, sys: 38.2 s, total: 4min 35s\n",
      "Wall time: 4min 43s\n"
     ]
    }
   ],
   "source": [
    "#Using multicore LDA\n",
    "%time ldamodel = LdaMulticore(doc_term_matrix, num_topics=10, id2word = dictionary, passes=50)"
   ]
  },
  {
   "cell_type": "code",
   "execution_count": 35,
   "metadata": {},
   "outputs": [
    {
     "name": "stdout",
     "output_type": "stream",
     "text": [
      "(0, '0.091*\"jeep\" + 0.049*\"rt\" + 0.019*\"blue\"')\n",
      "(1, '0.084*\"jeep\" + 0.035*\"rt\" + 0.029*\"wrangler\"')\n",
      "(2, '0.088*\"jeep\" + 0.044*\"photo\" + 0.042*\"rt\"')\n",
      "(3, '0.126*\"jeep\" + 0.053*\"rt\" + 0.048*\"cherokee\"')\n",
      "(4, '0.072*\"jeep\" + 0.026*\"rt\" + 0.018*\"cherokee\"')\n",
      "(5, '0.072*\"jeep\" + 0.031*\"2017\" + 0.031*\"video\"')\n",
      "(6, '0.105*\"giveaway\" + 0.064*\"jeep\" + 0.057*\"girl\"')\n",
      "(7, '0.108*\"jeep\" + 0.017*\"rt\" + 0.015*\"new\"')\n",
      "(8, '0.074*\"jeep\" + 0.043*\"rt\" + 0.027*\"chrysler\"')\n",
      "(9, '0.123*\"jeep\" + 0.064*\"wrangler\" + 0.031*\"rt\"')\n"
     ]
    }
   ],
   "source": [
    "print(*ldamodel.print_topics(num_topics=10, num_words=3), sep='\\n')"
   ]
  },
  {
   "cell_type": "code",
   "execution_count": 36,
   "metadata": {},
   "outputs": [
    {
     "name": "stdout",
     "output_type": "stream",
     "text": [
      "(0, '0.091*\"jeep\" + 0.049*\"rt\" + 0.019*\"blue\"')\n",
      "(1, '0.084*\"jeep\" + 0.035*\"rt\" + 0.029*\"wrangler\"')\n",
      "(2, '0.088*\"jeep\" + 0.044*\"photo\" + 0.042*\"rt\"')\n",
      "(3, '0.126*\"jeep\" + 0.053*\"rt\" + 0.048*\"cherokee\"')\n",
      "(4, '0.072*\"jeep\" + 0.026*\"rt\" + 0.018*\"cherokee\"')\n",
      "(5, '0.072*\"jeep\" + 0.031*\"2017\" + 0.031*\"video\"')\n",
      "(6, '0.105*\"giveaway\" + 0.064*\"jeep\" + 0.057*\"girl\"')\n",
      "(7, '0.108*\"jeep\" + 0.017*\"rt\" + 0.015*\"new\"')\n",
      "(8, '0.074*\"jeep\" + 0.043*\"rt\" + 0.027*\"chrysler\"')\n",
      "(9, '0.123*\"jeep\" + 0.064*\"wrangler\" + 0.031*\"rt\"')\n"
     ]
    }
   ],
   "source": [
    "print(*ldamodel.print_topics(num_topics=10, num_words=3), sep='\\n')"
   ]
  },
  {
   "cell_type": "code",
   "execution_count": 37,
   "metadata": {},
   "outputs": [
    {
     "name": "stdout",
     "output_type": "stream",
     "text": [
      "(0, '0.091*\"jeep\" + 0.049*\"rt\" + 0.019*\"blue\" + 0.016*\"matte\" + 0.013*\"jeepahoiics\"')\n",
      "\n",
      "(1, '0.084*\"jeep\" + 0.035*\"rt\" + 0.029*\"wrangler\" + 0.020*\"need\" + 0.018*\"check\"')\n",
      "\n",
      "(2, '0.088*\"jeep\" + 0.044*\"photo\" + 0.042*\"rt\" + 0.032*\"used\" + 0.025*\"spotted\"')\n",
      "\n",
      "(3, '0.126*\"jeep\" + 0.053*\"rt\" + 0.048*\"cherokee\" + 0.032*\"grand\" + 0.013*\"jeeplife\"')\n",
      "\n",
      "(4, '0.072*\"jeep\" + 0.026*\"rt\" + 0.018*\"cherokee\" + 0.012*\"thejeepmafia\" + 0.012*\"jeepmafia\"')\n",
      "\n",
      "(5, '0.072*\"jeep\" + 0.031*\"2017\" + 0.031*\"video\" + 0.026*\"youtube\" + 0.026*\"cherokee\"')\n",
      "\n",
      "(6, '0.105*\"giveaway\" + 0.064*\"jeep\" + 0.057*\"girl\" + 0.056*\"win\" + 0.054*\"small\"')\n",
      "\n",
      "(7, '0.108*\"jeep\" + 0.017*\"rt\" + 0.015*\"new\" + 0.013*\"car\" + 0.013*\"im\"')\n",
      "\n",
      "(8, '0.074*\"jeep\" + 0.043*\"rt\" + 0.027*\"chrysler\" + 0.023*\"dodge\" + 0.022*\"compass\"')\n",
      "\n",
      "(9, '0.123*\"jeep\" + 0.064*\"wrangler\" + 0.031*\"rt\" + 0.023*\"sport\" + 0.019*\"mile\"')\n"
     ]
    }
   ],
   "source": [
    "print(*ldamodel.print_topics(num_topics=10, num_words=5), sep='\\n\\n')"
   ]
  },
  {
   "cell_type": "code",
   "execution_count": 38,
   "metadata": {},
   "outputs": [
    {
     "name": "stdout",
     "output_type": "stream",
     "text": [
      "(0, '0.091*\"jeep\" + 0.049*\"rt\" + 0.019*\"blue\" + 0.016*\"matte\" + 0.013*\"jeepahoiics\" + 0.012*\"httpstco685ffiofnl\" + 0.008*\"compass\"')\n",
      "\n",
      "(1, '0.084*\"jeep\" + 0.035*\"rt\" + 0.029*\"wrangler\" + 0.020*\"need\" + 0.018*\"check\" + 0.017*\"via\" + 0.013*\"ebay\"')\n",
      "\n",
      "(2, '0.088*\"jeep\" + 0.044*\"photo\" + 0.042*\"rt\" + 0.032*\"used\" + 0.025*\"spotted\" + 0.025*\"stick\" + 0.025*\"bamboo\"')\n",
      "\n",
      "(3, '0.126*\"jeep\" + 0.053*\"rt\" + 0.048*\"cherokee\" + 0.032*\"grand\" + 0.013*\"jeeplife\" + 0.012*\"limited\" + 0.010*\"jeepporn\"')\n",
      "\n",
      "(4, '0.072*\"jeep\" + 0.026*\"rt\" + 0.018*\"cherokee\" + 0.012*\"thejeepmafia\" + 0.012*\"jeepmafia\" + 0.010*\"dodge\" + 0.009*\"jeeplife\"')\n",
      "\n",
      "(5, '0.072*\"jeep\" + 0.031*\"2017\" + 0.031*\"video\" + 0.026*\"youtube\" + 0.026*\"cherokee\" + 0.019*\"grand\" + 0.014*\"rt\"')\n",
      "\n",
      "(6, '0.105*\"giveaway\" + 0.064*\"jeep\" + 0.057*\"girl\" + 0.056*\"win\" + 0.054*\"small\" + 0.054*\"body\" + 0.053*\"chance\"')\n",
      "\n",
      "(7, '0.108*\"jeep\" + 0.017*\"rt\" + 0.015*\"new\" + 0.013*\"car\" + 0.013*\"im\" + 0.012*\"get\" + 0.011*\"like\"')\n",
      "\n",
      "(8, '0.074*\"jeep\" + 0.043*\"rt\" + 0.027*\"chrysler\" + 0.023*\"dodge\" + 0.022*\"compass\" + 0.016*\"kylie\" + 0.016*\"luxbucketlist\"')\n",
      "\n",
      "(9, '0.123*\"jeep\" + 0.064*\"wrangler\" + 0.031*\"rt\" + 0.023*\"sport\" + 0.019*\"mile\" + 0.017*\"unlimited\" + 0.015*\"ebay\"')\n"
     ]
    }
   ],
   "source": [
    "print(*ldamodel.print_topics(num_topics=10, num_words=7), sep='\\n\\n')"
   ]
  },
  {
   "cell_type": "code",
   "execution_count": 39,
   "metadata": {},
   "outputs": [
    {
     "name": "stdout",
     "output_type": "stream",
     "text": [
      "(0, '0.091*\"jeep\" + 0.049*\"rt\" + 0.019*\"blue\" + 0.016*\"matte\" + 0.013*\"jeepahoiics\" + 0.012*\"httpstco685ffiofnl\" + 0.008*\"compass\" + 0.008*\"lift\" + 0.008*\"madeinindia\" + 0.008*\"check\"')\n",
      "\n",
      "(1, '0.084*\"jeep\" + 0.035*\"rt\" + 0.029*\"wrangler\" + 0.020*\"need\" + 0.018*\"check\" + 0.017*\"via\" + 0.013*\"ebay\" + 0.012*\"decal\" + 0.011*\"httpstcoyipkreck1n\" + 0.011*\"luxbucketlist\"')\n",
      "\n",
      "(2, '0.088*\"jeep\" + 0.044*\"photo\" + 0.042*\"rt\" + 0.032*\"used\" + 0.025*\"spotted\" + 0.025*\"stick\" + 0.025*\"bamboo\" + 0.024*\"nigeria\" + 0.024*\"hummer\" + 0.024*\"convey\"')\n",
      "\n",
      "(3, '0.126*\"jeep\" + 0.053*\"rt\" + 0.048*\"cherokee\" + 0.032*\"grand\" + 0.013*\"jeeplife\" + 0.012*\"limited\" + 0.010*\"jeepporn\" + 0.009*\"life\" + 0.009*\"take\" + 0.009*\"renegade\"')\n",
      "\n",
      "(4, '0.072*\"jeep\" + 0.026*\"rt\" + 0.018*\"cherokee\" + 0.012*\"thejeepmafia\" + 0.012*\"jeepmafia\" + 0.010*\"dodge\" + 0.009*\"jeeplife\" + 0.009*\"car\" + 0.009*\"trackhawk\" + 0.009*\"wrangler\"')\n",
      "\n",
      "(5, '0.072*\"jeep\" + 0.031*\"2017\" + 0.031*\"video\" + 0.026*\"youtube\" + 0.026*\"cherokee\" + 0.019*\"grand\" + 0.014*\"rt\" + 0.013*\"review\" + 0.012*\"compass\" + 0.011*\"via\"')\n",
      "\n",
      "(6, '0.105*\"giveaway\" + 0.064*\"jeep\" + 0.057*\"girl\" + 0.056*\"win\" + 0.054*\"small\" + 0.054*\"body\" + 0.053*\"chance\" + 0.053*\"cross\" + 0.053*\"sun\" + 0.053*\"entered\"')\n",
      "\n",
      "(7, '0.108*\"jeep\" + 0.017*\"rt\" + 0.015*\"new\" + 0.013*\"car\" + 0.013*\"im\" + 0.012*\"get\" + 0.011*\"like\" + 0.010*\"want\" + 0.008*\"u\" + 0.008*\"got\"')\n",
      "\n",
      "(8, '0.074*\"jeep\" + 0.043*\"rt\" + 0.027*\"chrysler\" + 0.023*\"dodge\" + 0.022*\"compass\" + 0.016*\"kylie\" + 0.016*\"luxbucketlist\" + 0.016*\"httpstcobvgln4ayie\" + 0.015*\"ram\" + 0.013*\"around\"')\n",
      "\n",
      "(9, '0.123*\"jeep\" + 0.064*\"wrangler\" + 0.031*\"rt\" + 0.023*\"sport\" + 0.019*\"mile\" + 0.017*\"unlimited\" + 0.015*\"ebay\" + 0.011*\"2016\" + 0.010*\"4x4\" + 0.010*\"rubicon\"')\n"
     ]
    }
   ],
   "source": [
    "print(*ldamodel.print_topics(num_topics=10, num_words=10), sep='\\n\\n')"
   ]
  },
  {
   "cell_type": "code",
   "execution_count": 40,
   "metadata": {},
   "outputs": [
    {
     "ename": "KeyboardInterrupt",
     "evalue": "",
     "output_type": "error",
     "traceback": [
      "\u001b[0;31m---------------------------------------------------------------------------\u001b[0m",
      "\u001b[0;31mKeyboardInterrupt\u001b[0m                         Traceback (most recent call last)",
      "\u001b[0;32m<ipython-input-40-81a755cc7b13>\u001b[0m in \u001b[0;36m<module>\u001b[0;34m\u001b[0m\n\u001b[0;32m----> 1\u001b[0;31m \u001b[0mlda_display\u001b[0m \u001b[0;34m=\u001b[0m \u001b[0mpyLDAvis\u001b[0m\u001b[0;34m.\u001b[0m\u001b[0mgensim\u001b[0m\u001b[0;34m.\u001b[0m\u001b[0mprepare\u001b[0m\u001b[0;34m(\u001b[0m\u001b[0mldamodel\u001b[0m\u001b[0;34m,\u001b[0m \u001b[0mdoc_term_matrix\u001b[0m\u001b[0;34m,\u001b[0m \u001b[0mdictionary\u001b[0m\u001b[0;34m,\u001b[0m \u001b[0msort_topics\u001b[0m\u001b[0;34m=\u001b[0m\u001b[0;32mFalse\u001b[0m\u001b[0;34m,\u001b[0m \u001b[0mmds\u001b[0m\u001b[0;34m=\u001b[0m\u001b[0;34m'mmds'\u001b[0m\u001b[0;34m)\u001b[0m\u001b[0;34m\u001b[0m\u001b[0;34m\u001b[0m\u001b[0m\n\u001b[0m\u001b[1;32m      2\u001b[0m \u001b[0mpyLDAvis\u001b[0m\u001b[0;34m.\u001b[0m\u001b[0mdisplay\u001b[0m\u001b[0;34m(\u001b[0m\u001b[0mlda_display\u001b[0m\u001b[0;34m)\u001b[0m\u001b[0;34m\u001b[0m\u001b[0;34m\u001b[0m\u001b[0m\n",
      "\u001b[0;32m~/code/MScA/venv3/lib/python3.7/site-packages/pyLDAvis/gensim.py\u001b[0m in \u001b[0;36mprepare\u001b[0;34m(topic_model, corpus, dictionary, doc_topic_dist, **kwargs)\u001b[0m\n\u001b[1;32m    117\u001b[0m     \"\"\"\n\u001b[1;32m    118\u001b[0m     \u001b[0mopts\u001b[0m \u001b[0;34m=\u001b[0m \u001b[0mfp\u001b[0m\u001b[0;34m.\u001b[0m\u001b[0mmerge\u001b[0m\u001b[0;34m(\u001b[0m\u001b[0m_extract_data\u001b[0m\u001b[0;34m(\u001b[0m\u001b[0mtopic_model\u001b[0m\u001b[0;34m,\u001b[0m \u001b[0mcorpus\u001b[0m\u001b[0;34m,\u001b[0m \u001b[0mdictionary\u001b[0m\u001b[0;34m,\u001b[0m \u001b[0mdoc_topic_dist\u001b[0m\u001b[0;34m)\u001b[0m\u001b[0;34m,\u001b[0m \u001b[0mkwargs\u001b[0m\u001b[0;34m)\u001b[0m\u001b[0;34m\u001b[0m\u001b[0;34m\u001b[0m\u001b[0m\n\u001b[0;32m--> 119\u001b[0;31m     \u001b[0;32mreturn\u001b[0m \u001b[0mvis_prepare\u001b[0m\u001b[0;34m(\u001b[0m\u001b[0;34m**\u001b[0m\u001b[0mopts\u001b[0m\u001b[0;34m)\u001b[0m\u001b[0;34m\u001b[0m\u001b[0;34m\u001b[0m\u001b[0m\n\u001b[0m",
      "\u001b[0;32m~/code/MScA/venv3/lib/python3.7/site-packages/pyLDAvis/_prepare.py\u001b[0m in \u001b[0;36mprepare\u001b[0;34m(topic_term_dists, doc_topic_dists, doc_lengths, vocab, term_frequency, R, lambda_step, mds, n_jobs, plot_opts, sort_topics)\u001b[0m\n\u001b[1;32m    396\u001b[0m    \u001b[0mterm_frequency\u001b[0m \u001b[0;34m=\u001b[0m \u001b[0mnp\u001b[0m\u001b[0;34m.\u001b[0m\u001b[0msum\u001b[0m\u001b[0;34m(\u001b[0m\u001b[0mterm_topic_freq\u001b[0m\u001b[0;34m,\u001b[0m \u001b[0maxis\u001b[0m\u001b[0;34m=\u001b[0m\u001b[0;36m0\u001b[0m\u001b[0;34m)\u001b[0m\u001b[0;34m\u001b[0m\u001b[0;34m\u001b[0m\u001b[0m\n\u001b[1;32m    397\u001b[0m \u001b[0;34m\u001b[0m\u001b[0m\n\u001b[0;32m--> 398\u001b[0;31m    \u001b[0mtopic_info\u001b[0m         \u001b[0;34m=\u001b[0m \u001b[0m_topic_info\u001b[0m\u001b[0;34m(\u001b[0m\u001b[0mtopic_term_dists\u001b[0m\u001b[0;34m,\u001b[0m \u001b[0mtopic_proportion\u001b[0m\u001b[0;34m,\u001b[0m \u001b[0mterm_frequency\u001b[0m\u001b[0;34m,\u001b[0m \u001b[0mterm_topic_freq\u001b[0m\u001b[0;34m,\u001b[0m \u001b[0mvocab\u001b[0m\u001b[0;34m,\u001b[0m \u001b[0mlambda_step\u001b[0m\u001b[0;34m,\u001b[0m \u001b[0mR\u001b[0m\u001b[0;34m,\u001b[0m \u001b[0mn_jobs\u001b[0m\u001b[0;34m)\u001b[0m\u001b[0;34m\u001b[0m\u001b[0;34m\u001b[0m\u001b[0m\n\u001b[0m\u001b[1;32m    399\u001b[0m    \u001b[0mtoken_table\u001b[0m        \u001b[0;34m=\u001b[0m \u001b[0m_token_table\u001b[0m\u001b[0;34m(\u001b[0m\u001b[0mtopic_info\u001b[0m\u001b[0;34m,\u001b[0m \u001b[0mterm_topic_freq\u001b[0m\u001b[0;34m,\u001b[0m \u001b[0mvocab\u001b[0m\u001b[0;34m,\u001b[0m \u001b[0mterm_frequency\u001b[0m\u001b[0;34m)\u001b[0m\u001b[0;34m\u001b[0m\u001b[0;34m\u001b[0m\u001b[0m\n\u001b[1;32m    400\u001b[0m    \u001b[0mtopic_coordinates\u001b[0m \u001b[0;34m=\u001b[0m \u001b[0m_topic_coordinates\u001b[0m\u001b[0;34m(\u001b[0m\u001b[0mmds\u001b[0m\u001b[0;34m,\u001b[0m \u001b[0mtopic_term_dists\u001b[0m\u001b[0;34m,\u001b[0m \u001b[0mtopic_proportion\u001b[0m\u001b[0;34m)\u001b[0m\u001b[0;34m\u001b[0m\u001b[0;34m\u001b[0m\u001b[0m\n",
      "\u001b[0;32m~/code/MScA/venv3/lib/python3.7/site-packages/pyLDAvis/_prepare.py\u001b[0m in \u001b[0;36m_topic_info\u001b[0;34m(topic_term_dists, topic_proportion, term_frequency, term_topic_freq, vocab, lambda_step, R, n_jobs)\u001b[0m\n\u001b[1;32m    253\u001b[0m \u001b[0;34m\u001b[0m\u001b[0m\n\u001b[1;32m    254\u001b[0m    top_terms = pd.concat(Parallel(n_jobs=n_jobs)(delayed(_find_relevance_chunks)(log_ttd, log_lift, R, ls) \\\n\u001b[0;32m--> 255\u001b[0;31m                                                  for ls in _job_chunks(lambda_seq, n_jobs)))\n\u001b[0m\u001b[1;32m    256\u001b[0m    \u001b[0mtopic_dfs\u001b[0m \u001b[0;34m=\u001b[0m \u001b[0mmap\u001b[0m\u001b[0;34m(\u001b[0m\u001b[0mtopic_top_term_df\u001b[0m\u001b[0;34m,\u001b[0m \u001b[0menumerate\u001b[0m\u001b[0;34m(\u001b[0m\u001b[0mtop_terms\u001b[0m\u001b[0;34m.\u001b[0m\u001b[0mT\u001b[0m\u001b[0;34m.\u001b[0m\u001b[0miterrows\u001b[0m\u001b[0;34m(\u001b[0m\u001b[0;34m)\u001b[0m\u001b[0;34m,\u001b[0m \u001b[0;36m1\u001b[0m\u001b[0;34m)\u001b[0m\u001b[0;34m)\u001b[0m\u001b[0;34m\u001b[0m\u001b[0;34m\u001b[0m\u001b[0m\n\u001b[1;32m    257\u001b[0m    \u001b[0;32mreturn\u001b[0m \u001b[0mpd\u001b[0m\u001b[0;34m.\u001b[0m\u001b[0mconcat\u001b[0m\u001b[0;34m(\u001b[0m\u001b[0;34m[\u001b[0m\u001b[0mdefault_term_info\u001b[0m\u001b[0;34m]\u001b[0m \u001b[0;34m+\u001b[0m \u001b[0mlist\u001b[0m\u001b[0;34m(\u001b[0m\u001b[0mtopic_dfs\u001b[0m\u001b[0;34m)\u001b[0m\u001b[0;34m)\u001b[0m\u001b[0;34m\u001b[0m\u001b[0;34m\u001b[0m\u001b[0m\n",
      "\u001b[0;32m~/code/MScA/venv3/lib/python3.7/site-packages/joblib/parallel.py\u001b[0m in \u001b[0;36m__call__\u001b[0;34m(self, iterable)\u001b[0m\n\u001b[1;32m    932\u001b[0m \u001b[0;34m\u001b[0m\u001b[0m\n\u001b[1;32m    933\u001b[0m             \u001b[0;32mwith\u001b[0m \u001b[0mself\u001b[0m\u001b[0;34m.\u001b[0m\u001b[0m_backend\u001b[0m\u001b[0;34m.\u001b[0m\u001b[0mretrieval_context\u001b[0m\u001b[0;34m(\u001b[0m\u001b[0;34m)\u001b[0m\u001b[0;34m:\u001b[0m\u001b[0;34m\u001b[0m\u001b[0;34m\u001b[0m\u001b[0m\n\u001b[0;32m--> 934\u001b[0;31m                 \u001b[0mself\u001b[0m\u001b[0;34m.\u001b[0m\u001b[0mretrieve\u001b[0m\u001b[0;34m(\u001b[0m\u001b[0;34m)\u001b[0m\u001b[0;34m\u001b[0m\u001b[0;34m\u001b[0m\u001b[0m\n\u001b[0m\u001b[1;32m    935\u001b[0m             \u001b[0;31m# Make sure that we get a last message telling us we are done\u001b[0m\u001b[0;34m\u001b[0m\u001b[0;34m\u001b[0m\u001b[0;34m\u001b[0m\u001b[0m\n\u001b[1;32m    936\u001b[0m             \u001b[0melapsed_time\u001b[0m \u001b[0;34m=\u001b[0m \u001b[0mtime\u001b[0m\u001b[0;34m.\u001b[0m\u001b[0mtime\u001b[0m\u001b[0;34m(\u001b[0m\u001b[0;34m)\u001b[0m \u001b[0;34m-\u001b[0m \u001b[0mself\u001b[0m\u001b[0;34m.\u001b[0m\u001b[0m_start_time\u001b[0m\u001b[0;34m\u001b[0m\u001b[0;34m\u001b[0m\u001b[0m\n",
      "\u001b[0;32m~/code/MScA/venv3/lib/python3.7/site-packages/joblib/parallel.py\u001b[0m in \u001b[0;36mretrieve\u001b[0;34m(self)\u001b[0m\n\u001b[1;32m    831\u001b[0m             \u001b[0;32mtry\u001b[0m\u001b[0;34m:\u001b[0m\u001b[0;34m\u001b[0m\u001b[0;34m\u001b[0m\u001b[0m\n\u001b[1;32m    832\u001b[0m                 \u001b[0;32mif\u001b[0m \u001b[0mgetattr\u001b[0m\u001b[0;34m(\u001b[0m\u001b[0mself\u001b[0m\u001b[0;34m.\u001b[0m\u001b[0m_backend\u001b[0m\u001b[0;34m,\u001b[0m \u001b[0;34m'supports_timeout'\u001b[0m\u001b[0;34m,\u001b[0m \u001b[0;32mFalse\u001b[0m\u001b[0;34m)\u001b[0m\u001b[0;34m:\u001b[0m\u001b[0;34m\u001b[0m\u001b[0;34m\u001b[0m\u001b[0m\n\u001b[0;32m--> 833\u001b[0;31m                     \u001b[0mself\u001b[0m\u001b[0;34m.\u001b[0m\u001b[0m_output\u001b[0m\u001b[0;34m.\u001b[0m\u001b[0mextend\u001b[0m\u001b[0;34m(\u001b[0m\u001b[0mjob\u001b[0m\u001b[0;34m.\u001b[0m\u001b[0mget\u001b[0m\u001b[0;34m(\u001b[0m\u001b[0mtimeout\u001b[0m\u001b[0;34m=\u001b[0m\u001b[0mself\u001b[0m\u001b[0;34m.\u001b[0m\u001b[0mtimeout\u001b[0m\u001b[0;34m)\u001b[0m\u001b[0;34m)\u001b[0m\u001b[0;34m\u001b[0m\u001b[0;34m\u001b[0m\u001b[0m\n\u001b[0m\u001b[1;32m    834\u001b[0m                 \u001b[0;32melse\u001b[0m\u001b[0;34m:\u001b[0m\u001b[0;34m\u001b[0m\u001b[0;34m\u001b[0m\u001b[0m\n\u001b[1;32m    835\u001b[0m                     \u001b[0mself\u001b[0m\u001b[0;34m.\u001b[0m\u001b[0m_output\u001b[0m\u001b[0;34m.\u001b[0m\u001b[0mextend\u001b[0m\u001b[0;34m(\u001b[0m\u001b[0mjob\u001b[0m\u001b[0;34m.\u001b[0m\u001b[0mget\u001b[0m\u001b[0;34m(\u001b[0m\u001b[0;34m)\u001b[0m\u001b[0;34m)\u001b[0m\u001b[0;34m\u001b[0m\u001b[0;34m\u001b[0m\u001b[0m\n",
      "\u001b[0;32m~/code/MScA/venv3/lib/python3.7/site-packages/joblib/_parallel_backends.py\u001b[0m in \u001b[0;36mwrap_future_result\u001b[0;34m(future, timeout)\u001b[0m\n\u001b[1;32m    519\u001b[0m         AsyncResults.get from multiprocessing.\"\"\"\n\u001b[1;32m    520\u001b[0m         \u001b[0;32mtry\u001b[0m\u001b[0;34m:\u001b[0m\u001b[0;34m\u001b[0m\u001b[0;34m\u001b[0m\u001b[0m\n\u001b[0;32m--> 521\u001b[0;31m             \u001b[0;32mreturn\u001b[0m \u001b[0mfuture\u001b[0m\u001b[0;34m.\u001b[0m\u001b[0mresult\u001b[0m\u001b[0;34m(\u001b[0m\u001b[0mtimeout\u001b[0m\u001b[0;34m=\u001b[0m\u001b[0mtimeout\u001b[0m\u001b[0;34m)\u001b[0m\u001b[0;34m\u001b[0m\u001b[0;34m\u001b[0m\u001b[0m\n\u001b[0m\u001b[1;32m    522\u001b[0m         \u001b[0;32mexcept\u001b[0m \u001b[0mLokyTimeoutError\u001b[0m\u001b[0;34m:\u001b[0m\u001b[0;34m\u001b[0m\u001b[0;34m\u001b[0m\u001b[0m\n\u001b[1;32m    523\u001b[0m             \u001b[0;32mraise\u001b[0m \u001b[0mTimeoutError\u001b[0m\u001b[0;34m(\u001b[0m\u001b[0;34m)\u001b[0m\u001b[0;34m\u001b[0m\u001b[0;34m\u001b[0m\u001b[0m\n",
      "\u001b[0;32m/usr/local/Cellar/python/3.7.2_2/Frameworks/Python.framework/Versions/3.7/lib/python3.7/concurrent/futures/_base.py\u001b[0m in \u001b[0;36mresult\u001b[0;34m(self, timeout)\u001b[0m\n\u001b[1;32m    425\u001b[0m                 \u001b[0;32mreturn\u001b[0m \u001b[0mself\u001b[0m\u001b[0;34m.\u001b[0m\u001b[0m__get_result\u001b[0m\u001b[0;34m(\u001b[0m\u001b[0;34m)\u001b[0m\u001b[0;34m\u001b[0m\u001b[0;34m\u001b[0m\u001b[0m\n\u001b[1;32m    426\u001b[0m \u001b[0;34m\u001b[0m\u001b[0m\n\u001b[0;32m--> 427\u001b[0;31m             \u001b[0mself\u001b[0m\u001b[0;34m.\u001b[0m\u001b[0m_condition\u001b[0m\u001b[0;34m.\u001b[0m\u001b[0mwait\u001b[0m\u001b[0;34m(\u001b[0m\u001b[0mtimeout\u001b[0m\u001b[0;34m)\u001b[0m\u001b[0;34m\u001b[0m\u001b[0;34m\u001b[0m\u001b[0m\n\u001b[0m\u001b[1;32m    428\u001b[0m \u001b[0;34m\u001b[0m\u001b[0m\n\u001b[1;32m    429\u001b[0m             \u001b[0;32mif\u001b[0m \u001b[0mself\u001b[0m\u001b[0;34m.\u001b[0m\u001b[0m_state\u001b[0m \u001b[0;32min\u001b[0m \u001b[0;34m[\u001b[0m\u001b[0mCANCELLED\u001b[0m\u001b[0;34m,\u001b[0m \u001b[0mCANCELLED_AND_NOTIFIED\u001b[0m\u001b[0;34m]\u001b[0m\u001b[0;34m:\u001b[0m\u001b[0;34m\u001b[0m\u001b[0;34m\u001b[0m\u001b[0m\n",
      "\u001b[0;32m/usr/local/Cellar/python/3.7.2_2/Frameworks/Python.framework/Versions/3.7/lib/python3.7/threading.py\u001b[0m in \u001b[0;36mwait\u001b[0;34m(self, timeout)\u001b[0m\n\u001b[1;32m    294\u001b[0m         \u001b[0;32mtry\u001b[0m\u001b[0;34m:\u001b[0m    \u001b[0;31m# restore state no matter what (e.g., KeyboardInterrupt)\u001b[0m\u001b[0;34m\u001b[0m\u001b[0;34m\u001b[0m\u001b[0m\n\u001b[1;32m    295\u001b[0m             \u001b[0;32mif\u001b[0m \u001b[0mtimeout\u001b[0m \u001b[0;32mis\u001b[0m \u001b[0;32mNone\u001b[0m\u001b[0;34m:\u001b[0m\u001b[0;34m\u001b[0m\u001b[0;34m\u001b[0m\u001b[0m\n\u001b[0;32m--> 296\u001b[0;31m                 \u001b[0mwaiter\u001b[0m\u001b[0;34m.\u001b[0m\u001b[0macquire\u001b[0m\u001b[0;34m(\u001b[0m\u001b[0;34m)\u001b[0m\u001b[0;34m\u001b[0m\u001b[0;34m\u001b[0m\u001b[0m\n\u001b[0m\u001b[1;32m    297\u001b[0m                 \u001b[0mgotit\u001b[0m \u001b[0;34m=\u001b[0m \u001b[0;32mTrue\u001b[0m\u001b[0;34m\u001b[0m\u001b[0;34m\u001b[0m\u001b[0m\n\u001b[1;32m    298\u001b[0m             \u001b[0;32melse\u001b[0m\u001b[0;34m:\u001b[0m\u001b[0;34m\u001b[0m\u001b[0;34m\u001b[0m\u001b[0m\n",
      "\u001b[0;31mKeyboardInterrupt\u001b[0m: "
     ]
    }
   ],
   "source": [
    "lda_display = pyLDAvis.gensim.prepare(ldamodel, doc_term_matrix, dictionary, sort_topics=False, mds='mmds')\n",
    "pyLDAvis.display(lda_display)"
   ]
  },
  {
   "cell_type": "markdown",
   "metadata": {},
   "source": [
    "## TF-IDF on news articles"
   ]
  },
  {
   "cell_type": "code",
   "execution_count": null,
   "metadata": {},
   "outputs": [],
   "source": [
    "directory = 'C://Users//IBM_ADMIN//Documents//Teaching//Data Projects//Text//Webhose//'\n",
    "news_articles = 'news_toyota.pkl'\n",
    "path = directory+news_articles"
   ]
  },
  {
   "cell_type": "code",
   "execution_count": null,
   "metadata": {},
   "outputs": [],
   "source": [
    "news_df = pd.read_pickle(directory+news_articles)"
   ]
  },
  {
   "cell_type": "code",
   "execution_count": null,
   "metadata": {},
   "outputs": [],
   "source": [
    "news_df.head(5)"
   ]
  },
  {
   "cell_type": "code",
   "execution_count": null,
   "metadata": {},
   "outputs": [],
   "source": [
    "news_df.shape"
   ]
  },
  {
   "cell_type": "code",
   "execution_count": null,
   "metadata": {},
   "outputs": [],
   "source": [
    "# Filter non-English tweets\n",
    "news_eng = news_df[news_df['language']=='english'].reset_index(drop=True)"
   ]
  },
  {
   "cell_type": "code",
   "execution_count": null,
   "metadata": {},
   "outputs": [],
   "source": [
    "# Remove special characters to avoid problems with analysis\n",
    "news_eng['text_clean'] = news_eng['text'].map(lambda x: re.sub('[^a-zA-Z0-9 @ . , : - _]', '', str(x)))"
   ]
  },
  {
   "cell_type": "code",
   "execution_count": null,
   "metadata": {},
   "outputs": [],
   "source": [
    "pd.set_option('display.max_colwidth', 100)\n",
    "    news_eng[['text', 'text_clean']].head(5)"
   ]
  },
  {
   "cell_type": "code",
   "execution_count": null,
   "metadata": {},
   "outputs": [],
   "source": [
    "bloblist = []\n",
    "del bloblist[:]\n",
    "\n",
    "for i  in range(0,len(news_eng)):\n",
    "    bloblist.append(TextBlob(news_eng['text_clean'].iloc[i]))\n",
    "    \n",
    "len(bloblist) "
   ]
  },
  {
   "cell_type": "code",
   "execution_count": null,
   "metadata": {},
   "outputs": [],
   "source": [
    "for i, blob in enumerate(bloblist):\n",
    "# Print top 5 values\n",
    "    if i == 5:\n",
    "        break\n",
    "    print(\"Top words in news article {}\".format(i + 1))\n",
    "    scores = {word: tfidf(word, blob, bloblist) for word in blob.words}\n",
    "    sorted_words = sorted(scores.items(), key=lambda x: x[1], reverse=True)\n",
    "    for word, score in sorted_words[:10]:\n",
    "        print(\"\\tWord: {}, TF-IDF: {}\".format(word, round(score, 5)))"
   ]
  },
  {
   "cell_type": "markdown",
   "metadata": {},
   "source": [
    "### Applying LDA to news articles"
   ]
  },
  {
   "cell_type": "code",
   "execution_count": null,
   "metadata": {},
   "outputs": [],
   "source": [
    "news_list = news_eng['text_clean'].tolist()\n",
    "news_list[:1]"
   ]
  },
  {
   "cell_type": "code",
   "execution_count": null,
   "metadata": {},
   "outputs": [],
   "source": [
    "news_clean = [clean(doc).split() for doc in news_list]"
   ]
  },
  {
   "cell_type": "code",
   "execution_count": null,
   "metadata": {},
   "outputs": [],
   "source": [
    "len(news_clean)"
   ]
  },
  {
   "cell_type": "code",
   "execution_count": null,
   "metadata": {},
   "outputs": [],
   "source": [
    "print(*news_clean[:1], sep='\\n\\n')"
   ]
  },
  {
   "cell_type": "code",
   "execution_count": null,
   "metadata": {},
   "outputs": [],
   "source": [
    "# Creating the term dictionary of our courpus, where every unique term is assigned an index. \n",
    "\n",
    "dictionary = corpora.Dictionary(news_clean)\n",
    "\n",
    "# Converting list of documents (corpus) into Document Term Matrix using dictionary prepared above.\n",
    "\n",
    "%time doc_term_matrix = [dictionary.doc2bow(doc) for doc in news_clean]"
   ]
  },
  {
   "cell_type": "markdown",
   "metadata": {},
   "source": [
    "#### 3 topic model"
   ]
  },
  {
   "cell_type": "code",
   "execution_count": null,
   "metadata": {},
   "outputs": [],
   "source": [
    "numtopics = 3\n",
    "\n",
    "%time ldamodel = LdaMulticore(doc_term_matrix, num_topics=numtopics, id2word = dictionary, passes=50)"
   ]
  },
  {
   "cell_type": "code",
   "execution_count": null,
   "metadata": {},
   "outputs": [],
   "source": [
    "print(*ldamodel.print_topics(num_topics=numtopics, num_words=5), sep='\\n\\n')"
   ]
  },
  {
   "cell_type": "code",
   "execution_count": null,
   "metadata": {},
   "outputs": [],
   "source": [
    "print(*ldamodel.print_topics(num_topics=numtopics, num_words=7), sep='\\n\\n')"
   ]
  },
  {
   "cell_type": "code",
   "execution_count": null,
   "metadata": {},
   "outputs": [],
   "source": [
    "print(*ldamodel.print_topics(num_topics=numtopics, num_words=10), sep='\\n\\n')"
   ]
  },
  {
   "cell_type": "code",
   "execution_count": null,
   "metadata": {},
   "outputs": [],
   "source": [
    "lda_display = pyLDAvis.gensim.prepare(ldamodel, doc_term_matrix, dictionary, sort_topics=False, mds='mmds')\n",
    "pyLDAvis.display(lda_display)"
   ]
  },
  {
   "cell_type": "markdown",
   "metadata": {},
   "source": [
    "#### 5 topic model"
   ]
  },
  {
   "cell_type": "code",
   "execution_count": null,
   "metadata": {},
   "outputs": [],
   "source": [
    "numtopics = 5\n",
    "\n",
    "%time ldamodel = LdaMulticore(doc_term_matrix, num_topics=numtopics, id2word = dictionary, passes=50)"
   ]
  },
  {
   "cell_type": "code",
   "execution_count": null,
   "metadata": {},
   "outputs": [],
   "source": [
    "print(*ldamodel.print_topics(num_topics=numtopics, num_words=3), sep='\\n\\n')"
   ]
  },
  {
   "cell_type": "code",
   "execution_count": null,
   "metadata": {},
   "outputs": [],
   "source": [
    "print(*ldamodel.print_topics(num_topics=numtopics, num_words=5), sep='\\n\\n')"
   ]
  },
  {
   "cell_type": "code",
   "execution_count": null,
   "metadata": {},
   "outputs": [],
   "source": [
    "print(*ldamodel.print_topics(num_topics=numtopics, num_words=7), sep='\\n\\n')"
   ]
  },
  {
   "cell_type": "code",
   "execution_count": null,
   "metadata": {},
   "outputs": [],
   "source": [
    "print(*ldamodel.print_topics(num_topics=numtopics, num_words=10), sep='\\n\\n')"
   ]
  },
  {
   "cell_type": "code",
   "execution_count": null,
   "metadata": {},
   "outputs": [],
   "source": [
    "print(*ldamodel.print_topics(num_topics=numtopics, num_words=10), sep='\\n\\n')"
   ]
  },
  {
   "cell_type": "code",
   "execution_count": null,
   "metadata": {},
   "outputs": [],
   "source": [
    "lda_display = pyLDAvis.gensim.prepare(ldamodel, doc_term_matrix, dictionary, sort_topics=False, mds='mmds')\n",
    "pyLDAvis.display(lda_display)"
   ]
  },
  {
   "cell_type": "markdown",
   "metadata": {},
   "source": [
    "#### 10 topic model"
   ]
  },
  {
   "cell_type": "code",
   "execution_count": null,
   "metadata": {},
   "outputs": [],
   "source": [
    "numtopics = 10\n",
    "\n",
    "%time ldamodel = LdaMulticore(doc_term_matrix, num_topics=numtopics, id2word = dictionary, passes=50)"
   ]
  },
  {
   "cell_type": "code",
   "execution_count": null,
   "metadata": {},
   "outputs": [],
   "source": [
    "print(*ldamodel.print_topics(num_topics=numtopics, num_words=3), sep='\\n\\n')"
   ]
  },
  {
   "cell_type": "code",
   "execution_count": null,
   "metadata": {},
   "outputs": [],
   "source": [
    "print(*ldamodel.print_topics(num_topics=numtopics, num_words=5), sep='\\n\\n')"
   ]
  },
  {
   "cell_type": "code",
   "execution_count": null,
   "metadata": {},
   "outputs": [],
   "source": [
    "print(*ldamodel.print_topics(num_topics=numtopics, num_words=7), sep='\\n\\n')"
   ]
  },
  {
   "cell_type": "code",
   "execution_count": null,
   "metadata": {},
   "outputs": [],
   "source": [
    "print(*ldamodel.print_topics(num_topics=numtopics, num_words=10), sep='\\n\\n')"
   ]
  },
  {
   "cell_type": "code",
   "execution_count": null,
   "metadata": {},
   "outputs": [],
   "source": [
    "print(*ldamodel.print_topics(num_topics=numtopics, num_words=10), sep='\\n\\n')"
   ]
  },
  {
   "cell_type": "code",
   "execution_count": null,
   "metadata": {},
   "outputs": [],
   "source": [
    "lda_display = pyLDAvis.gensim.prepare(ldamodel, doc_term_matrix, dictionary, sort_topics=False, mds='mmds')\n",
    "pyLDAvis.display(lda_display)"
   ]
  },
  {
   "cell_type": "code",
   "execution_count": null,
   "metadata": {},
   "outputs": [],
   "source": []
  },
  {
   "cell_type": "code",
   "execution_count": null,
   "metadata": {},
   "outputs": [],
   "source": []
  }
 ],
 "metadata": {
  "anaconda-cloud": {},
  "kernelspec": {
   "display_name": "Python 3",
   "language": "python",
   "name": "python3"
  },
  "language_info": {
   "codemirror_mode": {
    "name": "ipython",
    "version": 3
   },
   "file_extension": ".py",
   "mimetype": "text/x-python",
   "name": "python",
   "nbconvert_exporter": "python",
   "pygments_lexer": "ipython3",
   "version": "3.7.2"
  }
 },
 "nbformat": 4,
 "nbformat_minor": 1
}
