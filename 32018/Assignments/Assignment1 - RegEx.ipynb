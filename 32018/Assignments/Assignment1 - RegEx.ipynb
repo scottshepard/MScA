{
 "cells": [
  {
   "cell_type": "markdown",
   "metadata": {},
   "source": [
    "# NLP Assignment 1 - Regular Expressions\n",
    "\n",
    "**Prompt:**  \n",
    "Use Python Regular Expressions to identify top-10 most frequent causes of failed food inspections in Chicago.  The answer must contain textual description of violations.  You can download the dataset here: https://data.cityofchicago.org/Health-Human-Services/Food-Inspections/4ijn-s7e5 (Links to an external site.)Links to an external site.\n",
    "\n",
    "Rules and requirements:\n",
    "\n",
    "Your final output and the code should be contained within Jupyter Notebook (ipynb)"
   ]
  },
  {
   "cell_type": "code",
   "execution_count": 1,
   "metadata": {},
   "outputs": [],
   "source": [
    "import re\n",
    "import pandas as pd\n",
    "import numpy as np"
   ]
  },
  {
   "cell_type": "code",
   "execution_count": 2,
   "metadata": {},
   "outputs": [],
   "source": [
    "data_path = \"/Users/rowena/Datasets/\"\n",
    "file_path = data_path + \"Food_Inspections.csv\""
   ]
  },
  {
   "cell_type": "markdown",
   "metadata": {},
   "source": [
    "## Data Exploration\n",
    "\n",
    "Just to get a look at the dataset I read it into a pandas dataframe."
   ]
  },
  {
   "cell_type": "code",
   "execution_count": 3,
   "metadata": {},
   "outputs": [],
   "source": [
    "df = pd.read_csv(file_path)"
   ]
  },
  {
   "cell_type": "code",
   "execution_count": 4,
   "metadata": {},
   "outputs": [
    {
     "data": {
      "text/plain": [
       "(184999, 17)"
      ]
     },
     "execution_count": 4,
     "metadata": {},
     "output_type": "execute_result"
    }
   ],
   "source": [
    "df.shape"
   ]
  },
  {
   "cell_type": "code",
   "execution_count": 5,
   "metadata": {},
   "outputs": [
    {
     "data": {
      "text/plain": [
       "Pass w/ Conditions    36\n",
       "Pass                  33\n",
       "Fail                  21\n",
       "Out of Business        5\n",
       "Not Ready              3\n",
       "No Entry               2\n",
       "Name: Results, dtype: int64"
      ]
     },
     "execution_count": 5,
     "metadata": {},
     "output_type": "execute_result"
    }
   ],
   "source": [
    "df.Results.head(100).value_counts()"
   ]
  },
  {
   "cell_type": "markdown",
   "metadata": {},
   "source": [
    "We'll be looking for the string 'Fail' when using regex."
   ]
  },
  {
   "cell_type": "code",
   "execution_count": 6,
   "metadata": {},
   "outputs": [
    {
     "data": {
      "text/html": [
       "<div>\n",
       "<style scoped>\n",
       "    .dataframe tbody tr th:only-of-type {\n",
       "        vertical-align: middle;\n",
       "    }\n",
       "\n",
       "    .dataframe tbody tr th {\n",
       "        vertical-align: top;\n",
       "    }\n",
       "\n",
       "    .dataframe thead th {\n",
       "        text-align: right;\n",
       "    }\n",
       "</style>\n",
       "<table border=\"1\" class=\"dataframe\">\n",
       "  <thead>\n",
       "    <tr style=\"text-align: right;\">\n",
       "      <th></th>\n",
       "      <th>Inspection ID</th>\n",
       "      <th>DBA Name</th>\n",
       "      <th>AKA Name</th>\n",
       "      <th>License #</th>\n",
       "      <th>Facility Type</th>\n",
       "      <th>Risk</th>\n",
       "      <th>Address</th>\n",
       "      <th>City</th>\n",
       "      <th>State</th>\n",
       "      <th>Zip</th>\n",
       "      <th>Inspection Date</th>\n",
       "      <th>Inspection Type</th>\n",
       "      <th>Results</th>\n",
       "      <th>Violations</th>\n",
       "      <th>Latitude</th>\n",
       "      <th>Longitude</th>\n",
       "      <th>Location</th>\n",
       "    </tr>\n",
       "  </thead>\n",
       "  <tbody>\n",
       "    <tr>\n",
       "      <th>6</th>\n",
       "      <td>2282695</td>\n",
       "      <td>ISSA STORE INC</td>\n",
       "      <td>ISSA STORE</td>\n",
       "      <td>2601424.0</td>\n",
       "      <td>Grocery Store</td>\n",
       "      <td>Risk 2 (Medium)</td>\n",
       "      <td>3641 W AUGUSTA BLVD</td>\n",
       "      <td>CHICAGO</td>\n",
       "      <td>IL</td>\n",
       "      <td>60651.0</td>\n",
       "      <td>04/05/2019</td>\n",
       "      <td>Canvass</td>\n",
       "      <td>Fail</td>\n",
       "      <td>2. CITY OF CHICAGO FOOD SERVICE SANITATION CER...</td>\n",
       "      <td>41.898985</td>\n",
       "      <td>-87.717987</td>\n",
       "      <td>(41.89898510417861, -87.7179866792102)</td>\n",
       "    </tr>\n",
       "    <tr>\n",
       "      <th>8</th>\n",
       "      <td>2282681</td>\n",
       "      <td>LA CASA DEL BORREGO, INC.</td>\n",
       "      <td>LA CASE DEL BORREGO</td>\n",
       "      <td>2658561.0</td>\n",
       "      <td>Restaurant</td>\n",
       "      <td>Risk 1 (High)</td>\n",
       "      <td>3002 S PULASKI RD</td>\n",
       "      <td>CHICAGO</td>\n",
       "      <td>IL</td>\n",
       "      <td>60623.0</td>\n",
       "      <td>04/05/2019</td>\n",
       "      <td>License</td>\n",
       "      <td>Fail</td>\n",
       "      <td>3. MANAGEMENT, FOOD EMPLOYEE AND CONDITIONAL E...</td>\n",
       "      <td>41.838572</td>\n",
       "      <td>-87.724543</td>\n",
       "      <td>(41.838571723634004, -87.72454334680803)</td>\n",
       "    </tr>\n",
       "    <tr>\n",
       "      <th>19</th>\n",
       "      <td>2282662</td>\n",
       "      <td>LA CATRINA RESTAURANT LLC</td>\n",
       "      <td>LA CATRINA RESTAURANT</td>\n",
       "      <td>2658196.0</td>\n",
       "      <td>Restaurant</td>\n",
       "      <td>Risk 1 (High)</td>\n",
       "      <td>3924 W DIVERSEY AVE</td>\n",
       "      <td>CHICAGO</td>\n",
       "      <td>IL</td>\n",
       "      <td>60647.0</td>\n",
       "      <td>04/05/2019</td>\n",
       "      <td>License</td>\n",
       "      <td>Fail</td>\n",
       "      <td>3. MANAGEMENT, FOOD EMPLOYEE AND CONDITIONAL E...</td>\n",
       "      <td>41.931918</td>\n",
       "      <td>-87.725545</td>\n",
       "      <td>(41.931917684341876, -87.725544754742)</td>\n",
       "    </tr>\n",
       "  </tbody>\n",
       "</table>\n",
       "</div>"
      ],
      "text/plain": [
       "    Inspection ID                   DBA Name               AKA Name  \\\n",
       "6         2282695             ISSA STORE INC             ISSA STORE   \n",
       "8         2282681  LA CASA DEL BORREGO, INC.    LA CASE DEL BORREGO   \n",
       "19        2282662  LA CATRINA RESTAURANT LLC  LA CATRINA RESTAURANT   \n",
       "\n",
       "    License #  Facility Type             Risk               Address     City  \\\n",
       "6   2601424.0  Grocery Store  Risk 2 (Medium)  3641 W AUGUSTA BLVD   CHICAGO   \n",
       "8   2658561.0     Restaurant    Risk 1 (High)    3002 S PULASKI RD   CHICAGO   \n",
       "19  2658196.0     Restaurant    Risk 1 (High)  3924 W DIVERSEY AVE   CHICAGO   \n",
       "\n",
       "   State      Zip Inspection Date Inspection Type Results  \\\n",
       "6     IL  60651.0      04/05/2019         Canvass    Fail   \n",
       "8     IL  60623.0      04/05/2019         License    Fail   \n",
       "19    IL  60647.0      04/05/2019         License    Fail   \n",
       "\n",
       "                                           Violations   Latitude  Longitude  \\\n",
       "6   2. CITY OF CHICAGO FOOD SERVICE SANITATION CER...  41.898985 -87.717987   \n",
       "8   3. MANAGEMENT, FOOD EMPLOYEE AND CONDITIONAL E...  41.838572 -87.724543   \n",
       "19  3. MANAGEMENT, FOOD EMPLOYEE AND CONDITIONAL E...  41.931918 -87.725545   \n",
       "\n",
       "                                    Location  \n",
       "6     (41.89898510417861, -87.7179866792102)  \n",
       "8   (41.838571723634004, -87.72454334680803)  \n",
       "19    (41.931917684341876, -87.725544754742)  "
      ]
     },
     "execution_count": 6,
     "metadata": {},
     "output_type": "execute_result"
    }
   ],
   "source": [
    "df[df.Results == 'Fail'].head(3)"
   ]
  },
  {
   "cell_type": "markdown",
   "metadata": {},
   "source": [
    "It's the violations field that contains the causes of the failed inspections."
   ]
  },
  {
   "cell_type": "code",
   "execution_count": 7,
   "metadata": {},
   "outputs": [
    {
     "data": {
      "text/plain": [
       "'2. CITY OF CHICAGO FOOD SERVICE SANITATION CERTIFICATE - Comments: PREMISES HAS NO VALID CITY OF CHICAGO CERIFIED MANAGER. INSTRUCTED MANAGER A VALID CITY OF CHICAGO CERIFIED MANAGER MUST BE ONSITE AT ALL TIME WHEN TCS FOODS AREA BEING PREPARED, HANDLED AND/OR SERVED. PRIORITY FOUNDATION VIOLATION #7-38-012.  | 3. MANAGEMENT, FOOD EMPLOYEE AND CONDITIONAL EMPLOYEE; KNOWLEDGE, RESPONSIBILITIES AND REPORTING - Comments: **PREMISES HAS NO EMPLOYEE HEALTH POLICY. INSTRUCTED MANAGER TO COMPLY WITH THE NEW CODES OR CITATIONS WILL FOLLOW. PRIORITY FOUNDATION VIOLATION #7-38-010. | 5. PROCEDURES FOR RESPONDING TO VOMITING AND DIARRHEAL EVENTS - Comments: **PREMISES HAS NO CLEAN UP PROCEDURES OR SUPPLIES. INSTRUCTED MANAGER TO COMPLY WITH THE NEW CODES OR CITATIONS WILL FOLLOW. PRIORITY FOUNDATION VIOLATION #7-38-005. | 36. THERMOMETERS PROVIDED & ACCURATE - Comments: INSTRUCTED MANAGER TO PROVIDE AND MAINTAIN A WORKING LONG STEM THERMOMETER TO CHECK FOOD ITEMS IN HOT HOLDING. MUST COMPLY OR CITATIONS WILL BE ISSUED. PRIORITY FOUNDATION VIOLATION #7-38-005. | 48. WAREWASHING FACILITIES: INSTALLED, MAINTAINED & USED; TEST STRIPS - Comments: OBSERVED 3 COMPARTMENT SINK COMPLETELY CLOGGED. INSTRUCTED MANAGER TO REPAIR AND MAINTAIN 3 COMPARTMENT SINK FOR PROPER WASH, RINSE AND SANITIZING DISHES AS NEEDED. PRIORITY FOUNDATION VIOLATION #7-38-025.'"
      ]
     },
     "execution_count": 7,
     "metadata": {},
     "output_type": "execute_result"
    }
   ],
   "source": [
    "df[df.Results == 'Fail'].Violations[6]"
   ]
  },
  {
   "cell_type": "markdown",
   "metadata": {},
   "source": [
    "It's a great big string. The beginning of the reason starts with a number and the end finishes with '- Comments'"
   ]
  },
  {
   "cell_type": "markdown",
   "metadata": {},
   "source": [
    "## Regex Extraction"
   ]
  },
  {
   "cell_type": "code",
   "execution_count": 8,
   "metadata": {},
   "outputs": [],
   "source": [
    "with open(file_path, 'r') as file:\n",
    "    txt = file.read().split('\\n')"
   ]
  },
  {
   "cell_type": "code",
   "execution_count": 9,
   "metadata": {},
   "outputs": [],
   "source": [
    "# Reason starts with a number that doesn't begin with 0, ends with \" -\" that preceeds the comments section.\n",
    "ptrn = re.compile(r'\\b[1-9][0-9]*\\. .*?(?= -)')"
   ]
  },
  {
   "cell_type": "code",
   "execution_count": 10,
   "metadata": {},
   "outputs": [],
   "source": [
    "reasons = []\n",
    "for line in txt:\n",
    "    match = re.search('Fail', line)\n",
    "    if match is not None:\n",
    "        reasons.extend(re.findall(ptrn, line))"
   ]
  },
  {
   "cell_type": "code",
   "execution_count": 11,
   "metadata": {},
   "outputs": [],
   "source": [
    "causes = pd.Series(reasons)"
   ]
  },
  {
   "cell_type": "code",
   "execution_count": 12,
   "metadata": {},
   "outputs": [
    {
     "data": {
      "text/plain": [
       "34. FLOORS: CONSTRUCTED PER CODE, CLEANED, GOOD REPAIR, COVING INSTALLED, DUST-LESS CLEANING METHODS USED                                     19002\n",
       "35. WALLS, CEILINGS, ATTACHED EQUIPMENT CONSTRUCTED PER CODE: GOOD REPAIR, SURFACES CLEAN AND DUST-LESS CLEANING METHODS                      17921\n",
       "33. FOOD AND NON-FOOD CONTACT EQUIPMENT UTENSILS CLEAN, FREE OF ABRASIVE DETERGENTS                                                           15953\n",
       "18. NO EVIDENCE OF RODENT OR INSECT OUTER OPENINGS PROTECTED/RODENT PROOFED, A WRITTEN LOG SHALL BE MAINTAINED AVAILABLE TO THE INSPECTORS    15903\n",
       "38. VENTILATION: ROOMS AND EQUIPMENT VENTED AS REQUIRED: PLUMBING: INSTALLED AND MAINTAINED                                                   15297\n",
       "32. FOOD AND NON-FOOD CONTACT SURFACES PROPERLY DESIGNED, CONSTRUCTED AND MAINTAINED                                                          14126\n",
       "41. PREMISES MAINTAINED FREE OF LITTER, UNNECESSARY ARTICLES, CLEANING  EQUIPMENT PROPERLY STORED                                             10506\n",
       "36. LIGHTING: REQUIRED MINIMUM FOOT-CANDLES OF LIGHT PROVIDED, FIXTURES SHIELDED                                                               7589\n",
       "29. PREVIOUS MINOR VIOLATION(S) CORRECTED 7-42-090                                                                                             5322\n",
       "40. REFRIGERATION AND METAL STEM THERMOMETERS PROVIDED AND CONSPICUOUS                                                                         4590\n",
       "dtype: int64"
      ]
     },
     "execution_count": 12,
     "metadata": {},
     "output_type": "execute_result"
    }
   ],
   "source": [
    "causes.value_counts().sort_values(ascending=False).head(10)"
   ]
  },
  {
   "cell_type": "markdown",
   "metadata": {},
   "source": [
    "Top reason for a food violation in this dataset is due to floor cleaning or construction. The 10th most common reason has to do with refrigeration thermometers."
   ]
  }
 ],
 "metadata": {
  "kernelspec": {
   "display_name": "Python 3",
   "language": "python",
   "name": "python3"
  },
  "language_info": {
   "codemirror_mode": {
    "name": "ipython",
    "version": 3
   },
   "file_extension": ".py",
   "mimetype": "text/x-python",
   "name": "python",
   "nbconvert_exporter": "python",
   "pygments_lexer": "ipython3",
   "version": "3.6.4"
  },
  "toc": {
   "base_numbering": 1,
   "nav_menu": {},
   "number_sections": true,
   "sideBar": true,
   "skip_h1_title": false,
   "title_cell": "Table of Contents",
   "title_sidebar": "Contents",
   "toc_cell": false,
   "toc_position": {},
   "toc_section_display": true,
   "toc_window_display": false
  }
 },
 "nbformat": 4,
 "nbformat_minor": 2
}
