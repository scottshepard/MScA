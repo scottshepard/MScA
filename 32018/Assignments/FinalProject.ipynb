{
 "cells": [
  {
   "cell_type": "code",
   "execution_count": 1,
   "metadata": {},
   "outputs": [],
   "source": [
    "import pandas as pd"
   ]
  },
  {
   "cell_type": "code",
   "execution_count": 4,
   "metadata": {},
   "outputs": [],
   "source": [
    "df = pd.read_pickle('~/Datasets/32018/news_chicago_il.pkl')"
   ]
  },
  {
   "cell_type": "code",
   "execution_count": 5,
   "metadata": {},
   "outputs": [
    {
     "data": {
      "text/html": [
       "<div>\n",
       "<style scoped>\n",
       "    .dataframe tbody tr th:only-of-type {\n",
       "        vertical-align: middle;\n",
       "    }\n",
       "\n",
       "    .dataframe tbody tr th {\n",
       "        vertical-align: top;\n",
       "    }\n",
       "\n",
       "    .dataframe thead th {\n",
       "        text-align: right;\n",
       "    }\n",
       "</style>\n",
       "<table border=\"1\" class=\"dataframe\">\n",
       "  <thead>\n",
       "    <tr style=\"text-align: right;\">\n",
       "      <th></th>\n",
       "      <th>crawled</th>\n",
       "      <th>language</th>\n",
       "      <th>text</th>\n",
       "      <th>title</th>\n",
       "    </tr>\n",
       "  </thead>\n",
       "  <tbody>\n",
       "    <tr>\n",
       "      <th>0</th>\n",
       "      <td>2019-04-27T23:25:33.038+03:00</td>\n",
       "      <td>english</td>\n",
       "      <td>With their second pick in the draft, in Round ...</td>\n",
       "      <td>Family affair: Bears fourth-round WR Riley Rid...</td>\n",
       "    </tr>\n",
       "    <tr>\n",
       "      <th>1</th>\n",
       "      <td>2019-04-27T23:27:06.000+03:00</td>\n",
       "      <td>english</td>\n",
       "      <td>From an article at the Chicago Tribune by Cont...</td>\n",
       "      <td>Coin Flip Determines Winner Of Election In Chi...</td>\n",
       "    </tr>\n",
       "    <tr>\n",
       "      <th>2</th>\n",
       "      <td>2019-04-27T23:28:26.072+03:00</td>\n",
       "      <td>english</td>\n",
       "      <td>Fill in your details below or click an icon to...</td>\n",
       "      <td>FOX NEWS: Late April storm dumps snow across M...</td>\n",
       "    </tr>\n",
       "    <tr>\n",
       "      <th>3</th>\n",
       "      <td>2019-04-27T23:29:54.002+03:00</td>\n",
       "      <td>english</td>\n",
       "      <td>Chicago Police Supt. Eddie Johnson (AP Photo/T...</td>\n",
       "      <td>Chicago Police Department ‘Fixes’ Their FOID R...</td>\n",
       "    </tr>\n",
       "    <tr>\n",
       "      <th>4</th>\n",
       "      <td>2019-04-27T23:30:02.083+03:00</td>\n",
       "      <td>english</td>\n",
       "      <td>Comment If the Chicago Bulls are willing to ge...</td>\n",
       "      <td>Chicago Bulls: 76ers Tobias Harris free agency...</td>\n",
       "    </tr>\n",
       "  </tbody>\n",
       "</table>\n",
       "</div>"
      ],
      "text/plain": [
       "                         crawled language  \\\n",
       "0  2019-04-27T23:25:33.038+03:00  english   \n",
       "1  2019-04-27T23:27:06.000+03:00  english   \n",
       "2  2019-04-27T23:28:26.072+03:00  english   \n",
       "3  2019-04-27T23:29:54.002+03:00  english   \n",
       "4  2019-04-27T23:30:02.083+03:00  english   \n",
       "\n",
       "                                                text  \\\n",
       "0  With their second pick in the draft, in Round ...   \n",
       "1  From an article at the Chicago Tribune by Cont...   \n",
       "2  Fill in your details below or click an icon to...   \n",
       "3  Chicago Police Supt. Eddie Johnson (AP Photo/T...   \n",
       "4  Comment If the Chicago Bulls are willing to ge...   \n",
       "\n",
       "                                               title  \n",
       "0  Family affair: Bears fourth-round WR Riley Rid...  \n",
       "1  Coin Flip Determines Winner Of Election In Chi...  \n",
       "2  FOX NEWS: Late April storm dumps snow across M...  \n",
       "3  Chicago Police Department ‘Fixes’ Their FOID R...  \n",
       "4  Chicago Bulls: 76ers Tobias Harris free agency...  "
      ]
     },
     "execution_count": 5,
     "metadata": {},
     "output_type": "execute_result"
    }
   ],
   "source": [
    "df.head()"
   ]
  },
  {
   "cell_type": "code",
   "execution_count": 8,
   "metadata": {},
   "outputs": [
    {
     "data": {
      "text/plain": [
       "'With their second pick in the draft, in Round 4 at No. 126 overall, the Bears selected Georgia WR Riley Ridley , the little brother of Atlanta Falcons 2018 first-round All-Rookie WR Calvin .\\nRidley (6-foot-1, 199 pounds) caught a team-high 44 balls for 570 yards and nine touchdowns as a true junior last year, his first as'"
      ]
     },
     "execution_count": 8,
     "metadata": {},
     "output_type": "execute_result"
    }
   ],
   "source": [
    "df.text[0]"
   ]
  },
  {
   "cell_type": "code",
   "execution_count": null,
   "metadata": {},
   "outputs": [],
   "source": []
  }
 ],
 "metadata": {
  "kernelspec": {
   "display_name": "Python 3",
   "language": "python",
   "name": "python3"
  },
  "language_info": {
   "codemirror_mode": {
    "name": "ipython",
    "version": 3
   },
   "file_extension": ".py",
   "mimetype": "text/x-python",
   "name": "python",
   "nbconvert_exporter": "python",
   "pygments_lexer": "ipython3",
   "version": "3.7.2"
  }
 },
 "nbformat": 4,
 "nbformat_minor": 2
}
