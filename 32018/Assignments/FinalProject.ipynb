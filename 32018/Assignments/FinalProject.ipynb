{
 "cells": [
  {
   "cell_type": "markdown",
   "metadata": {},
   "source": [
    "# Introduction\n",
    "\n",
    "This is the final project for MScA 32018 Natural Language Processing. \n",
    "\n",
    "## Prompt\n",
    "\n",
    "Illinois is famous for being one of the very few states in the country with negative population growth.  The objective of your final project is to:\n",
    "\n",
    "1. Identify the key reasons for the declining population by extracting meaningful insights from unstructured text\n",
    "2. Provide actionable recommendations on what can be done to reverse this trend\n",
    "\n",
    "\n",
    "## Approach\n",
    "\n",
    "From the list of news articles provided, first try to assign a broadly positive, negative, or neutral sentiment to each article. Within each of these sentiment groups, do some topic modeling to identify major trends of positive and negative behaviors within the City/State. The final deck will suggest to reduce or minimize negative trends will highlighting or focusing on positive trends.\n"
   ]
  },
  {
   "cell_type": "markdown",
   "metadata": {},
   "source": [
    "# Setup\n",
    "\n",
    "## Packages"
   ]
  },
  {
   "cell_type": "code",
   "execution_count": 1,
   "metadata": {},
   "outputs": [],
   "source": [
    "# Base\n",
    "import os\n",
    "import re\n",
    "import string\n",
    "\n",
    "# Data Structures\n",
    "import pandas as pd\n",
    "import numpy as np\n",
    "\n",
    "# Plotting\n",
    "import matplotlib.pyplot as plt\n",
    "import seaborn as sns\n",
    "%matplotlib inline\n",
    "\n",
    "# NLP\n",
    "from textblob import TextBlob\n",
    "import nltk as nltk\n",
    "from nltk.corpus import stopwords\n",
    "from nltk.stem.wordnet import WordNetLemmatizer\n",
    "\n",
    "# Sentiment\n",
    "from afinn import Afinn\n",
    "from vaderSentiment.vaderSentiment import SentimentIntensityAnalyzer\n",
    "\n",
    "# Topic Modeling\n",
    "from gensim import corpora, models\n",
    "from gensim.models.ldamulticore import LdaMulticore\n",
    "from gensim.models import CoherenceModel\n",
    "import pyLDAvis"
   ]
  },
  {
   "cell_type": "markdown",
   "metadata": {},
   "source": [
    "## Data Cleaning"
   ]
  },
  {
   "cell_type": "code",
   "execution_count": 2,
   "metadata": {},
   "outputs": [
    {
     "data": {
      "text/html": [
       "<div>\n",
       "<style scoped>\n",
       "    .dataframe tbody tr th:only-of-type {\n",
       "        vertical-align: middle;\n",
       "    }\n",
       "\n",
       "    .dataframe tbody tr th {\n",
       "        vertical-align: top;\n",
       "    }\n",
       "\n",
       "    .dataframe thead th {\n",
       "        text-align: right;\n",
       "    }\n",
       "</style>\n",
       "<table border=\"1\" class=\"dataframe\">\n",
       "  <thead>\n",
       "    <tr style=\"text-align: right;\">\n",
       "      <th></th>\n",
       "      <th>crawled</th>\n",
       "      <th>language</th>\n",
       "      <th>text</th>\n",
       "      <th>title</th>\n",
       "    </tr>\n",
       "  </thead>\n",
       "  <tbody>\n",
       "    <tr>\n",
       "      <th>0</th>\n",
       "      <td>2019-04-27T23:25:33.038+03:00</td>\n",
       "      <td>english</td>\n",
       "      <td>With their second pick in the draft, in Round ...</td>\n",
       "      <td>Family affair: Bears fourth-round WR Riley Rid...</td>\n",
       "    </tr>\n",
       "    <tr>\n",
       "      <th>1</th>\n",
       "      <td>2019-04-27T23:27:06.000+03:00</td>\n",
       "      <td>english</td>\n",
       "      <td>From an article at the Chicago Tribune by Cont...</td>\n",
       "      <td>Coin Flip Determines Winner Of Election In Chi...</td>\n",
       "    </tr>\n",
       "    <tr>\n",
       "      <th>2</th>\n",
       "      <td>2019-04-27T23:28:26.072+03:00</td>\n",
       "      <td>english</td>\n",
       "      <td>Fill in your details below or click an icon to...</td>\n",
       "      <td>FOX NEWS: Late April storm dumps snow across M...</td>\n",
       "    </tr>\n",
       "    <tr>\n",
       "      <th>3</th>\n",
       "      <td>2019-04-27T23:29:54.002+03:00</td>\n",
       "      <td>english</td>\n",
       "      <td>Chicago Police Supt. Eddie Johnson (AP Photo/T...</td>\n",
       "      <td>Chicago Police Department ‘Fixes’ Their FOID R...</td>\n",
       "    </tr>\n",
       "    <tr>\n",
       "      <th>4</th>\n",
       "      <td>2019-04-27T23:30:02.083+03:00</td>\n",
       "      <td>english</td>\n",
       "      <td>Comment If the Chicago Bulls are willing to ge...</td>\n",
       "      <td>Chicago Bulls: 76ers Tobias Harris free agency...</td>\n",
       "    </tr>\n",
       "  </tbody>\n",
       "</table>\n",
       "</div>"
      ],
      "text/plain": [
       "                         crawled language  \\\n",
       "0  2019-04-27T23:25:33.038+03:00  english   \n",
       "1  2019-04-27T23:27:06.000+03:00  english   \n",
       "2  2019-04-27T23:28:26.072+03:00  english   \n",
       "3  2019-04-27T23:29:54.002+03:00  english   \n",
       "4  2019-04-27T23:30:02.083+03:00  english   \n",
       "\n",
       "                                                text  \\\n",
       "0  With their second pick in the draft, in Round ...   \n",
       "1  From an article at the Chicago Tribune by Cont...   \n",
       "2  Fill in your details below or click an icon to...   \n",
       "3  Chicago Police Supt. Eddie Johnson (AP Photo/T...   \n",
       "4  Comment If the Chicago Bulls are willing to ge...   \n",
       "\n",
       "                                               title  \n",
       "0  Family affair: Bears fourth-round WR Riley Rid...  \n",
       "1  Coin Flip Determines Winner Of Election In Chi...  \n",
       "2  FOX NEWS: Late April storm dumps snow across M...  \n",
       "3  Chicago Police Department ‘Fixes’ Their FOID R...  \n",
       "4  Chicago Bulls: 76ers Tobias Harris free agency...  "
      ]
     },
     "execution_count": 2,
     "metadata": {},
     "output_type": "execute_result"
    }
   ],
   "source": [
    "df = pd.read_pickle(os.path.expanduser('~/Datasets/32018/news_chicago_il.pkl'))\n",
    "df.head()"
   ]
  },
  {
   "cell_type": "code",
   "execution_count": 3,
   "metadata": {},
   "outputs": [
    {
     "data": {
      "text/plain": [
       "'With their second pick in the draft, in Round 4 at No. 126 overall, the Bears selected Georgia WR Riley Ridley , the little brother of Atlanta Falcons 2018 first-round All-Rookie WR Calvin .\\nRidley (6-foot-1, 199 pounds) caught a team-high 44 balls for 570 yards and nine touchdowns as a true junior last year, his first as'"
      ]
     },
     "execution_count": 3,
     "metadata": {},
     "output_type": "execute_result"
    }
   ],
   "source": [
    "df.text[0]"
   ]
  },
  {
   "cell_type": "code",
   "execution_count": 4,
   "metadata": {},
   "outputs": [],
   "source": [
    "df['title'] = df['title'].map(lambda x: re.sub('[^a-zA-Z0-9 @ . , : - _]', '', str(x)))\n",
    "df['text']   = df['text'].map(lambda x: re.sub('[^a-zA-Z0-9 @ . , : - _]', '', str(x)))"
   ]
  },
  {
   "cell_type": "markdown",
   "metadata": {},
   "source": [
    "# Sentiment\n",
    "\n",
    "## Afinn"
   ]
  },
  {
   "cell_type": "code",
   "execution_count": 5,
   "metadata": {},
   "outputs": [],
   "source": [
    "afinn = Afinn(language='en')"
   ]
  },
  {
   "cell_type": "code",
   "execution_count": 6,
   "metadata": {},
   "outputs": [
    {
     "name": "stdout",
     "output_type": "stream",
     "text": [
      "Family affair: Bears fourthround WR Riley Ridley feeling the love from Chicago\n",
      "4.0\n",
      "\n",
      "With their second pick in the draft, in Round 4 at No. 126 overall, the Bears selected Georgia WR Riley Ridley , the little brother of Atlanta Falcons 2018 firstround AllRookie WR Calvin .Ridley 6foot1, 199 pounds caught a teamhigh 44 balls for 570 yards and nine touchdowns as a true junior last year, his first as\n",
      "1.0\n"
     ]
    }
   ],
   "source": [
    "print(df.title[0])\n",
    "print(afinn.score(df.title[0]))\n",
    "print()\n",
    "print(df.text[0])\n",
    "print(afinn.score(df.text[0]))"
   ]
  },
  {
   "cell_type": "code",
   "execution_count": 7,
   "metadata": {},
   "outputs": [
    {
     "name": "stdout",
     "output_type": "stream",
     "text": [
      "Driver charged in fiery crash that left Uber passenger dead in Chicago  News Headlines  kmov.com\n",
      "-8.0\n",
      "\n",
      "SaveCHICAGO, IL KMOV.com  The Illinois State Police have arrested a 23yearold Chicago man who allegedly fled the scene of a fatal fiery crash overnight Sunday.According to police, Rami Matariyeh, 23, was driving down southbound Interstate 55 at Damen Avenue when it rearended an Uber car with passengers inside.The car then burst into flames after the impact, officials say.Three people were able to escape to safety expect for a woman, later identified as Jamie Poulos, who was in the back seat. Police said Matariyeh left the scene of crash but the passenger riding in his car remain on scene.All the passengers in the Uber car and the passenger in the suspects car were injured following the crash and taken to a hospital by emergency crews.Matariyeh was later arrested at his home and transported to a local hospital for his injuries.He was charged with aggravated DUI death, aggravated DUI, leaving the scene of crash death, leaving the scene of a crash, great bodily harm, and reckless homicide.He is currently being held at the Chicago Police Department.Copyright 2019 KMOV Meredith Corporation. All rights reserved \n",
      "-40.0\n"
     ]
    }
   ],
   "source": [
    "print(df.title[3732])\n",
    "print(afinn.score(df.title[3732]))\n",
    "print()\n",
    "print(df.text[3732])\n",
    "print(afinn.score(df.text[3732]))"
   ]
  },
  {
   "cell_type": "code",
   "execution_count": 8,
   "metadata": {},
   "outputs": [
    {
     "name": "stdout",
     "output_type": "stream",
     "text": [
      "Illinois governor announces plan to legalize marijuana\n",
      "0.0\n",
      "\n",
      "War on drugs Illinois governor announces plan to legalize marijuana This is a political forum that is nonbiasednonpartisan and treats every persons position on topics equally. This debate forum is not aligned to any political party. In todays politics , many ideas are split between and even within all the political parties. Often we find ourselves agreeing on one platform but some topics break our mold. We are here to discuss them in a civil political debate. If this is your first visit to our political forums, be sure to check out the FAQ and RULES . Registering for debate politics is necessary before posting. Register today to participate and remove the ads  its free Results 1 to 4 of 4\n",
      "-1.0\n"
     ]
    }
   ],
   "source": [
    "print(df.title[7518])\n",
    "print(afinn.score(df.title[7518]))\n",
    "print()\n",
    "print(df.text[7518])\n",
    "print(afinn.score(df.text[7518]))"
   ]
  },
  {
   "cell_type": "code",
   "execution_count": 9,
   "metadata": {},
   "outputs": [],
   "source": [
    "def word_count(text_string):\n",
    "    '''Calculate the number of words in a string'''\n",
    "    return len(text_string.split())"
   ]
  },
  {
   "cell_type": "code",
   "execution_count": 10,
   "metadata": {},
   "outputs": [],
   "source": [
    "# This cell takes a long time\n",
    "\n",
    "df['afinn_score_title'] = df.title.apply(afinn.score)\n",
    "df['afinn_score_text'] = df.text.apply(afinn.score)\n",
    "\n",
    "df['word_count_title'] = df.title.apply(word_count)\n",
    "df['word_count_text'] = df.text.apply(word_count)\n",
    "\n",
    "df['afinn_adjusted_title'] = df.afinn_score_title / df.word_count_title * 100\n",
    "df['afinn_adjusted_text'] = df.afinn_score_text / df.word_count_text * 100"
   ]
  },
  {
   "cell_type": "code",
   "execution_count": 11,
   "metadata": {},
   "outputs": [
    {
     "data": {
      "text/plain": [
       "<matplotlib.axes._subplots.AxesSubplot at 0x12097d400>"
      ]
     },
     "execution_count": 11,
     "metadata": {},
     "output_type": "execute_result"
    },
    {
     "data": {
      "image/png": "[encoded data removed]",
      "text/plain": [
       "<Figure size 1008x432 with 2 Axes>"
      ]
     },
     "metadata": {
      "needs_background": "light"
     },
     "output_type": "display_data"
    }
   ],
   "source": [
    "fig, axes = plt.subplots(ncols=2, figsize=(14,6))\n",
    "\n",
    "df.afinn_adjusted_title.hist(ax=axes[0])\n",
    "df.afinn_adjusted_text.hist(ax=axes[1])"
   ]
  },
  {
   "cell_type": "code",
   "execution_count": 12,
   "metadata": {},
   "outputs": [
    {
     "data": {
      "text/plain": [
       "count    4478.000000\n",
       "mean       26.866629\n",
       "std        15.416118\n",
       "min        10.204082\n",
       "25%        15.384615\n",
       "50%        22.222222\n",
       "75%        33.333333\n",
       "max       200.000000\n",
       "Name: afinn_adjusted_title, dtype: float64"
      ]
     },
     "execution_count": 12,
     "metadata": {},
     "output_type": "execute_result"
    }
   ],
   "source": [
    "df[df['afinn_adjusted_title'] > 10].afinn_adjusted_title.describe()"
   ]
  },
  {
   "cell_type": "markdown",
   "metadata": {},
   "source": [
    "## Vader"
   ]
  },
  {
   "cell_type": "code",
   "execution_count": 13,
   "metadata": {},
   "outputs": [],
   "source": [
    "analyzer = SentimentIntensityAnalyzer()"
   ]
  },
  {
   "cell_type": "code",
   "execution_count": 14,
   "metadata": {},
   "outputs": [],
   "source": [
    "def vader_sentiment(score):\n",
    "    if score > 0.25:\n",
    "        return('pos')\n",
    "    elif score < -0.25:\n",
    "        return('neg')\n",
    "    else:\n",
    "        return('net')"
   ]
  },
  {
   "cell_type": "code",
   "execution_count": 15,
   "metadata": {},
   "outputs": [
    {
     "name": "stdout",
     "output_type": "stream",
     "text": [
      "Family affair: Bears fourthround WR Riley Ridley feeling the love from Chicago\n",
      "{'neg': 0.0, 'neu': 0.637, 'pos': 0.363, 'compound': 0.6908}\n",
      "\n",
      "Driver charged in fiery crash that left Uber passenger dead in Chicago  News Headlines  kmov.com\n",
      "{'neg': 0.511, 'neu': 0.489, 'pos': 0.0, 'compound': -0.888}\n",
      "\n",
      "Illinois governor announces plan to legalize marijuana\n",
      "{'neg': 0.0, 'neu': 1.0, 'pos': 0.0, 'compound': 0.0}\n"
     ]
    }
   ],
   "source": [
    "print(df.title[0])\n",
    "print(analyzer.polarity_scores(df.title[0]))\n",
    "print()\n",
    "print(df.title[3732])\n",
    "print(analyzer.polarity_scores(df.title[3732]))\n",
    "print()\n",
    "print(df.title[7518])\n",
    "print(analyzer.polarity_scores(df.title[7518]))"
   ]
  },
  {
   "cell_type": "code",
   "execution_count": 16,
   "metadata": {},
   "outputs": [],
   "source": [
    "df['vader_score_title'] = df.title.apply(lambda x: analyzer.polarity_scores(x)['compound'])\n",
    "#df['vader_score_text'] = df.text.apply(lambda x: analyzer.polarity_scores(x)['compound'])"
   ]
  },
  {
   "cell_type": "code",
   "execution_count": 17,
   "metadata": {},
   "outputs": [
    {
     "data": {
      "text/plain": [
       "<matplotlib.axes._subplots.AxesSubplot at 0x1145a8278>"
      ]
     },
     "execution_count": 17,
     "metadata": {},
     "output_type": "execute_result"
    },
    {
     "data": {
      "image/png": "[encoded data removed]",
      "text/plain": [
       "<Figure size 432x288 with 1 Axes>"
      ]
     },
     "metadata": {
      "needs_background": "light"
     },
     "output_type": "display_data"
    }
   ],
   "source": [
    "sns.distplot(df.vader_score_title)"
   ]
  },
  {
   "cell_type": "code",
   "execution_count": 18,
   "metadata": {},
   "outputs": [
    {
     "data": {
      "text/plain": [
       "<matplotlib.axes._subplots.AxesSubplot at 0x1208276a0>"
      ]
     },
     "execution_count": 18,
     "metadata": {},
     "output_type": "execute_result"
    },
    {
     "data": {
      "image/png": "[encoded data removed]",
      "text/plain": [
       "<Figure size 432x288 with 1 Axes>"
      ]
     },
     "metadata": {
      "needs_background": "light"
     },
     "output_type": "display_data"
    }
   ],
   "source": [
    "df.vader_score_title.hist()"
   ]
  },
  {
   "cell_type": "code",
   "execution_count": 19,
   "metadata": {},
   "outputs": [],
   "source": [
    "df['vader_sentiment_title'] = df.vader_score_title.apply(vader_sentiment)"
   ]
  },
  {
   "cell_type": "code",
   "execution_count": 20,
   "metadata": {},
   "outputs": [
    {
     "data": {
      "text/plain": [
       "<matplotlib.axes._subplots.AxesSubplot at 0x120918cc0>"
      ]
     },
     "execution_count": 20,
     "metadata": {},
     "output_type": "execute_result"
    },
    {
     "data": {
      "image/png": "[encoded data removed]",
      "text/plain": [
       "<Figure size 432x288 with 1 Axes>"
      ]
     },
     "metadata": {
      "needs_background": "light"
     },
     "output_type": "display_data"
    }
   ],
   "source": [
    "df.vader_sentiment_title.value_counts().plot.bar()"
   ]
  },
  {
   "cell_type": "markdown",
   "metadata": {},
   "source": [
    "Okay so the sentinment found by the Afinn and the Vader methods are strongly similar."
   ]
  },
  {
   "cell_type": "code",
   "execution_count": 21,
   "metadata": {},
   "outputs": [
    {
     "name": "stdout",
     "output_type": "stream",
     "text": [
      "0.7603560161637024\n"
     ]
    },
    {
     "data": {
      "image/png": "[encoded data removed]",
      "text/plain": [
       "<Figure size 432x432 with 3 Axes>"
      ]
     },
     "metadata": {
      "needs_background": "light"
     },
     "output_type": "display_data"
    }
   ],
   "source": [
    "sns.jointplot(data=df, x='vader_score_title', y='afinn_adjusted_title', \n",
    "              kind='reg', joint_kws={'line_kws':{'color':'red'}})\n",
    "\n",
    "print(df.vader_score_title.corr(df.afinn_adjusted_title))"
   ]
  },
  {
   "cell_type": "code",
   "execution_count": 22,
   "metadata": {},
   "outputs": [
    {
     "data": {
      "text/plain": [
       "0.5781412713163394"
      ]
     },
     "execution_count": 22,
     "metadata": {},
     "output_type": "execute_result"
    }
   ],
   "source": [
    "from sklearn import linear_model\n",
    "\n",
    "reg = linear_model.LinearRegression()\n",
    "reg.fit(df[['vader_score_title']], df['afinn_adjusted_title'])\n",
    "\n",
    "reg.score(df[['vader_score_title']], df['afinn_adjusted_title'])"
   ]
  },
  {
   "cell_type": "code",
   "execution_count": 23,
   "metadata": {},
   "outputs": [
    {
     "data": {
      "image/png": "[encoded data removed]",
      "text/plain": [
       "<Figure size 432x288 with 2 Axes>"
      ]
     },
     "metadata": {
      "needs_background": "light"
     },
     "output_type": "display_data"
    }
   ],
   "source": [
    "fig, axes = plt.subplots(ncols=2)\n",
    "sns.catplot(x='vader_sentiment_title', y='vader_score_title', data=df, ax=axes[0])\n",
    "sns.catplot(x='vader_sentiment_title', y='afinn_adjusted_title', data=df, ax=axes[1])\n",
    "plt.close(2)\n",
    "plt.close(3)"
   ]
  },
  {
   "cell_type": "markdown",
   "metadata": {},
   "source": [
    "# Topic Modeling"
   ]
  },
  {
   "cell_type": "code",
   "execution_count": 24,
   "metadata": {},
   "outputs": [],
   "source": [
    "stop = set(stopwords.words('english'))\n",
    "for w in ['chicago', 'illinois', 'said', 'state', 'may', 'get']:\n",
    "    stop.add(w)\n",
    "\n",
    "exclude = set(string.punctuation)\n",
    "lemma = WordNetLemmatizer()\n",
    "\n",
    "def clean(doc):\n",
    "    stop_free = \" \".join([i for i in doc.lower().split() if i not in stop])\n",
    "    punc_free = ''.join(ch for ch in stop_free if ch not in exclude)\n",
    "    normalized = \" \".join(lemma.lemmatize(word) for word in punc_free.split())\n",
    "    return normalized\n",
    "\n",
    "df['title_clean'] = [clean(doc).split() for doc in df.text.to_list()]\n",
    "df['text_clean'] = [clean(doc).split() for doc in df.text.to_list()]"
   ]
  },
  {
   "cell_type": "code",
   "execution_count": 25,
   "metadata": {},
   "outputs": [
    {
     "name": "stdout",
     "output_type": "stream",
     "text": [
      "(28604, 14)\n",
      "(5696, 14)\n",
      "(6165, 14)\n"
     ]
    }
   ],
   "source": [
    "pos = df[df.vader_sentiment_title == 'pos']\n",
    "neg = df[df.vader_sentiment_title == 'neg']\n",
    "\n",
    "print(df.shape)\n",
    "print(pos.shape)\n",
    "print(neg.shape)"
   ]
  },
  {
   "cell_type": "code",
   "execution_count": 26,
   "metadata": {},
   "outputs": [],
   "source": [
    "pos_title_dict = corpora.Dictionary(pos['title_clean'])\n",
    "pos_text_dict  = corpora.Dictionary(neg['text_clean'])\n",
    "\n",
    "neg_title_dict = corpora.Dictionary(pos['title_clean'])\n",
    "neg_text_dict  = corpora.Dictionary(neg['text_clean'])"
   ]
  },
  {
   "cell_type": "code",
   "execution_count": 27,
   "metadata": {},
   "outputs": [
    {
     "name": "stdout",
     "output_type": "stream",
     "text": [
      "CPU times: user 1.24 s, sys: 51.3 ms, total: 1.29 s\n",
      "Wall time: 1.32 s\n",
      "CPU times: user 1.14 s, sys: 45.1 ms, total: 1.18 s\n",
      "Wall time: 1.24 s\n"
     ]
    }
   ],
   "source": [
    "%time pos_title_doc_term_matrix = [pos_title_dict.doc2bow(doc) for doc in pos.title_clean]\n",
    "%time neg_title_doc_term_matrix = [neg_title_dict.doc2bow(doc) for doc in neg.title_clean]"
   ]
  },
  {
   "cell_type": "code",
   "execution_count": 28,
   "metadata": {},
   "outputs": [
    {
     "name": "stdout",
     "output_type": "stream",
     "text": [
      "CPU times: user 52.4 s, sys: 4.43 s, total: 56.8 s\n",
      "Wall time: 1min 8s\n",
      "CPU times: user 27.9 s, sys: 4.09 s, total: 32 s\n",
      "Wall time: 39.9 s\n",
      "CPU times: user 51.5 s, sys: 4.47 s, total: 56 s\n",
      "Wall time: 1min 4s\n",
      "CPU times: user 28 s, sys: 4.17 s, total: 32.2 s\n",
      "Wall time: 40 s\n",
      "CPU times: user 51.9 s, sys: 4.58 s, total: 56.5 s\n",
      "Wall time: 1min 4s\n",
      "CPU times: user 28.4 s, sys: 4.27 s, total: 32.7 s\n",
      "Wall time: 39.7 s\n",
      "CPU times: user 51.5 s, sys: 4.6 s, total: 56.1 s\n",
      "Wall time: 1min 4s\n",
      "CPU times: user 29.2 s, sys: 4.43 s, total: 33.7 s\n",
      "Wall time: 42.3 s\n",
      "CPU times: user 51.6 s, sys: 4.69 s, total: 56.3 s\n",
      "Wall time: 1min 4s\n",
      "CPU times: user 28.7 s, sys: 4.37 s, total: 33.1 s\n",
      "Wall time: 40.4 s\n",
      "CPU times: user 53.1 s, sys: 4.85 s, total: 57.9 s\n",
      "Wall time: 1min 6s\n",
      "CPU times: user 30.4 s, sys: 4.79 s, total: 35.2 s\n",
      "Wall time: 43.1 s\n",
      "CPU times: user 53 s, sys: 4.93 s, total: 58 s\n",
      "Wall time: 1min 6s\n",
      "CPU times: user 27.7 s, sys: 4.41 s, total: 32.1 s\n",
      "Wall time: 40 s\n",
      "CPU times: user 54.1 s, sys: 5.13 s, total: 59.2 s\n",
      "Wall time: 1min 4s\n",
      "CPU times: user 29.8 s, sys: 4.72 s, total: 34.6 s\n",
      "Wall time: 41.7 s\n",
      "CPU times: user 55.3 s, sys: 5.25 s, total: 1min\n",
      "Wall time: 1min 5s\n",
      "CPU times: user 29 s, sys: 4.66 s, total: 33.6 s\n",
      "Wall time: 39.1 s\n"
     ]
    }
   ],
   "source": [
    "max_topics = 10\n",
    "n_topics = []\n",
    "\n",
    "pos_title_lda_models = []\n",
    "neg_title_lda_models = []\n",
    "\n",
    "for i in range(1, max_topics):\n",
    "    n_topics.append(i+1)\n",
    "    %time pos_title_model = LdaMulticore(pos_title_doc_term_matrix, num_topics=i+1, id2word = pos_title_dict, passes=10)\n",
    "    %time neg_title_model = LdaMulticore(neg_title_doc_term_matrix, num_topics=i+1, id2word = neg_title_dict, passes=10)\n",
    "    pos_title_lda_models.append(pos_title_model)\n",
    "    neg_title_lda_models.append(neg_title_model)"
   ]
  },
  {
   "cell_type": "code",
   "execution_count": 29,
   "metadata": {},
   "outputs": [],
   "source": [
    "pos_title_coherence_scores = []\n",
    "neg_title_coherence_scores = []\n",
    "\n",
    "for model in pos_title_lda_models:\n",
    "    coherencemodel = CoherenceModel(model=model, texts=pos.title_clean, dictionary=pos_title_dict, coherence='c_v')\n",
    "    pos_title_coherence_scores.append(coherencemodel.get_coherence())\n",
    "    \n",
    "for model in neg_title_lda_models:\n",
    "    coherencemodel = CoherenceModel(model=model, texts=neg.title_clean, dictionary=neg_title_dict, coherence='c_v')\n",
    "    neg_title_coherence_scores.append(coherencemodel.get_coherence())"
   ]
  },
  {
   "cell_type": "code",
   "execution_count": 30,
   "metadata": {},
   "outputs": [
    {
     "data": {
      "text/plain": [
       "[Text(0, 0.5, 'Negative Title Coherence Score'),\n",
       " Text(0.5, 0, 'Number of Topics')]"
      ]
     },
     "execution_count": 30,
     "metadata": {},
     "output_type": "execute_result"
    },
    {
     "data": {
      "image/png": "[encoded data removed]",
      "text/plain": [
       "<Figure size 720x432 with 2 Axes>"
      ]
     },
     "metadata": {
      "needs_background": "light"
     },
     "output_type": "display_data"
    }
   ],
   "source": [
    "fig, axes = plt.subplots(ncols=2, figsize=(10,6))\n",
    "\n",
    "sns.lineplot(x=n_topics, y=pos_title_coherence_scores, ax=axes[0])\n",
    "axes[0].set(xlabel='Number of Topics', ylabel='Positive Title Coherence Score')\n",
    "\n",
    "sns.lineplot(x=n_topics, y=neg_title_coherence_scores, ax=axes[1])\n",
    "axes[1].set(xlabel='Number of Topics', ylabel='Negative Title Coherence Score')"
   ]
  },
  {
   "cell_type": "code",
   "execution_count": 34,
   "metadata": {},
   "outputs": [
    {
     "data": {
      "text/html": [
       "<div>\n",
       "<style scoped>\n",
       "    .dataframe tbody tr th:only-of-type {\n",
       "        vertical-align: middle;\n",
       "    }\n",
       "\n",
       "    .dataframe tbody tr th {\n",
       "        vertical-align: top;\n",
       "    }\n",
       "\n",
       "    .dataframe thead th {\n",
       "        text-align: right;\n",
       "    }\n",
       "</style>\n",
       "<table border=\"1\" class=\"dataframe\">\n",
       "  <thead>\n",
       "    <tr style=\"text-align: right;\">\n",
       "      <th></th>\n",
       "      <th>NumTopics</th>\n",
       "      <th>neg_coherence</th>\n",
       "      <th>pos_coherence</th>\n",
       "    </tr>\n",
       "  </thead>\n",
       "  <tbody>\n",
       "    <tr>\n",
       "      <th>0</th>\n",
       "      <td>2</td>\n",
       "      <td>0.326780</td>\n",
       "      <td>0.484314</td>\n",
       "    </tr>\n",
       "    <tr>\n",
       "      <th>1</th>\n",
       "      <td>3</td>\n",
       "      <td>0.346840</td>\n",
       "      <td>0.460908</td>\n",
       "    </tr>\n",
       "    <tr>\n",
       "      <th>2</th>\n",
       "      <td>4</td>\n",
       "      <td>0.332723</td>\n",
       "      <td>0.463813</td>\n",
       "    </tr>\n",
       "    <tr>\n",
       "      <th>3</th>\n",
       "      <td>5</td>\n",
       "      <td>0.501590</td>\n",
       "      <td>0.423138</td>\n",
       "    </tr>\n",
       "    <tr>\n",
       "      <th>4</th>\n",
       "      <td>6</td>\n",
       "      <td>0.593861</td>\n",
       "      <td>0.468223</td>\n",
       "    </tr>\n",
       "    <tr>\n",
       "      <th>5</th>\n",
       "      <td>7</td>\n",
       "      <td>0.424687</td>\n",
       "      <td>0.443952</td>\n",
       "    </tr>\n",
       "    <tr>\n",
       "      <th>6</th>\n",
       "      <td>8</td>\n",
       "      <td>0.434881</td>\n",
       "      <td>0.447702</td>\n",
       "    </tr>\n",
       "    <tr>\n",
       "      <th>7</th>\n",
       "      <td>9</td>\n",
       "      <td>0.514013</td>\n",
       "      <td>0.487444</td>\n",
       "    </tr>\n",
       "    <tr>\n",
       "      <th>8</th>\n",
       "      <td>10</td>\n",
       "      <td>0.564919</td>\n",
       "      <td>0.493138</td>\n",
       "    </tr>\n",
       "  </tbody>\n",
       "</table>\n",
       "</div>"
      ],
      "text/plain": [
       "   NumTopics  neg_coherence  pos_coherence\n",
       "0          2       0.326780       0.484314\n",
       "1          3       0.346840       0.460908\n",
       "2          4       0.332723       0.463813\n",
       "3          5       0.501590       0.423138\n",
       "4          6       0.593861       0.468223\n",
       "5          7       0.424687       0.443952\n",
       "6          8       0.434881       0.447702\n",
       "7          9       0.514013       0.487444\n",
       "8         10       0.564919       0.493138"
      ]
     },
     "execution_count": 34,
     "metadata": {},
     "output_type": "execute_result"
    }
   ],
   "source": [
    "pd.DataFrame({'NumTopics':n_topics, \n",
    "              'neg_coherence': neg_title_coherence_scores, \n",
    "              'pos_coherence': pos_title_coherence_scores})"
   ]
  },
  {
   "cell_type": "code",
   "execution_count": 36,
   "metadata": {},
   "outputs": [
    {
     "data": {
      "text/plain": [
       "[(0,\n",
       "  '0.008*\"credit\" + 0.007*\"service\" + 0.006*\"counseling\" + 0.004*\"company\" + 0.004*\"tax\" + 0.004*\"need\" + 0.004*\"also\" + 0.003*\"one\" + 0.003*\"program\" + 0.003*\"2019\"'),\n",
       " (1,\n",
       "  '0.005*\"game\" + 0.005*\"2019\" + 0.004*\"year\" + 0.004*\"one\" + 0.004*\"last\" + 0.004*\"first\" + 0.003*\"season\" + 0.003*\"team\" + 0.003*\"two\" + 0.003*\"work\"'),\n",
       " (2,\n",
       "  '0.004*\"year\" + 0.004*\"job\" + 0.004*\"new\" + 0.004*\"one\" + 0.004*\"experience\" + 0.003*\"time\" + 0.003*\"customer\" + 0.003*\"chicago\" + 0.003*\"day\" + 0.003*\"city\"'),\n",
       " (3,\n",
       "  '0.023*\"share\" + 0.018*\"tool\" + 0.017*\"work\" + 0.017*\"company\" + 0.015*\"stock\" + 0.012*\"rating\" + 0.012*\"quarter\" + 0.008*\"inc\" + 0.007*\"product\" + 0.007*\"price\"')]"
      ]
     },
     "execution_count": 36,
     "metadata": {},
     "output_type": "execute_result"
    }
   ],
   "source": [
    "pos_title_lda_models[4-2].print_topics()"
   ]
  },
  {
   "cell_type": "code",
   "execution_count": 37,
   "metadata": {},
   "outputs": [
    {
     "data": {
      "text/plain": [
       "[(0,\n",
       "  '0.007*\"police\" + 0.007*\"jaylon\" + 0.006*\"said\" + 0.006*\"news\" + 0.005*\"party\" + 0.005*\"shot\" + 0.005*\"year\" + 0.004*\"star\" + 0.004*\"saturday\" + 0.004*\"time\"'),\n",
       " (1,\n",
       "  '0.005*\"game\" + 0.005*\"one\" + 0.004*\"time\" + 0.004*\"fire\" + 0.004*\"daoud\" + 0.004*\"first\" + 0.003*\"season\" + 0.003*\"2019\" + 0.003*\"cub\" + 0.003*\"two\"'),\n",
       " (2,\n",
       "  '0.014*\"baby\" + 0.011*\"figueroa\" + 0.009*\"2019\" + 0.007*\"clarisa\" + 0.007*\"say\" + 0.006*\"police\" + 0.006*\"teen\" + 0.005*\"charged\" + 0.005*\"murder\" + 0.005*\"womb\"'),\n",
       " (3,\n",
       "  '0.021*\"baby\" + 0.014*\"police\" + 0.012*\"woman\" + 0.011*\"figueroa\" + 0.010*\"family\" + 0.009*\"home\" + 0.009*\"ochoalopez\" + 0.008*\"mother\" + 0.007*\"pregnant\" + 0.007*\"found\"'),\n",
       " (4,\n",
       "  '0.017*\"explosion\" + 0.013*\"fire\" + 0.012*\"plant\" + 0.009*\"silicone\" + 0.009*\"police\" + 0.008*\"lenzi\" + 0.008*\"two\" + 0.008*\"waukegan\" + 0.008*\"said\" + 0.008*\"body\"'),\n",
       " (5,\n",
       "  '0.005*\"city\" + 0.005*\"year\" + 0.004*\"child\" + 0.004*\"case\" + 0.004*\"also\" + 0.004*\"new\" + 0.004*\"2019\" + 0.004*\"state\" + 0.003*\"would\" + 0.003*\"people\"')]"
      ]
     },
     "execution_count": 37,
     "metadata": {},
     "output_type": "execute_result"
    }
   ],
   "source": [
    "neg_title_lda_models[6-2].print_topics()"
   ]
  },
  {
   "cell_type": "code",
   "execution_count": null,
   "metadata": {},
   "outputs": [],
   "source": [
    "import pyLDAvis.gensim\n",
    "lda_display = pyLDAvis.gensim.prepare(pos_title_lda_models[4-2], pos_title_doc_term_matrix, pos_title_dict, sort_topics=False, mds='mmds')\n",
    "pyLDAvis.display(lda_display)"
   ]
  }
 ],
 "metadata": {
  "kernelspec": {
   "display_name": "Python 3",
   "language": "python",
   "name": "python3"
  },
  "language_info": {
   "codemirror_mode": {
    "name": "ipython",
    "version": 3
   },
   "file_extension": ".py",
   "mimetype": "text/x-python",
   "name": "python",
   "nbconvert_exporter": "python",
   "pygments_lexer": "ipython3",
   "version": "3.7.2"
  },
  "toc": {
   "base_numbering": 1,
   "nav_menu": {},
   "number_sections": true,
   "sideBar": true,
   "skip_h1_title": false,
   "title_cell": "Table of Contents",
   "title_sidebar": "Contents",
   "toc_cell": false,
   "toc_position": {},
   "toc_section_display": true,
   "toc_window_display": true
  }
 },
 "nbformat": 4,
 "nbformat_minor": 2
}
