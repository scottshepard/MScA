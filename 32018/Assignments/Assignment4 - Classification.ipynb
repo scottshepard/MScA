{
 "cells": [
  {
   "cell_type": "markdown",
   "metadata": {},
   "source": [
    "# Assignment 4 - Classification\n",
    "\n",
    "## Prompt\n",
    "\n",
    "Create classification model, predicting the outcome of food safety inspection based on the inspectors’ comments\n",
    "\n",
    "- Leverage the results of your homework from Week-1 and Week-2 to extract free-form text comments from inspectors\n",
    "- Discard the text from “Health Code” – only keep inspectors’ comments\n",
    "- Build classification model, predicting the outcome of inspection – your target variable is “Results”\n",
    "- Explain why you selected a particular text pre-processing technique\n",
    "- Visualize results of at least two text classifiers and select the most robust one\n",
    "- You can choose to build a binary classifier (limiting your data to Pass / Fail) or multinomial classifier with all available values in Results"
   ]
  },
  {
   "cell_type": "markdown",
   "metadata": {},
   "source": [
    "# Setup & Data"
   ]
  },
  {
   "cell_type": "code",
   "execution_count": 108,
   "metadata": {},
   "outputs": [],
   "source": [
    "import pandas as pd\n",
    "\n",
    "import nltk as nltk\n",
    "import nltk.corpus  \n",
    "from nltk.text import Text\n",
    "import regex\n",
    "\n",
    "from sklearn.model_selection import train_test_split\n",
    "from sklearn.feature_extraction.text import CountVectorizer, HashingVectorizer, TfidfTransformer, TfidfVectorizer\n",
    "from sklearn.metrics import classification_report, confusion_matrix, accuracy_score\n",
    "from sklearn.metrics import roc_curve, auc, roc_auc_score\n",
    "from sklearn.linear_model import LogisticRegression, SGDClassifier\n",
    "\n",
    "import matplotlib.pyplot as pltl\n",
    "\n",
    "import sys\n",
    "import time"
   ]
  },
  {
   "cell_type": "code",
   "execution_count": 64,
   "metadata": {},
   "outputs": [
    {
     "name": "stdout",
     "output_type": "stream",
     "text": [
      "(579813, 3)\n"
     ]
    }
   ],
   "source": [
    "data_path = \"/Users/rowena/Datasets/\"\n",
    "file_path = data_path + \"Food_Inspections.csv\"\n",
    "\n",
    "insp = pd.read_csv(file_path)\n",
    "\n",
    "print(df.shape)"
   ]
  },
  {
   "cell_type": "code",
   "execution_count": 65,
   "metadata": {},
   "outputs": [],
   "source": [
    "insp = insp[['Inspection ID','Violations', 'Results']]\n",
    "insp['Violations'] = insp.Violations.fillna('')"
   ]
  },
  {
   "cell_type": "markdown",
   "metadata": {},
   "source": [
    "Extract just the comments"
   ]
  },
  {
   "cell_type": "code",
   "execution_count": 67,
   "metadata": {},
   "outputs": [],
   "source": [
    "def extract_comments(violation_text):\n",
    "    return regex.findall('(?<=Comments: )[^|]*(?=\\||$)', violation_text)\n",
    "\n",
    "def group_result(result):\n",
    "    if result == 'Pass':\n",
    "        return 1\n",
    "    elif result == 'Pass w/ Conditions':\n",
    "        return 1\n",
    "    else:\n",
    "        return 0"
   ]
  },
  {
   "cell_type": "code",
   "execution_count": 68,
   "metadata": {},
   "outputs": [
    {
     "data": {
      "text/plain": [
       "Pass                    103182\n",
       "Fail                     35719\n",
       "Pass w/ Conditions       22585\n",
       "Out of Business          16122\n",
       "No Entry                  5731\n",
       "Not Ready                 1594\n",
       "Business Not Located        66\n",
       "Name: Results, dtype: int64"
      ]
     },
     "execution_count": 68,
     "metadata": {},
     "output_type": "execute_result"
    }
   ],
   "source": [
    "insp.Results.value_counts()"
   ]
  },
  {
   "cell_type": "code",
   "execution_count": 70,
   "metadata": {},
   "outputs": [
    {
     "data": {
      "text/plain": [
       "['FOUND NO EMPLOYEE HEALTH POLICY ON SITE. INSTRUCTED TO IMPLEMENT A POLICY WHERE ALL MANAGERS, FOOD AND CONDITIONAL EMPLOYEES ACKNOWLEDGES THEIR RESPONSIBILITIES IN REPORTING ANY ILLNESSES TRANSMISSIBLE THROUGH FOODS. PRIORITY FOUNDATION VIOLATION 7-38-012 NO CITATION ISSUED ',\n",
       " 'FOUND NO PROCEDURES FOR RESPONDING TO VOMITING AND DIARRHEAL EVENTS ON SITE. INSTRUCTED TO IMPLEMENT A PROCEDURE AND PROVIDE ALL NECESSARY SUPPLIES NEEDED TO HANDLE THESE EVENTS. PRIORITY FOUNDATION VIOLATION 7-38-005 NO CITATION ISSUED ',\n",
       " 'FOUND NO HAND WASHING SIGNAGE OR POSTERS POSTED AT THE SINKS FOR HAND WASHING. INSTRUCTED TO POST SIGNAGE OR POSTERS FOR HAND WASHING AT THE SINKS. MAINTAIN SAME. ',\n",
       " \"FRONT DOOR WITH 1/4' GAP UNDERNEATH IT. INSTRUCTED TO MAKE TIGHT FITTING TO PREVENT PEST FROM ENTERING. \",\n",
       " 'ALL FOOD HANDLERS MUST MEET THE IDPH FOOD HANDLERS REQUIREMENTS. INSTRUCTED TO TAKE THE TRAINING AND PROVIDE PROOF REQUIREMENTS WERE MET.']"
      ]
     },
     "execution_count": 70,
     "metadata": {},
     "output_type": "execute_result"
    }
   ],
   "source": [
    "extract_comments(insp.Violations[0])"
   ]
  },
  {
   "cell_type": "code",
   "execution_count": 71,
   "metadata": {},
   "outputs": [
    {
     "name": "stdout",
     "output_type": "stream",
     "text": [
      "--- 36.830885887145996 seconds ---\n"
     ]
    }
   ],
   "source": [
    "start_time = time.time()\n",
    "\n",
    "ids = []\n",
    "results = []\n",
    "results_gpd = []\n",
    "comments = []\n",
    "for i, row in insp.iterrows():\n",
    "    ids.append(row['Inspection ID'])\n",
    "    result = row['Results']\n",
    "    violation_comments = extract_comments(row['Violations'])\n",
    "    for vc in violation_comments:\n",
    "        \n",
    "        comments.append(vc)\n",
    "        results.append(result)\n",
    "        results_gpd.append(group_result(result))\n",
    "\n",
    "print(\"--- %s seconds ---\" % (time.time() - start_time))"
   ]
  },
  {
   "cell_type": "code",
   "execution_count": 72,
   "metadata": {},
   "outputs": [],
   "source": [
    "df = pd.DataFrame({'comment': comments, 'result':results, 'result_gpd': results_gpd})"
   ]
  },
  {
   "cell_type": "code",
   "execution_count": 75,
   "metadata": {},
   "outputs": [
    {
     "name": "stdout",
     "output_type": "stream",
     "text": [
      "(579813, 3)\n"
     ]
    },
    {
     "data": {
      "text/html": [
       "<div>\n",
       "<style scoped>\n",
       "    .dataframe tbody tr th:only-of-type {\n",
       "        vertical-align: middle;\n",
       "    }\n",
       "\n",
       "    .dataframe tbody tr th {\n",
       "        vertical-align: top;\n",
       "    }\n",
       "\n",
       "    .dataframe thead th {\n",
       "        text-align: right;\n",
       "    }\n",
       "</style>\n",
       "<table border=\"1\" class=\"dataframe\">\n",
       "  <thead>\n",
       "    <tr style=\"text-align: right;\">\n",
       "      <th></th>\n",
       "      <th>comment</th>\n",
       "      <th>result</th>\n",
       "      <th>result_gpd</th>\n",
       "    </tr>\n",
       "  </thead>\n",
       "  <tbody>\n",
       "    <tr>\n",
       "      <th>0</th>\n",
       "      <td>FOUND NO EMPLOYEE HEALTH POLICY ON SITE. INSTR...</td>\n",
       "      <td>Pass w/ Conditions</td>\n",
       "      <td>1</td>\n",
       "    </tr>\n",
       "    <tr>\n",
       "      <th>1</th>\n",
       "      <td>FOUND NO PROCEDURES FOR RESPONDING TO VOMITING...</td>\n",
       "      <td>Pass w/ Conditions</td>\n",
       "      <td>1</td>\n",
       "    </tr>\n",
       "    <tr>\n",
       "      <th>2</th>\n",
       "      <td>FOUND NO HAND WASHING SIGNAGE OR POSTERS POSTE...</td>\n",
       "      <td>Pass w/ Conditions</td>\n",
       "      <td>1</td>\n",
       "    </tr>\n",
       "    <tr>\n",
       "      <th>3</th>\n",
       "      <td>FRONT DOOR WITH 1/4' GAP UNDERNEATH IT. INSTRU...</td>\n",
       "      <td>Pass w/ Conditions</td>\n",
       "      <td>1</td>\n",
       "    </tr>\n",
       "    <tr>\n",
       "      <th>4</th>\n",
       "      <td>ALL FOOD HANDLERS MUST MEET THE IDPH FOOD HAND...</td>\n",
       "      <td>Pass w/ Conditions</td>\n",
       "      <td>1</td>\n",
       "    </tr>\n",
       "  </tbody>\n",
       "</table>\n",
       "</div>"
      ],
      "text/plain": [
       "                                             comment              result  \\\n",
       "0  FOUND NO EMPLOYEE HEALTH POLICY ON SITE. INSTR...  Pass w/ Conditions   \n",
       "1  FOUND NO PROCEDURES FOR RESPONDING TO VOMITING...  Pass w/ Conditions   \n",
       "2  FOUND NO HAND WASHING SIGNAGE OR POSTERS POSTE...  Pass w/ Conditions   \n",
       "3  FRONT DOOR WITH 1/4' GAP UNDERNEATH IT. INSTRU...  Pass w/ Conditions   \n",
       "4  ALL FOOD HANDLERS MUST MEET THE IDPH FOOD HAND...  Pass w/ Conditions   \n",
       "\n",
       "   result_gpd  \n",
       "0           1  \n",
       "1           1  \n",
       "2           1  \n",
       "3           1  \n",
       "4           1  "
      ]
     },
     "execution_count": 75,
     "metadata": {},
     "output_type": "execute_result"
    }
   ],
   "source": [
    "print(df.shape)\n",
    "df.head()"
   ]
  },
  {
   "cell_type": "markdown",
   "metadata": {},
   "source": [
    "# Text Processing"
   ]
  },
  {
   "cell_type": "code",
   "execution_count": 80,
   "metadata": {},
   "outputs": [
    {
     "name": "stdout",
     "output_type": "stream",
     "text": [
      "(434859,)\n",
      "(144954,)\n",
      "(434859,)\n",
      "(144954,)\n"
     ]
    }
   ],
   "source": [
    "X = df.comment\n",
    "y = df.result_gpd\n",
    "\n",
    "X_train, X_test, y_train, y_test = train_test_split(X, y, random_state=20190502)\n",
    "\n",
    "print(X_train.shape)\n",
    "print(X_test.shape)\n",
    "print(y_train.shape)\n",
    "print(y_test.shape)"
   ]
  },
  {
   "cell_type": "code",
   "execution_count": 93,
   "metadata": {},
   "outputs": [
    {
     "name": "stdout",
     "output_type": "stream",
     "text": [
      "--- 46.146977186203 seconds ---\n"
     ]
    }
   ],
   "source": [
    "start_time = time.time()\n",
    "\n",
    "vect = CountVectorizer()\n",
    "vect.fit(X_train)\n",
    "X_train_dtm = vect.transform(X_train)\n",
    "\n",
    "print(\"--- %s seconds ---\" % (time.time() - start_time))"
   ]
  },
  {
   "cell_type": "code",
   "execution_count": 94,
   "metadata": {},
   "outputs": [
    {
     "data": {
      "text/plain": [
       "<434859x37679 sparse matrix of type '<class 'numpy.int64'>'\n",
       "\twith 9914487 stored elements in Compressed Sparse Row format>"
      ]
     },
     "execution_count": 94,
     "metadata": {},
     "output_type": "execute_result"
    }
   ],
   "source": [
    "X_train_dtm"
   ]
  },
  {
   "cell_type": "code",
   "execution_count": 95,
   "metadata": {},
   "outputs": [
    {
     "data": {
      "text/plain": [
       "<144954x37679 sparse matrix of type '<class 'numpy.int64'>'\n",
       "\twith 3304438 stored elements in Compressed Sparse Row format>"
      ]
     },
     "execution_count": 95,
     "metadata": {},
     "output_type": "execute_result"
    }
   ],
   "source": [
    "X_test_dtm = vect.transform(X_test)\n",
    "X_test_dtm"
   ]
  },
  {
   "cell_type": "code",
   "execution_count": 125,
   "metadata": {},
   "outputs": [
    {
     "name": "stdout",
     "output_type": "stream",
     "text": [
      "--- 172.481538772583 seconds ---\n"
     ]
    }
   ],
   "source": [
    "start_time = time.time()\n",
    "\n",
    "cv_params = CountVectorizer(lowercase=False, stop_words='english',\n",
    "                            max_df=0.8, min_df=0.2, max_features=1000, ngram_range=(1,3))\n",
    "cv_params.fit(X_train)\n",
    "X_train_dtm_params = cv_params.transform(X_train)\n",
    "\n",
    "print(\"--- %s seconds ---\" % (time.time() - start_time))"
   ]
  },
  {
   "cell_type": "code",
   "execution_count": 126,
   "metadata": {},
   "outputs": [
    {
     "data": {
      "text/plain": [
       "<434859x14 sparse matrix of type '<class 'numpy.int64'>'\n",
       "\twith 1952435 stored elements in Compressed Sparse Row format>"
      ]
     },
     "execution_count": 126,
     "metadata": {},
     "output_type": "execute_result"
    }
   ],
   "source": [
    "X_train_dtm_params"
   ]
  },
  {
   "cell_type": "code",
   "execution_count": 127,
   "metadata": {},
   "outputs": [
    {
     "data": {
      "text/plain": [
       "<144954x14 sparse matrix of type '<class 'numpy.int64'>'\n",
       "\twith 649276 stored elements in Compressed Sparse Row format>"
      ]
     },
     "execution_count": 127,
     "metadata": {},
     "output_type": "execute_result"
    }
   ],
   "source": [
    "X_test_dtm_params = cv_params.transform(X_test)\n",
    "X_test_dtm_params"
   ]
  },
  {
   "cell_type": "markdown",
   "metadata": {},
   "source": [
    "# Modeling\n",
    "\n",
    "## Logistic Regression"
   ]
  },
  {
   "cell_type": "code",
   "execution_count": 128,
   "metadata": {},
   "outputs": [],
   "source": [
    "logreg = LogisticRegression()"
   ]
  },
  {
   "cell_type": "code",
   "execution_count": 129,
   "metadata": {},
   "outputs": [
    {
     "name": "stderr",
     "output_type": "stream",
     "text": [
      "/Users/rowena/miniconda3/envs/msca/lib/python3.6/site-packages/sklearn/linear_model/logistic.py:433: FutureWarning: Default solver will be changed to 'lbfgs' in 0.22. Specify a solver to silence this warning.\n",
      "  FutureWarning)\n"
     ]
    },
    {
     "name": "stdout",
     "output_type": "stream",
     "text": [
      "CPU times: user 1.19 s, sys: 162 ms, total: 1.36 s\n",
      "Wall time: 1.62 s\n"
     ]
    },
    {
     "data": {
      "text/plain": [
       "LogisticRegression(C=1.0, class_weight=None, dual=False, fit_intercept=True,\n",
       "          intercept_scaling=1, max_iter=100, multi_class='warn',\n",
       "          n_jobs=None, penalty='l2', random_state=None, solver='warn',\n",
       "          tol=0.0001, verbose=0, warm_start=False)"
      ]
     },
     "execution_count": 129,
     "metadata": {},
     "output_type": "execute_result"
    }
   ],
   "source": [
    "%time logreg.fit(X_train_dtm_params, y_train)"
   ]
  },
  {
   "cell_type": "code",
   "execution_count": 131,
   "metadata": {},
   "outputs": [],
   "source": [
    "y_pred_class = logreg.predict(X_test_dtm_params)\n",
    "y_pred_proba = logreg.predict_proba(X_test_dtm_params)"
   ]
  },
  {
   "cell_type": "code",
   "execution_count": 132,
   "metadata": {},
   "outputs": [
    {
     "name": "stdout",
     "output_type": "stream",
     "text": [
      "              precision    recall  f1-score   support\n",
      "\n",
      "           0       0.59      0.10      0.17     50790\n",
      "           1       0.66      0.96      0.79     94164\n",
      "\n",
      "   micro avg       0.66      0.66      0.66    144954\n",
      "   macro avg       0.63      0.53      0.48    144954\n",
      "weighted avg       0.64      0.66      0.57    144954\n",
      "\n"
     ]
    }
   ],
   "source": [
    "print(classification_report(y_test, y_pred_class))"
   ]
  },
  {
   "cell_type": "code",
   "execution_count": 136,
   "metadata": {},
   "outputs": [
    {
     "data": {
      "text/plain": [
       "0.5943536026537054"
      ]
     },
     "execution_count": 136,
     "metadata": {},
     "output_type": "execute_result"
    }
   ],
   "source": [
    "roc_auc = roc_auc_score(y_test, y_pred_proba[:,1])\n",
    "roc_auc"
   ]
  },
  {
   "cell_type": "code",
   "execution_count": 134,
   "metadata": {},
   "outputs": [],
   "source": [
    "fpr, tpr, thresholds = roc_curve(y_test, y_pred_proba[:,1])"
   ]
  },
  {
   "cell_type": "code",
   "execution_count": 135,
   "metadata": {},
   "outputs": [
    {
     "data": {
      "image/png": "[encoded data removed]",
      "text/plain": [
       "<matplotlib.figure.Figure at 0x16a049ef0>"
      ]
     },
     "metadata": {},
     "output_type": "display_data"
    }
   ],
   "source": [
    "plt.figure()\n",
    "lw = 2\n",
    "plt.plot(fpr, tpr, color='darkorange',\n",
    "         lw=lw, label='ROC curve (area = %0.2f)' % roc_auc)\n",
    "plt.plot([0, 1], [0, 1], color='navy', lw=lw, linestyle='--')\n",
    "plt.xlim([0.0, 1.0])\n",
    "plt.ylim([0.0, 1.05])\n",
    "plt.xlabel('False Positive Rate')\n",
    "plt.ylabel('True Positive Rate')\n",
    "plt.title('Receiver operating characteristic')\n",
    "plt.legend(loc=\"lower right\")\n",
    "plt.show()"
   ]
  },
  {
   "cell_type": "code",
   "execution_count": null,
   "metadata": {},
   "outputs": [],
   "source": []
  }
 ],
 "metadata": {
  "kernelspec": {
   "display_name": "Python 3",
   "language": "python",
   "name": "python3"
  },
  "language_info": {
   "codemirror_mode": {
    "name": "ipython",
    "version": 3
   },
   "file_extension": ".py",
   "mimetype": "text/x-python",
   "name": "python",
   "nbconvert_exporter": "python",
   "pygments_lexer": "ipython3",
   "version": "3.6.4"
  },
  "toc": {
   "base_numbering": 1,
   "nav_menu": {},
   "number_sections": true,
   "sideBar": true,
   "skip_h1_title": false,
   "title_cell": "Table of Contents",
   "title_sidebar": "Contents",
   "toc_cell": false,
   "toc_position": {},
   "toc_section_display": true,
   "toc_window_display": false
  }
 },
 "nbformat": 4,
 "nbformat_minor": 2
}
