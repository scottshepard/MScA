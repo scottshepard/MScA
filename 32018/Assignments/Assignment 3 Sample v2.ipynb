{
 "cells": [
  {
   "cell_type": "markdown",
   "metadata": {},
   "source": [
    "## Importing Libraries"
   ]
  },
  {
   "cell_type": "markdown",
   "metadata": {},
   "source": [
    "In this notebook, we'll examine the impact of choosing n in our n-grams across two libraries of texts. Onelibrary is comprised of several full-length novels, while another consists of articles of varying lenghts. We'llﬁrst deﬁne several helper functions that will be re-used throughout this process (each one is commented).We'll then proceed to evaluate our choice of n, per library, and then ﬁnally, use that n-value to compare ourlibrary of texts and return Jaccard similarity values for the more similiar texts."
   ]
  },
  {
   "cell_type": "code",
   "execution_count": 1,
   "metadata": {
    "scrolled": true
   },
   "outputs": [],
   "source": [
    "from __future__ import division\n",
    "import nltk\n",
    "import string\n",
    "import os\n",
    "from nltk.corpus import stopwords\n",
    "from itertools import combinations\n",
    "import matplotlib.pyplot as plt\n",
    "import numpy as np"
   ]
  },
  {
   "cell_type": "markdown",
   "metadata": {},
   "source": [
    "## Defining Functions"
   ]
  },
  {
   "cell_type": "code",
   "execution_count": 2,
   "metadata": {
    "collapsed": true
   },
   "outputs": [],
   "source": [
    "def ngram_compare_files(file1,file2,n):\n",
    "    # Takes two files\n",
    "    # hashes their n-grams into twos lists\n",
    "    # calculates the intersection and union\n",
    "    # of the two lists, and returns\n",
    "    # Jacard similarity value\n",
    " \n",
    "    stop = stopwords.words('english')\n",
    "    f1 = open(file1)\n",
    "    raw = f1.read()\n",
    "    f1.close()\n",
    "    f1_grams = nltk.ngrams(raw.split(),n)\n",
    "    \n",
    "    array_1 = []\n",
    "    \n",
    "    for gram in f1_grams:\n",
    "        array_1.append(hash(gram))\n",
    "    f2 = open(file2)\n",
    "    raw = f2.read()\n",
    "    f2.close()\n",
    "    f2_grams = nltk.ngrams(raw.split(),n)\n",
    "    \n",
    "    array_2 = []\n",
    "    \n",
    "    for gram in f2_grams:\n",
    "        array_2.append(hash(gram))\n",
    "        \n",
    "    intersection = len(list(set(array_1).intersection(array_2)))    \n",
    "    union = len(set(array_1)) + len(set(array_2)) - intersection\n",
    "    jacard_similarity = intersection / union\n",
    "    return jacard_similarity\n",
    "\n",
    "\n",
    "def pairs_of_files(directory):\n",
    "    # returns combination of two files given\n",
    "    # all files in a directory\n",
    "    \n",
    "    dir = os.listdir(directory)\n",
    "    combo = combinations(dir, 2)\n",
    "    return combo\n",
    "\n",
    "def compare_files(directory,ngram_size,threshold):\n",
    "    # compares all pairs of files in a directory\n",
    "    # for similarity.\n",
    "    # RETURNS: Dictionary, with key as\n",
    "    # comma-separated string of two files\n",
    "    # and value of similarity index as decimal\n",
    "    # where similarity index is above threshold\n",
    "    # value.\n",
    "    \n",
    "    compare_dictionary = {}\n",
    "    \n",
    "    ngram = ngram_size\n",
    "    combo = pairs_of_files(directory)\n",
    "    \n",
    "    for i in combo:\n",
    "        \n",
    "        sim = ngram_compare_files(directory+str(i[0]),directory+str(i[1]),ngram)\n",
    "        if sim > threshold:\n",
    "            \n",
    "            key = str(i[0]) + \",\" + str(i[1])\n",
    "            value = sim\n",
    "            compare_dictionary[key]=value\n",
    "            \n",
    "    return compare_dictionary            "
   ]
  },
  {
   "cell_type": "markdown",
   "metadata": {},
   "source": [
    "## Choosing 'N'"
   ]
  },
  {
   "cell_type": "markdown",
   "metadata": {},
   "source": [
    "In order to determine a proper N-value for a n-grams, we evaluate the impact of N over a range of 2 to 20.\n",
    "We do this by repeating our similarity measure (Jaccardian similarity) for each N, and plotting similairity."
   ]
  },
  {
   "cell_type": "markdown",
   "metadata": {},
   "source": [
    "### Running for Books"
   ]
  },
  {
   "cell_type": "code",
   "execution_count": 3,
   "metadata": {
    "collapsed": true
   },
   "outputs": [],
   "source": [
    "dir = 'C://Users//Nick//Documents//Teaching//University of Chicago//Big Data Class//Class 5//Assignment 4//'"
   ]
  },
  {
   "cell_type": "code",
   "execution_count": 4,
   "metadata": {},
   "outputs": [],
   "source": [
    "x = []\n",
    "y = []\n",
    "yall = []\n",
    "\n",
    "for n in range(2,20):\n",
    "        \n",
    "    books_comparison = compare_files(dir+'Books//',ngram_size=n,threshold=-1)\n",
    "    a = np.zeros(len(books_comparison))\n",
    "    counter = 0\n",
    "    for key, value in books_comparison.items():\n",
    "        a[counter] = value\n",
    "        counter +=1\n",
    "    #print str(n) + \":\" + str(a.mean())\n",
    "    x.append(n)\n",
    "    yall.append(a*100)\n",
    "    y.append(a.mean()*100)"
   ]
  },
  {
   "cell_type": "markdown",
   "metadata": {},
   "source": [
    "Plot the distributions"
   ]
  },
  {
   "cell_type": "code",
   "execution_count": 5,
   "metadata": {},
   "outputs": [
    {
     "data": {
      "image/png": "[encoded data removed]",
      "text/plain": [
       "<matplotlib.figure.Figure at 0x113c1278>"
      ]
     },
     "metadata": {},
     "output_type": "display_data"
    }
   ],
   "source": [
    "plt.plot(x,y, linestyle = '-')\n",
    "#plt.plot(x,yall, linestyle = '--')\n",
    "plt.xlabel('n in n-grams')\n",
    "plt.ylabel('Similarity (pct)')\n",
    "plt.title('Similarity Across All Books per N n-gram')\n",
    "plt.grid()\n",
    "plt.show()"
   ]
  },
  {
   "cell_type": "markdown",
   "metadata": {},
   "source": [
    "### Running for Articles"
   ]
  },
  {
   "cell_type": "code",
   "execution_count": 6,
   "metadata": {
    "collapsed": true
   },
   "outputs": [],
   "source": [
    "x = []\n",
    "y = []\n",
    "yall = []\n",
    "\n",
    "for n in range(2,20):\n",
    "    \n",
    "    art_comparison = compare_files(dir+'Articles//',ngram_size=n,threshold=-1)\n",
    "    a = np.zeros(len(art_comparison))\n",
    "    counter = 0\n",
    "    for key, value in art_comparison.items():\n",
    "        a[counter] = value\n",
    "        counter +=1\n",
    "    #print str(n) + \":\" + str(a.mean())\n",
    "    x.append(n)\n",
    "    yall.append(a*100)\n",
    "    y.append(a.mean()*100)"
   ]
  },
  {
   "cell_type": "code",
   "execution_count": 7,
   "metadata": {},
   "outputs": [
    {
     "data": {
      "image/png": "[encoded data removed]",
      "text/plain": [
       "<matplotlib.figure.Figure at 0x113c11d0>"
      ]
     },
     "metadata": {},
     "output_type": "display_data"
    }
   ],
   "source": [
    "plt.plot(x,y, linestyle = '-')\n",
    "#plt.plot(x,yall, linestyle = '--')\n",
    "plt.xlabel('n in n-grams')\n",
    "plt.ylabel('Similarity (pct)')\n",
    "plt.title('Mean Similarity Across All Articles per N n-gram')\n",
    "plt.grid()\n",
    "plt.show()"
   ]
  },
  {
   "cell_type": "markdown",
   "metadata": {},
   "source": [
    "## Books measuring similarity"
   ]
  },
  {
   "cell_type": "markdown",
   "metadata": {},
   "source": [
    "After having our n for books chosen as '???', we'll examine the similairty of our set of books, and use a\n",
    "threshold value of ???%. This threshold value will filter our any books with similarities below that value, in order\n",
    "to allow us to focus on the most promininent combinations of books that are similar."
   ]
  },
  {
   "cell_type": "code",
   "execution_count": null,
   "metadata": {},
   "outputs": [],
   "source": [
    "books_comparison = compare_files(dir+'Books//',ngram_size=???,threshold=???)\n",
    "\n",
    "\n",
    "for k,v in books_comparison.items():\n",
    "    book1, book2 = k.split(',')\n",
    "    similarity_index = v\n",
    "    print (\"1\")\n",
    "    print (str(book1) + \" is similar to \" + str(book2) + \n",
    "           \" with a Similarity Index of \" + '{percent:.3%}'.format(percent=similarity_index) +\"\\n\" +\"\\n\")"
   ]
  },
  {
   "cell_type": "markdown",
   "metadata": {},
   "source": [
    "## Articles measuring similarity"
   ]
  },
  {
   "cell_type": "markdown",
   "metadata": {},
   "source": [
    "After having our n for articles chosen as '???', we'll examine the similairty of our set of articles, and use a\n",
    "threshold value of ???%. This threshold value will filter our any articles with similarities below that value, in\n",
    "order to allow us to focus on the most promininent combinations of articles that are similar."
   ]
  },
  {
   "cell_type": "code",
   "execution_count": null,
   "metadata": {},
   "outputs": [],
   "source": [
    "articles_comparison = compare_files(dir+'Articles/',ngram_size=???,threshold=???)\n",
    "\n",
    "\n",
    "for k,v in articles_comparison.items():\n",
    "    art1, art2 = k.split(',')\n",
    "    similarity_index = v\n",
    "    print (str(art1) + \" is similar to \" + str(art2) + \n",
    "           \" with a Similarity Index of \" + '{percent:.3%}'.format(percent=similarity_index) +\"\\n\" +\"\\n\")"
   ]
  },
  {
   "cell_type": "code",
   "execution_count": null,
   "metadata": {
    "collapsed": true
   },
   "outputs": [],
   "source": []
  }
 ],
 "metadata": {
  "kernelspec": {
   "display_name": "Python 3",
   "language": "python",
   "name": "python3"
  },
  "language_info": {
   "codemirror_mode": {
    "name": "ipython",
    "version": 3
   },
   "file_extension": ".py",
   "mimetype": "text/x-python",
   "name": "python",
   "nbconvert_exporter": "python",
   "pygments_lexer": "ipython3",
   "version": "3.5.4"
  }
 },
 "nbformat": 4,
 "nbformat_minor": 1
}
